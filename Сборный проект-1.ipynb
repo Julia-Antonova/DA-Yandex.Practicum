{
 "cells": [
  {
   "cell_type": "markdown",
   "id": "d30c747f",
   "metadata": {},
   "source": [
    "<div style=\"border:solid green 3px; padding: 20px\">\n",
    "<b>🥇 Юлия, спасибо за доработки, проект принят, молодец!</b>\n",
    "    \n",
    "Ты провела отличную работу над ошибками! Уверен, ты обязательно достигнешь своей цели! Успехов в дальнейшем обучении! 🙂\n",
    "    "
   ]
  },
  {
   "cell_type": "markdown",
   "metadata": {},
   "source": [
    "Юлия, привет! Меня зовут Ефимов Денис и сегодня я буду делать ревью твоего проекта!\\\n",
    "В Практикуме принято общаться на \"ты\", однако если это неудобно - дай знать, и можем перейти на более официальное общение.\n",
    "\n",
    "Ниже ты найдешь мои комментарии - пожалуйста, не перемещай, не изменяй и не удаляй их. Я буду использовать цветовую разметку: \n",
    "\n",
    "<div class=\"alert alert-block alert-success\">\n",
    "<b>✅Комментарий ревьюера:</b> Если все сделано хорошо. </div>\n",
    "\n",
    "<div class=\"alert alert-block alert-warning\">\n",
    "<b>🔁Комментарий ревьюера:</b> Некритичное замечание; если таких замечаний меньше трех — проект может быть принят без их отработки.</div>\n",
    "\n",
    "<div class=\"alert alert-block alert-danger\">\n",
    "<b>❌Комментарий ревьюера:</b> Грубая ошибка, необходимо исправить, иначе проект не будет принят.\n",
    "</div>\n",
    "\n",
    "Давай работать над проектом в диалоге: если ты что-то меняешь в проекте или отвечаешь на мои комментарии — пиши об этом. Мне будет легче отследить изменения, если ты выделишь свои комментарии:\n",
    "Например так:\n",
    "<div class=\"alert alert-block alert-info\">\n",
    "<b>🔄Комментарий студента:</b> \n",
    "Hello World! ✔\n",
    "</div>\n",
    "\n",
    "Или можешь использовать эту галочку ✔ в моих комментариях, если писать особо нечего.\n",
    "\n",
    "<div class=\"alert alert-block alert-warning\">\n",
    "<b>Общее впечатление:</b> \n",
    "    \n",
    "- Ты проделала огромную работу:)\n",
    "- У меня есть несколько замечаний, исправив которые ты сделаешь проект еще лучше.\n",
    "- Пробегись по моим комментариям, исправь недочёты и всё будет отлично :)\n",
    "    \n",
    "</div>\n",
    "\n"
   ]
  },
  {
   "cell_type": "markdown",
   "metadata": {},
   "source": [
    "# Исследование влияния различных факторов на продажи игр"
   ]
  },
  {
   "cell_type": "markdown",
   "metadata": {},
   "source": [
    "Из открытых источников доступны исторические данные о продажах игр, оценки пользователей и экспертов, жанры и платформы (например, Xbox или PlayStation) за период с 1985 по 2016. \n",
    "\n",
    "В этом исследовании предстоит найти определяющие успешность игры закономерности. Это позволит сделать ставку на потенциально популярный продукт и спланировать рекламные кампании на 2017 год."
   ]
  },
  {
   "cell_type": "markdown",
   "metadata": {
    "toc": true
   },
   "source": [
    "<h1>Содержание<span class=\"tocSkip\"></span></h1>\n",
    "<div class=\"toc\"><ul class=\"toc-item\"><li><span><a href=\"#Общая-информация-о-файле\" data-toc-modified-id=\"Общая-информация-о-файле-1\"><span class=\"toc-item-num\">1&nbsp;&nbsp;</span>Общая информация о файле</a></span></li><li><span><a href=\"#Предобработка-данных\" data-toc-modified-id=\"Предобработка-данных-2\"><span class=\"toc-item-num\">2&nbsp;&nbsp;</span>Предобработка данных</a></span><ul class=\"toc-item\"><li><span><a href=\"#Приведем-названия-столбцов-к-нижнему-регистру\" data-toc-modified-id=\"Приведем-названия-столбцов-к-нижнему-регистру-2.1\"><span class=\"toc-item-num\">2.1&nbsp;&nbsp;</span>Приведем названия столбцов к нижнему регистру</a></span></li><li><span><a href=\"#Посчитаем-явные-дубликаты\" data-toc-modified-id=\"Посчитаем-явные-дубликаты-2.2\"><span class=\"toc-item-num\">2.2&nbsp;&nbsp;</span>Посчитаем явные дубликаты</a></span></li><li><span><a href=\"#Посмотрим-более-подробно-на-значения-в-столбцах-с-пропущенными-значениями\" data-toc-modified-id=\"Посмотрим-более-подробно-на-значения-в-столбцах-с-пропущенными-значениями-2.3\"><span class=\"toc-item-num\">2.3&nbsp;&nbsp;</span>Посмотрим более подробно на значения в столбцах с пропущенными значениями</a></span></li><li><span><a href=\"#Посчитаем-суммарные-продажи-во-всех-регионах.\" data-toc-modified-id=\"Посчитаем-суммарные-продажи-во-всех-регионах.-2.4\"><span class=\"toc-item-num\">2.4&nbsp;&nbsp;</span>Посчитаем суммарные продажи во всех регионах.</a></span></li></ul></li><li><span><a href=\"#Исследовательский-анализ-данных\" data-toc-modified-id=\"Исследовательский-анализ-данных-3\"><span class=\"toc-item-num\">3&nbsp;&nbsp;</span>Исследовательский анализ данных</a></span><ul class=\"toc-item\"><li><span><a href=\"#Посмотрим,-сколько-игр-выпускалось-в-разные-годы\" data-toc-modified-id=\"Посмотрим,-сколько-игр-выпускалось-в-разные-годы-3.1\"><span class=\"toc-item-num\">3.1&nbsp;&nbsp;</span>Посмотрим, сколько игр выпускалось в разные годы</a></span></li><li><span><a href=\"#Посмотрим,-как-менялись-продажи-по-платформам.\" data-toc-modified-id=\"Посмотрим,-как-менялись-продажи-по-платформам.-3.2\"><span class=\"toc-item-num\">3.2&nbsp;&nbsp;</span>Посмотрим, как менялись продажи по платформам.</a></span></li><li><span><a href=\"#Построим-распределение-по-годам-платформ-с-наибольшими-суммарными-продажами\" data-toc-modified-id=\"Построим-распределение-по-годам-платформ-с-наибольшими-суммарными-продажами-3.3\"><span class=\"toc-item-num\">3.3&nbsp;&nbsp;</span>Построим распределение по годам платформ с наибольшими суммарными продажами</a></span></li><li><span><a href=\"#Возьмем-данные-за-2014-2016-годы:-эти-данные-помогут-построить-прогноз-на-2017-год.\" data-toc-modified-id=\"Возьмем-данные-за-2014-2016-годы:-эти-данные-помогут-построить-прогноз-на-2017-год.-3.4\"><span class=\"toc-item-num\">3.4&nbsp;&nbsp;</span>Возьмем данные за 2014-2016 годы: эти данные помогут построить прогноз на 2017 год.</a></span></li><li><span><a href=\"#Посмотрим,-какие-платформы-лидируют-по-продажам,-растут-или-падают?\" data-toc-modified-id=\"Посмотрим,-какие-платформы-лидируют-по-продажам,-растут-или-падают?-3.5\"><span class=\"toc-item-num\">3.5&nbsp;&nbsp;</span>Посмотрим, какие платформы лидируют по продажам, растут или падают?</a></span></li><li><span><a href=\"#Построим-график-«ящик-с-усами»-по-глобальным-продажам-игр-в-разбивке-по-платформам.\" data-toc-modified-id=\"Построим-график-«ящик-с-усами»-по-глобальным-продажам-игр-в-разбивке-по-платформам.-3.6\"><span class=\"toc-item-num\">3.6&nbsp;&nbsp;</span>Построим график «ящик с усами» по глобальным продажам игр в разбивке по платформам.</a></span></li><li><span><a href=\"#Посмотрим,-как-влияют-на-продажи-внутри-одной-популярной-платформы-отзывы-пользователей-и-критиков.\" data-toc-modified-id=\"Посмотрим,-как-влияют-на-продажи-внутри-одной-популярной-платформы-отзывы-пользователей-и-критиков.-3.7\"><span class=\"toc-item-num\">3.7&nbsp;&nbsp;</span>Посмотрим, как влияют на продажи внутри одной популярной платформы отзывы пользователей и критиков.</a></span></li><li><span><a href=\"#Проверим-наличие-взаимосвязи-между-оценками-пользователей-и-продажами-игр-на-всех-платформах\" data-toc-modified-id=\"Проверим-наличие-взаимосвязи-между-оценками-пользователей-и-продажами-игр-на-всех-платформах-3.8\"><span class=\"toc-item-num\">3.8&nbsp;&nbsp;</span>Проверим наличие взаимосвязи между оценками пользователей и продажами игр на всех платформах</a></span></li><li><span><a href=\"#Посмотрим-на-общее-распределение-игр-по-жанрам.\" data-toc-modified-id=\"Посмотрим-на-общее-распределение-игр-по-жанрам.-3.9\"><span class=\"toc-item-num\">3.9&nbsp;&nbsp;</span>Посмотрим на общее распределение игр по жанрам.</a></span></li></ul></li><li><span><a href=\"#Портрет-пользователя-каждого-региона\" data-toc-modified-id=\"Портрет-пользователя-каждого-региона-4\"><span class=\"toc-item-num\">4&nbsp;&nbsp;</span>Портрет пользователя каждого региона</a></span><ul class=\"toc-item\"><li><span><a href=\"#Рассмотрим,-какие-самые-популярные-платформы-(топ-5)-для-пользователя-каждого-региона\" data-toc-modified-id=\"Рассмотрим,-какие-самые-популярные-платформы-(топ-5)-для-пользователя-каждого-региона-4.1\"><span class=\"toc-item-num\">4.1&nbsp;&nbsp;</span>Рассмотрим, какие самые популярные платформы (топ-5) для пользователя каждого региона</a></span></li><li><span><a href=\"#Рассмотрим-самые-популярные-жанры-(топ-5)-в-разных-регионах\" data-toc-modified-id=\"Рассмотрим-самые-популярные-жанры-(топ-5)-в-разных-регионах-4.2\"><span class=\"toc-item-num\">4.2&nbsp;&nbsp;</span>Рассмотрим самые популярные жанры (топ-5) в разных регионах</a></span></li><li><span><a href=\"#Рассмотрим,-влияет-ли-рейтинг-ESRB-на-продажи-в-отдельном-регионе\" data-toc-modified-id=\"Рассмотрим,-влияет-ли-рейтинг-ESRB-на-продажи-в-отдельном-регионе-4.3\"><span class=\"toc-item-num\">4.3&nbsp;&nbsp;</span>Рассмотрим, влияет ли рейтинг ESRB на продажи в отдельном регионе</a></span></li></ul></li><li><span><a href=\"#Проверка-гипотез\" data-toc-modified-id=\"Проверка-гипотез-5\"><span class=\"toc-item-num\">5&nbsp;&nbsp;</span>Проверка гипотез</a></span><ul class=\"toc-item\"><li><span><a href=\"#Проверка-гипотезы:-средние-пользовательские-рейтинги-платформ-Xbox-One-и-PC-одинаковые\" data-toc-modified-id=\"Проверка-гипотезы:-средние-пользовательские-рейтинги-платформ-Xbox-One-и-PC-одинаковые-5.1\"><span class=\"toc-item-num\">5.1&nbsp;&nbsp;</span>Проверка гипотезы: средние пользовательские рейтинги платформ Xbox One и PC одинаковые</a></span></li><li><span><a href=\"#Проверка-гипотезы:-средние-пользовательские-рейтинги-жанров-Action-и-Sports-разные.\" data-toc-modified-id=\"Проверка-гипотезы:-средние-пользовательские-рейтинги-жанров-Action-и-Sports-разные.-5.2\"><span class=\"toc-item-num\">5.2&nbsp;&nbsp;</span>Проверка гипотезы: средние пользовательские рейтинги жанров Action и Sports разные.</a></span></li></ul></li><li><span><a href=\"#Общий-вывод\" data-toc-modified-id=\"Общий-вывод-6\"><span class=\"toc-item-num\">6&nbsp;&nbsp;</span>Общий вывод</a></span></li></ul></div>"
   ]
  },
  {
   "cell_type": "markdown",
   "metadata": {},
   "source": [
    "<div class=\"alert alert-block alert-danger\">\n",
    "<b>❌Комментарий ревьюера:</b> \n",
    "    \n",
    " Любому проекту нужно более говорящее название и введение - так ты поясняешь читателю, что вообще тут происходит. Также стоит задуматься, как еще его можно дополнить, чтобы сделать более ценным для читателя. Все инструкции по оформлению проекта есть на платформе в разделе \"Полезные инструкции для учебы\"\n",
    "    \n",
    "Также советую тебе взглянуть на <a href=\"https://www.kaggle.com/notebooks/\">работы</a> профессиональных аналитиков, чтобы оценить, как другие люди оформляют и проводят исследования.   \n",
    "\n",
    "</div>"
   ]
  },
  {
   "cell_type": "markdown",
   "metadata": {},
   "source": [
    "<div class=\"alert alert-block alert-info\">\n",
    "<b>Комментарий студента:</b> \n",
    "Выполнено.\n",
    "</div>"
   ]
  },
  {
   "cell_type": "markdown",
   "metadata": {},
   "source": [
    "<div class=\"alert alert-block alert-danger\">\n",
    "<b>❌Комментарий ревьюера 2:</b> \n",
    "    \n",
    "Название ты написала, а где же введение?  \n",
    "\n",
    "</div>"
   ]
  },
  {
   "cell_type": "markdown",
   "metadata": {},
   "source": [
    "<div class=\"alert alert-block alert-info\">\n",
    "<b>Комментарий студента 2:</b> \n",
    "Выполнено.\n",
    "</div>"
   ]
  },
  {
   "cell_type": "markdown",
   "metadata": {},
   "source": [
    "<div class=\"alert alert-block alert-success\">\n",
    "<b>✅Комментарий ревьюера 3:</b> Отлично, исправлено!👍  </div>"
   ]
  },
  {
   "cell_type": "markdown",
   "metadata": {},
   "source": [
    "### Общая информация о файле"
   ]
  },
  {
   "cell_type": "code",
   "execution_count": 1,
   "metadata": {},
   "outputs": [],
   "source": [
    "import pandas as pd\n",
    "import matplotlib.pyplot as plt\n",
    "from scipy import stats as st\n",
    "import numpy as np"
   ]
  },
  {
   "cell_type": "code",
   "execution_count": 2,
   "metadata": {},
   "outputs": [],
   "source": [
    "data = pd.read_csv('/datasets/games.csv') "
   ]
  },
  {
   "cell_type": "code",
   "execution_count": 3,
   "metadata": {},
   "outputs": [
    {
     "name": "stdout",
     "output_type": "stream",
     "text": [
      "<class 'pandas.core.frame.DataFrame'>\n",
      "RangeIndex: 16715 entries, 0 to 16714\n",
      "Data columns (total 11 columns):\n",
      " #   Column           Non-Null Count  Dtype  \n",
      "---  ------           --------------  -----  \n",
      " 0   Name             16713 non-null  object \n",
      " 1   Platform         16715 non-null  object \n",
      " 2   Year_of_Release  16446 non-null  float64\n",
      " 3   Genre            16713 non-null  object \n",
      " 4   NA_sales         16715 non-null  float64\n",
      " 5   EU_sales         16715 non-null  float64\n",
      " 6   JP_sales         16715 non-null  float64\n",
      " 7   Other_sales      16715 non-null  float64\n",
      " 8   Critic_Score     8137 non-null   float64\n",
      " 9   User_Score       10014 non-null  object \n",
      " 10  Rating           9949 non-null   object \n",
      "dtypes: float64(6), object(5)\n",
      "memory usage: 1.4+ MB\n"
     ]
    },
    {
     "data": {
      "text/html": [
       "<div>\n",
       "<style scoped>\n",
       "    .dataframe tbody tr th:only-of-type {\n",
       "        vertical-align: middle;\n",
       "    }\n",
       "\n",
       "    .dataframe tbody tr th {\n",
       "        vertical-align: top;\n",
       "    }\n",
       "\n",
       "    .dataframe thead th {\n",
       "        text-align: right;\n",
       "    }\n",
       "</style>\n",
       "<table border=\"1\" class=\"dataframe\">\n",
       "  <thead>\n",
       "    <tr style=\"text-align: right;\">\n",
       "      <th></th>\n",
       "      <th>Name</th>\n",
       "      <th>Platform</th>\n",
       "      <th>Year_of_Release</th>\n",
       "      <th>Genre</th>\n",
       "      <th>NA_sales</th>\n",
       "      <th>EU_sales</th>\n",
       "      <th>JP_sales</th>\n",
       "      <th>Other_sales</th>\n",
       "      <th>Critic_Score</th>\n",
       "      <th>User_Score</th>\n",
       "      <th>Rating</th>\n",
       "    </tr>\n",
       "  </thead>\n",
       "  <tbody>\n",
       "    <tr>\n",
       "      <th>0</th>\n",
       "      <td>Wii Sports</td>\n",
       "      <td>Wii</td>\n",
       "      <td>2006.0</td>\n",
       "      <td>Sports</td>\n",
       "      <td>41.36</td>\n",
       "      <td>28.96</td>\n",
       "      <td>3.77</td>\n",
       "      <td>8.45</td>\n",
       "      <td>76.0</td>\n",
       "      <td>8</td>\n",
       "      <td>E</td>\n",
       "    </tr>\n",
       "    <tr>\n",
       "      <th>1</th>\n",
       "      <td>Super Mario Bros.</td>\n",
       "      <td>NES</td>\n",
       "      <td>1985.0</td>\n",
       "      <td>Platform</td>\n",
       "      <td>29.08</td>\n",
       "      <td>3.58</td>\n",
       "      <td>6.81</td>\n",
       "      <td>0.77</td>\n",
       "      <td>NaN</td>\n",
       "      <td>NaN</td>\n",
       "      <td>NaN</td>\n",
       "    </tr>\n",
       "    <tr>\n",
       "      <th>2</th>\n",
       "      <td>Mario Kart Wii</td>\n",
       "      <td>Wii</td>\n",
       "      <td>2008.0</td>\n",
       "      <td>Racing</td>\n",
       "      <td>15.68</td>\n",
       "      <td>12.76</td>\n",
       "      <td>3.79</td>\n",
       "      <td>3.29</td>\n",
       "      <td>82.0</td>\n",
       "      <td>8.3</td>\n",
       "      <td>E</td>\n",
       "    </tr>\n",
       "    <tr>\n",
       "      <th>3</th>\n",
       "      <td>Wii Sports Resort</td>\n",
       "      <td>Wii</td>\n",
       "      <td>2009.0</td>\n",
       "      <td>Sports</td>\n",
       "      <td>15.61</td>\n",
       "      <td>10.93</td>\n",
       "      <td>3.28</td>\n",
       "      <td>2.95</td>\n",
       "      <td>80.0</td>\n",
       "      <td>8</td>\n",
       "      <td>E</td>\n",
       "    </tr>\n",
       "    <tr>\n",
       "      <th>4</th>\n",
       "      <td>Pokemon Red/Pokemon Blue</td>\n",
       "      <td>GB</td>\n",
       "      <td>1996.0</td>\n",
       "      <td>Role-Playing</td>\n",
       "      <td>11.27</td>\n",
       "      <td>8.89</td>\n",
       "      <td>10.22</td>\n",
       "      <td>1.00</td>\n",
       "      <td>NaN</td>\n",
       "      <td>NaN</td>\n",
       "      <td>NaN</td>\n",
       "    </tr>\n",
       "  </tbody>\n",
       "</table>\n",
       "</div>"
      ],
      "text/plain": [
       "                       Name Platform  Year_of_Release         Genre  NA_sales  \\\n",
       "0                Wii Sports      Wii           2006.0        Sports     41.36   \n",
       "1         Super Mario Bros.      NES           1985.0      Platform     29.08   \n",
       "2            Mario Kart Wii      Wii           2008.0        Racing     15.68   \n",
       "3         Wii Sports Resort      Wii           2009.0        Sports     15.61   \n",
       "4  Pokemon Red/Pokemon Blue       GB           1996.0  Role-Playing     11.27   \n",
       "\n",
       "   EU_sales  JP_sales  Other_sales  Critic_Score User_Score Rating  \n",
       "0     28.96      3.77         8.45          76.0          8      E  \n",
       "1      3.58      6.81         0.77           NaN        NaN    NaN  \n",
       "2     12.76      3.79         3.29          82.0        8.3      E  \n",
       "3     10.93      3.28         2.95          80.0          8      E  \n",
       "4      8.89     10.22         1.00           NaN        NaN    NaN  "
      ]
     },
     "execution_count": 3,
     "metadata": {},
     "output_type": "execute_result"
    }
   ],
   "source": [
    "data.info() #информация о датафрейме\n",
    "data.head() #информация о первых 5 строках датафрейма"
   ]
  },
  {
   "cell_type": "markdown",
   "metadata": {},
   "source": [
    "Выводы:\n",
    "1. Названия столбцов начинаются с заглавной буквы.\n",
    "2. В столбцах Year_of_Release, Critic_Score, User_Score и Rating имеются пропущенные значения.\n",
    "3. В столбцах Year_of_Release и User_Score неверный формат данных. \n",
    "4. Следует проверить данные на присутствие явных дубликатов."
   ]
  },
  {
   "cell_type": "markdown",
   "metadata": {},
   "source": [
    "<div class=\"alert alert-block alert-danger\">\n",
    "<b>❌Комментарий ревьюера:</b> \n",
    "    \n",
    "Каждому пункту нужен вывод.\n",
    "    \n",
    "Что мы можем сказать о данных после первичного знакомства  с ними?\n",
    "\n",
    "</div>"
   ]
  },
  {
   "cell_type": "markdown",
   "metadata": {},
   "source": [
    "<div class=\"alert alert-block alert-info\">\n",
    "<b>Комментарий студента:</b> \n",
    "Выполнено.\n",
    "</div>"
   ]
  },
  {
   "cell_type": "markdown",
   "metadata": {},
   "source": [
    "<div class=\"alert alert-block alert-success\">\n",
    "<b>✅Комментарий ревьюера 2:</b> Отлично, исправлено!👍  </div>"
   ]
  },
  {
   "cell_type": "markdown",
   "metadata": {},
   "source": [
    "### Предобработка данных\n"
   ]
  },
  {
   "cell_type": "markdown",
   "metadata": {},
   "source": [
    "#### Приведем названия столбцов к нижнему регистру"
   ]
  },
  {
   "cell_type": "code",
   "execution_count": 4,
   "metadata": {},
   "outputs": [],
   "source": [
    "data.columns = data.columns.str.lower()"
   ]
  },
  {
   "cell_type": "markdown",
   "metadata": {},
   "source": [
    "#### Посчитаем явные дубликаты"
   ]
  },
  {
   "cell_type": "code",
   "execution_count": 5,
   "metadata": {},
   "outputs": [
    {
     "data": {
      "text/plain": [
       "0"
      ]
     },
     "execution_count": 5,
     "metadata": {},
     "output_type": "execute_result"
    }
   ],
   "source": [
    "data.duplicated().sum()"
   ]
  },
  {
   "cell_type": "markdown",
   "metadata": {},
   "source": [
    "В датафрейме явные дубликаты отсутствуют."
   ]
  },
  {
   "cell_type": "markdown",
   "metadata": {},
   "source": [
    "#### Посмотрим более подробно на значения в столбцах с пропущенными значениями\n"
   ]
  },
  {
   "cell_type": "code",
   "execution_count": 6,
   "metadata": {},
   "outputs": [
    {
     "data": {
      "text/plain": [
       "70.0    256\n",
       "71.0    254\n",
       "75.0    245\n",
       "78.0    240\n",
       "73.0    238\n",
       "       ... \n",
       "29.0      3\n",
       "13.0      1\n",
       "22.0      1\n",
       "17.0      1\n",
       "21.0      1\n",
       "Name: critic_score, Length: 82, dtype: int64"
      ]
     },
     "execution_count": 6,
     "metadata": {},
     "output_type": "execute_result"
    }
   ],
   "source": [
    "data['critic_score'].value_counts()"
   ]
  },
  {
   "cell_type": "markdown",
   "metadata": {},
   "source": [
    "Вероятнее всего пропущенное значение означает отсутствие оценки критиков. \n",
    "\n",
    "Заменить пропущенные значения и удалить строки с данными нецелесообразно, оставляем как есть.\n"
   ]
  },
  {
   "cell_type": "code",
   "execution_count": 7,
   "metadata": {},
   "outputs": [
    {
     "data": {
      "text/plain": [
       "E       3990\n",
       "T       2961\n",
       "M       1563\n",
       "E10+    1420\n",
       "EC         8\n",
       "K-A        3\n",
       "RP         3\n",
       "AO         1\n",
       "Name: rating, dtype: int64"
      ]
     },
     "execution_count": 7,
     "metadata": {},
     "output_type": "execute_result"
    }
   ],
   "source": [
    "data['rating'].value_counts() "
   ]
  },
  {
   "cell_type": "markdown",
   "metadata": {},
   "source": [
    "Вероятнее всего пропущенное значение означает отсутствие рейтинга, что характерно для более ранних игр.\n",
    "\n",
    "Заменим пропущенные значения на \"no rating\". "
   ]
  },
  {
   "cell_type": "code",
   "execution_count": 8,
   "metadata": {},
   "outputs": [],
   "source": [
    "data['rating'] = data['rating'].fillna('no rating')"
   ]
  },
  {
   "cell_type": "code",
   "execution_count": 9,
   "metadata": {},
   "outputs": [
    {
     "data": {
      "text/plain": [
       "2008.0    1427\n",
       "2009.0    1426\n",
       "2010.0    1255\n",
       "2007.0    1197\n",
       "2011.0    1136\n",
       "2006.0    1006\n",
       "2005.0     939\n",
       "2002.0     829\n",
       "2003.0     775\n",
       "2004.0     762\n",
       "2012.0     653\n",
       "2015.0     606\n",
       "2014.0     581\n",
       "2013.0     544\n",
       "2016.0     502\n",
       "2001.0     482\n",
       "1998.0     379\n",
       "2000.0     350\n",
       "1999.0     338\n",
       "1997.0     289\n",
       "1996.0     263\n",
       "1995.0     219\n",
       "1994.0     121\n",
       "1993.0      62\n",
       "1981.0      46\n",
       "1992.0      43\n",
       "1991.0      41\n",
       "1982.0      36\n",
       "1986.0      21\n",
       "1989.0      17\n",
       "1983.0      17\n",
       "1987.0      16\n",
       "1990.0      16\n",
       "1988.0      15\n",
       "1984.0      14\n",
       "1985.0      14\n",
       "1980.0       9\n",
       "Name: year_of_release, dtype: int64"
      ]
     },
     "execution_count": 9,
     "metadata": {},
     "output_type": "execute_result"
    }
   ],
   "source": [
    "data['year_of_release'].value_counts()"
   ]
  },
  {
   "cell_type": "markdown",
   "metadata": {},
   "source": [
    "Вероятнее всего пропущенное значение означает отсутствие информации о дате релиза, что характерно для более ранних игр. \n",
    "Заменить пропущенные значения и удалить строки с данными нецелесообразно, оставляем как есть.\n",
    "\n",
    "Данные в столбце Year_of_Release переведем в формат целых чисел и сохраним."
   ]
  },
  {
   "cell_type": "code",
   "execution_count": 10,
   "metadata": {},
   "outputs": [],
   "source": [
    "data['year_of_release'] = data['year_of_release'].astype('Int64')"
   ]
  },
  {
   "cell_type": "code",
   "execution_count": 11,
   "metadata": {},
   "outputs": [
    {
     "data": {
      "text/plain": [
       "tbd    2424\n",
       "7.8     324\n",
       "8       290\n",
       "8.2     282\n",
       "8.3     254\n",
       "       ... \n",
       "9.6       2\n",
       "1.5       2\n",
       "0.5       2\n",
       "9.7       1\n",
       "0         1\n",
       "Name: user_score, Length: 96, dtype: int64"
      ]
     },
     "execution_count": 11,
     "metadata": {},
     "output_type": "execute_result"
    }
   ],
   "source": [
    "data['user_score'].value_counts() "
   ]
  },
  {
   "cell_type": "markdown",
   "metadata": {},
   "source": [
    "Помимо пропущенных значений, что вероятнее всего означает отсутствие оценки пользователей, есть tbd или \"подлежит уточнению\"\n",
    "\n",
    "Заменим tbd на Nan, приведем данные к формату float64 и сохраним."
   ]
  },
  {
   "cell_type": "code",
   "execution_count": 12,
   "metadata": {},
   "outputs": [],
   "source": [
    "data['user_score'] = data['user_score'].replace('tbd', np.nan, regex=True).astype('float64')"
   ]
  },
  {
   "cell_type": "markdown",
   "metadata": {},
   "source": [
    "<div class=\"alert alert-block alert-danger\">\n",
    "<b>❌Комментарий ревьюера:</b> \n",
    "    \n",
    "Код выше должен быть разбит на отдельные ячейки. Зачем мы пишем методы, которые должны выводить на экран информацию, если они ее не выводят?\n",
    "    \n",
    "Заполнять пропуски в оценках нулями некорректно. А что если в данных есть оценки 0? Вообще, любые заполнения вызывают искажения при расчете статистик, все основные методы pandas по-умолчанию убирают пропуски при расчетах (среднее, медиана, корреляция и тд). Поэтому их можно не заполнять, чтобы не делать лишних действий и избежать ошибок.\n",
    "    \n",
    "Поэтому и значения 'tbd' лучше заменить на пропуски.  В качестве пропуска можно взять `numpy.nan` из библиотеки `numpy`\n",
    "\n",
    "</div>"
   ]
  },
  {
   "cell_type": "markdown",
   "metadata": {},
   "source": [
    "<div class=\"alert alert-block alert-info\">\n",
    "<b>Комментарий студента:</b> \n",
    "Выполнено.\n",
    "</div>"
   ]
  },
  {
   "cell_type": "markdown",
   "metadata": {},
   "source": [
    "<div class=\"alert alert-block alert-success\">\n",
    "<b>✅Комментарий ревьюера 2:</b> Отлично, исправлено!👍  </div>"
   ]
  },
  {
   "cell_type": "markdown",
   "metadata": {},
   "source": [
    "<div class=\"alert alert-block alert-warning\">\n",
    "<b>🔁Комментарий ревьюера:</b> Старайся комментарии к исследованию всегда писать в маркдаун-ячейках, # обычно используется для технических пояснений к нетривиальным участкам кода</div>"
   ]
  },
  {
   "cell_type": "markdown",
   "metadata": {},
   "source": [
    "<div class=\"alert alert-block alert-info\">\n",
    "<b>Комментарий студента:</b> \n",
    "Выполнено.\n",
    "</div>"
   ]
  },
  {
   "cell_type": "markdown",
   "metadata": {},
   "source": [
    "<div class=\"alert alert-block alert-success\">\n",
    "<b>✅Комментарий ревьюера 2:</b> Отлично, исправлено!👍  </div>"
   ]
  },
  {
   "cell_type": "markdown",
   "metadata": {},
   "source": [
    "#### Посчитаем суммарные продажи во всех регионах."
   ]
  },
  {
   "cell_type": "code",
   "execution_count": 13,
   "metadata": {},
   "outputs": [],
   "source": [
    "data['total_sales'] = data[['na_sales','eu_sales', 'jp_sales', 'other_sales']].sum(axis=1)"
   ]
  },
  {
   "cell_type": "markdown",
   "metadata": {},
   "source": [
    "<div class=\"alert alert-block alert-success\">\n",
    "<b>✅Комментарий ревьюера:</b> \n",
    "    \n",
    "Тут можно использовать метод `DataFrame.sum` с аргументом `axis=1`</div>\n",
    "\n",
    "```python\n",
    "\n",
    "        df['total_sum'] = df[['value_1', 'value_2', 'value_3', 'value_4']].sum(axis=1)\n",
    "    \n",
    "```"
   ]
  },
  {
   "cell_type": "markdown",
   "metadata": {},
   "source": [
    "<div class=\"alert alert-block alert-info\">\n",
    "<b>Комментарий студента:</b> \n",
    "Выполнено.\n",
    "</div>"
   ]
  },
  {
   "cell_type": "markdown",
   "metadata": {},
   "source": [
    "<div class=\"alert alert-block alert-success\">\n",
    "<b>✅Комментарий ревьюера 2:</b> 👍  </div>"
   ]
  },
  {
   "cell_type": "markdown",
   "metadata": {},
   "source": [
    "Выводы:\n",
    "1. Названия столбцов приведены к нижнему регистру.\n",
    "2. В столбцах Year_of_Release, Critic_Score, User_Score и Rating пропущенные значения не удалось ничем заменить.\n",
    "3. В столбцах Year_of_Release и User_Score произведена смена формата данных. "
   ]
  },
  {
   "cell_type": "markdown",
   "metadata": {},
   "source": [
    "### Исследовательский анализ данных"
   ]
  },
  {
   "cell_type": "markdown",
   "metadata": {},
   "source": [
    "#### Посмотрим, сколько игр выпускалось в разные годы"
   ]
  },
  {
   "cell_type": "code",
   "execution_count": 14,
   "metadata": {},
   "outputs": [
    {
     "data": {
      "image/png": "[encoded data removed]",
      "text/plain": [
       "<Figure size 720x432 with 1 Axes>"
      ]
     },
     "metadata": {
      "needs_background": "light"
     },
     "output_type": "display_data"
    }
   ],
   "source": [
    "#сгруппируем данные по столбцу year_of_release\n",
    "data.pivot_table(index='year_of_release', values='name', aggfunc='count').plot(y = 'name', kind = 'bar', figsize=(10,6), grid=True);"
   ]
  },
  {
   "cell_type": "markdown",
   "metadata": {},
   "source": [
    "Основная часть игр выпускалась с 1995 по 2011 годы; начиная с 2012 года количество игр, выпускаемых ежегодно, снизилось почти в 2 раза и составляет примерно 600 млн копий. "
   ]
  },
  {
   "cell_type": "markdown",
   "metadata": {},
   "source": [
    "#### Посмотрим, как менялись продажи по платформам."
   ]
  },
  {
   "cell_type": "code",
   "execution_count": 15,
   "metadata": {},
   "outputs": [
    {
     "data": {
      "image/png": "[encoded data removed]",
      "text/plain": [
       "<Figure size 720x432 with 1 Axes>"
      ]
     },
     "metadata": {
      "needs_background": "light"
     },
     "output_type": "display_data"
    }
   ],
   "source": [
    "#сгруппируем данные по столбцу platform с просуммированными зачениями столбца total_sales\n",
    "data.pivot_table(index='platform', values='total_sales', aggfunc='sum').sort_values(by='total_sales', ascending=False).plot(y = 'total_sales', kind = 'bar', figsize=(10,6), grid=True);\n",
    "plt.title(\"Продажи платформ за период с 1985 по 2016 годы\")\n",
    "plt.xlabel(\"Наименования платформ\")\n",
    "plt.ylabel(\"Продажи, млн копий\");"
   ]
  },
  {
   "cell_type": "markdown",
   "metadata": {},
   "source": [
    "<div class=\"alert alert-block alert-warning\">\n",
    "<b>🔁Комментарий ревьюера:</b>\n",
    "    \n",
    "Кстати, в будущем тебе нужно будет подписывать каждый график и оси на нем для удобства восприятия. Есть [хорошая статья](https://devpractice.ru/matplotlib-lesson-3-3-text-elements/), которая подскажет как это правильно сделать)</div>"
   ]
  },
  {
   "cell_type": "markdown",
   "metadata": {},
   "source": [
    "<div class=\"alert alert-block alert-info\">\n",
    "<b>Комментарий студента:</b> \n",
    "Выполнено.\n",
    "</div>"
   ]
  },
  {
   "cell_type": "markdown",
   "metadata": {},
   "source": [
    "<div class=\"alert alert-block alert-success\">\n",
    "<b>✅Комментарий ревьюера 2:</b> Отлично, исправлено!👍  </div>"
   ]
  },
  {
   "cell_type": "markdown",
   "metadata": {},
   "source": [
    "Наиболее продаваемые платформы - это PS2, X360, PS3, Wii и DS."
   ]
  },
  {
   "cell_type": "markdown",
   "metadata": {},
   "source": [
    "#### Построим распределение по годам платформ с наибольшими суммарными продажами"
   ]
  },
  {
   "cell_type": "code",
   "execution_count": 16,
   "metadata": {},
   "outputs": [],
   "source": [
    "#сохраним топ-5 наиболее продаваемых платформ за весь исследуемый период\n",
    "top_5_platform = data.pivot_table(index='platform', values='total_sales', aggfunc='sum').sort_values(by='total_sales', ascending=False).head().index"
   ]
  },
  {
   "cell_type": "code",
   "execution_count": 17,
   "metadata": {},
   "outputs": [
    {
     "data": {
      "text/html": [
       "<div>\n",
       "<style scoped>\n",
       "    .dataframe tbody tr th:only-of-type {\n",
       "        vertical-align: middle;\n",
       "    }\n",
       "\n",
       "    .dataframe tbody tr th {\n",
       "        vertical-align: top;\n",
       "    }\n",
       "\n",
       "    .dataframe thead th {\n",
       "        text-align: right;\n",
       "    }\n",
       "</style>\n",
       "<table border=\"1\" class=\"dataframe\">\n",
       "  <thead>\n",
       "    <tr style=\"text-align: right;\">\n",
       "      <th>platform</th>\n",
       "      <th>DS</th>\n",
       "      <th>PS2</th>\n",
       "      <th>PS3</th>\n",
       "      <th>Wii</th>\n",
       "      <th>X360</th>\n",
       "    </tr>\n",
       "    <tr>\n",
       "      <th>year_of_release</th>\n",
       "      <th></th>\n",
       "      <th></th>\n",
       "      <th></th>\n",
       "      <th></th>\n",
       "      <th></th>\n",
       "    </tr>\n",
       "  </thead>\n",
       "  <tbody>\n",
       "    <tr>\n",
       "      <th>1985</th>\n",
       "      <td>0.02</td>\n",
       "      <td>NaN</td>\n",
       "      <td>NaN</td>\n",
       "      <td>NaN</td>\n",
       "      <td>NaN</td>\n",
       "    </tr>\n",
       "    <tr>\n",
       "      <th>2000</th>\n",
       "      <td>NaN</td>\n",
       "      <td>39.17</td>\n",
       "      <td>NaN</td>\n",
       "      <td>NaN</td>\n",
       "      <td>NaN</td>\n",
       "    </tr>\n",
       "    <tr>\n",
       "      <th>2001</th>\n",
       "      <td>NaN</td>\n",
       "      <td>166.43</td>\n",
       "      <td>NaN</td>\n",
       "      <td>NaN</td>\n",
       "      <td>NaN</td>\n",
       "    </tr>\n",
       "    <tr>\n",
       "      <th>2002</th>\n",
       "      <td>NaN</td>\n",
       "      <td>205.38</td>\n",
       "      <td>NaN</td>\n",
       "      <td>NaN</td>\n",
       "      <td>NaN</td>\n",
       "    </tr>\n",
       "    <tr>\n",
       "      <th>2003</th>\n",
       "      <td>NaN</td>\n",
       "      <td>184.31</td>\n",
       "      <td>NaN</td>\n",
       "      <td>NaN</td>\n",
       "      <td>NaN</td>\n",
       "    </tr>\n",
       "    <tr>\n",
       "      <th>2004</th>\n",
       "      <td>17.27</td>\n",
       "      <td>211.81</td>\n",
       "      <td>NaN</td>\n",
       "      <td>NaN</td>\n",
       "      <td>NaN</td>\n",
       "    </tr>\n",
       "    <tr>\n",
       "      <th>2005</th>\n",
       "      <td>130.14</td>\n",
       "      <td>160.66</td>\n",
       "      <td>NaN</td>\n",
       "      <td>NaN</td>\n",
       "      <td>8.25</td>\n",
       "    </tr>\n",
       "    <tr>\n",
       "      <th>2006</th>\n",
       "      <td>119.81</td>\n",
       "      <td>103.42</td>\n",
       "      <td>20.96</td>\n",
       "      <td>137.15</td>\n",
       "      <td>51.62</td>\n",
       "    </tr>\n",
       "    <tr>\n",
       "      <th>2007</th>\n",
       "      <td>146.94</td>\n",
       "      <td>75.99</td>\n",
       "      <td>73.19</td>\n",
       "      <td>152.77</td>\n",
       "      <td>95.41</td>\n",
       "    </tr>\n",
       "    <tr>\n",
       "      <th>2008</th>\n",
       "      <td>145.31</td>\n",
       "      <td>53.90</td>\n",
       "      <td>118.52</td>\n",
       "      <td>171.32</td>\n",
       "      <td>135.26</td>\n",
       "    </tr>\n",
       "    <tr>\n",
       "      <th>2009</th>\n",
       "      <td>119.54</td>\n",
       "      <td>26.40</td>\n",
       "      <td>130.93</td>\n",
       "      <td>206.97</td>\n",
       "      <td>120.29</td>\n",
       "    </tr>\n",
       "    <tr>\n",
       "      <th>2010</th>\n",
       "      <td>85.02</td>\n",
       "      <td>5.64</td>\n",
       "      <td>142.17</td>\n",
       "      <td>127.95</td>\n",
       "      <td>170.03</td>\n",
       "    </tr>\n",
       "    <tr>\n",
       "      <th>2011</th>\n",
       "      <td>26.18</td>\n",
       "      <td>0.45</td>\n",
       "      <td>156.78</td>\n",
       "      <td>59.65</td>\n",
       "      <td>143.84</td>\n",
       "    </tr>\n",
       "    <tr>\n",
       "      <th>2012</th>\n",
       "      <td>11.01</td>\n",
       "      <td>NaN</td>\n",
       "      <td>107.36</td>\n",
       "      <td>21.71</td>\n",
       "      <td>99.74</td>\n",
       "    </tr>\n",
       "    <tr>\n",
       "      <th>2013</th>\n",
       "      <td>1.54</td>\n",
       "      <td>NaN</td>\n",
       "      <td>113.25</td>\n",
       "      <td>8.59</td>\n",
       "      <td>88.58</td>\n",
       "    </tr>\n",
       "    <tr>\n",
       "      <th>2014</th>\n",
       "      <td>NaN</td>\n",
       "      <td>NaN</td>\n",
       "      <td>47.76</td>\n",
       "      <td>3.75</td>\n",
       "      <td>34.74</td>\n",
       "    </tr>\n",
       "    <tr>\n",
       "      <th>2015</th>\n",
       "      <td>NaN</td>\n",
       "      <td>NaN</td>\n",
       "      <td>16.82</td>\n",
       "      <td>1.14</td>\n",
       "      <td>11.96</td>\n",
       "    </tr>\n",
       "    <tr>\n",
       "      <th>2016</th>\n",
       "      <td>NaN</td>\n",
       "      <td>NaN</td>\n",
       "      <td>3.60</td>\n",
       "      <td>0.18</td>\n",
       "      <td>1.52</td>\n",
       "    </tr>\n",
       "  </tbody>\n",
       "</table>\n",
       "</div>"
      ],
      "text/plain": [
       "platform             DS     PS2     PS3     Wii    X360\n",
       "year_of_release                                        \n",
       "1985               0.02     NaN     NaN     NaN     NaN\n",
       "2000                NaN   39.17     NaN     NaN     NaN\n",
       "2001                NaN  166.43     NaN     NaN     NaN\n",
       "2002                NaN  205.38     NaN     NaN     NaN\n",
       "2003                NaN  184.31     NaN     NaN     NaN\n",
       "2004              17.27  211.81     NaN     NaN     NaN\n",
       "2005             130.14  160.66     NaN     NaN    8.25\n",
       "2006             119.81  103.42   20.96  137.15   51.62\n",
       "2007             146.94   75.99   73.19  152.77   95.41\n",
       "2008             145.31   53.90  118.52  171.32  135.26\n",
       "2009             119.54   26.40  130.93  206.97  120.29\n",
       "2010              85.02    5.64  142.17  127.95  170.03\n",
       "2011              26.18    0.45  156.78   59.65  143.84\n",
       "2012              11.01     NaN  107.36   21.71   99.74\n",
       "2013               1.54     NaN  113.25    8.59   88.58\n",
       "2014                NaN     NaN   47.76    3.75   34.74\n",
       "2015                NaN     NaN   16.82    1.14   11.96\n",
       "2016                NaN     NaN    3.60    0.18    1.52"
      ]
     },
     "execution_count": 17,
     "metadata": {},
     "output_type": "execute_result"
    }
   ],
   "source": [
    "# построим сводную таблицу для наиболее продаваемых платформ по годам\n",
    "data[data['platform'].isin(top_5_platform)].pivot_table(index='year_of_release', columns = 'platform', values='total_sales', aggfunc='sum')"
   ]
  },
  {
   "cell_type": "markdown",
   "metadata": {},
   "source": [
    "Обнаружена ошибка в данных: у платформы DS есть данные за 1985 год."
   ]
  },
  {
   "cell_type": "code",
   "execution_count": 18,
   "metadata": {},
   "outputs": [],
   "source": [
    "#отбросим лишние значения\n",
    "data['platform'] = data['platform'][data['year_of_release'] > 1985]"
   ]
  },
  {
   "cell_type": "code",
   "execution_count": 19,
   "metadata": {},
   "outputs": [
    {
     "data": {
      "image/png": "[encoded data removed]",
      "text/plain": [
       "<Figure size 720x288 with 1 Axes>"
      ]
     },
     "metadata": {
      "needs_background": "light"
     },
     "output_type": "display_data"
    }
   ],
   "source": [
    "#построим распределение наиболее продаваемых платформ по годам\n",
    "data[data['platform'].isin(top_5_platform)].pivot_table(index='year_of_release', columns = 'platform', values='total_sales', aggfunc='sum').plot(kind = 'line', figsize=(10,4), grid=True);\n",
    "\n",
    "plt.title(\"Распределение продаж наиболее продаваемых платформ по годам\")\n",
    "plt.xlabel(\"Года\")\n",
    "plt.ylabel(\"Продажи, млн копий\");"
   ]
  },
  {
   "cell_type": "markdown",
   "metadata": {},
   "source": [
    "<div class=\"alert alert-block alert-warning\">\n",
    "<b>🔁Комментарий ревьюера:</b>\n",
    "    \n",
    "А зачем нам тут шкала с 1985 года?</div>"
   ]
  },
  {
   "cell_type": "markdown",
   "metadata": {},
   "source": [
    "<div class=\"alert alert-block alert-info\">\n",
    "<b>Комментарий студента:</b> \n",
    "По условиям задачи берем все года датафрейма и топ-5 популярных платформ за весь период. Получается, что самые популярные платформы выпущены с 2000 по 2006 год.\n",
    "Можно конечно обрезать период в датафрейме с 1985 по 1999, чтобы убрать пропуски, но это не совсем корректно будет, как мне кажется.\n",
    "</div>"
   ]
  },
  {
   "cell_type": "markdown",
   "metadata": {},
   "source": [
    "<div class=\"alert alert-block alert-warning\">\n",
    "<b>🔁Комментарий ревьюера 2:</b>\n",
    "    \n",
    "На самом деле, если рассмотреть продажи по годам платформы DS, то можно будет найти ошибку, которая и рисует нам такую шкалу)</div>"
   ]
  },
  {
   "cell_type": "markdown",
   "metadata": {},
   "source": [
    "<div class=\"alert alert-block alert-info\">\n",
    "<b>Комментарий студента 2:</b> \n",
    "Спасибо! Ошибка устранена)\n",
    "</div>"
   ]
  },
  {
   "cell_type": "markdown",
   "metadata": {},
   "source": [
    "<div class=\"alert alert-block alert-success\">\n",
    "<b>✅Комментарий ревьюера 3:</b> Пожалуйста) Отлично, исправлено!👍  </div>"
   ]
  },
  {
   "cell_type": "markdown",
   "metadata": {},
   "source": [
    "Каждые 5 лет появляются новые платформы  для игр, а примерный срок \"жизни\" у платформы составляет 10 лет."
   ]
  },
  {
   "cell_type": "markdown",
   "metadata": {},
   "source": [
    "#### Возьмем данные за 2014-2016 годы: эти данные помогут построить прогноз на 2017 год."
   ]
  },
  {
   "cell_type": "markdown",
   "metadata": {},
   "source": [
    "Учитывая высокую динамичность рынка, возьмем для дальнейшего анализа данные по платформам за последние 3 года. Так мы сможем выделить успешные платформы, которые на 2017 год будут находиться в периоде финального роста или выйдут на плато."
   ]
  },
  {
   "cell_type": "code",
   "execution_count": 20,
   "metadata": {},
   "outputs": [],
   "source": [
    "# сохраним в датафрейме данные только за 2014-2016 годы\n",
    "data = data.query('2014 <= year_of_release <= 2016')"
   ]
  },
  {
   "cell_type": "markdown",
   "metadata": {},
   "source": [
    "<div class=\"alert alert-block alert-danger\">\n",
    "<b>❌Комментарий ревьюера:</b> \n",
    "    \n",
    "Примерный срок жизни платформ ты определила верно, но актуальный период выбрала немного больше чем нужно.    \n",
    "\n",
    "Учитывая высокую динамичность рынка, мы можем сделать вывод, что для дальнейшего анализа нам потребуются данные по платформам, возникшим не ранее 3 лет назад по отношению к 2017 году, на который нам нужно сделать прогноз и запланировать рекламные кампании. Так мы сможем выделить успешные платформы, которые на 2017 год будут находиться в периоде финального роста или выйдут на плато. </div>"
   ]
  },
  {
   "cell_type": "markdown",
   "metadata": {},
   "source": [
    "<div class=\"alert alert-block alert-info\">\n",
    "<b>Комментарий студента:</b> \n",
    "Выполнено.\n",
    "</div>"
   ]
  },
  {
   "cell_type": "markdown",
   "metadata": {},
   "source": [
    "<div class=\"alert alert-block alert-success\">\n",
    "<b>✅Комментарий ревьюера 2:</b> Отлично, исправлено!👍  Согласен с выбранным актуальным периодом</div>"
   ]
  },
  {
   "cell_type": "markdown",
   "metadata": {},
   "source": [
    "#### Посмотрим, какие платформы лидируют по продажам, растут или падают? "
   ]
  },
  {
   "cell_type": "code",
   "execution_count": 21,
   "metadata": {},
   "outputs": [
    {
     "data": {
      "image/png": "[encoded data removed]",
      "text/plain": [
       "<Figure size 720x432 with 1 Axes>"
      ]
     },
     "metadata": {
      "needs_background": "light"
     },
     "output_type": "display_data"
    }
   ],
   "source": [
    "data.pivot_table(index='year_of_release', columns = 'platform', values='total_sales', aggfunc='sum').plot(kind = 'line', figsize=(10,6), grid=True);\n",
    "plt.title(\"Распределение продаж платформ по годам\")\n",
    "plt.xlabel(\"Годы\")\n",
    "plt.ylabel(\"Продажи, млн копий\");"
   ]
  },
  {
   "cell_type": "markdown",
   "metadata": {},
   "source": [
    "Согласно графику, за период с 2014 по 2016 годы лидируют по продажам PS4, XOne и 3DS. Растущие платформы отсутствуют, а продажи по большинству платформ падают."
   ]
  },
  {
   "cell_type": "markdown",
   "metadata": {},
   "source": [
    "#### Построим график «ящик с усами» по глобальным продажам игр в разбивке по платформам. "
   ]
  },
  {
   "cell_type": "code",
   "execution_count": 22,
   "metadata": {},
   "outputs": [
    {
     "data": {
      "image/png": "[encoded data removed]",
      "text/plain": [
       "<Figure size 1800x720 with 1 Axes>"
      ]
     },
     "metadata": {
      "needs_background": "light"
     },
     "output_type": "display_data"
    }
   ],
   "source": [
    "data.boxplot(column='total_sales', by='platform', figsize=(25,10));\n",
    "plt.title(\"Диаграмма размаха по общим продажам платформ\");\n",
    "plt.xlabel(\"Наименование платформ\");\n",
    "plt.ylabel(\"Продажи, млн копий\");"
   ]
  },
  {
   "cell_type": "markdown",
   "metadata": {
    "id": "5766e785"
   },
   "source": [
    "<div class=\"alert alert-block alert-danger\">\n",
    "<b>❌Комментарий ревьюера:</b> \n",
    "    \n",
    "Для построения боксплотов не нужно предварительно формировать сводную таблицу, так теряется весь смысл этих диаграмм. Данные должны передаваться в исходном виде, целыми массивами значений.\n",
    "\n",
    "Подсказку о том, как данные диаграммы можно красиво построить, ты найдешь в [этой статье](https://habr.com/ru/post/468295/)</div>"
   ]
  },
  {
   "cell_type": "markdown",
   "metadata": {},
   "source": [
    "<div class=\"alert alert-block alert-info\">\n",
    "<b>Комментарий студента:</b> \n",
    "Выполнено.\n",
    "</div>"
   ]
  },
  {
   "cell_type": "markdown",
   "metadata": {},
   "source": [
    "<div class=\"alert alert-block alert-success\">\n",
    "<b>✅Комментарий ревьюера 2:</b> \n",
    "    \n",
    "Для удобства можно расположить диаграммы горизонтально (пример ниже). Для визуализации мне больше нравится библиотека seaborn. Есть [отличная статья](https://habr.com/ru/post/468295/), где показаны различные способы визуализации. Может быть тебе пригодится)</div>"
   ]
  },
  {
   "cell_type": "code",
   "execution_count": 23,
   "metadata": {
    "scrolled": false
   },
   "outputs": [
    {
     "data": {
      "image/png": "[encoded data removed]",
      "text/plain": [
       "<Figure size 1224x792 with 1 Axes>"
      ]
     },
     "metadata": {
      "needs_background": "light"
     },
     "output_type": "display_data"
    }
   ],
   "source": [
    "# код ревьюера\n",
    "\n",
    "import seaborn as sns\n",
    "\n",
    "plt.figure(figsize=(17, 11))\n",
    "sns.boxplot(data=data, y='platform', x='total_sales')\n",
    "plt.xlim(-0.1, 5)\n",
    "\n",
    "plt.title('Объемы продаж игр на разных платформах', size=17)\n",
    "plt.xlabel('Объем продаж', size=12)\n",
    "plt.ylabel('Название платформы', size=12)\n",
    "\n",
    "plt.show()"
   ]
  },
  {
   "cell_type": "markdown",
   "metadata": {},
   "source": [
    "<div class=\"alert alert-block alert-info\">\n",
    "<b>Комментарий студента:</b> \n",
    "Спасибо! Думаю точно пригодится)\n",
    "</div>"
   ]
  },
  {
   "cell_type": "markdown",
   "metadata": {},
   "source": [
    "<div class=\"alert alert-block alert-success\">\n",
    "<b>✅Комментарий ревьюера 3:</b> Пожалуйста)  </div>"
   ]
  },
  {
   "cell_type": "code",
   "execution_count": 24,
   "metadata": {},
   "outputs": [
    {
     "data": {
      "text/html": [
       "<div>\n",
       "<style scoped>\n",
       "    .dataframe tbody tr th:only-of-type {\n",
       "        vertical-align: middle;\n",
       "    }\n",
       "\n",
       "    .dataframe tbody tr th {\n",
       "        vertical-align: top;\n",
       "    }\n",
       "\n",
       "    .dataframe thead th {\n",
       "        text-align: right;\n",
       "    }\n",
       "</style>\n",
       "<table border=\"1\" class=\"dataframe\">\n",
       "  <thead>\n",
       "    <tr style=\"text-align: right;\">\n",
       "      <th></th>\n",
       "      <th>count</th>\n",
       "      <th>mean</th>\n",
       "      <th>std</th>\n",
       "      <th>min</th>\n",
       "      <th>25%</th>\n",
       "      <th>50%</th>\n",
       "      <th>75%</th>\n",
       "      <th>max</th>\n",
       "    </tr>\n",
       "    <tr>\n",
       "      <th>platform</th>\n",
       "      <th></th>\n",
       "      <th></th>\n",
       "      <th></th>\n",
       "      <th></th>\n",
       "      <th></th>\n",
       "      <th></th>\n",
       "      <th></th>\n",
       "      <th></th>\n",
       "    </tr>\n",
       "  </thead>\n",
       "  <tbody>\n",
       "    <tr>\n",
       "      <th>3DS</th>\n",
       "      <td>212.0</td>\n",
       "      <td>0.408868</td>\n",
       "      <td>1.188368</td>\n",
       "      <td>0.01</td>\n",
       "      <td>0.0300</td>\n",
       "      <td>0.090</td>\n",
       "      <td>0.2500</td>\n",
       "      <td>11.68</td>\n",
       "    </tr>\n",
       "    <tr>\n",
       "      <th>PC</th>\n",
       "      <td>151.0</td>\n",
       "      <td>0.179139</td>\n",
       "      <td>0.329359</td>\n",
       "      <td>0.01</td>\n",
       "      <td>0.0200</td>\n",
       "      <td>0.060</td>\n",
       "      <td>0.2000</td>\n",
       "      <td>3.05</td>\n",
       "    </tr>\n",
       "    <tr>\n",
       "      <th>PS3</th>\n",
       "      <td>219.0</td>\n",
       "      <td>0.311324</td>\n",
       "      <td>0.633059</td>\n",
       "      <td>0.01</td>\n",
       "      <td>0.0400</td>\n",
       "      <td>0.110</td>\n",
       "      <td>0.3250</td>\n",
       "      <td>5.27</td>\n",
       "    </tr>\n",
       "    <tr>\n",
       "      <th>PS4</th>\n",
       "      <td>376.0</td>\n",
       "      <td>0.766356</td>\n",
       "      <td>1.614969</td>\n",
       "      <td>0.01</td>\n",
       "      <td>0.0575</td>\n",
       "      <td>0.185</td>\n",
       "      <td>0.6900</td>\n",
       "      <td>14.63</td>\n",
       "    </tr>\n",
       "    <tr>\n",
       "      <th>PSP</th>\n",
       "      <td>13.0</td>\n",
       "      <td>0.027692</td>\n",
       "      <td>0.027735</td>\n",
       "      <td>0.01</td>\n",
       "      <td>0.0100</td>\n",
       "      <td>0.020</td>\n",
       "      <td>0.0200</td>\n",
       "      <td>0.09</td>\n",
       "    </tr>\n",
       "    <tr>\n",
       "      <th>PSV</th>\n",
       "      <td>295.0</td>\n",
       "      <td>0.075932</td>\n",
       "      <td>0.141591</td>\n",
       "      <td>0.01</td>\n",
       "      <td>0.0200</td>\n",
       "      <td>0.040</td>\n",
       "      <td>0.0900</td>\n",
       "      <td>1.96</td>\n",
       "    </tr>\n",
       "    <tr>\n",
       "      <th>Wii</th>\n",
       "      <td>11.0</td>\n",
       "      <td>0.460909</td>\n",
       "      <td>0.625451</td>\n",
       "      <td>0.01</td>\n",
       "      <td>0.0350</td>\n",
       "      <td>0.180</td>\n",
       "      <td>0.7550</td>\n",
       "      <td>2.01</td>\n",
       "    </tr>\n",
       "    <tr>\n",
       "      <th>WiiU</th>\n",
       "      <td>73.0</td>\n",
       "      <td>0.588767</td>\n",
       "      <td>1.161467</td>\n",
       "      <td>0.01</td>\n",
       "      <td>0.0500</td>\n",
       "      <td>0.190</td>\n",
       "      <td>0.5700</td>\n",
       "      <td>7.09</td>\n",
       "    </tr>\n",
       "    <tr>\n",
       "      <th>X360</th>\n",
       "      <td>111.0</td>\n",
       "      <td>0.434414</td>\n",
       "      <td>0.628967</td>\n",
       "      <td>0.01</td>\n",
       "      <td>0.0700</td>\n",
       "      <td>0.180</td>\n",
       "      <td>0.5050</td>\n",
       "      <td>4.28</td>\n",
       "    </tr>\n",
       "    <tr>\n",
       "      <th>XOne</th>\n",
       "      <td>228.0</td>\n",
       "      <td>0.615614</td>\n",
       "      <td>1.046513</td>\n",
       "      <td>0.01</td>\n",
       "      <td>0.0500</td>\n",
       "      <td>0.205</td>\n",
       "      <td>0.6325</td>\n",
       "      <td>7.39</td>\n",
       "    </tr>\n",
       "  </tbody>\n",
       "</table>\n",
       "</div>"
      ],
      "text/plain": [
       "          count      mean       std   min     25%    50%     75%    max\n",
       "platform                                                               \n",
       "3DS       212.0  0.408868  1.188368  0.01  0.0300  0.090  0.2500  11.68\n",
       "PC        151.0  0.179139  0.329359  0.01  0.0200  0.060  0.2000   3.05\n",
       "PS3       219.0  0.311324  0.633059  0.01  0.0400  0.110  0.3250   5.27\n",
       "PS4       376.0  0.766356  1.614969  0.01  0.0575  0.185  0.6900  14.63\n",
       "PSP        13.0  0.027692  0.027735  0.01  0.0100  0.020  0.0200   0.09\n",
       "PSV       295.0  0.075932  0.141591  0.01  0.0200  0.040  0.0900   1.96\n",
       "Wii        11.0  0.460909  0.625451  0.01  0.0350  0.180  0.7550   2.01\n",
       "WiiU       73.0  0.588767  1.161467  0.01  0.0500  0.190  0.5700   7.09\n",
       "X360      111.0  0.434414  0.628967  0.01  0.0700  0.180  0.5050   4.28\n",
       "XOne      228.0  0.615614  1.046513  0.01  0.0500  0.205  0.6325   7.39"
      ]
     },
     "execution_count": 24,
     "metadata": {},
     "output_type": "execute_result"
    }
   ],
   "source": [
    "data.groupby('platform')['total_sales'].describe()"
   ]
  },
  {
   "cell_type": "markdown",
   "metadata": {},
   "source": [
    "Согласно графику и числовому описанию данных:\n",
    "1. Данные по продажам почти всех платформ имеют очень много выбросов, которые критично влияют на общий результат при подсчете максимальных продаж.\n",
    "2.\tИспользуя медианные значения продаж, можно выделить, что самые большие значения у PS4, XOne, WiiU и X360, а самые маленькие у PSP и PSV."
   ]
  },
  {
   "cell_type": "markdown",
   "metadata": {},
   "source": [
    "#### Посмотрим, как влияют на продажи внутри одной популярной платформы отзывы пользователей и критиков. "
   ]
  },
  {
   "cell_type": "markdown",
   "metadata": {},
   "source": [
    "Для анализа возьмем платформу PS4, по ней были самые большие медианные значения продаж в анализируемом периоде"
   ]
  },
  {
   "cell_type": "code",
   "execution_count": 25,
   "metadata": {},
   "outputs": [],
   "source": [
    "#напишем функцию, которая будет отрисовывать диаграммы рассеяния и считать корреляции методом Пирсона\n",
    "def platform_matrix(name_of_platform):\n",
    "    platform = data[data['platform']==name_of_platform]\n",
    "    platform.plot(x='user_score', y='total_sales', kind='scatter', grid=True)\n",
    "    plt.xlabel(\"Оценка пользователей\")\n",
    "    plt.ylabel(\"Продажи, млн копий\")\n",
    "    plt.title(name_of_platform, fontsize=15)\n",
    "    plt.show()\n",
    "    platform.plot(x='critic_score', y='total_sales', kind='scatter', grid=True)\n",
    "    plt.xlabel(\"Оценка критиков\")\n",
    "    plt.ylabel(\"Продажи, млн копий\")\n",
    "    plt.title(name_of_platform, fontsize=15);\n",
    "    plt.show();\n",
    "            \n",
    "    print('Корреляция между оценками пользователей и продажами ', name_of_platform.upper(), 'равна', platform['user_score'].corr(platform['total_sales']))\n",
    "    print('Корреляция между оценками критиков и продажами ', name_of_platform.upper(), 'равна', platform['critic_score'].corr(platform['total_sales']))"
   ]
  },
  {
   "cell_type": "markdown",
   "metadata": {
    "scrolled": false
   },
   "source": [
    "Сохраним в отдельную переменную данные, отсортированные по платформе PS4."
   ]
  },
  {
   "cell_type": "code",
   "execution_count": 26,
   "metadata": {},
   "outputs": [],
   "source": [
    "data_PS4 = data.query('platform == \"PS4\"').pivot_table(index='platform', values='total_sales', aggfunc='sum').sort_values(by='total_sales', ascending=False).index"
   ]
  },
  {
   "cell_type": "markdown",
   "metadata": {
    "scrolled": false
   },
   "source": [
    "Cохраним в отдельном списке все продаваемые платформы за период с 2014 по 2016 годы, заисключением уже рассмотренной PS4.\n",
    "    "
   ]
  },
  {
   "cell_type": "code",
   "execution_count": 27,
   "metadata": {},
   "outputs": [
    {
     "data": {
      "image/png": "[encoded data removed]",
      "text/plain": [
       "<Figure size 432x288 with 1 Axes>"
      ]
     },
     "metadata": {
      "needs_background": "light"
     },
     "output_type": "display_data"
    },
    {
     "data": {
      "image/png": "[encoded data removed]",
      "text/plain": [
       "<Figure size 432x288 with 1 Axes>"
      ]
     },
     "metadata": {
      "needs_background": "light"
     },
     "output_type": "display_data"
    },
    {
     "name": "stdout",
     "output_type": "stream",
     "text": [
      "Корреляция между оценками пользователей и продажами  PS4 равна -0.040131589472697356\n",
      "Корреляция между оценками критиков и продажами  PS4 равна 0.40266141068104083\n"
     ]
    }
   ],
   "source": [
    "for platform in data_PS4:\n",
    "    platform_matrix(platform)"
   ]
  },
  {
   "cell_type": "markdown",
   "metadata": {
    "id": "5766e785"
   },
   "source": [
    "<div class=\"alert alert-block alert-danger\">\n",
    "<b>❌Комментарий ревьюера:</b> \n",
    "    \n",
    "Перед построением распределений и расчетом коэффициентов корреляций нужно обязательно отфильтровывать значения, которыми были заполнены пропуски. А лучше их не заполнять, как я уже писал выше. Это позволит избежать подобных ошибок.</div>"
   ]
  },
  {
   "cell_type": "markdown",
   "metadata": {},
   "source": [
    "<div class=\"alert alert-block alert-info\">\n",
    "<b>Комментарий студента:</b> \n",
    "Выполнено.\n",
    "</div>"
   ]
  },
  {
   "cell_type": "markdown",
   "metadata": {},
   "source": [
    "<div class=\"alert alert-block alert-success\">\n",
    "<b>✅Комментарий ревьюера 2:</b> Отлично, исправлено!👍  </div>"
   ]
  },
  {
   "cell_type": "markdown",
   "metadata": {},
   "source": [
    "Согласно диаграммам рассеяния и расчетам корреляции методом Пирсона, есть линейная связь между оценками критиков и продажами. А между оценками пользователей и продажами связь отсутствует, или имеет нелинейный характер."
   ]
  },
  {
   "cell_type": "markdown",
   "metadata": {},
   "source": [
    "#### Проверим наличие взаимосвязи между оценками пользователей и продажами игр на всех платформах\n"
   ]
  },
  {
   "cell_type": "markdown",
   "metadata": {},
   "source": [
    "<div class=\"alert alert-block alert-warning\">\n",
    "<b>🔁Комментарий ревьюера:</b>\n",
    "\n",
    "Молодец, что написала функцию! Но ее обозначить лучше немного раньше и начать применять уже на PS4. Также ее следует дополнить подписью названий графиков, иначе непонятно какое распределение к какой платформе относится</div>"
   ]
  },
  {
   "cell_type": "markdown",
   "metadata": {},
   "source": [
    "<div class=\"alert alert-block alert-info\">\n",
    "<b>Комментарий студента:</b> \n",
    "Выполнено.\n",
    "</div>"
   ]
  },
  {
   "cell_type": "markdown",
   "metadata": {},
   "source": [
    "<div class=\"alert alert-block alert-success\">\n",
    "<b>✅Комментарий ревьюера 2:</b> Отлично, исправлено!👍  </div>"
   ]
  },
  {
   "cell_type": "markdown",
   "metadata": {
    "scrolled": false
   },
   "source": [
    "Cохраним в отдельном списке все продаваемые платформы за период с 2014 по 2016 годы, за исключением уже рассмотренной PS4.    "
   ]
  },
  {
   "cell_type": "code",
   "execution_count": 28,
   "metadata": {},
   "outputs": [],
   "source": [
    "platform_2014_2016 = data.query('platform != \"PS4\"').pivot_table(index='platform', values='total_sales', aggfunc='sum').sort_values(by='total_sales', ascending=False).index"
   ]
  },
  {
   "cell_type": "markdown",
   "metadata": {
    "scrolled": false
   },
   "source": [
    "C помощью цикла выведем диаграммы рассеяния и рассчитанные корреляции по всем продаваемым платформам за период с 2014 по 2016 годы"
   ]
  },
  {
   "cell_type": "code",
   "execution_count": 29,
   "metadata": {
    "scrolled": false
   },
   "outputs": [
    {
     "data": {
      "image/png": "[encoded data removed]",
      "text/plain": [
       "<Figure size 432x288 with 1 Axes>"
      ]
     },
     "metadata": {
      "needs_background": "light"
     },
     "output_type": "display_data"
    },
    {
     "data": {
      "image/png": "[encoded data removed]",
      "text/plain": [
       "<Figure size 432x288 with 1 Axes>"
      ]
     },
     "metadata": {
      "needs_background": "light"
     },
     "output_type": "display_data"
    },
    {
     "name": "stdout",
     "output_type": "stream",
     "text": [
      "Корреляция между оценками пользователей и продажами  XONE равна -0.0703839280647581\n",
      "Корреляция между оценками критиков и продажами  XONE равна 0.42867694370333226\n"
     ]
    },
    {
     "data": {
      "image/png": "[encoded data removed]",
      "text/plain": [
       "<Figure size 432x288 with 1 Axes>"
      ]
     },
     "metadata": {
      "needs_background": "light"
     },
     "output_type": "display_data"
    },
    {
     "data": {
      "image/png": "[encoded data removed]",
      "text/plain": [
       "<Figure size 432x288 with 1 Axes>"
      ]
     },
     "metadata": {
      "needs_background": "light"
     },
     "output_type": "display_data"
    },
    {
     "name": "stdout",
     "output_type": "stream",
     "text": [
      "Корреляция между оценками пользователей и продажами  3DS равна 0.2151932718527028\n",
      "Корреляция между оценками критиков и продажами  3DS равна 0.314117492869051\n"
     ]
    },
    {
     "data": {
      "image/png": "[encoded data removed]",
      "text/plain": [
       "<Figure size 432x288 with 1 Axes>"
      ]
     },
     "metadata": {
      "needs_background": "light"
     },
     "output_type": "display_data"
    },
    {
     "data": {
      "image/png": "[encoded data removed]",
      "text/plain": [
       "<Figure size 432x288 with 1 Axes>"
      ]
     },
     "metadata": {
      "needs_background": "light"
     },
     "output_type": "display_data"
    },
    {
     "name": "stdout",
     "output_type": "stream",
     "text": [
      "Корреляция между оценками пользователей и продажами  PS3 равна -0.16676141347662118\n",
      "Корреляция между оценками критиков и продажами  PS3 равна 0.44657460493190704\n"
     ]
    },
    {
     "data": {
      "image/png": "[encoded data removed]",
      "text/plain": [
       "<Figure size 432x288 with 1 Axes>"
      ]
     },
     "metadata": {
      "needs_background": "light"
     },
     "output_type": "display_data"
    },
    {
     "data": {
      "image/png": "[encoded data removed]",
      "text/plain": [
       "<Figure size 432x288 with 1 Axes>"
      ]
     },
     "metadata": {
      "needs_background": "light"
     },
     "output_type": "display_data"
    },
    {
     "name": "stdout",
     "output_type": "stream",
     "text": [
      "Корреляция между оценками пользователей и продажами  X360 равна -0.138444570945665\n",
      "Корреляция между оценками критиков и продажами  X360 равна 0.5257228356581523\n"
     ]
    },
    {
     "data": {
      "image/png": "[encoded data removed]",
      "text/plain": [
       "<Figure size 432x288 with 1 Axes>"
      ]
     },
     "metadata": {
      "needs_background": "light"
     },
     "output_type": "display_data"
    },
    {
     "data": {
      "image/png": "[encoded data removed]",
      "text/plain": [
       "<Figure size 432x288 with 1 Axes>"
      ]
     },
     "metadata": {
      "needs_background": "light"
     },
     "output_type": "display_data"
    },
    {
     "name": "stdout",
     "output_type": "stream",
     "text": [
      "Корреляция между оценками пользователей и продажами  WIIU равна 0.40792645792170773\n",
      "Корреляция между оценками критиков и продажами  WIIU равна 0.370201412480884\n"
     ]
    },
    {
     "data": {
      "image/png": "[encoded data removed]",
      "text/plain": [
       "<Figure size 432x288 with 1 Axes>"
      ]
     },
     "metadata": {
      "needs_background": "light"
     },
     "output_type": "display_data"
    },
    {
     "data": {
      "image/png": "[encoded data removed]",
      "text/plain": [
       "<Figure size 432x288 with 1 Axes>"
      ]
     },
     "metadata": {
      "needs_background": "light"
     },
     "output_type": "display_data"
    },
    {
     "name": "stdout",
     "output_type": "stream",
     "text": [
      "Корреляция между оценками пользователей и продажами  PC равна -0.07159665703472451\n",
      "Корреляция между оценками критиков и продажами  PC равна 0.17463413769350036\n"
     ]
    },
    {
     "data": {
      "image/png": "[encoded data removed]",
      "text/plain": [
       "<Figure size 432x288 with 1 Axes>"
      ]
     },
     "metadata": {
      "needs_background": "light"
     },
     "output_type": "display_data"
    },
    {
     "data": {
      "image/png": "[encoded data removed]",
      "text/plain": [
       "<Figure size 432x288 with 1 Axes>"
      ]
     },
     "metadata": {
      "needs_background": "light"
     },
     "output_type": "display_data"
    },
    {
     "name": "stdout",
     "output_type": "stream",
     "text": [
      "Корреляция между оценками пользователей и продажами  PSV равна -0.16845504978064446\n",
      "Корреляция между оценками критиков и продажами  PSV равна 0.04266490657009526\n"
     ]
    },
    {
     "data": {
      "image/png": "[encoded data removed]",
      "text/plain": [
       "<Figure size 432x288 with 1 Axes>"
      ]
     },
     "metadata": {
      "needs_background": "light"
     },
     "output_type": "display_data"
    },
    {
     "data": {
      "image/png": "[encoded data removed]",
      "text/plain": [
       "<Figure size 432x288 with 1 Axes>"
      ]
     },
     "metadata": {
      "needs_background": "light"
     },
     "output_type": "display_data"
    },
    {
     "name": "stdout",
     "output_type": "stream",
     "text": [
      "Корреляция между оценками пользователей и продажами  WII равна 1.0\n",
      "Корреляция между оценками критиков и продажами  WII равна nan\n"
     ]
    },
    {
     "data": {
      "image/png": "[encoded data removed]",
      "text/plain": [
       "<Figure size 432x288 with 1 Axes>"
      ]
     },
     "metadata": {
      "needs_background": "light"
     },
     "output_type": "display_data"
    },
    {
     "data": {
      "image/png": "[encoded data removed]",
      "text/plain": [
       "<Figure size 432x288 with 1 Axes>"
      ]
     },
     "metadata": {
      "needs_background": "light"
     },
     "output_type": "display_data"
    },
    {
     "name": "stdout",
     "output_type": "stream",
     "text": [
      "Корреляция между оценками пользователей и продажами  PSP равна nan\n",
      "Корреляция между оценками критиков и продажами  PSP равна nan\n"
     ]
    }
   ],
   "source": [
    "for platform in platform_2014_2016:\n",
    "    platform_matrix(platform)    "
   ]
  },
  {
   "cell_type": "markdown",
   "metadata": {},
   "source": [
    "Согласно графикам рассеяния и расчетам корреляции методом Пирсона, у большинства платформ существует прямая линейная связь между оценками критиков и продажами (за исключением платформы PSV: связь между оценками критиков и продажами отсутствует).\n",
    "\n",
    "А вот оценки пользователей на продажи влияют слабо или практически никак (за исключением платформы WIIU: есть связь между оценками пользователей и продажами).\n",
    "\n",
    "Таким образом подтверждается вывод, сделанный на основе анализа самой популярной платформы."
   ]
  },
  {
   "cell_type": "markdown",
   "metadata": {
    "id": "5766e785"
   },
   "source": [
    "<div class=\"alert alert-block alert-danger\">\n",
    "<b>❌Комментарий ревьюера:</b> \n",
    "    \n",
    "А у остальных платформ нет никаких связей? Какой можно сделать итоговый вывод?</div>"
   ]
  },
  {
   "cell_type": "markdown",
   "metadata": {},
   "source": [
    "<div class=\"alert alert-block alert-info\">\n",
    "<b>Комментарий студента:</b> \n",
    "Выполнено.\n",
    "</div>"
   ]
  },
  {
   "cell_type": "markdown",
   "metadata": {},
   "source": [
    "<div class=\"alert alert-block alert-success\">\n",
    "<b>✅Комментарий ревьюера 2:</b> Отлично, исправлено!👍  </div>"
   ]
  },
  {
   "cell_type": "markdown",
   "metadata": {},
   "source": [
    "#### Посмотрим на общее распределение игр по жанрам. "
   ]
  },
  {
   "cell_type": "code",
   "execution_count": 30,
   "metadata": {},
   "outputs": [
    {
     "data": {
      "image/png": "[encoded data removed]",
      "text/plain": [
       "<Figure size 720x432 with 1 Axes>"
      ]
     },
     "metadata": {
      "needs_background": "light"
     },
     "output_type": "display_data"
    }
   ],
   "source": [
    "data.pivot_table(index='genre', values='total_sales', aggfunc='median').sort_values(by='total_sales', ascending=False).plot(y = 'total_sales', kind = 'bar', figsize=(10,6), grid=True);"
   ]
  },
  {
   "cell_type": "markdown",
   "metadata": {},
   "source": [
    "Самый прибыльный жанр по медианным значениям продаж: Shooter, а самые низкие медианные значения продаж у Adventure."
   ]
  },
  {
   "cell_type": "markdown",
   "metadata": {
    "id": "5766e785"
   },
   "source": [
    "<div class=\"alert alert-block alert-danger\">\n",
    "<b>❌Комментарий ревьюера:</b> \n",
    "    \n",
    "Определять прибыльность жанров только по суммарным продажам не совсем корректно, нужно еще учитывать соотношение с количеством выпущенных игр. А лучше сразу рассматривать медианные значения продаж, они являются наиболее объективным показателем прибыльности, так как менее подвержены влиянию выбросов (а в игровой индустрии их достаточно много за счет продаж очень популярных и хитовых игр)</div>"
   ]
  },
  {
   "cell_type": "markdown",
   "metadata": {},
   "source": [
    "<div class=\"alert alert-block alert-info\">\n",
    "<b>Комментарий студента:</b> \n",
    "Выполнено.\n",
    "</div>"
   ]
  },
  {
   "cell_type": "markdown",
   "metadata": {},
   "source": [
    "<div class=\"alert alert-block alert-success\">\n",
    "<b>✅Комментарий ревьюера 2:</b> Отлично, исправлено!👍  </div>"
   ]
  },
  {
   "cell_type": "markdown",
   "metadata": {},
   "source": [
    "### Портрет пользователя каждого региона"
   ]
  },
  {
   "cell_type": "markdown",
   "metadata": {},
   "source": [
    "#### Рассмотрим, какие самые популярные платформы (топ-5) для пользователя каждого региона"
   ]
  },
  {
   "cell_type": "code",
   "execution_count": 31,
   "metadata": {},
   "outputs": [],
   "source": [
    "# сохраним все регионы в отдельном списке\n",
    "regions_all = ['na_sales','eu_sales','jp_sales']"
   ]
  },
  {
   "cell_type": "code",
   "execution_count": 32,
   "metadata": {},
   "outputs": [
    {
     "data": {
      "image/png": "[encoded data removed]",
      "text/plain": [
       "<Figure size 360x288 with 1 Axes>"
      ]
     },
     "metadata": {
      "needs_background": "light"
     },
     "output_type": "display_data"
    },
    {
     "data": {
      "image/png": "[encoded data removed]",
      "text/plain": [
       "<Figure size 360x288 with 1 Axes>"
      ]
     },
     "metadata": {
      "needs_background": "light"
     },
     "output_type": "display_data"
    },
    {
     "data": {
      "image/png": "[encoded data removed]",
      "text/plain": [
       "<Figure size 360x288 with 1 Axes>"
      ]
     },
     "metadata": {
      "needs_background": "light"
     },
     "output_type": "display_data"
    }
   ],
   "source": [
    "#напишем функцию, которая будет отрисовывать топ-5 самых популярных платформ для каждого из регионов\n",
    "def func_platform(name_of_region):\n",
    "    region = data.groupby('platform')[name_of_region].sum().reset_index().sort_values(name_of_region, ascending=False, ignore_index=True).head()\n",
    "    region.plot(x='platform', y = name_of_region, kind = 'bar', figsize=(5,4), grid=True);\n",
    "    plt.xlabel(\"Наименование платформы\")\n",
    "    plt.ylabel(\"Продажи, млн копий\");\n",
    "    plt.title(name_of_region, fontsize=15)\n",
    "    plt.show()\n",
    "\n",
    "for region in regions_all:\n",
    "    func_platform(region)"
   ]
  },
  {
   "cell_type": "markdown",
   "metadata": {},
   "source": [
    "Среди пользователей из Северной Америки наиболее популярны платформы PS4 и XOne, из Европы - PS4, а из Японии - 3DS."
   ]
  },
  {
   "cell_type": "markdown",
   "metadata": {},
   "source": [
    "#### Рассмотрим самые популярные жанры (топ-5) в разных регионах"
   ]
  },
  {
   "cell_type": "code",
   "execution_count": 33,
   "metadata": {},
   "outputs": [
    {
     "data": {
      "image/png": "[encoded data removed]",
      "text/plain": [
       "<Figure size 360x288 with 1 Axes>"
      ]
     },
     "metadata": {
      "needs_background": "light"
     },
     "output_type": "display_data"
    },
    {
     "data": {
      "image/png": "[encoded data removed]",
      "text/plain": [
       "<Figure size 360x288 with 1 Axes>"
      ]
     },
     "metadata": {
      "needs_background": "light"
     },
     "output_type": "display_data"
    },
    {
     "data": {
      "image/png": "[encoded data removed]",
      "text/plain": [
       "<Figure size 360x288 with 1 Axes>"
      ]
     },
     "metadata": {
      "needs_background": "light"
     },
     "output_type": "display_data"
    }
   ],
   "source": [
    "#напишем функцию, которая будет отрисовывать топ-5 самых популярных жанров для каждого из регионов\n",
    "def func_genre(name_of_region):\n",
    "    region = data.groupby('genre')[name_of_region].sum().reset_index().sort_values(name_of_region, ascending=False, ignore_index=True).head()\n",
    "    region.plot(x='genre', y = name_of_region, kind = 'bar', figsize=(5,4), grid=True);\n",
    "    plt.xlabel(\"Наименование жанра\")\n",
    "    plt.ylabel(\"Продажи, млн копий\");\n",
    "    plt.title(name_of_region, fontsize=15)\n",
    "    plt.show()\n",
    "\n",
    "for region in regions_all:\n",
    "    func_genre(region)"
   ]
  },
  {
   "cell_type": "markdown",
   "metadata": {},
   "source": [
    "<div class=\"alert alert-block alert-warning\">\n",
    "<b>🔁Комментарий ревьюера:</b>\n",
    "\n",
    "Обрати внимание ,что код для построения распределений продаж по жанрам, платформам и рейтингам в регионах повторяется и его можно обернуть в функцию.\n",
    "\n",
    "Результаты мы получили неверные из-за некорректного актуального периода. После его изменения нужно будет подправить выводы в соответствии с новыми результатами.</div>"
   ]
  },
  {
   "cell_type": "markdown",
   "metadata": {},
   "source": [
    "<div class=\"alert alert-block alert-info\">\n",
    "<b>Комментарий студента:</b> \n",
    "Выполнено.\n",
    "</div>"
   ]
  },
  {
   "cell_type": "markdown",
   "metadata": {},
   "source": [
    "<div class=\"alert alert-block alert-success\">\n",
    "<b>✅Комментарий ревьюера 2:</b> Отлично, исправлено!👍  А еще написанные тобой две функции можно объединить в одну)</div>"
   ]
  },
  {
   "cell_type": "markdown",
   "metadata": {},
   "source": [
    "1. Пользователи из Северной Америки предпочитают Shooter, Action и Sports.\n",
    "2. Пользователей из Европы интересуют более всего Action, Shooter и Sports. \n",
    "3. Пользователям из Японии наиболее интересны жанры Role-Playing и Action."
   ]
  },
  {
   "cell_type": "markdown",
   "metadata": {},
   "source": [
    "#### Рассмотрим, влияет ли рейтинг ESRB на продажи в отдельном регионе"
   ]
  },
  {
   "cell_type": "markdown",
   "metadata": {},
   "source": [
    "<div class=\"alert alert-block alert-warning\">\n",
    "<b>🔁Комментарий ревьюера 2:</b>\n",
    "\n",
    "Функциям нужно давать разные имена (иначе их нельзя будет переиспользовать), кратко обозначающие что она делает.</div>"
   ]
  },
  {
   "cell_type": "markdown",
   "metadata": {},
   "source": [
    "<div class=\"alert alert-block alert-info\">\n",
    "<b>Комментарий студента 2:</b> \n",
    "Выполнено.\n",
    "</div>"
   ]
  },
  {
   "cell_type": "markdown",
   "metadata": {},
   "source": [
    "<div class=\"alert alert-block alert-success\">\n",
    "<b>✅Комментарий ревьюера 3:</b> Отлично, исправлено!👍  </div>"
   ]
  },
  {
   "cell_type": "code",
   "execution_count": 34,
   "metadata": {},
   "outputs": [
    {
     "data": {
      "image/png": "[encoded data removed]",
      "text/plain": [
       "<Figure size 360x288 with 1 Axes>"
      ]
     },
     "metadata": {
      "needs_background": "light"
     },
     "output_type": "display_data"
    },
    {
     "data": {
      "image/png": "[encoded data removed]",
      "text/plain": [
       "<Figure size 360x288 with 1 Axes>"
      ]
     },
     "metadata": {
      "needs_background": "light"
     },
     "output_type": "display_data"
    },
    {
     "data": {
      "image/png": "[encoded data removed]",
      "text/plain": [
       "<Figure size 360x288 with 1 Axes>"
      ]
     },
     "metadata": {
      "needs_background": "light"
     },
     "output_type": "display_data"
    }
   ],
   "source": [
    "#напишем функцию, которая будет отрисовывать топ-5 самых популярных платформ для каждого из регионов\n",
    "def func_rating(name_of_region):\n",
    "    region = data.groupby('rating')[name_of_region].sum().reset_index().sort_values(name_of_region, ascending=False, ignore_index=True).head()\n",
    "    region.plot(x='rating', y = name_of_region, kind = 'bar', figsize=(5,4), grid=True);\n",
    "    plt.xlabel(\"Рейтинг\")\n",
    "    plt.ylabel(\"Продажи, млн копий\");\n",
    "    plt.title(name_of_region, fontsize=15)\n",
    "    plt.show()\n",
    "\n",
    "for region in regions_all:\n",
    "    func_rating(region)"
   ]
  },
  {
   "cell_type": "markdown",
   "metadata": {},
   "source": [
    "<div class=\"alert alert-block alert-warning\">\n",
    "<b>🔁Комментарий ревьюера:</b>\n",
    "\n",
    "А если заполнить пропуски в рейтингах каким-нибудь единым значением, означающим отсутствие рейтинга, то можно будет увидеть интересную особенность)</div>"
   ]
  },
  {
   "cell_type": "markdown",
   "metadata": {},
   "source": [
    "<div class=\"alert alert-block alert-info\">\n",
    "<b>Комментарий студента:</b> \n",
    "Выполнено.\n",
    "</div>"
   ]
  },
  {
   "cell_type": "markdown",
   "metadata": {},
   "source": [
    "<div class=\"alert alert-block alert-success\">\n",
    "<b>✅Комментарий ревьюера 2:</b> Отлично, исправлено!👍  </div>"
   ]
  },
  {
   "cell_type": "markdown",
   "metadata": {},
   "source": [
    "Игры с рейтингом M продаются лучше всего в Северной Америке и в Европе, а в Японии наибольшей популярностью пользуются игры без рейтинга."
   ]
  },
  {
   "cell_type": "markdown",
   "metadata": {},
   "source": [
    "<div class=\"alert alert-block alert-warning\">\n",
    "<b>🔁Комментарий ревьюера 2:</b>\n",
    "\n",
    "Как ты думаешь, почему в Японии большинство игр не имеют рейтинга ESRB?</div>"
   ]
  },
  {
   "cell_type": "markdown",
   "metadata": {},
   "source": [
    "<div class=\"alert alert-block alert-info\">\n",
    "<b>Комментарий студента:</b> \n",
    "Рейтинг ESRB - американский, а у японцев свои системы рейтинга - CERO и EOCS/CSA. И также в Японии рейтинг контента не требуется по закону, в отличие от других стран.\n",
    "</div>"
   ]
  },
  {
   "cell_type": "markdown",
   "metadata": {},
   "source": [
    "<div class=\"alert alert-block alert-success\">\n",
    "<b>✅Комментарий ревьюера 3:</b> Абсолютно верно!👍  </div>"
   ]
  },
  {
   "cell_type": "markdown",
   "metadata": {},
   "source": [
    "### Проверка гипотез"
   ]
  },
  {
   "cell_type": "markdown",
   "metadata": {},
   "source": [
    "#### Проверка гипотезы: средние пользовательские рейтинги платформ Xbox One и PC одинаковые"
   ]
  },
  {
   "cell_type": "markdown",
   "metadata": {},
   "source": [
    "H_0: Средние пользовательские рейтинги (user_score) платформы Xbox One = средние пользовательские рейтинги (user_score) платформы PC\n",
    "\n",
    "H_a: Средние пользовательские рейтинги (user_score) платформы Xbox One ≠ средние пользовательские рейтинги (user_score) платформы PC"
   ]
  },
  {
   "cell_type": "markdown",
   "metadata": {},
   "source": [
    "<div class=\"alert alert-block alert-success\">\n",
    "<b>✅Комментарий ревьюера:</b> Здорово, что формулируешь гипотезы вначале шага </div>"
   ]
  },
  {
   "cell_type": "code",
   "execution_count": 35,
   "metadata": {},
   "outputs": [
    {
     "name": "stdout",
     "output_type": "stream",
     "text": [
      "Средний пользовательский рейтинг платформы Xbox One составляет 6.594545454545456\n",
      "Средний пользовательский рейтинг платформы PC составляет 6.298360655737705\n"
     ]
    }
   ],
   "source": [
    "#рассчитаем средний пользовательский рейтинг платформ методом mean()\n",
    "print('Средний пользовательский рейтинг платформы Xbox One составляет', data.query('platform ==\"XOne\"')['user_score'].dropna().mean())\n",
    "print('Средний пользовательский рейтинг платформы PC составляет', data.query('platform ==\"PC\"')['user_score'].dropna().mean())\n"
   ]
  },
  {
   "cell_type": "code",
   "execution_count": 36,
   "metadata": {},
   "outputs": [
    {
     "name": "stdout",
     "output_type": "stream",
     "text": [
      "p-значение: 0.11601398086668943\n",
      "Не получилось отвергнуть нулевую гипотезу\n"
     ]
    }
   ],
   "source": [
    "# results = вызов метода для проверки гипотезы\n",
    "results = st.ttest_ind(\n",
    "    data.query('platform ==\"XOne\"')['user_score'],\n",
    "    data.query('platform ==\"PC\"')['user_score'],\n",
    "    equal_var=False,\n",
    "    nan_policy = 'omit'\n",
    ")\n",
    "# добавили значение equal_var, поскольку нет оснований считать выборки равными после пропуска пропущенных значений\n",
    "\n",
    "# alpha = задайте значение уровня значимости\n",
    "alpha = 0.01 \n",
    "\n",
    "# вывод значения p-value на экран\n",
    "print('p-значение:', results.pvalue)\n",
    "\n",
    "# условный оператор с выводом строки с ответом\n",
    "if results.pvalue < alpha:\n",
    "    print(\"Отвергаем нулевую гипотезу\")\n",
    "else:\n",
    "    print(\"Не получилось отвергнуть нулевую гипотезу\") \n"
   ]
  },
  {
   "cell_type": "markdown",
   "metadata": {},
   "source": [
    "<div class=\"alert alert-block alert-success\">\n",
    "<b>✅Комментарий ревьюера:</b> \n",
    "    \n",
    "Кстати, можно не удалять пропуски из сравниваемых выборок (если они не были заполнены), а передать в ttest_ind аргумент nan_policy с нужным значением, тогда они будут игнорироваться. Подробнее можно почитать [здесь](https://docs.scipy.org/doc/scipy/reference/generated/scipy.stats.ttest_ind.html) </div>"
   ]
  },
  {
   "cell_type": "markdown",
   "metadata": {},
   "source": [
    "<div class=\"alert alert-block alert-info\">\n",
    "<b>Комментарий студента:</b> \n",
    "Выполнено.\n",
    "</div>"
   ]
  },
  {
   "cell_type": "markdown",
   "metadata": {},
   "source": [
    "<div class=\"alert alert-block alert-success\">\n",
    "<b>✅Комментарий ревьюера 2:</b> Круто!👍  </div>"
   ]
  },
  {
   "cell_type": "markdown",
   "metadata": {},
   "source": [
    "Согласно статистическим расчетам, мы не можем отвергнуть нулевую гипотезу и можем утверждать с большой долей вероятности, что средние пользовательские рейтинги платформ XOne и PC не имеют статистически значимых отличий."
   ]
  },
  {
   "cell_type": "markdown",
   "metadata": {},
   "source": [
    "<div class=\"alert alert-block alert-danger\">\n",
    "<b>❌Комментарий ревьюера:</b> \n",
    "    \n",
    "Мы не можем подтвердить гипотезу и сказать, что средние пользовательские рейтинги платформ Xbox One и PC одинаковые (выше мы убедились что они разные). Мы лишь говорим ,что не можем отвергнуть нулевую гипотезу и что с большой долей вероятности средние пользовательские рейтинги платформ XOne и PC не имеют статистически значимых отличий. Это касается первой гипотезы.\n",
    "    \n",
    "Давай аналогично сформулируем вывод для второй гипотезы.\n",
    "</div>"
   ]
  },
  {
   "cell_type": "markdown",
   "metadata": {},
   "source": [
    "<div class=\"alert alert-block alert-info\">\n",
    "<b>Комментарий студента:</b> \n",
    "Выполнено.\n",
    "</div>"
   ]
  },
  {
   "cell_type": "markdown",
   "metadata": {},
   "source": [
    "<div class=\"alert alert-block alert-success\">\n",
    "<b>✅Комментарий ревьюера 2:</b> Отлично, исправлено!👍  </div>"
   ]
  },
  {
   "cell_type": "markdown",
   "metadata": {},
   "source": [
    "#### Проверка гипотезы: средние пользовательские рейтинги жанров Action и Sports разные."
   ]
  },
  {
   "cell_type": "markdown",
   "metadata": {},
   "source": [
    "H_0: Средние пользовательские рейтинги (user_score) жанра Action = средние пользовательские рейтинги (user_score) жанра Sports\n",
    "\n",
    "H_a: Средние пользовательские рейтинги (user_score) жанра Action ≠ средние пользовательские рейтинги (user_score) жанра Sports"
   ]
  },
  {
   "cell_type": "markdown",
   "metadata": {
    "id": "5766e785"
   },
   "source": [
    "<div class=\"alert alert-block alert-danger\">\n",
    "<b>❌Комментарий ревьюера:</b> \n",
    "    \n",
    "Нулевая гипотеза всегда формулируется исходя из равенства проверяемых метрик (как в первой гипотезе)</div>"
   ]
  },
  {
   "cell_type": "markdown",
   "metadata": {},
   "source": [
    "<div class=\"alert alert-block alert-info\">\n",
    "<b>Комментарий студента:</b> \n",
    "Выполнено.\n",
    "</div>"
   ]
  },
  {
   "cell_type": "markdown",
   "metadata": {},
   "source": [
    "<div class=\"alert alert-block alert-success\">\n",
    "<b>✅Комментарий ревьюера 2:</b> Отлично, исправлено!👍  </div>"
   ]
  },
  {
   "cell_type": "code",
   "execution_count": 37,
   "metadata": {},
   "outputs": [
    {
     "name": "stdout",
     "output_type": "stream",
     "text": [
      "Средний пользовательский рейтинг жанра Action составляет 6.760606060606061\n",
      "Средний пользовательский рейтинг жанра Sports составляет 5.2251968503937\n"
     ]
    }
   ],
   "source": [
    "#рассчитаем средний пользовательский рейтинг жанров методом mean()\n",
    "print('Средний пользовательский рейтинг жанра Action составляет', data.query('genre ==\"Action\"')['user_score'].dropna().mean())\n",
    "print('Средний пользовательский рейтинг жанра Sports составляет', data.query('genre ==\"Sports\"')['user_score'].dropna().mean())"
   ]
  },
  {
   "cell_type": "code",
   "execution_count": 38,
   "metadata": {},
   "outputs": [
    {
     "name": "stdout",
     "output_type": "stream",
     "text": [
      "p-значение: 1.182555038264477e-14\n",
      "Отвергаем нулевую гипотезу\n"
     ]
    }
   ],
   "source": [
    "# results = вызов метода для проверки гипотезы\n",
    "results = st.ttest_ind(\n",
    "    data.query('genre ==\"Action\"')['user_score'],\n",
    "    data.query('genre ==\"Sports\"')['user_score'],\n",
    "    equal_var=False,\n",
    "    nan_policy = 'omit'\n",
    ")\n",
    "# добавили значение equal_var, поскольку нет оснований считать выборки равными после пропуска пропущенных значений\n",
    "\n",
    "# alpha = задайте значение уровня значимости\n",
    "alpha = 0.01 \n",
    "\n",
    "# вывод значения p-value на экран\n",
    "print('p-значение:', results.pvalue)\n",
    "\n",
    "# условный оператор с выводом строки с ответом\n",
    "if results.pvalue < alpha:\n",
    "    print(\"Отвергаем нулевую гипотезу\")\n",
    "else:\n",
    "    print(\"Не получилось отвергнуть нулевую гипотезу\") "
   ]
  },
  {
   "cell_type": "markdown",
   "metadata": {},
   "source": [
    "Согласно статистическим расчетам, мы отвергаем нулевую гипотезу и можем утверждать с большой долей вероятности, что средние пользовательские рейтинги жанров Action и PC имеют статистически значимые отличия."
   ]
  },
  {
   "cell_type": "markdown",
   "metadata": {},
   "source": [
    "<div class=\"alert alert-block alert-success\">\n",
    "<b>✅Комментарий ревьюера 2:</b> Гипотезы верно проработаны!  </div>"
   ]
  },
  {
   "cell_type": "markdown",
   "metadata": {},
   "source": [
    "### Общий вывод"
   ]
  },
  {
   "cell_type": "markdown",
   "metadata": {},
   "source": [
    "На этапе предобработки были проведены следующие работы :\n",
    "\n",
    "   •\tНазвания столбцов приведены к нижнему регистру.\n",
    "   \n",
    "   •\tВ столбцах Year_of_Release, Critic_Score, User_Score и Rating пропущенные значения не удалось ничем заменить.\n",
    "   \n",
    "   •\tВ столбцах Year_of_Release и User_Score произведена смена формата данных.\n",
    "   \n",
    "По итогам проведенного исследования можно сделать следующие выводы:\n",
    "   \n",
    "1.\tОсновная часть игр выпускалась с 1995 по 2011 годы; начиная с 2012 года количество игр, выпускаемых ежегодно, снизилось почти в 2 раза и составляет примерно 600 млн копий. \n",
    "2.\tНаиболее продаваемые платформы за период с 1985 по 2016 годы - это PS2, X360, PS3, Wii и DS.\n",
    "3.\tКаждые 5 лет появляются новые платформы для игр, а примерный срок \"жизни\" у платформы составляет 10 лет.\n",
    "4.\tСогласно графику, за период с 2014 по 2016 годы лидируют по продажам PS4, XOne и 3DS. Растущие платформы отсутствуют, а продажи по большинству платформ падают.\n",
    "5.\tДанные по продажам почти всех платформ имеют очень много выбросов, которые критично влияют на общий результат при подсчете максимальных продаж.\n",
    "6.\tИспользуя медианные значения продаж, можно выделить, что самые большие значения у PS4, XOne, WiiU и X360, а самые маленькие у PSP и PSV.\n",
    "7.\tУ большинства платформ существует прямая линейная связь между оценками критиков и продажами (за исключением платформы PSV: связь между оценками критиков и продажами отсутствует).\n",
    "8.\tА вот оценки пользователей на продажи влияют слабо или практически никак (за исключением платформы WIIU: есть связь между оценками пользователей и продажами).\n",
    "9.\tСамый прибыльный жанр по медианным значениям продаж: Shooter, а самые низкие медианные значения продаж у Adventure. \n",
    "10.\tСреди пользователей из Северной Америки наиболее популярны платформы PS4 и XOne, из Европы - PS4, а из Японии - 3DS. \n",
    "11.\tПользователи из Северной Америки предпочитают Shooter, Action и Sports; пользователей из Европы интересуют более всего Action, Shooter и Sports; пользователям из Японии наиболее интересны жанры Role-Playing и Action. \n",
    "12.\tИгры с рейтингом M продаются лучше всего в Северной Америке и в Европе, а в Японии наибольшей популярностью пользуются игры без рейтинга.\n",
    "13.\tСогласно статистическим расчетам, мы можем утверждать с большой долей вероятности, что средние пользовательские рейтинги платформ XOne и PC не имеют статистически значимых отличий и что средние пользовательские рейтинги жанров Action и PC имеют статистически значимые отличия.\n",
    "\n",
    "Для планирования рекламной кампании на 2017 год рекомендуется учесть следующие наблюдения:\n",
    "1.\tСамые продаваемые платформы PS4, XOne, 3DS, WiiU и X360 и причем продажи по первым трем платформам падают, а по последним двум находятся на стадии плато.\n",
    "2.\tСледует учитывать прямую линейную связь между оценками критиков и продажами у большинства платформ (за исключением платформы PSV).\n",
    "3.\tА на связь между оценками пользователей и продажами не стоит обращать внимания.\n",
    "4.\tСамый прибыльный жанр по медианным значениям продаж: Shooter.\n",
    "5.\tСледует учитывать регион продаж:\n",
    "\n",
    "   •\tдля пользователей из Северной Америки и Европы – предпочтительны платформы PS4 и XOne, жанры Shooter, Action и Sports и игры с рейтингом M\n",
    "   \n",
    "   •\tдля пользователей из Японии – предпочтительны платформы 3DS, жанры Role-Playing и Action и игры без рейтинга."
   ]
  },
  {
   "cell_type": "markdown",
   "metadata": {},
   "source": [
    "<div class=\"alert alert-block alert-warning\">\n",
    "<b>🔁Комментарий ревьюера:</b> \n",
    "    \n",
    "Неплохой резюмирующий вывод, но он должен быть немного подробнее и содержать в себе кроме полезной информации по результатам исследования, еще и краткую информацию о том, какая работа была проделана  на этапе предобработки. Также нужно дать более конкретные рекомендации отделу маркетинга для проведения рекламной кампании в 2017 году. На какие платформы и жанры обратить внимание? Стоит ли учитывать оценки и рейтинги? \n",
    "    \n",
    "Человек, заинтересовавшийся твоим проектом, может сразу перейти к выводу, чтобы понять нужно ли ему углубляться в изучение исследования или нет.\n",
    "    \n",
    "    \n",
    "Хочу обратить твое внимание на то, что после исправления замечаний в некоторых пунктах исследования изменятся результаты, поэтому нужно будет подкорректировать выводы.\n",
    "</div>"
   ]
  },
  {
   "cell_type": "markdown",
   "metadata": {},
   "source": [
    "<div class=\"alert alert-block alert-info\">\n",
    "<b>Комментарий студента:</b> \n",
    "Выполнено.\n",
    "</div>"
   ]
  },
  {
   "cell_type": "markdown",
   "metadata": {},
   "source": [
    "<div class=\"alert alert-block alert-success\">\n",
    "<b>✅Комментарий ревьюера 2:</b> Отлично, исправлено!👍  </div>"
   ]
  }
 ],
 "metadata": {
  "ExecuteTimeLog": [
   {
    "duration": 47,
    "start_time": "2022-11-29T08:15:01.180Z"
   },
   {
    "duration": 392,
    "start_time": "2022-11-29T08:16:23.321Z"
   },
   {
    "duration": 91,
    "start_time": "2022-11-29T08:16:23.714Z"
   },
   {
    "duration": 11,
    "start_time": "2022-11-29T08:17:23.647Z"
   },
   {
    "duration": 19,
    "start_time": "2022-11-29T08:17:51.712Z"
   },
   {
    "duration": 361,
    "start_time": "2022-11-29T08:18:08.330Z"
   },
   {
    "duration": 47,
    "start_time": "2022-11-29T08:18:08.692Z"
   },
   {
    "duration": 20,
    "start_time": "2022-11-29T08:18:08.741Z"
   },
   {
    "duration": 1265,
    "start_time": "2022-11-29T08:19:24.818Z"
   },
   {
    "duration": 1101,
    "start_time": "2022-11-29T08:20:04.306Z"
   },
   {
    "duration": 55,
    "start_time": "2022-11-29T08:22:15.579Z"
   },
   {
    "duration": 25,
    "start_time": "2022-11-29T08:22:19.209Z"
   },
   {
    "duration": 995,
    "start_time": "2022-11-29T08:51:36.860Z"
   },
   {
    "duration": 710,
    "start_time": "2022-11-29T08:51:47.056Z"
   },
   {
    "duration": 28,
    "start_time": "2022-11-29T09:03:38.574Z"
   },
   {
    "duration": 356,
    "start_time": "2022-11-30T07:18:44.324Z"
   },
   {
    "duration": 108,
    "start_time": "2022-11-30T07:18:44.682Z"
   },
   {
    "duration": 49,
    "start_time": "2022-11-30T07:18:44.793Z"
   },
   {
    "duration": 17,
    "start_time": "2022-11-30T07:20:01.773Z"
   },
   {
    "duration": 75,
    "start_time": "2022-11-30T07:21:55.577Z"
   },
   {
    "duration": 8,
    "start_time": "2022-11-30T07:22:25.235Z"
   },
   {
    "duration": 15,
    "start_time": "2022-11-30T07:24:12.097Z"
   },
   {
    "duration": 7,
    "start_time": "2022-11-30T07:26:06.786Z"
   },
   {
    "duration": 5,
    "start_time": "2022-11-30T07:27:01.955Z"
   },
   {
    "duration": 11,
    "start_time": "2022-11-30T07:27:15.490Z"
   },
   {
    "duration": 7,
    "start_time": "2022-11-30T07:27:53.313Z"
   },
   {
    "duration": 8,
    "start_time": "2022-11-30T07:28:02.310Z"
   },
   {
    "duration": 8,
    "start_time": "2022-11-30T07:28:10.525Z"
   },
   {
    "duration": 8,
    "start_time": "2022-11-30T07:29:35.089Z"
   },
   {
    "duration": 9,
    "start_time": "2022-11-30T07:30:13.872Z"
   },
   {
    "duration": 10,
    "start_time": "2022-11-30T07:35:24.389Z"
   },
   {
    "duration": 10,
    "start_time": "2022-11-30T07:39:41.045Z"
   },
   {
    "duration": 55,
    "start_time": "2022-11-30T07:45:00.559Z"
   },
   {
    "duration": 28,
    "start_time": "2022-11-30T07:45:31.393Z"
   },
   {
    "duration": 23,
    "start_time": "2022-11-30T07:46:35.551Z"
   },
   {
    "duration": 33,
    "start_time": "2022-11-30T07:47:58.131Z"
   },
   {
    "duration": 60,
    "start_time": "2022-11-30T07:51:17.483Z"
   },
   {
    "duration": 34,
    "start_time": "2022-11-30T07:54:08.200Z"
   },
   {
    "duration": 3,
    "start_time": "2022-11-30T07:54:14.859Z"
   },
   {
    "duration": 11,
    "start_time": "2022-11-30T07:57:12.824Z"
   },
   {
    "duration": 6,
    "start_time": "2022-11-30T08:00:04.026Z"
   },
   {
    "duration": 35,
    "start_time": "2022-11-30T08:01:01.282Z"
   },
   {
    "duration": 33,
    "start_time": "2022-11-30T08:01:06.830Z"
   },
   {
    "duration": 407,
    "start_time": "2022-11-30T08:01:17.888Z"
   },
   {
    "duration": 62,
    "start_time": "2022-11-30T08:01:18.297Z"
   },
   {
    "duration": 39,
    "start_time": "2022-11-30T08:01:18.361Z"
   },
   {
    "duration": 28,
    "start_time": "2022-11-30T08:01:18.403Z"
   },
   {
    "duration": 6,
    "start_time": "2022-11-30T08:01:18.433Z"
   },
   {
    "duration": 129,
    "start_time": "2022-11-30T08:08:47.642Z"
   },
   {
    "duration": 34,
    "start_time": "2022-11-30T08:08:58.969Z"
   },
   {
    "duration": 35,
    "start_time": "2022-11-30T08:09:01.621Z"
   },
   {
    "duration": 6,
    "start_time": "2022-11-30T08:09:04.983Z"
   },
   {
    "duration": 2,
    "start_time": "2022-11-30T08:10:08.500Z"
   },
   {
    "duration": 37,
    "start_time": "2022-11-30T08:12:24.468Z"
   },
   {
    "duration": 36,
    "start_time": "2022-11-30T08:12:37.349Z"
   },
   {
    "duration": 915,
    "start_time": "2022-11-30T08:12:51.902Z"
   },
   {
    "duration": 374,
    "start_time": "2022-11-30T08:13:09.804Z"
   },
   {
    "duration": 54,
    "start_time": "2022-11-30T08:13:10.179Z"
   },
   {
    "duration": 40,
    "start_time": "2022-11-30T08:13:10.235Z"
   },
   {
    "duration": 34,
    "start_time": "2022-11-30T08:13:10.277Z"
   },
   {
    "duration": 847,
    "start_time": "2022-11-30T08:13:10.313Z"
   },
   {
    "duration": 0,
    "start_time": "2022-11-30T08:13:11.162Z"
   },
   {
    "duration": 910,
    "start_time": "2022-11-30T08:14:06.244Z"
   },
   {
    "duration": 6,
    "start_time": "2022-11-30T08:14:07.397Z"
   },
   {
    "duration": 75,
    "start_time": "2022-11-30T08:16:24.070Z"
   },
   {
    "duration": 4,
    "start_time": "2022-11-30T08:16:26.638Z"
   },
   {
    "duration": 34,
    "start_time": "2022-11-30T08:16:33.691Z"
   },
   {
    "duration": 4,
    "start_time": "2022-11-30T08:16:35.157Z"
   },
   {
    "duration": 4,
    "start_time": "2022-11-30T08:17:56.886Z"
   },
   {
    "duration": 4,
    "start_time": "2022-11-30T08:18:02.928Z"
   },
   {
    "duration": 20,
    "start_time": "2022-11-30T08:18:29.725Z"
   },
   {
    "duration": 8,
    "start_time": "2022-11-30T08:20:37.121Z"
   },
   {
    "duration": 496,
    "start_time": "2022-11-30T08:22:06.738Z"
   },
   {
    "duration": 2,
    "start_time": "2022-11-30T08:27:05.707Z"
   },
   {
    "duration": 119,
    "start_time": "2022-11-30T08:28:22.737Z"
   },
   {
    "duration": 171,
    "start_time": "2022-11-30T08:28:30.710Z"
   },
   {
    "duration": 120,
    "start_time": "2022-11-30T08:28:46.536Z"
   },
   {
    "duration": 8,
    "start_time": "2022-11-30T08:28:50.842Z"
   },
   {
    "duration": 12,
    "start_time": "2022-11-30T08:29:21.743Z"
   },
   {
    "duration": 7,
    "start_time": "2022-11-30T08:29:46.230Z"
   },
   {
    "duration": 33,
    "start_time": "2022-11-30T08:33:07.298Z"
   },
   {
    "duration": 5,
    "start_time": "2022-11-30T08:33:08.359Z"
   },
   {
    "duration": 12,
    "start_time": "2022-11-30T08:34:04.917Z"
   },
   {
    "duration": 34,
    "start_time": "2022-11-30T08:35:45.576Z"
   },
   {
    "duration": 412,
    "start_time": "2022-11-30T08:36:13.162Z"
   },
   {
    "duration": 51,
    "start_time": "2022-11-30T08:36:13.576Z"
   },
   {
    "duration": 36,
    "start_time": "2022-11-30T08:36:13.629Z"
   },
   {
    "duration": 82,
    "start_time": "2022-11-30T08:36:13.667Z"
   },
   {
    "duration": 0,
    "start_time": "2022-11-30T08:36:13.751Z"
   },
   {
    "duration": 0,
    "start_time": "2022-11-30T08:36:13.752Z"
   },
   {
    "duration": 0,
    "start_time": "2022-11-30T08:36:13.753Z"
   },
   {
    "duration": 0,
    "start_time": "2022-11-30T08:36:13.754Z"
   },
   {
    "duration": 38,
    "start_time": "2022-11-30T08:37:17.977Z"
   },
   {
    "duration": 8,
    "start_time": "2022-11-30T08:37:19.912Z"
   },
   {
    "duration": 31,
    "start_time": "2022-11-30T08:39:10.237Z"
   },
   {
    "duration": 32,
    "start_time": "2022-11-30T08:40:34.856Z"
   },
   {
    "duration": 29,
    "start_time": "2022-11-30T08:42:43.182Z"
   },
   {
    "duration": 5,
    "start_time": "2022-11-30T08:42:44.240Z"
   },
   {
    "duration": 368,
    "start_time": "2022-11-30T08:42:51.002Z"
   },
   {
    "duration": 51,
    "start_time": "2022-11-30T08:42:51.372Z"
   },
   {
    "duration": 33,
    "start_time": "2022-11-30T08:42:51.425Z"
   },
   {
    "duration": 85,
    "start_time": "2022-11-30T08:42:51.460Z"
   },
   {
    "duration": 0,
    "start_time": "2022-11-30T08:42:51.547Z"
   },
   {
    "duration": 0,
    "start_time": "2022-11-30T08:42:51.549Z"
   },
   {
    "duration": 0,
    "start_time": "2022-11-30T08:42:51.550Z"
   },
   {
    "duration": 0,
    "start_time": "2022-11-30T08:42:51.552Z"
   },
   {
    "duration": 26,
    "start_time": "2022-11-30T08:43:00.513Z"
   },
   {
    "duration": 393,
    "start_time": "2022-11-30T08:48:52.744Z"
   },
   {
    "duration": 52,
    "start_time": "2022-11-30T08:48:53.139Z"
   },
   {
    "duration": 36,
    "start_time": "2022-11-30T08:48:53.192Z"
   },
   {
    "duration": 99,
    "start_time": "2022-11-30T08:48:53.230Z"
   },
   {
    "duration": 0,
    "start_time": "2022-11-30T08:48:53.331Z"
   },
   {
    "duration": 0,
    "start_time": "2022-11-30T08:48:53.332Z"
   },
   {
    "duration": 1,
    "start_time": "2022-11-30T08:48:53.333Z"
   },
   {
    "duration": 0,
    "start_time": "2022-11-30T08:48:53.335Z"
   },
   {
    "duration": 51,
    "start_time": "2022-11-30T18:08:35.438Z"
   },
   {
    "duration": 392,
    "start_time": "2022-11-30T18:08:43.815Z"
   },
   {
    "duration": 108,
    "start_time": "2022-11-30T18:08:44.209Z"
   },
   {
    "duration": 40,
    "start_time": "2022-11-30T18:08:44.319Z"
   },
   {
    "duration": 23,
    "start_time": "2022-11-30T18:08:44.361Z"
   },
   {
    "duration": 14,
    "start_time": "2022-11-30T18:08:44.386Z"
   },
   {
    "duration": 71,
    "start_time": "2022-11-30T18:08:44.401Z"
   },
   {
    "duration": 0,
    "start_time": "2022-11-30T18:08:44.473Z"
   },
   {
    "duration": 0,
    "start_time": "2022-11-30T18:08:44.474Z"
   },
   {
    "duration": 7,
    "start_time": "2022-11-30T18:09:20.904Z"
   },
   {
    "duration": 608,
    "start_time": "2022-11-30T18:09:53.177Z"
   },
   {
    "duration": 187,
    "start_time": "2022-11-30T18:10:31.862Z"
   },
   {
    "duration": 193,
    "start_time": "2022-11-30T18:11:54.917Z"
   },
   {
    "duration": 240,
    "start_time": "2022-11-30T18:12:00.410Z"
   },
   {
    "duration": 32,
    "start_time": "2022-11-30T18:19:39.299Z"
   },
   {
    "duration": 431,
    "start_time": "2022-11-30T18:19:54.869Z"
   },
   {
    "duration": 53,
    "start_time": "2022-11-30T18:19:55.302Z"
   },
   {
    "duration": 38,
    "start_time": "2022-11-30T18:19:55.357Z"
   },
   {
    "duration": 23,
    "start_time": "2022-11-30T18:19:55.396Z"
   },
   {
    "duration": 5,
    "start_time": "2022-11-30T18:19:55.421Z"
   },
   {
    "duration": 443,
    "start_time": "2022-11-30T18:19:55.427Z"
   },
   {
    "duration": 100,
    "start_time": "2022-11-30T18:19:55.872Z"
   },
   {
    "duration": 0,
    "start_time": "2022-11-30T18:19:55.973Z"
   },
   {
    "duration": 264,
    "start_time": "2022-11-30T18:21:34.924Z"
   },
   {
    "duration": 12,
    "start_time": "2022-11-30T18:22:39.855Z"
   },
   {
    "duration": 5,
    "start_time": "2022-11-30T18:23:26.783Z"
   },
   {
    "duration": 4,
    "start_time": "2022-11-30T18:23:30.409Z"
   },
   {
    "duration": 3,
    "start_time": "2022-11-30T18:24:02.988Z"
   },
   {
    "duration": 3,
    "start_time": "2022-11-30T18:24:14.785Z"
   },
   {
    "duration": 18,
    "start_time": "2022-11-30T18:29:48.507Z"
   },
   {
    "duration": 63,
    "start_time": "2022-11-30T18:30:37.288Z"
   },
   {
    "duration": 238,
    "start_time": "2022-11-30T18:30:44.598Z"
   },
   {
    "duration": 20,
    "start_time": "2022-11-30T18:31:30.847Z"
   },
   {
    "duration": 21,
    "start_time": "2022-11-30T18:32:04.143Z"
   },
   {
    "duration": 389,
    "start_time": "2022-11-30T18:32:34.463Z"
   },
   {
    "duration": 15,
    "start_time": "2022-11-30T18:32:58.756Z"
   },
   {
    "duration": 16,
    "start_time": "2022-11-30T18:33:43.427Z"
   },
   {
    "duration": 16,
    "start_time": "2022-11-30T18:34:27.798Z"
   },
   {
    "duration": 17,
    "start_time": "2022-11-30T18:38:05.398Z"
   },
   {
    "duration": 702,
    "start_time": "2022-11-30T18:48:06.144Z"
   },
   {
    "duration": 27453,
    "start_time": "2022-11-30T18:48:26.660Z"
   },
   {
    "duration": 5,
    "start_time": "2022-11-30T18:49:25.899Z"
   },
   {
    "duration": 27134,
    "start_time": "2022-11-30T18:49:37.663Z"
   },
   {
    "duration": 780,
    "start_time": "2022-11-30T18:50:14.477Z"
   },
   {
    "duration": 839,
    "start_time": "2022-11-30T18:50:26.076Z"
   },
   {
    "duration": 775,
    "start_time": "2022-11-30T18:50:46.913Z"
   },
   {
    "duration": 11,
    "start_time": "2022-11-30T18:55:33.150Z"
   },
   {
    "duration": 16,
    "start_time": "2022-11-30T18:56:27.302Z"
   },
   {
    "duration": 387,
    "start_time": "2022-11-30T18:57:30.918Z"
   },
   {
    "duration": 420,
    "start_time": "2022-11-30T19:01:58.969Z"
   },
   {
    "duration": 54,
    "start_time": "2022-11-30T19:01:59.391Z"
   },
   {
    "duration": 38,
    "start_time": "2022-11-30T19:01:59.447Z"
   },
   {
    "duration": 25,
    "start_time": "2022-11-30T19:01:59.487Z"
   },
   {
    "duration": 40,
    "start_time": "2022-11-30T19:01:59.514Z"
   },
   {
    "duration": 479,
    "start_time": "2022-11-30T19:01:59.555Z"
   },
   {
    "duration": 19,
    "start_time": "2022-11-30T19:02:00.035Z"
   },
   {
    "duration": 54194,
    "start_time": "2022-11-30T19:02:00.055Z"
   },
   {
    "duration": 2,
    "start_time": "2022-11-30T19:02:54.251Z"
   },
   {
    "duration": 89,
    "start_time": "2022-11-30T19:03:38.800Z"
   },
   {
    "duration": 141,
    "start_time": "2022-11-30T19:07:57.472Z"
   },
   {
    "duration": 128,
    "start_time": "2022-11-30T19:08:44.120Z"
   },
   {
    "duration": 296,
    "start_time": "2022-11-30T19:09:18.094Z"
   },
   {
    "duration": 274,
    "start_time": "2022-11-30T19:10:44.474Z"
   },
   {
    "duration": 278,
    "start_time": "2022-11-30T19:12:36.314Z"
   },
   {
    "duration": 26,
    "start_time": "2022-11-30T19:13:05.939Z"
   },
   {
    "duration": 9,
    "start_time": "2022-11-30T19:17:43.354Z"
   },
   {
    "duration": 10,
    "start_time": "2022-11-30T19:17:58.833Z"
   },
   {
    "duration": 3,
    "start_time": "2022-11-30T19:19:45.502Z"
   },
   {
    "duration": 13,
    "start_time": "2022-11-30T19:25:07.538Z"
   },
   {
    "duration": 57239,
    "start_time": "2022-11-30T19:25:59.018Z"
   },
   {
    "duration": 57614,
    "start_time": "2022-11-30T19:27:01.843Z"
   },
   {
    "duration": 447,
    "start_time": "2022-12-03T08:04:56.727Z"
   },
   {
    "duration": 199,
    "start_time": "2022-12-03T08:04:57.176Z"
   },
   {
    "duration": 37,
    "start_time": "2022-12-03T08:04:57.377Z"
   },
   {
    "duration": 23,
    "start_time": "2022-12-03T08:04:57.416Z"
   },
   {
    "duration": 5,
    "start_time": "2022-12-03T08:04:57.441Z"
   },
   {
    "duration": 592,
    "start_time": "2022-12-03T08:04:57.448Z"
   },
   {
    "duration": 21,
    "start_time": "2022-12-03T08:04:58.042Z"
   },
   {
    "duration": 303,
    "start_time": "2022-12-03T08:04:58.064Z"
   },
   {
    "duration": 413,
    "start_time": "2022-12-03T08:05:53.395Z"
   },
   {
    "duration": 53,
    "start_time": "2022-12-03T08:05:53.810Z"
   },
   {
    "duration": 38,
    "start_time": "2022-12-03T08:05:53.864Z"
   },
   {
    "duration": 27,
    "start_time": "2022-12-03T08:05:53.904Z"
   },
   {
    "duration": 6,
    "start_time": "2022-12-03T08:05:53.933Z"
   },
   {
    "duration": 503,
    "start_time": "2022-12-03T08:05:53.941Z"
   },
   {
    "duration": 17,
    "start_time": "2022-12-03T08:05:54.446Z"
   },
   {
    "duration": 288,
    "start_time": "2022-12-03T08:05:54.465Z"
   },
   {
    "duration": 398,
    "start_time": "2022-12-03T08:06:47.347Z"
   },
   {
    "duration": 61,
    "start_time": "2022-12-03T08:06:47.748Z"
   },
   {
    "duration": 53,
    "start_time": "2022-12-03T08:06:47.811Z"
   },
   {
    "duration": 50,
    "start_time": "2022-12-03T08:06:47.867Z"
   },
   {
    "duration": 6,
    "start_time": "2022-12-03T08:06:47.919Z"
   },
   {
    "duration": 447,
    "start_time": "2022-12-03T08:06:47.926Z"
   },
   {
    "duration": 16,
    "start_time": "2022-12-03T08:06:48.375Z"
   },
   {
    "duration": 299,
    "start_time": "2022-12-03T08:06:48.393Z"
   },
   {
    "duration": 55202,
    "start_time": "2022-12-03T08:06:48.694Z"
   },
   {
    "duration": 3,
    "start_time": "2022-12-03T08:07:43.897Z"
   },
   {
    "duration": 25,
    "start_time": "2022-12-03T08:07:43.901Z"
   },
   {
    "duration": 13,
    "start_time": "2022-12-03T08:07:43.928Z"
   },
   {
    "duration": 13,
    "start_time": "2022-12-03T08:07:43.942Z"
   },
   {
    "duration": 23,
    "start_time": "2022-12-03T08:07:43.958Z"
   },
   {
    "duration": 18,
    "start_time": "2022-12-03T08:07:43.983Z"
   },
   {
    "duration": 18,
    "start_time": "2022-12-03T08:07:44.004Z"
   },
   {
    "duration": 64,
    "start_time": "2022-12-03T08:13:26.246Z"
   },
   {
    "duration": 3509,
    "start_time": "2022-12-03T08:13:37.122Z"
   },
   {
    "duration": 83,
    "start_time": "2022-12-03T08:14:26.694Z"
   },
   {
    "duration": 401,
    "start_time": "2022-12-03T08:14:46.333Z"
   },
   {
    "duration": 53,
    "start_time": "2022-12-03T08:14:46.736Z"
   },
   {
    "duration": 38,
    "start_time": "2022-12-03T08:14:46.790Z"
   },
   {
    "duration": 24,
    "start_time": "2022-12-03T08:14:46.830Z"
   },
   {
    "duration": 5,
    "start_time": "2022-12-03T08:14:46.857Z"
   },
   {
    "duration": 442,
    "start_time": "2022-12-03T08:14:46.864Z"
   },
   {
    "duration": 25,
    "start_time": "2022-12-03T08:14:47.308Z"
   },
   {
    "duration": 91,
    "start_time": "2022-12-03T08:14:47.335Z"
   },
   {
    "duration": 0,
    "start_time": "2022-12-03T08:14:47.428Z"
   },
   {
    "duration": 0,
    "start_time": "2022-12-03T08:14:47.429Z"
   },
   {
    "duration": 0,
    "start_time": "2022-12-03T08:14:47.430Z"
   },
   {
    "duration": 0,
    "start_time": "2022-12-03T08:14:47.431Z"
   },
   {
    "duration": 0,
    "start_time": "2022-12-03T08:14:47.432Z"
   },
   {
    "duration": 0,
    "start_time": "2022-12-03T08:14:47.434Z"
   },
   {
    "duration": 0,
    "start_time": "2022-12-03T08:14:47.435Z"
   },
   {
    "duration": 0,
    "start_time": "2022-12-03T08:14:47.436Z"
   },
   {
    "duration": 72,
    "start_time": "2022-12-03T08:21:07.618Z"
   },
   {
    "duration": 130,
    "start_time": "2022-12-03T08:21:31.608Z"
   },
   {
    "duration": 73,
    "start_time": "2022-12-03T08:21:39.635Z"
   },
   {
    "duration": 1200,
    "start_time": "2022-12-03T08:21:53.807Z"
   },
   {
    "duration": 23,
    "start_time": "2022-12-03T08:28:06.656Z"
   },
   {
    "duration": 27,
    "start_time": "2022-12-03T08:28:55.789Z"
   },
   {
    "duration": 20,
    "start_time": "2022-12-03T08:29:13.679Z"
   },
   {
    "duration": 3763,
    "start_time": "2022-12-03T08:29:37.312Z"
   },
   {
    "duration": 27,
    "start_time": "2022-12-03T08:30:33.945Z"
   },
   {
    "duration": 1118,
    "start_time": "2022-12-03T08:33:38.849Z"
   },
   {
    "duration": 1155,
    "start_time": "2022-12-03T08:34:26.745Z"
   },
   {
    "duration": 14,
    "start_time": "2022-12-03T08:35:10.353Z"
   },
   {
    "duration": 14,
    "start_time": "2022-12-03T08:36:41.746Z"
   },
   {
    "duration": 17,
    "start_time": "2022-12-03T08:37:27.711Z"
   },
   {
    "duration": 2,
    "start_time": "2022-12-03T08:39:05.133Z"
   },
   {
    "duration": 640,
    "start_time": "2022-12-03T08:39:10.846Z"
   },
   {
    "duration": 51,
    "start_time": "2022-12-03T08:39:11.488Z"
   },
   {
    "duration": 34,
    "start_time": "2022-12-03T08:39:11.541Z"
   },
   {
    "duration": 47,
    "start_time": "2022-12-03T08:39:11.576Z"
   },
   {
    "duration": 6,
    "start_time": "2022-12-03T08:39:11.625Z"
   },
   {
    "duration": 90,
    "start_time": "2022-12-03T08:39:11.633Z"
   },
   {
    "duration": 0,
    "start_time": "2022-12-03T08:39:11.725Z"
   },
   {
    "duration": 0,
    "start_time": "2022-12-03T08:39:11.727Z"
   },
   {
    "duration": 0,
    "start_time": "2022-12-03T08:39:11.728Z"
   },
   {
    "duration": 0,
    "start_time": "2022-12-03T08:39:11.730Z"
   },
   {
    "duration": 0,
    "start_time": "2022-12-03T08:39:11.730Z"
   },
   {
    "duration": 0,
    "start_time": "2022-12-03T08:39:11.732Z"
   },
   {
    "duration": 0,
    "start_time": "2022-12-03T08:39:11.733Z"
   },
   {
    "duration": 0,
    "start_time": "2022-12-03T08:39:11.734Z"
   },
   {
    "duration": 0,
    "start_time": "2022-12-03T08:39:11.735Z"
   },
   {
    "duration": 0,
    "start_time": "2022-12-03T08:39:11.736Z"
   },
   {
    "duration": 188,
    "start_time": "2022-12-03T08:40:39.235Z"
   },
   {
    "duration": 14,
    "start_time": "2022-12-03T08:40:51.885Z"
   },
   {
    "duration": 131,
    "start_time": "2022-12-03T08:42:16.513Z"
   },
   {
    "duration": 95,
    "start_time": "2022-12-03T08:42:27.301Z"
   },
   {
    "duration": 618,
    "start_time": "2022-12-03T08:42:38.660Z"
   },
   {
    "duration": 56,
    "start_time": "2022-12-03T08:42:39.280Z"
   },
   {
    "duration": 36,
    "start_time": "2022-12-03T08:42:39.337Z"
   },
   {
    "duration": 24,
    "start_time": "2022-12-03T08:42:39.375Z"
   },
   {
    "duration": 25,
    "start_time": "2022-12-03T08:42:39.401Z"
   },
   {
    "duration": 171,
    "start_time": "2022-12-03T08:42:39.427Z"
   },
   {
    "duration": 0,
    "start_time": "2022-12-03T08:42:39.600Z"
   },
   {
    "duration": 0,
    "start_time": "2022-12-03T08:42:39.601Z"
   },
   {
    "duration": 0,
    "start_time": "2022-12-03T08:42:39.602Z"
   },
   {
    "duration": 0,
    "start_time": "2022-12-03T08:42:39.603Z"
   },
   {
    "duration": 0,
    "start_time": "2022-12-03T08:42:39.605Z"
   },
   {
    "duration": 0,
    "start_time": "2022-12-03T08:42:39.605Z"
   },
   {
    "duration": 0,
    "start_time": "2022-12-03T08:42:39.622Z"
   },
   {
    "duration": 0,
    "start_time": "2022-12-03T08:42:39.623Z"
   },
   {
    "duration": 0,
    "start_time": "2022-12-03T08:42:39.624Z"
   },
   {
    "duration": 0,
    "start_time": "2022-12-03T08:42:39.625Z"
   },
   {
    "duration": 15,
    "start_time": "2022-12-03T08:43:48.791Z"
   },
   {
    "duration": 21,
    "start_time": "2022-12-03T08:44:42.460Z"
   },
   {
    "duration": 25,
    "start_time": "2022-12-03T08:46:34.787Z"
   },
   {
    "duration": 26,
    "start_time": "2022-12-03T08:46:48.897Z"
   },
   {
    "duration": 18,
    "start_time": "2022-12-03T08:55:40.579Z"
   },
   {
    "duration": 11,
    "start_time": "2022-12-03T08:57:03.531Z"
   },
   {
    "duration": 27,
    "start_time": "2022-12-03T09:06:04.965Z"
   },
   {
    "duration": 642,
    "start_time": "2022-12-03T09:06:25.270Z"
   },
   {
    "duration": 60,
    "start_time": "2022-12-03T09:06:25.914Z"
   },
   {
    "duration": 37,
    "start_time": "2022-12-03T09:06:25.976Z"
   },
   {
    "duration": 32,
    "start_time": "2022-12-03T09:06:26.014Z"
   },
   {
    "duration": 10,
    "start_time": "2022-12-03T09:06:26.048Z"
   },
   {
    "duration": 19,
    "start_time": "2022-12-03T09:06:26.059Z"
   },
   {
    "duration": 16,
    "start_time": "2022-12-03T09:06:26.080Z"
   },
   {
    "duration": 26,
    "start_time": "2022-12-03T09:06:26.097Z"
   },
   {
    "duration": 1299,
    "start_time": "2022-12-03T09:06:26.125Z"
   },
   {
    "duration": 0,
    "start_time": "2022-12-03T09:06:27.426Z"
   },
   {
    "duration": 0,
    "start_time": "2022-12-03T09:06:27.428Z"
   },
   {
    "duration": 0,
    "start_time": "2022-12-03T09:06:27.429Z"
   },
   {
    "duration": 0,
    "start_time": "2022-12-03T09:06:27.430Z"
   },
   {
    "duration": 0,
    "start_time": "2022-12-03T09:06:27.432Z"
   },
   {
    "duration": 0,
    "start_time": "2022-12-03T09:06:27.433Z"
   },
   {
    "duration": 0,
    "start_time": "2022-12-03T09:06:27.434Z"
   },
   {
    "duration": 0,
    "start_time": "2022-12-03T09:06:27.435Z"
   },
   {
    "duration": 2,
    "start_time": "2022-12-03T09:06:47.892Z"
   },
   {
    "duration": 656,
    "start_time": "2022-12-03T09:07:00.257Z"
   },
   {
    "duration": 55,
    "start_time": "2022-12-03T09:07:00.915Z"
   },
   {
    "duration": 44,
    "start_time": "2022-12-03T09:07:00.972Z"
   },
   {
    "duration": 28,
    "start_time": "2022-12-03T09:07:01.018Z"
   },
   {
    "duration": 7,
    "start_time": "2022-12-03T09:07:01.048Z"
   },
   {
    "duration": 46,
    "start_time": "2022-12-03T09:07:01.057Z"
   },
   {
    "duration": 19,
    "start_time": "2022-12-03T09:07:01.105Z"
   },
   {
    "duration": 12,
    "start_time": "2022-12-03T09:07:01.126Z"
   },
   {
    "duration": 23,
    "start_time": "2022-12-03T09:07:01.140Z"
   },
   {
    "duration": 679,
    "start_time": "2022-12-03T09:07:36.895Z"
   },
   {
    "duration": 52,
    "start_time": "2022-12-03T09:07:37.576Z"
   },
   {
    "duration": 36,
    "start_time": "2022-12-03T09:07:37.630Z"
   },
   {
    "duration": 29,
    "start_time": "2022-12-03T09:07:37.668Z"
   },
   {
    "duration": 7,
    "start_time": "2022-12-03T09:07:37.700Z"
   },
   {
    "duration": 28,
    "start_time": "2022-12-03T09:07:37.723Z"
   },
   {
    "duration": 25,
    "start_time": "2022-12-03T09:07:37.753Z"
   },
   {
    "duration": 14,
    "start_time": "2022-12-03T09:07:37.780Z"
   },
   {
    "duration": 19,
    "start_time": "2022-12-03T09:07:37.795Z"
   },
   {
    "duration": 26,
    "start_time": "2022-12-03T09:07:37.823Z"
   },
   {
    "duration": 120,
    "start_time": "2022-12-03T09:07:37.851Z"
   },
   {
    "duration": 0,
    "start_time": "2022-12-03T09:07:37.972Z"
   },
   {
    "duration": 0,
    "start_time": "2022-12-03T09:07:37.973Z"
   },
   {
    "duration": 0,
    "start_time": "2022-12-03T09:07:37.974Z"
   },
   {
    "duration": 0,
    "start_time": "2022-12-03T09:07:37.975Z"
   },
   {
    "duration": 0,
    "start_time": "2022-12-03T09:07:37.977Z"
   },
   {
    "duration": 0,
    "start_time": "2022-12-03T09:07:37.978Z"
   },
   {
    "duration": 23,
    "start_time": "2022-12-03T09:08:48.051Z"
   },
   {
    "duration": 736,
    "start_time": "2022-12-03T09:08:53.618Z"
   },
   {
    "duration": 53,
    "start_time": "2022-12-03T09:08:54.356Z"
   },
   {
    "duration": 37,
    "start_time": "2022-12-03T09:08:54.411Z"
   },
   {
    "duration": 27,
    "start_time": "2022-12-03T09:08:54.450Z"
   },
   {
    "duration": 6,
    "start_time": "2022-12-03T09:08:54.479Z"
   },
   {
    "duration": 40,
    "start_time": "2022-12-03T09:08:54.487Z"
   },
   {
    "duration": 16,
    "start_time": "2022-12-03T09:08:54.529Z"
   },
   {
    "duration": 11,
    "start_time": "2022-12-03T09:08:54.547Z"
   },
   {
    "duration": 3,
    "start_time": "2022-12-03T09:08:54.560Z"
   },
   {
    "duration": 6,
    "start_time": "2022-12-03T09:08:54.565Z"
   },
   {
    "duration": 126,
    "start_time": "2022-12-03T09:08:54.573Z"
   },
   {
    "duration": 0,
    "start_time": "2022-12-03T09:08:54.701Z"
   },
   {
    "duration": 0,
    "start_time": "2022-12-03T09:08:54.702Z"
   },
   {
    "duration": 0,
    "start_time": "2022-12-03T09:08:54.703Z"
   },
   {
    "duration": 0,
    "start_time": "2022-12-03T09:08:54.705Z"
   },
   {
    "duration": 0,
    "start_time": "2022-12-03T09:08:54.706Z"
   },
   {
    "duration": 0,
    "start_time": "2022-12-03T09:08:54.707Z"
   },
   {
    "duration": 20,
    "start_time": "2022-12-03T09:13:58.463Z"
   },
   {
    "duration": 3,
    "start_time": "2022-12-03T09:14:09.613Z"
   },
   {
    "duration": 17,
    "start_time": "2022-12-03T09:14:20.556Z"
   },
   {
    "duration": 671,
    "start_time": "2022-12-03T09:14:25.585Z"
   },
   {
    "duration": 53,
    "start_time": "2022-12-03T09:14:26.258Z"
   },
   {
    "duration": 35,
    "start_time": "2022-12-03T09:14:26.314Z"
   },
   {
    "duration": 25,
    "start_time": "2022-12-03T09:14:26.351Z"
   },
   {
    "duration": 5,
    "start_time": "2022-12-03T09:14:26.378Z"
   },
   {
    "duration": 37,
    "start_time": "2022-12-03T09:14:26.385Z"
   },
   {
    "duration": 18,
    "start_time": "2022-12-03T09:14:26.424Z"
   },
   {
    "duration": 10,
    "start_time": "2022-12-03T09:14:26.444Z"
   },
   {
    "duration": 3,
    "start_time": "2022-12-03T09:14:26.456Z"
   },
   {
    "duration": 7,
    "start_time": "2022-12-03T09:14:26.460Z"
   },
   {
    "duration": 14,
    "start_time": "2022-12-03T09:14:26.468Z"
   },
   {
    "duration": 5,
    "start_time": "2022-12-03T09:14:26.484Z"
   },
   {
    "duration": 31,
    "start_time": "2022-12-03T09:14:26.491Z"
   },
   {
    "duration": 8,
    "start_time": "2022-12-03T09:14:26.525Z"
   },
   {
    "duration": 9,
    "start_time": "2022-12-03T09:14:26.535Z"
   },
   {
    "duration": 4,
    "start_time": "2022-12-03T09:14:26.546Z"
   },
   {
    "duration": 5,
    "start_time": "2022-12-03T09:14:26.552Z"
   },
   {
    "duration": 92,
    "start_time": "2022-12-03T09:14:26.559Z"
   },
   {
    "duration": 13,
    "start_time": "2022-12-03T09:14:40.412Z"
   },
   {
    "duration": 20,
    "start_time": "2022-12-03T09:15:44.759Z"
   },
   {
    "duration": 14,
    "start_time": "2022-12-03T09:15:51.020Z"
   },
   {
    "duration": 20,
    "start_time": "2022-12-03T09:17:20.051Z"
   },
   {
    "duration": 19,
    "start_time": "2022-12-03T09:18:39.612Z"
   },
   {
    "duration": 87,
    "start_time": "2022-12-03T09:21:10.953Z"
   },
   {
    "duration": 1172,
    "start_time": "2022-12-03T09:21:38.233Z"
   },
   {
    "duration": 652,
    "start_time": "2022-12-03T09:21:58.191Z"
   },
   {
    "duration": 52,
    "start_time": "2022-12-03T09:21:58.845Z"
   },
   {
    "duration": 33,
    "start_time": "2022-12-03T09:21:58.899Z"
   },
   {
    "duration": 24,
    "start_time": "2022-12-03T09:21:58.934Z"
   },
   {
    "duration": 5,
    "start_time": "2022-12-03T09:21:58.960Z"
   },
   {
    "duration": 13,
    "start_time": "2022-12-03T09:21:58.967Z"
   },
   {
    "duration": 16,
    "start_time": "2022-12-03T09:21:58.982Z"
   },
   {
    "duration": 12,
    "start_time": "2022-12-03T09:21:59.022Z"
   },
   {
    "duration": 3,
    "start_time": "2022-12-03T09:21:59.037Z"
   },
   {
    "duration": 6,
    "start_time": "2022-12-03T09:21:59.041Z"
   },
   {
    "duration": 5,
    "start_time": "2022-12-03T09:21:59.049Z"
   },
   {
    "duration": 4,
    "start_time": "2022-12-03T09:21:59.056Z"
   },
   {
    "duration": 7,
    "start_time": "2022-12-03T09:21:59.062Z"
   },
   {
    "duration": 3,
    "start_time": "2022-12-03T09:21:59.073Z"
   },
   {
    "duration": 7,
    "start_time": "2022-12-03T09:21:59.078Z"
   },
   {
    "duration": 6,
    "start_time": "2022-12-03T09:21:59.087Z"
   },
   {
    "duration": 27,
    "start_time": "2022-12-03T09:21:59.095Z"
   },
   {
    "duration": 27,
    "start_time": "2022-12-03T09:21:59.124Z"
   },
   {
    "duration": 20,
    "start_time": "2022-12-03T09:21:59.153Z"
   },
   {
    "duration": 13,
    "start_time": "2022-12-03T09:21:59.175Z"
   },
   {
    "duration": 1415,
    "start_time": "2022-12-03T09:21:59.190Z"
   },
   {
    "duration": 1269,
    "start_time": "2022-12-03T09:22:34.766Z"
   },
   {
    "duration": 598,
    "start_time": "2022-12-03T09:22:40.759Z"
   },
   {
    "duration": 52,
    "start_time": "2022-12-03T09:22:41.359Z"
   },
   {
    "duration": 38,
    "start_time": "2022-12-03T09:22:41.413Z"
   },
   {
    "duration": 35,
    "start_time": "2022-12-03T09:22:41.453Z"
   },
   {
    "duration": 5,
    "start_time": "2022-12-03T09:22:41.491Z"
   },
   {
    "duration": 32,
    "start_time": "2022-12-03T09:22:41.498Z"
   },
   {
    "duration": 18,
    "start_time": "2022-12-03T09:22:41.532Z"
   },
   {
    "duration": 10,
    "start_time": "2022-12-03T09:22:41.552Z"
   },
   {
    "duration": 6,
    "start_time": "2022-12-03T09:22:41.564Z"
   },
   {
    "duration": 5,
    "start_time": "2022-12-03T09:22:41.572Z"
   },
   {
    "duration": 9,
    "start_time": "2022-12-03T09:22:41.579Z"
   },
   {
    "duration": 3,
    "start_time": "2022-12-03T09:22:41.622Z"
   },
   {
    "duration": 6,
    "start_time": "2022-12-03T09:22:41.626Z"
   },
   {
    "duration": 10,
    "start_time": "2022-12-03T09:22:41.634Z"
   },
   {
    "duration": 15,
    "start_time": "2022-12-03T09:22:41.646Z"
   },
   {
    "duration": 9,
    "start_time": "2022-12-03T09:22:41.663Z"
   },
   {
    "duration": 6,
    "start_time": "2022-12-03T09:22:41.674Z"
   },
   {
    "duration": 25,
    "start_time": "2022-12-03T09:22:41.681Z"
   },
   {
    "duration": 21,
    "start_time": "2022-12-03T09:22:41.707Z"
   },
   {
    "duration": 13,
    "start_time": "2022-12-03T09:22:41.729Z"
   },
   {
    "duration": 1312,
    "start_time": "2022-12-03T09:22:41.744Z"
   },
   {
    "duration": 15,
    "start_time": "2022-12-03T09:24:19.549Z"
   },
   {
    "duration": 15,
    "start_time": "2022-12-03T09:24:38.569Z"
   },
   {
    "duration": 15,
    "start_time": "2022-12-03T09:24:47.983Z"
   },
   {
    "duration": 1246,
    "start_time": "2022-12-03T09:25:09.888Z"
   },
   {
    "duration": 193,
    "start_time": "2022-12-03T09:25:25.867Z"
   },
   {
    "duration": 203,
    "start_time": "2022-12-03T09:25:57.560Z"
   },
   {
    "duration": 169,
    "start_time": "2022-12-03T09:26:05.604Z"
   },
   {
    "duration": 162,
    "start_time": "2022-12-03T09:26:09.484Z"
   },
   {
    "duration": 210,
    "start_time": "2022-12-03T09:26:19.264Z"
   },
   {
    "duration": 1256,
    "start_time": "2022-12-03T09:26:28.931Z"
   },
   {
    "duration": 164,
    "start_time": "2022-12-03T09:26:42.014Z"
   },
   {
    "duration": 1311,
    "start_time": "2022-12-03T09:26:57.395Z"
   },
   {
    "duration": 148,
    "start_time": "2022-12-03T09:27:10.601Z"
   },
   {
    "duration": 167,
    "start_time": "2022-12-03T09:27:20.764Z"
   },
   {
    "duration": 175,
    "start_time": "2022-12-03T09:27:26.441Z"
   },
   {
    "duration": 147,
    "start_time": "2022-12-03T09:27:42.693Z"
   },
   {
    "duration": 170,
    "start_time": "2022-12-03T09:27:57.180Z"
   },
   {
    "duration": 154,
    "start_time": "2022-12-03T09:28:02.736Z"
   },
   {
    "duration": 153,
    "start_time": "2022-12-03T09:28:07.892Z"
   },
   {
    "duration": 19,
    "start_time": "2022-12-03T09:30:31.140Z"
   },
   {
    "duration": 148,
    "start_time": "2022-12-03T09:30:40.506Z"
   },
   {
    "duration": 158,
    "start_time": "2022-12-03T09:30:51.319Z"
   },
   {
    "duration": 218,
    "start_time": "2022-12-03T09:32:23.122Z"
   },
   {
    "duration": 742,
    "start_time": "2022-12-03T15:10:25.933Z"
   },
   {
    "duration": 102,
    "start_time": "2022-12-03T15:10:26.678Z"
   },
   {
    "duration": 36,
    "start_time": "2022-12-03T15:10:26.782Z"
   },
   {
    "duration": 24,
    "start_time": "2022-12-03T15:10:26.819Z"
   },
   {
    "duration": 5,
    "start_time": "2022-12-03T15:10:26.845Z"
   },
   {
    "duration": 15,
    "start_time": "2022-12-03T15:10:26.851Z"
   },
   {
    "duration": 14,
    "start_time": "2022-12-03T15:10:26.868Z"
   },
   {
    "duration": 10,
    "start_time": "2022-12-03T15:10:26.883Z"
   },
   {
    "duration": 27,
    "start_time": "2022-12-03T15:10:26.894Z"
   },
   {
    "duration": 7,
    "start_time": "2022-12-03T15:10:26.922Z"
   },
   {
    "duration": 6,
    "start_time": "2022-12-03T15:10:26.930Z"
   },
   {
    "duration": 5,
    "start_time": "2022-12-03T15:10:26.937Z"
   },
   {
    "duration": 7,
    "start_time": "2022-12-03T15:10:26.944Z"
   },
   {
    "duration": 7,
    "start_time": "2022-12-03T15:10:26.953Z"
   },
   {
    "duration": 7,
    "start_time": "2022-12-03T15:10:26.962Z"
   },
   {
    "duration": 15,
    "start_time": "2022-12-03T15:10:26.970Z"
   },
   {
    "duration": 5,
    "start_time": "2022-12-03T15:10:26.986Z"
   },
   {
    "duration": 158,
    "start_time": "2022-12-03T15:10:26.993Z"
   },
   {
    "duration": 145,
    "start_time": "2022-12-03T15:10:27.152Z"
   },
   {
    "duration": 139,
    "start_time": "2022-12-03T15:10:27.299Z"
   },
   {
    "duration": 131,
    "start_time": "2022-12-03T15:10:27.440Z"
   },
   {
    "duration": 185,
    "start_time": "2022-12-03T15:10:27.572Z"
   },
   {
    "duration": 145,
    "start_time": "2022-12-03T15:10:27.758Z"
   },
   {
    "duration": 139,
    "start_time": "2022-12-03T15:10:27.905Z"
   },
   {
    "duration": 147,
    "start_time": "2022-12-03T15:11:48.476Z"
   },
   {
    "duration": 143,
    "start_time": "2022-12-03T15:12:19.043Z"
   },
   {
    "duration": 161,
    "start_time": "2022-12-03T15:13:06.494Z"
   },
   {
    "duration": 168,
    "start_time": "2022-12-03T15:13:22.802Z"
   },
   {
    "duration": 149,
    "start_time": "2022-12-03T15:13:36.015Z"
   },
   {
    "duration": 2,
    "start_time": "2022-12-03T15:15:15.164Z"
   },
   {
    "duration": 3,
    "start_time": "2022-12-03T15:35:02.360Z"
   },
   {
    "duration": 268,
    "start_time": "2022-12-03T15:47:33.356Z"
   },
   {
    "duration": 775,
    "start_time": "2022-12-03T15:48:22.975Z"
   },
   {
    "duration": 373,
    "start_time": "2022-12-03T15:48:34.182Z"
   },
   {
    "duration": 657,
    "start_time": "2022-12-03T15:48:58.543Z"
   },
   {
    "duration": 18,
    "start_time": "2022-12-03T15:49:10.743Z"
   },
   {
    "duration": 301,
    "start_time": "2022-12-03T15:49:16.899Z"
   },
   {
    "duration": 21,
    "start_time": "2022-12-03T15:50:03.070Z"
   },
   {
    "duration": 15,
    "start_time": "2022-12-03T15:54:53.237Z"
   },
   {
    "duration": 7,
    "start_time": "2022-12-03T16:01:02.580Z"
   },
   {
    "duration": 6,
    "start_time": "2022-12-03T16:01:27.930Z"
   },
   {
    "duration": 21,
    "start_time": "2022-12-03T16:02:03.233Z"
   },
   {
    "duration": 665,
    "start_time": "2022-12-03T16:02:22.710Z"
   },
   {
    "duration": 51,
    "start_time": "2022-12-03T16:02:23.377Z"
   },
   {
    "duration": 31,
    "start_time": "2022-12-03T16:02:23.430Z"
   },
   {
    "duration": 23,
    "start_time": "2022-12-03T16:02:23.463Z"
   },
   {
    "duration": 5,
    "start_time": "2022-12-03T16:02:23.488Z"
   },
   {
    "duration": 346,
    "start_time": "2022-12-03T16:02:23.494Z"
   },
   {
    "duration": 281,
    "start_time": "2022-12-03T16:02:23.841Z"
   },
   {
    "duration": 16,
    "start_time": "2022-12-03T16:02:24.124Z"
   },
   {
    "duration": 52,
    "start_time": "2022-12-03T16:02:24.142Z"
   },
   {
    "duration": 0,
    "start_time": "2022-12-03T16:02:24.196Z"
   },
   {
    "duration": 0,
    "start_time": "2022-12-03T16:02:24.197Z"
   },
   {
    "duration": 0,
    "start_time": "2022-12-03T16:02:24.198Z"
   },
   {
    "duration": 0,
    "start_time": "2022-12-03T16:02:24.199Z"
   },
   {
    "duration": 0,
    "start_time": "2022-12-03T16:02:24.200Z"
   },
   {
    "duration": 0,
    "start_time": "2022-12-03T16:02:24.202Z"
   },
   {
    "duration": 0,
    "start_time": "2022-12-03T16:02:24.203Z"
   },
   {
    "duration": 0,
    "start_time": "2022-12-03T16:02:24.204Z"
   },
   {
    "duration": 0,
    "start_time": "2022-12-03T16:02:24.205Z"
   },
   {
    "duration": 0,
    "start_time": "2022-12-03T16:02:24.205Z"
   },
   {
    "duration": 0,
    "start_time": "2022-12-03T16:02:24.208Z"
   },
   {
    "duration": 0,
    "start_time": "2022-12-03T16:02:24.259Z"
   },
   {
    "duration": 0,
    "start_time": "2022-12-03T16:02:24.261Z"
   },
   {
    "duration": 0,
    "start_time": "2022-12-03T16:02:24.262Z"
   },
   {
    "duration": 0,
    "start_time": "2022-12-03T16:02:24.263Z"
   },
   {
    "duration": 0,
    "start_time": "2022-12-03T16:02:24.264Z"
   },
   {
    "duration": 0,
    "start_time": "2022-12-03T16:02:24.265Z"
   },
   {
    "duration": 2,
    "start_time": "2022-12-03T16:02:52.095Z"
   },
   {
    "duration": 612,
    "start_time": "2022-12-03T16:02:58.539Z"
   },
   {
    "duration": 55,
    "start_time": "2022-12-03T16:02:59.154Z"
   },
   {
    "duration": 32,
    "start_time": "2022-12-03T16:02:59.210Z"
   },
   {
    "duration": 24,
    "start_time": "2022-12-03T16:02:59.244Z"
   },
   {
    "duration": 6,
    "start_time": "2022-12-03T16:02:59.269Z"
   },
   {
    "duration": 341,
    "start_time": "2022-12-03T16:02:59.276Z"
   },
   {
    "duration": 283,
    "start_time": "2022-12-03T16:02:59.618Z"
   },
   {
    "duration": 25,
    "start_time": "2022-12-03T16:02:59.905Z"
   },
   {
    "duration": 3,
    "start_time": "2022-12-03T16:02:59.932Z"
   },
   {
    "duration": 19,
    "start_time": "2022-12-03T16:02:59.938Z"
   },
   {
    "duration": 75,
    "start_time": "2022-12-03T16:02:59.959Z"
   },
   {
    "duration": 2,
    "start_time": "2022-12-03T16:03:00.036Z"
   },
   {
    "duration": 129,
    "start_time": "2022-12-03T16:03:00.040Z"
   },
   {
    "duration": 0,
    "start_time": "2022-12-03T16:03:00.171Z"
   },
   {
    "duration": 0,
    "start_time": "2022-12-03T16:03:00.172Z"
   },
   {
    "duration": 0,
    "start_time": "2022-12-03T16:03:00.173Z"
   },
   {
    "duration": 0,
    "start_time": "2022-12-03T16:03:00.174Z"
   },
   {
    "duration": 0,
    "start_time": "2022-12-03T16:03:00.175Z"
   },
   {
    "duration": 0,
    "start_time": "2022-12-03T16:03:00.176Z"
   },
   {
    "duration": 0,
    "start_time": "2022-12-03T16:03:00.177Z"
   },
   {
    "duration": 0,
    "start_time": "2022-12-03T16:03:00.178Z"
   },
   {
    "duration": 0,
    "start_time": "2022-12-03T16:03:00.180Z"
   },
   {
    "duration": 0,
    "start_time": "2022-12-03T16:03:00.181Z"
   },
   {
    "duration": 0,
    "start_time": "2022-12-03T16:03:00.183Z"
   },
   {
    "duration": 0,
    "start_time": "2022-12-03T16:03:00.184Z"
   },
   {
    "duration": 0,
    "start_time": "2022-12-03T16:03:00.185Z"
   },
   {
    "duration": 20,
    "start_time": "2022-12-03T16:03:29.431Z"
   },
   {
    "duration": 670,
    "start_time": "2022-12-03T16:03:49.394Z"
   },
   {
    "duration": 680,
    "start_time": "2022-12-03T16:03:58.240Z"
   },
   {
    "duration": 21,
    "start_time": "2022-12-03T16:04:11.920Z"
   },
   {
    "duration": 16,
    "start_time": "2022-12-03T16:04:23.926Z"
   },
   {
    "duration": 25,
    "start_time": "2022-12-03T16:04:36.343Z"
   },
   {
    "duration": 12,
    "start_time": "2022-12-03T16:07:17.794Z"
   },
   {
    "duration": 11,
    "start_time": "2022-12-03T16:07:40.856Z"
   },
   {
    "duration": 11,
    "start_time": "2022-12-03T16:08:10.771Z"
   },
   {
    "duration": 17,
    "start_time": "2022-12-03T16:11:34.670Z"
   },
   {
    "duration": 17,
    "start_time": "2022-12-03T16:11:46.436Z"
   },
   {
    "duration": 11,
    "start_time": "2022-12-03T16:11:51.379Z"
   },
   {
    "duration": 774,
    "start_time": "2022-12-03T16:14:45.791Z"
   },
   {
    "duration": 550,
    "start_time": "2022-12-03T16:14:56.581Z"
   },
   {
    "duration": 49,
    "start_time": "2022-12-03T16:14:57.133Z"
   },
   {
    "duration": 31,
    "start_time": "2022-12-03T16:14:57.184Z"
   },
   {
    "duration": 24,
    "start_time": "2022-12-03T16:14:57.216Z"
   },
   {
    "duration": 5,
    "start_time": "2022-12-03T16:14:57.242Z"
   },
   {
    "duration": 321,
    "start_time": "2022-12-03T16:14:57.248Z"
   },
   {
    "duration": 276,
    "start_time": "2022-12-03T16:14:57.570Z"
   },
   {
    "duration": 13,
    "start_time": "2022-12-03T16:14:57.848Z"
   },
   {
    "duration": 2,
    "start_time": "2022-12-03T16:14:57.863Z"
   },
   {
    "duration": 158,
    "start_time": "2022-12-03T16:14:57.867Z"
   },
   {
    "duration": 0,
    "start_time": "2022-12-03T16:14:58.027Z"
   },
   {
    "duration": 0,
    "start_time": "2022-12-03T16:14:58.029Z"
   },
   {
    "duration": 0,
    "start_time": "2022-12-03T16:14:58.030Z"
   },
   {
    "duration": 0,
    "start_time": "2022-12-03T16:14:58.031Z"
   },
   {
    "duration": 0,
    "start_time": "2022-12-03T16:14:58.032Z"
   },
   {
    "duration": 0,
    "start_time": "2022-12-03T16:14:58.033Z"
   },
   {
    "duration": 0,
    "start_time": "2022-12-03T16:14:58.034Z"
   },
   {
    "duration": 0,
    "start_time": "2022-12-03T16:14:58.036Z"
   },
   {
    "duration": 0,
    "start_time": "2022-12-03T16:14:58.036Z"
   },
   {
    "duration": 0,
    "start_time": "2022-12-03T16:14:58.037Z"
   },
   {
    "duration": 0,
    "start_time": "2022-12-03T16:14:58.039Z"
   },
   {
    "duration": 1,
    "start_time": "2022-12-03T16:14:58.039Z"
   },
   {
    "duration": 0,
    "start_time": "2022-12-03T16:14:58.041Z"
   },
   {
    "duration": 0,
    "start_time": "2022-12-03T16:14:58.042Z"
   },
   {
    "duration": 0,
    "start_time": "2022-12-03T16:14:58.043Z"
   },
   {
    "duration": 0,
    "start_time": "2022-12-03T16:14:58.044Z"
   },
   {
    "duration": 15,
    "start_time": "2022-12-03T16:19:08.325Z"
   },
   {
    "duration": 10,
    "start_time": "2022-12-03T16:19:35.995Z"
   },
   {
    "duration": 4,
    "start_time": "2022-12-03T16:21:41.488Z"
   },
   {
    "duration": 5,
    "start_time": "2022-12-03T16:24:03.824Z"
   },
   {
    "duration": 11,
    "start_time": "2022-12-03T16:24:10.880Z"
   },
   {
    "duration": 9,
    "start_time": "2022-12-03T16:25:04.185Z"
   },
   {
    "duration": 22,
    "start_time": "2022-12-03T16:25:06.601Z"
   },
   {
    "duration": 100740,
    "start_time": "2022-12-03T16:26:27.750Z"
   },
   {
    "duration": 156,
    "start_time": "2022-12-03T16:30:02.129Z"
   },
   {
    "duration": 390,
    "start_time": "2022-12-03T16:31:14.248Z"
   },
   {
    "duration": 22,
    "start_time": "2022-12-03T16:31:51.713Z"
   },
   {
    "duration": 650,
    "start_time": "2022-12-03T16:35:01.202Z"
   },
   {
    "duration": 186,
    "start_time": "2022-12-03T16:36:56.869Z"
   },
   {
    "duration": 46,
    "start_time": "2022-12-03T16:37:40.047Z"
   },
   {
    "duration": 183,
    "start_time": "2022-12-03T16:37:47.638Z"
   },
   {
    "duration": 757,
    "start_time": "2022-12-04T07:11:54.304Z"
   },
   {
    "duration": 128,
    "start_time": "2022-12-04T07:11:55.063Z"
   },
   {
    "duration": 50,
    "start_time": "2022-12-04T07:11:55.194Z"
   },
   {
    "duration": 30,
    "start_time": "2022-12-04T07:11:55.247Z"
   },
   {
    "duration": 6,
    "start_time": "2022-12-04T07:11:55.279Z"
   },
   {
    "duration": 347,
    "start_time": "2022-12-04T07:11:55.286Z"
   },
   {
    "duration": 304,
    "start_time": "2022-12-04T07:11:55.635Z"
   },
   {
    "duration": 9,
    "start_time": "2022-12-04T07:11:55.941Z"
   },
   {
    "duration": 245,
    "start_time": "2022-12-04T07:11:55.952Z"
   },
   {
    "duration": 89,
    "start_time": "2022-12-04T07:11:56.199Z"
   },
   {
    "duration": 0,
    "start_time": "2022-12-04T07:11:56.290Z"
   },
   {
    "duration": 0,
    "start_time": "2022-12-04T07:11:56.291Z"
   },
   {
    "duration": 0,
    "start_time": "2022-12-04T07:11:56.292Z"
   },
   {
    "duration": 0,
    "start_time": "2022-12-04T07:11:56.293Z"
   },
   {
    "duration": 0,
    "start_time": "2022-12-04T07:11:56.294Z"
   },
   {
    "duration": 0,
    "start_time": "2022-12-04T07:11:56.295Z"
   },
   {
    "duration": 0,
    "start_time": "2022-12-04T07:11:56.296Z"
   },
   {
    "duration": 0,
    "start_time": "2022-12-04T07:11:56.297Z"
   },
   {
    "duration": 0,
    "start_time": "2022-12-04T07:11:56.298Z"
   },
   {
    "duration": 0,
    "start_time": "2022-12-04T07:11:56.299Z"
   },
   {
    "duration": 0,
    "start_time": "2022-12-04T07:11:56.300Z"
   },
   {
    "duration": 0,
    "start_time": "2022-12-04T07:11:56.321Z"
   },
   {
    "duration": 0,
    "start_time": "2022-12-04T07:11:56.322Z"
   },
   {
    "duration": 0,
    "start_time": "2022-12-04T07:11:56.323Z"
   },
   {
    "duration": 11,
    "start_time": "2022-12-04T07:17:47.206Z"
   },
   {
    "duration": 14,
    "start_time": "2022-12-04T07:19:54.605Z"
   },
   {
    "duration": 209,
    "start_time": "2022-12-04T07:20:38.796Z"
   },
   {
    "duration": 618,
    "start_time": "2022-12-04T07:20:50.042Z"
   },
   {
    "duration": 51,
    "start_time": "2022-12-04T07:20:50.662Z"
   },
   {
    "duration": 34,
    "start_time": "2022-12-04T07:20:50.715Z"
   },
   {
    "duration": 27,
    "start_time": "2022-12-04T07:20:50.750Z"
   },
   {
    "duration": 6,
    "start_time": "2022-12-04T07:20:50.779Z"
   },
   {
    "duration": 378,
    "start_time": "2022-12-04T07:20:50.787Z"
   },
   {
    "duration": 330,
    "start_time": "2022-12-04T07:20:51.167Z"
   },
   {
    "duration": 12,
    "start_time": "2022-12-04T07:20:51.499Z"
   },
   {
    "duration": 261,
    "start_time": "2022-12-04T07:20:51.512Z"
   },
   {
    "duration": 16,
    "start_time": "2022-12-04T07:20:51.775Z"
   },
   {
    "duration": 17,
    "start_time": "2022-12-04T07:20:51.793Z"
   },
   {
    "duration": 28,
    "start_time": "2022-12-04T07:20:51.812Z"
   },
   {
    "duration": 11,
    "start_time": "2022-12-04T07:20:51.843Z"
   },
   {
    "duration": 11,
    "start_time": "2022-12-04T07:20:51.857Z"
   },
   {
    "duration": 7,
    "start_time": "2022-12-04T07:20:51.870Z"
   },
   {
    "duration": 194,
    "start_time": "2022-12-04T07:20:51.879Z"
   },
   {
    "duration": 168,
    "start_time": "2022-12-04T07:20:52.075Z"
   },
   {
    "duration": 225,
    "start_time": "2022-12-04T07:20:52.245Z"
   },
   {
    "duration": 192,
    "start_time": "2022-12-04T07:20:52.472Z"
   },
   {
    "duration": 195,
    "start_time": "2022-12-04T07:20:52.666Z"
   },
   {
    "duration": 167,
    "start_time": "2022-12-04T07:20:52.863Z"
   },
   {
    "duration": 135,
    "start_time": "2022-12-04T07:20:53.032Z"
   },
   {
    "duration": 147,
    "start_time": "2022-12-04T07:20:53.169Z"
   },
   {
    "duration": 143,
    "start_time": "2022-12-04T07:20:53.320Z"
   },
   {
    "duration": 6,
    "start_time": "2022-12-04T07:22:07.344Z"
   },
   {
    "duration": 311,
    "start_time": "2022-12-04T07:23:55.717Z"
   },
   {
    "duration": 58,
    "start_time": "2022-12-04T07:37:39.550Z"
   },
   {
    "duration": 244,
    "start_time": "2022-12-04T07:38:52.612Z"
   },
   {
    "duration": 103,
    "start_time": "2022-12-04T07:39:16.790Z"
   },
   {
    "duration": 103,
    "start_time": "2022-12-04T07:39:31.649Z"
   },
   {
    "duration": 610,
    "start_time": "2022-12-04T07:39:37.192Z"
   },
   {
    "duration": 51,
    "start_time": "2022-12-04T07:39:37.804Z"
   },
   {
    "duration": 31,
    "start_time": "2022-12-04T07:39:37.856Z"
   },
   {
    "duration": 21,
    "start_time": "2022-12-04T07:39:37.889Z"
   },
   {
    "duration": 12,
    "start_time": "2022-12-04T07:39:37.912Z"
   },
   {
    "duration": 332,
    "start_time": "2022-12-04T07:39:37.926Z"
   },
   {
    "duration": 274,
    "start_time": "2022-12-04T07:39:38.259Z"
   },
   {
    "duration": 10,
    "start_time": "2022-12-04T07:39:38.535Z"
   },
   {
    "duration": 244,
    "start_time": "2022-12-04T07:39:38.546Z"
   },
   {
    "duration": 7,
    "start_time": "2022-12-04T07:39:38.792Z"
   },
   {
    "duration": 295,
    "start_time": "2022-12-04T07:39:38.801Z"
   },
   {
    "duration": 168,
    "start_time": "2022-12-04T07:39:39.097Z"
   },
   {
    "duration": 0,
    "start_time": "2022-12-04T07:39:39.267Z"
   },
   {
    "duration": 0,
    "start_time": "2022-12-04T07:39:39.269Z"
   },
   {
    "duration": 0,
    "start_time": "2022-12-04T07:39:39.270Z"
   },
   {
    "duration": 0,
    "start_time": "2022-12-04T07:39:39.272Z"
   },
   {
    "duration": 0,
    "start_time": "2022-12-04T07:39:39.273Z"
   },
   {
    "duration": 0,
    "start_time": "2022-12-04T07:39:39.274Z"
   },
   {
    "duration": 0,
    "start_time": "2022-12-04T07:39:39.276Z"
   },
   {
    "duration": 0,
    "start_time": "2022-12-04T07:39:39.277Z"
   },
   {
    "duration": 0,
    "start_time": "2022-12-04T07:39:39.279Z"
   },
   {
    "duration": 0,
    "start_time": "2022-12-04T07:39:39.280Z"
   },
   {
    "duration": 0,
    "start_time": "2022-12-04T07:39:39.281Z"
   },
   {
    "duration": 0,
    "start_time": "2022-12-04T07:39:39.282Z"
   },
   {
    "duration": 191,
    "start_time": "2022-12-04T07:43:09.773Z"
   },
   {
    "duration": 79,
    "start_time": "2022-12-04T07:44:45.227Z"
   },
   {
    "duration": 92,
    "start_time": "2022-12-04T07:49:56.020Z"
   },
   {
    "duration": 212,
    "start_time": "2022-12-04T07:51:33.723Z"
   },
   {
    "duration": 185,
    "start_time": "2022-12-04T07:53:14.465Z"
   },
   {
    "duration": 839,
    "start_time": "2022-12-04T08:10:54.985Z"
   },
   {
    "duration": 149,
    "start_time": "2022-12-04T08:11:06.671Z"
   },
   {
    "duration": 820,
    "start_time": "2022-12-04T08:17:44.165Z"
   },
   {
    "duration": 944,
    "start_time": "2022-12-04T08:19:53.526Z"
   },
   {
    "duration": 850,
    "start_time": "2022-12-04T08:20:15.457Z"
   },
   {
    "duration": 635,
    "start_time": "2022-12-04T08:22:09.651Z"
   },
   {
    "duration": 666,
    "start_time": "2022-12-04T08:22:29.997Z"
   },
   {
    "duration": 685,
    "start_time": "2022-12-04T08:23:04.222Z"
   },
   {
    "duration": 773,
    "start_time": "2022-12-04T08:23:14.798Z"
   },
   {
    "duration": 751,
    "start_time": "2022-12-04T08:23:23.353Z"
   },
   {
    "duration": 709,
    "start_time": "2022-12-04T08:24:13.836Z"
   },
   {
    "duration": 752,
    "start_time": "2022-12-04T08:24:31.184Z"
   },
   {
    "duration": 858,
    "start_time": "2022-12-04T08:26:53.594Z"
   },
   {
    "duration": 686,
    "start_time": "2022-12-04T08:30:07.130Z"
   },
   {
    "duration": 776,
    "start_time": "2022-12-04T08:30:12.896Z"
   },
   {
    "duration": 210,
    "start_time": "2022-12-04T08:30:33.198Z"
   },
   {
    "duration": 749,
    "start_time": "2022-12-04T08:31:35.159Z"
   },
   {
    "duration": 584,
    "start_time": "2022-12-04T08:31:46.629Z"
   },
   {
    "duration": 50,
    "start_time": "2022-12-04T08:31:47.215Z"
   },
   {
    "duration": 30,
    "start_time": "2022-12-04T08:31:47.267Z"
   },
   {
    "duration": 22,
    "start_time": "2022-12-04T08:31:47.300Z"
   },
   {
    "duration": 24,
    "start_time": "2022-12-04T08:31:47.324Z"
   },
   {
    "duration": 334,
    "start_time": "2022-12-04T08:31:47.349Z"
   },
   {
    "duration": 267,
    "start_time": "2022-12-04T08:31:47.685Z"
   },
   {
    "duration": 9,
    "start_time": "2022-12-04T08:31:47.954Z"
   },
   {
    "duration": 236,
    "start_time": "2022-12-04T08:31:47.965Z"
   },
   {
    "duration": 6,
    "start_time": "2022-12-04T08:31:48.204Z"
   },
   {
    "duration": 304,
    "start_time": "2022-12-04T08:31:48.212Z"
   },
   {
    "duration": 209,
    "start_time": "2022-12-04T08:31:48.518Z"
   },
   {
    "duration": 6,
    "start_time": "2022-12-04T08:31:48.728Z"
   },
   {
    "duration": 736,
    "start_time": "2022-12-04T08:31:48.735Z"
   },
   {
    "duration": 214,
    "start_time": "2022-12-04T08:31:49.473Z"
   },
   {
    "duration": 0,
    "start_time": "2022-12-04T08:31:49.688Z"
   },
   {
    "duration": 0,
    "start_time": "2022-12-04T08:31:49.690Z"
   },
   {
    "duration": 0,
    "start_time": "2022-12-04T08:31:49.691Z"
   },
   {
    "duration": 0,
    "start_time": "2022-12-04T08:31:49.693Z"
   },
   {
    "duration": 0,
    "start_time": "2022-12-04T08:31:49.695Z"
   },
   {
    "duration": 0,
    "start_time": "2022-12-04T08:31:49.696Z"
   },
   {
    "duration": 0,
    "start_time": "2022-12-04T08:31:49.697Z"
   },
   {
    "duration": 0,
    "start_time": "2022-12-04T08:31:49.699Z"
   },
   {
    "duration": 0,
    "start_time": "2022-12-04T08:31:49.700Z"
   },
   {
    "duration": 0,
    "start_time": "2022-12-04T08:31:49.702Z"
   },
   {
    "duration": 0,
    "start_time": "2022-12-04T08:31:49.703Z"
   },
   {
    "duration": 5,
    "start_time": "2022-12-04T08:32:37.583Z"
   },
   {
    "duration": 704,
    "start_time": "2022-12-04T08:32:38.767Z"
   },
   {
    "duration": 139,
    "start_time": "2022-12-04T08:32:41.666Z"
   },
   {
    "duration": 150,
    "start_time": "2022-12-04T08:33:38.152Z"
   },
   {
    "duration": 151,
    "start_time": "2022-12-04T08:35:09.744Z"
   },
   {
    "duration": 596,
    "start_time": "2022-12-04T08:37:23.857Z"
   },
   {
    "duration": 52,
    "start_time": "2022-12-04T08:37:24.455Z"
   },
   {
    "duration": 32,
    "start_time": "2022-12-04T08:37:24.509Z"
   },
   {
    "duration": 24,
    "start_time": "2022-12-04T08:37:24.543Z"
   },
   {
    "duration": 22,
    "start_time": "2022-12-04T08:37:24.569Z"
   },
   {
    "duration": 340,
    "start_time": "2022-12-04T08:37:24.593Z"
   },
   {
    "duration": 306,
    "start_time": "2022-12-04T08:37:24.935Z"
   },
   {
    "duration": 11,
    "start_time": "2022-12-04T08:37:25.244Z"
   },
   {
    "duration": 260,
    "start_time": "2022-12-04T08:37:25.257Z"
   },
   {
    "duration": 7,
    "start_time": "2022-12-04T08:37:25.521Z"
   },
   {
    "duration": 315,
    "start_time": "2022-12-04T08:37:25.529Z"
   },
   {
    "duration": 199,
    "start_time": "2022-12-04T08:37:25.846Z"
   },
   {
    "duration": 5,
    "start_time": "2022-12-04T08:37:26.046Z"
   },
   {
    "duration": 764,
    "start_time": "2022-12-04T08:37:26.052Z"
   },
   {
    "duration": 214,
    "start_time": "2022-12-04T08:37:26.817Z"
   },
   {
    "duration": 0,
    "start_time": "2022-12-04T08:37:27.033Z"
   },
   {
    "duration": 0,
    "start_time": "2022-12-04T08:37:27.034Z"
   },
   {
    "duration": 0,
    "start_time": "2022-12-04T08:37:27.035Z"
   },
   {
    "duration": 0,
    "start_time": "2022-12-04T08:37:27.036Z"
   },
   {
    "duration": 0,
    "start_time": "2022-12-04T08:37:27.037Z"
   },
   {
    "duration": 0,
    "start_time": "2022-12-04T08:37:27.038Z"
   },
   {
    "duration": 0,
    "start_time": "2022-12-04T08:37:27.039Z"
   },
   {
    "duration": 0,
    "start_time": "2022-12-04T08:37:27.040Z"
   },
   {
    "duration": 0,
    "start_time": "2022-12-04T08:37:27.041Z"
   },
   {
    "duration": 0,
    "start_time": "2022-12-04T08:37:27.042Z"
   },
   {
    "duration": 0,
    "start_time": "2022-12-04T08:37:27.043Z"
   },
   {
    "duration": 151,
    "start_time": "2022-12-04T08:37:49.094Z"
   },
   {
    "duration": 176,
    "start_time": "2022-12-04T08:39:54.119Z"
   },
   {
    "duration": 158,
    "start_time": "2022-12-04T08:40:21.246Z"
   },
   {
    "duration": 564,
    "start_time": "2022-12-04T08:45:51.647Z"
   },
   {
    "duration": 57,
    "start_time": "2022-12-04T08:45:52.213Z"
   },
   {
    "duration": 31,
    "start_time": "2022-12-04T08:45:52.272Z"
   },
   {
    "duration": 23,
    "start_time": "2022-12-04T08:45:52.305Z"
   },
   {
    "duration": 19,
    "start_time": "2022-12-04T08:45:52.329Z"
   },
   {
    "duration": 353,
    "start_time": "2022-12-04T08:45:52.349Z"
   },
   {
    "duration": 297,
    "start_time": "2022-12-04T08:45:52.703Z"
   },
   {
    "duration": 9,
    "start_time": "2022-12-04T08:45:53.001Z"
   },
   {
    "duration": 271,
    "start_time": "2022-12-04T08:45:53.012Z"
   },
   {
    "duration": 7,
    "start_time": "2022-12-04T08:45:53.285Z"
   },
   {
    "duration": 283,
    "start_time": "2022-12-04T08:45:53.293Z"
   },
   {
    "duration": 194,
    "start_time": "2022-12-04T08:45:53.577Z"
   },
   {
    "duration": 6,
    "start_time": "2022-12-04T08:45:53.772Z"
   },
   {
    "duration": 717,
    "start_time": "2022-12-04T08:45:53.779Z"
   },
   {
    "duration": 235,
    "start_time": "2022-12-04T08:45:54.498Z"
   },
   {
    "duration": 0,
    "start_time": "2022-12-04T08:45:54.734Z"
   },
   {
    "duration": 0,
    "start_time": "2022-12-04T08:45:54.736Z"
   },
   {
    "duration": 0,
    "start_time": "2022-12-04T08:45:54.737Z"
   },
   {
    "duration": 0,
    "start_time": "2022-12-04T08:45:54.738Z"
   },
   {
    "duration": 0,
    "start_time": "2022-12-04T08:45:54.740Z"
   },
   {
    "duration": 0,
    "start_time": "2022-12-04T08:45:54.741Z"
   },
   {
    "duration": 0,
    "start_time": "2022-12-04T08:45:54.742Z"
   },
   {
    "duration": 0,
    "start_time": "2022-12-04T08:45:54.744Z"
   },
   {
    "duration": 0,
    "start_time": "2022-12-04T08:45:54.745Z"
   },
   {
    "duration": 0,
    "start_time": "2022-12-04T08:45:54.746Z"
   },
   {
    "duration": 0,
    "start_time": "2022-12-04T08:45:54.747Z"
   },
   {
    "duration": 0,
    "start_time": "2022-12-04T08:45:54.748Z"
   },
   {
    "duration": 0,
    "start_time": "2022-12-04T08:45:54.750Z"
   },
   {
    "duration": 156,
    "start_time": "2022-12-04T08:46:20.492Z"
   },
   {
    "duration": 170,
    "start_time": "2022-12-04T08:50:00.883Z"
   },
   {
    "duration": 5,
    "start_time": "2022-12-04T08:50:33.426Z"
   },
   {
    "duration": 17,
    "start_time": "2022-12-04T08:54:42.380Z"
   },
   {
    "duration": 613,
    "start_time": "2022-12-04T08:54:58.907Z"
   },
   {
    "duration": 54,
    "start_time": "2022-12-04T08:54:59.522Z"
   },
   {
    "duration": 32,
    "start_time": "2022-12-04T08:54:59.577Z"
   },
   {
    "duration": 85,
    "start_time": "2022-12-04T08:54:59.611Z"
   },
   {
    "duration": 0,
    "start_time": "2022-12-04T08:54:59.698Z"
   },
   {
    "duration": 0,
    "start_time": "2022-12-04T08:54:59.699Z"
   },
   {
    "duration": 0,
    "start_time": "2022-12-04T08:54:59.700Z"
   },
   {
    "duration": 0,
    "start_time": "2022-12-04T08:54:59.701Z"
   },
   {
    "duration": 0,
    "start_time": "2022-12-04T08:54:59.702Z"
   },
   {
    "duration": 0,
    "start_time": "2022-12-04T08:54:59.703Z"
   },
   {
    "duration": 0,
    "start_time": "2022-12-04T08:54:59.704Z"
   },
   {
    "duration": 0,
    "start_time": "2022-12-04T08:54:59.721Z"
   },
   {
    "duration": 0,
    "start_time": "2022-12-04T08:54:59.722Z"
   },
   {
    "duration": 0,
    "start_time": "2022-12-04T08:54:59.723Z"
   },
   {
    "duration": 0,
    "start_time": "2022-12-04T08:54:59.724Z"
   },
   {
    "duration": 0,
    "start_time": "2022-12-04T08:54:59.725Z"
   },
   {
    "duration": 0,
    "start_time": "2022-12-04T08:54:59.726Z"
   },
   {
    "duration": 0,
    "start_time": "2022-12-04T08:54:59.727Z"
   },
   {
    "duration": 0,
    "start_time": "2022-12-04T08:54:59.728Z"
   },
   {
    "duration": 0,
    "start_time": "2022-12-04T08:54:59.729Z"
   },
   {
    "duration": 0,
    "start_time": "2022-12-04T08:54:59.730Z"
   },
   {
    "duration": 0,
    "start_time": "2022-12-04T08:54:59.731Z"
   },
   {
    "duration": 0,
    "start_time": "2022-12-04T08:54:59.732Z"
   },
   {
    "duration": 0,
    "start_time": "2022-12-04T08:54:59.734Z"
   },
   {
    "duration": 0,
    "start_time": "2022-12-04T08:54:59.735Z"
   },
   {
    "duration": 0,
    "start_time": "2022-12-04T08:54:59.735Z"
   },
   {
    "duration": 0,
    "start_time": "2022-12-04T08:54:59.736Z"
   },
   {
    "duration": 0,
    "start_time": "2022-12-04T08:54:59.737Z"
   },
   {
    "duration": 39,
    "start_time": "2022-12-04T08:55:51.649Z"
   },
   {
    "duration": 595,
    "start_time": "2022-12-04T08:56:06.402Z"
   },
   {
    "duration": 53,
    "start_time": "2022-12-04T08:56:06.998Z"
   },
   {
    "duration": 32,
    "start_time": "2022-12-04T08:56:07.055Z"
   },
   {
    "duration": 46,
    "start_time": "2022-12-04T08:56:07.088Z"
   },
   {
    "duration": 5,
    "start_time": "2022-12-04T08:56:07.136Z"
   },
   {
    "duration": 331,
    "start_time": "2022-12-04T08:56:07.142Z"
   },
   {
    "duration": 279,
    "start_time": "2022-12-04T08:56:07.475Z"
   },
   {
    "duration": 11,
    "start_time": "2022-12-04T08:56:07.756Z"
   },
   {
    "duration": 240,
    "start_time": "2022-12-04T08:56:07.769Z"
   },
   {
    "duration": 13,
    "start_time": "2022-12-04T08:56:08.010Z"
   },
   {
    "duration": 288,
    "start_time": "2022-12-04T08:56:08.024Z"
   },
   {
    "duration": 201,
    "start_time": "2022-12-04T08:56:08.313Z"
   },
   {
    "duration": 7,
    "start_time": "2022-12-04T08:56:08.516Z"
   },
   {
    "duration": 207,
    "start_time": "2022-12-04T08:56:08.524Z"
   },
   {
    "duration": 4,
    "start_time": "2022-12-04T08:56:08.733Z"
   },
   {
    "duration": 182,
    "start_time": "2022-12-04T08:56:08.739Z"
   },
   {
    "duration": 5,
    "start_time": "2022-12-04T08:56:08.922Z"
   },
   {
    "duration": 14,
    "start_time": "2022-12-04T08:56:08.929Z"
   },
   {
    "duration": 178,
    "start_time": "2022-12-04T08:56:08.945Z"
   },
   {
    "duration": 143,
    "start_time": "2022-12-04T08:56:09.125Z"
   },
   {
    "duration": 152,
    "start_time": "2022-12-04T08:56:09.270Z"
   },
   {
    "duration": 130,
    "start_time": "2022-12-04T08:56:09.424Z"
   },
   {
    "duration": 149,
    "start_time": "2022-12-04T08:56:09.555Z"
   },
   {
    "duration": 219,
    "start_time": "2022-12-04T08:56:09.706Z"
   },
   {
    "duration": 142,
    "start_time": "2022-12-04T08:56:09.926Z"
   },
   {
    "duration": 129,
    "start_time": "2022-12-04T08:56:10.070Z"
   },
   {
    "duration": 142,
    "start_time": "2022-12-04T08:56:10.201Z"
   },
   {
    "duration": 130,
    "start_time": "2022-12-04T08:56:10.345Z"
   },
   {
    "duration": 4,
    "start_time": "2022-12-04T08:56:30.365Z"
   },
   {
    "duration": 39,
    "start_time": "2022-12-04T09:13:38.643Z"
   },
   {
    "duration": 52,
    "start_time": "2022-12-05T07:10:07.769Z"
   },
   {
    "duration": 814,
    "start_time": "2022-12-05T07:10:15.315Z"
   },
   {
    "duration": 108,
    "start_time": "2022-12-05T07:10:16.131Z"
   },
   {
    "duration": 38,
    "start_time": "2022-12-05T07:10:16.241Z"
   },
   {
    "duration": 39,
    "start_time": "2022-12-05T07:10:16.281Z"
   },
   {
    "duration": 5,
    "start_time": "2022-12-05T07:10:16.323Z"
   },
   {
    "duration": 373,
    "start_time": "2022-12-05T07:10:16.330Z"
   },
   {
    "duration": 282,
    "start_time": "2022-12-05T07:10:16.705Z"
   },
   {
    "duration": 10,
    "start_time": "2022-12-05T07:10:16.989Z"
   },
   {
    "duration": 257,
    "start_time": "2022-12-05T07:10:17.000Z"
   },
   {
    "duration": 17,
    "start_time": "2022-12-05T07:10:17.259Z"
   },
   {
    "duration": 318,
    "start_time": "2022-12-05T07:10:17.279Z"
   },
   {
    "duration": 209,
    "start_time": "2022-12-05T07:10:17.599Z"
   },
   {
    "duration": 6,
    "start_time": "2022-12-05T07:10:17.810Z"
   },
   {
    "duration": 191,
    "start_time": "2022-12-05T07:10:17.820Z"
   },
   {
    "duration": 5,
    "start_time": "2022-12-05T07:10:18.013Z"
   },
   {
    "duration": 185,
    "start_time": "2022-12-05T07:10:18.020Z"
   },
   {
    "duration": 5,
    "start_time": "2022-12-05T07:10:18.206Z"
   },
   {
    "duration": 47,
    "start_time": "2022-12-05T07:10:18.213Z"
   },
   {
    "duration": 3,
    "start_time": "2022-12-05T07:10:18.277Z"
   },
   {
    "duration": 17,
    "start_time": "2022-12-05T07:10:18.281Z"
   },
   {
    "duration": 194,
    "start_time": "2022-12-05T07:10:18.300Z"
   },
   {
    "duration": 159,
    "start_time": "2022-12-05T07:10:18.496Z"
   },
   {
    "duration": 166,
    "start_time": "2022-12-05T07:10:18.657Z"
   },
   {
    "duration": 151,
    "start_time": "2022-12-05T07:10:18.825Z"
   },
   {
    "duration": 173,
    "start_time": "2022-12-05T07:10:18.978Z"
   },
   {
    "duration": 254,
    "start_time": "2022-12-05T07:10:19.153Z"
   },
   {
    "duration": 159,
    "start_time": "2022-12-05T07:10:19.409Z"
   },
   {
    "duration": 135,
    "start_time": "2022-12-05T07:10:19.576Z"
   },
   {
    "duration": 156,
    "start_time": "2022-12-05T07:10:19.713Z"
   },
   {
    "duration": 151,
    "start_time": "2022-12-05T07:10:19.870Z"
   },
   {
    "duration": 159,
    "start_time": "2022-12-05T07:10:33.417Z"
   },
   {
    "duration": 155,
    "start_time": "2022-12-05T07:10:47.940Z"
   },
   {
    "duration": 9,
    "start_time": "2022-12-05T07:15:22.247Z"
   },
   {
    "duration": 93,
    "start_time": "2022-12-05T07:15:24.210Z"
   },
   {
    "duration": 10,
    "start_time": "2022-12-05T07:15:56.782Z"
   },
   {
    "duration": 9,
    "start_time": "2022-12-05T07:16:19.333Z"
   },
   {
    "duration": 751,
    "start_time": "2022-12-05T07:16:20.472Z"
   },
   {
    "duration": 4,
    "start_time": "2022-12-05T07:20:01.820Z"
   },
   {
    "duration": 834,
    "start_time": "2022-12-05T07:20:04.210Z"
   },
   {
    "duration": 4,
    "start_time": "2022-12-05T07:21:13.977Z"
   },
   {
    "duration": 735,
    "start_time": "2022-12-05T07:21:16.545Z"
   },
   {
    "duration": 3,
    "start_time": "2022-12-05T07:21:28.139Z"
   },
   {
    "duration": 763,
    "start_time": "2022-12-05T07:21:30.553Z"
   },
   {
    "duration": 4,
    "start_time": "2022-12-05T07:21:55.117Z"
   },
   {
    "duration": 856,
    "start_time": "2022-12-05T07:21:56.117Z"
   },
   {
    "duration": 4,
    "start_time": "2022-12-05T07:22:19.986Z"
   },
   {
    "duration": 734,
    "start_time": "2022-12-05T07:22:20.501Z"
   },
   {
    "duration": 3,
    "start_time": "2022-12-05T07:25:11.281Z"
   },
   {
    "duration": 782,
    "start_time": "2022-12-05T07:25:11.949Z"
   },
   {
    "duration": 920,
    "start_time": "2022-12-05T07:27:05.519Z"
   },
   {
    "duration": 828,
    "start_time": "2022-12-05T07:27:24.124Z"
   },
   {
    "duration": 137,
    "start_time": "2022-12-05T07:28:59.568Z"
   },
   {
    "duration": 13,
    "start_time": "2022-12-05T07:29:33.261Z"
   },
   {
    "duration": 1712,
    "start_time": "2022-12-05T07:30:51.464Z"
   },
   {
    "duration": 553,
    "start_time": "2022-12-05T07:39:12.715Z"
   },
   {
    "duration": 51,
    "start_time": "2022-12-05T07:39:13.269Z"
   },
   {
    "duration": 29,
    "start_time": "2022-12-05T07:39:13.322Z"
   },
   {
    "duration": 34,
    "start_time": "2022-12-05T07:39:13.353Z"
   },
   {
    "duration": 5,
    "start_time": "2022-12-05T07:39:13.388Z"
   },
   {
    "duration": 327,
    "start_time": "2022-12-05T07:39:13.395Z"
   },
   {
    "duration": 288,
    "start_time": "2022-12-05T07:39:13.724Z"
   },
   {
    "duration": 10,
    "start_time": "2022-12-05T07:39:14.015Z"
   },
   {
    "duration": 225,
    "start_time": "2022-12-05T07:39:14.027Z"
   },
   {
    "duration": 8,
    "start_time": "2022-12-05T07:39:14.253Z"
   },
   {
    "duration": 283,
    "start_time": "2022-12-05T07:39:14.262Z"
   },
   {
    "duration": 199,
    "start_time": "2022-12-05T07:39:14.547Z"
   },
   {
    "duration": 6,
    "start_time": "2022-12-05T07:39:14.748Z"
   },
   {
    "duration": 182,
    "start_time": "2022-12-05T07:39:14.757Z"
   },
   {
    "duration": 6,
    "start_time": "2022-12-05T07:39:14.941Z"
   },
   {
    "duration": 158,
    "start_time": "2022-12-05T07:39:14.948Z"
   },
   {
    "duration": 4,
    "start_time": "2022-12-05T07:39:15.107Z"
   },
   {
    "duration": 20,
    "start_time": "2022-12-05T07:39:15.113Z"
   },
   {
    "duration": 15,
    "start_time": "2022-12-05T07:39:15.135Z"
   },
   {
    "duration": 184,
    "start_time": "2022-12-05T07:39:15.152Z"
   },
   {
    "duration": 140,
    "start_time": "2022-12-05T07:39:15.338Z"
   },
   {
    "duration": 144,
    "start_time": "2022-12-05T07:39:15.479Z"
   },
   {
    "duration": 132,
    "start_time": "2022-12-05T07:39:15.625Z"
   },
   {
    "duration": 145,
    "start_time": "2022-12-05T07:39:15.758Z"
   },
   {
    "duration": 198,
    "start_time": "2022-12-05T07:39:15.904Z"
   },
   {
    "duration": 144,
    "start_time": "2022-12-05T07:39:16.104Z"
   },
   {
    "duration": 122,
    "start_time": "2022-12-05T07:39:16.250Z"
   },
   {
    "duration": 140,
    "start_time": "2022-12-05T07:39:16.373Z"
   },
   {
    "duration": 133,
    "start_time": "2022-12-05T07:39:16.515Z"
   },
   {
    "duration": 201,
    "start_time": "2022-12-05T07:40:13.304Z"
   },
   {
    "duration": 164,
    "start_time": "2022-12-05T07:40:23.775Z"
   },
   {
    "duration": 575,
    "start_time": "2022-12-05T07:40:34.629Z"
   },
   {
    "duration": 59,
    "start_time": "2022-12-05T07:40:35.207Z"
   },
   {
    "duration": 41,
    "start_time": "2022-12-05T07:40:35.268Z"
   },
   {
    "duration": 49,
    "start_time": "2022-12-05T07:40:35.312Z"
   },
   {
    "duration": 7,
    "start_time": "2022-12-05T07:40:35.377Z"
   },
   {
    "duration": 357,
    "start_time": "2022-12-05T07:40:35.385Z"
   },
   {
    "duration": 292,
    "start_time": "2022-12-05T07:40:35.744Z"
   },
   {
    "duration": 9,
    "start_time": "2022-12-05T07:40:36.038Z"
   },
   {
    "duration": 256,
    "start_time": "2022-12-05T07:40:36.049Z"
   },
   {
    "duration": 7,
    "start_time": "2022-12-05T07:40:36.308Z"
   },
   {
    "duration": 288,
    "start_time": "2022-12-05T07:40:36.317Z"
   },
   {
    "duration": 194,
    "start_time": "2022-12-05T07:40:36.607Z"
   },
   {
    "duration": 5,
    "start_time": "2022-12-05T07:40:36.803Z"
   },
   {
    "duration": 156,
    "start_time": "2022-12-05T07:40:36.809Z"
   },
   {
    "duration": 11,
    "start_time": "2022-12-05T07:40:36.967Z"
   },
   {
    "duration": 165,
    "start_time": "2022-12-05T07:40:36.980Z"
   },
   {
    "duration": 3,
    "start_time": "2022-12-05T07:40:37.147Z"
   },
   {
    "duration": 7,
    "start_time": "2022-12-05T07:40:37.152Z"
   },
   {
    "duration": 251,
    "start_time": "2022-12-05T07:40:37.161Z"
   },
   {
    "duration": 0,
    "start_time": "2022-12-05T07:40:37.414Z"
   },
   {
    "duration": 0,
    "start_time": "2022-12-05T07:40:37.415Z"
   },
   {
    "duration": 0,
    "start_time": "2022-12-05T07:40:37.416Z"
   },
   {
    "duration": 0,
    "start_time": "2022-12-05T07:40:37.417Z"
   },
   {
    "duration": 0,
    "start_time": "2022-12-05T07:40:37.418Z"
   },
   {
    "duration": 0,
    "start_time": "2022-12-05T07:40:37.419Z"
   },
   {
    "duration": 0,
    "start_time": "2022-12-05T07:40:37.420Z"
   },
   {
    "duration": 0,
    "start_time": "2022-12-05T07:40:37.421Z"
   },
   {
    "duration": 0,
    "start_time": "2022-12-05T07:40:37.422Z"
   },
   {
    "duration": 0,
    "start_time": "2022-12-05T07:40:37.423Z"
   },
   {
    "duration": 6,
    "start_time": "2022-12-05T07:40:54.816Z"
   },
   {
    "duration": 179,
    "start_time": "2022-12-05T07:40:57.152Z"
   },
   {
    "duration": 5,
    "start_time": "2022-12-05T07:41:24.822Z"
   },
   {
    "duration": 1820,
    "start_time": "2022-12-05T07:41:27.675Z"
   },
   {
    "duration": 553,
    "start_time": "2022-12-05T07:44:15.601Z"
   },
   {
    "duration": 50,
    "start_time": "2022-12-05T07:44:16.155Z"
   },
   {
    "duration": 32,
    "start_time": "2022-12-05T07:44:16.206Z"
   },
   {
    "duration": 39,
    "start_time": "2022-12-05T07:44:16.240Z"
   },
   {
    "duration": 5,
    "start_time": "2022-12-05T07:44:16.281Z"
   },
   {
    "duration": 316,
    "start_time": "2022-12-05T07:44:16.287Z"
   },
   {
    "duration": 270,
    "start_time": "2022-12-05T07:44:16.604Z"
   },
   {
    "duration": 9,
    "start_time": "2022-12-05T07:44:16.877Z"
   },
   {
    "duration": 218,
    "start_time": "2022-12-05T07:44:16.888Z"
   },
   {
    "duration": 6,
    "start_time": "2022-12-05T07:44:17.108Z"
   },
   {
    "duration": 281,
    "start_time": "2022-12-05T07:44:17.116Z"
   },
   {
    "duration": 201,
    "start_time": "2022-12-05T07:44:17.399Z"
   },
   {
    "duration": 5,
    "start_time": "2022-12-05T07:44:17.602Z"
   },
   {
    "duration": 151,
    "start_time": "2022-12-05T07:44:17.609Z"
   },
   {
    "duration": 4,
    "start_time": "2022-12-05T07:44:17.762Z"
   },
   {
    "duration": 157,
    "start_time": "2022-12-05T07:44:17.767Z"
   },
   {
    "duration": 4,
    "start_time": "2022-12-05T07:44:17.925Z"
   },
   {
    "duration": 16,
    "start_time": "2022-12-05T07:44:17.931Z"
   },
   {
    "duration": 1672,
    "start_time": "2022-12-05T07:44:17.948Z"
   },
   {
    "duration": 176,
    "start_time": "2022-12-05T07:44:19.621Z"
   },
   {
    "duration": 141,
    "start_time": "2022-12-05T07:44:19.799Z"
   },
   {
    "duration": 141,
    "start_time": "2022-12-05T07:44:19.941Z"
   },
   {
    "duration": 133,
    "start_time": "2022-12-05T07:44:20.083Z"
   },
   {
    "duration": 140,
    "start_time": "2022-12-05T07:44:20.217Z"
   },
   {
    "duration": 205,
    "start_time": "2022-12-05T07:44:20.359Z"
   },
   {
    "duration": 138,
    "start_time": "2022-12-05T07:44:20.566Z"
   },
   {
    "duration": 124,
    "start_time": "2022-12-05T07:44:20.706Z"
   },
   {
    "duration": 146,
    "start_time": "2022-12-05T07:44:20.832Z"
   },
   {
    "duration": 128,
    "start_time": "2022-12-05T07:44:20.980Z"
   },
   {
    "duration": 2,
    "start_time": "2022-12-05T07:52:49.317Z"
   },
   {
    "duration": 575,
    "start_time": "2022-12-05T07:52:54.633Z"
   },
   {
    "duration": 54,
    "start_time": "2022-12-05T07:52:55.210Z"
   },
   {
    "duration": 37,
    "start_time": "2022-12-05T07:52:55.265Z"
   },
   {
    "duration": 54,
    "start_time": "2022-12-05T07:52:55.305Z"
   },
   {
    "duration": 17,
    "start_time": "2022-12-05T07:52:55.361Z"
   },
   {
    "duration": 352,
    "start_time": "2022-12-05T07:52:55.379Z"
   },
   {
    "duration": 256,
    "start_time": "2022-12-05T07:52:55.733Z"
   },
   {
    "duration": 9,
    "start_time": "2022-12-05T07:52:55.990Z"
   },
   {
    "duration": 212,
    "start_time": "2022-12-05T07:52:56.000Z"
   },
   {
    "duration": 6,
    "start_time": "2022-12-05T07:52:56.215Z"
   },
   {
    "duration": 279,
    "start_time": "2022-12-05T07:52:56.222Z"
   },
   {
    "duration": 199,
    "start_time": "2022-12-05T07:52:56.503Z"
   },
   {
    "duration": 6,
    "start_time": "2022-12-05T07:52:56.703Z"
   },
   {
    "duration": 153,
    "start_time": "2022-12-05T07:52:56.710Z"
   },
   {
    "duration": 4,
    "start_time": "2022-12-05T07:52:56.865Z"
   },
   {
    "duration": 154,
    "start_time": "2022-12-05T07:52:56.876Z"
   },
   {
    "duration": 5,
    "start_time": "2022-12-05T07:52:57.031Z"
   },
   {
    "duration": 12,
    "start_time": "2022-12-05T07:52:57.038Z"
   },
   {
    "duration": 1641,
    "start_time": "2022-12-05T07:52:57.052Z"
   },
   {
    "duration": 171,
    "start_time": "2022-12-05T07:52:58.694Z"
   },
   {
    "duration": 144,
    "start_time": "2022-12-05T07:52:58.867Z"
   },
   {
    "duration": 146,
    "start_time": "2022-12-05T07:52:59.013Z"
   },
   {
    "duration": 146,
    "start_time": "2022-12-05T07:52:59.160Z"
   },
   {
    "duration": 160,
    "start_time": "2022-12-05T07:52:59.307Z"
   },
   {
    "duration": 216,
    "start_time": "2022-12-05T07:52:59.468Z"
   },
   {
    "duration": 142,
    "start_time": "2022-12-05T07:52:59.686Z"
   },
   {
    "duration": 126,
    "start_time": "2022-12-05T07:52:59.830Z"
   },
   {
    "duration": 138,
    "start_time": "2022-12-05T07:52:59.959Z"
   },
   {
    "duration": 128,
    "start_time": "2022-12-05T07:53:00.099Z"
   },
   {
    "duration": 400,
    "start_time": "2022-12-05T07:53:17.662Z"
   },
   {
    "duration": 1017,
    "start_time": "2022-12-05T07:53:23.492Z"
   },
   {
    "duration": 51,
    "start_time": "2022-12-05T07:53:24.510Z"
   },
   {
    "duration": 32,
    "start_time": "2022-12-05T07:53:24.562Z"
   },
   {
    "duration": 34,
    "start_time": "2022-12-05T07:53:24.596Z"
   },
   {
    "duration": 5,
    "start_time": "2022-12-05T07:53:24.632Z"
   },
   {
    "duration": 400,
    "start_time": "2022-12-05T07:53:24.638Z"
   },
   {
    "duration": 274,
    "start_time": "2022-12-05T07:53:25.040Z"
   },
   {
    "duration": 13,
    "start_time": "2022-12-05T07:53:25.316Z"
   },
   {
    "duration": 193,
    "start_time": "2022-12-05T07:53:25.332Z"
   },
   {
    "duration": 8,
    "start_time": "2022-12-05T07:53:25.527Z"
   },
   {
    "duration": 281,
    "start_time": "2022-12-05T07:53:25.536Z"
   },
   {
    "duration": 187,
    "start_time": "2022-12-05T07:53:25.818Z"
   },
   {
    "duration": 5,
    "start_time": "2022-12-05T07:53:26.006Z"
   },
   {
    "duration": 142,
    "start_time": "2022-12-05T07:53:26.013Z"
   },
   {
    "duration": 3,
    "start_time": "2022-12-05T07:53:26.158Z"
   },
   {
    "duration": 213,
    "start_time": "2022-12-05T07:53:26.163Z"
   },
   {
    "duration": 5,
    "start_time": "2022-12-05T07:53:26.377Z"
   },
   {
    "duration": 18,
    "start_time": "2022-12-05T07:53:26.383Z"
   },
   {
    "duration": 1587,
    "start_time": "2022-12-05T07:53:26.403Z"
   },
   {
    "duration": 244,
    "start_time": "2022-12-05T07:53:27.992Z"
   },
   {
    "duration": 143,
    "start_time": "2022-12-05T07:53:28.238Z"
   },
   {
    "duration": 144,
    "start_time": "2022-12-05T07:53:28.383Z"
   },
   {
    "duration": 126,
    "start_time": "2022-12-05T07:53:28.528Z"
   },
   {
    "duration": 140,
    "start_time": "2022-12-05T07:53:28.656Z"
   },
   {
    "duration": 142,
    "start_time": "2022-12-05T07:53:28.797Z"
   },
   {
    "duration": 146,
    "start_time": "2022-12-05T07:53:28.941Z"
   },
   {
    "duration": 124,
    "start_time": "2022-12-05T07:53:29.089Z"
   },
   {
    "duration": 136,
    "start_time": "2022-12-05T07:53:29.215Z"
   },
   {
    "duration": 125,
    "start_time": "2022-12-05T07:53:29.353Z"
   },
   {
    "duration": 273,
    "start_time": "2022-12-05T08:03:44.049Z"
   },
   {
    "duration": 1098,
    "start_time": "2022-12-05T08:04:07.262Z"
   },
   {
    "duration": 54,
    "start_time": "2022-12-05T08:04:08.362Z"
   },
   {
    "duration": 32,
    "start_time": "2022-12-05T08:04:08.417Z"
   },
   {
    "duration": 34,
    "start_time": "2022-12-05T08:04:08.451Z"
   },
   {
    "duration": 5,
    "start_time": "2022-12-05T08:04:08.487Z"
   },
   {
    "duration": 334,
    "start_time": "2022-12-05T08:04:08.493Z"
   },
   {
    "duration": 265,
    "start_time": "2022-12-05T08:04:08.828Z"
   },
   {
    "duration": 10,
    "start_time": "2022-12-05T08:04:09.095Z"
   },
   {
    "duration": 192,
    "start_time": "2022-12-05T08:04:09.107Z"
   },
   {
    "duration": 7,
    "start_time": "2022-12-05T08:04:09.301Z"
   },
   {
    "duration": 311,
    "start_time": "2022-12-05T08:04:09.310Z"
   },
   {
    "duration": 200,
    "start_time": "2022-12-05T08:04:09.623Z"
   },
   {
    "duration": 5,
    "start_time": "2022-12-05T08:04:09.825Z"
   },
   {
    "duration": 150,
    "start_time": "2022-12-05T08:04:09.833Z"
   },
   {
    "duration": 4,
    "start_time": "2022-12-05T08:04:09.984Z"
   },
   {
    "duration": 224,
    "start_time": "2022-12-05T08:04:09.989Z"
   },
   {
    "duration": 4,
    "start_time": "2022-12-05T08:04:10.214Z"
   },
   {
    "duration": 28,
    "start_time": "2022-12-05T08:04:10.219Z"
   },
   {
    "duration": 1557,
    "start_time": "2022-12-05T08:04:10.248Z"
   },
   {
    "duration": 240,
    "start_time": "2022-12-05T08:04:11.806Z"
   },
   {
    "duration": 145,
    "start_time": "2022-12-05T08:04:12.047Z"
   },
   {
    "duration": 144,
    "start_time": "2022-12-05T08:04:12.193Z"
   },
   {
    "duration": 127,
    "start_time": "2022-12-05T08:04:12.338Z"
   },
   {
    "duration": 152,
    "start_time": "2022-12-05T08:04:12.466Z"
   },
   {
    "duration": 157,
    "start_time": "2022-12-05T08:04:12.619Z"
   },
   {
    "duration": 144,
    "start_time": "2022-12-05T08:04:12.778Z"
   },
   {
    "duration": 131,
    "start_time": "2022-12-05T08:04:12.923Z"
   },
   {
    "duration": 155,
    "start_time": "2022-12-05T08:04:13.055Z"
   },
   {
    "duration": 134,
    "start_time": "2022-12-05T08:04:13.212Z"
   },
   {
    "duration": 321,
    "start_time": "2022-12-05T08:04:13.348Z"
   },
   {
    "duration": 7,
    "start_time": "2022-12-05T08:08:26.997Z"
   },
   {
    "duration": 9,
    "start_time": "2022-12-05T08:10:32.106Z"
   },
   {
    "duration": 9,
    "start_time": "2022-12-05T08:10:37.979Z"
   },
   {
    "duration": 9,
    "start_time": "2022-12-05T08:10:45.791Z"
   },
   {
    "duration": 10,
    "start_time": "2022-12-05T08:12:07.066Z"
   },
   {
    "duration": 11,
    "start_time": "2022-12-05T08:14:59.355Z"
   },
   {
    "duration": 1049,
    "start_time": "2022-12-05T08:15:06.897Z"
   },
   {
    "duration": 57,
    "start_time": "2022-12-05T08:15:07.950Z"
   },
   {
    "duration": 40,
    "start_time": "2022-12-05T08:15:08.008Z"
   },
   {
    "duration": 55,
    "start_time": "2022-12-05T08:15:08.049Z"
   },
   {
    "duration": 6,
    "start_time": "2022-12-05T08:15:08.107Z"
   },
   {
    "duration": 376,
    "start_time": "2022-12-05T08:15:08.114Z"
   },
   {
    "duration": 288,
    "start_time": "2022-12-05T08:15:08.492Z"
   },
   {
    "duration": 12,
    "start_time": "2022-12-05T08:15:08.781Z"
   },
   {
    "duration": 211,
    "start_time": "2022-12-05T08:15:08.794Z"
   },
   {
    "duration": 8,
    "start_time": "2022-12-05T08:15:09.007Z"
   },
   {
    "duration": 297,
    "start_time": "2022-12-05T08:15:09.016Z"
   },
   {
    "duration": 204,
    "start_time": "2022-12-05T08:15:09.315Z"
   },
   {
    "duration": 6,
    "start_time": "2022-12-05T08:15:09.532Z"
   },
   {
    "duration": 152,
    "start_time": "2022-12-05T08:15:09.540Z"
   },
   {
    "duration": 4,
    "start_time": "2022-12-05T08:15:09.694Z"
   },
   {
    "duration": 251,
    "start_time": "2022-12-05T08:15:09.700Z"
   },
   {
    "duration": 5,
    "start_time": "2022-12-05T08:15:09.953Z"
   },
   {
    "duration": 18,
    "start_time": "2022-12-05T08:15:09.960Z"
   },
   {
    "duration": 1648,
    "start_time": "2022-12-05T08:15:09.979Z"
   },
   {
    "duration": 267,
    "start_time": "2022-12-05T08:15:11.628Z"
   },
   {
    "duration": 146,
    "start_time": "2022-12-05T08:15:11.897Z"
   },
   {
    "duration": 142,
    "start_time": "2022-12-05T08:15:12.045Z"
   },
   {
    "duration": 132,
    "start_time": "2022-12-05T08:15:12.189Z"
   },
   {
    "duration": 156,
    "start_time": "2022-12-05T08:15:12.324Z"
   },
   {
    "duration": 154,
    "start_time": "2022-12-05T08:15:12.482Z"
   },
   {
    "duration": 162,
    "start_time": "2022-12-05T08:15:12.638Z"
   },
   {
    "duration": 138,
    "start_time": "2022-12-05T08:15:12.802Z"
   },
   {
    "duration": 151,
    "start_time": "2022-12-05T08:15:12.941Z"
   },
   {
    "duration": 129,
    "start_time": "2022-12-05T08:15:13.094Z"
   },
   {
    "duration": 12,
    "start_time": "2022-12-05T08:15:13.224Z"
   },
   {
    "duration": 10,
    "start_time": "2022-12-05T08:18:21.649Z"
   },
   {
    "duration": 11,
    "start_time": "2022-12-05T08:18:24.843Z"
   },
   {
    "duration": 9,
    "start_time": "2022-12-05T08:19:21.588Z"
   },
   {
    "duration": 9,
    "start_time": "2022-12-05T08:20:20.099Z"
   },
   {
    "duration": 7,
    "start_time": "2022-12-05T08:21:07.435Z"
   },
   {
    "duration": 7,
    "start_time": "2022-12-05T08:21:13.779Z"
   },
   {
    "duration": 47,
    "start_time": "2022-12-05T08:21:50.328Z"
   },
   {
    "duration": 6,
    "start_time": "2022-12-05T08:22:38.152Z"
   },
   {
    "duration": 7,
    "start_time": "2022-12-05T08:22:50.995Z"
   },
   {
    "duration": 7,
    "start_time": "2022-12-05T08:24:03.496Z"
   },
   {
    "duration": 5,
    "start_time": "2022-12-05T08:24:25.815Z"
   },
   {
    "duration": 7,
    "start_time": "2022-12-05T08:24:42.338Z"
   },
   {
    "duration": 9,
    "start_time": "2022-12-05T08:24:57.190Z"
   },
   {
    "duration": 114,
    "start_time": "2022-12-05T08:25:21.601Z"
   },
   {
    "duration": 5,
    "start_time": "2022-12-05T08:26:40.751Z"
   },
   {
    "duration": 7,
    "start_time": "2022-12-05T08:28:09.199Z"
   },
   {
    "duration": 7,
    "start_time": "2022-12-05T08:28:23.470Z"
   },
   {
    "duration": 13,
    "start_time": "2022-12-05T08:28:36.589Z"
   },
   {
    "duration": 1117,
    "start_time": "2022-12-05T08:28:46.863Z"
   },
   {
    "duration": 59,
    "start_time": "2022-12-05T08:28:47.982Z"
   },
   {
    "duration": 39,
    "start_time": "2022-12-05T08:28:48.043Z"
   },
   {
    "duration": 61,
    "start_time": "2022-12-05T08:28:48.084Z"
   },
   {
    "duration": 46,
    "start_time": "2022-12-05T08:28:48.147Z"
   },
   {
    "duration": 369,
    "start_time": "2022-12-05T08:28:48.195Z"
   },
   {
    "duration": 303,
    "start_time": "2022-12-05T08:28:48.565Z"
   },
   {
    "duration": 15,
    "start_time": "2022-12-05T08:28:48.870Z"
   },
   {
    "duration": 243,
    "start_time": "2022-12-05T08:28:48.887Z"
   },
   {
    "duration": 9,
    "start_time": "2022-12-05T08:28:49.133Z"
   },
   {
    "duration": 413,
    "start_time": "2022-12-05T08:28:49.144Z"
   },
   {
    "duration": 235,
    "start_time": "2022-12-05T08:28:49.560Z"
   },
   {
    "duration": 7,
    "start_time": "2022-12-05T08:28:49.796Z"
   },
   {
    "duration": 164,
    "start_time": "2022-12-05T08:28:49.804Z"
   },
   {
    "duration": 9,
    "start_time": "2022-12-05T08:28:49.970Z"
   },
   {
    "duration": 258,
    "start_time": "2022-12-05T08:28:49.980Z"
   },
   {
    "duration": 4,
    "start_time": "2022-12-05T08:28:50.240Z"
   },
   {
    "duration": 32,
    "start_time": "2022-12-05T08:28:50.245Z"
   },
   {
    "duration": 1828,
    "start_time": "2022-12-05T08:28:50.279Z"
   },
   {
    "duration": 300,
    "start_time": "2022-12-05T08:28:52.108Z"
   },
   {
    "duration": 171,
    "start_time": "2022-12-05T08:28:52.410Z"
   },
   {
    "duration": 169,
    "start_time": "2022-12-05T08:28:52.583Z"
   },
   {
    "duration": 153,
    "start_time": "2022-12-05T08:28:52.754Z"
   },
   {
    "duration": 181,
    "start_time": "2022-12-05T08:28:52.909Z"
   },
   {
    "duration": 172,
    "start_time": "2022-12-05T08:28:53.091Z"
   },
   {
    "duration": 163,
    "start_time": "2022-12-05T08:28:53.265Z"
   },
   {
    "duration": 157,
    "start_time": "2022-12-05T08:28:53.430Z"
   },
   {
    "duration": 166,
    "start_time": "2022-12-05T08:28:53.590Z"
   },
   {
    "duration": 150,
    "start_time": "2022-12-05T08:28:53.758Z"
   },
   {
    "duration": 11,
    "start_time": "2022-12-05T08:28:53.910Z"
   },
   {
    "duration": 38,
    "start_time": "2022-12-05T08:28:53.923Z"
   },
   {
    "duration": 110,
    "start_time": "2022-12-05T08:29:58.677Z"
   },
   {
    "duration": 5,
    "start_time": "2022-12-05T08:30:01.116Z"
   },
   {
    "duration": 1940,
    "start_time": "2022-12-05T08:30:01.651Z"
   },
   {
    "duration": 17,
    "start_time": "2022-12-05T08:30:46.876Z"
   },
   {
    "duration": 10,
    "start_time": "2022-12-05T08:31:01.344Z"
   },
   {
    "duration": 11,
    "start_time": "2022-12-05T08:31:13.397Z"
   },
   {
    "duration": 7,
    "start_time": "2022-12-05T08:31:40.367Z"
   },
   {
    "duration": 10,
    "start_time": "2022-12-05T08:31:57.191Z"
   },
   {
    "duration": 13,
    "start_time": "2022-12-05T08:33:10.366Z"
   },
   {
    "duration": 10,
    "start_time": "2022-12-05T08:34:55.201Z"
   },
   {
    "duration": 11,
    "start_time": "2022-12-05T08:35:03.863Z"
   },
   {
    "duration": 10,
    "start_time": "2022-12-05T08:35:43.939Z"
   },
   {
    "duration": 10,
    "start_time": "2022-12-05T08:38:17.774Z"
   },
   {
    "duration": 11,
    "start_time": "2022-12-05T08:38:35.885Z"
   },
   {
    "duration": 9,
    "start_time": "2022-12-05T08:45:37.364Z"
   },
   {
    "duration": 11,
    "start_time": "2022-12-05T08:45:40.333Z"
   },
   {
    "duration": 42,
    "start_time": "2022-12-05T08:46:46.472Z"
   },
   {
    "duration": 1002,
    "start_time": "2022-12-05T08:47:07.409Z"
   },
   {
    "duration": 50,
    "start_time": "2022-12-05T08:47:08.413Z"
   },
   {
    "duration": 33,
    "start_time": "2022-12-05T08:47:08.464Z"
   },
   {
    "duration": 37,
    "start_time": "2022-12-05T08:47:08.499Z"
   },
   {
    "duration": 5,
    "start_time": "2022-12-05T08:47:08.538Z"
   },
   {
    "duration": 369,
    "start_time": "2022-12-05T08:47:08.544Z"
   },
   {
    "duration": 303,
    "start_time": "2022-12-05T08:47:08.915Z"
   },
   {
    "duration": 10,
    "start_time": "2022-12-05T08:47:09.220Z"
   },
   {
    "duration": 228,
    "start_time": "2022-12-05T08:47:09.231Z"
   },
   {
    "duration": 15,
    "start_time": "2022-12-05T08:47:09.461Z"
   },
   {
    "duration": 324,
    "start_time": "2022-12-05T08:47:09.477Z"
   },
   {
    "duration": 186,
    "start_time": "2022-12-05T08:47:09.802Z"
   },
   {
    "duration": 5,
    "start_time": "2022-12-05T08:47:09.990Z"
   },
   {
    "duration": 148,
    "start_time": "2022-12-05T08:47:09.997Z"
   },
   {
    "duration": 4,
    "start_time": "2022-12-05T08:47:10.146Z"
   },
   {
    "duration": 213,
    "start_time": "2022-12-05T08:47:10.152Z"
   },
   {
    "duration": 13,
    "start_time": "2022-12-05T08:47:10.366Z"
   },
   {
    "duration": 10,
    "start_time": "2022-12-05T08:47:10.380Z"
   },
   {
    "duration": 1574,
    "start_time": "2022-12-05T08:47:10.391Z"
   },
   {
    "duration": 236,
    "start_time": "2022-12-05T08:47:11.966Z"
   },
   {
    "duration": 144,
    "start_time": "2022-12-05T08:47:12.204Z"
   },
   {
    "duration": 141,
    "start_time": "2022-12-05T08:47:12.349Z"
   },
   {
    "duration": 137,
    "start_time": "2022-12-05T08:47:12.492Z"
   },
   {
    "duration": 148,
    "start_time": "2022-12-05T08:47:12.631Z"
   },
   {
    "duration": 148,
    "start_time": "2022-12-05T08:47:12.780Z"
   },
   {
    "duration": 148,
    "start_time": "2022-12-05T08:47:12.930Z"
   },
   {
    "duration": 132,
    "start_time": "2022-12-05T08:47:13.079Z"
   },
   {
    "duration": 145,
    "start_time": "2022-12-05T08:47:13.212Z"
   },
   {
    "duration": 124,
    "start_time": "2022-12-05T08:47:13.358Z"
   },
   {
    "duration": 8,
    "start_time": "2022-12-05T08:47:13.483Z"
   },
   {
    "duration": 15,
    "start_time": "2022-12-05T08:47:13.493Z"
   },
   {
    "duration": 13,
    "start_time": "2022-12-05T08:47:13.510Z"
   },
   {
    "duration": 10,
    "start_time": "2022-12-05T08:47:13.524Z"
   },
   {
    "duration": 40,
    "start_time": "2022-12-05T09:10:42.636Z"
   },
   {
    "duration": 34,
    "start_time": "2022-12-05T09:19:46.742Z"
   },
   {
    "duration": 1039,
    "start_time": "2022-12-05T09:22:03.593Z"
   },
   {
    "duration": 54,
    "start_time": "2022-12-05T09:22:04.634Z"
   },
   {
    "duration": 36,
    "start_time": "2022-12-05T09:22:04.690Z"
   },
   {
    "duration": 66,
    "start_time": "2022-12-05T09:22:04.728Z"
   },
   {
    "duration": 7,
    "start_time": "2022-12-05T09:22:04.797Z"
   },
   {
    "duration": 439,
    "start_time": "2022-12-05T09:22:04.806Z"
   },
   {
    "duration": 312,
    "start_time": "2022-12-05T09:22:05.247Z"
   },
   {
    "duration": 18,
    "start_time": "2022-12-05T09:22:05.561Z"
   },
   {
    "duration": 189,
    "start_time": "2022-12-05T09:22:05.580Z"
   },
   {
    "duration": 7,
    "start_time": "2022-12-05T09:22:05.775Z"
   },
   {
    "duration": 281,
    "start_time": "2022-12-05T09:22:05.784Z"
   },
   {
    "duration": 187,
    "start_time": "2022-12-05T09:22:06.067Z"
   },
   {
    "duration": 49,
    "start_time": "2022-12-05T09:22:06.256Z"
   },
   {
    "duration": 5,
    "start_time": "2022-12-05T09:22:06.307Z"
   },
   {
    "duration": 140,
    "start_time": "2022-12-05T09:22:06.313Z"
   },
   {
    "duration": 4,
    "start_time": "2022-12-05T09:22:06.455Z"
   },
   {
    "duration": 221,
    "start_time": "2022-12-05T09:22:06.460Z"
   },
   {
    "duration": 4,
    "start_time": "2022-12-05T09:22:06.682Z"
   },
   {
    "duration": 6,
    "start_time": "2022-12-05T09:22:06.687Z"
   },
   {
    "duration": 1629,
    "start_time": "2022-12-05T09:22:06.694Z"
   },
   {
    "duration": 239,
    "start_time": "2022-12-05T09:22:08.325Z"
   },
   {
    "duration": 139,
    "start_time": "2022-12-05T09:22:08.566Z"
   },
   {
    "duration": 135,
    "start_time": "2022-12-05T09:22:08.707Z"
   },
   {
    "duration": 136,
    "start_time": "2022-12-05T09:22:08.844Z"
   },
   {
    "duration": 143,
    "start_time": "2022-12-05T09:22:08.981Z"
   },
   {
    "duration": 150,
    "start_time": "2022-12-05T09:22:09.126Z"
   },
   {
    "duration": 141,
    "start_time": "2022-12-05T09:22:09.278Z"
   },
   {
    "duration": 125,
    "start_time": "2022-12-05T09:22:09.422Z"
   },
   {
    "duration": 142,
    "start_time": "2022-12-05T09:22:09.549Z"
   },
   {
    "duration": 127,
    "start_time": "2022-12-05T09:22:09.692Z"
   },
   {
    "duration": 9,
    "start_time": "2022-12-05T09:22:09.820Z"
   },
   {
    "duration": 13,
    "start_time": "2022-12-05T09:22:09.830Z"
   },
   {
    "duration": 13,
    "start_time": "2022-12-05T09:22:09.844Z"
   },
   {
    "duration": 20,
    "start_time": "2022-12-05T09:22:09.859Z"
   },
   {
    "duration": 10,
    "start_time": "2022-12-05T09:22:42.745Z"
   },
   {
    "duration": 1063,
    "start_time": "2022-12-05T09:22:48.950Z"
   },
   {
    "duration": 52,
    "start_time": "2022-12-05T09:22:50.015Z"
   },
   {
    "duration": 31,
    "start_time": "2022-12-05T09:22:50.069Z"
   },
   {
    "duration": 36,
    "start_time": "2022-12-05T09:22:50.102Z"
   },
   {
    "duration": 5,
    "start_time": "2022-12-05T09:22:50.140Z"
   },
   {
    "duration": 331,
    "start_time": "2022-12-05T09:22:50.146Z"
   },
   {
    "duration": 272,
    "start_time": "2022-12-05T09:22:50.479Z"
   },
   {
    "duration": 10,
    "start_time": "2022-12-05T09:22:50.753Z"
   },
   {
    "duration": 186,
    "start_time": "2022-12-05T09:22:50.764Z"
   },
   {
    "duration": 7,
    "start_time": "2022-12-05T09:22:50.951Z"
   },
   {
    "duration": 294,
    "start_time": "2022-12-05T09:22:50.959Z"
   },
   {
    "duration": 187,
    "start_time": "2022-12-05T09:22:51.254Z"
   },
   {
    "duration": 47,
    "start_time": "2022-12-05T09:22:51.442Z"
   },
   {
    "duration": 5,
    "start_time": "2022-12-05T09:22:51.493Z"
   },
   {
    "duration": 162,
    "start_time": "2022-12-05T09:22:51.499Z"
   },
   {
    "duration": 4,
    "start_time": "2022-12-05T09:22:51.662Z"
   },
   {
    "duration": 226,
    "start_time": "2022-12-05T09:22:51.668Z"
   },
   {
    "duration": 4,
    "start_time": "2022-12-05T09:22:51.896Z"
   },
   {
    "duration": 15,
    "start_time": "2022-12-05T09:22:51.901Z"
   },
   {
    "duration": 1568,
    "start_time": "2022-12-05T09:22:51.918Z"
   },
   {
    "duration": 271,
    "start_time": "2022-12-05T09:22:53.488Z"
   },
   {
    "duration": 143,
    "start_time": "2022-12-05T09:22:53.761Z"
   },
   {
    "duration": 153,
    "start_time": "2022-12-05T09:22:53.905Z"
   },
   {
    "duration": 151,
    "start_time": "2022-12-05T09:22:54.060Z"
   },
   {
    "duration": 156,
    "start_time": "2022-12-05T09:22:54.213Z"
   },
   {
    "duration": 146,
    "start_time": "2022-12-05T09:22:54.371Z"
   },
   {
    "duration": 144,
    "start_time": "2022-12-05T09:22:54.519Z"
   },
   {
    "duration": 151,
    "start_time": "2022-12-05T09:22:54.665Z"
   },
   {
    "duration": 178,
    "start_time": "2022-12-05T09:22:54.818Z"
   },
   {
    "duration": 131,
    "start_time": "2022-12-05T09:22:54.997Z"
   },
   {
    "duration": 8,
    "start_time": "2022-12-05T09:22:55.130Z"
   },
   {
    "duration": 20,
    "start_time": "2022-12-05T09:22:55.140Z"
   },
   {
    "duration": 15,
    "start_time": "2022-12-05T09:22:55.161Z"
   },
   {
    "duration": 11,
    "start_time": "2022-12-05T09:22:55.178Z"
   },
   {
    "duration": 1528,
    "start_time": "2022-12-05T13:31:55.601Z"
   },
   {
    "duration": 57,
    "start_time": "2022-12-05T13:31:57.131Z"
   },
   {
    "duration": 40,
    "start_time": "2022-12-05T13:31:57.190Z"
   },
   {
    "duration": 40,
    "start_time": "2022-12-05T13:31:57.232Z"
   },
   {
    "duration": 4,
    "start_time": "2022-12-05T13:31:57.273Z"
   },
   {
    "duration": 438,
    "start_time": "2022-12-05T13:31:57.279Z"
   },
   {
    "duration": 350,
    "start_time": "2022-12-05T13:31:57.719Z"
   },
   {
    "duration": 10,
    "start_time": "2022-12-05T13:31:58.070Z"
   },
   {
    "duration": 250,
    "start_time": "2022-12-05T13:31:58.083Z"
   },
   {
    "duration": 7,
    "start_time": "2022-12-05T13:31:58.336Z"
   },
   {
    "duration": 393,
    "start_time": "2022-12-05T13:31:58.345Z"
   },
   {
    "duration": 324,
    "start_time": "2022-12-05T13:31:58.740Z"
   },
   {
    "duration": 54,
    "start_time": "2022-12-05T13:31:59.066Z"
   },
   {
    "duration": 6,
    "start_time": "2022-12-05T13:31:59.122Z"
   },
   {
    "duration": 227,
    "start_time": "2022-12-05T13:31:59.129Z"
   },
   {
    "duration": 4,
    "start_time": "2022-12-05T13:31:59.358Z"
   },
   {
    "duration": 171,
    "start_time": "2022-12-05T13:31:59.364Z"
   },
   {
    "duration": 5,
    "start_time": "2022-12-05T13:31:59.537Z"
   },
   {
    "duration": 18,
    "start_time": "2022-12-05T13:31:59.543Z"
   },
   {
    "duration": 1917,
    "start_time": "2022-12-05T13:31:59.563Z"
   },
   {
    "duration": 217,
    "start_time": "2022-12-05T13:32:01.482Z"
   },
   {
    "duration": 167,
    "start_time": "2022-12-05T13:32:01.705Z"
   },
   {
    "duration": 178,
    "start_time": "2022-12-05T13:32:01.874Z"
   },
   {
    "duration": 175,
    "start_time": "2022-12-05T13:32:02.054Z"
   },
   {
    "duration": 190,
    "start_time": "2022-12-05T13:32:02.231Z"
   },
   {
    "duration": 183,
    "start_time": "2022-12-05T13:32:02.422Z"
   },
   {
    "duration": 175,
    "start_time": "2022-12-05T13:32:02.607Z"
   },
   {
    "duration": 153,
    "start_time": "2022-12-05T13:32:02.785Z"
   },
   {
    "duration": 159,
    "start_time": "2022-12-05T13:32:02.940Z"
   },
   {
    "duration": 173,
    "start_time": "2022-12-05T13:32:03.105Z"
   },
   {
    "duration": 10,
    "start_time": "2022-12-05T13:32:03.280Z"
   },
   {
    "duration": 63,
    "start_time": "2022-12-05T13:32:03.292Z"
   },
   {
    "duration": 37,
    "start_time": "2022-12-05T13:32:03.357Z"
   },
   {
    "duration": 47,
    "start_time": "2022-12-05T13:32:03.396Z"
   },
   {
    "duration": 1280,
    "start_time": "2022-12-05T13:55:09.579Z"
   },
   {
    "duration": 56,
    "start_time": "2022-12-05T13:55:10.861Z"
   },
   {
    "duration": 41,
    "start_time": "2022-12-05T13:55:10.918Z"
   },
   {
    "duration": 65,
    "start_time": "2022-12-05T13:55:10.962Z"
   },
   {
    "duration": 5,
    "start_time": "2022-12-05T13:55:11.029Z"
   },
   {
    "duration": 376,
    "start_time": "2022-12-05T13:55:11.036Z"
   },
   {
    "duration": 304,
    "start_time": "2022-12-05T13:55:11.414Z"
   },
   {
    "duration": 9,
    "start_time": "2022-12-05T13:55:11.720Z"
   },
   {
    "duration": 222,
    "start_time": "2022-12-05T13:55:11.731Z"
   },
   {
    "duration": 7,
    "start_time": "2022-12-05T13:55:11.957Z"
   },
   {
    "duration": 348,
    "start_time": "2022-12-05T13:55:11.965Z"
   },
   {
    "duration": 291,
    "start_time": "2022-12-05T13:55:12.315Z"
   },
   {
    "duration": 33,
    "start_time": "2022-12-05T13:55:12.608Z"
   },
   {
    "duration": 19,
    "start_time": "2022-12-05T13:55:12.643Z"
   },
   {
    "duration": 170,
    "start_time": "2022-12-05T13:55:12.664Z"
   },
   {
    "duration": 5,
    "start_time": "2022-12-05T13:55:12.836Z"
   },
   {
    "duration": 167,
    "start_time": "2022-12-05T13:55:12.842Z"
   },
   {
    "duration": 4,
    "start_time": "2022-12-05T13:55:13.011Z"
   },
   {
    "duration": 19,
    "start_time": "2022-12-05T13:55:13.017Z"
   },
   {
    "duration": 1857,
    "start_time": "2022-12-05T13:55:13.037Z"
   },
   {
    "duration": 206,
    "start_time": "2022-12-05T13:55:14.895Z"
   },
   {
    "duration": 151,
    "start_time": "2022-12-05T13:55:15.103Z"
   },
   {
    "duration": 159,
    "start_time": "2022-12-05T13:55:15.255Z"
   },
   {
    "duration": 127,
    "start_time": "2022-12-05T13:55:15.416Z"
   },
   {
    "duration": 143,
    "start_time": "2022-12-05T13:55:15.544Z"
   },
   {
    "duration": 148,
    "start_time": "2022-12-05T13:55:15.689Z"
   },
   {
    "duration": 147,
    "start_time": "2022-12-05T13:55:15.838Z"
   },
   {
    "duration": 143,
    "start_time": "2022-12-05T13:55:15.989Z"
   },
   {
    "duration": 156,
    "start_time": "2022-12-05T13:55:16.133Z"
   },
   {
    "duration": 145,
    "start_time": "2022-12-05T13:55:16.290Z"
   },
   {
    "duration": 9,
    "start_time": "2022-12-05T13:55:16.436Z"
   },
   {
    "duration": 14,
    "start_time": "2022-12-05T13:55:16.446Z"
   },
   {
    "duration": 19,
    "start_time": "2022-12-05T13:55:16.462Z"
   },
   {
    "duration": 9,
    "start_time": "2022-12-05T13:55:16.482Z"
   },
   {
    "duration": 1232,
    "start_time": "2022-12-05T17:17:54.688Z"
   },
   {
    "duration": 195,
    "start_time": "2022-12-05T17:17:55.922Z"
   },
   {
    "duration": 34,
    "start_time": "2022-12-05T17:17:56.118Z"
   },
   {
    "duration": 3,
    "start_time": "2022-12-05T17:17:56.154Z"
   },
   {
    "duration": 20,
    "start_time": "2022-12-05T17:17:56.159Z"
   },
   {
    "duration": 5,
    "start_time": "2022-12-05T17:17:56.180Z"
   },
   {
    "duration": 7,
    "start_time": "2022-12-05T17:17:56.186Z"
   },
   {
    "duration": 10,
    "start_time": "2022-12-05T17:17:56.195Z"
   },
   {
    "duration": 19,
    "start_time": "2022-12-05T17:17:56.207Z"
   },
   {
    "duration": 27,
    "start_time": "2022-12-05T17:17:56.228Z"
   },
   {
    "duration": 334,
    "start_time": "2022-12-05T17:17:56.256Z"
   },
   {
    "duration": 279,
    "start_time": "2022-12-05T17:17:56.592Z"
   },
   {
    "duration": 10,
    "start_time": "2022-12-05T17:17:56.873Z"
   },
   {
    "duration": 199,
    "start_time": "2022-12-05T17:17:56.886Z"
   },
   {
    "duration": 8,
    "start_time": "2022-12-05T17:17:57.087Z"
   },
   {
    "duration": 299,
    "start_time": "2022-12-05T17:17:57.096Z"
   },
   {
    "duration": 206,
    "start_time": "2022-12-05T17:17:57.396Z"
   },
   {
    "duration": 34,
    "start_time": "2022-12-05T17:17:57.604Z"
   },
   {
    "duration": 16,
    "start_time": "2022-12-05T17:17:57.640Z"
   },
   {
    "duration": 153,
    "start_time": "2022-12-05T17:17:57.657Z"
   },
   {
    "duration": 5,
    "start_time": "2022-12-05T17:17:57.812Z"
   },
   {
    "duration": 239,
    "start_time": "2022-12-05T17:17:57.819Z"
   },
   {
    "duration": 5,
    "start_time": "2022-12-05T17:17:58.060Z"
   },
   {
    "duration": 7,
    "start_time": "2022-12-05T17:17:58.067Z"
   },
   {
    "duration": 1700,
    "start_time": "2022-12-05T17:17:58.076Z"
   },
   {
    "duration": 278,
    "start_time": "2022-12-05T17:17:59.778Z"
   },
   {
    "duration": 167,
    "start_time": "2022-12-05T17:18:00.058Z"
   },
   {
    "duration": 169,
    "start_time": "2022-12-05T17:18:00.227Z"
   },
   {
    "duration": 146,
    "start_time": "2022-12-05T17:18:00.398Z"
   },
   {
    "duration": 163,
    "start_time": "2022-12-05T17:18:00.552Z"
   },
   {
    "duration": 161,
    "start_time": "2022-12-05T17:18:00.717Z"
   },
   {
    "duration": 151,
    "start_time": "2022-12-05T17:18:00.879Z"
   },
   {
    "duration": 137,
    "start_time": "2022-12-05T17:18:01.032Z"
   },
   {
    "duration": 154,
    "start_time": "2022-12-05T17:18:01.171Z"
   },
   {
    "duration": 136,
    "start_time": "2022-12-05T17:18:01.327Z"
   },
   {
    "duration": 9,
    "start_time": "2022-12-05T17:18:01.465Z"
   },
   {
    "duration": 22,
    "start_time": "2022-12-05T17:18:01.476Z"
   },
   {
    "duration": 21,
    "start_time": "2022-12-05T17:18:01.499Z"
   },
   {
    "duration": 13,
    "start_time": "2022-12-05T17:18:01.521Z"
   },
   {
    "duration": 4,
    "start_time": "2022-12-05T17:18:32.944Z"
   },
   {
    "duration": 3,
    "start_time": "2022-12-05T17:19:25.982Z"
   },
   {
    "duration": 8,
    "start_time": "2022-12-05T17:20:20.101Z"
   },
   {
    "duration": 83,
    "start_time": "2022-12-05T17:20:21.428Z"
   },
   {
    "duration": 8,
    "start_time": "2022-12-05T17:21:40.255Z"
   },
   {
    "duration": 6,
    "start_time": "2022-12-05T17:23:26.794Z"
   },
   {
    "duration": 6,
    "start_time": "2022-12-05T17:23:42.285Z"
   },
   {
    "duration": 6,
    "start_time": "2022-12-05T17:25:27.241Z"
   },
   {
    "duration": 6,
    "start_time": "2022-12-05T17:27:03.030Z"
   },
   {
    "duration": 4,
    "start_time": "2022-12-05T17:29:14.949Z"
   },
   {
    "duration": 3,
    "start_time": "2022-12-05T17:31:14.777Z"
   },
   {
    "duration": 6,
    "start_time": "2022-12-05T17:31:17.540Z"
   },
   {
    "duration": 1052,
    "start_time": "2022-12-05T17:31:31.202Z"
   },
   {
    "duration": 55,
    "start_time": "2022-12-05T17:31:32.256Z"
   },
   {
    "duration": 33,
    "start_time": "2022-12-05T17:31:32.313Z"
   },
   {
    "duration": 3,
    "start_time": "2022-12-05T17:31:32.348Z"
   },
   {
    "duration": 41,
    "start_time": "2022-12-05T17:31:32.352Z"
   },
   {
    "duration": 8,
    "start_time": "2022-12-05T17:31:32.395Z"
   },
   {
    "duration": 23,
    "start_time": "2022-12-05T17:31:32.405Z"
   },
   {
    "duration": 33,
    "start_time": "2022-12-05T17:31:32.430Z"
   },
   {
    "duration": 20,
    "start_time": "2022-12-05T17:31:32.466Z"
   },
   {
    "duration": 19,
    "start_time": "2022-12-05T17:31:32.488Z"
   },
   {
    "duration": 27,
    "start_time": "2022-12-05T17:31:32.508Z"
   },
   {
    "duration": 21,
    "start_time": "2022-12-05T17:31:32.537Z"
   },
   {
    "duration": 334,
    "start_time": "2022-12-05T17:31:32.559Z"
   },
   {
    "duration": 286,
    "start_time": "2022-12-05T17:31:32.896Z"
   },
   {
    "duration": 10,
    "start_time": "2022-12-05T17:31:33.184Z"
   },
   {
    "duration": 187,
    "start_time": "2022-12-05T17:31:33.195Z"
   },
   {
    "duration": 8,
    "start_time": "2022-12-05T17:31:33.383Z"
   },
   {
    "duration": 302,
    "start_time": "2022-12-05T17:31:33.393Z"
   },
   {
    "duration": 198,
    "start_time": "2022-12-05T17:31:33.697Z"
   },
   {
    "duration": 36,
    "start_time": "2022-12-05T17:31:33.896Z"
   },
   {
    "duration": 20,
    "start_time": "2022-12-05T17:31:33.933Z"
   },
   {
    "duration": 145,
    "start_time": "2022-12-05T17:31:33.955Z"
   },
   {
    "duration": 4,
    "start_time": "2022-12-05T17:31:34.102Z"
   },
   {
    "duration": 261,
    "start_time": "2022-12-05T17:31:34.107Z"
   },
   {
    "duration": 3,
    "start_time": "2022-12-05T17:31:34.370Z"
   },
   {
    "duration": 6,
    "start_time": "2022-12-05T17:31:34.375Z"
   },
   {
    "duration": 1769,
    "start_time": "2022-12-05T17:31:34.383Z"
   },
   {
    "duration": 187,
    "start_time": "2022-12-05T17:31:36.154Z"
   },
   {
    "duration": 160,
    "start_time": "2022-12-05T17:31:36.342Z"
   },
   {
    "duration": 151,
    "start_time": "2022-12-05T17:31:36.503Z"
   },
   {
    "duration": 137,
    "start_time": "2022-12-05T17:31:36.655Z"
   },
   {
    "duration": 155,
    "start_time": "2022-12-05T17:31:36.794Z"
   },
   {
    "duration": 153,
    "start_time": "2022-12-05T17:31:36.951Z"
   },
   {
    "duration": 149,
    "start_time": "2022-12-05T17:31:37.106Z"
   },
   {
    "duration": 132,
    "start_time": "2022-12-05T17:31:37.257Z"
   },
   {
    "duration": 149,
    "start_time": "2022-12-05T17:31:37.391Z"
   },
   {
    "duration": 145,
    "start_time": "2022-12-05T17:31:37.542Z"
   },
   {
    "duration": 9,
    "start_time": "2022-12-05T17:31:37.688Z"
   },
   {
    "duration": 11,
    "start_time": "2022-12-05T17:31:37.698Z"
   },
   {
    "duration": 11,
    "start_time": "2022-12-05T17:31:37.711Z"
   },
   {
    "duration": 28,
    "start_time": "2022-12-05T17:31:37.725Z"
   },
   {
    "duration": 6,
    "start_time": "2022-12-05T17:37:14.435Z"
   },
   {
    "duration": 3,
    "start_time": "2022-12-05T17:39:18.127Z"
   },
   {
    "duration": 4,
    "start_time": "2022-12-05T17:39:24.014Z"
   },
   {
    "duration": 1034,
    "start_time": "2022-12-05T17:39:29.572Z"
   },
   {
    "duration": 55,
    "start_time": "2022-12-05T17:39:30.608Z"
   },
   {
    "duration": 39,
    "start_time": "2022-12-05T17:39:30.664Z"
   },
   {
    "duration": 3,
    "start_time": "2022-12-05T17:39:30.704Z"
   },
   {
    "duration": 37,
    "start_time": "2022-12-05T17:39:30.709Z"
   },
   {
    "duration": 16,
    "start_time": "2022-12-05T17:39:30.748Z"
   },
   {
    "duration": 18,
    "start_time": "2022-12-05T17:39:30.765Z"
   },
   {
    "duration": 28,
    "start_time": "2022-12-05T17:39:30.784Z"
   },
   {
    "duration": 22,
    "start_time": "2022-12-05T17:39:30.813Z"
   },
   {
    "duration": 25,
    "start_time": "2022-12-05T17:39:30.836Z"
   },
   {
    "duration": 33,
    "start_time": "2022-12-05T17:39:30.863Z"
   },
   {
    "duration": 25,
    "start_time": "2022-12-05T17:39:30.897Z"
   },
   {
    "duration": 17,
    "start_time": "2022-12-05T17:39:30.924Z"
   },
   {
    "duration": 357,
    "start_time": "2022-12-05T17:39:30.944Z"
   },
   {
    "duration": 295,
    "start_time": "2022-12-05T17:39:31.303Z"
   },
   {
    "duration": 10,
    "start_time": "2022-12-05T17:39:31.599Z"
   },
   {
    "duration": 203,
    "start_time": "2022-12-05T17:39:31.610Z"
   },
   {
    "duration": 7,
    "start_time": "2022-12-05T17:39:31.814Z"
   },
   {
    "duration": 316,
    "start_time": "2022-12-05T17:39:31.823Z"
   },
   {
    "duration": 203,
    "start_time": "2022-12-05T17:39:32.141Z"
   },
   {
    "duration": 37,
    "start_time": "2022-12-05T17:39:32.346Z"
   },
   {
    "duration": 7,
    "start_time": "2022-12-05T17:39:32.385Z"
   },
   {
    "duration": 181,
    "start_time": "2022-12-05T17:39:32.393Z"
   },
   {
    "duration": 4,
    "start_time": "2022-12-05T17:39:32.576Z"
   },
   {
    "duration": 247,
    "start_time": "2022-12-05T17:39:32.582Z"
   },
   {
    "duration": 4,
    "start_time": "2022-12-05T17:39:32.830Z"
   },
   {
    "duration": 16,
    "start_time": "2022-12-05T17:39:32.836Z"
   },
   {
    "duration": 1760,
    "start_time": "2022-12-05T17:39:32.854Z"
   },
   {
    "duration": 187,
    "start_time": "2022-12-05T17:39:34.616Z"
   },
   {
    "duration": 152,
    "start_time": "2022-12-05T17:39:34.804Z"
   },
   {
    "duration": 152,
    "start_time": "2022-12-05T17:39:34.958Z"
   },
   {
    "duration": 134,
    "start_time": "2022-12-05T17:39:35.111Z"
   },
   {
    "duration": 152,
    "start_time": "2022-12-05T17:39:35.247Z"
   },
   {
    "duration": 164,
    "start_time": "2022-12-05T17:39:35.400Z"
   },
   {
    "duration": 156,
    "start_time": "2022-12-05T17:39:35.566Z"
   },
   {
    "duration": 152,
    "start_time": "2022-12-05T17:39:35.723Z"
   },
   {
    "duration": 158,
    "start_time": "2022-12-05T17:39:35.877Z"
   },
   {
    "duration": 150,
    "start_time": "2022-12-05T17:39:36.037Z"
   },
   {
    "duration": 10,
    "start_time": "2022-12-05T17:39:36.188Z"
   },
   {
    "duration": 16,
    "start_time": "2022-12-05T17:39:36.200Z"
   },
   {
    "duration": 9,
    "start_time": "2022-12-05T17:39:36.219Z"
   },
   {
    "duration": 28,
    "start_time": "2022-12-05T17:39:36.229Z"
   },
   {
    "duration": 1068,
    "start_time": "2022-12-05T17:40:37.063Z"
   },
   {
    "duration": 52,
    "start_time": "2022-12-05T17:40:38.132Z"
   },
   {
    "duration": 35,
    "start_time": "2022-12-05T17:40:38.186Z"
   },
   {
    "duration": 3,
    "start_time": "2022-12-05T17:40:38.222Z"
   },
   {
    "duration": 26,
    "start_time": "2022-12-05T17:40:38.227Z"
   },
   {
    "duration": 8,
    "start_time": "2022-12-05T17:40:38.254Z"
   },
   {
    "duration": 11,
    "start_time": "2022-12-05T17:40:38.263Z"
   },
   {
    "duration": 8,
    "start_time": "2022-12-05T17:40:38.275Z"
   },
   {
    "duration": 10,
    "start_time": "2022-12-05T17:40:38.285Z"
   },
   {
    "duration": 4,
    "start_time": "2022-12-05T17:40:38.298Z"
   },
   {
    "duration": 12,
    "start_time": "2022-12-05T17:40:38.304Z"
   },
   {
    "duration": 41,
    "start_time": "2022-12-05T17:40:38.317Z"
   },
   {
    "duration": 8,
    "start_time": "2022-12-05T17:40:38.360Z"
   },
   {
    "duration": 339,
    "start_time": "2022-12-05T17:40:38.369Z"
   },
   {
    "duration": 292,
    "start_time": "2022-12-05T17:40:38.709Z"
   },
   {
    "duration": 10,
    "start_time": "2022-12-05T17:40:39.003Z"
   },
   {
    "duration": 199,
    "start_time": "2022-12-05T17:40:39.015Z"
   },
   {
    "duration": 7,
    "start_time": "2022-12-05T17:40:39.216Z"
   },
   {
    "duration": 295,
    "start_time": "2022-12-05T17:40:39.224Z"
   },
   {
    "duration": 205,
    "start_time": "2022-12-05T17:40:39.520Z"
   },
   {
    "duration": 43,
    "start_time": "2022-12-05T17:40:39.726Z"
   },
   {
    "duration": 5,
    "start_time": "2022-12-05T17:40:39.770Z"
   },
   {
    "duration": 160,
    "start_time": "2022-12-05T17:40:39.777Z"
   },
   {
    "duration": 4,
    "start_time": "2022-12-05T17:40:39.938Z"
   },
   {
    "duration": 243,
    "start_time": "2022-12-05T17:40:39.953Z"
   },
   {
    "duration": 4,
    "start_time": "2022-12-05T17:40:40.197Z"
   },
   {
    "duration": 6,
    "start_time": "2022-12-05T17:40:40.203Z"
   },
   {
    "duration": 1742,
    "start_time": "2022-12-05T17:40:40.212Z"
   },
   {
    "duration": 189,
    "start_time": "2022-12-05T17:40:41.956Z"
   },
   {
    "duration": 149,
    "start_time": "2022-12-05T17:40:42.147Z"
   },
   {
    "duration": 175,
    "start_time": "2022-12-05T17:40:42.298Z"
   },
   {
    "duration": 140,
    "start_time": "2022-12-05T17:40:42.475Z"
   },
   {
    "duration": 155,
    "start_time": "2022-12-05T17:40:42.617Z"
   },
   {
    "duration": 173,
    "start_time": "2022-12-05T17:40:42.774Z"
   },
   {
    "duration": 147,
    "start_time": "2022-12-05T17:40:42.953Z"
   },
   {
    "duration": 138,
    "start_time": "2022-12-05T17:40:43.102Z"
   },
   {
    "duration": 161,
    "start_time": "2022-12-05T17:40:43.241Z"
   },
   {
    "duration": 144,
    "start_time": "2022-12-05T17:40:43.403Z"
   },
   {
    "duration": 10,
    "start_time": "2022-12-05T17:40:43.551Z"
   },
   {
    "duration": 11,
    "start_time": "2022-12-05T17:40:43.563Z"
   },
   {
    "duration": 12,
    "start_time": "2022-12-05T17:40:43.576Z"
   },
   {
    "duration": 10,
    "start_time": "2022-12-05T17:40:43.590Z"
   },
   {
    "duration": 1048,
    "start_time": "2022-12-05T17:45:47.257Z"
   },
   {
    "duration": 54,
    "start_time": "2022-12-05T17:45:48.307Z"
   },
   {
    "duration": 38,
    "start_time": "2022-12-05T17:45:48.363Z"
   },
   {
    "duration": 3,
    "start_time": "2022-12-05T17:45:48.403Z"
   },
   {
    "duration": 25,
    "start_time": "2022-12-05T17:45:48.409Z"
   },
   {
    "duration": 20,
    "start_time": "2022-12-05T17:45:48.436Z"
   },
   {
    "duration": 7,
    "start_time": "2022-12-05T17:45:48.458Z"
   },
   {
    "duration": 8,
    "start_time": "2022-12-05T17:45:48.466Z"
   },
   {
    "duration": 9,
    "start_time": "2022-12-05T17:45:48.476Z"
   },
   {
    "duration": 5,
    "start_time": "2022-12-05T17:45:48.487Z"
   },
   {
    "duration": 12,
    "start_time": "2022-12-05T17:45:48.494Z"
   },
   {
    "duration": 44,
    "start_time": "2022-12-05T17:45:48.508Z"
   },
   {
    "duration": 9,
    "start_time": "2022-12-05T17:45:48.554Z"
   },
   {
    "duration": 388,
    "start_time": "2022-12-05T17:45:48.567Z"
   },
   {
    "duration": 328,
    "start_time": "2022-12-05T17:45:48.957Z"
   },
   {
    "duration": 11,
    "start_time": "2022-12-05T17:45:49.287Z"
   },
   {
    "duration": 220,
    "start_time": "2022-12-05T17:45:49.300Z"
   },
   {
    "duration": 7,
    "start_time": "2022-12-05T17:45:49.522Z"
   },
   {
    "duration": 324,
    "start_time": "2022-12-05T17:45:49.531Z"
   },
   {
    "duration": 226,
    "start_time": "2022-12-05T17:45:49.857Z"
   },
   {
    "duration": 39,
    "start_time": "2022-12-05T17:45:50.085Z"
   },
   {
    "duration": 5,
    "start_time": "2022-12-05T17:45:50.126Z"
   },
   {
    "duration": 178,
    "start_time": "2022-12-05T17:45:50.133Z"
   },
   {
    "duration": 5,
    "start_time": "2022-12-05T17:45:50.312Z"
   },
   {
    "duration": 266,
    "start_time": "2022-12-05T17:45:50.318Z"
   },
   {
    "duration": 4,
    "start_time": "2022-12-05T17:45:50.586Z"
   },
   {
    "duration": 19,
    "start_time": "2022-12-05T17:45:50.592Z"
   },
   {
    "duration": 1902,
    "start_time": "2022-12-05T17:45:50.613Z"
   },
   {
    "duration": 186,
    "start_time": "2022-12-05T17:45:52.516Z"
   },
   {
    "duration": 156,
    "start_time": "2022-12-05T17:45:52.704Z"
   },
   {
    "duration": 155,
    "start_time": "2022-12-05T17:45:52.862Z"
   },
   {
    "duration": 137,
    "start_time": "2022-12-05T17:45:53.019Z"
   },
   {
    "duration": 153,
    "start_time": "2022-12-05T17:45:53.158Z"
   },
   {
    "duration": 161,
    "start_time": "2022-12-05T17:45:53.313Z"
   },
   {
    "duration": 154,
    "start_time": "2022-12-05T17:45:53.476Z"
   },
   {
    "duration": 142,
    "start_time": "2022-12-05T17:45:53.632Z"
   },
   {
    "duration": 156,
    "start_time": "2022-12-05T17:45:53.776Z"
   },
   {
    "duration": 147,
    "start_time": "2022-12-05T17:45:53.933Z"
   },
   {
    "duration": 9,
    "start_time": "2022-12-05T17:45:54.082Z"
   },
   {
    "duration": 11,
    "start_time": "2022-12-05T17:45:54.093Z"
   },
   {
    "duration": 11,
    "start_time": "2022-12-05T17:45:54.108Z"
   },
   {
    "duration": 32,
    "start_time": "2022-12-05T17:45:54.120Z"
   },
   {
    "duration": 4,
    "start_time": "2022-12-05T17:45:54.154Z"
   },
   {
    "duration": 7,
    "start_time": "2022-12-05T17:45:54.160Z"
   },
   {
    "duration": 7,
    "start_time": "2022-12-05T17:45:54.168Z"
   },
   {
    "duration": 6,
    "start_time": "2022-12-05T17:45:54.176Z"
   },
   {
    "duration": 7,
    "start_time": "2022-12-05T17:45:54.184Z"
   },
   {
    "duration": 85,
    "start_time": "2022-12-05T17:47:13.572Z"
   },
   {
    "duration": 73,
    "start_time": "2022-12-05T17:49:26.211Z"
   },
   {
    "duration": 1058,
    "start_time": "2022-12-05T17:49:32.581Z"
   },
   {
    "duration": 52,
    "start_time": "2022-12-05T17:49:33.640Z"
   },
   {
    "duration": 36,
    "start_time": "2022-12-05T17:49:33.694Z"
   },
   {
    "duration": 3,
    "start_time": "2022-12-05T17:49:33.731Z"
   },
   {
    "duration": 20,
    "start_time": "2022-12-05T17:49:33.736Z"
   },
   {
    "duration": 8,
    "start_time": "2022-12-05T17:49:33.758Z"
   },
   {
    "duration": 8,
    "start_time": "2022-12-05T17:49:33.767Z"
   },
   {
    "duration": 8,
    "start_time": "2022-12-05T17:49:33.776Z"
   },
   {
    "duration": 10,
    "start_time": "2022-12-05T17:49:33.786Z"
   },
   {
    "duration": 4,
    "start_time": "2022-12-05T17:49:33.797Z"
   },
   {
    "duration": 8,
    "start_time": "2022-12-05T17:49:33.803Z"
   },
   {
    "duration": 39,
    "start_time": "2022-12-05T17:49:33.813Z"
   },
   {
    "duration": 72,
    "start_time": "2022-12-05T17:49:33.854Z"
   },
   {
    "duration": 0,
    "start_time": "2022-12-05T17:49:33.928Z"
   },
   {
    "duration": 0,
    "start_time": "2022-12-05T17:49:33.930Z"
   },
   {
    "duration": 0,
    "start_time": "2022-12-05T17:49:33.931Z"
   },
   {
    "duration": 0,
    "start_time": "2022-12-05T17:49:33.932Z"
   },
   {
    "duration": 0,
    "start_time": "2022-12-05T17:49:33.933Z"
   },
   {
    "duration": 0,
    "start_time": "2022-12-05T17:49:33.934Z"
   },
   {
    "duration": 0,
    "start_time": "2022-12-05T17:49:33.935Z"
   },
   {
    "duration": 0,
    "start_time": "2022-12-05T17:49:33.936Z"
   },
   {
    "duration": 0,
    "start_time": "2022-12-05T17:49:33.937Z"
   },
   {
    "duration": 0,
    "start_time": "2022-12-05T17:49:33.938Z"
   },
   {
    "duration": 0,
    "start_time": "2022-12-05T17:49:33.939Z"
   },
   {
    "duration": 0,
    "start_time": "2022-12-05T17:49:33.940Z"
   },
   {
    "duration": 0,
    "start_time": "2022-12-05T17:49:33.941Z"
   },
   {
    "duration": 0,
    "start_time": "2022-12-05T17:49:33.942Z"
   },
   {
    "duration": 0,
    "start_time": "2022-12-05T17:49:33.944Z"
   },
   {
    "duration": 0,
    "start_time": "2022-12-05T17:49:33.944Z"
   },
   {
    "duration": 0,
    "start_time": "2022-12-05T17:49:33.946Z"
   },
   {
    "duration": 0,
    "start_time": "2022-12-05T17:49:33.947Z"
   },
   {
    "duration": 0,
    "start_time": "2022-12-05T17:49:33.948Z"
   },
   {
    "duration": 0,
    "start_time": "2022-12-05T17:49:33.948Z"
   },
   {
    "duration": 0,
    "start_time": "2022-12-05T17:49:33.950Z"
   },
   {
    "duration": 0,
    "start_time": "2022-12-05T17:49:33.951Z"
   },
   {
    "duration": 0,
    "start_time": "2022-12-05T17:49:33.952Z"
   },
   {
    "duration": 0,
    "start_time": "2022-12-05T17:49:33.953Z"
   },
   {
    "duration": 0,
    "start_time": "2022-12-05T17:49:33.954Z"
   },
   {
    "duration": 0,
    "start_time": "2022-12-05T17:49:33.955Z"
   },
   {
    "duration": 0,
    "start_time": "2022-12-05T17:49:33.955Z"
   },
   {
    "duration": 0,
    "start_time": "2022-12-05T17:49:33.957Z"
   },
   {
    "duration": 0,
    "start_time": "2022-12-05T17:49:33.958Z"
   },
   {
    "duration": 0,
    "start_time": "2022-12-05T17:49:33.959Z"
   },
   {
    "duration": 0,
    "start_time": "2022-12-05T17:49:33.960Z"
   },
   {
    "duration": 0,
    "start_time": "2022-12-05T17:49:33.960Z"
   },
   {
    "duration": 0,
    "start_time": "2022-12-05T17:49:33.961Z"
   },
   {
    "duration": 0,
    "start_time": "2022-12-05T17:49:33.962Z"
   },
   {
    "duration": 0,
    "start_time": "2022-12-05T17:49:33.963Z"
   },
   {
    "duration": 7,
    "start_time": "2022-12-05T17:55:50.298Z"
   },
   {
    "duration": 1090,
    "start_time": "2022-12-05T17:56:42.204Z"
   },
   {
    "duration": 51,
    "start_time": "2022-12-05T17:56:43.296Z"
   },
   {
    "duration": 35,
    "start_time": "2022-12-05T17:56:43.348Z"
   },
   {
    "duration": 3,
    "start_time": "2022-12-05T17:56:43.385Z"
   },
   {
    "duration": 21,
    "start_time": "2022-12-05T17:56:43.389Z"
   },
   {
    "duration": 6,
    "start_time": "2022-12-05T17:56:43.412Z"
   },
   {
    "duration": 13,
    "start_time": "2022-12-05T17:56:43.419Z"
   },
   {
    "duration": 22,
    "start_time": "2022-12-05T17:56:43.433Z"
   },
   {
    "duration": 10,
    "start_time": "2022-12-05T17:56:43.457Z"
   },
   {
    "duration": 5,
    "start_time": "2022-12-05T17:56:43.470Z"
   },
   {
    "duration": 11,
    "start_time": "2022-12-05T17:56:43.476Z"
   },
   {
    "duration": 20,
    "start_time": "2022-12-05T17:56:43.488Z"
   },
   {
    "duration": 5,
    "start_time": "2022-12-05T17:56:43.510Z"
   },
   {
    "duration": 360,
    "start_time": "2022-12-05T17:56:43.517Z"
   },
   {
    "duration": 290,
    "start_time": "2022-12-05T17:56:43.879Z"
   },
   {
    "duration": 9,
    "start_time": "2022-12-05T17:56:44.171Z"
   },
   {
    "duration": 211,
    "start_time": "2022-12-05T17:56:44.182Z"
   },
   {
    "duration": 8,
    "start_time": "2022-12-05T17:56:44.395Z"
   },
   {
    "duration": 327,
    "start_time": "2022-12-05T17:56:44.404Z"
   },
   {
    "duration": 202,
    "start_time": "2022-12-05T17:56:44.733Z"
   },
   {
    "duration": 42,
    "start_time": "2022-12-05T17:56:44.938Z"
   },
   {
    "duration": 5,
    "start_time": "2022-12-05T17:56:44.981Z"
   },
   {
    "duration": 170,
    "start_time": "2022-12-05T17:56:44.988Z"
   },
   {
    "duration": 5,
    "start_time": "2022-12-05T17:56:45.160Z"
   },
   {
    "duration": 263,
    "start_time": "2022-12-05T17:56:45.167Z"
   },
   {
    "duration": 4,
    "start_time": "2022-12-05T17:56:45.432Z"
   },
   {
    "duration": 22,
    "start_time": "2022-12-05T17:56:45.438Z"
   },
   {
    "duration": 1804,
    "start_time": "2022-12-05T17:56:45.463Z"
   },
   {
    "duration": 197,
    "start_time": "2022-12-05T17:56:47.269Z"
   },
   {
    "duration": 162,
    "start_time": "2022-12-05T17:56:47.468Z"
   },
   {
    "duration": 166,
    "start_time": "2022-12-05T17:56:47.632Z"
   },
   {
    "duration": 143,
    "start_time": "2022-12-05T17:56:47.800Z"
   },
   {
    "duration": 154,
    "start_time": "2022-12-05T17:56:47.945Z"
   },
   {
    "duration": 163,
    "start_time": "2022-12-05T17:56:48.101Z"
   },
   {
    "duration": 169,
    "start_time": "2022-12-05T17:56:48.266Z"
   },
   {
    "duration": 156,
    "start_time": "2022-12-05T17:56:48.436Z"
   },
   {
    "duration": 178,
    "start_time": "2022-12-05T17:56:48.594Z"
   },
   {
    "duration": 163,
    "start_time": "2022-12-05T17:56:48.774Z"
   },
   {
    "duration": 17,
    "start_time": "2022-12-05T17:56:48.939Z"
   },
   {
    "duration": 10,
    "start_time": "2022-12-05T17:56:48.958Z"
   },
   {
    "duration": 17,
    "start_time": "2022-12-05T17:56:48.970Z"
   },
   {
    "duration": 12,
    "start_time": "2022-12-05T17:56:48.989Z"
   },
   {
    "duration": 7,
    "start_time": "2022-12-05T17:56:49.002Z"
   },
   {
    "duration": 5,
    "start_time": "2022-12-05T17:56:49.011Z"
   },
   {
    "duration": 9,
    "start_time": "2022-12-05T17:56:49.018Z"
   },
   {
    "duration": 7,
    "start_time": "2022-12-05T17:56:49.053Z"
   },
   {
    "duration": 5,
    "start_time": "2022-12-05T17:56:49.063Z"
   },
   {
    "duration": 300,
    "start_time": "2022-12-05T17:59:53.618Z"
   },
   {
    "duration": 183,
    "start_time": "2022-12-05T18:00:09.275Z"
   },
   {
    "duration": 6,
    "start_time": "2022-12-05T18:03:04.761Z"
   },
   {
    "duration": 7,
    "start_time": "2022-12-05T18:03:50.384Z"
   },
   {
    "duration": 247,
    "start_time": "2022-12-05T18:03:57.906Z"
   },
   {
    "duration": 187,
    "start_time": "2022-12-05T18:04:22.493Z"
   },
   {
    "duration": 169,
    "start_time": "2022-12-05T18:06:31.636Z"
   },
   {
    "duration": 179,
    "start_time": "2022-12-05T18:07:10.057Z"
   },
   {
    "duration": 183,
    "start_time": "2022-12-05T18:07:47.335Z"
   },
   {
    "duration": 210,
    "start_time": "2022-12-05T18:08:35.458Z"
   },
   {
    "duration": 185,
    "start_time": "2022-12-05T18:09:47.656Z"
   },
   {
    "duration": 219,
    "start_time": "2022-12-05T18:10:02.463Z"
   },
   {
    "duration": 1044,
    "start_time": "2022-12-05T18:10:40.456Z"
   },
   {
    "duration": 51,
    "start_time": "2022-12-05T18:10:41.502Z"
   },
   {
    "duration": 34,
    "start_time": "2022-12-05T18:10:41.555Z"
   },
   {
    "duration": 2,
    "start_time": "2022-12-05T18:10:41.591Z"
   },
   {
    "duration": 41,
    "start_time": "2022-12-05T18:10:41.595Z"
   },
   {
    "duration": 24,
    "start_time": "2022-12-05T18:10:41.638Z"
   },
   {
    "duration": 21,
    "start_time": "2022-12-05T18:10:41.664Z"
   },
   {
    "duration": 21,
    "start_time": "2022-12-05T18:10:41.687Z"
   },
   {
    "duration": 29,
    "start_time": "2022-12-05T18:10:41.709Z"
   },
   {
    "duration": 18,
    "start_time": "2022-12-05T18:10:41.740Z"
   },
   {
    "duration": 19,
    "start_time": "2022-12-05T18:10:41.760Z"
   },
   {
    "duration": 40,
    "start_time": "2022-12-05T18:10:41.781Z"
   },
   {
    "duration": 30,
    "start_time": "2022-12-05T18:10:41.823Z"
   },
   {
    "duration": 347,
    "start_time": "2022-12-05T18:10:41.856Z"
   },
   {
    "duration": 361,
    "start_time": "2022-12-05T18:10:42.204Z"
   },
   {
    "duration": 10,
    "start_time": "2022-12-05T18:10:42.567Z"
   },
   {
    "duration": 213,
    "start_time": "2022-12-05T18:10:42.578Z"
   },
   {
    "duration": 6,
    "start_time": "2022-12-05T18:10:42.793Z"
   },
   {
    "duration": 299,
    "start_time": "2022-12-05T18:10:42.801Z"
   },
   {
    "duration": 208,
    "start_time": "2022-12-05T18:10:43.101Z"
   },
   {
    "duration": 42,
    "start_time": "2022-12-05T18:10:43.310Z"
   },
   {
    "duration": 5,
    "start_time": "2022-12-05T18:10:43.354Z"
   },
   {
    "duration": 198,
    "start_time": "2022-12-05T18:10:43.361Z"
   },
   {
    "duration": 4,
    "start_time": "2022-12-05T18:10:43.562Z"
   },
   {
    "duration": 253,
    "start_time": "2022-12-05T18:10:43.568Z"
   },
   {
    "duration": 4,
    "start_time": "2022-12-05T18:10:43.823Z"
   },
   {
    "duration": 30,
    "start_time": "2022-12-05T18:10:43.829Z"
   },
   {
    "duration": 1528,
    "start_time": "2022-12-05T18:10:43.861Z"
   },
   {
    "duration": 200,
    "start_time": "2022-12-05T18:10:45.391Z"
   },
   {
    "duration": 234,
    "start_time": "2022-12-05T18:10:45.593Z"
   },
   {
    "duration": 144,
    "start_time": "2022-12-05T18:10:45.829Z"
   },
   {
    "duration": 142,
    "start_time": "2022-12-05T18:10:45.975Z"
   },
   {
    "duration": 167,
    "start_time": "2022-12-05T18:10:46.118Z"
   },
   {
    "duration": 156,
    "start_time": "2022-12-05T18:10:46.287Z"
   },
   {
    "duration": 154,
    "start_time": "2022-12-05T18:10:46.445Z"
   },
   {
    "duration": 144,
    "start_time": "2022-12-05T18:10:46.600Z"
   },
   {
    "duration": 134,
    "start_time": "2022-12-05T18:10:46.752Z"
   },
   {
    "duration": 152,
    "start_time": "2022-12-05T18:10:46.887Z"
   },
   {
    "duration": 14,
    "start_time": "2022-12-05T18:10:47.040Z"
   },
   {
    "duration": 14,
    "start_time": "2022-12-05T18:10:47.057Z"
   },
   {
    "duration": 11,
    "start_time": "2022-12-05T18:10:47.075Z"
   },
   {
    "duration": 11,
    "start_time": "2022-12-05T18:10:47.088Z"
   },
   {
    "duration": 191,
    "start_time": "2022-12-05T18:13:08.218Z"
   },
   {
    "duration": 211,
    "start_time": "2022-12-05T18:13:49.298Z"
   },
   {
    "duration": 272,
    "start_time": "2022-12-05T18:14:23.560Z"
   },
   {
    "duration": 268,
    "start_time": "2022-12-05T18:15:21.837Z"
   },
   {
    "duration": 282,
    "start_time": "2022-12-05T18:15:44.082Z"
   },
   {
    "duration": 201,
    "start_time": "2022-12-05T18:16:02.109Z"
   },
   {
    "duration": 5,
    "start_time": "2022-12-05T18:21:52.850Z"
   },
   {
    "duration": 360,
    "start_time": "2022-12-05T18:21:58.410Z"
   },
   {
    "duration": 264,
    "start_time": "2022-12-05T18:22:17.629Z"
   },
   {
    "duration": 314,
    "start_time": "2022-12-05T18:22:32.305Z"
   },
   {
    "duration": 342,
    "start_time": "2022-12-05T18:22:37.238Z"
   },
   {
    "duration": 5,
    "start_time": "2022-12-05T18:23:02.308Z"
   },
   {
    "duration": 168,
    "start_time": "2022-12-05T18:23:09.133Z"
   },
   {
    "duration": 180,
    "start_time": "2022-12-05T18:23:54.855Z"
   },
   {
    "duration": 5,
    "start_time": "2022-12-05T18:24:20.179Z"
   },
   {
    "duration": 432,
    "start_time": "2022-12-05T18:24:21.723Z"
   },
   {
    "duration": 5,
    "start_time": "2022-12-05T18:25:07.466Z"
   },
   {
    "duration": 45,
    "start_time": "2022-12-06T07:07:20.548Z"
   },
   {
    "duration": 1202,
    "start_time": "2022-12-06T07:07:26.857Z"
   },
   {
    "duration": 99,
    "start_time": "2022-12-06T07:07:28.061Z"
   },
   {
    "duration": 34,
    "start_time": "2022-12-06T07:07:28.162Z"
   },
   {
    "duration": 3,
    "start_time": "2022-12-06T07:07:28.198Z"
   },
   {
    "duration": 17,
    "start_time": "2022-12-06T07:07:28.202Z"
   },
   {
    "duration": 17,
    "start_time": "2022-12-06T07:07:28.221Z"
   },
   {
    "duration": 8,
    "start_time": "2022-12-06T07:07:28.239Z"
   },
   {
    "duration": 5,
    "start_time": "2022-12-06T07:07:28.249Z"
   },
   {
    "duration": 9,
    "start_time": "2022-12-06T07:07:28.256Z"
   },
   {
    "duration": 4,
    "start_time": "2022-12-06T07:07:28.269Z"
   },
   {
    "duration": 12,
    "start_time": "2022-12-06T07:07:28.275Z"
   },
   {
    "duration": 17,
    "start_time": "2022-12-06T07:07:28.289Z"
   },
   {
    "duration": 27,
    "start_time": "2022-12-06T07:07:28.308Z"
   },
   {
    "duration": 347,
    "start_time": "2022-12-06T07:07:28.337Z"
   },
   {
    "duration": 314,
    "start_time": "2022-12-06T07:07:28.685Z"
   },
   {
    "duration": 9,
    "start_time": "2022-12-06T07:07:29.000Z"
   },
   {
    "duration": 199,
    "start_time": "2022-12-06T07:07:29.011Z"
   },
   {
    "duration": 8,
    "start_time": "2022-12-06T07:07:29.212Z"
   },
   {
    "duration": 297,
    "start_time": "2022-12-06T07:07:29.222Z"
   },
   {
    "duration": 204,
    "start_time": "2022-12-06T07:07:29.520Z"
   },
   {
    "duration": 39,
    "start_time": "2022-12-06T07:07:29.726Z"
   },
   {
    "duration": 4,
    "start_time": "2022-12-06T07:07:29.767Z"
   },
   {
    "duration": 169,
    "start_time": "2022-12-06T07:07:29.773Z"
   },
   {
    "duration": 4,
    "start_time": "2022-12-06T07:07:29.944Z"
   },
   {
    "duration": 247,
    "start_time": "2022-12-06T07:07:29.950Z"
   },
   {
    "duration": 4,
    "start_time": "2022-12-06T07:07:30.199Z"
   },
   {
    "duration": 40,
    "start_time": "2022-12-06T07:07:30.205Z"
   },
   {
    "duration": 412,
    "start_time": "2022-12-06T07:07:30.248Z"
   },
   {
    "duration": 0,
    "start_time": "2022-12-06T07:07:30.662Z"
   },
   {
    "duration": 0,
    "start_time": "2022-12-06T07:07:30.664Z"
   },
   {
    "duration": 0,
    "start_time": "2022-12-06T07:07:30.665Z"
   },
   {
    "duration": 0,
    "start_time": "2022-12-06T07:07:30.666Z"
   },
   {
    "duration": 0,
    "start_time": "2022-12-06T07:07:30.668Z"
   },
   {
    "duration": 0,
    "start_time": "2022-12-06T07:07:30.669Z"
   },
   {
    "duration": 0,
    "start_time": "2022-12-06T07:07:30.670Z"
   },
   {
    "duration": 0,
    "start_time": "2022-12-06T07:07:30.671Z"
   },
   {
    "duration": 0,
    "start_time": "2022-12-06T07:07:30.672Z"
   },
   {
    "duration": 0,
    "start_time": "2022-12-06T07:07:30.673Z"
   },
   {
    "duration": 0,
    "start_time": "2022-12-06T07:07:30.674Z"
   },
   {
    "duration": 0,
    "start_time": "2022-12-06T07:07:30.675Z"
   },
   {
    "duration": 0,
    "start_time": "2022-12-06T07:07:30.676Z"
   },
   {
    "duration": 0,
    "start_time": "2022-12-06T07:07:30.677Z"
   },
   {
    "duration": 6,
    "start_time": "2022-12-06T07:19:49.741Z"
   },
   {
    "duration": 5,
    "start_time": "2022-12-06T07:19:55.486Z"
   },
   {
    "duration": 3348,
    "start_time": "2022-12-06T07:20:07.987Z"
   },
   {
    "duration": 6,
    "start_time": "2022-12-06T07:23:11.110Z"
   },
   {
    "duration": 256,
    "start_time": "2022-12-06T07:23:20.033Z"
   },
   {
    "duration": 7,
    "start_time": "2022-12-06T07:23:49.254Z"
   },
   {
    "duration": 427,
    "start_time": "2022-12-06T07:23:52.168Z"
   },
   {
    "duration": 6,
    "start_time": "2022-12-06T07:24:28.068Z"
   },
   {
    "duration": 3575,
    "start_time": "2022-12-06T07:24:30.912Z"
   },
   {
    "duration": 5,
    "start_time": "2022-12-06T07:26:47.155Z"
   },
   {
    "duration": 271,
    "start_time": "2022-12-06T07:26:50.581Z"
   },
   {
    "duration": 6,
    "start_time": "2022-12-06T07:27:59.635Z"
   },
   {
    "duration": 6,
    "start_time": "2022-12-06T07:28:08.990Z"
   },
   {
    "duration": 3323,
    "start_time": "2022-12-06T07:28:13.044Z"
   },
   {
    "duration": 7,
    "start_time": "2022-12-06T07:34:48.281Z"
   },
   {
    "duration": 3166,
    "start_time": "2022-12-06T07:34:51.425Z"
   },
   {
    "duration": 5,
    "start_time": "2022-12-06T07:35:13.149Z"
   },
   {
    "duration": 3070,
    "start_time": "2022-12-06T07:35:16.259Z"
   },
   {
    "duration": 5,
    "start_time": "2022-12-06T07:37:10.906Z"
   },
   {
    "duration": 19,
    "start_time": "2022-12-06T07:37:13.506Z"
   },
   {
    "duration": 7,
    "start_time": "2022-12-06T07:38:07.542Z"
   },
   {
    "duration": 3284,
    "start_time": "2022-12-06T07:38:10.457Z"
   },
   {
    "duration": 3058,
    "start_time": "2022-12-06T07:38:53.870Z"
   },
   {
    "duration": 33,
    "start_time": "2022-12-06T07:39:49.272Z"
   },
   {
    "duration": 2680,
    "start_time": "2022-12-06T07:39:57.959Z"
   },
   {
    "duration": 13,
    "start_time": "2022-12-06T07:41:18.935Z"
   },
   {
    "duration": 2687,
    "start_time": "2022-12-06T07:42:37.493Z"
   },
   {
    "duration": 2945,
    "start_time": "2022-12-06T07:42:45.712Z"
   },
   {
    "duration": 5,
    "start_time": "2022-12-06T07:44:37.054Z"
   },
   {
    "duration": 3309,
    "start_time": "2022-12-06T07:45:37.587Z"
   },
   {
    "duration": 13,
    "start_time": "2022-12-06T07:46:15.831Z"
   },
   {
    "duration": 266,
    "start_time": "2022-12-06T07:46:17.211Z"
   },
   {
    "duration": 12,
    "start_time": "2022-12-06T07:46:23.494Z"
   },
   {
    "duration": 315,
    "start_time": "2022-12-06T07:46:24.777Z"
   },
   {
    "duration": 12,
    "start_time": "2022-12-06T07:50:40.172Z"
   },
   {
    "duration": 304,
    "start_time": "2022-12-06T07:50:41.849Z"
   },
   {
    "duration": 11,
    "start_time": "2022-12-06T07:51:13.281Z"
   },
   {
    "duration": 1102,
    "start_time": "2022-12-06T07:52:37.198Z"
   },
   {
    "duration": 51,
    "start_time": "2022-12-06T07:52:38.303Z"
   },
   {
    "duration": 36,
    "start_time": "2022-12-06T07:52:38.355Z"
   },
   {
    "duration": 4,
    "start_time": "2022-12-06T07:52:38.392Z"
   },
   {
    "duration": 41,
    "start_time": "2022-12-06T07:52:38.398Z"
   },
   {
    "duration": 8,
    "start_time": "2022-12-06T07:52:38.441Z"
   },
   {
    "duration": 19,
    "start_time": "2022-12-06T07:52:38.450Z"
   },
   {
    "duration": 15,
    "start_time": "2022-12-06T07:52:38.471Z"
   },
   {
    "duration": 14,
    "start_time": "2022-12-06T07:52:38.488Z"
   },
   {
    "duration": 6,
    "start_time": "2022-12-06T07:52:38.504Z"
   },
   {
    "duration": 10,
    "start_time": "2022-12-06T07:52:38.512Z"
   },
   {
    "duration": 32,
    "start_time": "2022-12-06T07:52:38.534Z"
   },
   {
    "duration": 6,
    "start_time": "2022-12-06T07:52:38.568Z"
   },
   {
    "duration": 383,
    "start_time": "2022-12-06T07:52:38.578Z"
   },
   {
    "duration": 312,
    "start_time": "2022-12-06T07:52:38.963Z"
   },
   {
    "duration": 10,
    "start_time": "2022-12-06T07:52:39.276Z"
   },
   {
    "duration": 230,
    "start_time": "2022-12-06T07:52:39.288Z"
   },
   {
    "duration": 16,
    "start_time": "2022-12-06T07:52:39.521Z"
   },
   {
    "duration": 305,
    "start_time": "2022-12-06T07:52:39.539Z"
   },
   {
    "duration": 234,
    "start_time": "2022-12-06T07:52:39.845Z"
   },
   {
    "duration": 33,
    "start_time": "2022-12-06T07:52:40.081Z"
   },
   {
    "duration": 26,
    "start_time": "2022-12-06T07:52:40.116Z"
   },
   {
    "duration": 46,
    "start_time": "2022-12-06T07:52:40.144Z"
   },
   {
    "duration": 396,
    "start_time": "2022-12-06T07:52:40.191Z"
   },
   {
    "duration": 13,
    "start_time": "2022-12-06T07:52:40.589Z"
   },
   {
    "duration": 2752,
    "start_time": "2022-12-06T07:52:40.604Z"
   },
   {
    "duration": 238,
    "start_time": "2022-12-06T07:52:43.358Z"
   },
   {
    "duration": 157,
    "start_time": "2022-12-06T07:52:43.598Z"
   },
   {
    "duration": 155,
    "start_time": "2022-12-06T07:52:43.757Z"
   },
   {
    "duration": 160,
    "start_time": "2022-12-06T07:52:43.914Z"
   },
   {
    "duration": 244,
    "start_time": "2022-12-06T07:52:44.076Z"
   },
   {
    "duration": 164,
    "start_time": "2022-12-06T07:52:44.322Z"
   },
   {
    "duration": 157,
    "start_time": "2022-12-06T07:52:44.488Z"
   },
   {
    "duration": 140,
    "start_time": "2022-12-06T07:52:44.646Z"
   },
   {
    "duration": 143,
    "start_time": "2022-12-06T07:52:44.788Z"
   },
   {
    "duration": 151,
    "start_time": "2022-12-06T07:52:44.934Z"
   },
   {
    "duration": 9,
    "start_time": "2022-12-06T07:52:45.087Z"
   },
   {
    "duration": 13,
    "start_time": "2022-12-06T07:52:45.097Z"
   },
   {
    "duration": 25,
    "start_time": "2022-12-06T07:52:45.112Z"
   },
   {
    "duration": 11,
    "start_time": "2022-12-06T07:52:45.139Z"
   },
   {
    "duration": 180,
    "start_time": "2022-12-06T08:07:55.558Z"
   },
   {
    "duration": 4,
    "start_time": "2022-12-06T08:18:35.713Z"
   },
   {
    "duration": 151,
    "start_time": "2022-12-06T08:18:36.427Z"
   },
   {
    "duration": 112,
    "start_time": "2022-12-06T08:20:31.843Z"
   },
   {
    "duration": 1079,
    "start_time": "2022-12-06T08:20:53.514Z"
   },
   {
    "duration": 51,
    "start_time": "2022-12-06T08:20:54.594Z"
   },
   {
    "duration": 35,
    "start_time": "2022-12-06T08:20:54.646Z"
   },
   {
    "duration": 3,
    "start_time": "2022-12-06T08:20:54.683Z"
   },
   {
    "duration": 31,
    "start_time": "2022-12-06T08:20:54.688Z"
   },
   {
    "duration": 29,
    "start_time": "2022-12-06T08:20:54.721Z"
   },
   {
    "duration": 10,
    "start_time": "2022-12-06T08:20:54.751Z"
   },
   {
    "duration": 27,
    "start_time": "2022-12-06T08:20:54.762Z"
   },
   {
    "duration": 36,
    "start_time": "2022-12-06T08:20:54.791Z"
   },
   {
    "duration": 41,
    "start_time": "2022-12-06T08:20:54.829Z"
   },
   {
    "duration": 24,
    "start_time": "2022-12-06T08:20:54.872Z"
   },
   {
    "duration": 24,
    "start_time": "2022-12-06T08:20:54.898Z"
   },
   {
    "duration": 20,
    "start_time": "2022-12-06T08:20:54.924Z"
   },
   {
    "duration": 336,
    "start_time": "2022-12-06T08:20:54.946Z"
   },
   {
    "duration": 302,
    "start_time": "2022-12-06T08:20:55.284Z"
   },
   {
    "duration": 10,
    "start_time": "2022-12-06T08:20:55.587Z"
   },
   {
    "duration": 240,
    "start_time": "2022-12-06T08:20:55.599Z"
   },
   {
    "duration": 8,
    "start_time": "2022-12-06T08:20:55.841Z"
   },
   {
    "duration": 304,
    "start_time": "2022-12-06T08:20:55.851Z"
   },
   {
    "duration": 211,
    "start_time": "2022-12-06T08:20:56.157Z"
   },
   {
    "duration": 32,
    "start_time": "2022-12-06T08:20:56.369Z"
   },
   {
    "duration": 6,
    "start_time": "2022-12-06T08:20:56.402Z"
   },
   {
    "duration": 36,
    "start_time": "2022-12-06T08:20:56.409Z"
   },
   {
    "duration": 404,
    "start_time": "2022-12-06T08:20:56.446Z"
   },
   {
    "duration": 12,
    "start_time": "2022-12-06T08:20:56.852Z"
   },
   {
    "duration": 2629,
    "start_time": "2022-12-06T08:20:56.866Z"
   },
   {
    "duration": 206,
    "start_time": "2022-12-06T08:20:59.497Z"
   },
   {
    "duration": 3,
    "start_time": "2022-12-06T08:20:59.708Z"
   },
   {
    "duration": 158,
    "start_time": "2022-12-06T08:20:59.713Z"
   },
   {
    "duration": 0,
    "start_time": "2022-12-06T08:20:59.873Z"
   },
   {
    "duration": 0,
    "start_time": "2022-12-06T08:20:59.874Z"
   },
   {
    "duration": 0,
    "start_time": "2022-12-06T08:20:59.875Z"
   },
   {
    "duration": 0,
    "start_time": "2022-12-06T08:20:59.876Z"
   },
   {
    "duration": 0,
    "start_time": "2022-12-06T08:20:59.877Z"
   },
   {
    "duration": 0,
    "start_time": "2022-12-06T08:20:59.879Z"
   },
   {
    "duration": 0,
    "start_time": "2022-12-06T08:20:59.880Z"
   },
   {
    "duration": 0,
    "start_time": "2022-12-06T08:20:59.881Z"
   },
   {
    "duration": 0,
    "start_time": "2022-12-06T08:20:59.882Z"
   },
   {
    "duration": 0,
    "start_time": "2022-12-06T08:20:59.884Z"
   },
   {
    "duration": 0,
    "start_time": "2022-12-06T08:20:59.885Z"
   },
   {
    "duration": 0,
    "start_time": "2022-12-06T08:20:59.886Z"
   },
   {
    "duration": 1,
    "start_time": "2022-12-06T08:20:59.887Z"
   },
   {
    "duration": 4,
    "start_time": "2022-12-06T08:24:25.723Z"
   },
   {
    "duration": 32,
    "start_time": "2022-12-06T08:24:27.850Z"
   },
   {
    "duration": 4,
    "start_time": "2022-12-06T08:25:55.285Z"
   },
   {
    "duration": 28,
    "start_time": "2022-12-06T08:25:56.000Z"
   },
   {
    "duration": 273,
    "start_time": "2022-12-06T08:27:55.422Z"
   },
   {
    "duration": 354,
    "start_time": "2022-12-06T08:28:54.390Z"
   },
   {
    "duration": 303,
    "start_time": "2022-12-06T08:29:21.603Z"
   },
   {
    "duration": 292,
    "start_time": "2022-12-06T08:29:34.279Z"
   },
   {
    "duration": 293,
    "start_time": "2022-12-06T08:30:31.919Z"
   },
   {
    "duration": 295,
    "start_time": "2022-12-06T08:30:45.444Z"
   },
   {
    "duration": 305,
    "start_time": "2022-12-06T08:30:57.831Z"
   },
   {
    "duration": 1043,
    "start_time": "2022-12-06T08:31:52.575Z"
   },
   {
    "duration": 50,
    "start_time": "2022-12-06T08:31:53.621Z"
   },
   {
    "duration": 35,
    "start_time": "2022-12-06T08:31:53.673Z"
   },
   {
    "duration": 3,
    "start_time": "2022-12-06T08:31:53.710Z"
   },
   {
    "duration": 46,
    "start_time": "2022-12-06T08:31:53.715Z"
   },
   {
    "duration": 15,
    "start_time": "2022-12-06T08:31:53.763Z"
   },
   {
    "duration": 10,
    "start_time": "2022-12-06T08:31:53.780Z"
   },
   {
    "duration": 22,
    "start_time": "2022-12-06T08:31:53.793Z"
   },
   {
    "duration": 38,
    "start_time": "2022-12-06T08:31:53.817Z"
   },
   {
    "duration": 13,
    "start_time": "2022-12-06T08:31:53.856Z"
   },
   {
    "duration": 25,
    "start_time": "2022-12-06T08:31:53.871Z"
   },
   {
    "duration": 29,
    "start_time": "2022-12-06T08:31:53.898Z"
   },
   {
    "duration": 19,
    "start_time": "2022-12-06T08:31:53.929Z"
   },
   {
    "duration": 344,
    "start_time": "2022-12-06T08:31:53.950Z"
   },
   {
    "duration": 304,
    "start_time": "2022-12-06T08:31:54.296Z"
   },
   {
    "duration": 10,
    "start_time": "2022-12-06T08:31:54.602Z"
   },
   {
    "duration": 225,
    "start_time": "2022-12-06T08:31:54.613Z"
   },
   {
    "duration": 9,
    "start_time": "2022-12-06T08:31:54.840Z"
   },
   {
    "duration": 318,
    "start_time": "2022-12-06T08:31:54.850Z"
   },
   {
    "duration": 298,
    "start_time": "2022-12-06T08:31:55.170Z"
   },
   {
    "duration": 34,
    "start_time": "2022-12-06T08:31:55.470Z"
   },
   {
    "duration": 5,
    "start_time": "2022-12-06T08:31:55.506Z"
   },
   {
    "duration": 29,
    "start_time": "2022-12-06T08:31:55.513Z"
   },
   {
    "duration": 366,
    "start_time": "2022-12-06T08:31:55.544Z"
   },
   {
    "duration": 24,
    "start_time": "2022-12-06T08:31:55.911Z"
   },
   {
    "duration": 2675,
    "start_time": "2022-12-06T08:31:55.937Z"
   },
   {
    "duration": 200,
    "start_time": "2022-12-06T08:31:58.614Z"
   },
   {
    "duration": 5,
    "start_time": "2022-12-06T08:31:58.816Z"
   },
   {
    "duration": 110,
    "start_time": "2022-12-06T08:31:58.822Z"
   },
   {
    "duration": 0,
    "start_time": "2022-12-06T08:31:58.935Z"
   },
   {
    "duration": 0,
    "start_time": "2022-12-06T08:31:58.936Z"
   },
   {
    "duration": 0,
    "start_time": "2022-12-06T08:31:58.938Z"
   },
   {
    "duration": 0,
    "start_time": "2022-12-06T08:31:58.939Z"
   },
   {
    "duration": 0,
    "start_time": "2022-12-06T08:31:58.940Z"
   },
   {
    "duration": 0,
    "start_time": "2022-12-06T08:31:58.942Z"
   },
   {
    "duration": 0,
    "start_time": "2022-12-06T08:31:58.943Z"
   },
   {
    "duration": 0,
    "start_time": "2022-12-06T08:31:58.945Z"
   },
   {
    "duration": 0,
    "start_time": "2022-12-06T08:31:58.946Z"
   },
   {
    "duration": 0,
    "start_time": "2022-12-06T08:31:58.947Z"
   },
   {
    "duration": 38,
    "start_time": "2022-12-06T08:35:55.831Z"
   },
   {
    "duration": 34,
    "start_time": "2022-12-06T08:36:56.277Z"
   },
   {
    "duration": 4,
    "start_time": "2022-12-06T08:40:15.979Z"
   },
   {
    "duration": 28,
    "start_time": "2022-12-06T08:40:17.141Z"
   },
   {
    "duration": 5,
    "start_time": "2022-12-06T08:40:20.539Z"
   },
   {
    "duration": 29,
    "start_time": "2022-12-06T08:40:21.067Z"
   },
   {
    "duration": 4,
    "start_time": "2022-12-06T08:48:33.841Z"
   },
   {
    "duration": 52,
    "start_time": "2022-12-06T08:48:34.415Z"
   },
   {
    "duration": 4,
    "start_time": "2022-12-06T08:49:03.934Z"
   },
   {
    "duration": 28,
    "start_time": "2022-12-06T08:50:56.238Z"
   },
   {
    "duration": 3,
    "start_time": "2022-12-06T08:51:22.641Z"
   },
   {
    "duration": 30,
    "start_time": "2022-12-06T08:51:24.363Z"
   },
   {
    "duration": 41,
    "start_time": "2022-12-06T08:54:07.008Z"
   },
   {
    "duration": 61,
    "start_time": "2022-12-06T08:54:12.585Z"
   },
   {
    "duration": 33,
    "start_time": "2022-12-06T08:54:26.051Z"
   },
   {
    "duration": 29,
    "start_time": "2022-12-06T08:55:33.107Z"
   },
   {
    "duration": 4,
    "start_time": "2022-12-06T08:55:56.180Z"
   },
   {
    "duration": 4,
    "start_time": "2022-12-06T08:55:59.734Z"
   },
   {
    "duration": 4,
    "start_time": "2022-12-06T09:00:01.645Z"
   },
   {
    "duration": 738,
    "start_time": "2022-12-06T09:00:13.880Z"
   },
   {
    "duration": 766,
    "start_time": "2022-12-06T09:51:56.045Z"
   },
   {
    "duration": 30,
    "start_time": "2022-12-06T09:53:28.474Z"
   },
   {
    "duration": 881,
    "start_time": "2022-12-06T09:55:22.329Z"
   },
   {
    "duration": 19,
    "start_time": "2022-12-06T09:55:44.219Z"
   },
   {
    "duration": 35,
    "start_time": "2022-12-06T09:56:59.887Z"
   },
   {
    "duration": 29,
    "start_time": "2022-12-06T09:57:35.520Z"
   },
   {
    "duration": 6,
    "start_time": "2022-12-06T10:00:20.936Z"
   },
   {
    "duration": 4,
    "start_time": "2022-12-06T10:11:31.426Z"
   },
   {
    "duration": 29,
    "start_time": "2022-12-06T10:11:32.267Z"
   },
   {
    "duration": 31,
    "start_time": "2022-12-06T10:16:20.943Z"
   },
   {
    "duration": 30,
    "start_time": "2022-12-06T10:20:42.155Z"
   },
   {
    "duration": 1106,
    "start_time": "2022-12-06T10:20:52.780Z"
   },
   {
    "duration": 65,
    "start_time": "2022-12-06T10:20:53.889Z"
   },
   {
    "duration": 34,
    "start_time": "2022-12-06T10:20:53.956Z"
   },
   {
    "duration": 11,
    "start_time": "2022-12-06T10:20:53.992Z"
   },
   {
    "duration": 36,
    "start_time": "2022-12-06T10:20:54.006Z"
   },
   {
    "duration": 7,
    "start_time": "2022-12-06T10:20:54.044Z"
   },
   {
    "duration": 15,
    "start_time": "2022-12-06T10:20:54.052Z"
   },
   {
    "duration": 12,
    "start_time": "2022-12-06T10:20:54.069Z"
   },
   {
    "duration": 32,
    "start_time": "2022-12-06T10:20:54.084Z"
   },
   {
    "duration": 14,
    "start_time": "2022-12-06T10:20:54.118Z"
   },
   {
    "duration": 12,
    "start_time": "2022-12-06T10:20:54.134Z"
   },
   {
    "duration": 42,
    "start_time": "2022-12-06T10:20:54.148Z"
   },
   {
    "duration": 24,
    "start_time": "2022-12-06T10:20:54.192Z"
   },
   {
    "duration": 374,
    "start_time": "2022-12-06T10:20:54.219Z"
   },
   {
    "duration": 411,
    "start_time": "2022-12-06T10:20:54.595Z"
   },
   {
    "duration": 11,
    "start_time": "2022-12-06T10:20:55.008Z"
   },
   {
    "duration": 236,
    "start_time": "2022-12-06T10:20:55.021Z"
   },
   {
    "duration": 7,
    "start_time": "2022-12-06T10:20:55.259Z"
   },
   {
    "duration": 303,
    "start_time": "2022-12-06T10:20:55.268Z"
   },
   {
    "duration": 316,
    "start_time": "2022-12-06T10:20:55.573Z"
   },
   {
    "duration": 225,
    "start_time": "2022-12-06T10:20:55.891Z"
   },
   {
    "duration": 53,
    "start_time": "2022-12-06T10:20:56.118Z"
   },
   {
    "duration": 5,
    "start_time": "2022-12-06T10:20:56.173Z"
   },
   {
    "duration": 106,
    "start_time": "2022-12-06T10:20:56.180Z"
   },
   {
    "duration": 319,
    "start_time": "2022-12-06T10:20:56.288Z"
   },
   {
    "duration": 11,
    "start_time": "2022-12-06T10:20:56.609Z"
   },
   {
    "duration": 2848,
    "start_time": "2022-12-06T10:20:56.621Z"
   },
   {
    "duration": 219,
    "start_time": "2022-12-06T10:20:59.471Z"
   },
   {
    "duration": 147,
    "start_time": "2022-12-06T10:20:59.693Z"
   },
   {
    "duration": 0,
    "start_time": "2022-12-06T10:20:59.842Z"
   },
   {
    "duration": 0,
    "start_time": "2022-12-06T10:20:59.843Z"
   },
   {
    "duration": 0,
    "start_time": "2022-12-06T10:20:59.845Z"
   },
   {
    "duration": 0,
    "start_time": "2022-12-06T10:20:59.846Z"
   },
   {
    "duration": 0,
    "start_time": "2022-12-06T10:20:59.847Z"
   },
   {
    "duration": 0,
    "start_time": "2022-12-06T10:20:59.848Z"
   },
   {
    "duration": 0,
    "start_time": "2022-12-06T10:20:59.850Z"
   },
   {
    "duration": 0,
    "start_time": "2022-12-06T10:20:59.851Z"
   },
   {
    "duration": 0,
    "start_time": "2022-12-06T10:20:59.852Z"
   },
   {
    "duration": 0,
    "start_time": "2022-12-06T10:20:59.853Z"
   },
   {
    "duration": 0,
    "start_time": "2022-12-06T10:20:59.855Z"
   },
   {
    "duration": 34,
    "start_time": "2022-12-06T10:25:12.907Z"
   },
   {
    "duration": 1191,
    "start_time": "2022-12-06T10:25:20.738Z"
   },
   {
    "duration": 66,
    "start_time": "2022-12-06T10:25:21.931Z"
   },
   {
    "duration": 46,
    "start_time": "2022-12-06T10:25:22.000Z"
   },
   {
    "duration": 4,
    "start_time": "2022-12-06T10:25:22.048Z"
   },
   {
    "duration": 25,
    "start_time": "2022-12-06T10:25:22.054Z"
   },
   {
    "duration": 8,
    "start_time": "2022-12-06T10:25:22.082Z"
   },
   {
    "duration": 11,
    "start_time": "2022-12-06T10:25:22.092Z"
   },
   {
    "duration": 32,
    "start_time": "2022-12-06T10:25:22.105Z"
   },
   {
    "duration": 11,
    "start_time": "2022-12-06T10:25:22.139Z"
   },
   {
    "duration": 5,
    "start_time": "2022-12-06T10:25:22.154Z"
   },
   {
    "duration": 14,
    "start_time": "2022-12-06T10:25:22.161Z"
   },
   {
    "duration": 26,
    "start_time": "2022-12-06T10:25:22.178Z"
   },
   {
    "duration": 17,
    "start_time": "2022-12-06T10:25:22.206Z"
   },
   {
    "duration": 444,
    "start_time": "2022-12-06T10:25:22.225Z"
   },
   {
    "duration": 348,
    "start_time": "2022-12-06T10:25:22.671Z"
   },
   {
    "duration": 20,
    "start_time": "2022-12-06T10:25:23.020Z"
   },
   {
    "duration": 230,
    "start_time": "2022-12-06T10:25:23.042Z"
   },
   {
    "duration": 8,
    "start_time": "2022-12-06T10:25:23.274Z"
   },
   {
    "duration": 325,
    "start_time": "2022-12-06T10:25:23.283Z"
   },
   {
    "duration": 308,
    "start_time": "2022-12-06T10:25:23.610Z"
   },
   {
    "duration": 156,
    "start_time": "2022-12-06T10:25:23.919Z"
   },
   {
    "duration": 43,
    "start_time": "2022-12-06T10:25:24.077Z"
   },
   {
    "duration": 17,
    "start_time": "2022-12-06T10:25:24.122Z"
   },
   {
    "duration": 101,
    "start_time": "2022-12-06T10:25:24.141Z"
   },
   {
    "duration": 323,
    "start_time": "2022-12-06T10:25:24.243Z"
   },
   {
    "duration": 12,
    "start_time": "2022-12-06T10:25:24.567Z"
   },
   {
    "duration": 2804,
    "start_time": "2022-12-06T10:25:24.581Z"
   },
   {
    "duration": 207,
    "start_time": "2022-12-06T10:25:27.389Z"
   },
   {
    "duration": 137,
    "start_time": "2022-12-06T10:25:27.598Z"
   },
   {
    "duration": 0,
    "start_time": "2022-12-06T10:25:27.737Z"
   },
   {
    "duration": 0,
    "start_time": "2022-12-06T10:25:27.738Z"
   },
   {
    "duration": 0,
    "start_time": "2022-12-06T10:25:27.740Z"
   },
   {
    "duration": 0,
    "start_time": "2022-12-06T10:25:27.741Z"
   },
   {
    "duration": 0,
    "start_time": "2022-12-06T10:25:27.742Z"
   },
   {
    "duration": 0,
    "start_time": "2022-12-06T10:25:27.743Z"
   },
   {
    "duration": 0,
    "start_time": "2022-12-06T10:25:27.745Z"
   },
   {
    "duration": 0,
    "start_time": "2022-12-06T10:25:27.746Z"
   },
   {
    "duration": 0,
    "start_time": "2022-12-06T10:25:27.748Z"
   },
   {
    "duration": 0,
    "start_time": "2022-12-06T10:25:27.749Z"
   },
   {
    "duration": 0,
    "start_time": "2022-12-06T10:25:27.751Z"
   },
   {
    "duration": 514,
    "start_time": "2022-12-06T10:26:56.472Z"
   },
   {
    "duration": 379,
    "start_time": "2022-12-06T10:27:06.183Z"
   },
   {
    "duration": 27,
    "start_time": "2022-12-06T11:41:54.496Z"
   },
   {
    "duration": 26,
    "start_time": "2022-12-06T11:43:19.748Z"
   },
   {
    "duration": 26,
    "start_time": "2022-12-06T11:44:20.357Z"
   },
   {
    "duration": 4,
    "start_time": "2022-12-06T11:48:56.509Z"
   },
   {
    "duration": 22,
    "start_time": "2022-12-06T11:50:26.710Z"
   },
   {
    "duration": 9,
    "start_time": "2022-12-06T11:51:53.970Z"
   },
   {
    "duration": 174,
    "start_time": "2022-12-06T11:52:03.129Z"
   },
   {
    "duration": 26,
    "start_time": "2022-12-06T11:54:42.704Z"
   },
   {
    "duration": 173,
    "start_time": "2022-12-06T11:54:56.307Z"
   },
   {
    "duration": 154,
    "start_time": "2022-12-06T11:55:10.656Z"
   },
   {
    "duration": 11,
    "start_time": "2022-12-06T11:59:23.268Z"
   },
   {
    "duration": 985,
    "start_time": "2022-12-06T12:00:28.688Z"
   },
   {
    "duration": 538,
    "start_time": "2022-12-06T12:00:52.484Z"
   },
   {
    "duration": 575,
    "start_time": "2022-12-06T12:02:44.532Z"
   },
   {
    "duration": 511,
    "start_time": "2022-12-06T12:04:52.877Z"
   },
   {
    "duration": 612,
    "start_time": "2022-12-06T12:06:02.591Z"
   },
   {
    "duration": 3,
    "start_time": "2022-12-06T12:07:55.650Z"
   },
   {
    "duration": 493,
    "start_time": "2022-12-06T12:07:56.382Z"
   },
   {
    "duration": 659,
    "start_time": "2022-12-06T12:08:12.514Z"
   },
   {
    "duration": 1137,
    "start_time": "2022-12-06T12:09:07.262Z"
   },
   {
    "duration": 51,
    "start_time": "2022-12-06T12:09:08.401Z"
   },
   {
    "duration": 41,
    "start_time": "2022-12-06T12:09:08.454Z"
   },
   {
    "duration": 3,
    "start_time": "2022-12-06T12:09:08.497Z"
   },
   {
    "duration": 38,
    "start_time": "2022-12-06T12:09:08.502Z"
   },
   {
    "duration": 6,
    "start_time": "2022-12-06T12:09:08.542Z"
   },
   {
    "duration": 23,
    "start_time": "2022-12-06T12:09:08.550Z"
   },
   {
    "duration": 21,
    "start_time": "2022-12-06T12:09:08.575Z"
   },
   {
    "duration": 48,
    "start_time": "2022-12-06T12:09:08.599Z"
   },
   {
    "duration": 18,
    "start_time": "2022-12-06T12:09:08.650Z"
   },
   {
    "duration": 13,
    "start_time": "2022-12-06T12:09:08.669Z"
   },
   {
    "duration": 44,
    "start_time": "2022-12-06T12:09:08.684Z"
   },
   {
    "duration": 43,
    "start_time": "2022-12-06T12:09:08.729Z"
   },
   {
    "duration": 400,
    "start_time": "2022-12-06T12:09:08.773Z"
   },
   {
    "duration": 338,
    "start_time": "2022-12-06T12:09:09.175Z"
   },
   {
    "duration": 20,
    "start_time": "2022-12-06T12:09:09.515Z"
   },
   {
    "duration": 233,
    "start_time": "2022-12-06T12:09:09.537Z"
   },
   {
    "duration": 8,
    "start_time": "2022-12-06T12:09:09.772Z"
   },
   {
    "duration": 305,
    "start_time": "2022-12-06T12:09:09.781Z"
   },
   {
    "duration": 343,
    "start_time": "2022-12-06T12:09:10.088Z"
   },
   {
    "duration": 33,
    "start_time": "2022-12-06T12:09:10.435Z"
   },
   {
    "duration": 5,
    "start_time": "2022-12-06T12:09:10.470Z"
   },
   {
    "duration": 47,
    "start_time": "2022-12-06T12:09:10.477Z"
   },
   {
    "duration": 414,
    "start_time": "2022-12-06T12:09:10.526Z"
   },
   {
    "duration": 12,
    "start_time": "2022-12-06T12:09:10.941Z"
   },
   {
    "duration": 2709,
    "start_time": "2022-12-06T12:09:10.955Z"
   },
   {
    "duration": 201,
    "start_time": "2022-12-06T12:09:13.665Z"
   },
   {
    "duration": 3,
    "start_time": "2022-12-06T12:09:13.869Z"
   },
   {
    "duration": 479,
    "start_time": "2022-12-06T12:09:13.873Z"
   },
   {
    "duration": 586,
    "start_time": "2022-12-06T12:09:14.354Z"
   },
   {
    "duration": 495,
    "start_time": "2022-12-06T12:09:14.944Z"
   },
   {
    "duration": 15,
    "start_time": "2022-12-06T12:09:15.441Z"
   },
   {
    "duration": 46,
    "start_time": "2022-12-06T12:09:15.458Z"
   },
   {
    "duration": 39,
    "start_time": "2022-12-06T12:09:15.507Z"
   },
   {
    "duration": 38,
    "start_time": "2022-12-06T12:09:15.549Z"
   },
   {
    "duration": 433,
    "start_time": "2022-12-06T12:10:36.495Z"
   },
   {
    "duration": 518,
    "start_time": "2022-12-06T12:10:49.609Z"
   },
   {
    "duration": 453,
    "start_time": "2022-12-06T12:11:00.742Z"
   },
   {
    "duration": 506,
    "start_time": "2022-12-06T12:17:15.752Z"
   },
   {
    "duration": 396,
    "start_time": "2022-12-06T12:17:30.929Z"
   },
   {
    "duration": 1353,
    "start_time": "2022-12-06T12:22:06.868Z"
   },
   {
    "duration": 57,
    "start_time": "2022-12-06T12:22:08.223Z"
   },
   {
    "duration": 49,
    "start_time": "2022-12-06T12:22:08.282Z"
   },
   {
    "duration": 4,
    "start_time": "2022-12-06T12:22:08.335Z"
   },
   {
    "duration": 46,
    "start_time": "2022-12-06T12:22:08.343Z"
   },
   {
    "duration": 32,
    "start_time": "2022-12-06T12:22:08.392Z"
   },
   {
    "duration": 29,
    "start_time": "2022-12-06T12:22:08.426Z"
   },
   {
    "duration": 13,
    "start_time": "2022-12-06T12:22:08.457Z"
   },
   {
    "duration": 34,
    "start_time": "2022-12-06T12:22:08.472Z"
   },
   {
    "duration": 32,
    "start_time": "2022-12-06T12:22:08.508Z"
   },
   {
    "duration": 25,
    "start_time": "2022-12-06T12:22:08.542Z"
   },
   {
    "duration": 47,
    "start_time": "2022-12-06T12:22:08.569Z"
   },
   {
    "duration": 26,
    "start_time": "2022-12-06T12:22:08.618Z"
   },
   {
    "duration": 393,
    "start_time": "2022-12-06T12:22:08.649Z"
   },
   {
    "duration": 358,
    "start_time": "2022-12-06T12:22:09.045Z"
   },
   {
    "duration": 11,
    "start_time": "2022-12-06T12:22:09.405Z"
   },
   {
    "duration": 238,
    "start_time": "2022-12-06T12:22:09.417Z"
   },
   {
    "duration": 8,
    "start_time": "2022-12-06T12:22:09.658Z"
   },
   {
    "duration": 332,
    "start_time": "2022-12-06T12:22:09.667Z"
   },
   {
    "duration": 354,
    "start_time": "2022-12-06T12:22:10.001Z"
   },
   {
    "duration": 39,
    "start_time": "2022-12-06T12:22:10.357Z"
   },
   {
    "duration": 6,
    "start_time": "2022-12-06T12:22:10.398Z"
   },
   {
    "duration": 44,
    "start_time": "2022-12-06T12:22:10.406Z"
   },
   {
    "duration": 469,
    "start_time": "2022-12-06T12:22:10.452Z"
   },
   {
    "duration": 21,
    "start_time": "2022-12-06T12:22:10.922Z"
   },
   {
    "duration": 3067,
    "start_time": "2022-12-06T12:22:10.945Z"
   },
   {
    "duration": 204,
    "start_time": "2022-12-06T12:22:14.014Z"
   },
   {
    "duration": 3,
    "start_time": "2022-12-06T12:22:14.220Z"
   },
   {
    "duration": 426,
    "start_time": "2022-12-06T12:22:14.225Z"
   },
   {
    "duration": 564,
    "start_time": "2022-12-06T12:22:14.653Z"
   },
   {
    "duration": 439,
    "start_time": "2022-12-06T12:22:15.220Z"
   },
   {
    "duration": 10,
    "start_time": "2022-12-06T12:22:15.660Z"
   },
   {
    "duration": 29,
    "start_time": "2022-12-06T12:22:15.672Z"
   },
   {
    "duration": 32,
    "start_time": "2022-12-06T12:22:15.703Z"
   },
   {
    "duration": 23,
    "start_time": "2022-12-06T12:22:15.737Z"
   },
   {
    "duration": 11,
    "start_time": "2022-12-06T12:35:14.603Z"
   },
   {
    "duration": 154,
    "start_time": "2022-12-06T12:41:59.225Z"
   },
   {
    "duration": 13,
    "start_time": "2022-12-06T12:42:33.956Z"
   },
   {
    "duration": 13,
    "start_time": "2022-12-06T12:42:55.960Z"
   },
   {
    "duration": 19,
    "start_time": "2022-12-06T12:43:49.934Z"
   },
   {
    "duration": 14,
    "start_time": "2022-12-06T12:46:08.868Z"
   },
   {
    "duration": 12,
    "start_time": "2022-12-06T12:46:17.152Z"
   },
   {
    "duration": 12,
    "start_time": "2022-12-06T12:46:22.252Z"
   },
   {
    "duration": 1190,
    "start_time": "2022-12-06T12:47:12.609Z"
   },
   {
    "duration": 61,
    "start_time": "2022-12-06T12:47:13.801Z"
   },
   {
    "duration": 34,
    "start_time": "2022-12-06T12:47:13.863Z"
   },
   {
    "duration": 3,
    "start_time": "2022-12-06T12:47:13.898Z"
   },
   {
    "duration": 39,
    "start_time": "2022-12-06T12:47:13.904Z"
   },
   {
    "duration": 14,
    "start_time": "2022-12-06T12:47:13.946Z"
   },
   {
    "duration": 9,
    "start_time": "2022-12-06T12:47:13.961Z"
   },
   {
    "duration": 7,
    "start_time": "2022-12-06T12:47:13.971Z"
   },
   {
    "duration": 22,
    "start_time": "2022-12-06T12:47:13.980Z"
   },
   {
    "duration": 13,
    "start_time": "2022-12-06T12:47:14.004Z"
   },
   {
    "duration": 18,
    "start_time": "2022-12-06T12:47:14.019Z"
   },
   {
    "duration": 37,
    "start_time": "2022-12-06T12:47:14.039Z"
   },
   {
    "duration": 13,
    "start_time": "2022-12-06T12:47:14.078Z"
   },
   {
    "duration": 379,
    "start_time": "2022-12-06T12:47:14.095Z"
   },
   {
    "duration": 347,
    "start_time": "2022-12-06T12:47:14.476Z"
   },
   {
    "duration": 26,
    "start_time": "2022-12-06T12:47:14.825Z"
   },
   {
    "duration": 244,
    "start_time": "2022-12-06T12:47:14.855Z"
   },
   {
    "duration": 8,
    "start_time": "2022-12-06T12:47:15.102Z"
   },
   {
    "duration": 350,
    "start_time": "2022-12-06T12:47:15.112Z"
   },
   {
    "duration": 362,
    "start_time": "2022-12-06T12:47:15.464Z"
   },
   {
    "duration": 47,
    "start_time": "2022-12-06T12:47:15.827Z"
   },
   {
    "duration": 6,
    "start_time": "2022-12-06T12:47:15.876Z"
   },
   {
    "duration": 30,
    "start_time": "2022-12-06T12:47:15.884Z"
   },
   {
    "duration": 453,
    "start_time": "2022-12-06T12:47:15.916Z"
   },
   {
    "duration": 14,
    "start_time": "2022-12-06T12:47:16.371Z"
   },
   {
    "duration": 3090,
    "start_time": "2022-12-06T12:47:16.387Z"
   },
   {
    "duration": 225,
    "start_time": "2022-12-06T12:47:19.478Z"
   },
   {
    "duration": 3,
    "start_time": "2022-12-06T12:47:19.705Z"
   },
   {
    "duration": 469,
    "start_time": "2022-12-06T12:47:19.709Z"
   },
   {
    "duration": 589,
    "start_time": "2022-12-06T12:47:20.180Z"
   },
   {
    "duration": 465,
    "start_time": "2022-12-06T12:47:20.771Z"
   },
   {
    "duration": 15,
    "start_time": "2022-12-06T12:47:21.238Z"
   },
   {
    "duration": 29,
    "start_time": "2022-12-06T12:47:21.255Z"
   },
   {
    "duration": 20,
    "start_time": "2022-12-06T12:47:21.286Z"
   },
   {
    "duration": 15,
    "start_time": "2022-12-06T12:47:21.309Z"
   },
   {
    "duration": 295,
    "start_time": "2022-12-06T12:56:09.013Z"
   },
   {
    "duration": 251,
    "start_time": "2022-12-06T12:56:40.258Z"
   },
   {
    "duration": 1350,
    "start_time": "2022-12-06T12:57:12.070Z"
   },
   {
    "duration": 71,
    "start_time": "2022-12-06T12:57:13.422Z"
   },
   {
    "duration": 39,
    "start_time": "2022-12-06T12:57:13.495Z"
   },
   {
    "duration": 38,
    "start_time": "2022-12-06T12:57:13.536Z"
   },
   {
    "duration": 28,
    "start_time": "2022-12-06T12:57:13.577Z"
   },
   {
    "duration": 30,
    "start_time": "2022-12-06T12:57:13.608Z"
   },
   {
    "duration": 51,
    "start_time": "2022-12-06T12:57:13.640Z"
   },
   {
    "duration": 28,
    "start_time": "2022-12-06T12:57:13.693Z"
   },
   {
    "duration": 53,
    "start_time": "2022-12-06T12:57:13.722Z"
   },
   {
    "duration": 20,
    "start_time": "2022-12-06T12:57:13.776Z"
   },
   {
    "duration": 31,
    "start_time": "2022-12-06T12:57:13.798Z"
   },
   {
    "duration": 71,
    "start_time": "2022-12-06T12:57:13.831Z"
   },
   {
    "duration": 80,
    "start_time": "2022-12-06T12:57:13.903Z"
   },
   {
    "duration": 471,
    "start_time": "2022-12-06T12:57:13.986Z"
   },
   {
    "duration": 379,
    "start_time": "2022-12-06T12:57:14.459Z"
   },
   {
    "duration": 15,
    "start_time": "2022-12-06T12:57:14.842Z"
   },
   {
    "duration": 347,
    "start_time": "2022-12-06T12:57:14.860Z"
   },
   {
    "duration": 10,
    "start_time": "2022-12-06T12:57:15.209Z"
   },
   {
    "duration": 452,
    "start_time": "2022-12-06T12:57:15.221Z"
   },
   {
    "duration": 433,
    "start_time": "2022-12-06T12:57:15.676Z"
   },
   {
    "duration": 64,
    "start_time": "2022-12-06T12:57:16.112Z"
   },
   {
    "duration": 13,
    "start_time": "2022-12-06T12:57:16.178Z"
   },
   {
    "duration": 42,
    "start_time": "2022-12-06T12:57:16.193Z"
   },
   {
    "duration": 521,
    "start_time": "2022-12-06T12:57:16.237Z"
   },
   {
    "duration": 21,
    "start_time": "2022-12-06T12:57:16.761Z"
   },
   {
    "duration": 3205,
    "start_time": "2022-12-06T12:57:16.784Z"
   },
   {
    "duration": 261,
    "start_time": "2022-12-06T12:57:19.991Z"
   },
   {
    "duration": 4,
    "start_time": "2022-12-06T12:57:20.254Z"
   },
   {
    "duration": 480,
    "start_time": "2022-12-06T12:57:20.260Z"
   },
   {
    "duration": 638,
    "start_time": "2022-12-06T12:57:20.742Z"
   },
   {
    "duration": 472,
    "start_time": "2022-12-06T12:57:21.381Z"
   },
   {
    "duration": 18,
    "start_time": "2022-12-06T12:57:21.855Z"
   },
   {
    "duration": 52,
    "start_time": "2022-12-06T12:57:21.874Z"
   },
   {
    "duration": 80,
    "start_time": "2022-12-06T12:57:21.928Z"
   },
   {
    "duration": 86,
    "start_time": "2022-12-06T12:57:22.010Z"
   },
   {
    "duration": 3,
    "start_time": "2022-12-06T13:04:27.758Z"
   },
   {
    "duration": 6,
    "start_time": "2022-12-06T13:07:10.196Z"
   },
   {
    "duration": 12,
    "start_time": "2022-12-06T13:07:11.905Z"
   },
   {
    "duration": 322,
    "start_time": "2022-12-06T13:07:16.518Z"
   },
   {
    "duration": 9,
    "start_time": "2022-12-06T13:10:51.859Z"
   },
   {
    "duration": 15,
    "start_time": "2022-12-06T13:10:52.953Z"
   },
   {
    "duration": 376,
    "start_time": "2022-12-06T13:10:54.163Z"
   },
   {
    "duration": 6,
    "start_time": "2022-12-06T13:13:56.361Z"
   },
   {
    "duration": 12,
    "start_time": "2022-12-06T13:13:57.268Z"
   },
   {
    "duration": 569,
    "start_time": "2022-12-06T13:13:58.589Z"
   },
   {
    "duration": 6,
    "start_time": "2022-12-06T13:17:46.480Z"
   },
   {
    "duration": 11,
    "start_time": "2022-12-06T13:17:47.359Z"
   },
   {
    "duration": 14,
    "start_time": "2022-12-06T13:17:48.558Z"
   },
   {
    "duration": 530,
    "start_time": "2022-12-06T13:23:08.794Z"
   },
   {
    "duration": 6,
    "start_time": "2022-12-06T13:24:01.149Z"
   },
   {
    "duration": 11,
    "start_time": "2022-12-06T13:24:01.961Z"
   },
   {
    "duration": 14,
    "start_time": "2022-12-06T13:24:03.261Z"
   },
   {
    "duration": 7,
    "start_time": "2022-12-06T13:24:16.682Z"
   },
   {
    "duration": 12,
    "start_time": "2022-12-06T13:24:17.408Z"
   },
   {
    "duration": 315,
    "start_time": "2022-12-06T13:24:18.275Z"
   },
   {
    "duration": 1196,
    "start_time": "2022-12-06T13:24:40.929Z"
   },
   {
    "duration": 57,
    "start_time": "2022-12-06T13:24:42.127Z"
   },
   {
    "duration": 35,
    "start_time": "2022-12-06T13:24:42.185Z"
   },
   {
    "duration": 2,
    "start_time": "2022-12-06T13:24:42.222Z"
   },
   {
    "duration": 26,
    "start_time": "2022-12-06T13:24:42.226Z"
   },
   {
    "duration": 8,
    "start_time": "2022-12-06T13:24:42.254Z"
   },
   {
    "duration": 10,
    "start_time": "2022-12-06T13:24:42.264Z"
   },
   {
    "duration": 6,
    "start_time": "2022-12-06T13:24:42.275Z"
   },
   {
    "duration": 11,
    "start_time": "2022-12-06T13:24:42.282Z"
   },
   {
    "duration": 4,
    "start_time": "2022-12-06T13:24:42.296Z"
   },
   {
    "duration": 9,
    "start_time": "2022-12-06T13:24:42.301Z"
   },
   {
    "duration": 51,
    "start_time": "2022-12-06T13:24:42.311Z"
   },
   {
    "duration": 5,
    "start_time": "2022-12-06T13:24:42.364Z"
   },
   {
    "duration": 462,
    "start_time": "2022-12-06T13:24:42.371Z"
   },
   {
    "duration": 327,
    "start_time": "2022-12-06T13:24:42.835Z"
   },
   {
    "duration": 10,
    "start_time": "2022-12-06T13:24:43.164Z"
   },
   {
    "duration": 224,
    "start_time": "2022-12-06T13:24:43.176Z"
   },
   {
    "duration": 7,
    "start_time": "2022-12-06T13:24:43.402Z"
   },
   {
    "duration": 316,
    "start_time": "2022-12-06T13:24:43.410Z"
   },
   {
    "duration": 347,
    "start_time": "2022-12-06T13:24:43.728Z"
   },
   {
    "duration": 31,
    "start_time": "2022-12-06T13:24:44.076Z"
   },
   {
    "duration": 4,
    "start_time": "2022-12-06T13:24:44.109Z"
   },
   {
    "duration": 33,
    "start_time": "2022-12-06T13:24:44.115Z"
   },
   {
    "duration": 405,
    "start_time": "2022-12-06T13:24:44.150Z"
   },
   {
    "duration": 12,
    "start_time": "2022-12-06T13:24:44.556Z"
   },
   {
    "duration": 2731,
    "start_time": "2022-12-06T13:24:44.569Z"
   },
   {
    "duration": 220,
    "start_time": "2022-12-06T13:24:47.301Z"
   },
   {
    "duration": 8,
    "start_time": "2022-12-06T13:24:47.525Z"
   },
   {
    "duration": 445,
    "start_time": "2022-12-06T13:24:47.535Z"
   },
   {
    "duration": 541,
    "start_time": "2022-12-06T13:24:47.982Z"
   },
   {
    "duration": 440,
    "start_time": "2022-12-06T13:24:48.525Z"
   },
   {
    "duration": 12,
    "start_time": "2022-12-06T13:24:48.968Z"
   },
   {
    "duration": 13,
    "start_time": "2022-12-06T13:24:48.982Z"
   },
   {
    "duration": 20,
    "start_time": "2022-12-06T13:24:48.997Z"
   },
   {
    "duration": 30,
    "start_time": "2022-12-06T13:24:49.019Z"
   },
   {
    "duration": 1244,
    "start_time": "2022-12-06T13:26:30.852Z"
   },
   {
    "duration": 70,
    "start_time": "2022-12-06T13:26:32.098Z"
   },
   {
    "duration": 46,
    "start_time": "2022-12-06T13:26:32.171Z"
   },
   {
    "duration": 17,
    "start_time": "2022-12-06T13:26:32.219Z"
   },
   {
    "duration": 49,
    "start_time": "2022-12-06T13:26:32.239Z"
   },
   {
    "duration": 32,
    "start_time": "2022-12-06T13:26:32.290Z"
   },
   {
    "duration": 42,
    "start_time": "2022-12-06T13:26:32.324Z"
   },
   {
    "duration": 39,
    "start_time": "2022-12-06T13:26:32.368Z"
   },
   {
    "duration": 16,
    "start_time": "2022-12-06T13:26:32.410Z"
   },
   {
    "duration": 101,
    "start_time": "2022-12-06T13:26:32.428Z"
   },
   {
    "duration": 52,
    "start_time": "2022-12-06T13:26:32.532Z"
   },
   {
    "duration": 45,
    "start_time": "2022-12-06T13:26:32.587Z"
   },
   {
    "duration": 36,
    "start_time": "2022-12-06T13:26:32.634Z"
   },
   {
    "duration": 477,
    "start_time": "2022-12-06T13:26:32.674Z"
   },
   {
    "duration": 395,
    "start_time": "2022-12-06T13:26:33.153Z"
   },
   {
    "duration": 14,
    "start_time": "2022-12-06T13:26:33.550Z"
   },
   {
    "duration": 257,
    "start_time": "2022-12-06T13:26:33.566Z"
   },
   {
    "duration": 18,
    "start_time": "2022-12-06T13:26:33.825Z"
   },
   {
    "duration": 355,
    "start_time": "2022-12-06T13:26:33.846Z"
   },
   {
    "duration": 394,
    "start_time": "2022-12-06T13:26:34.203Z"
   },
   {
    "duration": 57,
    "start_time": "2022-12-06T13:26:34.599Z"
   },
   {
    "duration": 7,
    "start_time": "2022-12-06T13:26:34.658Z"
   },
   {
    "duration": 32,
    "start_time": "2022-12-06T13:26:34.666Z"
   },
   {
    "duration": 484,
    "start_time": "2022-12-06T13:26:34.700Z"
   },
   {
    "duration": 14,
    "start_time": "2022-12-06T13:26:35.186Z"
   },
   {
    "duration": 3406,
    "start_time": "2022-12-06T13:26:35.202Z"
   },
   {
    "duration": 264,
    "start_time": "2022-12-06T13:26:38.611Z"
   },
   {
    "duration": 4,
    "start_time": "2022-12-06T13:26:38.877Z"
   },
   {
    "duration": 516,
    "start_time": "2022-12-06T13:26:38.884Z"
   },
   {
    "duration": 589,
    "start_time": "2022-12-06T13:26:39.404Z"
   },
   {
    "duration": 442,
    "start_time": "2022-12-06T13:26:39.995Z"
   },
   {
    "duration": 12,
    "start_time": "2022-12-06T13:26:40.439Z"
   },
   {
    "duration": 50,
    "start_time": "2022-12-06T13:26:40.453Z"
   },
   {
    "duration": 65,
    "start_time": "2022-12-06T13:26:40.505Z"
   },
   {
    "duration": 34,
    "start_time": "2022-12-06T13:26:40.572Z"
   },
   {
    "duration": 1152,
    "start_time": "2022-12-06T13:38:55.929Z"
   },
   {
    "duration": 54,
    "start_time": "2022-12-06T13:38:57.083Z"
   },
   {
    "duration": 36,
    "start_time": "2022-12-06T13:38:57.139Z"
   },
   {
    "duration": 4,
    "start_time": "2022-12-06T13:38:57.177Z"
   },
   {
    "duration": 26,
    "start_time": "2022-12-06T13:38:57.183Z"
   },
   {
    "duration": 28,
    "start_time": "2022-12-06T13:38:57.211Z"
   },
   {
    "duration": 8,
    "start_time": "2022-12-06T13:38:57.241Z"
   },
   {
    "duration": 31,
    "start_time": "2022-12-06T13:38:57.252Z"
   },
   {
    "duration": 9,
    "start_time": "2022-12-06T13:38:57.285Z"
   },
   {
    "duration": 10,
    "start_time": "2022-12-06T13:38:57.296Z"
   },
   {
    "duration": 16,
    "start_time": "2022-12-06T13:38:57.308Z"
   },
   {
    "duration": 24,
    "start_time": "2022-12-06T13:38:57.326Z"
   },
   {
    "duration": 9,
    "start_time": "2022-12-06T13:38:57.352Z"
   },
   {
    "duration": 343,
    "start_time": "2022-12-06T13:38:57.364Z"
   },
   {
    "duration": 343,
    "start_time": "2022-12-06T13:38:57.709Z"
   },
   {
    "duration": 11,
    "start_time": "2022-12-06T13:38:58.053Z"
   },
   {
    "duration": 234,
    "start_time": "2022-12-06T13:38:58.066Z"
   },
   {
    "duration": 7,
    "start_time": "2022-12-06T13:38:58.302Z"
   },
   {
    "duration": 332,
    "start_time": "2022-12-06T13:38:58.310Z"
   },
   {
    "duration": 339,
    "start_time": "2022-12-06T13:38:58.644Z"
   },
   {
    "duration": 36,
    "start_time": "2022-12-06T13:38:58.985Z"
   },
   {
    "duration": 5,
    "start_time": "2022-12-06T13:38:59.036Z"
   },
   {
    "duration": 44,
    "start_time": "2022-12-06T13:38:59.043Z"
   },
   {
    "duration": 390,
    "start_time": "2022-12-06T13:38:59.088Z"
   },
   {
    "duration": 12,
    "start_time": "2022-12-06T13:38:59.480Z"
   },
   {
    "duration": 2472,
    "start_time": "2022-12-06T13:38:59.494Z"
   },
   {
    "duration": 190,
    "start_time": "2022-12-06T13:39:01.968Z"
   },
   {
    "duration": 3,
    "start_time": "2022-12-06T13:39:02.160Z"
   },
   {
    "duration": 514,
    "start_time": "2022-12-06T13:39:02.165Z"
   },
   {
    "duration": 537,
    "start_time": "2022-12-06T13:39:02.681Z"
   },
   {
    "duration": 389,
    "start_time": "2022-12-06T13:39:03.219Z"
   },
   {
    "duration": 10,
    "start_time": "2022-12-06T13:39:03.610Z"
   },
   {
    "duration": 27,
    "start_time": "2022-12-06T13:39:03.622Z"
   },
   {
    "duration": 41,
    "start_time": "2022-12-06T13:39:03.650Z"
   },
   {
    "duration": 37,
    "start_time": "2022-12-06T13:39:03.692Z"
   },
   {
    "duration": 1233,
    "start_time": "2022-12-06T14:18:29.661Z"
   },
   {
    "duration": 69,
    "start_time": "2022-12-06T14:18:30.896Z"
   },
   {
    "duration": 38,
    "start_time": "2022-12-06T14:18:30.967Z"
   },
   {
    "duration": 3,
    "start_time": "2022-12-06T14:18:31.007Z"
   },
   {
    "duration": 70,
    "start_time": "2022-12-06T14:18:31.012Z"
   },
   {
    "duration": 16,
    "start_time": "2022-12-06T14:18:31.084Z"
   },
   {
    "duration": 21,
    "start_time": "2022-12-06T14:18:31.103Z"
   },
   {
    "duration": 56,
    "start_time": "2022-12-06T14:18:31.125Z"
   },
   {
    "duration": 36,
    "start_time": "2022-12-06T14:18:31.183Z"
   },
   {
    "duration": 15,
    "start_time": "2022-12-06T14:18:31.220Z"
   },
   {
    "duration": 50,
    "start_time": "2022-12-06T14:18:31.237Z"
   },
   {
    "duration": 69,
    "start_time": "2022-12-06T14:18:31.288Z"
   },
   {
    "duration": 34,
    "start_time": "2022-12-06T14:18:31.359Z"
   },
   {
    "duration": 437,
    "start_time": "2022-12-06T14:18:31.396Z"
   },
   {
    "duration": 389,
    "start_time": "2022-12-06T14:18:31.836Z"
   },
   {
    "duration": 20,
    "start_time": "2022-12-06T14:18:32.227Z"
   },
   {
    "duration": 354,
    "start_time": "2022-12-06T14:18:32.253Z"
   },
   {
    "duration": 11,
    "start_time": "2022-12-06T14:18:32.609Z"
   },
   {
    "duration": 385,
    "start_time": "2022-12-06T14:18:32.622Z"
   },
   {
    "duration": 383,
    "start_time": "2022-12-06T14:18:33.008Z"
   },
   {
    "duration": 61,
    "start_time": "2022-12-06T14:18:33.393Z"
   },
   {
    "duration": 9,
    "start_time": "2022-12-06T14:18:33.459Z"
   },
   {
    "duration": 20,
    "start_time": "2022-12-06T14:18:33.470Z"
   },
   {
    "duration": 444,
    "start_time": "2022-12-06T14:18:33.491Z"
   },
   {
    "duration": 17,
    "start_time": "2022-12-06T14:18:33.945Z"
   },
   {
    "duration": 3113,
    "start_time": "2022-12-06T14:18:33.965Z"
   },
   {
    "duration": 243,
    "start_time": "2022-12-06T14:18:37.079Z"
   },
   {
    "duration": 3,
    "start_time": "2022-12-06T14:18:37.324Z"
   },
   {
    "duration": 502,
    "start_time": "2022-12-06T14:18:37.329Z"
   },
   {
    "duration": 595,
    "start_time": "2022-12-06T14:18:37.834Z"
   },
   {
    "duration": 494,
    "start_time": "2022-12-06T14:18:38.431Z"
   },
   {
    "duration": 13,
    "start_time": "2022-12-06T14:18:38.927Z"
   },
   {
    "duration": 39,
    "start_time": "2022-12-06T14:18:38.942Z"
   },
   {
    "duration": 16,
    "start_time": "2022-12-06T14:18:38.983Z"
   },
   {
    "duration": 11,
    "start_time": "2022-12-06T14:18:39.001Z"
   },
   {
    "duration": 1126,
    "start_time": "2022-12-06T14:20:49.298Z"
   },
   {
    "duration": 54,
    "start_time": "2022-12-06T14:20:50.426Z"
   },
   {
    "duration": 36,
    "start_time": "2022-12-06T14:20:50.481Z"
   },
   {
    "duration": 3,
    "start_time": "2022-12-06T14:20:50.518Z"
   },
   {
    "duration": 41,
    "start_time": "2022-12-06T14:20:50.523Z"
   },
   {
    "duration": 7,
    "start_time": "2022-12-06T14:20:50.565Z"
   },
   {
    "duration": 25,
    "start_time": "2022-12-06T14:20:50.573Z"
   },
   {
    "duration": 16,
    "start_time": "2022-12-06T14:20:50.599Z"
   },
   {
    "duration": 11,
    "start_time": "2022-12-06T14:20:50.617Z"
   },
   {
    "duration": 28,
    "start_time": "2022-12-06T14:20:50.629Z"
   },
   {
    "duration": 29,
    "start_time": "2022-12-06T14:20:50.658Z"
   },
   {
    "duration": 41,
    "start_time": "2022-12-06T14:20:50.688Z"
   },
   {
    "duration": 24,
    "start_time": "2022-12-06T14:20:50.731Z"
   },
   {
    "duration": 402,
    "start_time": "2022-12-06T14:20:50.758Z"
   },
   {
    "duration": 356,
    "start_time": "2022-12-06T14:20:51.162Z"
   },
   {
    "duration": 20,
    "start_time": "2022-12-06T14:20:51.520Z"
   },
   {
    "duration": 263,
    "start_time": "2022-12-06T14:20:51.543Z"
   },
   {
    "duration": 7,
    "start_time": "2022-12-06T14:20:51.807Z"
   },
   {
    "duration": 352,
    "start_time": "2022-12-06T14:20:51.816Z"
   },
   {
    "duration": 408,
    "start_time": "2022-12-06T14:20:52.169Z"
   },
   {
    "duration": 41,
    "start_time": "2022-12-06T14:20:52.579Z"
   },
   {
    "duration": 10,
    "start_time": "2022-12-06T14:20:52.636Z"
   },
   {
    "duration": 33,
    "start_time": "2022-12-06T14:20:52.648Z"
   },
   {
    "duration": 416,
    "start_time": "2022-12-06T14:20:52.682Z"
   },
   {
    "duration": 12,
    "start_time": "2022-12-06T14:20:53.100Z"
   },
   {
    "duration": 2883,
    "start_time": "2022-12-06T14:20:53.114Z"
   },
   {
    "duration": 245,
    "start_time": "2022-12-06T14:20:55.999Z"
   },
   {
    "duration": 4,
    "start_time": "2022-12-06T14:20:56.246Z"
   },
   {
    "duration": 476,
    "start_time": "2022-12-06T14:20:56.252Z"
   },
   {
    "duration": 575,
    "start_time": "2022-12-06T14:20:56.731Z"
   },
   {
    "duration": 467,
    "start_time": "2022-12-06T14:20:57.308Z"
   },
   {
    "duration": 11,
    "start_time": "2022-12-06T14:20:57.777Z"
   },
   {
    "duration": 39,
    "start_time": "2022-12-06T14:20:57.789Z"
   },
   {
    "duration": 37,
    "start_time": "2022-12-06T14:20:57.830Z"
   },
   {
    "duration": 21,
    "start_time": "2022-12-06T14:20:57.869Z"
   },
   {
    "duration": 1091,
    "start_time": "2022-12-06T15:26:19.015Z"
   },
   {
    "duration": 50,
    "start_time": "2022-12-06T15:26:20.108Z"
   },
   {
    "duration": 33,
    "start_time": "2022-12-06T15:26:20.159Z"
   },
   {
    "duration": 3,
    "start_time": "2022-12-06T15:26:20.194Z"
   },
   {
    "duration": 18,
    "start_time": "2022-12-06T15:26:20.198Z"
   },
   {
    "duration": 7,
    "start_time": "2022-12-06T15:26:20.217Z"
   },
   {
    "duration": 9,
    "start_time": "2022-12-06T15:26:20.225Z"
   },
   {
    "duration": 13,
    "start_time": "2022-12-06T15:26:20.236Z"
   },
   {
    "duration": 9,
    "start_time": "2022-12-06T15:26:20.251Z"
   },
   {
    "duration": 6,
    "start_time": "2022-12-06T15:26:20.262Z"
   },
   {
    "duration": 8,
    "start_time": "2022-12-06T15:26:20.269Z"
   },
   {
    "duration": 18,
    "start_time": "2022-12-06T15:26:20.279Z"
   },
   {
    "duration": 9,
    "start_time": "2022-12-06T15:26:20.299Z"
   },
   {
    "duration": 345,
    "start_time": "2022-12-06T15:26:20.309Z"
   },
   {
    "duration": 290,
    "start_time": "2022-12-06T15:26:20.655Z"
   },
   {
    "duration": 13,
    "start_time": "2022-12-06T15:26:20.946Z"
   },
   {
    "duration": 219,
    "start_time": "2022-12-06T15:26:20.961Z"
   },
   {
    "duration": 7,
    "start_time": "2022-12-06T15:26:21.182Z"
   },
   {
    "duration": 299,
    "start_time": "2022-12-06T15:26:21.191Z"
   },
   {
    "duration": 317,
    "start_time": "2022-12-06T15:26:21.492Z"
   },
   {
    "duration": 39,
    "start_time": "2022-12-06T15:26:21.811Z"
   },
   {
    "duration": 4,
    "start_time": "2022-12-06T15:26:21.852Z"
   },
   {
    "duration": 18,
    "start_time": "2022-12-06T15:26:21.858Z"
   },
   {
    "duration": 354,
    "start_time": "2022-12-06T15:26:21.877Z"
   },
   {
    "duration": 12,
    "start_time": "2022-12-06T15:26:22.232Z"
   },
   {
    "duration": 2358,
    "start_time": "2022-12-06T15:26:22.245Z"
   },
   {
    "duration": 186,
    "start_time": "2022-12-06T15:26:24.604Z"
   },
   {
    "duration": 2,
    "start_time": "2022-12-06T15:26:24.793Z"
   },
   {
    "duration": 383,
    "start_time": "2022-12-06T15:26:24.797Z"
   },
   {
    "duration": 521,
    "start_time": "2022-12-06T15:26:25.181Z"
   },
   {
    "duration": 373,
    "start_time": "2022-12-06T15:26:25.704Z"
   },
   {
    "duration": 9,
    "start_time": "2022-12-06T15:26:26.079Z"
   },
   {
    "duration": 14,
    "start_time": "2022-12-06T15:26:26.090Z"
   },
   {
    "duration": 23,
    "start_time": "2022-12-06T15:26:26.105Z"
   },
   {
    "duration": 10,
    "start_time": "2022-12-06T15:26:26.130Z"
   },
   {
    "duration": 112,
    "start_time": "2022-12-06T15:30:25.235Z"
   },
   {
    "duration": 373,
    "start_time": "2022-12-06T15:30:35.307Z"
   },
   {
    "duration": 1073,
    "start_time": "2022-12-06T15:36:01.613Z"
   },
   {
    "duration": 53,
    "start_time": "2022-12-06T15:36:02.688Z"
   },
   {
    "duration": 35,
    "start_time": "2022-12-06T15:36:02.743Z"
   },
   {
    "duration": 4,
    "start_time": "2022-12-06T15:36:02.780Z"
   },
   {
    "duration": 36,
    "start_time": "2022-12-06T15:36:02.785Z"
   },
   {
    "duration": 7,
    "start_time": "2022-12-06T15:36:02.824Z"
   },
   {
    "duration": 14,
    "start_time": "2022-12-06T15:36:02.833Z"
   },
   {
    "duration": 23,
    "start_time": "2022-12-06T15:36:02.849Z"
   },
   {
    "duration": 14,
    "start_time": "2022-12-06T15:36:02.877Z"
   },
   {
    "duration": 7,
    "start_time": "2022-12-06T15:36:02.893Z"
   },
   {
    "duration": 11,
    "start_time": "2022-12-06T15:36:02.901Z"
   },
   {
    "duration": 43,
    "start_time": "2022-12-06T15:36:02.913Z"
   },
   {
    "duration": 18,
    "start_time": "2022-12-06T15:36:02.958Z"
   },
   {
    "duration": 329,
    "start_time": "2022-12-06T15:36:02.977Z"
   },
   {
    "duration": 303,
    "start_time": "2022-12-06T15:36:03.308Z"
   },
   {
    "duration": 16,
    "start_time": "2022-12-06T15:36:03.613Z"
   },
   {
    "duration": 209,
    "start_time": "2022-12-06T15:36:03.631Z"
   },
   {
    "duration": 8,
    "start_time": "2022-12-06T15:36:03.842Z"
   },
   {
    "duration": 295,
    "start_time": "2022-12-06T15:36:03.852Z"
   },
   {
    "duration": 314,
    "start_time": "2022-12-06T15:36:04.149Z"
   },
   {
    "duration": 383,
    "start_time": "2022-12-06T15:36:04.465Z"
   },
   {
    "duration": 34,
    "start_time": "2022-12-06T15:36:04.849Z"
   },
   {
    "duration": 5,
    "start_time": "2022-12-06T15:36:04.884Z"
   },
   {
    "duration": 30,
    "start_time": "2022-12-06T15:36:04.891Z"
   },
   {
    "duration": 272,
    "start_time": "2022-12-06T15:36:04.923Z"
   },
   {
    "duration": 11,
    "start_time": "2022-12-06T15:36:05.197Z"
   },
   {
    "duration": 2435,
    "start_time": "2022-12-06T15:36:05.209Z"
   },
   {
    "duration": 187,
    "start_time": "2022-12-06T15:36:07.647Z"
   },
   {
    "duration": 2,
    "start_time": "2022-12-06T15:36:07.836Z"
   },
   {
    "duration": 474,
    "start_time": "2022-12-06T15:36:07.839Z"
   },
   {
    "duration": 438,
    "start_time": "2022-12-06T15:36:08.314Z"
   },
   {
    "duration": 373,
    "start_time": "2022-12-06T15:36:08.754Z"
   },
   {
    "duration": 9,
    "start_time": "2022-12-06T15:36:09.128Z"
   },
   {
    "duration": 18,
    "start_time": "2022-12-06T15:36:09.138Z"
   },
   {
    "duration": 10,
    "start_time": "2022-12-06T15:36:09.157Z"
   },
   {
    "duration": 14,
    "start_time": "2022-12-06T15:36:09.169Z"
   },
   {
    "duration": 48,
    "start_time": "2022-12-06T17:25:53.640Z"
   },
   {
    "duration": 1380,
    "start_time": "2022-12-06T17:25:59.367Z"
   },
   {
    "duration": 120,
    "start_time": "2022-12-06T17:26:00.750Z"
   },
   {
    "duration": 44,
    "start_time": "2022-12-06T17:26:00.874Z"
   },
   {
    "duration": 3,
    "start_time": "2022-12-06T17:26:00.920Z"
   },
   {
    "duration": 43,
    "start_time": "2022-12-06T17:26:00.925Z"
   },
   {
    "duration": 30,
    "start_time": "2022-12-06T17:26:00.969Z"
   },
   {
    "duration": 21,
    "start_time": "2022-12-06T17:26:01.001Z"
   },
   {
    "duration": 62,
    "start_time": "2022-12-06T17:26:01.024Z"
   },
   {
    "duration": 24,
    "start_time": "2022-12-06T17:26:01.088Z"
   },
   {
    "duration": 13,
    "start_time": "2022-12-06T17:26:01.114Z"
   },
   {
    "duration": 39,
    "start_time": "2022-12-06T17:26:01.129Z"
   },
   {
    "duration": 62,
    "start_time": "2022-12-06T17:26:01.170Z"
   },
   {
    "duration": 6,
    "start_time": "2022-12-06T17:26:01.236Z"
   },
   {
    "duration": 346,
    "start_time": "2022-12-06T17:26:01.244Z"
   },
   {
    "duration": 316,
    "start_time": "2022-12-06T17:26:01.592Z"
   },
   {
    "duration": 11,
    "start_time": "2022-12-06T17:26:01.910Z"
   },
   {
    "duration": 228,
    "start_time": "2022-12-06T17:26:01.922Z"
   },
   {
    "duration": 11,
    "start_time": "2022-12-06T17:26:02.151Z"
   },
   {
    "duration": 296,
    "start_time": "2022-12-06T17:26:02.164Z"
   },
   {
    "duration": 295,
    "start_time": "2022-12-06T17:26:02.462Z"
   },
   {
    "duration": 389,
    "start_time": "2022-12-06T17:26:02.759Z"
   },
   {
    "duration": 32,
    "start_time": "2022-12-06T17:26:03.150Z"
   },
   {
    "duration": 15,
    "start_time": "2022-12-06T17:26:03.183Z"
   },
   {
    "duration": 14,
    "start_time": "2022-12-06T17:26:03.201Z"
   },
   {
    "duration": 285,
    "start_time": "2022-12-06T17:26:03.217Z"
   },
   {
    "duration": 11,
    "start_time": "2022-12-06T17:26:03.503Z"
   },
   {
    "duration": 2493,
    "start_time": "2022-12-06T17:26:03.516Z"
   },
   {
    "duration": 190,
    "start_time": "2022-12-06T17:26:06.010Z"
   },
   {
    "duration": 3,
    "start_time": "2022-12-06T17:26:06.202Z"
   },
   {
    "duration": 494,
    "start_time": "2022-12-06T17:26:06.206Z"
   },
   {
    "duration": 415,
    "start_time": "2022-12-06T17:26:06.702Z"
   },
   {
    "duration": 381,
    "start_time": "2022-12-06T17:26:07.119Z"
   },
   {
    "duration": 8,
    "start_time": "2022-12-06T17:26:07.502Z"
   },
   {
    "duration": 26,
    "start_time": "2022-12-06T17:26:07.511Z"
   },
   {
    "duration": 27,
    "start_time": "2022-12-06T17:26:07.538Z"
   },
   {
    "duration": 27,
    "start_time": "2022-12-06T17:26:07.567Z"
   },
   {
    "duration": 519,
    "start_time": "2022-12-06T17:26:30.103Z"
   },
   {
    "duration": 368,
    "start_time": "2022-12-06T17:27:19.104Z"
   },
   {
    "duration": 108,
    "start_time": "2022-12-06T17:35:20.579Z"
   },
   {
    "duration": 1020,
    "start_time": "2022-12-06T17:35:27.530Z"
   },
   {
    "duration": 50,
    "start_time": "2022-12-06T17:35:28.553Z"
   },
   {
    "duration": 34,
    "start_time": "2022-12-06T17:35:28.607Z"
   },
   {
    "duration": 4,
    "start_time": "2022-12-06T17:35:28.643Z"
   },
   {
    "duration": 26,
    "start_time": "2022-12-06T17:35:28.649Z"
   },
   {
    "duration": 26,
    "start_time": "2022-12-06T17:35:28.677Z"
   },
   {
    "duration": 6,
    "start_time": "2022-12-06T17:35:28.705Z"
   },
   {
    "duration": 6,
    "start_time": "2022-12-06T17:35:28.712Z"
   },
   {
    "duration": 12,
    "start_time": "2022-12-06T17:35:28.721Z"
   },
   {
    "duration": 8,
    "start_time": "2022-12-06T17:35:28.734Z"
   },
   {
    "duration": 11,
    "start_time": "2022-12-06T17:35:28.743Z"
   },
   {
    "duration": 41,
    "start_time": "2022-12-06T17:35:28.756Z"
   },
   {
    "duration": 6,
    "start_time": "2022-12-06T17:35:28.799Z"
   },
   {
    "duration": 332,
    "start_time": "2022-12-06T17:35:28.807Z"
   },
   {
    "duration": 290,
    "start_time": "2022-12-06T17:35:29.141Z"
   },
   {
    "duration": 11,
    "start_time": "2022-12-06T17:35:29.433Z"
   },
   {
    "duration": 222,
    "start_time": "2022-12-06T17:35:29.446Z"
   },
   {
    "duration": 115,
    "start_time": "2022-12-06T17:35:29.670Z"
   },
   {
    "duration": 0,
    "start_time": "2022-12-06T17:35:29.787Z"
   },
   {
    "duration": 0,
    "start_time": "2022-12-06T17:35:29.788Z"
   },
   {
    "duration": 0,
    "start_time": "2022-12-06T17:35:29.789Z"
   },
   {
    "duration": 0,
    "start_time": "2022-12-06T17:35:29.797Z"
   },
   {
    "duration": 0,
    "start_time": "2022-12-06T17:35:29.798Z"
   },
   {
    "duration": 0,
    "start_time": "2022-12-06T17:35:29.799Z"
   },
   {
    "duration": 0,
    "start_time": "2022-12-06T17:35:29.800Z"
   },
   {
    "duration": 0,
    "start_time": "2022-12-06T17:35:29.801Z"
   },
   {
    "duration": 0,
    "start_time": "2022-12-06T17:35:29.802Z"
   },
   {
    "duration": 0,
    "start_time": "2022-12-06T17:35:29.803Z"
   },
   {
    "duration": 0,
    "start_time": "2022-12-06T17:35:29.804Z"
   },
   {
    "duration": 0,
    "start_time": "2022-12-06T17:35:29.805Z"
   },
   {
    "duration": 1,
    "start_time": "2022-12-06T17:35:29.806Z"
   },
   {
    "duration": 0,
    "start_time": "2022-12-06T17:35:29.808Z"
   },
   {
    "duration": 0,
    "start_time": "2022-12-06T17:35:29.809Z"
   },
   {
    "duration": 0,
    "start_time": "2022-12-06T17:35:29.810Z"
   },
   {
    "duration": 0,
    "start_time": "2022-12-06T17:35:29.811Z"
   },
   {
    "duration": 0,
    "start_time": "2022-12-06T17:35:29.812Z"
   },
   {
    "duration": 0,
    "start_time": "2022-12-06T17:35:29.813Z"
   },
   {
    "duration": 226,
    "start_time": "2022-12-06T17:36:29.957Z"
   },
   {
    "duration": 286,
    "start_time": "2022-12-06T17:36:56.336Z"
   },
   {
    "duration": 218,
    "start_time": "2022-12-06T17:37:06.187Z"
   },
   {
    "duration": 25,
    "start_time": "2022-12-06T17:37:51.593Z"
   },
   {
    "duration": 3,
    "start_time": "2022-12-06T17:39:57.859Z"
   },
   {
    "duration": 26,
    "start_time": "2022-12-06T17:40:30.427Z"
   },
   {
    "duration": 24,
    "start_time": "2022-12-06T17:42:06.654Z"
   },
   {
    "duration": 216,
    "start_time": "2022-12-06T17:42:08.418Z"
   },
   {
    "duration": 77,
    "start_time": "2022-12-06T17:48:06.122Z"
   },
   {
    "duration": 49,
    "start_time": "2022-12-06T17:54:53.172Z"
   },
   {
    "duration": 46,
    "start_time": "2022-12-06T17:55:04.016Z"
   },
   {
    "duration": 38,
    "start_time": "2022-12-06T17:57:08.825Z"
   },
   {
    "duration": 59,
    "start_time": "2022-12-06T17:57:40.382Z"
   },
   {
    "duration": 5,
    "start_time": "2022-12-06T18:00:11.496Z"
   },
   {
    "duration": 330,
    "start_time": "2022-12-06T18:00:12.476Z"
   },
   {
    "duration": 5,
    "start_time": "2022-12-06T18:01:24.548Z"
   },
   {
    "duration": 265,
    "start_time": "2022-12-06T18:01:25.862Z"
   },
   {
    "duration": 202,
    "start_time": "2022-12-06T18:01:41.097Z"
   },
   {
    "duration": 1245,
    "start_time": "2022-12-06T18:03:44.570Z"
   },
   {
    "duration": 54,
    "start_time": "2022-12-06T18:03:45.817Z"
   },
   {
    "duration": 36,
    "start_time": "2022-12-06T18:03:45.873Z"
   },
   {
    "duration": 4,
    "start_time": "2022-12-06T18:03:45.910Z"
   },
   {
    "duration": 26,
    "start_time": "2022-12-06T18:03:45.916Z"
   },
   {
    "duration": 9,
    "start_time": "2022-12-06T18:03:45.945Z"
   },
   {
    "duration": 11,
    "start_time": "2022-12-06T18:03:45.956Z"
   },
   {
    "duration": 7,
    "start_time": "2022-12-06T18:03:45.968Z"
   },
   {
    "duration": 8,
    "start_time": "2022-12-06T18:03:45.977Z"
   },
   {
    "duration": 5,
    "start_time": "2022-12-06T18:03:45.997Z"
   },
   {
    "duration": 13,
    "start_time": "2022-12-06T18:03:46.003Z"
   },
   {
    "duration": 21,
    "start_time": "2022-12-06T18:03:46.017Z"
   },
   {
    "duration": 10,
    "start_time": "2022-12-06T18:03:46.040Z"
   },
   {
    "duration": 346,
    "start_time": "2022-12-06T18:03:46.053Z"
   },
   {
    "duration": 308,
    "start_time": "2022-12-06T18:03:46.400Z"
   },
   {
    "duration": 11,
    "start_time": "2022-12-06T18:03:46.710Z"
   },
   {
    "duration": 26,
    "start_time": "2022-12-06T18:03:46.722Z"
   },
   {
    "duration": 4,
    "start_time": "2022-12-06T18:03:46.749Z"
   },
   {
    "duration": 229,
    "start_time": "2022-12-06T18:03:46.754Z"
   },
   {
    "duration": 12,
    "start_time": "2022-12-06T18:03:46.985Z"
   },
   {
    "duration": 275,
    "start_time": "2022-12-06T18:03:46.999Z"
   },
   {
    "duration": 312,
    "start_time": "2022-12-06T18:03:47.276Z"
   },
   {
    "duration": 418,
    "start_time": "2022-12-06T18:03:47.590Z"
   },
   {
    "duration": 34,
    "start_time": "2022-12-06T18:03:48.010Z"
   },
   {
    "duration": 5,
    "start_time": "2022-12-06T18:03:48.045Z"
   },
   {
    "duration": 19,
    "start_time": "2022-12-06T18:03:48.051Z"
   },
   {
    "duration": 303,
    "start_time": "2022-12-06T18:03:48.071Z"
   },
   {
    "duration": 21,
    "start_time": "2022-12-06T18:03:48.376Z"
   },
   {
    "duration": 2572,
    "start_time": "2022-12-06T18:03:48.399Z"
   },
   {
    "duration": 200,
    "start_time": "2022-12-06T18:03:50.973Z"
   },
   {
    "duration": 2,
    "start_time": "2022-12-06T18:03:51.175Z"
   },
   {
    "duration": 480,
    "start_time": "2022-12-06T18:03:51.178Z"
   },
   {
    "duration": 413,
    "start_time": "2022-12-06T18:03:51.660Z"
   },
   {
    "duration": 375,
    "start_time": "2022-12-06T18:03:52.074Z"
   },
   {
    "duration": 8,
    "start_time": "2022-12-06T18:03:52.451Z"
   },
   {
    "duration": 15,
    "start_time": "2022-12-06T18:03:52.460Z"
   },
   {
    "duration": 10,
    "start_time": "2022-12-06T18:03:52.477Z"
   },
   {
    "duration": 10,
    "start_time": "2022-12-06T18:03:52.497Z"
   },
   {
    "duration": 45,
    "start_time": "2022-12-07T06:51:28.281Z"
   },
   {
    "duration": 1184,
    "start_time": "2022-12-07T06:51:34.360Z"
   },
   {
    "duration": 109,
    "start_time": "2022-12-07T06:51:35.546Z"
   },
   {
    "duration": 37,
    "start_time": "2022-12-07T06:51:35.656Z"
   },
   {
    "duration": 4,
    "start_time": "2022-12-07T06:51:35.695Z"
   },
   {
    "duration": 16,
    "start_time": "2022-12-07T06:51:35.701Z"
   },
   {
    "duration": 5,
    "start_time": "2022-12-07T06:51:35.719Z"
   },
   {
    "duration": 11,
    "start_time": "2022-12-07T06:51:35.726Z"
   },
   {
    "duration": 10,
    "start_time": "2022-12-07T06:51:35.739Z"
   },
   {
    "duration": 11,
    "start_time": "2022-12-07T06:51:35.751Z"
   },
   {
    "duration": 4,
    "start_time": "2022-12-07T06:51:35.764Z"
   },
   {
    "duration": 8,
    "start_time": "2022-12-07T06:51:35.769Z"
   },
   {
    "duration": 33,
    "start_time": "2022-12-07T06:51:35.778Z"
   },
   {
    "duration": 8,
    "start_time": "2022-12-07T06:51:35.813Z"
   },
   {
    "duration": 327,
    "start_time": "2022-12-07T06:51:35.822Z"
   },
   {
    "duration": 296,
    "start_time": "2022-12-07T06:51:36.150Z"
   },
   {
    "duration": 10,
    "start_time": "2022-12-07T06:51:36.447Z"
   },
   {
    "duration": 24,
    "start_time": "2022-12-07T06:51:36.458Z"
   },
   {
    "duration": 4,
    "start_time": "2022-12-07T06:51:36.498Z"
   },
   {
    "duration": 194,
    "start_time": "2022-12-07T06:51:36.503Z"
   },
   {
    "duration": 6,
    "start_time": "2022-12-07T06:51:36.699Z"
   },
   {
    "duration": 264,
    "start_time": "2022-12-07T06:51:36.707Z"
   },
   {
    "duration": 289,
    "start_time": "2022-12-07T06:51:36.973Z"
   },
   {
    "duration": 378,
    "start_time": "2022-12-07T06:51:37.264Z"
   },
   {
    "duration": 31,
    "start_time": "2022-12-07T06:51:37.644Z"
   },
   {
    "duration": 4,
    "start_time": "2022-12-07T06:51:37.677Z"
   },
   {
    "duration": 27,
    "start_time": "2022-12-07T06:51:37.682Z"
   },
   {
    "duration": 273,
    "start_time": "2022-12-07T06:51:37.710Z"
   },
   {
    "duration": 18,
    "start_time": "2022-12-07T06:51:37.986Z"
   },
   {
    "duration": 2353,
    "start_time": "2022-12-07T06:51:38.006Z"
   },
   {
    "duration": 180,
    "start_time": "2022-12-07T06:51:40.361Z"
   },
   {
    "duration": 3,
    "start_time": "2022-12-07T06:51:40.543Z"
   },
   {
    "duration": 467,
    "start_time": "2022-12-07T06:51:40.548Z"
   },
   {
    "duration": 406,
    "start_time": "2022-12-07T06:51:41.017Z"
   },
   {
    "duration": 363,
    "start_time": "2022-12-07T06:51:41.424Z"
   },
   {
    "duration": 14,
    "start_time": "2022-12-07T06:51:41.789Z"
   },
   {
    "duration": 10,
    "start_time": "2022-12-07T06:51:41.804Z"
   },
   {
    "duration": 10,
    "start_time": "2022-12-07T06:51:41.815Z"
   },
   {
    "duration": 10,
    "start_time": "2022-12-07T06:51:41.827Z"
   },
   {
    "duration": 989,
    "start_time": "2022-12-07T06:54:28.841Z"
   },
   {
    "duration": 51,
    "start_time": "2022-12-07T06:54:29.832Z"
   },
   {
    "duration": 29,
    "start_time": "2022-12-07T06:54:29.885Z"
   },
   {
    "duration": 2,
    "start_time": "2022-12-07T06:54:29.916Z"
   },
   {
    "duration": 19,
    "start_time": "2022-12-07T06:54:29.920Z"
   },
   {
    "duration": 6,
    "start_time": "2022-12-07T06:54:29.940Z"
   },
   {
    "duration": 7,
    "start_time": "2022-12-07T06:54:29.948Z"
   },
   {
    "duration": 9,
    "start_time": "2022-12-07T06:54:29.956Z"
   },
   {
    "duration": 32,
    "start_time": "2022-12-07T06:54:29.967Z"
   },
   {
    "duration": 4,
    "start_time": "2022-12-07T06:54:30.001Z"
   },
   {
    "duration": 20,
    "start_time": "2022-12-07T06:54:30.006Z"
   },
   {
    "duration": 36,
    "start_time": "2022-12-07T06:54:30.028Z"
   },
   {
    "duration": 45,
    "start_time": "2022-12-07T06:54:30.065Z"
   },
   {
    "duration": 382,
    "start_time": "2022-12-07T06:54:30.115Z"
   },
   {
    "duration": 300,
    "start_time": "2022-12-07T06:54:30.499Z"
   },
   {
    "duration": 9,
    "start_time": "2022-12-07T06:54:30.801Z"
   },
   {
    "duration": 39,
    "start_time": "2022-12-07T06:54:30.811Z"
   },
   {
    "duration": 5,
    "start_time": "2022-12-07T06:54:30.851Z"
   },
   {
    "duration": 206,
    "start_time": "2022-12-07T06:54:30.857Z"
   },
   {
    "duration": 7,
    "start_time": "2022-12-07T06:54:31.064Z"
   },
   {
    "duration": 283,
    "start_time": "2022-12-07T06:54:31.072Z"
   },
   {
    "duration": 308,
    "start_time": "2022-12-07T06:54:31.356Z"
   },
   {
    "duration": 391,
    "start_time": "2022-12-07T06:54:31.665Z"
   },
   {
    "duration": 44,
    "start_time": "2022-12-07T06:54:32.058Z"
   },
   {
    "duration": 7,
    "start_time": "2022-12-07T06:54:32.105Z"
   },
   {
    "duration": 17,
    "start_time": "2022-12-07T06:54:32.114Z"
   },
   {
    "duration": 329,
    "start_time": "2022-12-07T06:54:32.134Z"
   },
   {
    "duration": 11,
    "start_time": "2022-12-07T06:54:32.465Z"
   },
   {
    "duration": 2694,
    "start_time": "2022-12-07T06:54:32.477Z"
   },
   {
    "duration": 199,
    "start_time": "2022-12-07T06:54:35.172Z"
   },
   {
    "duration": 3,
    "start_time": "2022-12-07T06:54:35.373Z"
   },
   {
    "duration": 490,
    "start_time": "2022-12-07T06:54:35.378Z"
   },
   {
    "duration": 470,
    "start_time": "2022-12-07T06:54:35.870Z"
   },
   {
    "duration": 413,
    "start_time": "2022-12-07T06:54:36.342Z"
   },
   {
    "duration": 9,
    "start_time": "2022-12-07T06:54:36.756Z"
   },
   {
    "duration": 21,
    "start_time": "2022-12-07T06:54:36.766Z"
   },
   {
    "duration": 16,
    "start_time": "2022-12-07T06:54:36.788Z"
   },
   {
    "duration": 9,
    "start_time": "2022-12-07T06:54:36.805Z"
   },
   {
    "duration": 1190,
    "start_time": "2022-12-07T14:32:03.702Z"
   },
   {
    "duration": 58,
    "start_time": "2022-12-07T14:32:04.894Z"
   },
   {
    "duration": 32,
    "start_time": "2022-12-07T14:32:04.953Z"
   },
   {
    "duration": 4,
    "start_time": "2022-12-07T14:32:04.987Z"
   },
   {
    "duration": 25,
    "start_time": "2022-12-07T14:32:04.992Z"
   },
   {
    "duration": 7,
    "start_time": "2022-12-07T14:32:05.019Z"
   },
   {
    "duration": 10,
    "start_time": "2022-12-07T14:32:05.028Z"
   },
   {
    "duration": 6,
    "start_time": "2022-12-07T14:32:05.039Z"
   },
   {
    "duration": 9,
    "start_time": "2022-12-07T14:32:05.047Z"
   },
   {
    "duration": 4,
    "start_time": "2022-12-07T14:32:05.059Z"
   },
   {
    "duration": 9,
    "start_time": "2022-12-07T14:32:05.065Z"
   },
   {
    "duration": 19,
    "start_time": "2022-12-07T14:32:05.112Z"
   },
   {
    "duration": 7,
    "start_time": "2022-12-07T14:32:05.133Z"
   },
   {
    "duration": 402,
    "start_time": "2022-12-07T14:32:05.141Z"
   },
   {
    "duration": 338,
    "start_time": "2022-12-07T14:32:05.545Z"
   },
   {
    "duration": 10,
    "start_time": "2022-12-07T14:32:05.885Z"
   },
   {
    "duration": 39,
    "start_time": "2022-12-07T14:32:05.897Z"
   },
   {
    "duration": 5,
    "start_time": "2022-12-07T14:32:05.937Z"
   },
   {
    "duration": 263,
    "start_time": "2022-12-07T14:32:05.944Z"
   },
   {
    "duration": 11,
    "start_time": "2022-12-07T14:32:06.209Z"
   },
   {
    "duration": 385,
    "start_time": "2022-12-07T14:32:06.222Z"
   },
   {
    "duration": 364,
    "start_time": "2022-12-07T14:32:06.609Z"
   },
   {
    "duration": 441,
    "start_time": "2022-12-07T14:32:06.975Z"
   },
   {
    "duration": 37,
    "start_time": "2022-12-07T14:32:07.418Z"
   },
   {
    "duration": 6,
    "start_time": "2022-12-07T14:32:07.456Z"
   },
   {
    "duration": 25,
    "start_time": "2022-12-07T14:32:07.463Z"
   },
   {
    "duration": 326,
    "start_time": "2022-12-07T14:32:07.489Z"
   },
   {
    "duration": 13,
    "start_time": "2022-12-07T14:32:07.818Z"
   },
   {
    "duration": 2802,
    "start_time": "2022-12-07T14:32:07.833Z"
   },
   {
    "duration": 215,
    "start_time": "2022-12-07T14:32:10.638Z"
   },
   {
    "duration": 3,
    "start_time": "2022-12-07T14:32:10.856Z"
   },
   {
    "duration": 525,
    "start_time": "2022-12-07T14:32:10.860Z"
   },
   {
    "duration": 478,
    "start_time": "2022-12-07T14:32:11.387Z"
   },
   {
    "duration": 434,
    "start_time": "2022-12-07T14:32:11.867Z"
   },
   {
    "duration": 12,
    "start_time": "2022-12-07T14:32:12.302Z"
   },
   {
    "duration": 17,
    "start_time": "2022-12-07T14:32:12.315Z"
   },
   {
    "duration": 14,
    "start_time": "2022-12-07T14:32:12.333Z"
   },
   {
    "duration": 11,
    "start_time": "2022-12-07T14:32:12.349Z"
   }
  ],
  "kernelspec": {
   "display_name": "Python 3 (ipykernel)",
   "language": "python",
   "name": "python3"
  },
  "language_info": {
   "codemirror_mode": {
    "name": "ipython",
    "version": 3
   },
   "file_extension": ".py",
   "mimetype": "text/x-python",
   "name": "python",
   "nbconvert_exporter": "python",
   "pygments_lexer": "ipython3",
   "version": "3.9.5"
  },
  "toc": {
   "base_numbering": 1,
   "nav_menu": {},
   "number_sections": true,
   "sideBar": true,
   "skip_h1_title": true,
   "title_cell": "Содержание",
   "title_sidebar": "Contents",
   "toc_cell": true,
   "toc_position": {},
   "toc_section_display": true,
   "toc_window_display": false
  }
 },
 "nbformat": 4,
 "nbformat_minor": 2
}
