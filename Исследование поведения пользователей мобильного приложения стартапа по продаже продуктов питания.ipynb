{
 "cells": [
  {
   "cell_type": "markdown",
   "metadata": {},
   "source": [
    "# Исследование поведения пользователей мобильного приложения стартапа по продаже продуктов питания"
   ]
  },
  {
   "cell_type": "markdown",
   "metadata": {},
   "source": [
    "В этом исследовании изучите воронку продаж в мобильном приложении и узнаем, сколько пользователей доходит до покупки, а сколько — «застревает» на предыдущих шагах, и на каких именно. Также исследуем результаты A/A/B-эксперимента по изменению шрифтов во всём приложении, и выясним, целесообразно ли поступить так, как советуют дизайнеры."
   ]
  },
  {
   "cell_type": "markdown",
   "metadata": {
    "toc": true
   },
   "source": [
    "<h1>Содержание<span class=\"tocSkip\"></span></h1>\n",
    "<div class=\"toc\"><ul class=\"toc-item\"><li><span><a href=\"#Общая-информация-о-файле\" data-toc-modified-id=\"Общая-информация-о-файле-1\"><span class=\"toc-item-num\">1&nbsp;&nbsp;</span>Общая информация о файле</a></span></li><li><span><a href=\"#Предобработка-данных\" data-toc-modified-id=\"Предобработка-данных-2\"><span class=\"toc-item-num\">2&nbsp;&nbsp;</span>Предобработка данных</a></span><ul class=\"toc-item\"><li><span><a href=\"#Приведем-названия-столбцов-к-нижнему-и-змеиному-регистру\" data-toc-modified-id=\"Приведем-названия-столбцов-к-нижнему-и-змеиному-регистру-2.1\"><span class=\"toc-item-num\">2.1&nbsp;&nbsp;</span>Приведем названия столбцов к нижнему и змеиному регистру</a></span></li><li><span><a href=\"#Приведем-столбец-event_time-к-более-понятному-значению-времени-и-сохраним-его\" data-toc-modified-id=\"Приведем-столбец-event_time-к-более-понятному-значению-времени-и-сохраним-его-2.2\"><span class=\"toc-item-num\">2.2&nbsp;&nbsp;</span>Приведем столбец event_time к более понятному значению времени и сохраним его</a></span></li><li><span><a href=\"#Посчитаем-явные-дубликаты\" data-toc-modified-id=\"Посчитаем-явные-дубликаты-2.3\"><span class=\"toc-item-num\">2.3&nbsp;&nbsp;</span>Посчитаем явные дубликаты</a></span></li><li><span><a href=\"#Удалим-явные-дубликаты-и-сохраним-обновленный-датафрейм\" data-toc-modified-id=\"Удалим-явные-дубликаты-и-сохраним-обновленный-датафрейм-2.4\"><span class=\"toc-item-num\">2.4&nbsp;&nbsp;</span>Удалим явные дубликаты и сохраним обновленный датафрейм</a></span></li><li><span><a href=\"#Проверим,-что-в-трёх-экспериментальных-групп-нет-пересечений-по-пользователям\" data-toc-modified-id=\"Проверим,-что-в-трёх-экспериментальных-групп-нет-пересечений-по-пользователям-2.5\"><span class=\"toc-item-num\">2.5&nbsp;&nbsp;</span>Проверим, что в трёх экспериментальных групп нет пересечений по пользователям</a></span></li><li><span><a href=\"#Сохраним-даты-без-времени-в-отдельном-столбце\" data-toc-modified-id=\"Сохраним-даты-без-времени-в-отдельном-столбце-2.6\"><span class=\"toc-item-num\">2.6&nbsp;&nbsp;</span>Сохраним даты без времени в отдельном столбце</a></span></li><li><span><a href=\"#Посмотрим-на-обновленный-датафрейм\" data-toc-modified-id=\"Посмотрим-на-обновленный-датафрейм-2.7\"><span class=\"toc-item-num\">2.7&nbsp;&nbsp;</span>Посмотрим на обновленный датафрейм</a></span></li><li><span><a href=\"#Проверим-статистически-разницу-между-двумя-контрольными-группы-для-А/А-эксперимента-(между-выборками-246-и-247)\" data-toc-modified-id=\"Проверим-статистически-разницу-между-двумя-контрольными-группы-для-А/А-эксперимента-(между-выборками-246-и-247)-2.8\"><span class=\"toc-item-num\">2.8&nbsp;&nbsp;</span>Проверим статистически разницу между двумя контрольными группы для А/А-эксперимента (между выборками 246 и 247)</a></span></li></ul></li><li><span><a href=\"#Исследовательский-анализ-данных\" data-toc-modified-id=\"Исследовательский-анализ-данных-3\"><span class=\"toc-item-num\">3&nbsp;&nbsp;</span>Исследовательский анализ данных</a></span><ul class=\"toc-item\"><li><span><a href=\"#Посмотрим,-сколько-событий-есть-в-логе-и-сколько-из-них-уникальных?\" data-toc-modified-id=\"Посмотрим,-сколько-событий-есть-в-логе-и-сколько-из-них-уникальных?-3.1\"><span class=\"toc-item-num\">3.1&nbsp;&nbsp;</span>Посмотрим, сколько событий есть в логе и сколько из них уникальных?</a></span></li><li><span><a href=\"#Посмотрим,-сколько-всего-пользователей-в-логе-и-сколько-из-них-уникальных?\" data-toc-modified-id=\"Посмотрим,-сколько-всего-пользователей-в-логе-и-сколько-из-них-уникальных?-3.2\"><span class=\"toc-item-num\">3.2&nbsp;&nbsp;</span>Посмотрим, сколько всего пользователей в логе и сколько из них уникальных?</a></span></li><li><span><a href=\"#Посмотрим,-сколько-в-среднем-событий-приходится-на-пользователя?\" data-toc-modified-id=\"Посмотрим,-сколько-в-среднем-событий-приходится-на-пользователя?-3.3\"><span class=\"toc-item-num\">3.3&nbsp;&nbsp;</span>Посмотрим, сколько в среднем событий приходится на пользователя?</a></span></li><li><span><a href=\"#Посмотрим-внимательнее-на-даты-проведения-эксперимента\" data-toc-modified-id=\"Посмотрим-внимательнее-на-даты-проведения-эксперимента-3.4\"><span class=\"toc-item-num\">3.4&nbsp;&nbsp;</span>Посмотрим внимательнее на даты проведения эксперимента</a></span></li><li><span><a href=\"#Посмотрим,-нормально-ли-распределены-данные-по-датам\" data-toc-modified-id=\"Посмотрим,-нормально-ли-распределены-данные-по-датам-3.5\"><span class=\"toc-item-num\">3.5&nbsp;&nbsp;</span>Посмотрим, нормально ли распределены данные по датам</a></span></li><li><span><a href=\"#Отбросим-данные-до-01.08.2019\" data-toc-modified-id=\"Отбросим-данные-до-01.08.2019-3.6\"><span class=\"toc-item-num\">3.6&nbsp;&nbsp;</span>Отбросим данные до 01.08.2019</a></span></li><li><span><a href=\"#Посмотрим-на-обновленный-датафрейм\" data-toc-modified-id=\"Посмотрим-на-обновленный-датафрейм-3.7\"><span class=\"toc-item-num\">3.7&nbsp;&nbsp;</span>Посмотрим на обновленный датафрейм</a></span></li><li><span><a href=\"#Проверим,-сколько-событий-и-пользователей-утеряно-при-отбросе-старых-данных\" data-toc-modified-id=\"Проверим,-сколько-событий-и-пользователей-утеряно-при-отбросе-старых-данных-3.8\"><span class=\"toc-item-num\">3.8&nbsp;&nbsp;</span>Проверим, сколько событий и пользователей утеряно при отбросе старых данных</a></span></li><li><span><a href=\"#Проверим,-что-в-датафрейме-есть-пользователи-из-всех-трёх-экспериментальных-групп.\" data-toc-modified-id=\"Проверим,-что-в-датафрейме-есть-пользователи-из-всех-трёх-экспериментальных-групп.-3.9\"><span class=\"toc-item-num\">3.9&nbsp;&nbsp;</span>Проверим, что в датафрейме есть пользователи из всех трёх экспериментальных групп.</a></span></li></ul></li><li><span><a href=\"#Изучим-воронку-событий\" data-toc-modified-id=\"Изучим-воронку-событий-4\"><span class=\"toc-item-num\">4&nbsp;&nbsp;</span>Изучим воронку событий</a></span><ul class=\"toc-item\"><li><span><a href=\"#Посмотрим,-какие-события-есть-в-логах-и-как-часто-они-встречаются\" data-toc-modified-id=\"Посмотрим,-какие-события-есть-в-логах-и-как-часто-они-встречаются-4.1\"><span class=\"toc-item-num\">4.1&nbsp;&nbsp;</span>Посмотрим, какие события есть в логах и как часто они встречаются</a></span></li><li><span><a href=\"#Посчитаем,-количество-и-долю-пользователей,-которые-хоть-раз-совершали-событие\" data-toc-modified-id=\"Посчитаем,-количество-и-долю-пользователей,-которые-хоть-раз-совершали-событие-4.2\"><span class=\"toc-item-num\">4.2&nbsp;&nbsp;</span>Посчитаем, количество и долю пользователей, которые хоть раз совершали событие</a></span></li><li><span><a href=\"#По-воронке-событий-посчитаем,-какая-доля-пользователей-проходит-на-следующий-шаг-воронки-(от-числа-пользователей-на-предыдущем)\" data-toc-modified-id=\"По-воронке-событий-посчитаем,-какая-доля-пользователей-проходит-на-следующий-шаг-воронки-(от-числа-пользователей-на-предыдущем)-4.3\"><span class=\"toc-item-num\">4.3&nbsp;&nbsp;</span>По воронке событий посчитаем, какая доля пользователей проходит на следующий шаг воронки (от числа пользователей на предыдущем)</a></span></li><li><span><a href=\"#Посчитаем,-какая-доля-пользователей-доходит-от-первого-события-до-оплаты?\" data-toc-modified-id=\"Посчитаем,-какая-доля-пользователей-доходит-от-первого-события-до-оплаты?-4.4\"><span class=\"toc-item-num\">4.4&nbsp;&nbsp;</span>Посчитаем, какая доля пользователей доходит от первого события до оплаты?</a></span></li></ul></li><li><span><a href=\"#Изучим-результаты-эксперимента\" data-toc-modified-id=\"Изучим-результаты-эксперимента-5\"><span class=\"toc-item-num\">5&nbsp;&nbsp;</span>Изучим результаты эксперимента</a></span><ul class=\"toc-item\"><li><span><a href=\"#Посчитаем,-сколько-пользователей-в-каждой-экспериментальной-группе?\" data-toc-modified-id=\"Посчитаем,-сколько-пользователей-в-каждой-экспериментальной-группе?-5.1\"><span class=\"toc-item-num\">5.1&nbsp;&nbsp;</span>Посчитаем, сколько пользователей в каждой экспериментальной группе?</a></span></li><li><span><a href=\"#Проверим-статистически-разницу-между-двумя-контрольными-группы-для-А/А-эксперимента-(между-выборками-246-и-247)\" data-toc-modified-id=\"Проверим-статистически-разницу-между-двумя-контрольными-группы-для-А/А-эксперимента-(между-выборками-246-и-247)-5.2\"><span class=\"toc-item-num\">5.2&nbsp;&nbsp;</span>Проверим статистически разницу между двумя контрольными группы для А/А-эксперимента (между выборками 246 и 247)</a></span></li><li><span><a href=\"#Определим--самое-популярное-событие-и-посчитаем-число-пользователей,-совершивших-это-событие-в-каждой-из-контрольных-групп-АА-теста\" data-toc-modified-id=\"Определим--самое-популярное-событие-и-посчитаем-число-пользователей,-совершивших-это-событие-в-каждой-из-контрольных-групп-АА-теста-5.3\"><span class=\"toc-item-num\">5.3&nbsp;&nbsp;</span>Определим  самое популярное событие и посчитаем число пользователей, совершивших это событие в каждой из контрольных групп АА-теста</a></span></li><li><span><a href=\"#Посчитаем-долю-пользователей,-совершивших-каждое-событие,-для-групп-А/А-эксперимента\" data-toc-modified-id=\"Посчитаем-долю-пользователей,-совершивших-каждое-событие,-для-групп-А/А-эксперимента-5.4\"><span class=\"toc-item-num\">5.4&nbsp;&nbsp;</span>Посчитаем долю пользователей, совершивших каждое событие, для групп А/А-эксперимента</a></span></li><li><span><a href=\"#Проверим,-будет-ли-отличие-между-долями-в-группах-для-А/А-эксперимента-статистически-достоверным\" data-toc-modified-id=\"Проверим,-будет-ли-отличие-между-долями-в-группах-для-А/А-эксперимента-статистически-достоверным-5.5\"><span class=\"toc-item-num\">5.5&nbsp;&nbsp;</span>Проверим, будет ли отличие между долями в группах для А/А-эксперимента статистически достоверным</a></span><ul class=\"toc-item\"><li><span><a href=\"#Проверим-гипотезу-&quot;Доли-пользователей,-совершивших-событие-&quot;MainScreenAppear&quot;-в-группах-246-и-247-А/А-эксперимента,-равные&quot;-с-помощью-z-теста\" data-toc-modified-id=\"Проверим-гипотезу-&quot;Доли-пользователей,-совершивших-событие-&quot;MainScreenAppear&quot;-в-группах-246-и-247-А/А-эксперимента,-равные&quot;-с-помощью-z-теста-5.5.1\"><span class=\"toc-item-num\">5.5.1&nbsp;&nbsp;</span>Проверим гипотезу \"Доли пользователей, совершивших событие \"MainScreenAppear\" в группах 246 и 247 А/А-эксперимента, равные\" с помощью z-теста</a></span></li><li><span><a href=\"#Проверим-гипотезу-&quot;Доли-пользователей,-совершивших-событие-&quot;OffersScreenAppear&quot;-в-группах-246-и-247-А/А-эксперимента,-равные&quot;-с-помощью-z-теста\" data-toc-modified-id=\"Проверим-гипотезу-&quot;Доли-пользователей,-совершивших-событие-&quot;OffersScreenAppear&quot;-в-группах-246-и-247-А/А-эксперимента,-равные&quot;-с-помощью-z-теста-5.5.2\"><span class=\"toc-item-num\">5.5.2&nbsp;&nbsp;</span>Проверим гипотезу \"Доли пользователей, совершивших событие \"OffersScreenAppear\" в группах 246 и 247 А/А-эксперимента, равные\" с помощью z-теста</a></span></li><li><span><a href=\"#Проверим-гипотезу-&quot;Доли-пользователей,-совершивших-событие-&quot;CartScreenAppear&quot;-в-группах-246-и-247-А/А-эксперимента,-равные&quot;-с-помощью-z-теста\" data-toc-modified-id=\"Проверим-гипотезу-&quot;Доли-пользователей,-совершивших-событие-&quot;CartScreenAppear&quot;-в-группах-246-и-247-А/А-эксперимента,-равные&quot;-с-помощью-z-теста-5.5.3\"><span class=\"toc-item-num\">5.5.3&nbsp;&nbsp;</span>Проверим гипотезу \"Доли пользователей, совершивших событие \"CartScreenAppear\" в группах 246 и 247 А/А-эксперимента, равные\" с помощью z-теста</a></span></li><li><span><a href=\"#Проверим-гипотезу-&quot;Доли-пользователей,-совершивших-событие-&quot;PaymentScreenSuccessful&quot;-в-группах-246-и-247-А/А-эксперимента,-равные&quot;-с-помощью-z-теста\" data-toc-modified-id=\"Проверим-гипотезу-&quot;Доли-пользователей,-совершивших-событие-&quot;PaymentScreenSuccessful&quot;-в-группах-246-и-247-А/А-эксперимента,-равные&quot;-с-помощью-z-теста-5.5.4\"><span class=\"toc-item-num\">5.5.4&nbsp;&nbsp;</span>Проверим гипотезу \"Доли пользователей, совершивших событие \"PaymentScreenSuccessful\" в группах 246 и 247 А/А-эксперимента, равные\" с помощью z-теста</a></span></li><li><span><a href=\"#Проверим-гипотезу-&quot;Доли-пользователей,-совершивших-событие-&quot;Tutorial&quot;-в-группах-246-и-247-А/А-эксперимента,-равные&quot;-с-помощью-z-теста\" data-toc-modified-id=\"Проверим-гипотезу-&quot;Доли-пользователей,-совершивших-событие-&quot;Tutorial&quot;-в-группах-246-и-247-А/А-эксперимента,-равные&quot;-с-помощью-z-теста-5.5.5\"><span class=\"toc-item-num\">5.5.5&nbsp;&nbsp;</span>Проверим гипотезу \"Доли пользователей, совершивших событие \"Tutorial\" в группах 246 и 247 А/А-эксперимента, равные\" с помощью z-теста</a></span></li></ul></li><li><span><a href=\"#Проверим,-будет-ли-отличие-между-долями-в-группах-А/B-эксперимента-статистически-достоверным-для-всех-событий\" data-toc-modified-id=\"Проверим,-будет-ли-отличие-между-долями-в-группах-А/B-эксперимента-статистически-достоверным-для-всех-событий-5.6\"><span class=\"toc-item-num\">5.6&nbsp;&nbsp;</span>Проверим, будет ли отличие между долями в группах А/B-эксперимента статистически достоверным для всех событий</a></span></li><li><span><a href=\"#Сравните-результаты-с-объединённой-контрольной-группой.\" data-toc-modified-id=\"Сравните-результаты-с-объединённой-контрольной-группой.-5.7\"><span class=\"toc-item-num\">5.7&nbsp;&nbsp;</span>Сравните результаты с объединённой контрольной группой.</a></span><ul class=\"toc-item\"><li><span><a href=\"#Проверим-статистические-различия-между-группами-246-и-248-по-событиям\" data-toc-modified-id=\"Проверим-статистические-различия-между-группами-246-и-248-по-событиям-5.7.1\"><span class=\"toc-item-num\">5.7.1&nbsp;&nbsp;</span>Проверим статистические различия между группами 246 и 248 по событиям</a></span><ul class=\"toc-item\"><li><span><a href=\"#Проверим-гипотезу-&quot;Доли-пользователей,-совершивших-событие-&quot;MainScreenAppear&quot;-в-группах-246-и-248-А/B-эксперимента,-равные&quot;-с-помощью-z-теста\" data-toc-modified-id=\"Проверим-гипотезу-&quot;Доли-пользователей,-совершивших-событие-&quot;MainScreenAppear&quot;-в-группах-246-и-248-А/B-эксперимента,-равные&quot;-с-помощью-z-теста-5.7.1.1\"><span class=\"toc-item-num\">5.7.1.1&nbsp;&nbsp;</span>Проверим гипотезу \"Доли пользователей, совершивших событие \"MainScreenAppear\" в группах 246 и 248 А/B-эксперимента, равные\" с помощью z-теста</a></span></li><li><span><a href=\"#Проверим-гипотезу-&quot;Доли-пользователей,-совершивших-событие-&quot;OffersScreenAppear&quot;-в-группах-246-и-248-А/B-эксперимента,-равные&quot;-с-помощью-z-теста\" data-toc-modified-id=\"Проверим-гипотезу-&quot;Доли-пользователей,-совершивших-событие-&quot;OffersScreenAppear&quot;-в-группах-246-и-248-А/B-эксперимента,-равные&quot;-с-помощью-z-теста-5.7.1.2\"><span class=\"toc-item-num\">5.7.1.2&nbsp;&nbsp;</span>Проверим гипотезу \"Доли пользователей, совершивших событие \"OffersScreenAppear\" в группах 246 и 248 А/B-эксперимента, равные\" с помощью z-теста</a></span></li><li><span><a href=\"#Проверим-гипотезу-&quot;Доли-пользователей,-совершивших-событие-&quot;CartScreenAppear&quot;-в-группах-246-и-248-А/B-эксперимента,-равные&quot;-с-помощью-z-теста\" data-toc-modified-id=\"Проверим-гипотезу-&quot;Доли-пользователей,-совершивших-событие-&quot;CartScreenAppear&quot;-в-группах-246-и-248-А/B-эксперимента,-равные&quot;-с-помощью-z-теста-5.7.1.3\"><span class=\"toc-item-num\">5.7.1.3&nbsp;&nbsp;</span>Проверим гипотезу \"Доли пользователей, совершивших событие \"CartScreenAppear\" в группах 246 и 248 А/B-эксперимента, равные\" с помощью z-теста</a></span></li><li><span><a href=\"#Проверим-гипотезу-&quot;Доли-пользователей,-совершивших-событие-&quot;PaymentScreenSuccessful&quot;-в-группах-246-и-248-А/B-эксперимента,-равные&quot;-с-помощью-z-теста\" data-toc-modified-id=\"Проверим-гипотезу-&quot;Доли-пользователей,-совершивших-событие-&quot;PaymentScreenSuccessful&quot;-в-группах-246-и-248-А/B-эксперимента,-равные&quot;-с-помощью-z-теста-5.7.1.4\"><span class=\"toc-item-num\">5.7.1.4&nbsp;&nbsp;</span>Проверим гипотезу \"Доли пользователей, совершивших событие \"PaymentScreenSuccessful\" в группах 246 и 248 А/B-эксперимента, равные\" с помощью z-теста</a></span></li><li><span><a href=\"#Проверим-гипотезу-&quot;Доли-пользователей,-совершивших-событие-&quot;Tutorial&quot;-в-группах-246-и-248-А/B-эксперимента,-равные&quot;-с-помощью-z-теста\" data-toc-modified-id=\"Проверим-гипотезу-&quot;Доли-пользователей,-совершивших-событие-&quot;Tutorial&quot;-в-группах-246-и-248-А/B-эксперимента,-равные&quot;-с-помощью-z-теста-5.7.1.5\"><span class=\"toc-item-num\">5.7.1.5&nbsp;&nbsp;</span>Проверим гипотезу \"Доли пользователей, совершивших событие \"Tutorial\" в группах 246 и 248 А/B-эксперимента, равные\" с помощью z-теста</a></span></li></ul></li><li><span><a href=\"#Проверим-статистические-различия-между-группами-247-и-248-по-событиям\" data-toc-modified-id=\"Проверим-статистические-различия-между-группами-247-и-248-по-событиям-5.7.2\"><span class=\"toc-item-num\">5.7.2&nbsp;&nbsp;</span>Проверим статистические различия между группами 247 и 248 по событиям</a></span><ul class=\"toc-item\"><li><span><a href=\"#Проверим-гипотезу-&quot;Доли-пользователей,-совершивших-событие-&quot;MainScreenAppear&quot;-в-группах-247-и-248-А/B-эксперимента,-равные&quot;-с-помощью-z-теста\" data-toc-modified-id=\"Проверим-гипотезу-&quot;Доли-пользователей,-совершивших-событие-&quot;MainScreenAppear&quot;-в-группах-247-и-248-А/B-эксперимента,-равные&quot;-с-помощью-z-теста-5.7.2.1\"><span class=\"toc-item-num\">5.7.2.1&nbsp;&nbsp;</span>Проверим гипотезу \"Доли пользователей, совершивших событие \"MainScreenAppear\" в группах 247 и 248 А/B-эксперимента, равные\" с помощью z-теста</a></span></li><li><span><a href=\"#Проверим-гипотезу-&quot;Доли-пользователей,-совершивших-событие-&quot;OffersScreenAppear&quot;-в-группах-247-и-248-А/B-эксперимента,-равные&quot;-с-помощью-z-теста\" data-toc-modified-id=\"Проверим-гипотезу-&quot;Доли-пользователей,-совершивших-событие-&quot;OffersScreenAppear&quot;-в-группах-247-и-248-А/B-эксперимента,-равные&quot;-с-помощью-z-теста-5.7.2.2\"><span class=\"toc-item-num\">5.7.2.2&nbsp;&nbsp;</span>Проверим гипотезу \"Доли пользователей, совершивших событие \"OffersScreenAppear\" в группах 247 и 248 А/B-эксперимента, равные\" с помощью z-теста</a></span></li><li><span><a href=\"#Проверим-гипотезу-&quot;Доли-пользователей,-совершивших-событие-&quot;CartScreenAppear&quot;-в-группах-247-и-248-А/B-эксперимента,-равные&quot;-с-помощью-z-теста\" data-toc-modified-id=\"Проверим-гипотезу-&quot;Доли-пользователей,-совершивших-событие-&quot;CartScreenAppear&quot;-в-группах-247-и-248-А/B-эксперимента,-равные&quot;-с-помощью-z-теста-5.7.2.3\"><span class=\"toc-item-num\">5.7.2.3&nbsp;&nbsp;</span>Проверим гипотезу \"Доли пользователей, совершивших событие \"CartScreenAppear\" в группах 247 и 248 А/B-эксперимента, равные\" с помощью z-теста</a></span></li><li><span><a href=\"#Проверим-гипотезу-&quot;Доли-пользователей,-совершивших-событие-&quot;PaymentScreenSuccessful&quot;-в-группах-247-и-248-А/B-эксперимента,-равные&quot;-с-помощью-z-теста\" data-toc-modified-id=\"Проверим-гипотезу-&quot;Доли-пользователей,-совершивших-событие-&quot;PaymentScreenSuccessful&quot;-в-группах-247-и-248-А/B-эксперимента,-равные&quot;-с-помощью-z-теста-5.7.2.4\"><span class=\"toc-item-num\">5.7.2.4&nbsp;&nbsp;</span>Проверим гипотезу \"Доли пользователей, совершивших событие \"PaymentScreenSuccessful\" в группах 247 и 248 А/B-эксперимента, равные\" с помощью z-теста</a></span></li><li><span><a href=\"#Проверим-гипотезу-&quot;Доли-пользователей,-совершивших-событие-&quot;Tutorial&quot;-в-группах-247-и-248-А/B-эксперимента,-равные&quot;-с-помощью-z-теста\" data-toc-modified-id=\"Проверим-гипотезу-&quot;Доли-пользователей,-совершивших-событие-&quot;Tutorial&quot;-в-группах-247-и-248-А/B-эксперимента,-равные&quot;-с-помощью-z-теста-5.7.2.5\"><span class=\"toc-item-num\">5.7.2.5&nbsp;&nbsp;</span>Проверим гипотезу \"Доли пользователей, совершивших событие \"Tutorial\" в группах 247 и 248 А/B-эксперимента, равные\" с помощью z-теста</a></span></li></ul></li><li><span><a href=\"#Проверим-статистически-разницу-между-объединённой-контрольной-группой-А/А-эксперимента-и-экспериментальной-группой-А/В-эксперимента-по-событиям\" data-toc-modified-id=\"Проверим-статистически-разницу-между-объединённой-контрольной-группой-А/А-эксперимента-и-экспериментальной-группой-А/В-эксперимента-по-событиям-5.7.3\"><span class=\"toc-item-num\">5.7.3&nbsp;&nbsp;</span>Проверим статистически разницу между объединённой контрольной группой А/А-эксперимента и экспериментальной группой А/В-эксперимента по событиям</a></span><ul class=\"toc-item\"><li><span><a href=\"#Проверим-гипотезу-&quot;Доли-пользователей,-совершивших-событие-&quot;MainScreenAppear&quot;-в-объединенной-контрольной-группе-246-и-247-А/А-эксперимента-и-группы-248-А/B-эксперимента,-равные&quot;-с-помощью-z-теста\" data-toc-modified-id=\"Проверим-гипотезу-&quot;Доли-пользователей,-совершивших-событие-&quot;MainScreenAppear&quot;-в-объединенной-контрольной-группе-246-и-247-А/А-эксперимента-и-группы-248-А/B-эксперимента,-равные&quot;-с-помощью-z-теста-5.7.3.1\"><span class=\"toc-item-num\">5.7.3.1&nbsp;&nbsp;</span>Проверим гипотезу \"Доли пользователей, совершивших событие \"MainScreenAppear\" в объединенной контрольной группе 246 и 247 А/А-эксперимента и группы 248 А/B-эксперимента, равные\" с помощью z-теста</a></span></li><li><span><a href=\"#Проверим-гипотезу-&quot;Доли-пользователей,-совершивших-событие-&quot;OffersScreenAppear&quot;-в-объединенной-контрольной-группе-246-и-247-А/А-эксперимента-и-группы-248-А/B-эксперимента,-равные&quot;-с-помощью-z-теста\" data-toc-modified-id=\"Проверим-гипотезу-&quot;Доли-пользователей,-совершивших-событие-&quot;OffersScreenAppear&quot;-в-объединенной-контрольной-группе-246-и-247-А/А-эксперимента-и-группы-248-А/B-эксперимента,-равные&quot;-с-помощью-z-теста-5.7.3.2\"><span class=\"toc-item-num\">5.7.3.2&nbsp;&nbsp;</span>Проверим гипотезу \"Доли пользователей, совершивших событие \"OffersScreenAppear\" в объединенной контрольной группе 246 и 247 А/А-эксперимента и группы 248 А/B-эксперимента, равные\" с помощью z-теста</a></span></li><li><span><a href=\"#Проверим-гипотезу-&quot;Доли-пользователей,-совершивших-событие-&quot;CartScreenAppear&quot;-в-объединенной-контрольной-группе-246-и-247-А/А-эксперимента-и-группы-248-А/B-эксперимента,-равные&quot;-с-помощью-z-теста\" data-toc-modified-id=\"Проверим-гипотезу-&quot;Доли-пользователей,-совершивших-событие-&quot;CartScreenAppear&quot;-в-объединенной-контрольной-группе-246-и-247-А/А-эксперимента-и-группы-248-А/B-эксперимента,-равные&quot;-с-помощью-z-теста-5.7.3.3\"><span class=\"toc-item-num\">5.7.3.3&nbsp;&nbsp;</span>Проверим гипотезу \"Доли пользователей, совершивших событие \"CartScreenAppear\" в объединенной контрольной группе 246 и 247 А/А-эксперимента и группы 248 А/B-эксперимента, равные\" с помощью z-теста</a></span></li><li><span><a href=\"#Проверим-гипотезу-&quot;Доли-пользователей,-совершивших-событие-&quot;PaymentScreenSuccessful&quot;-в-объединенной-контрольной-группе-246-и-247-А/А-эксперимента-и-группы-248-А/B-эксперимента,-равные&quot;-с-помощью-z-теста\" data-toc-modified-id=\"Проверим-гипотезу-&quot;Доли-пользователей,-совершивших-событие-&quot;PaymentScreenSuccessful&quot;-в-объединенной-контрольной-группе-246-и-247-А/А-эксперимента-и-группы-248-А/B-эксперимента,-равные&quot;-с-помощью-z-теста-5.7.3.4\"><span class=\"toc-item-num\">5.7.3.4&nbsp;&nbsp;</span>Проверим гипотезу \"Доли пользователей, совершивших событие \"PaymentScreenSuccessful\" в объединенной контрольной группе 246 и 247 А/А-эксперимента и группы 248 А/B-эксперимента, равные\" с помощью z-теста</a></span></li><li><span><a href=\"#Проверим-гипотезу-&quot;Доли-пользователей,-совершивших-событие-&quot;Tutorial&quot;-в-объединенной-контрольной-группе-246-и-247-А/А-эксперимента-и-группы-248-А/B-эксперимента,-равные&quot;-с-помощью-z-теста\" data-toc-modified-id=\"Проверим-гипотезу-&quot;Доли-пользователей,-совершивших-событие-&quot;Tutorial&quot;-в-объединенной-контрольной-группе-246-и-247-А/А-эксперимента-и-группы-248-А/B-эксперимента,-равные&quot;-с-помощью-z-теста-5.7.3.5\"><span class=\"toc-item-num\">5.7.3.5&nbsp;&nbsp;</span>Проверим гипотезу \"Доли пользователей, совершивших событие \"Tutorial\" в объединенной контрольной группе 246 и 247 А/А-эксперимента и группы 248 А/B-эксперимента, равные\" с помощью z-теста</a></span></li></ul></li></ul></li></ul></li><li><span><a href=\"#Общий-вывод\" data-toc-modified-id=\"Общий-вывод-6\"><span class=\"toc-item-num\">6&nbsp;&nbsp;</span>Общий вывод</a></span></li></ul></div>"
   ]
  },
  {
   "cell_type": "code",
   "execution_count": 1,
   "metadata": {},
   "outputs": [],
   "source": [
    "#подключим нужные библиотеки\n",
    "import pandas as pd\n",
    "import scipy.stats as st\n",
    "from statsmodels. stats.weightstats import ztest as ztest\n",
    "import datetime as dt\n",
    "import numpy as np\n",
    "import math as mth\n",
    "import matplotlib.pyplot as plt\n",
    "from matplotlib import font_manager as fm\n",
    "import plotly.express as px\n",
    "from pandas.plotting import register_matplotlib_converters\n",
    "import warnings\n",
    "# конвертеры, которые позволяют использовать типы pandas в matplotlib  \n",
    "register_matplotlib_converters()"
   ]
  },
  {
   "cell_type": "markdown",
   "metadata": {},
   "source": [
    "## Общая информация о файле"
   ]
  },
  {
   "cell_type": "code",
   "execution_count": 2,
   "metadata": {},
   "outputs": [],
   "source": [
    "data = pd.read_csv('/datasets/logs_exp.csv', sep = '\\t')"
   ]
  },
  {
   "cell_type": "code",
   "execution_count": 3,
   "metadata": {},
   "outputs": [
    {
     "name": "stdout",
     "output_type": "stream",
     "text": [
      "<class 'pandas.core.frame.DataFrame'>\n",
      "RangeIndex: 244126 entries, 0 to 244125\n",
      "Data columns (total 4 columns):\n",
      " #   Column          Non-Null Count   Dtype \n",
      "---  ------          --------------   ----- \n",
      " 0   EventName       244126 non-null  object\n",
      " 1   DeviceIDHash    244126 non-null  int64 \n",
      " 2   EventTimestamp  244126 non-null  int64 \n",
      " 3   ExpId           244126 non-null  int64 \n",
      "dtypes: int64(3), object(1)\n",
      "memory usage: 7.5+ MB\n"
     ]
    },
    {
     "data": {
      "text/html": [
       "<div>\n",
       "<style scoped>\n",
       "    .dataframe tbody tr th:only-of-type {\n",
       "        vertical-align: middle;\n",
       "    }\n",
       "\n",
       "    .dataframe tbody tr th {\n",
       "        vertical-align: top;\n",
       "    }\n",
       "\n",
       "    .dataframe thead th {\n",
       "        text-align: right;\n",
       "    }\n",
       "</style>\n",
       "<table border=\"1\" class=\"dataframe\">\n",
       "  <thead>\n",
       "    <tr style=\"text-align: right;\">\n",
       "      <th></th>\n",
       "      <th>EventName</th>\n",
       "      <th>DeviceIDHash</th>\n",
       "      <th>EventTimestamp</th>\n",
       "      <th>ExpId</th>\n",
       "    </tr>\n",
       "  </thead>\n",
       "  <tbody>\n",
       "    <tr>\n",
       "      <th>0</th>\n",
       "      <td>MainScreenAppear</td>\n",
       "      <td>4575588528974610257</td>\n",
       "      <td>1564029816</td>\n",
       "      <td>246</td>\n",
       "    </tr>\n",
       "    <tr>\n",
       "      <th>1</th>\n",
       "      <td>MainScreenAppear</td>\n",
       "      <td>7416695313311560658</td>\n",
       "      <td>1564053102</td>\n",
       "      <td>246</td>\n",
       "    </tr>\n",
       "    <tr>\n",
       "      <th>2</th>\n",
       "      <td>PaymentScreenSuccessful</td>\n",
       "      <td>3518123091307005509</td>\n",
       "      <td>1564054127</td>\n",
       "      <td>248</td>\n",
       "    </tr>\n",
       "    <tr>\n",
       "      <th>3</th>\n",
       "      <td>CartScreenAppear</td>\n",
       "      <td>3518123091307005509</td>\n",
       "      <td>1564054127</td>\n",
       "      <td>248</td>\n",
       "    </tr>\n",
       "    <tr>\n",
       "      <th>4</th>\n",
       "      <td>PaymentScreenSuccessful</td>\n",
       "      <td>6217807653094995999</td>\n",
       "      <td>1564055322</td>\n",
       "      <td>248</td>\n",
       "    </tr>\n",
       "  </tbody>\n",
       "</table>\n",
       "</div>"
      ],
      "text/plain": [
       "                 EventName         DeviceIDHash  EventTimestamp  ExpId\n",
       "0         MainScreenAppear  4575588528974610257      1564029816    246\n",
       "1         MainScreenAppear  7416695313311560658      1564053102    246\n",
       "2  PaymentScreenSuccessful  3518123091307005509      1564054127    248\n",
       "3         CartScreenAppear  3518123091307005509      1564054127    248\n",
       "4  PaymentScreenSuccessful  6217807653094995999      1564055322    248"
      ]
     },
     "execution_count": 3,
     "metadata": {},
     "output_type": "execute_result"
    }
   ],
   "source": [
    "data.info() #информация о датафрейме\n",
    "data.head(5) #информация о первых 5 строках датафрейма"
   ]
  },
  {
   "cell_type": "markdown",
   "metadata": {},
   "source": [
    "В загруженном датафрейме имеются 4 столбца с данными, которые содержат следующее:\n",
    "\n",
    "- EventName — название события; \n",
    "- DeviceIDHash — уникальный идентификатор пользователя; \n",
    "- EventTimestamp — время события; \n",
    "- ExpId — номер эксперимента. \n",
    "\n",
    "Также выявлено, что:\n",
    "\n",
    "- названия столбцов не соответствуют змеиному регистру, \n",
    "- в столбце EventTimestamp тип данных int64 вместо datetime64,\n",
    "- пропуски в данных отсутствуют."
   ]
  },
  {
   "cell_type": "markdown",
   "metadata": {},
   "source": [
    "## Предобработка данных"
   ]
  },
  {
   "cell_type": "markdown",
   "metadata": {},
   "source": [
    "### Приведем названия столбцов к нижнему и змеиному регистру"
   ]
  },
  {
   "cell_type": "code",
   "execution_count": 4,
   "metadata": {},
   "outputs": [],
   "source": [
    "data.rename(columns = {'EventName':'event_name', 'DeviceIDHash':'user_id', 'EventTimestamp':'event_time', 'ExpId':'exp_id'},\\\n",
    "            inplace = True)"
   ]
  },
  {
   "cell_type": "markdown",
   "metadata": {},
   "source": [
    "### Приведем столбец event_time к более понятному значению времени и сохраним его"
   ]
  },
  {
   "cell_type": "code",
   "execution_count": 5,
   "metadata": {},
   "outputs": [],
   "source": [
    "data['event_time'] = pd.to_datetime(data['event_time'], unit='s')"
   ]
  },
  {
   "cell_type": "markdown",
   "metadata": {},
   "source": [
    "### Посчитаем явные дубликаты"
   ]
  },
  {
   "cell_type": "code",
   "execution_count": 6,
   "metadata": {},
   "outputs": [
    {
     "data": {
      "text/plain": [
       "413"
      ]
     },
     "execution_count": 6,
     "metadata": {},
     "output_type": "execute_result"
    }
   ],
   "source": [
    "data.duplicated().sum()"
   ]
  },
  {
   "cell_type": "markdown",
   "metadata": {},
   "source": [
    "Выявлено 413 полных дубликатов. Рекомендуется их удалить."
   ]
  },
  {
   "cell_type": "markdown",
   "metadata": {},
   "source": [
    "### Удалим явные дубликаты и сохраним обновленный датафрейм"
   ]
  },
  {
   "cell_type": "code",
   "execution_count": 7,
   "metadata": {},
   "outputs": [],
   "source": [
    "data = data.drop_duplicates()"
   ]
  },
  {
   "cell_type": "markdown",
   "metadata": {},
   "source": [
    "### Проверим, что в трёх экспериментальных групп нет пересечений по пользователям"
   ]
  },
  {
   "cell_type": "code",
   "execution_count": 8,
   "metadata": {},
   "outputs": [
    {
     "data": {
      "text/html": [
       "<div>\n",
       "<style scoped>\n",
       "    .dataframe tbody tr th:only-of-type {\n",
       "        vertical-align: middle;\n",
       "    }\n",
       "\n",
       "    .dataframe tbody tr th {\n",
       "        vertical-align: top;\n",
       "    }\n",
       "\n",
       "    .dataframe thead th {\n",
       "        text-align: right;\n",
       "    }\n",
       "</style>\n",
       "<table border=\"1\" class=\"dataframe\">\n",
       "  <thead>\n",
       "    <tr style=\"text-align: right;\">\n",
       "      <th></th>\n",
       "      <th>user_id</th>\n",
       "    </tr>\n",
       "    <tr>\n",
       "      <th>exp_id</th>\n",
       "      <th></th>\n",
       "    </tr>\n",
       "  </thead>\n",
       "  <tbody>\n",
       "    <tr>\n",
       "      <th>246</th>\n",
       "      <td>2489</td>\n",
       "    </tr>\n",
       "    <tr>\n",
       "      <th>247</th>\n",
       "      <td>2520</td>\n",
       "    </tr>\n",
       "    <tr>\n",
       "      <th>248</th>\n",
       "      <td>2542</td>\n",
       "    </tr>\n",
       "  </tbody>\n",
       "</table>\n",
       "</div>"
      ],
      "text/plain": [
       "        user_id\n",
       "exp_id         \n",
       "246        2489\n",
       "247        2520\n",
       "248        2542"
      ]
     },
     "execution_count": 8,
     "metadata": {},
     "output_type": "execute_result"
    }
   ],
   "source": [
    "data.pivot_table(index='exp_id', values='user_id', aggfunc='nunique')"
   ]
  },
  {
   "cell_type": "code",
   "execution_count": 9,
   "metadata": {},
   "outputs": [],
   "source": [
    "#выделим уникальных пользователей контрольных групп в отдельные переменные по каждой группе\n",
    "data_246 = data[data['exp_id']==246]\n",
    "data_246 = data_246['user_id'].unique()\n",
    "data_247 = data[data['exp_id']==247]\n",
    "data_247 = data_247['user_id'].unique()\n",
    "data_248 = data[data['exp_id']==248]\n",
    "data_248 = data_248['user_id'].unique()"
   ]
  },
  {
   "cell_type": "code",
   "execution_count": 10,
   "metadata": {},
   "outputs": [
    {
     "data": {
      "text/plain": [
       "[]"
      ]
     },
     "execution_count": 10,
     "metadata": {},
     "output_type": "execute_result"
    }
   ],
   "source": [
    "#проверим с помощью цикла есть ли пользователи, попавшие одновременно в несколько групп\n",
    "crossing_users = []\n",
    "for i in data_246:\n",
    "    if i in crossing_users:\n",
    "        for j in data_247:\n",
    "            if i == j:\n",
    "                crossing_users.append(i)\n",
    "for i in data_246:\n",
    "    if i in crossing_users:\n",
    "        for j in data_247:\n",
    "            if i == j:\n",
    "                crossing_users.append(i)\n",
    "crossing_users"
   ]
  },
  {
   "cell_type": "markdown",
   "metadata": {},
   "source": [
    "В датафрейме присутствуют пользователи во всех трех группах, ошибки при логировании и распределении пользователей по группам отсутствуют."
   ]
  },
  {
   "cell_type": "markdown",
   "metadata": {},
   "source": [
    "### Сохраним даты без времени в отдельном столбце"
   ]
  },
  {
   "cell_type": "code",
   "execution_count": 11,
   "metadata": {},
   "outputs": [],
   "source": [
    "data['date'] = pd.to_datetime(data['event_time']).dt.normalize()"
   ]
  },
  {
   "cell_type": "markdown",
   "metadata": {},
   "source": [
    "### Посмотрим на обновленный датафрейм"
   ]
  },
  {
   "cell_type": "code",
   "execution_count": 12,
   "metadata": {},
   "outputs": [
    {
     "name": "stdout",
     "output_type": "stream",
     "text": [
      "<class 'pandas.core.frame.DataFrame'>\n",
      "Int64Index: 243713 entries, 0 to 244125\n",
      "Data columns (total 5 columns):\n",
      " #   Column      Non-Null Count   Dtype         \n",
      "---  ------      --------------   -----         \n",
      " 0   event_name  243713 non-null  object        \n",
      " 1   user_id     243713 non-null  int64         \n",
      " 2   event_time  243713 non-null  datetime64[ns]\n",
      " 3   exp_id      243713 non-null  int64         \n",
      " 4   date        243713 non-null  datetime64[ns]\n",
      "dtypes: datetime64[ns](2), int64(2), object(1)\n",
      "memory usage: 11.2+ MB\n"
     ]
    },
    {
     "data": {
      "text/html": [
       "<div>\n",
       "<style scoped>\n",
       "    .dataframe tbody tr th:only-of-type {\n",
       "        vertical-align: middle;\n",
       "    }\n",
       "\n",
       "    .dataframe tbody tr th {\n",
       "        vertical-align: top;\n",
       "    }\n",
       "\n",
       "    .dataframe thead th {\n",
       "        text-align: right;\n",
       "    }\n",
       "</style>\n",
       "<table border=\"1\" class=\"dataframe\">\n",
       "  <thead>\n",
       "    <tr style=\"text-align: right;\">\n",
       "      <th></th>\n",
       "      <th>event_name</th>\n",
       "      <th>user_id</th>\n",
       "      <th>event_time</th>\n",
       "      <th>exp_id</th>\n",
       "      <th>date</th>\n",
       "    </tr>\n",
       "  </thead>\n",
       "  <tbody>\n",
       "    <tr>\n",
       "      <th>0</th>\n",
       "      <td>MainScreenAppear</td>\n",
       "      <td>4575588528974610257</td>\n",
       "      <td>2019-07-25 04:43:36</td>\n",
       "      <td>246</td>\n",
       "      <td>2019-07-25</td>\n",
       "    </tr>\n",
       "    <tr>\n",
       "      <th>1</th>\n",
       "      <td>MainScreenAppear</td>\n",
       "      <td>7416695313311560658</td>\n",
       "      <td>2019-07-25 11:11:42</td>\n",
       "      <td>246</td>\n",
       "      <td>2019-07-25</td>\n",
       "    </tr>\n",
       "    <tr>\n",
       "      <th>2</th>\n",
       "      <td>PaymentScreenSuccessful</td>\n",
       "      <td>3518123091307005509</td>\n",
       "      <td>2019-07-25 11:28:47</td>\n",
       "      <td>248</td>\n",
       "      <td>2019-07-25</td>\n",
       "    </tr>\n",
       "    <tr>\n",
       "      <th>3</th>\n",
       "      <td>CartScreenAppear</td>\n",
       "      <td>3518123091307005509</td>\n",
       "      <td>2019-07-25 11:28:47</td>\n",
       "      <td>248</td>\n",
       "      <td>2019-07-25</td>\n",
       "    </tr>\n",
       "    <tr>\n",
       "      <th>4</th>\n",
       "      <td>PaymentScreenSuccessful</td>\n",
       "      <td>6217807653094995999</td>\n",
       "      <td>2019-07-25 11:48:42</td>\n",
       "      <td>248</td>\n",
       "      <td>2019-07-25</td>\n",
       "    </tr>\n",
       "  </tbody>\n",
       "</table>\n",
       "</div>"
      ],
      "text/plain": [
       "                event_name              user_id          event_time  exp_id  \\\n",
       "0         MainScreenAppear  4575588528974610257 2019-07-25 04:43:36     246   \n",
       "1         MainScreenAppear  7416695313311560658 2019-07-25 11:11:42     246   \n",
       "2  PaymentScreenSuccessful  3518123091307005509 2019-07-25 11:28:47     248   \n",
       "3         CartScreenAppear  3518123091307005509 2019-07-25 11:28:47     248   \n",
       "4  PaymentScreenSuccessful  6217807653094995999 2019-07-25 11:48:42     248   \n",
       "\n",
       "        date  \n",
       "0 2019-07-25  \n",
       "1 2019-07-25  \n",
       "2 2019-07-25  \n",
       "3 2019-07-25  \n",
       "4 2019-07-25  "
      ]
     },
     "execution_count": 12,
     "metadata": {},
     "output_type": "execute_result"
    }
   ],
   "source": [
    "data.info() #информация о датафрейме\n",
    "data.head(5) #информация о первых 5 строках датафрейма"
   ]
  },
  {
   "cell_type": "markdown",
   "metadata": {},
   "source": [
    "Итак, данные готовы к дальнейшему анализу"
   ]
  },
  {
   "cell_type": "markdown",
   "metadata": {},
   "source": [
    "### Проверим статистически разницу между двумя контрольными группы для А/А-эксперимента (между выборками 246 и 247)\n",
    "Проверим гипотезу \"Выборки с данными 246 и 247 А/А-эксперимента равные\" с помощью z-теста \n",
    "\n",
    "H_0: Данные в выборке 246 = данные в выборке 247.\n",
    "\n",
    "H_a: Данные в выборке 246 ≠ данные в выборке 247.\n",
    "\n",
    "Критический уровень статистической значимости = 0.05 "
   ]
  },
  {
   "cell_type": "markdown",
   "metadata": {},
   "source": [
    "## Исследовательский анализ данных"
   ]
  },
  {
   "cell_type": "markdown",
   "metadata": {},
   "source": [
    "### Посмотрим, сколько событий есть в логе и сколько из них уникальных?"
   ]
  },
  {
   "cell_type": "code",
   "execution_count": 13,
   "metadata": {},
   "outputs": [
    {
     "name": "stdout",
     "output_type": "stream",
     "text": [
      "Количество событий в логе:  243713\n",
      "Из них: количество уникальных событий в логе составляет 5\n"
     ]
    }
   ],
   "source": [
    "print('Количество событий в логе: ', data['event_name'].count())\n",
    "#посмотрим на количество уникальные значений в столбце event_name\n",
    "print('Из них: количество уникальных событий в логе составляет', data['event_name'].value_counts().count())"
   ]
  },
  {
   "cell_type": "markdown",
   "metadata": {},
   "source": [
    "### Посмотрим, сколько всего пользователей в логе и сколько из них уникальных?"
   ]
  },
  {
   "cell_type": "code",
   "execution_count": 14,
   "metadata": {},
   "outputs": [
    {
     "name": "stdout",
     "output_type": "stream",
     "text": [
      "Количество пользователей в логе:  243713\n",
      "Из них: количество уникальных пользователей в логе составляет 7551\n"
     ]
    }
   ],
   "source": [
    "print('Количество пользователей в логе: ', data['user_id'].count())\n",
    "#посмотрим на количество уникальные значений в столбце user_id\n",
    "print('Из них: количество уникальных пользователей в логе составляет', data['user_id'].value_counts().count())"
   ]
  },
  {
   "cell_type": "markdown",
   "metadata": {},
   "source": [
    "### Посмотрим, сколько в среднем событий приходится на пользователя?"
   ]
  },
  {
   "cell_type": "code",
   "execution_count": 15,
   "metadata": {},
   "outputs": [
    {
     "name": "stdout",
     "output_type": "stream",
     "text": [
      "                         n_events  n_users  event_per_user\n",
      "event_name                                                \n",
      "MainScreenAppear           119101     7439       16.010351\n",
      "CartScreenAppear            42668     3749       11.381168\n",
      "OffersScreenAppear          46808     4613       10.146976\n",
      "PaymentScreenSuccessful     34118     3547        9.618833\n",
      "Tutorial                     1018      847        1.201889\n"
     ]
    }
   ],
   "source": [
    "# находим количество событий и количество пользователей\n",
    "event_per_user = data.groupby('event_name').agg(\n",
    "    {'user_id': ['count', 'nunique']}\n",
    ")\n",
    "\n",
    "# переименовываем колонки\n",
    "event_per_user.columns = ['n_events', 'n_users']\n",
    "\n",
    "# делим число событий на количество пользователей\n",
    "event_per_user['event_per_user'] = (\n",
    "    event_per_user['n_events'] / event_per_user['n_users']\n",
    ")\n",
    "\n",
    "print(event_per_user.sort_values(by='event_per_user', ascending=False)) "
   ]
  },
  {
   "cell_type": "markdown",
   "metadata": {},
   "source": [
    "Таким образом, в-среднем, примерно 16 MainScreenAppear, 11 CartScreenAppear, 10 OffersScreenAppear, 9 PaymentScreenSuccessful и 1 Tutorial приходится на одного пользователя."
   ]
  },
  {
   "cell_type": "markdown",
   "metadata": {},
   "source": [
    "### Посмотрим внимательнее на даты проведения эксперимента"
   ]
  },
  {
   "cell_type": "code",
   "execution_count": 16,
   "metadata": {},
   "outputs": [
    {
     "name": "stdout",
     "output_type": "stream",
     "text": [
      "Минимальная дата в логе: 2019-07-25 00:00:00\n",
      "Максимальная дата в логе: 2019-08-07 00:00:00\n"
     ]
    }
   ],
   "source": [
    "print('Минимальная дата в логе:', data['date'].min())\n",
    "print('Максимальная дата в логе:', data['date'].max())"
   ]
  },
  {
   "cell_type": "markdown",
   "metadata": {},
   "source": [
    "### Посмотрим, нормально ли распределены данные по датам"
   ]
  },
  {
   "cell_type": "code",
   "execution_count": 17,
   "metadata": {},
   "outputs": [
    {
     "data": {
      "image/png": "[encoded data removed]",
      "text/plain": [
       "<Figure size 1224x360 with 1 Axes>"
      ]
     },
     "metadata": {
      "needs_background": "light"
     },
     "output_type": "display_data"
    }
   ],
   "source": [
    "#Построим гистограмму по дате и времени\n",
    "plt.figure(figsize=(17,5))\n",
    "plt.hist(data['event_time'], label= 'Данные даты и времени');\n",
    "plt.title('График количества данных по дате и времени')\n",
    "plt.xlabel(\"Дни\")\n",
    "plt.ylabel(\"Количество данных по дате и времени\")\n",
    "plt.legend(loc=2);\n",
    "plt.grid(True)\n",
    "#plt.contains(8)\n",
    "plt.show();"
   ]
  },
  {
   "cell_type": "markdown",
   "metadata": {},
   "source": [
    "Итак, согласно графику количество данных до даты 1.08.2019 сильно меньше. Это происходит из-за того, что технически в логи новых дней по некоторым пользователям могут «доезжать» события из прошлого — это может «перекашивать данные». Отбросим данные до 01.08.2019."
   ]
  },
  {
   "cell_type": "markdown",
   "metadata": {},
   "source": [
    "### Отбросим данные до 01.08.2019"
   ]
  },
  {
   "cell_type": "code",
   "execution_count": 18,
   "metadata": {},
   "outputs": [],
   "source": [
    "data_new = data.loc[data['date'] >= '2019.08.1']"
   ]
  },
  {
   "cell_type": "markdown",
   "metadata": {},
   "source": [
    "### Посмотрим на обновленный датафрейм"
   ]
  },
  {
   "cell_type": "code",
   "execution_count": 19,
   "metadata": {},
   "outputs": [
    {
     "name": "stdout",
     "output_type": "stream",
     "text": [
      "<class 'pandas.core.frame.DataFrame'>\n",
      "Int64Index: 240887 entries, 2828 to 244125\n",
      "Data columns (total 5 columns):\n",
      " #   Column      Non-Null Count   Dtype         \n",
      "---  ------      --------------   -----         \n",
      " 0   event_name  240887 non-null  object        \n",
      " 1   user_id     240887 non-null  int64         \n",
      " 2   event_time  240887 non-null  datetime64[ns]\n",
      " 3   exp_id      240887 non-null  int64         \n",
      " 4   date        240887 non-null  datetime64[ns]\n",
      "dtypes: datetime64[ns](2), int64(2), object(1)\n",
      "memory usage: 11.0+ MB\n"
     ]
    },
    {
     "data": {
      "text/html": [
       "<div>\n",
       "<style scoped>\n",
       "    .dataframe tbody tr th:only-of-type {\n",
       "        vertical-align: middle;\n",
       "    }\n",
       "\n",
       "    .dataframe tbody tr th {\n",
       "        vertical-align: top;\n",
       "    }\n",
       "\n",
       "    .dataframe thead th {\n",
       "        text-align: right;\n",
       "    }\n",
       "</style>\n",
       "<table border=\"1\" class=\"dataframe\">\n",
       "  <thead>\n",
       "    <tr style=\"text-align: right;\">\n",
       "      <th></th>\n",
       "      <th>event_name</th>\n",
       "      <th>user_id</th>\n",
       "      <th>event_time</th>\n",
       "      <th>exp_id</th>\n",
       "      <th>date</th>\n",
       "    </tr>\n",
       "  </thead>\n",
       "  <tbody>\n",
       "    <tr>\n",
       "      <th>2828</th>\n",
       "      <td>Tutorial</td>\n",
       "      <td>3737462046622621720</td>\n",
       "      <td>2019-08-01 00:07:28</td>\n",
       "      <td>246</td>\n",
       "      <td>2019-08-01</td>\n",
       "    </tr>\n",
       "    <tr>\n",
       "      <th>2829</th>\n",
       "      <td>MainScreenAppear</td>\n",
       "      <td>3737462046622621720</td>\n",
       "      <td>2019-08-01 00:08:00</td>\n",
       "      <td>246</td>\n",
       "      <td>2019-08-01</td>\n",
       "    </tr>\n",
       "    <tr>\n",
       "      <th>2830</th>\n",
       "      <td>MainScreenAppear</td>\n",
       "      <td>3737462046622621720</td>\n",
       "      <td>2019-08-01 00:08:55</td>\n",
       "      <td>246</td>\n",
       "      <td>2019-08-01</td>\n",
       "    </tr>\n",
       "    <tr>\n",
       "      <th>2831</th>\n",
       "      <td>OffersScreenAppear</td>\n",
       "      <td>3737462046622621720</td>\n",
       "      <td>2019-08-01 00:08:58</td>\n",
       "      <td>246</td>\n",
       "      <td>2019-08-01</td>\n",
       "    </tr>\n",
       "    <tr>\n",
       "      <th>2832</th>\n",
       "      <td>MainScreenAppear</td>\n",
       "      <td>1433840883824088890</td>\n",
       "      <td>2019-08-01 00:08:59</td>\n",
       "      <td>247</td>\n",
       "      <td>2019-08-01</td>\n",
       "    </tr>\n",
       "  </tbody>\n",
       "</table>\n",
       "</div>"
      ],
      "text/plain": [
       "              event_name              user_id          event_time  exp_id  \\\n",
       "2828            Tutorial  3737462046622621720 2019-08-01 00:07:28     246   \n",
       "2829    MainScreenAppear  3737462046622621720 2019-08-01 00:08:00     246   \n",
       "2830    MainScreenAppear  3737462046622621720 2019-08-01 00:08:55     246   \n",
       "2831  OffersScreenAppear  3737462046622621720 2019-08-01 00:08:58     246   \n",
       "2832    MainScreenAppear  1433840883824088890 2019-08-01 00:08:59     247   \n",
       "\n",
       "           date  \n",
       "2828 2019-08-01  \n",
       "2829 2019-08-01  \n",
       "2830 2019-08-01  \n",
       "2831 2019-08-01  \n",
       "2832 2019-08-01  "
      ]
     },
     "execution_count": 19,
     "metadata": {},
     "output_type": "execute_result"
    }
   ],
   "source": [
    "data_new.info()\n",
    "data_new.head()"
   ]
  },
  {
   "cell_type": "markdown",
   "metadata": {},
   "source": [
    "### Проверим, сколько событий и пользователей утеряно при отбросе старых данных"
   ]
  },
  {
   "cell_type": "code",
   "execution_count": 20,
   "metadata": {},
   "outputs": [
    {
     "data": {
      "text/plain": [
       "1.16"
      ]
     },
     "execution_count": 20,
     "metadata": {},
     "output_type": "execute_result"
    }
   ],
   "source": [
    "round(((data['event_name'].count() - data_new['event_name'].count())/data['event_name'].count()*100), 3)"
   ]
  },
  {
   "cell_type": "code",
   "execution_count": 21,
   "metadata": {},
   "outputs": [
    {
     "data": {
      "text/plain": [
       "0.225"
      ]
     },
     "execution_count": 21,
     "metadata": {},
     "output_type": "execute_result"
    }
   ],
   "source": [
    "round(((data['user_id'].value_counts().count() - data_new['user_id'].value_counts().count())/\\\n",
    "      data['user_id'].value_counts().count()*100), 3)"
   ]
  },
  {
   "cell_type": "markdown",
   "metadata": {},
   "source": [
    "Таким образом, мы отбросили всего 1,16% событий и 0,225% уникальных пользователей."
   ]
  },
  {
   "cell_type": "markdown",
   "metadata": {},
   "source": [
    "### Проверим, что в датафрейме есть пользователи из всех трёх экспериментальных групп."
   ]
  },
  {
   "cell_type": "code",
   "execution_count": 22,
   "metadata": {},
   "outputs": [
    {
     "data": {
      "image/png": "[encoded data removed]",
      "text/plain": [
       "<Figure size 1080x432 with 1 Axes>"
      ]
     },
     "metadata": {
      "needs_background": "light"
     },
     "output_type": "display_data"
    }
   ],
   "source": [
    "data_new.pivot_table(index='exp_id', values='user_id', aggfunc='count').plot(kind = 'bar', figsize=(15,6), grid=True);\n",
    "plt.title('График распределения пользователей по экспериментальным группам по обновленным данным')\n",
    "plt.xlabel(\"Номера экспериментальных групп\")\n",
    "plt.ylabel(\"Количество пользователей\")\n",
    "plt.show();"
   ]
  },
  {
   "cell_type": "markdown",
   "metadata": {},
   "source": [
    "Пользователи присутствуют во всех трех группах."
   ]
  },
  {
   "cell_type": "markdown",
   "metadata": {},
   "source": [
    "Подытожим:\n",
    "1. Эксперимент проводился с 01.08.2019 по 07.08.2019. \n",
    "2. Всего 5 уникальных событий в логе.\n",
    "3. Есть 3 группы, из которых 246 и 247 - это группы с результатами А/А-тестирования, а 248 - это экспериментальная группа для А/В-тестирования."
   ]
  },
  {
   "cell_type": "markdown",
   "metadata": {},
   "source": [
    "## Изучим воронку событий"
   ]
  },
  {
   "cell_type": "markdown",
   "metadata": {},
   "source": [
    "### Посмотрим, какие события есть в логах и как часто они встречаются"
   ]
  },
  {
   "cell_type": "code",
   "execution_count": 23,
   "metadata": {},
   "outputs": [
    {
     "data": {
      "text/html": [
       "<div>\n",
       "<style scoped>\n",
       "    .dataframe tbody tr th:only-of-type {\n",
       "        vertical-align: middle;\n",
       "    }\n",
       "\n",
       "    .dataframe tbody tr th {\n",
       "        vertical-align: top;\n",
       "    }\n",
       "\n",
       "    .dataframe thead th {\n",
       "        text-align: right;\n",
       "    }\n",
       "</style>\n",
       "<table border=\"1\" class=\"dataframe\">\n",
       "  <thead>\n",
       "    <tr style=\"text-align: right;\">\n",
       "      <th></th>\n",
       "      <th>user_id</th>\n",
       "    </tr>\n",
       "    <tr>\n",
       "      <th>event_name</th>\n",
       "      <th></th>\n",
       "    </tr>\n",
       "  </thead>\n",
       "  <tbody>\n",
       "    <tr>\n",
       "      <th>MainScreenAppear</th>\n",
       "      <td>117328</td>\n",
       "    </tr>\n",
       "    <tr>\n",
       "      <th>OffersScreenAppear</th>\n",
       "      <td>46333</td>\n",
       "    </tr>\n",
       "    <tr>\n",
       "      <th>CartScreenAppear</th>\n",
       "      <td>42303</td>\n",
       "    </tr>\n",
       "    <tr>\n",
       "      <th>PaymentScreenSuccessful</th>\n",
       "      <td>33918</td>\n",
       "    </tr>\n",
       "    <tr>\n",
       "      <th>Tutorial</th>\n",
       "      <td>1005</td>\n",
       "    </tr>\n",
       "  </tbody>\n",
       "</table>\n",
       "</div>"
      ],
      "text/plain": [
       "                         user_id\n",
       "event_name                      \n",
       "MainScreenAppear          117328\n",
       "OffersScreenAppear         46333\n",
       "CartScreenAppear           42303\n",
       "PaymentScreenSuccessful    33918\n",
       "Tutorial                    1005"
      ]
     },
     "execution_count": 23,
     "metadata": {},
     "output_type": "execute_result"
    }
   ],
   "source": [
    "data_new.groupby('event_name').agg({'user_id': 'count'}).sort_values(by='user_id', ascending=False)"
   ]
  },
  {
   "cell_type": "markdown",
   "metadata": {},
   "source": [
    "Самое популярное событие: MainScreenAppear (посещение главного экрана), а самое редкое - Tutorial (посещение руководства пользователя)."
   ]
  },
  {
   "cell_type": "markdown",
   "metadata": {},
   "source": [
    "### Посчитаем, количество и долю пользователей, которые хоть раз совершали событие"
   ]
  },
  {
   "cell_type": "code",
   "execution_count": 24,
   "metadata": {},
   "outputs": [
    {
     "data": {
      "text/html": [
       "<div>\n",
       "<style scoped>\n",
       "    .dataframe tbody tr th:only-of-type {\n",
       "        vertical-align: middle;\n",
       "    }\n",
       "\n",
       "    .dataframe tbody tr th {\n",
       "        vertical-align: top;\n",
       "    }\n",
       "\n",
       "    .dataframe thead th {\n",
       "        text-align: right;\n",
       "    }\n",
       "</style>\n",
       "<table border=\"1\" class=\"dataframe\">\n",
       "  <thead>\n",
       "    <tr style=\"text-align: right;\">\n",
       "      <th></th>\n",
       "      <th>user_id</th>\n",
       "      <th>share</th>\n",
       "    </tr>\n",
       "    <tr>\n",
       "      <th>event_name</th>\n",
       "      <th></th>\n",
       "      <th></th>\n",
       "    </tr>\n",
       "  </thead>\n",
       "  <tbody>\n",
       "    <tr>\n",
       "      <th>MainScreenAppear</th>\n",
       "      <td>7419</td>\n",
       "      <td>98.47</td>\n",
       "    </tr>\n",
       "    <tr>\n",
       "      <th>OffersScreenAppear</th>\n",
       "      <td>4593</td>\n",
       "      <td>60.96</td>\n",
       "    </tr>\n",
       "    <tr>\n",
       "      <th>CartScreenAppear</th>\n",
       "      <td>3734</td>\n",
       "      <td>49.56</td>\n",
       "    </tr>\n",
       "    <tr>\n",
       "      <th>PaymentScreenSuccessful</th>\n",
       "      <td>3539</td>\n",
       "      <td>46.97</td>\n",
       "    </tr>\n",
       "    <tr>\n",
       "      <th>Tutorial</th>\n",
       "      <td>840</td>\n",
       "      <td>11.15</td>\n",
       "    </tr>\n",
       "  </tbody>\n",
       "</table>\n",
       "</div>"
      ],
      "text/plain": [
       "                         user_id  share\n",
       "event_name                             \n",
       "MainScreenAppear            7419  98.47\n",
       "OffersScreenAppear          4593  60.96\n",
       "CartScreenAppear            3734  49.56\n",
       "PaymentScreenSuccessful     3539  46.97\n",
       "Tutorial                     840  11.15"
      ]
     },
     "execution_count": 24,
     "metadata": {},
     "output_type": "execute_result"
    }
   ],
   "source": [
    "user_per_event = data_new.groupby('event_name').agg({'user_id': 'nunique'}).sort_values(by='user_id', ascending=False)\n",
    "\n",
    "user_per_event['share'] = round((user_per_event['user_id'] / (data_new['user_id'].value_counts().count())*100), 2)\n",
    "\n",
    "user_per_event"
   ]
  },
  {
   "cell_type": "markdown",
   "metadata": {},
   "source": [
    "7 419 (98.47%) уникальных пользователей посетили главный экран (событие MainScreenAppear), \n",
    "\n",
    "4 593 (60.96%) уникальных пользователей зашли в Предложения (событие OffersScreenAppear),\n",
    "\n",
    "3 734 (49.56%) уникальных пользователей перешли в корзину (событие CartScreenAppear),\n",
    "\n",
    "3 539 (46.97%) уникальных пользователей оплатили положенный в корзину товар (событие PaymentScreenSuccessful),\n",
    "\n",
    "840 (11.15%) уникальных пользователей обратились к руководству пользователя (событие Tutorial).\n",
    "\n",
    "Около 1,5% пользователей миновали главный экран, таким образом, есть вероятность технических ошибок, при которых главный экран не подгрузился."
   ]
  },
  {
   "cell_type": "markdown",
   "metadata": {},
   "source": [
    "Вероятнее всего, события происходят следующим образом:\n",
    "1. Пользователя, заходя в приложение, видит главный экран (событие MainScreenAppear).\n",
    "2. На Главном экране находятся иконки с продуктами питания, на которые пользователь нажимает, чтобы ознакомиться подробнее (событие OffersScreenAppear).\n",
    "3. Далее пользователь отправляет в корзину понравившийся товар и переходит в корзину (событие CartScreenAppear).\n",
    "4. Далее пользователь оплачивает положенный в корзину товар (событие PaymentScreenSuccessful).\n",
    "5. Если пользователь сталкивается с затруднениями на каком-то шаге, то он отправляется читать руководство пользователя (событие Tutorial).\n",
    "\n",
    "Таким образом, последний шаг к воронке продаж не относится, так как скорее знак, что для некоторых пользователей возможны неудобства в приложении. Однако таких пользователей немного, поэтому ими можно пренебречь."
   ]
  },
  {
   "cell_type": "markdown",
   "metadata": {},
   "source": [
    "### По воронке событий посчитаем, какая доля пользователей проходит на следующий шаг воронки (от числа пользователей на предыдущем)"
   ]
  },
  {
   "cell_type": "code",
   "execution_count": 25,
   "metadata": {},
   "outputs": [
    {
     "data": {
      "text/html": [
       "<div>\n",
       "<style scoped>\n",
       "    .dataframe tbody tr th:only-of-type {\n",
       "        vertical-align: middle;\n",
       "    }\n",
       "\n",
       "    .dataframe tbody tr th {\n",
       "        vertical-align: top;\n",
       "    }\n",
       "\n",
       "    .dataframe thead th {\n",
       "        text-align: right;\n",
       "    }\n",
       "</style>\n",
       "<table border=\"1\" class=\"dataframe\">\n",
       "  <thead>\n",
       "    <tr style=\"text-align: right;\">\n",
       "      <th></th>\n",
       "      <th>event_name</th>\n",
       "      <th>user_id</th>\n",
       "    </tr>\n",
       "  </thead>\n",
       "  <tbody>\n",
       "    <tr>\n",
       "      <th>0</th>\n",
       "      <td>OffersScreenAppear</td>\n",
       "      <td>61.91</td>\n",
       "    </tr>\n",
       "    <tr>\n",
       "      <th>1</th>\n",
       "      <td>CartScreenAppear</td>\n",
       "      <td>81.30</td>\n",
       "    </tr>\n",
       "    <tr>\n",
       "      <th>2</th>\n",
       "      <td>PaymentScreenSuccessful</td>\n",
       "      <td>94.78</td>\n",
       "    </tr>\n",
       "  </tbody>\n",
       "</table>\n",
       "</div>"
      ],
      "text/plain": [
       "                event_name  user_id\n",
       "0       OffersScreenAppear    61.91\n",
       "1         CartScreenAppear    81.30\n",
       "2  PaymentScreenSuccessful    94.78"
      ]
     },
     "execution_count": 25,
     "metadata": {},
     "output_type": "execute_result"
    }
   ],
   "source": [
    "#отбросим данные по событию Tutorial\n",
    "users_funnel = user_per_event[:-1]\n",
    "\n",
    "users_funnel = round((users_funnel/users_funnel.shift()*100), 2)[1:]\n",
    "\n",
    "users_funnel.reset_index().drop(labels = ['share'],axis = 1)"
   ]
  },
  {
   "cell_type": "markdown",
   "metadata": {},
   "source": [
    "Ко 2 шагу переходит 61,91% пользователей, к третьему - 81,3%, а к четвертому шагу - 94,78%.\n",
    "\n",
    "Таким образом, больше всего пользователей уходит после первого шага."
   ]
  },
  {
   "cell_type": "markdown",
   "metadata": {},
   "source": [
    "### Посчитаем, какая доля пользователей доходит от первого события до оплаты?"
   ]
  },
  {
   "cell_type": "code",
   "execution_count": 26,
   "metadata": {},
   "outputs": [
    {
     "name": "stdout",
     "output_type": "stream",
     "text": [
      "0     NaN\n",
      "3    47.7\n",
      "Name: user_id, dtype: float64\n"
     ]
    }
   ],
   "source": [
    "user_per_event = user_per_event.reset_index().drop(labels = [1,2,4],axis = 0).drop(labels = ['share'],axis = 1)\n",
    "\n",
    "print(round((user_per_event['user_id']/user_per_event['user_id'].shift()*100), 2))"
   ]
  },
  {
   "cell_type": "markdown",
   "metadata": {},
   "source": [
    "Конверсия в приложении составляет 47,7%. "
   ]
  },
  {
   "cell_type": "markdown",
   "metadata": {},
   "source": [
    "Итак, отметим важное:\n",
    "1. Из  событий к воронке продаж относятся 4 (MainScreenAppear, OffersScreenAppear, CartScreenAppear и PaymentScreenSuccessful).\n",
    "2. Больше всего пользователей уходит после первого шага.\n",
    "3. Конверсия в приложении составляет 47,7%. "
   ]
  },
  {
   "cell_type": "markdown",
   "metadata": {},
   "source": [
    "## Изучим результаты эксперимента"
   ]
  },
  {
   "cell_type": "markdown",
   "metadata": {},
   "source": [
    "### Посчитаем, сколько пользователей в каждой экспериментальной группе?"
   ]
  },
  {
   "cell_type": "code",
   "execution_count": 27,
   "metadata": {},
   "outputs": [
    {
     "data": {
      "text/html": [
       "<div>\n",
       "<style scoped>\n",
       "    .dataframe tbody tr th:only-of-type {\n",
       "        vertical-align: middle;\n",
       "    }\n",
       "\n",
       "    .dataframe tbody tr th {\n",
       "        vertical-align: top;\n",
       "    }\n",
       "\n",
       "    .dataframe thead th {\n",
       "        text-align: right;\n",
       "    }\n",
       "</style>\n",
       "<table border=\"1\" class=\"dataframe\">\n",
       "  <thead>\n",
       "    <tr style=\"text-align: right;\">\n",
       "      <th></th>\n",
       "      <th>user_id</th>\n",
       "    </tr>\n",
       "    <tr>\n",
       "      <th>exp_id</th>\n",
       "      <th></th>\n",
       "    </tr>\n",
       "  </thead>\n",
       "  <tbody>\n",
       "    <tr>\n",
       "      <th>246</th>\n",
       "      <td>79302</td>\n",
       "    </tr>\n",
       "    <tr>\n",
       "      <th>247</th>\n",
       "      <td>77022</td>\n",
       "    </tr>\n",
       "    <tr>\n",
       "      <th>248</th>\n",
       "      <td>84563</td>\n",
       "    </tr>\n",
       "  </tbody>\n",
       "</table>\n",
       "</div>"
      ],
      "text/plain": [
       "        user_id\n",
       "exp_id         \n",
       "246       79302\n",
       "247       77022\n",
       "248       84563"
      ]
     },
     "execution_count": 27,
     "metadata": {},
     "output_type": "execute_result"
    }
   ],
   "source": [
    "data_new.pivot_table(index='exp_id', values='user_id', aggfunc='count')"
   ]
  },
  {
   "cell_type": "markdown",
   "metadata": {},
   "source": [
    "В группе 246 находится 79302 пользователя, в группе 247 находится 77022 пользователя, а в группе 248 больше всего пользователей: 84563.\n",
    "\n",
    "Поскольку в контрольных группах для А/А-эксперимента (выборки 246 и 247) присутствует разное количество пользователей (разница составляет почти 3%), то следует проверить статистически равность выборок для корректного определения результатов эксперимента."
   ]
  },
  {
   "cell_type": "markdown",
   "metadata": {},
   "source": [
    "### Проверим статистически разницу между двумя контрольными группы для А/А-эксперимента (между выборками 246 и 247)\n",
    "Проверим гипотезу \"Выборки с данными 246 и 247 А/А-эксперимента равные\" с помощью z-теста \n",
    "\n",
    "H_0: Данные в выборке 246 = данные в выборке 247.\n",
    "\n",
    "H_a: Данные в выборке 246 ≠ данные в выборке 247.\n",
    "\n",
    "Критический уровень статистической значимости = 0.05 "
   ]
  },
  {
   "cell_type": "code",
   "execution_count": 28,
   "metadata": {},
   "outputs": [],
   "source": [
    "#выделим пользователей контрольных групп в отдельные переменные\n",
    "data_new_246 = data_new[data_new['exp_id']==246]\n",
    "data_new_247 = data_new[data_new['exp_id']==247]\n",
    "data_new_248 = data_new[data_new['exp_id']==248]"
   ]
  },
  {
   "cell_type": "code",
   "execution_count": 29,
   "metadata": {},
   "outputs": [],
   "source": [
    "#посмотрим сколько пользователей было на каждом событии в каждой группе\n",
    "data_new_246_g = data_new_246.groupby('event_name')\\\n",
    ".agg({'user_id': 'count'})\\\n",
    ".sort_values(by='user_id', ascending=False)\\\n",
    ".reset_index()\n",
    "\n",
    "data_new_247_g = data_new_247.groupby('event_name')\\\n",
    ".agg({'user_id': 'count'})\\\n",
    ".sort_values(by='user_id', ascending=False)\\\n",
    ".reset_index()"
   ]
  },
  {
   "cell_type": "code",
   "execution_count": 30,
   "metadata": {},
   "outputs": [
    {
     "data": {
      "text/plain": [
       "'(0.05159147288505236, 0.9588542139449071)'"
      ]
     },
     "execution_count": 30,
     "metadata": {},
     "output_type": "execute_result"
    }
   ],
   "source": [
    "#выделим значения столбца user_id в отдельную переменную\n",
    "a_246 = data_new_246_g['user_id']\n",
    "\n",
    "a_247 = data_new_247_g['user_id']\n",
    "\n",
    "format(ztest(a_246, a_247, value= 0))"
   ]
  },
  {
   "cell_type": "markdown",
   "metadata": {},
   "source": [
    "Статистика теста для двух выборочных z-тестов составляет 0,05 , а соответствующее значение p равно 0,959.\n",
    "\n",
    "Поскольку это p-значение больше 0,05, у нас нет достаточных доказательств, чтобы отклонить нулевую гипотезу, поэтому данные в выборках равны статистически."
   ]
  },
  {
   "cell_type": "markdown",
   "metadata": {},
   "source": [
    "### Определим  самое популярное событие и посчитаем число пользователей, совершивших это событие в каждой из контрольных групп АА-теста"
   ]
  },
  {
   "cell_type": "code",
   "execution_count": 31,
   "metadata": {},
   "outputs": [
    {
     "data": {
      "image/png": "[encoded data removed]",
      "text/plain": [
       "<Figure size 1080x432 with 1 Axes>"
      ]
     },
     "metadata": {
      "needs_background": "light"
     },
     "output_type": "display_data"
    }
   ],
   "source": [
    "data_new_246_g.set_index('event_name').plot(kind = 'bar', figsize=(15,6), grid=True);\n",
    "plt.title('График распределения пользователей по событиям в группе 246')\n",
    "plt.xlabel(\"События\")\n",
    "plt.ylabel(\"Количество пользователей\")\n",
    "plt.show();"
   ]
  },
  {
   "cell_type": "code",
   "execution_count": 32,
   "metadata": {},
   "outputs": [
    {
     "data": {
      "image/png": "[encoded data removed]",
      "text/plain": [
       "<Figure size 1080x432 with 1 Axes>"
      ]
     },
     "metadata": {
      "needs_background": "light"
     },
     "output_type": "display_data"
    }
   ],
   "source": [
    "data_new_247_g.set_index('event_name').plot(kind = 'bar', figsize=(15,6), grid=True);\n",
    "plt.title('График распределения пользователей по событиям в группе 247')\n",
    "plt.xlabel(\"События\")\n",
    "plt.ylabel(\"Количество пользователей\")\n",
    "plt.show();"
   ]
  },
  {
   "cell_type": "markdown",
   "metadata": {},
   "source": [
    "Самое популярное событие в обеих выборках является MainScreenAppear, а наименее популярное - Tutorial."
   ]
  },
  {
   "cell_type": "markdown",
   "metadata": {},
   "source": [
    "### Посчитаем долю пользователей, совершивших каждое событие, для групп А/А-эксперимента"
   ]
  },
  {
   "cell_type": "code",
   "execution_count": 33,
   "metadata": {},
   "outputs": [
    {
     "data": {
      "text/html": [
       "<div>\n",
       "<style scoped>\n",
       "    .dataframe tbody tr th:only-of-type {\n",
       "        vertical-align: middle;\n",
       "    }\n",
       "\n",
       "    .dataframe tbody tr th {\n",
       "        vertical-align: top;\n",
       "    }\n",
       "\n",
       "    .dataframe thead th {\n",
       "        text-align: right;\n",
       "    }\n",
       "</style>\n",
       "<table border=\"1\" class=\"dataframe\">\n",
       "  <thead>\n",
       "    <tr style=\"text-align: right;\">\n",
       "      <th></th>\n",
       "      <th>event_name</th>\n",
       "      <th>user_id</th>\n",
       "      <th>share</th>\n",
       "    </tr>\n",
       "  </thead>\n",
       "  <tbody>\n",
       "    <tr>\n",
       "      <th>0</th>\n",
       "      <td>MainScreenAppear</td>\n",
       "      <td>37676</td>\n",
       "      <td>47.51</td>\n",
       "    </tr>\n",
       "    <tr>\n",
       "      <th>1</th>\n",
       "      <td>OffersScreenAppear</td>\n",
       "      <td>14767</td>\n",
       "      <td>18.62</td>\n",
       "    </tr>\n",
       "    <tr>\n",
       "      <th>2</th>\n",
       "      <td>CartScreenAppear</td>\n",
       "      <td>14690</td>\n",
       "      <td>18.52</td>\n",
       "    </tr>\n",
       "    <tr>\n",
       "      <th>3</th>\n",
       "      <td>PaymentScreenSuccessful</td>\n",
       "      <td>11852</td>\n",
       "      <td>14.95</td>\n",
       "    </tr>\n",
       "    <tr>\n",
       "      <th>4</th>\n",
       "      <td>Tutorial</td>\n",
       "      <td>317</td>\n",
       "      <td>0.40</td>\n",
       "    </tr>\n",
       "  </tbody>\n",
       "</table>\n",
       "</div>"
      ],
      "text/plain": [
       "                event_name  user_id  share\n",
       "0         MainScreenAppear    37676  47.51\n",
       "1       OffersScreenAppear    14767  18.62\n",
       "2         CartScreenAppear    14690  18.52\n",
       "3  PaymentScreenSuccessful    11852  14.95\n",
       "4                 Tutorial      317   0.40"
      ]
     },
     "execution_count": 33,
     "metadata": {},
     "output_type": "execute_result"
    }
   ],
   "source": [
    "#Посчитаем долю пользователей, совершивших каждое из этих событий в группе 246\n",
    "data_new_246_g['share'] = round((data_new_246_g['user_id']/data_new_246_g['user_id'].sum())*100, 2)\n",
    "data_new_246_g"
   ]
  },
  {
   "cell_type": "code",
   "execution_count": 34,
   "metadata": {},
   "outputs": [
    {
     "data": {
      "text/html": [
       "<div>\n",
       "<style scoped>\n",
       "    .dataframe tbody tr th:only-of-type {\n",
       "        vertical-align: middle;\n",
       "    }\n",
       "\n",
       "    .dataframe tbody tr th {\n",
       "        vertical-align: top;\n",
       "    }\n",
       "\n",
       "    .dataframe thead th {\n",
       "        text-align: right;\n",
       "    }\n",
       "</style>\n",
       "<table border=\"1\" class=\"dataframe\">\n",
       "  <thead>\n",
       "    <tr style=\"text-align: right;\">\n",
       "      <th></th>\n",
       "      <th>event_name</th>\n",
       "      <th>user_id</th>\n",
       "      <th>share</th>\n",
       "    </tr>\n",
       "  </thead>\n",
       "  <tbody>\n",
       "    <tr>\n",
       "      <th>0</th>\n",
       "      <td>MainScreenAppear</td>\n",
       "      <td>39090</td>\n",
       "      <td>50.75</td>\n",
       "    </tr>\n",
       "    <tr>\n",
       "      <th>1</th>\n",
       "      <td>OffersScreenAppear</td>\n",
       "      <td>15179</td>\n",
       "      <td>19.71</td>\n",
       "    </tr>\n",
       "    <tr>\n",
       "      <th>2</th>\n",
       "      <td>CartScreenAppear</td>\n",
       "      <td>12434</td>\n",
       "      <td>16.14</td>\n",
       "    </tr>\n",
       "    <tr>\n",
       "      <th>3</th>\n",
       "      <td>PaymentScreenSuccessful</td>\n",
       "      <td>9981</td>\n",
       "      <td>12.96</td>\n",
       "    </tr>\n",
       "    <tr>\n",
       "      <th>4</th>\n",
       "      <td>Tutorial</td>\n",
       "      <td>338</td>\n",
       "      <td>0.44</td>\n",
       "    </tr>\n",
       "  </tbody>\n",
       "</table>\n",
       "</div>"
      ],
      "text/plain": [
       "                event_name  user_id  share\n",
       "0         MainScreenAppear    39090  50.75\n",
       "1       OffersScreenAppear    15179  19.71\n",
       "2         CartScreenAppear    12434  16.14\n",
       "3  PaymentScreenSuccessful     9981  12.96\n",
       "4                 Tutorial      338   0.44"
      ]
     },
     "execution_count": 34,
     "metadata": {},
     "output_type": "execute_result"
    }
   ],
   "source": [
    "#Посчитаем долю пользователей, совершивших каждое из этих событий в группе 247\n",
    "data_new_247_g['share'] = round((data_new_247_g['user_id']/data_new_247_g['user_id'].sum())*100, 2)\n",
    "data_new_247_g"
   ]
  },
  {
   "cell_type": "markdown",
   "metadata": {},
   "source": [
    "### Проверим, будет ли отличие между долями в группах для А/А-эксперимента статистически достоверным"
   ]
  },
  {
   "cell_type": "code",
   "execution_count": 35,
   "metadata": {},
   "outputs": [],
   "source": [
    "#напишем функцию, которая посчитает статистические различия между группами по событиям\n",
    "def z_test(g, e):\n",
    "    groups = np.array(g)\n",
    "    events = np.array(e)\n",
    "\n",
    "    # пропорция успехов в первой группе:\n",
    "    p1 = groups[0]/events[0]\n",
    "\n",
    "    # пропорция успехов во второй группе:\n",
    "    p2 = groups[1]/events[1]\n",
    "\n",
    "    # пропорция успехов в комбинированном датасете:\n",
    "    p_combined = (groups[0] + groups[1]) / (events[0] + events[1])\n",
    "\n",
    "    # разница пропорций в датасетах\n",
    "    difference = p1 - p2 \n",
    "\n",
    "    # считаем статистику в ст.отклонениях стандартного нормального распределения\n",
    "    z_value = difference / mth.sqrt(p_combined * (1 - p_combined) * (1/events[0] + 1/events[1]))\n",
    "\n",
    "    # задаем стандартное нормальное распределение (среднее 0, ст.отклонение 1)\n",
    "    distr = st.norm(0, 1)  \n",
    "\n",
    "    p_value = (1 - distr.cdf(abs(z_value))) * 2    \n",
    "    \n",
    "    # критический уровень статистической значимости\n",
    "    alpha = .05 # критический уровень статистической значимости\n",
    "    \n",
    "    print('p-значение: ', p_value)\n",
    "    if p_value < alpha:\n",
    "            print('Отвергаем нулевую гипотезу: между долями есть значимая разница')\n",
    "    else:\n",
    "            print('Не получилось отвергнуть нулевую гипотезу, нет оснований считать доли разными')\n",
    "def test(event, group_1, group_2):\n",
    "    events = data_new.loc[(data_new['event_name'] == event)&(data_new['exp_id'].isin([group_1, group_2]))]\\\n",
    "    .groupby('exp_id')\\\n",
    "    .agg({'user_id':'nunique'})\n",
    "    events.columns = ['users_per_event']\n",
    "    events['user_total'] = data_new.groupby('exp_id').agg({'user_id':'nunique'})\n",
    "    events['share'] = round((events['users_per_event']/events['user_total'].sum())*100, 2)\n",
    "    g = events['users_per_event']\n",
    "    e = events['user_total']\n",
    "    z_test(g,e)"
   ]
  },
  {
   "cell_type": "markdown",
   "metadata": {},
   "source": [
    "#### Проверим гипотезу \"Доли пользователей, совершивших событие \"MainScreenAppear\" в группах 246 и 247 А/А-эксперимента, равные\" с помощью z-теста\n",
    "\n",
    "H_0: Доля пользователей, совершивших событие \"MainScreenAppear\" в группе 246 = доля пользователей, совершивших событие \"MainScreenAppear\" в группе 247.\n",
    "\n",
    "H_a: Доля пользователей, совершивших событие \"MainScreenAppear\" в группе 246 ≠ доля пользователей, совершивших событие \"MainScreenAppear\" в группе 247.\n",
    "\n",
    "Критический уровень статистической значимости = 0.05 "
   ]
  },
  {
   "cell_type": "code",
   "execution_count": 36,
   "metadata": {},
   "outputs": [
    {
     "name": "stdout",
     "output_type": "stream",
     "text": [
      "p-значение:  0.7570597232046099\n",
      "Не получилось отвергнуть нулевую гипотезу, нет оснований считать доли разными\n"
     ]
    }
   ],
   "source": [
    "event='MainScreenAppear'\n",
    "group_1 = 246\n",
    "group_2 = 247\n",
    "test(event, group_1, group_2)"
   ]
  },
  {
   "cell_type": "markdown",
   "metadata": {},
   "source": [
    "#### Проверим гипотезу \"Доли пользователей, совершивших событие \"OffersScreenAppear\" в группах 246 и 247 А/А-эксперимента, равные\" с помощью z-теста\n",
    "\n",
    "H_0: Доля пользователей, совершивших событие \"OffersScreenAppear\" в группе 246 = доля пользователей, совершивших событие \"OffersScreenAppear\" в группе 247.\n",
    "\n",
    "H_a: Доля пользователей, совершивших событие \"OffersScreenAppear\" в группе 246 ≠ доля пользователей, совершивших событие \"OffersScreenAppear\" в группе 247.\n",
    "\n",
    "Критический уровень статистической значимости = 0.05 "
   ]
  },
  {
   "cell_type": "code",
   "execution_count": 37,
   "metadata": {},
   "outputs": [
    {
     "name": "stdout",
     "output_type": "stream",
     "text": [
      "p-значение:  0.2480954578522181\n",
      "Не получилось отвергнуть нулевую гипотезу, нет оснований считать доли разными\n"
     ]
    }
   ],
   "source": [
    "event='OffersScreenAppear'\n",
    "group_1 = 246\n",
    "group_2 = 247\n",
    "test(event, group_1, group_2)"
   ]
  },
  {
   "cell_type": "markdown",
   "metadata": {},
   "source": [
    "####  Проверим гипотезу \"Доли пользователей, совершивших событие \"CartScreenAppear\" в группах 246 и 247 А/А-эксперимента, равные\" с помощью z-теста\n",
    "\n",
    "H_0: Доля пользователей, совершивших событие \"CartScreenAppear\" в группе 246 = доля пользователей, совершивших событие \"CartScreenAppear\" в группе 247.\n",
    "\n",
    "H_a: Доля пользователей, совершивших событие \"CartScreenAppear\" в группе 246 ≠ доля пользователей, совершивших событие \"CartScreenAppear\" в группе 247.\n",
    "\n",
    "Критический уровень статистической значимости = 0.05 "
   ]
  },
  {
   "cell_type": "code",
   "execution_count": 38,
   "metadata": {},
   "outputs": [
    {
     "name": "stdout",
     "output_type": "stream",
     "text": [
      "p-значение:  0.22883372237997213\n",
      "Не получилось отвергнуть нулевую гипотезу, нет оснований считать доли разными\n"
     ]
    }
   ],
   "source": [
    "event='CartScreenAppear'\n",
    "group_1 = 246\n",
    "group_2 = 247\n",
    "test(event, group_1, group_2)"
   ]
  },
  {
   "cell_type": "markdown",
   "metadata": {},
   "source": [
    "####  Проверим гипотезу \"Доли пользователей, совершивших событие \"PaymentScreenSuccessful\" в группах 246 и 247 А/А-эксперимента, равные\" с помощью z-теста\n",
    "\n",
    "H_0: Доля пользователей, совершивших событие \"PaymentScreenSuccessful\" в группе 246 = доля пользователей, совершивших событие \"PaymentScreenSuccessful\" в группе 247.\n",
    "\n",
    "H_a: Доля пользователей, совершивших событие \"PaymentScreenSuccessful\" в группе 246 ≠ доля пользователей, совершивших событие \"PaymentScreenSuccessful\" в группе 247.\n",
    "\n",
    "Критический уровень статистической значимости = 0.05"
   ]
  },
  {
   "cell_type": "code",
   "execution_count": 39,
   "metadata": {},
   "outputs": [
    {
     "name": "stdout",
     "output_type": "stream",
     "text": [
      "p-значение:  0.11456679313141849\n",
      "Не получилось отвергнуть нулевую гипотезу, нет оснований считать доли разными\n"
     ]
    }
   ],
   "source": [
    "event='PaymentScreenSuccessful'\n",
    "group_1 = 246\n",
    "group_2 = 247\n",
    "test(event, group_1, group_2)"
   ]
  },
  {
   "cell_type": "markdown",
   "metadata": {},
   "source": [
    "####  Проверим гипотезу \"Доли пользователей, совершивших событие \"Tutorial\" в группах 246 и 247 А/А-эксперимента, равные\" с помощью z-теста\n",
    "\n",
    "H_0: Доля пользователей, совершивших событие \"Tutorial\" в группе 246 = доля пользователей, совершивших событие \"Tutorial\" в группе 247.\n",
    "\n",
    "H_a: Доля пользователей, совершивших событие \"Tutorial\" в группе 246 ≠ доля пользователей, совершивших событие \"Tutorial\" в группе 247.\n",
    "\n",
    "Критический уровень статистической значимости = 0.05"
   ]
  },
  {
   "cell_type": "code",
   "execution_count": 40,
   "metadata": {},
   "outputs": [
    {
     "name": "stdout",
     "output_type": "stream",
     "text": [
      "p-значение:  0.9376996189257114\n",
      "Не получилось отвергнуть нулевую гипотезу, нет оснований считать доли разными\n"
     ]
    }
   ],
   "source": [
    "event='Tutorial'\n",
    "group_1 = 246\n",
    "group_2 = 247\n",
    "test(event, group_1, group_2)"
   ]
  },
  {
   "cell_type": "markdown",
   "metadata": {},
   "source": [
    "Итак, по всем событиям данные в выборках 246 и 247 равны."
   ]
  },
  {
   "cell_type": "markdown",
   "metadata": {},
   "source": [
    "### Проверим, будет ли отличие между долями в группах А/B-эксперимента статистически достоверным для всех событий"
   ]
  },
  {
   "cell_type": "markdown",
   "metadata": {},
   "source": [
    "### Сравните результаты с объединённой контрольной группой. "
   ]
  },
  {
   "cell_type": "markdown",
   "metadata": {},
   "source": [
    "#### Проверим статистические различия между группами 246 и 248 по событиям"
   ]
  },
  {
   "cell_type": "markdown",
   "metadata": {},
   "source": [
    "##### Проверим гипотезу \"Доли пользователей, совершивших событие \"MainScreenAppear\" в группах 246 и 248 А/B-эксперимента, равные\" с помощью z-теста\n",
    "\n",
    "H_0: Доля пользователей, совершивших событие \"MainScreenAppear\" в группе 246 = доля пользователей, совершивших событие \"MainScreenAppear\" в группе 248.\n",
    "\n",
    "H_a: Доля пользователей, совершивших событие \"MainScreenAppear\" в группе 246 ≠ доля пользователей, совершивших событие \"MainScreenAppear\" в группе 248.\n",
    "\n",
    "Критический уровень статистической значимости = 0.05"
   ]
  },
  {
   "cell_type": "markdown",
   "metadata": {},
   "source": [
    "Статистика теста для двух выборочных z-тестов составляет 0,05 , а соответствующее значение p равно 0.308.\n",
    "\n",
    "Поскольку это p-значение больше 0,05, у нас нет достаточных доказательств, чтобы отклонить нулевую гипотезу, поэтому данные в выборках равны статистически."
   ]
  },
  {
   "cell_type": "code",
   "execution_count": 41,
   "metadata": {},
   "outputs": [
    {
     "name": "stdout",
     "output_type": "stream",
     "text": [
      "p-значение:  0.2949721933554552\n",
      "Не получилось отвергнуть нулевую гипотезу, нет оснований считать доли разными\n"
     ]
    }
   ],
   "source": [
    "event='MainScreenAppear'\n",
    "group_1 = 246\n",
    "group_2 = 248\n",
    "test(event, group_1, group_2)"
   ]
  },
  {
   "cell_type": "markdown",
   "metadata": {},
   "source": [
    "##### Проверим гипотезу \"Доли пользователей, совершивших событие \"OffersScreenAppear\" в группах 246 и 248 А/B-эксперимента, равные\" с помощью z-теста\n",
    "\n",
    "H_0: Доля пользователей, совершивших событие \"OffersScreenAppear\" в группе 246 = доля пользователей, совершивших событие \"OffersScreenAppear\" в группе 248.\n",
    "\n",
    "H_a: Доля пользователей, совершивших событие \"OffersScreenAppear\" в группе 246 ≠ доля пользователей, совершивших событие \"OffersScreenAppear\" в группе 248.\n",
    "\n",
    "Критический уровень статистической значимости = 0.05"
   ]
  },
  {
   "cell_type": "code",
   "execution_count": 42,
   "metadata": {},
   "outputs": [
    {
     "name": "stdout",
     "output_type": "stream",
     "text": [
      "p-значение:  0.20836205402738917\n",
      "Не получилось отвергнуть нулевую гипотезу, нет оснований считать доли разными\n"
     ]
    }
   ],
   "source": [
    "event='OffersScreenAppear'\n",
    "group_1 = 246\n",
    "group_2 = 248\n",
    "test(event, group_1, group_2)"
   ]
  },
  {
   "cell_type": "markdown",
   "metadata": {},
   "source": [
    "##### Проверим гипотезу \"Доли пользователей, совершивших событие \"CartScreenAppear\" в группах 246 и 248 А/B-эксперимента, равные\" с помощью z-теста\n",
    "\n",
    "H_0: Доля пользователей, совершивших событие \"CartScreenAppear\" в группе 246 = доля пользователей, совершивших событие \"CartScreenAppear\" в группе 248.\n",
    "\n",
    "H_a: Доля пользователей, совершивших событие \"CartScreenAppear\" в группе 246 ≠ доля пользователей, совершивших событие \"CartScreenAppear\" в группе 248.\n",
    "\n",
    "Критический уровень статистической значимости = 0.05"
   ]
  },
  {
   "cell_type": "code",
   "execution_count": 43,
   "metadata": {},
   "outputs": [
    {
     "name": "stdout",
     "output_type": "stream",
     "text": [
      "p-значение:  0.07842923237520116\n",
      "Не получилось отвергнуть нулевую гипотезу, нет оснований считать доли разными\n"
     ]
    }
   ],
   "source": [
    "event='CartScreenAppear'\n",
    "group_1 = 246\n",
    "group_2 = 248\n",
    "test(event, group_1, group_2)"
   ]
  },
  {
   "cell_type": "markdown",
   "metadata": {},
   "source": [
    "##### Проверим гипотезу \"Доли пользователей, совершивших событие \"PaymentScreenSuccessful\" в группах 246 и 248 А/B-эксперимента, равные\" с помощью z-теста\n",
    "\n",
    "H_0: Доля пользователей, совершивших событие \"PaymentScreenSuccessful\" в группе 246 = доля пользователей, совершивших событие \"PaymentScreenSuccessful\" в группе 248.\n",
    "\n",
    "H_a: Доля пользователей, совершивших событие \"PaymentScreenSuccessful\" в группе 246 ≠ доля пользователей, совершивших событие \"PaymentScreenSuccessful\" в группе 248.\n",
    "\n",
    "Критический уровень статистической значимости = 0.05"
   ]
  },
  {
   "cell_type": "code",
   "execution_count": 44,
   "metadata": {},
   "outputs": [
    {
     "name": "stdout",
     "output_type": "stream",
     "text": [
      "p-значение:  0.2122553275697796\n",
      "Не получилось отвергнуть нулевую гипотезу, нет оснований считать доли разными\n"
     ]
    }
   ],
   "source": [
    "event='PaymentScreenSuccessful'\n",
    "group_1 = 246\n",
    "group_2 = 248\n",
    "test(event, group_1, group_2)"
   ]
  },
  {
   "cell_type": "markdown",
   "metadata": {},
   "source": [
    "##### Проверим гипотезу \"Доли пользователей, совершивших событие \"Tutorial\" в группах 246 и 248 А/B-эксперимента, равные\" с помощью z-теста\n",
    "\n",
    "H_0: Доля пользователей, совершивших событие \"Tutorial\" в группе 246 = доля пользователей, совершивших событие \"Tutorial\" в группе 248.\n",
    "\n",
    "H_a: Доля пользователей, совершивших событие \"Tutorial\" в группе 246 ≠ доля пользователей, совершивших событие \"Tutorial\" в группе 248.\n",
    "\n",
    "Критический уровень статистической значимости = 0.05"
   ]
  },
  {
   "cell_type": "code",
   "execution_count": 45,
   "metadata": {},
   "outputs": [
    {
     "name": "stdout",
     "output_type": "stream",
     "text": [
      "p-значение:  0.8264294010087645\n",
      "Не получилось отвергнуть нулевую гипотезу, нет оснований считать доли разными\n"
     ]
    }
   ],
   "source": [
    "event = 'Tutorial'\n",
    "group_1 = 246\n",
    "group_2 = 248\n",
    "test(event, group_1, group_2)"
   ]
  },
  {
   "cell_type": "markdown",
   "metadata": {},
   "source": [
    "Итак, по всем событиям данные в выборках 246 и 248 равны."
   ]
  },
  {
   "cell_type": "markdown",
   "metadata": {},
   "source": [
    "#### Проверим статистические различия между группами 247 и 248 по событиям"
   ]
  },
  {
   "cell_type": "markdown",
   "metadata": {},
   "source": [
    "##### Проверим гипотезу \"Доли пользователей, совершивших событие \"MainScreenAppear\" в группах 247 и 248 А/B-эксперимента, равные\" с помощью z-теста\n",
    "\n",
    "H_0: Доля пользователей, совершивших событие \"MainScreenAppear\" в группе 247 = доля пользователей, совершивших событие \"MainScreenAppear\" в группе 248.\n",
    "\n",
    "H_a: Доля пользователей, совершивших событие \"MainScreenAppear\" в группе 247 ≠ доля пользователей, совершивших событие \"MainScreenAppear\" в группе 248.\n",
    "\n",
    "Критический уровень статистической значимости = 0.05"
   ]
  },
  {
   "cell_type": "code",
   "execution_count": 46,
   "metadata": {},
   "outputs": [
    {
     "name": "stdout",
     "output_type": "stream",
     "text": [
      "p-значение:  0.4587053616621515\n",
      "Не получилось отвергнуть нулевую гипотезу, нет оснований считать доли разными\n"
     ]
    }
   ],
   "source": [
    "event='MainScreenAppear'\n",
    "group_1 = 247\n",
    "group_2 = 248\n",
    "test(event, group_1, group_2)"
   ]
  },
  {
   "cell_type": "markdown",
   "metadata": {},
   "source": [
    "##### Проверим гипотезу \"Доли пользователей, совершивших событие \"OffersScreenAppear\" в группах 247 и 248 А/B-эксперимента, равные\" с помощью z-теста\n",
    "\n",
    "H_0: Доля пользователей, совершивших событие \"OffersScreenAppear\" в группе 247 = доля пользователей, совершивших событие \"OffersScreenAppear\" в группе 248.\n",
    "\n",
    "H_a: Доля пользователей, совершивших событие \"OffersScreenAppear\" в группе 247 ≠ доля пользователей, совершивших событие \"OffersScreenAppear\" в группе 248.\n",
    "\n",
    "Критический уровень статистической значимости = 0.05"
   ]
  },
  {
   "cell_type": "code",
   "execution_count": 47,
   "metadata": {},
   "outputs": [
    {
     "name": "stdout",
     "output_type": "stream",
     "text": [
      "p-значение:  0.9197817830592261\n",
      "Не получилось отвергнуть нулевую гипотезу, нет оснований считать доли разными\n"
     ]
    }
   ],
   "source": [
    "event='OffersScreenAppear'\n",
    "group_1 = 247\n",
    "group_2 = 248\n",
    "test(event, group_1, group_2)"
   ]
  },
  {
   "cell_type": "markdown",
   "metadata": {},
   "source": [
    "##### Проверим гипотезу \"Доли пользователей, совершивших событие \"CartScreenAppear\" в группах 247 и 248 А/B-эксперимента, равные\" с помощью z-теста\n",
    "\n",
    "H_0: Доля пользователей, совершивших событие \"CartScreenAppear\" в группе 247 = доля пользователей, совершивших событие \"CartScreenAppear\" в группе 248.\n",
    "\n",
    "H_a: Доля пользователей, совершивших событие \"CartScreenAppear\" в группе 247 ≠ доля пользователей, совершивших событие \"CartScreenAppear\" в группе 248.\n",
    "\n",
    "Критический уровень статистической значимости = 0.05"
   ]
  },
  {
   "cell_type": "code",
   "execution_count": 48,
   "metadata": {},
   "outputs": [
    {
     "name": "stdout",
     "output_type": "stream",
     "text": [
      "p-значение:  0.5786197879539783\n",
      "Не получилось отвергнуть нулевую гипотезу, нет оснований считать доли разными\n"
     ]
    }
   ],
   "source": [
    "event='CartScreenAppear'\n",
    "group_1 = 247\n",
    "group_2 = 248\n",
    "test(event, group_1, group_2)"
   ]
  },
  {
   "cell_type": "markdown",
   "metadata": {},
   "source": [
    "##### Проверим гипотезу \"Доли пользователей, совершивших событие \"PaymentScreenSuccessful\" в группах 247 и 248 А/B-эксперимента, равные\" с помощью z-теста\n",
    "\n",
    "H_0: Доля пользователей, совершивших событие \"PaymentScreenSuccessful\" в группе 247 = доля пользователей, совершивших событие \"PaymentScreenSuccessful\" в группе 248.\n",
    "\n",
    "H_a: Доля пользователей, совершивших событие \"PaymentScreenSuccessful\" в группе 247 ≠ доля пользователей, совершивших событие \"PaymentScreenSuccessful\" в группе 248.\n",
    "\n",
    "Критический уровень статистической значимости = 0.05"
   ]
  },
  {
   "cell_type": "code",
   "execution_count": 49,
   "metadata": {},
   "outputs": [
    {
     "name": "stdout",
     "output_type": "stream",
     "text": [
      "p-значение:  0.7373415053803964\n",
      "Не получилось отвергнуть нулевую гипотезу, нет оснований считать доли разными\n"
     ]
    }
   ],
   "source": [
    "event='PaymentScreenSuccessful'\n",
    "group_1 = 247\n",
    "group_2 = 248\n",
    "test(event, group_1, group_2)"
   ]
  },
  {
   "cell_type": "markdown",
   "metadata": {},
   "source": [
    "##### Проверим гипотезу \"Доли пользователей, совершивших событие \"Tutorial\" в группах 247 и 248 А/B-эксперимента, равные\" с помощью z-теста\n",
    "\n",
    "H_0: Доля пользователей, совершивших событие \"Tutorial\" в группе 247 = доля пользователей, совершивших событие \"Tutorial\" в группе 248.\n",
    "\n",
    "H_a: Доля пользователей, совершивших событие \"Tutorial\" в группе 247 ≠ доля пользователей, совершивших событие \"Tutorial\" в группе 248.\n",
    "\n",
    "Критический уровень статистической значимости = 0.05"
   ]
  },
  {
   "cell_type": "code",
   "execution_count": 50,
   "metadata": {},
   "outputs": [
    {
     "name": "stdout",
     "output_type": "stream",
     "text": [
      "p-значение:  0.765323922474501\n",
      "Не получилось отвергнуть нулевую гипотезу, нет оснований считать доли разными\n"
     ]
    }
   ],
   "source": [
    "event='Tutorial'\n",
    "group_1 = 247\n",
    "group_2 = 248\n",
    "test(event, group_1, group_2)"
   ]
  },
  {
   "cell_type": "markdown",
   "metadata": {},
   "source": [
    "#### Проверим статистически разницу между объединённой контрольной группой А/А-эксперимента и экспериментальной группой А/В-эксперимента по событиям"
   ]
  },
  {
   "cell_type": "code",
   "execution_count": 51,
   "metadata": {},
   "outputs": [],
   "source": [
    "#напишем функцию, которая посчитает статистические различия между объединенными группами по событиям\n",
    "def z_test(g, e):\n",
    "    groups = np.array(g)\n",
    "    events = np.array(e)\n",
    "\n",
    "    # пропорция успехов в первой группе:\n",
    "    p1 = groups[0]/events[0]\n",
    "\n",
    "    # пропорция успехов во второй группе:\n",
    "    p2 = groups[1]/events[1]\n",
    "\n",
    "    # пропорция успехов в комбинированном датасете:\n",
    "    p_combined = (groups[0] + groups[1]) / (events[0] + events[1])\n",
    "\n",
    "    # разница пропорций в датасетах\n",
    "    difference = p1 - p2 \n",
    "\n",
    "    # считаем статистику в ст.отклонениях стандартного нормального распределения\n",
    "    z_value = difference / mth.sqrt(p_combined * (1 - p_combined) * (1/events[0] + 1/events[1]))\n",
    "\n",
    "    # задаем стандартное нормальное распределение (среднее 0, ст.отклонение 1)\n",
    "    distr = st.norm(0, 1)  \n",
    "\n",
    "    p_value = (1 - distr.cdf(abs(z_value))) * 2    \n",
    "    \n",
    "    # критический уровень статистической значимости\n",
    "    alpha = .05 # критический уровень статистической значимости\n",
    "    \n",
    "    print('p-значение: ', p_value)\n",
    "    if p_value < alpha:\n",
    "            print('Отвергаем нулевую гипотезу: между долями есть значимая разница')\n",
    "    else:\n",
    "            print('Не получилось отвергнуть нулевую гипотезу, нет оснований считать доли разными')\n",
    "def ab_test(event):\n",
    "    events = data_new.loc[(data_new['event_name'] == event)&(data_new['exp_id'].isin([246, 247, 248]))]\\\n",
    "    .groupby('exp_id')\\\n",
    "    .agg({'user_id':'nunique'})\n",
    "    events.columns = ['users_per_event']\n",
    "    events['user_total'] = data_new.groupby('exp_id').agg({'user_id':'nunique'})\n",
    "    events.loc['246_247'] = events.loc[246]+events.loc[247]\n",
    "    events = events.drop([246, 247],axis = 0)\n",
    "    events['share'] = round((events['users_per_event']/events['user_total'].sum())*100, 2)\n",
    "    g = events['users_per_event']\n",
    "    e = events['user_total']\n",
    "    z_test(g,e)"
   ]
  },
  {
   "cell_type": "markdown",
   "metadata": {},
   "source": [
    "##### Проверим гипотезу \"Доли пользователей, совершивших событие \"MainScreenAppear\" в объединенной контрольной группе 246 и 247 А/А-эксперимента и группы 248 А/B-эксперимента, равные\" с помощью z-теста\n",
    "\n",
    "H_0: Доля пользователей, совершивших событие \"MainScreenAppear\" в объединенной контрольной группе 246 и 247 = доля пользователей, совершивших событие \"MainScreenAppear\" в группе 248.\n",
    "\n",
    "H_a: Доля пользователей, совершивших событие \"MainScreenAppear\" в объединенной контрольной группе 246 и 247 ≠ доля пользователей, совершивших событие \"MainScreenAppear\" в группе 248.\n",
    "\n",
    "Критический уровень статистической значимости = 0.05"
   ]
  },
  {
   "cell_type": "code",
   "execution_count": 52,
   "metadata": {},
   "outputs": [
    {
     "name": "stdout",
     "output_type": "stream",
     "text": [
      "p-значение:  0.29424526837179577\n",
      "Не получилось отвергнуть нулевую гипотезу, нет оснований считать доли разными\n"
     ]
    }
   ],
   "source": [
    "event='MainScreenAppear'\n",
    "ab_test(event)"
   ]
  },
  {
   "cell_type": "markdown",
   "metadata": {},
   "source": [
    "##### Проверим гипотезу \"Доли пользователей, совершивших событие \"OffersScreenAppear\" в объединенной контрольной группе 246 и 247 А/А-эксперимента и группы 248 А/B-эксперимента, равные\" с помощью z-теста\n",
    "\n",
    "H_0: Доля пользователей, совершивших событие \"OffersScreenAppear\" в объединенной контрольной группе 246 и 247 = доля пользователей, совершивших событие \"OffersScreenAppear\" в группе 248.\n",
    "\n",
    "H_a: Доля пользователей, совершивших событие \"OffersScreenAppear\" в объединенной контрольной группе 246 и 247 ≠ доля пользователей, совершивших событие \"OffersScreenAppear\" в группе 248.\n",
    "\n",
    "Критический уровень статистической значимости = 0.05"
   ]
  },
  {
   "cell_type": "code",
   "execution_count": 53,
   "metadata": {},
   "outputs": [
    {
     "name": "stdout",
     "output_type": "stream",
     "text": [
      "p-значение:  0.43425549655188256\n",
      "Не получилось отвергнуть нулевую гипотезу, нет оснований считать доли разными\n"
     ]
    }
   ],
   "source": [
    "event='OffersScreenAppear'\n",
    "ab_test(event)"
   ]
  },
  {
   "cell_type": "markdown",
   "metadata": {},
   "source": [
    "##### Проверим гипотезу \"Доли пользователей, совершивших событие \"CartScreenAppear\" в объединенной контрольной группе 246 и 247 А/А-эксперимента и группы 248 А/B-эксперимента, равные\" с помощью z-теста\n",
    "\n",
    "H_0: Доля пользователей, совершивших событие \"CartScreenAppear\" в объединенной контрольной группе 246 и 247 = доля пользователей, совершивших событие \"CartScreenAppear\" в группе 248.\n",
    "\n",
    "H_a: Доля пользователей, совершивших событие \"CartScreenAppear\" в объединенной контрольной группе 246 и 247 ≠ доля пользователей, совершивших событие \"CartScreenAppear\" в группе 248.\n",
    "\n",
    "Критический уровень статистической значимости = 0.05"
   ]
  },
  {
   "cell_type": "code",
   "execution_count": 54,
   "metadata": {},
   "outputs": [
    {
     "name": "stdout",
     "output_type": "stream",
     "text": [
      "p-значение:  0.18175875284404386\n",
      "Не получилось отвергнуть нулевую гипотезу, нет оснований считать доли разными\n"
     ]
    }
   ],
   "source": [
    "event='CartScreenAppear'\n",
    "ab_test(event)"
   ]
  },
  {
   "cell_type": "markdown",
   "metadata": {},
   "source": [
    "##### Проверим гипотезу \"Доли пользователей, совершивших событие \"PaymentScreenSuccessful\" в объединенной контрольной группе 246 и 247 А/А-эксперимента и группы 248 А/B-эксперимента, равные\" с помощью z-теста\n",
    "\n",
    "H_0: Доля пользователей, совершивших событие \"PaymentScreenSuccessful\" в объединенной контрольной группе 246 и 247 = доля пользователей, совершивших событие \"PaymentScreenSuccessful\" в группе 248.\n",
    "\n",
    "H_a: Доля пользователей, совершивших событие \"PaymentScreenSuccessful\" в объединенной контрольной группе 246 и 247 ≠ доля пользователей, совершивших событие \"PaymentScreenSuccessful\" в группе 248.\n",
    "\n",
    "Критический уровень статистической значимости = 0.05"
   ]
  },
  {
   "cell_type": "code",
   "execution_count": 55,
   "metadata": {},
   "outputs": [
    {
     "name": "stdout",
     "output_type": "stream",
     "text": [
      "p-значение:  0.6004294282308704\n",
      "Не получилось отвергнуть нулевую гипотезу, нет оснований считать доли разными\n"
     ]
    }
   ],
   "source": [
    "event='PaymentScreenSuccessful'\n",
    "ab_test(event)"
   ]
  },
  {
   "cell_type": "markdown",
   "metadata": {},
   "source": [
    "##### Проверим гипотезу \"Доли пользователей, совершивших событие \"Tutorial\" в объединенной контрольной группе 246 и 247 А/А-эксперимента и группы 248 А/B-эксперимента, равные\" с помощью z-теста\n",
    "\n",
    "H_0: Доля пользователей, совершивших событие \"Tutorial\" в объединенной контрольной группе 246 и 247 = доля пользователей, совершивших событие \"Tutorial\" в группе 248.\n",
    "\n",
    "H_a: Доля пользователей, совершивших событие \"Tutorial\" в объединенной контрольной группе 246 и 247 ≠ доля пользователей, совершивших событие \"Tutorial\" в группе 248.\n",
    "\n",
    "Критический уровень статистической значимости = 0.05"
   ]
  },
  {
   "cell_type": "code",
   "execution_count": 56,
   "metadata": {},
   "outputs": [
    {
     "name": "stdout",
     "output_type": "stream",
     "text": [
      "p-значение:  0.764862472531507\n",
      "Не получилось отвергнуть нулевую гипотезу, нет оснований считать доли разными\n"
     ]
    }
   ],
   "source": [
    "event='Tutorial'\n",
    "ab_test(event)"
   ]
  },
  {
   "cell_type": "markdown",
   "metadata": {},
   "source": [
    "Итак, проведено:\n",
    "- 1 проверка статистической гипотезы по общим данным выборок А/А-эксперимента, \n",
    "- 5 проверок статистических гипотез по событиям по данным выборок А/А-эксперимента,\n",
    "- 10 проверок статистических гипотез по событиям по данным выборок А/А-эксперимента и А/В-эксперимента,\n",
    "- 5 проверок статистических гипотез по событиям по данным объединенных выборок А/А-эксперимента и выборки А/В-эксперимента.\n",
    "\n",
    "Критический уровень статистической значимости составил 0,05.\n",
    "\n",
    "Выявлено, что данные по всем событиям статистически равны между всеми группами, как А/А-теста, так и А/В-теста, таким образом эксперимент можно признать удачным: смена шрифтов во всем приложении \"не испугает\" пользователей."
   ]
  },
  {
   "cell_type": "markdown",
   "metadata": {},
   "source": [
    "## Общий вывод"
   ]
  },
  {
   "cell_type": "markdown",
   "metadata": {},
   "source": [
    "По итогам проведенного исследования можно сделать следующие выводы:\n",
    "\n",
    "1.\tЭксперимент проводился с 01.08.2019 по 07.08.2019.\n",
    "2.\tВ логе всего 5 уникальных событий.\n",
    "3.\tВ логе присутствуют данные трех групп, из которых 246 и 247 - это группы с результатами А/А-тестирования, а 248 - это экспериментальная группа для А/В-тестирования.\n",
    "4.\tК воронке продаж относятся 4 события (MainScreenAppear, OffersScreenAppear, CartScreenAppear и PaymentScreenSuccessful). \n",
    "5.\tБольше всего пользователей уходит после первого шага (посещение главного экрана – событие «MainScreenAppear»).\n",
    "6.\tКонверсия в приложении составляет 47,7%.\n",
    "7.\tДанные по событиям статистически равны между всеми группами, как А/А-теста, так и А/В-теста.\n",
    "\n",
    "Таким образом, A/A/B-эксперимент по изменению шрифтов во всём приложении следует остановить и признать удачным: смена шрифтов во всем приложении \"не испугает\" пользователей."
   ]
  },
  {
   "cell_type": "code",
   "execution_count": null,
   "metadata": {},
   "outputs": [],
   "source": []
  }
 ],
 "metadata": {
  "ExecuteTimeLog": [
   {
    "duration": 127,
    "start_time": "2023-02-14T10:19:56.672Z"
   },
   {
    "duration": 1280,
    "start_time": "2023-02-14T10:20:49.054Z"
   },
   {
    "duration": 3,
    "start_time": "2023-02-14T10:24:04.821Z"
   },
   {
    "duration": 2,
    "start_time": "2023-02-14T10:28:19.434Z"
   },
   {
    "duration": 1145,
    "start_time": "2023-02-14T10:30:28.035Z"
   },
   {
    "duration": 83,
    "start_time": "2023-02-14T10:30:29.181Z"
   },
   {
    "duration": 23,
    "start_time": "2023-02-14T10:30:29.266Z"
   },
   {
    "duration": 3,
    "start_time": "2023-02-14T10:30:29.291Z"
   },
   {
    "duration": 8,
    "start_time": "2023-02-14T10:30:29.297Z"
   },
   {
    "duration": 6,
    "start_time": "2023-02-14T10:30:29.308Z"
   },
   {
    "duration": 8,
    "start_time": "2023-02-14T10:30:29.316Z"
   },
   {
    "duration": 7,
    "start_time": "2023-02-14T10:30:29.326Z"
   },
   {
    "duration": 13,
    "start_time": "2023-02-14T10:30:29.335Z"
   },
   {
    "duration": 1141,
    "start_time": "2023-02-14T10:31:14.236Z"
   },
   {
    "duration": 27,
    "start_time": "2023-02-14T10:31:15.379Z"
   },
   {
    "duration": 19,
    "start_time": "2023-02-14T10:31:15.408Z"
   },
   {
    "duration": 669,
    "start_time": "2023-02-14T10:31:41.084Z"
   },
   {
    "duration": 1040,
    "start_time": "2023-02-14T10:31:46.221Z"
   },
   {
    "duration": 278,
    "start_time": "2023-02-14T10:31:47.263Z"
   },
   {
    "duration": 34,
    "start_time": "2023-02-14T10:31:47.543Z"
   },
   {
    "duration": 102,
    "start_time": "2023-02-14T10:32:00.914Z"
   },
   {
    "duration": 21,
    "start_time": "2023-02-14T10:32:01.651Z"
   },
   {
    "duration": 306,
    "start_time": "2023-02-14T10:37:41.296Z"
   },
   {
    "duration": 25,
    "start_time": "2023-02-14T10:37:45.711Z"
   },
   {
    "duration": 3,
    "start_time": "2023-02-14T10:38:50.965Z"
   },
   {
    "duration": 283,
    "start_time": "2023-02-14T10:39:27.847Z"
   },
   {
    "duration": 25,
    "start_time": "2023-02-14T10:39:29.493Z"
   },
   {
    "duration": 98,
    "start_time": "2023-02-14T10:39:40.147Z"
   },
   {
    "duration": 277,
    "start_time": "2023-02-14T10:40:30.179Z"
   },
   {
    "duration": 22,
    "start_time": "2023-02-14T10:40:32.455Z"
   },
   {
    "duration": 141,
    "start_time": "2023-02-14T10:41:03.932Z"
   },
   {
    "duration": 23,
    "start_time": "2023-02-14T10:41:05.912Z"
   },
   {
    "duration": 120,
    "start_time": "2023-02-14T10:41:13.213Z"
   },
   {
    "duration": 160,
    "start_time": "2023-02-14T10:41:30.332Z"
   },
   {
    "duration": 24,
    "start_time": "2023-02-14T10:41:31.778Z"
   },
   {
    "duration": 4,
    "start_time": "2023-02-14T10:41:40.052Z"
   },
   {
    "duration": 9,
    "start_time": "2023-02-14T10:42:28.127Z"
   },
   {
    "duration": 26,
    "start_time": "2023-02-14T10:44:23.041Z"
   },
   {
    "duration": 1179,
    "start_time": "2023-02-14T10:44:55.846Z"
   },
   {
    "duration": 172,
    "start_time": "2023-02-14T10:44:57.027Z"
   },
   {
    "duration": 29,
    "start_time": "2023-02-14T10:44:57.201Z"
   },
   {
    "duration": 7,
    "start_time": "2023-02-14T10:44:57.232Z"
   },
   {
    "duration": 9,
    "start_time": "2023-02-14T10:48:43.179Z"
   },
   {
    "duration": 1023,
    "start_time": "2023-02-14T10:51:02.909Z"
   },
   {
    "duration": 155,
    "start_time": "2023-02-14T10:51:03.934Z"
   },
   {
    "duration": 27,
    "start_time": "2023-02-14T10:51:04.091Z"
   },
   {
    "duration": 9,
    "start_time": "2023-02-14T10:51:04.120Z"
   },
   {
    "duration": 1381,
    "start_time": "2023-02-14T10:51:04.131Z"
   },
   {
    "duration": 20,
    "start_time": "2023-02-14T10:51:23.728Z"
   },
   {
    "duration": 16,
    "start_time": "2023-02-14T10:53:12.826Z"
   },
   {
    "duration": 16,
    "start_time": "2023-02-14T10:53:26.978Z"
   },
   {
    "duration": 1100,
    "start_time": "2023-02-14T10:53:45.950Z"
   },
   {
    "duration": 156,
    "start_time": "2023-02-14T10:53:47.052Z"
   },
   {
    "duration": 25,
    "start_time": "2023-02-14T10:53:47.209Z"
   },
   {
    "duration": 7,
    "start_time": "2023-02-14T10:53:47.236Z"
   },
   {
    "duration": 35,
    "start_time": "2023-02-14T10:53:47.245Z"
   },
   {
    "duration": 14,
    "start_time": "2023-02-14T10:54:05.136Z"
   },
   {
    "duration": 26,
    "start_time": "2023-02-14T10:55:47.889Z"
   },
   {
    "duration": 11,
    "start_time": "2023-02-14T10:56:07.095Z"
   },
   {
    "duration": 1017,
    "start_time": "2023-02-14T10:56:13.393Z"
   },
   {
    "duration": 152,
    "start_time": "2023-02-14T10:56:14.411Z"
   },
   {
    "duration": 26,
    "start_time": "2023-02-14T10:56:14.564Z"
   },
   {
    "duration": 2,
    "start_time": "2023-02-14T10:56:14.592Z"
   },
   {
    "duration": 14,
    "start_time": "2023-02-14T10:56:14.596Z"
   },
   {
    "duration": 1648,
    "start_time": "2023-02-14T11:00:34.573Z"
   },
   {
    "duration": 25,
    "start_time": "2023-02-14T11:00:50.604Z"
   },
   {
    "duration": 11,
    "start_time": "2023-02-14T11:01:09.323Z"
   },
   {
    "duration": 27,
    "start_time": "2023-02-14T11:01:24.497Z"
   },
   {
    "duration": 9,
    "start_time": "2023-02-14T11:01:39.553Z"
   },
   {
    "duration": 21,
    "start_time": "2023-02-14T11:03:14.373Z"
   },
   {
    "duration": 13,
    "start_time": "2023-02-14T11:03:15.013Z"
   },
   {
    "duration": 25,
    "start_time": "2023-02-14T11:03:18.412Z"
   },
   {
    "duration": 97,
    "start_time": "2023-02-14T11:09:44.812Z"
   },
   {
    "duration": 1123,
    "start_time": "2023-02-14T11:23:57.336Z"
   },
   {
    "duration": 173,
    "start_time": "2023-02-14T11:23:58.461Z"
   },
   {
    "duration": 40,
    "start_time": "2023-02-14T11:23:58.636Z"
   },
   {
    "duration": 4,
    "start_time": "2023-02-14T11:23:58.677Z"
   },
   {
    "duration": 18,
    "start_time": "2023-02-14T11:23:58.683Z"
   },
   {
    "duration": 88,
    "start_time": "2023-02-14T11:23:58.703Z"
   },
   {
    "duration": 24,
    "start_time": "2023-02-14T11:23:58.793Z"
   },
   {
    "duration": 13,
    "start_time": "2023-02-14T11:23:58.819Z"
   },
   {
    "duration": 44,
    "start_time": "2023-02-14T11:23:58.834Z"
   },
   {
    "duration": 7,
    "start_time": "2023-02-14T11:23:58.879Z"
   },
   {
    "duration": 15,
    "start_time": "2023-02-14T11:25:01.797Z"
   },
   {
    "duration": 27,
    "start_time": "2023-02-14T11:25:53.122Z"
   },
   {
    "duration": 1160,
    "start_time": "2023-02-14T11:26:01.507Z"
   },
   {
    "duration": 176,
    "start_time": "2023-02-14T11:26:02.669Z"
   },
   {
    "duration": 35,
    "start_time": "2023-02-14T11:26:02.847Z"
   },
   {
    "duration": 4,
    "start_time": "2023-02-14T11:26:02.884Z"
   },
   {
    "duration": 19,
    "start_time": "2023-02-14T11:26:02.890Z"
   },
   {
    "duration": 106,
    "start_time": "2023-02-14T11:26:02.912Z"
   },
   {
    "duration": 48,
    "start_time": "2023-02-14T11:26:03.020Z"
   },
   {
    "duration": 14,
    "start_time": "2023-02-14T11:26:03.071Z"
   },
   {
    "duration": 24,
    "start_time": "2023-02-14T11:26:03.088Z"
   },
   {
    "duration": 7,
    "start_time": "2023-02-14T11:26:03.114Z"
   },
   {
    "duration": 56,
    "start_time": "2023-02-14T11:26:03.122Z"
   },
   {
    "duration": 43,
    "start_time": "2023-02-14T11:26:03.180Z"
   },
   {
    "duration": 21,
    "start_time": "2023-02-14T11:26:28.844Z"
   },
   {
    "duration": 34,
    "start_time": "2023-02-14T11:26:31.046Z"
   },
   {
    "duration": 75,
    "start_time": "2023-02-14T11:32:56.860Z"
   },
   {
    "duration": 142,
    "start_time": "2023-02-14T11:32:59.048Z"
   },
   {
    "duration": 1046,
    "start_time": "2023-02-14T11:33:19.992Z"
   },
   {
    "duration": 154,
    "start_time": "2023-02-14T11:33:21.041Z"
   },
   {
    "duration": 26,
    "start_time": "2023-02-14T11:33:21.196Z"
   },
   {
    "duration": 3,
    "start_time": "2023-02-14T11:33:21.224Z"
   },
   {
    "duration": 21,
    "start_time": "2023-02-14T11:33:21.228Z"
   },
   {
    "duration": 64,
    "start_time": "2023-02-14T11:33:21.251Z"
   },
   {
    "duration": 78,
    "start_time": "2023-02-14T11:33:21.317Z"
   },
   {
    "duration": 56,
    "start_time": "2023-02-14T11:33:21.396Z"
   },
   {
    "duration": 29,
    "start_time": "2023-02-14T11:33:21.454Z"
   },
   {
    "duration": 11,
    "start_time": "2023-02-14T11:33:21.485Z"
   },
   {
    "duration": 21,
    "start_time": "2023-02-14T11:33:21.497Z"
   },
   {
    "duration": 5,
    "start_time": "2023-02-14T11:33:21.520Z"
   },
   {
    "duration": 41,
    "start_time": "2023-02-14T11:33:21.526Z"
   },
   {
    "duration": 25,
    "start_time": "2023-02-14T11:33:21.569Z"
   },
   {
    "duration": 68,
    "start_time": "2023-02-14T11:34:01.242Z"
   },
   {
    "duration": 67,
    "start_time": "2023-02-14T11:34:07.384Z"
   },
   {
    "duration": 105,
    "start_time": "2023-02-14T11:34:43.170Z"
   },
   {
    "duration": 1153,
    "start_time": "2023-02-14T11:34:53.719Z"
   },
   {
    "duration": 169,
    "start_time": "2023-02-14T11:34:54.874Z"
   },
   {
    "duration": 33,
    "start_time": "2023-02-14T11:34:55.045Z"
   },
   {
    "duration": 3,
    "start_time": "2023-02-14T11:34:55.079Z"
   },
   {
    "duration": 56,
    "start_time": "2023-02-14T11:34:55.085Z"
   },
   {
    "duration": 147,
    "start_time": "2023-02-14T11:34:55.143Z"
   },
   {
    "duration": 89,
    "start_time": "2023-02-14T11:34:55.294Z"
   },
   {
    "duration": 69,
    "start_time": "2023-02-14T11:34:55.385Z"
   },
   {
    "duration": 30,
    "start_time": "2023-02-14T11:34:55.455Z"
   },
   {
    "duration": 16,
    "start_time": "2023-02-14T11:34:55.487Z"
   },
   {
    "duration": 29,
    "start_time": "2023-02-14T11:34:55.505Z"
   },
   {
    "duration": 7,
    "start_time": "2023-02-14T11:34:55.535Z"
   },
   {
    "duration": 32,
    "start_time": "2023-02-14T11:34:55.544Z"
   },
   {
    "duration": 29,
    "start_time": "2023-02-14T11:34:55.581Z"
   },
   {
    "duration": 74,
    "start_time": "2023-02-14T11:35:51.651Z"
   },
   {
    "duration": 65,
    "start_time": "2023-02-14T11:35:53.882Z"
   },
   {
    "duration": 26,
    "start_time": "2023-02-14T11:35:56.564Z"
   },
   {
    "duration": 11,
    "start_time": "2023-02-14T11:35:57.120Z"
   },
   {
    "duration": 23,
    "start_time": "2023-02-14T11:35:57.707Z"
   },
   {
    "duration": 7,
    "start_time": "2023-02-14T11:35:58.301Z"
   },
   {
    "duration": 17,
    "start_time": "2023-02-14T11:35:59.659Z"
   },
   {
    "duration": 30,
    "start_time": "2023-02-14T11:36:01.458Z"
   },
   {
    "duration": 23,
    "start_time": "2023-02-14T11:38:02.045Z"
   },
   {
    "duration": 120,
    "start_time": "2023-02-14T11:40:49.006Z"
   },
   {
    "duration": 31,
    "start_time": "2023-02-14T11:40:54.672Z"
   },
   {
    "duration": 24,
    "start_time": "2023-02-14T11:41:03.362Z"
   },
   {
    "duration": 36,
    "start_time": "2023-02-14T11:42:49.180Z"
   },
   {
    "duration": 12,
    "start_time": "2023-02-14T11:44:02.098Z"
   },
   {
    "duration": 30,
    "start_time": "2023-02-14T11:45:51.405Z"
   },
   {
    "duration": 48,
    "start_time": "2023-02-14T11:46:05.221Z"
   },
   {
    "duration": 50,
    "start_time": "2023-02-14T11:50:25.437Z"
   },
   {
    "duration": 49,
    "start_time": "2023-02-14T11:50:34.793Z"
   },
   {
    "duration": 18,
    "start_time": "2023-02-14T11:53:00.829Z"
   },
   {
    "duration": 20,
    "start_time": "2023-02-14T11:55:31.421Z"
   },
   {
    "duration": 16,
    "start_time": "2023-02-14T11:55:52.664Z"
   },
   {
    "duration": 21,
    "start_time": "2023-02-14T11:56:16.199Z"
   },
   {
    "duration": 15,
    "start_time": "2023-02-14T11:57:34.195Z"
   },
   {
    "duration": 14,
    "start_time": "2023-02-14T11:58:29.294Z"
   },
   {
    "duration": 23,
    "start_time": "2023-02-14T11:58:35.429Z"
   },
   {
    "duration": 15,
    "start_time": "2023-02-14T11:59:58.205Z"
   },
   {
    "duration": 16,
    "start_time": "2023-02-14T12:00:11.428Z"
   },
   {
    "duration": 54,
    "start_time": "2023-02-14T12:03:27.603Z"
   },
   {
    "duration": 53,
    "start_time": "2023-02-14T12:04:58.891Z"
   },
   {
    "duration": 72,
    "start_time": "2023-02-14T12:06:02.912Z"
   },
   {
    "duration": 25,
    "start_time": "2023-02-14T12:06:07.335Z"
   },
   {
    "duration": 12,
    "start_time": "2023-02-14T12:06:52.560Z"
   },
   {
    "duration": 12,
    "start_time": "2023-02-14T12:06:57.952Z"
   },
   {
    "duration": 23,
    "start_time": "2023-02-14T12:07:10.938Z"
   },
   {
    "duration": 4,
    "start_time": "2023-02-14T12:08:01.676Z"
   },
   {
    "duration": 82,
    "start_time": "2023-02-14T12:09:41.987Z"
   },
   {
    "duration": 4,
    "start_time": "2023-02-14T12:09:59.840Z"
   },
   {
    "duration": 3,
    "start_time": "2023-02-14T12:10:20.446Z"
   },
   {
    "duration": 22,
    "start_time": "2023-02-14T12:11:08.426Z"
   },
   {
    "duration": 22,
    "start_time": "2023-02-14T12:11:48.905Z"
   },
   {
    "duration": 23,
    "start_time": "2023-02-14T12:12:01.468Z"
   },
   {
    "duration": 24,
    "start_time": "2023-02-14T12:12:04.648Z"
   },
   {
    "duration": 8,
    "start_time": "2023-02-14T12:12:43.974Z"
   },
   {
    "duration": 20,
    "start_time": "2023-02-14T12:13:12.724Z"
   },
   {
    "duration": 8,
    "start_time": "2023-02-14T12:13:14.292Z"
   },
   {
    "duration": 7,
    "start_time": "2023-02-14T12:13:47.800Z"
   },
   {
    "duration": 9,
    "start_time": "2023-02-14T12:14:22.895Z"
   },
   {
    "duration": 79,
    "start_time": "2023-02-14T12:15:21.972Z"
   },
   {
    "duration": 8,
    "start_time": "2023-02-14T12:16:18.461Z"
   },
   {
    "duration": 11,
    "start_time": "2023-02-14T12:16:55.217Z"
   },
   {
    "duration": 10,
    "start_time": "2023-02-14T12:17:07.567Z"
   },
   {
    "duration": 8,
    "start_time": "2023-02-14T12:17:27.221Z"
   },
   {
    "duration": 8,
    "start_time": "2023-02-14T12:18:06.065Z"
   },
   {
    "duration": 7,
    "start_time": "2023-02-14T12:18:09.944Z"
   },
   {
    "duration": 23,
    "start_time": "2023-02-14T12:18:36.401Z"
   },
   {
    "duration": 29,
    "start_time": "2023-02-14T12:18:46.811Z"
   },
   {
    "duration": 7,
    "start_time": "2023-02-14T12:25:51.479Z"
   },
   {
    "duration": 4,
    "start_time": "2023-02-14T12:26:23.195Z"
   },
   {
    "duration": 23,
    "start_time": "2023-02-14T12:26:53.994Z"
   },
   {
    "duration": 24,
    "start_time": "2023-02-14T12:27:01.624Z"
   },
   {
    "duration": 4,
    "start_time": "2023-02-14T12:31:48.562Z"
   },
   {
    "duration": 4,
    "start_time": "2023-02-14T12:32:23.878Z"
   },
   {
    "duration": 28,
    "start_time": "2023-02-14T12:33:44.260Z"
   },
   {
    "duration": 39,
    "start_time": "2023-02-14T12:33:56.557Z"
   },
   {
    "duration": 25,
    "start_time": "2023-02-14T12:34:06.517Z"
   },
   {
    "duration": 32,
    "start_time": "2023-02-14T12:39:05.652Z"
   },
   {
    "duration": 33,
    "start_time": "2023-02-14T12:39:21.136Z"
   },
   {
    "duration": 17,
    "start_time": "2023-02-14T12:40:05.731Z"
   },
   {
    "duration": 80,
    "start_time": "2023-02-14T12:43:07.367Z"
   },
   {
    "duration": 4,
    "start_time": "2023-02-14T12:45:18.415Z"
   },
   {
    "duration": 5,
    "start_time": "2023-02-14T12:45:53.710Z"
   },
   {
    "duration": 5,
    "start_time": "2023-02-14T12:46:18.790Z"
   },
   {
    "duration": 1366,
    "start_time": "2023-02-14T12:51:36.632Z"
   },
   {
    "duration": 184,
    "start_time": "2023-02-14T12:51:55.578Z"
   },
   {
    "duration": 1216,
    "start_time": "2023-02-14T12:52:20.061Z"
   },
   {
    "duration": 175,
    "start_time": "2023-02-14T12:52:37.209Z"
   },
   {
    "duration": 172,
    "start_time": "2023-02-14T12:53:27.113Z"
   },
   {
    "duration": 229,
    "start_time": "2023-02-14T12:54:43.985Z"
   },
   {
    "duration": 151,
    "start_time": "2023-02-14T12:55:26.400Z"
   },
   {
    "duration": 180,
    "start_time": "2023-02-14T12:58:07.627Z"
   },
   {
    "duration": 166,
    "start_time": "2023-02-14T12:58:18.722Z"
   },
   {
    "duration": 278,
    "start_time": "2023-02-14T12:58:41.217Z"
   },
   {
    "duration": 223,
    "start_time": "2023-02-14T12:59:50.921Z"
   },
   {
    "duration": 238,
    "start_time": "2023-02-14T13:00:00.647Z"
   },
   {
    "duration": 224,
    "start_time": "2023-02-14T13:00:12.379Z"
   },
   {
    "duration": 255,
    "start_time": "2023-02-14T13:01:03.632Z"
   },
   {
    "duration": 196,
    "start_time": "2023-02-14T13:01:15.405Z"
   },
   {
    "duration": 190,
    "start_time": "2023-02-14T13:01:37.996Z"
   },
   {
    "duration": 196,
    "start_time": "2023-02-14T13:01:58.458Z"
   },
   {
    "duration": 192,
    "start_time": "2023-02-14T13:03:18.800Z"
   },
   {
    "duration": 200,
    "start_time": "2023-02-14T13:10:52.314Z"
   },
   {
    "duration": 194,
    "start_time": "2023-02-14T13:10:57.788Z"
   },
   {
    "duration": 311,
    "start_time": "2023-02-14T13:13:22.845Z"
   },
   {
    "duration": 202,
    "start_time": "2023-02-14T13:13:49.984Z"
   },
   {
    "duration": 203,
    "start_time": "2023-02-14T13:14:10.788Z"
   },
   {
    "duration": 224,
    "start_time": "2023-02-14T13:15:51.878Z"
   },
   {
    "duration": 195,
    "start_time": "2023-02-14T13:27:31.308Z"
   },
   {
    "duration": 6,
    "start_time": "2023-02-14T13:39:51.862Z"
   },
   {
    "duration": 190,
    "start_time": "2023-02-14T13:39:54.317Z"
   },
   {
    "duration": 13,
    "start_time": "2023-02-14T13:42:34.376Z"
   },
   {
    "duration": 10,
    "start_time": "2023-02-14T13:45:31.816Z"
   },
   {
    "duration": 17,
    "start_time": "2023-02-14T13:45:36.598Z"
   },
   {
    "duration": 190,
    "start_time": "2023-02-14T13:45:50.657Z"
   },
   {
    "duration": 1243,
    "start_time": "2023-02-15T12:11:08.618Z"
   },
   {
    "duration": 733,
    "start_time": "2023-02-15T12:11:09.864Z"
   },
   {
    "duration": 28,
    "start_time": "2023-02-15T12:11:10.599Z"
   },
   {
    "duration": 4,
    "start_time": "2023-02-15T12:11:10.629Z"
   },
   {
    "duration": 22,
    "start_time": "2023-02-15T12:11:10.634Z"
   },
   {
    "duration": 72,
    "start_time": "2023-02-15T12:11:10.658Z"
   },
   {
    "duration": 64,
    "start_time": "2023-02-15T12:11:10.732Z"
   },
   {
    "duration": 34,
    "start_time": "2023-02-15T12:11:10.798Z"
   },
   {
    "duration": 10,
    "start_time": "2023-02-15T12:11:10.834Z"
   },
   {
    "duration": 25,
    "start_time": "2023-02-15T12:11:10.846Z"
   },
   {
    "duration": 6,
    "start_time": "2023-02-15T12:11:10.873Z"
   },
   {
    "duration": 15,
    "start_time": "2023-02-15T12:11:10.880Z"
   },
   {
    "duration": 51,
    "start_time": "2023-02-15T12:11:10.897Z"
   },
   {
    "duration": 25,
    "start_time": "2023-02-15T12:11:10.951Z"
   },
   {
    "duration": 8,
    "start_time": "2023-02-15T12:11:10.977Z"
   },
   {
    "duration": 49,
    "start_time": "2023-02-15T12:11:10.986Z"
   },
   {
    "duration": 0,
    "start_time": "2023-02-15T12:11:11.037Z"
   },
   {
    "duration": 0,
    "start_time": "2023-02-15T12:11:11.038Z"
   },
   {
    "duration": 0,
    "start_time": "2023-02-15T12:11:11.039Z"
   },
   {
    "duration": 216,
    "start_time": "2023-02-15T12:11:21.626Z"
   },
   {
    "duration": 1120,
    "start_time": "2023-02-15T12:11:30.179Z"
   },
   {
    "duration": 146,
    "start_time": "2023-02-15T12:11:31.301Z"
   },
   {
    "duration": 30,
    "start_time": "2023-02-15T12:11:31.449Z"
   },
   {
    "duration": 4,
    "start_time": "2023-02-15T12:11:31.481Z"
   },
   {
    "duration": 14,
    "start_time": "2023-02-15T12:11:31.488Z"
   },
   {
    "duration": 83,
    "start_time": "2023-02-15T12:11:31.504Z"
   },
   {
    "duration": 80,
    "start_time": "2023-02-15T12:11:31.589Z"
   },
   {
    "duration": 20,
    "start_time": "2023-02-15T12:11:31.671Z"
   },
   {
    "duration": 12,
    "start_time": "2023-02-15T12:11:31.693Z"
   },
   {
    "duration": 33,
    "start_time": "2023-02-15T12:11:31.707Z"
   },
   {
    "duration": 6,
    "start_time": "2023-02-15T12:11:31.742Z"
   },
   {
    "duration": 16,
    "start_time": "2023-02-15T12:11:31.749Z"
   },
   {
    "duration": 25,
    "start_time": "2023-02-15T12:11:31.767Z"
   },
   {
    "duration": 48,
    "start_time": "2023-02-15T12:11:31.795Z"
   },
   {
    "duration": 8,
    "start_time": "2023-02-15T12:11:31.845Z"
   },
   {
    "duration": 236,
    "start_time": "2023-02-15T12:11:31.855Z"
   },
   {
    "duration": 5,
    "start_time": "2023-02-15T12:11:32.093Z"
   },
   {
    "duration": 296,
    "start_time": "2023-02-15T12:11:32.100Z"
   },
   {
    "duration": 190,
    "start_time": "2023-02-15T12:11:32.397Z"
   },
   {
    "duration": 179,
    "start_time": "2023-02-15T12:12:51.289Z"
   },
   {
    "duration": 143,
    "start_time": "2023-02-15T12:13:05.622Z"
   },
   {
    "duration": 17,
    "start_time": "2023-02-15T12:13:24.902Z"
   },
   {
    "duration": 160,
    "start_time": "2023-02-15T12:13:53.632Z"
   },
   {
    "duration": 168,
    "start_time": "2023-02-15T12:16:05.674Z"
   },
   {
    "duration": 184,
    "start_time": "2023-02-15T12:16:29.868Z"
   },
   {
    "duration": 233,
    "start_time": "2023-02-15T12:16:39.550Z"
   },
   {
    "duration": 178,
    "start_time": "2023-02-15T12:16:46.515Z"
   },
   {
    "duration": 181,
    "start_time": "2023-02-15T12:17:14.487Z"
   },
   {
    "duration": 363,
    "start_time": "2023-02-15T12:17:40.131Z"
   },
   {
    "duration": 170,
    "start_time": "2023-02-15T12:17:49.694Z"
   },
   {
    "duration": 180,
    "start_time": "2023-02-15T12:18:35.071Z"
   },
   {
    "duration": 202,
    "start_time": "2023-02-15T12:18:43.505Z"
   },
   {
    "duration": 175,
    "start_time": "2023-02-15T12:18:50.684Z"
   },
   {
    "duration": 170,
    "start_time": "2023-02-15T12:19:18.465Z"
   },
   {
    "duration": 171,
    "start_time": "2023-02-15T12:19:42.155Z"
   },
   {
    "duration": 183,
    "start_time": "2023-02-15T12:20:05.851Z"
   },
   {
    "duration": 294,
    "start_time": "2023-02-15T12:20:10.160Z"
   },
   {
    "duration": 92,
    "start_time": "2023-02-15T12:21:47.585Z"
   },
   {
    "duration": 1120,
    "start_time": "2023-02-15T12:21:55.408Z"
   },
   {
    "duration": 151,
    "start_time": "2023-02-15T12:21:56.530Z"
   },
   {
    "duration": 27,
    "start_time": "2023-02-15T12:21:56.683Z"
   },
   {
    "duration": 3,
    "start_time": "2023-02-15T12:21:56.711Z"
   },
   {
    "duration": 23,
    "start_time": "2023-02-15T12:21:56.716Z"
   },
   {
    "duration": 62,
    "start_time": "2023-02-15T12:21:56.741Z"
   },
   {
    "duration": 81,
    "start_time": "2023-02-15T12:21:56.804Z"
   },
   {
    "duration": 22,
    "start_time": "2023-02-15T12:21:56.887Z"
   },
   {
    "duration": 19,
    "start_time": "2023-02-15T12:21:56.911Z"
   },
   {
    "duration": 24,
    "start_time": "2023-02-15T12:21:56.932Z"
   },
   {
    "duration": 7,
    "start_time": "2023-02-15T12:21:56.957Z"
   },
   {
    "duration": 14,
    "start_time": "2023-02-15T12:21:56.966Z"
   },
   {
    "duration": 53,
    "start_time": "2023-02-15T12:21:56.981Z"
   },
   {
    "duration": 28,
    "start_time": "2023-02-15T12:21:57.036Z"
   },
   {
    "duration": 8,
    "start_time": "2023-02-15T12:21:57.066Z"
   },
   {
    "duration": 235,
    "start_time": "2023-02-15T12:21:57.075Z"
   },
   {
    "duration": 5,
    "start_time": "2023-02-15T12:21:57.312Z"
   },
   {
    "duration": 298,
    "start_time": "2023-02-15T12:21:57.319Z"
   },
   {
    "duration": 19,
    "start_time": "2023-02-15T12:21:57.619Z"
   },
   {
    "duration": 20,
    "start_time": "2023-02-15T12:21:57.640Z"
   },
   {
    "duration": 199,
    "start_time": "2023-02-15T12:21:57.662Z"
   },
   {
    "duration": 20,
    "start_time": "2023-02-15T12:24:04.337Z"
   },
   {
    "duration": 5,
    "start_time": "2023-02-15T12:25:54.168Z"
   },
   {
    "duration": 45,
    "start_time": "2023-02-15T12:26:43.004Z"
   },
   {
    "duration": 4,
    "start_time": "2023-02-15T12:26:50.219Z"
   },
   {
    "duration": 5,
    "start_time": "2023-02-15T12:27:15.041Z"
   },
   {
    "duration": 5,
    "start_time": "2023-02-15T12:27:24.850Z"
   },
   {
    "duration": 26,
    "start_time": "2023-02-15T12:36:15.000Z"
   },
   {
    "duration": 44,
    "start_time": "2023-02-16T11:42:44.516Z"
   },
   {
    "duration": 1272,
    "start_time": "2023-02-16T11:42:51.013Z"
   },
   {
    "duration": 731,
    "start_time": "2023-02-16T11:42:52.287Z"
   },
   {
    "duration": 25,
    "start_time": "2023-02-16T11:42:53.019Z"
   },
   {
    "duration": 3,
    "start_time": "2023-02-16T11:42:53.046Z"
   },
   {
    "duration": 12,
    "start_time": "2023-02-16T11:42:53.050Z"
   },
   {
    "duration": 54,
    "start_time": "2023-02-16T11:42:53.063Z"
   },
   {
    "duration": 71,
    "start_time": "2023-02-16T11:42:53.118Z"
   },
   {
    "duration": 19,
    "start_time": "2023-02-16T11:42:53.191Z"
   },
   {
    "duration": 10,
    "start_time": "2023-02-16T11:42:53.212Z"
   },
   {
    "duration": 20,
    "start_time": "2023-02-16T11:42:53.238Z"
   },
   {
    "duration": 6,
    "start_time": "2023-02-16T11:42:53.259Z"
   },
   {
    "duration": 14,
    "start_time": "2023-02-16T11:42:53.266Z"
   },
   {
    "duration": 22,
    "start_time": "2023-02-16T11:42:53.282Z"
   },
   {
    "duration": 48,
    "start_time": "2023-02-16T11:42:53.306Z"
   },
   {
    "duration": 7,
    "start_time": "2023-02-16T11:42:53.355Z"
   },
   {
    "duration": 204,
    "start_time": "2023-02-16T11:42:53.364Z"
   },
   {
    "duration": 5,
    "start_time": "2023-02-16T11:42:53.569Z"
   },
   {
    "duration": 264,
    "start_time": "2023-02-16T11:42:53.575Z"
   },
   {
    "duration": 12,
    "start_time": "2023-02-16T11:42:53.840Z"
   },
   {
    "duration": 23,
    "start_time": "2023-02-16T11:42:53.854Z"
   },
   {
    "duration": 16,
    "start_time": "2023-02-16T11:42:53.878Z"
   },
   {
    "duration": 191,
    "start_time": "2023-02-16T11:42:53.895Z"
   },
   {
    "duration": 49,
    "start_time": "2023-02-16T11:44:42.375Z"
   },
   {
    "duration": 62,
    "start_time": "2023-02-16T11:45:16.766Z"
   },
   {
    "duration": 71,
    "start_time": "2023-02-16T11:45:26.225Z"
   },
   {
    "duration": 49,
    "start_time": "2023-02-16T11:45:39.888Z"
   },
   {
    "duration": 50,
    "start_time": "2023-02-16T11:45:48.562Z"
   },
   {
    "duration": 48,
    "start_time": "2023-02-16T11:45:55.067Z"
   },
   {
    "duration": 45,
    "start_time": "2023-02-16T11:46:14.575Z"
   },
   {
    "duration": 50,
    "start_time": "2023-02-16T11:46:19.715Z"
   },
   {
    "duration": 32,
    "start_time": "2023-02-16T11:46:31.846Z"
   },
   {
    "duration": 32,
    "start_time": "2023-02-16T11:46:48.941Z"
   },
   {
    "duration": 12,
    "start_time": "2023-02-16T11:47:09.831Z"
   },
   {
    "duration": 14,
    "start_time": "2023-02-16T11:47:56.713Z"
   },
   {
    "duration": 16,
    "start_time": "2023-02-16T11:48:04.017Z"
   },
   {
    "duration": 20,
    "start_time": "2023-02-16T11:55:17.927Z"
   },
   {
    "duration": 28,
    "start_time": "2023-02-16T11:55:50.738Z"
   },
   {
    "duration": 258,
    "start_time": "2023-02-16T11:55:52.396Z"
   },
   {
    "duration": 23,
    "start_time": "2023-02-16T11:57:23.923Z"
   },
   {
    "duration": 180,
    "start_time": "2023-02-16T12:01:26.395Z"
   },
   {
    "duration": 178,
    "start_time": "2023-02-16T12:04:31.328Z"
   },
   {
    "duration": 201,
    "start_time": "2023-02-16T12:04:41.231Z"
   },
   {
    "duration": 35,
    "start_time": "2023-02-16T12:05:19.056Z"
   },
   {
    "duration": 173,
    "start_time": "2023-02-16T12:05:41.013Z"
   },
   {
    "duration": 35,
    "start_time": "2023-02-16T12:06:57.117Z"
   },
   {
    "duration": 263,
    "start_time": "2023-02-16T12:07:00.753Z"
   },
   {
    "duration": 42,
    "start_time": "2023-02-16T12:10:31.423Z"
   },
   {
    "duration": 60,
    "start_time": "2023-02-16T12:10:38.655Z"
   },
   {
    "duration": 47,
    "start_time": "2023-02-16T12:10:45.237Z"
   },
   {
    "duration": 20,
    "start_time": "2023-02-16T12:11:37.590Z"
   },
   {
    "duration": 38,
    "start_time": "2023-02-16T12:11:47.011Z"
   },
   {
    "duration": 179,
    "start_time": "2023-02-16T12:11:53.631Z"
   },
   {
    "duration": 49,
    "start_time": "2023-02-16T12:13:34.429Z"
   },
   {
    "duration": 40,
    "start_time": "2023-02-16T12:13:50.528Z"
   },
   {
    "duration": 46,
    "start_time": "2023-02-16T12:14:24.866Z"
   },
   {
    "duration": 22,
    "start_time": "2023-02-16T12:14:39.096Z"
   },
   {
    "duration": 22,
    "start_time": "2023-02-16T12:14:43.287Z"
   },
   {
    "duration": 49,
    "start_time": "2023-02-16T12:14:58.225Z"
   },
   {
    "duration": 63,
    "start_time": "2023-02-16T12:15:25.828Z"
   },
   {
    "duration": 44,
    "start_time": "2023-02-16T12:15:56.813Z"
   },
   {
    "duration": 68,
    "start_time": "2023-02-16T12:16:05.124Z"
   },
   {
    "duration": 67,
    "start_time": "2023-02-16T12:16:20.831Z"
   },
   {
    "duration": 18,
    "start_time": "2023-02-16T12:22:05.783Z"
   },
   {
    "duration": 37,
    "start_time": "2023-02-16T12:22:52.143Z"
   },
   {
    "duration": 164,
    "start_time": "2023-02-16T12:23:25.841Z"
   },
   {
    "duration": 120,
    "start_time": "2023-02-16T12:24:10.204Z"
   },
   {
    "duration": 14,
    "start_time": "2023-02-16T12:25:14.023Z"
   },
   {
    "duration": 41,
    "start_time": "2023-02-16T12:25:38.271Z"
   },
   {
    "duration": 177,
    "start_time": "2023-02-16T12:26:04.465Z"
   },
   {
    "duration": 220,
    "start_time": "2023-02-16T12:26:09.661Z"
   },
   {
    "duration": 187,
    "start_time": "2023-02-16T12:26:26.023Z"
   },
   {
    "duration": 37,
    "start_time": "2023-02-16T12:27:18.869Z"
   },
   {
    "duration": 22,
    "start_time": "2023-02-16T12:27:40.596Z"
   },
   {
    "duration": 37,
    "start_time": "2023-02-16T12:28:02.942Z"
   },
   {
    "duration": 36,
    "start_time": "2023-02-16T12:28:26.565Z"
   },
   {
    "duration": 46,
    "start_time": "2023-02-16T12:28:33.899Z"
   },
   {
    "duration": 202,
    "start_time": "2023-02-16T12:28:39.427Z"
   },
   {
    "duration": 173,
    "start_time": "2023-02-16T12:29:16.357Z"
   },
   {
    "duration": 181,
    "start_time": "2023-02-16T12:29:23.641Z"
   },
   {
    "duration": 34,
    "start_time": "2023-02-16T12:31:55.060Z"
   },
   {
    "duration": 28,
    "start_time": "2023-02-16T12:34:20.035Z"
   },
   {
    "duration": 231,
    "start_time": "2023-02-16T12:36:10.291Z"
   },
   {
    "duration": 192,
    "start_time": "2023-02-16T12:36:14.626Z"
   },
   {
    "duration": 9,
    "start_time": "2023-02-16T12:50:03.033Z"
   },
   {
    "duration": 12,
    "start_time": "2023-02-16T12:52:32.796Z"
   },
   {
    "duration": 16,
    "start_time": "2023-02-16T12:52:45.249Z"
   },
   {
    "duration": 1084,
    "start_time": "2023-02-16T12:52:53.172Z"
   },
   {
    "duration": 150,
    "start_time": "2023-02-16T12:52:54.258Z"
   },
   {
    "duration": 34,
    "start_time": "2023-02-16T12:52:54.409Z"
   },
   {
    "duration": 3,
    "start_time": "2023-02-16T12:52:54.445Z"
   },
   {
    "duration": 16,
    "start_time": "2023-02-16T12:52:54.449Z"
   },
   {
    "duration": 74,
    "start_time": "2023-02-16T12:52:54.466Z"
   },
   {
    "duration": 64,
    "start_time": "2023-02-16T12:52:54.542Z"
   },
   {
    "duration": 34,
    "start_time": "2023-02-16T12:52:54.608Z"
   },
   {
    "duration": 12,
    "start_time": "2023-02-16T12:52:54.644Z"
   },
   {
    "duration": 29,
    "start_time": "2023-02-16T12:52:54.658Z"
   },
   {
    "duration": 7,
    "start_time": "2023-02-16T12:52:54.688Z"
   },
   {
    "duration": 46,
    "start_time": "2023-02-16T12:52:54.697Z"
   },
   {
    "duration": 27,
    "start_time": "2023-02-16T12:52:54.745Z"
   },
   {
    "duration": 27,
    "start_time": "2023-02-16T12:52:54.776Z"
   },
   {
    "duration": 35,
    "start_time": "2023-02-16T12:52:54.805Z"
   },
   {
    "duration": 212,
    "start_time": "2023-02-16T12:52:54.841Z"
   },
   {
    "duration": 6,
    "start_time": "2023-02-16T12:52:55.054Z"
   },
   {
    "duration": 278,
    "start_time": "2023-02-16T12:52:55.061Z"
   },
   {
    "duration": 27,
    "start_time": "2023-02-16T12:52:55.340Z"
   },
   {
    "duration": 23,
    "start_time": "2023-02-16T12:52:55.368Z"
   },
   {
    "duration": 14,
    "start_time": "2023-02-16T12:52:55.393Z"
   },
   {
    "duration": 201,
    "start_time": "2023-02-16T12:52:55.409Z"
   },
   {
    "duration": 28,
    "start_time": "2023-02-16T12:52:55.613Z"
   },
   {
    "duration": 40,
    "start_time": "2023-02-16T12:52:55.643Z"
   },
   {
    "duration": 216,
    "start_time": "2023-02-16T12:52:55.685Z"
   },
   {
    "duration": 19,
    "start_time": "2023-02-16T12:52:55.902Z"
   },
   {
    "duration": 133,
    "start_time": "2023-02-16T12:52:55.923Z"
   },
   {
    "duration": 20,
    "start_time": "2023-02-16T12:59:08.519Z"
   },
   {
    "duration": 17,
    "start_time": "2023-02-16T12:59:42.540Z"
   },
   {
    "duration": 50,
    "start_time": "2023-02-16T13:08:11.154Z"
   },
   {
    "duration": 13,
    "start_time": "2023-02-16T13:14:44.401Z"
   },
   {
    "duration": 18,
    "start_time": "2023-02-16T13:15:05.450Z"
   },
   {
    "duration": 1078,
    "start_time": "2023-02-16T13:15:27.726Z"
   },
   {
    "duration": 140,
    "start_time": "2023-02-16T13:15:28.805Z"
   },
   {
    "duration": 25,
    "start_time": "2023-02-16T13:15:28.947Z"
   },
   {
    "duration": 3,
    "start_time": "2023-02-16T13:15:28.974Z"
   },
   {
    "duration": 15,
    "start_time": "2023-02-16T13:15:28.980Z"
   },
   {
    "duration": 98,
    "start_time": "2023-02-16T13:15:28.996Z"
   },
   {
    "duration": 68,
    "start_time": "2023-02-16T13:15:29.097Z"
   },
   {
    "duration": 21,
    "start_time": "2023-02-16T13:15:29.167Z"
   },
   {
    "duration": 19,
    "start_time": "2023-02-16T13:15:29.190Z"
   },
   {
    "duration": 44,
    "start_time": "2023-02-16T13:15:29.211Z"
   },
   {
    "duration": 6,
    "start_time": "2023-02-16T13:15:29.257Z"
   },
   {
    "duration": 20,
    "start_time": "2023-02-16T13:15:29.265Z"
   },
   {
    "duration": 26,
    "start_time": "2023-02-16T13:15:29.287Z"
   },
   {
    "duration": 50,
    "start_time": "2023-02-16T13:15:29.336Z"
   },
   {
    "duration": 13,
    "start_time": "2023-02-16T13:15:29.388Z"
   },
   {
    "duration": 298,
    "start_time": "2023-02-16T13:15:29.403Z"
   },
   {
    "duration": 6,
    "start_time": "2023-02-16T13:15:29.703Z"
   },
   {
    "duration": 308,
    "start_time": "2023-02-16T13:15:29.710Z"
   },
   {
    "duration": 49,
    "start_time": "2023-02-16T13:15:30.020Z"
   },
   {
    "duration": 37,
    "start_time": "2023-02-16T13:15:30.071Z"
   },
   {
    "duration": 38,
    "start_time": "2023-02-16T13:15:30.110Z"
   },
   {
    "duration": 193,
    "start_time": "2023-02-16T13:15:30.150Z"
   },
   {
    "duration": 21,
    "start_time": "2023-02-16T13:15:30.345Z"
   },
   {
    "duration": 78,
    "start_time": "2023-02-16T13:15:30.368Z"
   },
   {
    "duration": 205,
    "start_time": "2023-02-16T13:15:30.448Z"
   },
   {
    "duration": 18,
    "start_time": "2023-02-16T13:15:30.655Z"
   },
   {
    "duration": 124,
    "start_time": "2023-02-16T13:15:30.674Z"
   },
   {
    "duration": 0,
    "start_time": "2023-02-16T13:15:30.800Z"
   },
   {
    "duration": 0,
    "start_time": "2023-02-16T13:15:30.801Z"
   },
   {
    "duration": 6,
    "start_time": "2023-02-16T13:16:10.928Z"
   },
   {
    "duration": 11,
    "start_time": "2023-02-16T13:16:34.001Z"
   },
   {
    "duration": 824,
    "start_time": "2023-02-16T13:16:41.595Z"
   },
   {
    "duration": 680,
    "start_time": "2023-02-16T13:16:58.798Z"
   },
   {
    "duration": 7,
    "start_time": "2023-02-16T13:17:09.219Z"
   },
   {
    "duration": 16,
    "start_time": "2023-02-16T18:25:37.080Z"
   },
   {
    "duration": 19,
    "start_time": "2023-02-16T18:29:40.055Z"
   },
   {
    "duration": 35,
    "start_time": "2023-02-16T18:29:45.355Z"
   },
   {
    "duration": 31,
    "start_time": "2023-02-16T18:30:14.708Z"
   },
   {
    "duration": 27,
    "start_time": "2023-02-16T18:30:33.290Z"
   },
   {
    "duration": 20,
    "start_time": "2023-02-16T18:31:32.288Z"
   },
   {
    "duration": 24,
    "start_time": "2023-02-16T18:33:27.727Z"
   },
   {
    "duration": 334,
    "start_time": "2023-02-16T18:34:18.352Z"
   },
   {
    "duration": 378,
    "start_time": "2023-02-16T18:35:41.403Z"
   },
   {
    "duration": 369,
    "start_time": "2023-02-16T18:36:01.280Z"
   },
   {
    "duration": 365,
    "start_time": "2023-02-16T18:36:18.689Z"
   },
   {
    "duration": 337,
    "start_time": "2023-02-16T18:36:51.975Z"
   },
   {
    "duration": 288,
    "start_time": "2023-02-16T18:37:27.327Z"
   },
   {
    "duration": 91,
    "start_time": "2023-02-16T18:51:07.876Z"
   },
   {
    "duration": 69,
    "start_time": "2023-02-16T18:53:11.017Z"
   },
   {
    "duration": 62,
    "start_time": "2023-02-16T18:54:33.113Z"
   },
   {
    "duration": 21,
    "start_time": "2023-02-16T19:02:02.088Z"
   },
   {
    "duration": 33,
    "start_time": "2023-02-16T19:02:16.726Z"
   },
   {
    "duration": 52,
    "start_time": "2023-02-16T19:02:33.032Z"
   },
   {
    "duration": 88,
    "start_time": "2023-02-16T19:03:58.396Z"
   },
   {
    "duration": 101,
    "start_time": "2023-02-16T19:04:18.418Z"
   },
   {
    "duration": 95,
    "start_time": "2023-02-16T19:04:42.326Z"
   },
   {
    "duration": 268,
    "start_time": "2023-02-16T19:04:57.120Z"
   },
   {
    "duration": 57,
    "start_time": "2023-02-16T19:24:04.112Z"
   },
   {
    "duration": 49,
    "start_time": "2023-02-16T19:24:23.879Z"
   },
   {
    "duration": 377,
    "start_time": "2023-02-16T19:26:07.211Z"
   },
   {
    "duration": 337,
    "start_time": "2023-02-16T19:26:19.744Z"
   },
   {
    "duration": 81,
    "start_time": "2023-02-16T19:28:01.637Z"
   },
   {
    "duration": 68,
    "start_time": "2023-02-16T19:28:10.622Z"
   },
   {
    "duration": 84,
    "start_time": "2023-02-16T19:28:19.971Z"
   },
   {
    "duration": 72,
    "start_time": "2023-02-16T19:28:25.932Z"
   },
   {
    "duration": 12,
    "start_time": "2023-02-16T19:29:35.565Z"
   },
   {
    "duration": 1050,
    "start_time": "2023-02-16T19:29:44.276Z"
   },
   {
    "duration": 878,
    "start_time": "2023-02-16T19:29:45.329Z"
   },
   {
    "duration": 25,
    "start_time": "2023-02-16T19:29:46.209Z"
   },
   {
    "duration": 8,
    "start_time": "2023-02-16T19:29:46.236Z"
   },
   {
    "duration": 37,
    "start_time": "2023-02-16T19:29:46.247Z"
   },
   {
    "duration": 65,
    "start_time": "2023-02-16T19:29:46.286Z"
   },
   {
    "duration": 71,
    "start_time": "2023-02-16T19:29:46.354Z"
   },
   {
    "duration": 19,
    "start_time": "2023-02-16T19:29:46.427Z"
   },
   {
    "duration": 43,
    "start_time": "2023-02-16T19:29:46.453Z"
   },
   {
    "duration": 27,
    "start_time": "2023-02-16T19:29:46.498Z"
   },
   {
    "duration": 7,
    "start_time": "2023-02-16T19:29:46.527Z"
   },
   {
    "duration": 77,
    "start_time": "2023-02-16T19:29:46.536Z"
   },
   {
    "duration": 6,
    "start_time": "2023-02-16T19:29:46.614Z"
   },
   {
    "duration": 321,
    "start_time": "2023-02-16T19:29:46.641Z"
   },
   {
    "duration": 36,
    "start_time": "2023-02-16T19:29:46.963Z"
   },
   {
    "duration": 23,
    "start_time": "2023-02-16T19:29:47.001Z"
   },
   {
    "duration": 32,
    "start_time": "2023-02-16T19:29:47.026Z"
   },
   {
    "duration": 207,
    "start_time": "2023-02-16T19:29:47.060Z"
   },
   {
    "duration": 30,
    "start_time": "2023-02-16T19:29:47.270Z"
   },
   {
    "duration": 69,
    "start_time": "2023-02-16T19:29:47.302Z"
   },
   {
    "duration": 229,
    "start_time": "2023-02-16T19:29:47.373Z"
   },
   {
    "duration": 0,
    "start_time": "2023-02-16T19:29:47.603Z"
   },
   {
    "duration": 0,
    "start_time": "2023-02-16T19:29:47.605Z"
   },
   {
    "duration": 0,
    "start_time": "2023-02-16T19:29:47.606Z"
   },
   {
    "duration": 0,
    "start_time": "2023-02-16T19:29:47.607Z"
   },
   {
    "duration": 17,
    "start_time": "2023-02-16T19:31:34.956Z"
   },
   {
    "duration": 1456,
    "start_time": "2023-02-16T19:32:09.035Z"
   },
   {
    "duration": 182,
    "start_time": "2023-02-16T19:32:10.493Z"
   },
   {
    "duration": 31,
    "start_time": "2023-02-16T19:32:10.676Z"
   },
   {
    "duration": 3,
    "start_time": "2023-02-16T19:32:10.709Z"
   },
   {
    "duration": 35,
    "start_time": "2023-02-16T19:32:10.715Z"
   },
   {
    "duration": 82,
    "start_time": "2023-02-16T19:32:10.751Z"
   },
   {
    "duration": 81,
    "start_time": "2023-02-16T19:32:10.835Z"
   },
   {
    "duration": 30,
    "start_time": "2023-02-16T19:32:10.918Z"
   },
   {
    "duration": 49,
    "start_time": "2023-02-16T19:32:10.951Z"
   },
   {
    "duration": 29,
    "start_time": "2023-02-16T19:32:11.002Z"
   },
   {
    "duration": 18,
    "start_time": "2023-02-16T19:32:11.033Z"
   },
   {
    "duration": 98,
    "start_time": "2023-02-16T19:32:11.058Z"
   },
   {
    "duration": 10,
    "start_time": "2023-02-16T19:32:11.160Z"
   },
   {
    "duration": 344,
    "start_time": "2023-02-16T19:32:11.173Z"
   },
   {
    "duration": 48,
    "start_time": "2023-02-16T19:32:11.519Z"
   },
   {
    "duration": 37,
    "start_time": "2023-02-16T19:32:11.571Z"
   },
   {
    "duration": 15,
    "start_time": "2023-02-16T19:32:11.609Z"
   },
   {
    "duration": 221,
    "start_time": "2023-02-16T19:32:11.640Z"
   },
   {
    "duration": 32,
    "start_time": "2023-02-16T19:32:11.866Z"
   },
   {
    "duration": 71,
    "start_time": "2023-02-16T19:32:11.900Z"
   },
   {
    "duration": 203,
    "start_time": "2023-02-16T19:32:11.975Z"
   },
   {
    "duration": 0,
    "start_time": "2023-02-16T19:32:12.180Z"
   },
   {
    "duration": 0,
    "start_time": "2023-02-16T19:32:12.181Z"
   },
   {
    "duration": 0,
    "start_time": "2023-02-16T19:32:12.186Z"
   },
   {
    "duration": 0,
    "start_time": "2023-02-16T19:32:12.187Z"
   },
   {
    "duration": 54,
    "start_time": "2023-02-16T19:35:18.657Z"
   },
   {
    "duration": 1354,
    "start_time": "2023-02-16T19:35:35.369Z"
   },
   {
    "duration": 186,
    "start_time": "2023-02-16T19:35:36.725Z"
   },
   {
    "duration": 36,
    "start_time": "2023-02-16T19:35:36.913Z"
   },
   {
    "duration": 6,
    "start_time": "2023-02-16T19:35:36.953Z"
   },
   {
    "duration": 22,
    "start_time": "2023-02-16T19:35:36.967Z"
   },
   {
    "duration": 71,
    "start_time": "2023-02-16T19:35:36.991Z"
   },
   {
    "duration": 71,
    "start_time": "2023-02-16T19:35:37.064Z"
   },
   {
    "duration": 22,
    "start_time": "2023-02-16T19:35:37.137Z"
   },
   {
    "duration": 48,
    "start_time": "2023-02-16T19:35:37.161Z"
   },
   {
    "duration": 24,
    "start_time": "2023-02-16T19:35:37.211Z"
   },
   {
    "duration": 23,
    "start_time": "2023-02-16T19:35:37.236Z"
   },
   {
    "duration": 119,
    "start_time": "2023-02-16T19:35:37.271Z"
   },
   {
    "duration": 9,
    "start_time": "2023-02-16T19:35:37.393Z"
   },
   {
    "duration": 347,
    "start_time": "2023-02-16T19:35:37.406Z"
   },
   {
    "duration": 50,
    "start_time": "2023-02-16T19:35:37.756Z"
   },
   {
    "duration": 25,
    "start_time": "2023-02-16T19:35:37.808Z"
   },
   {
    "duration": 19,
    "start_time": "2023-02-16T19:35:37.835Z"
   },
   {
    "duration": 216,
    "start_time": "2023-02-16T19:35:37.863Z"
   },
   {
    "duration": 32,
    "start_time": "2023-02-16T19:35:38.081Z"
   },
   {
    "duration": 86,
    "start_time": "2023-02-16T19:35:38.115Z"
   },
   {
    "duration": 485,
    "start_time": "2023-02-16T19:35:38.203Z"
   },
   {
    "duration": 21,
    "start_time": "2023-02-16T19:35:38.690Z"
   },
   {
    "duration": 6,
    "start_time": "2023-02-16T19:35:38.712Z"
   },
   {
    "duration": 77,
    "start_time": "2023-02-16T19:35:38.720Z"
   },
   {
    "duration": 0,
    "start_time": "2023-02-16T19:35:38.799Z"
   },
   {
    "duration": 57,
    "start_time": "2023-02-16T19:36:38.867Z"
   },
   {
    "duration": 1404,
    "start_time": "2023-02-17T06:30:34.469Z"
   },
   {
    "duration": 578,
    "start_time": "2023-02-17T06:30:35.876Z"
   },
   {
    "duration": 35,
    "start_time": "2023-02-17T06:30:36.456Z"
   },
   {
    "duration": 3,
    "start_time": "2023-02-17T06:30:36.493Z"
   },
   {
    "duration": 24,
    "start_time": "2023-02-17T06:30:36.498Z"
   },
   {
    "duration": 79,
    "start_time": "2023-02-17T06:30:36.524Z"
   },
   {
    "duration": 90,
    "start_time": "2023-02-17T06:30:36.605Z"
   },
   {
    "duration": 15,
    "start_time": "2023-02-17T06:30:36.696Z"
   },
   {
    "duration": 40,
    "start_time": "2023-02-17T06:30:36.713Z"
   },
   {
    "duration": 44,
    "start_time": "2023-02-17T06:30:36.755Z"
   },
   {
    "duration": 12,
    "start_time": "2023-02-17T06:30:36.803Z"
   },
   {
    "duration": 115,
    "start_time": "2023-02-17T06:30:36.817Z"
   },
   {
    "duration": 15,
    "start_time": "2023-02-17T06:30:36.934Z"
   },
   {
    "duration": 312,
    "start_time": "2023-02-17T06:30:36.953Z"
   },
   {
    "duration": 46,
    "start_time": "2023-02-17T06:30:37.268Z"
   },
   {
    "duration": 59,
    "start_time": "2023-02-17T06:30:37.316Z"
   },
   {
    "duration": 16,
    "start_time": "2023-02-17T06:30:37.377Z"
   },
   {
    "duration": 239,
    "start_time": "2023-02-17T06:30:37.396Z"
   },
   {
    "duration": 36,
    "start_time": "2023-02-17T06:30:37.637Z"
   },
   {
    "duration": 82,
    "start_time": "2023-02-17T06:30:37.675Z"
   },
   {
    "duration": 456,
    "start_time": "2023-02-17T06:30:37.758Z"
   },
   {
    "duration": 35,
    "start_time": "2023-02-17T06:30:38.217Z"
   },
   {
    "duration": 8,
    "start_time": "2023-02-17T06:30:38.255Z"
   },
   {
    "duration": 76,
    "start_time": "2023-02-17T06:30:38.265Z"
   },
   {
    "duration": 0,
    "start_time": "2023-02-17T06:30:38.349Z"
   },
   {
    "duration": 71,
    "start_time": "2023-02-17T06:32:14.195Z"
   },
   {
    "duration": 44,
    "start_time": "2023-02-17T06:33:05.201Z"
   },
   {
    "duration": 43,
    "start_time": "2023-02-17T06:34:08.127Z"
   },
   {
    "duration": 163,
    "start_time": "2023-02-17T06:43:49.281Z"
   },
   {
    "duration": 1232,
    "start_time": "2023-02-17T06:43:57.630Z"
   },
   {
    "duration": 170,
    "start_time": "2023-02-17T06:43:58.864Z"
   },
   {
    "duration": 30,
    "start_time": "2023-02-17T06:43:59.036Z"
   },
   {
    "duration": 6,
    "start_time": "2023-02-17T06:43:59.069Z"
   },
   {
    "duration": 44,
    "start_time": "2023-02-17T06:43:59.077Z"
   },
   {
    "duration": 113,
    "start_time": "2023-02-17T06:43:59.124Z"
   },
   {
    "duration": 73,
    "start_time": "2023-02-17T06:43:59.239Z"
   },
   {
    "duration": 15,
    "start_time": "2023-02-17T06:43:59.314Z"
   },
   {
    "duration": 53,
    "start_time": "2023-02-17T06:43:59.331Z"
   },
   {
    "duration": 51,
    "start_time": "2023-02-17T06:43:59.386Z"
   },
   {
    "duration": 11,
    "start_time": "2023-02-17T06:43:59.450Z"
   },
   {
    "duration": 100,
    "start_time": "2023-02-17T06:43:59.463Z"
   },
   {
    "duration": 7,
    "start_time": "2023-02-17T06:43:59.566Z"
   },
   {
    "duration": 383,
    "start_time": "2023-02-17T06:43:59.577Z"
   },
   {
    "duration": 37,
    "start_time": "2023-02-17T06:43:59.962Z"
   },
   {
    "duration": 55,
    "start_time": "2023-02-17T06:44:00.001Z"
   },
   {
    "duration": 16,
    "start_time": "2023-02-17T06:44:00.057Z"
   },
   {
    "duration": 209,
    "start_time": "2023-02-17T06:44:00.075Z"
   },
   {
    "duration": 33,
    "start_time": "2023-02-17T06:44:00.285Z"
   },
   {
    "duration": 81,
    "start_time": "2023-02-17T06:44:00.321Z"
   },
   {
    "duration": 120,
    "start_time": "2023-02-17T06:44:00.404Z"
   },
   {
    "duration": 0,
    "start_time": "2023-02-17T06:44:00.526Z"
   },
   {
    "duration": 0,
    "start_time": "2023-02-17T06:44:00.527Z"
   },
   {
    "duration": 0,
    "start_time": "2023-02-17T06:44:00.528Z"
   },
   {
    "duration": 0,
    "start_time": "2023-02-17T06:44:00.529Z"
   },
   {
    "duration": 9,
    "start_time": "2023-02-17T06:45:05.434Z"
   },
   {
    "duration": 13,
    "start_time": "2023-02-17T06:45:20.940Z"
   },
   {
    "duration": 12,
    "start_time": "2023-02-17T06:45:38.530Z"
   },
   {
    "duration": 9,
    "start_time": "2023-02-17T06:45:50.570Z"
   },
   {
    "duration": 1298,
    "start_time": "2023-02-17T06:46:03.567Z"
   },
   {
    "duration": 164,
    "start_time": "2023-02-17T06:46:04.867Z"
   },
   {
    "duration": 40,
    "start_time": "2023-02-17T06:46:05.033Z"
   },
   {
    "duration": 4,
    "start_time": "2023-02-17T06:46:05.075Z"
   },
   {
    "duration": 22,
    "start_time": "2023-02-17T06:46:05.082Z"
   },
   {
    "duration": 80,
    "start_time": "2023-02-17T06:46:05.107Z"
   },
   {
    "duration": 105,
    "start_time": "2023-02-17T06:46:05.189Z"
   },
   {
    "duration": 21,
    "start_time": "2023-02-17T06:46:05.297Z"
   },
   {
    "duration": 42,
    "start_time": "2023-02-17T06:46:05.321Z"
   },
   {
    "duration": 42,
    "start_time": "2023-02-17T06:46:05.365Z"
   },
   {
    "duration": 16,
    "start_time": "2023-02-17T06:46:05.409Z"
   },
   {
    "duration": 89,
    "start_time": "2023-02-17T06:46:05.427Z"
   },
   {
    "duration": 6,
    "start_time": "2023-02-17T06:46:05.517Z"
   },
   {
    "duration": 350,
    "start_time": "2023-02-17T06:46:05.526Z"
   },
   {
    "duration": 36,
    "start_time": "2023-02-17T06:46:05.878Z"
   },
   {
    "duration": 48,
    "start_time": "2023-02-17T06:46:05.916Z"
   },
   {
    "duration": 16,
    "start_time": "2023-02-17T06:46:05.966Z"
   },
   {
    "duration": 199,
    "start_time": "2023-02-17T06:46:05.984Z"
   },
   {
    "duration": 31,
    "start_time": "2023-02-17T06:46:06.185Z"
   },
   {
    "duration": 82,
    "start_time": "2023-02-17T06:46:06.218Z"
   },
   {
    "duration": 513,
    "start_time": "2023-02-17T06:46:06.303Z"
   },
   {
    "duration": 33,
    "start_time": "2023-02-17T06:46:06.818Z"
   },
   {
    "duration": 5,
    "start_time": "2023-02-17T06:46:06.853Z"
   },
   {
    "duration": 91,
    "start_time": "2023-02-17T06:46:06.860Z"
   },
   {
    "duration": 0,
    "start_time": "2023-02-17T06:46:06.953Z"
   },
   {
    "duration": 551,
    "start_time": "2023-02-17T06:47:51.084Z"
   },
   {
    "duration": 1202,
    "start_time": "2023-02-17T06:47:51.752Z"
   },
   {
    "duration": 61,
    "start_time": "2023-02-17T06:47:57.489Z"
   },
   {
    "duration": 54,
    "start_time": "2023-02-17T06:47:58.039Z"
   },
   {
    "duration": 64,
    "start_time": "2023-02-17T06:48:08.334Z"
   },
   {
    "duration": 14,
    "start_time": "2023-02-17T06:56:26.263Z"
   },
   {
    "duration": 8,
    "start_time": "2023-02-17T06:57:44.682Z"
   },
   {
    "duration": 65,
    "start_time": "2023-02-17T06:58:06.099Z"
   },
   {
    "duration": 10,
    "start_time": "2023-02-17T06:58:14.584Z"
   },
   {
    "duration": 64,
    "start_time": "2023-02-17T06:58:34.354Z"
   },
   {
    "duration": 12,
    "start_time": "2023-02-17T06:58:45.481Z"
   },
   {
    "duration": 1220,
    "start_time": "2023-02-17T06:59:31.156Z"
   },
   {
    "duration": 5,
    "start_time": "2023-02-17T07:01:43.983Z"
   },
   {
    "duration": 11,
    "start_time": "2023-02-17T07:01:53.650Z"
   },
   {
    "duration": 9,
    "start_time": "2023-02-17T07:02:25.621Z"
   },
   {
    "duration": 9,
    "start_time": "2023-02-17T07:03:17.853Z"
   },
   {
    "duration": 134,
    "start_time": "2023-02-17T07:04:33.473Z"
   },
   {
    "duration": 9,
    "start_time": "2023-02-17T07:04:50.977Z"
   },
   {
    "duration": 12,
    "start_time": "2023-02-17T07:05:02.429Z"
   },
   {
    "duration": 12,
    "start_time": "2023-02-17T07:05:49.073Z"
   },
   {
    "duration": 12,
    "start_time": "2023-02-17T07:05:59.950Z"
   },
   {
    "duration": 4,
    "start_time": "2023-02-17T07:06:13.687Z"
   },
   {
    "duration": 10,
    "start_time": "2023-02-17T07:06:18.727Z"
   },
   {
    "duration": 10,
    "start_time": "2023-02-17T07:06:32.294Z"
   },
   {
    "duration": 13,
    "start_time": "2023-02-17T07:07:01.260Z"
   },
   {
    "duration": 11,
    "start_time": "2023-02-17T07:14:24.149Z"
   },
   {
    "duration": 12,
    "start_time": "2023-02-17T07:14:36.581Z"
   },
   {
    "duration": 8,
    "start_time": "2023-02-17T07:15:03.277Z"
   },
   {
    "duration": 11,
    "start_time": "2023-02-17T07:15:07.983Z"
   },
   {
    "duration": 6,
    "start_time": "2023-02-17T07:15:12.745Z"
   },
   {
    "duration": 7,
    "start_time": "2023-02-17T07:15:38.468Z"
   },
   {
    "duration": 13,
    "start_time": "2023-02-17T07:15:46.134Z"
   },
   {
    "duration": 4,
    "start_time": "2023-02-17T07:16:24.414Z"
   },
   {
    "duration": 17,
    "start_time": "2023-02-17T07:16:28.841Z"
   },
   {
    "duration": 13,
    "start_time": "2023-02-17T07:16:40.181Z"
   },
   {
    "duration": 16,
    "start_time": "2023-02-17T07:16:45.398Z"
   },
   {
    "duration": 1233,
    "start_time": "2023-02-17T07:16:50.619Z"
   },
   {
    "duration": 171,
    "start_time": "2023-02-17T07:16:51.854Z"
   },
   {
    "duration": 35,
    "start_time": "2023-02-17T07:16:52.026Z"
   },
   {
    "duration": 4,
    "start_time": "2023-02-17T07:16:52.063Z"
   },
   {
    "duration": 27,
    "start_time": "2023-02-17T07:16:52.070Z"
   },
   {
    "duration": 88,
    "start_time": "2023-02-17T07:16:52.099Z"
   },
   {
    "duration": 80,
    "start_time": "2023-02-17T07:16:52.189Z"
   },
   {
    "duration": 21,
    "start_time": "2023-02-17T07:16:52.272Z"
   },
   {
    "duration": 30,
    "start_time": "2023-02-17T07:16:52.295Z"
   },
   {
    "duration": 49,
    "start_time": "2023-02-17T07:16:52.327Z"
   },
   {
    "duration": 8,
    "start_time": "2023-02-17T07:16:52.377Z"
   },
   {
    "duration": 100,
    "start_time": "2023-02-17T07:16:52.387Z"
   },
   {
    "duration": 7,
    "start_time": "2023-02-17T07:16:52.489Z"
   },
   {
    "duration": 394,
    "start_time": "2023-02-17T07:16:52.499Z"
   },
   {
    "duration": 37,
    "start_time": "2023-02-17T07:16:52.895Z"
   },
   {
    "duration": 47,
    "start_time": "2023-02-17T07:16:52.934Z"
   },
   {
    "duration": 23,
    "start_time": "2023-02-17T07:16:52.983Z"
   },
   {
    "duration": 220,
    "start_time": "2023-02-17T07:16:53.008Z"
   },
   {
    "duration": 50,
    "start_time": "2023-02-17T07:16:53.230Z"
   },
   {
    "duration": 77,
    "start_time": "2023-02-17T07:16:53.282Z"
   },
   {
    "duration": 150,
    "start_time": "2023-02-17T07:16:53.362Z"
   },
   {
    "duration": 0,
    "start_time": "2023-02-17T07:16:53.514Z"
   },
   {
    "duration": 0,
    "start_time": "2023-02-17T07:16:53.516Z"
   },
   {
    "duration": 0,
    "start_time": "2023-02-17T07:16:53.517Z"
   },
   {
    "duration": 0,
    "start_time": "2023-02-17T07:16:53.518Z"
   },
   {
    "duration": 0,
    "start_time": "2023-02-17T07:16:53.520Z"
   },
   {
    "duration": 8,
    "start_time": "2023-02-17T07:17:04.147Z"
   },
   {
    "duration": 7,
    "start_time": "2023-02-17T07:17:20.022Z"
   },
   {
    "duration": 10,
    "start_time": "2023-02-17T07:20:51.081Z"
   },
   {
    "duration": 73,
    "start_time": "2023-02-17T07:22:24.726Z"
   },
   {
    "duration": 571,
    "start_time": "2023-02-17T07:23:39.777Z"
   },
   {
    "duration": 7,
    "start_time": "2023-02-17T07:24:01.488Z"
   },
   {
    "duration": 7,
    "start_time": "2023-02-17T07:30:30.419Z"
   },
   {
    "duration": 7,
    "start_time": "2023-02-17T07:30:38.552Z"
   },
   {
    "duration": 10,
    "start_time": "2023-02-17T07:30:51.139Z"
   },
   {
    "duration": 6,
    "start_time": "2023-02-17T07:31:10.143Z"
   },
   {
    "duration": 6,
    "start_time": "2023-02-17T07:31:15.530Z"
   },
   {
    "duration": 8,
    "start_time": "2023-02-17T07:31:23.804Z"
   },
   {
    "duration": 6,
    "start_time": "2023-02-17T07:31:37.935Z"
   },
   {
    "duration": 8,
    "start_time": "2023-02-17T07:31:51.050Z"
   },
   {
    "duration": 11,
    "start_time": "2023-02-17T07:32:02.647Z"
   },
   {
    "duration": 10,
    "start_time": "2023-02-17T07:32:16.336Z"
   },
   {
    "duration": 7,
    "start_time": "2023-02-17T07:32:36.368Z"
   },
   {
    "duration": 9,
    "start_time": "2023-02-17T07:33:28.968Z"
   },
   {
    "duration": 10,
    "start_time": "2023-02-17T07:33:40.130Z"
   },
   {
    "duration": 6,
    "start_time": "2023-02-17T07:34:37.023Z"
   },
   {
    "duration": 6,
    "start_time": "2023-02-17T07:35:06.664Z"
   },
   {
    "duration": 7,
    "start_time": "2023-02-17T07:35:18.135Z"
   },
   {
    "duration": 24,
    "start_time": "2023-02-17T07:35:30.235Z"
   },
   {
    "duration": 9,
    "start_time": "2023-02-17T07:35:35.128Z"
   },
   {
    "duration": 9,
    "start_time": "2023-02-17T07:36:41.206Z"
   },
   {
    "duration": 10,
    "start_time": "2023-02-17T07:36:50.330Z"
   },
   {
    "duration": 9,
    "start_time": "2023-02-17T07:36:55.689Z"
   },
   {
    "duration": 70,
    "start_time": "2023-02-17T07:38:19.253Z"
   },
   {
    "duration": 68,
    "start_time": "2023-02-17T07:38:39.761Z"
   },
   {
    "duration": 13,
    "start_time": "2023-02-17T07:39:47.688Z"
   },
   {
    "duration": 18,
    "start_time": "2023-02-17T07:43:43.275Z"
   },
   {
    "duration": 20,
    "start_time": "2023-02-17T07:43:50.121Z"
   },
   {
    "duration": 9,
    "start_time": "2023-02-17T07:44:08.255Z"
   },
   {
    "duration": 16,
    "start_time": "2023-02-17T07:44:41.995Z"
   },
   {
    "duration": 9,
    "start_time": "2023-02-17T07:44:46.798Z"
   },
   {
    "duration": 10,
    "start_time": "2023-02-17T07:45:02.185Z"
   },
   {
    "duration": 30,
    "start_time": "2023-02-17T07:45:16.323Z"
   },
   {
    "duration": 22,
    "start_time": "2023-02-17T07:45:37.146Z"
   },
   {
    "duration": 28,
    "start_time": "2023-02-17T07:45:48.530Z"
   },
   {
    "duration": 13,
    "start_time": "2023-02-17T07:45:52.874Z"
   },
   {
    "duration": 13,
    "start_time": "2023-02-17T07:49:00.884Z"
   },
   {
    "duration": 9,
    "start_time": "2023-02-17T07:50:18.612Z"
   },
   {
    "duration": 8,
    "start_time": "2023-02-17T07:50:38.563Z"
   },
   {
    "duration": 10,
    "start_time": "2023-02-17T07:51:54.253Z"
   },
   {
    "duration": 14,
    "start_time": "2023-02-17T07:52:24.596Z"
   },
   {
    "duration": 14,
    "start_time": "2023-02-17T07:52:38.523Z"
   },
   {
    "duration": 9,
    "start_time": "2023-02-17T07:52:47.860Z"
   },
   {
    "duration": 15,
    "start_time": "2023-02-17T07:54:05.551Z"
   },
   {
    "duration": 7,
    "start_time": "2023-02-17T07:54:18.316Z"
   },
   {
    "duration": 9,
    "start_time": "2023-02-17T07:54:24.450Z"
   },
   {
    "duration": 1205,
    "start_time": "2023-02-17T07:56:10.736Z"
   },
   {
    "duration": 165,
    "start_time": "2023-02-17T07:56:11.942Z"
   },
   {
    "duration": 31,
    "start_time": "2023-02-17T07:56:12.108Z"
   },
   {
    "duration": 3,
    "start_time": "2023-02-17T07:56:12.149Z"
   },
   {
    "duration": 31,
    "start_time": "2023-02-17T07:56:12.155Z"
   },
   {
    "duration": 70,
    "start_time": "2023-02-17T07:56:12.188Z"
   },
   {
    "duration": 70,
    "start_time": "2023-02-17T07:56:12.260Z"
   },
   {
    "duration": 24,
    "start_time": "2023-02-17T07:56:12.332Z"
   },
   {
    "duration": 27,
    "start_time": "2023-02-17T07:56:12.360Z"
   },
   {
    "duration": 75,
    "start_time": "2023-02-17T07:56:12.390Z"
   },
   {
    "duration": 11,
    "start_time": "2023-02-17T07:56:12.466Z"
   },
   {
    "duration": 99,
    "start_time": "2023-02-17T07:56:12.479Z"
   },
   {
    "duration": 7,
    "start_time": "2023-02-17T07:56:12.581Z"
   },
   {
    "duration": 345,
    "start_time": "2023-02-17T07:56:12.591Z"
   },
   {
    "duration": 43,
    "start_time": "2023-02-17T07:56:12.937Z"
   },
   {
    "duration": 30,
    "start_time": "2023-02-17T07:56:12.982Z"
   },
   {
    "duration": 14,
    "start_time": "2023-02-17T07:56:13.014Z"
   },
   {
    "duration": 196,
    "start_time": "2023-02-17T07:56:13.049Z"
   },
   {
    "duration": 32,
    "start_time": "2023-02-17T07:56:13.248Z"
   },
   {
    "duration": 80,
    "start_time": "2023-02-17T07:56:13.281Z"
   },
   {
    "duration": 9,
    "start_time": "2023-02-17T07:56:13.362Z"
   },
   {
    "duration": 14,
    "start_time": "2023-02-17T07:56:13.372Z"
   },
   {
    "duration": 35,
    "start_time": "2023-02-17T07:56:13.389Z"
   },
   {
    "duration": 23,
    "start_time": "2023-02-17T07:56:13.426Z"
   },
   {
    "duration": 77,
    "start_time": "2023-02-17T07:56:13.450Z"
   },
   {
    "duration": 0,
    "start_time": "2023-02-17T07:56:13.529Z"
   },
   {
    "duration": 112,
    "start_time": "2023-02-17T07:56:34.967Z"
   },
   {
    "duration": 9,
    "start_time": "2023-02-17T07:56:49.292Z"
   },
   {
    "duration": 1239,
    "start_time": "2023-02-17T07:59:39.815Z"
   },
   {
    "duration": 166,
    "start_time": "2023-02-17T07:59:41.056Z"
   },
   {
    "duration": 33,
    "start_time": "2023-02-17T07:59:41.224Z"
   },
   {
    "duration": 3,
    "start_time": "2023-02-17T07:59:41.259Z"
   },
   {
    "duration": 26,
    "start_time": "2023-02-17T07:59:41.265Z"
   },
   {
    "duration": 72,
    "start_time": "2023-02-17T07:59:41.293Z"
   },
   {
    "duration": 82,
    "start_time": "2023-02-17T07:59:41.367Z"
   },
   {
    "duration": 15,
    "start_time": "2023-02-17T07:59:41.450Z"
   },
   {
    "duration": 41,
    "start_time": "2023-02-17T07:59:41.467Z"
   },
   {
    "duration": 45,
    "start_time": "2023-02-17T07:59:41.511Z"
   },
   {
    "duration": 7,
    "start_time": "2023-02-17T07:59:41.558Z"
   },
   {
    "duration": 97,
    "start_time": "2023-02-17T07:59:41.567Z"
   },
   {
    "duration": 5,
    "start_time": "2023-02-17T07:59:41.666Z"
   },
   {
    "duration": 324,
    "start_time": "2023-02-17T07:59:41.673Z"
   },
   {
    "duration": 35,
    "start_time": "2023-02-17T07:59:41.999Z"
   },
   {
    "duration": 31,
    "start_time": "2023-02-17T07:59:42.048Z"
   },
   {
    "duration": 14,
    "start_time": "2023-02-17T07:59:42.081Z"
   },
   {
    "duration": 200,
    "start_time": "2023-02-17T07:59:42.097Z"
   },
   {
    "duration": 31,
    "start_time": "2023-02-17T07:59:42.298Z"
   },
   {
    "duration": 68,
    "start_time": "2023-02-17T07:59:42.330Z"
   },
   {
    "duration": 8,
    "start_time": "2023-02-17T07:59:42.399Z"
   },
   {
    "duration": 16,
    "start_time": "2023-02-17T07:59:42.408Z"
   },
   {
    "duration": 38,
    "start_time": "2023-02-17T07:59:42.426Z"
   },
   {
    "duration": 6,
    "start_time": "2023-02-17T07:59:42.466Z"
   },
   {
    "duration": 123,
    "start_time": "2023-02-17T07:59:42.473Z"
   },
   {
    "duration": 0,
    "start_time": "2023-02-17T07:59:42.598Z"
   },
   {
    "duration": 0,
    "start_time": "2023-02-17T07:59:42.599Z"
   },
   {
    "duration": 2,
    "start_time": "2023-02-17T08:00:05.830Z"
   },
   {
    "duration": 7,
    "start_time": "2023-02-17T08:01:35.773Z"
   },
   {
    "duration": 8,
    "start_time": "2023-02-17T08:03:02.956Z"
   },
   {
    "duration": 10,
    "start_time": "2023-02-17T08:03:10.423Z"
   },
   {
    "duration": 6,
    "start_time": "2023-02-17T08:19:18.814Z"
   },
   {
    "duration": 8,
    "start_time": "2023-02-17T08:19:30.749Z"
   },
   {
    "duration": 23,
    "start_time": "2023-02-17T08:20:07.428Z"
   },
   {
    "duration": 15,
    "start_time": "2023-02-17T08:20:13.637Z"
   },
   {
    "duration": 38,
    "start_time": "2023-02-17T08:20:28.815Z"
   },
   {
    "duration": 16,
    "start_time": "2023-02-17T08:20:48.955Z"
   },
   {
    "duration": 22,
    "start_time": "2023-02-17T08:20:59.443Z"
   },
   {
    "duration": 48,
    "start_time": "2023-02-17T08:21:20.226Z"
   },
   {
    "duration": 14,
    "start_time": "2023-02-17T08:22:27.274Z"
   },
   {
    "duration": 33,
    "start_time": "2023-02-17T08:22:38.940Z"
   },
   {
    "duration": 20,
    "start_time": "2023-02-17T08:23:11.853Z"
   },
   {
    "duration": 21,
    "start_time": "2023-02-17T08:23:35.021Z"
   },
   {
    "duration": 22,
    "start_time": "2023-02-17T08:23:46.842Z"
   },
   {
    "duration": 30,
    "start_time": "2023-02-17T08:24:01.881Z"
   },
   {
    "duration": 75,
    "start_time": "2023-02-17T08:24:04.476Z"
   },
   {
    "duration": 100,
    "start_time": "2023-02-17T08:24:31.416Z"
   },
   {
    "duration": 3,
    "start_time": "2023-02-17T08:25:22.563Z"
   },
   {
    "duration": 13,
    "start_time": "2023-02-17T08:26:08.471Z"
   },
   {
    "duration": 1239,
    "start_time": "2023-02-17T08:26:24.241Z"
   },
   {
    "duration": 172,
    "start_time": "2023-02-17T08:26:25.482Z"
   },
   {
    "duration": 32,
    "start_time": "2023-02-17T08:26:25.655Z"
   },
   {
    "duration": 3,
    "start_time": "2023-02-17T08:26:25.689Z"
   },
   {
    "duration": 28,
    "start_time": "2023-02-17T08:26:25.695Z"
   },
   {
    "duration": 83,
    "start_time": "2023-02-17T08:26:25.726Z"
   },
   {
    "duration": 86,
    "start_time": "2023-02-17T08:26:25.812Z"
   },
   {
    "duration": 14,
    "start_time": "2023-02-17T08:26:25.900Z"
   },
   {
    "duration": 45,
    "start_time": "2023-02-17T08:26:25.916Z"
   },
   {
    "duration": 46,
    "start_time": "2023-02-17T08:26:25.964Z"
   },
   {
    "duration": 8,
    "start_time": "2023-02-17T08:26:26.012Z"
   },
   {
    "duration": 98,
    "start_time": "2023-02-17T08:26:26.021Z"
   },
   {
    "duration": 5,
    "start_time": "2023-02-17T08:26:26.121Z"
   },
   {
    "duration": 403,
    "start_time": "2023-02-17T08:26:26.128Z"
   },
   {
    "duration": 62,
    "start_time": "2023-02-17T08:26:26.533Z"
   },
   {
    "duration": 65,
    "start_time": "2023-02-17T08:26:26.597Z"
   },
   {
    "duration": 27,
    "start_time": "2023-02-17T08:26:26.665Z"
   },
   {
    "duration": 202,
    "start_time": "2023-02-17T08:26:26.694Z"
   },
   {
    "duration": 32,
    "start_time": "2023-02-17T08:26:26.897Z"
   },
   {
    "duration": 76,
    "start_time": "2023-02-17T08:26:26.931Z"
   },
   {
    "duration": 8,
    "start_time": "2023-02-17T08:26:27.009Z"
   },
   {
    "duration": 31,
    "start_time": "2023-02-17T08:26:27.019Z"
   },
   {
    "duration": 23,
    "start_time": "2023-02-17T08:26:27.052Z"
   },
   {
    "duration": 14,
    "start_time": "2023-02-17T08:26:27.077Z"
   },
   {
    "duration": 56,
    "start_time": "2023-02-17T08:26:27.093Z"
   },
   {
    "duration": 112,
    "start_time": "2023-02-17T08:26:27.152Z"
   },
   {
    "duration": 0,
    "start_time": "2023-02-17T08:26:27.266Z"
   },
   {
    "duration": 1213,
    "start_time": "2023-02-17T08:26:57.045Z"
   },
   {
    "duration": 180,
    "start_time": "2023-02-17T08:26:58.261Z"
   },
   {
    "duration": 34,
    "start_time": "2023-02-17T08:26:58.443Z"
   },
   {
    "duration": 4,
    "start_time": "2023-02-17T08:26:58.480Z"
   },
   {
    "duration": 18,
    "start_time": "2023-02-17T08:26:58.486Z"
   },
   {
    "duration": 92,
    "start_time": "2023-02-17T08:26:58.506Z"
   },
   {
    "duration": 75,
    "start_time": "2023-02-17T08:26:58.600Z"
   },
   {
    "duration": 15,
    "start_time": "2023-02-17T08:26:58.677Z"
   },
   {
    "duration": 66,
    "start_time": "2023-02-17T08:26:58.693Z"
   },
   {
    "duration": 33,
    "start_time": "2023-02-17T08:26:58.762Z"
   },
   {
    "duration": 9,
    "start_time": "2023-02-17T08:26:58.796Z"
   },
   {
    "duration": 97,
    "start_time": "2023-02-17T08:26:58.806Z"
   },
   {
    "duration": 6,
    "start_time": "2023-02-17T08:26:58.905Z"
   },
   {
    "duration": 316,
    "start_time": "2023-02-17T08:26:58.912Z"
   },
   {
    "duration": 49,
    "start_time": "2023-02-17T08:26:59.230Z"
   },
   {
    "duration": 31,
    "start_time": "2023-02-17T08:26:59.281Z"
   },
   {
    "duration": 37,
    "start_time": "2023-02-17T08:26:59.314Z"
   },
   {
    "duration": 199,
    "start_time": "2023-02-17T08:26:59.352Z"
   },
   {
    "duration": 31,
    "start_time": "2023-02-17T08:26:59.552Z"
   },
   {
    "duration": 80,
    "start_time": "2023-02-17T08:26:59.585Z"
   },
   {
    "duration": 8,
    "start_time": "2023-02-17T08:26:59.666Z"
   },
   {
    "duration": 10,
    "start_time": "2023-02-17T08:26:59.675Z"
   },
   {
    "duration": 22,
    "start_time": "2023-02-17T08:26:59.687Z"
   },
   {
    "duration": 39,
    "start_time": "2023-02-17T08:26:59.710Z"
   },
   {
    "duration": 34,
    "start_time": "2023-02-17T08:26:59.751Z"
   },
   {
    "duration": 125,
    "start_time": "2023-02-17T08:26:59.786Z"
   },
   {
    "duration": 0,
    "start_time": "2023-02-17T08:26:59.912Z"
   },
   {
    "duration": 1215,
    "start_time": "2023-02-17T08:27:22.144Z"
   },
   {
    "duration": 177,
    "start_time": "2023-02-17T08:27:23.361Z"
   },
   {
    "duration": 30,
    "start_time": "2023-02-17T08:27:23.539Z"
   },
   {
    "duration": 4,
    "start_time": "2023-02-17T08:27:23.571Z"
   },
   {
    "duration": 21,
    "start_time": "2023-02-17T08:27:23.577Z"
   },
   {
    "duration": 80,
    "start_time": "2023-02-17T08:27:23.600Z"
   },
   {
    "duration": 77,
    "start_time": "2023-02-17T08:27:23.682Z"
   },
   {
    "duration": 19,
    "start_time": "2023-02-17T08:27:23.761Z"
   },
   {
    "duration": 35,
    "start_time": "2023-02-17T08:27:23.782Z"
   },
   {
    "duration": 68,
    "start_time": "2023-02-17T08:27:23.819Z"
   },
   {
    "duration": 10,
    "start_time": "2023-02-17T08:27:23.890Z"
   },
   {
    "duration": 101,
    "start_time": "2023-02-17T08:27:23.902Z"
   },
   {
    "duration": 6,
    "start_time": "2023-02-17T08:27:24.004Z"
   },
   {
    "duration": 346,
    "start_time": "2023-02-17T08:27:24.016Z"
   },
   {
    "duration": 41,
    "start_time": "2023-02-17T08:27:24.363Z"
   },
   {
    "duration": 49,
    "start_time": "2023-02-17T08:27:24.406Z"
   },
   {
    "duration": 24,
    "start_time": "2023-02-17T08:27:24.457Z"
   },
   {
    "duration": 209,
    "start_time": "2023-02-17T08:27:24.483Z"
   },
   {
    "duration": 32,
    "start_time": "2023-02-17T08:27:24.693Z"
   },
   {
    "duration": 82,
    "start_time": "2023-02-17T08:27:24.727Z"
   },
   {
    "duration": 10,
    "start_time": "2023-02-17T08:27:24.810Z"
   },
   {
    "duration": 34,
    "start_time": "2023-02-17T08:27:24.821Z"
   },
   {
    "duration": 28,
    "start_time": "2023-02-17T08:27:24.857Z"
   },
   {
    "duration": 15,
    "start_time": "2023-02-17T08:27:24.886Z"
   },
   {
    "duration": 50,
    "start_time": "2023-02-17T08:27:24.902Z"
   },
   {
    "duration": 12,
    "start_time": "2023-02-17T08:27:24.954Z"
   },
   {
    "duration": 40,
    "start_time": "2023-02-17T08:27:24.968Z"
   },
   {
    "duration": 111,
    "start_time": "2023-02-17T08:57:49.481Z"
   },
   {
    "duration": 39,
    "start_time": "2023-02-17T08:59:06.137Z"
   },
   {
    "duration": 12,
    "start_time": "2023-02-17T08:59:37.964Z"
   },
   {
    "duration": 12,
    "start_time": "2023-02-17T09:05:35.761Z"
   },
   {
    "duration": 19,
    "start_time": "2023-02-17T09:05:43.768Z"
   },
   {
    "duration": 19,
    "start_time": "2023-02-17T09:06:05.740Z"
   },
   {
    "duration": 12,
    "start_time": "2023-02-17T09:06:18.722Z"
   },
   {
    "duration": 10,
    "start_time": "2023-02-17T09:06:25.627Z"
   },
   {
    "duration": 11,
    "start_time": "2023-02-17T09:07:37.963Z"
   },
   {
    "duration": 9,
    "start_time": "2023-02-17T09:07:58.141Z"
   },
   {
    "duration": 11,
    "start_time": "2023-02-17T09:08:33.745Z"
   },
   {
    "duration": 11,
    "start_time": "2023-02-17T09:08:46.339Z"
   },
   {
    "duration": 1207,
    "start_time": "2023-02-17T09:09:47.145Z"
   },
   {
    "duration": 171,
    "start_time": "2023-02-17T09:09:48.355Z"
   },
   {
    "duration": 31,
    "start_time": "2023-02-17T09:09:48.531Z"
   },
   {
    "duration": 18,
    "start_time": "2023-02-17T09:09:48.573Z"
   },
   {
    "duration": 20,
    "start_time": "2023-02-17T09:09:48.593Z"
   },
   {
    "duration": 66,
    "start_time": "2023-02-17T09:09:48.614Z"
   },
   {
    "duration": 79,
    "start_time": "2023-02-17T09:09:48.681Z"
   },
   {
    "duration": 15,
    "start_time": "2023-02-17T09:09:48.762Z"
   },
   {
    "duration": 30,
    "start_time": "2023-02-17T09:09:48.778Z"
   },
   {
    "duration": 80,
    "start_time": "2023-02-17T09:09:48.810Z"
   },
   {
    "duration": 8,
    "start_time": "2023-02-17T09:09:48.891Z"
   },
   {
    "duration": 99,
    "start_time": "2023-02-17T09:09:48.901Z"
   },
   {
    "duration": 7,
    "start_time": "2023-02-17T09:09:49.003Z"
   },
   {
    "duration": 339,
    "start_time": "2023-02-17T09:09:49.013Z"
   },
   {
    "duration": 47,
    "start_time": "2023-02-17T09:09:49.355Z"
   },
   {
    "duration": 54,
    "start_time": "2023-02-17T09:09:49.404Z"
   },
   {
    "duration": 18,
    "start_time": "2023-02-17T09:09:49.459Z"
   },
   {
    "duration": 220,
    "start_time": "2023-02-17T09:09:49.479Z"
   },
   {
    "duration": 36,
    "start_time": "2023-02-17T09:09:49.701Z"
   },
   {
    "duration": 65,
    "start_time": "2023-02-17T09:09:49.749Z"
   },
   {
    "duration": 9,
    "start_time": "2023-02-17T09:09:49.816Z"
   },
   {
    "duration": 10,
    "start_time": "2023-02-17T09:09:49.848Z"
   },
   {
    "duration": 26,
    "start_time": "2023-02-17T09:09:49.860Z"
   },
   {
    "duration": 130,
    "start_time": "2023-02-17T09:09:49.889Z"
   },
   {
    "duration": 0,
    "start_time": "2023-02-17T09:09:50.020Z"
   },
   {
    "duration": 0,
    "start_time": "2023-02-17T09:09:50.022Z"
   },
   {
    "duration": 29,
    "start_time": "2023-02-17T09:12:10.774Z"
   },
   {
    "duration": 14,
    "start_time": "2023-02-17T09:12:34.689Z"
   },
   {
    "duration": 18,
    "start_time": "2023-02-17T09:13:29.265Z"
   },
   {
    "duration": 10,
    "start_time": "2023-02-17T09:13:44.839Z"
   },
   {
    "duration": 13,
    "start_time": "2023-02-17T09:13:57.437Z"
   },
   {
    "duration": 19,
    "start_time": "2023-02-17T09:13:58.051Z"
   },
   {
    "duration": 16,
    "start_time": "2023-02-17T09:14:02.474Z"
   },
   {
    "duration": 21,
    "start_time": "2023-02-17T09:14:03.002Z"
   },
   {
    "duration": 11,
    "start_time": "2023-02-17T09:14:03.556Z"
   },
   {
    "duration": 1217,
    "start_time": "2023-02-17T09:14:09.016Z"
   },
   {
    "duration": 164,
    "start_time": "2023-02-17T09:14:10.235Z"
   },
   {
    "duration": 28,
    "start_time": "2023-02-17T09:14:10.401Z"
   },
   {
    "duration": 3,
    "start_time": "2023-02-17T09:14:10.430Z"
   },
   {
    "duration": 12,
    "start_time": "2023-02-17T09:14:10.448Z"
   },
   {
    "duration": 64,
    "start_time": "2023-02-17T09:14:10.462Z"
   },
   {
    "duration": 78,
    "start_time": "2023-02-17T09:14:10.528Z"
   },
   {
    "duration": 15,
    "start_time": "2023-02-17T09:14:10.608Z"
   },
   {
    "duration": 47,
    "start_time": "2023-02-17T09:14:10.625Z"
   },
   {
    "duration": 39,
    "start_time": "2023-02-17T09:14:10.675Z"
   },
   {
    "duration": 8,
    "start_time": "2023-02-17T09:14:10.716Z"
   },
   {
    "duration": 97,
    "start_time": "2023-02-17T09:14:10.725Z"
   },
   {
    "duration": 6,
    "start_time": "2023-02-17T09:14:10.823Z"
   },
   {
    "duration": 298,
    "start_time": "2023-02-17T09:14:10.831Z"
   },
   {
    "duration": 53,
    "start_time": "2023-02-17T09:14:11.131Z"
   },
   {
    "duration": 32,
    "start_time": "2023-02-17T09:14:11.186Z"
   },
   {
    "duration": 34,
    "start_time": "2023-02-17T09:14:11.219Z"
   },
   {
    "duration": 187,
    "start_time": "2023-02-17T09:14:11.255Z"
   },
   {
    "duration": 28,
    "start_time": "2023-02-17T09:14:11.448Z"
   },
   {
    "duration": 75,
    "start_time": "2023-02-17T09:14:11.478Z"
   },
   {
    "duration": 7,
    "start_time": "2023-02-17T09:14:11.555Z"
   },
   {
    "duration": 17,
    "start_time": "2023-02-17T09:14:11.563Z"
   },
   {
    "duration": 23,
    "start_time": "2023-02-17T09:14:11.582Z"
   },
   {
    "duration": 14,
    "start_time": "2023-02-17T09:14:11.606Z"
   },
   {
    "duration": 41,
    "start_time": "2023-02-17T09:14:11.622Z"
   },
   {
    "duration": 113,
    "start_time": "2023-02-17T09:14:11.665Z"
   },
   {
    "duration": 0,
    "start_time": "2023-02-17T09:14:11.780Z"
   },
   {
    "duration": 0,
    "start_time": "2023-02-17T09:14:11.781Z"
   },
   {
    "duration": 15,
    "start_time": "2023-02-17T09:15:29.901Z"
   },
   {
    "duration": 22,
    "start_time": "2023-02-17T09:15:30.481Z"
   },
   {
    "duration": 6,
    "start_time": "2023-02-17T09:15:46.733Z"
   },
   {
    "duration": 9,
    "start_time": "2023-02-17T09:15:55.353Z"
   },
   {
    "duration": 1214,
    "start_time": "2023-02-17T09:16:24.452Z"
   },
   {
    "duration": 168,
    "start_time": "2023-02-17T09:16:25.668Z"
   },
   {
    "duration": 30,
    "start_time": "2023-02-17T09:16:25.838Z"
   },
   {
    "duration": 4,
    "start_time": "2023-02-17T09:16:25.870Z"
   },
   {
    "duration": 19,
    "start_time": "2023-02-17T09:16:25.876Z"
   },
   {
    "duration": 89,
    "start_time": "2023-02-17T09:16:25.897Z"
   },
   {
    "duration": 82,
    "start_time": "2023-02-17T09:16:25.988Z"
   },
   {
    "duration": 14,
    "start_time": "2023-02-17T09:16:26.073Z"
   },
   {
    "duration": 29,
    "start_time": "2023-02-17T09:16:26.089Z"
   },
   {
    "duration": 53,
    "start_time": "2023-02-17T09:16:26.121Z"
   },
   {
    "duration": 9,
    "start_time": "2023-02-17T09:16:26.176Z"
   },
   {
    "duration": 97,
    "start_time": "2023-02-17T09:16:26.186Z"
   },
   {
    "duration": 8,
    "start_time": "2023-02-17T09:16:26.286Z"
   },
   {
    "duration": 399,
    "start_time": "2023-02-17T09:16:26.296Z"
   },
   {
    "duration": 53,
    "start_time": "2023-02-17T09:16:26.697Z"
   },
   {
    "duration": 31,
    "start_time": "2023-02-17T09:16:26.751Z"
   },
   {
    "duration": 17,
    "start_time": "2023-02-17T09:16:26.784Z"
   },
   {
    "duration": 201,
    "start_time": "2023-02-17T09:16:26.803Z"
   },
   {
    "duration": 42,
    "start_time": "2023-02-17T09:16:27.006Z"
   },
   {
    "duration": 59,
    "start_time": "2023-02-17T09:16:27.050Z"
   },
   {
    "duration": 7,
    "start_time": "2023-02-17T09:16:27.111Z"
   },
   {
    "duration": 29,
    "start_time": "2023-02-17T09:16:27.120Z"
   },
   {
    "duration": 22,
    "start_time": "2023-02-17T09:16:27.151Z"
   },
   {
    "duration": 13,
    "start_time": "2023-02-17T09:16:27.175Z"
   },
   {
    "duration": 22,
    "start_time": "2023-02-17T09:16:27.191Z"
   },
   {
    "duration": 4,
    "start_time": "2023-02-17T09:16:27.215Z"
   },
   {
    "duration": 137,
    "start_time": "2023-02-17T09:16:27.221Z"
   },
   {
    "duration": 0,
    "start_time": "2023-02-17T09:16:27.360Z"
   },
   {
    "duration": 9,
    "start_time": "2023-02-17T09:17:23.709Z"
   },
   {
    "duration": 11,
    "start_time": "2023-02-17T09:17:32.108Z"
   },
   {
    "duration": 1229,
    "start_time": "2023-02-17T09:17:37.427Z"
   },
   {
    "duration": 167,
    "start_time": "2023-02-17T09:17:38.658Z"
   },
   {
    "duration": 32,
    "start_time": "2023-02-17T09:17:38.827Z"
   },
   {
    "duration": 18,
    "start_time": "2023-02-17T09:17:38.861Z"
   },
   {
    "duration": 22,
    "start_time": "2023-02-17T09:17:38.882Z"
   },
   {
    "duration": 71,
    "start_time": "2023-02-17T09:17:38.906Z"
   },
   {
    "duration": 82,
    "start_time": "2023-02-17T09:17:38.979Z"
   },
   {
    "duration": 16,
    "start_time": "2023-02-17T09:17:39.063Z"
   },
   {
    "duration": 52,
    "start_time": "2023-02-17T09:17:39.081Z"
   },
   {
    "duration": 36,
    "start_time": "2023-02-17T09:17:39.135Z"
   },
   {
    "duration": 9,
    "start_time": "2023-02-17T09:17:39.173Z"
   },
   {
    "duration": 87,
    "start_time": "2023-02-17T09:17:39.184Z"
   },
   {
    "duration": 6,
    "start_time": "2023-02-17T09:17:39.274Z"
   },
   {
    "duration": 329,
    "start_time": "2023-02-17T09:17:39.283Z"
   },
   {
    "duration": 49,
    "start_time": "2023-02-17T09:17:39.613Z"
   },
   {
    "duration": 29,
    "start_time": "2023-02-17T09:17:39.663Z"
   },
   {
    "duration": 18,
    "start_time": "2023-02-17T09:17:39.694Z"
   },
   {
    "duration": 202,
    "start_time": "2023-02-17T09:17:39.713Z"
   },
   {
    "duration": 40,
    "start_time": "2023-02-17T09:17:39.917Z"
   },
   {
    "duration": 65,
    "start_time": "2023-02-17T09:17:39.958Z"
   },
   {
    "duration": 26,
    "start_time": "2023-02-17T09:17:40.026Z"
   },
   {
    "duration": 26,
    "start_time": "2023-02-17T09:17:40.054Z"
   },
   {
    "duration": 29,
    "start_time": "2023-02-17T09:17:40.082Z"
   },
   {
    "duration": 24,
    "start_time": "2023-02-17T09:17:40.113Z"
   },
   {
    "duration": 38,
    "start_time": "2023-02-17T09:17:40.139Z"
   },
   {
    "duration": 5,
    "start_time": "2023-02-17T09:17:40.179Z"
   },
   {
    "duration": 122,
    "start_time": "2023-02-17T09:17:40.186Z"
   },
   {
    "duration": 0,
    "start_time": "2023-02-17T09:17:40.310Z"
   },
   {
    "duration": 6,
    "start_time": "2023-02-17T09:27:54.407Z"
   },
   {
    "duration": 1251,
    "start_time": "2023-02-17T09:28:39.149Z"
   },
   {
    "duration": 173,
    "start_time": "2023-02-17T09:28:40.402Z"
   },
   {
    "duration": 28,
    "start_time": "2023-02-17T09:28:40.576Z"
   },
   {
    "duration": 9,
    "start_time": "2023-02-17T09:28:40.606Z"
   },
   {
    "duration": 20,
    "start_time": "2023-02-17T09:28:40.618Z"
   },
   {
    "duration": 78,
    "start_time": "2023-02-17T09:28:40.640Z"
   },
   {
    "duration": 86,
    "start_time": "2023-02-17T09:28:40.720Z"
   },
   {
    "duration": 18,
    "start_time": "2023-02-17T09:28:40.808Z"
   },
   {
    "duration": 44,
    "start_time": "2023-02-17T09:28:40.828Z"
   },
   {
    "duration": 31,
    "start_time": "2023-02-17T09:28:40.874Z"
   },
   {
    "duration": 9,
    "start_time": "2023-02-17T09:28:40.907Z"
   },
   {
    "duration": 106,
    "start_time": "2023-02-17T09:28:40.918Z"
   },
   {
    "duration": 6,
    "start_time": "2023-02-17T09:28:41.026Z"
   },
   {
    "duration": 331,
    "start_time": "2023-02-17T09:28:41.052Z"
   },
   {
    "duration": 42,
    "start_time": "2023-02-17T09:28:41.385Z"
   },
   {
    "duration": 52,
    "start_time": "2023-02-17T09:28:41.428Z"
   },
   {
    "duration": 14,
    "start_time": "2023-02-17T09:28:41.482Z"
   },
   {
    "duration": 213,
    "start_time": "2023-02-17T09:28:41.497Z"
   },
   {
    "duration": 44,
    "start_time": "2023-02-17T09:28:41.711Z"
   },
   {
    "duration": 109,
    "start_time": "2023-02-17T09:28:41.757Z"
   },
   {
    "duration": 8,
    "start_time": "2023-02-17T09:28:41.868Z"
   },
   {
    "duration": 17,
    "start_time": "2023-02-17T09:28:41.878Z"
   },
   {
    "duration": 25,
    "start_time": "2023-02-17T09:28:41.897Z"
   },
   {
    "duration": 38,
    "start_time": "2023-02-17T09:28:41.924Z"
   },
   {
    "duration": 26,
    "start_time": "2023-02-17T09:28:41.964Z"
   },
   {
    "duration": 6,
    "start_time": "2023-02-17T09:28:41.991Z"
   },
   {
    "duration": 15,
    "start_time": "2023-02-17T09:28:41.998Z"
   },
   {
    "duration": 45,
    "start_time": "2023-02-17T09:28:42.015Z"
   },
   {
    "duration": 12,
    "start_time": "2023-02-17T09:28:50.043Z"
   },
   {
    "duration": 9,
    "start_time": "2023-02-17T09:28:55.464Z"
   },
   {
    "duration": 15,
    "start_time": "2023-02-17T09:29:53.593Z"
   },
   {
    "duration": 17,
    "start_time": "2023-02-17T09:29:58.900Z"
   },
   {
    "duration": 14,
    "start_time": "2023-02-17T09:30:07.665Z"
   },
   {
    "duration": 10,
    "start_time": "2023-02-17T10:12:47.316Z"
   },
   {
    "duration": 12,
    "start_time": "2023-02-17T10:12:49.930Z"
   },
   {
    "duration": 9,
    "start_time": "2023-02-17T10:16:20.878Z"
   },
   {
    "duration": 8,
    "start_time": "2023-02-17T10:16:38.950Z"
   },
   {
    "duration": 77,
    "start_time": "2023-02-17T10:17:25.762Z"
   },
   {
    "duration": 9,
    "start_time": "2023-02-17T10:17:43.266Z"
   },
   {
    "duration": 75,
    "start_time": "2023-02-17T10:17:53.691Z"
   },
   {
    "duration": 83,
    "start_time": "2023-02-17T10:18:16.696Z"
   },
   {
    "duration": 1297,
    "start_time": "2023-02-17T10:19:18.844Z"
   },
   {
    "duration": 186,
    "start_time": "2023-02-17T10:19:20.143Z"
   },
   {
    "duration": 34,
    "start_time": "2023-02-17T10:19:20.330Z"
   },
   {
    "duration": 4,
    "start_time": "2023-02-17T10:19:20.367Z"
   },
   {
    "duration": 22,
    "start_time": "2023-02-17T10:19:20.372Z"
   },
   {
    "duration": 91,
    "start_time": "2023-02-17T10:19:20.396Z"
   },
   {
    "duration": 96,
    "start_time": "2023-02-17T10:19:20.489Z"
   },
   {
    "duration": 24,
    "start_time": "2023-02-17T10:19:20.587Z"
   },
   {
    "duration": 62,
    "start_time": "2023-02-17T10:19:20.612Z"
   },
   {
    "duration": 35,
    "start_time": "2023-02-17T10:19:20.677Z"
   },
   {
    "duration": 10,
    "start_time": "2023-02-17T10:19:20.713Z"
   },
   {
    "duration": 101,
    "start_time": "2023-02-17T10:19:20.724Z"
   },
   {
    "duration": 6,
    "start_time": "2023-02-17T10:19:20.827Z"
   },
   {
    "duration": 352,
    "start_time": "2023-02-17T10:19:20.834Z"
   },
   {
    "duration": 43,
    "start_time": "2023-02-17T10:19:21.188Z"
   },
   {
    "duration": 48,
    "start_time": "2023-02-17T10:19:21.233Z"
   },
   {
    "duration": 15,
    "start_time": "2023-02-17T10:19:21.283Z"
   },
   {
    "duration": 249,
    "start_time": "2023-02-17T10:19:21.299Z"
   },
   {
    "duration": 39,
    "start_time": "2023-02-17T10:19:21.550Z"
   },
   {
    "duration": 77,
    "start_time": "2023-02-17T10:19:21.590Z"
   },
   {
    "duration": 7,
    "start_time": "2023-02-17T10:19:21.669Z"
   },
   {
    "duration": 25,
    "start_time": "2023-02-17T10:19:21.678Z"
   },
   {
    "duration": 37,
    "start_time": "2023-02-17T10:19:21.705Z"
   },
   {
    "duration": 28,
    "start_time": "2023-02-17T10:19:21.745Z"
   },
   {
    "duration": 33,
    "start_time": "2023-02-17T10:19:21.774Z"
   },
   {
    "duration": 20,
    "start_time": "2023-02-17T10:19:21.809Z"
   },
   {
    "duration": 34,
    "start_time": "2023-02-17T10:19:21.831Z"
   },
   {
    "duration": 22,
    "start_time": "2023-02-17T10:19:21.868Z"
   },
   {
    "duration": 24,
    "start_time": "2023-02-17T10:19:21.893Z"
   },
   {
    "duration": 100,
    "start_time": "2023-02-17T10:19:21.919Z"
   },
   {
    "duration": 1277,
    "start_time": "2023-02-17T10:20:42.465Z"
   },
   {
    "duration": 194,
    "start_time": "2023-02-17T10:20:43.745Z"
   },
   {
    "duration": 39,
    "start_time": "2023-02-17T10:20:43.941Z"
   },
   {
    "duration": 4,
    "start_time": "2023-02-17T10:20:43.981Z"
   },
   {
    "duration": 27,
    "start_time": "2023-02-17T10:20:43.987Z"
   },
   {
    "duration": 92,
    "start_time": "2023-02-17T10:20:44.016Z"
   },
   {
    "duration": 90,
    "start_time": "2023-02-17T10:20:44.110Z"
   },
   {
    "duration": 15,
    "start_time": "2023-02-17T10:20:44.202Z"
   },
   {
    "duration": 58,
    "start_time": "2023-02-17T10:20:44.219Z"
   },
   {
    "duration": 36,
    "start_time": "2023-02-17T10:20:44.280Z"
   },
   {
    "duration": 9,
    "start_time": "2023-02-17T10:20:44.318Z"
   },
   {
    "duration": 80,
    "start_time": "2023-02-17T10:20:44.349Z"
   },
   {
    "duration": 25,
    "start_time": "2023-02-17T10:20:44.430Z"
   },
   {
    "duration": 330,
    "start_time": "2023-02-17T10:20:44.463Z"
   },
   {
    "duration": 42,
    "start_time": "2023-02-17T10:20:44.795Z"
   },
   {
    "duration": 50,
    "start_time": "2023-02-17T10:20:44.838Z"
   },
   {
    "duration": 15,
    "start_time": "2023-02-17T10:20:44.890Z"
   },
   {
    "duration": 221,
    "start_time": "2023-02-17T10:20:44.907Z"
   },
   {
    "duration": 34,
    "start_time": "2023-02-17T10:20:45.130Z"
   },
   {
    "duration": 56,
    "start_time": "2023-02-17T10:20:45.166Z"
   },
   {
    "duration": 26,
    "start_time": "2023-02-17T10:20:45.224Z"
   },
   {
    "duration": 29,
    "start_time": "2023-02-17T10:20:45.253Z"
   },
   {
    "duration": 31,
    "start_time": "2023-02-17T10:20:45.284Z"
   },
   {
    "duration": 19,
    "start_time": "2023-02-17T10:20:45.317Z"
   },
   {
    "duration": 28,
    "start_time": "2023-02-17T10:20:45.338Z"
   },
   {
    "duration": 5,
    "start_time": "2023-02-17T10:20:45.368Z"
   },
   {
    "duration": 1279,
    "start_time": "2023-02-17T10:22:03.836Z"
   },
   {
    "duration": 182,
    "start_time": "2023-02-17T10:22:05.118Z"
   },
   {
    "duration": 31,
    "start_time": "2023-02-17T10:22:05.302Z"
   },
   {
    "duration": 15,
    "start_time": "2023-02-17T10:22:05.335Z"
   },
   {
    "duration": 24,
    "start_time": "2023-02-17T10:22:05.357Z"
   },
   {
    "duration": 91,
    "start_time": "2023-02-17T10:22:05.383Z"
   },
   {
    "duration": 96,
    "start_time": "2023-02-17T10:22:05.476Z"
   },
   {
    "duration": 15,
    "start_time": "2023-02-17T10:22:05.573Z"
   },
   {
    "duration": 34,
    "start_time": "2023-02-17T10:22:05.590Z"
   },
   {
    "duration": 58,
    "start_time": "2023-02-17T10:22:05.626Z"
   },
   {
    "duration": 11,
    "start_time": "2023-02-17T10:22:05.687Z"
   },
   {
    "duration": 105,
    "start_time": "2023-02-17T10:22:05.699Z"
   },
   {
    "duration": 5,
    "start_time": "2023-02-17T10:22:05.806Z"
   },
   {
    "duration": 354,
    "start_time": "2023-02-17T10:22:05.814Z"
   },
   {
    "duration": 43,
    "start_time": "2023-02-17T10:22:06.170Z"
   },
   {
    "duration": 73,
    "start_time": "2023-02-17T10:22:06.215Z"
   },
   {
    "duration": 18,
    "start_time": "2023-02-17T10:22:06.291Z"
   },
   {
    "duration": 277,
    "start_time": "2023-02-17T10:22:06.311Z"
   },
   {
    "duration": 46,
    "start_time": "2023-02-17T10:22:06.590Z"
   },
   {
    "duration": 81,
    "start_time": "2023-02-17T10:22:06.649Z"
   },
   {
    "duration": 21,
    "start_time": "2023-02-17T10:22:06.732Z"
   },
   {
    "duration": 18,
    "start_time": "2023-02-17T10:22:06.757Z"
   },
   {
    "duration": 29,
    "start_time": "2023-02-17T10:22:06.777Z"
   },
   {
    "duration": 16,
    "start_time": "2023-02-17T10:22:06.808Z"
   },
   {
    "duration": 47,
    "start_time": "2023-02-17T10:22:06.825Z"
   },
   {
    "duration": 8,
    "start_time": "2023-02-17T10:22:06.874Z"
   },
   {
    "duration": 9,
    "start_time": "2023-02-17T10:22:06.884Z"
   },
   {
    "duration": 87,
    "start_time": "2023-02-17T10:22:06.895Z"
   },
   {
    "duration": 0,
    "start_time": "2023-02-17T10:22:06.984Z"
   },
   {
    "duration": 0,
    "start_time": "2023-02-17T10:22:06.985Z"
   },
   {
    "duration": 0,
    "start_time": "2023-02-17T10:22:06.986Z"
   },
   {
    "duration": 15,
    "start_time": "2023-02-17T10:22:37.604Z"
   },
   {
    "duration": 199,
    "start_time": "2023-02-17T10:22:49.973Z"
   },
   {
    "duration": 219,
    "start_time": "2023-02-17T10:23:09.472Z"
   },
   {
    "duration": 221,
    "start_time": "2023-02-17T10:23:50.689Z"
   },
   {
    "duration": 236,
    "start_time": "2023-02-17T10:24:03.272Z"
   },
   {
    "duration": 219,
    "start_time": "2023-02-17T10:24:08.071Z"
   },
   {
    "duration": 308,
    "start_time": "2023-02-17T10:25:28.117Z"
   },
   {
    "duration": 3,
    "start_time": "2023-02-17T10:25:29.790Z"
   },
   {
    "duration": 3,
    "start_time": "2023-02-17T10:25:30.423Z"
   },
   {
    "duration": 105,
    "start_time": "2023-02-17T10:25:30.998Z"
   },
   {
    "duration": 121,
    "start_time": "2023-02-17T10:25:37.065Z"
   },
   {
    "duration": 1272,
    "start_time": "2023-02-17T10:25:45.769Z"
   },
   {
    "duration": 182,
    "start_time": "2023-02-17T10:25:47.043Z"
   },
   {
    "duration": 39,
    "start_time": "2023-02-17T10:25:47.227Z"
   },
   {
    "duration": 3,
    "start_time": "2023-02-17T10:25:47.268Z"
   },
   {
    "duration": 27,
    "start_time": "2023-02-17T10:25:47.272Z"
   },
   {
    "duration": 78,
    "start_time": "2023-02-17T10:25:47.301Z"
   },
   {
    "duration": 90,
    "start_time": "2023-02-17T10:25:47.381Z"
   },
   {
    "duration": 15,
    "start_time": "2023-02-17T10:25:47.473Z"
   },
   {
    "duration": 27,
    "start_time": "2023-02-17T10:25:47.489Z"
   },
   {
    "duration": 62,
    "start_time": "2023-02-17T10:25:47.518Z"
   },
   {
    "duration": 15,
    "start_time": "2023-02-17T10:25:47.582Z"
   },
   {
    "duration": 93,
    "start_time": "2023-02-17T10:25:47.599Z"
   },
   {
    "duration": 6,
    "start_time": "2023-02-17T10:25:47.695Z"
   },
   {
    "duration": 362,
    "start_time": "2023-02-17T10:25:47.703Z"
   },
   {
    "duration": 44,
    "start_time": "2023-02-17T10:25:48.067Z"
   },
   {
    "duration": 55,
    "start_time": "2023-02-17T10:25:48.113Z"
   },
   {
    "duration": 15,
    "start_time": "2023-02-17T10:25:48.171Z"
   },
   {
    "duration": 234,
    "start_time": "2023-02-17T10:25:48.188Z"
   },
   {
    "duration": 50,
    "start_time": "2023-02-17T10:25:48.425Z"
   },
   {
    "duration": 84,
    "start_time": "2023-02-17T10:25:48.477Z"
   },
   {
    "duration": 9,
    "start_time": "2023-02-17T10:25:48.563Z"
   },
   {
    "duration": 14,
    "start_time": "2023-02-17T10:25:48.574Z"
   },
   {
    "duration": 41,
    "start_time": "2023-02-17T10:25:48.590Z"
   },
   {
    "duration": 30,
    "start_time": "2023-02-17T10:25:48.633Z"
   },
   {
    "duration": 29,
    "start_time": "2023-02-17T10:25:48.665Z"
   },
   {
    "duration": 5,
    "start_time": "2023-02-17T10:25:48.696Z"
   },
   {
    "duration": 223,
    "start_time": "2023-02-17T10:25:48.703Z"
   },
   {
    "duration": 219,
    "start_time": "2023-02-17T10:25:48.929Z"
   },
   {
    "duration": 7,
    "start_time": "2023-02-17T10:25:49.149Z"
   },
   {
    "duration": 12,
    "start_time": "2023-02-17T10:25:49.161Z"
   },
   {
    "duration": 111,
    "start_time": "2023-02-17T10:25:49.174Z"
   },
   {
    "duration": 16,
    "start_time": "2023-02-17T10:28:21.844Z"
   },
   {
    "duration": 16,
    "start_time": "2023-02-17T10:32:54.757Z"
   },
   {
    "duration": 7,
    "start_time": "2023-02-17T10:33:03.962Z"
   },
   {
    "duration": 74,
    "start_time": "2023-02-17T10:33:58.879Z"
   },
   {
    "duration": 14,
    "start_time": "2023-02-17T10:34:08.329Z"
   },
   {
    "duration": 6,
    "start_time": "2023-02-17T10:34:29.481Z"
   },
   {
    "duration": 18,
    "start_time": "2023-02-17T10:34:59.330Z"
   },
   {
    "duration": 5,
    "start_time": "2023-02-17T10:35:09.262Z"
   },
   {
    "duration": 10,
    "start_time": "2023-02-17T10:35:15.129Z"
   },
   {
    "duration": 4,
    "start_time": "2023-02-17T10:36:18.820Z"
   },
   {
    "duration": 12,
    "start_time": "2023-02-17T10:36:43.582Z"
   },
   {
    "duration": 11,
    "start_time": "2023-02-17T10:36:48.902Z"
   },
   {
    "duration": 10,
    "start_time": "2023-02-17T10:37:49.833Z"
   },
   {
    "duration": 8,
    "start_time": "2023-02-17T10:40:49.365Z"
   },
   {
    "duration": 8,
    "start_time": "2023-02-17T10:42:30.858Z"
   },
   {
    "duration": 8,
    "start_time": "2023-02-17T10:42:38.214Z"
   },
   {
    "duration": 5,
    "start_time": "2023-02-17T10:43:27.114Z"
   },
   {
    "duration": 8,
    "start_time": "2023-02-17T10:43:40.464Z"
   },
   {
    "duration": 14,
    "start_time": "2023-02-17T10:44:03.147Z"
   },
   {
    "duration": 10,
    "start_time": "2023-02-17T10:45:35.300Z"
   },
   {
    "duration": 11,
    "start_time": "2023-02-17T10:45:51.867Z"
   },
   {
    "duration": 10,
    "start_time": "2023-02-17T10:46:18.979Z"
   },
   {
    "duration": 86,
    "start_time": "2023-02-17T10:47:44.297Z"
   },
   {
    "duration": 82,
    "start_time": "2023-02-17T10:48:01.452Z"
   },
   {
    "duration": 76,
    "start_time": "2023-02-17T10:48:36.676Z"
   },
   {
    "duration": 4,
    "start_time": "2023-02-17T10:48:59.475Z"
   },
   {
    "duration": 10,
    "start_time": "2023-02-17T10:49:19.708Z"
   },
   {
    "duration": 10,
    "start_time": "2023-02-17T10:50:05.848Z"
   },
   {
    "duration": 14,
    "start_time": "2023-02-17T10:55:08.031Z"
   },
   {
    "duration": 10,
    "start_time": "2023-02-17T10:55:23.385Z"
   },
   {
    "duration": 6,
    "start_time": "2023-02-17T10:56:27.298Z"
   },
   {
    "duration": 13,
    "start_time": "2023-02-17T10:56:42.963Z"
   },
   {
    "duration": 8,
    "start_time": "2023-02-17T10:56:53.834Z"
   },
   {
    "duration": 379,
    "start_time": "2023-02-17T10:58:55.411Z"
   },
   {
    "duration": 325,
    "start_time": "2023-02-17T10:59:15.081Z"
   },
   {
    "duration": 79,
    "start_time": "2023-02-17T10:59:29.071Z"
   },
   {
    "duration": 353,
    "start_time": "2023-02-17T10:59:34.988Z"
   },
   {
    "duration": 26,
    "start_time": "2023-02-17T11:00:09.012Z"
   },
   {
    "duration": 63,
    "start_time": "2023-02-17T11:00:26.467Z"
   },
   {
    "duration": 46,
    "start_time": "2023-02-17T11:01:21.595Z"
   },
   {
    "duration": 6,
    "start_time": "2023-02-17T11:01:57.780Z"
   },
   {
    "duration": 5,
    "start_time": "2023-02-17T11:02:12.785Z"
   },
   {
    "duration": 102,
    "start_time": "2023-02-17T11:03:12.938Z"
   },
   {
    "duration": 49,
    "start_time": "2023-02-17T11:04:18.131Z"
   },
   {
    "duration": 5,
    "start_time": "2023-02-17T11:13:43.566Z"
   },
   {
    "duration": 1245,
    "start_time": "2023-02-17T11:13:51.489Z"
   },
   {
    "duration": 200,
    "start_time": "2023-02-17T11:13:52.736Z"
   },
   {
    "duration": 34,
    "start_time": "2023-02-17T11:13:52.937Z"
   },
   {
    "duration": 3,
    "start_time": "2023-02-17T11:13:52.973Z"
   },
   {
    "duration": 23,
    "start_time": "2023-02-17T11:13:52.979Z"
   },
   {
    "duration": 114,
    "start_time": "2023-02-17T11:13:53.004Z"
   },
   {
    "duration": 91,
    "start_time": "2023-02-17T11:13:53.119Z"
   },
   {
    "duration": 16,
    "start_time": "2023-02-17T11:13:53.212Z"
   },
   {
    "duration": 39,
    "start_time": "2023-02-17T11:13:53.229Z"
   },
   {
    "duration": 33,
    "start_time": "2023-02-17T11:13:53.272Z"
   },
   {
    "duration": 10,
    "start_time": "2023-02-17T11:13:53.307Z"
   },
   {
    "duration": 153,
    "start_time": "2023-02-17T11:13:53.318Z"
   },
   {
    "duration": 7,
    "start_time": "2023-02-17T11:13:53.473Z"
   },
   {
    "duration": 415,
    "start_time": "2023-02-17T11:13:53.483Z"
   },
   {
    "duration": 54,
    "start_time": "2023-02-17T11:13:53.900Z"
   },
   {
    "duration": 34,
    "start_time": "2023-02-17T11:13:53.964Z"
   },
   {
    "duration": 16,
    "start_time": "2023-02-17T11:13:54.000Z"
   },
   {
    "duration": 218,
    "start_time": "2023-02-17T11:13:54.017Z"
   },
   {
    "duration": 46,
    "start_time": "2023-02-17T11:13:54.236Z"
   },
   {
    "duration": 77,
    "start_time": "2023-02-17T11:13:54.284Z"
   },
   {
    "duration": 12,
    "start_time": "2023-02-17T11:13:54.370Z"
   },
   {
    "duration": 9,
    "start_time": "2023-02-17T11:13:54.384Z"
   },
   {
    "duration": 20,
    "start_time": "2023-02-17T11:13:54.394Z"
   },
   {
    "duration": 16,
    "start_time": "2023-02-17T11:13:54.416Z"
   },
   {
    "duration": 41,
    "start_time": "2023-02-17T11:13:54.433Z"
   },
   {
    "duration": 7,
    "start_time": "2023-02-17T11:13:54.476Z"
   },
   {
    "duration": 227,
    "start_time": "2023-02-17T11:13:54.484Z"
   },
   {
    "duration": 217,
    "start_time": "2023-02-17T11:13:54.713Z"
   },
   {
    "duration": 10,
    "start_time": "2023-02-17T11:13:54.931Z"
   },
   {
    "duration": 14,
    "start_time": "2023-02-17T11:13:54.952Z"
   },
   {
    "duration": 28,
    "start_time": "2023-02-17T11:13:54.968Z"
   },
   {
    "duration": 4,
    "start_time": "2023-02-17T11:13:54.998Z"
   },
   {
    "duration": 7,
    "start_time": "2023-02-17T11:17:29.245Z"
   },
   {
    "duration": 158,
    "start_time": "2023-02-17T11:18:19.546Z"
   },
   {
    "duration": 114,
    "start_time": "2023-02-17T11:19:35.126Z"
   },
   {
    "duration": 10,
    "start_time": "2023-02-17T11:19:43.184Z"
   },
   {
    "duration": 12,
    "start_time": "2023-02-17T11:20:01.137Z"
   },
   {
    "duration": 11,
    "start_time": "2023-02-17T11:20:15.609Z"
   },
   {
    "duration": 21,
    "start_time": "2023-02-17T11:20:42.444Z"
   },
   {
    "duration": 37,
    "start_time": "2023-02-17T11:20:49.440Z"
   },
   {
    "duration": 5,
    "start_time": "2023-02-17T11:22:32.589Z"
   },
   {
    "duration": 1338,
    "start_time": "2023-02-17T11:22:39.991Z"
   },
   {
    "duration": 56,
    "start_time": "2023-02-17T11:23:06.767Z"
   },
   {
    "duration": 59,
    "start_time": "2023-02-17T11:24:11.534Z"
   },
   {
    "duration": 66,
    "start_time": "2023-02-17T11:26:03.396Z"
   },
   {
    "duration": 1562,
    "start_time": "2023-02-17T11:26:09.892Z"
   },
   {
    "duration": 646,
    "start_time": "2023-02-17T11:26:11.459Z"
   },
   {
    "duration": 55,
    "start_time": "2023-02-17T11:26:12.108Z"
   },
   {
    "duration": 7,
    "start_time": "2023-02-17T11:26:12.164Z"
   },
   {
    "duration": 21,
    "start_time": "2023-02-17T11:26:12.175Z"
   },
   {
    "duration": 80,
    "start_time": "2023-02-17T11:26:12.198Z"
   },
   {
    "duration": 88,
    "start_time": "2023-02-17T11:26:12.280Z"
   },
   {
    "duration": 16,
    "start_time": "2023-02-17T11:26:12.371Z"
   },
   {
    "duration": 28,
    "start_time": "2023-02-17T11:26:12.389Z"
   },
   {
    "duration": 62,
    "start_time": "2023-02-17T11:26:12.418Z"
   },
   {
    "duration": 13,
    "start_time": "2023-02-17T11:26:12.482Z"
   },
   {
    "duration": 127,
    "start_time": "2023-02-17T11:26:12.497Z"
   },
   {
    "duration": 6,
    "start_time": "2023-02-17T11:26:12.626Z"
   },
   {
    "duration": 336,
    "start_time": "2023-02-17T11:26:12.635Z"
   },
   {
    "duration": 43,
    "start_time": "2023-02-17T11:26:12.973Z"
   },
   {
    "duration": 61,
    "start_time": "2023-02-17T11:26:13.018Z"
   },
   {
    "duration": 14,
    "start_time": "2023-02-17T11:26:13.081Z"
   },
   {
    "duration": 246,
    "start_time": "2023-02-17T11:26:13.097Z"
   },
   {
    "duration": 44,
    "start_time": "2023-02-17T11:26:13.344Z"
   },
   {
    "duration": 94,
    "start_time": "2023-02-17T11:26:13.389Z"
   },
   {
    "duration": 23,
    "start_time": "2023-02-17T11:26:13.485Z"
   },
   {
    "duration": 15,
    "start_time": "2023-02-17T11:26:13.510Z"
   },
   {
    "duration": 27,
    "start_time": "2023-02-17T11:26:13.527Z"
   },
   {
    "duration": 20,
    "start_time": "2023-02-17T11:26:13.559Z"
   },
   {
    "duration": 24,
    "start_time": "2023-02-17T11:26:13.581Z"
   },
   {
    "duration": 5,
    "start_time": "2023-02-17T11:26:13.607Z"
   },
   {
    "duration": 261,
    "start_time": "2023-02-17T11:26:13.614Z"
   },
   {
    "duration": 244,
    "start_time": "2023-02-17T11:26:13.877Z"
   },
   {
    "duration": 10,
    "start_time": "2023-02-17T11:26:14.123Z"
   },
   {
    "duration": 40,
    "start_time": "2023-02-17T11:26:14.135Z"
   },
   {
    "duration": 26,
    "start_time": "2023-02-17T11:26:14.177Z"
   },
   {
    "duration": 1273,
    "start_time": "2023-02-17T11:26:34.420Z"
   },
   {
    "duration": 635,
    "start_time": "2023-02-17T11:26:35.695Z"
   },
   {
    "duration": 55,
    "start_time": "2023-02-17T11:26:36.333Z"
   },
   {
    "duration": 7,
    "start_time": "2023-02-17T11:26:36.390Z"
   },
   {
    "duration": 52,
    "start_time": "2023-02-17T11:26:36.400Z"
   },
   {
    "duration": 144,
    "start_time": "2023-02-17T11:26:36.454Z"
   },
   {
    "duration": 88,
    "start_time": "2023-02-17T11:26:36.602Z"
   },
   {
    "duration": 15,
    "start_time": "2023-02-17T11:26:36.692Z"
   },
   {
    "duration": 43,
    "start_time": "2023-02-17T11:26:36.709Z"
   },
   {
    "duration": 47,
    "start_time": "2023-02-17T11:26:36.757Z"
   },
   {
    "duration": 9,
    "start_time": "2023-02-17T11:26:36.805Z"
   },
   {
    "duration": 128,
    "start_time": "2023-02-17T11:26:36.817Z"
   },
   {
    "duration": 11,
    "start_time": "2023-02-17T11:26:36.948Z"
   },
   {
    "duration": 364,
    "start_time": "2023-02-17T11:26:36.962Z"
   },
   {
    "duration": 67,
    "start_time": "2023-02-17T11:26:37.328Z"
   },
   {
    "duration": 36,
    "start_time": "2023-02-17T11:26:37.397Z"
   },
   {
    "duration": 31,
    "start_time": "2023-02-17T11:26:37.451Z"
   },
   {
    "duration": 218,
    "start_time": "2023-02-17T11:26:37.484Z"
   },
   {
    "duration": 57,
    "start_time": "2023-02-17T11:26:37.704Z"
   },
   {
    "duration": 74,
    "start_time": "2023-02-17T11:26:37.763Z"
   },
   {
    "duration": 14,
    "start_time": "2023-02-17T11:26:37.839Z"
   },
   {
    "duration": 44,
    "start_time": "2023-02-17T11:26:37.855Z"
   },
   {
    "duration": 36,
    "start_time": "2023-02-17T11:26:37.901Z"
   },
   {
    "duration": 32,
    "start_time": "2023-02-17T11:26:37.939Z"
   },
   {
    "duration": 48,
    "start_time": "2023-02-17T11:26:37.973Z"
   },
   {
    "duration": 15,
    "start_time": "2023-02-17T11:26:38.023Z"
   },
   {
    "duration": 227,
    "start_time": "2023-02-17T11:26:38.040Z"
   },
   {
    "duration": 236,
    "start_time": "2023-02-17T11:26:38.269Z"
   },
   {
    "duration": 10,
    "start_time": "2023-02-17T11:26:38.507Z"
   },
   {
    "duration": 21,
    "start_time": "2023-02-17T11:26:38.519Z"
   },
   {
    "duration": 42,
    "start_time": "2023-02-17T11:26:38.550Z"
   },
   {
    "duration": 101,
    "start_time": "2023-02-17T11:28:07.937Z"
   },
   {
    "duration": 82,
    "start_time": "2023-02-17T11:28:17.142Z"
   },
   {
    "duration": 54,
    "start_time": "2023-02-17T11:28:22.838Z"
   },
   {
    "duration": 1390,
    "start_time": "2023-02-17T11:28:34.432Z"
   },
   {
    "duration": 693,
    "start_time": "2023-02-17T11:28:35.824Z"
   },
   {
    "duration": 53,
    "start_time": "2023-02-17T11:28:36.520Z"
   },
   {
    "duration": 27,
    "start_time": "2023-02-17T11:28:36.577Z"
   },
   {
    "duration": 33,
    "start_time": "2023-02-17T11:28:36.607Z"
   },
   {
    "duration": 138,
    "start_time": "2023-02-17T11:28:36.643Z"
   },
   {
    "duration": 84,
    "start_time": "2023-02-17T11:28:36.784Z"
   },
   {
    "duration": 15,
    "start_time": "2023-02-17T11:28:36.871Z"
   },
   {
    "duration": 26,
    "start_time": "2023-02-17T11:28:36.888Z"
   },
   {
    "duration": 60,
    "start_time": "2023-02-17T11:28:36.917Z"
   },
   {
    "duration": 13,
    "start_time": "2023-02-17T11:28:36.979Z"
   },
   {
    "duration": 102,
    "start_time": "2023-02-17T11:28:36.995Z"
   },
   {
    "duration": 5,
    "start_time": "2023-02-17T11:28:37.099Z"
   },
   {
    "duration": 350,
    "start_time": "2023-02-17T11:28:37.106Z"
   },
   {
    "duration": 56,
    "start_time": "2023-02-17T11:28:37.457Z"
   },
   {
    "duration": 42,
    "start_time": "2023-02-17T11:28:37.515Z"
   },
   {
    "duration": 17,
    "start_time": "2023-02-17T11:28:37.565Z"
   },
   {
    "duration": 209,
    "start_time": "2023-02-17T11:28:37.584Z"
   },
   {
    "duration": 34,
    "start_time": "2023-02-17T11:28:37.794Z"
   },
   {
    "duration": 87,
    "start_time": "2023-02-17T11:28:37.830Z"
   },
   {
    "duration": 8,
    "start_time": "2023-02-17T11:28:37.919Z"
   },
   {
    "duration": 24,
    "start_time": "2023-02-17T11:28:37.929Z"
   },
   {
    "duration": 35,
    "start_time": "2023-02-17T11:28:37.961Z"
   },
   {
    "duration": 14,
    "start_time": "2023-02-17T11:28:37.998Z"
   },
   {
    "duration": 49,
    "start_time": "2023-02-17T11:28:38.015Z"
   },
   {
    "duration": 7,
    "start_time": "2023-02-17T11:28:38.066Z"
   },
   {
    "duration": 226,
    "start_time": "2023-02-17T11:28:38.075Z"
   },
   {
    "duration": 258,
    "start_time": "2023-02-17T11:28:38.305Z"
   },
   {
    "duration": 12,
    "start_time": "2023-02-17T11:28:38.564Z"
   },
   {
    "duration": 11,
    "start_time": "2023-02-17T11:28:38.577Z"
   },
   {
    "duration": 29,
    "start_time": "2023-02-17T11:28:38.589Z"
   },
   {
    "duration": 78,
    "start_time": "2023-02-17T11:34:16.514Z"
   },
   {
    "duration": 1251,
    "start_time": "2023-02-17T11:34:23.733Z"
   },
   {
    "duration": 592,
    "start_time": "2023-02-17T11:34:24.987Z"
   },
   {
    "duration": 29,
    "start_time": "2023-02-17T11:34:25.581Z"
   },
   {
    "duration": 3,
    "start_time": "2023-02-17T11:34:25.612Z"
   },
   {
    "duration": 17,
    "start_time": "2023-02-17T11:34:25.617Z"
   },
   {
    "duration": 68,
    "start_time": "2023-02-17T11:34:25.635Z"
   },
   {
    "duration": 86,
    "start_time": "2023-02-17T11:34:25.705Z"
   },
   {
    "duration": 15,
    "start_time": "2023-02-17T11:34:25.793Z"
   },
   {
    "duration": 43,
    "start_time": "2023-02-17T11:34:25.810Z"
   },
   {
    "duration": 44,
    "start_time": "2023-02-17T11:34:25.861Z"
   },
   {
    "duration": 9,
    "start_time": "2023-02-17T11:34:25.907Z"
   },
   {
    "duration": 100,
    "start_time": "2023-02-17T11:34:25.917Z"
   },
   {
    "duration": 5,
    "start_time": "2023-02-17T11:34:26.019Z"
   },
   {
    "duration": 315,
    "start_time": "2023-02-17T11:34:26.026Z"
   },
   {
    "duration": 47,
    "start_time": "2023-02-17T11:34:26.343Z"
   },
   {
    "duration": 33,
    "start_time": "2023-02-17T11:34:26.392Z"
   },
   {
    "duration": 39,
    "start_time": "2023-02-17T11:34:26.426Z"
   },
   {
    "duration": 206,
    "start_time": "2023-02-17T11:34:26.467Z"
   },
   {
    "duration": 33,
    "start_time": "2023-02-17T11:34:26.674Z"
   },
   {
    "duration": 85,
    "start_time": "2023-02-17T11:34:26.709Z"
   },
   {
    "duration": 10,
    "start_time": "2023-02-17T11:34:26.796Z"
   },
   {
    "duration": 11,
    "start_time": "2023-02-17T11:34:26.809Z"
   },
   {
    "duration": 46,
    "start_time": "2023-02-17T11:34:26.823Z"
   },
   {
    "duration": 48,
    "start_time": "2023-02-17T11:34:26.871Z"
   },
   {
    "duration": 25,
    "start_time": "2023-02-17T11:34:26.921Z"
   },
   {
    "duration": 21,
    "start_time": "2023-02-17T11:34:26.954Z"
   },
   {
    "duration": 298,
    "start_time": "2023-02-17T11:34:26.977Z"
   },
   {
    "duration": 224,
    "start_time": "2023-02-17T11:34:27.279Z"
   },
   {
    "duration": 9,
    "start_time": "2023-02-17T11:34:27.506Z"
   },
   {
    "duration": 10,
    "start_time": "2023-02-17T11:34:27.517Z"
   },
   {
    "duration": 45,
    "start_time": "2023-02-17T11:34:27.528Z"
   },
   {
    "duration": 129,
    "start_time": "2023-02-17T11:34:27.575Z"
   },
   {
    "duration": 4,
    "start_time": "2023-02-17T11:34:27.706Z"
   },
   {
    "duration": 230,
    "start_time": "2023-02-17T11:34:51.190Z"
   },
   {
    "duration": 87,
    "start_time": "2023-02-17T11:37:41.506Z"
   },
   {
    "duration": 65,
    "start_time": "2023-02-17T11:37:48.980Z"
   },
   {
    "duration": 11,
    "start_time": "2023-02-17T11:42:16.766Z"
   },
   {
    "duration": 45,
    "start_time": "2023-02-17T11:42:30.473Z"
   },
   {
    "duration": 1222,
    "start_time": "2023-02-17T11:42:36.447Z"
   },
   {
    "duration": 629,
    "start_time": "2023-02-17T11:42:37.671Z"
   },
   {
    "duration": 30,
    "start_time": "2023-02-17T11:42:38.302Z"
   },
   {
    "duration": 29,
    "start_time": "2023-02-17T11:42:38.334Z"
   },
   {
    "duration": 56,
    "start_time": "2023-02-17T11:42:38.365Z"
   },
   {
    "duration": 99,
    "start_time": "2023-02-17T11:42:38.423Z"
   },
   {
    "duration": 75,
    "start_time": "2023-02-17T11:42:38.523Z"
   },
   {
    "duration": 15,
    "start_time": "2023-02-17T11:42:38.600Z"
   },
   {
    "duration": 61,
    "start_time": "2023-02-17T11:42:38.617Z"
   },
   {
    "duration": 51,
    "start_time": "2023-02-17T11:42:38.680Z"
   },
   {
    "duration": 37,
    "start_time": "2023-02-17T11:42:38.732Z"
   },
   {
    "duration": 108,
    "start_time": "2023-02-17T11:42:38.771Z"
   },
   {
    "duration": 6,
    "start_time": "2023-02-17T11:42:38.881Z"
   },
   {
    "duration": 328,
    "start_time": "2023-02-17T11:42:38.892Z"
   },
   {
    "duration": 66,
    "start_time": "2023-02-17T11:42:39.222Z"
   },
   {
    "duration": 33,
    "start_time": "2023-02-17T11:42:39.290Z"
   },
   {
    "duration": 31,
    "start_time": "2023-02-17T11:42:39.325Z"
   },
   {
    "duration": 207,
    "start_time": "2023-02-17T11:42:39.358Z"
   },
   {
    "duration": 30,
    "start_time": "2023-02-17T11:42:39.567Z"
   },
   {
    "duration": 79,
    "start_time": "2023-02-17T11:42:39.599Z"
   },
   {
    "duration": 9,
    "start_time": "2023-02-17T11:42:39.679Z"
   },
   {
    "duration": 9,
    "start_time": "2023-02-17T11:42:39.690Z"
   },
   {
    "duration": 19,
    "start_time": "2023-02-17T11:42:39.700Z"
   },
   {
    "duration": 42,
    "start_time": "2023-02-17T11:42:39.721Z"
   },
   {
    "duration": 22,
    "start_time": "2023-02-17T11:42:39.765Z"
   },
   {
    "duration": 6,
    "start_time": "2023-02-17T11:42:39.789Z"
   },
   {
    "duration": 240,
    "start_time": "2023-02-17T11:42:39.797Z"
   },
   {
    "duration": 227,
    "start_time": "2023-02-17T11:42:40.038Z"
   },
   {
    "duration": 9,
    "start_time": "2023-02-17T11:42:40.268Z"
   },
   {
    "duration": 11,
    "start_time": "2023-02-17T11:42:40.278Z"
   },
   {
    "duration": 1520,
    "start_time": "2023-02-17T11:42:40.290Z"
   },
   {
    "duration": 0,
    "start_time": "2023-02-17T11:42:41.811Z"
   },
   {
    "duration": 0,
    "start_time": "2023-02-17T11:42:41.813Z"
   },
   {
    "duration": 1350,
    "start_time": "2023-02-17T11:42:56.787Z"
   },
   {
    "duration": 1673,
    "start_time": "2023-02-17T11:43:52.203Z"
   },
   {
    "duration": 610,
    "start_time": "2023-02-17T11:43:53.878Z"
   },
   {
    "duration": 29,
    "start_time": "2023-02-17T11:43:54.490Z"
   },
   {
    "duration": 3,
    "start_time": "2023-02-17T11:43:54.522Z"
   },
   {
    "duration": 13,
    "start_time": "2023-02-17T11:43:54.528Z"
   },
   {
    "duration": 72,
    "start_time": "2023-02-17T11:43:54.543Z"
   },
   {
    "duration": 95,
    "start_time": "2023-02-17T11:43:54.617Z"
   },
   {
    "duration": 15,
    "start_time": "2023-02-17T11:43:54.714Z"
   },
   {
    "duration": 51,
    "start_time": "2023-02-17T11:43:54.731Z"
   },
   {
    "duration": 35,
    "start_time": "2023-02-17T11:43:54.784Z"
   },
   {
    "duration": 37,
    "start_time": "2023-02-17T11:43:54.821Z"
   },
   {
    "duration": 95,
    "start_time": "2023-02-17T11:43:54.859Z"
   },
   {
    "duration": 10,
    "start_time": "2023-02-17T11:43:54.958Z"
   },
   {
    "duration": 351,
    "start_time": "2023-02-17T11:43:54.973Z"
   },
   {
    "duration": 56,
    "start_time": "2023-02-17T11:43:55.326Z"
   },
   {
    "duration": 36,
    "start_time": "2023-02-17T11:43:55.384Z"
   },
   {
    "duration": 37,
    "start_time": "2023-02-17T11:43:55.422Z"
   },
   {
    "duration": 210,
    "start_time": "2023-02-17T11:43:55.467Z"
   },
   {
    "duration": 31,
    "start_time": "2023-02-17T11:43:55.678Z"
   },
   {
    "duration": 78,
    "start_time": "2023-02-17T11:43:55.711Z"
   },
   {
    "duration": 9,
    "start_time": "2023-02-17T11:43:55.791Z"
   },
   {
    "duration": 24,
    "start_time": "2023-02-17T11:43:55.802Z"
   },
   {
    "duration": 47,
    "start_time": "2023-02-17T11:43:55.828Z"
   },
   {
    "duration": 28,
    "start_time": "2023-02-17T11:43:55.877Z"
   },
   {
    "duration": 86,
    "start_time": "2023-02-17T11:43:55.907Z"
   },
   {
    "duration": 21,
    "start_time": "2023-02-17T11:43:55.995Z"
   },
   {
    "duration": 218,
    "start_time": "2023-02-17T11:43:56.018Z"
   },
   {
    "duration": 252,
    "start_time": "2023-02-17T11:43:56.238Z"
   },
   {
    "duration": 12,
    "start_time": "2023-02-17T11:43:56.493Z"
   },
   {
    "duration": 40,
    "start_time": "2023-02-17T11:43:56.507Z"
   },
   {
    "duration": 113,
    "start_time": "2023-02-17T11:44:58.799Z"
   },
   {
    "duration": 74,
    "start_time": "2023-02-17T11:45:28.931Z"
   },
   {
    "duration": 73,
    "start_time": "2023-02-17T11:47:36.666Z"
   },
   {
    "duration": 1437,
    "start_time": "2023-02-17T11:47:42.309Z"
   },
   {
    "duration": 679,
    "start_time": "2023-02-17T11:47:43.753Z"
   },
   {
    "duration": 41,
    "start_time": "2023-02-17T11:47:44.434Z"
   },
   {
    "duration": 23,
    "start_time": "2023-02-17T11:47:44.477Z"
   },
   {
    "duration": 20,
    "start_time": "2023-02-17T11:47:44.503Z"
   },
   {
    "duration": 110,
    "start_time": "2023-02-17T11:47:44.525Z"
   },
   {
    "duration": 131,
    "start_time": "2023-02-17T11:47:44.638Z"
   },
   {
    "duration": 25,
    "start_time": "2023-02-17T11:47:44.772Z"
   },
   {
    "duration": 86,
    "start_time": "2023-02-17T11:47:44.800Z"
   },
   {
    "duration": 43,
    "start_time": "2023-02-17T11:47:44.888Z"
   },
   {
    "duration": 25,
    "start_time": "2023-02-17T11:47:44.933Z"
   },
   {
    "duration": 104,
    "start_time": "2023-02-17T11:47:44.960Z"
   },
   {
    "duration": 8,
    "start_time": "2023-02-17T11:47:45.069Z"
   },
   {
    "duration": 397,
    "start_time": "2023-02-17T11:47:45.081Z"
   },
   {
    "duration": 41,
    "start_time": "2023-02-17T11:47:45.480Z"
   },
   {
    "duration": 55,
    "start_time": "2023-02-17T11:47:45.523Z"
   },
   {
    "duration": 15,
    "start_time": "2023-02-17T11:47:45.581Z"
   },
   {
    "duration": 222,
    "start_time": "2023-02-17T11:47:45.598Z"
   },
   {
    "duration": 49,
    "start_time": "2023-02-17T11:47:45.822Z"
   },
   {
    "duration": 79,
    "start_time": "2023-02-17T11:47:45.873Z"
   },
   {
    "duration": 13,
    "start_time": "2023-02-17T11:47:45.956Z"
   },
   {
    "duration": 20,
    "start_time": "2023-02-17T11:47:45.971Z"
   },
   {
    "duration": 25,
    "start_time": "2023-02-17T11:47:45.994Z"
   },
   {
    "duration": 33,
    "start_time": "2023-02-17T11:47:46.021Z"
   },
   {
    "duration": 26,
    "start_time": "2023-02-17T11:47:46.057Z"
   },
   {
    "duration": 5,
    "start_time": "2023-02-17T11:47:46.085Z"
   },
   {
    "duration": 263,
    "start_time": "2023-02-17T11:47:46.093Z"
   },
   {
    "duration": 255,
    "start_time": "2023-02-17T11:47:46.358Z"
   },
   {
    "duration": 15,
    "start_time": "2023-02-17T11:47:46.615Z"
   },
   {
    "duration": 37,
    "start_time": "2023-02-17T11:47:46.632Z"
   },
   {
    "duration": 87,
    "start_time": "2023-02-17T11:47:46.673Z"
   },
   {
    "duration": 0,
    "start_time": "2023-02-17T11:47:46.762Z"
   },
   {
    "duration": 0,
    "start_time": "2023-02-17T11:47:46.763Z"
   },
   {
    "duration": 1494,
    "start_time": "2023-02-17T11:48:13.128Z"
   },
   {
    "duration": 1673,
    "start_time": "2023-02-17T11:48:25.722Z"
   },
   {
    "duration": 29,
    "start_time": "2023-02-17T11:55:04.668Z"
   },
   {
    "duration": 99,
    "start_time": "2023-02-17T11:55:43.803Z"
   },
   {
    "duration": 23,
    "start_time": "2023-02-17T11:55:58.850Z"
   },
   {
    "duration": 30,
    "start_time": "2023-02-17T11:57:50.970Z"
   },
   {
    "duration": 1316,
    "start_time": "2023-02-17T11:57:58.220Z"
   },
   {
    "duration": 188,
    "start_time": "2023-02-17T11:57:59.539Z"
   },
   {
    "duration": 48,
    "start_time": "2023-02-17T11:57:59.729Z"
   },
   {
    "duration": 14,
    "start_time": "2023-02-17T11:57:59.779Z"
   },
   {
    "duration": 19,
    "start_time": "2023-02-17T11:57:59.796Z"
   },
   {
    "duration": 95,
    "start_time": "2023-02-17T11:57:59.818Z"
   },
   {
    "duration": 106,
    "start_time": "2023-02-17T11:57:59.916Z"
   },
   {
    "duration": 32,
    "start_time": "2023-02-17T11:58:00.024Z"
   },
   {
    "duration": 83,
    "start_time": "2023-02-17T11:58:00.062Z"
   },
   {
    "duration": 59,
    "start_time": "2023-02-17T11:58:00.147Z"
   },
   {
    "duration": 12,
    "start_time": "2023-02-17T11:58:00.209Z"
   },
   {
    "duration": 104,
    "start_time": "2023-02-17T11:58:00.223Z"
   },
   {
    "duration": 21,
    "start_time": "2023-02-17T11:58:00.329Z"
   },
   {
    "duration": 358,
    "start_time": "2023-02-17T11:58:00.353Z"
   },
   {
    "duration": 71,
    "start_time": "2023-02-17T11:58:00.713Z"
   },
   {
    "duration": 47,
    "start_time": "2023-02-17T11:58:00.786Z"
   },
   {
    "duration": 24,
    "start_time": "2023-02-17T11:58:00.850Z"
   },
   {
    "duration": 264,
    "start_time": "2023-02-17T11:58:00.877Z"
   },
   {
    "duration": 52,
    "start_time": "2023-02-17T11:58:01.143Z"
   },
   {
    "duration": 114,
    "start_time": "2023-02-17T11:58:01.197Z"
   },
   {
    "duration": 9,
    "start_time": "2023-02-17T11:58:01.313Z"
   },
   {
    "duration": 56,
    "start_time": "2023-02-17T11:58:01.323Z"
   },
   {
    "duration": 50,
    "start_time": "2023-02-17T11:58:01.381Z"
   },
   {
    "duration": 45,
    "start_time": "2023-02-17T11:58:01.433Z"
   },
   {
    "duration": 121,
    "start_time": "2023-02-17T11:58:01.480Z"
   },
   {
    "duration": 9,
    "start_time": "2023-02-17T11:58:01.603Z"
   },
   {
    "duration": 262,
    "start_time": "2023-02-17T11:58:01.615Z"
   },
   {
    "duration": 247,
    "start_time": "2023-02-17T11:58:01.880Z"
   },
   {
    "duration": 23,
    "start_time": "2023-02-17T11:58:02.129Z"
   },
   {
    "duration": 18,
    "start_time": "2023-02-17T11:58:02.155Z"
   },
   {
    "duration": 27,
    "start_time": "2023-02-17T11:58:02.175Z"
   },
   {
    "duration": 126,
    "start_time": "2023-02-17T11:58:02.205Z"
   },
   {
    "duration": 0,
    "start_time": "2023-02-17T11:58:02.333Z"
   },
   {
    "duration": 28,
    "start_time": "2023-02-17T11:58:24.500Z"
   },
   {
    "duration": 33,
    "start_time": "2023-02-17T11:58:49.241Z"
   },
   {
    "duration": 5,
    "start_time": "2023-02-17T12:02:28.870Z"
   },
   {
    "duration": 30,
    "start_time": "2023-02-17T12:02:29.742Z"
   },
   {
    "duration": 1468,
    "start_time": "2023-02-17T12:04:40.171Z"
   },
   {
    "duration": 257,
    "start_time": "2023-02-17T12:04:41.642Z"
   },
   {
    "duration": 61,
    "start_time": "2023-02-17T12:04:41.901Z"
   },
   {
    "duration": 39,
    "start_time": "2023-02-17T12:04:41.964Z"
   },
   {
    "duration": 32,
    "start_time": "2023-02-17T12:04:42.006Z"
   },
   {
    "duration": 106,
    "start_time": "2023-02-17T12:04:42.040Z"
   },
   {
    "duration": 113,
    "start_time": "2023-02-17T12:04:42.150Z"
   },
   {
    "duration": 24,
    "start_time": "2023-02-17T12:04:42.265Z"
   },
   {
    "duration": 43,
    "start_time": "2023-02-17T12:04:42.291Z"
   },
   {
    "duration": 46,
    "start_time": "2023-02-17T12:04:42.351Z"
   },
   {
    "duration": 10,
    "start_time": "2023-02-17T12:04:42.399Z"
   },
   {
    "duration": 105,
    "start_time": "2023-02-17T12:04:42.411Z"
   },
   {
    "duration": 6,
    "start_time": "2023-02-17T12:04:42.519Z"
   },
   {
    "duration": 371,
    "start_time": "2023-02-17T12:04:42.528Z"
   },
   {
    "duration": 69,
    "start_time": "2023-02-17T12:04:42.902Z"
   },
   {
    "duration": 32,
    "start_time": "2023-02-17T12:04:42.973Z"
   },
   {
    "duration": 24,
    "start_time": "2023-02-17T12:04:43.008Z"
   },
   {
    "duration": 352,
    "start_time": "2023-02-17T12:04:43.034Z"
   },
   {
    "duration": 45,
    "start_time": "2023-02-17T12:04:43.391Z"
   },
   {
    "duration": 118,
    "start_time": "2023-02-17T12:04:43.450Z"
   },
   {
    "duration": 11,
    "start_time": "2023-02-17T12:04:43.571Z"
   },
   {
    "duration": 18,
    "start_time": "2023-02-17T12:04:43.584Z"
   },
   {
    "duration": 25,
    "start_time": "2023-02-17T12:04:43.604Z"
   },
   {
    "duration": 34,
    "start_time": "2023-02-17T12:04:43.631Z"
   },
   {
    "duration": 28,
    "start_time": "2023-02-17T12:04:43.666Z"
   },
   {
    "duration": 14,
    "start_time": "2023-02-17T12:04:43.696Z"
   },
   {
    "duration": 309,
    "start_time": "2023-02-17T12:04:43.712Z"
   },
   {
    "duration": 261,
    "start_time": "2023-02-17T12:04:44.023Z"
   },
   {
    "duration": 15,
    "start_time": "2023-02-17T12:04:44.287Z"
   },
   {
    "duration": 22,
    "start_time": "2023-02-17T12:04:44.304Z"
   },
   {
    "duration": 81,
    "start_time": "2023-02-17T12:04:44.328Z"
   },
   {
    "duration": 27,
    "start_time": "2023-02-17T12:04:44.411Z"
   },
   {
    "duration": 79,
    "start_time": "2023-02-17T12:04:44.441Z"
   },
   {
    "duration": 60,
    "start_time": "2023-02-17T12:04:44.522Z"
   },
   {
    "duration": 66,
    "start_time": "2023-02-17T12:04:44.584Z"
   },
   {
    "duration": 65,
    "start_time": "2023-02-17T12:04:44.652Z"
   },
   {
    "duration": 18,
    "start_time": "2023-02-17T12:04:44.720Z"
   },
   {
    "duration": 17,
    "start_time": "2023-02-17T12:12:53.017Z"
   },
   {
    "duration": 9,
    "start_time": "2023-02-17T12:13:56.366Z"
   },
   {
    "duration": 30,
    "start_time": "2023-02-17T12:22:55.881Z"
   },
   {
    "duration": 4,
    "start_time": "2023-02-17T12:28:26.208Z"
   },
   {
    "duration": 1268,
    "start_time": "2023-02-17T12:33:18.665Z"
   },
   {
    "duration": 207,
    "start_time": "2023-02-17T12:33:19.935Z"
   },
   {
    "duration": 44,
    "start_time": "2023-02-17T12:33:20.143Z"
   },
   {
    "duration": 9,
    "start_time": "2023-02-17T12:33:20.189Z"
   },
   {
    "duration": 22,
    "start_time": "2023-02-17T12:33:20.200Z"
   },
   {
    "duration": 81,
    "start_time": "2023-02-17T12:33:20.223Z"
   },
   {
    "duration": 88,
    "start_time": "2023-02-17T12:33:20.306Z"
   },
   {
    "duration": 16,
    "start_time": "2023-02-17T12:33:20.396Z"
   },
   {
    "duration": 45,
    "start_time": "2023-02-17T12:33:20.414Z"
   },
   {
    "duration": 48,
    "start_time": "2023-02-17T12:33:20.466Z"
   },
   {
    "duration": 10,
    "start_time": "2023-02-17T12:33:20.516Z"
   },
   {
    "duration": 100,
    "start_time": "2023-02-17T12:33:20.527Z"
   },
   {
    "duration": 5,
    "start_time": "2023-02-17T12:33:20.628Z"
   },
   {
    "duration": 347,
    "start_time": "2023-02-17T12:33:20.636Z"
   },
   {
    "duration": 41,
    "start_time": "2023-02-17T12:33:20.985Z"
   },
   {
    "duration": 68,
    "start_time": "2023-02-17T12:33:21.028Z"
   },
   {
    "duration": 15,
    "start_time": "2023-02-17T12:33:21.098Z"
   },
   {
    "duration": 213,
    "start_time": "2023-02-17T12:33:21.114Z"
   },
   {
    "duration": 56,
    "start_time": "2023-02-17T12:33:21.330Z"
   },
   {
    "duration": 78,
    "start_time": "2023-02-17T12:33:21.388Z"
   },
   {
    "duration": 14,
    "start_time": "2023-02-17T12:33:21.468Z"
   },
   {
    "duration": 15,
    "start_time": "2023-02-17T12:33:21.484Z"
   },
   {
    "duration": 19,
    "start_time": "2023-02-17T12:33:21.501Z"
   },
   {
    "duration": 20,
    "start_time": "2023-02-17T12:33:21.522Z"
   },
   {
    "duration": 33,
    "start_time": "2023-02-17T12:33:21.550Z"
   },
   {
    "duration": 6,
    "start_time": "2023-02-17T12:33:21.585Z"
   },
   {
    "duration": 234,
    "start_time": "2023-02-17T12:33:21.592Z"
   },
   {
    "duration": 219,
    "start_time": "2023-02-17T12:33:21.828Z"
   },
   {
    "duration": 18,
    "start_time": "2023-02-17T12:33:22.053Z"
   },
   {
    "duration": 31,
    "start_time": "2023-02-17T12:33:22.073Z"
   },
   {
    "duration": 11,
    "start_time": "2023-02-17T12:33:22.106Z"
   },
   {
    "duration": 27,
    "start_time": "2023-02-17T12:33:22.119Z"
   },
   {
    "duration": 34,
    "start_time": "2023-02-17T12:33:22.148Z"
   },
   {
    "duration": 25,
    "start_time": "2023-02-17T12:33:22.184Z"
   },
   {
    "duration": 15,
    "start_time": "2023-02-17T12:33:22.210Z"
   },
   {
    "duration": 14,
    "start_time": "2023-02-17T12:33:22.226Z"
   },
   {
    "duration": 38,
    "start_time": "2023-02-17T12:33:22.241Z"
   },
   {
    "duration": 22,
    "start_time": "2023-02-17T12:33:22.281Z"
   },
   {
    "duration": 17,
    "start_time": "2023-02-17T12:33:22.305Z"
   },
   {
    "duration": 17,
    "start_time": "2023-02-17T12:33:22.323Z"
   },
   {
    "duration": 30,
    "start_time": "2023-02-17T12:33:22.343Z"
   },
   {
    "duration": 25,
    "start_time": "2023-02-17T12:33:22.375Z"
   },
   {
    "duration": 4,
    "start_time": "2023-02-17T12:34:15.747Z"
   },
   {
    "duration": 1277,
    "start_time": "2023-02-17T12:40:10.941Z"
   },
   {
    "duration": 190,
    "start_time": "2023-02-17T12:40:12.220Z"
   },
   {
    "duration": 47,
    "start_time": "2023-02-17T12:40:12.412Z"
   },
   {
    "duration": 5,
    "start_time": "2023-02-17T12:40:12.461Z"
   },
   {
    "duration": 31,
    "start_time": "2023-02-17T12:40:12.469Z"
   },
   {
    "duration": 88,
    "start_time": "2023-02-17T12:40:12.503Z"
   },
   {
    "duration": 90,
    "start_time": "2023-02-17T12:40:12.592Z"
   },
   {
    "duration": 15,
    "start_time": "2023-02-17T12:40:12.684Z"
   },
   {
    "duration": 27,
    "start_time": "2023-02-17T12:40:12.701Z"
   },
   {
    "duration": 68,
    "start_time": "2023-02-17T12:40:12.730Z"
   },
   {
    "duration": 13,
    "start_time": "2023-02-17T12:40:12.799Z"
   },
   {
    "duration": 96,
    "start_time": "2023-02-17T12:40:12.813Z"
   },
   {
    "duration": 5,
    "start_time": "2023-02-17T12:40:12.911Z"
   },
   {
    "duration": 355,
    "start_time": "2023-02-17T12:40:12.920Z"
   },
   {
    "duration": 45,
    "start_time": "2023-02-17T12:40:13.277Z"
   },
   {
    "duration": 65,
    "start_time": "2023-02-17T12:40:13.324Z"
   },
   {
    "duration": 20,
    "start_time": "2023-02-17T12:40:13.391Z"
   },
   {
    "duration": 230,
    "start_time": "2023-02-17T12:40:13.412Z"
   },
   {
    "duration": 46,
    "start_time": "2023-02-17T12:40:13.648Z"
   },
   {
    "duration": 77,
    "start_time": "2023-02-17T12:40:13.696Z"
   },
   {
    "duration": 13,
    "start_time": "2023-02-17T12:40:13.777Z"
   },
   {
    "duration": 14,
    "start_time": "2023-02-17T12:40:13.792Z"
   },
   {
    "duration": 28,
    "start_time": "2023-02-17T12:40:13.808Z"
   },
   {
    "duration": 45,
    "start_time": "2023-02-17T12:40:13.838Z"
   },
   {
    "duration": 28,
    "start_time": "2023-02-17T12:40:13.885Z"
   },
   {
    "duration": 6,
    "start_time": "2023-02-17T12:40:13.915Z"
   },
   {
    "duration": 255,
    "start_time": "2023-02-17T12:40:13.922Z"
   },
   {
    "duration": 234,
    "start_time": "2023-02-17T12:40:14.180Z"
   },
   {
    "duration": 11,
    "start_time": "2023-02-17T12:40:14.417Z"
   },
   {
    "duration": 31,
    "start_time": "2023-02-17T12:40:14.430Z"
   },
   {
    "duration": 20,
    "start_time": "2023-02-17T12:40:14.463Z"
   },
   {
    "duration": 23,
    "start_time": "2023-02-17T12:40:14.485Z"
   },
   {
    "duration": 17,
    "start_time": "2023-02-17T12:40:14.511Z"
   },
   {
    "duration": 17,
    "start_time": "2023-02-17T12:40:14.530Z"
   },
   {
    "duration": 27,
    "start_time": "2023-02-17T12:40:14.558Z"
   },
   {
    "duration": 17,
    "start_time": "2023-02-17T12:40:14.587Z"
   },
   {
    "duration": 5,
    "start_time": "2023-02-17T12:40:14.606Z"
   },
   {
    "duration": 24,
    "start_time": "2023-02-17T12:40:14.612Z"
   },
   {
    "duration": 33,
    "start_time": "2023-02-17T12:40:14.638Z"
   },
   {
    "duration": 36,
    "start_time": "2023-02-17T12:40:14.678Z"
   },
   {
    "duration": 23,
    "start_time": "2023-02-17T12:40:14.720Z"
   },
   {
    "duration": 31,
    "start_time": "2023-02-17T12:40:14.748Z"
   },
   {
    "duration": 5,
    "start_time": "2023-02-17T12:40:14.784Z"
   },
   {
    "duration": 144,
    "start_time": "2023-02-17T12:40:14.791Z"
   },
   {
    "duration": 0,
    "start_time": "2023-02-17T12:40:14.937Z"
   },
   {
    "duration": 0,
    "start_time": "2023-02-17T12:40:14.939Z"
   },
   {
    "duration": 0,
    "start_time": "2023-02-17T12:40:14.940Z"
   },
   {
    "duration": 0,
    "start_time": "2023-02-17T12:40:14.953Z"
   },
   {
    "duration": 1338,
    "start_time": "2023-02-17T12:43:01.545Z"
   },
   {
    "duration": 186,
    "start_time": "2023-02-17T12:43:02.885Z"
   },
   {
    "duration": 34,
    "start_time": "2023-02-17T12:43:03.077Z"
   },
   {
    "duration": 3,
    "start_time": "2023-02-17T12:43:03.113Z"
   },
   {
    "duration": 25,
    "start_time": "2023-02-17T12:43:03.119Z"
   },
   {
    "duration": 80,
    "start_time": "2023-02-17T12:43:03.146Z"
   },
   {
    "duration": 97,
    "start_time": "2023-02-17T12:43:03.228Z"
   },
   {
    "duration": 23,
    "start_time": "2023-02-17T12:43:03.327Z"
   },
   {
    "duration": 42,
    "start_time": "2023-02-17T12:43:03.352Z"
   },
   {
    "duration": 57,
    "start_time": "2023-02-17T12:43:03.396Z"
   },
   {
    "duration": 14,
    "start_time": "2023-02-17T12:43:03.455Z"
   },
   {
    "duration": 106,
    "start_time": "2023-02-17T12:43:03.471Z"
   },
   {
    "duration": 5,
    "start_time": "2023-02-17T12:43:03.579Z"
   },
   {
    "duration": 403,
    "start_time": "2023-02-17T12:43:03.587Z"
   },
   {
    "duration": 61,
    "start_time": "2023-02-17T12:43:03.991Z"
   },
   {
    "duration": 45,
    "start_time": "2023-02-17T12:43:04.054Z"
   },
   {
    "duration": 24,
    "start_time": "2023-02-17T12:43:04.102Z"
   },
   {
    "duration": 241,
    "start_time": "2023-02-17T12:43:04.128Z"
   },
   {
    "duration": 34,
    "start_time": "2023-02-17T12:43:04.372Z"
   },
   {
    "duration": 71,
    "start_time": "2023-02-17T12:43:04.408Z"
   },
   {
    "duration": 9,
    "start_time": "2023-02-17T12:43:04.483Z"
   },
   {
    "duration": 36,
    "start_time": "2023-02-17T12:43:04.494Z"
   },
   {
    "duration": 24,
    "start_time": "2023-02-17T12:43:04.532Z"
   },
   {
    "duration": 40,
    "start_time": "2023-02-17T12:43:04.565Z"
   },
   {
    "duration": 40,
    "start_time": "2023-02-17T12:43:04.607Z"
   },
   {
    "duration": 18,
    "start_time": "2023-02-17T12:43:04.659Z"
   },
   {
    "duration": 269,
    "start_time": "2023-02-17T12:43:04.683Z"
   },
   {
    "duration": 256,
    "start_time": "2023-02-17T12:43:04.956Z"
   },
   {
    "duration": 10,
    "start_time": "2023-02-17T12:43:05.214Z"
   },
   {
    "duration": 63,
    "start_time": "2023-02-17T12:43:05.225Z"
   },
   {
    "duration": 26,
    "start_time": "2023-02-17T12:43:05.290Z"
   },
   {
    "duration": 25,
    "start_time": "2023-02-17T12:43:05.318Z"
   },
   {
    "duration": 26,
    "start_time": "2023-02-17T12:43:05.345Z"
   },
   {
    "duration": 37,
    "start_time": "2023-02-17T12:43:05.373Z"
   },
   {
    "duration": 16,
    "start_time": "2023-02-17T12:43:05.411Z"
   },
   {
    "duration": 13,
    "start_time": "2023-02-17T12:43:05.429Z"
   },
   {
    "duration": 7,
    "start_time": "2023-02-17T12:43:05.444Z"
   },
   {
    "duration": 48,
    "start_time": "2023-02-17T12:43:05.454Z"
   },
   {
    "duration": 18,
    "start_time": "2023-02-17T12:43:05.504Z"
   },
   {
    "duration": 17,
    "start_time": "2023-02-17T12:43:05.524Z"
   },
   {
    "duration": 38,
    "start_time": "2023-02-17T12:43:05.544Z"
   },
   {
    "duration": 36,
    "start_time": "2023-02-17T12:43:05.584Z"
   },
   {
    "duration": 11,
    "start_time": "2023-02-17T12:43:05.622Z"
   },
   {
    "duration": 167,
    "start_time": "2023-02-17T12:43:05.635Z"
   },
   {
    "duration": 0,
    "start_time": "2023-02-17T12:43:05.804Z"
   },
   {
    "duration": 0,
    "start_time": "2023-02-17T12:43:05.805Z"
   },
   {
    "duration": 0,
    "start_time": "2023-02-17T12:43:05.807Z"
   },
   {
    "duration": 0,
    "start_time": "2023-02-17T12:43:05.808Z"
   },
   {
    "duration": 26,
    "start_time": "2023-02-17T12:43:44.011Z"
   },
   {
    "duration": 4,
    "start_time": "2023-02-17T12:44:00.526Z"
   },
   {
    "duration": 1416,
    "start_time": "2023-02-17T12:44:19.606Z"
   },
   {
    "duration": 217,
    "start_time": "2023-02-17T12:44:21.024Z"
   },
   {
    "duration": 46,
    "start_time": "2023-02-17T12:44:21.243Z"
   },
   {
    "duration": 6,
    "start_time": "2023-02-17T12:44:21.292Z"
   },
   {
    "duration": 19,
    "start_time": "2023-02-17T12:44:21.300Z"
   },
   {
    "duration": 96,
    "start_time": "2023-02-17T12:44:21.321Z"
   },
   {
    "duration": 98,
    "start_time": "2023-02-17T12:44:21.418Z"
   },
   {
    "duration": 16,
    "start_time": "2023-02-17T12:44:21.517Z"
   },
   {
    "duration": 58,
    "start_time": "2023-02-17T12:44:21.535Z"
   },
   {
    "duration": 35,
    "start_time": "2023-02-17T12:44:21.595Z"
   },
   {
    "duration": 27,
    "start_time": "2023-02-17T12:44:21.634Z"
   },
   {
    "duration": 87,
    "start_time": "2023-02-17T12:44:21.666Z"
   },
   {
    "duration": 12,
    "start_time": "2023-02-17T12:44:21.754Z"
   },
   {
    "duration": 343,
    "start_time": "2023-02-17T12:44:21.783Z"
   },
   {
    "duration": 59,
    "start_time": "2023-02-17T12:44:22.127Z"
   },
   {
    "duration": 30,
    "start_time": "2023-02-17T12:44:22.187Z"
   },
   {
    "duration": 39,
    "start_time": "2023-02-17T12:44:22.219Z"
   },
   {
    "duration": 224,
    "start_time": "2023-02-17T12:44:22.260Z"
   },
   {
    "duration": 32,
    "start_time": "2023-02-17T12:44:22.485Z"
   },
   {
    "duration": 91,
    "start_time": "2023-02-17T12:44:22.519Z"
   },
   {
    "duration": 8,
    "start_time": "2023-02-17T12:44:22.611Z"
   },
   {
    "duration": 21,
    "start_time": "2023-02-17T12:44:22.621Z"
   },
   {
    "duration": 51,
    "start_time": "2023-02-17T12:44:22.643Z"
   },
   {
    "duration": 26,
    "start_time": "2023-02-17T12:44:22.696Z"
   },
   {
    "duration": 22,
    "start_time": "2023-02-17T12:44:22.724Z"
   },
   {
    "duration": 13,
    "start_time": "2023-02-17T12:44:22.747Z"
   },
   {
    "duration": 238,
    "start_time": "2023-02-17T12:44:22.761Z"
   },
   {
    "duration": 220,
    "start_time": "2023-02-17T12:44:23.001Z"
   },
   {
    "duration": 10,
    "start_time": "2023-02-17T12:44:23.223Z"
   },
   {
    "duration": 32,
    "start_time": "2023-02-17T12:44:23.234Z"
   },
   {
    "duration": 12,
    "start_time": "2023-02-17T12:44:23.268Z"
   },
   {
    "duration": 26,
    "start_time": "2023-02-17T12:44:23.281Z"
   },
   {
    "duration": 15,
    "start_time": "2023-02-17T12:44:23.309Z"
   },
   {
    "duration": 30,
    "start_time": "2023-02-17T12:44:23.326Z"
   },
   {
    "duration": 25,
    "start_time": "2023-02-17T12:44:23.365Z"
   },
   {
    "duration": 16,
    "start_time": "2023-02-17T12:44:23.391Z"
   },
   {
    "duration": 8,
    "start_time": "2023-02-17T12:44:23.409Z"
   },
   {
    "duration": 25,
    "start_time": "2023-02-17T12:44:23.418Z"
   },
   {
    "duration": 27,
    "start_time": "2023-02-17T12:44:23.453Z"
   },
   {
    "duration": 30,
    "start_time": "2023-02-17T12:44:23.482Z"
   },
   {
    "duration": 17,
    "start_time": "2023-02-17T12:44:23.516Z"
   },
   {
    "duration": 27,
    "start_time": "2023-02-17T12:44:23.535Z"
   },
   {
    "duration": 16,
    "start_time": "2023-02-17T12:44:23.577Z"
   },
   {
    "duration": 22,
    "start_time": "2023-02-17T12:44:23.595Z"
   },
   {
    "duration": 17,
    "start_time": "2023-02-17T12:44:23.618Z"
   },
   {
    "duration": 36,
    "start_time": "2023-02-17T12:44:23.637Z"
   },
   {
    "duration": 17,
    "start_time": "2023-02-17T12:44:23.680Z"
   },
   {
    "duration": 15,
    "start_time": "2023-02-17T12:44:23.699Z"
   },
   {
    "duration": 1366,
    "start_time": "2023-02-17T12:58:02.210Z"
   },
   {
    "duration": 223,
    "start_time": "2023-02-17T12:58:03.582Z"
   },
   {
    "duration": 48,
    "start_time": "2023-02-17T12:58:03.807Z"
   },
   {
    "duration": 151,
    "start_time": "2023-02-17T12:58:03.856Z"
   },
   {
    "duration": 26,
    "start_time": "2023-02-17T12:58:04.011Z"
   },
   {
    "duration": 98,
    "start_time": "2023-02-17T12:58:04.039Z"
   },
   {
    "duration": 94,
    "start_time": "2023-02-17T12:58:04.139Z"
   },
   {
    "duration": 39,
    "start_time": "2023-02-17T12:58:04.234Z"
   },
   {
    "duration": 33,
    "start_time": "2023-02-17T12:58:04.283Z"
   },
   {
    "duration": 58,
    "start_time": "2023-02-17T12:58:04.318Z"
   },
   {
    "duration": 26,
    "start_time": "2023-02-17T12:58:04.377Z"
   },
   {
    "duration": 85,
    "start_time": "2023-02-17T12:58:04.405Z"
   },
   {
    "duration": 7,
    "start_time": "2023-02-17T12:58:04.493Z"
   },
   {
    "duration": 440,
    "start_time": "2023-02-17T12:58:04.504Z"
   },
   {
    "duration": 60,
    "start_time": "2023-02-17T12:58:04.946Z"
   },
   {
    "duration": 78,
    "start_time": "2023-02-17T12:58:05.008Z"
   },
   {
    "duration": 18,
    "start_time": "2023-02-17T12:58:05.092Z"
   },
   {
    "duration": 223,
    "start_time": "2023-02-17T12:58:05.112Z"
   },
   {
    "duration": 54,
    "start_time": "2023-02-17T12:58:05.337Z"
   },
   {
    "duration": 92,
    "start_time": "2023-02-17T12:58:05.393Z"
   },
   {
    "duration": 10,
    "start_time": "2023-02-17T12:58:05.487Z"
   },
   {
    "duration": 19,
    "start_time": "2023-02-17T12:58:05.499Z"
   },
   {
    "duration": 32,
    "start_time": "2023-02-17T12:58:05.521Z"
   },
   {
    "duration": 31,
    "start_time": "2023-02-17T12:58:05.555Z"
   },
   {
    "duration": 46,
    "start_time": "2023-02-17T12:58:05.589Z"
   },
   {
    "duration": 10,
    "start_time": "2023-02-17T12:58:05.638Z"
   },
   {
    "duration": 294,
    "start_time": "2023-02-17T12:58:05.656Z"
   },
   {
    "duration": 249,
    "start_time": "2023-02-17T12:58:05.960Z"
   },
   {
    "duration": 7,
    "start_time": "2023-02-17T12:58:06.211Z"
   },
   {
    "duration": 52,
    "start_time": "2023-02-17T12:58:06.220Z"
   },
   {
    "duration": 29,
    "start_time": "2023-02-17T12:58:06.282Z"
   },
   {
    "duration": 52,
    "start_time": "2023-02-17T12:58:06.314Z"
   },
   {
    "duration": 65,
    "start_time": "2023-02-17T12:58:06.368Z"
   },
   {
    "duration": 53,
    "start_time": "2023-02-17T12:58:06.436Z"
   },
   {
    "duration": 71,
    "start_time": "2023-02-17T12:58:06.493Z"
   },
   {
    "duration": 59,
    "start_time": "2023-02-17T12:58:06.568Z"
   },
   {
    "duration": 44,
    "start_time": "2023-02-17T12:58:06.629Z"
   },
   {
    "duration": 76,
    "start_time": "2023-02-17T12:58:06.680Z"
   },
   {
    "duration": 24,
    "start_time": "2023-02-17T12:58:06.758Z"
   },
   {
    "duration": 43,
    "start_time": "2023-02-17T12:58:06.784Z"
   },
   {
    "duration": 29,
    "start_time": "2023-02-17T12:58:06.833Z"
   },
   {
    "duration": 67,
    "start_time": "2023-02-17T12:58:06.865Z"
   },
   {
    "duration": 51,
    "start_time": "2023-02-17T12:58:06.935Z"
   },
   {
    "duration": 38,
    "start_time": "2023-02-17T12:58:06.988Z"
   },
   {
    "duration": 22,
    "start_time": "2023-02-17T12:58:07.028Z"
   },
   {
    "duration": 29,
    "start_time": "2023-02-17T12:58:07.052Z"
   },
   {
    "duration": 25,
    "start_time": "2023-02-17T12:58:07.082Z"
   },
   {
    "duration": 23,
    "start_time": "2023-02-17T12:58:07.110Z"
   },
   {
    "duration": 1385,
    "start_time": "2023-02-17T12:58:50.284Z"
   },
   {
    "duration": 213,
    "start_time": "2023-02-17T12:58:51.672Z"
   },
   {
    "duration": 32,
    "start_time": "2023-02-17T12:58:51.887Z"
   },
   {
    "duration": 4,
    "start_time": "2023-02-17T12:58:51.922Z"
   },
   {
    "duration": 39,
    "start_time": "2023-02-17T12:58:51.928Z"
   },
   {
    "duration": 107,
    "start_time": "2023-02-17T12:58:51.969Z"
   },
   {
    "duration": 123,
    "start_time": "2023-02-17T12:58:52.080Z"
   },
   {
    "duration": 25,
    "start_time": "2023-02-17T12:58:52.205Z"
   },
   {
    "duration": 55,
    "start_time": "2023-02-17T12:58:52.232Z"
   },
   {
    "duration": 41,
    "start_time": "2023-02-17T12:58:52.289Z"
   },
   {
    "duration": 25,
    "start_time": "2023-02-17T12:58:52.332Z"
   },
   {
    "duration": 103,
    "start_time": "2023-02-17T12:58:52.366Z"
   },
   {
    "duration": 11,
    "start_time": "2023-02-17T12:58:52.476Z"
   },
   {
    "duration": 348,
    "start_time": "2023-02-17T12:58:52.491Z"
   },
   {
    "duration": 57,
    "start_time": "2023-02-17T12:58:52.840Z"
   },
   {
    "duration": 30,
    "start_time": "2023-02-17T12:58:52.899Z"
   },
   {
    "duration": 40,
    "start_time": "2023-02-17T12:58:52.931Z"
   },
   {
    "duration": 229,
    "start_time": "2023-02-17T12:58:52.977Z"
   },
   {
    "duration": 52,
    "start_time": "2023-02-17T12:58:53.208Z"
   },
   {
    "duration": 80,
    "start_time": "2023-02-17T12:58:53.261Z"
   },
   {
    "duration": 26,
    "start_time": "2023-02-17T12:58:53.343Z"
   },
   {
    "duration": 33,
    "start_time": "2023-02-17T12:58:53.371Z"
   },
   {
    "duration": 32,
    "start_time": "2023-02-17T12:58:53.407Z"
   },
   {
    "duration": 30,
    "start_time": "2023-02-17T12:58:53.441Z"
   },
   {
    "duration": 52,
    "start_time": "2023-02-17T12:58:53.482Z"
   },
   {
    "duration": 7,
    "start_time": "2023-02-17T12:58:53.536Z"
   },
   {
    "duration": 275,
    "start_time": "2023-02-17T12:58:53.545Z"
   },
   {
    "duration": 261,
    "start_time": "2023-02-17T12:58:53.822Z"
   },
   {
    "duration": 5,
    "start_time": "2023-02-17T12:58:54.089Z"
   },
   {
    "duration": 20,
    "start_time": "2023-02-17T12:58:54.096Z"
   },
   {
    "duration": 10,
    "start_time": "2023-02-17T12:58:54.118Z"
   },
   {
    "duration": 41,
    "start_time": "2023-02-17T12:58:54.130Z"
   },
   {
    "duration": 25,
    "start_time": "2023-02-17T12:58:54.179Z"
   },
   {
    "duration": 25,
    "start_time": "2023-02-17T12:58:54.206Z"
   },
   {
    "duration": 28,
    "start_time": "2023-02-17T12:58:54.233Z"
   },
   {
    "duration": 32,
    "start_time": "2023-02-17T12:58:54.262Z"
   },
   {
    "duration": 8,
    "start_time": "2023-02-17T12:58:54.296Z"
   },
   {
    "duration": 32,
    "start_time": "2023-02-17T12:58:54.306Z"
   },
   {
    "duration": 40,
    "start_time": "2023-02-17T12:58:54.340Z"
   },
   {
    "duration": 21,
    "start_time": "2023-02-17T12:58:54.387Z"
   },
   {
    "duration": 17,
    "start_time": "2023-02-17T12:58:54.412Z"
   },
   {
    "duration": 29,
    "start_time": "2023-02-17T12:58:54.431Z"
   },
   {
    "duration": 21,
    "start_time": "2023-02-17T12:58:54.466Z"
   },
   {
    "duration": 26,
    "start_time": "2023-02-17T12:58:54.489Z"
   },
   {
    "duration": 18,
    "start_time": "2023-02-17T12:58:54.517Z"
   },
   {
    "duration": 34,
    "start_time": "2023-02-17T12:58:54.537Z"
   },
   {
    "duration": 37,
    "start_time": "2023-02-17T12:58:54.572Z"
   },
   {
    "duration": 22,
    "start_time": "2023-02-17T12:58:54.612Z"
   },
   {
    "duration": 28,
    "start_time": "2023-02-17T13:01:34.383Z"
   },
   {
    "duration": 124,
    "start_time": "2023-02-17T13:04:45.622Z"
   },
   {
    "duration": 118,
    "start_time": "2023-02-17T13:04:54.784Z"
   },
   {
    "duration": 10,
    "start_time": "2023-02-17T13:05:00.709Z"
   },
   {
    "duration": 17,
    "start_time": "2023-02-17T13:05:25.679Z"
   },
   {
    "duration": 13,
    "start_time": "2023-02-17T13:05:34.568Z"
   },
   {
    "duration": 33,
    "start_time": "2023-02-17T13:08:40.794Z"
   },
   {
    "duration": 67,
    "start_time": "2023-02-17T13:14:50.380Z"
   },
   {
    "duration": 1402,
    "start_time": "2023-02-17T13:18:35.378Z"
   },
   {
    "duration": 228,
    "start_time": "2023-02-17T13:18:36.785Z"
   },
   {
    "duration": 53,
    "start_time": "2023-02-17T13:18:37.016Z"
   },
   {
    "duration": 10,
    "start_time": "2023-02-17T13:18:37.070Z"
   },
   {
    "duration": 25,
    "start_time": "2023-02-17T13:18:37.089Z"
   },
   {
    "duration": 86,
    "start_time": "2023-02-17T13:18:37.116Z"
   },
   {
    "duration": 85,
    "start_time": "2023-02-17T13:18:37.204Z"
   },
   {
    "duration": 18,
    "start_time": "2023-02-17T13:18:37.291Z"
   },
   {
    "duration": 54,
    "start_time": "2023-02-17T13:18:37.311Z"
   },
   {
    "duration": 55,
    "start_time": "2023-02-17T13:18:37.366Z"
   },
   {
    "duration": 11,
    "start_time": "2023-02-17T13:18:37.423Z"
   },
   {
    "duration": 132,
    "start_time": "2023-02-17T13:18:37.436Z"
   },
   {
    "duration": 6,
    "start_time": "2023-02-17T13:18:37.572Z"
   },
   {
    "duration": 372,
    "start_time": "2023-02-17T13:18:37.582Z"
   },
   {
    "duration": 22,
    "start_time": "2023-02-17T13:18:37.959Z"
   },
   {
    "duration": 51,
    "start_time": "2023-02-17T13:18:37.983Z"
   },
   {
    "duration": 61,
    "start_time": "2023-02-17T13:18:38.037Z"
   },
   {
    "duration": 17,
    "start_time": "2023-02-17T13:18:38.100Z"
   },
   {
    "duration": 224,
    "start_time": "2023-02-17T13:18:38.118Z"
   },
   {
    "duration": 46,
    "start_time": "2023-02-17T13:18:38.348Z"
   },
   {
    "duration": 96,
    "start_time": "2023-02-17T13:18:38.397Z"
   },
   {
    "duration": 9,
    "start_time": "2023-02-17T13:18:38.495Z"
   },
   {
    "duration": 14,
    "start_time": "2023-02-17T13:18:38.506Z"
   },
   {
    "duration": 33,
    "start_time": "2023-02-17T13:18:38.521Z"
   },
   {
    "duration": 35,
    "start_time": "2023-02-17T13:18:38.556Z"
   },
   {
    "duration": 34,
    "start_time": "2023-02-17T13:18:38.594Z"
   },
   {
    "duration": 5,
    "start_time": "2023-02-17T13:18:38.631Z"
   },
   {
    "duration": 269,
    "start_time": "2023-02-17T13:18:38.638Z"
   },
   {
    "duration": 234,
    "start_time": "2023-02-17T13:18:38.909Z"
   },
   {
    "duration": 7,
    "start_time": "2023-02-17T13:18:39.151Z"
   },
   {
    "duration": 10,
    "start_time": "2023-02-17T13:18:39.160Z"
   },
   {
    "duration": 20,
    "start_time": "2023-02-17T13:18:39.180Z"
   },
   {
    "duration": 22,
    "start_time": "2023-02-17T13:18:39.202Z"
   },
   {
    "duration": 25,
    "start_time": "2023-02-17T13:18:39.226Z"
   },
   {
    "duration": 43,
    "start_time": "2023-02-17T13:18:39.259Z"
   },
   {
    "duration": 17,
    "start_time": "2023-02-17T13:18:39.304Z"
   },
   {
    "duration": 16,
    "start_time": "2023-02-17T13:18:39.322Z"
   },
   {
    "duration": 8,
    "start_time": "2023-02-17T13:18:39.340Z"
   },
   {
    "duration": 60,
    "start_time": "2023-02-17T13:18:39.352Z"
   },
   {
    "duration": 22,
    "start_time": "2023-02-17T13:18:39.414Z"
   },
   {
    "duration": 23,
    "start_time": "2023-02-17T13:18:39.442Z"
   },
   {
    "duration": 46,
    "start_time": "2023-02-17T13:18:39.467Z"
   },
   {
    "duration": 15,
    "start_time": "2023-02-17T13:18:39.516Z"
   },
   {
    "duration": 9,
    "start_time": "2023-02-17T13:18:39.533Z"
   },
   {
    "duration": 56,
    "start_time": "2023-02-17T13:18:39.544Z"
   },
   {
    "duration": 24,
    "start_time": "2023-02-17T13:18:39.601Z"
   },
   {
    "duration": 28,
    "start_time": "2023-02-17T13:18:39.628Z"
   },
   {
    "duration": 25,
    "start_time": "2023-02-17T13:18:39.659Z"
   },
   {
    "duration": 47,
    "start_time": "2023-02-17T13:18:39.687Z"
   },
   {
    "duration": 1340,
    "start_time": "2023-02-17T13:34:51.881Z"
   },
   {
    "duration": 214,
    "start_time": "2023-02-17T13:34:53.223Z"
   },
   {
    "duration": 48,
    "start_time": "2023-02-17T13:34:53.441Z"
   },
   {
    "duration": 21,
    "start_time": "2023-02-17T13:34:53.491Z"
   },
   {
    "duration": 23,
    "start_time": "2023-02-17T13:34:53.515Z"
   },
   {
    "duration": 83,
    "start_time": "2023-02-17T13:34:53.540Z"
   },
   {
    "duration": 94,
    "start_time": "2023-02-17T13:34:53.625Z"
   },
   {
    "duration": 41,
    "start_time": "2023-02-17T13:34:53.721Z"
   },
   {
    "duration": 65,
    "start_time": "2023-02-17T13:34:53.771Z"
   },
   {
    "duration": 60,
    "start_time": "2023-02-17T13:34:53.838Z"
   },
   {
    "duration": 9,
    "start_time": "2023-02-17T13:34:53.900Z"
   },
   {
    "duration": 86,
    "start_time": "2023-02-17T13:34:53.911Z"
   },
   {
    "duration": 5,
    "start_time": "2023-02-17T13:34:53.999Z"
   },
   {
    "duration": 370,
    "start_time": "2023-02-17T13:34:54.007Z"
   },
   {
    "duration": 19,
    "start_time": "2023-02-17T13:34:54.379Z"
   },
   {
    "duration": 26,
    "start_time": "2023-02-17T13:34:54.399Z"
   },
   {
    "duration": 63,
    "start_time": "2023-02-17T13:34:54.426Z"
   },
   {
    "duration": 23,
    "start_time": "2023-02-17T13:34:54.490Z"
   },
   {
    "duration": 228,
    "start_time": "2023-02-17T13:34:54.514Z"
   },
   {
    "duration": 43,
    "start_time": "2023-02-17T13:34:54.750Z"
   },
   {
    "duration": 74,
    "start_time": "2023-02-17T13:34:54.794Z"
   },
   {
    "duration": 15,
    "start_time": "2023-02-17T13:34:54.869Z"
   },
   {
    "duration": 14,
    "start_time": "2023-02-17T13:34:54.886Z"
   },
   {
    "duration": 21,
    "start_time": "2023-02-17T13:34:54.901Z"
   },
   {
    "duration": 37,
    "start_time": "2023-02-17T13:34:54.924Z"
   },
   {
    "duration": 32,
    "start_time": "2023-02-17T13:34:54.963Z"
   },
   {
    "duration": 5,
    "start_time": "2023-02-17T13:34:54.997Z"
   },
   {
    "duration": 238,
    "start_time": "2023-02-17T13:34:55.004Z"
   },
   {
    "duration": 267,
    "start_time": "2023-02-17T13:34:55.244Z"
   },
   {
    "duration": 5,
    "start_time": "2023-02-17T13:34:55.512Z"
   },
   {
    "duration": 15,
    "start_time": "2023-02-17T13:34:55.519Z"
   },
   {
    "duration": 49,
    "start_time": "2023-02-17T13:34:55.536Z"
   },
   {
    "duration": 29,
    "start_time": "2023-02-17T13:34:55.587Z"
   },
   {
    "duration": 16,
    "start_time": "2023-02-17T13:34:55.618Z"
   },
   {
    "duration": 35,
    "start_time": "2023-02-17T13:34:55.636Z"
   },
   {
    "duration": 24,
    "start_time": "2023-02-17T13:34:55.673Z"
   },
   {
    "duration": 16,
    "start_time": "2023-02-17T13:34:55.699Z"
   },
   {
    "duration": 7,
    "start_time": "2023-02-17T13:34:55.716Z"
   },
   {
    "duration": 29,
    "start_time": "2023-02-17T13:34:55.724Z"
   },
   {
    "duration": 26,
    "start_time": "2023-02-17T13:34:55.760Z"
   },
   {
    "duration": 17,
    "start_time": "2023-02-17T13:34:55.791Z"
   },
   {
    "duration": 16,
    "start_time": "2023-02-17T13:34:55.810Z"
   },
   {
    "duration": 41,
    "start_time": "2023-02-17T13:34:55.827Z"
   },
   {
    "duration": 6,
    "start_time": "2023-02-17T13:34:55.869Z"
   },
   {
    "duration": 28,
    "start_time": "2023-02-17T13:34:55.877Z"
   },
   {
    "duration": 16,
    "start_time": "2023-02-17T13:34:55.907Z"
   },
   {
    "duration": 28,
    "start_time": "2023-02-17T13:34:55.925Z"
   },
   {
    "duration": 31,
    "start_time": "2023-02-17T13:34:55.955Z"
   },
   {
    "duration": 16,
    "start_time": "2023-02-17T13:34:55.987Z"
   },
   {
    "duration": 1241,
    "start_time": "2023-02-17T19:16:15.671Z"
   },
   {
    "duration": 142,
    "start_time": "2023-02-17T19:16:16.914Z"
   },
   {
    "duration": 26,
    "start_time": "2023-02-17T19:16:17.058Z"
   },
   {
    "duration": 2,
    "start_time": "2023-02-17T19:16:17.086Z"
   },
   {
    "duration": 23,
    "start_time": "2023-02-17T19:16:17.090Z"
   },
   {
    "duration": 62,
    "start_time": "2023-02-17T19:16:17.115Z"
   },
   {
    "duration": 77,
    "start_time": "2023-02-17T19:16:17.179Z"
   },
   {
    "duration": 14,
    "start_time": "2023-02-17T19:16:17.258Z"
   },
   {
    "duration": 41,
    "start_time": "2023-02-17T19:16:17.273Z"
   },
   {
    "duration": 29,
    "start_time": "2023-02-17T19:16:17.318Z"
   },
   {
    "duration": 8,
    "start_time": "2023-02-17T19:16:17.348Z"
   },
   {
    "duration": 84,
    "start_time": "2023-02-17T19:16:17.357Z"
   },
   {
    "duration": 5,
    "start_time": "2023-02-17T19:16:17.443Z"
   },
   {
    "duration": 291,
    "start_time": "2023-02-17T19:16:17.449Z"
   },
   {
    "duration": 16,
    "start_time": "2023-02-17T19:16:17.742Z"
   },
   {
    "duration": 25,
    "start_time": "2023-02-17T19:16:17.759Z"
   },
   {
    "duration": 44,
    "start_time": "2023-02-17T19:16:17.786Z"
   },
   {
    "duration": 13,
    "start_time": "2023-02-17T19:16:17.832Z"
   },
   {
    "duration": 199,
    "start_time": "2023-02-17T19:16:17.847Z"
   },
   {
    "duration": 31,
    "start_time": "2023-02-17T19:16:18.048Z"
   },
   {
    "duration": 73,
    "start_time": "2023-02-17T19:16:18.081Z"
   },
   {
    "duration": 6,
    "start_time": "2023-02-17T19:16:18.156Z"
   },
   {
    "duration": 26,
    "start_time": "2023-02-17T19:16:18.164Z"
   },
   {
    "duration": 29,
    "start_time": "2023-02-17T19:16:18.192Z"
   },
   {
    "duration": 20,
    "start_time": "2023-02-17T19:16:18.222Z"
   },
   {
    "duration": 22,
    "start_time": "2023-02-17T19:16:18.243Z"
   },
   {
    "duration": 6,
    "start_time": "2023-02-17T19:16:18.267Z"
   },
   {
    "duration": 211,
    "start_time": "2023-02-17T19:16:18.276Z"
   },
   {
    "duration": 208,
    "start_time": "2023-02-17T19:16:18.488Z"
   },
   {
    "duration": 4,
    "start_time": "2023-02-17T19:16:18.697Z"
   },
   {
    "duration": 14,
    "start_time": "2023-02-17T19:16:18.702Z"
   },
   {
    "duration": 3,
    "start_time": "2023-02-17T19:16:18.717Z"
   },
   {
    "duration": 21,
    "start_time": "2023-02-17T19:16:18.722Z"
   },
   {
    "duration": 15,
    "start_time": "2023-02-17T19:16:18.744Z"
   },
   {
    "duration": 14,
    "start_time": "2023-02-17T19:16:18.760Z"
   },
   {
    "duration": 40,
    "start_time": "2023-02-17T19:16:18.776Z"
   },
   {
    "duration": 13,
    "start_time": "2023-02-17T19:16:18.817Z"
   },
   {
    "duration": 6,
    "start_time": "2023-02-17T19:16:18.831Z"
   },
   {
    "duration": 23,
    "start_time": "2023-02-17T19:16:18.838Z"
   },
   {
    "duration": 16,
    "start_time": "2023-02-17T19:16:18.862Z"
   },
   {
    "duration": 40,
    "start_time": "2023-02-17T19:16:18.879Z"
   },
   {
    "duration": 17,
    "start_time": "2023-02-17T19:16:18.921Z"
   },
   {
    "duration": 14,
    "start_time": "2023-02-17T19:16:18.940Z"
   },
   {
    "duration": 4,
    "start_time": "2023-02-17T19:16:18.956Z"
   },
   {
    "duration": 19,
    "start_time": "2023-02-17T19:16:18.961Z"
   },
   {
    "duration": 15,
    "start_time": "2023-02-17T19:16:19.010Z"
   },
   {
    "duration": 17,
    "start_time": "2023-02-17T19:16:19.027Z"
   },
   {
    "duration": 15,
    "start_time": "2023-02-17T19:16:19.046Z"
   },
   {
    "duration": 14,
    "start_time": "2023-02-17T19:16:19.062Z"
   },
   {
    "duration": 5,
    "start_time": "2023-02-17T19:37:44.754Z"
   },
   {
    "duration": 1389,
    "start_time": "2023-02-19T07:58:41.778Z"
   },
   {
    "duration": 543,
    "start_time": "2023-02-19T07:58:43.169Z"
   },
   {
    "duration": 28,
    "start_time": "2023-02-19T07:58:43.715Z"
   },
   {
    "duration": 4,
    "start_time": "2023-02-19T07:58:43.745Z"
   },
   {
    "duration": 15,
    "start_time": "2023-02-19T07:58:43.752Z"
   },
   {
    "duration": 72,
    "start_time": "2023-02-19T07:58:43.769Z"
   },
   {
    "duration": 75,
    "start_time": "2023-02-19T07:58:43.842Z"
   },
   {
    "duration": 202,
    "start_time": "2023-02-19T07:58:43.918Z"
   },
   {
    "duration": 15,
    "start_time": "2023-02-19T07:58:44.121Z"
   },
   {
    "duration": 24,
    "start_time": "2023-02-19T07:58:44.138Z"
   },
   {
    "duration": 51,
    "start_time": "2023-02-19T07:58:44.164Z"
   },
   {
    "duration": 14,
    "start_time": "2023-02-19T07:58:44.217Z"
   },
   {
    "duration": 81,
    "start_time": "2023-02-19T07:58:44.233Z"
   },
   {
    "duration": 5,
    "start_time": "2023-02-19T07:58:44.316Z"
   },
   {
    "duration": 298,
    "start_time": "2023-02-19T07:58:44.322Z"
   },
   {
    "duration": 16,
    "start_time": "2023-02-19T07:58:44.623Z"
   },
   {
    "duration": 24,
    "start_time": "2023-02-19T07:58:44.641Z"
   },
   {
    "duration": 52,
    "start_time": "2023-02-19T07:58:44.667Z"
   },
   {
    "duration": 15,
    "start_time": "2023-02-19T07:58:44.721Z"
   },
   {
    "duration": 211,
    "start_time": "2023-02-19T07:58:44.738Z"
   },
   {
    "duration": 54,
    "start_time": "2023-02-19T07:58:44.951Z"
   },
   {
    "duration": 60,
    "start_time": "2023-02-19T07:58:45.007Z"
   },
   {
    "duration": 9,
    "start_time": "2023-02-19T07:58:45.069Z"
   },
   {
    "duration": 44,
    "start_time": "2023-02-19T07:58:45.080Z"
   },
   {
    "duration": 23,
    "start_time": "2023-02-19T07:58:45.126Z"
   },
   {
    "duration": 19,
    "start_time": "2023-02-19T07:58:45.151Z"
   },
   {
    "duration": 25,
    "start_time": "2023-02-19T07:58:45.172Z"
   },
   {
    "duration": 9,
    "start_time": "2023-02-19T07:58:45.201Z"
   },
   {
    "duration": 25,
    "start_time": "2023-02-19T07:58:45.212Z"
   },
   {
    "duration": 216,
    "start_time": "2023-02-19T07:58:45.239Z"
   },
   {
    "duration": 250,
    "start_time": "2023-02-19T07:58:45.457Z"
   },
   {
    "duration": 5,
    "start_time": "2023-02-19T07:58:45.709Z"
   },
   {
    "duration": 23,
    "start_time": "2023-02-19T07:58:45.716Z"
   },
   {
    "duration": 7,
    "start_time": "2023-02-19T07:58:45.741Z"
   },
   {
    "duration": 18,
    "start_time": "2023-02-19T07:58:45.749Z"
   },
   {
    "duration": 23,
    "start_time": "2023-02-19T07:58:45.769Z"
   },
   {
    "duration": 22,
    "start_time": "2023-02-19T07:58:45.794Z"
   },
   {
    "duration": 14,
    "start_time": "2023-02-19T07:58:45.818Z"
   },
   {
    "duration": 13,
    "start_time": "2023-02-19T07:58:45.834Z"
   },
   {
    "duration": 4,
    "start_time": "2023-02-19T07:58:45.849Z"
   },
   {
    "duration": 53,
    "start_time": "2023-02-19T07:58:45.854Z"
   },
   {
    "duration": 16,
    "start_time": "2023-02-19T07:58:45.909Z"
   },
   {
    "duration": 20,
    "start_time": "2023-02-19T07:58:45.927Z"
   },
   {
    "duration": 23,
    "start_time": "2023-02-19T07:58:45.949Z"
   },
   {
    "duration": 18,
    "start_time": "2023-02-19T07:58:45.992Z"
   },
   {
    "duration": 26,
    "start_time": "2023-02-19T07:58:46.012Z"
   },
   {
    "duration": 29,
    "start_time": "2023-02-19T07:58:46.040Z"
   },
   {
    "duration": 25,
    "start_time": "2023-02-19T07:58:46.071Z"
   },
   {
    "duration": 27,
    "start_time": "2023-02-19T07:58:46.102Z"
   },
   {
    "duration": 32,
    "start_time": "2023-02-19T07:58:46.131Z"
   },
   {
    "duration": 15,
    "start_time": "2023-02-19T07:58:46.165Z"
   },
   {
    "duration": 193,
    "start_time": "2023-02-19T08:03:24.740Z"
   },
   {
    "duration": 17,
    "start_time": "2023-02-19T08:04:15.476Z"
   },
   {
    "duration": 14,
    "start_time": "2023-02-19T08:04:26.266Z"
   },
   {
    "duration": 85,
    "start_time": "2023-02-19T08:04:33.169Z"
   },
   {
    "duration": 13,
    "start_time": "2023-02-19T08:04:40.887Z"
   },
   {
    "duration": 3,
    "start_time": "2023-02-19T08:05:53.576Z"
   },
   {
    "duration": 4,
    "start_time": "2023-02-19T08:06:08.373Z"
   },
   {
    "duration": 4,
    "start_time": "2023-02-19T08:06:16.591Z"
   },
   {
    "duration": 17,
    "start_time": "2023-02-19T08:06:23.582Z"
   },
   {
    "duration": 15,
    "start_time": "2023-02-19T08:06:45.415Z"
   },
   {
    "duration": 5,
    "start_time": "2023-02-19T08:07:31.889Z"
   },
   {
    "duration": 3,
    "start_time": "2023-02-19T08:07:54.221Z"
   },
   {
    "duration": 25,
    "start_time": "2023-02-19T08:07:59.550Z"
   },
   {
    "duration": 4,
    "start_time": "2023-02-19T08:08:13.770Z"
   },
   {
    "duration": 4,
    "start_time": "2023-02-19T08:08:33.655Z"
   },
   {
    "duration": 25,
    "start_time": "2023-02-19T08:08:52.945Z"
   },
   {
    "duration": 49,
    "start_time": "2023-02-19T08:09:14.942Z"
   },
   {
    "duration": 36,
    "start_time": "2023-02-19T08:09:30.963Z"
   },
   {
    "duration": 63,
    "start_time": "2023-02-19T08:22:04.226Z"
   },
   {
    "duration": 116,
    "start_time": "2023-02-19T08:24:20.918Z"
   },
   {
    "duration": 7,
    "start_time": "2023-02-19T08:24:46.928Z"
   },
   {
    "duration": 1500,
    "start_time": "2023-02-19T08:25:04.050Z"
   },
   {
    "duration": 293,
    "start_time": "2023-02-19T08:25:05.552Z"
   },
   {
    "duration": 28,
    "start_time": "2023-02-19T08:25:05.847Z"
   },
   {
    "duration": 4,
    "start_time": "2023-02-19T08:25:05.877Z"
   },
   {
    "duration": 44,
    "start_time": "2023-02-19T08:25:05.883Z"
   },
   {
    "duration": 109,
    "start_time": "2023-02-19T08:25:05.933Z"
   },
   {
    "duration": 95,
    "start_time": "2023-02-19T08:25:06.046Z"
   },
   {
    "duration": 275,
    "start_time": "2023-02-19T08:25:06.143Z"
   },
   {
    "duration": 26,
    "start_time": "2023-02-19T08:25:06.420Z"
   },
   {
    "duration": 34,
    "start_time": "2023-02-19T08:25:06.449Z"
   },
   {
    "duration": 52,
    "start_time": "2023-02-19T08:25:06.485Z"
   },
   {
    "duration": 10,
    "start_time": "2023-02-19T08:25:06.539Z"
   },
   {
    "duration": 115,
    "start_time": "2023-02-19T08:25:06.551Z"
   },
   {
    "duration": 5,
    "start_time": "2023-02-19T08:25:06.669Z"
   },
   {
    "duration": 343,
    "start_time": "2023-02-19T08:25:06.675Z"
   },
   {
    "duration": 19,
    "start_time": "2023-02-19T08:25:07.021Z"
   },
   {
    "duration": 29,
    "start_time": "2023-02-19T08:25:07.042Z"
   },
   {
    "duration": 43,
    "start_time": "2023-02-19T08:25:07.093Z"
   },
   {
    "duration": 16,
    "start_time": "2023-02-19T08:25:07.137Z"
   },
   {
    "duration": 247,
    "start_time": "2023-02-19T08:25:07.156Z"
   },
   {
    "duration": 40,
    "start_time": "2023-02-19T08:25:07.405Z"
   },
   {
    "duration": 77,
    "start_time": "2023-02-19T08:25:07.447Z"
   },
   {
    "duration": 10,
    "start_time": "2023-02-19T08:25:07.526Z"
   },
   {
    "duration": 11,
    "start_time": "2023-02-19T08:25:07.537Z"
   },
   {
    "duration": 11,
    "start_time": "2023-02-19T08:25:07.551Z"
   },
   {
    "duration": 42,
    "start_time": "2023-02-19T08:25:07.564Z"
   },
   {
    "duration": 40,
    "start_time": "2023-02-19T08:25:07.608Z"
   },
   {
    "duration": 20,
    "start_time": "2023-02-19T08:25:07.650Z"
   },
   {
    "duration": 5,
    "start_time": "2023-02-19T08:25:07.671Z"
   },
   {
    "duration": 6,
    "start_time": "2023-02-19T08:25:07.678Z"
   },
   {
    "duration": 260,
    "start_time": "2023-02-19T08:25:07.686Z"
   },
   {
    "duration": 246,
    "start_time": "2023-02-19T08:25:07.948Z"
   },
   {
    "duration": 21,
    "start_time": "2023-02-19T08:25:08.196Z"
   },
   {
    "duration": 17,
    "start_time": "2023-02-19T08:25:08.220Z"
   },
   {
    "duration": 11,
    "start_time": "2023-02-19T08:25:08.239Z"
   },
   {
    "duration": 27,
    "start_time": "2023-02-19T08:25:08.252Z"
   },
   {
    "duration": 36,
    "start_time": "2023-02-19T08:25:08.281Z"
   },
   {
    "duration": 35,
    "start_time": "2023-02-19T08:25:08.319Z"
   },
   {
    "duration": 17,
    "start_time": "2023-02-19T08:25:08.356Z"
   },
   {
    "duration": 24,
    "start_time": "2023-02-19T08:25:08.375Z"
   },
   {
    "duration": 19,
    "start_time": "2023-02-19T08:25:08.407Z"
   },
   {
    "duration": 24,
    "start_time": "2023-02-19T08:25:08.428Z"
   },
   {
    "duration": 18,
    "start_time": "2023-02-19T08:25:08.455Z"
   },
   {
    "duration": 47,
    "start_time": "2023-02-19T08:25:08.475Z"
   },
   {
    "duration": 17,
    "start_time": "2023-02-19T08:25:08.524Z"
   },
   {
    "duration": 19,
    "start_time": "2023-02-19T08:25:08.543Z"
   },
   {
    "duration": 4,
    "start_time": "2023-02-19T08:25:08.564Z"
   },
   {
    "duration": 34,
    "start_time": "2023-02-19T08:25:08.570Z"
   },
   {
    "duration": 29,
    "start_time": "2023-02-19T08:25:08.617Z"
   },
   {
    "duration": 16,
    "start_time": "2023-02-19T08:25:08.647Z"
   },
   {
    "duration": 16,
    "start_time": "2023-02-19T08:25:08.665Z"
   },
   {
    "duration": 42,
    "start_time": "2023-02-19T08:25:08.682Z"
   },
   {
    "duration": 8,
    "start_time": "2023-02-19T08:25:59.845Z"
   },
   {
    "duration": 6,
    "start_time": "2023-02-19T08:26:16.729Z"
   },
   {
    "duration": 4,
    "start_time": "2023-02-19T08:26:39.454Z"
   },
   {
    "duration": 6,
    "start_time": "2023-02-19T08:26:51.858Z"
   },
   {
    "duration": 6,
    "start_time": "2023-02-19T08:26:57.461Z"
   },
   {
    "duration": 76,
    "start_time": "2023-02-19T08:30:26.509Z"
   },
   {
    "duration": 94,
    "start_time": "2023-02-19T08:31:15.361Z"
   },
   {
    "duration": 81,
    "start_time": "2023-02-19T08:32:18.227Z"
   },
   {
    "duration": 1416,
    "start_time": "2023-02-19T08:32:33.466Z"
   },
   {
    "duration": 223,
    "start_time": "2023-02-19T08:32:34.884Z"
   },
   {
    "duration": 32,
    "start_time": "2023-02-19T08:32:35.117Z"
   },
   {
    "duration": 3,
    "start_time": "2023-02-19T08:32:35.152Z"
   },
   {
    "duration": 17,
    "start_time": "2023-02-19T08:32:35.157Z"
   },
   {
    "duration": 91,
    "start_time": "2023-02-19T08:32:35.176Z"
   },
   {
    "duration": 113,
    "start_time": "2023-02-19T08:32:35.269Z"
   },
   {
    "duration": 246,
    "start_time": "2023-02-19T08:32:35.385Z"
   },
   {
    "duration": 14,
    "start_time": "2023-02-19T08:32:35.633Z"
   },
   {
    "duration": 37,
    "start_time": "2023-02-19T08:32:35.650Z"
   },
   {
    "duration": 41,
    "start_time": "2023-02-19T08:32:35.699Z"
   },
   {
    "duration": 14,
    "start_time": "2023-02-19T08:32:35.742Z"
   },
   {
    "duration": 94,
    "start_time": "2023-02-19T08:32:35.758Z"
   },
   {
    "duration": 7,
    "start_time": "2023-02-19T08:32:35.854Z"
   },
   {
    "duration": 396,
    "start_time": "2023-02-19T08:32:35.863Z"
   },
   {
    "duration": 19,
    "start_time": "2023-02-19T08:32:36.261Z"
   },
   {
    "duration": 39,
    "start_time": "2023-02-19T08:32:36.301Z"
   },
   {
    "duration": 33,
    "start_time": "2023-02-19T08:32:36.342Z"
   },
   {
    "duration": 56,
    "start_time": "2023-02-19T08:32:36.378Z"
   },
   {
    "duration": 273,
    "start_time": "2023-02-19T08:32:36.436Z"
   },
   {
    "duration": 30,
    "start_time": "2023-02-19T08:32:36.724Z"
   },
   {
    "duration": 71,
    "start_time": "2023-02-19T08:32:36.755Z"
   },
   {
    "duration": 10,
    "start_time": "2023-02-19T08:32:36.828Z"
   },
   {
    "duration": 14,
    "start_time": "2023-02-19T08:32:36.841Z"
   },
   {
    "duration": 55,
    "start_time": "2023-02-19T08:32:36.858Z"
   },
   {
    "duration": 24,
    "start_time": "2023-02-19T08:32:36.915Z"
   },
   {
    "duration": 33,
    "start_time": "2023-02-19T08:32:36.941Z"
   },
   {
    "duration": 45,
    "start_time": "2023-02-19T08:32:36.977Z"
   },
   {
    "duration": 7,
    "start_time": "2023-02-19T08:32:37.025Z"
   },
   {
    "duration": 237,
    "start_time": "2023-02-19T08:32:37.034Z"
   },
   {
    "duration": 266,
    "start_time": "2023-02-19T08:32:37.273Z"
   },
   {
    "duration": 5,
    "start_time": "2023-02-19T08:32:37.541Z"
   },
   {
    "duration": 12,
    "start_time": "2023-02-19T08:32:37.548Z"
   },
   {
    "duration": 5,
    "start_time": "2023-02-19T08:32:37.562Z"
   },
   {
    "duration": 36,
    "start_time": "2023-02-19T08:32:37.596Z"
   },
   {
    "duration": 16,
    "start_time": "2023-02-19T08:32:37.633Z"
   },
   {
    "duration": 16,
    "start_time": "2023-02-19T08:32:37.651Z"
   },
   {
    "duration": 44,
    "start_time": "2023-02-19T08:32:37.669Z"
   },
   {
    "duration": 29,
    "start_time": "2023-02-19T08:32:37.716Z"
   },
   {
    "duration": 4,
    "start_time": "2023-02-19T08:32:37.747Z"
   },
   {
    "duration": 22,
    "start_time": "2023-02-19T08:32:37.753Z"
   },
   {
    "duration": 26,
    "start_time": "2023-02-19T08:32:37.777Z"
   },
   {
    "duration": 39,
    "start_time": "2023-02-19T08:32:37.805Z"
   },
   {
    "duration": 16,
    "start_time": "2023-02-19T08:32:37.846Z"
   },
   {
    "duration": 14,
    "start_time": "2023-02-19T08:32:37.864Z"
   },
   {
    "duration": 23,
    "start_time": "2023-02-19T08:32:37.880Z"
   },
   {
    "duration": 37,
    "start_time": "2023-02-19T08:32:37.906Z"
   },
   {
    "duration": 18,
    "start_time": "2023-02-19T08:32:37.944Z"
   },
   {
    "duration": 19,
    "start_time": "2023-02-19T08:32:37.963Z"
   },
   {
    "duration": 33,
    "start_time": "2023-02-19T08:32:37.984Z"
   },
   {
    "duration": 24,
    "start_time": "2023-02-19T08:32:38.019Z"
   },
   {
    "duration": 8,
    "start_time": "2023-02-19T08:33:12.264Z"
   },
   {
    "duration": 11,
    "start_time": "2023-02-19T08:33:20.224Z"
   },
   {
    "duration": 9,
    "start_time": "2023-02-19T08:34:24.769Z"
   },
   {
    "duration": 7,
    "start_time": "2023-02-19T08:34:47.666Z"
   },
   {
    "duration": 10,
    "start_time": "2023-02-19T08:35:04.374Z"
   },
   {
    "duration": 13,
    "start_time": "2023-02-19T08:35:30.753Z"
   },
   {
    "duration": 15,
    "start_time": "2023-02-19T08:36:19.142Z"
   },
   {
    "duration": 14,
    "start_time": "2023-02-19T08:36:25.126Z"
   },
   {
    "duration": 146,
    "start_time": "2023-02-19T08:36:35.544Z"
   },
   {
    "duration": 11,
    "start_time": "2023-02-19T08:36:51.744Z"
   },
   {
    "duration": 13,
    "start_time": "2023-02-19T08:36:58.633Z"
   },
   {
    "duration": 25,
    "start_time": "2023-02-19T08:37:23.284Z"
   },
   {
    "duration": 10,
    "start_time": "2023-02-19T08:38:08.043Z"
   },
   {
    "duration": 25,
    "start_time": "2023-02-19T08:39:11.517Z"
   },
   {
    "duration": 16,
    "start_time": "2023-02-19T08:39:51.761Z"
   },
   {
    "duration": 18,
    "start_time": "2023-02-19T08:40:04.415Z"
   },
   {
    "duration": 11,
    "start_time": "2023-02-19T08:41:31.437Z"
   },
   {
    "duration": 19,
    "start_time": "2023-02-19T08:41:47.121Z"
   },
   {
    "duration": 16,
    "start_time": "2023-02-19T08:42:28.323Z"
   },
   {
    "duration": 23,
    "start_time": "2023-02-19T08:42:33.988Z"
   },
   {
    "duration": 10,
    "start_time": "2023-02-19T08:42:51.153Z"
   },
   {
    "duration": 8,
    "start_time": "2023-02-19T08:43:37.676Z"
   },
   {
    "duration": 8,
    "start_time": "2023-02-19T08:43:58.841Z"
   },
   {
    "duration": 36,
    "start_time": "2023-02-19T08:44:14.911Z"
   },
   {
    "duration": 26,
    "start_time": "2023-02-19T08:44:38.284Z"
   },
   {
    "duration": 1409,
    "start_time": "2023-02-19T08:44:48.182Z"
   },
   {
    "duration": 179,
    "start_time": "2023-02-19T08:44:49.609Z"
   },
   {
    "duration": 49,
    "start_time": "2023-02-19T08:44:49.790Z"
   },
   {
    "duration": 6,
    "start_time": "2023-02-19T08:44:49.842Z"
   },
   {
    "duration": 24,
    "start_time": "2023-02-19T08:44:49.851Z"
   },
   {
    "duration": 92,
    "start_time": "2023-02-19T08:44:49.877Z"
   },
   {
    "duration": 107,
    "start_time": "2023-02-19T08:44:49.971Z"
   },
   {
    "duration": 249,
    "start_time": "2023-02-19T08:44:50.080Z"
   },
   {
    "duration": 16,
    "start_time": "2023-02-19T08:44:50.331Z"
   },
   {
    "duration": 60,
    "start_time": "2023-02-19T08:44:50.348Z"
   },
   {
    "duration": 44,
    "start_time": "2023-02-19T08:44:50.410Z"
   },
   {
    "duration": 15,
    "start_time": "2023-02-19T08:44:50.456Z"
   },
   {
    "duration": 129,
    "start_time": "2023-02-19T08:44:50.473Z"
   },
   {
    "duration": 30,
    "start_time": "2023-02-19T08:44:50.610Z"
   },
   {
    "duration": 381,
    "start_time": "2023-02-19T08:44:50.642Z"
   },
   {
    "duration": 20,
    "start_time": "2023-02-19T08:44:51.025Z"
   },
   {
    "duration": 63,
    "start_time": "2023-02-19T08:44:51.046Z"
   },
   {
    "duration": 32,
    "start_time": "2023-02-19T08:44:51.115Z"
   },
   {
    "duration": 16,
    "start_time": "2023-02-19T08:44:51.149Z"
   },
   {
    "duration": 258,
    "start_time": "2023-02-19T08:44:51.166Z"
   },
   {
    "duration": 30,
    "start_time": "2023-02-19T08:44:51.425Z"
   },
   {
    "duration": 79,
    "start_time": "2023-02-19T08:44:51.456Z"
   },
   {
    "duration": 13,
    "start_time": "2023-02-19T08:44:51.536Z"
   },
   {
    "duration": 13,
    "start_time": "2023-02-19T08:44:51.550Z"
   },
   {
    "duration": 45,
    "start_time": "2023-02-19T08:44:51.567Z"
   },
   {
    "duration": 48,
    "start_time": "2023-02-19T08:44:51.615Z"
   },
   {
    "duration": 24,
    "start_time": "2023-02-19T08:44:51.665Z"
   },
   {
    "duration": 6,
    "start_time": "2023-02-19T08:44:51.692Z"
   },
   {
    "duration": 47,
    "start_time": "2023-02-19T08:44:51.703Z"
   },
   {
    "duration": 287,
    "start_time": "2023-02-19T08:44:51.752Z"
   },
   {
    "duration": 275,
    "start_time": "2023-02-19T08:44:52.041Z"
   },
   {
    "duration": 13,
    "start_time": "2023-02-19T08:44:52.318Z"
   },
   {
    "duration": 31,
    "start_time": "2023-02-19T08:44:52.333Z"
   },
   {
    "duration": 23,
    "start_time": "2023-02-19T08:44:52.366Z"
   },
   {
    "duration": 63,
    "start_time": "2023-02-19T08:44:52.391Z"
   },
   {
    "duration": 16,
    "start_time": "2023-02-19T08:44:52.456Z"
   },
   {
    "duration": 27,
    "start_time": "2023-02-19T08:44:52.474Z"
   },
   {
    "duration": 32,
    "start_time": "2023-02-19T08:44:52.502Z"
   },
   {
    "duration": 25,
    "start_time": "2023-02-19T08:44:52.536Z"
   },
   {
    "duration": 21,
    "start_time": "2023-02-19T08:44:52.562Z"
   },
   {
    "duration": 31,
    "start_time": "2023-02-19T08:44:52.588Z"
   },
   {
    "duration": 46,
    "start_time": "2023-02-19T08:44:52.621Z"
   },
   {
    "duration": 18,
    "start_time": "2023-02-19T08:44:52.669Z"
   },
   {
    "duration": 38,
    "start_time": "2023-02-19T08:44:52.689Z"
   },
   {
    "duration": 23,
    "start_time": "2023-02-19T08:44:52.729Z"
   },
   {
    "duration": 11,
    "start_time": "2023-02-19T08:44:52.754Z"
   },
   {
    "duration": 43,
    "start_time": "2023-02-19T08:44:52.767Z"
   },
   {
    "duration": 24,
    "start_time": "2023-02-19T08:44:52.813Z"
   },
   {
    "duration": 18,
    "start_time": "2023-02-19T08:44:52.839Z"
   },
   {
    "duration": 18,
    "start_time": "2023-02-19T08:44:52.859Z"
   },
   {
    "duration": 34,
    "start_time": "2023-02-19T08:44:52.879Z"
   },
   {
    "duration": 1308,
    "start_time": "2023-02-20T06:25:07.813Z"
   },
   {
    "duration": 709,
    "start_time": "2023-02-20T06:25:09.123Z"
   },
   {
    "duration": 29,
    "start_time": "2023-02-20T06:25:09.834Z"
   },
   {
    "duration": 4,
    "start_time": "2023-02-20T06:25:09.865Z"
   },
   {
    "duration": 15,
    "start_time": "2023-02-20T06:25:09.870Z"
   },
   {
    "duration": 69,
    "start_time": "2023-02-20T06:25:09.886Z"
   },
   {
    "duration": 83,
    "start_time": "2023-02-20T06:25:09.956Z"
   },
   {
    "duration": 203,
    "start_time": "2023-02-20T06:25:10.041Z"
   },
   {
    "duration": 15,
    "start_time": "2023-02-20T06:25:10.245Z"
   },
   {
    "duration": 25,
    "start_time": "2023-02-20T06:25:10.263Z"
   },
   {
    "duration": 37,
    "start_time": "2023-02-20T06:25:10.289Z"
   },
   {
    "duration": 15,
    "start_time": "2023-02-20T06:25:10.327Z"
   },
   {
    "duration": 80,
    "start_time": "2023-02-20T06:25:10.345Z"
   },
   {
    "duration": 5,
    "start_time": "2023-02-20T06:25:10.427Z"
   },
   {
    "duration": 291,
    "start_time": "2023-02-20T06:25:10.434Z"
   },
   {
    "duration": 15,
    "start_time": "2023-02-20T06:25:10.726Z"
   },
   {
    "duration": 32,
    "start_time": "2023-02-20T06:25:10.743Z"
   },
   {
    "duration": 37,
    "start_time": "2023-02-20T06:25:10.777Z"
   },
   {
    "duration": 20,
    "start_time": "2023-02-20T06:25:10.815Z"
   },
   {
    "duration": 193,
    "start_time": "2023-02-20T06:25:10.836Z"
   },
   {
    "duration": 27,
    "start_time": "2023-02-20T06:25:11.030Z"
   },
   {
    "duration": 70,
    "start_time": "2023-02-20T06:25:11.058Z"
   },
   {
    "duration": 12,
    "start_time": "2023-02-20T06:25:11.130Z"
   },
   {
    "duration": 11,
    "start_time": "2023-02-20T06:25:11.144Z"
   },
   {
    "duration": 17,
    "start_time": "2023-02-20T06:25:11.156Z"
   },
   {
    "duration": 39,
    "start_time": "2023-02-20T06:25:11.175Z"
   },
   {
    "duration": 22,
    "start_time": "2023-02-20T06:25:11.215Z"
   },
   {
    "duration": 6,
    "start_time": "2023-02-20T06:25:11.241Z"
   },
   {
    "duration": 9,
    "start_time": "2023-02-20T06:25:11.249Z"
   },
   {
    "duration": 209,
    "start_time": "2023-02-20T06:25:11.260Z"
   },
   {
    "duration": 211,
    "start_time": "2023-02-20T06:25:11.471Z"
   },
   {
    "duration": 5,
    "start_time": "2023-02-20T06:25:11.684Z"
   },
   {
    "duration": 22,
    "start_time": "2023-02-20T06:25:11.690Z"
   },
   {
    "duration": 65,
    "start_time": "2023-02-20T06:25:11.713Z"
   },
   {
    "duration": 0,
    "start_time": "2023-02-20T06:25:11.780Z"
   },
   {
    "duration": 0,
    "start_time": "2023-02-20T06:25:11.781Z"
   },
   {
    "duration": 0,
    "start_time": "2023-02-20T06:25:11.782Z"
   },
   {
    "duration": 0,
    "start_time": "2023-02-20T06:25:11.783Z"
   },
   {
    "duration": 0,
    "start_time": "2023-02-20T06:25:11.784Z"
   },
   {
    "duration": 0,
    "start_time": "2023-02-20T06:25:11.785Z"
   },
   {
    "duration": 0,
    "start_time": "2023-02-20T06:25:11.787Z"
   },
   {
    "duration": 0,
    "start_time": "2023-02-20T06:25:11.788Z"
   },
   {
    "duration": 0,
    "start_time": "2023-02-20T06:25:11.788Z"
   },
   {
    "duration": 0,
    "start_time": "2023-02-20T06:25:11.790Z"
   },
   {
    "duration": 0,
    "start_time": "2023-02-20T06:25:11.791Z"
   },
   {
    "duration": 0,
    "start_time": "2023-02-20T06:25:11.792Z"
   },
   {
    "duration": 0,
    "start_time": "2023-02-20T06:25:11.793Z"
   },
   {
    "duration": 0,
    "start_time": "2023-02-20T06:25:11.794Z"
   },
   {
    "duration": 0,
    "start_time": "2023-02-20T06:25:11.795Z"
   },
   {
    "duration": 0,
    "start_time": "2023-02-20T06:25:11.796Z"
   },
   {
    "duration": 0,
    "start_time": "2023-02-20T06:25:11.797Z"
   },
   {
    "duration": 48,
    "start_time": "2023-02-20T06:25:58.697Z"
   },
   {
    "duration": 6,
    "start_time": "2023-02-20T06:26:18.284Z"
   },
   {
    "duration": 5,
    "start_time": "2023-02-20T07:18:23.667Z"
   },
   {
    "duration": 5,
    "start_time": "2023-02-20T07:18:24.327Z"
   },
   {
    "duration": 4,
    "start_time": "2023-02-20T07:20:20.114Z"
   },
   {
    "duration": 4,
    "start_time": "2023-02-20T07:20:27.913Z"
   },
   {
    "duration": 4,
    "start_time": "2023-02-20T07:20:37.830Z"
   },
   {
    "duration": 67,
    "start_time": "2023-02-20T07:21:27.618Z"
   },
   {
    "duration": 84,
    "start_time": "2023-02-20T07:22:22.848Z"
   },
   {
    "duration": 60,
    "start_time": "2023-02-20T07:22:27.013Z"
   },
   {
    "duration": 62,
    "start_time": "2023-02-20T07:22:43.656Z"
   },
   {
    "duration": 60,
    "start_time": "2023-02-20T07:22:50.836Z"
   },
   {
    "duration": 55,
    "start_time": "2023-02-20T07:23:15.371Z"
   },
   {
    "duration": 52,
    "start_time": "2023-02-20T07:23:49.982Z"
   },
   {
    "duration": 108,
    "start_time": "2023-02-20T07:23:56.197Z"
   },
   {
    "duration": 1129,
    "start_time": "2023-02-20T07:24:02.450Z"
   },
   {
    "duration": 144,
    "start_time": "2023-02-20T07:24:03.581Z"
   },
   {
    "duration": 29,
    "start_time": "2023-02-20T07:24:03.726Z"
   },
   {
    "duration": 4,
    "start_time": "2023-02-20T07:24:03.757Z"
   },
   {
    "duration": 21,
    "start_time": "2023-02-20T07:24:03.762Z"
   },
   {
    "duration": 80,
    "start_time": "2023-02-20T07:24:03.784Z"
   },
   {
    "duration": 75,
    "start_time": "2023-02-20T07:24:03.866Z"
   },
   {
    "duration": 225,
    "start_time": "2023-02-20T07:24:03.943Z"
   },
   {
    "duration": 17,
    "start_time": "2023-02-20T07:24:04.172Z"
   },
   {
    "duration": 48,
    "start_time": "2023-02-20T07:24:04.192Z"
   },
   {
    "duration": 35,
    "start_time": "2023-02-20T07:24:04.242Z"
   },
   {
    "duration": 26,
    "start_time": "2023-02-20T07:24:04.279Z"
   },
   {
    "duration": 96,
    "start_time": "2023-02-20T07:24:04.308Z"
   },
   {
    "duration": 6,
    "start_time": "2023-02-20T07:24:04.405Z"
   },
   {
    "duration": 332,
    "start_time": "2023-02-20T07:24:04.413Z"
   },
   {
    "duration": 15,
    "start_time": "2023-02-20T07:24:04.747Z"
   },
   {
    "duration": 42,
    "start_time": "2023-02-20T07:24:04.764Z"
   },
   {
    "duration": 26,
    "start_time": "2023-02-20T07:24:04.807Z"
   },
   {
    "duration": 16,
    "start_time": "2023-02-20T07:24:04.834Z"
   },
   {
    "duration": 209,
    "start_time": "2023-02-20T07:24:04.852Z"
   },
   {
    "duration": 45,
    "start_time": "2023-02-20T07:24:05.063Z"
   },
   {
    "duration": 62,
    "start_time": "2023-02-20T07:24:05.110Z"
   },
   {
    "duration": 12,
    "start_time": "2023-02-20T07:24:05.173Z"
   },
   {
    "duration": 9,
    "start_time": "2023-02-20T07:24:05.204Z"
   },
   {
    "duration": 31,
    "start_time": "2023-02-20T07:24:05.215Z"
   },
   {
    "duration": 21,
    "start_time": "2023-02-20T07:24:05.248Z"
   },
   {
    "duration": 36,
    "start_time": "2023-02-20T07:24:05.271Z"
   },
   {
    "duration": 6,
    "start_time": "2023-02-20T07:24:05.310Z"
   },
   {
    "duration": 8,
    "start_time": "2023-02-20T07:24:05.317Z"
   },
   {
    "duration": 215,
    "start_time": "2023-02-20T07:24:05.326Z"
   },
   {
    "duration": 213,
    "start_time": "2023-02-20T07:24:05.543Z"
   },
   {
    "duration": 9,
    "start_time": "2023-02-20T07:24:05.758Z"
   },
   {
    "duration": 22,
    "start_time": "2023-02-20T07:24:05.769Z"
   },
   {
    "duration": 16,
    "start_time": "2023-02-20T07:24:05.793Z"
   },
   {
    "duration": 107,
    "start_time": "2023-02-20T07:24:05.810Z"
   },
   {
    "duration": 0,
    "start_time": "2023-02-20T07:24:05.919Z"
   },
   {
    "duration": 0,
    "start_time": "2023-02-20T07:24:05.920Z"
   },
   {
    "duration": 0,
    "start_time": "2023-02-20T07:24:05.921Z"
   },
   {
    "duration": 0,
    "start_time": "2023-02-20T07:24:05.922Z"
   },
   {
    "duration": 0,
    "start_time": "2023-02-20T07:24:05.923Z"
   },
   {
    "duration": 0,
    "start_time": "2023-02-20T07:24:05.924Z"
   },
   {
    "duration": 0,
    "start_time": "2023-02-20T07:24:05.925Z"
   },
   {
    "duration": 0,
    "start_time": "2023-02-20T07:24:05.926Z"
   },
   {
    "duration": 0,
    "start_time": "2023-02-20T07:24:05.927Z"
   },
   {
    "duration": 0,
    "start_time": "2023-02-20T07:24:05.928Z"
   },
   {
    "duration": 0,
    "start_time": "2023-02-20T07:24:05.929Z"
   },
   {
    "duration": 0,
    "start_time": "2023-02-20T07:24:05.930Z"
   },
   {
    "duration": 0,
    "start_time": "2023-02-20T07:24:05.931Z"
   },
   {
    "duration": 0,
    "start_time": "2023-02-20T07:24:05.932Z"
   },
   {
    "duration": 0,
    "start_time": "2023-02-20T07:24:05.933Z"
   },
   {
    "duration": 0,
    "start_time": "2023-02-20T07:24:05.934Z"
   },
   {
    "duration": 0,
    "start_time": "2023-02-20T07:24:05.935Z"
   },
   {
    "duration": 4,
    "start_time": "2023-02-20T07:24:22.431Z"
   },
   {
    "duration": 1295,
    "start_time": "2023-02-20T07:24:27.897Z"
   },
   {
    "duration": 154,
    "start_time": "2023-02-20T07:24:29.194Z"
   },
   {
    "duration": 28,
    "start_time": "2023-02-20T07:24:29.350Z"
   },
   {
    "duration": 4,
    "start_time": "2023-02-20T07:24:29.380Z"
   },
   {
    "duration": 30,
    "start_time": "2023-02-20T07:24:29.385Z"
   },
   {
    "duration": 68,
    "start_time": "2023-02-20T07:24:29.417Z"
   },
   {
    "duration": 86,
    "start_time": "2023-02-20T07:24:29.487Z"
   },
   {
    "duration": 211,
    "start_time": "2023-02-20T07:24:29.576Z"
   },
   {
    "duration": 18,
    "start_time": "2023-02-20T07:24:29.789Z"
   },
   {
    "duration": 30,
    "start_time": "2023-02-20T07:24:29.809Z"
   },
   {
    "duration": 31,
    "start_time": "2023-02-20T07:24:29.841Z"
   },
   {
    "duration": 32,
    "start_time": "2023-02-20T07:24:29.874Z"
   },
   {
    "duration": 77,
    "start_time": "2023-02-20T07:24:29.908Z"
   },
   {
    "duration": 16,
    "start_time": "2023-02-20T07:24:29.987Z"
   },
   {
    "duration": 328,
    "start_time": "2023-02-20T07:24:30.005Z"
   },
   {
    "duration": 17,
    "start_time": "2023-02-20T07:24:30.335Z"
   },
   {
    "duration": 55,
    "start_time": "2023-02-20T07:24:30.354Z"
   },
   {
    "duration": 63,
    "start_time": "2023-02-20T07:24:30.411Z"
   },
   {
    "duration": 42,
    "start_time": "2023-02-20T07:24:30.475Z"
   },
   {
    "duration": 209,
    "start_time": "2023-02-20T07:24:30.519Z"
   },
   {
    "duration": 30,
    "start_time": "2023-02-20T07:24:30.730Z"
   },
   {
    "duration": 112,
    "start_time": "2023-02-20T07:24:30.762Z"
   },
   {
    "duration": 14,
    "start_time": "2023-02-20T07:24:30.876Z"
   },
   {
    "duration": 57,
    "start_time": "2023-02-20T07:24:30.893Z"
   },
   {
    "duration": 54,
    "start_time": "2023-02-20T07:24:30.952Z"
   },
   {
    "duration": 59,
    "start_time": "2023-02-20T07:24:31.008Z"
   },
   {
    "duration": 54,
    "start_time": "2023-02-20T07:24:31.068Z"
   },
   {
    "duration": 6,
    "start_time": "2023-02-20T07:24:31.126Z"
   },
   {
    "duration": 25,
    "start_time": "2023-02-20T07:24:31.134Z"
   },
   {
    "duration": 256,
    "start_time": "2023-02-20T07:24:31.160Z"
   },
   {
    "duration": 211,
    "start_time": "2023-02-20T07:24:31.418Z"
   },
   {
    "duration": 9,
    "start_time": "2023-02-20T07:24:31.631Z"
   },
   {
    "duration": 44,
    "start_time": "2023-02-20T07:24:31.642Z"
   },
   {
    "duration": 28,
    "start_time": "2023-02-20T07:24:31.687Z"
   },
   {
    "duration": 27,
    "start_time": "2023-02-20T07:24:31.717Z"
   },
   {
    "duration": 101,
    "start_time": "2023-02-20T07:24:31.746Z"
   },
   {
    "duration": 67,
    "start_time": "2023-02-20T07:24:31.848Z"
   },
   {
    "duration": 73,
    "start_time": "2023-02-20T07:24:31.917Z"
   },
   {
    "duration": 62,
    "start_time": "2023-02-20T07:24:32.003Z"
   },
   {
    "duration": 75,
    "start_time": "2023-02-20T07:24:32.067Z"
   },
   {
    "duration": 4,
    "start_time": "2023-02-20T07:24:32.144Z"
   },
   {
    "duration": 23,
    "start_time": "2023-02-20T07:24:32.150Z"
   },
   {
    "duration": 42,
    "start_time": "2023-02-20T07:24:32.175Z"
   },
   {
    "duration": 21,
    "start_time": "2023-02-20T07:24:32.219Z"
   },
   {
    "duration": 20,
    "start_time": "2023-02-20T07:24:32.242Z"
   },
   {
    "duration": 41,
    "start_time": "2023-02-20T07:24:32.263Z"
   },
   {
    "duration": 4,
    "start_time": "2023-02-20T07:24:32.305Z"
   },
   {
    "duration": 20,
    "start_time": "2023-02-20T07:24:32.311Z"
   },
   {
    "duration": 15,
    "start_time": "2023-02-20T07:24:32.332Z"
   },
   {
    "duration": 17,
    "start_time": "2023-02-20T07:24:32.348Z"
   },
   {
    "duration": 42,
    "start_time": "2023-02-20T07:24:32.366Z"
   },
   {
    "duration": 27,
    "start_time": "2023-02-20T07:24:32.410Z"
   },
   {
    "duration": 4,
    "start_time": "2023-02-20T07:24:59.711Z"
   },
   {
    "duration": 66,
    "start_time": "2023-02-20T07:25:02.348Z"
   },
   {
    "duration": 70,
    "start_time": "2023-02-20T07:25:31.797Z"
   },
   {
    "duration": 1222,
    "start_time": "2023-02-20T07:26:10.151Z"
   },
   {
    "duration": 155,
    "start_time": "2023-02-20T07:26:11.375Z"
   },
   {
    "duration": 30,
    "start_time": "2023-02-20T07:26:11.532Z"
   },
   {
    "duration": 4,
    "start_time": "2023-02-20T07:26:11.564Z"
   },
   {
    "duration": 37,
    "start_time": "2023-02-20T07:26:11.571Z"
   },
   {
    "duration": 74,
    "start_time": "2023-02-20T07:26:11.611Z"
   },
   {
    "duration": 87,
    "start_time": "2023-02-20T07:26:11.687Z"
   },
   {
    "duration": 229,
    "start_time": "2023-02-20T07:26:11.776Z"
   },
   {
    "duration": 14,
    "start_time": "2023-02-20T07:26:12.007Z"
   },
   {
    "duration": 25,
    "start_time": "2023-02-20T07:26:12.023Z"
   },
   {
    "duration": 26,
    "start_time": "2023-02-20T07:26:12.050Z"
   },
   {
    "duration": 33,
    "start_time": "2023-02-20T07:26:12.078Z"
   },
   {
    "duration": 72,
    "start_time": "2023-02-20T07:26:12.113Z"
   },
   {
    "duration": 19,
    "start_time": "2023-02-20T07:26:12.188Z"
   },
   {
    "duration": 306,
    "start_time": "2023-02-20T07:26:12.209Z"
   },
   {
    "duration": 17,
    "start_time": "2023-02-20T07:26:12.516Z"
   },
   {
    "duration": 25,
    "start_time": "2023-02-20T07:26:12.535Z"
   },
   {
    "duration": 51,
    "start_time": "2023-02-20T07:26:12.561Z"
   },
   {
    "duration": 16,
    "start_time": "2023-02-20T07:26:12.614Z"
   },
   {
    "duration": 208,
    "start_time": "2023-02-20T07:26:12.631Z"
   },
   {
    "duration": 28,
    "start_time": "2023-02-20T07:26:12.841Z"
   },
   {
    "duration": 69,
    "start_time": "2023-02-20T07:26:12.871Z"
   },
   {
    "duration": 12,
    "start_time": "2023-02-20T07:26:12.942Z"
   },
   {
    "duration": 11,
    "start_time": "2023-02-20T07:26:12.956Z"
   },
   {
    "duration": 45,
    "start_time": "2023-02-20T07:26:12.969Z"
   },
   {
    "duration": 23,
    "start_time": "2023-02-20T07:26:13.016Z"
   },
   {
    "duration": 22,
    "start_time": "2023-02-20T07:26:13.041Z"
   },
   {
    "duration": 6,
    "start_time": "2023-02-20T07:26:13.065Z"
   },
   {
    "duration": 7,
    "start_time": "2023-02-20T07:26:13.072Z"
   },
   {
    "duration": 222,
    "start_time": "2023-02-20T07:26:13.104Z"
   },
   {
    "duration": 220,
    "start_time": "2023-02-20T07:26:13.328Z"
   },
   {
    "duration": 10,
    "start_time": "2023-02-20T07:26:13.549Z"
   },
   {
    "duration": 18,
    "start_time": "2023-02-20T07:26:13.561Z"
   },
   {
    "duration": 6,
    "start_time": "2023-02-20T07:26:13.580Z"
   },
   {
    "duration": 16,
    "start_time": "2023-02-20T07:26:13.588Z"
   },
   {
    "duration": 72,
    "start_time": "2023-02-20T07:26:13.606Z"
   },
   {
    "duration": 70,
    "start_time": "2023-02-20T07:26:13.680Z"
   },
   {
    "duration": 68,
    "start_time": "2023-02-20T07:26:13.753Z"
   },
   {
    "duration": 56,
    "start_time": "2023-02-20T07:26:13.822Z"
   },
   {
    "duration": 67,
    "start_time": "2023-02-20T07:26:13.880Z"
   },
   {
    "duration": 4,
    "start_time": "2023-02-20T07:26:13.950Z"
   },
   {
    "duration": 24,
    "start_time": "2023-02-20T07:26:13.955Z"
   },
   {
    "duration": 30,
    "start_time": "2023-02-20T07:26:13.981Z"
   },
   {
    "duration": 15,
    "start_time": "2023-02-20T07:26:14.013Z"
   },
   {
    "duration": 15,
    "start_time": "2023-02-20T07:26:14.029Z"
   },
   {
    "duration": 13,
    "start_time": "2023-02-20T07:26:14.046Z"
   },
   {
    "duration": 6,
    "start_time": "2023-02-20T07:26:14.060Z"
   },
   {
    "duration": 45,
    "start_time": "2023-02-20T07:26:14.068Z"
   },
   {
    "duration": 20,
    "start_time": "2023-02-20T07:26:14.115Z"
   },
   {
    "duration": 29,
    "start_time": "2023-02-20T07:26:14.137Z"
   },
   {
    "duration": 39,
    "start_time": "2023-02-20T07:26:14.169Z"
   },
   {
    "duration": 19,
    "start_time": "2023-02-20T07:26:14.210Z"
   },
   {
    "duration": 1283,
    "start_time": "2023-02-20T07:26:42.032Z"
   },
   {
    "duration": 154,
    "start_time": "2023-02-20T07:26:43.317Z"
   },
   {
    "duration": 39,
    "start_time": "2023-02-20T07:26:43.473Z"
   },
   {
    "duration": 3,
    "start_time": "2023-02-20T07:26:43.514Z"
   },
   {
    "duration": 21,
    "start_time": "2023-02-20T07:26:43.519Z"
   },
   {
    "duration": 79,
    "start_time": "2023-02-20T07:26:43.542Z"
   },
   {
    "duration": 85,
    "start_time": "2023-02-20T07:26:43.622Z"
   },
   {
    "duration": 209,
    "start_time": "2023-02-20T07:26:43.708Z"
   },
   {
    "duration": 20,
    "start_time": "2023-02-20T07:26:43.919Z"
   },
   {
    "duration": 32,
    "start_time": "2023-02-20T07:26:43.941Z"
   },
   {
    "duration": 47,
    "start_time": "2023-02-20T07:26:43.974Z"
   },
   {
    "duration": 9,
    "start_time": "2023-02-20T07:26:44.023Z"
   },
   {
    "duration": 97,
    "start_time": "2023-02-20T07:26:44.034Z"
   },
   {
    "duration": 6,
    "start_time": "2023-02-20T07:26:44.134Z"
   },
   {
    "duration": 378,
    "start_time": "2023-02-20T07:26:44.142Z"
   },
   {
    "duration": 19,
    "start_time": "2023-02-20T07:26:44.522Z"
   },
   {
    "duration": 27,
    "start_time": "2023-02-20T07:26:44.543Z"
   },
   {
    "duration": 50,
    "start_time": "2023-02-20T07:26:44.572Z"
   },
   {
    "duration": 17,
    "start_time": "2023-02-20T07:26:44.624Z"
   },
   {
    "duration": 224,
    "start_time": "2023-02-20T07:26:44.643Z"
   },
   {
    "duration": 36,
    "start_time": "2023-02-20T07:26:44.868Z"
   },
   {
    "duration": 58,
    "start_time": "2023-02-20T07:26:44.906Z"
   },
   {
    "duration": 13,
    "start_time": "2023-02-20T07:26:44.966Z"
   },
   {
    "duration": 24,
    "start_time": "2023-02-20T07:26:44.981Z"
   },
   {
    "duration": 45,
    "start_time": "2023-02-20T07:26:45.007Z"
   },
   {
    "duration": 22,
    "start_time": "2023-02-20T07:26:45.054Z"
   },
   {
    "duration": 27,
    "start_time": "2023-02-20T07:26:45.078Z"
   },
   {
    "duration": 6,
    "start_time": "2023-02-20T07:26:45.106Z"
   },
   {
    "duration": 15,
    "start_time": "2023-02-20T07:26:45.115Z"
   },
   {
    "duration": 216,
    "start_time": "2023-02-20T07:26:45.133Z"
   },
   {
    "duration": 210,
    "start_time": "2023-02-20T07:26:45.351Z"
   },
   {
    "duration": 10,
    "start_time": "2023-02-20T07:26:45.562Z"
   },
   {
    "duration": 15,
    "start_time": "2023-02-20T07:26:45.574Z"
   },
   {
    "duration": 10,
    "start_time": "2023-02-20T07:26:45.603Z"
   },
   {
    "duration": 78,
    "start_time": "2023-02-20T07:26:45.615Z"
   },
   {
    "duration": 62,
    "start_time": "2023-02-20T07:26:45.704Z"
   },
   {
    "duration": 77,
    "start_time": "2023-02-20T07:26:45.768Z"
   },
   {
    "duration": 67,
    "start_time": "2023-02-20T07:26:45.847Z"
   },
   {
    "duration": 56,
    "start_time": "2023-02-20T07:26:45.916Z"
   },
   {
    "duration": 3,
    "start_time": "2023-02-20T07:26:45.974Z"
   },
   {
    "duration": 38,
    "start_time": "2023-02-20T07:26:45.981Z"
   },
   {
    "duration": 15,
    "start_time": "2023-02-20T07:26:46.021Z"
   },
   {
    "duration": 17,
    "start_time": "2023-02-20T07:26:46.037Z"
   },
   {
    "duration": 16,
    "start_time": "2023-02-20T07:26:46.056Z"
   },
   {
    "duration": 41,
    "start_time": "2023-02-20T07:26:46.074Z"
   },
   {
    "duration": 4,
    "start_time": "2023-02-20T07:26:46.117Z"
   },
   {
    "duration": 22,
    "start_time": "2023-02-20T07:26:46.123Z"
   },
   {
    "duration": 16,
    "start_time": "2023-02-20T07:26:46.146Z"
   },
   {
    "duration": 47,
    "start_time": "2023-02-20T07:26:46.164Z"
   },
   {
    "duration": 15,
    "start_time": "2023-02-20T07:26:46.213Z"
   },
   {
    "duration": 13,
    "start_time": "2023-02-20T07:26:46.229Z"
   },
   {
    "duration": 6,
    "start_time": "2023-02-20T07:27:59.682Z"
   },
   {
    "duration": 72,
    "start_time": "2023-02-20T07:28:01.677Z"
   },
   {
    "duration": 7,
    "start_time": "2023-02-20T07:28:12.069Z"
   },
   {
    "duration": 1231,
    "start_time": "2023-02-20T07:29:02.758Z"
   },
   {
    "duration": 186,
    "start_time": "2023-02-20T07:29:03.991Z"
   },
   {
    "duration": 43,
    "start_time": "2023-02-20T07:29:04.179Z"
   },
   {
    "duration": 4,
    "start_time": "2023-02-20T07:29:04.225Z"
   },
   {
    "duration": 22,
    "start_time": "2023-02-20T07:29:04.232Z"
   },
   {
    "duration": 103,
    "start_time": "2023-02-20T07:29:04.257Z"
   },
   {
    "duration": 100,
    "start_time": "2023-02-20T07:29:04.362Z"
   },
   {
    "duration": 238,
    "start_time": "2023-02-20T07:29:04.464Z"
   },
   {
    "duration": 20,
    "start_time": "2023-02-20T07:29:04.704Z"
   },
   {
    "duration": 28,
    "start_time": "2023-02-20T07:29:04.726Z"
   },
   {
    "duration": 49,
    "start_time": "2023-02-20T07:29:04.756Z"
   },
   {
    "duration": 12,
    "start_time": "2023-02-20T07:29:04.807Z"
   },
   {
    "duration": 95,
    "start_time": "2023-02-20T07:29:04.821Z"
   },
   {
    "duration": 6,
    "start_time": "2023-02-20T07:29:04.920Z"
   },
   {
    "duration": 333,
    "start_time": "2023-02-20T07:29:04.928Z"
   },
   {
    "duration": 17,
    "start_time": "2023-02-20T07:29:05.262Z"
   },
   {
    "duration": 40,
    "start_time": "2023-02-20T07:29:05.281Z"
   },
   {
    "duration": 25,
    "start_time": "2023-02-20T07:29:05.323Z"
   },
   {
    "duration": 15,
    "start_time": "2023-02-20T07:29:05.350Z"
   },
   {
    "duration": 228,
    "start_time": "2023-02-20T07:29:05.366Z"
   },
   {
    "duration": 45,
    "start_time": "2023-02-20T07:29:05.596Z"
   },
   {
    "duration": 71,
    "start_time": "2023-02-20T07:29:05.642Z"
   },
   {
    "duration": 14,
    "start_time": "2023-02-20T07:29:05.714Z"
   },
   {
    "duration": 9,
    "start_time": "2023-02-20T07:29:05.730Z"
   },
   {
    "duration": 27,
    "start_time": "2023-02-20T07:29:05.740Z"
   },
   {
    "duration": 44,
    "start_time": "2023-02-20T07:29:05.769Z"
   },
   {
    "duration": 20,
    "start_time": "2023-02-20T07:29:05.816Z"
   },
   {
    "duration": 6,
    "start_time": "2023-02-20T07:29:05.838Z"
   },
   {
    "duration": 8,
    "start_time": "2023-02-20T07:29:05.846Z"
   },
   {
    "duration": 226,
    "start_time": "2023-02-20T07:29:05.855Z"
   },
   {
    "duration": 216,
    "start_time": "2023-02-20T07:29:06.083Z"
   },
   {
    "duration": 12,
    "start_time": "2023-02-20T07:29:06.303Z"
   },
   {
    "duration": 19,
    "start_time": "2023-02-20T07:29:06.316Z"
   },
   {
    "duration": 7,
    "start_time": "2023-02-20T07:29:06.336Z"
   },
   {
    "duration": 90,
    "start_time": "2023-02-20T07:29:06.345Z"
   },
   {
    "duration": 69,
    "start_time": "2023-02-20T07:29:06.437Z"
   },
   {
    "duration": 64,
    "start_time": "2023-02-20T07:29:06.508Z"
   },
   {
    "duration": 75,
    "start_time": "2023-02-20T07:29:06.574Z"
   },
   {
    "duration": 69,
    "start_time": "2023-02-20T07:29:06.650Z"
   },
   {
    "duration": 8,
    "start_time": "2023-02-20T07:29:06.721Z"
   },
   {
    "duration": 96,
    "start_time": "2023-02-20T07:29:06.733Z"
   },
   {
    "duration": 62,
    "start_time": "2023-02-20T07:29:06.831Z"
   },
   {
    "duration": 68,
    "start_time": "2023-02-20T07:29:06.903Z"
   },
   {
    "duration": 80,
    "start_time": "2023-02-20T07:29:06.974Z"
   },
   {
    "duration": 68,
    "start_time": "2023-02-20T07:29:07.056Z"
   },
   {
    "duration": 8,
    "start_time": "2023-02-20T07:29:07.125Z"
   },
   {
    "duration": 123,
    "start_time": "2023-02-20T07:29:07.134Z"
   },
   {
    "duration": 0,
    "start_time": "2023-02-20T07:29:07.260Z"
   },
   {
    "duration": 0,
    "start_time": "2023-02-20T07:29:07.261Z"
   },
   {
    "duration": 0,
    "start_time": "2023-02-20T07:29:07.263Z"
   },
   {
    "duration": 0,
    "start_time": "2023-02-20T07:29:07.265Z"
   },
   {
    "duration": 1198,
    "start_time": "2023-02-20T07:29:26.033Z"
   },
   {
    "duration": 166,
    "start_time": "2023-02-20T07:29:27.234Z"
   },
   {
    "duration": 34,
    "start_time": "2023-02-20T07:29:27.402Z"
   },
   {
    "duration": 4,
    "start_time": "2023-02-20T07:29:27.438Z"
   },
   {
    "duration": 17,
    "start_time": "2023-02-20T07:29:27.444Z"
   },
   {
    "duration": 93,
    "start_time": "2023-02-20T07:29:27.462Z"
   },
   {
    "duration": 88,
    "start_time": "2023-02-20T07:29:27.556Z"
   },
   {
    "duration": 216,
    "start_time": "2023-02-20T07:29:27.646Z"
   },
   {
    "duration": 16,
    "start_time": "2023-02-20T07:29:27.864Z"
   },
   {
    "duration": 59,
    "start_time": "2023-02-20T07:29:27.883Z"
   },
   {
    "duration": 27,
    "start_time": "2023-02-20T07:29:27.944Z"
   },
   {
    "duration": 9,
    "start_time": "2023-02-20T07:29:27.972Z"
   },
   {
    "duration": 89,
    "start_time": "2023-02-20T07:29:27.982Z"
   },
   {
    "duration": 5,
    "start_time": "2023-02-20T07:29:28.073Z"
   },
   {
    "duration": 345,
    "start_time": "2023-02-20T07:29:28.080Z"
   },
   {
    "duration": 18,
    "start_time": "2023-02-20T07:29:28.427Z"
   },
   {
    "duration": 26,
    "start_time": "2023-02-20T07:29:28.447Z"
   },
   {
    "duration": 55,
    "start_time": "2023-02-20T07:29:28.475Z"
   },
   {
    "duration": 15,
    "start_time": "2023-02-20T07:29:28.532Z"
   },
   {
    "duration": 222,
    "start_time": "2023-02-20T07:29:28.549Z"
   },
   {
    "duration": 43,
    "start_time": "2023-02-20T07:29:28.773Z"
   },
   {
    "duration": 59,
    "start_time": "2023-02-20T07:29:28.818Z"
   },
   {
    "duration": 31,
    "start_time": "2023-02-20T07:29:28.879Z"
   },
   {
    "duration": 15,
    "start_time": "2023-02-20T07:29:28.912Z"
   },
   {
    "duration": 20,
    "start_time": "2023-02-20T07:29:28.929Z"
   },
   {
    "duration": 21,
    "start_time": "2023-02-20T07:29:28.950Z"
   },
   {
    "duration": 36,
    "start_time": "2023-02-20T07:29:28.973Z"
   },
   {
    "duration": 11,
    "start_time": "2023-02-20T07:29:29.013Z"
   },
   {
    "duration": 19,
    "start_time": "2023-02-20T07:29:29.025Z"
   },
   {
    "duration": 235,
    "start_time": "2023-02-20T07:29:29.046Z"
   },
   {
    "duration": 217,
    "start_time": "2023-02-20T07:29:29.282Z"
   },
   {
    "duration": 12,
    "start_time": "2023-02-20T07:29:29.504Z"
   },
   {
    "duration": 18,
    "start_time": "2023-02-20T07:29:29.519Z"
   },
   {
    "duration": 25,
    "start_time": "2023-02-20T07:29:29.539Z"
   },
   {
    "duration": 86,
    "start_time": "2023-02-20T07:29:29.566Z"
   },
   {
    "duration": 72,
    "start_time": "2023-02-20T07:29:29.653Z"
   },
   {
    "duration": 61,
    "start_time": "2023-02-20T07:29:29.726Z"
   },
   {
    "duration": 78,
    "start_time": "2023-02-20T07:29:29.789Z"
   },
   {
    "duration": 75,
    "start_time": "2023-02-20T07:29:29.868Z"
   },
   {
    "duration": 7,
    "start_time": "2023-02-20T07:29:29.945Z"
   },
   {
    "duration": 86,
    "start_time": "2023-02-20T07:29:29.953Z"
   },
   {
    "duration": 72,
    "start_time": "2023-02-20T07:29:30.041Z"
   },
   {
    "duration": 65,
    "start_time": "2023-02-20T07:29:30.115Z"
   },
   {
    "duration": 76,
    "start_time": "2023-02-20T07:29:30.182Z"
   },
   {
    "duration": 76,
    "start_time": "2023-02-20T07:29:30.260Z"
   },
   {
    "duration": 7,
    "start_time": "2023-02-20T07:29:30.338Z"
   },
   {
    "duration": 145,
    "start_time": "2023-02-20T07:29:30.347Z"
   },
   {
    "duration": 0,
    "start_time": "2023-02-20T07:29:30.493Z"
   },
   {
    "duration": 0,
    "start_time": "2023-02-20T07:29:30.495Z"
   },
   {
    "duration": 0,
    "start_time": "2023-02-20T07:29:30.503Z"
   },
   {
    "duration": 0,
    "start_time": "2023-02-20T07:29:30.505Z"
   },
   {
    "duration": 1234,
    "start_time": "2023-02-20T07:29:57.987Z"
   },
   {
    "duration": 156,
    "start_time": "2023-02-20T07:29:59.224Z"
   },
   {
    "duration": 37,
    "start_time": "2023-02-20T07:29:59.382Z"
   },
   {
    "duration": 3,
    "start_time": "2023-02-20T07:29:59.421Z"
   },
   {
    "duration": 20,
    "start_time": "2023-02-20T07:29:59.426Z"
   },
   {
    "duration": 88,
    "start_time": "2023-02-20T07:29:59.447Z"
   },
   {
    "duration": 91,
    "start_time": "2023-02-20T07:29:59.537Z"
   },
   {
    "duration": 227,
    "start_time": "2023-02-20T07:29:59.631Z"
   },
   {
    "duration": 15,
    "start_time": "2023-02-20T07:29:59.860Z"
   },
   {
    "duration": 38,
    "start_time": "2023-02-20T07:29:59.877Z"
   },
   {
    "duration": 33,
    "start_time": "2023-02-20T07:29:59.917Z"
   },
   {
    "duration": 15,
    "start_time": "2023-02-20T07:29:59.952Z"
   },
   {
    "duration": 98,
    "start_time": "2023-02-20T07:29:59.969Z"
   },
   {
    "duration": 6,
    "start_time": "2023-02-20T07:30:00.068Z"
   },
   {
    "duration": 328,
    "start_time": "2023-02-20T07:30:00.075Z"
   },
   {
    "duration": 21,
    "start_time": "2023-02-20T07:30:00.404Z"
   },
   {
    "duration": 59,
    "start_time": "2023-02-20T07:30:00.427Z"
   },
   {
    "duration": 45,
    "start_time": "2023-02-20T07:30:00.488Z"
   },
   {
    "duration": 51,
    "start_time": "2023-02-20T07:30:00.535Z"
   },
   {
    "duration": 210,
    "start_time": "2023-02-20T07:30:00.589Z"
   },
   {
    "duration": 33,
    "start_time": "2023-02-20T07:30:00.802Z"
   },
   {
    "duration": 86,
    "start_time": "2023-02-20T07:30:00.837Z"
   },
   {
    "duration": 17,
    "start_time": "2023-02-20T07:30:00.925Z"
   },
   {
    "duration": 40,
    "start_time": "2023-02-20T07:30:00.944Z"
   },
   {
    "duration": 49,
    "start_time": "2023-02-20T07:30:00.986Z"
   },
   {
    "duration": 41,
    "start_time": "2023-02-20T07:30:01.037Z"
   },
   {
    "duration": 27,
    "start_time": "2023-02-20T07:30:01.080Z"
   },
   {
    "duration": 24,
    "start_time": "2023-02-20T07:30:01.113Z"
   },
   {
    "duration": 22,
    "start_time": "2023-02-20T07:30:01.138Z"
   },
   {
    "duration": 257,
    "start_time": "2023-02-20T07:30:01.161Z"
   },
   {
    "duration": 239,
    "start_time": "2023-02-20T07:30:01.419Z"
   },
   {
    "duration": 13,
    "start_time": "2023-02-20T07:30:01.660Z"
   },
   {
    "duration": 32,
    "start_time": "2023-02-20T07:30:01.675Z"
   },
   {
    "duration": 37,
    "start_time": "2023-02-20T07:30:01.709Z"
   },
   {
    "duration": 102,
    "start_time": "2023-02-20T07:30:01.748Z"
   },
   {
    "duration": 70,
    "start_time": "2023-02-20T07:30:01.853Z"
   },
   {
    "duration": 64,
    "start_time": "2023-02-20T07:30:01.925Z"
   },
   {
    "duration": 65,
    "start_time": "2023-02-20T07:30:02.002Z"
   },
   {
    "duration": 70,
    "start_time": "2023-02-20T07:30:02.069Z"
   },
   {
    "duration": 8,
    "start_time": "2023-02-20T07:30:02.141Z"
   },
   {
    "duration": 92,
    "start_time": "2023-02-20T07:30:02.151Z"
   },
   {
    "duration": 65,
    "start_time": "2023-02-20T07:30:02.245Z"
   },
   {
    "duration": 65,
    "start_time": "2023-02-20T07:30:02.311Z"
   },
   {
    "duration": 79,
    "start_time": "2023-02-20T07:30:02.378Z"
   },
   {
    "duration": 72,
    "start_time": "2023-02-20T07:30:02.459Z"
   },
   {
    "duration": 7,
    "start_time": "2023-02-20T07:30:02.533Z"
   },
   {
    "duration": 89,
    "start_time": "2023-02-20T07:30:02.541Z"
   },
   {
    "duration": 72,
    "start_time": "2023-02-20T07:30:02.632Z"
   },
   {
    "duration": 68,
    "start_time": "2023-02-20T07:30:02.706Z"
   },
   {
    "duration": 77,
    "start_time": "2023-02-20T07:30:02.776Z"
   },
   {
    "duration": 65,
    "start_time": "2023-02-20T07:30:02.855Z"
   },
   {
    "duration": 65,
    "start_time": "2023-02-20T07:40:09.666Z"
   },
   {
    "duration": 1225,
    "start_time": "2023-02-20T08:24:25.167Z"
   },
   {
    "duration": 162,
    "start_time": "2023-02-20T08:24:26.394Z"
   },
   {
    "duration": 27,
    "start_time": "2023-02-20T08:24:26.558Z"
   },
   {
    "duration": 3,
    "start_time": "2023-02-20T08:24:26.587Z"
   },
   {
    "duration": 23,
    "start_time": "2023-02-20T08:24:26.592Z"
   },
   {
    "duration": 65,
    "start_time": "2023-02-20T08:24:26.616Z"
   },
   {
    "duration": 92,
    "start_time": "2023-02-20T08:24:26.683Z"
   },
   {
    "duration": 208,
    "start_time": "2023-02-20T08:24:26.777Z"
   },
   {
    "duration": 19,
    "start_time": "2023-02-20T08:24:26.986Z"
   },
   {
    "duration": 26,
    "start_time": "2023-02-20T08:24:27.006Z"
   },
   {
    "duration": 28,
    "start_time": "2023-02-20T08:24:27.033Z"
   },
   {
    "duration": 10,
    "start_time": "2023-02-20T08:24:27.062Z"
   },
   {
    "duration": 77,
    "start_time": "2023-02-20T08:24:27.102Z"
   },
   {
    "duration": 23,
    "start_time": "2023-02-20T08:24:27.182Z"
   },
   {
    "duration": 318,
    "start_time": "2023-02-20T08:24:27.207Z"
   },
   {
    "duration": 16,
    "start_time": "2023-02-20T08:24:27.527Z"
   },
   {
    "duration": 25,
    "start_time": "2023-02-20T08:24:27.545Z"
   },
   {
    "duration": 46,
    "start_time": "2023-02-20T08:24:27.571Z"
   },
   {
    "duration": 17,
    "start_time": "2023-02-20T08:24:27.619Z"
   },
   {
    "duration": 204,
    "start_time": "2023-02-20T08:24:27.639Z"
   },
   {
    "duration": 29,
    "start_time": "2023-02-20T08:24:27.845Z"
   },
   {
    "duration": 72,
    "start_time": "2023-02-20T08:24:27.876Z"
   },
   {
    "duration": 12,
    "start_time": "2023-02-20T08:24:27.949Z"
   },
   {
    "duration": 9,
    "start_time": "2023-02-20T08:24:27.962Z"
   },
   {
    "duration": 38,
    "start_time": "2023-02-20T08:24:27.972Z"
   },
   {
    "duration": 23,
    "start_time": "2023-02-20T08:24:28.012Z"
   },
   {
    "duration": 22,
    "start_time": "2023-02-20T08:24:28.036Z"
   },
   {
    "duration": 5,
    "start_time": "2023-02-20T08:24:28.060Z"
   },
   {
    "duration": 8,
    "start_time": "2023-02-20T08:24:28.066Z"
   },
   {
    "duration": 241,
    "start_time": "2023-02-20T08:24:28.076Z"
   },
   {
    "duration": 211,
    "start_time": "2023-02-20T08:24:28.319Z"
   },
   {
    "duration": 10,
    "start_time": "2023-02-20T08:24:28.531Z"
   },
   {
    "duration": 15,
    "start_time": "2023-02-20T08:24:28.543Z"
   },
   {
    "duration": 8,
    "start_time": "2023-02-20T08:24:28.559Z"
   },
   {
    "duration": 86,
    "start_time": "2023-02-20T08:24:28.568Z"
   },
   {
    "duration": 67,
    "start_time": "2023-02-20T08:24:28.656Z"
   },
   {
    "duration": 61,
    "start_time": "2023-02-20T08:24:28.725Z"
   },
   {
    "duration": 61,
    "start_time": "2023-02-20T08:24:28.804Z"
   },
   {
    "duration": 73,
    "start_time": "2023-02-20T08:24:28.867Z"
   },
   {
    "duration": 8,
    "start_time": "2023-02-20T08:24:28.942Z"
   },
   {
    "duration": 83,
    "start_time": "2023-02-20T08:24:28.954Z"
   },
   {
    "duration": 74,
    "start_time": "2023-02-20T08:24:29.039Z"
   },
   {
    "duration": 62,
    "start_time": "2023-02-20T08:24:29.116Z"
   },
   {
    "duration": 76,
    "start_time": "2023-02-20T08:24:29.180Z"
   },
   {
    "duration": 68,
    "start_time": "2023-02-20T08:24:29.258Z"
   },
   {
    "duration": 8,
    "start_time": "2023-02-20T08:24:29.328Z"
   },
   {
    "duration": 81,
    "start_time": "2023-02-20T08:24:29.338Z"
   },
   {
    "duration": 63,
    "start_time": "2023-02-20T08:24:29.421Z"
   },
   {
    "duration": 65,
    "start_time": "2023-02-20T08:24:29.503Z"
   },
   {
    "duration": 78,
    "start_time": "2023-02-20T08:24:29.569Z"
   },
   {
    "duration": 61,
    "start_time": "2023-02-20T08:24:29.649Z"
   },
   {
    "duration": 12,
    "start_time": "2023-02-21T06:28:29.939Z"
   },
   {
    "duration": 51,
    "start_time": "2023-02-21T06:28:33.831Z"
   },
   {
    "duration": 1447,
    "start_time": "2023-02-21T06:28:40.413Z"
   },
   {
    "duration": 526,
    "start_time": "2023-02-21T06:28:41.863Z"
   },
   {
    "duration": 43,
    "start_time": "2023-02-21T06:28:42.390Z"
   },
   {
    "duration": 5,
    "start_time": "2023-02-21T06:28:42.435Z"
   },
   {
    "duration": 28,
    "start_time": "2023-02-21T06:28:42.442Z"
   },
   {
    "duration": 97,
    "start_time": "2023-02-21T06:28:42.472Z"
   },
   {
    "duration": 101,
    "start_time": "2023-02-21T06:28:42.572Z"
   },
   {
    "duration": 224,
    "start_time": "2023-02-21T06:28:42.675Z"
   },
   {
    "duration": 15,
    "start_time": "2023-02-21T06:28:42.901Z"
   },
   {
    "duration": 47,
    "start_time": "2023-02-21T06:28:42.918Z"
   },
   {
    "duration": 48,
    "start_time": "2023-02-21T06:28:42.967Z"
   },
   {
    "duration": 10,
    "start_time": "2023-02-21T06:28:43.016Z"
   },
   {
    "duration": 81,
    "start_time": "2023-02-21T06:28:43.027Z"
   },
   {
    "duration": 6,
    "start_time": "2023-02-21T06:28:43.111Z"
   },
   {
    "duration": 342,
    "start_time": "2023-02-21T06:28:43.118Z"
   },
   {
    "duration": 17,
    "start_time": "2023-02-21T06:28:43.462Z"
   },
   {
    "duration": 28,
    "start_time": "2023-02-21T06:28:43.481Z"
   },
   {
    "duration": 57,
    "start_time": "2023-02-21T06:28:43.511Z"
   },
   {
    "duration": 16,
    "start_time": "2023-02-21T06:28:43.570Z"
   },
   {
    "duration": 221,
    "start_time": "2023-02-21T06:28:43.588Z"
   },
   {
    "duration": 43,
    "start_time": "2023-02-21T06:28:43.811Z"
   },
   {
    "duration": 64,
    "start_time": "2023-02-21T06:28:43.856Z"
   },
   {
    "duration": 26,
    "start_time": "2023-02-21T06:28:43.922Z"
   },
   {
    "duration": 15,
    "start_time": "2023-02-21T06:28:43.950Z"
   },
   {
    "duration": 22,
    "start_time": "2023-02-21T06:28:43.967Z"
   },
   {
    "duration": 21,
    "start_time": "2023-02-21T06:28:43.991Z"
   },
   {
    "duration": 37,
    "start_time": "2023-02-21T06:28:44.013Z"
   },
   {
    "duration": 5,
    "start_time": "2023-02-21T06:28:44.052Z"
   },
   {
    "duration": 12,
    "start_time": "2023-02-21T06:28:44.059Z"
   },
   {
    "duration": 222,
    "start_time": "2023-02-21T06:28:44.072Z"
   },
   {
    "duration": 242,
    "start_time": "2023-02-21T06:28:44.296Z"
   },
   {
    "duration": 13,
    "start_time": "2023-02-21T06:28:44.540Z"
   },
   {
    "duration": 20,
    "start_time": "2023-02-21T06:28:44.555Z"
   },
   {
    "duration": 23,
    "start_time": "2023-02-21T06:28:44.577Z"
   },
   {
    "duration": 103,
    "start_time": "2023-02-21T06:28:44.602Z"
   },
   {
    "duration": 73,
    "start_time": "2023-02-21T06:28:44.707Z"
   },
   {
    "duration": 78,
    "start_time": "2023-02-21T06:28:44.781Z"
   },
   {
    "duration": 62,
    "start_time": "2023-02-21T06:28:44.861Z"
   },
   {
    "duration": 58,
    "start_time": "2023-02-21T06:28:44.938Z"
   },
   {
    "duration": 8,
    "start_time": "2023-02-21T06:28:44.998Z"
   },
   {
    "duration": 118,
    "start_time": "2023-02-21T06:28:45.010Z"
   },
   {
    "duration": 65,
    "start_time": "2023-02-21T06:28:45.129Z"
   },
   {
    "duration": 77,
    "start_time": "2023-02-21T06:28:45.195Z"
   },
   {
    "duration": 75,
    "start_time": "2023-02-21T06:28:45.274Z"
   },
   {
    "duration": 59,
    "start_time": "2023-02-21T06:28:45.351Z"
   },
   {
    "duration": 25,
    "start_time": "2023-02-21T06:28:45.413Z"
   },
   {
    "duration": 90,
    "start_time": "2023-02-21T06:28:45.440Z"
   },
   {
    "duration": 62,
    "start_time": "2023-02-21T06:28:45.532Z"
   },
   {
    "duration": 168,
    "start_time": "2023-02-21T06:28:45.596Z"
   },
   {
    "duration": 62,
    "start_time": "2023-02-21T06:28:45.765Z"
   },
   {
    "duration": 63,
    "start_time": "2023-02-21T06:28:45.838Z"
   },
   {
    "duration": 12,
    "start_time": "2023-02-21T06:29:42.280Z"
   },
   {
    "duration": 76,
    "start_time": "2023-02-21T06:29:44.511Z"
   },
   {
    "duration": 71,
    "start_time": "2023-02-21T06:29:48.589Z"
   },
   {
    "duration": 68,
    "start_time": "2023-02-21T06:29:51.780Z"
   },
   {
    "duration": 63,
    "start_time": "2023-02-21T06:29:54.324Z"
   },
   {
    "duration": 62,
    "start_time": "2023-02-21T06:29:57.315Z"
   },
   {
    "duration": 8,
    "start_time": "2023-02-21T06:30:40.764Z"
   },
   {
    "duration": 73,
    "start_time": "2023-02-21T06:30:44.291Z"
   },
   {
    "duration": 80,
    "start_time": "2023-02-21T06:31:25.218Z"
   },
   {
    "duration": 66,
    "start_time": "2023-02-21T06:31:27.696Z"
   },
   {
    "duration": 68,
    "start_time": "2023-02-21T06:31:31.921Z"
   },
   {
    "duration": 59,
    "start_time": "2023-02-21T06:31:34.116Z"
   },
   {
    "duration": 1280,
    "start_time": "2023-02-21T06:36:16.279Z"
   },
   {
    "duration": 172,
    "start_time": "2023-02-21T06:36:17.561Z"
   },
   {
    "duration": 32,
    "start_time": "2023-02-21T06:36:17.735Z"
   },
   {
    "duration": 3,
    "start_time": "2023-02-21T06:36:17.769Z"
   },
   {
    "duration": 19,
    "start_time": "2023-02-21T06:36:17.774Z"
   },
   {
    "duration": 85,
    "start_time": "2023-02-21T06:36:17.794Z"
   },
   {
    "duration": 88,
    "start_time": "2023-02-21T06:36:17.881Z"
   },
   {
    "duration": 228,
    "start_time": "2023-02-21T06:36:17.971Z"
   },
   {
    "duration": 15,
    "start_time": "2023-02-21T06:36:18.201Z"
   },
   {
    "duration": 44,
    "start_time": "2023-02-21T06:36:18.220Z"
   },
   {
    "duration": 34,
    "start_time": "2023-02-21T06:36:18.267Z"
   },
   {
    "duration": 10,
    "start_time": "2023-02-21T06:36:18.303Z"
   },
   {
    "duration": 98,
    "start_time": "2023-02-21T06:36:18.315Z"
   },
   {
    "duration": 6,
    "start_time": "2023-02-21T06:36:18.415Z"
   },
   {
    "duration": 315,
    "start_time": "2023-02-21T06:36:18.439Z"
   },
   {
    "duration": 17,
    "start_time": "2023-02-21T06:36:18.757Z"
   },
   {
    "duration": 28,
    "start_time": "2023-02-21T06:36:18.776Z"
   },
   {
    "duration": 57,
    "start_time": "2023-02-21T06:36:18.805Z"
   },
   {
    "duration": 18,
    "start_time": "2023-02-21T06:36:18.865Z"
   },
   {
    "duration": 215,
    "start_time": "2023-02-21T06:36:18.884Z"
   },
   {
    "duration": 43,
    "start_time": "2023-02-21T06:36:19.101Z"
   },
   {
    "duration": 61,
    "start_time": "2023-02-21T06:36:19.146Z"
   },
   {
    "duration": 30,
    "start_time": "2023-02-21T06:36:19.209Z"
   },
   {
    "duration": 8,
    "start_time": "2023-02-21T06:36:19.241Z"
   },
   {
    "duration": 24,
    "start_time": "2023-02-21T06:36:19.251Z"
   },
   {
    "duration": 24,
    "start_time": "2023-02-21T06:36:19.277Z"
   },
   {
    "duration": 43,
    "start_time": "2023-02-21T06:36:19.303Z"
   },
   {
    "duration": 5,
    "start_time": "2023-02-21T06:36:19.350Z"
   },
   {
    "duration": 29,
    "start_time": "2023-02-21T06:36:19.357Z"
   },
   {
    "duration": 244,
    "start_time": "2023-02-21T06:36:19.388Z"
   },
   {
    "duration": 222,
    "start_time": "2023-02-21T06:36:19.634Z"
   },
   {
    "duration": 11,
    "start_time": "2023-02-21T06:36:19.858Z"
   },
   {
    "duration": 47,
    "start_time": "2023-02-21T06:36:19.871Z"
   },
   {
    "duration": 23,
    "start_time": "2023-02-21T06:36:19.920Z"
   },
   {
    "duration": 106,
    "start_time": "2023-02-21T06:36:19.946Z"
   },
   {
    "duration": 68,
    "start_time": "2023-02-21T06:36:20.054Z"
   },
   {
    "duration": 79,
    "start_time": "2023-02-21T06:36:20.123Z"
   },
   {
    "duration": 83,
    "start_time": "2023-02-21T06:36:20.204Z"
   },
   {
    "duration": 70,
    "start_time": "2023-02-21T06:36:20.288Z"
   },
   {
    "duration": 7,
    "start_time": "2023-02-21T06:36:20.361Z"
   },
   {
    "duration": 93,
    "start_time": "2023-02-21T06:36:20.369Z"
   },
   {
    "duration": 76,
    "start_time": "2023-02-21T06:36:20.465Z"
   },
   {
    "duration": 65,
    "start_time": "2023-02-21T06:36:20.543Z"
   },
   {
    "duration": 81,
    "start_time": "2023-02-21T06:36:20.610Z"
   },
   {
    "duration": 69,
    "start_time": "2023-02-21T06:36:20.692Z"
   },
   {
    "duration": 8,
    "start_time": "2023-02-21T06:36:20.763Z"
   },
   {
    "duration": 109,
    "start_time": "2023-02-21T06:36:20.773Z"
   },
   {
    "duration": 86,
    "start_time": "2023-02-21T06:36:20.885Z"
   },
   {
    "duration": 72,
    "start_time": "2023-02-21T06:36:20.973Z"
   },
   {
    "duration": 65,
    "start_time": "2023-02-21T06:36:21.047Z"
   },
   {
    "duration": 71,
    "start_time": "2023-02-21T06:36:21.113Z"
   },
   {
    "duration": 1202,
    "start_time": "2023-02-21T06:44:48.863Z"
   },
   {
    "duration": 169,
    "start_time": "2023-02-21T06:44:50.067Z"
   },
   {
    "duration": 32,
    "start_time": "2023-02-21T06:44:50.238Z"
   },
   {
    "duration": 4,
    "start_time": "2023-02-21T06:44:50.272Z"
   },
   {
    "duration": 34,
    "start_time": "2023-02-21T06:44:50.278Z"
   },
   {
    "duration": 82,
    "start_time": "2023-02-21T06:44:50.314Z"
   },
   {
    "duration": 78,
    "start_time": "2023-02-21T06:44:50.398Z"
   },
   {
    "duration": 215,
    "start_time": "2023-02-21T06:44:50.479Z"
   },
   {
    "duration": 17,
    "start_time": "2023-02-21T06:44:50.695Z"
   },
   {
    "duration": 63,
    "start_time": "2023-02-21T06:44:50.714Z"
   },
   {
    "duration": 34,
    "start_time": "2023-02-21T06:44:50.779Z"
   },
   {
    "duration": 17,
    "start_time": "2023-02-21T06:44:50.814Z"
   },
   {
    "duration": 84,
    "start_time": "2023-02-21T06:44:50.833Z"
   },
   {
    "duration": 5,
    "start_time": "2023-02-21T06:44:50.921Z"
   },
   {
    "duration": 317,
    "start_time": "2023-02-21T06:44:50.927Z"
   },
   {
    "duration": 16,
    "start_time": "2023-02-21T06:44:51.246Z"
   },
   {
    "duration": 27,
    "start_time": "2023-02-21T06:44:51.264Z"
   },
   {
    "duration": 56,
    "start_time": "2023-02-21T06:44:51.293Z"
   },
   {
    "duration": 16,
    "start_time": "2023-02-21T06:44:51.351Z"
   },
   {
    "duration": 203,
    "start_time": "2023-02-21T06:44:51.369Z"
   },
   {
    "duration": 30,
    "start_time": "2023-02-21T06:44:51.574Z"
   },
   {
    "duration": 87,
    "start_time": "2023-02-21T06:44:51.606Z"
   },
   {
    "duration": 13,
    "start_time": "2023-02-21T06:44:51.695Z"
   },
   {
    "duration": 16,
    "start_time": "2023-02-21T06:44:51.710Z"
   },
   {
    "duration": 26,
    "start_time": "2023-02-21T06:44:51.728Z"
   },
   {
    "duration": 22,
    "start_time": "2023-02-21T06:44:51.755Z"
   },
   {
    "duration": 21,
    "start_time": "2023-02-21T06:44:51.779Z"
   },
   {
    "duration": 32,
    "start_time": "2023-02-21T06:44:51.802Z"
   },
   {
    "duration": 7,
    "start_time": "2023-02-21T06:44:51.838Z"
   },
   {
    "duration": 221,
    "start_time": "2023-02-21T06:44:51.846Z"
   },
   {
    "duration": 220,
    "start_time": "2023-02-21T06:44:52.069Z"
   },
   {
    "duration": 10,
    "start_time": "2023-02-21T06:44:52.290Z"
   },
   {
    "duration": 25,
    "start_time": "2023-02-21T06:44:52.302Z"
   },
   {
    "duration": 14,
    "start_time": "2023-02-21T06:44:52.329Z"
   },
   {
    "duration": 92,
    "start_time": "2023-02-21T06:44:52.345Z"
   },
   {
    "duration": 85,
    "start_time": "2023-02-21T06:44:52.439Z"
   },
   {
    "duration": 89,
    "start_time": "2023-02-21T06:44:52.526Z"
   },
   {
    "duration": 78,
    "start_time": "2023-02-21T06:44:52.617Z"
   },
   {
    "duration": 78,
    "start_time": "2023-02-21T06:44:52.697Z"
   },
   {
    "duration": 9,
    "start_time": "2023-02-21T06:44:52.777Z"
   },
   {
    "duration": 101,
    "start_time": "2023-02-21T06:44:52.791Z"
   },
   {
    "duration": 71,
    "start_time": "2023-02-21T06:44:52.894Z"
   },
   {
    "duration": 73,
    "start_time": "2023-02-21T06:44:52.967Z"
   },
   {
    "duration": 64,
    "start_time": "2023-02-21T06:44:53.042Z"
   },
   {
    "duration": 75,
    "start_time": "2023-02-21T06:44:53.108Z"
   },
   {
    "duration": 8,
    "start_time": "2023-02-21T06:44:53.185Z"
   },
   {
    "duration": 95,
    "start_time": "2023-02-21T06:44:53.195Z"
   },
   {
    "duration": 70,
    "start_time": "2023-02-21T06:44:53.292Z"
   },
   {
    "duration": 77,
    "start_time": "2023-02-21T06:44:53.365Z"
   },
   {
    "duration": 63,
    "start_time": "2023-02-21T06:44:53.444Z"
   },
   {
    "duration": 74,
    "start_time": "2023-02-21T06:44:53.509Z"
   },
   {
    "duration": 13,
    "start_time": "2023-02-21T07:21:03.532Z"
   },
   {
    "duration": 47,
    "start_time": "2023-02-21T07:21:47.637Z"
   },
   {
    "duration": 1572,
    "start_time": "2023-02-21T07:21:53.685Z"
   },
   {
    "duration": 906,
    "start_time": "2023-02-21T07:21:55.260Z"
   },
   {
    "duration": 34,
    "start_time": "2023-02-21T07:21:56.168Z"
   },
   {
    "duration": 7,
    "start_time": "2023-02-21T07:21:56.207Z"
   },
   {
    "duration": 22,
    "start_time": "2023-02-21T07:21:56.216Z"
   },
   {
    "duration": 69,
    "start_time": "2023-02-21T07:21:56.239Z"
   },
   {
    "duration": 87,
    "start_time": "2023-02-21T07:21:56.310Z"
   },
   {
    "duration": 225,
    "start_time": "2023-02-21T07:21:56.403Z"
   },
   {
    "duration": 18,
    "start_time": "2023-02-21T07:21:56.629Z"
   },
   {
    "duration": 53,
    "start_time": "2023-02-21T07:21:56.650Z"
   },
   {
    "duration": 30,
    "start_time": "2023-02-21T07:21:56.705Z"
   },
   {
    "duration": 16,
    "start_time": "2023-02-21T07:21:56.737Z"
   },
   {
    "duration": 99,
    "start_time": "2023-02-21T07:21:56.756Z"
   },
   {
    "duration": 6,
    "start_time": "2023-02-21T07:21:56.857Z"
   },
   {
    "duration": 366,
    "start_time": "2023-02-21T07:21:56.864Z"
   },
   {
    "duration": 17,
    "start_time": "2023-02-21T07:21:57.232Z"
   },
   {
    "duration": 48,
    "start_time": "2023-02-21T07:21:57.251Z"
   },
   {
    "duration": 43,
    "start_time": "2023-02-21T07:21:57.300Z"
   },
   {
    "duration": 18,
    "start_time": "2023-02-21T07:21:57.346Z"
   },
   {
    "duration": 228,
    "start_time": "2023-02-21T07:21:57.389Z"
   },
   {
    "duration": 33,
    "start_time": "2023-02-21T07:21:57.619Z"
   },
   {
    "duration": 88,
    "start_time": "2023-02-21T07:21:57.654Z"
   },
   {
    "duration": 14,
    "start_time": "2023-02-21T07:21:57.744Z"
   },
   {
    "duration": 53,
    "start_time": "2023-02-21T07:21:57.760Z"
   },
   {
    "duration": 29,
    "start_time": "2023-02-21T07:21:57.815Z"
   },
   {
    "duration": 23,
    "start_time": "2023-02-21T07:21:57.846Z"
   },
   {
    "duration": 32,
    "start_time": "2023-02-21T07:21:57.871Z"
   },
   {
    "duration": 56,
    "start_time": "2023-02-21T07:21:57.908Z"
   },
   {
    "duration": 273,
    "start_time": "2023-02-21T07:21:57.965Z"
   },
   {
    "duration": 247,
    "start_time": "2023-02-21T07:21:58.240Z"
   },
   {
    "duration": 19,
    "start_time": "2023-02-21T07:21:58.499Z"
   },
   {
    "duration": 23,
    "start_time": "2023-02-21T07:21:58.520Z"
   },
   {
    "duration": 13,
    "start_time": "2023-02-21T07:21:58.545Z"
   },
   {
    "duration": 146,
    "start_time": "2023-02-21T07:21:58.560Z"
   },
   {
    "duration": 125,
    "start_time": "2023-02-21T07:21:58.712Z"
   },
   {
    "duration": 0,
    "start_time": "2023-02-21T07:21:58.839Z"
   },
   {
    "duration": 0,
    "start_time": "2023-02-21T07:21:58.840Z"
   },
   {
    "duration": 0,
    "start_time": "2023-02-21T07:21:58.842Z"
   },
   {
    "duration": 0,
    "start_time": "2023-02-21T07:21:58.843Z"
   },
   {
    "duration": 0,
    "start_time": "2023-02-21T07:21:58.844Z"
   },
   {
    "duration": 0,
    "start_time": "2023-02-21T07:21:58.845Z"
   },
   {
    "duration": 0,
    "start_time": "2023-02-21T07:21:58.848Z"
   },
   {
    "duration": 0,
    "start_time": "2023-02-21T07:21:58.849Z"
   },
   {
    "duration": 0,
    "start_time": "2023-02-21T07:21:58.850Z"
   },
   {
    "duration": 0,
    "start_time": "2023-02-21T07:21:58.851Z"
   },
   {
    "duration": 0,
    "start_time": "2023-02-21T07:21:58.853Z"
   },
   {
    "duration": 0,
    "start_time": "2023-02-21T07:21:58.854Z"
   },
   {
    "duration": 0,
    "start_time": "2023-02-21T07:21:58.855Z"
   },
   {
    "duration": 0,
    "start_time": "2023-02-21T07:21:58.857Z"
   },
   {
    "duration": 0,
    "start_time": "2023-02-21T07:21:58.858Z"
   },
   {
    "duration": 72,
    "start_time": "2023-02-21T07:22:46.523Z"
   },
   {
    "duration": 69,
    "start_time": "2023-02-21T07:22:47.628Z"
   },
   {
    "duration": 78,
    "start_time": "2023-02-21T07:22:48.457Z"
   },
   {
    "duration": 71,
    "start_time": "2023-02-21T07:22:49.288Z"
   },
   {
    "duration": 90,
    "start_time": "2023-02-21T07:23:24.818Z"
   },
   {
    "duration": 62,
    "start_time": "2023-02-21T07:24:00.473Z"
   },
   {
    "duration": 1356,
    "start_time": "2023-02-21T07:25:12.901Z"
   },
   {
    "duration": 186,
    "start_time": "2023-02-21T07:25:14.259Z"
   },
   {
    "duration": 30,
    "start_time": "2023-02-21T07:25:14.448Z"
   },
   {
    "duration": 10,
    "start_time": "2023-02-21T07:25:14.496Z"
   },
   {
    "duration": 41,
    "start_time": "2023-02-21T07:25:14.509Z"
   },
   {
    "duration": 79,
    "start_time": "2023-02-21T07:25:14.552Z"
   },
   {
    "duration": 91,
    "start_time": "2023-02-21T07:25:14.633Z"
   },
   {
    "duration": 228,
    "start_time": "2023-02-21T07:25:14.726Z"
   },
   {
    "duration": 17,
    "start_time": "2023-02-21T07:25:14.956Z"
   },
   {
    "duration": 42,
    "start_time": "2023-02-21T07:25:14.988Z"
   },
   {
    "duration": 37,
    "start_time": "2023-02-21T07:25:15.032Z"
   },
   {
    "duration": 26,
    "start_time": "2023-02-21T07:25:15.072Z"
   },
   {
    "duration": 114,
    "start_time": "2023-02-21T07:25:15.102Z"
   },
   {
    "duration": 9,
    "start_time": "2023-02-21T07:25:15.221Z"
   },
   {
    "duration": 401,
    "start_time": "2023-02-21T07:25:15.233Z"
   },
   {
    "duration": 22,
    "start_time": "2023-02-21T07:25:15.638Z"
   },
   {
    "duration": 51,
    "start_time": "2023-02-21T07:25:15.662Z"
   },
   {
    "duration": 49,
    "start_time": "2023-02-21T07:25:15.720Z"
   },
   {
    "duration": 23,
    "start_time": "2023-02-21T07:25:15.771Z"
   },
   {
    "duration": 262,
    "start_time": "2023-02-21T07:25:15.795Z"
   },
   {
    "duration": 53,
    "start_time": "2023-02-21T07:25:16.059Z"
   },
   {
    "duration": 62,
    "start_time": "2023-02-21T07:25:16.114Z"
   },
   {
    "duration": 37,
    "start_time": "2023-02-21T07:25:16.178Z"
   },
   {
    "duration": 22,
    "start_time": "2023-02-21T07:25:16.217Z"
   },
   {
    "duration": 55,
    "start_time": "2023-02-21T07:25:16.241Z"
   },
   {
    "duration": 51,
    "start_time": "2023-02-21T07:25:16.298Z"
   },
   {
    "duration": 21,
    "start_time": "2023-02-21T07:25:16.350Z"
   },
   {
    "duration": 40,
    "start_time": "2023-02-21T07:25:16.373Z"
   },
   {
    "duration": 259,
    "start_time": "2023-02-21T07:25:16.415Z"
   },
   {
    "duration": 263,
    "start_time": "2023-02-21T07:25:16.676Z"
   },
   {
    "duration": 12,
    "start_time": "2023-02-21T07:25:16.941Z"
   },
   {
    "duration": 47,
    "start_time": "2023-02-21T07:25:16.956Z"
   },
   {
    "duration": 33,
    "start_time": "2023-02-21T07:25:17.006Z"
   },
   {
    "duration": 96,
    "start_time": "2023-02-21T07:25:17.041Z"
   },
   {
    "duration": 75,
    "start_time": "2023-02-21T07:25:17.139Z"
   },
   {
    "duration": 97,
    "start_time": "2023-02-21T07:25:17.222Z"
   },
   {
    "duration": 59,
    "start_time": "2023-02-21T07:25:17.322Z"
   },
   {
    "duration": 71,
    "start_time": "2023-02-21T07:25:17.389Z"
   },
   {
    "duration": 80,
    "start_time": "2023-02-21T07:25:17.462Z"
   },
   {
    "duration": 84,
    "start_time": "2023-02-21T07:25:17.544Z"
   },
   {
    "duration": 77,
    "start_time": "2023-02-21T07:25:17.632Z"
   },
   {
    "duration": 76,
    "start_time": "2023-02-21T07:25:17.712Z"
   },
   {
    "duration": 65,
    "start_time": "2023-02-21T07:25:17.798Z"
   },
   {
    "duration": 89,
    "start_time": "2023-02-21T07:25:17.865Z"
   },
   {
    "duration": 81,
    "start_time": "2023-02-21T07:25:17.956Z"
   },
   {
    "duration": 85,
    "start_time": "2023-02-21T07:25:18.038Z"
   },
   {
    "duration": 80,
    "start_time": "2023-02-21T07:25:18.126Z"
   },
   {
    "duration": 63,
    "start_time": "2023-02-21T07:25:18.213Z"
   },
   {
    "duration": 1377,
    "start_time": "2023-02-21T07:31:27.875Z"
   },
   {
    "duration": 190,
    "start_time": "2023-02-21T07:31:29.254Z"
   },
   {
    "duration": 31,
    "start_time": "2023-02-21T07:31:29.445Z"
   },
   {
    "duration": 4,
    "start_time": "2023-02-21T07:31:29.486Z"
   },
   {
    "duration": 14,
    "start_time": "2023-02-21T07:31:29.493Z"
   },
   {
    "duration": 98,
    "start_time": "2023-02-21T07:31:29.509Z"
   },
   {
    "duration": 76,
    "start_time": "2023-02-21T07:31:29.610Z"
   },
   {
    "duration": 246,
    "start_time": "2023-02-21T07:31:29.688Z"
   },
   {
    "duration": 16,
    "start_time": "2023-02-21T07:31:29.937Z"
   },
   {
    "duration": 46,
    "start_time": "2023-02-21T07:31:29.955Z"
   },
   {
    "duration": 52,
    "start_time": "2023-02-21T07:31:30.003Z"
   },
   {
    "duration": 10,
    "start_time": "2023-02-21T07:31:30.057Z"
   },
   {
    "duration": 133,
    "start_time": "2023-02-21T07:31:30.069Z"
   },
   {
    "duration": 7,
    "start_time": "2023-02-21T07:31:30.207Z"
   },
   {
    "duration": 404,
    "start_time": "2023-02-21T07:31:30.216Z"
   },
   {
    "duration": 17,
    "start_time": "2023-02-21T07:31:30.623Z"
   },
   {
    "duration": 109,
    "start_time": "2023-02-21T07:31:30.641Z"
   },
   {
    "duration": 117,
    "start_time": "2023-02-21T07:31:30.752Z"
   },
   {
    "duration": 154,
    "start_time": "2023-02-21T07:31:30.871Z"
   },
   {
    "duration": 279,
    "start_time": "2023-02-21T07:31:31.027Z"
   },
   {
    "duration": 41,
    "start_time": "2023-02-21T07:31:31.308Z"
   },
   {
    "duration": 145,
    "start_time": "2023-02-21T07:31:31.352Z"
   },
   {
    "duration": 32,
    "start_time": "2023-02-21T07:31:31.501Z"
   },
   {
    "duration": 58,
    "start_time": "2023-02-21T07:31:31.535Z"
   },
   {
    "duration": 72,
    "start_time": "2023-02-21T07:31:31.594Z"
   },
   {
    "duration": 36,
    "start_time": "2023-02-21T07:31:31.668Z"
   },
   {
    "duration": 41,
    "start_time": "2023-02-21T07:31:31.706Z"
   },
   {
    "duration": 6,
    "start_time": "2023-02-21T07:31:31.749Z"
   },
   {
    "duration": 324,
    "start_time": "2023-02-21T07:31:31.757Z"
   },
   {
    "duration": 264,
    "start_time": "2023-02-21T07:31:32.086Z"
   },
   {
    "duration": 13,
    "start_time": "2023-02-21T07:31:32.352Z"
   },
   {
    "duration": 92,
    "start_time": "2023-02-21T07:31:32.367Z"
   },
   {
    "duration": 72,
    "start_time": "2023-02-21T07:31:32.460Z"
   },
   {
    "duration": 217,
    "start_time": "2023-02-21T07:31:32.535Z"
   },
   {
    "duration": 80,
    "start_time": "2023-02-21T07:31:32.754Z"
   },
   {
    "duration": 70,
    "start_time": "2023-02-21T07:31:32.835Z"
   },
   {
    "duration": 81,
    "start_time": "2023-02-21T07:31:32.907Z"
   },
   {
    "duration": 82,
    "start_time": "2023-02-21T07:31:32.990Z"
   },
   {
    "duration": 77,
    "start_time": "2023-02-21T07:31:33.074Z"
   },
   {
    "duration": 81,
    "start_time": "2023-02-21T07:31:33.153Z"
   },
   {
    "duration": 68,
    "start_time": "2023-02-21T07:31:33.237Z"
   },
   {
    "duration": 74,
    "start_time": "2023-02-21T07:31:33.307Z"
   },
   {
    "duration": 65,
    "start_time": "2023-02-21T07:31:33.382Z"
   },
   {
    "duration": 89,
    "start_time": "2023-02-21T07:31:33.448Z"
   },
   {
    "duration": 68,
    "start_time": "2023-02-21T07:31:33.538Z"
   },
   {
    "duration": 64,
    "start_time": "2023-02-21T07:31:33.607Z"
   },
   {
    "duration": 94,
    "start_time": "2023-02-21T07:31:33.672Z"
   },
   {
    "duration": 78,
    "start_time": "2023-02-21T07:31:33.768Z"
   },
   {
    "duration": 1233,
    "start_time": "2023-02-21T07:49:16.333Z"
   },
   {
    "duration": 172,
    "start_time": "2023-02-21T07:49:17.568Z"
   },
   {
    "duration": 31,
    "start_time": "2023-02-21T07:49:17.742Z"
   },
   {
    "duration": 4,
    "start_time": "2023-02-21T07:49:17.775Z"
   },
   {
    "duration": 23,
    "start_time": "2023-02-21T07:49:17.780Z"
   },
   {
    "duration": 90,
    "start_time": "2023-02-21T07:49:17.804Z"
   },
   {
    "duration": 86,
    "start_time": "2023-02-21T07:49:17.896Z"
   },
   {
    "duration": 233,
    "start_time": "2023-02-21T07:49:17.984Z"
   },
   {
    "duration": 25,
    "start_time": "2023-02-21T07:49:18.219Z"
   },
   {
    "duration": 32,
    "start_time": "2023-02-21T07:49:18.247Z"
   },
   {
    "duration": 33,
    "start_time": "2023-02-21T07:49:18.281Z"
   },
   {
    "duration": 29,
    "start_time": "2023-02-21T07:49:18.316Z"
   },
   {
    "duration": 85,
    "start_time": "2023-02-21T07:49:18.346Z"
   },
   {
    "duration": 8,
    "start_time": "2023-02-21T07:49:18.433Z"
   },
   {
    "duration": 326,
    "start_time": "2023-02-21T07:49:18.443Z"
   },
   {
    "duration": 17,
    "start_time": "2023-02-21T07:49:18.771Z"
   },
   {
    "duration": 28,
    "start_time": "2023-02-21T07:49:18.790Z"
   },
   {
    "duration": 48,
    "start_time": "2023-02-21T07:49:18.819Z"
   },
   {
    "duration": 17,
    "start_time": "2023-02-21T07:49:18.869Z"
   },
   {
    "duration": 215,
    "start_time": "2023-02-21T07:49:18.889Z"
   },
   {
    "duration": 37,
    "start_time": "2023-02-21T07:49:19.105Z"
   },
   {
    "duration": 61,
    "start_time": "2023-02-21T07:49:19.144Z"
   },
   {
    "duration": 12,
    "start_time": "2023-02-21T07:49:19.207Z"
   },
   {
    "duration": 10,
    "start_time": "2023-02-21T07:49:19.238Z"
   },
   {
    "duration": 35,
    "start_time": "2023-02-21T07:49:19.249Z"
   },
   {
    "duration": 33,
    "start_time": "2023-02-21T07:49:19.286Z"
   },
   {
    "duration": 28,
    "start_time": "2023-02-21T07:49:19.321Z"
   },
   {
    "duration": 6,
    "start_time": "2023-02-21T07:49:19.352Z"
   },
   {
    "duration": 240,
    "start_time": "2023-02-21T07:49:19.359Z"
   },
   {
    "duration": 232,
    "start_time": "2023-02-21T07:49:19.600Z"
   },
   {
    "duration": 10,
    "start_time": "2023-02-21T07:49:19.834Z"
   },
   {
    "duration": 22,
    "start_time": "2023-02-21T07:49:19.845Z"
   },
   {
    "duration": 16,
    "start_time": "2023-02-21T07:49:19.868Z"
   },
   {
    "duration": 79,
    "start_time": "2023-02-21T07:49:19.886Z"
   },
   {
    "duration": 75,
    "start_time": "2023-02-21T07:49:19.967Z"
   },
   {
    "duration": 65,
    "start_time": "2023-02-21T07:49:20.043Z"
   },
   {
    "duration": 70,
    "start_time": "2023-02-21T07:49:20.109Z"
   },
   {
    "duration": 70,
    "start_time": "2023-02-21T07:49:20.181Z"
   },
   {
    "duration": 67,
    "start_time": "2023-02-21T07:49:20.253Z"
   },
   {
    "duration": 74,
    "start_time": "2023-02-21T07:49:20.321Z"
   },
   {
    "duration": 79,
    "start_time": "2023-02-21T07:49:20.397Z"
   },
   {
    "duration": 75,
    "start_time": "2023-02-21T07:49:20.478Z"
   },
   {
    "duration": 58,
    "start_time": "2023-02-21T07:49:20.555Z"
   },
   {
    "duration": 90,
    "start_time": "2023-02-21T07:49:20.615Z"
   },
   {
    "duration": 76,
    "start_time": "2023-02-21T07:49:20.707Z"
   },
   {
    "duration": 72,
    "start_time": "2023-02-21T07:49:20.785Z"
   },
   {
    "duration": 64,
    "start_time": "2023-02-21T07:49:20.859Z"
   },
   {
    "duration": 68,
    "start_time": "2023-02-21T07:49:20.938Z"
   },
   {
    "duration": 1227,
    "start_time": "2023-02-21T07:59:34.026Z"
   },
   {
    "duration": 174,
    "start_time": "2023-02-21T07:59:35.254Z"
   },
   {
    "duration": 30,
    "start_time": "2023-02-21T07:59:35.430Z"
   },
   {
    "duration": 10,
    "start_time": "2023-02-21T07:59:35.461Z"
   },
   {
    "duration": 55,
    "start_time": "2023-02-21T07:59:35.473Z"
   },
   {
    "duration": 82,
    "start_time": "2023-02-21T07:59:35.530Z"
   },
   {
    "duration": 83,
    "start_time": "2023-02-21T07:59:35.614Z"
   },
   {
    "duration": 209,
    "start_time": "2023-02-21T07:59:35.699Z"
   },
   {
    "duration": 17,
    "start_time": "2023-02-21T07:59:35.910Z"
   },
   {
    "duration": 43,
    "start_time": "2023-02-21T07:59:35.928Z"
   },
   {
    "duration": 34,
    "start_time": "2023-02-21T07:59:35.973Z"
   },
   {
    "duration": 30,
    "start_time": "2023-02-21T07:59:36.009Z"
   },
   {
    "duration": 74,
    "start_time": "2023-02-21T07:59:36.040Z"
   },
   {
    "duration": 20,
    "start_time": "2023-02-21T07:59:36.118Z"
   },
   {
    "duration": 330,
    "start_time": "2023-02-21T07:59:36.140Z"
   },
   {
    "duration": 16,
    "start_time": "2023-02-21T07:59:36.472Z"
   },
   {
    "duration": 29,
    "start_time": "2023-02-21T07:59:36.490Z"
   },
   {
    "duration": 35,
    "start_time": "2023-02-21T07:59:36.539Z"
   },
   {
    "duration": 16,
    "start_time": "2023-02-21T07:59:36.576Z"
   },
   {
    "duration": 231,
    "start_time": "2023-02-21T07:59:36.594Z"
   },
   {
    "duration": 37,
    "start_time": "2023-02-21T07:59:36.828Z"
   },
   {
    "duration": 72,
    "start_time": "2023-02-21T07:59:36.867Z"
   },
   {
    "duration": 12,
    "start_time": "2023-02-21T07:59:36.940Z"
   },
   {
    "duration": 20,
    "start_time": "2023-02-21T07:59:36.955Z"
   },
   {
    "duration": 32,
    "start_time": "2023-02-21T07:59:36.977Z"
   },
   {
    "duration": 31,
    "start_time": "2023-02-21T07:59:37.011Z"
   },
   {
    "duration": 23,
    "start_time": "2023-02-21T07:59:37.044Z"
   },
   {
    "duration": 6,
    "start_time": "2023-02-21T07:59:37.068Z"
   },
   {
    "duration": 234,
    "start_time": "2023-02-21T07:59:37.076Z"
   },
   {
    "duration": 228,
    "start_time": "2023-02-21T07:59:37.312Z"
   },
   {
    "duration": 10,
    "start_time": "2023-02-21T07:59:37.541Z"
   },
   {
    "duration": 18,
    "start_time": "2023-02-21T07:59:37.553Z"
   },
   {
    "duration": 9,
    "start_time": "2023-02-21T07:59:37.573Z"
   },
   {
    "duration": 99,
    "start_time": "2023-02-21T07:59:37.584Z"
   },
   {
    "duration": 79,
    "start_time": "2023-02-21T07:59:37.684Z"
   },
   {
    "duration": 76,
    "start_time": "2023-02-21T07:59:37.765Z"
   },
   {
    "duration": 64,
    "start_time": "2023-02-21T07:59:37.843Z"
   },
   {
    "duration": 75,
    "start_time": "2023-02-21T07:59:37.909Z"
   },
   {
    "duration": 86,
    "start_time": "2023-02-21T07:59:37.986Z"
   },
   {
    "duration": 87,
    "start_time": "2023-02-21T07:59:38.074Z"
   },
   {
    "duration": 86,
    "start_time": "2023-02-21T07:59:38.168Z"
   },
   {
    "duration": 61,
    "start_time": "2023-02-21T07:59:38.255Z"
   },
   {
    "duration": 68,
    "start_time": "2023-02-21T07:59:38.318Z"
   },
   {
    "duration": 92,
    "start_time": "2023-02-21T07:59:38.388Z"
   },
   {
    "duration": 71,
    "start_time": "2023-02-21T07:59:38.481Z"
   },
   {
    "duration": 64,
    "start_time": "2023-02-21T07:59:38.554Z"
   },
   {
    "duration": 77,
    "start_time": "2023-02-21T07:59:38.620Z"
   },
   {
    "duration": 74,
    "start_time": "2023-02-21T07:59:38.699Z"
   },
   {
    "duration": 51,
    "start_time": "2023-02-22T07:35:41.998Z"
   },
   {
    "duration": 1550,
    "start_time": "2023-02-22T07:35:48.778Z"
   },
   {
    "duration": 744,
    "start_time": "2023-02-22T07:35:50.331Z"
   },
   {
    "duration": 34,
    "start_time": "2023-02-22T07:35:51.077Z"
   },
   {
    "duration": 4,
    "start_time": "2023-02-22T07:35:51.114Z"
   },
   {
    "duration": 29,
    "start_time": "2023-02-22T07:35:51.120Z"
   },
   {
    "duration": 83,
    "start_time": "2023-02-22T07:35:51.151Z"
   },
   {
    "duration": 82,
    "start_time": "2023-02-22T07:35:51.239Z"
   },
   {
    "duration": 218,
    "start_time": "2023-02-22T07:35:51.324Z"
   },
   {
    "duration": 15,
    "start_time": "2023-02-22T07:35:51.544Z"
   },
   {
    "duration": 37,
    "start_time": "2023-02-22T07:35:51.562Z"
   },
   {
    "duration": 46,
    "start_time": "2023-02-22T07:35:51.600Z"
   },
   {
    "duration": 23,
    "start_time": "2023-02-22T07:35:51.649Z"
   },
   {
    "duration": 87,
    "start_time": "2023-02-22T07:35:51.673Z"
   },
   {
    "duration": 6,
    "start_time": "2023-02-22T07:35:51.762Z"
   },
   {
    "duration": 341,
    "start_time": "2023-02-22T07:35:51.770Z"
   },
   {
    "duration": 31,
    "start_time": "2023-02-22T07:35:52.113Z"
   },
   {
    "duration": 29,
    "start_time": "2023-02-22T07:35:52.146Z"
   },
   {
    "duration": 37,
    "start_time": "2023-02-22T07:35:52.177Z"
   },
   {
    "duration": 36,
    "start_time": "2023-02-22T07:35:52.216Z"
   },
   {
    "duration": 226,
    "start_time": "2023-02-22T07:35:52.254Z"
   },
   {
    "duration": 32,
    "start_time": "2023-02-22T07:35:52.482Z"
   },
   {
    "duration": 82,
    "start_time": "2023-02-22T07:35:52.515Z"
   },
   {
    "duration": 12,
    "start_time": "2023-02-22T07:35:52.599Z"
   },
   {
    "duration": 30,
    "start_time": "2023-02-22T07:35:52.613Z"
   },
   {
    "duration": 17,
    "start_time": "2023-02-22T07:35:52.645Z"
   },
   {
    "duration": 22,
    "start_time": "2023-02-22T07:35:52.663Z"
   },
   {
    "duration": 22,
    "start_time": "2023-02-22T07:35:52.687Z"
   },
   {
    "duration": 5,
    "start_time": "2023-02-22T07:35:52.742Z"
   },
   {
    "duration": 226,
    "start_time": "2023-02-22T07:35:52.749Z"
   },
   {
    "duration": 233,
    "start_time": "2023-02-22T07:35:52.977Z"
   },
   {
    "duration": 11,
    "start_time": "2023-02-22T07:35:53.212Z"
   },
   {
    "duration": 26,
    "start_time": "2023-02-22T07:35:53.225Z"
   },
   {
    "duration": 11,
    "start_time": "2023-02-22T07:35:53.253Z"
   },
   {
    "duration": 90,
    "start_time": "2023-02-22T07:35:53.266Z"
   },
   {
    "duration": 66,
    "start_time": "2023-02-22T07:35:53.358Z"
   },
   {
    "duration": 65,
    "start_time": "2023-02-22T07:35:53.439Z"
   },
   {
    "duration": 81,
    "start_time": "2023-02-22T07:35:53.507Z"
   },
   {
    "duration": 69,
    "start_time": "2023-02-22T07:35:53.590Z"
   },
   {
    "duration": 146,
    "start_time": "2023-02-22T07:35:53.661Z"
   },
   {
    "duration": 0,
    "start_time": "2023-02-22T07:35:53.809Z"
   },
   {
    "duration": 0,
    "start_time": "2023-02-22T07:35:53.811Z"
   },
   {
    "duration": 0,
    "start_time": "2023-02-22T07:35:53.812Z"
   },
   {
    "duration": 0,
    "start_time": "2023-02-22T07:35:53.813Z"
   },
   {
    "duration": 0,
    "start_time": "2023-02-22T07:35:53.814Z"
   },
   {
    "duration": 0,
    "start_time": "2023-02-22T07:35:53.816Z"
   },
   {
    "duration": 0,
    "start_time": "2023-02-22T07:35:53.839Z"
   },
   {
    "duration": 0,
    "start_time": "2023-02-22T07:35:53.841Z"
   },
   {
    "duration": 0,
    "start_time": "2023-02-22T07:35:53.843Z"
   },
   {
    "duration": 0,
    "start_time": "2023-02-22T07:35:53.844Z"
   },
   {
    "duration": 13,
    "start_time": "2023-02-22T07:36:18.838Z"
   },
   {
    "duration": 16,
    "start_time": "2023-02-22T07:36:26.617Z"
   },
   {
    "duration": 26,
    "start_time": "2023-02-22T07:36:52.893Z"
   },
   {
    "duration": 5,
    "start_time": "2023-02-22T07:37:32.098Z"
   },
   {
    "duration": 15,
    "start_time": "2023-02-22T07:37:36.650Z"
   },
   {
    "duration": 14,
    "start_time": "2023-02-22T07:37:46.369Z"
   },
   {
    "duration": 14,
    "start_time": "2023-02-22T07:38:38.049Z"
   },
   {
    "duration": 724,
    "start_time": "2023-02-22T07:41:28.585Z"
   },
   {
    "duration": 12,
    "start_time": "2023-02-22T07:41:58.844Z"
   },
   {
    "duration": 19,
    "start_time": "2023-02-22T07:42:14.493Z"
   },
   {
    "duration": 18,
    "start_time": "2023-02-22T07:43:12.523Z"
   },
   {
    "duration": 10,
    "start_time": "2023-02-22T07:45:33.887Z"
   },
   {
    "duration": 9,
    "start_time": "2023-02-22T07:46:05.761Z"
   },
   {
    "duration": 9,
    "start_time": "2023-02-22T07:52:18.497Z"
   },
   {
    "duration": 20,
    "start_time": "2023-02-22T07:52:23.926Z"
   },
   {
    "duration": 82,
    "start_time": "2023-02-22T07:58:12.484Z"
   },
   {
    "duration": 2592,
    "start_time": "2023-02-22T07:58:23.133Z"
   },
   {
    "duration": 844,
    "start_time": "2023-02-22T07:58:25.728Z"
   },
   {
    "duration": 53,
    "start_time": "2023-02-22T07:58:26.574Z"
   },
   {
    "duration": 5,
    "start_time": "2023-02-22T07:58:26.629Z"
   },
   {
    "duration": 56,
    "start_time": "2023-02-22T07:58:26.637Z"
   },
   {
    "duration": 90,
    "start_time": "2023-02-22T07:58:26.695Z"
   },
   {
    "duration": 104,
    "start_time": "2023-02-22T07:58:26.788Z"
   },
   {
    "duration": 339,
    "start_time": "2023-02-22T07:58:26.894Z"
   },
   {
    "duration": 24,
    "start_time": "2023-02-22T07:58:27.235Z"
   },
   {
    "duration": 57,
    "start_time": "2023-02-22T07:58:27.261Z"
   },
   {
    "duration": 66,
    "start_time": "2023-02-22T07:58:27.320Z"
   },
   {
    "duration": 30,
    "start_time": "2023-02-22T07:58:27.389Z"
   },
   {
    "duration": 132,
    "start_time": "2023-02-22T07:58:27.422Z"
   },
   {
    "duration": 7,
    "start_time": "2023-02-22T07:58:27.559Z"
   },
   {
    "duration": 390,
    "start_time": "2023-02-22T07:58:27.569Z"
   },
   {
    "duration": 22,
    "start_time": "2023-02-22T07:58:27.960Z"
   },
   {
    "duration": 55,
    "start_time": "2023-02-22T07:58:27.985Z"
   },
   {
    "duration": 57,
    "start_time": "2023-02-22T07:58:28.042Z"
   },
   {
    "duration": 49,
    "start_time": "2023-02-22T07:58:28.101Z"
   },
   {
    "duration": 280,
    "start_time": "2023-02-22T07:58:28.152Z"
   },
   {
    "duration": 44,
    "start_time": "2023-02-22T07:58:28.441Z"
   },
   {
    "duration": 117,
    "start_time": "2023-02-22T07:58:28.489Z"
   },
   {
    "duration": 18,
    "start_time": "2023-02-22T07:58:28.609Z"
   },
   {
    "duration": 13,
    "start_time": "2023-02-22T07:58:28.641Z"
   },
   {
    "duration": 26,
    "start_time": "2023-02-22T07:58:28.656Z"
   },
   {
    "duration": 59,
    "start_time": "2023-02-22T07:58:28.684Z"
   },
   {
    "duration": 36,
    "start_time": "2023-02-22T07:58:28.746Z"
   },
   {
    "duration": 8,
    "start_time": "2023-02-22T07:58:28.784Z"
   },
   {
    "duration": 387,
    "start_time": "2023-02-22T07:58:28.794Z"
   },
   {
    "duration": 325,
    "start_time": "2023-02-22T07:58:29.183Z"
   },
   {
    "duration": 13,
    "start_time": "2023-02-22T07:58:29.511Z"
   },
   {
    "duration": 13,
    "start_time": "2023-02-22T07:58:29.541Z"
   },
   {
    "duration": 18,
    "start_time": "2023-02-22T07:58:29.557Z"
   },
   {
    "duration": 87,
    "start_time": "2023-02-22T07:58:29.577Z"
   },
   {
    "duration": 87,
    "start_time": "2023-02-22T07:58:29.666Z"
   },
   {
    "duration": 107,
    "start_time": "2023-02-22T07:58:29.755Z"
   },
   {
    "duration": 101,
    "start_time": "2023-02-22T07:58:29.865Z"
   },
   {
    "duration": 97,
    "start_time": "2023-02-22T07:58:29.969Z"
   },
   {
    "duration": 1377,
    "start_time": "2023-02-22T11:02:19.334Z"
   },
   {
    "duration": 711,
    "start_time": "2023-02-22T11:02:20.713Z"
   },
   {
    "duration": 33,
    "start_time": "2023-02-22T11:02:21.426Z"
   },
   {
    "duration": 4,
    "start_time": "2023-02-22T11:02:21.460Z"
   },
   {
    "duration": 27,
    "start_time": "2023-02-22T11:02:21.466Z"
   },
   {
    "duration": 92,
    "start_time": "2023-02-22T11:02:21.495Z"
   },
   {
    "duration": 93,
    "start_time": "2023-02-22T11:02:21.589Z"
   },
   {
    "duration": 223,
    "start_time": "2023-02-22T11:02:21.684Z"
   },
   {
    "duration": 20,
    "start_time": "2023-02-22T11:02:21.909Z"
   },
   {
    "duration": 47,
    "start_time": "2023-02-22T11:02:21.931Z"
   },
   {
    "duration": 33,
    "start_time": "2023-02-22T11:02:21.980Z"
   },
   {
    "duration": 17,
    "start_time": "2023-02-22T11:02:22.015Z"
   },
   {
    "duration": 107,
    "start_time": "2023-02-22T11:02:22.040Z"
   },
   {
    "duration": 6,
    "start_time": "2023-02-22T11:02:22.151Z"
   },
   {
    "duration": 365,
    "start_time": "2023-02-22T11:02:22.159Z"
   },
   {
    "duration": 26,
    "start_time": "2023-02-22T11:02:22.526Z"
   },
   {
    "duration": 29,
    "start_time": "2023-02-22T11:02:22.554Z"
   },
   {
    "duration": 56,
    "start_time": "2023-02-22T11:02:22.585Z"
   },
   {
    "duration": 17,
    "start_time": "2023-02-22T11:02:22.642Z"
   },
   {
    "duration": 214,
    "start_time": "2023-02-22T11:02:22.660Z"
   },
   {
    "duration": 31,
    "start_time": "2023-02-22T11:02:22.876Z"
   },
   {
    "duration": 76,
    "start_time": "2023-02-22T11:02:22.909Z"
   },
   {
    "duration": 13,
    "start_time": "2023-02-22T11:02:22.986Z"
   },
   {
    "duration": 16,
    "start_time": "2023-02-22T11:02:23.000Z"
   },
   {
    "duration": 32,
    "start_time": "2023-02-22T11:02:23.018Z"
   },
   {
    "duration": 24,
    "start_time": "2023-02-22T11:02:23.053Z"
   },
   {
    "duration": 25,
    "start_time": "2023-02-22T11:02:23.079Z"
   },
   {
    "duration": 33,
    "start_time": "2023-02-22T11:02:23.106Z"
   },
   {
    "duration": 230,
    "start_time": "2023-02-22T11:02:23.141Z"
   },
   {
    "duration": 236,
    "start_time": "2023-02-22T11:02:23.373Z"
   },
   {
    "duration": 11,
    "start_time": "2023-02-22T11:02:23.610Z"
   },
   {
    "duration": 24,
    "start_time": "2023-02-22T11:02:23.622Z"
   },
   {
    "duration": 20,
    "start_time": "2023-02-22T11:02:23.648Z"
   },
   {
    "duration": 84,
    "start_time": "2023-02-22T11:02:23.670Z"
   },
   {
    "duration": 68,
    "start_time": "2023-02-22T11:02:23.756Z"
   },
   {
    "duration": 67,
    "start_time": "2023-02-22T11:02:23.839Z"
   },
   {
    "duration": 79,
    "start_time": "2023-02-22T11:02:23.908Z"
   },
   {
    "duration": 76,
    "start_time": "2023-02-22T11:02:23.989Z"
   },
   {
    "duration": 53,
    "start_time": "2023-02-22T11:07:06.561Z"
   },
   {
    "duration": 1479,
    "start_time": "2023-02-22T11:07:12.776Z"
   },
   {
    "duration": 709,
    "start_time": "2023-02-22T11:07:14.257Z"
   },
   {
    "duration": 31,
    "start_time": "2023-02-22T11:07:14.968Z"
   },
   {
    "duration": 4,
    "start_time": "2023-02-22T11:07:15.001Z"
   },
   {
    "duration": 57,
    "start_time": "2023-02-22T11:07:15.007Z"
   },
   {
    "duration": 83,
    "start_time": "2023-02-22T11:07:15.066Z"
   },
   {
    "duration": 93,
    "start_time": "2023-02-22T11:07:15.151Z"
   },
   {
    "duration": 226,
    "start_time": "2023-02-22T11:07:15.246Z"
   },
   {
    "duration": 17,
    "start_time": "2023-02-22T11:07:15.475Z"
   },
   {
    "duration": 48,
    "start_time": "2023-02-22T11:07:15.495Z"
   },
   {
    "duration": 38,
    "start_time": "2023-02-22T11:07:15.545Z"
   },
   {
    "duration": 12,
    "start_time": "2023-02-22T11:07:15.585Z"
   },
   {
    "duration": 101,
    "start_time": "2023-02-22T11:07:15.598Z"
   },
   {
    "duration": 6,
    "start_time": "2023-02-22T11:07:15.700Z"
   },
   {
    "duration": 349,
    "start_time": "2023-02-22T11:07:15.708Z"
   },
   {
    "duration": 19,
    "start_time": "2023-02-22T11:07:16.059Z"
   },
   {
    "duration": 38,
    "start_time": "2023-02-22T11:07:16.080Z"
   },
   {
    "duration": 33,
    "start_time": "2023-02-22T11:07:16.140Z"
   },
   {
    "duration": 16,
    "start_time": "2023-02-22T11:07:16.175Z"
   },
   {
    "duration": 233,
    "start_time": "2023-02-22T11:07:16.193Z"
   },
   {
    "duration": 31,
    "start_time": "2023-02-22T11:07:16.428Z"
   },
   {
    "duration": 80,
    "start_time": "2023-02-22T11:07:16.461Z"
   },
   {
    "duration": 13,
    "start_time": "2023-02-22T11:07:16.543Z"
   },
   {
    "duration": 10,
    "start_time": "2023-02-22T11:07:16.557Z"
   },
   {
    "duration": 21,
    "start_time": "2023-02-22T11:07:16.569Z"
   },
   {
    "duration": 48,
    "start_time": "2023-02-22T11:07:16.592Z"
   },
   {
    "duration": 23,
    "start_time": "2023-02-22T11:07:16.642Z"
   },
   {
    "duration": 6,
    "start_time": "2023-02-22T11:07:16.669Z"
   },
   {
    "duration": 270,
    "start_time": "2023-02-22T11:07:16.676Z"
   },
   {
    "duration": 250,
    "start_time": "2023-02-22T11:07:16.948Z"
   },
   {
    "duration": 14,
    "start_time": "2023-02-22T11:07:17.200Z"
   },
   {
    "duration": 31,
    "start_time": "2023-02-22T11:07:17.216Z"
   },
   {
    "duration": 14,
    "start_time": "2023-02-22T11:07:17.249Z"
   },
   {
    "duration": 114,
    "start_time": "2023-02-22T11:07:17.265Z"
   },
   {
    "duration": 85,
    "start_time": "2023-02-22T11:07:17.381Z"
   },
   {
    "duration": 85,
    "start_time": "2023-02-22T11:07:17.469Z"
   },
   {
    "duration": 68,
    "start_time": "2023-02-22T11:07:17.556Z"
   },
   {
    "duration": 77,
    "start_time": "2023-02-22T11:07:17.625Z"
   },
   {
    "duration": 188,
    "start_time": "2023-02-22T11:07:17.704Z"
   },
   {
    "duration": 0,
    "start_time": "2023-02-22T11:07:17.894Z"
   },
   {
    "duration": 0,
    "start_time": "2023-02-22T11:07:17.895Z"
   },
   {
    "duration": 0,
    "start_time": "2023-02-22T11:07:17.897Z"
   },
   {
    "duration": 0,
    "start_time": "2023-02-22T11:07:17.898Z"
   },
   {
    "duration": 0,
    "start_time": "2023-02-22T11:07:17.900Z"
   },
   {
    "duration": 0,
    "start_time": "2023-02-22T11:07:17.901Z"
   },
   {
    "duration": 0,
    "start_time": "2023-02-22T11:07:17.902Z"
   },
   {
    "duration": 0,
    "start_time": "2023-02-22T11:07:17.903Z"
   },
   {
    "duration": 0,
    "start_time": "2023-02-22T11:07:17.904Z"
   },
   {
    "duration": 1,
    "start_time": "2023-02-22T11:07:17.905Z"
   },
   {
    "duration": 0,
    "start_time": "2023-02-22T11:07:17.907Z"
   },
   {
    "duration": 54,
    "start_time": "2023-02-22T11:18:07.289Z"
   },
   {
    "duration": 52,
    "start_time": "2023-02-22T11:19:51.105Z"
   },
   {
    "duration": 10,
    "start_time": "2023-02-22T11:20:15.762Z"
   },
   {
    "duration": 39,
    "start_time": "2023-02-22T11:20:16.536Z"
   },
   {
    "duration": 22,
    "start_time": "2023-02-22T11:21:00.236Z"
   },
   {
    "duration": 1284,
    "start_time": "2023-02-22T11:21:05.894Z"
   },
   {
    "duration": 181,
    "start_time": "2023-02-22T11:21:07.180Z"
   },
   {
    "duration": 46,
    "start_time": "2023-02-22T11:21:07.362Z"
   },
   {
    "duration": 4,
    "start_time": "2023-02-22T11:21:07.410Z"
   },
   {
    "duration": 36,
    "start_time": "2023-02-22T11:21:07.416Z"
   },
   {
    "duration": 89,
    "start_time": "2023-02-22T11:21:07.454Z"
   },
   {
    "duration": 80,
    "start_time": "2023-02-22T11:21:07.545Z"
   },
   {
    "duration": 232,
    "start_time": "2023-02-22T11:21:07.627Z"
   },
   {
    "duration": 18,
    "start_time": "2023-02-22T11:21:07.861Z"
   },
   {
    "duration": 61,
    "start_time": "2023-02-22T11:21:07.882Z"
   },
   {
    "duration": 37,
    "start_time": "2023-02-22T11:21:07.945Z"
   },
   {
    "duration": 11,
    "start_time": "2023-02-22T11:21:07.984Z"
   },
   {
    "duration": 109,
    "start_time": "2023-02-22T11:21:07.997Z"
   },
   {
    "duration": 6,
    "start_time": "2023-02-22T11:21:08.108Z"
   },
   {
    "duration": 329,
    "start_time": "2023-02-22T11:21:08.115Z"
   },
   {
    "duration": 19,
    "start_time": "2023-02-22T11:21:08.446Z"
   },
   {
    "duration": 28,
    "start_time": "2023-02-22T11:21:08.467Z"
   },
   {
    "duration": 60,
    "start_time": "2023-02-22T11:21:08.497Z"
   },
   {
    "duration": 21,
    "start_time": "2023-02-22T11:21:08.559Z"
   },
   {
    "duration": 214,
    "start_time": "2023-02-22T11:21:08.582Z"
   },
   {
    "duration": 43,
    "start_time": "2023-02-22T11:21:08.797Z"
   },
   {
    "duration": 82,
    "start_time": "2023-02-22T11:21:08.842Z"
   },
   {
    "duration": 26,
    "start_time": "2023-02-22T11:21:08.926Z"
   },
   {
    "duration": 44,
    "start_time": "2023-02-22T11:21:08.954Z"
   },
   {
    "duration": 35,
    "start_time": "2023-02-22T11:21:09.000Z"
   },
   {
    "duration": 29,
    "start_time": "2023-02-22T11:21:09.037Z"
   },
   {
    "duration": 36,
    "start_time": "2023-02-22T11:21:09.069Z"
   },
   {
    "duration": 7,
    "start_time": "2023-02-22T11:21:09.109Z"
   },
   {
    "duration": 287,
    "start_time": "2023-02-22T11:21:09.118Z"
   },
   {
    "duration": 264,
    "start_time": "2023-02-22T11:21:09.407Z"
   },
   {
    "duration": 10,
    "start_time": "2023-02-22T11:21:09.673Z"
   },
   {
    "duration": 37,
    "start_time": "2023-02-22T11:21:09.685Z"
   },
   {
    "duration": 31,
    "start_time": "2023-02-22T11:21:09.724Z"
   },
   {
    "duration": 90,
    "start_time": "2023-02-22T11:21:09.757Z"
   },
   {
    "duration": 94,
    "start_time": "2023-02-22T11:21:09.849Z"
   },
   {
    "duration": 102,
    "start_time": "2023-02-22T11:21:09.945Z"
   },
   {
    "duration": 77,
    "start_time": "2023-02-22T11:21:10.049Z"
   },
   {
    "duration": 66,
    "start_time": "2023-02-22T11:21:10.140Z"
   },
   {
    "duration": 32,
    "start_time": "2023-02-22T11:21:10.208Z"
   },
   {
    "duration": 37,
    "start_time": "2023-02-22T11:21:10.242Z"
   },
   {
    "duration": 96,
    "start_time": "2023-02-22T11:21:10.281Z"
   },
   {
    "duration": 70,
    "start_time": "2023-02-22T11:21:10.379Z"
   },
   {
    "duration": 59,
    "start_time": "2023-02-22T11:21:10.451Z"
   },
   {
    "duration": 73,
    "start_time": "2023-02-22T11:21:10.512Z"
   },
   {
    "duration": 67,
    "start_time": "2023-02-22T11:21:10.587Z"
   },
   {
    "duration": 67,
    "start_time": "2023-02-22T11:21:10.657Z"
   },
   {
    "duration": 61,
    "start_time": "2023-02-22T11:21:10.740Z"
   },
   {
    "duration": 78,
    "start_time": "2023-02-22T11:21:10.803Z"
   },
   {
    "duration": 71,
    "start_time": "2023-02-22T11:21:10.883Z"
   },
   {
    "duration": 69,
    "start_time": "2023-02-22T11:21:10.956Z"
   },
   {
    "duration": 6,
    "start_time": "2023-02-22T11:48:29.088Z"
   },
   {
    "duration": 62,
    "start_time": "2023-02-22T12:01:44.260Z"
   },
   {
    "duration": 222,
    "start_time": "2023-02-22T12:08:05.071Z"
   },
   {
    "duration": 95,
    "start_time": "2023-02-22T12:08:19.946Z"
   },
   {
    "duration": 77,
    "start_time": "2023-02-22T12:09:11.430Z"
   },
   {
    "duration": 66,
    "start_time": "2023-02-22T12:14:38.623Z"
   },
   {
    "duration": 60,
    "start_time": "2023-02-22T12:15:35.158Z"
   },
   {
    "duration": 770,
    "start_time": "2023-02-22T12:15:52.885Z"
   },
   {
    "duration": 65,
    "start_time": "2023-02-22T12:16:07.511Z"
   },
   {
    "duration": 36,
    "start_time": "2023-02-22T12:21:03.359Z"
   },
   {
    "duration": 49,
    "start_time": "2023-02-22T12:32:10.497Z"
   },
   {
    "duration": 4,
    "start_time": "2023-02-22T12:32:55.692Z"
   },
   {
    "duration": 25,
    "start_time": "2023-02-22T12:33:00.529Z"
   },
   {
    "duration": 50,
    "start_time": "2023-02-22T12:34:05.976Z"
   },
   {
    "duration": 66,
    "start_time": "2023-02-22T12:36:09.841Z"
   },
   {
    "duration": 90,
    "start_time": "2023-02-22T12:36:20.527Z"
   },
   {
    "duration": 72,
    "start_time": "2023-02-22T12:36:31.754Z"
   },
   {
    "duration": 51,
    "start_time": "2023-02-22T12:37:16.060Z"
   },
   {
    "duration": 53,
    "start_time": "2023-02-22T12:43:41.953Z"
   },
   {
    "duration": 10,
    "start_time": "2023-02-22T12:44:05.281Z"
   },
   {
    "duration": 14,
    "start_time": "2023-02-22T12:44:11.799Z"
   },
   {
    "duration": 10,
    "start_time": "2023-02-22T12:44:41.599Z"
   },
   {
    "duration": 16,
    "start_time": "2023-02-22T12:47:56.726Z"
   },
   {
    "duration": 22,
    "start_time": "2023-02-22T12:48:00.987Z"
   },
   {
    "duration": 2941,
    "start_time": "2023-02-22T12:48:09.365Z"
   },
   {
    "duration": 764,
    "start_time": "2023-02-22T12:48:12.309Z"
   },
   {
    "duration": 36,
    "start_time": "2023-02-22T12:48:13.075Z"
   },
   {
    "duration": 4,
    "start_time": "2023-02-22T12:48:13.113Z"
   },
   {
    "duration": 23,
    "start_time": "2023-02-22T12:48:13.119Z"
   },
   {
    "duration": 97,
    "start_time": "2023-02-22T12:48:13.144Z"
   },
   {
    "duration": 101,
    "start_time": "2023-02-22T12:48:13.243Z"
   },
   {
    "duration": 138,
    "start_time": "2023-02-22T12:48:13.348Z"
   },
   {
    "duration": 0,
    "start_time": "2023-02-22T12:48:13.490Z"
   },
   {
    "duration": 0,
    "start_time": "2023-02-22T12:48:13.492Z"
   },
   {
    "duration": 0,
    "start_time": "2023-02-22T12:48:13.494Z"
   },
   {
    "duration": 0,
    "start_time": "2023-02-22T12:48:13.495Z"
   },
   {
    "duration": 0,
    "start_time": "2023-02-22T12:48:13.497Z"
   },
   {
    "duration": 0,
    "start_time": "2023-02-22T12:48:13.498Z"
   },
   {
    "duration": 0,
    "start_time": "2023-02-22T12:48:13.500Z"
   },
   {
    "duration": 0,
    "start_time": "2023-02-22T12:48:13.502Z"
   },
   {
    "duration": 0,
    "start_time": "2023-02-22T12:48:13.503Z"
   },
   {
    "duration": 0,
    "start_time": "2023-02-22T12:48:13.505Z"
   },
   {
    "duration": 0,
    "start_time": "2023-02-22T12:48:13.507Z"
   },
   {
    "duration": 0,
    "start_time": "2023-02-22T12:48:13.508Z"
   },
   {
    "duration": 0,
    "start_time": "2023-02-22T12:48:13.509Z"
   },
   {
    "duration": 0,
    "start_time": "2023-02-22T12:48:13.510Z"
   },
   {
    "duration": 0,
    "start_time": "2023-02-22T12:48:13.541Z"
   },
   {
    "duration": 0,
    "start_time": "2023-02-22T12:48:13.542Z"
   },
   {
    "duration": 0,
    "start_time": "2023-02-22T12:48:13.543Z"
   },
   {
    "duration": 0,
    "start_time": "2023-02-22T12:48:13.545Z"
   },
   {
    "duration": 0,
    "start_time": "2023-02-22T12:48:13.548Z"
   },
   {
    "duration": 1,
    "start_time": "2023-02-22T12:48:13.548Z"
   },
   {
    "duration": 0,
    "start_time": "2023-02-22T12:48:13.549Z"
   },
   {
    "duration": 0,
    "start_time": "2023-02-22T12:48:13.550Z"
   },
   {
    "duration": 0,
    "start_time": "2023-02-22T12:48:13.551Z"
   },
   {
    "duration": 0,
    "start_time": "2023-02-22T12:48:13.559Z"
   },
   {
    "duration": 0,
    "start_time": "2023-02-22T12:48:13.561Z"
   },
   {
    "duration": 0,
    "start_time": "2023-02-22T12:48:13.568Z"
   },
   {
    "duration": 0,
    "start_time": "2023-02-22T12:48:13.569Z"
   },
   {
    "duration": 0,
    "start_time": "2023-02-22T12:48:13.571Z"
   },
   {
    "duration": 0,
    "start_time": "2023-02-22T12:48:13.572Z"
   },
   {
    "duration": 0,
    "start_time": "2023-02-22T12:48:13.574Z"
   },
   {
    "duration": 0,
    "start_time": "2023-02-22T12:48:13.575Z"
   },
   {
    "duration": 0,
    "start_time": "2023-02-22T12:48:13.577Z"
   },
   {
    "duration": 0,
    "start_time": "2023-02-22T12:48:13.578Z"
   },
   {
    "duration": 0,
    "start_time": "2023-02-22T12:48:13.580Z"
   },
   {
    "duration": 0,
    "start_time": "2023-02-22T12:48:13.581Z"
   },
   {
    "duration": 0,
    "start_time": "2023-02-22T12:48:13.583Z"
   },
   {
    "duration": 0,
    "start_time": "2023-02-22T12:48:13.584Z"
   },
   {
    "duration": 0,
    "start_time": "2023-02-22T12:48:13.586Z"
   },
   {
    "duration": 0,
    "start_time": "2023-02-22T12:48:13.639Z"
   },
   {
    "duration": 0,
    "start_time": "2023-02-22T12:48:13.641Z"
   },
   {
    "duration": 0,
    "start_time": "2023-02-22T12:48:13.643Z"
   },
   {
    "duration": 0,
    "start_time": "2023-02-22T12:48:13.645Z"
   },
   {
    "duration": 0,
    "start_time": "2023-02-22T12:48:13.646Z"
   },
   {
    "duration": 0,
    "start_time": "2023-02-22T12:48:13.648Z"
   },
   {
    "duration": 24,
    "start_time": "2023-02-22T12:48:32.721Z"
   },
   {
    "duration": 677,
    "start_time": "2023-02-22T12:48:34.376Z"
   },
   {
    "duration": 765,
    "start_time": "2023-02-22T12:49:08.222Z"
   },
   {
    "duration": 6,
    "start_time": "2023-02-22T12:50:29.232Z"
   },
   {
    "duration": 5,
    "start_time": "2023-02-22T12:50:42.632Z"
   },
   {
    "duration": 8,
    "start_time": "2023-02-22T12:51:03.226Z"
   },
   {
    "duration": 10,
    "start_time": "2023-02-22T12:53:23.753Z"
   },
   {
    "duration": 51,
    "start_time": "2023-02-22T12:54:37.181Z"
   },
   {
    "duration": 1339,
    "start_time": "2023-02-22T12:54:42.425Z"
   },
   {
    "duration": 198,
    "start_time": "2023-02-22T12:54:43.766Z"
   },
   {
    "duration": 30,
    "start_time": "2023-02-22T12:54:43.966Z"
   },
   {
    "duration": 3,
    "start_time": "2023-02-22T12:54:43.998Z"
   },
   {
    "duration": 28,
    "start_time": "2023-02-22T12:54:44.003Z"
   },
   {
    "duration": 90,
    "start_time": "2023-02-22T12:54:44.032Z"
   },
   {
    "duration": 118,
    "start_time": "2023-02-22T12:54:44.124Z"
   },
   {
    "duration": 59,
    "start_time": "2023-02-22T12:54:44.244Z"
   },
   {
    "duration": 37,
    "start_time": "2023-02-22T12:54:44.305Z"
   },
   {
    "duration": 9,
    "start_time": "2023-02-22T12:54:44.347Z"
   },
   {
    "duration": 29,
    "start_time": "2023-02-22T12:54:44.358Z"
   },
   {
    "duration": 48,
    "start_time": "2023-02-22T12:54:44.389Z"
   },
   {
    "duration": 46,
    "start_time": "2023-02-22T12:54:44.438Z"
   },
   {
    "duration": 11,
    "start_time": "2023-02-22T12:54:44.489Z"
   },
   {
    "duration": 114,
    "start_time": "2023-02-22T12:54:44.501Z"
   },
   {
    "duration": 6,
    "start_time": "2023-02-22T12:54:44.617Z"
   },
   {
    "duration": 384,
    "start_time": "2023-02-22T12:54:44.624Z"
   },
   {
    "duration": 33,
    "start_time": "2023-02-22T12:54:45.009Z"
   },
   {
    "duration": 36,
    "start_time": "2023-02-22T12:54:45.046Z"
   },
   {
    "duration": 32,
    "start_time": "2023-02-22T12:54:45.084Z"
   },
   {
    "duration": 53,
    "start_time": "2023-02-22T12:54:45.118Z"
   },
   {
    "duration": 249,
    "start_time": "2023-02-22T12:54:45.173Z"
   },
   {
    "duration": 49,
    "start_time": "2023-02-22T12:54:45.424Z"
   },
   {
    "duration": 110,
    "start_time": "2023-02-22T12:54:45.475Z"
   },
   {
    "duration": 12,
    "start_time": "2023-02-22T12:54:45.586Z"
   },
   {
    "duration": 11,
    "start_time": "2023-02-22T12:54:45.600Z"
   },
   {
    "duration": 44,
    "start_time": "2023-02-22T12:54:45.612Z"
   },
   {
    "duration": 26,
    "start_time": "2023-02-22T12:54:45.657Z"
   },
   {
    "duration": 25,
    "start_time": "2023-02-22T12:54:45.685Z"
   },
   {
    "duration": 26,
    "start_time": "2023-02-22T12:54:45.712Z"
   },
   {
    "duration": 80,
    "start_time": "2023-02-22T12:54:45.744Z"
   },
   {
    "duration": 75,
    "start_time": "2023-02-22T12:54:45.826Z"
   },
   {
    "duration": 7,
    "start_time": "2023-02-22T12:54:45.903Z"
   },
   {
    "duration": 228,
    "start_time": "2023-02-22T12:54:45.912Z"
   },
   {
    "duration": 248,
    "start_time": "2023-02-22T12:54:46.142Z"
   },
   {
    "duration": 11,
    "start_time": "2023-02-22T12:54:46.392Z"
   },
   {
    "duration": 13,
    "start_time": "2023-02-22T12:54:46.405Z"
   },
   {
    "duration": 28,
    "start_time": "2023-02-22T12:54:46.420Z"
   },
   {
    "duration": 108,
    "start_time": "2023-02-22T12:54:46.450Z"
   },
   {
    "duration": 103,
    "start_time": "2023-02-22T12:54:46.562Z"
   },
   {
    "duration": 86,
    "start_time": "2023-02-22T12:54:46.669Z"
   },
   {
    "duration": 87,
    "start_time": "2023-02-22T12:54:46.758Z"
   },
   {
    "duration": 66,
    "start_time": "2023-02-22T12:54:46.847Z"
   },
   {
    "duration": 109,
    "start_time": "2023-02-22T12:54:46.916Z"
   },
   {
    "duration": 94,
    "start_time": "2023-02-22T12:54:47.027Z"
   },
   {
    "duration": 93,
    "start_time": "2023-02-22T12:54:47.123Z"
   },
   {
    "duration": 88,
    "start_time": "2023-02-22T12:54:47.218Z"
   },
   {
    "duration": 84,
    "start_time": "2023-02-22T12:54:47.308Z"
   },
   {
    "duration": 118,
    "start_time": "2023-02-22T12:54:47.393Z"
   },
   {
    "duration": 86,
    "start_time": "2023-02-22T12:54:47.513Z"
   },
   {
    "duration": 107,
    "start_time": "2023-02-22T12:54:47.601Z"
   },
   {
    "duration": 84,
    "start_time": "2023-02-22T12:54:47.710Z"
   },
   {
    "duration": 89,
    "start_time": "2023-02-22T12:54:47.796Z"
   },
   {
    "duration": 100,
    "start_time": "2023-02-22T12:57:27.278Z"
   },
   {
    "duration": 81,
    "start_time": "2023-02-22T12:57:50.584Z"
   },
   {
    "duration": 67,
    "start_time": "2023-02-22T12:58:15.372Z"
   },
   {
    "duration": 75,
    "start_time": "2023-02-22T13:00:14.643Z"
   },
   {
    "duration": 73,
    "start_time": "2023-02-22T13:00:54.871Z"
   },
   {
    "duration": 69,
    "start_time": "2023-02-22T13:01:02.900Z"
   },
   {
    "duration": 74,
    "start_time": "2023-02-22T13:02:12.499Z"
   },
   {
    "duration": 1275,
    "start_time": "2023-02-22T13:05:26.999Z"
   },
   {
    "duration": 175,
    "start_time": "2023-02-22T13:05:28.276Z"
   },
   {
    "duration": 32,
    "start_time": "2023-02-22T13:05:28.453Z"
   },
   {
    "duration": 3,
    "start_time": "2023-02-22T13:05:28.487Z"
   },
   {
    "duration": 24,
    "start_time": "2023-02-22T13:05:28.492Z"
   },
   {
    "duration": 92,
    "start_time": "2023-02-22T13:05:28.518Z"
   },
   {
    "duration": 91,
    "start_time": "2023-02-22T13:05:28.612Z"
   },
   {
    "duration": 61,
    "start_time": "2023-02-22T13:05:28.705Z"
   },
   {
    "duration": 22,
    "start_time": "2023-02-22T13:05:28.768Z"
   },
   {
    "duration": 5,
    "start_time": "2023-02-22T13:05:28.792Z"
   },
   {
    "duration": 53,
    "start_time": "2023-02-22T13:05:28.799Z"
   },
   {
    "duration": 61,
    "start_time": "2023-02-22T13:05:28.854Z"
   },
   {
    "duration": 51,
    "start_time": "2023-02-22T13:05:28.917Z"
   },
   {
    "duration": 12,
    "start_time": "2023-02-22T13:05:28.972Z"
   },
   {
    "duration": 109,
    "start_time": "2023-02-22T13:05:28.986Z"
   },
   {
    "duration": 8,
    "start_time": "2023-02-22T13:05:29.097Z"
   },
   {
    "duration": 337,
    "start_time": "2023-02-22T13:05:29.107Z"
   },
   {
    "duration": 19,
    "start_time": "2023-02-22T13:05:29.446Z"
   },
   {
    "duration": 28,
    "start_time": "2023-02-22T13:05:29.467Z"
   },
   {
    "duration": 56,
    "start_time": "2023-02-22T13:05:29.496Z"
   },
   {
    "duration": 18,
    "start_time": "2023-02-22T13:05:29.554Z"
   },
   {
    "duration": 234,
    "start_time": "2023-02-22T13:05:29.574Z"
   },
   {
    "duration": 49,
    "start_time": "2023-02-22T13:05:29.810Z"
   },
   {
    "duration": 94,
    "start_time": "2023-02-22T13:05:29.861Z"
   },
   {
    "duration": 13,
    "start_time": "2023-02-22T13:05:29.957Z"
   },
   {
    "duration": 10,
    "start_time": "2023-02-22T13:05:29.972Z"
   },
   {
    "duration": 21,
    "start_time": "2023-02-22T13:05:29.984Z"
   },
   {
    "duration": 53,
    "start_time": "2023-02-22T13:05:30.007Z"
   },
   {
    "duration": 23,
    "start_time": "2023-02-22T13:05:30.061Z"
   },
   {
    "duration": 20,
    "start_time": "2023-02-22T13:05:30.086Z"
   },
   {
    "duration": 32,
    "start_time": "2023-02-22T13:05:30.108Z"
   },
   {
    "duration": 60,
    "start_time": "2023-02-22T13:05:30.142Z"
   },
   {
    "duration": 6,
    "start_time": "2023-02-22T13:05:30.204Z"
   },
   {
    "duration": 221,
    "start_time": "2023-02-22T13:05:30.211Z"
   },
   {
    "duration": 227,
    "start_time": "2023-02-22T13:05:30.434Z"
   },
   {
    "duration": 11,
    "start_time": "2023-02-22T13:05:30.663Z"
   },
   {
    "duration": 30,
    "start_time": "2023-02-22T13:05:30.676Z"
   },
   {
    "duration": 14,
    "start_time": "2023-02-22T13:05:30.708Z"
   },
   {
    "duration": 136,
    "start_time": "2023-02-22T13:05:30.724Z"
   },
   {
    "duration": 67,
    "start_time": "2023-02-22T13:05:30.862Z"
   },
   {
    "duration": 65,
    "start_time": "2023-02-22T13:05:30.943Z"
   },
   {
    "duration": 79,
    "start_time": "2023-02-22T13:05:31.010Z"
   },
   {
    "duration": 79,
    "start_time": "2023-02-22T13:05:31.091Z"
   },
   {
    "duration": 85,
    "start_time": "2023-02-22T13:05:31.172Z"
   },
   {
    "duration": 82,
    "start_time": "2023-02-22T13:05:31.259Z"
   },
   {
    "duration": 69,
    "start_time": "2023-02-22T13:05:31.343Z"
   },
   {
    "duration": 77,
    "start_time": "2023-02-22T13:05:31.414Z"
   },
   {
    "duration": 71,
    "start_time": "2023-02-22T13:05:31.493Z"
   },
   {
    "duration": 86,
    "start_time": "2023-02-22T13:05:31.565Z"
   },
   {
    "duration": 64,
    "start_time": "2023-02-22T13:05:31.653Z"
   },
   {
    "duration": 83,
    "start_time": "2023-02-22T13:05:31.719Z"
   },
   {
    "duration": 79,
    "start_time": "2023-02-22T13:05:31.804Z"
   },
   {
    "duration": 72,
    "start_time": "2023-02-22T13:05:31.885Z"
   },
   {
    "duration": 1388,
    "start_time": "2023-02-23T10:13:17.041Z"
   },
   {
    "duration": 578,
    "start_time": "2023-02-23T10:13:18.431Z"
   },
   {
    "duration": 33,
    "start_time": "2023-02-23T10:13:19.011Z"
   },
   {
    "duration": 4,
    "start_time": "2023-02-23T10:13:19.047Z"
   },
   {
    "duration": 28,
    "start_time": "2023-02-23T10:13:19.053Z"
   },
   {
    "duration": 74,
    "start_time": "2023-02-23T10:13:19.084Z"
   },
   {
    "duration": 73,
    "start_time": "2023-02-23T10:13:19.160Z"
   },
   {
    "duration": 59,
    "start_time": "2023-02-23T10:13:19.235Z"
   },
   {
    "duration": 17,
    "start_time": "2023-02-23T10:13:19.295Z"
   },
   {
    "duration": 5,
    "start_time": "2023-02-23T10:13:19.315Z"
   },
   {
    "duration": 45,
    "start_time": "2023-02-23T10:13:19.321Z"
   },
   {
    "duration": 30,
    "start_time": "2023-02-23T10:13:19.368Z"
   },
   {
    "duration": 31,
    "start_time": "2023-02-23T10:13:19.399Z"
   },
   {
    "duration": 30,
    "start_time": "2023-02-23T10:13:19.432Z"
   },
   {
    "duration": 77,
    "start_time": "2023-02-23T10:13:19.464Z"
   },
   {
    "duration": 12,
    "start_time": "2023-02-23T10:13:19.542Z"
   },
   {
    "duration": 342,
    "start_time": "2023-02-23T10:13:19.557Z"
   },
   {
    "duration": 18,
    "start_time": "2023-02-23T10:13:19.901Z"
   },
   {
    "duration": 49,
    "start_time": "2023-02-23T10:13:19.922Z"
   },
   {
    "duration": 33,
    "start_time": "2023-02-23T10:13:19.973Z"
   },
   {
    "duration": 15,
    "start_time": "2023-02-23T10:13:20.008Z"
   },
   {
    "duration": 242,
    "start_time": "2023-02-23T10:13:20.024Z"
   },
   {
    "duration": 41,
    "start_time": "2023-02-23T10:13:20.268Z"
   },
   {
    "duration": 84,
    "start_time": "2023-02-23T10:13:20.311Z"
   },
   {
    "duration": 11,
    "start_time": "2023-02-23T10:13:20.396Z"
   },
   {
    "duration": 30,
    "start_time": "2023-02-23T10:13:20.408Z"
   },
   {
    "duration": 40,
    "start_time": "2023-02-23T10:13:20.439Z"
   },
   {
    "duration": 46,
    "start_time": "2023-02-23T10:13:20.482Z"
   },
   {
    "duration": 289,
    "start_time": "2023-02-23T10:13:20.529Z"
   },
   {
    "duration": 4,
    "start_time": "2023-02-23T10:13:20.820Z"
   },
   {
    "duration": 15,
    "start_time": "2023-02-23T10:13:20.826Z"
   },
   {
    "duration": 35,
    "start_time": "2023-02-23T10:13:20.842Z"
   },
   {
    "duration": 5,
    "start_time": "2023-02-23T10:13:20.881Z"
   },
   {
    "duration": 234,
    "start_time": "2023-02-23T10:13:20.888Z"
   },
   {
    "duration": 265,
    "start_time": "2023-02-23T10:13:21.124Z"
   },
   {
    "duration": 9,
    "start_time": "2023-02-23T10:13:21.391Z"
   },
   {
    "duration": 12,
    "start_time": "2023-02-23T10:13:21.402Z"
   },
   {
    "duration": 9,
    "start_time": "2023-02-23T10:13:21.416Z"
   },
   {
    "duration": 99,
    "start_time": "2023-02-23T10:13:21.427Z"
   },
   {
    "duration": 89,
    "start_time": "2023-02-23T10:13:21.529Z"
   },
   {
    "duration": 79,
    "start_time": "2023-02-23T10:13:21.620Z"
   },
   {
    "duration": 80,
    "start_time": "2023-02-23T10:13:21.701Z"
   },
   {
    "duration": 53,
    "start_time": "2023-02-23T10:13:21.783Z"
   },
   {
    "duration": 79,
    "start_time": "2023-02-23T10:13:21.848Z"
   },
   {
    "duration": 82,
    "start_time": "2023-02-23T10:13:21.928Z"
   },
   {
    "duration": 80,
    "start_time": "2023-02-23T10:13:22.011Z"
   },
   {
    "duration": 70,
    "start_time": "2023-02-23T10:13:22.093Z"
   },
   {
    "duration": 52,
    "start_time": "2023-02-23T10:13:22.165Z"
   },
   {
    "duration": 86,
    "start_time": "2023-02-23T10:13:22.219Z"
   },
   {
    "duration": 87,
    "start_time": "2023-02-23T10:13:22.307Z"
   },
   {
    "duration": 84,
    "start_time": "2023-02-23T10:13:22.396Z"
   },
   {
    "duration": 55,
    "start_time": "2023-02-23T10:13:22.482Z"
   },
   {
    "duration": 287,
    "start_time": "2023-02-23T10:13:22.539Z"
   },
   {
    "duration": 1194,
    "start_time": "2023-02-23T10:21:27.079Z"
   },
   {
    "duration": 164,
    "start_time": "2023-02-23T10:21:28.276Z"
   },
   {
    "duration": 37,
    "start_time": "2023-02-23T10:21:28.442Z"
   },
   {
    "duration": 4,
    "start_time": "2023-02-23T10:21:28.480Z"
   },
   {
    "duration": 18,
    "start_time": "2023-02-23T10:21:28.485Z"
   },
   {
    "duration": 95,
    "start_time": "2023-02-23T10:21:28.505Z"
   },
   {
    "duration": 80,
    "start_time": "2023-02-23T10:21:28.602Z"
   },
   {
    "duration": 43,
    "start_time": "2023-02-23T10:21:28.684Z"
   },
   {
    "duration": 37,
    "start_time": "2023-02-23T10:21:28.729Z"
   },
   {
    "duration": 5,
    "start_time": "2023-02-23T10:21:28.769Z"
   },
   {
    "duration": 19,
    "start_time": "2023-02-23T10:21:28.776Z"
   },
   {
    "duration": 28,
    "start_time": "2023-02-23T10:21:28.797Z"
   },
   {
    "duration": 41,
    "start_time": "2023-02-23T10:21:28.847Z"
   },
   {
    "duration": 12,
    "start_time": "2023-02-23T10:21:28.889Z"
   },
   {
    "duration": 94,
    "start_time": "2023-02-23T10:21:28.903Z"
   },
   {
    "duration": 6,
    "start_time": "2023-02-23T10:21:28.999Z"
   },
   {
    "duration": 309,
    "start_time": "2023-02-23T10:21:29.007Z"
   },
   {
    "duration": 16,
    "start_time": "2023-02-23T10:21:29.318Z"
   },
   {
    "duration": 38,
    "start_time": "2023-02-23T10:21:29.336Z"
   },
   {
    "duration": 29,
    "start_time": "2023-02-23T10:21:29.376Z"
   },
   {
    "duration": 15,
    "start_time": "2023-02-23T10:21:29.407Z"
   },
   {
    "duration": 187,
    "start_time": "2023-02-23T10:21:29.448Z"
   },
   {
    "duration": 39,
    "start_time": "2023-02-23T10:21:29.636Z"
   },
   {
    "duration": 81,
    "start_time": "2023-02-23T10:21:29.676Z"
   },
   {
    "duration": 11,
    "start_time": "2023-02-23T10:21:29.759Z"
   },
   {
    "duration": 19,
    "start_time": "2023-02-23T10:21:29.772Z"
   },
   {
    "duration": 20,
    "start_time": "2023-02-23T10:21:29.792Z"
   },
   {
    "duration": 39,
    "start_time": "2023-02-23T10:21:29.816Z"
   },
   {
    "duration": 21,
    "start_time": "2023-02-23T10:21:29.857Z"
   },
   {
    "duration": 5,
    "start_time": "2023-02-23T10:21:29.879Z"
   },
   {
    "duration": 14,
    "start_time": "2023-02-23T10:21:29.886Z"
   },
   {
    "duration": 60,
    "start_time": "2023-02-23T10:21:29.902Z"
   },
   {
    "duration": 5,
    "start_time": "2023-02-23T10:21:29.964Z"
   },
   {
    "duration": 207,
    "start_time": "2023-02-23T10:21:29.971Z"
   },
   {
    "duration": 217,
    "start_time": "2023-02-23T10:21:30.180Z"
   },
   {
    "duration": 9,
    "start_time": "2023-02-23T10:21:30.399Z"
   },
   {
    "duration": 46,
    "start_time": "2023-02-23T10:21:30.410Z"
   },
   {
    "duration": 41,
    "start_time": "2023-02-23T10:21:30.458Z"
   },
   {
    "duration": 99,
    "start_time": "2023-02-23T10:21:30.500Z"
   },
   {
    "duration": 65,
    "start_time": "2023-02-23T10:21:30.600Z"
   },
   {
    "duration": 59,
    "start_time": "2023-02-23T10:21:30.666Z"
   },
   {
    "duration": 73,
    "start_time": "2023-02-23T10:21:30.726Z"
   },
   {
    "duration": 84,
    "start_time": "2023-02-23T10:21:30.800Z"
   },
   {
    "duration": 77,
    "start_time": "2023-02-23T10:21:30.885Z"
   },
   {
    "duration": 62,
    "start_time": "2023-02-23T10:21:30.964Z"
   },
   {
    "duration": 79,
    "start_time": "2023-02-23T10:21:31.028Z"
   },
   {
    "duration": 75,
    "start_time": "2023-02-23T10:21:31.108Z"
   },
   {
    "duration": 65,
    "start_time": "2023-02-23T10:21:31.185Z"
   },
   {
    "duration": 71,
    "start_time": "2023-02-23T10:21:31.254Z"
   },
   {
    "duration": 79,
    "start_time": "2023-02-23T10:21:31.326Z"
   },
   {
    "duration": 80,
    "start_time": "2023-02-23T10:21:31.407Z"
   },
   {
    "duration": 70,
    "start_time": "2023-02-23T10:21:31.488Z"
   },
   {
    "duration": 54,
    "start_time": "2023-02-23T10:21:31.560Z"
   },
   {
    "duration": 85,
    "start_time": "2023-02-24T18:42:45.283Z"
   },
   {
    "duration": 6,
    "start_time": "2023-02-24T18:43:06.281Z"
   },
   {
    "duration": 1600,
    "start_time": "2023-02-24T18:43:11.759Z"
   },
   {
    "duration": 1081,
    "start_time": "2023-02-24T18:43:13.362Z"
   },
   {
    "duration": 28,
    "start_time": "2023-02-24T18:43:14.460Z"
   },
   {
    "duration": 3,
    "start_time": "2023-02-24T18:43:14.490Z"
   },
   {
    "duration": 12,
    "start_time": "2023-02-24T18:43:14.495Z"
   },
   {
    "duration": 79,
    "start_time": "2023-02-24T18:43:14.519Z"
   },
   {
    "duration": 80,
    "start_time": "2023-02-24T18:43:14.599Z"
   },
   {
    "duration": 78,
    "start_time": "2023-02-24T18:43:14.681Z"
   },
   {
    "duration": 19,
    "start_time": "2023-02-24T18:43:14.765Z"
   },
   {
    "duration": 6,
    "start_time": "2023-02-24T18:43:14.785Z"
   },
   {
    "duration": 31,
    "start_time": "2023-02-24T18:43:14.792Z"
   },
   {
    "duration": 59,
    "start_time": "2023-02-24T18:43:14.824Z"
   },
   {
    "duration": 54,
    "start_time": "2023-02-24T18:43:14.884Z"
   },
   {
    "duration": 12,
    "start_time": "2023-02-24T18:43:14.940Z"
   },
   {
    "duration": 110,
    "start_time": "2023-02-24T18:43:14.953Z"
   },
   {
    "duration": 5,
    "start_time": "2023-02-24T18:43:15.065Z"
   },
   {
    "duration": 379,
    "start_time": "2023-02-24T18:43:15.072Z"
   },
   {
    "duration": 17,
    "start_time": "2023-02-24T18:43:15.458Z"
   },
   {
    "duration": 25,
    "start_time": "2023-02-24T18:43:15.476Z"
   },
   {
    "duration": 70,
    "start_time": "2023-02-24T18:43:15.503Z"
   },
   {
    "duration": 16,
    "start_time": "2023-02-24T18:43:15.575Z"
   },
   {
    "duration": 204,
    "start_time": "2023-02-24T18:43:15.593Z"
   },
   {
    "duration": 49,
    "start_time": "2023-02-24T18:43:15.798Z"
   },
   {
    "duration": 109,
    "start_time": "2023-02-24T18:43:15.848Z"
   },
   {
    "duration": 13,
    "start_time": "2023-02-24T18:43:15.958Z"
   },
   {
    "duration": 8,
    "start_time": "2023-02-24T18:43:15.972Z"
   },
   {
    "duration": 19,
    "start_time": "2023-02-24T18:43:15.982Z"
   },
   {
    "duration": 45,
    "start_time": "2023-02-24T18:43:16.002Z"
   },
   {
    "duration": 24,
    "start_time": "2023-02-24T18:43:16.060Z"
   },
   {
    "duration": 5,
    "start_time": "2023-02-24T18:43:16.085Z"
   },
   {
    "duration": 11,
    "start_time": "2023-02-24T18:43:16.091Z"
   },
   {
    "duration": 44,
    "start_time": "2023-02-24T18:43:16.103Z"
   },
   {
    "duration": 26,
    "start_time": "2023-02-24T18:43:16.148Z"
   },
   {
    "duration": 226,
    "start_time": "2023-02-24T18:43:16.176Z"
   },
   {
    "duration": 236,
    "start_time": "2023-02-24T18:43:16.409Z"
   },
   {
    "duration": 13,
    "start_time": "2023-02-24T18:43:16.650Z"
   },
   {
    "duration": 12,
    "start_time": "2023-02-24T18:43:16.665Z"
   },
   {
    "duration": 8,
    "start_time": "2023-02-24T18:43:16.678Z"
   },
   {
    "duration": 113,
    "start_time": "2023-02-24T18:43:16.687Z"
   },
   {
    "duration": 83,
    "start_time": "2023-02-24T18:43:16.801Z"
   },
   {
    "duration": 83,
    "start_time": "2023-02-24T18:43:16.888Z"
   },
   {
    "duration": 83,
    "start_time": "2023-02-24T18:43:16.975Z"
   },
   {
    "duration": 91,
    "start_time": "2023-02-24T18:43:17.068Z"
   },
   {
    "duration": 94,
    "start_time": "2023-02-24T18:43:17.172Z"
   },
   {
    "duration": 88,
    "start_time": "2023-02-24T18:43:17.268Z"
   },
   {
    "duration": 105,
    "start_time": "2023-02-24T18:43:17.358Z"
   },
   {
    "duration": 83,
    "start_time": "2023-02-24T18:43:17.468Z"
   },
   {
    "duration": 56,
    "start_time": "2023-02-24T18:43:17.552Z"
   },
   {
    "duration": 81,
    "start_time": "2023-02-24T18:43:17.609Z"
   },
   {
    "duration": 89,
    "start_time": "2023-02-24T18:43:17.691Z"
   },
   {
    "duration": 66,
    "start_time": "2023-02-24T18:43:17.781Z"
   },
   {
    "duration": 90,
    "start_time": "2023-02-24T18:43:17.848Z"
   },
   {
    "duration": 85,
    "start_time": "2023-02-24T18:43:17.949Z"
   },
   {
    "duration": 221,
    "start_time": "2023-02-24T18:43:18.043Z"
   },
   {
    "duration": 10,
    "start_time": "2023-02-24T18:44:11.582Z"
   },
   {
    "duration": 19,
    "start_time": "2023-02-24T18:45:24.155Z"
   },
   {
    "duration": 1348,
    "start_time": "2023-02-24T18:45:30.891Z"
   },
   {
    "duration": 228,
    "start_time": "2023-02-24T18:45:32.255Z"
   },
   {
    "duration": 56,
    "start_time": "2023-02-24T18:45:32.484Z"
   },
   {
    "duration": 7,
    "start_time": "2023-02-24T18:45:32.552Z"
   },
   {
    "duration": 28,
    "start_time": "2023-02-24T18:45:32.560Z"
   },
   {
    "duration": 77,
    "start_time": "2023-02-24T18:45:32.589Z"
   },
   {
    "duration": 87,
    "start_time": "2023-02-24T18:45:32.667Z"
   },
   {
    "duration": 48,
    "start_time": "2023-02-24T18:45:32.756Z"
   },
   {
    "duration": 27,
    "start_time": "2023-02-24T18:45:32.816Z"
   },
   {
    "duration": 32,
    "start_time": "2023-02-24T18:45:32.844Z"
   },
   {
    "duration": 16,
    "start_time": "2023-02-24T18:45:32.877Z"
   },
   {
    "duration": 105,
    "start_time": "2023-02-24T18:45:32.894Z"
   },
   {
    "duration": 75,
    "start_time": "2023-02-24T18:45:33.001Z"
   },
   {
    "duration": 10,
    "start_time": "2023-02-24T18:45:33.080Z"
   },
   {
    "duration": 100,
    "start_time": "2023-02-24T18:45:33.092Z"
   },
   {
    "duration": 7,
    "start_time": "2023-02-24T18:45:33.194Z"
   },
   {
    "duration": 364,
    "start_time": "2023-02-24T18:45:33.203Z"
   },
   {
    "duration": 18,
    "start_time": "2023-02-24T18:45:33.568Z"
   },
   {
    "duration": 74,
    "start_time": "2023-02-24T18:45:33.588Z"
   },
   {
    "duration": 66,
    "start_time": "2023-02-24T18:45:33.668Z"
   },
   {
    "duration": 36,
    "start_time": "2023-02-24T18:45:33.738Z"
   },
   {
    "duration": 227,
    "start_time": "2023-02-24T18:45:33.776Z"
   },
   {
    "duration": 58,
    "start_time": "2023-02-24T18:45:34.005Z"
   },
   {
    "duration": 91,
    "start_time": "2023-02-24T18:45:34.064Z"
   },
   {
    "duration": 23,
    "start_time": "2023-02-24T18:45:34.156Z"
   },
   {
    "duration": 7,
    "start_time": "2023-02-24T18:45:34.181Z"
   },
   {
    "duration": 35,
    "start_time": "2023-02-24T18:45:34.190Z"
   },
   {
    "duration": 30,
    "start_time": "2023-02-24T18:45:34.233Z"
   },
   {
    "duration": 39,
    "start_time": "2023-02-24T18:45:34.264Z"
   },
   {
    "duration": 42,
    "start_time": "2023-02-24T18:45:34.305Z"
   },
   {
    "duration": 36,
    "start_time": "2023-02-24T18:45:34.358Z"
   },
   {
    "duration": 56,
    "start_time": "2023-02-24T18:45:34.395Z"
   },
   {
    "duration": 27,
    "start_time": "2023-02-24T18:45:34.452Z"
   },
   {
    "duration": 267,
    "start_time": "2023-02-24T18:45:34.480Z"
   },
   {
    "duration": 261,
    "start_time": "2023-02-24T18:45:34.764Z"
   },
   {
    "duration": 14,
    "start_time": "2023-02-24T18:45:35.031Z"
   },
   {
    "duration": 46,
    "start_time": "2023-02-24T18:45:35.047Z"
   },
   {
    "duration": 8,
    "start_time": "2023-02-24T18:45:35.094Z"
   },
   {
    "duration": 163,
    "start_time": "2023-02-24T18:45:35.104Z"
   },
   {
    "duration": 95,
    "start_time": "2023-02-24T18:45:35.273Z"
   },
   {
    "duration": 71,
    "start_time": "2023-02-24T18:45:35.379Z"
   },
   {
    "duration": 91,
    "start_time": "2023-02-24T18:45:35.452Z"
   },
   {
    "duration": 79,
    "start_time": "2023-02-24T18:45:35.544Z"
   },
   {
    "duration": 88,
    "start_time": "2023-02-24T18:45:35.624Z"
   },
   {
    "duration": 77,
    "start_time": "2023-02-24T18:45:35.713Z"
   },
   {
    "duration": 107,
    "start_time": "2023-02-24T18:45:35.791Z"
   },
   {
    "duration": 98,
    "start_time": "2023-02-24T18:45:35.900Z"
   },
   {
    "duration": 87,
    "start_time": "2023-02-24T18:45:35.999Z"
   },
   {
    "duration": 86,
    "start_time": "2023-02-24T18:45:36.088Z"
   },
   {
    "duration": 92,
    "start_time": "2023-02-24T18:45:36.176Z"
   },
   {
    "duration": 83,
    "start_time": "2023-02-24T18:45:36.270Z"
   },
   {
    "duration": 74,
    "start_time": "2023-02-24T18:45:36.364Z"
   },
   {
    "duration": 83,
    "start_time": "2023-02-24T18:45:36.448Z"
   },
   {
    "duration": 163,
    "start_time": "2023-02-24T18:45:36.534Z"
   },
   {
    "duration": 0,
    "start_time": "2023-02-24T18:45:36.700Z"
   },
   {
    "duration": 11,
    "start_time": "2023-02-24T18:45:45.460Z"
   },
   {
    "duration": 21,
    "start_time": "2023-02-24T18:45:54.951Z"
   },
   {
    "duration": 8,
    "start_time": "2023-02-24T18:46:01.196Z"
   },
   {
    "duration": 59,
    "start_time": "2023-02-24T18:49:59.946Z"
   },
   {
    "duration": 30,
    "start_time": "2023-02-24T18:50:12.761Z"
   },
   {
    "duration": 36,
    "start_time": "2023-02-24T18:51:09.848Z"
   },
   {
    "duration": 42,
    "start_time": "2023-02-24T18:51:16.752Z"
   },
   {
    "duration": 61,
    "start_time": "2023-02-24T18:52:27.618Z"
   },
   {
    "duration": 37,
    "start_time": "2023-02-24T18:52:47.073Z"
   },
   {
    "duration": 28,
    "start_time": "2023-02-24T18:54:27.378Z"
   },
   {
    "duration": 48,
    "start_time": "2023-02-24T18:55:01.091Z"
   },
   {
    "duration": 37,
    "start_time": "2023-02-24T18:55:36.759Z"
   },
   {
    "duration": 56,
    "start_time": "2023-02-24T18:57:33.644Z"
   },
   {
    "duration": 21,
    "start_time": "2023-02-24T18:58:22.035Z"
   },
   {
    "duration": 27,
    "start_time": "2023-02-24T18:58:32.560Z"
   },
   {
    "duration": 136,
    "start_time": "2023-02-24T18:58:42.790Z"
   },
   {
    "duration": 1440,
    "start_time": "2023-02-24T18:58:52.968Z"
   },
   {
    "duration": 281,
    "start_time": "2023-02-24T18:58:54.411Z"
   },
   {
    "duration": 53,
    "start_time": "2023-02-24T18:58:54.694Z"
   },
   {
    "duration": 38,
    "start_time": "2023-02-24T18:58:54.748Z"
   },
   {
    "duration": 18,
    "start_time": "2023-02-24T18:58:54.789Z"
   },
   {
    "duration": 134,
    "start_time": "2023-02-24T18:58:54.809Z"
   },
   {
    "duration": 115,
    "start_time": "2023-02-24T18:58:54.944Z"
   },
   {
    "duration": 85,
    "start_time": "2023-02-24T18:58:55.061Z"
   },
   {
    "duration": 31,
    "start_time": "2023-02-24T18:58:55.148Z"
   },
   {
    "duration": 7,
    "start_time": "2023-02-24T18:58:55.181Z"
   },
   {
    "duration": 50,
    "start_time": "2023-02-24T18:58:55.189Z"
   },
   {
    "duration": 69,
    "start_time": "2023-02-24T18:58:55.258Z"
   },
   {
    "duration": 67,
    "start_time": "2023-02-24T18:58:55.331Z"
   },
   {
    "duration": 18,
    "start_time": "2023-02-24T18:58:55.402Z"
   },
   {
    "duration": 92,
    "start_time": "2023-02-24T18:58:55.427Z"
   },
   {
    "duration": 9,
    "start_time": "2023-02-24T18:58:55.531Z"
   },
   {
    "duration": 421,
    "start_time": "2023-02-24T18:58:55.542Z"
   },
   {
    "duration": 19,
    "start_time": "2023-02-24T18:58:55.967Z"
   },
   {
    "duration": 71,
    "start_time": "2023-02-24T18:58:55.988Z"
   },
   {
    "duration": 39,
    "start_time": "2023-02-24T18:58:56.061Z"
   },
   {
    "duration": 29,
    "start_time": "2023-02-24T18:58:56.103Z"
   },
   {
    "duration": 283,
    "start_time": "2023-02-24T18:58:56.133Z"
   },
   {
    "duration": 66,
    "start_time": "2023-02-24T18:58:56.417Z"
   },
   {
    "duration": 95,
    "start_time": "2023-02-24T18:58:56.485Z"
   },
   {
    "duration": 19,
    "start_time": "2023-02-24T18:58:56.582Z"
   },
   {
    "duration": 63,
    "start_time": "2023-02-24T18:58:56.603Z"
   },
   {
    "duration": 32,
    "start_time": "2023-02-24T18:58:56.668Z"
   },
   {
    "duration": 45,
    "start_time": "2023-02-24T18:58:56.702Z"
   },
   {
    "duration": 49,
    "start_time": "2023-02-24T18:58:56.759Z"
   },
   {
    "duration": 5,
    "start_time": "2023-02-24T18:58:56.813Z"
   },
   {
    "duration": 67,
    "start_time": "2023-02-24T18:58:56.820Z"
   },
   {
    "duration": 114,
    "start_time": "2023-02-24T18:58:56.889Z"
   },
   {
    "duration": 7,
    "start_time": "2023-02-24T18:58:57.006Z"
   },
   {
    "duration": 366,
    "start_time": "2023-02-24T18:58:57.015Z"
   },
   {
    "duration": 260,
    "start_time": "2023-02-24T18:58:57.383Z"
   },
   {
    "duration": 11,
    "start_time": "2023-02-24T18:58:57.655Z"
   },
   {
    "duration": 12,
    "start_time": "2023-02-24T18:58:57.668Z"
   },
   {
    "duration": 8,
    "start_time": "2023-02-24T18:58:57.682Z"
   },
   {
    "duration": 92,
    "start_time": "2023-02-24T18:58:57.692Z"
   },
   {
    "duration": 93,
    "start_time": "2023-02-24T18:58:57.786Z"
   },
   {
    "duration": 85,
    "start_time": "2023-02-24T18:58:57.883Z"
   },
   {
    "duration": 82,
    "start_time": "2023-02-24T18:58:57.969Z"
   },
   {
    "duration": 65,
    "start_time": "2023-02-24T18:58:58.052Z"
   },
   {
    "duration": 108,
    "start_time": "2023-02-24T18:58:58.131Z"
   },
   {
    "duration": 67,
    "start_time": "2023-02-24T18:58:58.240Z"
   },
   {
    "duration": 84,
    "start_time": "2023-02-24T18:58:58.309Z"
   },
   {
    "duration": 65,
    "start_time": "2023-02-24T18:58:58.394Z"
   },
   {
    "duration": 95,
    "start_time": "2023-02-24T18:58:58.460Z"
   },
   {
    "duration": 96,
    "start_time": "2023-02-24T18:58:58.563Z"
   },
   {
    "duration": 102,
    "start_time": "2023-02-24T18:58:58.661Z"
   },
   {
    "duration": 91,
    "start_time": "2023-02-24T18:58:58.772Z"
   },
   {
    "duration": 82,
    "start_time": "2023-02-24T18:58:58.865Z"
   },
   {
    "duration": 76,
    "start_time": "2023-02-24T18:58:58.951Z"
   },
   {
    "duration": 11,
    "start_time": "2023-02-24T18:58:59.040Z"
   },
   {
    "duration": 120,
    "start_time": "2023-02-24T18:58:59.053Z"
   },
   {
    "duration": 270,
    "start_time": "2023-02-24T19:01:59.285Z"
   },
   {
    "duration": 94,
    "start_time": "2023-02-24T19:02:16.429Z"
   },
   {
    "duration": 98,
    "start_time": "2023-02-24T19:02:26.873Z"
   },
   {
    "duration": 104,
    "start_time": "2023-02-24T19:02:49.804Z"
   },
   {
    "duration": 109,
    "start_time": "2023-02-24T19:02:59.973Z"
   },
   {
    "duration": 110,
    "start_time": "2023-02-24T19:03:23.208Z"
   },
   {
    "duration": 129,
    "start_time": "2023-02-24T19:03:28.702Z"
   },
   {
    "duration": 82,
    "start_time": "2023-02-24T19:04:23.548Z"
   },
   {
    "duration": 103,
    "start_time": "2023-02-24T19:04:28.328Z"
   },
   {
    "duration": 76,
    "start_time": "2023-02-24T19:04:56.139Z"
   },
   {
    "duration": 224,
    "start_time": "2023-02-24T19:09:51.780Z"
   },
   {
    "duration": 102,
    "start_time": "2023-02-24T19:10:26.180Z"
   },
   {
    "duration": 180,
    "start_time": "2023-02-24T19:10:35.007Z"
   },
   {
    "duration": 141,
    "start_time": "2023-02-24T19:10:50.972Z"
   },
   {
    "duration": 93,
    "start_time": "2023-02-24T19:11:02.485Z"
   },
   {
    "duration": 82,
    "start_time": "2023-02-24T19:11:24.882Z"
   },
   {
    "duration": 153,
    "start_time": "2023-02-24T19:11:26.234Z"
   },
   {
    "duration": 9,
    "start_time": "2023-02-24T19:11:41.166Z"
   },
   {
    "duration": 162,
    "start_time": "2023-02-24T19:11:42.857Z"
   },
   {
    "duration": 11,
    "start_time": "2023-02-24T19:12:50.473Z"
   },
   {
    "duration": 1695,
    "start_time": "2023-02-24T19:12:51.903Z"
   },
   {
    "duration": 108,
    "start_time": "2023-02-24T19:13:28.080Z"
   },
   {
    "duration": 1650,
    "start_time": "2023-02-24T19:13:40.665Z"
   },
   {
    "duration": 276,
    "start_time": "2023-02-24T19:13:42.320Z"
   },
   {
    "duration": 38,
    "start_time": "2023-02-24T19:13:42.597Z"
   },
   {
    "duration": 54,
    "start_time": "2023-02-24T19:13:42.639Z"
   },
   {
    "duration": 34,
    "start_time": "2023-02-24T19:13:42.697Z"
   },
   {
    "duration": 132,
    "start_time": "2023-02-24T19:13:42.733Z"
   },
   {
    "duration": 104,
    "start_time": "2023-02-24T19:13:42.871Z"
   },
   {
    "duration": 87,
    "start_time": "2023-02-24T19:13:42.979Z"
   },
   {
    "duration": 30,
    "start_time": "2023-02-24T19:13:43.071Z"
   },
   {
    "duration": 9,
    "start_time": "2023-02-24T19:13:43.103Z"
   },
   {
    "duration": 126,
    "start_time": "2023-02-24T19:13:43.113Z"
   },
   {
    "duration": 88,
    "start_time": "2023-02-24T19:13:43.241Z"
   },
   {
    "duration": 67,
    "start_time": "2023-02-24T19:13:43.332Z"
   },
   {
    "duration": 13,
    "start_time": "2023-02-24T19:13:43.404Z"
   },
   {
    "duration": 161,
    "start_time": "2023-02-24T19:13:43.419Z"
   },
   {
    "duration": 6,
    "start_time": "2023-02-24T19:13:43.582Z"
   },
   {
    "duration": 455,
    "start_time": "2023-02-24T19:13:43.590Z"
   },
   {
    "duration": 26,
    "start_time": "2023-02-24T19:13:44.050Z"
   },
   {
    "duration": 78,
    "start_time": "2023-02-24T19:13:44.079Z"
   },
   {
    "duration": 90,
    "start_time": "2023-02-24T19:13:44.159Z"
   },
   {
    "duration": 61,
    "start_time": "2023-02-24T19:13:44.250Z"
   },
   {
    "duration": 285,
    "start_time": "2023-02-24T19:13:44.312Z"
   },
   {
    "duration": 65,
    "start_time": "2023-02-24T19:13:44.598Z"
   },
   {
    "duration": 111,
    "start_time": "2023-02-24T19:13:44.683Z"
   },
   {
    "duration": 13,
    "start_time": "2023-02-24T19:13:44.796Z"
   },
   {
    "duration": 64,
    "start_time": "2023-02-24T19:13:44.820Z"
   },
   {
    "duration": 37,
    "start_time": "2023-02-24T19:13:44.886Z"
   },
   {
    "duration": 35,
    "start_time": "2023-02-24T19:13:44.925Z"
   },
   {
    "duration": 59,
    "start_time": "2023-02-24T19:13:44.962Z"
   },
   {
    "duration": 65,
    "start_time": "2023-02-24T19:13:45.023Z"
   },
   {
    "duration": 16,
    "start_time": "2023-02-24T19:13:45.090Z"
   },
   {
    "duration": 79,
    "start_time": "2023-02-24T19:13:45.108Z"
   },
   {
    "duration": 6,
    "start_time": "2023-02-24T19:13:45.189Z"
   },
   {
    "duration": 378,
    "start_time": "2023-02-24T19:13:45.197Z"
   },
   {
    "duration": 252,
    "start_time": "2023-02-24T19:13:45.579Z"
   },
   {
    "duration": 15,
    "start_time": "2023-02-24T19:13:45.832Z"
   },
   {
    "duration": 46,
    "start_time": "2023-02-24T19:13:45.849Z"
   },
   {
    "duration": 10,
    "start_time": "2023-02-24T19:13:45.898Z"
   },
   {
    "duration": 195,
    "start_time": "2023-02-24T19:13:45.909Z"
   },
   {
    "duration": 126,
    "start_time": "2023-02-24T19:13:46.106Z"
   },
   {
    "duration": 145,
    "start_time": "2023-02-24T19:13:46.237Z"
   },
   {
    "duration": 84,
    "start_time": "2023-02-24T19:13:46.384Z"
   },
   {
    "duration": 68,
    "start_time": "2023-02-24T19:13:46.470Z"
   },
   {
    "duration": 106,
    "start_time": "2023-02-24T19:13:46.557Z"
   },
   {
    "duration": 128,
    "start_time": "2023-02-24T19:13:46.665Z"
   },
   {
    "duration": 97,
    "start_time": "2023-02-24T19:13:46.795Z"
   },
   {
    "duration": 104,
    "start_time": "2023-02-24T19:13:46.894Z"
   },
   {
    "duration": 92,
    "start_time": "2023-02-24T19:13:47.005Z"
   },
   {
    "duration": 106,
    "start_time": "2023-02-24T19:13:47.101Z"
   },
   {
    "duration": 138,
    "start_time": "2023-02-24T19:13:47.209Z"
   },
   {
    "duration": 109,
    "start_time": "2023-02-24T19:13:47.348Z"
   },
   {
    "duration": 87,
    "start_time": "2023-02-24T19:13:47.462Z"
   },
   {
    "duration": 97,
    "start_time": "2023-02-24T19:13:47.554Z"
   },
   {
    "duration": 141,
    "start_time": "2023-02-24T19:13:47.655Z"
   },
   {
    "duration": 0,
    "start_time": "2023-02-24T19:13:47.798Z"
   },
   {
    "duration": 1944,
    "start_time": "2023-02-24T19:13:56.812Z"
   },
   {
    "duration": 1479,
    "start_time": "2023-02-24T19:14:14.124Z"
   },
   {
    "duration": 17,
    "start_time": "2023-02-24T19:15:46.484Z"
   },
   {
    "duration": 28,
    "start_time": "2023-02-24T19:16:13.171Z"
   },
   {
    "duration": 81,
    "start_time": "2023-02-24T19:16:38.893Z"
   },
   {
    "duration": 24,
    "start_time": "2023-02-24T19:17:07.202Z"
   },
   {
    "duration": 37,
    "start_time": "2023-02-24T19:17:09.239Z"
   },
   {
    "duration": 95,
    "start_time": "2023-02-24T19:18:55.174Z"
   },
   {
    "duration": 72,
    "start_time": "2023-02-24T19:19:07.232Z"
   },
   {
    "duration": 86,
    "start_time": "2023-02-24T19:19:11.701Z"
   },
   {
    "duration": 69,
    "start_time": "2023-02-24T19:19:57.468Z"
   },
   {
    "duration": 1581,
    "start_time": "2023-02-24T19:20:05.602Z"
   },
   {
    "duration": 258,
    "start_time": "2023-02-24T19:20:07.189Z"
   },
   {
    "duration": 40,
    "start_time": "2023-02-24T19:20:07.450Z"
   },
   {
    "duration": 3,
    "start_time": "2023-02-24T19:20:07.492Z"
   },
   {
    "duration": 25,
    "start_time": "2023-02-24T19:20:07.498Z"
   },
   {
    "duration": 105,
    "start_time": "2023-02-24T19:20:07.526Z"
   },
   {
    "duration": 104,
    "start_time": "2023-02-24T19:20:07.639Z"
   },
   {
    "duration": 82,
    "start_time": "2023-02-24T19:20:07.757Z"
   },
   {
    "duration": 29,
    "start_time": "2023-02-24T19:20:07.855Z"
   },
   {
    "duration": 6,
    "start_time": "2023-02-24T19:20:07.886Z"
   },
   {
    "duration": 49,
    "start_time": "2023-02-24T19:20:07.894Z"
   },
   {
    "duration": 35,
    "start_time": "2023-02-24T19:20:07.955Z"
   },
   {
    "duration": 56,
    "start_time": "2023-02-24T19:20:07.992Z"
   },
   {
    "duration": 15,
    "start_time": "2023-02-24T19:20:08.058Z"
   },
   {
    "duration": 86,
    "start_time": "2023-02-24T19:20:08.075Z"
   },
   {
    "duration": 6,
    "start_time": "2023-02-24T19:20:08.162Z"
   },
   {
    "duration": 390,
    "start_time": "2023-02-24T19:20:08.170Z"
   },
   {
    "duration": 20,
    "start_time": "2023-02-24T19:20:08.562Z"
   },
   {
    "duration": 41,
    "start_time": "2023-02-24T19:20:08.584Z"
   },
   {
    "duration": 46,
    "start_time": "2023-02-24T19:20:08.626Z"
   },
   {
    "duration": 35,
    "start_time": "2023-02-24T19:20:08.674Z"
   },
   {
    "duration": 236,
    "start_time": "2023-02-24T19:20:08.711Z"
   },
   {
    "duration": 46,
    "start_time": "2023-02-24T19:20:08.948Z"
   },
   {
    "duration": 84,
    "start_time": "2023-02-24T19:20:08.996Z"
   },
   {
    "duration": 12,
    "start_time": "2023-02-24T19:20:09.081Z"
   },
   {
    "duration": 27,
    "start_time": "2023-02-24T19:20:09.094Z"
   },
   {
    "duration": 59,
    "start_time": "2023-02-24T19:20:09.131Z"
   },
   {
    "duration": 28,
    "start_time": "2023-02-24T19:20:09.192Z"
   },
   {
    "duration": 37,
    "start_time": "2023-02-24T19:20:09.221Z"
   },
   {
    "duration": 26,
    "start_time": "2023-02-24T19:20:09.259Z"
   },
   {
    "duration": 241,
    "start_time": "2023-02-24T19:20:09.287Z"
   },
   {
    "duration": 252,
    "start_time": "2023-02-24T19:20:09.530Z"
   },
   {
    "duration": 9,
    "start_time": "2023-02-24T19:20:09.783Z"
   },
   {
    "duration": 44,
    "start_time": "2023-02-24T19:20:09.794Z"
   },
   {
    "duration": 34,
    "start_time": "2023-02-24T19:20:09.840Z"
   },
   {
    "duration": 92,
    "start_time": "2023-02-24T19:20:09.876Z"
   },
   {
    "duration": 66,
    "start_time": "2023-02-24T19:20:09.970Z"
   },
   {
    "duration": 89,
    "start_time": "2023-02-24T19:20:10.038Z"
   },
   {
    "duration": 106,
    "start_time": "2023-02-24T19:20:10.129Z"
   },
   {
    "duration": 78,
    "start_time": "2023-02-24T19:20:10.241Z"
   },
   {
    "duration": 92,
    "start_time": "2023-02-24T19:20:10.323Z"
   },
   {
    "duration": 85,
    "start_time": "2023-02-24T19:20:10.416Z"
   },
   {
    "duration": 77,
    "start_time": "2023-02-24T19:20:10.502Z"
   },
   {
    "duration": 72,
    "start_time": "2023-02-24T19:20:10.581Z"
   },
   {
    "duration": 73,
    "start_time": "2023-02-24T19:20:10.654Z"
   },
   {
    "duration": 115,
    "start_time": "2023-02-24T19:20:10.731Z"
   },
   {
    "duration": 105,
    "start_time": "2023-02-24T19:20:10.848Z"
   },
   {
    "duration": 74,
    "start_time": "2023-02-24T19:20:10.954Z"
   },
   {
    "duration": 81,
    "start_time": "2023-02-24T19:20:11.030Z"
   },
   {
    "duration": 85,
    "start_time": "2023-02-24T19:20:11.112Z"
   },
   {
    "duration": 0,
    "start_time": "2023-02-24T19:20:11.199Z"
   },
   {
    "duration": 0,
    "start_time": "2023-02-24T19:20:11.200Z"
   },
   {
    "duration": 0,
    "start_time": "2023-02-24T19:20:11.201Z"
   },
   {
    "duration": 77,
    "start_time": "2023-02-24T19:20:55.784Z"
   },
   {
    "duration": 83,
    "start_time": "2023-02-24T19:21:00.677Z"
   },
   {
    "duration": 123,
    "start_time": "2023-02-24T19:21:09.153Z"
   },
   {
    "duration": 4,
    "start_time": "2023-02-24T19:21:18.104Z"
   },
   {
    "duration": 2924,
    "start_time": "2023-02-24T19:21:57.068Z"
   },
   {
    "duration": 15,
    "start_time": "2023-02-24T19:24:07.656Z"
   },
   {
    "duration": 11,
    "start_time": "2023-02-24T19:25:37.560Z"
   },
   {
    "duration": 57,
    "start_time": "2023-02-24T19:25:59.206Z"
   },
   {
    "duration": 153,
    "start_time": "2023-02-24T19:26:36.303Z"
   },
   {
    "duration": 84,
    "start_time": "2023-02-24T19:27:21.775Z"
   },
   {
    "duration": 100,
    "start_time": "2023-02-24T19:27:30.965Z"
   },
   {
    "duration": 104,
    "start_time": "2023-02-24T19:27:39.051Z"
   },
   {
    "duration": 59,
    "start_time": "2023-02-24T19:27:49.064Z"
   },
   {
    "duration": 77,
    "start_time": "2023-02-24T19:27:56.936Z"
   },
   {
    "duration": 84,
    "start_time": "2023-02-24T19:27:57.059Z"
   },
   {
    "duration": 84,
    "start_time": "2023-02-24T19:27:57.767Z"
   },
   {
    "duration": 76,
    "start_time": "2023-02-24T19:28:00.063Z"
   },
   {
    "duration": 1296,
    "start_time": "2023-02-24T19:34:21.035Z"
   },
   {
    "duration": 223,
    "start_time": "2023-02-24T19:34:22.332Z"
   },
   {
    "duration": 32,
    "start_time": "2023-02-24T19:34:22.559Z"
   },
   {
    "duration": 4,
    "start_time": "2023-02-24T19:34:22.592Z"
   },
   {
    "duration": 76,
    "start_time": "2023-02-24T19:34:22.598Z"
   },
   {
    "duration": 94,
    "start_time": "2023-02-24T19:34:22.676Z"
   },
   {
    "duration": 108,
    "start_time": "2023-02-24T19:34:22.771Z"
   },
   {
    "duration": 92,
    "start_time": "2023-02-24T19:34:22.881Z"
   },
   {
    "duration": 25,
    "start_time": "2023-02-24T19:34:22.976Z"
   },
   {
    "duration": 33,
    "start_time": "2023-02-24T19:34:23.002Z"
   },
   {
    "duration": 66,
    "start_time": "2023-02-24T19:34:23.038Z"
   },
   {
    "duration": 69,
    "start_time": "2023-02-24T19:34:23.107Z"
   },
   {
    "duration": 71,
    "start_time": "2023-02-24T19:34:23.178Z"
   },
   {
    "duration": 16,
    "start_time": "2023-02-24T19:34:23.257Z"
   },
   {
    "duration": 99,
    "start_time": "2023-02-24T19:34:23.275Z"
   },
   {
    "duration": 6,
    "start_time": "2023-02-24T19:34:23.375Z"
   },
   {
    "duration": 386,
    "start_time": "2023-02-24T19:34:23.383Z"
   },
   {
    "duration": 21,
    "start_time": "2023-02-24T19:34:23.772Z"
   },
   {
    "duration": 68,
    "start_time": "2023-02-24T19:34:23.795Z"
   },
   {
    "duration": 79,
    "start_time": "2023-02-24T19:34:23.868Z"
   },
   {
    "duration": 27,
    "start_time": "2023-02-24T19:34:23.956Z"
   },
   {
    "duration": 244,
    "start_time": "2023-02-24T19:34:23.985Z"
   },
   {
    "duration": 55,
    "start_time": "2023-02-24T19:34:24.230Z"
   },
   {
    "duration": 120,
    "start_time": "2023-02-24T19:34:24.287Z"
   },
   {
    "duration": 20,
    "start_time": "2023-02-24T19:34:24.408Z"
   },
   {
    "duration": 7,
    "start_time": "2023-02-24T19:34:24.430Z"
   },
   {
    "duration": 68,
    "start_time": "2023-02-24T19:34:24.438Z"
   },
   {
    "duration": 42,
    "start_time": "2023-02-24T19:34:24.508Z"
   },
   {
    "duration": 52,
    "start_time": "2023-02-24T19:34:24.551Z"
   },
   {
    "duration": 17,
    "start_time": "2023-02-24T19:34:24.605Z"
   },
   {
    "duration": 276,
    "start_time": "2023-02-24T19:34:24.625Z"
   },
   {
    "duration": 352,
    "start_time": "2023-02-24T19:34:24.903Z"
   },
   {
    "duration": 13,
    "start_time": "2023-02-24T19:34:25.257Z"
   },
   {
    "duration": 18,
    "start_time": "2023-02-24T19:34:25.272Z"
   },
   {
    "duration": 17,
    "start_time": "2023-02-24T19:34:25.292Z"
   },
   {
    "duration": 139,
    "start_time": "2023-02-24T19:34:25.331Z"
   },
   {
    "duration": 83,
    "start_time": "2023-02-24T19:34:25.472Z"
   },
   {
    "duration": 80,
    "start_time": "2023-02-24T19:34:25.559Z"
   },
   {
    "duration": 83,
    "start_time": "2023-02-24T19:34:25.640Z"
   },
   {
    "duration": 80,
    "start_time": "2023-02-24T19:34:25.724Z"
   },
   {
    "duration": 92,
    "start_time": "2023-02-24T19:34:25.808Z"
   },
   {
    "duration": 85,
    "start_time": "2023-02-24T19:34:25.902Z"
   },
   {
    "duration": 120,
    "start_time": "2023-02-24T19:34:25.989Z"
   },
   {
    "duration": 109,
    "start_time": "2023-02-24T19:34:26.125Z"
   },
   {
    "duration": 79,
    "start_time": "2023-02-24T19:34:26.248Z"
   },
   {
    "duration": 104,
    "start_time": "2023-02-24T19:34:26.339Z"
   },
   {
    "duration": 81,
    "start_time": "2023-02-24T19:34:26.445Z"
   },
   {
    "duration": 89,
    "start_time": "2023-02-24T19:34:26.528Z"
   },
   {
    "duration": 79,
    "start_time": "2023-02-24T19:34:26.618Z"
   },
   {
    "duration": 106,
    "start_time": "2023-02-24T19:34:26.699Z"
   },
   {
    "duration": 24,
    "start_time": "2023-02-24T19:34:26.807Z"
   },
   {
    "duration": 190,
    "start_time": "2023-02-24T19:34:26.833Z"
   },
   {
    "duration": 101,
    "start_time": "2023-02-24T19:34:27.026Z"
   },
   {
    "duration": 87,
    "start_time": "2023-02-24T19:34:27.131Z"
   },
   {
    "duration": 135,
    "start_time": "2023-02-24T19:34:27.220Z"
   },
   {
    "duration": 78,
    "start_time": "2023-02-24T19:34:27.364Z"
   },
   {
    "duration": 1457,
    "start_time": "2023-02-25T11:35:02.082Z"
   },
   {
    "duration": 726,
    "start_time": "2023-02-25T11:35:03.541Z"
   },
   {
    "duration": 27,
    "start_time": "2023-02-25T11:35:04.269Z"
   },
   {
    "duration": 3,
    "start_time": "2023-02-25T11:35:04.298Z"
   },
   {
    "duration": 13,
    "start_time": "2023-02-25T11:35:04.303Z"
   },
   {
    "duration": 67,
    "start_time": "2023-02-25T11:35:04.318Z"
   },
   {
    "duration": 78,
    "start_time": "2023-02-25T11:35:04.387Z"
   },
   {
    "duration": 44,
    "start_time": "2023-02-25T11:35:04.467Z"
   },
   {
    "duration": 27,
    "start_time": "2023-02-25T11:35:04.513Z"
   },
   {
    "duration": 5,
    "start_time": "2023-02-25T11:35:04.543Z"
   },
   {
    "duration": 23,
    "start_time": "2023-02-25T11:35:04.550Z"
   },
   {
    "duration": 25,
    "start_time": "2023-02-25T11:35:04.575Z"
   },
   {
    "duration": 56,
    "start_time": "2023-02-25T11:35:04.602Z"
   },
   {
    "duration": 10,
    "start_time": "2023-02-25T11:35:04.659Z"
   },
   {
    "duration": 89,
    "start_time": "2023-02-25T11:35:04.671Z"
   },
   {
    "duration": 5,
    "start_time": "2023-02-25T11:35:04.762Z"
   },
   {
    "duration": 309,
    "start_time": "2023-02-25T11:35:04.769Z"
   },
   {
    "duration": 16,
    "start_time": "2023-02-25T11:35:05.080Z"
   },
   {
    "duration": 36,
    "start_time": "2023-02-25T11:35:05.098Z"
   },
   {
    "duration": 25,
    "start_time": "2023-02-25T11:35:05.135Z"
   },
   {
    "duration": 16,
    "start_time": "2023-02-25T11:35:05.161Z"
   },
   {
    "duration": 207,
    "start_time": "2023-02-25T11:35:05.179Z"
   },
   {
    "duration": 40,
    "start_time": "2023-02-25T11:35:05.388Z"
   },
   {
    "duration": 66,
    "start_time": "2023-02-25T11:35:05.429Z"
   },
   {
    "duration": 13,
    "start_time": "2023-02-25T11:35:05.497Z"
   },
   {
    "duration": 18,
    "start_time": "2023-02-25T11:35:05.527Z"
   },
   {
    "duration": 39,
    "start_time": "2023-02-25T11:35:05.547Z"
   },
   {
    "duration": 47,
    "start_time": "2023-02-25T11:35:05.589Z"
   },
   {
    "duration": 19,
    "start_time": "2023-02-25T11:35:05.638Z"
   },
   {
    "duration": 18,
    "start_time": "2023-02-25T11:35:05.659Z"
   },
   {
    "duration": 216,
    "start_time": "2023-02-25T11:35:05.679Z"
   },
   {
    "duration": 209,
    "start_time": "2023-02-25T11:35:05.897Z"
   },
   {
    "duration": 10,
    "start_time": "2023-02-25T11:35:06.108Z"
   },
   {
    "duration": 10,
    "start_time": "2023-02-25T11:35:06.127Z"
   },
   {
    "duration": 15,
    "start_time": "2023-02-25T11:35:06.139Z"
   },
   {
    "duration": 71,
    "start_time": "2023-02-25T11:35:06.156Z"
   },
   {
    "duration": 58,
    "start_time": "2023-02-25T11:35:06.229Z"
   },
   {
    "duration": 79,
    "start_time": "2023-02-25T11:35:06.289Z"
   },
   {
    "duration": 82,
    "start_time": "2023-02-25T11:35:06.371Z"
   },
   {
    "duration": 58,
    "start_time": "2023-02-25T11:35:06.455Z"
   },
   {
    "duration": 67,
    "start_time": "2023-02-25T11:35:06.526Z"
   },
   {
    "duration": 72,
    "start_time": "2023-02-25T11:35:06.594Z"
   },
   {
    "duration": 66,
    "start_time": "2023-02-25T11:35:06.668Z"
   },
   {
    "duration": 57,
    "start_time": "2023-02-25T11:35:06.736Z"
   },
   {
    "duration": 71,
    "start_time": "2023-02-25T11:35:06.795Z"
   },
   {
    "duration": 80,
    "start_time": "2023-02-25T11:35:06.867Z"
   },
   {
    "duration": 60,
    "start_time": "2023-02-25T11:35:06.948Z"
   },
   {
    "duration": 73,
    "start_time": "2023-02-25T11:35:07.010Z"
   },
   {
    "duration": 68,
    "start_time": "2023-02-25T11:35:07.084Z"
   },
   {
    "duration": 50,
    "start_time": "2023-02-25T11:35:07.153Z"
   },
   {
    "duration": 7,
    "start_time": "2023-02-25T11:35:07.205Z"
   },
   {
    "duration": 80,
    "start_time": "2023-02-25T11:35:07.227Z"
   },
   {
    "duration": 68,
    "start_time": "2023-02-25T11:35:07.308Z"
   },
   {
    "duration": 175,
    "start_time": "2023-02-25T11:35:07.378Z"
   },
   {
    "duration": 58,
    "start_time": "2023-02-25T11:35:07.555Z"
   },
   {
    "duration": 60,
    "start_time": "2023-02-25T11:35:07.615Z"
   },
   {
    "duration": 102,
    "start_time": "2023-02-25T11:45:16.179Z"
   },
   {
    "duration": 7,
    "start_time": "2023-02-25T11:45:45.908Z"
   },
   {
    "duration": 85,
    "start_time": "2023-02-25T11:45:47.497Z"
   },
   {
    "duration": 1136,
    "start_time": "2023-02-25T11:45:53.679Z"
   },
   {
    "duration": 141,
    "start_time": "2023-02-25T11:45:54.817Z"
   },
   {
    "duration": 30,
    "start_time": "2023-02-25T11:45:54.960Z"
   },
   {
    "duration": 3,
    "start_time": "2023-02-25T11:45:54.992Z"
   },
   {
    "duration": 13,
    "start_time": "2023-02-25T11:45:54.997Z"
   },
   {
    "duration": 76,
    "start_time": "2023-02-25T11:45:55.012Z"
   },
   {
    "duration": 78,
    "start_time": "2023-02-25T11:45:55.089Z"
   },
   {
    "duration": 43,
    "start_time": "2023-02-25T11:45:55.169Z"
   },
   {
    "duration": 27,
    "start_time": "2023-02-25T11:45:55.214Z"
   },
   {
    "duration": 17,
    "start_time": "2023-02-25T11:45:55.244Z"
   },
   {
    "duration": 30,
    "start_time": "2023-02-25T11:45:55.262Z"
   },
   {
    "duration": 25,
    "start_time": "2023-02-25T11:45:55.294Z"
   },
   {
    "duration": 27,
    "start_time": "2023-02-25T11:45:55.320Z"
   },
   {
    "duration": 10,
    "start_time": "2023-02-25T11:45:55.349Z"
   },
   {
    "duration": 77,
    "start_time": "2023-02-25T11:45:55.360Z"
   },
   {
    "duration": 5,
    "start_time": "2023-02-25T11:45:55.439Z"
   },
   {
    "duration": 315,
    "start_time": "2023-02-25T11:45:55.445Z"
   },
   {
    "duration": 16,
    "start_time": "2023-02-25T11:45:55.761Z"
   },
   {
    "duration": 25,
    "start_time": "2023-02-25T11:45:55.778Z"
   },
   {
    "duration": 43,
    "start_time": "2023-02-25T11:45:55.805Z"
   },
   {
    "duration": 15,
    "start_time": "2023-02-25T11:45:55.849Z"
   },
   {
    "duration": 222,
    "start_time": "2023-02-25T11:45:55.866Z"
   },
   {
    "duration": 40,
    "start_time": "2023-02-25T11:45:56.089Z"
   },
   {
    "duration": 64,
    "start_time": "2023-02-25T11:45:56.131Z"
   },
   {
    "duration": 11,
    "start_time": "2023-02-25T11:45:56.196Z"
   },
   {
    "duration": 23,
    "start_time": "2023-02-25T11:45:56.208Z"
   },
   {
    "duration": 20,
    "start_time": "2023-02-25T11:45:56.233Z"
   },
   {
    "duration": 19,
    "start_time": "2023-02-25T11:45:56.256Z"
   },
   {
    "duration": 20,
    "start_time": "2023-02-25T11:45:56.276Z"
   },
   {
    "duration": 30,
    "start_time": "2023-02-25T11:45:56.298Z"
   },
   {
    "duration": 218,
    "start_time": "2023-02-25T11:45:56.330Z"
   },
   {
    "duration": 211,
    "start_time": "2023-02-25T11:45:56.550Z"
   },
   {
    "duration": 9,
    "start_time": "2023-02-25T11:45:56.762Z"
   },
   {
    "duration": 11,
    "start_time": "2023-02-25T11:45:56.772Z"
   },
   {
    "duration": 7,
    "start_time": "2023-02-25T11:45:56.785Z"
   },
   {
    "duration": 86,
    "start_time": "2023-02-25T11:45:56.793Z"
   },
   {
    "duration": 68,
    "start_time": "2023-02-25T11:45:56.880Z"
   },
   {
    "duration": 62,
    "start_time": "2023-02-25T11:45:56.950Z"
   },
   {
    "duration": 59,
    "start_time": "2023-02-25T11:45:57.026Z"
   },
   {
    "duration": 69,
    "start_time": "2023-02-25T11:45:57.087Z"
   },
   {
    "duration": 62,
    "start_time": "2023-02-25T11:45:57.158Z"
   },
   {
    "duration": 59,
    "start_time": "2023-02-25T11:45:57.227Z"
   },
   {
    "duration": 75,
    "start_time": "2023-02-25T11:45:57.288Z"
   },
   {
    "duration": 63,
    "start_time": "2023-02-25T11:45:57.364Z"
   },
   {
    "duration": 51,
    "start_time": "2023-02-25T11:45:57.428Z"
   },
   {
    "duration": 77,
    "start_time": "2023-02-25T11:45:57.481Z"
   },
   {
    "duration": 68,
    "start_time": "2023-02-25T11:45:57.560Z"
   },
   {
    "duration": 58,
    "start_time": "2023-02-25T11:45:57.629Z"
   },
   {
    "duration": 74,
    "start_time": "2023-02-25T11:45:57.688Z"
   },
   {
    "duration": 64,
    "start_time": "2023-02-25T11:45:57.764Z"
   },
   {
    "duration": 8,
    "start_time": "2023-02-25T11:45:57.829Z"
   },
   {
    "duration": 189,
    "start_time": "2023-02-25T11:45:57.839Z"
   },
   {
    "duration": 0,
    "start_time": "2023-02-25T11:45:58.030Z"
   },
   {
    "duration": 0,
    "start_time": "2023-02-25T11:45:58.031Z"
   },
   {
    "duration": 0,
    "start_time": "2023-02-25T11:45:58.032Z"
   },
   {
    "duration": 0,
    "start_time": "2023-02-25T11:45:58.034Z"
   },
   {
    "duration": 9,
    "start_time": "2023-02-25T11:46:10.301Z"
   },
   {
    "duration": 78,
    "start_time": "2023-02-25T11:46:11.994Z"
   },
   {
    "duration": 1161,
    "start_time": "2023-02-25T11:47:18.776Z"
   },
   {
    "duration": 144,
    "start_time": "2023-02-25T11:47:19.940Z"
   },
   {
    "duration": 27,
    "start_time": "2023-02-25T11:47:20.086Z"
   },
   {
    "duration": 4,
    "start_time": "2023-02-25T11:47:20.126Z"
   },
   {
    "duration": 35,
    "start_time": "2023-02-25T11:47:20.132Z"
   },
   {
    "duration": 75,
    "start_time": "2023-02-25T11:47:20.169Z"
   },
   {
    "duration": 85,
    "start_time": "2023-02-25T11:47:20.246Z"
   },
   {
    "duration": 50,
    "start_time": "2023-02-25T11:47:20.333Z"
   },
   {
    "duration": 19,
    "start_time": "2023-02-25T11:47:20.385Z"
   },
   {
    "duration": 25,
    "start_time": "2023-02-25T11:47:20.408Z"
   },
   {
    "duration": 23,
    "start_time": "2023-02-25T11:47:20.435Z"
   },
   {
    "duration": 27,
    "start_time": "2023-02-25T11:47:20.460Z"
   },
   {
    "duration": 46,
    "start_time": "2023-02-25T11:47:20.489Z"
   },
   {
    "duration": 9,
    "start_time": "2023-02-25T11:47:20.537Z"
   },
   {
    "duration": 82,
    "start_time": "2023-02-25T11:47:20.548Z"
   },
   {
    "duration": 5,
    "start_time": "2023-02-25T11:47:20.632Z"
   },
   {
    "duration": 314,
    "start_time": "2023-02-25T11:47:20.639Z"
   },
   {
    "duration": 16,
    "start_time": "2023-02-25T11:47:20.955Z"
   },
   {
    "duration": 24,
    "start_time": "2023-02-25T11:47:20.972Z"
   },
   {
    "duration": 42,
    "start_time": "2023-02-25T11:47:20.998Z"
   },
   {
    "duration": 15,
    "start_time": "2023-02-25T11:47:21.041Z"
   },
   {
    "duration": 203,
    "start_time": "2023-02-25T11:47:21.058Z"
   },
   {
    "duration": 29,
    "start_time": "2023-02-25T11:47:21.263Z"
   },
   {
    "duration": 83,
    "start_time": "2023-02-25T11:47:21.294Z"
   },
   {
    "duration": 12,
    "start_time": "2023-02-25T11:47:21.379Z"
   },
   {
    "duration": 15,
    "start_time": "2023-02-25T11:47:21.392Z"
   },
   {
    "duration": 28,
    "start_time": "2023-02-25T11:47:21.408Z"
   },
   {
    "duration": 20,
    "start_time": "2023-02-25T11:47:21.440Z"
   },
   {
    "duration": 21,
    "start_time": "2023-02-25T11:47:21.461Z"
   },
   {
    "duration": 10,
    "start_time": "2023-02-25T11:47:21.483Z"
   },
   {
    "duration": 218,
    "start_time": "2023-02-25T11:47:21.494Z"
   },
   {
    "duration": 233,
    "start_time": "2023-02-25T11:47:21.713Z"
   },
   {
    "duration": 10,
    "start_time": "2023-02-25T11:47:21.947Z"
   },
   {
    "duration": 41,
    "start_time": "2023-02-25T11:47:21.959Z"
   },
   {
    "duration": 29,
    "start_time": "2023-02-25T11:47:22.002Z"
   },
   {
    "duration": 73,
    "start_time": "2023-02-25T11:47:22.033Z"
   },
   {
    "duration": 61,
    "start_time": "2023-02-25T11:47:22.108Z"
   },
   {
    "duration": 69,
    "start_time": "2023-02-25T11:47:22.171Z"
   },
   {
    "duration": 55,
    "start_time": "2023-02-25T11:47:22.242Z"
   },
   {
    "duration": 70,
    "start_time": "2023-02-25T11:47:22.299Z"
   },
   {
    "duration": 77,
    "start_time": "2023-02-25T11:47:22.371Z"
   },
   {
    "duration": 58,
    "start_time": "2023-02-25T11:47:22.451Z"
   },
   {
    "duration": 73,
    "start_time": "2023-02-25T11:47:22.511Z"
   },
   {
    "duration": 79,
    "start_time": "2023-02-25T11:47:22.586Z"
   },
   {
    "duration": 74,
    "start_time": "2023-02-25T11:47:22.667Z"
   },
   {
    "duration": 67,
    "start_time": "2023-02-25T11:47:22.743Z"
   },
   {
    "duration": 69,
    "start_time": "2023-02-25T11:47:22.811Z"
   },
   {
    "duration": 71,
    "start_time": "2023-02-25T11:47:22.882Z"
   },
   {
    "duration": 60,
    "start_time": "2023-02-25T11:47:22.955Z"
   },
   {
    "duration": 54,
    "start_time": "2023-02-25T11:47:23.026Z"
   },
   {
    "duration": 7,
    "start_time": "2023-02-25T11:47:23.081Z"
   },
   {
    "duration": 94,
    "start_time": "2023-02-25T11:47:23.090Z"
   },
   {
    "duration": 71,
    "start_time": "2023-02-25T11:47:23.185Z"
   },
   {
    "duration": 70,
    "start_time": "2023-02-25T11:47:23.258Z"
   },
   {
    "duration": 57,
    "start_time": "2023-02-25T11:47:23.330Z"
   },
   {
    "duration": 67,
    "start_time": "2023-02-25T11:47:23.388Z"
   },
   {
    "duration": 1205,
    "start_time": "2023-02-25T11:48:26.072Z"
   },
   {
    "duration": 150,
    "start_time": "2023-02-25T11:48:27.278Z"
   },
   {
    "duration": 27,
    "start_time": "2023-02-25T11:48:27.430Z"
   },
   {
    "duration": 3,
    "start_time": "2023-02-25T11:48:27.459Z"
   },
   {
    "duration": 14,
    "start_time": "2023-02-25T11:48:27.464Z"
   },
   {
    "duration": 82,
    "start_time": "2023-02-25T11:48:27.479Z"
   },
   {
    "duration": 70,
    "start_time": "2023-02-25T11:48:27.563Z"
   },
   {
    "duration": 43,
    "start_time": "2023-02-25T11:48:27.634Z"
   },
   {
    "duration": 17,
    "start_time": "2023-02-25T11:48:27.679Z"
   },
   {
    "duration": 5,
    "start_time": "2023-02-25T11:48:27.699Z"
   },
   {
    "duration": 37,
    "start_time": "2023-02-25T11:48:27.705Z"
   },
   {
    "duration": 27,
    "start_time": "2023-02-25T11:48:27.744Z"
   },
   {
    "duration": 26,
    "start_time": "2023-02-25T11:48:27.773Z"
   },
   {
    "duration": 35,
    "start_time": "2023-02-25T11:48:27.801Z"
   },
   {
    "duration": 68,
    "start_time": "2023-02-25T11:48:27.837Z"
   },
   {
    "duration": 20,
    "start_time": "2023-02-25T11:48:27.907Z"
   },
   {
    "duration": 318,
    "start_time": "2023-02-25T11:48:27.928Z"
   },
   {
    "duration": 16,
    "start_time": "2023-02-25T11:48:28.247Z"
   },
   {
    "duration": 25,
    "start_time": "2023-02-25T11:48:28.264Z"
   },
   {
    "duration": 49,
    "start_time": "2023-02-25T11:48:28.291Z"
   },
   {
    "duration": 17,
    "start_time": "2023-02-25T11:48:28.341Z"
   },
   {
    "duration": 208,
    "start_time": "2023-02-25T11:48:28.359Z"
   },
   {
    "duration": 31,
    "start_time": "2023-02-25T11:48:28.568Z"
   },
   {
    "duration": 82,
    "start_time": "2023-02-25T11:48:28.601Z"
   },
   {
    "duration": 12,
    "start_time": "2023-02-25T11:48:28.685Z"
   },
   {
    "duration": 10,
    "start_time": "2023-02-25T11:48:28.700Z"
   },
   {
    "duration": 20,
    "start_time": "2023-02-25T11:48:28.728Z"
   },
   {
    "duration": 22,
    "start_time": "2023-02-25T11:48:28.753Z"
   },
   {
    "duration": 23,
    "start_time": "2023-02-25T11:48:28.777Z"
   },
   {
    "duration": 28,
    "start_time": "2023-02-25T11:48:28.802Z"
   },
   {
    "duration": 224,
    "start_time": "2023-02-25T11:48:28.832Z"
   },
   {
    "duration": 228,
    "start_time": "2023-02-25T11:48:29.058Z"
   },
   {
    "duration": 11,
    "start_time": "2023-02-25T11:48:29.288Z"
   },
   {
    "duration": 25,
    "start_time": "2023-02-25T11:48:29.302Z"
   },
   {
    "duration": 7,
    "start_time": "2023-02-25T11:48:29.328Z"
   },
   {
    "duration": 90,
    "start_time": "2023-02-25T11:48:29.337Z"
   },
   {
    "duration": 59,
    "start_time": "2023-02-25T11:48:29.428Z"
   },
   {
    "duration": 84,
    "start_time": "2023-02-25T11:48:29.489Z"
   },
   {
    "duration": 59,
    "start_time": "2023-02-25T11:48:29.575Z"
   },
   {
    "duration": 61,
    "start_time": "2023-02-25T11:48:29.635Z"
   },
   {
    "duration": 98,
    "start_time": "2023-02-25T11:48:29.699Z"
   },
   {
    "duration": 76,
    "start_time": "2023-02-25T11:48:29.799Z"
   },
   {
    "duration": 76,
    "start_time": "2023-02-25T11:48:29.877Z"
   },
   {
    "duration": 62,
    "start_time": "2023-02-25T11:48:29.955Z"
   },
   {
    "duration": 57,
    "start_time": "2023-02-25T11:48:30.027Z"
   },
   {
    "duration": 81,
    "start_time": "2023-02-25T11:48:30.085Z"
   },
   {
    "duration": 72,
    "start_time": "2023-02-25T11:48:30.167Z"
   },
   {
    "duration": 61,
    "start_time": "2023-02-25T11:48:30.241Z"
   },
   {
    "duration": 85,
    "start_time": "2023-02-25T11:48:30.304Z"
   },
   {
    "duration": 85,
    "start_time": "2023-02-25T11:48:30.392Z"
   },
   {
    "duration": 10,
    "start_time": "2023-02-25T11:48:30.479Z"
   },
   {
    "duration": 143,
    "start_time": "2023-02-25T11:48:30.491Z"
   },
   {
    "duration": 80,
    "start_time": "2023-02-25T11:48:30.636Z"
   },
   {
    "duration": 61,
    "start_time": "2023-02-25T11:48:30.718Z"
   },
   {
    "duration": 76,
    "start_time": "2023-02-25T11:48:30.781Z"
   },
   {
    "duration": 73,
    "start_time": "2023-02-25T11:48:30.859Z"
   },
   {
    "duration": 12,
    "start_time": "2023-02-25T11:55:08.928Z"
   },
   {
    "duration": 47,
    "start_time": "2023-02-25T11:55:13.165Z"
   },
   {
    "duration": 1292,
    "start_time": "2023-02-25T11:55:19.160Z"
   },
   {
    "duration": 724,
    "start_time": "2023-02-25T11:55:20.454Z"
   },
   {
    "duration": 28,
    "start_time": "2023-02-25T11:55:21.180Z"
   },
   {
    "duration": 3,
    "start_time": "2023-02-25T11:55:21.210Z"
   },
   {
    "duration": 15,
    "start_time": "2023-02-25T11:55:21.215Z"
   },
   {
    "duration": 83,
    "start_time": "2023-02-25T11:55:21.232Z"
   },
   {
    "duration": 89,
    "start_time": "2023-02-25T11:55:21.316Z"
   },
   {
    "duration": 46,
    "start_time": "2023-02-25T11:55:21.407Z"
   },
   {
    "duration": 19,
    "start_time": "2023-02-25T11:55:21.454Z"
   },
   {
    "duration": 5,
    "start_time": "2023-02-25T11:55:21.475Z"
   },
   {
    "duration": 36,
    "start_time": "2023-02-25T11:55:21.482Z"
   },
   {
    "duration": 27,
    "start_time": "2023-02-25T11:55:21.520Z"
   },
   {
    "duration": 28,
    "start_time": "2023-02-25T11:55:21.548Z"
   },
   {
    "duration": 11,
    "start_time": "2023-02-25T11:55:21.606Z"
   },
   {
    "duration": 84,
    "start_time": "2023-02-25T11:55:21.619Z"
   },
   {
    "duration": 6,
    "start_time": "2023-02-25T11:55:21.705Z"
   },
   {
    "duration": 343,
    "start_time": "2023-02-25T11:55:21.712Z"
   },
   {
    "duration": 18,
    "start_time": "2023-02-25T11:55:22.057Z"
   },
   {
    "duration": 41,
    "start_time": "2023-02-25T11:55:22.077Z"
   },
   {
    "duration": 27,
    "start_time": "2023-02-25T11:55:22.120Z"
   },
   {
    "duration": 17,
    "start_time": "2023-02-25T11:55:22.149Z"
   },
   {
    "duration": 224,
    "start_time": "2023-02-25T11:55:22.168Z"
   },
   {
    "duration": 36,
    "start_time": "2023-02-25T11:55:22.393Z"
   },
   {
    "duration": 88,
    "start_time": "2023-02-25T11:55:22.431Z"
   },
   {
    "duration": 13,
    "start_time": "2023-02-25T11:55:22.521Z"
   },
   {
    "duration": 13,
    "start_time": "2023-02-25T11:55:22.536Z"
   },
   {
    "duration": 30,
    "start_time": "2023-02-25T11:55:22.551Z"
   },
   {
    "duration": 39,
    "start_time": "2023-02-25T11:55:22.583Z"
   },
   {
    "duration": 23,
    "start_time": "2023-02-25T11:55:22.624Z"
   },
   {
    "duration": 5,
    "start_time": "2023-02-25T11:55:22.649Z"
   },
   {
    "duration": 230,
    "start_time": "2023-02-25T11:55:22.656Z"
   },
   {
    "duration": 231,
    "start_time": "2023-02-25T11:55:22.888Z"
   },
   {
    "duration": 11,
    "start_time": "2023-02-25T11:55:23.121Z"
   },
   {
    "duration": 18,
    "start_time": "2023-02-25T11:55:23.133Z"
   },
   {
    "duration": 8,
    "start_time": "2023-02-25T11:55:23.152Z"
   },
   {
    "duration": 96,
    "start_time": "2023-02-25T11:55:23.162Z"
   },
   {
    "duration": 70,
    "start_time": "2023-02-25T11:55:23.260Z"
   },
   {
    "duration": 72,
    "start_time": "2023-02-25T11:55:23.332Z"
   },
   {
    "duration": 62,
    "start_time": "2023-02-25T11:55:23.406Z"
   },
   {
    "duration": 73,
    "start_time": "2023-02-25T11:55:23.470Z"
   },
   {
    "duration": 82,
    "start_time": "2023-02-25T11:55:23.548Z"
   },
   {
    "duration": 71,
    "start_time": "2023-02-25T11:55:23.632Z"
   },
   {
    "duration": 63,
    "start_time": "2023-02-25T11:55:23.704Z"
   },
   {
    "duration": 74,
    "start_time": "2023-02-25T11:55:23.769Z"
   },
   {
    "duration": 69,
    "start_time": "2023-02-25T11:55:23.845Z"
   },
   {
    "duration": 68,
    "start_time": "2023-02-25T11:55:23.916Z"
   },
   {
    "duration": 71,
    "start_time": "2023-02-25T11:55:23.986Z"
   },
   {
    "duration": 88,
    "start_time": "2023-02-25T11:55:24.059Z"
   },
   {
    "duration": 79,
    "start_time": "2023-02-25T11:55:24.149Z"
   },
   {
    "duration": 77,
    "start_time": "2023-02-25T11:55:24.230Z"
   },
   {
    "duration": 10,
    "start_time": "2023-02-25T11:55:24.309Z"
   },
   {
    "duration": 174,
    "start_time": "2023-02-25T11:55:24.321Z"
   },
   {
    "duration": 0,
    "start_time": "2023-02-25T11:55:24.497Z"
   },
   {
    "duration": 0,
    "start_time": "2023-02-25T11:55:24.503Z"
   },
   {
    "duration": 0,
    "start_time": "2023-02-25T11:55:24.505Z"
   },
   {
    "duration": 0,
    "start_time": "2023-02-25T11:55:24.507Z"
   },
   {
    "duration": 73,
    "start_time": "2023-02-25T11:56:44.894Z"
   },
   {
    "duration": 73,
    "start_time": "2023-02-25T11:57:12.109Z"
   },
   {
    "duration": 88,
    "start_time": "2023-02-25T11:57:31.982Z"
   },
   {
    "duration": 57,
    "start_time": "2023-02-25T11:57:55.111Z"
   },
   {
    "duration": 58,
    "start_time": "2023-02-25T11:58:08.443Z"
   },
   {
    "duration": 783,
    "start_time": "2023-02-25T11:58:20.399Z"
   },
   {
    "duration": 751,
    "start_time": "2023-02-25T11:58:33.700Z"
   },
   {
    "duration": 310,
    "start_time": "2023-02-25T11:59:14.769Z"
   },
   {
    "duration": 84,
    "start_time": "2023-02-25T11:59:31.914Z"
   },
   {
    "duration": 204,
    "start_time": "2023-02-25T11:59:46.174Z"
   },
   {
    "duration": 77,
    "start_time": "2023-02-25T11:59:59.664Z"
   },
   {
    "duration": 81,
    "start_time": "2023-02-25T12:00:29.072Z"
   },
   {
    "duration": 82,
    "start_time": "2023-02-25T12:01:03.910Z"
   },
   {
    "duration": 84,
    "start_time": "2023-02-25T12:01:32.766Z"
   },
   {
    "duration": 79,
    "start_time": "2023-02-25T12:02:26.022Z"
   },
   {
    "duration": 82,
    "start_time": "2023-02-25T12:02:53.586Z"
   },
   {
    "duration": 104,
    "start_time": "2023-02-25T12:03:44.160Z"
   },
   {
    "duration": 87,
    "start_time": "2023-02-25T12:03:54.324Z"
   },
   {
    "duration": 84,
    "start_time": "2023-02-25T12:06:10.011Z"
   },
   {
    "duration": 76,
    "start_time": "2023-02-25T12:06:45.309Z"
   },
   {
    "duration": 79,
    "start_time": "2023-02-25T12:07:01.871Z"
   },
   {
    "duration": 85,
    "start_time": "2023-02-25T12:07:15.074Z"
   },
   {
    "duration": 85,
    "start_time": "2023-02-25T12:07:24.497Z"
   },
   {
    "duration": 8,
    "start_time": "2023-02-25T12:08:03.982Z"
   },
   {
    "duration": 77,
    "start_time": "2023-02-25T12:08:05.575Z"
   },
   {
    "duration": 66,
    "start_time": "2023-02-25T12:08:14.573Z"
   },
   {
    "duration": 69,
    "start_time": "2023-02-25T12:08:17.264Z"
   },
   {
    "duration": 63,
    "start_time": "2023-02-25T12:08:20.324Z"
   },
   {
    "duration": 58,
    "start_time": "2023-02-25T12:08:30.668Z"
   },
   {
    "duration": 8,
    "start_time": "2023-02-25T12:08:45.096Z"
   },
   {
    "duration": 77,
    "start_time": "2023-02-25T12:08:50.986Z"
   },
   {
    "duration": 1213,
    "start_time": "2023-02-25T12:10:41.420Z"
   },
   {
    "duration": 171,
    "start_time": "2023-02-25T12:10:42.635Z"
   },
   {
    "duration": 34,
    "start_time": "2023-02-25T12:10:42.808Z"
   },
   {
    "duration": 3,
    "start_time": "2023-02-25T12:10:42.843Z"
   },
   {
    "duration": 17,
    "start_time": "2023-02-25T12:10:42.849Z"
   },
   {
    "duration": 96,
    "start_time": "2023-02-25T12:10:42.868Z"
   },
   {
    "duration": 108,
    "start_time": "2023-02-25T12:10:42.967Z"
   },
   {
    "duration": 52,
    "start_time": "2023-02-25T12:10:43.077Z"
   },
   {
    "duration": 19,
    "start_time": "2023-02-25T12:10:43.131Z"
   },
   {
    "duration": 6,
    "start_time": "2023-02-25T12:10:43.151Z"
   },
   {
    "duration": 21,
    "start_time": "2023-02-25T12:10:43.159Z"
   },
   {
    "duration": 61,
    "start_time": "2023-02-25T12:10:43.182Z"
   },
   {
    "duration": 59,
    "start_time": "2023-02-25T12:10:43.246Z"
   },
   {
    "duration": 13,
    "start_time": "2023-02-25T12:10:43.308Z"
   },
   {
    "duration": 95,
    "start_time": "2023-02-25T12:10:43.322Z"
   },
   {
    "duration": 6,
    "start_time": "2023-02-25T12:10:43.419Z"
   },
   {
    "duration": 333,
    "start_time": "2023-02-25T12:10:43.427Z"
   },
   {
    "duration": 18,
    "start_time": "2023-02-25T12:10:43.762Z"
   },
   {
    "duration": 42,
    "start_time": "2023-02-25T12:10:43.782Z"
   },
   {
    "duration": 34,
    "start_time": "2023-02-25T12:10:43.826Z"
   },
   {
    "duration": 16,
    "start_time": "2023-02-25T12:10:43.862Z"
   },
   {
    "duration": 228,
    "start_time": "2023-02-25T12:10:43.880Z"
   },
   {
    "duration": 46,
    "start_time": "2023-02-25T12:10:44.110Z"
   },
   {
    "duration": 95,
    "start_time": "2023-02-25T12:10:44.159Z"
   },
   {
    "duration": 16,
    "start_time": "2023-02-25T12:10:44.256Z"
   },
   {
    "duration": 19,
    "start_time": "2023-02-25T12:10:44.274Z"
   },
   {
    "duration": 48,
    "start_time": "2023-02-25T12:10:44.303Z"
   },
   {
    "duration": 31,
    "start_time": "2023-02-25T12:10:44.354Z"
   },
   {
    "duration": 30,
    "start_time": "2023-02-25T12:10:44.388Z"
   },
   {
    "duration": 15,
    "start_time": "2023-02-25T12:10:44.422Z"
   },
   {
    "duration": 232,
    "start_time": "2023-02-25T12:10:44.439Z"
   },
   {
    "duration": 229,
    "start_time": "2023-02-25T12:10:44.673Z"
   },
   {
    "duration": 13,
    "start_time": "2023-02-25T12:10:44.904Z"
   },
   {
    "duration": 20,
    "start_time": "2023-02-25T12:10:44.919Z"
   },
   {
    "duration": 12,
    "start_time": "2023-02-25T12:10:44.942Z"
   },
   {
    "duration": 102,
    "start_time": "2023-02-25T12:10:44.956Z"
   },
   {
    "duration": 80,
    "start_time": "2023-02-25T12:10:45.061Z"
   },
   {
    "duration": 85,
    "start_time": "2023-02-25T12:10:45.143Z"
   },
   {
    "duration": 85,
    "start_time": "2023-02-25T12:10:45.230Z"
   },
   {
    "duration": 56,
    "start_time": "2023-02-25T12:10:45.318Z"
   },
   {
    "duration": 83,
    "start_time": "2023-02-25T12:10:45.378Z"
   },
   {
    "duration": 77,
    "start_time": "2023-02-25T12:10:45.462Z"
   },
   {
    "duration": 77,
    "start_time": "2023-02-25T12:10:45.541Z"
   },
   {
    "duration": 68,
    "start_time": "2023-02-25T12:10:45.621Z"
   },
   {
    "duration": 71,
    "start_time": "2023-02-25T12:10:45.691Z"
   },
   {
    "duration": 91,
    "start_time": "2023-02-25T12:10:45.763Z"
   },
   {
    "duration": 73,
    "start_time": "2023-02-25T12:10:45.856Z"
   },
   {
    "duration": 77,
    "start_time": "2023-02-25T12:10:45.931Z"
   },
   {
    "duration": 64,
    "start_time": "2023-02-25T12:10:46.014Z"
   },
   {
    "duration": 68,
    "start_time": "2023-02-25T12:10:46.080Z"
   },
   {
    "duration": 8,
    "start_time": "2023-02-25T12:10:46.150Z"
   },
   {
    "duration": 103,
    "start_time": "2023-02-25T12:10:46.160Z"
   },
   {
    "duration": 72,
    "start_time": "2023-02-25T12:10:46.265Z"
   },
   {
    "duration": 80,
    "start_time": "2023-02-25T12:10:46.339Z"
   },
   {
    "duration": 64,
    "start_time": "2023-02-25T12:10:46.422Z"
   },
   {
    "duration": 79,
    "start_time": "2023-02-25T12:10:46.488Z"
   },
   {
    "duration": 1383,
    "start_time": "2023-02-26T02:15:54.133Z"
   },
   {
    "duration": 499,
    "start_time": "2023-02-26T02:15:55.518Z"
   },
   {
    "duration": 29,
    "start_time": "2023-02-26T02:15:56.018Z"
   },
   {
    "duration": 3,
    "start_time": "2023-02-26T02:15:56.049Z"
   },
   {
    "duration": 14,
    "start_time": "2023-02-26T02:15:56.054Z"
   },
   {
    "duration": 62,
    "start_time": "2023-02-26T02:15:56.069Z"
   },
   {
    "duration": 67,
    "start_time": "2023-02-26T02:15:56.145Z"
   },
   {
    "duration": 58,
    "start_time": "2023-02-26T02:15:56.213Z"
   },
   {
    "duration": 18,
    "start_time": "2023-02-26T02:15:56.273Z"
   },
   {
    "duration": 6,
    "start_time": "2023-02-26T02:15:56.292Z"
   },
   {
    "duration": 22,
    "start_time": "2023-02-26T02:15:56.299Z"
   },
   {
    "duration": 43,
    "start_time": "2023-02-26T02:15:56.323Z"
   },
   {
    "duration": 33,
    "start_time": "2023-02-26T02:15:56.368Z"
   },
   {
    "duration": 10,
    "start_time": "2023-02-26T02:15:56.404Z"
   },
   {
    "duration": 97,
    "start_time": "2023-02-26T02:15:56.415Z"
   },
   {
    "duration": 5,
    "start_time": "2023-02-26T02:15:56.513Z"
   },
   {
    "duration": 312,
    "start_time": "2023-02-26T02:15:56.520Z"
   },
   {
    "duration": 26,
    "start_time": "2023-02-26T02:15:56.834Z"
   },
   {
    "duration": 26,
    "start_time": "2023-02-26T02:15:56.862Z"
   },
   {
    "duration": 30,
    "start_time": "2023-02-26T02:15:56.890Z"
   },
   {
    "duration": 33,
    "start_time": "2023-02-26T02:15:56.922Z"
   },
   {
    "duration": 204,
    "start_time": "2023-02-26T02:15:56.957Z"
   },
   {
    "duration": 30,
    "start_time": "2023-02-26T02:15:57.163Z"
   },
   {
    "duration": 82,
    "start_time": "2023-02-26T02:15:57.194Z"
   },
   {
    "duration": 12,
    "start_time": "2023-02-26T02:15:57.277Z"
   },
   {
    "duration": 12,
    "start_time": "2023-02-26T02:15:57.290Z"
   },
   {
    "duration": 20,
    "start_time": "2023-02-26T02:15:57.304Z"
   },
   {
    "duration": 36,
    "start_time": "2023-02-26T02:15:57.326Z"
   },
   {
    "duration": 22,
    "start_time": "2023-02-26T02:15:57.364Z"
   },
   {
    "duration": 6,
    "start_time": "2023-02-26T02:15:57.387Z"
   },
   {
    "duration": 227,
    "start_time": "2023-02-26T02:15:57.395Z"
   },
   {
    "duration": 209,
    "start_time": "2023-02-26T02:15:57.624Z"
   },
   {
    "duration": 13,
    "start_time": "2023-02-26T02:15:57.844Z"
   },
   {
    "duration": 15,
    "start_time": "2023-02-26T02:15:57.858Z"
   },
   {
    "duration": 8,
    "start_time": "2023-02-26T02:15:57.877Z"
   },
   {
    "duration": 85,
    "start_time": "2023-02-26T02:15:57.887Z"
   },
   {
    "duration": 60,
    "start_time": "2023-02-26T02:15:57.974Z"
   },
   {
    "duration": 61,
    "start_time": "2023-02-26T02:15:58.045Z"
   },
   {
    "duration": 72,
    "start_time": "2023-02-26T02:15:58.108Z"
   },
   {
    "duration": 54,
    "start_time": "2023-02-26T02:15:58.181Z"
   },
   {
    "duration": 71,
    "start_time": "2023-02-26T02:15:58.247Z"
   },
   {
    "duration": 73,
    "start_time": "2023-02-26T02:15:58.319Z"
   },
   {
    "duration": 77,
    "start_time": "2023-02-26T02:15:58.394Z"
   },
   {
    "duration": 71,
    "start_time": "2023-02-26T02:15:58.474Z"
   },
   {
    "duration": 55,
    "start_time": "2023-02-26T02:15:58.547Z"
   },
   {
    "duration": 87,
    "start_time": "2023-02-26T02:15:58.604Z"
   },
   {
    "duration": 70,
    "start_time": "2023-02-26T02:15:58.693Z"
   },
   {
    "duration": 62,
    "start_time": "2023-02-26T02:15:58.765Z"
   },
   {
    "duration": 71,
    "start_time": "2023-02-26T02:15:58.829Z"
   },
   {
    "duration": 64,
    "start_time": "2023-02-26T02:15:58.902Z"
   },
   {
    "duration": 8,
    "start_time": "2023-02-26T02:15:58.969Z"
   },
   {
    "duration": 94,
    "start_time": "2023-02-26T02:15:58.979Z"
   },
   {
    "duration": 72,
    "start_time": "2023-02-26T02:15:59.075Z"
   },
   {
    "duration": 67,
    "start_time": "2023-02-26T02:15:59.148Z"
   },
   {
    "duration": 75,
    "start_time": "2023-02-26T02:15:59.217Z"
   },
   {
    "duration": 72,
    "start_time": "2023-02-26T02:15:59.293Z"
   },
   {
    "duration": 1283,
    "start_time": "2023-02-26T02:17:39.636Z"
   },
   {
    "duration": 160,
    "start_time": "2023-02-26T02:17:40.920Z"
   },
   {
    "duration": 28,
    "start_time": "2023-02-26T02:17:41.082Z"
   },
   {
    "duration": 2,
    "start_time": "2023-02-26T02:17:41.112Z"
   },
   {
    "duration": 34,
    "start_time": "2023-02-26T02:17:41.116Z"
   },
   {
    "duration": 64,
    "start_time": "2023-02-26T02:17:41.152Z"
   },
   {
    "duration": 88,
    "start_time": "2023-02-26T02:17:41.218Z"
   },
   {
    "duration": 54,
    "start_time": "2023-02-26T02:17:41.307Z"
   },
   {
    "duration": 17,
    "start_time": "2023-02-26T02:17:41.364Z"
   },
   {
    "duration": 5,
    "start_time": "2023-02-26T02:17:41.383Z"
   },
   {
    "duration": 21,
    "start_time": "2023-02-26T02:17:41.390Z"
   },
   {
    "duration": 47,
    "start_time": "2023-02-26T02:17:41.413Z"
   },
   {
    "duration": 44,
    "start_time": "2023-02-26T02:17:41.462Z"
   },
   {
    "duration": 9,
    "start_time": "2023-02-26T02:17:41.509Z"
   },
   {
    "duration": 86,
    "start_time": "2023-02-26T02:17:41.520Z"
   },
   {
    "duration": 6,
    "start_time": "2023-02-26T02:17:41.608Z"
   },
   {
    "duration": 325,
    "start_time": "2023-02-26T02:17:41.615Z"
   },
   {
    "duration": 17,
    "start_time": "2023-02-26T02:17:41.944Z"
   },
   {
    "duration": 26,
    "start_time": "2023-02-26T02:17:41.962Z"
   },
   {
    "duration": 31,
    "start_time": "2023-02-26T02:17:41.990Z"
   },
   {
    "duration": 33,
    "start_time": "2023-02-26T02:17:42.023Z"
   },
   {
    "duration": 194,
    "start_time": "2023-02-26T02:17:42.058Z"
   },
   {
    "duration": 31,
    "start_time": "2023-02-26T02:17:42.254Z"
   },
   {
    "duration": 84,
    "start_time": "2023-02-26T02:17:42.287Z"
   },
   {
    "duration": 12,
    "start_time": "2023-02-26T02:17:42.373Z"
   },
   {
    "duration": 9,
    "start_time": "2023-02-26T02:17:42.386Z"
   },
   {
    "duration": 20,
    "start_time": "2023-02-26T02:17:42.396Z"
   },
   {
    "duration": 37,
    "start_time": "2023-02-26T02:17:42.418Z"
   },
   {
    "duration": 22,
    "start_time": "2023-02-26T02:17:42.457Z"
   },
   {
    "duration": 5,
    "start_time": "2023-02-26T02:17:42.480Z"
   },
   {
    "duration": 214,
    "start_time": "2023-02-26T02:17:42.486Z"
   },
   {
    "duration": 202,
    "start_time": "2023-02-26T02:17:42.701Z"
   },
   {
    "duration": 9,
    "start_time": "2023-02-26T02:17:42.904Z"
   },
   {
    "duration": 14,
    "start_time": "2023-02-26T02:17:42.915Z"
   },
   {
    "duration": 19,
    "start_time": "2023-02-26T02:17:42.930Z"
   },
   {
    "duration": 71,
    "start_time": "2023-02-26T02:17:42.951Z"
   },
   {
    "duration": 67,
    "start_time": "2023-02-26T02:17:43.024Z"
   },
   {
    "duration": 81,
    "start_time": "2023-02-26T02:17:43.094Z"
   },
   {
    "duration": 59,
    "start_time": "2023-02-26T02:17:43.177Z"
   },
   {
    "duration": 55,
    "start_time": "2023-02-26T02:17:43.245Z"
   },
   {
    "duration": 80,
    "start_time": "2023-02-26T02:17:43.304Z"
   },
   {
    "duration": 74,
    "start_time": "2023-02-26T02:17:43.386Z"
   },
   {
    "duration": 65,
    "start_time": "2023-02-26T02:17:43.462Z"
   },
   {
    "duration": 75,
    "start_time": "2023-02-26T02:17:43.528Z"
   },
   {
    "duration": 73,
    "start_time": "2023-02-26T02:17:43.605Z"
   },
   {
    "duration": 73,
    "start_time": "2023-02-26T02:17:43.680Z"
   },
   {
    "duration": 60,
    "start_time": "2023-02-26T02:17:43.754Z"
   },
   {
    "duration": 75,
    "start_time": "2023-02-26T02:17:43.816Z"
   },
   {
    "duration": 73,
    "start_time": "2023-02-26T02:17:43.893Z"
   },
   {
    "duration": 55,
    "start_time": "2023-02-26T02:17:43.967Z"
   },
   {
    "duration": 7,
    "start_time": "2023-02-26T02:17:44.024Z"
   },
   {
    "duration": 93,
    "start_time": "2023-02-26T02:17:44.032Z"
   },
   {
    "duration": 73,
    "start_time": "2023-02-26T02:17:44.127Z"
   },
   {
    "duration": 77,
    "start_time": "2023-02-26T02:17:44.202Z"
   },
   {
    "duration": 77,
    "start_time": "2023-02-26T02:17:44.281Z"
   },
   {
    "duration": 55,
    "start_time": "2023-02-26T02:17:44.359Z"
   }
  ],
  "kernelspec": {
   "display_name": "Python 3 (ipykernel)",
   "language": "python",
   "name": "python3"
  },
  "language_info": {
   "codemirror_mode": {
    "name": "ipython",
    "version": 3
   },
   "file_extension": ".py",
   "mimetype": "text/x-python",
   "name": "python",
   "nbconvert_exporter": "python",
   "pygments_lexer": "ipython3",
   "version": "3.9.13"
  },
  "toc": {
   "base_numbering": 1,
   "nav_menu": {},
   "number_sections": true,
   "sideBar": true,
   "skip_h1_title": true,
   "title_cell": "Содержание",
   "title_sidebar": "Содержание",
   "toc_cell": true,
   "toc_position": {},
   "toc_section_display": true,
   "toc_window_display": false
  }
 },
 "nbformat": 4,
 "nbformat_minor": 2
}
