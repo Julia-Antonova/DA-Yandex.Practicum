{
 "cells": [
  {
   "cell_type": "markdown",
   "metadata": {
    "id": "r-BO88CnWVwe"
   },
   "source": [
    "# Исследование эффективности рекламных расходов для приложения Procrastinate Pro+"
   ]
  },
  {
   "cell_type": "markdown",
   "metadata": {
    "id": "r-BO88CnWVwe"
   },
   "source": [
    "В данном исследовании необходимо рассмотреть причины убытков вложений в рекламу за последние несколько месяцев и найти способы помочь увеличить окупаемость расходов на рекламу."
   ]
  },
  {
   "cell_type": "markdown",
   "metadata": {
    "toc": true
   },
   "source": [
    "<h1>Содержание<span class=\"tocSkip\"></span></h1>\n",
    "<div class=\"toc\"><ul class=\"toc-item\"><li><span><a href=\"#Загрузите-данные-и-подготовьте-их-к-анализу\" data-toc-modified-id=\"Загрузите-данные-и-подготовьте-их-к-анализу-1\"><span class=\"toc-item-num\">1&nbsp;&nbsp;</span>Загрузите данные и подготовьте их к анализу</a></span><ul class=\"toc-item\"><li><span><a href=\"#Импортируем-нужные-библиотеки\" data-toc-modified-id=\"Импортируем-нужные-библиотеки-1.1\"><span class=\"toc-item-num\">1.1&nbsp;&nbsp;</span>Импортируем нужные библиотеки</a></span></li><li><span><a href=\"#Загрузим-данные-и-изучим-с-помощью-методов-info()-и-head()\" data-toc-modified-id=\"Загрузим-данные-и-изучим-с-помощью-методов-info()-и-head()-1.2\"><span class=\"toc-item-num\">1.2&nbsp;&nbsp;</span>Загрузим данные и изучим с помощью методов info() и head()</a></span></li><li><span><a href=\"#Приведем-названия-столбцов-загруженных-датасетов-к-нижнему-регистру\" data-toc-modified-id=\"Приведем-названия-столбцов-загруженных-датасетов-к-нижнему-регистру-1.3\"><span class=\"toc-item-num\">1.3&nbsp;&nbsp;</span>Приведем названия столбцов загруженных датасетов к нижнему регистру</a></span></li><li><span><a href=\"#Посчитаем-в-загруженных-датасетах-явные-дубликаты\" data-toc-modified-id=\"Посчитаем-в-загруженных-датасетах-явные-дубликаты-1.4\"><span class=\"toc-item-num\">1.4&nbsp;&nbsp;</span>Посчитаем в загруженных датасетах явные дубликаты</a></span></li><li><span><a href=\"#Приведем-названия-столбцов-в-датасетах-к-змеиному-регистру\" data-toc-modified-id=\"Приведем-названия-столбцов-в-датасетах-к-змеиному-регистру-1.5\"><span class=\"toc-item-num\">1.5&nbsp;&nbsp;</span>Приведем названия столбцов в датасетах к змеиному регистру</a></span></li><li><span><a href=\"#Приведем-данные-из-следующих-столбцов-к-новому-типу-с-помощью-метода-to_datetime():\" data-toc-modified-id=\"Приведем-данные-из-следующих-столбцов-к-новому-типу-с-помощью-метода-to_datetime():-1.6\"><span class=\"toc-item-num\">1.6&nbsp;&nbsp;</span>Приведем данные из следующих столбцов к новому типу с помощью метода to_datetime():</a></span></li><li><span><a href=\"#Проверим-наличие-неявных-дубликатов-в-категориальных-признаках:-страна,-устройство,-канал-привлечения.\" data-toc-modified-id=\"Проверим-наличие-неявных-дубликатов-в-категориальных-признаках:-страна,-устройство,-канал-привлечения.-1.7\"><span class=\"toc-item-num\">1.7&nbsp;&nbsp;</span>Проверим наличие неявных дубликатов в категориальных признаках: страна, устройство, канал привлечения.</a></span></li><li><span><a href=\"#Посмотрим-с-помощью-методов-info()-и-head()-на-получившиеся-датасеты\" data-toc-modified-id=\"Посмотрим-с-помощью-методов-info()-и-head()-на-получившиеся-датасеты-1.8\"><span class=\"toc-item-num\">1.8&nbsp;&nbsp;</span>Посмотрим с помощью методов info() и head() на получившиеся датасеты</a></span></li></ul></li><li><span><a href=\"#Задайте-функции-для-расчёта-и-анализа-LTV,-ROI,-удержания-и-конверсии.\" data-toc-modified-id=\"Задайте-функции-для-расчёта-и-анализа-LTV,-ROI,-удержания-и-конверсии.-2\"><span class=\"toc-item-num\">2&nbsp;&nbsp;</span>Задайте функции для расчёта и анализа LTV, ROI, удержания и конверсии.</a></span><ul class=\"toc-item\"><li><span><a href=\"#Зададим-функцию-для-создания-профилей-пользователей-get_profiles()\" data-toc-modified-id=\"Зададим-функцию-для-создания-профилей-пользователей-get_profiles()-2.1\"><span class=\"toc-item-num\">2.1&nbsp;&nbsp;</span>Зададим функцию для создания профилей пользователей get_profiles()</a></span></li><li><span><a href=\"#Зададим-функцию-для-расчёта-удержания-get_retention()\" data-toc-modified-id=\"Зададим-функцию-для-расчёта-удержания-get_retention()-2.2\"><span class=\"toc-item-num\">2.2&nbsp;&nbsp;</span>Зададим функцию для расчёта удержания get_retention()</a></span></li><li><span><a href=\"#Зададим-функцию-для-расчёта-конверсии-get_conversion()\" data-toc-modified-id=\"Зададим-функцию-для-расчёта-конверсии-get_conversion()-2.3\"><span class=\"toc-item-num\">2.3&nbsp;&nbsp;</span>Зададим функцию для расчёта конверсии get_conversion()</a></span></li><li><span><a href=\"#Зададим-функцию-для-для-расчёта-LTV-и-ROI-get_ltv()\" data-toc-modified-id=\"Зададим-функцию-для-для-расчёта-LTV-и-ROI-get_ltv()-2.4\"><span class=\"toc-item-num\">2.4&nbsp;&nbsp;</span>Зададим функцию для для расчёта LTV и ROI get_ltv()</a></span></li><li><span><a href=\"#Зададим-функции-для-визуализации-этих-метрик-—-filter_data(),-plot_retention(),-plot_conversion()-и-plot_ltv_roi().\" data-toc-modified-id=\"Зададим-функции-для-визуализации-этих-метрик-—-filter_data(),-plot_retention(),-plot_conversion()-и-plot_ltv_roi().-2.5\"><span class=\"toc-item-num\">2.5&nbsp;&nbsp;</span>Зададим функции для визуализации этих метрик — filter_data(), plot_retention(), plot_conversion() и plot_ltv_roi().</a></span></li></ul></li><li><span><a href=\"#Исследовательский-анализ-данных\" data-toc-modified-id=\"Исследовательский-анализ-данных-3\"><span class=\"toc-item-num\">3&nbsp;&nbsp;</span>Исследовательский анализ данных</a></span><ul class=\"toc-item\"><li><span><a href=\"#Составим-профили-пользователей-и-определим-минимальную-и-максимальную-даты-привлечения-пользователей.\" data-toc-modified-id=\"Составим-профили-пользователей-и-определим-минимальную-и-максимальную-даты-привлечения-пользователей.-3.1\"><span class=\"toc-item-num\">3.1&nbsp;&nbsp;</span>Составим профили пользователей и определим минимальную и максимальную даты привлечения пользователей.</a></span></li><li><span><a href=\"#Определим-из-каких-стран-пользователи-приходят-в-приложение\" data-toc-modified-id=\"Определим-из-каких-стран-пользователи-приходят-в-приложение-3.2\"><span class=\"toc-item-num\">3.2&nbsp;&nbsp;</span>Определим из каких стран пользователи приходят в приложение</a></span></li><li><span><a href=\"#Определим-какими-устройствами-пользуются-клиенты\" data-toc-modified-id=\"Определим-какими-устройствами-пользуются-клиенты-3.3\"><span class=\"toc-item-num\">3.3&nbsp;&nbsp;</span>Определим какими устройствами пользуются клиенты</a></span></li><li><span><a href=\"#Изучим-рекламные-источники-привлечения\" data-toc-modified-id=\"Изучим-рекламные-источники-привлечения-3.4\"><span class=\"toc-item-num\">3.4&nbsp;&nbsp;</span>Изучим рекламные источники привлечения</a></span></li></ul></li><li><span><a href=\"#Маркетинг\" data-toc-modified-id=\"Маркетинг-4\"><span class=\"toc-item-num\">4&nbsp;&nbsp;</span>Маркетинг</a></span><ul class=\"toc-item\"><li><span><a href=\"#Посчитаем-общую-сумму-расходов-на-маркетинг.\" data-toc-modified-id=\"Посчитаем-общую-сумму-расходов-на-маркетинг.-4.1\"><span class=\"toc-item-num\">4.1&nbsp;&nbsp;</span>Посчитаем общую сумму расходов на маркетинг.</a></span></li><li><span><a href=\"#Определим,-как-распределены-траты-по-рекламным-источникам\" data-toc-modified-id=\"Определим,-как-распределены-траты-по-рекламным-источникам-4.2\"><span class=\"toc-item-num\">4.2&nbsp;&nbsp;</span>Определим, как распределены траты по рекламным источникам</a></span></li><li><span><a href=\"#Построим-визуализацию-динамики-изменения-расходов-во-времени-по-каждому-источнику\" data-toc-modified-id=\"Построим-визуализацию-динамики-изменения-расходов-во-времени-по-каждому-источнику-4.3\"><span class=\"toc-item-num\">4.3&nbsp;&nbsp;</span>Построим визуализацию динамики изменения расходов во времени по каждому источнику</a></span></li><li><span><a href=\"#Определим-среднюю-стоимость-привлечения-одного-пользователя-(CAC)-из-каждого-источника\" data-toc-modified-id=\"Определим-среднюю-стоимость-привлечения-одного-пользователя-(CAC)-из-каждого-источника-4.4\"><span class=\"toc-item-num\">4.4&nbsp;&nbsp;</span>Определим среднюю стоимость привлечения одного пользователя (CAC) из каждого источника</a></span></li></ul></li><li><span><a href=\"#Оцените-окупаемость-рекламы\" data-toc-modified-id=\"Оцените-окупаемость-рекламы-5\"><span class=\"toc-item-num\">5&nbsp;&nbsp;</span>Оцените окупаемость рекламы</a></span><ul class=\"toc-item\"><li><span><a href=\"#Проанализируем-окупаемость-рекламы-c-помощью-графиков-LTV-и-ROI,-а-также-графиков-динамики-LTV,-CAC-и-ROI.\" data-toc-modified-id=\"Проанализируем-окупаемость-рекламы-c-помощью-графиков-LTV-и-ROI,-а-также-графиков-динамики-LTV,-CAC-и-ROI.-5.1\"><span class=\"toc-item-num\">5.1&nbsp;&nbsp;</span>Проанализируем окупаемость рекламы c помощью графиков LTV и ROI, а также графиков динамики LTV, CAC и ROI.</a></span></li><li><span><a href=\"#Проверим-конверсию-пользователей-и-динамику-её-изменения\" data-toc-modified-id=\"Проверим-конверсию-пользователей-и-динамику-её-изменения-5.2\"><span class=\"toc-item-num\">5.2&nbsp;&nbsp;</span>Проверим конверсию пользователей и динамику её изменения</a></span></li><li><span><a href=\"#Проверим-удержание-пользователей-и-динамику-его-изменения\" data-toc-modified-id=\"Проверим-удержание-пользователей-и-динамику-его-изменения-5.3\"><span class=\"toc-item-num\">5.3&nbsp;&nbsp;</span>Проверим удержание пользователей и динамику его изменения</a></span></li><li><span><a href=\"#Проанализируем-окупаемость-рекламы-с-разбивкой-по-устройствам\" data-toc-modified-id=\"Проанализируем-окупаемость-рекламы-с-разбивкой-по-устройствам-5.4\"><span class=\"toc-item-num\">5.4&nbsp;&nbsp;</span>Проанализируем окупаемость рекламы с разбивкой по устройствам</a></span></li><li><span><a href=\"#Проанализируем-окупаемость-рекламы-с-разбивкой-по-странам\" data-toc-modified-id=\"Проанализируем-окупаемость-рекламы-с-разбивкой-по-странам-5.5\"><span class=\"toc-item-num\">5.5&nbsp;&nbsp;</span>Проанализируем окупаемость рекламы с разбивкой по странам</a></span></li><li><span><a href=\"#Проанализируем-окупаемость-рекламы-с-разбивкой-по-рекламным-каналам\" data-toc-modified-id=\"Проанализируем-окупаемость-рекламы-с-разбивкой-по-рекламным-каналам-5.6\"><span class=\"toc-item-num\">5.6&nbsp;&nbsp;</span>Проанализируем окупаемость рекламы с разбивкой по рекламным каналам</a></span></li></ul></li><li><span><a href=\"#Выводы:\" data-toc-modified-id=\"Выводы:-6\"><span class=\"toc-item-num\">6&nbsp;&nbsp;</span>Выводы:</a></span></li></ul></div>"
   ]
  },
  {
   "cell_type": "markdown",
   "metadata": {
    "id": "r-BO88CnWVwe"
   },
   "source": [
    "### Загрузите данные и подготовьте их к анализу"
   ]
  },
  {
   "cell_type": "markdown",
   "metadata": {
    "id": "LCZi0P80WVwj"
   },
   "source": [
    "Загрузите данные о визитах, заказах и рекламных расходах из CSV-файлов в переменные.\n",
    "\n",
    "**Пути к файлам**\n",
    "\n",
    "- визиты: `/datasets/visits_info_short.csv`. [Скачать датасет](https://code.s3.yandex.net/datasets/visits_info_short.csv);\n",
    "- заказы: `/datasets/orders_info_short.csv`. [Скачать датасет](https://code.s3.yandex.net/datasets/orders_info_short.csv);\n",
    "- расходы: `/datasets/costs_info_short.csv`. [Скачать датасет](https://code.s3.yandex.net/datasets/costs_info_short.csv).\n",
    "\n",
    "Изучите данные и выполните предобработку. Есть ли в данных пропуски и дубликаты? Убедитесь, что типы данных во всех колонках соответствуют сохранённым в них значениям. Обратите внимание на столбцы с датой и временем."
   ]
  },
  {
   "cell_type": "markdown",
   "metadata": {
    "id": "_vsKinGUWVwk"
   },
   "source": [
    "#### Импортируем нужные библиотеки"
   ]
  },
  {
   "cell_type": "code",
   "execution_count": null,
   "metadata": {
    "id": "_vsKinGUWVwk"
   },
   "outputs": [],
   "source": [
    "import pandas as pd\n",
    "import numpy as np\n",
    "from datetime import datetime, timedelta\n",
    "from matplotlib import pyplot as plt"
   ]
  },
  {
   "cell_type": "markdown",
   "metadata": {
    "id": "_vsKinGUWVwk"
   },
   "source": [
    "#### Загрузим данные и изучим с помощью методов info() и head()"
   ]
  },
  {
   "cell_type": "code",
   "execution_count": null,
   "metadata": {
    "id": "_vsKinGUWVwk"
   },
   "outputs": [],
   "source": [
    "visits = pd.read_csv('/datasets/visits_info_short.csv')\n",
    "visits.info()\n",
    "display(visits.head())"
   ]
  },
  {
   "cell_type": "code",
   "execution_count": null,
   "metadata": {
    "id": "_vsKinGUWVwk"
   },
   "outputs": [],
   "source": [
    "orders = pd.read_csv('/datasets/orders_info_short.csv')\n",
    "orders.info()\n",
    "display(orders.head())"
   ]
  },
  {
   "cell_type": "code",
   "execution_count": null,
   "metadata": {
    "id": "_vsKinGUWVwk"
   },
   "outputs": [],
   "source": [
    "costs = pd.read_csv('/datasets/costs_info_short.csv')\n",
    "costs.info()\n",
    "display(costs.head())"
   ]
  },
  {
   "cell_type": "markdown",
   "metadata": {
    "id": "_vsKinGUWVwk"
   },
   "source": [
    "#### Приведем названия столбцов загруженных датасетов к нижнему регистру"
   ]
  },
  {
   "cell_type": "code",
   "execution_count": null,
   "metadata": {
    "id": "_vsKinGUWVwk"
   },
   "outputs": [],
   "source": [
    "visits.columns = visits.columns.str.lower()\n",
    "orders.columns = orders.columns.str.lower()\n",
    "costs.columns = costs.columns.str.lower()"
   ]
  },
  {
   "cell_type": "markdown",
   "metadata": {
    "id": "_vsKinGUWVwk"
   },
   "source": [
    "#### Посчитаем в загруженных датасетах явные дубликаты"
   ]
  },
  {
   "cell_type": "code",
   "execution_count": null,
   "metadata": {
    "id": "_vsKinGUWVwk"
   },
   "outputs": [],
   "source": [
    "visits.duplicated().sum()"
   ]
  },
  {
   "cell_type": "code",
   "execution_count": null,
   "metadata": {
    "id": "_vsKinGUWVwk"
   },
   "outputs": [],
   "source": [
    "orders.duplicated().sum()"
   ]
  },
  {
   "cell_type": "code",
   "execution_count": null,
   "metadata": {
    "id": "_vsKinGUWVwk"
   },
   "outputs": [],
   "source": [
    "costs.duplicated().sum()"
   ]
  },
  {
   "cell_type": "markdown",
   "metadata": {
    "id": "_vsKinGUWVwk"
   },
   "source": [
    "В датафреймах явные дубликаты отсутствуют."
   ]
  },
  {
   "cell_type": "markdown",
   "metadata": {
    "id": "_vsKinGUWVwk"
   },
   "source": [
    "#### Приведем названия столбцов в датасетах к змеиному регистру"
   ]
  },
  {
   "cell_type": "code",
   "execution_count": null,
   "metadata": {
    "id": "igOfMgBpWVwl"
   },
   "outputs": [],
   "source": [
    "visits.rename(columns = {'session start':'session_start', 'session end':'session_end',\\\n",
    "                     'user id':'user_id'}, inplace = True)\n",
    "orders.rename(columns = {'event dt':'event_dt', 'user id':'user_id'}, inplace = True)"
   ]
  },
  {
   "cell_type": "markdown",
   "metadata": {
    "id": "_vsKinGUWVwk"
   },
   "source": [
    "#### Приведем данные из следующих столбцов к новому типу с помощью метода to_datetime():\n",
    "•\tsession start из датасета visits \n",
    "\n",
    "•\tsession end из датасета visits \n",
    "\n",
    "•\tevent dt из датасета orders \n",
    "\n",
    "•\tdt из датасета costs "
   ]
  },
  {
   "cell_type": "code",
   "execution_count": null,
   "metadata": {
    "id": "_vsKinGUWVwk"
   },
   "outputs": [],
   "source": [
    "# обработка столбца session start из датасета visits\n",
    "visits['session_start'] = pd.to_datetime(visits['session_start'])\n",
    "\n",
    "# обработка столбца session end из датасета visits\n",
    "visits['session_end'] = pd.to_datetime(visits['session_end'])\n",
    "\n",
    "# обработка столбца event dt из датасета orders\n",
    "orders['event_dt'] = pd.to_datetime(orders['event_dt'])\n",
    "\n",
    "# обработка столбца dt из датасета costs\n",
    "costs['dt'] = pd.to_datetime(costs['dt']).dt.date\n",
    "costs['month'] = costs['dt'].astype('datetime64[M]')\n",
    "costs['week'] = costs['dt'].astype('datetime64[W]')"
   ]
  },
  {
   "cell_type": "markdown",
   "metadata": {
    "id": "_vsKinGUWVwk"
   },
   "source": [
    "#### Проверим наличие неявных дубликатов в категориальных признаках: страна, устройство, канал привлечения.\n"
   ]
  },
  {
   "cell_type": "code",
   "execution_count": null,
   "metadata": {
    "id": "_vsKinGUWVwk"
   },
   "outputs": [],
   "source": [
    "# просмотр уникальных значений столбца region из датасета visits\n",
    "visits['region'].value_counts() "
   ]
  },
  {
   "cell_type": "markdown",
   "metadata": {
    "id": "_vsKinGUWVwk"
   },
   "source": [
    "Неявные дубликаты отсутствуют."
   ]
  },
  {
   "cell_type": "code",
   "execution_count": null,
   "metadata": {
    "id": "_vsKinGUWVwk"
   },
   "outputs": [],
   "source": [
    "# просмотр уникальных значений столбца device из датасета visits\n",
    "visits['device'].value_counts() "
   ]
  },
  {
   "cell_type": "markdown",
   "metadata": {
    "id": "_vsKinGUWVwk"
   },
   "source": [
    "Неявные дубликаты отсутствуют."
   ]
  },
  {
   "cell_type": "code",
   "execution_count": null,
   "metadata": {
    "id": "_vsKinGUWVwk"
   },
   "outputs": [],
   "source": [
    "# просмотр уникальных значений столбца channel из датасета visits\n",
    "visits['channel'].value_counts() "
   ]
  },
  {
   "cell_type": "markdown",
   "metadata": {
    "id": "_vsKinGUWVwk"
   },
   "source": [
    "Неявные дубликаты отсутствуют."
   ]
  },
  {
   "cell_type": "code",
   "execution_count": null,
   "metadata": {
    "id": "_vsKinGUWVwk"
   },
   "outputs": [],
   "source": [
    "# просмотр уникальных значений столбца channel из датасета costs\n",
    "costs['channel'].value_counts() "
   ]
  },
  {
   "cell_type": "markdown",
   "metadata": {
    "id": "_vsKinGUWVwk"
   },
   "source": [
    "Неявные дубликаты отсутствуют."
   ]
  },
  {
   "cell_type": "markdown",
   "metadata": {
    "id": "_vsKinGUWVwk"
   },
   "source": [
    "#### Посмотрим с помощью методов info() и head() на получившиеся датасеты"
   ]
  },
  {
   "cell_type": "code",
   "execution_count": null,
   "metadata": {
    "id": "_vsKinGUWVwk"
   },
   "outputs": [],
   "source": [
    "# датасет visits\n",
    "visits.info()\n",
    "display(visits.head())"
   ]
  },
  {
   "cell_type": "code",
   "execution_count": null,
   "metadata": {
    "id": "_vsKinGUWVwk"
   },
   "outputs": [],
   "source": [
    "# датасет orders\n",
    "orders.info()\n",
    "display(orders.head())"
   ]
  },
  {
   "cell_type": "code",
   "execution_count": null,
   "metadata": {
    "id": "_vsKinGUWVwk"
   },
   "outputs": [],
   "source": [
    "# датасет costs\n",
    "costs.info()\n",
    "display(costs.head())"
   ]
  },
  {
   "cell_type": "markdown",
   "metadata": {
    "id": "_vsKinGUWVwk"
   },
   "source": [
    "Итак, датасеты готовы к дальнейшему анализу."
   ]
  },
  {
   "cell_type": "markdown",
   "metadata": {
    "id": "AS1eCqCpWVwk"
   },
   "source": [
    "### Задайте функции для расчёта и анализа LTV, ROI, удержания и конверсии.\n",
    "\n",
    "Разрешается использовать функции, с которыми вы познакомились в теоретических уроках.\n",
    "\n",
    "Это функции для вычисления значений метрик:\n",
    "\n",
    "- `get_profiles()` — для создания профилей пользователей,\n",
    "- `get_retention()` — для подсчёта Retention Rate,\n",
    "- `get_conversion()` — для подсчёта конверсии,\n",
    "- `get_ltv()` — для подсчёта LTV.\n",
    "\n",
    "А также функции для построения графиков:\n",
    "\n",
    "- `filter_data()` — для сглаживания данных,\n",
    "- `plot_retention()` — для построения графика Retention Rate,\n",
    "- `plot_conversion()` — для построения графика конверсии,\n",
    "- `plot_ltv_roi` — для визуализации LTV и ROI."
   ]
  },
  {
   "cell_type": "markdown",
   "metadata": {
    "id": "_vsKinGUWVwk"
   },
   "source": [
    "#### Зададим функцию для создания профилей пользователей get_profiles()"
   ]
  },
  {
   "cell_type": "code",
   "execution_count": null,
   "metadata": {
    "id": "igOfMgBpWVwl"
   },
   "outputs": [],
   "source": [
    "# функция для создания пользовательских профилей\n",
    "def get_profiles(visits, orders, costs):\n",
    "\n",
    "    # находим параметры первых посещений\n",
    "    profiles = (\n",
    "        visits.sort_values(by=['user_id', 'session_start'])\n",
    "        .groupby('user_id')\n",
    "        .agg(\n",
    "            {\n",
    "                'session_start': 'first',\n",
    "                'channel': 'first',\n",
    "                'device': 'first',\n",
    "                'region': 'first',\n",
    "            }\n",
    "        )\n",
    "        .rename(columns={'session_start': 'first_ts'})\n",
    "        .reset_index()\n",
    "    )\n",
    "\n",
    "    # для когортного анализа определяем дату первого посещения\n",
    "    # и первый день месяца, в который это посещение произошло\n",
    "    profiles['dt'] = profiles['first_ts'].dt.date\n",
    "    profiles['month'] = profiles['first_ts'].astype('datetime64[M]')\n",
    "\n",
    "    # добавляем признак платящих пользователей\n",
    "    profiles['payer'] = profiles['user_id'].isin(orders['user_id'].unique())\n",
    "\n",
    "    # считаем количество уникальных пользователей\n",
    "    # с одинаковыми источником и датой привлечения\n",
    "    new_users = (\n",
    "        profiles.groupby(['dt', 'channel'])\n",
    "        .agg({'user_id': 'nunique'})\n",
    "        .rename(columns={'user_id': 'unique_users'})\n",
    "        .reset_index()\n",
    "    )\n",
    "\n",
    "    # объединяем траты на рекламу и число привлечённых пользователей\n",
    "    costs = costs.merge(new_users, on=['dt', 'channel'], how='left')\n",
    "\n",
    "    # делим рекламные расходы на число привлечённых пользователей\n",
    "    costs['acquisition_cost'] = costs['costs'] / costs['unique_users']\n",
    "\n",
    "    # добавляем стоимость привлечения в профили\n",
    "    profiles = profiles.merge(\n",
    "        costs[['dt', 'channel', 'acquisition_cost']],\n",
    "        on=['dt', 'channel'],\n",
    "        how='left',\n",
    "    )\n",
    "\n",
    "    # стоимость привлечения органических пользователей равна нулю\n",
    "    profiles['acquisition_cost'] = profiles['acquisition_cost'].fillna(0)\n",
    "\n",
    "    return profiles"
   ]
  },
  {
   "cell_type": "markdown",
   "metadata": {
    "id": "_vsKinGUWVwk"
   },
   "source": [
    "#### Зададим функцию для расчёта удержания get_retention()"
   ]
  },
  {
   "cell_type": "code",
   "execution_count": null,
   "metadata": {
    "id": "igOfMgBpWVwl"
   },
   "outputs": [],
   "source": [
    "# функция для расчёта удержания\n",
    "\n",
    "def get_retention(\n",
    "    profiles,\n",
    "    sessions,\n",
    "    observation_date,\n",
    "    horizon_days,\n",
    "    dimensions=[],\n",
    "    ignore_horizon=False,\n",
    "):\n",
    "\n",
    "    # добавляем столбец payer в передаваемый dimensions список\n",
    "    dimensions = ['payer'] + dimensions\n",
    "\n",
    "    # исключаем пользователей, не «доживших» до горизонта анализа\n",
    "    last_suitable_acquisition_date = observation_date\n",
    "    if not ignore_horizon:\n",
    "        last_suitable_acquisition_date = observation_date - timedelta(\n",
    "            days=horizon_days - 1\n",
    "        )\n",
    "    result_raw = profiles.query('dt <= @last_suitable_acquisition_date')\n",
    "\n",
    "    # собираем «сырые» данные для расчёта удержания\n",
    "    result_raw = result_raw.merge(\n",
    "        sessions[['user_id', 'session_start']], on='user_id', how='left'\n",
    "    )\n",
    "    result_raw['lifetime'] = (\n",
    "        result_raw['session_start'] - result_raw['first_ts']\n",
    "    ).dt.days\n",
    "\n",
    "    # функция для группировки таблицы по желаемым признакам\n",
    "    def group_by_dimensions(df, dims, horizon_days):\n",
    "        result = df.pivot_table(\n",
    "            index=dims, columns='lifetime', values='user_id', aggfunc='nunique'\n",
    "        )\n",
    "        cohort_sizes = (\n",
    "            df.groupby(dims)\n",
    "            .agg({'user_id': 'nunique'})\n",
    "            .rename(columns={'user_id': 'cohort_size'})\n",
    "        )\n",
    "        result = cohort_sizes.merge(result, on=dims, how='left').fillna(0)\n",
    "        result = result.div(result['cohort_size'], axis=0)\n",
    "        result = result[['cohort_size'] + list(range(horizon_days))]\n",
    "        result['cohort_size'] = cohort_sizes\n",
    "        return result\n",
    "\n",
    "    # получаем таблицу удержания\n",
    "    result_grouped = group_by_dimensions(result_raw, dimensions, horizon_days)\n",
    "\n",
    "    # получаем таблицу динамики удержания\n",
    "    result_in_time = group_by_dimensions(\n",
    "        result_raw, dimensions + ['dt'], horizon_days\n",
    "    )\n",
    "\n",
    "    # возвращаем обе таблицы и сырые данные\n",
    "    return result_raw, result_grouped, result_in_time "
   ]
  },
  {
   "cell_type": "markdown",
   "metadata": {
    "id": "_vsKinGUWVwk"
   },
   "source": [
    "#### Зададим функцию для расчёта конверсии get_conversion()"
   ]
  },
  {
   "cell_type": "code",
   "execution_count": null,
   "metadata": {
    "id": "igOfMgBpWVwl"
   },
   "outputs": [],
   "source": [
    "# функция для расчёта конверсии\n",
    "\n",
    "def get_conversion(\n",
    "    profiles,\n",
    "    purchases,\n",
    "    observation_date,\n",
    "    horizon_days,\n",
    "    dimensions=[],\n",
    "    ignore_horizon=False,\n",
    "):\n",
    "\n",
    "    # исключаем пользователей, не «доживших» до горизонта анализа\n",
    "    last_suitable_acquisition_date = observation_date\n",
    "    if not ignore_horizon:\n",
    "        last_suitable_acquisition_date = observation_date - timedelta(\n",
    "            days=horizon_days - 1\n",
    "        )\n",
    "    result_raw = profiles.query('dt <= @last_suitable_acquisition_date')\n",
    "\n",
    "    # определяем дату и время первой покупки для каждого пользователя\n",
    "    first_purchases = (\n",
    "        purchases.sort_values(by=['user_id', 'event_dt'])\n",
    "        .groupby('user_id')\n",
    "        .agg({'event_dt': 'first'})\n",
    "        .reset_index()\n",
    "    )\n",
    "\n",
    "    # добавляем данные о покупках в профили\n",
    "    result_raw = result_raw.merge(\n",
    "        first_purchases[['user_id', 'event_dt']], on='user_id', how='left'\n",
    "    )\n",
    "\n",
    "    # рассчитываем лайфтайм для каждой покупки\n",
    "    result_raw['lifetime'] = (\n",
    "        result_raw['event_dt'] - result_raw['first_ts']\n",
    "    ).dt.days\n",
    "\n",
    "    # группируем по cohort, если в dimensions ничего нет\n",
    "    if len(dimensions) == 0:\n",
    "        result_raw['cohort'] = 'All users' \n",
    "        dimensions = dimensions + ['cohort']\n",
    "\n",
    "    # функция для группировки таблицы по желаемым признакам\n",
    "    def group_by_dimensions(df, dims, horizon_days):\n",
    "        result = df.pivot_table(\n",
    "            index=dims, columns='lifetime', values='user_id', aggfunc='nunique'\n",
    "        )\n",
    "        result = result.fillna(0).cumsum(axis = 1)\n",
    "        cohort_sizes = (\n",
    "            df.groupby(dims)\n",
    "            .agg({'user_id': 'nunique'})\n",
    "            .rename(columns={'user_id': 'cohort_size'})\n",
    "        )\n",
    "        result = cohort_sizes.merge(result, on=dims, how='left').fillna(0)\n",
    "        # делим каждую «ячейку» в строке на размер когорты\n",
    "        # и получаем conversion rate\n",
    "        result = result.div(result['cohort_size'], axis=0)\n",
    "        result = result[['cohort_size'] + list(range(horizon_days))]\n",
    "        result['cohort_size'] = cohort_sizes\n",
    "        return result\n",
    "\n",
    "    # получаем таблицу конверсии\n",
    "    result_grouped = group_by_dimensions(result_raw, dimensions, horizon_days)\n",
    "\n",
    "    # для таблицы динамики конверсии убираем 'cohort' из dimensions\n",
    "    if 'cohort' in dimensions: \n",
    "        dimensions = []\n",
    "\n",
    "    # получаем таблицу динамики конверсии\n",
    "    result_in_time = group_by_dimensions(\n",
    "        result_raw, dimensions + ['dt'], horizon_days\n",
    "    )\n",
    "\n",
    "    # возвращаем обе таблицы и сырые данные\n",
    "    return result_raw, result_grouped, result_in_time "
   ]
  },
  {
   "cell_type": "markdown",
   "metadata": {
    "id": "_vsKinGUWVwk"
   },
   "source": [
    "#### Зададим функцию для для расчёта LTV и ROI get_ltv()"
   ]
  },
  {
   "cell_type": "code",
   "execution_count": null,
   "metadata": {
    "id": "igOfMgBpWVwl"
   },
   "outputs": [],
   "source": [
    "# функция для расчёта LTV и ROI\n",
    "\n",
    "def get_ltv(\n",
    "    profiles,\n",
    "    purchases,\n",
    "    observation_date,\n",
    "    horizon_days,\n",
    "    dimensions=[],\n",
    "    ignore_horizon=False,\n",
    "):\n",
    "\n",
    "    # исключаем пользователей, не «доживших» до горизонта анализа\n",
    "    last_suitable_acquisition_date = observation_date\n",
    "    if not ignore_horizon:\n",
    "        last_suitable_acquisition_date = observation_date - timedelta(\n",
    "            days=horizon_days - 1\n",
    "        )\n",
    "    result_raw = profiles.query('dt <= @last_suitable_acquisition_date')\n",
    "    # добавляем данные о покупках в профили\n",
    "    result_raw = result_raw.merge(\n",
    "        purchases[['user_id', 'event_dt', 'revenue']], on='user_id', how='left'\n",
    "    )\n",
    "    # рассчитываем лайфтайм пользователя для каждой покупки\n",
    "    result_raw['lifetime'] = (\n",
    "        result_raw['event_dt'] - result_raw['first_ts']\n",
    "    ).dt.days\n",
    "    # группируем по cohort, если в dimensions ничего нет\n",
    "    if len(dimensions) == 0:\n",
    "        result_raw['cohort'] = 'All users'\n",
    "        dimensions = dimensions + ['cohort']\n",
    "\n",
    "    # функция группировки по желаемым признакам\n",
    "    def group_by_dimensions(df, dims, horizon_days):\n",
    "        # строим «треугольную» таблицу выручки\n",
    "        result = df.pivot_table(\n",
    "            index=dims, columns='lifetime', values='revenue', aggfunc='sum'\n",
    "        )\n",
    "        # находим сумму выручки с накоплением\n",
    "        result = result.fillna(0).cumsum(axis=1)\n",
    "        # вычисляем размеры когорт\n",
    "        cohort_sizes = (\n",
    "            df.groupby(dims)\n",
    "            .agg({'user_id': 'nunique'})\n",
    "            .rename(columns={'user_id': 'cohort_size'})\n",
    "        )\n",
    "        # объединяем размеры когорт и таблицу выручки\n",
    "        result = cohort_sizes.merge(result, on=dims, how='left').fillna(0)\n",
    "        # считаем LTV: делим каждую «ячейку» в строке на размер когорты\n",
    "        result = result.div(result['cohort_size'], axis=0)\n",
    "        # исключаем все лайфтаймы, превышающие горизонт анализа\n",
    "        result = result[['cohort_size'] + list(range(horizon_days))]\n",
    "        # восстанавливаем размеры когорт\n",
    "        result['cohort_size'] = cohort_sizes\n",
    "\n",
    "        # собираем датафрейм с данными пользователей и значениями CAC, \n",
    "        # добавляя параметры из dimensions\n",
    "        cac = df[['user_id', 'acquisition_cost'] + dims].drop_duplicates()\n",
    "\n",
    "        # считаем средний CAC по параметрам из dimensions\n",
    "        cac = (\n",
    "            cac.groupby(dims)\n",
    "            .agg({'acquisition_cost': 'mean'})\n",
    "            .rename(columns={'acquisition_cost': 'cac'})\n",
    "        )\n",
    "\n",
    "        # считаем ROI: делим LTV на CAC\n",
    "        roi = result.div(cac['cac'], axis=0)\n",
    "\n",
    "        # удаляем строки с бесконечным ROI\n",
    "        roi = roi[~roi['cohort_size'].isin([np.inf])]\n",
    "\n",
    "        # восстанавливаем размеры когорт в таблице ROI\n",
    "        roi['cohort_size'] = cohort_sizes\n",
    "\n",
    "        # добавляем CAC в таблицу ROI\n",
    "        roi['cac'] = cac['cac']\n",
    "\n",
    "        # в финальной таблице оставляем размеры когорт, CAC\n",
    "        # и ROI в лайфтаймы, не превышающие горизонт анализа\n",
    "        roi = roi[['cohort_size', 'cac'] + list(range(horizon_days))]\n",
    "\n",
    "        # возвращаем таблицы LTV и ROI\n",
    "        return result, roi\n",
    "\n",
    "    # получаем таблицы LTV и ROI\n",
    "    result_grouped, roi_grouped = group_by_dimensions(\n",
    "        result_raw, dimensions, horizon_days\n",
    "    )\n",
    "\n",
    "    # для таблиц динамики убираем 'cohort' из dimensions\n",
    "    if 'cohort' in dimensions:\n",
    "        dimensions = []\n",
    "\n",
    "    # получаем таблицы динамики LTV и ROI\n",
    "    result_in_time, roi_in_time = group_by_dimensions(\n",
    "        result_raw, dimensions + ['dt'], horizon_days\n",
    "    )\n",
    "\n",
    "    return (\n",
    "        result_raw,  # сырые данные\n",
    "        result_grouped,  # таблица LTV\n",
    "        result_in_time,  # таблица динамики LTV\n",
    "        roi_grouped,  # таблица ROI\n",
    "        roi_in_time,  # таблица динамики ROI\n",
    "    ) \n"
   ]
  },
  {
   "cell_type": "markdown",
   "metadata": {
    "id": "_vsKinGUWVwk"
   },
   "source": [
    "#### Зададим функции для визуализации этих метрик — filter_data(), plot_retention(), plot_conversion() и plot_ltv_roi()."
   ]
  },
  {
   "cell_type": "code",
   "execution_count": null,
   "metadata": {
    "id": "igOfMgBpWVwl"
   },
   "outputs": [],
   "source": [
    "# функция для сглаживания фрейма\n",
    "\n",
    "def filter_data(df, window):\n",
    "    # для каждого столбца применяем скользящее среднее\n",
    "    for column in df.columns.values:\n",
    "        df[column] = df[column].rolling(window).mean() \n",
    "    return df \n",
    "\n",
    "# функция для визуализации удержания\n",
    "\n",
    "def plot_retention(retention, retention_history, horizon, window=7):\n",
    "\n",
    "    # задаём размер сетки для графиков\n",
    "    plt.figure(figsize=(15, 10))\n",
    "\n",
    "    # исключаем размеры когорт и удержание первого дня\n",
    "    retention = retention.drop(columns=['cohort_size', 0])\n",
    "    # в таблице динамики оставляем только нужный лайфтайм\n",
    "    retention_history = retention_history.drop(columns=['cohort_size'])[\n",
    "        [horizon - 1]\n",
    "    ]\n",
    "\n",
    "    # если в индексах таблицы удержания только payer,\n",
    "    # добавляем второй признак — cohort\n",
    "    if retention.index.nlevels == 1:\n",
    "        retention['cohort'] = 'All users'\n",
    "        retention = retention.reset_index().set_index(['cohort', 'payer'])\n",
    "\n",
    "    # в таблице графиков — два столбца и две строки, четыре ячейки\n",
    "    # в первой строим кривые удержания платящих пользователей\n",
    "    ax1 = plt.subplot(2, 2, 1)\n",
    "    retention.query('payer == True').droplevel('payer').T.plot(\n",
    "        grid=True, ax=ax1\n",
    "    )\n",
    "    plt.legend()\n",
    "    plt.xlabel('Лайфтайм')\n",
    "    plt.title('Удержание платящих пользователей')\n",
    "\n",
    "    # во второй ячейке строим кривые удержания неплатящих\n",
    "    # вертикальная ось — от графика из первой ячейки\n",
    "    ax2 = plt.subplot(2, 2, 2, sharey=ax1)\n",
    "    retention.query('payer == False').droplevel('payer').T.plot(\n",
    "        grid=True, ax=ax2\n",
    "    )\n",
    "    plt.legend()\n",
    "    plt.xlabel('Лайфтайм')\n",
    "    plt.title('Удержание неплатящих пользователей')\n",
    "\n",
    "    # в третьей ячейке — динамика удержания платящих\n",
    "    ax3 = plt.subplot(2, 2, 3)\n",
    "    # получаем названия столбцов для сводной таблицы\n",
    "    columns = [\n",
    "        name\n",
    "        for name in retention_history.index.names\n",
    "        if name not in ['dt', 'payer']\n",
    "    ]\n",
    "    # фильтруем данные и строим график\n",
    "    filtered_data = retention_history.query('payer == True').pivot_table(\n",
    "        index='dt', columns=columns, values=horizon - 1, aggfunc='mean'\n",
    "    )\n",
    "    filter_data(filtered_data, window).plot(grid=True, ax=ax3)\n",
    "    plt.xlabel('Дата привлечения')\n",
    "    plt.title(\n",
    "        'Динамика удержания платящих пользователей на {}-й день'.format(\n",
    "            horizon\n",
    "        )\n",
    "    )\n",
    "\n",
    "    # в чётвертой ячейке — динамика удержания неплатящих\n",
    "    ax4 = plt.subplot(2, 2, 4, sharey=ax3)\n",
    "    # фильтруем данные и строим график\n",
    "    filtered_data = retention_history.query('payer == False').pivot_table(\n",
    "        index='dt', columns=columns, values=horizon - 1, aggfunc='mean'\n",
    "    )\n",
    "    filter_data(filtered_data, window).plot(grid=True, ax=ax4)\n",
    "    plt.xlabel('Дата привлечения')\n",
    "    plt.title(\n",
    "        'Динамика удержания неплатящих пользователей на {}-й день'.format(\n",
    "            horizon\n",
    "        )\n",
    "    )\n",
    "    \n",
    "    plt.tight_layout()\n",
    "    plt.show() \n",
    "\n",
    "# функция для визуализации конверсии\n",
    "\n",
    "def plot_conversion(conversion, conversion_history, horizon, window=7):\n",
    "\n",
    "    # задаём размер сетки для графиков\n",
    "    plt.figure(figsize=(15, 5))\n",
    "\n",
    "    # исключаем размеры когорт\n",
    "    conversion = conversion.drop(columns=['cohort_size'])\n",
    "    # в таблице динамики оставляем только нужный лайфтайм\n",
    "    conversion_history = conversion_history.drop(columns=['cohort_size'])[\n",
    "        [horizon - 1]\n",
    "    ]\n",
    "\n",
    "    # первый график — кривые конверсии\n",
    "    ax1 = plt.subplot(1, 2, 1)\n",
    "    conversion.T.plot(grid=True, ax=ax1)\n",
    "    plt.legend()\n",
    "    plt.xlabel('Лайфтайм')\n",
    "    plt.title('Конверсия пользователей')\n",
    "\n",
    "    # второй график — динамика конверсии\n",
    "    ax2 = plt.subplot(1, 2, 2, sharey=ax1)\n",
    "    columns = [\n",
    "        # столбцами сводной таблицы станут все столбцы индекса, кроме даты\n",
    "        name for name in conversion_history.index.names if name not in ['dt']\n",
    "    ]\n",
    "    filtered_data = conversion_history.pivot_table(\n",
    "        index='dt', columns=columns, values=horizon - 1, aggfunc='mean'\n",
    "    )\n",
    "    filter_data(filtered_data, window).plot(grid=True, ax=ax2)\n",
    "    plt.xlabel('Дата привлечения')\n",
    "    plt.title('Динамика конверсии пользователей на {}-й день'.format(horizon))\n",
    "\n",
    "    plt.tight_layout()\n",
    "    plt.show() \n",
    "\n",
    "# функция для визуализации LTV и ROI\n",
    "\n",
    "def plot_ltv_roi(ltv, ltv_history, roi, roi_history, horizon, window=7):\n",
    "\n",
    "    # задаём сетку отрисовки графиков\n",
    "    plt.figure(figsize=(20, 10))\n",
    "\n",
    "    # из таблицы ltv исключаем размеры когорт\n",
    "    ltv = ltv.drop(columns=['cohort_size'])\n",
    "    # в таблице динамики ltv оставляем только нужный лайфтайм\n",
    "    ltv_history = ltv_history.drop(columns=['cohort_size'])[[horizon - 1]]\n",
    "\n",
    "    # стоимость привлечения запишем в отдельный фрейм\n",
    "    cac_history = roi_history[['cac']]\n",
    "\n",
    "    # из таблицы roi исключаем размеры когорт и cac\n",
    "    roi = roi.drop(columns=['cohort_size', 'cac'])\n",
    "    # в таблице динамики roi оставляем только нужный лайфтайм\n",
    "    roi_history = roi_history.drop(columns=['cohort_size', 'cac'])[\n",
    "        [horizon - 1]\n",
    "    ]\n",
    "\n",
    "    # первый график — кривые ltv\n",
    "    ax1 = plt.subplot(2, 3, 1)\n",
    "    ltv.T.plot(grid=True, ax=ax1)\n",
    "    plt.legend()\n",
    "    plt.xlabel('Лайфтайм')\n",
    "    plt.title('LTV')\n",
    "\n",
    "    # второй график — динамика ltv\n",
    "    ax2 = plt.subplot(2, 3, 2, sharey=ax1)\n",
    "    # столбцами сводной таблицы станут все столбцы индекса, кроме даты\n",
    "    columns = [name for name in ltv_history.index.names if name not in ['dt']]\n",
    "    filtered_data = ltv_history.pivot_table(\n",
    "        index='dt', columns=columns, values=horizon - 1, aggfunc='mean'\n",
    "    )\n",
    "    filter_data(filtered_data, window).plot(grid=True, ax=ax2)\n",
    "    plt.xlabel('Дата привлечения')\n",
    "    plt.title('Динамика LTV пользователей на {}-й день'.format(horizon))\n",
    "\n",
    "    # третий график — динамика cac\n",
    "    ax3 = plt.subplot(2, 3, 3, sharey=ax1)\n",
    "    # столбцами сводной таблицы станут все столбцы индекса, кроме даты\n",
    "    columns = [name for name in cac_history.index.names if name not in ['dt']]\n",
    "    filtered_data = cac_history.pivot_table(\n",
    "        index='dt', columns=columns, values='cac', aggfunc='mean'\n",
    "    )\n",
    "    filter_data(filtered_data, window).plot(grid=True, ax=ax3)\n",
    "    plt.xlabel('Дата привлечения')\n",
    "    plt.title('Динамика стоимости привлечения пользователей')\n",
    "\n",
    "    # четвёртый график — кривые roi\n",
    "    ax4 = plt.subplot(2, 3, 4)\n",
    "    roi.T.plot(grid=True, ax=ax4)\n",
    "    plt.axhline(y=1, color='red', linestyle='--', label='Уровень окупаемости')\n",
    "    plt.legend()\n",
    "    plt.xlabel('Лайфтайм')\n",
    "    plt.title('ROI')\n",
    "\n",
    "    # пятый график — динамика roi\n",
    "    ax5 = plt.subplot(2, 3, 5, sharey=ax4)\n",
    "    # столбцами сводной таблицы станут все столбцы индекса, кроме даты\n",
    "    columns = [name for name in roi_history.index.names if name not in ['dt']]\n",
    "    filtered_data = roi_history.pivot_table(\n",
    "        index='dt', columns=columns, values=horizon - 1, aggfunc='mean'\n",
    "    )\n",
    "    filter_data(filtered_data, window).plot(grid=True, ax=ax5)\n",
    "    plt.axhline(y=1, color='red', linestyle='--', label='Уровень окупаемости')\n",
    "    plt.xlabel('Дата привлечения')\n",
    "    plt.title('Динамика ROI пользователей на {}-й день'.format(horizon))\n",
    "\n",
    "    plt.tight_layout()\n",
    "    plt.show() "
   ]
  },
  {
   "cell_type": "markdown",
   "metadata": {
    "id": "V-KBT-KMWVwl"
   },
   "source": [
    "### Исследовательский анализ данных\n",
    "\n",
    "- Составьте профили пользователей. Определите минимальную и максимальную даты привлечения пользователей.\n",
    "- Выясните, из каких стран пользователи приходят в приложение и на какую страну приходится больше всего платящих пользователей. Постройте таблицу, отражающую количество пользователей и долю платящих из каждой страны.\n",
    "- Узнайте, какими устройствами пользуются клиенты и какие устройства предпочитают платящие пользователи. Постройте таблицу, отражающую количество пользователей и долю платящих для каждого устройства.\n",
    "- Изучите рекламные источники привлечения и определите каналы, из которых пришло больше всего платящих пользователей. Постройте таблицу, отражающую количество пользователей и долю платящих для каждого канала привлечения.\n",
    "\n",
    "После каждого пункта сформулируйте выводы."
   ]
  },
  {
   "cell_type": "markdown",
   "metadata": {
    "id": "_vsKinGUWVwk"
   },
   "source": [
    "#### Составим профили пользователей и определим минимальную и максимальную даты привлечения пользователей."
   ]
  },
  {
   "cell_type": "code",
   "execution_count": null,
   "metadata": {
    "id": "oOLsbJpNWVwm"
   },
   "outputs": [],
   "source": [
    "# получаем профили пользователей\n",
    "profiles = get_profiles(visits, orders, costs)\n",
    "print(profiles.head(5)) "
   ]
  },
  {
   "cell_type": "code",
   "execution_count": null,
   "metadata": {
    "id": "oOLsbJpNWVwm"
   },
   "outputs": [],
   "source": [
    "# сохраним минимальную дату в переменной min_date\n",
    "min_date = profiles['first_ts'].min()\n",
    "# сохраним максимальную дату в переменной max_date\n",
    "max_date =  profiles['first_ts'].max()"
   ]
  },
  {
   "cell_type": "code",
   "execution_count": null,
   "metadata": {
    "id": "oOLsbJpNWVwm"
   },
   "outputs": [],
   "source": [
    "print(min_date)\n",
    "print(max_date)"
   ]
  },
  {
   "cell_type": "markdown",
   "metadata": {
    "id": "oOLsbJpNWVwm"
   },
   "source": [
    "В таблице profiles собраны все привлеченные пользователи с 1 мая 2019 года по 27 октября 2019 года. \n",
    "\n",
    "В столбце payer пользователю, совершившему хотя бы одну покупку в анализируемом периоде, присвоен статус \"True\", у остальных пользователей - статус \"False\".\n",
    "\n",
    "В столбце acquisition_cost указана стоимость привлечения каждого пользователя."
   ]
  },
  {
   "cell_type": "markdown",
   "metadata": {
    "id": "_vsKinGUWVwk"
   },
   "source": [
    "#### Определим из каких стран пользователи приходят в приложение "
   ]
  },
  {
   "cell_type": "code",
   "execution_count": null,
   "metadata": {
    "id": "oOLsbJpNWVwm"
   },
   "outputs": [],
   "source": [
    "#построим таблицу, отражающую количество пользователей и долю платящих из каждой страны.\n",
    "profiles.groupby('region').agg({'payer': ['count', 'sum', 'mean']})"
   ]
  },
  {
   "cell_type": "markdown",
   "metadata": {
    "id": "oOLsbJpNWVwm"
   },
   "source": [
    "В приложение заходят из 4 стран: Франция, Германия, Великобритания и Соединенные штаты Америки. Больше всего платящих пользователей приходит из США, а меньше всего - из Германии."
   ]
  },
  {
   "cell_type": "markdown",
   "metadata": {
    "id": "_vsKinGUWVwk"
   },
   "source": [
    "#### Определим какими устройствами пользуются клиенты"
   ]
  },
  {
   "cell_type": "code",
   "execution_count": null,
   "metadata": {
    "id": "oOLsbJpNWVwm"
   },
   "outputs": [],
   "source": [
    "# построим таблицу, отражающую количество пользователей и долю платящих для каждого устройства.\n",
    "profiles.groupby('device').agg({'payer': ['count', 'sum', 'mean']})"
   ]
  },
  {
   "cell_type": "markdown",
   "metadata": {
    "id": "oOLsbJpNWVwm"
   },
   "source": [
    "При использовании приложения клиенты используют Android, Mac, PC и iPhone. Самое популярное устройство среди платящих клиентов является iPhone, на втором месте - Android. "
   ]
  },
  {
   "cell_type": "markdown",
   "metadata": {
    "id": "_vsKinGUWVwk"
   },
   "source": [
    "#### Изучим рекламные источники привлечения "
   ]
  },
  {
   "cell_type": "code",
   "execution_count": null,
   "metadata": {
    "id": "oOLsbJpNWVwm"
   },
   "outputs": [],
   "source": [
    "# построим таблицу, отражающую количество пользователей и долю платящих для каждого канала привлечения.\n",
    "profiles.groupby('channel').agg({'payer': ['count', 'sum']})"
   ]
  },
  {
   "cell_type": "markdown",
   "metadata": {
    "id": "oOLsbJpNWVwm"
   },
   "source": [
    "Рекламные источники довольно разнообразны: AdNonSense, FaceBoom, LeapBob, MediaTornado, OppleCreativeMedia, RocketSuperAds, TipTop, WahooNetBanner, YRabbit, lambdaMediaAds и organic.\n",
    "Наиболее трафиконосным каналом и приносящим больше всего платящих пользователей, является FaceBoom, на втором месте - TipTop, а на третьем - organic (из поисковых систем или условно-бесплатных источников)."
   ]
  },
  {
   "cell_type": "markdown",
   "metadata": {
    "id": "80LRB5-eWVwm"
   },
   "source": [
    "### Маркетинг\n",
    "\n",
    "- Посчитайте общую сумму расходов на маркетинг.\n",
    "- Выясните, как траты распределены по рекламным источникам, то есть сколько денег потратили на каждый источник.\n",
    "- Постройте визуализацию динамики изменения расходов во времени (по неделям и месяцам) по каждому источнику. Постарайтесь отразить это на одном графике.\n",
    "- Узнайте, сколько в среднем стоило привлечение одного пользователя (CAC) из каждого источника. Используйте профили пользователей.\n",
    "\n",
    "Напишите промежуточные выводы."
   ]
  },
  {
   "cell_type": "markdown",
   "metadata": {
    "id": "_vsKinGUWVwk"
   },
   "source": [
    "#### Посчитаем общую сумму расходов на маркетинг."
   ]
  },
  {
   "cell_type": "code",
   "execution_count": null,
   "metadata": {
    "id": "DQE9emXqWVwm"
   },
   "outputs": [],
   "source": [
    "costs['costs'].sum()"
   ]
  },
  {
   "cell_type": "markdown",
   "metadata": {
    "id": "DQE9emXqWVwm"
   },
   "source": [
    "Общая сумма всех расходов на рекламу за исследуемый период составила 105 497$."
   ]
  },
  {
   "cell_type": "markdown",
   "metadata": {
    "id": "_vsKinGUWVwk"
   },
   "source": [
    "#### Определим, как распределены траты по рекламным источникам"
   ]
  },
  {
   "cell_type": "code",
   "execution_count": null,
   "metadata": {
    "id": "DQE9emXqWVwm"
   },
   "outputs": [],
   "source": [
    "costs.pivot_table(index = ['channel'], values = 'costs', aggfunc = 'sum').sort_values(by='costs', ascending = False)"
   ]
  },
  {
   "cell_type": "markdown",
   "metadata": {
    "id": "DQE9emXqWVwm"
   },
   "source": [
    "Больше всего рекламных денег было потрачено на привлечение пользователей из канала TipTop, на втором месте - FaceBoom, а на третьем - WahooNetBanner. Меньше всего - на каналы YRabbit и MediaTornado."
   ]
  },
  {
   "cell_type": "markdown",
   "metadata": {
    "id": "_vsKinGUWVwk"
   },
   "source": [
    "#### Построим визуализацию динамики изменения расходов во времени по каждому источнику"
   ]
  },
  {
   "cell_type": "code",
   "execution_count": null,
   "metadata": {
    "id": "DQE9emXqWVwm"
   },
   "outputs": [],
   "source": [
    "costs.pivot_table(index='week', columns = 'channel', values='costs', aggfunc='sum').plot(kind = 'line', figsize=(10,6), grid=True);\n",
    "plt.title(\"Динамика изменений расходов по каждому источнику\")\n",
    "plt.xlabel(\"Недели\")\n",
    "plt.ylabel(\"Расходы, $\");"
   ]
  },
  {
   "cell_type": "markdown",
   "metadata": {
    "id": "DQE9emXqWVwm"
   },
   "source": [
    "Согласно графику, сумма расходов в анализируемом периоде была неравномерной. \n",
    "\n",
    "На каналы TipTop и FaceBoom сумма рекламного бюджета увеличивалась с каждой неделей.\n",
    "\n",
    "На остальные каналы в анализируемом периоде не было увеличения бюджета, поэтому сумма расходов была стабильна. "
   ]
  },
  {
   "cell_type": "markdown",
   "metadata": {
    "id": "_vsKinGUWVwk"
   },
   "source": [
    "#### Определим среднюю стоимость привлечения одного пользователя (CAC) из каждого источника"
   ]
  },
  {
   "cell_type": "code",
   "execution_count": null,
   "metadata": {
    "id": "DQE9emXqWVwm"
   },
   "outputs": [],
   "source": [
    "# построим таблицу, отражающую среднюю стоимость привлечения одного пользователя для каждого канала привлечения \n",
    "# и с распределением по платящим и неплатящим пользователям.\n",
    "profiles.pivot_table(index = 'channel', values = 'acquisition_cost', aggfunc = 'mean')\\\n",
    ".sort_values(by='acquisition_cost', ascending = False)"
   ]
  },
  {
   "cell_type": "markdown",
   "metadata": {
    "id": "DQE9emXqWVwm"
   },
   "source": [
    "Стоит отметить, что наибольшая стоимость привлечения одного пользователя у канала TipTop, на втором месте - FaceBoom, на третьем  - AdNonSense. Дешевле всего обходятся пользователи из канала YRabbit, MediaTornado и LeapBob."
   ]
  },
  {
   "cell_type": "markdown",
   "metadata": {
    "id": "poDjrQVHWVwn"
   },
   "source": [
    "### Оцените окупаемость рекламы\n",
    "\n",
    "Используя графики LTV, ROI и CAC, проанализируйте окупаемость рекламы. Считайте, что на календаре 1 ноября 2019 года, а в бизнес-плане заложено, что пользователи должны окупаться не позднее чем через две недели после привлечения. Необходимость включения в анализ органических пользователей определите самостоятельно.\n",
    "\n",
    "- Проанализируйте окупаемость рекламы c помощью графиков LTV и ROI, а также графики динамики LTV, CAC и ROI.\n",
    "- Проверьте конверсию пользователей и динамику её изменения. То же самое сделайте с удержанием пользователей. Постройте и изучите графики конверсии и удержания.\n",
    "- Проанализируйте окупаемость рекламы с разбивкой по устройствам. Постройте графики LTV и ROI, а также графики динамики LTV, CAC и ROI.\n",
    "- Проанализируйте окупаемость рекламы с разбивкой по странам. Постройте графики LTV и ROI, а также графики динамики LTV, CAC и ROI.\n",
    "- Проанализируйте окупаемость рекламы с разбивкой по рекламным каналам. Постройте графики LTV и ROI, а также графики динамики LTV, CAC и ROI.\n",
    "- Ответьте на такие вопросы:\n",
    "    - Окупается ли реклама, направленная на привлечение пользователей в целом?\n",
    "    - Какие устройства, страны и рекламные каналы могут оказывать негативное влияние на окупаемость рекламы?\n",
    "    - Чем могут быть вызваны проблемы окупаемости?\n",
    "\n",
    "Напишите вывод, опишите возможные причины обнаруженных проблем и промежуточные рекомендации для рекламного отдела."
   ]
  },
  {
   "cell_type": "markdown",
   "metadata": {
    "id": "_vsKinGUWVwk"
   },
   "source": [
    "#### Проанализируем окупаемость рекламы c помощью графиков LTV и ROI, а также графиков динамики LTV, CAC и ROI."
   ]
  },
  {
   "cell_type": "code",
   "execution_count": null,
   "metadata": {
    "id": "hbNu9EXeWVwo"
   },
   "outputs": [],
   "source": [
    "observation_date = datetime(2019, 11, 1).date()  # момент анализа\n",
    "horizon_days = 14  # горизонт анализа \n",
    "\n",
    "# считаем LTV и ROI\n",
    "ltv_raw, ltv_grouped, ltv_history, roi_grouped, roi_history = get_ltv(\n",
    "    profiles, orders, observation_date, horizon_days\n",
    ")\n",
    "\n",
    "# строим графики\n",
    "plot_ltv_roi(ltv_grouped, ltv_history, roi_grouped, roi_history, horizon_days) \n"
   ]
  },
  {
   "cell_type": "markdown",
   "metadata": {
    "id": "hbNu9EXeWVwo"
   },
   "source": [
    "По графикам можно сделать такие выводы:\n",
    "\n",
    "•\tРеклама почти окупается. ROI к концу 14 дня — чуть менее 100%.\n",
    "\n",
    "•\tCAC возрастает, поскольку в анализируемом периоде увеличивался рекламный бюджет.\n",
    "\n",
    "•\tНа LTV влияет сезонный фактор, но и этот показатель достаточно стабилен."
   ]
  },
  {
   "cell_type": "markdown",
   "metadata": {
    "id": "_vsKinGUWVwk"
   },
   "source": [
    "#### Проверим конверсию пользователей и динамику её изменения"
   ]
  },
  {
   "cell_type": "code",
   "execution_count": null,
   "metadata": {
    "id": "hbNu9EXeWVwo"
   },
   "outputs": [],
   "source": [
    "# смотрим конверсию и динамику её изменения\n",
    "\n",
    "conversion_raw, conversion_grouped, conversion_history = get_conversion(\n",
    "    profiles, orders, observation_date, horizon_days\n",
    ")\n",
    "plot_conversion(conversion_grouped, conversion_history, horizon_days) "
   ]
  },
  {
   "cell_type": "markdown",
   "metadata": {
    "id": "hbNu9EXeWVwo"
   },
   "source": [
    "Согласно графику, конверсия в оплату происходит в первые 4 дня. Дальше прирост уже не такой заметный."
   ]
  },
  {
   "cell_type": "markdown",
   "metadata": {
    "id": "_vsKinGUWVwk"
   },
   "source": [
    "#### Проверим удержание пользователей и динамику его изменения"
   ]
  },
  {
   "cell_type": "code",
   "execution_count": null,
   "metadata": {
    "id": "hbNu9EXeWVwo"
   },
   "outputs": [],
   "source": [
    "# смотрим удержание и динамику его изменения\n",
    "retention_raw, retention_grouped, retention_history = get_retention(\n",
    "    profiles, visits, observation_date, horizon_days\n",
    ")\n",
    "\n",
    "plot_retention(retention_grouped, retention_history, horizon_days) "
   ]
  },
  {
   "cell_type": "markdown",
   "metadata": {
    "id": "hbNu9EXeWVwo"
   },
   "source": [
    "Согласно графикам, удержание платящих пользователей выше, чем неплатящих."
   ]
  },
  {
   "cell_type": "markdown",
   "metadata": {
    "id": "_vsKinGUWVwk"
   },
   "source": [
    "#### Проанализируем окупаемость рекламы с разбивкой по устройствам"
   ]
  },
  {
   "cell_type": "code",
   "execution_count": null,
   "metadata": {
    "id": "hbNu9EXeWVwo"
   },
   "outputs": [],
   "source": [
    "# смотрим окупаемость с разбивкой по устройствам\n",
    "\n",
    "dimensions = ['device']\n",
    "\n",
    "ltv_raw, ltv_grouped, ltv_history, roi_grouped, roi_history = get_ltv(\n",
    "    profiles, orders, observation_date, horizon_days, dimensions=dimensions\n",
    ")\n",
    "\n",
    "plot_ltv_roi(\n",
    "    ltv_grouped, ltv_history, roi_grouped, roi_history, horizon_days, window=14\n",
    ") \n"
   ]
  },
  {
   "cell_type": "markdown",
   "metadata": {
    "id": "hbNu9EXeWVwo"
   },
   "source": [
    "По графикам можно сделать такие выводы:\n",
    "\n",
    "•\tРеклама не окупается только для пользователей с iPhone и MAC. Дополнительно можно отметить, что реклама для пользователей с iPhone и MAC стабильно не окупается уже с середины июля.\n",
    "\n",
    "•\tLTV всё так же подвержен сезонности, но стабилен.\n",
    "\n",
    "•\tСтоимость привлечения пользователей со всеми устройствами увеличивается, при этом явными лидерами по увеличению CAC являются пользователи iPhone и MAC.\n",
    "\n",
    "•\tУ пользователей PC реклама окупается лучше всего, при этом затраты CAC самые маленькие, однако значение показателя LTV у него наименьшее в сравнении с другими, но не критично."
   ]
  },
  {
   "cell_type": "markdown",
   "metadata": {
    "id": "_vsKinGUWVwk"
   },
   "source": [
    "#### Проанализируем окупаемость рекламы с разбивкой по странам"
   ]
  },
  {
   "cell_type": "code",
   "execution_count": null,
   "metadata": {
    "id": "hbNu9EXeWVwo"
   },
   "outputs": [],
   "source": [
    "# смотрим окупаемость с разбивкой по странам\n",
    "\n",
    "dimensions = ['region']\n",
    "\n",
    "ltv_raw, ltv_grouped, ltv_history, roi_grouped, roi_history = get_ltv(\n",
    "    profiles, orders, observation_date, horizon_days, dimensions=dimensions\n",
    ")\n",
    "\n",
    "plot_ltv_roi(\n",
    "    ltv_grouped, ltv_history, roi_grouped, roi_history, horizon_days, window=14\n",
    ") "
   ]
  },
  {
   "cell_type": "markdown",
   "metadata": {
    "id": "hbNu9EXeWVwo"
   },
   "source": [
    "По графикам можно сделать такие выводы:\n",
    "\n",
    "•\tРеклама не окупается только в США, при этом LTV в США в 2 раза выше в сравнении с другими странами, а показатель CAC в США на конец анализируемого периода превышает аналогичный показатель в других странах почти в 4 раза.\n",
    "\n",
    "•\tВ остальных странах стоимость привлечения стабильна и одинакова, реклама окупается почти на 200% (значение показателя ROI на последний день горизонта анализа).\n",
    "\n",
    "•\tROI пользователей на 14-й день из США к середине мая составлял примерно 175%, что видимо и сподвигло выделить дополнительный рекламный бюджет на привлечение пользователей из США. Однако уже начиная с середины июня реклама перестала окупаться. "
   ]
  },
  {
   "cell_type": "markdown",
   "metadata": {
    "id": "_vsKinGUWVwk"
   },
   "source": [
    "#### Проанализируем окупаемость рекламы с разбивкой по рекламным каналам"
   ]
  },
  {
   "cell_type": "code",
   "execution_count": null,
   "metadata": {
    "id": "hbNu9EXeWVwo"
   },
   "outputs": [],
   "source": [
    "# смотрим окупаемость с разбивкой по источникам привлечения\n",
    "\n",
    "dimensions = ['channel']\n",
    "\n",
    "ltv_raw, ltv_grouped, ltv_history, roi_grouped, roi_history = get_ltv(\n",
    "    profiles, orders, observation_date, horizon_days, dimensions=dimensions\n",
    ")\n",
    "\n",
    "plot_ltv_roi(\n",
    "    ltv_grouped, ltv_history, roi_grouped, roi_history, horizon_days, window=14\n",
    ") "
   ]
  },
  {
   "cell_type": "markdown",
   "metadata": {
    "id": "hbNu9EXeWVwo"
   },
   "source": [
    "По графикам можно сделать такие выводы:\n",
    "\n",
    "•\tУ канала TipTop сравнительно высокий показатель LTV, но за счет большого увеличения CAC реклама не окупается. ROI на 14 день показывает 50%, и этот показатель стабилен в течение всего анализируемого периода.\n",
    "\n",
    "•\tУ канала YRabbit не самый высокий показатель LTV, но за счет низкой и стабильной стоимости привлечения одного клиента реклама окупается почти в 3 раза. ROI на 14 день показывает максимальный результат, доходящий до 700%.\n",
    "\n",
    "•\tСамое высокое значение показателя LTV у пользователей, пришедших по каналу привлечения lambdaMediaAds. CAC стабилен, по стоимости находится по середине в сравнении с другими каналами. ROI на 14 день показывает более 250% и в динамике показатель более-менее стабилен."
   ]
  },
  {
   "cell_type": "markdown",
   "metadata": {
    "id": "Jn9XBfZCWVwo"
   },
   "source": [
    "### Выводы:"
   ]
  },
  {
   "cell_type": "markdown",
   "metadata": {
    "id": "Y8A6E79yWVwo"
   },
   "source": [
    "Учитывая вышеизложенное, можно выделить следующее:\n",
    "- В анализе участвовали все привлеченные пользователи с 1 мая 2019 года по 27 октября 2019 года.\n",
    "- В приложение заходят из 4 стран: Франция, Германия, Великобритания и Соединенные штаты Америки. Больше всего платящих пользователей приходит из США, а меньше всего - из Германии.\n",
    "\n",
    "- При использовании приложения клиенты используют Android, Mac, PC и iPhone. Самое популярное устройство среди платящих клиентов является iPhone, на втором месте - Android. \n",
    "\n",
    "- Рекламные источники довольно разнообразны: AdNonSense, FaceBoom, LeapBob, MediaTornado, OppleCreativeMedia, RocketSuperAds, TipTop, WahooNetBanner, YRabbit, lambdaMediaAds и organic. Наиболее трафиконосным каналом и приносящим больше всего платящих пользователей, является FaceBoom, на втором месте - TipTop, а на третьем - organic (из поисковых систем или условно-бесплатных источников).\n",
    "\n",
    "- Общая сумма всех расходов на рекламу за исследуемый период составила 105 497$.\n",
    "- Больше всего рекламных денег было потрачено на привлечение пользователей из канала TipTop, на втором месте - FaceBoom, а на третьем - WahooNetBanner. Меньше всего - на каналы YRabbit и MediaTornado.\n",
    "\n",
    "- Согласно графику, сумма расходов в анализируемом периоде была неравномерной. На каналы TipTop и FaceBoom сумма рекламного бюджета увеличивалась с каждой неделей.На остальные каналы в анализируемом периоде не было увеличения бюджета, поэтому сумма расходов была стабильна.\n",
    "- Стоит отметить, что наибольшая стоимость привлечения одного пользователя у канала TipTop, на втором месте - FaceBoom, на третьем  - AdNonSense. Дешевле всего обходятся пользователи из канала YRabbit, MediaTornado и LeapBob.\n",
    "- Конверсия в оплату происходит в первые 4 дня. Дальше прирост уже не такой заметный.\n",
    "\n",
    "Реклама в анализируемом периоде почти окупается. ROI к концу 14 дня — чуть менее 100%, при этом стоимость привлечения пользователя возросла в связи с увеличением рекламного бюджета и использованием более дорогих и малоокупаемых источников. На LTV влиял сезонный фактор, но показатель в разрезах всех источников и каналов достаточно стабилен, то есть качество пользователей не ухудшалось.\n",
    "\n",
    "Негативное влияние на окупаемость рекламы оказали рекламные расходы на привлечение пользователей из канала TipTop, страны США и с устройствами iPhone и MAC, у которых к концу анализируемого периода показатель CAC стал в 2 раза выше, чем показатель LTV. \n",
    "При этом привлечение пользователей из канала TipTop окупалось только небольшой период в середине мая, и уже с начала июня, из стран США с середины июня, и, с устройствами iPhone и MAC, с середины июля показывает стабильный минус. При этом расходы на данные источники с каждым месяцем только увеличивались.\n",
    "\n",
    "То есть на период начала августа уже можно было отметить, что необходимо снизить расходы на вышеуказанные источники вместо их увеличения.\n",
    "\n",
    "Таким образом, рекомендуется своевременно отслеживать динамику окупаемости рекламы в разрезе источников, а также обратить внимание (увеличить рекламные расходы) на пользователей:\n",
    "- PC, у которых реклама окупается лучше всего, при этом затраты CAC самые маленькие.\n",
    "- Привлеченных с канала YRabbit, у которых не самый высокий показатель LTV, но за счет низкой и стабильной стоимости привлечения одного клиента реклама окупается почти в 3 раза. ROI на 14 день показывает максимальный результат, доходящий до 700%.\n",
    "- Привлеченных с канала lambdaMediaAds, у которых самое высокое значение показателя LTV, стабильный средний CAC и высокая окупаемость (ROI на 14 день показывает более 250% и в динамике показатель более-менее стабилен)."
   ]
  },
  {
   "cell_type": "code",
   "execution_count": null,
   "metadata": {},
   "outputs": [],
   "source": []
  }
 ],
 "metadata": {
  "ExecuteTimeLog": [
   {
    "duration": 44,
    "start_time": "2023-01-12T11:15:19.586Z"
   },
   {
    "duration": 407,
    "start_time": "2023-01-12T11:15:29.529Z"
   },
   {
    "duration": 1920,
    "start_time": "2023-01-12T11:15:29.938Z"
   },
   {
    "duration": 282,
    "start_time": "2023-01-12T11:15:31.860Z"
   },
   {
    "duration": 81,
    "start_time": "2023-01-12T11:15:32.144Z"
   },
   {
    "duration": 3,
    "start_time": "2023-01-12T11:23:06.807Z"
   },
   {
    "duration": 2,
    "start_time": "2023-01-12T11:23:09.445Z"
   },
   {
    "duration": 4,
    "start_time": "2023-01-12T11:24:29.968Z"
   },
   {
    "duration": 59,
    "start_time": "2023-01-12T11:28:06.142Z"
   },
   {
    "duration": 228,
    "start_time": "2023-01-12T11:28:15.037Z"
   },
   {
    "duration": 12,
    "start_time": "2023-01-12T11:28:39.844Z"
   },
   {
    "duration": 5,
    "start_time": "2023-01-12T11:28:42.981Z"
   },
   {
    "duration": 75,
    "start_time": "2023-01-12T12:17:14.331Z"
   },
   {
    "duration": 122,
    "start_time": "2023-01-12T12:18:46.407Z"
   },
   {
    "duration": 399,
    "start_time": "2023-01-12T12:18:52.418Z"
   },
   {
    "duration": 631,
    "start_time": "2023-01-12T12:18:52.819Z"
   },
   {
    "duration": 47,
    "start_time": "2023-01-12T12:18:53.452Z"
   },
   {
    "duration": 46,
    "start_time": "2023-01-12T12:18:53.500Z"
   },
   {
    "duration": 5,
    "start_time": "2023-01-12T12:18:53.548Z"
   },
   {
    "duration": 248,
    "start_time": "2023-01-12T12:18:53.554Z"
   },
   {
    "duration": 18,
    "start_time": "2023-01-12T12:18:53.803Z"
   },
   {
    "duration": 6,
    "start_time": "2023-01-12T12:18:53.823Z"
   },
   {
    "duration": 161,
    "start_time": "2023-01-12T12:18:53.830Z"
   },
   {
    "duration": 57,
    "start_time": "2023-01-12T12:39:23.648Z"
   },
   {
    "duration": 722,
    "start_time": "2023-01-12T12:43:49.333Z"
   },
   {
    "duration": 628,
    "start_time": "2023-01-12T12:43:50.057Z"
   },
   {
    "duration": 50,
    "start_time": "2023-01-12T12:43:50.687Z"
   },
   {
    "duration": 45,
    "start_time": "2023-01-12T12:43:50.739Z"
   },
   {
    "duration": 3,
    "start_time": "2023-01-12T12:43:50.786Z"
   },
   {
    "duration": 259,
    "start_time": "2023-01-12T12:43:50.790Z"
   },
   {
    "duration": 12,
    "start_time": "2023-01-12T12:43:51.050Z"
   },
   {
    "duration": 16,
    "start_time": "2023-01-12T12:43:51.064Z"
   },
   {
    "duration": 185,
    "start_time": "2023-01-12T12:43:51.082Z"
   },
   {
    "duration": 7,
    "start_time": "2023-01-12T12:43:51.269Z"
   },
   {
    "duration": 36,
    "start_time": "2023-01-12T12:43:51.277Z"
   },
   {
    "duration": 43,
    "start_time": "2023-01-12T12:43:51.315Z"
   },
   {
    "duration": 38,
    "start_time": "2023-01-12T12:43:51.360Z"
   },
   {
    "duration": 22,
    "start_time": "2023-01-12T12:43:51.400Z"
   },
   {
    "duration": 92,
    "start_time": "2023-01-12T12:43:51.423Z"
   },
   {
    "duration": 7,
    "start_time": "2023-01-12T12:44:15.507Z"
   },
   {
    "duration": 6,
    "start_time": "2023-01-12T12:47:27.235Z"
   },
   {
    "duration": 635,
    "start_time": "2023-01-12T12:47:32.721Z"
   },
   {
    "duration": 584,
    "start_time": "2023-01-12T12:47:33.357Z"
   },
   {
    "duration": 49,
    "start_time": "2023-01-12T12:47:33.943Z"
   },
   {
    "duration": 44,
    "start_time": "2023-01-12T12:47:33.994Z"
   },
   {
    "duration": 4,
    "start_time": "2023-01-12T12:47:34.040Z"
   },
   {
    "duration": 243,
    "start_time": "2023-01-12T12:47:34.045Z"
   },
   {
    "duration": 13,
    "start_time": "2023-01-12T12:47:34.289Z"
   },
   {
    "duration": 18,
    "start_time": "2023-01-12T12:47:34.304Z"
   },
   {
    "duration": 158,
    "start_time": "2023-01-12T12:47:34.323Z"
   },
   {
    "duration": 7,
    "start_time": "2023-01-12T12:47:34.483Z"
   },
   {
    "duration": 11,
    "start_time": "2023-01-12T12:47:34.491Z"
   },
   {
    "duration": 18,
    "start_time": "2023-01-12T12:47:34.503Z"
   },
   {
    "duration": 11,
    "start_time": "2023-01-12T12:47:34.523Z"
   },
   {
    "duration": 18,
    "start_time": "2023-01-12T12:47:34.536Z"
   },
   {
    "duration": 84,
    "start_time": "2023-01-12T12:47:34.556Z"
   },
   {
    "duration": 615,
    "start_time": "2023-01-12T12:53:24.419Z"
   },
   {
    "duration": 625,
    "start_time": "2023-01-12T12:53:25.036Z"
   },
   {
    "duration": 50,
    "start_time": "2023-01-12T12:53:25.662Z"
   },
   {
    "duration": 48,
    "start_time": "2023-01-12T12:53:25.714Z"
   },
   {
    "duration": 4,
    "start_time": "2023-01-12T12:53:25.763Z"
   },
   {
    "duration": 245,
    "start_time": "2023-01-12T12:53:25.768Z"
   },
   {
    "duration": 17,
    "start_time": "2023-01-12T12:53:26.014Z"
   },
   {
    "duration": 6,
    "start_time": "2023-01-12T12:53:26.032Z"
   },
   {
    "duration": 114,
    "start_time": "2023-01-12T12:53:26.040Z"
   },
   {
    "duration": 6,
    "start_time": "2023-01-12T12:53:26.157Z"
   },
   {
    "duration": 10,
    "start_time": "2023-01-12T12:53:26.164Z"
   },
   {
    "duration": 8,
    "start_time": "2023-01-12T12:53:26.175Z"
   },
   {
    "duration": 8,
    "start_time": "2023-01-12T12:53:26.185Z"
   },
   {
    "duration": 43,
    "start_time": "2023-01-12T12:53:26.195Z"
   },
   {
    "duration": 77,
    "start_time": "2023-01-12T12:53:26.240Z"
   },
   {
    "duration": 6,
    "start_time": "2023-01-12T12:58:35.603Z"
   },
   {
    "duration": 614,
    "start_time": "2023-01-12T12:58:42.260Z"
   },
   {
    "duration": 591,
    "start_time": "2023-01-12T12:58:42.876Z"
   },
   {
    "duration": 54,
    "start_time": "2023-01-12T12:58:43.469Z"
   },
   {
    "duration": 47,
    "start_time": "2023-01-12T12:58:43.525Z"
   },
   {
    "duration": 3,
    "start_time": "2023-01-12T12:58:43.575Z"
   },
   {
    "duration": 228,
    "start_time": "2023-01-12T12:58:43.580Z"
   },
   {
    "duration": 19,
    "start_time": "2023-01-12T12:58:43.810Z"
   },
   {
    "duration": 6,
    "start_time": "2023-01-12T12:58:43.830Z"
   },
   {
    "duration": 12,
    "start_time": "2023-01-12T12:58:43.838Z"
   },
   {
    "duration": 914,
    "start_time": "2023-01-12T12:58:43.852Z"
   },
   {
    "duration": 0,
    "start_time": "2023-01-12T12:58:44.768Z"
   },
   {
    "duration": 1,
    "start_time": "2023-01-12T12:58:44.769Z"
   },
   {
    "duration": 0,
    "start_time": "2023-01-12T12:58:44.771Z"
   },
   {
    "duration": 0,
    "start_time": "2023-01-12T12:58:44.772Z"
   },
   {
    "duration": 0,
    "start_time": "2023-01-12T12:58:44.774Z"
   },
   {
    "duration": 0,
    "start_time": "2023-01-12T12:58:44.775Z"
   },
   {
    "duration": 146,
    "start_time": "2023-01-12T12:59:17.844Z"
   },
   {
    "duration": 615,
    "start_time": "2023-01-12T12:59:23.637Z"
   },
   {
    "duration": 603,
    "start_time": "2023-01-12T12:59:24.254Z"
   },
   {
    "duration": 53,
    "start_time": "2023-01-12T12:59:24.859Z"
   },
   {
    "duration": 47,
    "start_time": "2023-01-12T12:59:24.914Z"
   },
   {
    "duration": 5,
    "start_time": "2023-01-12T12:59:24.962Z"
   },
   {
    "duration": 240,
    "start_time": "2023-01-12T12:59:24.969Z"
   },
   {
    "duration": 19,
    "start_time": "2023-01-12T12:59:25.211Z"
   },
   {
    "duration": 5,
    "start_time": "2023-01-12T12:59:25.231Z"
   },
   {
    "duration": 7,
    "start_time": "2023-01-12T12:59:25.238Z"
   },
   {
    "duration": 169,
    "start_time": "2023-01-12T12:59:25.247Z"
   },
   {
    "duration": 6,
    "start_time": "2023-01-12T12:59:25.417Z"
   },
   {
    "duration": 13,
    "start_time": "2023-01-12T12:59:25.425Z"
   },
   {
    "duration": 11,
    "start_time": "2023-01-12T12:59:25.440Z"
   },
   {
    "duration": 24,
    "start_time": "2023-01-12T12:59:25.453Z"
   },
   {
    "duration": 29,
    "start_time": "2023-01-12T12:59:25.479Z"
   },
   {
    "duration": 544,
    "start_time": "2023-01-12T12:59:25.510Z"
   },
   {
    "duration": 33,
    "start_time": "2023-01-12T13:03:51.312Z"
   },
   {
    "duration": 6,
    "start_time": "2023-01-12T13:05:02.903Z"
   },
   {
    "duration": 579,
    "start_time": "2023-01-12T13:05:09.160Z"
   },
   {
    "duration": 642,
    "start_time": "2023-01-12T13:05:09.741Z"
   },
   {
    "duration": 58,
    "start_time": "2023-01-12T13:05:10.384Z"
   },
   {
    "duration": 45,
    "start_time": "2023-01-12T13:05:10.444Z"
   },
   {
    "duration": 4,
    "start_time": "2023-01-12T13:05:10.492Z"
   },
   {
    "duration": 260,
    "start_time": "2023-01-12T13:05:10.497Z"
   },
   {
    "duration": 16,
    "start_time": "2023-01-12T13:05:10.759Z"
   },
   {
    "duration": 9,
    "start_time": "2023-01-12T13:05:10.776Z"
   },
   {
    "duration": 19,
    "start_time": "2023-01-12T13:05:10.787Z"
   },
   {
    "duration": 189,
    "start_time": "2023-01-12T13:05:10.807Z"
   },
   {
    "duration": 7,
    "start_time": "2023-01-12T13:05:10.997Z"
   },
   {
    "duration": 17,
    "start_time": "2023-01-12T13:05:11.006Z"
   },
   {
    "duration": 20,
    "start_time": "2023-01-12T13:05:11.025Z"
   },
   {
    "duration": 12,
    "start_time": "2023-01-12T13:05:11.047Z"
   },
   {
    "duration": 27,
    "start_time": "2023-01-12T13:05:11.061Z"
   },
   {
    "duration": 503,
    "start_time": "2023-01-12T13:05:11.090Z"
   },
   {
    "duration": 57,
    "start_time": "2023-01-12T13:11:25.009Z"
   },
   {
    "duration": 45,
    "start_time": "2023-01-12T13:12:52.141Z"
   },
   {
    "duration": 64,
    "start_time": "2023-01-12T13:13:17.579Z"
   },
   {
    "duration": 40,
    "start_time": "2023-01-12T13:13:27.381Z"
   },
   {
    "duration": 40,
    "start_time": "2023-01-12T13:16:07.383Z"
   },
   {
    "duration": 2,
    "start_time": "2023-01-12T13:18:47.168Z"
   },
   {
    "duration": 41,
    "start_time": "2023-01-12T13:19:17.499Z"
   },
   {
    "duration": 3,
    "start_time": "2023-01-12T13:20:05.879Z"
   },
   {
    "duration": 3,
    "start_time": "2023-01-12T13:21:01.324Z"
   },
   {
    "duration": 3,
    "start_time": "2023-01-12T13:21:39.322Z"
   },
   {
    "duration": 662,
    "start_time": "2023-01-12T13:21:44.896Z"
   },
   {
    "duration": 624,
    "start_time": "2023-01-12T13:21:45.560Z"
   },
   {
    "duration": 51,
    "start_time": "2023-01-12T13:21:46.185Z"
   },
   {
    "duration": 44,
    "start_time": "2023-01-12T13:21:46.237Z"
   },
   {
    "duration": 3,
    "start_time": "2023-01-12T13:21:46.284Z"
   },
   {
    "duration": 250,
    "start_time": "2023-01-12T13:21:46.289Z"
   },
   {
    "duration": 12,
    "start_time": "2023-01-12T13:21:46.541Z"
   },
   {
    "duration": 8,
    "start_time": "2023-01-12T13:21:46.554Z"
   },
   {
    "duration": 13,
    "start_time": "2023-01-12T13:21:46.563Z"
   },
   {
    "duration": 166,
    "start_time": "2023-01-12T13:21:46.578Z"
   },
   {
    "duration": 6,
    "start_time": "2023-01-12T13:21:46.746Z"
   },
   {
    "duration": 15,
    "start_time": "2023-01-12T13:21:46.754Z"
   },
   {
    "duration": 19,
    "start_time": "2023-01-12T13:21:46.771Z"
   },
   {
    "duration": 10,
    "start_time": "2023-01-12T13:21:46.793Z"
   },
   {
    "duration": 24,
    "start_time": "2023-01-12T13:21:46.804Z"
   },
   {
    "duration": 439,
    "start_time": "2023-01-12T13:21:46.830Z"
   },
   {
    "duration": 64,
    "start_time": "2023-01-12T13:21:47.271Z"
   },
   {
    "duration": 2,
    "start_time": "2023-01-12T13:21:47.336Z"
   },
   {
    "duration": 42,
    "start_time": "2023-01-12T13:21:47.340Z"
   },
   {
    "duration": 2,
    "start_time": "2023-01-12T13:21:47.385Z"
   },
   {
    "duration": 591,
    "start_time": "2023-01-12T13:22:13.434Z"
   },
   {
    "duration": 589,
    "start_time": "2023-01-12T13:22:20.298Z"
   },
   {
    "duration": 605,
    "start_time": "2023-01-12T13:22:26.795Z"
   },
   {
    "duration": 584,
    "start_time": "2023-01-12T13:22:27.402Z"
   },
   {
    "duration": 51,
    "start_time": "2023-01-12T13:22:27.987Z"
   },
   {
    "duration": 45,
    "start_time": "2023-01-12T13:22:28.040Z"
   },
   {
    "duration": 4,
    "start_time": "2023-01-12T13:22:28.087Z"
   },
   {
    "duration": 254,
    "start_time": "2023-01-12T13:22:28.092Z"
   },
   {
    "duration": 12,
    "start_time": "2023-01-12T13:22:28.347Z"
   },
   {
    "duration": 10,
    "start_time": "2023-01-12T13:22:28.360Z"
   },
   {
    "duration": 21,
    "start_time": "2023-01-12T13:22:28.371Z"
   },
   {
    "duration": 180,
    "start_time": "2023-01-12T13:22:28.394Z"
   },
   {
    "duration": 7,
    "start_time": "2023-01-12T13:22:28.576Z"
   },
   {
    "duration": 34,
    "start_time": "2023-01-12T13:22:28.586Z"
   },
   {
    "duration": 29,
    "start_time": "2023-01-12T13:22:28.622Z"
   },
   {
    "duration": 31,
    "start_time": "2023-01-12T13:22:28.654Z"
   },
   {
    "duration": 29,
    "start_time": "2023-01-12T13:22:28.687Z"
   },
   {
    "duration": 461,
    "start_time": "2023-01-12T13:22:28.718Z"
   },
   {
    "duration": 65,
    "start_time": "2023-01-12T13:22:29.181Z"
   },
   {
    "duration": 3,
    "start_time": "2023-01-12T13:22:29.248Z"
   },
   {
    "duration": 42,
    "start_time": "2023-01-12T13:22:29.252Z"
   },
   {
    "duration": 3,
    "start_time": "2023-01-12T13:22:29.296Z"
   },
   {
    "duration": 414,
    "start_time": "2023-01-12T13:22:59.349Z"
   },
   {
    "duration": 43,
    "start_time": "2023-01-12T13:25:12.423Z"
   },
   {
    "duration": 3,
    "start_time": "2023-01-12T13:29:11.333Z"
   },
   {
    "duration": 3,
    "start_time": "2023-01-12T13:30:01.977Z"
   },
   {
    "duration": 2,
    "start_time": "2023-01-12T13:30:57.203Z"
   },
   {
    "duration": 4,
    "start_time": "2023-01-12T13:46:06.067Z"
   },
   {
    "duration": 4,
    "start_time": "2023-01-12T13:47:13.553Z"
   },
   {
    "duration": 4,
    "start_time": "2023-01-12T13:48:04.200Z"
   },
   {
    "duration": 3,
    "start_time": "2023-01-12T13:50:48.803Z"
   },
   {
    "duration": 95,
    "start_time": "2023-01-12T13:50:56.008Z"
   },
   {
    "duration": 11,
    "start_time": "2023-01-12T13:51:31.274Z"
   },
   {
    "duration": 72,
    "start_time": "2023-01-12T13:54:07.512Z"
   },
   {
    "duration": 22,
    "start_time": "2023-01-12T13:55:07.233Z"
   },
   {
    "duration": 27,
    "start_time": "2023-01-12T13:55:34.520Z"
   },
   {
    "duration": 18,
    "start_time": "2023-01-12T13:55:58.673Z"
   },
   {
    "duration": 37,
    "start_time": "2023-01-12T13:56:12.980Z"
   },
   {
    "duration": 26,
    "start_time": "2023-01-12T13:56:57.958Z"
   },
   {
    "duration": 36,
    "start_time": "2023-01-12T13:58:45.500Z"
   },
   {
    "duration": 24,
    "start_time": "2023-01-12T13:58:52.646Z"
   },
   {
    "duration": 38,
    "start_time": "2023-01-12T14:01:02.425Z"
   },
   {
    "duration": 39,
    "start_time": "2023-01-12T14:03:12.496Z"
   },
   {
    "duration": 40,
    "start_time": "2023-01-12T14:03:41.869Z"
   },
   {
    "duration": 4,
    "start_time": "2023-01-12T14:09:31.987Z"
   },
   {
    "duration": 4,
    "start_time": "2023-01-12T14:16:13.863Z"
   },
   {
    "duration": 568,
    "start_time": "2023-01-12T14:16:56.477Z"
   },
   {
    "duration": 603,
    "start_time": "2023-01-12T14:16:57.047Z"
   },
   {
    "duration": 51,
    "start_time": "2023-01-12T14:16:57.652Z"
   },
   {
    "duration": 47,
    "start_time": "2023-01-12T14:16:57.704Z"
   },
   {
    "duration": 3,
    "start_time": "2023-01-12T14:16:57.754Z"
   },
   {
    "duration": 224,
    "start_time": "2023-01-12T14:16:57.759Z"
   },
   {
    "duration": 12,
    "start_time": "2023-01-12T14:16:57.985Z"
   },
   {
    "duration": 7,
    "start_time": "2023-01-12T14:16:57.998Z"
   },
   {
    "duration": 15,
    "start_time": "2023-01-12T14:16:58.006Z"
   },
   {
    "duration": 167,
    "start_time": "2023-01-12T14:16:58.023Z"
   },
   {
    "duration": 8,
    "start_time": "2023-01-12T14:16:58.192Z"
   },
   {
    "duration": 19,
    "start_time": "2023-01-12T14:16:58.202Z"
   },
   {
    "duration": 8,
    "start_time": "2023-01-12T14:16:58.223Z"
   },
   {
    "duration": 9,
    "start_time": "2023-01-12T14:16:58.233Z"
   },
   {
    "duration": 18,
    "start_time": "2023-01-12T14:16:58.243Z"
   },
   {
    "duration": 473,
    "start_time": "2023-01-12T14:16:58.263Z"
   },
   {
    "duration": 5,
    "start_time": "2023-01-12T14:16:58.737Z"
   },
   {
    "duration": 8,
    "start_time": "2023-01-12T14:16:58.744Z"
   },
   {
    "duration": 51,
    "start_time": "2023-01-12T14:16:58.753Z"
   },
   {
    "duration": 38,
    "start_time": "2023-01-12T14:16:58.806Z"
   },
   {
    "duration": 26,
    "start_time": "2023-01-12T14:16:58.845Z"
   },
   {
    "duration": 3,
    "start_time": "2023-01-12T14:16:58.873Z"
   },
   {
    "duration": 13,
    "start_time": "2023-01-12T14:19:38.421Z"
   },
   {
    "duration": 46,
    "start_time": "2023-01-13T06:45:06.709Z"
   },
   {
    "duration": 747,
    "start_time": "2023-01-13T06:45:13.102Z"
   },
   {
    "duration": 1834,
    "start_time": "2023-01-13T06:45:13.851Z"
   },
   {
    "duration": 202,
    "start_time": "2023-01-13T06:45:15.687Z"
   },
   {
    "duration": 60,
    "start_time": "2023-01-13T06:45:15.890Z"
   },
   {
    "duration": 4,
    "start_time": "2023-01-13T06:45:15.952Z"
   },
   {
    "duration": 236,
    "start_time": "2023-01-13T06:45:15.957Z"
   },
   {
    "duration": 12,
    "start_time": "2023-01-13T06:45:16.194Z"
   },
   {
    "duration": 5,
    "start_time": "2023-01-13T06:45:16.208Z"
   },
   {
    "duration": 6,
    "start_time": "2023-01-13T06:45:16.214Z"
   },
   {
    "duration": 166,
    "start_time": "2023-01-13T06:45:16.221Z"
   },
   {
    "duration": 51,
    "start_time": "2023-01-13T06:45:16.388Z"
   },
   {
    "duration": 6,
    "start_time": "2023-01-13T06:45:16.440Z"
   },
   {
    "duration": 9,
    "start_time": "2023-01-13T06:45:16.447Z"
   },
   {
    "duration": 21,
    "start_time": "2023-01-13T06:45:16.459Z"
   },
   {
    "duration": 13,
    "start_time": "2023-01-13T06:45:16.482Z"
   },
   {
    "duration": 18,
    "start_time": "2023-01-13T06:45:16.496Z"
   },
   {
    "duration": 463,
    "start_time": "2023-01-13T06:45:16.515Z"
   },
   {
    "duration": 4,
    "start_time": "2023-01-13T06:45:16.979Z"
   },
   {
    "duration": 13,
    "start_time": "2023-01-13T06:45:16.984Z"
   },
   {
    "duration": 54,
    "start_time": "2023-01-13T06:45:16.999Z"
   },
   {
    "duration": 25,
    "start_time": "2023-01-13T06:45:17.054Z"
   },
   {
    "duration": 26,
    "start_time": "2023-01-13T06:45:17.081Z"
   },
   {
    "duration": 4,
    "start_time": "2023-01-13T06:45:17.108Z"
   },
   {
    "duration": 26,
    "start_time": "2023-01-13T06:45:17.114Z"
   },
   {
    "duration": 575,
    "start_time": "2023-01-13T06:46:03.220Z"
   },
   {
    "duration": 633,
    "start_time": "2023-01-13T06:46:03.797Z"
   },
   {
    "duration": 48,
    "start_time": "2023-01-13T06:46:04.432Z"
   },
   {
    "duration": 47,
    "start_time": "2023-01-13T06:46:04.481Z"
   },
   {
    "duration": 4,
    "start_time": "2023-01-13T06:46:04.530Z"
   },
   {
    "duration": 237,
    "start_time": "2023-01-13T06:46:04.535Z"
   },
   {
    "duration": 16,
    "start_time": "2023-01-13T06:46:04.773Z"
   },
   {
    "duration": 6,
    "start_time": "2023-01-13T06:46:04.791Z"
   },
   {
    "duration": 5,
    "start_time": "2023-01-13T06:46:04.799Z"
   },
   {
    "duration": 182,
    "start_time": "2023-01-13T06:46:04.806Z"
   },
   {
    "duration": 37,
    "start_time": "2023-01-13T06:46:04.990Z"
   },
   {
    "duration": 16,
    "start_time": "2023-01-13T06:46:05.028Z"
   },
   {
    "duration": 25,
    "start_time": "2023-01-13T06:46:05.045Z"
   },
   {
    "duration": 14,
    "start_time": "2023-01-13T06:46:05.072Z"
   },
   {
    "duration": 14,
    "start_time": "2023-01-13T06:46:05.088Z"
   },
   {
    "duration": 31,
    "start_time": "2023-01-13T06:46:05.104Z"
   },
   {
    "duration": 19,
    "start_time": "2023-01-13T06:46:05.137Z"
   },
   {
    "duration": 24,
    "start_time": "2023-01-13T06:46:05.158Z"
   },
   {
    "duration": 476,
    "start_time": "2023-01-13T06:46:05.184Z"
   },
   {
    "duration": 5,
    "start_time": "2023-01-13T06:46:05.662Z"
   },
   {
    "duration": 4,
    "start_time": "2023-01-13T06:46:05.678Z"
   },
   {
    "duration": 75,
    "start_time": "2023-01-13T06:46:05.684Z"
   },
   {
    "duration": 37,
    "start_time": "2023-01-13T06:46:05.761Z"
   },
   {
    "duration": 31,
    "start_time": "2023-01-13T06:46:05.800Z"
   },
   {
    "duration": 5,
    "start_time": "2023-01-13T06:46:05.832Z"
   },
   {
    "duration": 18,
    "start_time": "2023-01-13T06:46:05.839Z"
   },
   {
    "duration": 5,
    "start_time": "2023-01-13T07:07:00.052Z"
   },
   {
    "duration": 3,
    "start_time": "2023-01-13T07:07:01.423Z"
   },
   {
    "duration": 34,
    "start_time": "2023-01-13T07:16:30.533Z"
   },
   {
    "duration": 94,
    "start_time": "2023-01-13T07:17:53.819Z"
   },
   {
    "duration": 77,
    "start_time": "2023-01-13T07:18:15.723Z"
   },
   {
    "duration": 71,
    "start_time": "2023-01-13T07:18:23.103Z"
   },
   {
    "duration": 16,
    "start_time": "2023-01-13T07:18:38.816Z"
   },
   {
    "duration": 18,
    "start_time": "2023-01-13T07:19:35.296Z"
   },
   {
    "duration": 13,
    "start_time": "2023-01-13T07:19:42.090Z"
   },
   {
    "duration": 19,
    "start_time": "2023-01-13T07:20:37.501Z"
   },
   {
    "duration": 13,
    "start_time": "2023-01-13T07:20:58.662Z"
   },
   {
    "duration": 26,
    "start_time": "2023-01-13T07:21:12.487Z"
   },
   {
    "duration": 31,
    "start_time": "2023-01-13T07:23:25.533Z"
   },
   {
    "duration": 28,
    "start_time": "2023-01-13T07:28:11.453Z"
   },
   {
    "duration": 33,
    "start_time": "2023-01-13T07:28:29.054Z"
   },
   {
    "duration": 1478,
    "start_time": "2023-01-13T07:52:48.970Z"
   },
   {
    "duration": 1905,
    "start_time": "2023-01-13T08:01:53.216Z"
   },
   {
    "duration": 2502,
    "start_time": "2023-01-13T08:02:41.622Z"
   },
   {
    "duration": 1780,
    "start_time": "2023-01-13T08:03:24.253Z"
   },
   {
    "duration": 216,
    "start_time": "2023-01-13T08:04:28.173Z"
   },
   {
    "duration": 209,
    "start_time": "2023-01-13T08:04:37.178Z"
   },
   {
    "duration": 603,
    "start_time": "2023-01-13T08:04:47.071Z"
   },
   {
    "duration": 1237,
    "start_time": "2023-01-13T08:05:57.712Z"
   },
   {
    "duration": 1268,
    "start_time": "2023-01-13T08:06:50.153Z"
   },
   {
    "duration": 2309,
    "start_time": "2023-01-13T09:02:57.376Z"
   },
   {
    "duration": 117,
    "start_time": "2023-01-13T09:41:59.201Z"
   },
   {
    "duration": 219,
    "start_time": "2023-01-13T09:42:42.161Z"
   },
   {
    "duration": 687,
    "start_time": "2023-01-13T09:43:18.553Z"
   },
   {
    "duration": 621,
    "start_time": "2023-01-13T09:43:19.242Z"
   },
   {
    "duration": 53,
    "start_time": "2023-01-13T09:43:19.865Z"
   },
   {
    "duration": 46,
    "start_time": "2023-01-13T09:43:19.920Z"
   },
   {
    "duration": 4,
    "start_time": "2023-01-13T09:43:19.970Z"
   },
   {
    "duration": 252,
    "start_time": "2023-01-13T09:43:19.976Z"
   },
   {
    "duration": 15,
    "start_time": "2023-01-13T09:43:20.229Z"
   },
   {
    "duration": 8,
    "start_time": "2023-01-13T09:43:20.246Z"
   },
   {
    "duration": 23,
    "start_time": "2023-01-13T09:43:20.255Z"
   },
   {
    "duration": 166,
    "start_time": "2023-01-13T09:43:20.281Z"
   },
   {
    "duration": 47,
    "start_time": "2023-01-13T09:43:20.448Z"
   },
   {
    "duration": 13,
    "start_time": "2023-01-13T09:43:20.496Z"
   },
   {
    "duration": 30,
    "start_time": "2023-01-13T09:43:20.510Z"
   },
   {
    "duration": 11,
    "start_time": "2023-01-13T09:43:20.543Z"
   },
   {
    "duration": 15,
    "start_time": "2023-01-13T09:43:20.556Z"
   },
   {
    "duration": 8,
    "start_time": "2023-01-13T09:43:20.577Z"
   },
   {
    "duration": 14,
    "start_time": "2023-01-13T09:43:20.587Z"
   },
   {
    "duration": 24,
    "start_time": "2023-01-13T09:43:20.603Z"
   },
   {
    "duration": 470,
    "start_time": "2023-01-13T09:43:20.628Z"
   },
   {
    "duration": 5,
    "start_time": "2023-01-13T09:43:21.100Z"
   },
   {
    "duration": 18,
    "start_time": "2023-01-13T09:43:21.107Z"
   },
   {
    "duration": 40,
    "start_time": "2023-01-13T09:43:21.127Z"
   },
   {
    "duration": 29,
    "start_time": "2023-01-13T09:43:21.168Z"
   },
   {
    "duration": 27,
    "start_time": "2023-01-13T09:43:21.199Z"
   },
   {
    "duration": 4,
    "start_time": "2023-01-13T09:43:21.228Z"
   },
   {
    "duration": 17,
    "start_time": "2023-01-13T09:43:21.233Z"
   },
   {
    "duration": 296,
    "start_time": "2023-01-13T09:43:21.252Z"
   },
   {
    "duration": 30,
    "start_time": "2023-01-13T09:43:21.550Z"
   },
   {
    "duration": 1493,
    "start_time": "2023-01-13T09:43:21.582Z"
   },
   {
    "duration": 683,
    "start_time": "2023-01-13T09:43:23.077Z"
   },
   {
    "duration": 1275,
    "start_time": "2023-01-13T09:43:23.761Z"
   },
   {
    "duration": 1929,
    "start_time": "2023-01-13T09:43:25.038Z"
   },
   {
    "duration": 1973,
    "start_time": "2023-01-13T09:43:26.978Z"
   },
   {
    "duration": 2577,
    "start_time": "2023-01-13T09:43:28.953Z"
   },
   {
    "duration": 289,
    "start_time": "2023-01-13T09:44:30.753Z"
   },
   {
    "duration": 305,
    "start_time": "2023-01-13T09:45:47.781Z"
   },
   {
    "duration": 100,
    "start_time": "2023-01-13T09:47:39.119Z"
   },
   {
    "duration": 114,
    "start_time": "2023-01-13T09:48:01.193Z"
   },
   {
    "duration": 644,
    "start_time": "2023-01-13T09:48:08.762Z"
   },
   {
    "duration": 634,
    "start_time": "2023-01-13T09:48:09.408Z"
   },
   {
    "duration": 51,
    "start_time": "2023-01-13T09:48:10.044Z"
   },
   {
    "duration": 48,
    "start_time": "2023-01-13T09:48:10.097Z"
   },
   {
    "duration": 4,
    "start_time": "2023-01-13T09:48:10.147Z"
   },
   {
    "duration": 256,
    "start_time": "2023-01-13T09:48:10.153Z"
   },
   {
    "duration": 13,
    "start_time": "2023-01-13T09:48:10.411Z"
   },
   {
    "duration": 40,
    "start_time": "2023-01-13T09:48:10.426Z"
   },
   {
    "duration": 30,
    "start_time": "2023-01-13T09:48:10.468Z"
   },
   {
    "duration": 191,
    "start_time": "2023-01-13T09:48:10.500Z"
   },
   {
    "duration": 39,
    "start_time": "2023-01-13T09:48:10.692Z"
   },
   {
    "duration": 69,
    "start_time": "2023-01-13T09:48:10.733Z"
   },
   {
    "duration": 67,
    "start_time": "2023-01-13T09:48:10.804Z"
   },
   {
    "duration": 48,
    "start_time": "2023-01-13T09:48:10.873Z"
   },
   {
    "duration": 43,
    "start_time": "2023-01-13T09:48:10.924Z"
   },
   {
    "duration": 48,
    "start_time": "2023-01-13T09:48:10.970Z"
   },
   {
    "duration": 33,
    "start_time": "2023-01-13T09:48:11.020Z"
   },
   {
    "duration": 29,
    "start_time": "2023-01-13T09:48:11.055Z"
   },
   {
    "duration": 525,
    "start_time": "2023-01-13T09:48:11.087Z"
   },
   {
    "duration": 6,
    "start_time": "2023-01-13T09:48:11.614Z"
   },
   {
    "duration": 15,
    "start_time": "2023-01-13T09:48:11.622Z"
   },
   {
    "duration": 61,
    "start_time": "2023-01-13T09:48:11.639Z"
   },
   {
    "duration": 29,
    "start_time": "2023-01-13T09:48:11.701Z"
   },
   {
    "duration": 43,
    "start_time": "2023-01-13T09:48:11.732Z"
   },
   {
    "duration": 5,
    "start_time": "2023-01-13T09:48:11.778Z"
   },
   {
    "duration": 47,
    "start_time": "2023-01-13T09:48:11.784Z"
   },
   {
    "duration": 74,
    "start_time": "2023-01-13T09:48:11.832Z"
   },
   {
    "duration": 0,
    "start_time": "2023-01-13T09:48:11.909Z"
   },
   {
    "duration": 0,
    "start_time": "2023-01-13T09:48:11.909Z"
   },
   {
    "duration": 0,
    "start_time": "2023-01-13T09:48:11.911Z"
   },
   {
    "duration": 0,
    "start_time": "2023-01-13T09:48:11.912Z"
   },
   {
    "duration": 0,
    "start_time": "2023-01-13T09:48:11.913Z"
   },
   {
    "duration": 0,
    "start_time": "2023-01-13T09:48:11.914Z"
   },
   {
    "duration": 0,
    "start_time": "2023-01-13T09:48:11.914Z"
   },
   {
    "duration": 341,
    "start_time": "2023-01-13T09:48:41.855Z"
   },
   {
    "duration": 324,
    "start_time": "2023-01-13T09:49:05.180Z"
   },
   {
    "duration": 324,
    "start_time": "2023-01-13T09:49:28.384Z"
   },
   {
    "duration": 150,
    "start_time": "2023-01-13T09:50:35.955Z"
   },
   {
    "duration": 33,
    "start_time": "2023-01-13T09:51:04.917Z"
   },
   {
    "duration": 309,
    "start_time": "2023-01-13T09:51:30.199Z"
   },
   {
    "duration": 628,
    "start_time": "2023-01-13T09:57:07.264Z"
   },
   {
    "duration": 607,
    "start_time": "2023-01-13T09:57:07.893Z"
   },
   {
    "duration": 51,
    "start_time": "2023-01-13T09:57:08.502Z"
   },
   {
    "duration": 49,
    "start_time": "2023-01-13T09:57:08.554Z"
   },
   {
    "duration": 3,
    "start_time": "2023-01-13T09:57:08.605Z"
   },
   {
    "duration": 269,
    "start_time": "2023-01-13T09:57:08.610Z"
   },
   {
    "duration": 14,
    "start_time": "2023-01-13T09:57:08.881Z"
   },
   {
    "duration": 6,
    "start_time": "2023-01-13T09:57:08.898Z"
   },
   {
    "duration": 5,
    "start_time": "2023-01-13T09:57:08.906Z"
   },
   {
    "duration": 186,
    "start_time": "2023-01-13T09:57:08.913Z"
   },
   {
    "duration": 41,
    "start_time": "2023-01-13T09:57:09.101Z"
   },
   {
    "duration": 13,
    "start_time": "2023-01-13T09:57:09.143Z"
   },
   {
    "duration": 32,
    "start_time": "2023-01-13T09:57:09.157Z"
   },
   {
    "duration": 16,
    "start_time": "2023-01-13T09:57:09.192Z"
   },
   {
    "duration": 13,
    "start_time": "2023-01-13T09:57:09.210Z"
   },
   {
    "duration": 13,
    "start_time": "2023-01-13T09:57:09.224Z"
   },
   {
    "duration": 15,
    "start_time": "2023-01-13T09:57:09.239Z"
   },
   {
    "duration": 58,
    "start_time": "2023-01-13T09:57:09.256Z"
   },
   {
    "duration": 462,
    "start_time": "2023-01-13T09:57:09.316Z"
   },
   {
    "duration": 5,
    "start_time": "2023-01-13T09:57:09.779Z"
   },
   {
    "duration": 9,
    "start_time": "2023-01-13T09:57:09.785Z"
   },
   {
    "duration": 44,
    "start_time": "2023-01-13T09:57:09.796Z"
   },
   {
    "duration": 42,
    "start_time": "2023-01-13T09:57:09.841Z"
   },
   {
    "duration": 28,
    "start_time": "2023-01-13T09:57:09.885Z"
   },
   {
    "duration": 4,
    "start_time": "2023-01-13T09:57:09.915Z"
   },
   {
    "duration": 20,
    "start_time": "2023-01-13T09:57:09.921Z"
   },
   {
    "duration": 373,
    "start_time": "2023-01-13T09:57:09.943Z"
   },
   {
    "duration": 32,
    "start_time": "2023-01-13T09:57:10.318Z"
   },
   {
    "duration": 1516,
    "start_time": "2023-01-13T09:57:10.351Z"
   },
   {
    "duration": 677,
    "start_time": "2023-01-13T09:57:11.868Z"
   },
   {
    "duration": 1176,
    "start_time": "2023-01-13T09:57:12.546Z"
   },
   {
    "duration": 1874,
    "start_time": "2023-01-13T09:57:13.724Z"
   },
   {
    "duration": 1783,
    "start_time": "2023-01-13T09:57:15.600Z"
   },
   {
    "duration": 2350,
    "start_time": "2023-01-13T09:57:17.386Z"
   },
   {
    "duration": 613,
    "start_time": "2023-01-13T11:55:13.107Z"
   },
   {
    "duration": 668,
    "start_time": "2023-01-13T11:55:13.722Z"
   },
   {
    "duration": 51,
    "start_time": "2023-01-13T11:55:14.392Z"
   },
   {
    "duration": 49,
    "start_time": "2023-01-13T11:55:14.445Z"
   },
   {
    "duration": 4,
    "start_time": "2023-01-13T11:55:14.497Z"
   },
   {
    "duration": 265,
    "start_time": "2023-01-13T11:55:14.503Z"
   },
   {
    "duration": 16,
    "start_time": "2023-01-13T11:55:14.770Z"
   },
   {
    "duration": 6,
    "start_time": "2023-01-13T11:55:14.788Z"
   },
   {
    "duration": 9,
    "start_time": "2023-01-13T11:55:14.796Z"
   },
   {
    "duration": 167,
    "start_time": "2023-01-13T11:55:14.807Z"
   },
   {
    "duration": 48,
    "start_time": "2023-01-13T11:55:14.976Z"
   },
   {
    "duration": 32,
    "start_time": "2023-01-13T11:55:15.026Z"
   },
   {
    "duration": 27,
    "start_time": "2023-01-13T11:55:15.060Z"
   },
   {
    "duration": 8,
    "start_time": "2023-01-13T11:55:15.091Z"
   },
   {
    "duration": 28,
    "start_time": "2023-01-13T11:55:15.101Z"
   },
   {
    "duration": 11,
    "start_time": "2023-01-13T11:55:15.130Z"
   },
   {
    "duration": 15,
    "start_time": "2023-01-13T11:55:15.143Z"
   },
   {
    "duration": 23,
    "start_time": "2023-01-13T11:55:15.160Z"
   },
   {
    "duration": 459,
    "start_time": "2023-01-13T11:55:15.185Z"
   },
   {
    "duration": 4,
    "start_time": "2023-01-13T11:55:15.646Z"
   },
   {
    "duration": 28,
    "start_time": "2023-01-13T11:55:15.652Z"
   },
   {
    "duration": 63,
    "start_time": "2023-01-13T11:55:15.682Z"
   },
   {
    "duration": 33,
    "start_time": "2023-01-13T11:55:15.746Z"
   },
   {
    "duration": 35,
    "start_time": "2023-01-13T11:55:15.782Z"
   },
   {
    "duration": 5,
    "start_time": "2023-01-13T11:55:15.819Z"
   },
   {
    "duration": 24,
    "start_time": "2023-01-13T11:55:15.825Z"
   },
   {
    "duration": 477,
    "start_time": "2023-01-13T11:55:15.851Z"
   },
   {
    "duration": 36,
    "start_time": "2023-01-13T11:55:16.330Z"
   },
   {
    "duration": 1584,
    "start_time": "2023-01-13T11:55:16.369Z"
   },
   {
    "duration": 738,
    "start_time": "2023-01-13T11:55:17.954Z"
   },
   {
    "duration": 1336,
    "start_time": "2023-01-13T11:55:18.694Z"
   },
   {
    "duration": 1888,
    "start_time": "2023-01-13T11:55:20.031Z"
   },
   {
    "duration": 1813,
    "start_time": "2023-01-13T11:55:21.921Z"
   },
   {
    "duration": 2524,
    "start_time": "2023-01-13T11:55:23.736Z"
   },
   {
    "duration": 608,
    "start_time": "2023-01-13T12:27:01.921Z"
   },
   {
    "duration": 630,
    "start_time": "2023-01-13T12:27:02.530Z"
   },
   {
    "duration": 60,
    "start_time": "2023-01-13T12:27:03.161Z"
   },
   {
    "duration": 54,
    "start_time": "2023-01-13T12:27:03.224Z"
   },
   {
    "duration": 5,
    "start_time": "2023-01-13T12:27:03.280Z"
   },
   {
    "duration": 312,
    "start_time": "2023-01-13T12:27:03.287Z"
   },
   {
    "duration": 16,
    "start_time": "2023-01-13T12:27:03.600Z"
   },
   {
    "duration": 7,
    "start_time": "2023-01-13T12:27:03.617Z"
   },
   {
    "duration": 12,
    "start_time": "2023-01-13T12:27:03.627Z"
   },
   {
    "duration": 178,
    "start_time": "2023-01-13T12:27:03.640Z"
   },
   {
    "duration": 40,
    "start_time": "2023-01-13T12:27:03.820Z"
   },
   {
    "duration": 31,
    "start_time": "2023-01-13T12:27:03.862Z"
   },
   {
    "duration": 29,
    "start_time": "2023-01-13T12:27:03.895Z"
   },
   {
    "duration": 31,
    "start_time": "2023-01-13T12:27:03.928Z"
   },
   {
    "duration": 46,
    "start_time": "2023-01-13T12:27:03.962Z"
   },
   {
    "duration": 35,
    "start_time": "2023-01-13T12:27:04.010Z"
   },
   {
    "duration": 32,
    "start_time": "2023-01-13T12:27:04.047Z"
   },
   {
    "duration": 34,
    "start_time": "2023-01-13T12:27:04.081Z"
   },
   {
    "duration": 477,
    "start_time": "2023-01-13T12:27:04.117Z"
   },
   {
    "duration": 4,
    "start_time": "2023-01-13T12:27:04.595Z"
   },
   {
    "duration": 10,
    "start_time": "2023-01-13T12:27:04.601Z"
   },
   {
    "duration": 41,
    "start_time": "2023-01-13T12:27:04.612Z"
   },
   {
    "duration": 41,
    "start_time": "2023-01-13T12:27:04.655Z"
   },
   {
    "duration": 28,
    "start_time": "2023-01-13T12:27:04.698Z"
   },
   {
    "duration": 4,
    "start_time": "2023-01-13T12:27:04.728Z"
   },
   {
    "duration": 24,
    "start_time": "2023-01-13T12:27:04.735Z"
   },
   {
    "duration": 441,
    "start_time": "2023-01-13T12:27:04.779Z"
   },
   {
    "duration": 32,
    "start_time": "2023-01-13T12:27:05.222Z"
   },
   {
    "duration": 1660,
    "start_time": "2023-01-13T12:27:05.256Z"
   },
   {
    "duration": 732,
    "start_time": "2023-01-13T12:27:06.918Z"
   },
   {
    "duration": 1218,
    "start_time": "2023-01-13T12:27:07.652Z"
   },
   {
    "duration": 1801,
    "start_time": "2023-01-13T12:27:08.877Z"
   },
   {
    "duration": 1780,
    "start_time": "2023-01-13T12:27:10.683Z"
   },
   {
    "duration": 2581,
    "start_time": "2023-01-13T12:27:12.465Z"
   },
   {
    "duration": 727,
    "start_time": "2023-01-13T12:27:53.328Z"
   },
   {
    "duration": 712,
    "start_time": "2023-01-13T12:27:54.058Z"
   },
   {
    "duration": 58,
    "start_time": "2023-01-13T12:27:54.773Z"
   },
   {
    "duration": 49,
    "start_time": "2023-01-13T12:27:54.833Z"
   },
   {
    "duration": 5,
    "start_time": "2023-01-13T12:27:54.884Z"
   },
   {
    "duration": 296,
    "start_time": "2023-01-13T12:27:54.891Z"
   },
   {
    "duration": 15,
    "start_time": "2023-01-13T12:27:55.189Z"
   },
   {
    "duration": 36,
    "start_time": "2023-01-13T12:27:55.206Z"
   },
   {
    "duration": 21,
    "start_time": "2023-01-13T12:27:55.244Z"
   },
   {
    "duration": 208,
    "start_time": "2023-01-13T12:27:55.267Z"
   },
   {
    "duration": 54,
    "start_time": "2023-01-13T12:27:55.477Z"
   },
   {
    "duration": 18,
    "start_time": "2023-01-13T12:27:55.533Z"
   },
   {
    "duration": 37,
    "start_time": "2023-01-13T12:27:55.553Z"
   },
   {
    "duration": 10,
    "start_time": "2023-01-13T12:27:55.593Z"
   },
   {
    "duration": 21,
    "start_time": "2023-01-13T12:27:55.605Z"
   },
   {
    "duration": 45,
    "start_time": "2023-01-13T12:27:55.628Z"
   },
   {
    "duration": 27,
    "start_time": "2023-01-13T12:27:55.676Z"
   },
   {
    "duration": 28,
    "start_time": "2023-01-13T12:27:55.708Z"
   },
   {
    "duration": 507,
    "start_time": "2023-01-13T12:27:55.739Z"
   },
   {
    "duration": 4,
    "start_time": "2023-01-13T12:27:56.248Z"
   },
   {
    "duration": 11,
    "start_time": "2023-01-13T12:27:56.254Z"
   },
   {
    "duration": 49,
    "start_time": "2023-01-13T12:27:56.266Z"
   },
   {
    "duration": 26,
    "start_time": "2023-01-13T12:27:56.316Z"
   },
   {
    "duration": 52,
    "start_time": "2023-01-13T12:27:56.344Z"
   },
   {
    "duration": 4,
    "start_time": "2023-01-13T12:27:56.397Z"
   },
   {
    "duration": 26,
    "start_time": "2023-01-13T12:27:56.403Z"
   },
   {
    "duration": 397,
    "start_time": "2023-01-13T12:27:56.431Z"
   },
   {
    "duration": 46,
    "start_time": "2023-01-13T12:27:56.831Z"
   },
   {
    "duration": 1667,
    "start_time": "2023-01-13T12:27:56.879Z"
   },
   {
    "duration": 708,
    "start_time": "2023-01-13T12:27:58.548Z"
   },
   {
    "duration": 1192,
    "start_time": "2023-01-13T12:27:59.258Z"
   },
   {
    "duration": 1878,
    "start_time": "2023-01-13T12:28:00.452Z"
   },
   {
    "duration": 1810,
    "start_time": "2023-01-13T12:28:02.331Z"
   },
   {
    "duration": 2661,
    "start_time": "2023-01-13T12:28:04.143Z"
   },
   {
    "duration": 803,
    "start_time": "2023-01-13T12:35:17.084Z"
   },
   {
    "duration": 787,
    "start_time": "2023-01-13T12:35:17.890Z"
   },
   {
    "duration": 140,
    "start_time": "2023-01-13T12:35:18.679Z"
   },
   {
    "duration": 99,
    "start_time": "2023-01-13T12:35:18.820Z"
   },
   {
    "duration": 4,
    "start_time": "2023-01-13T12:35:18.921Z"
   },
   {
    "duration": 272,
    "start_time": "2023-01-13T12:35:18.927Z"
   },
   {
    "duration": 14,
    "start_time": "2023-01-13T12:35:19.201Z"
   },
   {
    "duration": 6,
    "start_time": "2023-01-13T12:35:19.217Z"
   },
   {
    "duration": 7,
    "start_time": "2023-01-13T12:35:19.225Z"
   },
   {
    "duration": 185,
    "start_time": "2023-01-13T12:35:19.234Z"
   },
   {
    "duration": 59,
    "start_time": "2023-01-13T12:35:19.421Z"
   },
   {
    "duration": 13,
    "start_time": "2023-01-13T12:35:19.482Z"
   },
   {
    "duration": 16,
    "start_time": "2023-01-13T12:35:19.496Z"
   },
   {
    "duration": 6,
    "start_time": "2023-01-13T12:35:19.515Z"
   },
   {
    "duration": 37,
    "start_time": "2023-01-13T12:35:19.523Z"
   },
   {
    "duration": 11,
    "start_time": "2023-01-13T12:35:19.563Z"
   },
   {
    "duration": 10,
    "start_time": "2023-01-13T12:35:19.577Z"
   },
   {
    "duration": 21,
    "start_time": "2023-01-13T12:35:19.589Z"
   },
   {
    "duration": 496,
    "start_time": "2023-01-13T12:35:19.611Z"
   },
   {
    "duration": 4,
    "start_time": "2023-01-13T12:35:20.109Z"
   },
   {
    "duration": 5,
    "start_time": "2023-01-13T12:35:20.115Z"
   },
   {
    "duration": 54,
    "start_time": "2023-01-13T12:35:20.122Z"
   },
   {
    "duration": 29,
    "start_time": "2023-01-13T12:35:20.178Z"
   },
   {
    "duration": 48,
    "start_time": "2023-01-13T12:35:20.208Z"
   },
   {
    "duration": 5,
    "start_time": "2023-01-13T12:35:20.257Z"
   },
   {
    "duration": 18,
    "start_time": "2023-01-13T12:35:20.263Z"
   },
   {
    "duration": 388,
    "start_time": "2023-01-13T12:35:20.282Z"
   },
   {
    "duration": 34,
    "start_time": "2023-01-13T12:35:20.672Z"
   },
   {
    "duration": 1612,
    "start_time": "2023-01-13T12:35:20.708Z"
   },
   {
    "duration": 680,
    "start_time": "2023-01-13T12:35:22.322Z"
   },
   {
    "duration": 1329,
    "start_time": "2023-01-13T12:35:23.003Z"
   },
   {
    "duration": 2525,
    "start_time": "2023-01-13T12:35:24.333Z"
   },
   {
    "duration": 2912,
    "start_time": "2023-01-13T12:35:26.860Z"
   },
   {
    "duration": 2549,
    "start_time": "2023-01-13T12:35:29.774Z"
   },
   {
    "duration": 39,
    "start_time": "2023-01-13T12:42:43.691Z"
   },
   {
    "duration": 83,
    "start_time": "2023-01-13T12:45:49.043Z"
   },
   {
    "duration": 9,
    "start_time": "2023-01-13T12:45:52.953Z"
   },
   {
    "duration": 33,
    "start_time": "2023-01-13T12:46:01.073Z"
   },
   {
    "duration": 29,
    "start_time": "2023-01-13T12:46:11.148Z"
   },
   {
    "duration": 29,
    "start_time": "2023-01-13T12:46:16.940Z"
   },
   {
    "duration": 27,
    "start_time": "2023-01-13T12:46:50.216Z"
   },
   {
    "duration": 67,
    "start_time": "2023-01-13T12:54:19.200Z"
   },
   {
    "duration": 25,
    "start_time": "2023-01-13T12:56:02.543Z"
   },
   {
    "duration": 28,
    "start_time": "2023-01-13T12:56:12.115Z"
   },
   {
    "duration": 604,
    "start_time": "2023-01-13T13:19:12.235Z"
   },
   {
    "duration": 615,
    "start_time": "2023-01-13T13:19:12.841Z"
   },
   {
    "duration": 58,
    "start_time": "2023-01-13T13:19:13.457Z"
   },
   {
    "duration": 46,
    "start_time": "2023-01-13T13:19:13.517Z"
   },
   {
    "duration": 4,
    "start_time": "2023-01-13T13:19:13.565Z"
   },
   {
    "duration": 281,
    "start_time": "2023-01-13T13:19:13.571Z"
   },
   {
    "duration": 26,
    "start_time": "2023-01-13T13:19:13.853Z"
   },
   {
    "duration": 6,
    "start_time": "2023-01-13T13:19:13.880Z"
   },
   {
    "duration": 31,
    "start_time": "2023-01-13T13:19:13.888Z"
   },
   {
    "duration": 220,
    "start_time": "2023-01-13T13:19:13.921Z"
   },
   {
    "duration": 50,
    "start_time": "2023-01-13T13:19:14.144Z"
   },
   {
    "duration": 35,
    "start_time": "2023-01-13T13:19:14.196Z"
   },
   {
    "duration": 19,
    "start_time": "2023-01-13T13:19:14.233Z"
   },
   {
    "duration": 24,
    "start_time": "2023-01-13T13:19:14.256Z"
   },
   {
    "duration": 23,
    "start_time": "2023-01-13T13:19:14.282Z"
   },
   {
    "duration": 18,
    "start_time": "2023-01-13T13:19:14.307Z"
   },
   {
    "duration": 14,
    "start_time": "2023-01-13T13:19:14.327Z"
   },
   {
    "duration": 43,
    "start_time": "2023-01-13T13:19:14.342Z"
   },
   {
    "duration": 559,
    "start_time": "2023-01-13T13:19:14.387Z"
   },
   {
    "duration": 4,
    "start_time": "2023-01-13T13:19:14.948Z"
   },
   {
    "duration": 51,
    "start_time": "2023-01-13T13:19:14.954Z"
   },
   {
    "duration": 83,
    "start_time": "2023-01-13T13:19:15.007Z"
   },
   {
    "duration": 32,
    "start_time": "2023-01-13T13:19:15.093Z"
   },
   {
    "duration": 30,
    "start_time": "2023-01-13T13:19:15.127Z"
   },
   {
    "duration": 4,
    "start_time": "2023-01-13T13:19:15.158Z"
   },
   {
    "duration": 23,
    "start_time": "2023-01-13T13:19:15.183Z"
   },
   {
    "duration": 369,
    "start_time": "2023-01-13T13:19:15.207Z"
   },
   {
    "duration": 31,
    "start_time": "2023-01-13T13:19:15.578Z"
   },
   {
    "duration": 1580,
    "start_time": "2023-01-13T13:19:15.611Z"
   },
   {
    "duration": 670,
    "start_time": "2023-01-13T13:19:17.193Z"
   },
   {
    "duration": 1242,
    "start_time": "2023-01-13T13:19:17.864Z"
   },
   {
    "duration": 1810,
    "start_time": "2023-01-13T13:19:19.108Z"
   },
   {
    "duration": 1888,
    "start_time": "2023-01-13T13:19:20.919Z"
   },
   {
    "duration": 2663,
    "start_time": "2023-01-13T13:19:22.809Z"
   },
   {
    "duration": 671,
    "start_time": "2023-01-13T13:20:48.849Z"
   },
   {
    "duration": 80,
    "start_time": "2023-01-13T13:21:01.292Z"
   },
   {
    "duration": 685,
    "start_time": "2023-01-13T13:21:07.349Z"
   },
   {
    "duration": 597,
    "start_time": "2023-01-13T13:21:17.989Z"
   },
   {
    "duration": 63,
    "start_time": "2023-01-13T13:21:56.184Z"
   },
   {
    "duration": 68,
    "start_time": "2023-01-13T13:21:58.568Z"
   },
   {
    "duration": 58,
    "start_time": "2023-01-13T13:22:24.156Z"
   },
   {
    "duration": 648,
    "start_time": "2023-01-13T13:22:48.218Z"
   },
   {
    "duration": 664,
    "start_time": "2023-01-13T13:22:48.868Z"
   },
   {
    "duration": 69,
    "start_time": "2023-01-13T13:22:49.534Z"
   },
   {
    "duration": 52,
    "start_time": "2023-01-13T13:22:49.605Z"
   },
   {
    "duration": 4,
    "start_time": "2023-01-13T13:22:49.658Z"
   },
   {
    "duration": 276,
    "start_time": "2023-01-13T13:22:49.663Z"
   },
   {
    "duration": 13,
    "start_time": "2023-01-13T13:22:49.941Z"
   },
   {
    "duration": 24,
    "start_time": "2023-01-13T13:22:49.956Z"
   },
   {
    "duration": 5,
    "start_time": "2023-01-13T13:22:49.982Z"
   },
   {
    "duration": 188,
    "start_time": "2023-01-13T13:22:49.990Z"
   },
   {
    "duration": 56,
    "start_time": "2023-01-13T13:22:50.180Z"
   },
   {
    "duration": 75,
    "start_time": "2023-01-13T13:22:50.237Z"
   },
   {
    "duration": 0,
    "start_time": "2023-01-13T13:22:50.314Z"
   },
   {
    "duration": 0,
    "start_time": "2023-01-13T13:22:50.316Z"
   },
   {
    "duration": 0,
    "start_time": "2023-01-13T13:22:50.317Z"
   },
   {
    "duration": 0,
    "start_time": "2023-01-13T13:22:50.318Z"
   },
   {
    "duration": 0,
    "start_time": "2023-01-13T13:22:50.319Z"
   },
   {
    "duration": 0,
    "start_time": "2023-01-13T13:22:50.320Z"
   },
   {
    "duration": 0,
    "start_time": "2023-01-13T13:22:50.321Z"
   },
   {
    "duration": 1,
    "start_time": "2023-01-13T13:22:50.322Z"
   },
   {
    "duration": 0,
    "start_time": "2023-01-13T13:22:50.324Z"
   },
   {
    "duration": 0,
    "start_time": "2023-01-13T13:22:50.325Z"
   },
   {
    "duration": 0,
    "start_time": "2023-01-13T13:22:50.326Z"
   },
   {
    "duration": 0,
    "start_time": "2023-01-13T13:22:50.328Z"
   },
   {
    "duration": 0,
    "start_time": "2023-01-13T13:22:50.329Z"
   },
   {
    "duration": 0,
    "start_time": "2023-01-13T13:22:50.330Z"
   },
   {
    "duration": 0,
    "start_time": "2023-01-13T13:22:50.332Z"
   },
   {
    "duration": 0,
    "start_time": "2023-01-13T13:22:50.333Z"
   },
   {
    "duration": 0,
    "start_time": "2023-01-13T13:22:50.334Z"
   },
   {
    "duration": 0,
    "start_time": "2023-01-13T13:22:50.335Z"
   },
   {
    "duration": 0,
    "start_time": "2023-01-13T13:22:50.336Z"
   },
   {
    "duration": 0,
    "start_time": "2023-01-13T13:22:50.337Z"
   },
   {
    "duration": 0,
    "start_time": "2023-01-13T13:22:50.338Z"
   },
   {
    "duration": 0,
    "start_time": "2023-01-13T13:22:50.339Z"
   },
   {
    "duration": 17,
    "start_time": "2023-01-13T13:23:35.494Z"
   },
   {
    "duration": 19,
    "start_time": "2023-01-13T13:23:39.349Z"
   },
   {
    "duration": 735,
    "start_time": "2023-01-13T13:24:53.484Z"
   },
   {
    "duration": 694,
    "start_time": "2023-01-13T13:24:54.220Z"
   },
   {
    "duration": 66,
    "start_time": "2023-01-13T13:24:54.916Z"
   },
   {
    "duration": 51,
    "start_time": "2023-01-13T13:24:54.984Z"
   },
   {
    "duration": 6,
    "start_time": "2023-01-13T13:24:55.037Z"
   },
   {
    "duration": 312,
    "start_time": "2023-01-13T13:24:55.044Z"
   },
   {
    "duration": 25,
    "start_time": "2023-01-13T13:24:55.358Z"
   },
   {
    "duration": 31,
    "start_time": "2023-01-13T13:24:55.385Z"
   },
   {
    "duration": 20,
    "start_time": "2023-01-13T13:24:55.417Z"
   },
   {
    "duration": 166,
    "start_time": "2023-01-13T13:24:55.439Z"
   },
   {
    "duration": 47,
    "start_time": "2023-01-13T13:24:55.607Z"
   },
   {
    "duration": 38,
    "start_time": "2023-01-13T13:24:55.657Z"
   },
   {
    "duration": 23,
    "start_time": "2023-01-13T13:24:55.697Z"
   },
   {
    "duration": 24,
    "start_time": "2023-01-13T13:24:55.722Z"
   },
   {
    "duration": 26,
    "start_time": "2023-01-13T13:24:55.748Z"
   },
   {
    "duration": 38,
    "start_time": "2023-01-13T13:24:55.777Z"
   },
   {
    "duration": 89,
    "start_time": "2023-01-13T13:24:55.817Z"
   },
   {
    "duration": 52,
    "start_time": "2023-01-13T13:24:55.908Z"
   },
   {
    "duration": 498,
    "start_time": "2023-01-13T13:24:55.961Z"
   },
   {
    "duration": 4,
    "start_time": "2023-01-13T13:24:56.461Z"
   },
   {
    "duration": 46,
    "start_time": "2023-01-13T13:24:56.466Z"
   },
   {
    "duration": 94,
    "start_time": "2023-01-13T13:24:56.513Z"
   },
   {
    "duration": 26,
    "start_time": "2023-01-13T13:24:56.608Z"
   },
   {
    "duration": 58,
    "start_time": "2023-01-13T13:24:56.635Z"
   },
   {
    "duration": 32,
    "start_time": "2023-01-13T13:24:56.694Z"
   },
   {
    "duration": 52,
    "start_time": "2023-01-13T13:24:56.728Z"
   },
   {
    "duration": 406,
    "start_time": "2023-01-13T13:24:56.782Z"
   },
   {
    "duration": 30,
    "start_time": "2023-01-13T13:24:57.191Z"
   },
   {
    "duration": 1512,
    "start_time": "2023-01-13T13:24:57.223Z"
   },
   {
    "duration": 732,
    "start_time": "2023-01-13T13:24:58.738Z"
   },
   {
    "duration": 1200,
    "start_time": "2023-01-13T13:24:59.472Z"
   },
   {
    "duration": 1815,
    "start_time": "2023-01-13T13:25:00.673Z"
   },
   {
    "duration": 1762,
    "start_time": "2023-01-13T13:25:02.490Z"
   },
   {
    "duration": 2551,
    "start_time": "2023-01-13T13:25:04.254Z"
   },
   {
    "duration": 30,
    "start_time": "2023-01-13T13:25:40.433Z"
   },
   {
    "duration": 14,
    "start_time": "2023-01-13T13:27:20.893Z"
   },
   {
    "duration": 14,
    "start_time": "2023-01-13T13:27:42.281Z"
   },
   {
    "duration": 17,
    "start_time": "2023-01-13T13:28:23.663Z"
   },
   {
    "duration": 30,
    "start_time": "2023-01-13T13:30:08.187Z"
   },
   {
    "duration": 24,
    "start_time": "2023-01-13T13:30:25.198Z"
   },
   {
    "duration": 25,
    "start_time": "2023-01-13T13:31:01.615Z"
   },
   {
    "duration": 76,
    "start_time": "2023-01-13T13:32:33.271Z"
   },
   {
    "duration": 24,
    "start_time": "2023-01-13T13:32:49.321Z"
   },
   {
    "duration": 95,
    "start_time": "2023-01-13T13:49:46.092Z"
   },
   {
    "duration": 33,
    "start_time": "2023-01-13T13:50:03.525Z"
   },
   {
    "duration": 33,
    "start_time": "2023-01-13T13:50:22.280Z"
   },
   {
    "duration": 37,
    "start_time": "2023-01-13T13:50:31.995Z"
   },
   {
    "duration": 8,
    "start_time": "2023-01-13T13:52:04.364Z"
   },
   {
    "duration": 23,
    "start_time": "2023-01-13T13:52:43.088Z"
   },
   {
    "duration": 34,
    "start_time": "2023-01-13T13:53:48.221Z"
   },
   {
    "duration": 10,
    "start_time": "2023-01-13T13:54:40.971Z"
   },
   {
    "duration": 6073,
    "start_time": "2023-01-13T13:54:49.921Z"
   },
   {
    "duration": 31,
    "start_time": "2023-01-13T13:55:42.442Z"
   },
   {
    "duration": 49,
    "start_time": "2023-01-13T13:55:54.510Z"
   },
   {
    "duration": 28,
    "start_time": "2023-01-13T13:57:44.720Z"
   },
   {
    "duration": 34,
    "start_time": "2023-01-13T14:05:06.240Z"
   },
   {
    "duration": 28,
    "start_time": "2023-01-13T14:06:10.829Z"
   },
   {
    "duration": 32,
    "start_time": "2023-01-13T14:08:11.600Z"
   },
   {
    "duration": 28,
    "start_time": "2023-01-13T14:10:28.560Z"
   },
   {
    "duration": 27,
    "start_time": "2023-01-13T14:10:54.446Z"
   },
   {
    "duration": 24,
    "start_time": "2023-01-13T14:11:19.567Z"
   },
   {
    "duration": 43,
    "start_time": "2023-01-13T14:11:50.549Z"
   },
   {
    "duration": 8,
    "start_time": "2023-01-13T14:12:27.577Z"
   },
   {
    "duration": 600,
    "start_time": "2023-01-13T14:14:06.503Z"
   },
   {
    "duration": 607,
    "start_time": "2023-01-13T14:14:07.106Z"
   },
   {
    "duration": 54,
    "start_time": "2023-01-13T14:14:07.717Z"
   },
   {
    "duration": 51,
    "start_time": "2023-01-13T14:14:07.778Z"
   },
   {
    "duration": 5,
    "start_time": "2023-01-13T14:14:07.831Z"
   },
   {
    "duration": 248,
    "start_time": "2023-01-13T14:14:07.837Z"
   },
   {
    "duration": 15,
    "start_time": "2023-01-13T14:14:08.086Z"
   },
   {
    "duration": 6,
    "start_time": "2023-01-13T14:14:08.103Z"
   },
   {
    "duration": 5,
    "start_time": "2023-01-13T14:14:08.110Z"
   },
   {
    "duration": 177,
    "start_time": "2023-01-13T14:14:08.116Z"
   },
   {
    "duration": 23,
    "start_time": "2023-01-13T14:14:08.294Z"
   },
   {
    "duration": 35,
    "start_time": "2023-01-13T14:14:08.319Z"
   },
   {
    "duration": 32,
    "start_time": "2023-01-13T14:14:08.357Z"
   },
   {
    "duration": 15,
    "start_time": "2023-01-13T14:14:08.391Z"
   },
   {
    "duration": 55,
    "start_time": "2023-01-13T14:14:08.408Z"
   },
   {
    "duration": 17,
    "start_time": "2023-01-13T14:14:08.465Z"
   },
   {
    "duration": 19,
    "start_time": "2023-01-13T14:14:08.483Z"
   },
   {
    "duration": 8,
    "start_time": "2023-01-13T14:14:08.504Z"
   },
   {
    "duration": 24,
    "start_time": "2023-01-13T14:14:08.513Z"
   },
   {
    "duration": 15,
    "start_time": "2023-01-13T14:14:08.540Z"
   },
   {
    "duration": 15,
    "start_time": "2023-01-13T14:14:08.557Z"
   },
   {
    "duration": 26,
    "start_time": "2023-01-13T14:14:08.573Z"
   },
   {
    "duration": 495,
    "start_time": "2023-01-13T14:14:08.601Z"
   },
   {
    "duration": 5,
    "start_time": "2023-01-13T14:14:09.098Z"
   },
   {
    "duration": 11,
    "start_time": "2023-01-13T14:14:09.105Z"
   },
   {
    "duration": 47,
    "start_time": "2023-01-13T14:14:09.118Z"
   },
   {
    "duration": 102,
    "start_time": "2023-01-13T14:14:09.167Z"
   },
   {
    "duration": 0,
    "start_time": "2023-01-13T14:14:09.278Z"
   },
   {
    "duration": 0,
    "start_time": "2023-01-13T14:14:09.280Z"
   },
   {
    "duration": 0,
    "start_time": "2023-01-13T14:14:09.282Z"
   },
   {
    "duration": 0,
    "start_time": "2023-01-13T14:14:09.285Z"
   },
   {
    "duration": 0,
    "start_time": "2023-01-13T14:14:09.286Z"
   },
   {
    "duration": 0,
    "start_time": "2023-01-13T14:14:09.287Z"
   },
   {
    "duration": 0,
    "start_time": "2023-01-13T14:14:09.289Z"
   },
   {
    "duration": 0,
    "start_time": "2023-01-13T14:14:09.291Z"
   },
   {
    "duration": 0,
    "start_time": "2023-01-13T14:14:09.295Z"
   },
   {
    "duration": 0,
    "start_time": "2023-01-13T14:14:09.297Z"
   },
   {
    "duration": 0,
    "start_time": "2023-01-13T14:14:09.298Z"
   },
   {
    "duration": 0,
    "start_time": "2023-01-13T14:14:09.299Z"
   },
   {
    "duration": 33,
    "start_time": "2023-01-13T14:17:54.394Z"
   },
   {
    "duration": 33,
    "start_time": "2023-01-13T14:18:40.907Z"
   },
   {
    "duration": 17,
    "start_time": "2023-01-13T14:20:51.568Z"
   },
   {
    "duration": 19,
    "start_time": "2023-01-13T14:22:00.196Z"
   },
   {
    "duration": 31,
    "start_time": "2023-01-13T14:22:35.401Z"
   },
   {
    "duration": 22,
    "start_time": "2023-01-13T14:23:11.091Z"
   },
   {
    "duration": 13,
    "start_time": "2023-01-13T14:23:44.165Z"
   },
   {
    "duration": 21,
    "start_time": "2023-01-13T14:23:52.095Z"
   },
   {
    "duration": 19,
    "start_time": "2023-01-13T14:27:09.678Z"
   },
   {
    "duration": 23,
    "start_time": "2023-01-13T14:28:23.769Z"
   },
   {
    "duration": 23,
    "start_time": "2023-01-13T14:28:32.124Z"
   },
   {
    "duration": 32,
    "start_time": "2023-01-13T14:28:40.453Z"
   },
   {
    "duration": 32,
    "start_time": "2023-01-13T14:28:45.245Z"
   },
   {
    "duration": 18,
    "start_time": "2023-01-13T14:29:57.010Z"
   },
   {
    "duration": 30,
    "start_time": "2023-01-13T14:31:02.099Z"
   },
   {
    "duration": 660,
    "start_time": "2023-01-13T14:32:49.157Z"
   },
   {
    "duration": 616,
    "start_time": "2023-01-13T14:32:49.819Z"
   },
   {
    "duration": 53,
    "start_time": "2023-01-13T14:32:50.437Z"
   },
   {
    "duration": 60,
    "start_time": "2023-01-13T14:32:50.493Z"
   },
   {
    "duration": 4,
    "start_time": "2023-01-13T14:32:50.554Z"
   },
   {
    "duration": 246,
    "start_time": "2023-01-13T14:32:50.560Z"
   },
   {
    "duration": 17,
    "start_time": "2023-01-13T14:32:50.807Z"
   },
   {
    "duration": 9,
    "start_time": "2023-01-13T14:32:50.825Z"
   },
   {
    "duration": 16,
    "start_time": "2023-01-13T14:32:50.835Z"
   },
   {
    "duration": 175,
    "start_time": "2023-01-13T14:32:50.854Z"
   },
   {
    "duration": 25,
    "start_time": "2023-01-13T14:32:51.031Z"
   },
   {
    "duration": 44,
    "start_time": "2023-01-13T14:32:51.057Z"
   },
   {
    "duration": 34,
    "start_time": "2023-01-13T14:32:51.102Z"
   },
   {
    "duration": 14,
    "start_time": "2023-01-13T14:32:51.137Z"
   },
   {
    "duration": 71,
    "start_time": "2023-01-13T14:32:51.153Z"
   },
   {
    "duration": 17,
    "start_time": "2023-01-13T14:32:51.226Z"
   },
   {
    "duration": 34,
    "start_time": "2023-01-13T14:32:51.245Z"
   },
   {
    "duration": 16,
    "start_time": "2023-01-13T14:32:51.281Z"
   },
   {
    "duration": 17,
    "start_time": "2023-01-13T14:32:51.299Z"
   },
   {
    "duration": 19,
    "start_time": "2023-01-13T14:32:51.317Z"
   },
   {
    "duration": 21,
    "start_time": "2023-01-13T14:32:51.337Z"
   },
   {
    "duration": 24,
    "start_time": "2023-01-13T14:32:51.361Z"
   },
   {
    "duration": 491,
    "start_time": "2023-01-13T14:32:51.387Z"
   },
   {
    "duration": 5,
    "start_time": "2023-01-13T14:32:51.880Z"
   },
   {
    "duration": 15,
    "start_time": "2023-01-13T14:32:51.887Z"
   },
   {
    "duration": 43,
    "start_time": "2023-01-13T14:32:51.904Z"
   },
   {
    "duration": 23,
    "start_time": "2023-01-13T14:32:51.949Z"
   },
   {
    "duration": 21,
    "start_time": "2023-01-13T14:32:51.980Z"
   },
   {
    "duration": 5,
    "start_time": "2023-01-13T14:32:52.003Z"
   },
   {
    "duration": 23,
    "start_time": "2023-01-13T14:32:52.009Z"
   },
   {
    "duration": 450,
    "start_time": "2023-01-13T14:32:52.034Z"
   },
   {
    "duration": 46,
    "start_time": "2023-01-13T14:32:52.486Z"
   },
   {
    "duration": 1759,
    "start_time": "2023-01-13T14:32:52.534Z"
   },
   {
    "duration": 725,
    "start_time": "2023-01-13T14:32:54.295Z"
   },
   {
    "duration": 1194,
    "start_time": "2023-01-13T14:32:55.022Z"
   },
   {
    "duration": 1771,
    "start_time": "2023-01-13T14:32:56.218Z"
   },
   {
    "duration": 1796,
    "start_time": "2023-01-13T14:32:57.991Z"
   },
   {
    "duration": 2436,
    "start_time": "2023-01-13T14:32:59.788Z"
   },
   {
    "duration": 683,
    "start_time": "2023-01-13T21:32:07.657Z"
   },
   {
    "duration": 687,
    "start_time": "2023-01-13T21:32:08.343Z"
   },
   {
    "duration": 69,
    "start_time": "2023-01-13T21:32:09.031Z"
   },
   {
    "duration": 84,
    "start_time": "2023-01-13T21:32:09.103Z"
   },
   {
    "duration": 4,
    "start_time": "2023-01-13T21:32:09.189Z"
   },
   {
    "duration": 622,
    "start_time": "2023-01-13T21:32:09.195Z"
   },
   {
    "duration": 71,
    "start_time": "2023-01-13T21:32:09.819Z"
   },
   {
    "duration": 10,
    "start_time": "2023-01-13T21:32:09.892Z"
   },
   {
    "duration": 6,
    "start_time": "2023-01-13T21:32:09.904Z"
   },
   {
    "duration": 476,
    "start_time": "2023-01-13T21:32:09.913Z"
   },
   {
    "duration": 101,
    "start_time": "2023-01-13T21:32:10.392Z"
   },
   {
    "duration": 27,
    "start_time": "2023-01-13T21:32:10.495Z"
   },
   {
    "duration": 83,
    "start_time": "2023-01-13T21:32:10.524Z"
   },
   {
    "duration": 6,
    "start_time": "2023-01-13T21:32:10.608Z"
   },
   {
    "duration": 104,
    "start_time": "2023-01-13T21:32:10.616Z"
   },
   {
    "duration": 15,
    "start_time": "2023-01-13T21:32:10.722Z"
   },
   {
    "duration": 18,
    "start_time": "2023-01-13T21:32:10.739Z"
   },
   {
    "duration": 8,
    "start_time": "2023-01-13T21:32:10.784Z"
   },
   {
    "duration": 16,
    "start_time": "2023-01-13T21:32:10.796Z"
   },
   {
    "duration": 11,
    "start_time": "2023-01-13T21:32:10.814Z"
   },
   {
    "duration": 9,
    "start_time": "2023-01-13T21:32:10.827Z"
   },
   {
    "duration": 20,
    "start_time": "2023-01-13T21:32:10.838Z"
   },
   {
    "duration": 523,
    "start_time": "2023-01-13T21:32:10.860Z"
   },
   {
    "duration": 5,
    "start_time": "2023-01-13T21:32:11.388Z"
   },
   {
    "duration": 11,
    "start_time": "2023-01-13T21:32:11.395Z"
   },
   {
    "duration": 32,
    "start_time": "2023-01-13T21:32:11.408Z"
   },
   {
    "duration": 43,
    "start_time": "2023-01-13T21:32:11.442Z"
   },
   {
    "duration": 23,
    "start_time": "2023-01-13T21:32:11.489Z"
   },
   {
    "duration": 4,
    "start_time": "2023-01-13T21:32:11.514Z"
   },
   {
    "duration": 30,
    "start_time": "2023-01-13T21:32:11.520Z"
   },
   {
    "duration": 408,
    "start_time": "2023-01-13T21:32:11.552Z"
   },
   {
    "duration": 47,
    "start_time": "2023-01-13T21:32:11.962Z"
   },
   {
    "duration": 1588,
    "start_time": "2023-01-13T21:32:12.011Z"
   },
   {
    "duration": 690,
    "start_time": "2023-01-13T21:32:13.600Z"
   },
   {
    "duration": 1302,
    "start_time": "2023-01-13T21:32:14.293Z"
   },
   {
    "duration": 1953,
    "start_time": "2023-01-13T21:32:15.597Z"
   },
   {
    "duration": 1916,
    "start_time": "2023-01-13T21:32:17.552Z"
   },
   {
    "duration": 2684,
    "start_time": "2023-01-13T21:32:19.469Z"
   },
   {
    "duration": 24,
    "start_time": "2023-01-13T21:36:28.789Z"
   },
   {
    "duration": 22,
    "start_time": "2023-01-13T21:36:33.321Z"
   },
   {
    "duration": 800,
    "start_time": "2023-01-14T06:52:26.002Z"
   },
   {
    "duration": 1897,
    "start_time": "2023-01-14T06:52:26.804Z"
   },
   {
    "duration": 187,
    "start_time": "2023-01-14T06:52:28.703Z"
   },
   {
    "duration": 63,
    "start_time": "2023-01-14T06:52:28.893Z"
   },
   {
    "duration": 3,
    "start_time": "2023-01-14T06:52:28.958Z"
   },
   {
    "duration": 266,
    "start_time": "2023-01-14T06:52:28.963Z"
   },
   {
    "duration": 14,
    "start_time": "2023-01-14T06:52:29.230Z"
   },
   {
    "duration": 6,
    "start_time": "2023-01-14T06:52:29.245Z"
   },
   {
    "duration": 25,
    "start_time": "2023-01-14T06:52:29.252Z"
   },
   {
    "duration": 162,
    "start_time": "2023-01-14T06:52:29.279Z"
   },
   {
    "duration": 28,
    "start_time": "2023-01-14T06:52:29.443Z"
   },
   {
    "duration": 30,
    "start_time": "2023-01-14T06:52:29.478Z"
   },
   {
    "duration": 46,
    "start_time": "2023-01-14T06:52:29.510Z"
   },
   {
    "duration": 24,
    "start_time": "2023-01-14T06:52:29.559Z"
   },
   {
    "duration": 60,
    "start_time": "2023-01-14T06:52:29.584Z"
   },
   {
    "duration": 17,
    "start_time": "2023-01-14T06:52:29.646Z"
   },
   {
    "duration": 17,
    "start_time": "2023-01-14T06:52:29.679Z"
   },
   {
    "duration": 18,
    "start_time": "2023-01-14T06:52:29.699Z"
   },
   {
    "duration": 30,
    "start_time": "2023-01-14T06:52:29.718Z"
   },
   {
    "duration": 71,
    "start_time": "2023-01-14T06:52:29.751Z"
   },
   {
    "duration": 12,
    "start_time": "2023-01-14T06:52:29.824Z"
   },
   {
    "duration": 19,
    "start_time": "2023-01-14T06:52:29.838Z"
   },
   {
    "duration": 469,
    "start_time": "2023-01-14T06:52:29.859Z"
   },
   {
    "duration": 4,
    "start_time": "2023-01-14T06:52:30.330Z"
   },
   {
    "duration": 15,
    "start_time": "2023-01-14T06:52:30.335Z"
   },
   {
    "duration": 36,
    "start_time": "2023-01-14T06:52:30.352Z"
   },
   {
    "duration": 21,
    "start_time": "2023-01-14T06:52:30.390Z"
   },
   {
    "duration": 34,
    "start_time": "2023-01-14T06:52:30.413Z"
   },
   {
    "duration": 25,
    "start_time": "2023-01-14T06:52:30.448Z"
   },
   {
    "duration": 44,
    "start_time": "2023-01-14T06:52:30.475Z"
   },
   {
    "duration": 420,
    "start_time": "2023-01-14T06:52:30.521Z"
   },
   {
    "duration": 43,
    "start_time": "2023-01-14T06:52:30.944Z"
   },
   {
    "duration": 1630,
    "start_time": "2023-01-14T06:52:30.989Z"
   },
   {
    "duration": 678,
    "start_time": "2023-01-14T06:52:32.621Z"
   },
   {
    "duration": 1183,
    "start_time": "2023-01-14T06:52:33.301Z"
   },
   {
    "duration": 1785,
    "start_time": "2023-01-14T06:52:34.486Z"
   },
   {
    "duration": 1737,
    "start_time": "2023-01-14T06:52:36.273Z"
   },
   {
    "duration": 2586,
    "start_time": "2023-01-14T06:52:38.014Z"
   },
   {
    "duration": 21,
    "start_time": "2023-01-14T06:53:17.202Z"
   },
   {
    "duration": 770,
    "start_time": "2023-01-14T19:49:54.591Z"
   },
   {
    "duration": 806,
    "start_time": "2023-01-14T19:49:55.363Z"
   },
   {
    "duration": 89,
    "start_time": "2023-01-14T19:49:56.172Z"
   },
   {
    "duration": 58,
    "start_time": "2023-01-14T19:49:56.265Z"
   },
   {
    "duration": 7,
    "start_time": "2023-01-14T19:49:56.325Z"
   },
   {
    "duration": 327,
    "start_time": "2023-01-14T19:49:56.335Z"
   },
   {
    "duration": 15,
    "start_time": "2023-01-14T19:49:56.664Z"
   },
   {
    "duration": 25,
    "start_time": "2023-01-14T19:49:56.682Z"
   },
   {
    "duration": 23,
    "start_time": "2023-01-14T19:49:56.709Z"
   },
   {
    "duration": 215,
    "start_time": "2023-01-14T19:49:56.736Z"
   },
   {
    "duration": 31,
    "start_time": "2023-01-14T19:49:56.953Z"
   },
   {
    "duration": 87,
    "start_time": "2023-01-14T19:49:56.986Z"
   },
   {
    "duration": 93,
    "start_time": "2023-01-14T19:49:57.075Z"
   },
   {
    "duration": 43,
    "start_time": "2023-01-14T19:49:57.171Z"
   },
   {
    "duration": 144,
    "start_time": "2023-01-14T19:49:57.216Z"
   },
   {
    "duration": 30,
    "start_time": "2023-01-14T19:49:57.362Z"
   },
   {
    "duration": 41,
    "start_time": "2023-01-14T19:49:57.394Z"
   },
   {
    "duration": 24,
    "start_time": "2023-01-14T19:49:57.437Z"
   },
   {
    "duration": 30,
    "start_time": "2023-01-14T19:49:57.464Z"
   },
   {
    "duration": 25,
    "start_time": "2023-01-14T19:49:57.497Z"
   },
   {
    "duration": 29,
    "start_time": "2023-01-14T19:49:57.524Z"
   },
   {
    "duration": 39,
    "start_time": "2023-01-14T19:49:57.555Z"
   },
   {
    "duration": 561,
    "start_time": "2023-01-14T19:49:57.596Z"
   },
   {
    "duration": 5,
    "start_time": "2023-01-14T19:49:58.159Z"
   },
   {
    "duration": 26,
    "start_time": "2023-01-14T19:49:58.166Z"
   },
   {
    "duration": 66,
    "start_time": "2023-01-14T19:49:58.195Z"
   },
   {
    "duration": 39,
    "start_time": "2023-01-14T19:49:58.263Z"
   },
   {
    "duration": 50,
    "start_time": "2023-01-14T19:49:58.307Z"
   },
   {
    "duration": 7,
    "start_time": "2023-01-14T19:49:58.359Z"
   },
   {
    "duration": 55,
    "start_time": "2023-01-14T19:49:58.368Z"
   },
   {
    "duration": 439,
    "start_time": "2023-01-14T19:49:58.425Z"
   },
   {
    "duration": 61,
    "start_time": "2023-01-14T19:49:58.867Z"
   },
   {
    "duration": 1860,
    "start_time": "2023-01-14T19:49:58.929Z"
   },
   {
    "duration": 805,
    "start_time": "2023-01-14T19:50:00.792Z"
   },
   {
    "duration": 1417,
    "start_time": "2023-01-14T19:50:01.599Z"
   },
   {
    "duration": 2230,
    "start_time": "2023-01-14T19:50:03.018Z"
   },
   {
    "duration": 2002,
    "start_time": "2023-01-14T19:50:05.259Z"
   },
   {
    "duration": 2877,
    "start_time": "2023-01-14T19:50:07.263Z"
   },
   {
    "duration": 70,
    "start_time": "2023-01-14T19:51:18.422Z"
   }
  ],
  "colab": {
   "provenance": []
  },
  "kernelspec": {
   "display_name": "Python 3 (ipykernel)",
   "language": "python",
   "name": "python3"
  },
  "language_info": {
   "codemirror_mode": {
    "name": "ipython",
    "version": 3
   },
   "file_extension": ".py",
   "mimetype": "text/x-python",
   "name": "python",
   "nbconvert_exporter": "python",
   "pygments_lexer": "ipython3",
   "version": "3.9.13"
  },
  "toc": {
   "base_numbering": 1,
   "nav_menu": {},
   "number_sections": true,
   "sideBar": true,
   "skip_h1_title": true,
   "title_cell": "Содержание",
   "title_sidebar": "Contents",
   "toc_cell": true,
   "toc_position": {},
   "toc_section_display": true,
   "toc_window_display": false
  }
 },
 "nbformat": 4,
 "nbformat_minor": 1
}
