{
 "cells": [
  {
   "cell_type": "markdown",
   "metadata": {},
   "source": [
    "# Исследование объявлений о продаже квартир\n",
    "\n",
    "В вашем распоряжении данные сервиса Яндекс.Недвижимость — архив объявлений о продаже квартир в Санкт-Петербурге и соседних населённых пунктов за несколько лет. Нужно научиться определять рыночную стоимость объектов недвижимости. Ваша задача — установить параметры. Это позволит построить автоматизированную систему: она отследит аномалии и мошенническую деятельность. \n",
    "\n",
    "По каждой квартире на продажу доступны два вида данных. Первые вписаны пользователем, вторые — получены автоматически на основе картографических данных. Например, расстояние до центра, аэропорта, ближайшего парка и водоёма. "
   ]
  },
  {
   "cell_type": "markdown",
   "metadata": {},
   "source": [
    "### Откройте файл с данными и изучите общую информацию"
   ]
  },
  {
   "cell_type": "code",
   "execution_count": 1,
   "metadata": {},
   "outputs": [],
   "source": [
    "import pandas as pd"
   ]
  },
  {
   "cell_type": "code",
   "execution_count": 2,
   "metadata": {},
   "outputs": [
    {
     "name": "stdout",
     "output_type": "stream",
     "text": [
      "<class 'pandas.core.frame.DataFrame'>\n",
      "RangeIndex: 23699 entries, 0 to 23698\n",
      "Data columns (total 22 columns):\n",
      " #   Column                Non-Null Count  Dtype  \n",
      "---  ------                --------------  -----  \n",
      " 0   total_images          23699 non-null  int64  \n",
      " 1   last_price            23699 non-null  float64\n",
      " 2   total_area            23699 non-null  float64\n",
      " 3   first_day_exposition  23699 non-null  object \n",
      " 4   rooms                 23699 non-null  int64  \n",
      " 5   ceiling_height        14504 non-null  float64\n",
      " 6   floors_total          23613 non-null  float64\n",
      " 7   living_area           21796 non-null  float64\n",
      " 8   floor                 23699 non-null  int64  \n",
      " 9   is_apartment          2775 non-null   object \n",
      " 10  studio                23699 non-null  bool   \n",
      " 11  open_plan             23699 non-null  bool   \n",
      " 12  kitchen_area          21421 non-null  float64\n",
      " 13  balcony               12180 non-null  float64\n",
      " 14  locality_name         23650 non-null  object \n",
      " 15  airports_nearest      18157 non-null  float64\n",
      " 16  cityCenters_nearest   18180 non-null  float64\n",
      " 17  parks_around3000      18181 non-null  float64\n",
      " 18  parks_nearest         8079 non-null   float64\n",
      " 19  ponds_around3000      18181 non-null  float64\n",
      " 20  ponds_nearest         9110 non-null   float64\n",
      " 21  days_exposition       20518 non-null  float64\n",
      "dtypes: bool(2), float64(14), int64(3), object(3)\n",
      "memory usage: 3.7+ MB\n"
     ]
    },
    {
     "data": {
      "text/html": [
       "<div>\n",
       "<style scoped>\n",
       "    .dataframe tbody tr th:only-of-type {\n",
       "        vertical-align: middle;\n",
       "    }\n",
       "\n",
       "    .dataframe tbody tr th {\n",
       "        vertical-align: top;\n",
       "    }\n",
       "\n",
       "    .dataframe thead th {\n",
       "        text-align: right;\n",
       "    }\n",
       "</style>\n",
       "<table border=\"1\" class=\"dataframe\">\n",
       "  <thead>\n",
       "    <tr style=\"text-align: right;\">\n",
       "      <th></th>\n",
       "      <th>total_images</th>\n",
       "      <th>last_price</th>\n",
       "      <th>total_area</th>\n",
       "      <th>first_day_exposition</th>\n",
       "      <th>rooms</th>\n",
       "      <th>ceiling_height</th>\n",
       "      <th>floors_total</th>\n",
       "      <th>living_area</th>\n",
       "      <th>floor</th>\n",
       "      <th>is_apartment</th>\n",
       "      <th>studio</th>\n",
       "      <th>open_plan</th>\n",
       "      <th>kitchen_area</th>\n",
       "      <th>balcony</th>\n",
       "      <th>locality_name</th>\n",
       "      <th>airports_nearest</th>\n",
       "      <th>cityCenters_nearest</th>\n",
       "      <th>parks_around3000</th>\n",
       "      <th>parks_nearest</th>\n",
       "      <th>ponds_around3000</th>\n",
       "      <th>ponds_nearest</th>\n",
       "      <th>days_exposition</th>\n",
       "    </tr>\n",
       "  </thead>\n",
       "  <tbody>\n",
       "    <tr>\n",
       "      <th>0</th>\n",
       "      <td>20</td>\n",
       "      <td>13000000.0</td>\n",
       "      <td>108.0</td>\n",
       "      <td>2019-03-07T00:00:00</td>\n",
       "      <td>3</td>\n",
       "      <td>2.70</td>\n",
       "      <td>16.0</td>\n",
       "      <td>51.0</td>\n",
       "      <td>8</td>\n",
       "      <td>NaN</td>\n",
       "      <td>False</td>\n",
       "      <td>False</td>\n",
       "      <td>25.0</td>\n",
       "      <td>NaN</td>\n",
       "      <td>Санкт-Петербург</td>\n",
       "      <td>18863.0</td>\n",
       "      <td>16028.0</td>\n",
       "      <td>1.0</td>\n",
       "      <td>482.0</td>\n",
       "      <td>2.0</td>\n",
       "      <td>755.0</td>\n",
       "      <td>NaN</td>\n",
       "    </tr>\n",
       "    <tr>\n",
       "      <th>1</th>\n",
       "      <td>7</td>\n",
       "      <td>3350000.0</td>\n",
       "      <td>40.4</td>\n",
       "      <td>2018-12-04T00:00:00</td>\n",
       "      <td>1</td>\n",
       "      <td>NaN</td>\n",
       "      <td>11.0</td>\n",
       "      <td>18.6</td>\n",
       "      <td>1</td>\n",
       "      <td>NaN</td>\n",
       "      <td>False</td>\n",
       "      <td>False</td>\n",
       "      <td>11.0</td>\n",
       "      <td>2.0</td>\n",
       "      <td>посёлок Шушары</td>\n",
       "      <td>12817.0</td>\n",
       "      <td>18603.0</td>\n",
       "      <td>0.0</td>\n",
       "      <td>NaN</td>\n",
       "      <td>0.0</td>\n",
       "      <td>NaN</td>\n",
       "      <td>81.0</td>\n",
       "    </tr>\n",
       "    <tr>\n",
       "      <th>2</th>\n",
       "      <td>10</td>\n",
       "      <td>5196000.0</td>\n",
       "      <td>56.0</td>\n",
       "      <td>2015-08-20T00:00:00</td>\n",
       "      <td>2</td>\n",
       "      <td>NaN</td>\n",
       "      <td>5.0</td>\n",
       "      <td>34.3</td>\n",
       "      <td>4</td>\n",
       "      <td>NaN</td>\n",
       "      <td>False</td>\n",
       "      <td>False</td>\n",
       "      <td>8.3</td>\n",
       "      <td>0.0</td>\n",
       "      <td>Санкт-Петербург</td>\n",
       "      <td>21741.0</td>\n",
       "      <td>13933.0</td>\n",
       "      <td>1.0</td>\n",
       "      <td>90.0</td>\n",
       "      <td>2.0</td>\n",
       "      <td>574.0</td>\n",
       "      <td>558.0</td>\n",
       "    </tr>\n",
       "    <tr>\n",
       "      <th>3</th>\n",
       "      <td>0</td>\n",
       "      <td>64900000.0</td>\n",
       "      <td>159.0</td>\n",
       "      <td>2015-07-24T00:00:00</td>\n",
       "      <td>3</td>\n",
       "      <td>NaN</td>\n",
       "      <td>14.0</td>\n",
       "      <td>NaN</td>\n",
       "      <td>9</td>\n",
       "      <td>NaN</td>\n",
       "      <td>False</td>\n",
       "      <td>False</td>\n",
       "      <td>NaN</td>\n",
       "      <td>0.0</td>\n",
       "      <td>Санкт-Петербург</td>\n",
       "      <td>28098.0</td>\n",
       "      <td>6800.0</td>\n",
       "      <td>2.0</td>\n",
       "      <td>84.0</td>\n",
       "      <td>3.0</td>\n",
       "      <td>234.0</td>\n",
       "      <td>424.0</td>\n",
       "    </tr>\n",
       "    <tr>\n",
       "      <th>4</th>\n",
       "      <td>2</td>\n",
       "      <td>10000000.0</td>\n",
       "      <td>100.0</td>\n",
       "      <td>2018-06-19T00:00:00</td>\n",
       "      <td>2</td>\n",
       "      <td>3.03</td>\n",
       "      <td>14.0</td>\n",
       "      <td>32.0</td>\n",
       "      <td>13</td>\n",
       "      <td>NaN</td>\n",
       "      <td>False</td>\n",
       "      <td>False</td>\n",
       "      <td>41.0</td>\n",
       "      <td>NaN</td>\n",
       "      <td>Санкт-Петербург</td>\n",
       "      <td>31856.0</td>\n",
       "      <td>8098.0</td>\n",
       "      <td>2.0</td>\n",
       "      <td>112.0</td>\n",
       "      <td>1.0</td>\n",
       "      <td>48.0</td>\n",
       "      <td>121.0</td>\n",
       "    </tr>\n",
       "  </tbody>\n",
       "</table>\n",
       "</div>"
      ],
      "text/plain": [
       "   total_images  last_price  total_area first_day_exposition  rooms  \\\n",
       "0            20  13000000.0       108.0  2019-03-07T00:00:00      3   \n",
       "1             7   3350000.0        40.4  2018-12-04T00:00:00      1   \n",
       "2            10   5196000.0        56.0  2015-08-20T00:00:00      2   \n",
       "3             0  64900000.0       159.0  2015-07-24T00:00:00      3   \n",
       "4             2  10000000.0       100.0  2018-06-19T00:00:00      2   \n",
       "\n",
       "   ceiling_height  floors_total  living_area  floor is_apartment  studio  \\\n",
       "0            2.70          16.0         51.0      8          NaN   False   \n",
       "1             NaN          11.0         18.6      1          NaN   False   \n",
       "2             NaN           5.0         34.3      4          NaN   False   \n",
       "3             NaN          14.0          NaN      9          NaN   False   \n",
       "4            3.03          14.0         32.0     13          NaN   False   \n",
       "\n",
       "   open_plan  kitchen_area  balcony    locality_name  airports_nearest  \\\n",
       "0      False          25.0      NaN  Санкт-Петербург           18863.0   \n",
       "1      False          11.0      2.0   посёлок Шушары           12817.0   \n",
       "2      False           8.3      0.0  Санкт-Петербург           21741.0   \n",
       "3      False           NaN      0.0  Санкт-Петербург           28098.0   \n",
       "4      False          41.0      NaN  Санкт-Петербург           31856.0   \n",
       "\n",
       "   cityCenters_nearest  parks_around3000  parks_nearest  ponds_around3000  \\\n",
       "0              16028.0               1.0          482.0               2.0   \n",
       "1              18603.0               0.0            NaN               0.0   \n",
       "2              13933.0               1.0           90.0               2.0   \n",
       "3               6800.0               2.0           84.0               3.0   \n",
       "4               8098.0               2.0          112.0               1.0   \n",
       "\n",
       "   ponds_nearest  days_exposition  \n",
       "0          755.0              NaN  \n",
       "1            NaN             81.0  \n",
       "2          574.0            558.0  \n",
       "3          234.0            424.0  \n",
       "4           48.0            121.0  "
      ]
     },
     "execution_count": 2,
     "metadata": {},
     "output_type": "execute_result"
    }
   ],
   "source": [
    "data = pd.read_csv('/datasets/real_estate_data.csv', sep = '\\t') #сохраняем в датафрейме data файл real_estate_data.csv из папки /datasets/, указав в качестве разделителя знак табуляции \\t.\n",
    "pd.set_option('display.max_columns', None)\n",
    "data.info() #информация о датафрейме\n",
    "data.head() #информация о первых 5 строках датафрейма"
   ]
  },
  {
   "cell_type": "markdown",
   "metadata": {},
   "source": [
    "Выводы по 1 пункту:\n",
    "1. Данные в столбце first_day_exposition должны быть в формате datetime.  \n",
    "2. В столбце ceiling_height есть пропущенные значения.\n",
    "3. В столбце floors_total есть пропущенные значения и данные должны быть в формате int64 (целые числа).\n",
    "4. В столбце living_area есть пропущенные значения.\n",
    "5. В столбце is_apartment есть пропущенные значения и данные должны быть в формате bool(булевы значения).\n",
    "6. В столбце kitchen_area есть пропущенные значения.\n",
    "7. В столбце balcony есть пропущенные значения и данные должны быть в формате int64 (целые числа).\n",
    "8. В столбце locality_name есть пропущенные значения.\n",
    "9. В столбце airports_nearest есть пропущенные значения.\n",
    "10. В столбце cityCenters_nearest есть пропущенные значения.\n",
    "11. В столбце parks_around3000 есть пропущенные значения и данные должны быть в формате int64 (целые числа).\n",
    "12. В столбце parks_nearest есть пропущенные значения.\n",
    "13. В столбце ponds_around3000 есть пропущенные значения и данные должны быть в формате int64 (целые числа).\n",
    "14. В столбце ponds_nearest есть пропущенные значения.\n",
    "15. В столбце days_exposition есть пропущенные значения и данные должны быть в формате int64 (целые числа). "
   ]
  },
  {
   "cell_type": "code",
   "execution_count": 3,
   "metadata": {},
   "outputs": [
    {
     "data": {
      "image/png": "[encoded data removed]",
      "text/plain": [
       "<Figure size 1080x1440 with 20 Axes>"
      ]
     },
     "metadata": {
      "needs_background": "light"
     },
     "output_type": "display_data"
    }
   ],
   "source": [
    "#построим общую гистограмму для всех столбцов таблицы\n",
    "data.hist(figsize=(15, 20));"
   ]
  },
  {
   "cell_type": "markdown",
   "metadata": {},
   "source": [
    "### Предобработка данных"
   ]
  },
  {
   "cell_type": "code",
   "execution_count": 4,
   "metadata": {},
   "outputs": [],
   "source": [
    "# посчитаем явные дубликаты\n",
    "data.duplicated().sum() #в датафрейме их нет\n",
    "\n",
    "#посмотрим более подробно на значения в стобцах с пропущенными значениями\n",
    "\n",
    "data['balcony'].value_counts() \n",
    "# вероятнее всего пропущенное значение означает отсутствие балкона\n",
    "# заменим пропущенные значения на 0, приведем данные к формату int64 и сохраним.\n",
    "data['balcony'] = data['balcony'].fillna(0).astype('int')\n",
    "\n",
    "# Данные в столбце first_day_exposition переведем в формат datetime и сохраним.\n",
    "data['first_day_exposition'] = pd.to_datetime(data['first_day_exposition'], format = '%Y-%m-%d')\n",
    "\n",
    "data['is_apartment'].value_counts() \n",
    "# вероятнее всего пропущенное значение означает квартиру (не равно апартаменты)\n",
    "# заменим пропущенные значения на False, приведем данные к формату bool и сохраним.\n",
    "data['is_apartment'] = data['is_apartment'].fillna(False).astype('bool')\n",
    "\n",
    "# в столбцах ниже есть пропущенные значения, но заменить их ничем не возможно.Оставляем как есть.\n",
    "data['ceiling_height'].value_counts() \n",
    "data['floors_total'].value_counts() \n",
    "data['living_area'].value_counts() \n",
    "data['locality_name'].value_counts() \n",
    "data['airports_nearest'].value_counts() \n",
    "data['cityCenters_nearest'].value_counts() \n",
    "data['parks_nearest'].value_counts() \n",
    "data['ponds_nearest'].value_counts() \n",
    "data['days_exposition'].value_counts() \n",
    "data['kitchen_area'].value_counts() \n",
    "\n",
    "# в столбцах floors_total и days_exposition невозможно привести данные к формату int64, \n",
    "# так как имеются пропущенные значения, которые нельзя заменить.\n",
    "\n",
    "# в столбцах ниже пропущенные значения скорее всего означает отсутствие данных или ноль(парков или водоемов в радиусе 3 км)\n",
    "# заменим пропущенные значения на 0, приведем данные к формату int64 и сохраним.\n",
    "data['parks_around3000'] = data['parks_around3000'].fillna(0).astype('int') \n",
    "data['ponds_around3000'] = data['ponds_around3000'].fillna(0).astype('int') \n",
    "\n",
    "#приведем к нижнему регистру все названия населенных пунктов для сокращения неявных дубликатов.\n",
    "data['locality_name'] = data['locality_name'].str.lower() \n",
    "# проверим уникальные значения в столбце locality_name\n",
    "data['locality_name'].unique()\n",
    "# обнаруженные неявные дубликаты заменим на уникальные значения\n",
    "data['locality_name'] = data['locality_name'].replace('ё', 'е',regex=True)\n",
    "data['locality_name'] = data['locality_name'].replace(['поселок городского типа''городской поселок'], 'поселок',regex=True)\n",
    "\n",
    "# проверим уникальные значения в столбце ceiling_height\n",
    "data['ceiling_height'].unique() \n",
    "# обнаружены аномальные значения: высота потолков в некоторых квартирах превышает 4 метра \n",
    "# рассчитаем сколько % составляют значения с высотой потолков более 4 метров.\n",
    "len(data['ceiling_height'][data['ceiling_height'] >= 4.0])/len(data['ceiling_height'])*100\n",
    "# отбросим значения с высотой потолков более 4 метров, поскольку они составляют 0,48% от всех значений в столбце ceiling_height\n",
    "data['ceiling_height'] = data['ceiling_height'][data['ceiling_height'] < 4.0]\n",
    "\n",
    "# в данных столбца last_price указано много знаков после запятой, такие значения неудобны для визуального восприятия\n",
    "# сократим количество знаков после запятой до 0.\n",
    "data['last_price'] = data['last_price'].astype('int')"
   ]
  },
  {
   "cell_type": "code",
   "execution_count": 5,
   "metadata": {},
   "outputs": [],
   "source": [
    "#найдем медиану для столбца ceiling_height\n",
    "data['ceiling_height'].median()\n",
    "\n",
    "#заменим пропуски в столбце ceiling_height медианным значением\n",
    "data['ceiling_height'] = data['ceiling_height'].fillna(2.65)"
   ]
  },
  {
   "cell_type": "code",
   "execution_count": 6,
   "metadata": {},
   "outputs": [],
   "source": [
    "# проверим уникальные значения в столбце rooms\n",
    "data['rooms'].unique() \n",
    "# обнаружены аномальные значения: количество комнат в некоторых квартирах составляет 7 и более комнат \n",
    "# рассчитаем сколько % составляют значения с количеством комнат более 7.\n",
    "len(data['rooms'][data['rooms'] >= 7])/len(data['rooms'])*100\n",
    "# отбросим значения с количеством комнат более 7, поскольку они составляют 0,37% от всех значений в столбце rooms\n",
    "data['rooms'] = data['rooms'][data['rooms'] <= 7.0]\n",
    "\n",
    "# согласно гистограмме столбца living_area в датафрейме есть аномальные значения с общей площадью более 100 квадратных метров.\n",
    "# рассчитаем сколько % составляют значения с общей площадью более 100 квадратных метров.\n",
    "len(data['living_area'][data['living_area'] >= 100.0])/len(data['living_area'])*100\n",
    "# отбросим значения с общей площадью более 100 квадратных метров, поскольку они составляют 1,53% от всех значений в столбце living_area\n",
    "data['living_area'] = data['living_area'][data['living_area'] <= 100.0]\n",
    "\n",
    "# проверим сколько уникальных значений в столбце last_price\n",
    "data['last_price'].value_counts() \n",
    "# обнаружены аномальные значения: цена на некоторые квартиры превышает 11 млн рублей \n",
    "# рассчитаем сколько % составляют значения с ценой более 11 млн рублей\n",
    "len(data['last_price'][data['last_price'] >= 11000000])/len(data['last_price'])*100\n",
    "# отбросим значения с ценой более 11 млн рублей, поскольку они составляют менее 10% (9,86%) от всех значений в столбце last_price\n",
    "data['last_price'] = data['last_price'][data['last_price'] <= 11000000]\n"
   ]
  },
  {
   "cell_type": "markdown",
   "metadata": {},
   "source": [
    "### Посчитайте и добавьте в таблицу новые столбцы"
   ]
  },
  {
   "cell_type": "code",
   "execution_count": 7,
   "metadata": {},
   "outputs": [],
   "source": [
    "# рассчитаем цену одного квадратного метра и добавим в датафрейм\n",
    "data['price_of_one_square_meter'] = data['last_price']/data['total_area']\n",
    "\n",
    "# рассчитаем день публикации объявления (0 - понедельник, 1 - вторник и т.д.) и добавим в датафрейм\n",
    "data['day_of_publication'] = data['first_day_exposition'].dt.weekday\n",
    "\n",
    "# рассчитаем месяц публикации объявления и добавим в датафрейм\n",
    "data['month_of_publication'] = data['first_day_exposition'].dt.month\n",
    "\n",
    "# рассчитаем год публикации объявления и добавим в датафрейм\n",
    "data['year_of_publication'] = data['first_day_exposition'].dt.year\n",
    "\n",
    "# рассчитаем тип этажа квартиры (значения — «первый», «последний», «другой») и добавим в датафрейм\n",
    "def floor_type(row): \n",
    "    if row['floor'] == 1:\n",
    "        return 'первый'\n",
    "    if row['floor'] == row['floors_total']:\n",
    "        return 'последний'\n",
    "    if 1 < row['floor'] < row['floors_total']:\n",
    "        return 'другой'\n",
    "data['floor_type'] = data.apply(floor_type, axis=1)\n",
    "\n",
    "# рассчитаем расстояние в км до центра города и добавим в датафрейм\n",
    "#data['cityCenters_nearest_km'] = data['cityCenters_nearest'] / 100\n",
    "\n",
    "# проверяем полученные данные\n",
    "#data.head()    "
   ]
  },
  {
   "cell_type": "code",
   "execution_count": 8,
   "metadata": {},
   "outputs": [
    {
     "data": {
      "text/html": [
       "<div>\n",
       "<style scoped>\n",
       "    .dataframe tbody tr th:only-of-type {\n",
       "        vertical-align: middle;\n",
       "    }\n",
       "\n",
       "    .dataframe tbody tr th {\n",
       "        vertical-align: top;\n",
       "    }\n",
       "\n",
       "    .dataframe thead th {\n",
       "        text-align: right;\n",
       "    }\n",
       "</style>\n",
       "<table border=\"1\" class=\"dataframe\">\n",
       "  <thead>\n",
       "    <tr style=\"text-align: right;\">\n",
       "      <th></th>\n",
       "      <th>total_images</th>\n",
       "      <th>last_price</th>\n",
       "      <th>total_area</th>\n",
       "      <th>first_day_exposition</th>\n",
       "      <th>rooms</th>\n",
       "      <th>ceiling_height</th>\n",
       "      <th>floors_total</th>\n",
       "      <th>living_area</th>\n",
       "      <th>floor</th>\n",
       "      <th>is_apartment</th>\n",
       "      <th>studio</th>\n",
       "      <th>open_plan</th>\n",
       "      <th>kitchen_area</th>\n",
       "      <th>balcony</th>\n",
       "      <th>locality_name</th>\n",
       "      <th>airports_nearest</th>\n",
       "      <th>cityCenters_nearest</th>\n",
       "      <th>parks_around3000</th>\n",
       "      <th>parks_nearest</th>\n",
       "      <th>ponds_around3000</th>\n",
       "      <th>ponds_nearest</th>\n",
       "      <th>days_exposition</th>\n",
       "      <th>price_of_one_square_meter</th>\n",
       "      <th>day_of_publication</th>\n",
       "      <th>month_of_publication</th>\n",
       "      <th>year_of_publication</th>\n",
       "      <th>floor_type</th>\n",
       "      <th>cityCenters_nearest_km</th>\n",
       "    </tr>\n",
       "  </thead>\n",
       "  <tbody>\n",
       "    <tr>\n",
       "      <th>0</th>\n",
       "      <td>20</td>\n",
       "      <td>NaN</td>\n",
       "      <td>108.0</td>\n",
       "      <td>2019-03-07</td>\n",
       "      <td>3.0</td>\n",
       "      <td>2.70</td>\n",
       "      <td>16.0</td>\n",
       "      <td>51.0</td>\n",
       "      <td>8</td>\n",
       "      <td>False</td>\n",
       "      <td>False</td>\n",
       "      <td>False</td>\n",
       "      <td>25.0</td>\n",
       "      <td>0</td>\n",
       "      <td>санкт-петербург</td>\n",
       "      <td>18863.0</td>\n",
       "      <td>16028.0</td>\n",
       "      <td>1</td>\n",
       "      <td>482.0</td>\n",
       "      <td>2</td>\n",
       "      <td>755.0</td>\n",
       "      <td>NaN</td>\n",
       "      <td>NaN</td>\n",
       "      <td>3</td>\n",
       "      <td>3</td>\n",
       "      <td>2019</td>\n",
       "      <td>другой</td>\n",
       "      <td>16.0</td>\n",
       "    </tr>\n",
       "    <tr>\n",
       "      <th>1</th>\n",
       "      <td>7</td>\n",
       "      <td>3350000.0</td>\n",
       "      <td>40.4</td>\n",
       "      <td>2018-12-04</td>\n",
       "      <td>1.0</td>\n",
       "      <td>2.65</td>\n",
       "      <td>11.0</td>\n",
       "      <td>18.6</td>\n",
       "      <td>1</td>\n",
       "      <td>False</td>\n",
       "      <td>False</td>\n",
       "      <td>False</td>\n",
       "      <td>11.0</td>\n",
       "      <td>2</td>\n",
       "      <td>поселок шушары</td>\n",
       "      <td>12817.0</td>\n",
       "      <td>18603.0</td>\n",
       "      <td>0</td>\n",
       "      <td>NaN</td>\n",
       "      <td>0</td>\n",
       "      <td>NaN</td>\n",
       "      <td>81.0</td>\n",
       "      <td>82920.792079</td>\n",
       "      <td>1</td>\n",
       "      <td>12</td>\n",
       "      <td>2018</td>\n",
       "      <td>первый</td>\n",
       "      <td>19.0</td>\n",
       "    </tr>\n",
       "    <tr>\n",
       "      <th>2</th>\n",
       "      <td>10</td>\n",
       "      <td>5196000.0</td>\n",
       "      <td>56.0</td>\n",
       "      <td>2015-08-20</td>\n",
       "      <td>2.0</td>\n",
       "      <td>2.65</td>\n",
       "      <td>5.0</td>\n",
       "      <td>34.3</td>\n",
       "      <td>4</td>\n",
       "      <td>False</td>\n",
       "      <td>False</td>\n",
       "      <td>False</td>\n",
       "      <td>8.3</td>\n",
       "      <td>0</td>\n",
       "      <td>санкт-петербург</td>\n",
       "      <td>21741.0</td>\n",
       "      <td>13933.0</td>\n",
       "      <td>1</td>\n",
       "      <td>90.0</td>\n",
       "      <td>2</td>\n",
       "      <td>574.0</td>\n",
       "      <td>558.0</td>\n",
       "      <td>92785.714286</td>\n",
       "      <td>3</td>\n",
       "      <td>8</td>\n",
       "      <td>2015</td>\n",
       "      <td>другой</td>\n",
       "      <td>14.0</td>\n",
       "    </tr>\n",
       "    <tr>\n",
       "      <th>3</th>\n",
       "      <td>0</td>\n",
       "      <td>NaN</td>\n",
       "      <td>159.0</td>\n",
       "      <td>2015-07-24</td>\n",
       "      <td>3.0</td>\n",
       "      <td>2.65</td>\n",
       "      <td>14.0</td>\n",
       "      <td>NaN</td>\n",
       "      <td>9</td>\n",
       "      <td>False</td>\n",
       "      <td>False</td>\n",
       "      <td>False</td>\n",
       "      <td>NaN</td>\n",
       "      <td>0</td>\n",
       "      <td>санкт-петербург</td>\n",
       "      <td>28098.0</td>\n",
       "      <td>6800.0</td>\n",
       "      <td>2</td>\n",
       "      <td>84.0</td>\n",
       "      <td>3</td>\n",
       "      <td>234.0</td>\n",
       "      <td>424.0</td>\n",
       "      <td>NaN</td>\n",
       "      <td>4</td>\n",
       "      <td>7</td>\n",
       "      <td>2015</td>\n",
       "      <td>другой</td>\n",
       "      <td>7.0</td>\n",
       "    </tr>\n",
       "    <tr>\n",
       "      <th>4</th>\n",
       "      <td>2</td>\n",
       "      <td>10000000.0</td>\n",
       "      <td>100.0</td>\n",
       "      <td>2018-06-19</td>\n",
       "      <td>2.0</td>\n",
       "      <td>3.03</td>\n",
       "      <td>14.0</td>\n",
       "      <td>32.0</td>\n",
       "      <td>13</td>\n",
       "      <td>False</td>\n",
       "      <td>False</td>\n",
       "      <td>False</td>\n",
       "      <td>41.0</td>\n",
       "      <td>0</td>\n",
       "      <td>санкт-петербург</td>\n",
       "      <td>31856.0</td>\n",
       "      <td>8098.0</td>\n",
       "      <td>2</td>\n",
       "      <td>112.0</td>\n",
       "      <td>1</td>\n",
       "      <td>48.0</td>\n",
       "      <td>121.0</td>\n",
       "      <td>100000.000000</td>\n",
       "      <td>1</td>\n",
       "      <td>6</td>\n",
       "      <td>2018</td>\n",
       "      <td>другой</td>\n",
       "      <td>8.0</td>\n",
       "    </tr>\n",
       "  </tbody>\n",
       "</table>\n",
       "</div>"
      ],
      "text/plain": [
       "   total_images  last_price  total_area first_day_exposition  rooms  \\\n",
       "0            20         NaN       108.0           2019-03-07    3.0   \n",
       "1             7   3350000.0        40.4           2018-12-04    1.0   \n",
       "2            10   5196000.0        56.0           2015-08-20    2.0   \n",
       "3             0         NaN       159.0           2015-07-24    3.0   \n",
       "4             2  10000000.0       100.0           2018-06-19    2.0   \n",
       "\n",
       "   ceiling_height  floors_total  living_area  floor  is_apartment  studio  \\\n",
       "0            2.70          16.0         51.0      8         False   False   \n",
       "1            2.65          11.0         18.6      1         False   False   \n",
       "2            2.65           5.0         34.3      4         False   False   \n",
       "3            2.65          14.0          NaN      9         False   False   \n",
       "4            3.03          14.0         32.0     13         False   False   \n",
       "\n",
       "   open_plan  kitchen_area  balcony    locality_name  airports_nearest  \\\n",
       "0      False          25.0        0  санкт-петербург           18863.0   \n",
       "1      False          11.0        2   поселок шушары           12817.0   \n",
       "2      False           8.3        0  санкт-петербург           21741.0   \n",
       "3      False           NaN        0  санкт-петербург           28098.0   \n",
       "4      False          41.0        0  санкт-петербург           31856.0   \n",
       "\n",
       "   cityCenters_nearest  parks_around3000  parks_nearest  ponds_around3000  \\\n",
       "0              16028.0                 1          482.0                 2   \n",
       "1              18603.0                 0            NaN                 0   \n",
       "2              13933.0                 1           90.0                 2   \n",
       "3               6800.0                 2           84.0                 3   \n",
       "4               8098.0                 2          112.0                 1   \n",
       "\n",
       "   ponds_nearest  days_exposition  price_of_one_square_meter  \\\n",
       "0          755.0              NaN                        NaN   \n",
       "1            NaN             81.0               82920.792079   \n",
       "2          574.0            558.0               92785.714286   \n",
       "3          234.0            424.0                        NaN   \n",
       "4           48.0            121.0              100000.000000   \n",
       "\n",
       "   day_of_publication  month_of_publication  year_of_publication floor_type  \\\n",
       "0                   3                     3                 2019     другой   \n",
       "1                   1                    12                 2018     первый   \n",
       "2                   3                     8                 2015     другой   \n",
       "3                   4                     7                 2015     другой   \n",
       "4                   1                     6                 2018     другой   \n",
       "\n",
       "   cityCenters_nearest_km  \n",
       "0                    16.0  \n",
       "1                    19.0  \n",
       "2                    14.0  \n",
       "3                     7.0  \n",
       "4                     8.0  "
      ]
     },
     "execution_count": 8,
     "metadata": {},
     "output_type": "execute_result"
    }
   ],
   "source": [
    "# рассчитаем расстояние в км до центра города и добавим в датафрейм\n",
    "data['cityCenters_nearest_km'] = data['cityCenters_nearest'] / 1000\n",
    "# значения округлим до целого числа.\n",
    "data['cityCenters_nearest_km'] = data['cityCenters_nearest_km'].round(0)\n",
    "\n",
    "# проверяем полученные данные\n",
    "data.head()    "
   ]
  },
  {
   "cell_type": "markdown",
   "metadata": {},
   "source": [
    "### Проведите исследовательский анализ данных"
   ]
  },
  {
   "cell_type": "markdown",
   "metadata": {},
   "source": [
    "#### Изучим более подробно параметры объектов:"
   ]
  },
  {
   "cell_type": "code",
   "execution_count": 9,
   "metadata": {},
   "outputs": [
    {
     "data": {
      "text/plain": [
       "count    23699.000000\n",
       "mean        60.348651\n",
       "std         35.654083\n",
       "min         12.000000\n",
       "25%         40.000000\n",
       "50%         52.000000\n",
       "75%         69.900000\n",
       "max        900.000000\n",
       "Name: total_area, dtype: float64"
      ]
     },
     "execution_count": 9,
     "metadata": {},
     "output_type": "execute_result"
    },
    {
     "data": {
      "image/png": "[encoded data removed]",
      "text/plain": [
       "<Figure size 432x288 with 1 Axes>"
      ]
     },
     "metadata": {
      "needs_background": "light"
     },
     "output_type": "display_data"
    }
   ],
   "source": [
    "#построим гистограмму по данным столбца total_area\n",
    "data['total_area'].sort_values().plot(y = 'total_area', kind = 'hist', bins = 30, range=(0,300), grid=True)\n",
    "data['total_area'].describe()"
   ]
  },
  {
   "cell_type": "markdown",
   "metadata": {},
   "source": [
    "Общая площадь большинства продаваемых квартир находится в диапазоне от 40 до 69 квадратных метров. Есть аномальные значения, но они не значительны."
   ]
  },
  {
   "cell_type": "code",
   "execution_count": 10,
   "metadata": {},
   "outputs": [
    {
     "data": {
      "text/plain": [
       "count    21442.000000\n",
       "mean        32.636450\n",
       "std         15.823574\n",
       "min          2.000000\n",
       "25%         18.500000\n",
       "50%         30.000000\n",
       "75%         42.000000\n",
       "max        100.000000\n",
       "Name: living_area, dtype: float64"
      ]
     },
     "execution_count": 10,
     "metadata": {},
     "output_type": "execute_result"
    },
    {
     "data": {
      "image/png": "[encoded data removed]",
      "text/plain": [
       "<Figure size 432x288 with 1 Axes>"
      ]
     },
     "metadata": {
      "needs_background": "light"
     },
     "output_type": "display_data"
    }
   ],
   "source": [
    "#построим гистограмму по данным столбца living_area\n",
    "data['living_area'].sort_values().plot(y = 'living_area', kind = 'hist', bins = 40, range=(10,100), grid=True)\n",
    "data['living_area'].describe()"
   ]
  },
  {
   "cell_type": "markdown",
   "metadata": {},
   "source": [
    "Жилая площадь продаваемых квартир находится в диапазоне от 18 до 42 квадратных метров. Есть аномальные значения, но они не значительны."
   ]
  },
  {
   "cell_type": "code",
   "execution_count": 11,
   "metadata": {},
   "outputs": [
    {
     "data": {
      "text/plain": [
       "count    21421.000000\n",
       "mean        10.569807\n",
       "std          5.905438\n",
       "min          1.300000\n",
       "25%          7.000000\n",
       "50%          9.100000\n",
       "75%         12.000000\n",
       "max        112.000000\n",
       "Name: kitchen_area, dtype: float64"
      ]
     },
     "execution_count": 11,
     "metadata": {},
     "output_type": "execute_result"
    },
    {
     "data": {
      "image/png": "[encoded data removed]",
      "text/plain": [
       "<Figure size 432x288 with 1 Axes>"
      ]
     },
     "metadata": {
      "needs_background": "light"
     },
     "output_type": "display_data"
    }
   ],
   "source": [
    "#построим гистограмму по данным столбца kitchen_area\n",
    "data['kitchen_area'].sort_values().plot(y = 'kitchen_area', kind = 'hist', bins = 30, range=(0,30), grid=True)\n",
    "data['kitchen_area'].describe()"
   ]
  },
  {
   "cell_type": "markdown",
   "metadata": {},
   "source": [
    "Площадь кухни в продаваемых квартирах находится в диапазоне от 6 до 12 квадратных метров. Есть аномальные значения, но они не значительны."
   ]
  },
  {
   "cell_type": "code",
   "execution_count": 12,
   "metadata": {},
   "outputs": [
    {
     "data": {
      "text/plain": [
       "count    2.141500e+04\n",
       "mean     4.770791e+06\n",
       "std      2.122018e+06\n",
       "min      1.219000e+04\n",
       "25%      3.300000e+06\n",
       "50%      4.400000e+06\n",
       "75%      5.950000e+06\n",
       "max      1.100000e+07\n",
       "Name: last_price, dtype: float64"
      ]
     },
     "execution_count": 12,
     "metadata": {},
     "output_type": "execute_result"
    },
    {
     "data": {
      "image/png": "[encoded data removed]",
      "text/plain": [
       "<Figure size 432x288 with 1 Axes>"
      ]
     },
     "metadata": {
      "needs_background": "light"
     },
     "output_type": "display_data"
    }
   ],
   "source": [
    "#построим гистограмму по данным столбца last_price\n",
    "data.plot(y = 'last_price', kind = 'hist', bins = 100, grid=True, range = (0,15000000))\n",
    "data['last_price'].describe()"
   ]
  },
  {
   "cell_type": "markdown",
   "metadata": {},
   "source": [
    "Стоимость продаваемых квартир находится в диапазоне от 1,21 млн до 5,95 млн рублей. Значения выводятся в экспоненциальной записи чисел. Есть аномальные значения, но они не значительны."
   ]
  },
  {
   "cell_type": "code",
   "execution_count": 13,
   "metadata": {},
   "outputs": [
    {
     "data": {
      "text/plain": [
       "count    23668.000000\n",
       "mean         2.060250\n",
       "std          1.035396\n",
       "min          0.000000\n",
       "25%          1.000000\n",
       "50%          2.000000\n",
       "75%          3.000000\n",
       "max          7.000000\n",
       "Name: rooms, dtype: float64"
      ]
     },
     "execution_count": 13,
     "metadata": {},
     "output_type": "execute_result"
    },
    {
     "data": {
      "image/png": "[encoded data removed]",
      "text/plain": [
       "<Figure size 432x288 with 1 Axes>"
      ]
     },
     "metadata": {
      "needs_background": "light"
     },
     "output_type": "display_data"
    }
   ],
   "source": [
    "#построим гистограмму по данным столбца rooms\n",
    "data['rooms'].sort_values().plot(y = 'rooms', kind = 'hist', bins = 30, range=(0,9), grid=True)\n",
    "data['rooms'].describe()"
   ]
  },
  {
   "cell_type": "markdown",
   "metadata": {},
   "source": [
    "Количество комнат в большинстве продаваемых квартир от 1 до 3. Есть аномальные значения, но они не значительны."
   ]
  },
  {
   "cell_type": "code",
   "execution_count": 14,
   "metadata": {},
   "outputs": [
    {
     "data": {
      "text/plain": [
       "count    23699.000000\n",
       "mean         2.690830\n",
       "std          0.197986\n",
       "min          1.000000\n",
       "25%          2.600000\n",
       "50%          2.650000\n",
       "75%          2.700000\n",
       "max          3.980000\n",
       "Name: ceiling_height, dtype: float64"
      ]
     },
     "execution_count": 14,
     "metadata": {},
     "output_type": "execute_result"
    },
    {
     "data": {
      "image/png": "[encoded data removed]",
      "text/plain": [
       "<Figure size 432x288 with 1 Axes>"
      ]
     },
     "metadata": {
      "needs_background": "light"
     },
     "output_type": "display_data"
    }
   ],
   "source": [
    "#построим гистограмму по данным столбца ceiling_height\n",
    "data['ceiling_height'].sort_values().plot(y = 'ceiling_height', kind = 'hist', bins = 30, range=(1,4), grid=True)\n",
    "data['ceiling_height'].describe()"
   ]
  },
  {
   "cell_type": "markdown",
   "metadata": {},
   "source": [
    "Высота потолков в большинстве квартир находится в диапазоне от 2,6 до 2,7 метров."
   ]
  },
  {
   "cell_type": "code",
   "execution_count": 15,
   "metadata": {},
   "outputs": [
    {
     "data": {
      "text/plain": [
       "count    23699.000000\n",
       "mean         5.892358\n",
       "std          4.885249\n",
       "min          1.000000\n",
       "25%          2.000000\n",
       "50%          4.000000\n",
       "75%          8.000000\n",
       "max         33.000000\n",
       "Name: floor, dtype: float64"
      ]
     },
     "execution_count": 15,
     "metadata": {},
     "output_type": "execute_result"
    },
    {
     "data": {
      "image/png": "[encoded data removed]",
      "text/plain": [
       "<Figure size 432x288 with 1 Axes>"
      ]
     },
     "metadata": {
      "needs_background": "light"
     },
     "output_type": "display_data"
    }
   ],
   "source": [
    "#построим гистограмму по данным столбца floor\n",
    "data['floor'].sort_values().plot(y = 'floor', kind = 'hist', bins = 30, range=(1,30), grid=True)\n",
    "data['floor'].describe()"
   ]
  },
  {
   "cell_type": "markdown",
   "metadata": {},
   "source": [
    "Квартиры, в-основном, продаются с 2 по 8 этаж. Есть аномальные значения, но они не значительны."
   ]
  },
  {
   "cell_type": "code",
   "execution_count": 16,
   "metadata": {},
   "outputs": [
    {
     "data": {
      "text/plain": [
       "count      23616\n",
       "unique         3\n",
       "top       другой\n",
       "freq       17363\n",
       "Name: floor_type, dtype: object"
      ]
     },
     "execution_count": 16,
     "metadata": {},
     "output_type": "execute_result"
    },
    {
     "data": {
      "image/png": "[encoded data removed]",
      "text/plain": [
       "<Figure size 432x288 with 1 Axes>"
      ]
     },
     "metadata": {
      "needs_background": "light"
     },
     "output_type": "display_data"
    }
   ],
   "source": [
    "#построим гистограмму по данным столбца floor_type\n",
    "data['floor_type'].value_counts().plot(y='floor_type', kind='bar')\n",
    "data['floor_type'].describe()"
   ]
  },
  {
   "cell_type": "markdown",
   "metadata": {},
   "source": [
    "Квартиры, расположенные на первом и последнем этажах, редко встречаются в датафрейме."
   ]
  },
  {
   "cell_type": "code",
   "execution_count": 17,
   "metadata": {},
   "outputs": [
    {
     "data": {
      "text/plain": [
       "count    23613.000000\n",
       "mean        10.673824\n",
       "std          6.597173\n",
       "min          1.000000\n",
       "25%          5.000000\n",
       "50%          9.000000\n",
       "75%         16.000000\n",
       "max         60.000000\n",
       "Name: floors_total, dtype: float64"
      ]
     },
     "execution_count": 17,
     "metadata": {},
     "output_type": "execute_result"
    },
    {
     "data": {
      "image/png": "[encoded data removed]",
      "text/plain": [
       "<Figure size 432x288 with 1 Axes>"
      ]
     },
     "metadata": {
      "needs_background": "light"
     },
     "output_type": "display_data"
    }
   ],
   "source": [
    "#построим гистограмму по данным столбца floors_total\n",
    "data['floors_total'].sort_values().plot(y = 'floors_total', kind = 'hist', bins = 30, range=(1,40), grid=True)\n",
    "data['floors_total'].describe()"
   ]
  },
  {
   "cell_type": "markdown",
   "metadata": {},
   "source": [
    "Квартиры продаются по большей части в 5-этажных домах, на втором месте в 9-этажных домах. Есть аномальные значения, но они не значительны."
   ]
  },
  {
   "cell_type": "code",
   "execution_count": 18,
   "metadata": {},
   "outputs": [
    {
     "data": {
      "text/plain": [
       "count    18180.000000\n",
       "mean     14191.277833\n",
       "std       8608.386210\n",
       "min        181.000000\n",
       "25%       9238.000000\n",
       "50%      13098.500000\n",
       "75%      16293.000000\n",
       "max      65968.000000\n",
       "Name: cityCenters_nearest, dtype: float64"
      ]
     },
     "execution_count": 18,
     "metadata": {},
     "output_type": "execute_result"
    },
    {
     "data": {
      "image/png": "[encoded data removed]",
      "text/plain": [
       "<Figure size 432x288 with 1 Axes>"
      ]
     },
     "metadata": {
      "needs_background": "light"
     },
     "output_type": "display_data"
    }
   ],
   "source": [
    "#построим гистограмму по данным столбца cityCenters_nearest\n",
    "data['cityCenters_nearest'].sort_values().plot(y = 'cityCenters_nearest', kind = 'hist', bins = 30, range=(0,60000), grid=True)\n",
    "data['cityCenters_nearest'].describe()"
   ]
  },
  {
   "cell_type": "markdown",
   "metadata": {},
   "source": [
    "Удаленность от центра города у большинства продаваемых квартир составляет от 9,2 до 16,2 км. Есть аномальные значения, но они не значительны."
   ]
  },
  {
   "cell_type": "code",
   "execution_count": 19,
   "metadata": {},
   "outputs": [
    {
     "data": {
      "text/plain": [
       "count    18157.000000\n",
       "mean     28793.672193\n",
       "std      12630.880622\n",
       "min          0.000000\n",
       "25%      18585.000000\n",
       "50%      26726.000000\n",
       "75%      37273.000000\n",
       "max      84869.000000\n",
       "Name: airports_nearest, dtype: float64"
      ]
     },
     "execution_count": 19,
     "metadata": {},
     "output_type": "execute_result"
    },
    {
     "data": {
      "image/png": "[encoded data removed]",
      "text/plain": [
       "<Figure size 432x288 with 1 Axes>"
      ]
     },
     "metadata": {
      "needs_background": "light"
     },
     "output_type": "display_data"
    }
   ],
   "source": [
    "#построим гистограмму по данным столбца airports_nearest\n",
    "data['airports_nearest'].sort_values().plot(y = 'airports_nearest', kind = 'hist', bins = 30, range=(0,80000), grid=True)\n",
    "data['airports_nearest'].describe()"
   ]
  },
  {
   "cell_type": "markdown",
   "metadata": {},
   "source": [
    "Удаленность от аэропорта у большинства продаваемых квартир составляет от 18 до 38 км. Есть аномальные значения, но они не значительны."
   ]
  },
  {
   "cell_type": "code",
   "execution_count": 20,
   "metadata": {},
   "outputs": [
    {
     "data": {
      "text/plain": [
       "count    8079.000000\n",
       "mean      490.804555\n",
       "std       342.317995\n",
       "min         1.000000\n",
       "25%       288.000000\n",
       "50%       455.000000\n",
       "75%       612.000000\n",
       "max      3190.000000\n",
       "Name: parks_nearest, dtype: float64"
      ]
     },
     "execution_count": 20,
     "metadata": {},
     "output_type": "execute_result"
    },
    {
     "data": {
      "image/png": "[encoded data removed]",
      "text/plain": [
       "<Figure size 432x288 with 1 Axes>"
      ]
     },
     "metadata": {
      "needs_background": "light"
     },
     "output_type": "display_data"
    }
   ],
   "source": [
    "#построим гистограмму по данным столбца parks_nearest\n",
    "data['parks_nearest'].sort_values().plot(y = 'parks_nearest', kind = 'hist', bins = 30, range=(0,4000), grid=True)\n",
    "data['parks_nearest'].describe()"
   ]
  },
  {
   "cell_type": "markdown",
   "metadata": {},
   "source": [
    "У большинства продаваемых квартир в пределах 612 метров есть парк. Есть аномальные значения, но они не значительны."
   ]
  },
  {
   "cell_type": "code",
   "execution_count": 21,
   "metadata": {},
   "outputs": [
    {
     "data": {
      "text/plain": [
       "count    23699.000000\n",
       "mean         2.569307\n",
       "std          1.789082\n",
       "min          0.000000\n",
       "25%          1.000000\n",
       "50%          3.000000\n",
       "75%          4.000000\n",
       "max          6.000000\n",
       "Name: day_of_publication, dtype: float64"
      ]
     },
     "execution_count": 21,
     "metadata": {},
     "output_type": "execute_result"
    },
    {
     "data": {
      "image/png": "[encoded data removed]",
      "text/plain": [
       "<Figure size 432x288 with 1 Axes>"
      ]
     },
     "metadata": {
      "needs_background": "light"
     },
     "output_type": "display_data"
    }
   ],
   "source": [
    "#построим гистограмму по данным столбца day_of_publication \n",
    "data['day_of_publication'].sort_values().plot(y = 'day_of_publication', kind = 'hist', bins = 30, range=(0,6), grid=True)\n",
    "data['day_of_publication'].describe()"
   ]
  },
  {
   "cell_type": "markdown",
   "metadata": {},
   "source": [
    "Объявления о продаже квартир чаще всего появляются в будние дни."
   ]
  },
  {
   "cell_type": "code",
   "execution_count": 22,
   "metadata": {},
   "outputs": [
    {
     "data": {
      "text/plain": [
       "count    23699.000000\n",
       "mean         6.400101\n",
       "std          3.491561\n",
       "min          1.000000\n",
       "25%          3.000000\n",
       "50%          6.000000\n",
       "75%         10.000000\n",
       "max         12.000000\n",
       "Name: month_of_publication, dtype: float64"
      ]
     },
     "execution_count": 22,
     "metadata": {},
     "output_type": "execute_result"
    },
    {
     "data": {
      "image/png": "[encoded data removed]",
      "text/plain": [
       "<Figure size 432x288 with 1 Axes>"
      ]
     },
     "metadata": {
      "needs_background": "light"
     },
     "output_type": "display_data"
    }
   ],
   "source": [
    "#построим гистограмму по данным столбца month_of_publication.\n",
    "data['month_of_publication'].sort_values().plot(y = 'month_of_publication', kind = 'hist', bins = 30, range=(1,12), grid=True)\n",
    "data['month_of_publication'].describe()"
   ]
  },
  {
   "cell_type": "markdown",
   "metadata": {},
   "source": [
    "Объявления о продаже квартир чаще всего публикуются в период с февраля по апрель и с сентября по ноябрь."
   ]
  },
  {
   "cell_type": "markdown",
   "metadata": {},
   "source": [
    "#### Изучим, как быстро продавались квартиры:"
   ]
  },
  {
   "cell_type": "code",
   "execution_count": 23,
   "metadata": {},
   "outputs": [
    {
     "data": {
      "text/plain": [
       "count    20518.000000\n",
       "mean       180.888634\n",
       "std        219.727988\n",
       "min          1.000000\n",
       "25%         45.000000\n",
       "50%         95.000000\n",
       "75%        232.000000\n",
       "max       1580.000000\n",
       "Name: days_exposition, dtype: float64"
      ]
     },
     "execution_count": 23,
     "metadata": {},
     "output_type": "execute_result"
    },
    {
     "data": {
      "image/png": "[encoded data removed]",
      "text/plain": [
       "<Figure size 432x288 with 1 Axes>"
      ]
     },
     "metadata": {
      "needs_background": "light"
     },
     "output_type": "display_data"
    }
   ],
   "source": [
    "#построим гистограмму по данным столбца day_of_publication (Этот параметр показывает, сколько дней было размещено каждое объявление) \n",
    "data['days_exposition'].sort_values().plot(y = 'days_exposition', kind = 'hist', bins = 30, range=(0,300), grid=True)\n",
    "data['days_exposition'].describe()"
   ]
  },
  {
   "cell_type": "markdown",
   "metadata": {},
   "source": [
    "Квартиры продаются в диапазоне от 45 до 232 дней. При этом продажи меньше 45 дней можно считать быстрыми, а свыше 232 дней необычно долгими."
   ]
  },
  {
   "cell_type": "markdown",
   "metadata": {},
   "source": [
    "#### Изучим, какие факторы больше всего влияют на общую (полную) стоимость объекта:"
   ]
  },
  {
   "cell_type": "markdown",
   "metadata": {},
   "source": [
    "##### Зависимость цены от общей площади:"
   ]
  },
  {
   "cell_type": "code",
   "execution_count": 24,
   "metadata": {},
   "outputs": [
    {
     "data": {
      "text/plain": [
       "<AxesSubplot:xlabel='total_area', ylabel='last_price'>"
      ]
     },
     "execution_count": 24,
     "metadata": {},
     "output_type": "execute_result"
    },
    {
     "data": {
      "image/png": "[encoded data removed]",
      "text/plain": [
       "<Figure size 432x288 with 1 Axes>"
      ]
     },
     "metadata": {
      "needs_background": "light"
     },
     "output_type": "display_data"
    }
   ],
   "source": [
    "data.pivot_table(index='total_area', values='last_price', aggfunc='median').reset_index().plot(kind='scatter', y='last_price', x='total_area')"
   ]
  },
  {
   "cell_type": "markdown",
   "metadata": {},
   "source": [
    "Есть прямая взаимосвязь между ценой и площадью продаваемых квартир."
   ]
  },
  {
   "cell_type": "markdown",
   "metadata": {},
   "source": [
    "##### Зависимость цены от жилой площади:"
   ]
  },
  {
   "cell_type": "code",
   "execution_count": 25,
   "metadata": {},
   "outputs": [
    {
     "data": {
      "text/plain": [
       "<AxesSubplot:xlabel='living_area', ylabel='last_price'>"
      ]
     },
     "execution_count": 25,
     "metadata": {},
     "output_type": "execute_result"
    },
    {
     "data": {
      "image/png": "[encoded data removed]",
      "text/plain": [
       "<Figure size 432x288 with 1 Axes>"
      ]
     },
     "metadata": {
      "needs_background": "light"
     },
     "output_type": "display_data"
    }
   ],
   "source": [
    "data.pivot_table(index='living_area', values='last_price', aggfunc='median').reset_index().plot(kind='scatter', y='last_price', x='living_area')"
   ]
  },
  {
   "cell_type": "markdown",
   "metadata": {},
   "source": [
    "Есть слабая зависимость цены от жилой площади."
   ]
  },
  {
   "cell_type": "markdown",
   "metadata": {},
   "source": [
    "##### Зависимость цены от площади кухни:"
   ]
  },
  {
   "cell_type": "code",
   "execution_count": 26,
   "metadata": {},
   "outputs": [
    {
     "data": {
      "text/plain": [
       "<AxesSubplot:xlabel='kitchen_area', ylabel='last_price'>"
      ]
     },
     "execution_count": 26,
     "metadata": {},
     "output_type": "execute_result"
    },
    {
     "data": {
      "image/png": "[encoded data removed]",
      "text/plain": [
       "<Figure size 432x288 with 1 Axes>"
      ]
     },
     "metadata": {
      "needs_background": "light"
     },
     "output_type": "display_data"
    }
   ],
   "source": [
    "data.pivot_table(index='kitchen_area', values='last_price', aggfunc='median').reset_index().plot(kind='scatter', y='last_price', x='kitchen_area')"
   ]
  },
  {
   "cell_type": "markdown",
   "metadata": {},
   "source": [
    "Есть слабая зависимость между ценой и площадью кухни."
   ]
  },
  {
   "cell_type": "markdown",
   "metadata": {},
   "source": [
    "##### Зависимость цены от количества комнат:"
   ]
  },
  {
   "cell_type": "code",
   "execution_count": 27,
   "metadata": {},
   "outputs": [
    {
     "data": {
      "text/plain": [
       "<AxesSubplot:xlabel='rooms', ylabel='last_price'>"
      ]
     },
     "execution_count": 27,
     "metadata": {},
     "output_type": "execute_result"
    },
    {
     "data": {
      "image/png": "[encoded data removed]",
      "text/plain": [
       "<Figure size 432x288 with 1 Axes>"
      ]
     },
     "metadata": {
      "needs_background": "light"
     },
     "output_type": "display_data"
    }
   ],
   "source": [
    "data.pivot_table(index='rooms', values='last_price', aggfunc='median').reset_index().plot(kind='scatter', y='last_price', x='rooms')"
   ]
  },
  {
   "cell_type": "markdown",
   "metadata": {},
   "source": [
    "Чем больше комнат - тем больше стоимость квартиры."
   ]
  },
  {
   "cell_type": "code",
   "execution_count": 28,
   "metadata": {},
   "outputs": [
    {
     "data": {
      "image/png": "[encoded data removed]",
      "text/plain": [
       "<Figure size 648x648 with 25 Axes>"
      ]
     },
     "metadata": {
      "needs_background": "light"
     },
     "output_type": "display_data"
    }
   ],
   "source": [
    "# добавим расчет матрицы диаграмм рассеяниядля цены, общей площади, жилой площади, площади кухни и количества комнат\n",
    "pivot_table = data[['last_price','total_area','living_area','kitchen_area','rooms']]\n",
    "\n",
    "pd.plotting.scatter_matrix(pivot_table, figsize=(9, 9)); "
   ]
  },
  {
   "cell_type": "markdown",
   "metadata": {},
   "source": [
    "Диаграмма рассеяния наглядно подтверждает, что наиболее значимым фактором, влияющим на стоимость квартиры, является общая площадь квартиры."
   ]
  },
  {
   "cell_type": "code",
   "execution_count": 29,
   "metadata": {},
   "outputs": [
    {
     "name": "stdout",
     "output_type": "stream",
     "text": [
      "Корреляция между ценой и общей площадью равна 0.6848407387240477\n",
      "Корреляция между ценой и жилой площадью равна 0.5699175279545261\n",
      "Корреляция между ценой и площадью кухни равна 0.4697897258125541\n",
      "Корреляция между ценой и количеством комнат равна 0.44709929785800967\n"
     ]
    }
   ],
   "source": [
    "# добавим расчет корреляции для цены, общей площади, жилой площади, площади кухни и количества комнат методом Пирсона\n",
    "print('Корреляция между ценой и общей площадью равна', data['total_area'].corr(data['last_price']))\n",
    "print('Корреляция между ценой и жилой площадью равна', data['living_area'].corr(data['last_price']))\n",
    "print('Корреляция между ценой и площадью кухни равна', data['kitchen_area'].corr(data['last_price']))\n",
    "print('Корреляция между ценой и количеством комнат равна', data['rooms'].corr(data['last_price']))"
   ]
  },
  {
   "cell_type": "markdown",
   "metadata": {},
   "source": [
    "Коэффициент Пирсона подтверждает линейную пропорциональную взаимосвязь между ценой квартир и общей площадью. Остальные факторы на стоимость квартиры влияют слабо."
   ]
  },
  {
   "cell_type": "markdown",
   "metadata": {},
   "source": [
    "##### Зависимость цены от этажа, на котором расположена квартира (первый, последний, другой)"
   ]
  },
  {
   "cell_type": "code",
   "execution_count": 30,
   "metadata": {},
   "outputs": [
    {
     "data": {
      "text/plain": [
       "<AxesSubplot:xlabel='floor_type', ylabel='last_price'>"
      ]
     },
     "execution_count": 30,
     "metadata": {},
     "output_type": "execute_result"
    },
    {
     "data": {
      "image/png": "[encoded data removed]",
      "text/plain": [
       "<Figure size 432x288 with 1 Axes>"
      ]
     },
     "metadata": {
      "needs_background": "light"
     },
     "output_type": "display_data"
    }
   ],
   "source": [
    "data.pivot_table(index='floor_type', values='last_price', aggfunc='median').reset_index().plot(kind='scatter', y='last_price', x='floor_type')"
   ]
  },
  {
   "cell_type": "markdown",
   "metadata": {},
   "source": [
    "Квартиры на первом и последнем этажах существенно дешевле квартир, расположенных на других этажах."
   ]
  },
  {
   "cell_type": "markdown",
   "metadata": {},
   "source": [
    "##### Зависимость цены от даты размещения (день недели):"
   ]
  },
  {
   "cell_type": "code",
   "execution_count": 31,
   "metadata": {},
   "outputs": [
    {
     "data": {
      "text/plain": [
       "<AxesSubplot:xlabel='day_of_publication', ylabel='last_price'>"
      ]
     },
     "execution_count": 31,
     "metadata": {},
     "output_type": "execute_result"
    },
    {
     "data": {
      "image/png": "[encoded data removed]",
      "text/plain": [
       "<Figure size 432x288 with 1 Axes>"
      ]
     },
     "metadata": {
      "needs_background": "light"
     },
     "output_type": "display_data"
    }
   ],
   "source": [
    "data.pivot_table(index='day_of_publication', values='last_price', aggfunc='median').reset_index().plot(kind='scatter', y='last_price', x='day_of_publication')"
   ]
  },
  {
   "cell_type": "markdown",
   "metadata": {},
   "source": [
    "Со вторника по воскресенье есть обратная связь между днем недели и стоимостью квартир."
   ]
  },
  {
   "cell_type": "markdown",
   "metadata": {},
   "source": [
    "##### Зависимость цены от даты размещения (месяц):"
   ]
  },
  {
   "cell_type": "code",
   "execution_count": 32,
   "metadata": {},
   "outputs": [
    {
     "data": {
      "text/plain": [
       "<AxesSubplot:xlabel='month_of_publication', ylabel='last_price'>"
      ]
     },
     "execution_count": 32,
     "metadata": {},
     "output_type": "execute_result"
    },
    {
     "data": {
      "image/png": "[encoded data removed]",
      "text/plain": [
       "<Figure size 432x288 with 1 Axes>"
      ]
     },
     "metadata": {
      "needs_background": "light"
     },
     "output_type": "display_data"
    }
   ],
   "source": [
    "data.pivot_table(index='month_of_publication', values='last_price', aggfunc='median').reset_index().plot(kind='scatter', y='last_price', x='month_of_publication')"
   ]
  },
  {
   "cell_type": "markdown",
   "metadata": {},
   "source": [
    "Месяц размещения объявления практически не влияет на стоимость квартир."
   ]
  },
  {
   "cell_type": "markdown",
   "metadata": {},
   "source": [
    "##### Зависимость цены от даты размещения (год):"
   ]
  },
  {
   "cell_type": "code",
   "execution_count": 33,
   "metadata": {},
   "outputs": [
    {
     "data": {
      "text/plain": [
       "<AxesSubplot:xlabel='year_of_publication', ylabel='last_price'>"
      ]
     },
     "execution_count": 33,
     "metadata": {},
     "output_type": "execute_result"
    },
    {
     "data": {
      "image/png": "[encoded data removed]",
      "text/plain": [
       "<Figure size 432x288 with 1 Axes>"
      ]
     },
     "metadata": {
      "needs_background": "light"
     },
     "output_type": "display_data"
    }
   ],
   "source": [
    "data.pivot_table(index='year_of_publication', values='last_price', aggfunc='median').reset_index().plot(kind='scatter', y='last_price', x='year_of_publication')"
   ]
  },
  {
   "cell_type": "markdown",
   "metadata": {},
   "source": [
    "Есть прямая зависимость, начиная с 2017 года. Вероятнее всего связано с ростом стоимости квартир и низкой процентной ипотечной ставкой. "
   ]
  },
  {
   "cell_type": "markdown",
   "metadata": {},
   "source": [
    "#### Посчитаем среднюю цену одного квадратного метра в 10 населённых пунктах с наибольшим числом объявлений:"
   ]
  },
  {
   "cell_type": "code",
   "execution_count": 34,
   "metadata": {},
   "outputs": [
    {
     "name": "stdout",
     "output_type": "stream",
     "text": [
      "                 count           mean\n",
      "locality_name                        \n",
      "санкт-петербург  13522  104996.010402\n",
      "               count          mean\n",
      "locality_name                     \n",
      "выборг           236  57932.878606\n"
     ]
    }
   ],
   "source": [
    "#Посчитайте среднюю цену одного квадратного метра в каждом населенном пункте. \n",
    "average_price_kv_m = data.pivot_table(index = 'locality_name', values = 'price_of_one_square_meter', aggfunc = ['count','mean'])\n",
    "average_price_kv_m.columns = ['count','mean']\n",
    "\n",
    "# сохраним в переменной average_price_kv_m 10 населённых пунктах с наибольшим числом объявлений. \n",
    "average_price_kv_m = average_price_kv_m.sort_values('count', ascending = False).head(10)\n",
    "\n",
    "#населённый пункт с самой высокой стоимостью квадратного метра.\n",
    "print(average_price_kv_m[average_price_kv_m['mean'] == average_price_kv_m['mean'].max()])\n",
    "\n",
    "#населённый пункт с самой низкой стоимостью квадратного метра.\n",
    "print(average_price_kv_m[average_price_kv_m['mean'] == average_price_kv_m['mean'].min()])\n"
   ]
  },
  {
   "cell_type": "markdown",
   "metadata": {},
   "source": [
    "Населённый пункт с самой высокой стоимостью квадратного метра - это Санкт-Петербург, а с самой низкой стоимостью квадратного метра - Выборг."
   ]
  },
  {
   "cell_type": "code",
   "execution_count": 35,
   "metadata": {},
   "outputs": [
    {
     "data": {
      "image/png": "[encoded data removed]",
      "text/plain": [
       "<Figure size 432x288 with 1 Axes>"
      ]
     },
     "metadata": {
      "needs_background": "light"
     },
     "output_type": "display_data"
    }
   ],
   "source": [
    "#построим график для визуализации результатов поиска 10 населённых пунктах с наибольшим числом объявлений.\n",
    "average_price_kv_m.plot(y='count', kind='bar');"
   ]
  },
  {
   "cell_type": "markdown",
   "metadata": {},
   "source": [
    "#### Вычислим, как стоимость объектов зависит от расстояния до центра города:"
   ]
  },
  {
   "cell_type": "code",
   "execution_count": 36,
   "metadata": {},
   "outputs": [
    {
     "data": {
      "text/html": [
       "<div>\n",
       "<style scoped>\n",
       "    .dataframe tbody tr th:only-of-type {\n",
       "        vertical-align: middle;\n",
       "    }\n",
       "\n",
       "    .dataframe tbody tr th {\n",
       "        vertical-align: top;\n",
       "    }\n",
       "\n",
       "    .dataframe thead th {\n",
       "        text-align: right;\n",
       "    }\n",
       "</style>\n",
       "<table border=\"1\" class=\"dataframe\">\n",
       "  <thead>\n",
       "    <tr style=\"text-align: right;\">\n",
       "      <th></th>\n",
       "      <th>price_of_one_square_meter</th>\n",
       "    </tr>\n",
       "    <tr>\n",
       "      <th>cityCenters_nearest_km</th>\n",
       "      <th></th>\n",
       "    </tr>\n",
       "  </thead>\n",
       "  <tbody>\n",
       "    <tr>\n",
       "      <th>0.0</th>\n",
       "      <td>111238.536316</td>\n",
       "    </tr>\n",
       "    <tr>\n",
       "      <th>1.0</th>\n",
       "      <td>116983.691119</td>\n",
       "    </tr>\n",
       "    <tr>\n",
       "      <th>2.0</th>\n",
       "      <td>112646.592032</td>\n",
       "    </tr>\n",
       "    <tr>\n",
       "      <th>3.0</th>\n",
       "      <td>109256.686490</td>\n",
       "    </tr>\n",
       "    <tr>\n",
       "      <th>4.0</th>\n",
       "      <td>112967.753775</td>\n",
       "    </tr>\n",
       "    <tr>\n",
       "      <th>5.0</th>\n",
       "      <td>119091.589106</td>\n",
       "    </tr>\n",
       "    <tr>\n",
       "      <th>6.0</th>\n",
       "      <td>121424.166312</td>\n",
       "    </tr>\n",
       "    <tr>\n",
       "      <th>7.0</th>\n",
       "      <td>115810.758865</td>\n",
       "    </tr>\n",
       "    <tr>\n",
       "      <th>8.0</th>\n",
       "      <td>114851.519488</td>\n",
       "    </tr>\n",
       "    <tr>\n",
       "      <th>9.0</th>\n",
       "      <td>105892.305351</td>\n",
       "    </tr>\n",
       "    <tr>\n",
       "      <th>10.0</th>\n",
       "      <td>107692.118966</td>\n",
       "    </tr>\n",
       "    <tr>\n",
       "      <th>11.0</th>\n",
       "      <td>103949.784180</td>\n",
       "    </tr>\n",
       "    <tr>\n",
       "      <th>12.0</th>\n",
       "      <td>105490.007369</td>\n",
       "    </tr>\n",
       "    <tr>\n",
       "      <th>13.0</th>\n",
       "      <td>105851.311080</td>\n",
       "    </tr>\n",
       "    <tr>\n",
       "      <th>14.0</th>\n",
       "      <td>103307.500310</td>\n",
       "    </tr>\n",
       "    <tr>\n",
       "      <th>15.0</th>\n",
       "      <td>102092.523864</td>\n",
       "    </tr>\n",
       "    <tr>\n",
       "      <th>16.0</th>\n",
       "      <td>99312.634962</td>\n",
       "    </tr>\n",
       "    <tr>\n",
       "      <th>17.0</th>\n",
       "      <td>95149.885603</td>\n",
       "    </tr>\n",
       "    <tr>\n",
       "      <th>18.0</th>\n",
       "      <td>95958.618396</td>\n",
       "    </tr>\n",
       "    <tr>\n",
       "      <th>19.0</th>\n",
       "      <td>97288.886027</td>\n",
       "    </tr>\n",
       "    <tr>\n",
       "      <th>20.0</th>\n",
       "      <td>103045.181922</td>\n",
       "    </tr>\n",
       "    <tr>\n",
       "      <th>21.0</th>\n",
       "      <td>94464.856891</td>\n",
       "    </tr>\n",
       "    <tr>\n",
       "      <th>22.0</th>\n",
       "      <td>90584.428836</td>\n",
       "    </tr>\n",
       "    <tr>\n",
       "      <th>23.0</th>\n",
       "      <td>92063.679612</td>\n",
       "    </tr>\n",
       "    <tr>\n",
       "      <th>24.0</th>\n",
       "      <td>85736.904595</td>\n",
       "    </tr>\n",
       "    <tr>\n",
       "      <th>25.0</th>\n",
       "      <td>91531.371618</td>\n",
       "    </tr>\n",
       "    <tr>\n",
       "      <th>26.0</th>\n",
       "      <td>89285.876593</td>\n",
       "    </tr>\n",
       "    <tr>\n",
       "      <th>27.0</th>\n",
       "      <td>70312.500000</td>\n",
       "    </tr>\n",
       "    <tr>\n",
       "      <th>28.0</th>\n",
       "      <td>81161.915320</td>\n",
       "    </tr>\n",
       "    <tr>\n",
       "      <th>29.0</th>\n",
       "      <td>72953.365445</td>\n",
       "    </tr>\n",
       "  </tbody>\n",
       "</table>\n",
       "</div>"
      ],
      "text/plain": [
       "                        price_of_one_square_meter\n",
       "cityCenters_nearest_km                           \n",
       "0.0                                 111238.536316\n",
       "1.0                                 116983.691119\n",
       "2.0                                 112646.592032\n",
       "3.0                                 109256.686490\n",
       "4.0                                 112967.753775\n",
       "5.0                                 119091.589106\n",
       "6.0                                 121424.166312\n",
       "7.0                                 115810.758865\n",
       "8.0                                 114851.519488\n",
       "9.0                                 105892.305351\n",
       "10.0                                107692.118966\n",
       "11.0                                103949.784180\n",
       "12.0                                105490.007369\n",
       "13.0                                105851.311080\n",
       "14.0                                103307.500310\n",
       "15.0                                102092.523864\n",
       "16.0                                 99312.634962\n",
       "17.0                                 95149.885603\n",
       "18.0                                 95958.618396\n",
       "19.0                                 97288.886027\n",
       "20.0                                103045.181922\n",
       "21.0                                 94464.856891\n",
       "22.0                                 90584.428836\n",
       "23.0                                 92063.679612\n",
       "24.0                                 85736.904595\n",
       "25.0                                 91531.371618\n",
       "26.0                                 89285.876593\n",
       "27.0                                 70312.500000\n",
       "28.0                                 81161.915320\n",
       "29.0                                 72953.365445"
      ]
     },
     "execution_count": 36,
     "metadata": {},
     "output_type": "execute_result"
    }
   ],
   "source": [
    "#выделяем квартиры в Санкт-Петербурге с помощью столбца locality_name и вычисляем среднюю цену каждого километра. \n",
    "data[data['locality_name'] == 'санкт-петербург'].pivot_table(index = 'cityCenters_nearest_km', values = 'price_of_one_square_meter', aggfunc = 'mean')"
   ]
  },
  {
   "cell_type": "markdown",
   "metadata": {},
   "source": [
    "Стоимость объектов обратна пропорциональна расстоянию до центра города."
   ]
  },
  {
   "cell_type": "code",
   "execution_count": 37,
   "metadata": {},
   "outputs": [
    {
     "data": {
      "text/plain": [
       "<AxesSubplot:xlabel='cityCenters_nearest_km', ylabel='price_of_one_square_meter'>"
      ]
     },
     "execution_count": 37,
     "metadata": {},
     "output_type": "execute_result"
    },
    {
     "data": {
      "image/png": "[encoded data removed]",
      "text/plain": [
       "<Figure size 432x288 with 1 Axes>"
      ]
     },
     "metadata": {
      "needs_background": "light"
     },
     "output_type": "display_data"
    }
   ],
   "source": [
    "# рассчитаем сколько км составляет центр города \n",
    "data[data['locality_name'] == 'санкт-петербург'].pivot_table(index = 'cityCenters_nearest_km', values = 'price_of_one_square_meter', aggfunc = 'mean').reset_index().plot(kind='scatter', y='price_of_one_square_meter', x='cityCenters_nearest_km')"
   ]
  },
  {
   "cell_type": "markdown",
   "metadata": {},
   "source": [
    "Судя по графику стоимости квартир, центр города Санкт-Петербурга находится в пределах 5 км от нулевой точки, поскольку цены находятся в определенном диапазоне и не зависят от удаленности от нулевой точки. Квартиры, находящиеся за пределами центра города (или 5 км), снижаются в стоимости в зависимости от удаленности от центра."
   ]
  },
  {
   "cell_type": "markdown",
   "metadata": {},
   "source": [
    "### Общий вывод"
   ]
  },
  {
   "cell_type": "markdown",
   "metadata": {},
   "source": [
    "Таким образом, типичная квартира для продажи обладает следующими параметрами: \n",
    "1. Общая площадь от 40 до 69 квадратных метров.  \n",
    "2. Жилая площадь от 18 до 42 квадратных метров. \n",
    "3. Площадь кухни от 6 до 12 квадратных метров. \n",
    "4. Стоимость от 1,21 млн до 5,95 млн рублей. \n",
    "5. Количество комнат от 1 до 3. \n",
    "6. Высота потолков от 2,6 до 2,7 метров.\n",
    "7. Находится с 2 по 8 этаж. \n",
    "8. Находится на этаже, отличном от первого и последнего.\n",
    "9. Находится в 5-этажных домах, на втором месте в 9-этажных домах. \n",
    "10. Удаленность от центра города составляет от 9,2 до 16,2 км. \n",
    "11. Удаленность от аэропорта у большинства продаваемых квартир составляет от 18 до 38 км. \n",
    "12. В пределах 612 метров есть парк.\n",
    "13. Квартиры на первом и последнем этажах существенно дешевле квартир, расположенных на других этажах.\n",
    "\n",
    "Объявления о продаже квартир чаще всего появляются в будние дни.\n",
    "Объявления о продаже квартир чаще всего публикуются в период с февраля по апрель и с сентября по ноябрь.\n",
    "Квартиры продаются в диапазоне от 45 до 232 дней. При этом продажи меньше 45 дней можно считать быстрыми, а свыше 232 дней необычно долгими.\n",
    "\n",
    "Также было установлено, что цена объекта находится в прямой зависимости с площадью продаваемых квартир, количеством комнат, годом публикации объявления, начиная с 2017 года, а также в обратной зависимости с днем недели (за исключением понедельника),\tрасстоянием до центра города.\n",
    "\n",
    "Коэффициент Пирсона подтверждает линейную пропорциональную взаимосвязь между ценой квартир и общей площадью. Остальные факторы на стоимость квартиры влияют слабо.\n",
    "\n",
    "Населённый пункт с самой высокой стоимостью квадратного метра - это Санкт-Петербург, а с самой низкой стоимостью квадратного метра - Выборг.\n",
    "\n",
    "Квартиры, находящиеся за пределами центра города Санкт-Петербург (или 5 км), снижаются в стоимости в зависимости от удаленности от центра."
   ]
  }
 ],
 "metadata": {
  "ExecuteTimeLog": [
   {
    "duration": 589,
    "start_time": "2022-11-08T11:42:30.723Z"
   },
   {
    "duration": 85,
    "start_time": "2022-11-08T11:42:49.000Z"
   },
   {
    "duration": 88,
    "start_time": "2022-11-08T11:43:14.536Z"
   },
   {
    "duration": 87,
    "start_time": "2022-11-08T11:44:50.676Z"
   },
   {
    "duration": 468,
    "start_time": "2022-11-08T11:44:55.428Z"
   },
   {
    "duration": 111,
    "start_time": "2022-11-08T11:47:50.196Z"
   },
   {
    "duration": 88,
    "start_time": "2022-11-08T11:48:04.292Z"
   },
   {
    "duration": 497,
    "start_time": "2022-11-08T11:48:38.052Z"
   },
   {
    "duration": 125,
    "start_time": "2022-11-08T11:49:12.978Z"
   },
   {
    "duration": 120,
    "start_time": "2022-11-08T11:56:36.723Z"
   },
   {
    "duration": 117,
    "start_time": "2022-11-08T11:59:20.577Z"
   },
   {
    "duration": 153,
    "start_time": "2022-11-08T12:02:33.018Z"
   },
   {
    "duration": 547,
    "start_time": "2022-11-08T12:03:05.246Z"
   },
   {
    "duration": 245,
    "start_time": "2022-11-08T12:03:24.077Z"
   },
   {
    "duration": 195,
    "start_time": "2022-11-08T12:03:35.920Z"
   },
   {
    "duration": 112,
    "start_time": "2022-11-08T12:07:22.517Z"
   },
   {
    "duration": 56,
    "start_time": "2022-11-08T12:31:22.558Z"
   },
   {
    "duration": 543,
    "start_time": "2022-11-08T12:31:46.453Z"
   },
   {
    "duration": 5,
    "start_time": "2022-11-08T12:31:46.998Z"
   },
   {
    "duration": 6,
    "start_time": "2022-11-08T12:32:27.543Z"
   },
   {
    "duration": 27,
    "start_time": "2022-11-08T12:37:20.881Z"
   },
   {
    "duration": 7,
    "start_time": "2022-11-08T12:43:51.027Z"
   },
   {
    "duration": 6,
    "start_time": "2022-11-08T12:46:42.768Z"
   },
   {
    "duration": 7,
    "start_time": "2022-11-08T12:53:15.712Z"
   },
   {
    "duration": 7,
    "start_time": "2022-11-08T12:55:10.179Z"
   },
   {
    "duration": 5,
    "start_time": "2022-11-08T12:55:16.211Z"
   },
   {
    "duration": 559,
    "start_time": "2022-11-08T12:55:25.841Z"
   },
   {
    "duration": 6,
    "start_time": "2022-11-08T12:55:26.402Z"
   },
   {
    "duration": 74,
    "start_time": "2022-11-08T12:56:59.664Z"
   },
   {
    "duration": 13,
    "start_time": "2022-11-08T13:00:21.993Z"
   },
   {
    "duration": 15,
    "start_time": "2022-11-08T13:00:56.024Z"
   },
   {
    "duration": 605,
    "start_time": "2022-11-08T13:01:04.585Z"
   },
   {
    "duration": 674,
    "start_time": "2022-11-08T13:01:18.297Z"
   },
   {
    "duration": 12,
    "start_time": "2022-11-08T13:01:32.483Z"
   },
   {
    "duration": 10,
    "start_time": "2022-11-08T13:02:13.571Z"
   },
   {
    "duration": 69,
    "start_time": "2022-11-08T13:47:53.947Z"
   },
   {
    "duration": 14,
    "start_time": "2022-11-08T13:47:58.265Z"
   },
   {
    "duration": 572,
    "start_time": "2022-11-08T13:48:04.499Z"
   },
   {
    "duration": 14,
    "start_time": "2022-11-08T13:48:05.073Z"
   },
   {
    "duration": 53,
    "start_time": "2022-11-08T13:48:23.039Z"
   },
   {
    "duration": 17,
    "start_time": "2022-11-08T13:48:41.118Z"
   },
   {
    "duration": 77,
    "start_time": "2022-11-08T13:50:28.915Z"
   },
   {
    "duration": 24,
    "start_time": "2022-11-08T13:50:41.679Z"
   },
   {
    "duration": 10,
    "start_time": "2022-11-08T13:50:56.236Z"
   },
   {
    "duration": 11,
    "start_time": "2022-11-08T13:51:17.430Z"
   },
   {
    "duration": 16,
    "start_time": "2022-11-08T13:54:40.712Z"
   },
   {
    "duration": 17,
    "start_time": "2022-11-08T13:55:21.867Z"
   },
   {
    "duration": 21,
    "start_time": "2022-11-08T13:56:07.653Z"
   },
   {
    "duration": 27,
    "start_time": "2022-11-08T13:56:24.984Z"
   },
   {
    "duration": 17,
    "start_time": "2022-11-08T13:56:35.756Z"
   },
   {
    "duration": 17,
    "start_time": "2022-11-08T13:57:25.459Z"
   },
   {
    "duration": 59,
    "start_time": "2022-11-08T13:58:21.703Z"
   },
   {
    "duration": 19,
    "start_time": "2022-11-08T14:06:38.658Z"
   },
   {
    "duration": 29,
    "start_time": "2022-11-08T14:10:20.448Z"
   },
   {
    "duration": 20,
    "start_time": "2022-11-08T14:10:33.371Z"
   },
   {
    "duration": 29,
    "start_time": "2022-11-08T14:10:42.962Z"
   },
   {
    "duration": 21,
    "start_time": "2022-11-08T14:10:58.148Z"
   },
   {
    "duration": 33,
    "start_time": "2022-11-08T14:12:03.056Z"
   },
   {
    "duration": 35,
    "start_time": "2022-11-08T14:12:50.350Z"
   },
   {
    "duration": 28,
    "start_time": "2022-11-08T14:16:09.324Z"
   },
   {
    "duration": 562,
    "start_time": "2022-11-08T14:16:15.202Z"
   },
   {
    "duration": 99,
    "start_time": "2022-11-08T14:16:15.767Z"
   },
   {
    "duration": 54,
    "start_time": "2022-11-08T14:19:28.831Z"
   },
   {
    "duration": 24,
    "start_time": "2022-11-08T14:22:00.091Z"
   },
   {
    "duration": 29,
    "start_time": "2022-11-08T14:23:03.675Z"
   },
   {
    "duration": 424,
    "start_time": "2022-11-08T14:29:58.090Z"
   },
   {
    "duration": 184,
    "start_time": "2022-11-08T14:32:24.785Z"
   },
   {
    "duration": 182,
    "start_time": "2022-11-08T14:32:49.172Z"
   },
   {
    "duration": 219,
    "start_time": "2022-11-08T14:33:21.237Z"
   },
   {
    "duration": 197,
    "start_time": "2022-11-08T14:33:26.739Z"
   },
   {
    "duration": 48,
    "start_time": "2022-11-09T06:37:20.312Z"
   },
   {
    "duration": 540,
    "start_time": "2022-11-09T06:37:28.254Z"
   },
   {
    "duration": 534,
    "start_time": "2022-11-09T06:37:28.796Z"
   },
   {
    "duration": 185,
    "start_time": "2022-11-09T06:40:29.023Z"
   },
   {
    "duration": 211,
    "start_time": "2022-11-09T06:40:56.504Z"
   },
   {
    "duration": 165,
    "start_time": "2022-11-09T06:43:02.965Z"
   },
   {
    "duration": 141,
    "start_time": "2022-11-09T06:43:13.366Z"
   },
   {
    "duration": 155,
    "start_time": "2022-11-09T06:53:47.001Z"
   },
   {
    "duration": 149,
    "start_time": "2022-11-09T06:54:08.063Z"
   },
   {
    "duration": 157,
    "start_time": "2022-11-09T07:13:24.460Z"
   },
   {
    "duration": 497,
    "start_time": "2022-11-09T07:13:33.648Z"
   },
   {
    "duration": 83,
    "start_time": "2022-11-09T07:13:34.147Z"
   },
   {
    "duration": 65,
    "start_time": "2022-11-09T07:14:29.115Z"
   },
   {
    "duration": 44,
    "start_time": "2022-11-09T07:15:13.662Z"
   },
   {
    "duration": 521,
    "start_time": "2022-11-09T07:15:21.281Z"
   },
   {
    "duration": 108,
    "start_time": "2022-11-09T07:15:21.804Z"
   },
   {
    "duration": 490,
    "start_time": "2022-11-09T07:18:16.953Z"
   },
   {
    "duration": 98,
    "start_time": "2022-11-09T07:18:17.445Z"
   },
   {
    "duration": 75,
    "start_time": "2022-11-09T07:19:03.868Z"
   },
   {
    "duration": 517,
    "start_time": "2022-11-09T07:19:10.033Z"
   },
   {
    "duration": 89,
    "start_time": "2022-11-09T07:19:10.551Z"
   },
   {
    "duration": 517,
    "start_time": "2022-11-09T07:27:25.018Z"
   },
   {
    "duration": 106,
    "start_time": "2022-11-09T07:27:25.537Z"
   },
   {
    "duration": 74,
    "start_time": "2022-11-09T07:27:44.941Z"
   },
   {
    "duration": 40,
    "start_time": "2022-11-09T07:36:53.298Z"
   },
   {
    "duration": 28,
    "start_time": "2022-11-09T07:37:04.600Z"
   },
   {
    "duration": 27,
    "start_time": "2022-11-09T07:37:25.267Z"
   },
   {
    "duration": 32,
    "start_time": "2022-11-09T07:39:43.523Z"
   },
   {
    "duration": 43,
    "start_time": "2022-11-09T07:39:58.975Z"
   },
   {
    "duration": 38,
    "start_time": "2022-11-09T07:40:10.083Z"
   },
   {
    "duration": 29,
    "start_time": "2022-11-09T07:40:20.319Z"
   },
   {
    "duration": 28,
    "start_time": "2022-11-09T07:40:32.709Z"
   },
   {
    "duration": 28,
    "start_time": "2022-11-09T07:41:08.853Z"
   },
   {
    "duration": 56,
    "start_time": "2022-11-09T07:41:25.413Z"
   },
   {
    "duration": 31,
    "start_time": "2022-11-09T07:41:40.585Z"
   },
   {
    "duration": 31,
    "start_time": "2022-11-09T07:41:45.835Z"
   },
   {
    "duration": 28,
    "start_time": "2022-11-09T07:42:43.984Z"
   },
   {
    "duration": 36,
    "start_time": "2022-11-09T10:54:27.337Z"
   },
   {
    "duration": 38,
    "start_time": "2022-11-09T10:55:13.662Z"
   },
   {
    "duration": 36,
    "start_time": "2022-11-09T10:55:56.225Z"
   },
   {
    "duration": 47,
    "start_time": "2022-11-09T10:56:43.631Z"
   },
   {
    "duration": 29,
    "start_time": "2022-11-09T10:56:58.426Z"
   },
   {
    "duration": 76,
    "start_time": "2022-11-09T10:57:12.962Z"
   },
   {
    "duration": 29,
    "start_time": "2022-11-09T11:00:12.236Z"
   },
   {
    "duration": 30,
    "start_time": "2022-11-09T11:00:56.977Z"
   },
   {
    "duration": 41,
    "start_time": "2022-11-09T11:03:08.631Z"
   },
   {
    "duration": 46,
    "start_time": "2022-11-09T11:06:01.645Z"
   },
   {
    "duration": 43,
    "start_time": "2022-11-09T11:06:07.147Z"
   },
   {
    "duration": 46,
    "start_time": "2022-11-09T11:07:43.472Z"
   },
   {
    "duration": 39,
    "start_time": "2022-11-09T11:08:13.058Z"
   },
   {
    "duration": 41,
    "start_time": "2022-11-09T11:08:30.623Z"
   },
   {
    "duration": 44,
    "start_time": "2022-11-09T11:10:01.590Z"
   },
   {
    "duration": 70,
    "start_time": "2022-11-09T11:10:10.735Z"
   },
   {
    "duration": 71,
    "start_time": "2022-11-09T11:10:16.718Z"
   },
   {
    "duration": 39,
    "start_time": "2022-11-09T11:11:17.467Z"
   },
   {
    "duration": 68,
    "start_time": "2022-11-09T11:22:08.523Z"
   },
   {
    "duration": 55,
    "start_time": "2022-11-09T11:22:17.123Z"
   },
   {
    "duration": 57,
    "start_time": "2022-11-09T11:28:14.070Z"
   },
   {
    "duration": 74,
    "start_time": "2022-11-09T11:31:28.036Z"
   },
   {
    "duration": 86,
    "start_time": "2022-11-09T11:32:09.719Z"
   },
   {
    "duration": 84,
    "start_time": "2022-11-09T11:32:41.652Z"
   },
   {
    "duration": 142,
    "start_time": "2022-11-09T11:33:17.669Z"
   },
   {
    "duration": 99,
    "start_time": "2022-11-09T11:33:43.300Z"
   },
   {
    "duration": 87,
    "start_time": "2022-11-09T11:33:56.123Z"
   },
   {
    "duration": 90,
    "start_time": "2022-11-09T11:34:02.677Z"
   },
   {
    "duration": 82,
    "start_time": "2022-11-09T11:34:09.985Z"
   },
   {
    "duration": 90,
    "start_time": "2022-11-09T11:34:13.995Z"
   },
   {
    "duration": 88,
    "start_time": "2022-11-09T11:36:01.558Z"
   },
   {
    "duration": 87,
    "start_time": "2022-11-09T11:36:33.836Z"
   },
   {
    "duration": 92,
    "start_time": "2022-11-09T11:37:14.503Z"
   },
   {
    "duration": 121,
    "start_time": "2022-11-09T11:45:31.745Z"
   },
   {
    "duration": 88,
    "start_time": "2022-11-09T11:46:36.135Z"
   },
   {
    "duration": 121,
    "start_time": "2022-11-09T11:47:52.495Z"
   },
   {
    "duration": 478,
    "start_time": "2022-11-09T11:48:41.093Z"
   },
   {
    "duration": 172,
    "start_time": "2022-11-09T11:48:41.573Z"
   },
   {
    "duration": 123,
    "start_time": "2022-11-09T11:49:40.795Z"
   },
   {
    "duration": 96,
    "start_time": "2022-11-09T11:51:44.846Z"
   },
   {
    "duration": 85,
    "start_time": "2022-11-09T11:52:20.090Z"
   },
   {
    "duration": 89,
    "start_time": "2022-11-09T11:54:36.784Z"
   },
   {
    "duration": 100,
    "start_time": "2022-11-09T11:55:04.113Z"
   },
   {
    "duration": 61,
    "start_time": "2022-11-09T11:55:45.028Z"
   },
   {
    "duration": 58,
    "start_time": "2022-11-09T11:56:06.304Z"
   },
   {
    "duration": 510,
    "start_time": "2022-11-09T11:56:13.427Z"
   },
   {
    "duration": 66,
    "start_time": "2022-11-09T11:56:13.939Z"
   },
   {
    "duration": 125,
    "start_time": "2022-11-09T11:57:10.675Z"
   },
   {
    "duration": 82,
    "start_time": "2022-11-09T11:57:51.449Z"
   },
   {
    "duration": 100,
    "start_time": "2022-11-09T11:58:12.238Z"
   },
   {
    "duration": 118,
    "start_time": "2022-11-09T11:59:08.641Z"
   },
   {
    "duration": 117,
    "start_time": "2022-11-09T11:59:35.886Z"
   },
   {
    "duration": 111,
    "start_time": "2022-11-09T12:00:55.657Z"
   },
   {
    "duration": 101,
    "start_time": "2022-11-09T12:07:31.970Z"
   },
   {
    "duration": 537,
    "start_time": "2022-11-09T12:09:32.462Z"
   },
   {
    "duration": 244,
    "start_time": "2022-11-09T12:09:52.142Z"
   },
   {
    "duration": 308,
    "start_time": "2022-11-09T12:09:59.123Z"
   },
   {
    "duration": 102,
    "start_time": "2022-11-09T12:10:14.744Z"
   },
   {
    "duration": 328,
    "start_time": "2022-11-09T12:10:31.652Z"
   },
   {
    "duration": 306,
    "start_time": "2022-11-09T12:10:39.865Z"
   },
   {
    "duration": 350,
    "start_time": "2022-11-09T12:12:11.572Z"
   },
   {
    "duration": 252,
    "start_time": "2022-11-09T12:12:19.605Z"
   },
   {
    "duration": 226,
    "start_time": "2022-11-09T12:12:25.030Z"
   },
   {
    "duration": 99,
    "start_time": "2022-11-09T12:12:44.412Z"
   },
   {
    "duration": 110,
    "start_time": "2022-11-09T12:13:13.491Z"
   },
   {
    "duration": 146,
    "start_time": "2022-11-09T12:13:40.728Z"
   },
   {
    "duration": 113,
    "start_time": "2022-11-09T12:14:01.438Z"
   },
   {
    "duration": 242,
    "start_time": "2022-11-09T12:16:06.034Z"
   },
   {
    "duration": 264,
    "start_time": "2022-11-09T12:16:20.907Z"
   },
   {
    "duration": 176,
    "start_time": "2022-11-09T12:17:25.422Z"
   },
   {
    "duration": 116,
    "start_time": "2022-11-09T12:17:56.969Z"
   },
   {
    "duration": 163,
    "start_time": "2022-11-09T12:20:46.095Z"
   },
   {
    "duration": 113,
    "start_time": "2022-11-09T12:20:59.734Z"
   },
   {
    "duration": 103,
    "start_time": "2022-11-09T12:21:50.645Z"
   },
   {
    "duration": 102,
    "start_time": "2022-11-09T12:21:53.496Z"
   },
   {
    "duration": 130,
    "start_time": "2022-11-09T12:22:03.515Z"
   },
   {
    "duration": 108,
    "start_time": "2022-11-09T12:22:22.631Z"
   },
   {
    "duration": 173,
    "start_time": "2022-11-09T12:22:27.181Z"
   },
   {
    "duration": 516,
    "start_time": "2022-11-09T12:23:13.643Z"
   },
   {
    "duration": 117,
    "start_time": "2022-11-09T12:23:14.161Z"
   },
   {
    "duration": 529,
    "start_time": "2022-11-09T12:23:32.076Z"
   },
   {
    "duration": 120,
    "start_time": "2022-11-09T12:23:32.607Z"
   },
   {
    "duration": 138,
    "start_time": "2022-11-09T12:23:58.226Z"
   },
   {
    "duration": 377,
    "start_time": "2022-11-09T12:25:09.239Z"
   },
   {
    "duration": 107,
    "start_time": "2022-11-09T12:25:20.559Z"
   },
   {
    "duration": 507,
    "start_time": "2022-11-09T12:25:29.062Z"
   },
   {
    "duration": 510,
    "start_time": "2022-11-09T12:25:29.570Z"
   },
   {
    "duration": 77,
    "start_time": "2022-11-09T12:30:09.438Z"
   },
   {
    "duration": 77,
    "start_time": "2022-11-09T12:30:19.271Z"
   },
   {
    "duration": 76,
    "start_time": "2022-11-09T12:30:40.996Z"
   },
   {
    "duration": 521,
    "start_time": "2022-11-09T12:30:49.742Z"
   },
   {
    "duration": 80,
    "start_time": "2022-11-09T12:30:50.264Z"
   },
   {
    "duration": 75,
    "start_time": "2022-11-09T12:31:03.229Z"
   },
   {
    "duration": 435,
    "start_time": "2022-11-09T12:31:15.497Z"
   },
   {
    "duration": 203,
    "start_time": "2022-11-09T12:31:28.892Z"
   },
   {
    "duration": 214,
    "start_time": "2022-11-09T12:31:38.047Z"
   },
   {
    "duration": 353,
    "start_time": "2022-11-09T12:31:46.582Z"
   },
   {
    "duration": 327,
    "start_time": "2022-11-09T12:33:54.253Z"
   },
   {
    "duration": 321,
    "start_time": "2022-11-09T12:34:10.063Z"
   },
   {
    "duration": 363,
    "start_time": "2022-11-09T12:40:04.493Z"
   },
   {
    "duration": 413,
    "start_time": "2022-11-09T12:40:26.586Z"
   },
   {
    "duration": 300,
    "start_time": "2022-11-09T12:40:39.462Z"
   },
   {
    "duration": 313,
    "start_time": "2022-11-09T12:40:52.082Z"
   },
   {
    "duration": 377,
    "start_time": "2022-11-09T12:41:44.821Z"
   },
   {
    "duration": 458,
    "start_time": "2022-11-09T12:41:51.615Z"
   },
   {
    "duration": 604,
    "start_time": "2022-11-09T12:41:52.076Z"
   },
   {
    "duration": 324,
    "start_time": "2022-11-09T12:42:12.535Z"
   },
   {
    "duration": 158,
    "start_time": "2022-11-09T12:42:21.206Z"
   },
   {
    "duration": 319,
    "start_time": "2022-11-09T12:42:36.378Z"
   },
   {
    "duration": 311,
    "start_time": "2022-11-09T12:43:13.997Z"
   },
   {
    "duration": 476,
    "start_time": "2022-11-09T12:43:23.114Z"
   },
   {
    "duration": 571,
    "start_time": "2022-11-09T12:43:23.592Z"
   },
   {
    "duration": 5,
    "start_time": "2022-11-09T12:51:18.888Z"
   },
   {
    "duration": 6,
    "start_time": "2022-11-09T12:51:39.265Z"
   },
   {
    "duration": 371,
    "start_time": "2022-11-09T12:54:19.421Z"
   },
   {
    "duration": 354,
    "start_time": "2022-11-09T12:54:27.670Z"
   },
   {
    "duration": 323,
    "start_time": "2022-11-09T12:54:44.802Z"
   },
   {
    "duration": 320,
    "start_time": "2022-11-09T12:55:01.354Z"
   },
   {
    "duration": 377,
    "start_time": "2022-11-09T12:55:29.743Z"
   },
   {
    "duration": 6,
    "start_time": "2022-11-09T12:55:35.585Z"
   },
   {
    "duration": 462,
    "start_time": "2022-11-09T12:55:41.794Z"
   },
   {
    "duration": 607,
    "start_time": "2022-11-09T12:55:42.258Z"
   },
   {
    "duration": 7,
    "start_time": "2022-11-09T12:55:42.866Z"
   },
   {
    "duration": 97,
    "start_time": "2022-11-09T12:56:35.010Z"
   },
   {
    "duration": 72,
    "start_time": "2022-11-09T12:57:50.030Z"
   },
   {
    "duration": 12,
    "start_time": "2022-11-09T12:58:00.320Z"
   },
   {
    "duration": 13,
    "start_time": "2022-11-09T12:58:24.154Z"
   },
   {
    "duration": 500,
    "start_time": "2022-11-09T12:58:35.934Z"
   },
   {
    "duration": 115,
    "start_time": "2022-11-09T12:58:36.436Z"
   },
   {
    "duration": 68,
    "start_time": "2022-11-09T12:58:36.553Z"
   },
   {
    "duration": 6,
    "start_time": "2022-11-09T12:58:51.647Z"
   },
   {
    "duration": 7,
    "start_time": "2022-11-09T13:00:01.526Z"
   },
   {
    "duration": 24,
    "start_time": "2022-11-09T13:00:48.769Z"
   },
   {
    "duration": 28,
    "start_time": "2022-11-09T13:17:21.948Z"
   },
   {
    "duration": 32,
    "start_time": "2022-11-09T13:24:53.121Z"
   },
   {
    "duration": 69,
    "start_time": "2022-11-09T13:54:38.511Z"
   },
   {
    "duration": 22,
    "start_time": "2022-11-09T13:54:46.647Z"
   },
   {
    "duration": 20,
    "start_time": "2022-11-09T14:08:03.845Z"
   },
   {
    "duration": 22,
    "start_time": "2022-11-09T14:10:45.786Z"
   },
   {
    "duration": 22,
    "start_time": "2022-11-09T14:15:27.367Z"
   },
   {
    "duration": 504,
    "start_time": "2022-11-09T14:15:49.914Z"
   },
   {
    "duration": 119,
    "start_time": "2022-11-09T14:15:50.420Z"
   },
   {
    "duration": 91,
    "start_time": "2022-11-09T14:15:50.541Z"
   },
   {
    "duration": 21,
    "start_time": "2022-11-09T14:19:06.756Z"
   },
   {
    "duration": 503,
    "start_time": "2022-11-09T14:20:52.279Z"
   },
   {
    "duration": 103,
    "start_time": "2022-11-09T14:20:52.784Z"
   },
   {
    "duration": 370,
    "start_time": "2022-11-09T14:20:52.888Z"
   },
   {
    "duration": 362,
    "start_time": "2022-11-09T14:21:51.602Z"
   },
   {
    "duration": 482,
    "start_time": "2022-11-09T14:23:13.004Z"
   },
   {
    "duration": 399,
    "start_time": "2022-11-09T14:23:36.195Z"
   },
   {
    "duration": 74,
    "start_time": "2022-11-09T14:25:24.370Z"
   },
   {
    "duration": 83,
    "start_time": "2022-11-09T14:25:40.007Z"
   },
   {
    "duration": 447,
    "start_time": "2022-11-09T14:27:23.919Z"
   },
   {
    "duration": 413,
    "start_time": "2022-11-09T14:28:55.271Z"
   },
   {
    "duration": 61,
    "start_time": "2022-11-10T07:27:55.261Z"
   },
   {
    "duration": 655,
    "start_time": "2022-11-10T07:28:09.804Z"
   },
   {
    "duration": 145,
    "start_time": "2022-11-10T07:28:10.461Z"
   },
   {
    "duration": 564,
    "start_time": "2022-11-10T07:28:10.608Z"
   },
   {
    "duration": 90,
    "start_time": "2022-11-10T07:28:11.174Z"
   },
   {
    "duration": 854,
    "start_time": "2022-11-10T07:29:07.222Z"
   },
   {
    "duration": 385,
    "start_time": "2022-11-10T07:29:35.840Z"
   },
   {
    "duration": 411,
    "start_time": "2022-11-10T07:29:59.664Z"
   },
   {
    "duration": 81,
    "start_time": "2022-11-10T07:33:24.511Z"
   },
   {
    "duration": 536,
    "start_time": "2022-11-10T07:36:32.379Z"
   },
   {
    "duration": 736,
    "start_time": "2022-11-10T07:36:43.521Z"
   },
   {
    "duration": 1012,
    "start_time": "2022-11-10T07:36:44.260Z"
   },
   {
    "duration": 0,
    "start_time": "2022-11-10T07:36:45.274Z"
   },
   {
    "duration": 0,
    "start_time": "2022-11-10T07:36:45.276Z"
   },
   {
    "duration": 368,
    "start_time": "2022-11-10T07:41:03.441Z"
   },
   {
    "duration": 438,
    "start_time": "2022-11-10T07:41:11.056Z"
   },
   {
    "duration": 384,
    "start_time": "2022-11-10T07:43:05.585Z"
   },
   {
    "duration": 426,
    "start_time": "2022-11-10T07:45:00.892Z"
   },
   {
    "duration": 497,
    "start_time": "2022-11-10T08:21:00.645Z"
   },
   {
    "duration": 427,
    "start_time": "2022-11-10T08:21:26.908Z"
   },
   {
    "duration": 450,
    "start_time": "2022-11-10T08:21:56.638Z"
   },
   {
    "duration": 465,
    "start_time": "2022-11-10T08:22:13.849Z"
   },
   {
    "duration": 469,
    "start_time": "2022-11-10T08:22:28.573Z"
   },
   {
    "duration": 457,
    "start_time": "2022-11-10T08:22:50.718Z"
   },
   {
    "duration": 383,
    "start_time": "2022-11-10T08:23:07.728Z"
   },
   {
    "duration": 390,
    "start_time": "2022-11-10T08:23:24.413Z"
   },
   {
    "duration": 228,
    "start_time": "2022-11-10T08:23:33.648Z"
   },
   {
    "duration": 145,
    "start_time": "2022-11-10T08:25:36.645Z"
   },
   {
    "duration": 186,
    "start_time": "2022-11-10T08:25:49.333Z"
   },
   {
    "duration": 576,
    "start_time": "2022-11-10T08:26:02.510Z"
   },
   {
    "duration": 146,
    "start_time": "2022-11-10T08:26:03.088Z"
   },
   {
    "duration": 548,
    "start_time": "2022-11-10T08:26:03.236Z"
   },
   {
    "duration": 85,
    "start_time": "2022-11-10T08:26:03.787Z"
   },
   {
    "duration": 78,
    "start_time": "2022-11-10T08:27:14.881Z"
   },
   {
    "duration": 81,
    "start_time": "2022-11-10T08:27:23.189Z"
   },
   {
    "duration": 137,
    "start_time": "2022-11-10T08:27:34.599Z"
   },
   {
    "duration": 127,
    "start_time": "2022-11-10T08:28:12.036Z"
   },
   {
    "duration": 133,
    "start_time": "2022-11-10T08:28:25.599Z"
   },
   {
    "duration": 147,
    "start_time": "2022-11-10T08:28:33.589Z"
   },
   {
    "duration": 697,
    "start_time": "2022-11-10T08:31:09.822Z"
   },
   {
    "duration": 472,
    "start_time": "2022-11-10T08:31:53.516Z"
   },
   {
    "duration": 491,
    "start_time": "2022-11-10T08:32:14.372Z"
   },
   {
    "duration": 149,
    "start_time": "2022-11-10T08:38:13.417Z"
   },
   {
    "duration": 126,
    "start_time": "2022-11-10T08:39:44.987Z"
   },
   {
    "duration": 130,
    "start_time": "2022-11-10T08:40:03.231Z"
   },
   {
    "duration": 203,
    "start_time": "2022-11-10T08:40:29.883Z"
   },
   {
    "duration": 125,
    "start_time": "2022-11-10T08:40:47.326Z"
   },
   {
    "duration": 132,
    "start_time": "2022-11-10T08:42:16.649Z"
   },
   {
    "duration": 133,
    "start_time": "2022-11-10T08:42:21.811Z"
   },
   {
    "duration": 668,
    "start_time": "2022-11-10T08:42:27.514Z"
   },
   {
    "duration": 191,
    "start_time": "2022-11-10T08:42:28.187Z"
   },
   {
    "duration": 625,
    "start_time": "2022-11-10T08:42:28.380Z"
   },
   {
    "duration": 92,
    "start_time": "2022-11-10T08:42:29.007Z"
   },
   {
    "duration": 139,
    "start_time": "2022-11-10T08:43:07.613Z"
   },
   {
    "duration": 639,
    "start_time": "2022-11-10T08:49:54.253Z"
   },
   {
    "duration": 177,
    "start_time": "2022-11-10T08:49:54.895Z"
   },
   {
    "duration": 570,
    "start_time": "2022-11-10T08:49:55.074Z"
   },
   {
    "duration": 82,
    "start_time": "2022-11-10T08:49:55.646Z"
   },
   {
    "duration": 641,
    "start_time": "2022-11-10T08:51:38.711Z"
   },
   {
    "duration": 158,
    "start_time": "2022-11-10T08:51:39.355Z"
   },
   {
    "duration": 747,
    "start_time": "2022-11-10T08:51:39.516Z"
   },
   {
    "duration": 81,
    "start_time": "2022-11-10T08:51:40.265Z"
   },
   {
    "duration": 577,
    "start_time": "2022-11-10T09:55:05.808Z"
   },
   {
    "duration": 575,
    "start_time": "2022-11-10T10:01:01.381Z"
   },
   {
    "duration": 273,
    "start_time": "2022-11-10T10:01:26.042Z"
   },
   {
    "duration": 287,
    "start_time": "2022-11-10T10:01:43.167Z"
   },
   {
    "duration": 605,
    "start_time": "2022-11-10T10:02:01.576Z"
   },
   {
    "duration": 189,
    "start_time": "2022-11-10T10:02:02.183Z"
   },
   {
    "duration": 619,
    "start_time": "2022-11-10T10:02:02.375Z"
   },
   {
    "duration": 84,
    "start_time": "2022-11-10T10:04:56.929Z"
   },
   {
    "duration": 0,
    "start_time": "2022-11-10T10:04:57.015Z"
   },
   {
    "duration": 0,
    "start_time": "2022-11-10T10:04:57.018Z"
   },
   {
    "duration": 0,
    "start_time": "2022-11-10T10:04:57.022Z"
   },
   {
    "duration": 0,
    "start_time": "2022-11-10T10:04:57.024Z"
   },
   {
    "duration": 320,
    "start_time": "2022-11-10T10:10:01.752Z"
   },
   {
    "duration": 514,
    "start_time": "2022-11-10T10:10:36.866Z"
   },
   {
    "duration": 490,
    "start_time": "2022-11-10T10:10:55.324Z"
   },
   {
    "duration": 4,
    "start_time": "2022-11-10T10:12:07.868Z"
   },
   {
    "duration": 732,
    "start_time": "2022-11-10T10:18:36.122Z"
   },
   {
    "duration": 146,
    "start_time": "2022-11-10T10:18:36.857Z"
   },
   {
    "duration": 582,
    "start_time": "2022-11-10T10:18:37.008Z"
   },
   {
    "duration": 86,
    "start_time": "2022-11-10T10:18:37.592Z"
   },
   {
    "duration": 0,
    "start_time": "2022-11-10T10:18:37.681Z"
   },
   {
    "duration": 0,
    "start_time": "2022-11-10T10:18:37.683Z"
   },
   {
    "duration": 0,
    "start_time": "2022-11-10T10:18:37.685Z"
   },
   {
    "duration": 0,
    "start_time": "2022-11-10T10:18:37.686Z"
   },
   {
    "duration": 4614,
    "start_time": "2022-11-10T10:18:53.646Z"
   },
   {
    "duration": 4404,
    "start_time": "2022-11-10T11:59:00.433Z"
   },
   {
    "duration": 3,
    "start_time": "2022-11-10T12:10:28.463Z"
   },
   {
    "duration": 590,
    "start_time": "2022-11-10T12:10:35.878Z"
   },
   {
    "duration": 145,
    "start_time": "2022-11-10T12:10:36.471Z"
   },
   {
    "duration": 569,
    "start_time": "2022-11-10T12:10:36.618Z"
   },
   {
    "duration": 3,
    "start_time": "2022-11-10T12:10:37.189Z"
   },
   {
    "duration": 764,
    "start_time": "2022-11-10T12:10:37.195Z"
   },
   {
    "duration": 2,
    "start_time": "2022-11-10T12:10:37.961Z"
   },
   {
    "duration": 15,
    "start_time": "2022-11-10T12:10:37.965Z"
   },
   {
    "duration": 5,
    "start_time": "2022-11-10T12:10:37.983Z"
   },
   {
    "duration": 8,
    "start_time": "2022-11-10T12:10:37.990Z"
   },
   {
    "duration": 455,
    "start_time": "2022-11-10T12:10:38.000Z"
   },
   {
    "duration": 509,
    "start_time": "2022-11-10T12:10:38.458Z"
   },
   {
    "duration": 552,
    "start_time": "2022-11-10T12:10:38.968Z"
   },
   {
    "duration": 666,
    "start_time": "2022-11-10T12:10:39.522Z"
   },
   {
    "duration": 549,
    "start_time": "2022-11-10T12:10:40.191Z"
   },
   {
    "duration": 464,
    "start_time": "2022-11-10T12:10:40.742Z"
   },
   {
    "duration": 483,
    "start_time": "2022-11-10T12:10:41.209Z"
   },
   {
    "duration": 602,
    "start_time": "2022-11-10T12:10:41.695Z"
   },
   {
    "duration": 3,
    "start_time": "2022-11-10T12:10:42.300Z"
   },
   {
    "duration": 78,
    "start_time": "2022-11-10T12:10:42.305Z"
   },
   {
    "duration": 0,
    "start_time": "2022-11-10T12:10:42.385Z"
   },
   {
    "duration": 0,
    "start_time": "2022-11-10T12:10:42.386Z"
   },
   {
    "duration": 624,
    "start_time": "2022-11-10T12:16:30.651Z"
   },
   {
    "duration": 161,
    "start_time": "2022-11-10T12:16:31.279Z"
   },
   {
    "duration": 601,
    "start_time": "2022-11-10T12:16:31.442Z"
   },
   {
    "duration": 847,
    "start_time": "2022-11-10T12:16:32.046Z"
   },
   {
    "duration": 452,
    "start_time": "2022-11-10T12:16:32.895Z"
   },
   {
    "duration": 453,
    "start_time": "2022-11-10T12:16:33.351Z"
   },
   {
    "duration": 464,
    "start_time": "2022-11-10T12:16:33.806Z"
   },
   {
    "duration": 523,
    "start_time": "2022-11-10T12:16:34.272Z"
   },
   {
    "duration": 491,
    "start_time": "2022-11-10T12:16:34.798Z"
   },
   {
    "duration": 499,
    "start_time": "2022-11-10T12:16:35.292Z"
   },
   {
    "duration": 449,
    "start_time": "2022-11-10T12:16:35.793Z"
   },
   {
    "duration": 637,
    "start_time": "2022-11-10T12:16:36.244Z"
   },
   {
    "duration": 490,
    "start_time": "2022-11-10T12:16:36.883Z"
   },
   {
    "duration": 497,
    "start_time": "2022-11-10T12:16:37.375Z"
   },
   {
    "duration": 673,
    "start_time": "2022-11-10T12:16:37.874Z"
   },
   {
    "duration": 477,
    "start_time": "2022-11-10T12:16:38.551Z"
   },
   {
    "duration": 489,
    "start_time": "2022-11-10T12:16:39.030Z"
   },
   {
    "duration": 4,
    "start_time": "2022-11-10T12:16:39.521Z"
   },
   {
    "duration": 82,
    "start_time": "2022-11-10T12:16:39.527Z"
   },
   {
    "duration": 0,
    "start_time": "2022-11-10T12:16:39.612Z"
   },
   {
    "duration": 0,
    "start_time": "2022-11-10T12:16:39.614Z"
   },
   {
    "duration": 474,
    "start_time": "2022-11-10T12:18:04.742Z"
   },
   {
    "duration": 902,
    "start_time": "2022-11-10T12:18:19.321Z"
   },
   {
    "duration": 206,
    "start_time": "2022-11-10T12:18:28.820Z"
   },
   {
    "duration": 200,
    "start_time": "2022-11-10T12:18:45.718Z"
   },
   {
    "duration": 207,
    "start_time": "2022-11-10T12:19:45.239Z"
   },
   {
    "duration": 203,
    "start_time": "2022-11-10T12:19:51.095Z"
   },
   {
    "duration": 254,
    "start_time": "2022-11-10T12:20:31.159Z"
   },
   {
    "duration": 215,
    "start_time": "2022-11-10T12:20:45.615Z"
   },
   {
    "duration": 201,
    "start_time": "2022-11-10T12:20:53.881Z"
   },
   {
    "duration": 215,
    "start_time": "2022-11-10T12:21:04.752Z"
   },
   {
    "duration": 289,
    "start_time": "2022-11-10T12:21:16.416Z"
   },
   {
    "duration": 299,
    "start_time": "2022-11-10T12:21:23.359Z"
   },
   {
    "duration": 204,
    "start_time": "2022-11-10T12:21:45.730Z"
   },
   {
    "duration": 232,
    "start_time": "2022-11-10T12:22:03.993Z"
   },
   {
    "duration": 195,
    "start_time": "2022-11-10T12:24:57.286Z"
   },
   {
    "duration": 232,
    "start_time": "2022-11-10T12:25:05.375Z"
   },
   {
    "duration": 400,
    "start_time": "2022-11-10T12:25:12.764Z"
   },
   {
    "duration": 429,
    "start_time": "2022-11-10T12:27:20.139Z"
   },
   {
    "duration": 484,
    "start_time": "2022-11-10T12:27:24.930Z"
   },
   {
    "duration": 249,
    "start_time": "2022-11-10T12:27:30.928Z"
   },
   {
    "duration": 205,
    "start_time": "2022-11-10T12:27:56.793Z"
   },
   {
    "duration": 195,
    "start_time": "2022-11-10T12:29:14.934Z"
   },
   {
    "duration": 114,
    "start_time": "2022-11-10T12:29:38.826Z"
   },
   {
    "duration": 489,
    "start_time": "2022-11-10T12:30:19.210Z"
   },
   {
    "duration": 193,
    "start_time": "2022-11-10T12:30:24.916Z"
   },
   {
    "duration": 209,
    "start_time": "2022-11-10T12:30:29.993Z"
   },
   {
    "duration": 230,
    "start_time": "2022-11-10T12:32:39.220Z"
   },
   {
    "duration": 185,
    "start_time": "2022-11-10T12:32:44.715Z"
   },
   {
    "duration": 205,
    "start_time": "2022-11-10T12:32:51.417Z"
   },
   {
    "duration": 175,
    "start_time": "2022-11-10T12:32:57.911Z"
   },
   {
    "duration": 435,
    "start_time": "2022-11-10T12:33:04.737Z"
   },
   {
    "duration": 194,
    "start_time": "2022-11-10T12:33:09.462Z"
   },
   {
    "duration": 198,
    "start_time": "2022-11-10T12:33:15.160Z"
   },
   {
    "duration": 197,
    "start_time": "2022-11-10T12:34:38.974Z"
   },
   {
    "duration": 261,
    "start_time": "2022-11-10T12:34:46.625Z"
   },
   {
    "duration": 220,
    "start_time": "2022-11-10T12:36:01.841Z"
   },
   {
    "duration": 194,
    "start_time": "2022-11-10T12:36:33.863Z"
   },
   {
    "duration": 201,
    "start_time": "2022-11-10T12:36:40.956Z"
   },
   {
    "duration": 202,
    "start_time": "2022-11-10T12:38:30.155Z"
   },
   {
    "duration": 187,
    "start_time": "2022-11-10T12:38:37.498Z"
   },
   {
    "duration": 196,
    "start_time": "2022-11-10T12:38:52.525Z"
   },
   {
    "duration": 258,
    "start_time": "2022-11-10T12:39:53.616Z"
   },
   {
    "duration": 42,
    "start_time": "2022-11-10T12:41:56.843Z"
   },
   {
    "duration": 30,
    "start_time": "2022-11-10T12:42:07.999Z"
   },
   {
    "duration": 690,
    "start_time": "2022-11-10T12:42:14.550Z"
   },
   {
    "duration": 147,
    "start_time": "2022-11-10T12:42:15.243Z"
   },
   {
    "duration": 574,
    "start_time": "2022-11-10T12:42:15.392Z"
   },
   {
    "duration": 490,
    "start_time": "2022-11-10T12:42:15.968Z"
   },
   {
    "duration": 277,
    "start_time": "2022-11-10T12:42:16.461Z"
   },
   {
    "duration": 199,
    "start_time": "2022-11-10T12:42:16.739Z"
   },
   {
    "duration": 233,
    "start_time": "2022-11-10T12:42:16.940Z"
   },
   {
    "duration": 210,
    "start_time": "2022-11-10T12:42:17.175Z"
   },
   {
    "duration": 207,
    "start_time": "2022-11-10T12:42:17.387Z"
   },
   {
    "duration": 226,
    "start_time": "2022-11-10T12:42:17.597Z"
   },
   {
    "duration": 110,
    "start_time": "2022-11-10T12:42:17.825Z"
   },
   {
    "duration": 0,
    "start_time": "2022-11-10T12:42:17.937Z"
   },
   {
    "duration": 0,
    "start_time": "2022-11-10T12:42:17.939Z"
   },
   {
    "duration": 0,
    "start_time": "2022-11-10T12:42:17.940Z"
   },
   {
    "duration": 0,
    "start_time": "2022-11-10T12:42:17.951Z"
   },
   {
    "duration": 0,
    "start_time": "2022-11-10T12:42:17.953Z"
   },
   {
    "duration": 0,
    "start_time": "2022-11-10T12:42:17.955Z"
   },
   {
    "duration": 0,
    "start_time": "2022-11-10T12:42:17.957Z"
   },
   {
    "duration": 0,
    "start_time": "2022-11-10T12:42:17.958Z"
   },
   {
    "duration": 0,
    "start_time": "2022-11-10T12:42:17.960Z"
   },
   {
    "duration": 0,
    "start_time": "2022-11-10T12:42:17.962Z"
   },
   {
    "duration": 19,
    "start_time": "2022-11-10T12:43:16.206Z"
   },
   {
    "duration": 17,
    "start_time": "2022-11-10T12:43:22.651Z"
   },
   {
    "duration": 177,
    "start_time": "2022-11-10T12:45:17.192Z"
   },
   {
    "duration": 226,
    "start_time": "2022-11-10T12:46:29.670Z"
   },
   {
    "duration": 268,
    "start_time": "2022-11-10T12:46:49.699Z"
   },
   {
    "duration": 197,
    "start_time": "2022-11-10T12:46:57.066Z"
   },
   {
    "duration": 252,
    "start_time": "2022-11-10T12:47:39.983Z"
   },
   {
    "duration": 274,
    "start_time": "2022-11-10T12:47:43.708Z"
   },
   {
    "duration": 183,
    "start_time": "2022-11-10T12:47:52.790Z"
   },
   {
    "duration": 195,
    "start_time": "2022-11-10T12:48:04.545Z"
   },
   {
    "duration": 14,
    "start_time": "2022-11-10T12:52:29.908Z"
   },
   {
    "duration": 17,
    "start_time": "2022-11-10T12:52:33.124Z"
   },
   {
    "duration": 15,
    "start_time": "2022-11-10T12:52:49.455Z"
   },
   {
    "duration": 16,
    "start_time": "2022-11-10T12:52:54.688Z"
   },
   {
    "duration": 772,
    "start_time": "2022-11-10T12:53:01.602Z"
   },
   {
    "duration": 193,
    "start_time": "2022-11-10T12:53:02.376Z"
   },
   {
    "duration": 680,
    "start_time": "2022-11-10T12:53:02.572Z"
   },
   {
    "duration": 426,
    "start_time": "2022-11-10T12:53:03.255Z"
   },
   {
    "duration": 261,
    "start_time": "2022-11-10T12:53:03.683Z"
   },
   {
    "duration": 220,
    "start_time": "2022-11-10T12:53:03.950Z"
   },
   {
    "duration": 228,
    "start_time": "2022-11-10T12:53:04.172Z"
   },
   {
    "duration": 213,
    "start_time": "2022-11-10T12:53:04.402Z"
   },
   {
    "duration": 195,
    "start_time": "2022-11-10T12:53:04.616Z"
   },
   {
    "duration": 228,
    "start_time": "2022-11-10T12:53:04.815Z"
   },
   {
    "duration": 116,
    "start_time": "2022-11-10T12:53:05.045Z"
   },
   {
    "duration": 0,
    "start_time": "2022-11-10T12:53:05.163Z"
   },
   {
    "duration": 0,
    "start_time": "2022-11-10T12:53:05.165Z"
   },
   {
    "duration": 0,
    "start_time": "2022-11-10T12:53:05.168Z"
   },
   {
    "duration": 0,
    "start_time": "2022-11-10T12:53:05.169Z"
   },
   {
    "duration": 0,
    "start_time": "2022-11-10T12:53:05.170Z"
   },
   {
    "duration": 0,
    "start_time": "2022-11-10T12:53:05.171Z"
   },
   {
    "duration": 0,
    "start_time": "2022-11-10T12:53:05.172Z"
   },
   {
    "duration": 0,
    "start_time": "2022-11-10T12:53:05.174Z"
   },
   {
    "duration": 0,
    "start_time": "2022-11-10T12:53:05.177Z"
   },
   {
    "duration": 0,
    "start_time": "2022-11-10T12:53:05.178Z"
   },
   {
    "duration": 31,
    "start_time": "2022-11-10T12:53:23.204Z"
   },
   {
    "duration": 54,
    "start_time": "2022-11-10T12:56:18.573Z"
   },
   {
    "duration": 45,
    "start_time": "2022-11-10T12:57:28.677Z"
   },
   {
    "duration": 3,
    "start_time": "2022-11-10T12:58:11.214Z"
   },
   {
    "duration": 627,
    "start_time": "2022-11-10T12:58:17.563Z"
   },
   {
    "duration": 159,
    "start_time": "2022-11-10T12:58:18.194Z"
   },
   {
    "duration": 583,
    "start_time": "2022-11-10T12:58:18.355Z"
   },
   {
    "duration": 479,
    "start_time": "2022-11-10T12:58:18.940Z"
   },
   {
    "duration": 328,
    "start_time": "2022-11-10T12:58:19.423Z"
   },
   {
    "duration": 255,
    "start_time": "2022-11-10T12:58:19.753Z"
   },
   {
    "duration": 200,
    "start_time": "2022-11-10T12:58:20.010Z"
   },
   {
    "duration": 227,
    "start_time": "2022-11-10T12:58:20.212Z"
   },
   {
    "duration": 236,
    "start_time": "2022-11-10T12:58:20.440Z"
   },
   {
    "duration": 297,
    "start_time": "2022-11-10T12:58:20.678Z"
   },
   {
    "duration": 3,
    "start_time": "2022-11-10T12:58:20.978Z"
   },
   {
    "duration": 301,
    "start_time": "2022-11-10T12:58:20.983Z"
   },
   {
    "duration": 223,
    "start_time": "2022-11-10T12:58:21.287Z"
   },
   {
    "duration": 219,
    "start_time": "2022-11-10T12:58:21.513Z"
   },
   {
    "duration": 230,
    "start_time": "2022-11-10T12:58:21.735Z"
   },
   {
    "duration": 219,
    "start_time": "2022-11-10T12:58:21.968Z"
   },
   {
    "duration": 300,
    "start_time": "2022-11-10T12:58:22.189Z"
   },
   {
    "duration": 3,
    "start_time": "2022-11-10T12:58:22.492Z"
   },
   {
    "duration": 94,
    "start_time": "2022-11-10T12:58:22.498Z"
   },
   {
    "duration": 0,
    "start_time": "2022-11-10T12:58:22.595Z"
   },
   {
    "duration": 0,
    "start_time": "2022-11-10T12:58:22.596Z"
   },
   {
    "duration": 152,
    "start_time": "2022-11-10T13:03:36.120Z"
   },
   {
    "duration": 407,
    "start_time": "2022-11-10T13:03:47.968Z"
   },
   {
    "duration": 294,
    "start_time": "2022-11-10T13:06:33.348Z"
   },
   {
    "duration": 212,
    "start_time": "2022-11-10T13:06:47.005Z"
   },
   {
    "duration": 235,
    "start_time": "2022-11-10T13:07:50.479Z"
   },
   {
    "duration": 207,
    "start_time": "2022-11-10T13:09:24.944Z"
   },
   {
    "duration": 600,
    "start_time": "2022-11-10T13:12:46.670Z"
   },
   {
    "duration": 140,
    "start_time": "2022-11-10T13:12:47.273Z"
   },
   {
    "duration": 548,
    "start_time": "2022-11-10T13:12:47.415Z"
   },
   {
    "duration": 453,
    "start_time": "2022-11-10T13:12:47.965Z"
   },
   {
    "duration": 270,
    "start_time": "2022-11-10T13:12:48.421Z"
   },
   {
    "duration": 207,
    "start_time": "2022-11-10T13:12:48.692Z"
   },
   {
    "duration": 50115,
    "start_time": "2022-11-10T13:12:48.900Z"
   },
   {
    "duration": 1722,
    "start_time": "2022-11-10T13:13:39.018Z"
   },
   {
    "duration": 202,
    "start_time": "2022-11-10T13:13:40.742Z"
   },
   {
    "duration": 213,
    "start_time": "2022-11-10T13:13:40.951Z"
   },
   {
    "duration": 427,
    "start_time": "2022-11-10T13:13:41.166Z"
   },
   {
    "duration": 0,
    "start_time": "2022-11-10T13:13:41.595Z"
   },
   {
    "duration": 0,
    "start_time": "2022-11-10T13:13:41.597Z"
   },
   {
    "duration": 0,
    "start_time": "2022-11-10T13:13:41.599Z"
   },
   {
    "duration": 0,
    "start_time": "2022-11-10T13:13:41.600Z"
   },
   {
    "duration": 0,
    "start_time": "2022-11-10T13:13:41.602Z"
   },
   {
    "duration": 0,
    "start_time": "2022-11-10T13:13:41.603Z"
   },
   {
    "duration": 0,
    "start_time": "2022-11-10T13:13:41.604Z"
   },
   {
    "duration": 0,
    "start_time": "2022-11-10T13:13:41.605Z"
   },
   {
    "duration": 0,
    "start_time": "2022-11-10T13:13:41.606Z"
   },
   {
    "duration": 0,
    "start_time": "2022-11-10T13:13:41.607Z"
   },
   {
    "duration": 398,
    "start_time": "2022-11-10T13:20:20.123Z"
   },
   {
    "duration": 52,
    "start_time": "2022-11-11T06:44:10.839Z"
   },
   {
    "duration": 832,
    "start_time": "2022-11-11T06:44:23.205Z"
   },
   {
    "duration": 132,
    "start_time": "2022-11-11T06:44:24.039Z"
   },
   {
    "duration": 606,
    "start_time": "2022-11-11T06:44:24.173Z"
   },
   {
    "duration": 616,
    "start_time": "2022-11-11T06:44:24.780Z"
   },
   {
    "duration": 178,
    "start_time": "2022-11-11T06:44:25.399Z"
   },
   {
    "duration": 176,
    "start_time": "2022-11-11T06:44:25.579Z"
   },
   {
    "duration": 344,
    "start_time": "2022-11-11T06:44:25.757Z"
   },
   {
    "duration": 179,
    "start_time": "2022-11-11T06:44:26.103Z"
   },
   {
    "duration": 192,
    "start_time": "2022-11-11T06:44:26.283Z"
   },
   {
    "duration": 230,
    "start_time": "2022-11-11T06:44:26.477Z"
   },
   {
    "duration": 291,
    "start_time": "2022-11-11T06:44:26.709Z"
   },
   {
    "duration": 1,
    "start_time": "2022-11-11T06:44:27.002Z"
   },
   {
    "duration": 0,
    "start_time": "2022-11-11T06:44:27.004Z"
   },
   {
    "duration": 0,
    "start_time": "2022-11-11T06:44:27.005Z"
   },
   {
    "duration": 0,
    "start_time": "2022-11-11T06:44:27.006Z"
   },
   {
    "duration": 0,
    "start_time": "2022-11-11T06:44:27.007Z"
   },
   {
    "duration": 0,
    "start_time": "2022-11-11T06:44:27.008Z"
   },
   {
    "duration": 0,
    "start_time": "2022-11-11T06:44:27.009Z"
   },
   {
    "duration": 0,
    "start_time": "2022-11-11T06:44:27.010Z"
   },
   {
    "duration": 0,
    "start_time": "2022-11-11T06:44:27.011Z"
   },
   {
    "duration": 0,
    "start_time": "2022-11-11T06:44:27.012Z"
   },
   {
    "duration": 182,
    "start_time": "2022-11-11T06:47:50.280Z"
   },
   {
    "duration": 226,
    "start_time": "2022-11-11T06:49:36.208Z"
   },
   {
    "duration": 254,
    "start_time": "2022-11-11T06:50:22.983Z"
   },
   {
    "duration": 10,
    "start_time": "2022-11-11T06:53:03.006Z"
   },
   {
    "duration": 8,
    "start_time": "2022-11-11T06:53:22.297Z"
   },
   {
    "duration": 420,
    "start_time": "2022-11-11T06:54:03.279Z"
   },
   {
    "duration": 196,
    "start_time": "2022-11-11T06:54:11.675Z"
   },
   {
    "duration": 208,
    "start_time": "2022-11-11T06:54:19.022Z"
   },
   {
    "duration": 197,
    "start_time": "2022-11-11T06:54:24.626Z"
   },
   {
    "duration": 197,
    "start_time": "2022-11-11T06:54:32.849Z"
   },
   {
    "duration": 186,
    "start_time": "2022-11-11T06:54:42.921Z"
   },
   {
    "duration": 193,
    "start_time": "2022-11-11T06:54:48.393Z"
   },
   {
    "duration": 192,
    "start_time": "2022-11-11T06:54:52.261Z"
   },
   {
    "duration": 198,
    "start_time": "2022-11-11T06:54:58.893Z"
   },
   {
    "duration": 161,
    "start_time": "2022-11-11T06:55:04.311Z"
   },
   {
    "duration": 274,
    "start_time": "2022-11-11T06:55:11.234Z"
   },
   {
    "duration": 360,
    "start_time": "2022-11-11T06:55:40.762Z"
   },
   {
    "duration": 187,
    "start_time": "2022-11-11T06:57:45.339Z"
   },
   {
    "duration": 175,
    "start_time": "2022-11-11T06:58:11.449Z"
   },
   {
    "duration": 179,
    "start_time": "2022-11-11T06:58:34.438Z"
   },
   {
    "duration": 185,
    "start_time": "2022-11-11T06:59:14.097Z"
   },
   {
    "duration": 195,
    "start_time": "2022-11-11T06:59:49.094Z"
   },
   {
    "duration": 201,
    "start_time": "2022-11-11T07:00:34.344Z"
   },
   {
    "duration": 218,
    "start_time": "2022-11-11T07:01:18.640Z"
   },
   {
    "duration": 178,
    "start_time": "2022-11-11T07:01:54.416Z"
   },
   {
    "duration": 268,
    "start_time": "2022-11-11T07:02:17.927Z"
   },
   {
    "duration": 189,
    "start_time": "2022-11-11T07:04:00.528Z"
   },
   {
    "duration": 178,
    "start_time": "2022-11-11T07:04:26.941Z"
   },
   {
    "duration": 187,
    "start_time": "2022-11-11T07:04:37.493Z"
   },
   {
    "duration": 191,
    "start_time": "2022-11-11T07:04:47.914Z"
   },
   {
    "duration": 562,
    "start_time": "2022-11-11T07:07:01.690Z"
   },
   {
    "duration": 125,
    "start_time": "2022-11-11T07:07:02.255Z"
   },
   {
    "duration": 519,
    "start_time": "2022-11-11T07:07:02.382Z"
   },
   {
    "duration": 380,
    "start_time": "2022-11-11T07:07:02.903Z"
   },
   {
    "duration": 251,
    "start_time": "2022-11-11T07:07:03.286Z"
   },
   {
    "duration": 173,
    "start_time": "2022-11-11T07:07:03.540Z"
   },
   {
    "duration": 315,
    "start_time": "2022-11-11T07:07:03.719Z"
   },
   {
    "duration": 183,
    "start_time": "2022-11-11T07:07:04.036Z"
   },
   {
    "duration": 179,
    "start_time": "2022-11-11T07:07:04.220Z"
   },
   {
    "duration": 181,
    "start_time": "2022-11-11T07:07:04.401Z"
   },
   {
    "duration": 78,
    "start_time": "2022-11-11T07:07:04.584Z"
   },
   {
    "duration": 0,
    "start_time": "2022-11-11T07:07:04.664Z"
   },
   {
    "duration": 0,
    "start_time": "2022-11-11T07:07:04.666Z"
   },
   {
    "duration": 0,
    "start_time": "2022-11-11T07:07:04.667Z"
   },
   {
    "duration": 0,
    "start_time": "2022-11-11T07:07:04.668Z"
   },
   {
    "duration": 0,
    "start_time": "2022-11-11T07:07:04.669Z"
   },
   {
    "duration": 0,
    "start_time": "2022-11-11T07:07:04.670Z"
   },
   {
    "duration": 0,
    "start_time": "2022-11-11T07:07:04.671Z"
   },
   {
    "duration": 0,
    "start_time": "2022-11-11T07:07:04.672Z"
   },
   {
    "duration": 0,
    "start_time": "2022-11-11T07:07:04.674Z"
   },
   {
    "duration": 0,
    "start_time": "2022-11-11T07:07:04.674Z"
   },
   {
    "duration": 170,
    "start_time": "2022-11-11T07:09:14.376Z"
   },
   {
    "duration": 196,
    "start_time": "2022-11-11T07:10:12.432Z"
   },
   {
    "duration": 181,
    "start_time": "2022-11-11T07:10:27.452Z"
   },
   {
    "duration": 180,
    "start_time": "2022-11-11T07:10:38.891Z"
   },
   {
    "duration": 245,
    "start_time": "2022-11-11T07:10:59.403Z"
   },
   {
    "duration": 190,
    "start_time": "2022-11-11T07:11:19.891Z"
   },
   {
    "duration": 178,
    "start_time": "2022-11-11T07:12:51.374Z"
   },
   {
    "duration": 162,
    "start_time": "2022-11-11T07:13:35.828Z"
   },
   {
    "duration": 15,
    "start_time": "2022-11-11T07:17:54.779Z"
   },
   {
    "duration": 19,
    "start_time": "2022-11-11T07:29:03.312Z"
   },
   {
    "duration": 86,
    "start_time": "2022-11-11T07:30:05.585Z"
   },
   {
    "duration": 55,
    "start_time": "2022-11-11T07:36:48.980Z"
   },
   {
    "duration": 5,
    "start_time": "2022-11-11T07:37:01.043Z"
   },
   {
    "duration": 6,
    "start_time": "2022-11-11T07:37:17.596Z"
   },
   {
    "duration": 49,
    "start_time": "2022-11-11T07:42:45.994Z"
   },
   {
    "duration": 71,
    "start_time": "2022-11-11T07:43:02.685Z"
   },
   {
    "duration": 18,
    "start_time": "2022-11-11T07:43:09.926Z"
   },
   {
    "duration": 12,
    "start_time": "2022-11-11T07:46:57.478Z"
   },
   {
    "duration": 8,
    "start_time": "2022-11-11T09:28:59.776Z"
   },
   {
    "duration": 17,
    "start_time": "2022-11-11T09:29:52.718Z"
   },
   {
    "duration": 19,
    "start_time": "2022-11-11T09:30:37.051Z"
   },
   {
    "duration": 9,
    "start_time": "2022-11-11T09:30:54.346Z"
   },
   {
    "duration": 12,
    "start_time": "2022-11-11T09:30:59.795Z"
   },
   {
    "duration": 29,
    "start_time": "2022-11-11T09:31:08.391Z"
   },
   {
    "duration": 16,
    "start_time": "2022-11-11T09:32:13.691Z"
   },
   {
    "duration": 21,
    "start_time": "2022-11-11T09:32:41.560Z"
   },
   {
    "duration": 4,
    "start_time": "2022-11-11T09:36:10.738Z"
   },
   {
    "duration": 28,
    "start_time": "2022-11-11T09:36:16.985Z"
   },
   {
    "duration": 21,
    "start_time": "2022-11-11T09:37:49.044Z"
   },
   {
    "duration": 26,
    "start_time": "2022-11-11T09:38:28.607Z"
   },
   {
    "duration": 21,
    "start_time": "2022-11-11T09:39:04.263Z"
   },
   {
    "duration": 22,
    "start_time": "2022-11-11T09:39:25.239Z"
   },
   {
    "duration": 26,
    "start_time": "2022-11-11T09:42:19.292Z"
   },
   {
    "duration": 20,
    "start_time": "2022-11-11T09:42:41.888Z"
   },
   {
    "duration": 33,
    "start_time": "2022-11-11T09:44:21.864Z"
   },
   {
    "duration": 31,
    "start_time": "2022-11-11T09:45:45.367Z"
   },
   {
    "duration": 43,
    "start_time": "2022-11-11T09:46:31.928Z"
   },
   {
    "duration": 573,
    "start_time": "2022-11-11T09:48:02.597Z"
   },
   {
    "duration": 117,
    "start_time": "2022-11-11T09:48:03.172Z"
   },
   {
    "duration": 524,
    "start_time": "2022-11-11T09:48:03.291Z"
   },
   {
    "duration": 368,
    "start_time": "2022-11-11T09:48:03.817Z"
   },
   {
    "duration": 238,
    "start_time": "2022-11-11T09:48:04.187Z"
   },
   {
    "duration": 185,
    "start_time": "2022-11-11T09:48:04.426Z"
   },
   {
    "duration": 355,
    "start_time": "2022-11-11T09:48:04.612Z"
   },
   {
    "duration": 195,
    "start_time": "2022-11-11T09:48:04.969Z"
   },
   {
    "duration": 191,
    "start_time": "2022-11-11T09:48:05.166Z"
   },
   {
    "duration": 197,
    "start_time": "2022-11-11T09:48:05.358Z"
   },
   {
    "duration": 83,
    "start_time": "2022-11-11T09:48:05.556Z"
   },
   {
    "duration": 0,
    "start_time": "2022-11-11T09:48:05.642Z"
   },
   {
    "duration": 0,
    "start_time": "2022-11-11T09:48:05.643Z"
   },
   {
    "duration": 0,
    "start_time": "2022-11-11T09:48:05.644Z"
   },
   {
    "duration": 0,
    "start_time": "2022-11-11T09:48:05.646Z"
   },
   {
    "duration": 0,
    "start_time": "2022-11-11T09:48:05.647Z"
   },
   {
    "duration": 0,
    "start_time": "2022-11-11T09:48:05.649Z"
   },
   {
    "duration": 0,
    "start_time": "2022-11-11T09:48:05.650Z"
   },
   {
    "duration": 0,
    "start_time": "2022-11-11T09:48:05.652Z"
   },
   {
    "duration": 0,
    "start_time": "2022-11-11T09:48:05.654Z"
   },
   {
    "duration": 0,
    "start_time": "2022-11-11T09:48:05.655Z"
   },
   {
    "duration": 32,
    "start_time": "2022-11-11T09:48:12.154Z"
   },
   {
    "duration": 22,
    "start_time": "2022-11-11T09:48:28.754Z"
   },
   {
    "duration": 25,
    "start_time": "2022-11-11T09:49:52.259Z"
   },
   {
    "duration": 43,
    "start_time": "2022-11-11T09:54:40.303Z"
   },
   {
    "duration": 542,
    "start_time": "2022-11-11T09:54:48.201Z"
   },
   {
    "duration": 141,
    "start_time": "2022-11-11T09:54:48.745Z"
   },
   {
    "duration": 515,
    "start_time": "2022-11-11T09:54:48.888Z"
   },
   {
    "duration": 383,
    "start_time": "2022-11-11T09:54:49.405Z"
   },
   {
    "duration": 232,
    "start_time": "2022-11-11T09:54:49.789Z"
   },
   {
    "duration": 181,
    "start_time": "2022-11-11T09:54:50.023Z"
   },
   {
    "duration": 344,
    "start_time": "2022-11-11T09:54:50.206Z"
   },
   {
    "duration": 184,
    "start_time": "2022-11-11T09:54:50.552Z"
   },
   {
    "duration": 185,
    "start_time": "2022-11-11T09:54:50.739Z"
   },
   {
    "duration": 192,
    "start_time": "2022-11-11T09:54:50.927Z"
   },
   {
    "duration": 77,
    "start_time": "2022-11-11T09:54:51.121Z"
   },
   {
    "duration": 0,
    "start_time": "2022-11-11T09:54:51.200Z"
   },
   {
    "duration": 0,
    "start_time": "2022-11-11T09:54:51.201Z"
   },
   {
    "duration": 0,
    "start_time": "2022-11-11T09:54:51.218Z"
   },
   {
    "duration": 0,
    "start_time": "2022-11-11T09:54:51.220Z"
   },
   {
    "duration": 0,
    "start_time": "2022-11-11T09:54:51.221Z"
   },
   {
    "duration": 0,
    "start_time": "2022-11-11T09:54:51.222Z"
   },
   {
    "duration": 0,
    "start_time": "2022-11-11T09:54:51.223Z"
   },
   {
    "duration": 0,
    "start_time": "2022-11-11T09:54:51.225Z"
   },
   {
    "duration": 0,
    "start_time": "2022-11-11T09:54:51.226Z"
   },
   {
    "duration": 0,
    "start_time": "2022-11-11T09:54:51.227Z"
   },
   {
    "duration": 37,
    "start_time": "2022-11-11T09:54:59.651Z"
   },
   {
    "duration": 44,
    "start_time": "2022-11-11T09:55:08.345Z"
   },
   {
    "duration": 37,
    "start_time": "2022-11-11T09:55:36.294Z"
   },
   {
    "duration": 65,
    "start_time": "2022-11-11T09:55:58.976Z"
   },
   {
    "duration": 30,
    "start_time": "2022-11-11T09:56:35.611Z"
   },
   {
    "duration": 56,
    "start_time": "2022-11-11T09:59:08.916Z"
   },
   {
    "duration": 95,
    "start_time": "2022-11-11T09:59:24.760Z"
   },
   {
    "duration": 32,
    "start_time": "2022-11-11T10:00:36.584Z"
   },
   {
    "duration": 28,
    "start_time": "2022-11-11T10:00:52.321Z"
   },
   {
    "duration": 29,
    "start_time": "2022-11-11T10:04:19.172Z"
   },
   {
    "duration": 4,
    "start_time": "2022-11-11T10:09:16.616Z"
   },
   {
    "duration": 23,
    "start_time": "2022-11-11T10:09:33.225Z"
   },
   {
    "duration": 21,
    "start_time": "2022-11-11T10:10:49.459Z"
   },
   {
    "duration": 56,
    "start_time": "2022-11-11T11:49:29.804Z"
   },
   {
    "duration": 34,
    "start_time": "2022-11-11T11:50:38.700Z"
   },
   {
    "duration": 23,
    "start_time": "2022-11-11T11:51:43.692Z"
   },
   {
    "duration": 31,
    "start_time": "2022-11-11T11:52:07.082Z"
   },
   {
    "duration": 28,
    "start_time": "2022-11-11T11:53:04.558Z"
   },
   {
    "duration": 33,
    "start_time": "2022-11-11T11:53:28.215Z"
   },
   {
    "duration": 6,
    "start_time": "2022-11-11T11:55:10.348Z"
   },
   {
    "duration": 537,
    "start_time": "2022-11-11T11:55:24.464Z"
   },
   {
    "duration": 142,
    "start_time": "2022-11-11T11:55:25.004Z"
   },
   {
    "duration": 515,
    "start_time": "2022-11-11T11:55:25.148Z"
   },
   {
    "duration": 430,
    "start_time": "2022-11-11T11:55:25.666Z"
   },
   {
    "duration": 273,
    "start_time": "2022-11-11T11:55:26.098Z"
   },
   {
    "duration": 230,
    "start_time": "2022-11-11T11:55:26.374Z"
   },
   {
    "duration": 488,
    "start_time": "2022-11-11T11:55:26.607Z"
   },
   {
    "duration": 195,
    "start_time": "2022-11-11T11:55:27.096Z"
   },
   {
    "duration": 182,
    "start_time": "2022-11-11T11:55:27.293Z"
   },
   {
    "duration": 198,
    "start_time": "2022-11-11T11:55:27.478Z"
   },
   {
    "duration": 94,
    "start_time": "2022-11-11T11:55:27.677Z"
   },
   {
    "duration": 0,
    "start_time": "2022-11-11T11:55:27.774Z"
   },
   {
    "duration": 0,
    "start_time": "2022-11-11T11:55:27.775Z"
   },
   {
    "duration": 0,
    "start_time": "2022-11-11T11:55:27.777Z"
   },
   {
    "duration": 0,
    "start_time": "2022-11-11T11:55:27.778Z"
   },
   {
    "duration": 0,
    "start_time": "2022-11-11T11:55:27.780Z"
   },
   {
    "duration": 0,
    "start_time": "2022-11-11T11:55:27.781Z"
   },
   {
    "duration": 0,
    "start_time": "2022-11-11T11:55:27.783Z"
   },
   {
    "duration": 0,
    "start_time": "2022-11-11T11:55:27.784Z"
   },
   {
    "duration": 0,
    "start_time": "2022-11-11T11:55:27.786Z"
   },
   {
    "duration": 0,
    "start_time": "2022-11-11T11:55:27.787Z"
   },
   {
    "duration": 6,
    "start_time": "2022-11-11T11:55:33.650Z"
   },
   {
    "duration": 49,
    "start_time": "2022-11-11T12:00:45.568Z"
   },
   {
    "duration": 15,
    "start_time": "2022-11-11T12:02:08.451Z"
   },
   {
    "duration": 24,
    "start_time": "2022-11-11T12:02:52.920Z"
   },
   {
    "duration": 975,
    "start_time": "2022-11-11T12:04:35.356Z"
   },
   {
    "duration": 330,
    "start_time": "2022-11-11T12:05:27.211Z"
   },
   {
    "duration": 199,
    "start_time": "2022-11-11T12:06:10.116Z"
   },
   {
    "duration": 263,
    "start_time": "2022-11-11T12:06:41.145Z"
   },
   {
    "duration": 134,
    "start_time": "2022-11-11T12:12:37.364Z"
   },
   {
    "duration": 142,
    "start_time": "2022-11-11T12:13:50.816Z"
   },
   {
    "duration": 227,
    "start_time": "2022-11-11T12:14:04.813Z"
   },
   {
    "duration": 133,
    "start_time": "2022-11-11T12:15:50.961Z"
   },
   {
    "duration": 130,
    "start_time": "2022-11-11T12:15:59.552Z"
   },
   {
    "duration": 142,
    "start_time": "2022-11-11T12:17:26.051Z"
   },
   {
    "duration": 142,
    "start_time": "2022-11-11T12:19:16.298Z"
   },
   {
    "duration": 134,
    "start_time": "2022-11-11T12:19:19.334Z"
   },
   {
    "duration": 27,
    "start_time": "2022-11-11T12:22:51.124Z"
   },
   {
    "duration": 21,
    "start_time": "2022-11-11T12:26:17.541Z"
   },
   {
    "duration": 2,
    "start_time": "2022-11-11T12:27:23.821Z"
   },
   {
    "duration": 161,
    "start_time": "2022-11-11T12:28:16.639Z"
   },
   {
    "duration": 154,
    "start_time": "2022-11-11T12:29:01.810Z"
   },
   {
    "duration": 156,
    "start_time": "2022-11-11T12:29:32.703Z"
   },
   {
    "duration": 13,
    "start_time": "2022-11-11T12:34:24.163Z"
   },
   {
    "duration": 48,
    "start_time": "2022-11-11T12:39:27.218Z"
   },
   {
    "duration": 569,
    "start_time": "2022-11-11T12:39:41.538Z"
   },
   {
    "duration": 496,
    "start_time": "2022-11-11T12:39:59.464Z"
   },
   {
    "duration": 147,
    "start_time": "2022-11-11T12:39:59.963Z"
   },
   {
    "duration": 538,
    "start_time": "2022-11-11T12:40:00.112Z"
   },
   {
    "duration": 384,
    "start_time": "2022-11-11T12:40:00.652Z"
   },
   {
    "duration": 232,
    "start_time": "2022-11-11T12:40:01.038Z"
   },
   {
    "duration": 183,
    "start_time": "2022-11-11T12:40:01.272Z"
   },
   {
    "duration": 347,
    "start_time": "2022-11-11T12:40:01.456Z"
   },
   {
    "duration": 195,
    "start_time": "2022-11-11T12:40:01.805Z"
   },
   {
    "duration": 190,
    "start_time": "2022-11-11T12:40:02.002Z"
   },
   {
    "duration": 202,
    "start_time": "2022-11-11T12:40:02.195Z"
   },
   {
    "duration": 670,
    "start_time": "2022-11-11T12:40:02.399Z"
   },
   {
    "duration": 0,
    "start_time": "2022-11-11T12:40:03.071Z"
   },
   {
    "duration": 0,
    "start_time": "2022-11-11T12:40:03.072Z"
   },
   {
    "duration": 0,
    "start_time": "2022-11-11T12:40:03.073Z"
   },
   {
    "duration": 0,
    "start_time": "2022-11-11T12:40:03.075Z"
   },
   {
    "duration": 0,
    "start_time": "2022-11-11T12:40:03.076Z"
   },
   {
    "duration": 0,
    "start_time": "2022-11-11T12:40:03.076Z"
   },
   {
    "duration": 0,
    "start_time": "2022-11-11T12:40:03.078Z"
   },
   {
    "duration": 0,
    "start_time": "2022-11-11T12:40:03.079Z"
   },
   {
    "duration": 0,
    "start_time": "2022-11-11T12:40:03.080Z"
   },
   {
    "duration": 0,
    "start_time": "2022-11-11T12:40:03.081Z"
   },
   {
    "duration": 0,
    "start_time": "2022-11-11T12:40:03.083Z"
   },
   {
    "duration": 0,
    "start_time": "2022-11-11T12:40:03.084Z"
   },
   {
    "duration": 0,
    "start_time": "2022-11-11T12:40:03.086Z"
   },
   {
    "duration": 0,
    "start_time": "2022-11-11T12:40:03.087Z"
   },
   {
    "duration": 0,
    "start_time": "2022-11-11T12:40:03.088Z"
   },
   {
    "duration": 0,
    "start_time": "2022-11-11T12:40:03.119Z"
   },
   {
    "duration": 0,
    "start_time": "2022-11-11T12:40:03.120Z"
   },
   {
    "duration": 19,
    "start_time": "2022-11-11T12:43:17.644Z"
   },
   {
    "duration": 14,
    "start_time": "2022-11-11T13:02:56.385Z"
   },
   {
    "duration": 11,
    "start_time": "2022-11-11T13:03:05.899Z"
   },
   {
    "duration": 12,
    "start_time": "2022-11-11T13:03:14.205Z"
   },
   {
    "duration": 11,
    "start_time": "2022-11-11T13:03:28.111Z"
   },
   {
    "duration": 11,
    "start_time": "2022-11-11T13:04:22.825Z"
   },
   {
    "duration": 20,
    "start_time": "2022-11-11T13:04:30.463Z"
   },
   {
    "duration": 11,
    "start_time": "2022-11-11T13:08:13.065Z"
   },
   {
    "duration": 12,
    "start_time": "2022-11-11T13:11:06.544Z"
   },
   {
    "duration": 11,
    "start_time": "2022-11-11T13:11:43.449Z"
   },
   {
    "duration": 44,
    "start_time": "2022-11-11T13:13:54.932Z"
   },
   {
    "duration": 70,
    "start_time": "2022-11-11T13:14:03.098Z"
   },
   {
    "duration": 54,
    "start_time": "2022-11-11T13:14:14.771Z"
   },
   {
    "duration": 136,
    "start_time": "2022-11-11T13:14:25.329Z"
   },
   {
    "duration": 9,
    "start_time": "2022-11-11T13:14:34.275Z"
   },
   {
    "duration": 555,
    "start_time": "2022-11-11T13:16:21.327Z"
   },
   {
    "duration": 120,
    "start_time": "2022-11-11T13:16:21.884Z"
   },
   {
    "duration": 515,
    "start_time": "2022-11-11T13:16:22.006Z"
   },
   {
    "duration": 422,
    "start_time": "2022-11-11T13:16:22.523Z"
   },
   {
    "duration": 240,
    "start_time": "2022-11-11T13:16:22.947Z"
   },
   {
    "duration": 180,
    "start_time": "2022-11-11T13:16:23.188Z"
   },
   {
    "duration": 375,
    "start_time": "2022-11-11T13:16:23.371Z"
   },
   {
    "duration": 179,
    "start_time": "2022-11-11T13:16:23.748Z"
   },
   {
    "duration": 193,
    "start_time": "2022-11-11T13:16:23.929Z"
   },
   {
    "duration": 190,
    "start_time": "2022-11-11T13:16:24.123Z"
   },
   {
    "duration": 77,
    "start_time": "2022-11-11T13:16:24.314Z"
   },
   {
    "duration": 0,
    "start_time": "2022-11-11T13:16:24.393Z"
   },
   {
    "duration": 0,
    "start_time": "2022-11-11T13:16:24.394Z"
   },
   {
    "duration": 0,
    "start_time": "2022-11-11T13:16:24.395Z"
   },
   {
    "duration": 0,
    "start_time": "2022-11-11T13:16:24.397Z"
   },
   {
    "duration": 1,
    "start_time": "2022-11-11T13:16:24.397Z"
   },
   {
    "duration": 0,
    "start_time": "2022-11-11T13:16:24.419Z"
   },
   {
    "duration": 0,
    "start_time": "2022-11-11T13:16:24.420Z"
   },
   {
    "duration": 0,
    "start_time": "2022-11-11T13:16:24.421Z"
   },
   {
    "duration": 0,
    "start_time": "2022-11-11T13:16:24.422Z"
   },
   {
    "duration": 0,
    "start_time": "2022-11-11T13:16:24.423Z"
   },
   {
    "duration": 0,
    "start_time": "2022-11-11T13:16:24.424Z"
   },
   {
    "duration": 0,
    "start_time": "2022-11-11T13:16:24.426Z"
   },
   {
    "duration": 0,
    "start_time": "2022-11-11T13:16:24.427Z"
   },
   {
    "duration": 0,
    "start_time": "2022-11-11T13:16:24.428Z"
   },
   {
    "duration": 0,
    "start_time": "2022-11-11T13:16:24.429Z"
   },
   {
    "duration": 0,
    "start_time": "2022-11-11T13:16:24.431Z"
   },
   {
    "duration": 0,
    "start_time": "2022-11-11T13:16:24.432Z"
   },
   {
    "duration": 211,
    "start_time": "2022-11-11T13:17:45.834Z"
   },
   {
    "duration": 522,
    "start_time": "2022-11-11T13:19:58.663Z"
   },
   {
    "duration": 137,
    "start_time": "2022-11-11T13:19:59.187Z"
   },
   {
    "duration": 555,
    "start_time": "2022-11-11T13:19:59.326Z"
   },
   {
    "duration": 417,
    "start_time": "2022-11-11T13:19:59.883Z"
   },
   {
    "duration": 248,
    "start_time": "2022-11-11T13:20:00.302Z"
   },
   {
    "duration": 191,
    "start_time": "2022-11-11T13:20:00.551Z"
   },
   {
    "duration": 358,
    "start_time": "2022-11-11T13:20:00.744Z"
   },
   {
    "duration": 192,
    "start_time": "2022-11-11T13:20:01.104Z"
   },
   {
    "duration": 191,
    "start_time": "2022-11-11T13:20:01.297Z"
   },
   {
    "duration": 194,
    "start_time": "2022-11-11T13:20:01.490Z"
   },
   {
    "duration": 586,
    "start_time": "2022-11-11T13:21:04.813Z"
   },
   {
    "duration": 135,
    "start_time": "2022-11-11T13:21:05.401Z"
   },
   {
    "duration": 560,
    "start_time": "2022-11-11T13:21:05.538Z"
   },
   {
    "duration": 448,
    "start_time": "2022-11-11T13:21:06.099Z"
   },
   {
    "duration": 288,
    "start_time": "2022-11-11T13:21:06.550Z"
   },
   {
    "duration": 199,
    "start_time": "2022-11-11T13:21:06.841Z"
   },
   {
    "duration": 342,
    "start_time": "2022-11-11T13:21:07.042Z"
   },
   {
    "duration": 182,
    "start_time": "2022-11-11T13:21:07.385Z"
   },
   {
    "duration": 200,
    "start_time": "2022-11-11T13:21:07.569Z"
   },
   {
    "duration": 216,
    "start_time": "2022-11-11T13:21:07.771Z"
   },
   {
    "duration": 283,
    "start_time": "2022-11-11T13:21:07.989Z"
   },
   {
    "duration": 0,
    "start_time": "2022-11-11T13:21:08.275Z"
   },
   {
    "duration": 0,
    "start_time": "2022-11-11T13:21:08.276Z"
   },
   {
    "duration": 0,
    "start_time": "2022-11-11T13:21:08.276Z"
   },
   {
    "duration": 0,
    "start_time": "2022-11-11T13:21:08.278Z"
   },
   {
    "duration": 0,
    "start_time": "2022-11-11T13:21:08.279Z"
   },
   {
    "duration": 0,
    "start_time": "2022-11-11T13:21:08.280Z"
   },
   {
    "duration": 0,
    "start_time": "2022-11-11T13:21:08.281Z"
   },
   {
    "duration": 0,
    "start_time": "2022-11-11T13:21:08.282Z"
   },
   {
    "duration": 0,
    "start_time": "2022-11-11T13:21:08.283Z"
   },
   {
    "duration": 0,
    "start_time": "2022-11-11T13:21:08.283Z"
   },
   {
    "duration": 0,
    "start_time": "2022-11-11T13:21:08.284Z"
   },
   {
    "duration": 0,
    "start_time": "2022-11-11T13:21:08.286Z"
   },
   {
    "duration": 0,
    "start_time": "2022-11-11T13:21:08.287Z"
   },
   {
    "duration": 0,
    "start_time": "2022-11-11T13:21:08.288Z"
   },
   {
    "duration": 0,
    "start_time": "2022-11-11T13:21:08.289Z"
   },
   {
    "duration": 0,
    "start_time": "2022-11-11T13:21:08.290Z"
   },
   {
    "duration": 0,
    "start_time": "2022-11-11T13:21:08.291Z"
   },
   {
    "duration": 26,
    "start_time": "2022-11-11T13:34:19.911Z"
   },
   {
    "duration": 29,
    "start_time": "2022-11-11T13:34:43.580Z"
   },
   {
    "duration": 676,
    "start_time": "2022-11-11T16:53:41.323Z"
   },
   {
    "duration": 118,
    "start_time": "2022-11-11T16:53:42.001Z"
   },
   {
    "duration": 553,
    "start_time": "2022-11-11T16:53:42.121Z"
   },
   {
    "duration": 616,
    "start_time": "2022-11-11T16:53:42.676Z"
   },
   {
    "duration": 174,
    "start_time": "2022-11-11T16:53:43.294Z"
   },
   {
    "duration": 174,
    "start_time": "2022-11-11T16:53:43.470Z"
   },
   {
    "duration": 386,
    "start_time": "2022-11-11T16:53:43.646Z"
   },
   {
    "duration": 161,
    "start_time": "2022-11-11T16:53:44.034Z"
   },
   {
    "duration": 173,
    "start_time": "2022-11-11T16:53:44.197Z"
   },
   {
    "duration": 159,
    "start_time": "2022-11-11T16:53:44.371Z"
   },
   {
    "duration": 89,
    "start_time": "2022-11-11T16:53:44.532Z"
   },
   {
    "duration": 0,
    "start_time": "2022-11-11T16:53:44.622Z"
   },
   {
    "duration": 0,
    "start_time": "2022-11-11T16:53:44.624Z"
   },
   {
    "duration": 0,
    "start_time": "2022-11-11T16:53:44.625Z"
   },
   {
    "duration": 0,
    "start_time": "2022-11-11T16:53:44.630Z"
   },
   {
    "duration": 0,
    "start_time": "2022-11-11T16:53:44.631Z"
   },
   {
    "duration": 0,
    "start_time": "2022-11-11T16:53:44.633Z"
   },
   {
    "duration": 0,
    "start_time": "2022-11-11T16:53:44.651Z"
   },
   {
    "duration": 0,
    "start_time": "2022-11-11T16:53:44.653Z"
   },
   {
    "duration": 0,
    "start_time": "2022-11-11T16:53:44.654Z"
   },
   {
    "duration": 0,
    "start_time": "2022-11-11T16:53:44.655Z"
   },
   {
    "duration": 0,
    "start_time": "2022-11-11T16:53:44.657Z"
   },
   {
    "duration": 0,
    "start_time": "2022-11-11T16:53:44.659Z"
   },
   {
    "duration": 0,
    "start_time": "2022-11-11T16:53:44.660Z"
   },
   {
    "duration": 0,
    "start_time": "2022-11-11T16:53:44.661Z"
   },
   {
    "duration": 0,
    "start_time": "2022-11-11T16:53:44.662Z"
   },
   {
    "duration": 0,
    "start_time": "2022-11-11T16:53:44.663Z"
   },
   {
    "duration": 0,
    "start_time": "2022-11-11T16:53:44.664Z"
   },
   {
    "duration": 8,
    "start_time": "2022-11-11T16:53:57.465Z"
   },
   {
    "duration": 102,
    "start_time": "2022-11-11T16:54:10.695Z"
   },
   {
    "duration": 122,
    "start_time": "2022-11-11T16:55:10.259Z"
   },
   {
    "duration": 106,
    "start_time": "2022-11-11T16:55:13.839Z"
   },
   {
    "duration": 199,
    "start_time": "2022-11-11T16:56:11.055Z"
   },
   {
    "duration": 551,
    "start_time": "2022-11-11T16:57:19.769Z"
   },
   {
    "duration": 125,
    "start_time": "2022-11-11T16:57:20.322Z"
   },
   {
    "duration": 567,
    "start_time": "2022-11-11T16:57:20.449Z"
   },
   {
    "duration": 375,
    "start_time": "2022-11-11T16:57:21.019Z"
   },
   {
    "duration": 233,
    "start_time": "2022-11-11T16:57:21.395Z"
   },
   {
    "duration": 177,
    "start_time": "2022-11-11T16:57:21.630Z"
   },
   {
    "duration": 333,
    "start_time": "2022-11-11T16:57:21.809Z"
   },
   {
    "duration": 172,
    "start_time": "2022-11-11T16:57:22.144Z"
   },
   {
    "duration": 219,
    "start_time": "2022-11-11T16:57:22.317Z"
   },
   {
    "duration": 206,
    "start_time": "2022-11-11T16:57:22.539Z"
   },
   {
    "duration": 127,
    "start_time": "2022-11-11T16:57:22.751Z"
   },
   {
    "duration": 208,
    "start_time": "2022-11-11T16:57:22.879Z"
   },
   {
    "duration": 180,
    "start_time": "2022-11-11T16:57:23.089Z"
   },
   {
    "duration": 196,
    "start_time": "2022-11-11T16:57:23.272Z"
   },
   {
    "duration": 261,
    "start_time": "2022-11-11T16:57:23.470Z"
   },
   {
    "duration": 153,
    "start_time": "2022-11-11T16:57:23.732Z"
   },
   {
    "duration": 159,
    "start_time": "2022-11-11T16:57:23.886Z"
   },
   {
    "duration": 171,
    "start_time": "2022-11-11T16:57:24.047Z"
   },
   {
    "duration": 143,
    "start_time": "2022-11-11T16:57:24.219Z"
   },
   {
    "duration": 140,
    "start_time": "2022-11-11T16:57:24.364Z"
   },
   {
    "duration": 156,
    "start_time": "2022-11-11T16:57:24.505Z"
   },
   {
    "duration": 139,
    "start_time": "2022-11-11T16:57:24.663Z"
   },
   {
    "duration": 149,
    "start_time": "2022-11-11T16:57:24.803Z"
   },
   {
    "duration": 142,
    "start_time": "2022-11-11T16:57:24.954Z"
   },
   {
    "duration": 145,
    "start_time": "2022-11-11T16:57:25.098Z"
   },
   {
    "duration": 197,
    "start_time": "2022-11-11T16:57:25.244Z"
   },
   {
    "duration": 29,
    "start_time": "2022-11-11T16:57:25.442Z"
   },
   {
    "duration": 17,
    "start_time": "2022-11-11T16:57:25.474Z"
   },
   {
    "duration": 122,
    "start_time": "2022-11-11T16:58:35.000Z"
   },
   {
    "duration": 446,
    "start_time": "2022-11-11T17:02:04.109Z"
   },
   {
    "duration": 116,
    "start_time": "2022-11-11T17:02:04.558Z"
   },
   {
    "duration": 489,
    "start_time": "2022-11-11T17:02:04.675Z"
   },
   {
    "duration": 361,
    "start_time": "2022-11-11T17:02:05.166Z"
   },
   {
    "duration": 221,
    "start_time": "2022-11-11T17:02:05.530Z"
   },
   {
    "duration": 158,
    "start_time": "2022-11-11T17:02:05.753Z"
   },
   {
    "duration": 308,
    "start_time": "2022-11-11T17:02:05.913Z"
   },
   {
    "duration": 173,
    "start_time": "2022-11-11T17:02:06.223Z"
   },
   {
    "duration": 168,
    "start_time": "2022-11-11T17:02:06.398Z"
   },
   {
    "duration": 175,
    "start_time": "2022-11-11T17:02:06.567Z"
   },
   {
    "duration": 122,
    "start_time": "2022-11-11T17:02:06.743Z"
   },
   {
    "duration": 185,
    "start_time": "2022-11-11T17:02:06.867Z"
   },
   {
    "duration": 183,
    "start_time": "2022-11-11T17:02:07.053Z"
   },
   {
    "duration": 188,
    "start_time": "2022-11-11T17:02:07.238Z"
   },
   {
    "duration": 251,
    "start_time": "2022-11-11T17:02:07.427Z"
   },
   {
    "duration": 151,
    "start_time": "2022-11-11T17:02:07.679Z"
   },
   {
    "duration": 150,
    "start_time": "2022-11-11T17:02:07.831Z"
   },
   {
    "duration": 174,
    "start_time": "2022-11-11T17:02:07.982Z"
   },
   {
    "duration": 143,
    "start_time": "2022-11-11T17:02:08.157Z"
   },
   {
    "duration": 167,
    "start_time": "2022-11-11T17:02:08.302Z"
   },
   {
    "duration": 145,
    "start_time": "2022-11-11T17:02:08.470Z"
   },
   {
    "duration": 146,
    "start_time": "2022-11-11T17:02:08.616Z"
   },
   {
    "duration": 113,
    "start_time": "2022-11-11T17:02:08.764Z"
   },
   {
    "duration": 145,
    "start_time": "2022-11-11T17:02:08.878Z"
   },
   {
    "duration": 142,
    "start_time": "2022-11-11T17:02:09.024Z"
   },
   {
    "duration": 204,
    "start_time": "2022-11-11T17:02:09.168Z"
   },
   {
    "duration": 24,
    "start_time": "2022-11-11T17:02:09.373Z"
   },
   {
    "duration": 22,
    "start_time": "2022-11-11T17:02:09.398Z"
   },
   {
    "duration": 159,
    "start_time": "2022-11-11T17:02:29.164Z"
   },
   {
    "duration": 561,
    "start_time": "2022-11-11T17:02:35.189Z"
   },
   {
    "duration": 119,
    "start_time": "2022-11-11T17:02:35.753Z"
   },
   {
    "duration": 507,
    "start_time": "2022-11-11T17:02:35.873Z"
   },
   {
    "duration": 394,
    "start_time": "2022-11-11T17:02:36.382Z"
   },
   {
    "duration": 257,
    "start_time": "2022-11-11T17:02:36.779Z"
   },
   {
    "duration": 174,
    "start_time": "2022-11-11T17:02:37.037Z"
   },
   {
    "duration": 302,
    "start_time": "2022-11-11T17:02:37.213Z"
   },
   {
    "duration": 167,
    "start_time": "2022-11-11T17:02:37.517Z"
   },
   {
    "duration": 164,
    "start_time": "2022-11-11T17:02:37.686Z"
   },
   {
    "duration": 166,
    "start_time": "2022-11-11T17:02:37.852Z"
   },
   {
    "duration": 119,
    "start_time": "2022-11-11T17:02:38.020Z"
   },
   {
    "duration": 185,
    "start_time": "2022-11-11T17:02:38.141Z"
   },
   {
    "duration": 157,
    "start_time": "2022-11-11T17:02:38.327Z"
   },
   {
    "duration": 177,
    "start_time": "2022-11-11T17:02:38.486Z"
   },
   {
    "duration": 232,
    "start_time": "2022-11-11T17:02:38.665Z"
   },
   {
    "duration": 143,
    "start_time": "2022-11-11T17:02:38.898Z"
   },
   {
    "duration": 149,
    "start_time": "2022-11-11T17:02:39.043Z"
   },
   {
    "duration": 176,
    "start_time": "2022-11-11T17:02:39.194Z"
   },
   {
    "duration": 134,
    "start_time": "2022-11-11T17:02:39.371Z"
   },
   {
    "duration": 138,
    "start_time": "2022-11-11T17:02:39.507Z"
   },
   {
    "duration": 131,
    "start_time": "2022-11-11T17:02:39.646Z"
   },
   {
    "duration": 129,
    "start_time": "2022-11-11T17:02:39.779Z"
   },
   {
    "duration": 111,
    "start_time": "2022-11-11T17:02:39.909Z"
   },
   {
    "duration": 142,
    "start_time": "2022-11-11T17:02:40.021Z"
   },
   {
    "duration": 146,
    "start_time": "2022-11-11T17:02:40.164Z"
   },
   {
    "duration": 192,
    "start_time": "2022-11-11T17:02:40.312Z"
   },
   {
    "duration": 23,
    "start_time": "2022-11-11T17:02:40.505Z"
   },
   {
    "duration": 29,
    "start_time": "2022-11-11T17:02:40.530Z"
   },
   {
    "duration": 558,
    "start_time": "2022-11-11T17:56:02.814Z"
   },
   {
    "duration": 124,
    "start_time": "2022-11-11T17:56:03.374Z"
   },
   {
    "duration": 467,
    "start_time": "2022-11-11T17:56:03.500Z"
   },
   {
    "duration": 339,
    "start_time": "2022-11-11T17:56:03.969Z"
   },
   {
    "duration": 222,
    "start_time": "2022-11-11T17:56:04.311Z"
   },
   {
    "duration": 177,
    "start_time": "2022-11-11T17:56:04.534Z"
   },
   {
    "duration": 309,
    "start_time": "2022-11-11T17:56:04.713Z"
   },
   {
    "duration": 168,
    "start_time": "2022-11-11T17:56:05.032Z"
   },
   {
    "duration": 170,
    "start_time": "2022-11-11T17:56:05.202Z"
   },
   {
    "duration": 189,
    "start_time": "2022-11-11T17:56:05.373Z"
   },
   {
    "duration": 127,
    "start_time": "2022-11-11T17:56:05.564Z"
   },
   {
    "duration": 207,
    "start_time": "2022-11-11T17:56:05.693Z"
   },
   {
    "duration": 185,
    "start_time": "2022-11-11T17:56:05.902Z"
   },
   {
    "duration": 233,
    "start_time": "2022-11-11T17:56:06.090Z"
   },
   {
    "duration": 292,
    "start_time": "2022-11-11T17:56:06.325Z"
   },
   {
    "duration": 182,
    "start_time": "2022-11-11T17:56:06.619Z"
   },
   {
    "duration": 157,
    "start_time": "2022-11-11T17:56:06.803Z"
   },
   {
    "duration": 172,
    "start_time": "2022-11-11T17:56:06.961Z"
   },
   {
    "duration": 153,
    "start_time": "2022-11-11T17:56:07.135Z"
   },
   {
    "duration": 147,
    "start_time": "2022-11-11T17:56:07.290Z"
   },
   {
    "duration": 143,
    "start_time": "2022-11-11T17:56:07.439Z"
   },
   {
    "duration": 157,
    "start_time": "2022-11-11T17:56:07.584Z"
   },
   {
    "duration": 132,
    "start_time": "2022-11-11T17:56:07.742Z"
   },
   {
    "duration": 162,
    "start_time": "2022-11-11T17:56:07.876Z"
   },
   {
    "duration": 165,
    "start_time": "2022-11-11T17:56:08.041Z"
   },
   {
    "duration": 225,
    "start_time": "2022-11-11T17:56:08.208Z"
   },
   {
    "duration": 30,
    "start_time": "2022-11-11T17:56:08.435Z"
   },
   {
    "duration": 24,
    "start_time": "2022-11-11T17:56:08.467Z"
   },
   {
    "duration": 17,
    "start_time": "2022-11-11T18:02:08.130Z"
   },
   {
    "duration": 95,
    "start_time": "2022-11-11T18:02:13.743Z"
   },
   {
    "duration": 15,
    "start_time": "2022-11-11T18:02:19.814Z"
   },
   {
    "duration": 7,
    "start_time": "2022-11-11T18:02:44.309Z"
   },
   {
    "duration": 8,
    "start_time": "2022-11-11T18:03:42.445Z"
   },
   {
    "duration": 47,
    "start_time": "2022-11-12T06:55:25.450Z"
   },
   {
    "duration": 740,
    "start_time": "2022-11-12T06:55:37.107Z"
   },
   {
    "duration": 505,
    "start_time": "2022-11-12T06:55:45.546Z"
   },
   {
    "duration": 2153,
    "start_time": "2022-11-12T06:55:46.053Z"
   },
   {
    "duration": 106,
    "start_time": "2022-11-12T06:55:48.209Z"
   },
   {
    "duration": 429,
    "start_time": "2022-11-12T06:55:48.316Z"
   },
   {
    "duration": 159,
    "start_time": "2022-11-12T06:55:48.748Z"
   },
   {
    "duration": 173,
    "start_time": "2022-11-12T06:55:48.910Z"
   },
   {
    "duration": 229,
    "start_time": "2022-11-12T06:55:49.086Z"
   },
   {
    "duration": 279,
    "start_time": "2022-11-12T06:55:49.317Z"
   },
   {
    "duration": 182,
    "start_time": "2022-11-12T06:55:49.598Z"
   },
   {
    "duration": 191,
    "start_time": "2022-11-12T06:55:49.782Z"
   },
   {
    "duration": 188,
    "start_time": "2022-11-12T06:55:49.974Z"
   },
   {
    "duration": 115,
    "start_time": "2022-11-12T06:55:50.163Z"
   },
   {
    "duration": 166,
    "start_time": "2022-11-12T06:55:50.279Z"
   },
   {
    "duration": 160,
    "start_time": "2022-11-12T06:55:50.448Z"
   },
   {
    "duration": 173,
    "start_time": "2022-11-12T06:55:50.609Z"
   },
   {
    "duration": 175,
    "start_time": "2022-11-12T06:55:50.783Z"
   },
   {
    "duration": 244,
    "start_time": "2022-11-12T06:55:50.959Z"
   },
   {
    "duration": 162,
    "start_time": "2022-11-12T06:55:51.205Z"
   },
   {
    "duration": 187,
    "start_time": "2022-11-12T06:55:51.368Z"
   },
   {
    "duration": 128,
    "start_time": "2022-11-12T06:55:51.556Z"
   },
   {
    "duration": 137,
    "start_time": "2022-11-12T06:55:51.685Z"
   },
   {
    "duration": 141,
    "start_time": "2022-11-12T06:55:51.823Z"
   },
   {
    "duration": 141,
    "start_time": "2022-11-12T06:55:51.966Z"
   },
   {
    "duration": 135,
    "start_time": "2022-11-12T06:55:52.109Z"
   },
   {
    "duration": 161,
    "start_time": "2022-11-12T06:55:52.246Z"
   },
   {
    "duration": 177,
    "start_time": "2022-11-12T06:55:52.410Z"
   },
   {
    "duration": 177,
    "start_time": "2022-11-12T06:55:52.589Z"
   },
   {
    "duration": 25,
    "start_time": "2022-11-12T06:55:52.768Z"
   },
   {
    "duration": 61,
    "start_time": "2022-11-12T06:55:52.795Z"
   },
   {
    "duration": 2428,
    "start_time": "2022-11-12T06:57:06.631Z"
   },
   {
    "duration": 44,
    "start_time": "2022-11-12T07:01:42.317Z"
   },
   {
    "duration": 142,
    "start_time": "2022-11-12T07:01:47.211Z"
   },
   {
    "duration": 215,
    "start_time": "2022-11-12T07:02:01.508Z"
   },
   {
    "duration": 3,
    "start_time": "2022-11-12T07:02:40.650Z"
   },
   {
    "duration": 110,
    "start_time": "2022-11-12T07:02:47.487Z"
   },
   {
    "duration": 1667,
    "start_time": "2022-11-12T07:03:40.334Z"
   },
   {
    "duration": 6,
    "start_time": "2022-11-12T07:08:15.479Z"
   },
   {
    "duration": 6,
    "start_time": "2022-11-12T07:08:31.552Z"
   },
   {
    "duration": 10,
    "start_time": "2022-11-12T07:10:16.179Z"
   },
   {
    "duration": 6,
    "start_time": "2022-11-12T07:10:35.817Z"
   },
   {
    "duration": 94,
    "start_time": "2022-11-12T07:11:17.809Z"
   },
   {
    "duration": 16,
    "start_time": "2022-11-12T07:11:30.421Z"
   },
   {
    "duration": 8,
    "start_time": "2022-11-12T07:12:09.513Z"
   },
   {
    "duration": 6,
    "start_time": "2022-11-12T07:13:06.210Z"
   },
   {
    "duration": 11,
    "start_time": "2022-11-12T07:13:27.716Z"
   },
   {
    "duration": 377,
    "start_time": "2022-11-12T07:13:44.182Z"
   },
   {
    "duration": 118,
    "start_time": "2022-11-12T07:13:44.561Z"
   },
   {
    "duration": 2383,
    "start_time": "2022-11-12T07:13:44.680Z"
   },
   {
    "duration": 106,
    "start_time": "2022-11-12T07:13:47.066Z"
   },
   {
    "duration": 7,
    "start_time": "2022-11-12T07:13:47.174Z"
   },
   {
    "duration": 430,
    "start_time": "2022-11-12T07:13:47.183Z"
   },
   {
    "duration": 170,
    "start_time": "2022-11-12T07:13:47.615Z"
   },
   {
    "duration": 172,
    "start_time": "2022-11-12T07:13:47.787Z"
   },
   {
    "duration": 183,
    "start_time": "2022-11-12T07:13:47.961Z"
   },
   {
    "duration": 390,
    "start_time": "2022-11-12T07:13:48.148Z"
   },
   {
    "duration": 166,
    "start_time": "2022-11-12T07:13:48.539Z"
   },
   {
    "duration": 181,
    "start_time": "2022-11-12T07:13:48.706Z"
   },
   {
    "duration": 178,
    "start_time": "2022-11-12T07:13:48.888Z"
   },
   {
    "duration": 180,
    "start_time": "2022-11-12T07:13:49.072Z"
   },
   {
    "duration": 210,
    "start_time": "2022-11-12T07:13:49.254Z"
   },
   {
    "duration": 187,
    "start_time": "2022-11-12T07:13:49.466Z"
   },
   {
    "duration": 215,
    "start_time": "2022-11-12T07:13:49.655Z"
   },
   {
    "duration": 208,
    "start_time": "2022-11-12T07:13:49.872Z"
   },
   {
    "duration": 165,
    "start_time": "2022-11-12T07:13:50.082Z"
   },
   {
    "duration": 254,
    "start_time": "2022-11-12T07:13:50.249Z"
   },
   {
    "duration": 174,
    "start_time": "2022-11-12T07:13:50.504Z"
   },
   {
    "duration": 132,
    "start_time": "2022-11-12T07:13:50.680Z"
   },
   {
    "duration": 157,
    "start_time": "2022-11-12T07:13:50.814Z"
   },
   {
    "duration": 136,
    "start_time": "2022-11-12T07:13:50.972Z"
   },
   {
    "duration": 138,
    "start_time": "2022-11-12T07:13:51.110Z"
   },
   {
    "duration": 116,
    "start_time": "2022-11-12T07:13:51.250Z"
   },
   {
    "duration": 153,
    "start_time": "2022-11-12T07:13:51.367Z"
   },
   {
    "duration": 137,
    "start_time": "2022-11-12T07:13:51.529Z"
   },
   {
    "duration": 141,
    "start_time": "2022-11-12T07:13:51.667Z"
   },
   {
    "duration": 33,
    "start_time": "2022-11-12T07:13:51.810Z"
   },
   {
    "duration": 20,
    "start_time": "2022-11-12T07:13:51.844Z"
   },
   {
    "duration": 5,
    "start_time": "2022-11-12T07:14:19.655Z"
   },
   {
    "duration": 69,
    "start_time": "2022-11-12T07:15:48.430Z"
   },
   {
    "duration": 125,
    "start_time": "2022-11-12T07:17:17.589Z"
   },
   {
    "duration": 92,
    "start_time": "2022-11-12T07:17:27.731Z"
   },
   {
    "duration": 123,
    "start_time": "2022-11-12T07:17:55.051Z"
   },
   {
    "duration": 1902,
    "start_time": "2022-11-12T07:18:26.338Z"
   },
   {
    "duration": 2072,
    "start_time": "2022-11-12T07:20:54.383Z"
   },
   {
    "duration": 12,
    "start_time": "2022-11-12T07:21:30.362Z"
   },
   {
    "duration": 5,
    "start_time": "2022-11-12T07:21:44.090Z"
   },
   {
    "duration": 6,
    "start_time": "2022-11-12T07:23:38.826Z"
   },
   {
    "duration": 4,
    "start_time": "2022-11-12T07:24:23.228Z"
   },
   {
    "duration": 5,
    "start_time": "2022-11-12T07:25:11.912Z"
   },
   {
    "duration": 6,
    "start_time": "2022-11-12T07:27:02.345Z"
   },
   {
    "duration": 7,
    "start_time": "2022-11-12T07:27:53.901Z"
   },
   {
    "duration": 10,
    "start_time": "2022-11-12T07:29:25.346Z"
   },
   {
    "duration": 7,
    "start_time": "2022-11-12T07:31:32.133Z"
   },
   {
    "duration": 9,
    "start_time": "2022-11-12T07:31:58.368Z"
   },
   {
    "duration": 8,
    "start_time": "2022-11-12T07:32:50.218Z"
   },
   {
    "duration": 11,
    "start_time": "2022-11-12T07:34:14.849Z"
   },
   {
    "duration": 9,
    "start_time": "2022-11-12T07:35:49.591Z"
   },
   {
    "duration": 8,
    "start_time": "2022-11-12T07:36:50.601Z"
   },
   {
    "duration": 13,
    "start_time": "2022-11-12T07:37:06.484Z"
   },
   {
    "duration": 14,
    "start_time": "2022-11-12T07:39:44.864Z"
   },
   {
    "duration": 10,
    "start_time": "2022-11-12T07:42:47.613Z"
   },
   {
    "duration": 331,
    "start_time": "2022-11-12T07:42:53.983Z"
   },
   {
    "duration": 120,
    "start_time": "2022-11-12T07:42:54.316Z"
   },
   {
    "duration": 2000,
    "start_time": "2022-11-12T07:42:54.438Z"
   },
   {
    "duration": 102,
    "start_time": "2022-11-12T07:42:56.441Z"
   },
   {
    "duration": 5,
    "start_time": "2022-11-12T07:42:56.546Z"
   },
   {
    "duration": 59,
    "start_time": "2022-11-12T07:42:56.552Z"
   },
   {
    "duration": 422,
    "start_time": "2022-11-12T07:42:56.612Z"
   },
   {
    "duration": 154,
    "start_time": "2022-11-12T07:42:57.036Z"
   },
   {
    "duration": 159,
    "start_time": "2022-11-12T07:42:57.192Z"
   },
   {
    "duration": 161,
    "start_time": "2022-11-12T07:42:57.352Z"
   },
   {
    "duration": 347,
    "start_time": "2022-11-12T07:42:57.514Z"
   },
   {
    "duration": 152,
    "start_time": "2022-11-12T07:42:57.863Z"
   },
   {
    "duration": 157,
    "start_time": "2022-11-12T07:42:58.017Z"
   },
   {
    "duration": 156,
    "start_time": "2022-11-12T07:42:58.177Z"
   },
   {
    "duration": 116,
    "start_time": "2022-11-12T07:42:58.335Z"
   },
   {
    "duration": 169,
    "start_time": "2022-11-12T07:42:58.453Z"
   },
   {
    "duration": 159,
    "start_time": "2022-11-12T07:42:58.623Z"
   },
   {
    "duration": 178,
    "start_time": "2022-11-12T07:42:58.783Z"
   },
   {
    "duration": 167,
    "start_time": "2022-11-12T07:42:58.962Z"
   },
   {
    "duration": 142,
    "start_time": "2022-11-12T07:42:59.131Z"
   },
   {
    "duration": 268,
    "start_time": "2022-11-12T07:42:59.275Z"
   },
   {
    "duration": 182,
    "start_time": "2022-11-12T07:42:59.545Z"
   },
   {
    "duration": 139,
    "start_time": "2022-11-12T07:42:59.730Z"
   },
   {
    "duration": 124,
    "start_time": "2022-11-12T07:42:59.871Z"
   },
   {
    "duration": 134,
    "start_time": "2022-11-12T07:42:59.996Z"
   },
   {
    "duration": 143,
    "start_time": "2022-11-12T07:43:00.131Z"
   },
   {
    "duration": 108,
    "start_time": "2022-11-12T07:43:00.275Z"
   },
   {
    "duration": 138,
    "start_time": "2022-11-12T07:43:00.385Z"
   },
   {
    "duration": 133,
    "start_time": "2022-11-12T07:43:00.529Z"
   },
   {
    "duration": 134,
    "start_time": "2022-11-12T07:43:00.663Z"
   },
   {
    "duration": 32,
    "start_time": "2022-11-12T07:43:00.799Z"
   },
   {
    "duration": 20,
    "start_time": "2022-11-12T07:43:00.832Z"
   },
   {
    "duration": 19,
    "start_time": "2022-11-12T07:43:50.324Z"
   },
   {
    "duration": 20,
    "start_time": "2022-11-12T07:45:53.787Z"
   },
   {
    "duration": 13,
    "start_time": "2022-11-12T07:46:07.601Z"
   },
   {
    "duration": 13,
    "start_time": "2022-11-12T07:46:12.493Z"
   },
   {
    "duration": 11,
    "start_time": "2022-11-12T07:47:11.439Z"
   },
   {
    "duration": 11,
    "start_time": "2022-11-12T07:47:29.735Z"
   },
   {
    "duration": 12,
    "start_time": "2022-11-12T07:47:47.905Z"
   },
   {
    "duration": 375,
    "start_time": "2022-11-12T07:48:39.274Z"
   },
   {
    "duration": 126,
    "start_time": "2022-11-12T07:48:39.651Z"
   },
   {
    "duration": 2031,
    "start_time": "2022-11-12T07:48:39.779Z"
   },
   {
    "duration": 108,
    "start_time": "2022-11-12T07:48:41.813Z"
   },
   {
    "duration": 7,
    "start_time": "2022-11-12T07:48:41.922Z"
   },
   {
    "duration": 12,
    "start_time": "2022-11-12T07:48:41.931Z"
   },
   {
    "duration": 442,
    "start_time": "2022-11-12T07:48:41.945Z"
   },
   {
    "duration": 160,
    "start_time": "2022-11-12T07:48:42.389Z"
   },
   {
    "duration": 178,
    "start_time": "2022-11-12T07:48:42.551Z"
   },
   {
    "duration": 163,
    "start_time": "2022-11-12T07:48:42.732Z"
   },
   {
    "duration": 361,
    "start_time": "2022-11-12T07:48:42.897Z"
   },
   {
    "duration": 180,
    "start_time": "2022-11-12T07:48:43.260Z"
   },
   {
    "duration": 176,
    "start_time": "2022-11-12T07:48:43.441Z"
   },
   {
    "duration": 171,
    "start_time": "2022-11-12T07:48:43.619Z"
   },
   {
    "duration": 155,
    "start_time": "2022-11-12T07:48:43.792Z"
   },
   {
    "duration": 191,
    "start_time": "2022-11-12T07:48:43.949Z"
   },
   {
    "duration": 177,
    "start_time": "2022-11-12T07:48:44.142Z"
   },
   {
    "duration": 180,
    "start_time": "2022-11-12T07:48:44.320Z"
   },
   {
    "duration": 175,
    "start_time": "2022-11-12T07:48:44.502Z"
   },
   {
    "duration": 177,
    "start_time": "2022-11-12T07:48:44.679Z"
   },
   {
    "duration": 301,
    "start_time": "2022-11-12T07:48:44.858Z"
   },
   {
    "duration": 177,
    "start_time": "2022-11-12T07:48:45.161Z"
   },
   {
    "duration": 125,
    "start_time": "2022-11-12T07:48:45.339Z"
   },
   {
    "duration": 130,
    "start_time": "2022-11-12T07:48:45.466Z"
   },
   {
    "duration": 139,
    "start_time": "2022-11-12T07:48:45.597Z"
   },
   {
    "duration": 139,
    "start_time": "2022-11-12T07:48:45.738Z"
   },
   {
    "duration": 122,
    "start_time": "2022-11-12T07:48:45.879Z"
   },
   {
    "duration": 135,
    "start_time": "2022-11-12T07:48:46.004Z"
   },
   {
    "duration": 142,
    "start_time": "2022-11-12T07:48:46.141Z"
   },
   {
    "duration": 137,
    "start_time": "2022-11-12T07:48:46.285Z"
   },
   {
    "duration": 24,
    "start_time": "2022-11-12T07:48:46.429Z"
   },
   {
    "duration": 21,
    "start_time": "2022-11-12T07:48:46.455Z"
   },
   {
    "duration": 488,
    "start_time": "2022-11-12T07:50:33.844Z"
   },
   {
    "duration": 4,
    "start_time": "2022-11-12T07:51:02.333Z"
   },
   {
    "duration": 99,
    "start_time": "2022-11-12T07:52:06.220Z"
   },
   {
    "duration": 22,
    "start_time": "2022-11-12T07:52:24.469Z"
   },
   {
    "duration": 13,
    "start_time": "2022-11-12T07:52:36.878Z"
   },
   {
    "duration": 24,
    "start_time": "2022-11-12T07:52:48.512Z"
   },
   {
    "duration": 24,
    "start_time": "2022-11-12T07:53:46.967Z"
   },
   {
    "duration": 338,
    "start_time": "2022-11-12T07:54:25.287Z"
   },
   {
    "duration": 124,
    "start_time": "2022-11-12T07:54:25.627Z"
   },
   {
    "duration": 2153,
    "start_time": "2022-11-12T07:54:25.753Z"
   },
   {
    "duration": 131,
    "start_time": "2022-11-12T07:54:27.908Z"
   },
   {
    "duration": 5,
    "start_time": "2022-11-12T07:54:28.041Z"
   },
   {
    "duration": 15,
    "start_time": "2022-11-12T07:54:28.047Z"
   },
   {
    "duration": 441,
    "start_time": "2022-11-12T07:54:28.064Z"
   },
   {
    "duration": 31,
    "start_time": "2022-11-12T07:54:28.506Z"
   },
   {
    "duration": 185,
    "start_time": "2022-11-12T07:54:28.539Z"
   },
   {
    "duration": 205,
    "start_time": "2022-11-12T07:54:28.725Z"
   },
   {
    "duration": 177,
    "start_time": "2022-11-12T07:54:28.931Z"
   },
   {
    "duration": 379,
    "start_time": "2022-11-12T07:54:29.110Z"
   },
   {
    "duration": 163,
    "start_time": "2022-11-12T07:54:29.491Z"
   },
   {
    "duration": 174,
    "start_time": "2022-11-12T07:54:29.658Z"
   },
   {
    "duration": 169,
    "start_time": "2022-11-12T07:54:29.833Z"
   },
   {
    "duration": 125,
    "start_time": "2022-11-12T07:54:30.004Z"
   },
   {
    "duration": 187,
    "start_time": "2022-11-12T07:54:30.131Z"
   },
   {
    "duration": 181,
    "start_time": "2022-11-12T07:54:30.320Z"
   },
   {
    "duration": 192,
    "start_time": "2022-11-12T07:54:30.503Z"
   },
   {
    "duration": 190,
    "start_time": "2022-11-12T07:54:30.696Z"
   },
   {
    "duration": 171,
    "start_time": "2022-11-12T07:54:30.887Z"
   },
   {
    "duration": 265,
    "start_time": "2022-11-12T07:54:31.060Z"
   },
   {
    "duration": 187,
    "start_time": "2022-11-12T07:54:31.330Z"
   },
   {
    "duration": 145,
    "start_time": "2022-11-12T07:54:31.519Z"
   },
   {
    "duration": 146,
    "start_time": "2022-11-12T07:54:31.665Z"
   },
   {
    "duration": 172,
    "start_time": "2022-11-12T07:54:31.813Z"
   },
   {
    "duration": 165,
    "start_time": "2022-11-12T07:54:31.988Z"
   },
   {
    "duration": 141,
    "start_time": "2022-11-12T07:54:32.155Z"
   },
   {
    "duration": 140,
    "start_time": "2022-11-12T07:54:32.297Z"
   },
   {
    "duration": 147,
    "start_time": "2022-11-12T07:54:32.438Z"
   },
   {
    "duration": 147,
    "start_time": "2022-11-12T07:54:32.587Z"
   },
   {
    "duration": 25,
    "start_time": "2022-11-12T07:54:32.735Z"
   },
   {
    "duration": 22,
    "start_time": "2022-11-12T07:54:32.762Z"
   },
   {
    "duration": 50,
    "start_time": "2022-11-12T08:14:26.174Z"
   },
   {
    "duration": 3,
    "start_time": "2022-11-12T08:14:36.700Z"
   },
   {
    "duration": 13,
    "start_time": "2022-11-12T08:14:57.381Z"
   },
   {
    "duration": 108,
    "start_time": "2022-11-12T08:15:15.759Z"
   },
   {
    "duration": 9,
    "start_time": "2022-11-12T08:15:28.792Z"
   },
   {
    "duration": 43,
    "start_time": "2022-11-12T17:09:42.486Z"
   },
   {
    "duration": 6,
    "start_time": "2022-11-12T17:13:02.000Z"
   },
   {
    "duration": 438,
    "start_time": "2022-11-12T17:13:13.323Z"
   },
   {
    "duration": 200,
    "start_time": "2022-11-12T17:13:13.762Z"
   },
   {
    "duration": 2461,
    "start_time": "2022-11-12T17:13:13.964Z"
   },
   {
    "duration": 119,
    "start_time": "2022-11-12T17:13:16.429Z"
   },
   {
    "duration": 5,
    "start_time": "2022-11-12T17:13:16.551Z"
   },
   {
    "duration": 12,
    "start_time": "2022-11-12T17:13:16.558Z"
   },
   {
    "duration": 447,
    "start_time": "2022-11-12T17:13:16.572Z"
   },
   {
    "duration": 31,
    "start_time": "2022-11-12T17:13:17.022Z"
   },
   {
    "duration": 175,
    "start_time": "2022-11-12T17:13:17.055Z"
   },
   {
    "duration": 180,
    "start_time": "2022-11-12T17:13:17.232Z"
   },
   {
    "duration": 253,
    "start_time": "2022-11-12T17:13:17.414Z"
   },
   {
    "duration": 316,
    "start_time": "2022-11-12T17:13:17.668Z"
   },
   {
    "duration": 177,
    "start_time": "2022-11-12T17:13:17.986Z"
   },
   {
    "duration": 181,
    "start_time": "2022-11-12T17:13:18.165Z"
   },
   {
    "duration": 183,
    "start_time": "2022-11-12T17:13:18.349Z"
   },
   {
    "duration": 138,
    "start_time": "2022-11-12T17:13:18.535Z"
   },
   {
    "duration": 188,
    "start_time": "2022-11-12T17:13:18.675Z"
   },
   {
    "duration": 195,
    "start_time": "2022-11-12T17:13:18.865Z"
   },
   {
    "duration": 215,
    "start_time": "2022-11-12T17:13:19.062Z"
   },
   {
    "duration": 195,
    "start_time": "2022-11-12T17:13:19.279Z"
   },
   {
    "duration": 274,
    "start_time": "2022-11-12T17:13:19.476Z"
   },
   {
    "duration": 164,
    "start_time": "2022-11-12T17:13:19.752Z"
   },
   {
    "duration": 182,
    "start_time": "2022-11-12T17:13:19.919Z"
   },
   {
    "duration": 152,
    "start_time": "2022-11-12T17:13:20.102Z"
   },
   {
    "duration": 191,
    "start_time": "2022-11-12T17:13:20.258Z"
   },
   {
    "duration": 157,
    "start_time": "2022-11-12T17:13:20.451Z"
   },
   {
    "duration": 164,
    "start_time": "2022-11-12T17:13:20.612Z"
   },
   {
    "duration": 11,
    "start_time": "2022-11-12T17:13:20.777Z"
   },
   {
    "duration": 143,
    "start_time": "2022-11-12T17:13:20.790Z"
   },
   {
    "duration": 143,
    "start_time": "2022-11-12T17:13:20.935Z"
   },
   {
    "duration": 152,
    "start_time": "2022-11-12T17:13:21.080Z"
   },
   {
    "duration": 155,
    "start_time": "2022-11-12T17:13:21.234Z"
   },
   {
    "duration": 30,
    "start_time": "2022-11-12T17:13:21.390Z"
   },
   {
    "duration": 26,
    "start_time": "2022-11-12T17:13:21.421Z"
   },
   {
    "duration": 2512,
    "start_time": "2022-11-12T17:14:17.325Z"
   },
   {
    "duration": 67,
    "start_time": "2022-11-12T17:25:20.018Z"
   },
   {
    "duration": 402,
    "start_time": "2022-11-12T17:25:29.403Z"
   },
   {
    "duration": 120,
    "start_time": "2022-11-12T17:25:29.806Z"
   },
   {
    "duration": 2157,
    "start_time": "2022-11-12T17:25:29.927Z"
   },
   {
    "duration": 111,
    "start_time": "2022-11-12T17:25:32.086Z"
   },
   {
    "duration": 5,
    "start_time": "2022-11-12T17:25:32.198Z"
   },
   {
    "duration": 14,
    "start_time": "2022-11-12T17:25:32.204Z"
   },
   {
    "duration": 398,
    "start_time": "2022-11-12T17:25:32.220Z"
   },
   {
    "duration": 25,
    "start_time": "2022-11-12T17:25:32.619Z"
   },
   {
    "duration": 160,
    "start_time": "2022-11-12T17:25:32.646Z"
   },
   {
    "duration": 174,
    "start_time": "2022-11-12T17:25:32.814Z"
   },
   {
    "duration": 160,
    "start_time": "2022-11-12T17:25:32.990Z"
   },
   {
    "duration": 367,
    "start_time": "2022-11-12T17:25:33.152Z"
   },
   {
    "duration": 186,
    "start_time": "2022-11-12T17:25:33.521Z"
   },
   {
    "duration": 171,
    "start_time": "2022-11-12T17:25:33.712Z"
   },
   {
    "duration": 172,
    "start_time": "2022-11-12T17:25:33.885Z"
   },
   {
    "duration": 122,
    "start_time": "2022-11-12T17:25:34.059Z"
   },
   {
    "duration": 181,
    "start_time": "2022-11-12T17:25:34.183Z"
   },
   {
    "duration": 166,
    "start_time": "2022-11-12T17:25:34.365Z"
   },
   {
    "duration": 218,
    "start_time": "2022-11-12T17:25:34.532Z"
   },
   {
    "duration": 188,
    "start_time": "2022-11-12T17:25:34.752Z"
   },
   {
    "duration": 159,
    "start_time": "2022-11-12T17:25:34.942Z"
   },
   {
    "duration": 276,
    "start_time": "2022-11-12T17:25:35.102Z"
   },
   {
    "duration": 184,
    "start_time": "2022-11-12T17:25:35.380Z"
   },
   {
    "duration": 133,
    "start_time": "2022-11-12T17:25:35.565Z"
   },
   {
    "duration": 149,
    "start_time": "2022-11-12T17:25:35.700Z"
   },
   {
    "duration": 150,
    "start_time": "2022-11-12T17:25:35.851Z"
   },
   {
    "duration": 148,
    "start_time": "2022-11-12T17:25:36.003Z"
   },
   {
    "duration": 2348,
    "start_time": "2022-11-12T17:25:36.155Z"
   },
   {
    "duration": 133,
    "start_time": "2022-11-12T17:25:38.504Z"
   },
   {
    "duration": 132,
    "start_time": "2022-11-12T17:25:38.639Z"
   },
   {
    "duration": 140,
    "start_time": "2022-11-12T17:25:38.773Z"
   },
   {
    "duration": 151,
    "start_time": "2022-11-12T17:25:38.914Z"
   },
   {
    "duration": 27,
    "start_time": "2022-11-12T17:25:39.067Z"
   },
   {
    "duration": 29,
    "start_time": "2022-11-12T17:25:39.095Z"
   },
   {
    "duration": 0,
    "start_time": "2022-11-12T17:25:39.193Z"
   },
   {
    "duration": 8,
    "start_time": "2022-11-12T17:25:59.215Z"
   },
   {
    "duration": 1085,
    "start_time": "2022-11-12T17:26:11.395Z"
   },
   {
    "duration": 1076,
    "start_time": "2022-11-12T17:26:26.586Z"
   },
   {
    "duration": 1141,
    "start_time": "2022-11-12T17:27:08.831Z"
   },
   {
    "duration": 171,
    "start_time": "2022-11-12T17:27:35.990Z"
   },
   {
    "duration": 12,
    "start_time": "2022-11-12T17:29:09.454Z"
   },
   {
    "duration": 1136,
    "start_time": "2022-11-12T17:29:12.924Z"
   },
   {
    "duration": 36,
    "start_time": "2022-11-12T17:29:30.356Z"
   },
   {
    "duration": 15,
    "start_time": "2022-11-12T17:29:45.774Z"
   },
   {
    "duration": 293,
    "start_time": "2022-11-12T17:29:59.183Z"
   },
   {
    "duration": 18,
    "start_time": "2022-11-12T17:30:18.515Z"
   },
   {
    "duration": 403,
    "start_time": "2022-11-12T17:31:57.993Z"
   },
   {
    "duration": 119,
    "start_time": "2022-11-12T17:31:58.398Z"
   },
   {
    "duration": 1986,
    "start_time": "2022-11-12T17:31:58.519Z"
   },
   {
    "duration": 129,
    "start_time": "2022-11-12T17:32:00.508Z"
   },
   {
    "duration": 4,
    "start_time": "2022-11-12T17:32:00.639Z"
   },
   {
    "duration": 37,
    "start_time": "2022-11-12T17:32:00.645Z"
   },
   {
    "duration": 440,
    "start_time": "2022-11-12T17:32:00.684Z"
   },
   {
    "duration": 24,
    "start_time": "2022-11-12T17:32:01.126Z"
   },
   {
    "duration": 162,
    "start_time": "2022-11-12T17:32:01.151Z"
   },
   {
    "duration": 167,
    "start_time": "2022-11-12T17:32:01.315Z"
   },
   {
    "duration": 163,
    "start_time": "2022-11-12T17:32:01.484Z"
   },
   {
    "duration": 365,
    "start_time": "2022-11-12T17:32:01.648Z"
   },
   {
    "duration": 158,
    "start_time": "2022-11-12T17:32:02.015Z"
   },
   {
    "duration": 162,
    "start_time": "2022-11-12T17:32:02.174Z"
   },
   {
    "duration": 158,
    "start_time": "2022-11-12T17:32:02.338Z"
   },
   {
    "duration": 127,
    "start_time": "2022-11-12T17:32:02.498Z"
   },
   {
    "duration": 175,
    "start_time": "2022-11-12T17:32:02.627Z"
   },
   {
    "duration": 165,
    "start_time": "2022-11-12T17:32:02.803Z"
   },
   {
    "duration": 171,
    "start_time": "2022-11-12T17:32:02.969Z"
   },
   {
    "duration": 172,
    "start_time": "2022-11-12T17:32:03.142Z"
   },
   {
    "duration": 159,
    "start_time": "2022-11-12T17:32:03.316Z"
   },
   {
    "duration": 253,
    "start_time": "2022-11-12T17:32:03.477Z"
   },
   {
    "duration": 173,
    "start_time": "2022-11-12T17:32:03.731Z"
   },
   {
    "duration": 128,
    "start_time": "2022-11-12T17:32:03.905Z"
   },
   {
    "duration": 132,
    "start_time": "2022-11-12T17:32:04.034Z"
   },
   {
    "duration": 139,
    "start_time": "2022-11-12T17:32:04.168Z"
   },
   {
    "duration": 139,
    "start_time": "2022-11-12T17:32:04.308Z"
   },
   {
    "duration": 2338,
    "start_time": "2022-11-12T17:32:04.449Z"
   },
   {
    "duration": 129,
    "start_time": "2022-11-12T17:32:06.789Z"
   },
   {
    "duration": 138,
    "start_time": "2022-11-12T17:32:06.920Z"
   },
   {
    "duration": 131,
    "start_time": "2022-11-12T17:32:07.060Z"
   },
   {
    "duration": 134,
    "start_time": "2022-11-12T17:32:07.192Z"
   },
   {
    "duration": 22,
    "start_time": "2022-11-12T17:32:07.328Z"
   },
   {
    "duration": 18,
    "start_time": "2022-11-12T17:32:07.351Z"
   },
   {
    "duration": 155,
    "start_time": "2022-11-12T17:35:15.028Z"
   },
   {
    "duration": 149,
    "start_time": "2022-11-12T17:35:31.560Z"
   },
   {
    "duration": 152,
    "start_time": "2022-11-12T17:36:34.241Z"
   },
   {
    "duration": 183,
    "start_time": "2022-11-12T17:36:42.866Z"
   },
   {
    "duration": 369,
    "start_time": "2022-11-12T17:37:01.747Z"
   },
   {
    "duration": 120,
    "start_time": "2022-11-12T17:37:02.118Z"
   },
   {
    "duration": 2037,
    "start_time": "2022-11-12T17:37:02.240Z"
   },
   {
    "duration": 125,
    "start_time": "2022-11-12T17:37:04.279Z"
   },
   {
    "duration": 8,
    "start_time": "2022-11-12T17:37:04.405Z"
   },
   {
    "duration": 12,
    "start_time": "2022-11-12T17:37:04.415Z"
   },
   {
    "duration": 431,
    "start_time": "2022-11-12T17:37:04.428Z"
   },
   {
    "duration": 24,
    "start_time": "2022-11-12T17:37:04.861Z"
   },
   {
    "duration": 177,
    "start_time": "2022-11-12T17:37:04.886Z"
   },
   {
    "duration": 172,
    "start_time": "2022-11-12T17:37:05.066Z"
   },
   {
    "duration": 163,
    "start_time": "2022-11-12T17:37:05.240Z"
   },
   {
    "duration": 370,
    "start_time": "2022-11-12T17:37:05.404Z"
   },
   {
    "duration": 164,
    "start_time": "2022-11-12T17:37:05.776Z"
   },
   {
    "duration": 155,
    "start_time": "2022-11-12T17:37:05.942Z"
   },
   {
    "duration": 167,
    "start_time": "2022-11-12T17:37:06.099Z"
   },
   {
    "duration": 110,
    "start_time": "2022-11-12T17:37:06.267Z"
   },
   {
    "duration": 175,
    "start_time": "2022-11-12T17:37:06.379Z"
   },
   {
    "duration": 172,
    "start_time": "2022-11-12T17:37:06.556Z"
   },
   {
    "duration": 178,
    "start_time": "2022-11-12T17:37:06.729Z"
   },
   {
    "duration": 178,
    "start_time": "2022-11-12T17:37:06.909Z"
   },
   {
    "duration": 147,
    "start_time": "2022-11-12T17:37:07.089Z"
   },
   {
    "duration": 243,
    "start_time": "2022-11-12T17:37:07.237Z"
   },
   {
    "duration": 182,
    "start_time": "2022-11-12T17:37:07.482Z"
   },
   {
    "duration": 129,
    "start_time": "2022-11-12T17:37:07.665Z"
   },
   {
    "duration": 143,
    "start_time": "2022-11-12T17:37:07.796Z"
   },
   {
    "duration": 138,
    "start_time": "2022-11-12T17:37:07.941Z"
   },
   {
    "duration": 146,
    "start_time": "2022-11-12T17:37:08.081Z"
   },
   {
    "duration": 2350,
    "start_time": "2022-11-12T17:37:08.231Z"
   },
   {
    "duration": 123,
    "start_time": "2022-11-12T17:37:10.583Z"
   },
   {
    "duration": 126,
    "start_time": "2022-11-12T17:37:10.713Z"
   },
   {
    "duration": 141,
    "start_time": "2022-11-12T17:37:10.841Z"
   },
   {
    "duration": 132,
    "start_time": "2022-11-12T17:37:10.983Z"
   },
   {
    "duration": 24,
    "start_time": "2022-11-12T17:37:11.116Z"
   },
   {
    "duration": 168,
    "start_time": "2022-11-12T17:37:11.141Z"
   },
   {
    "duration": 18,
    "start_time": "2022-11-12T17:37:11.312Z"
   },
   {
    "duration": 160,
    "start_time": "2022-11-12T17:37:21.630Z"
   },
   {
    "duration": 161,
    "start_time": "2022-11-12T17:38:32.471Z"
   },
   {
    "duration": 144,
    "start_time": "2022-11-12T17:38:50.954Z"
   },
   {
    "duration": 171,
    "start_time": "2022-11-12T17:39:12.161Z"
   },
   {
    "duration": 1205,
    "start_time": "2022-11-12T17:39:38.511Z"
   },
   {
    "duration": 222,
    "start_time": "2022-11-12T17:39:44.603Z"
   },
   {
    "duration": 376,
    "start_time": "2022-11-12T17:41:16.442Z"
   },
   {
    "duration": 137,
    "start_time": "2022-11-12T17:41:16.820Z"
   },
   {
    "duration": 2206,
    "start_time": "2022-11-12T17:41:16.959Z"
   },
   {
    "duration": 114,
    "start_time": "2022-11-12T17:41:19.168Z"
   },
   {
    "duration": 4,
    "start_time": "2022-11-12T17:41:19.284Z"
   },
   {
    "duration": 13,
    "start_time": "2022-11-12T17:41:19.290Z"
   },
   {
    "duration": 404,
    "start_time": "2022-11-12T17:41:19.304Z"
   },
   {
    "duration": 25,
    "start_time": "2022-11-12T17:41:19.710Z"
   },
   {
    "duration": 167,
    "start_time": "2022-11-12T17:41:19.737Z"
   },
   {
    "duration": 177,
    "start_time": "2022-11-12T17:41:19.912Z"
   },
   {
    "duration": 187,
    "start_time": "2022-11-12T17:41:20.090Z"
   },
   {
    "duration": 426,
    "start_time": "2022-11-12T17:41:20.279Z"
   },
   {
    "duration": 185,
    "start_time": "2022-11-12T17:41:20.706Z"
   },
   {
    "duration": 182,
    "start_time": "2022-11-12T17:41:20.893Z"
   },
   {
    "duration": 182,
    "start_time": "2022-11-12T17:41:21.077Z"
   },
   {
    "duration": 130,
    "start_time": "2022-11-12T17:41:21.261Z"
   },
   {
    "duration": 201,
    "start_time": "2022-11-12T17:41:21.393Z"
   },
   {
    "duration": 163,
    "start_time": "2022-11-12T17:41:21.596Z"
   },
   {
    "duration": 183,
    "start_time": "2022-11-12T17:41:21.761Z"
   },
   {
    "duration": 194,
    "start_time": "2022-11-12T17:41:21.946Z"
   },
   {
    "duration": 151,
    "start_time": "2022-11-12T17:41:22.142Z"
   },
   {
    "duration": 255,
    "start_time": "2022-11-12T17:41:22.295Z"
   },
   {
    "duration": 190,
    "start_time": "2022-11-12T17:41:22.552Z"
   },
   {
    "duration": 131,
    "start_time": "2022-11-12T17:41:22.744Z"
   },
   {
    "duration": 139,
    "start_time": "2022-11-12T17:41:22.877Z"
   },
   {
    "duration": 153,
    "start_time": "2022-11-12T17:41:23.018Z"
   },
   {
    "duration": 155,
    "start_time": "2022-11-12T17:41:23.172Z"
   },
   {
    "duration": 2655,
    "start_time": "2022-11-12T17:41:23.331Z"
   },
   {
    "duration": 131,
    "start_time": "2022-11-12T17:41:25.987Z"
   },
   {
    "duration": 143,
    "start_time": "2022-11-12T17:41:26.121Z"
   },
   {
    "duration": 150,
    "start_time": "2022-11-12T17:41:26.266Z"
   },
   {
    "duration": 154,
    "start_time": "2022-11-12T17:41:26.418Z"
   },
   {
    "duration": 25,
    "start_time": "2022-11-12T17:41:26.573Z"
   },
   {
    "duration": 186,
    "start_time": "2022-11-12T17:41:26.600Z"
   },
   {
    "duration": 41,
    "start_time": "2022-11-12T17:41:26.788Z"
   },
   {
    "duration": 370,
    "start_time": "2022-11-12T17:47:05.635Z"
   },
   {
    "duration": 120,
    "start_time": "2022-11-12T17:47:06.007Z"
   },
   {
    "duration": 2013,
    "start_time": "2022-11-12T17:47:06.128Z"
   },
   {
    "duration": 106,
    "start_time": "2022-11-12T17:47:08.143Z"
   },
   {
    "duration": 4,
    "start_time": "2022-11-12T17:47:08.251Z"
   },
   {
    "duration": 15,
    "start_time": "2022-11-12T17:47:08.256Z"
   },
   {
    "duration": 402,
    "start_time": "2022-11-12T17:47:08.272Z"
   },
   {
    "duration": 24,
    "start_time": "2022-11-12T17:47:08.676Z"
   },
   {
    "duration": 157,
    "start_time": "2022-11-12T17:47:08.701Z"
   },
   {
    "duration": 171,
    "start_time": "2022-11-12T17:47:08.860Z"
   },
   {
    "duration": 161,
    "start_time": "2022-11-12T17:47:09.033Z"
   },
   {
    "duration": 388,
    "start_time": "2022-11-13T13:32:28.400Z"
   },
   {
    "duration": 138,
    "start_time": "2022-11-13T13:32:28.790Z"
   },
   {
    "duration": 2232,
    "start_time": "2022-11-13T13:32:28.929Z"
   },
   {
    "duration": 111,
    "start_time": "2022-11-13T13:32:31.164Z"
   },
   {
    "duration": 5,
    "start_time": "2022-11-13T13:32:31.276Z"
   },
   {
    "duration": 16,
    "start_time": "2022-11-13T13:32:31.282Z"
   },
   {
    "duration": 432,
    "start_time": "2022-11-13T13:32:31.300Z"
   },
   {
    "duration": 35,
    "start_time": "2022-11-13T13:32:31.734Z"
   },
   {
    "duration": 177,
    "start_time": "2022-11-13T13:32:31.770Z"
   },
   {
    "duration": 192,
    "start_time": "2022-11-13T13:32:31.950Z"
   },
   {
    "duration": 176,
    "start_time": "2022-11-13T13:32:32.143Z"
   },
   {
    "duration": 405,
    "start_time": "2022-11-13T13:32:32.321Z"
   },
   {
    "duration": 175,
    "start_time": "2022-11-13T13:32:32.728Z"
   },
   {
    "duration": 180,
    "start_time": "2022-11-13T13:32:32.905Z"
   },
   {
    "duration": 182,
    "start_time": "2022-11-13T13:32:33.087Z"
   },
   {
    "duration": 129,
    "start_time": "2022-11-13T13:32:33.271Z"
   },
   {
    "duration": 206,
    "start_time": "2022-11-13T13:32:33.402Z"
   },
   {
    "duration": 192,
    "start_time": "2022-11-13T13:32:33.609Z"
   },
   {
    "duration": 209,
    "start_time": "2022-11-13T13:32:33.803Z"
   },
   {
    "duration": 204,
    "start_time": "2022-11-13T13:32:34.014Z"
   },
   {
    "duration": 172,
    "start_time": "2022-11-13T13:32:34.220Z"
   },
   {
    "duration": 265,
    "start_time": "2022-11-13T13:32:34.393Z"
   },
   {
    "duration": 192,
    "start_time": "2022-11-13T13:32:34.660Z"
   },
   {
    "duration": 146,
    "start_time": "2022-11-13T13:32:34.854Z"
   },
   {
    "duration": 154,
    "start_time": "2022-11-13T13:32:35.001Z"
   },
   {
    "duration": 152,
    "start_time": "2022-11-13T13:32:35.157Z"
   },
   {
    "duration": 149,
    "start_time": "2022-11-13T13:32:35.311Z"
   },
   {
    "duration": 2620,
    "start_time": "2022-11-13T13:32:35.469Z"
   },
   {
    "duration": 146,
    "start_time": "2022-11-13T13:32:38.091Z"
   },
   {
    "duration": 139,
    "start_time": "2022-11-13T13:32:38.238Z"
   },
   {
    "duration": 143,
    "start_time": "2022-11-13T13:32:38.379Z"
   },
   {
    "duration": 129,
    "start_time": "2022-11-13T13:32:38.524Z"
   },
   {
    "duration": 34,
    "start_time": "2022-11-13T13:32:38.655Z"
   },
   {
    "duration": 188,
    "start_time": "2022-11-13T13:32:38.690Z"
   },
   {
    "duration": 22,
    "start_time": "2022-11-13T13:32:38.880Z"
   },
   {
    "duration": 18,
    "start_time": "2022-11-13T13:33:06.146Z"
   },
   {
    "duration": 83,
    "start_time": "2022-11-13T13:33:09.801Z"
   },
   {
    "duration": 47,
    "start_time": "2022-11-14T06:35:37.328Z"
   },
   {
    "duration": 77,
    "start_time": "2022-11-14T06:36:00.597Z"
   },
   {
    "duration": 57,
    "start_time": "2022-11-14T06:36:12.401Z"
   },
   {
    "duration": 11,
    "start_time": "2022-11-14T06:36:18.843Z"
   },
   {
    "duration": 47,
    "start_time": "2022-11-14T06:36:37.453Z"
   },
   {
    "duration": 49,
    "start_time": "2022-11-14T06:37:08.499Z"
   },
   {
    "duration": 52,
    "start_time": "2022-11-14T06:37:24.239Z"
   },
   {
    "duration": 5,
    "start_time": "2022-11-14T06:37:30.592Z"
   },
   {
    "duration": 7,
    "start_time": "2022-11-14T06:37:38.688Z"
   },
   {
    "duration": 12,
    "start_time": "2022-11-14T06:37:45.073Z"
   },
   {
    "duration": 7,
    "start_time": "2022-11-14T06:37:48.289Z"
   },
   {
    "duration": 428,
    "start_time": "2022-11-14T06:38:08.221Z"
   },
   {
    "duration": 368,
    "start_time": "2022-11-14T06:38:08.652Z"
   },
   {
    "duration": 2457,
    "start_time": "2022-11-14T06:38:09.022Z"
   },
   {
    "duration": 125,
    "start_time": "2022-11-14T06:38:11.481Z"
   },
   {
    "duration": 4,
    "start_time": "2022-11-14T06:38:11.609Z"
   },
   {
    "duration": 25,
    "start_time": "2022-11-14T06:38:11.615Z"
   },
   {
    "duration": 509,
    "start_time": "2022-11-14T06:38:11.646Z"
   },
   {
    "duration": 26,
    "start_time": "2022-11-14T06:38:12.158Z"
   },
   {
    "duration": 183,
    "start_time": "2022-11-14T06:38:12.186Z"
   },
   {
    "duration": 206,
    "start_time": "2022-11-14T06:38:12.370Z"
   },
   {
    "duration": 258,
    "start_time": "2022-11-14T06:38:12.578Z"
   },
   {
    "duration": 330,
    "start_time": "2022-11-14T06:38:12.839Z"
   },
   {
    "duration": 195,
    "start_time": "2022-11-14T06:38:13.170Z"
   },
   {
    "duration": 189,
    "start_time": "2022-11-14T06:38:13.370Z"
   },
   {
    "duration": 201,
    "start_time": "2022-11-14T06:38:13.561Z"
   },
   {
    "duration": 154,
    "start_time": "2022-11-14T06:38:13.764Z"
   },
   {
    "duration": 236,
    "start_time": "2022-11-14T06:38:13.920Z"
   },
   {
    "duration": 190,
    "start_time": "2022-11-14T06:38:14.158Z"
   },
   {
    "duration": 221,
    "start_time": "2022-11-14T06:38:14.350Z"
   },
   {
    "duration": 222,
    "start_time": "2022-11-14T06:38:14.572Z"
   },
   {
    "duration": 300,
    "start_time": "2022-11-14T06:38:14.796Z"
   },
   {
    "duration": 169,
    "start_time": "2022-11-14T06:38:15.097Z"
   },
   {
    "duration": 190,
    "start_time": "2022-11-14T06:38:15.267Z"
   },
   {
    "duration": 144,
    "start_time": "2022-11-14T06:38:15.459Z"
   },
   {
    "duration": 162,
    "start_time": "2022-11-14T06:38:15.604Z"
   },
   {
    "duration": 174,
    "start_time": "2022-11-14T06:38:15.768Z"
   },
   {
    "duration": 176,
    "start_time": "2022-11-14T06:38:15.945Z"
   },
   {
    "duration": 2696,
    "start_time": "2022-11-14T06:38:16.122Z"
   },
   {
    "duration": 140,
    "start_time": "2022-11-14T06:38:18.820Z"
   },
   {
    "duration": 153,
    "start_time": "2022-11-14T06:38:18.962Z"
   },
   {
    "duration": 150,
    "start_time": "2022-11-14T06:38:19.116Z"
   },
   {
    "duration": 139,
    "start_time": "2022-11-14T06:38:19.268Z"
   },
   {
    "duration": 46,
    "start_time": "2022-11-14T06:38:19.409Z"
   },
   {
    "duration": 208,
    "start_time": "2022-11-14T06:38:19.457Z"
   },
   {
    "duration": 21,
    "start_time": "2022-11-14T06:38:19.667Z"
   },
   {
    "duration": 2553,
    "start_time": "2022-11-14T06:41:26.935Z"
   },
   {
    "duration": 137,
    "start_time": "2022-11-14T06:48:39.491Z"
   },
   {
    "duration": 88,
    "start_time": "2022-11-14T06:49:10.140Z"
   },
   {
    "duration": 130,
    "start_time": "2022-11-14T06:49:26.693Z"
   },
   {
    "duration": 66,
    "start_time": "2022-11-14T06:49:40.576Z"
   },
   {
    "duration": 42,
    "start_time": "2022-11-14T06:49:53.571Z"
   },
   {
    "duration": 112,
    "start_time": "2022-11-14T06:50:08.950Z"
   },
   {
    "duration": 422,
    "start_time": "2022-11-14T06:50:18.430Z"
   },
   {
    "duration": 129,
    "start_time": "2022-11-14T06:50:18.855Z"
   },
   {
    "duration": 2285,
    "start_time": "2022-11-14T06:50:18.986Z"
   },
   {
    "duration": 132,
    "start_time": "2022-11-14T06:50:21.273Z"
   },
   {
    "duration": 5,
    "start_time": "2022-11-14T06:50:21.407Z"
   },
   {
    "duration": 40,
    "start_time": "2022-11-14T06:50:21.413Z"
   },
   {
    "duration": 465,
    "start_time": "2022-11-14T06:50:21.456Z"
   },
   {
    "duration": 36,
    "start_time": "2022-11-14T06:50:21.923Z"
   },
   {
    "duration": 223,
    "start_time": "2022-11-14T06:50:21.960Z"
   },
   {
    "duration": 183,
    "start_time": "2022-11-14T06:50:22.185Z"
   },
   {
    "duration": 173,
    "start_time": "2022-11-14T06:50:22.369Z"
   },
   {
    "duration": 424,
    "start_time": "2022-11-14T06:50:22.543Z"
   },
   {
    "duration": 156,
    "start_time": "2022-11-14T06:50:22.968Z"
   },
   {
    "duration": 186,
    "start_time": "2022-11-14T06:50:23.129Z"
   },
   {
    "duration": 184,
    "start_time": "2022-11-14T06:50:23.317Z"
   },
   {
    "duration": 129,
    "start_time": "2022-11-14T06:50:23.503Z"
   },
   {
    "duration": 187,
    "start_time": "2022-11-14T06:50:23.635Z"
   },
   {
    "duration": 196,
    "start_time": "2022-11-14T06:50:23.824Z"
   },
   {
    "duration": 206,
    "start_time": "2022-11-14T06:50:24.022Z"
   },
   {
    "duration": 194,
    "start_time": "2022-11-14T06:50:24.231Z"
   },
   {
    "duration": 177,
    "start_time": "2022-11-14T06:50:24.430Z"
   },
   {
    "duration": 266,
    "start_time": "2022-11-14T06:50:24.608Z"
   },
   {
    "duration": 218,
    "start_time": "2022-11-14T06:50:24.876Z"
   },
   {
    "duration": 141,
    "start_time": "2022-11-14T06:50:25.095Z"
   },
   {
    "duration": 151,
    "start_time": "2022-11-14T06:50:25.239Z"
   },
   {
    "duration": 147,
    "start_time": "2022-11-14T06:50:25.392Z"
   },
   {
    "duration": 148,
    "start_time": "2022-11-14T06:50:25.542Z"
   },
   {
    "duration": 2496,
    "start_time": "2022-11-14T06:50:25.692Z"
   },
   {
    "duration": 53,
    "start_time": "2022-11-14T06:50:28.189Z"
   },
   {
    "duration": 0,
    "start_time": "2022-11-14T06:50:28.244Z"
   },
   {
    "duration": 0,
    "start_time": "2022-11-14T06:50:28.245Z"
   },
   {
    "duration": 0,
    "start_time": "2022-11-14T06:50:28.247Z"
   },
   {
    "duration": 0,
    "start_time": "2022-11-14T06:50:28.249Z"
   },
   {
    "duration": 0,
    "start_time": "2022-11-14T06:50:28.252Z"
   },
   {
    "duration": 0,
    "start_time": "2022-11-14T06:50:28.253Z"
   },
   {
    "duration": 1,
    "start_time": "2022-11-14T06:50:28.254Z"
   },
   {
    "duration": 6,
    "start_time": "2022-11-14T06:50:44.778Z"
   },
   {
    "duration": 5,
    "start_time": "2022-11-14T06:51:38.507Z"
   },
   {
    "duration": 11,
    "start_time": "2022-11-14T06:52:46.839Z"
   },
   {
    "duration": 387,
    "start_time": "2022-11-14T06:55:37.560Z"
   },
   {
    "duration": 138,
    "start_time": "2022-11-14T06:55:37.950Z"
   },
   {
    "duration": 2265,
    "start_time": "2022-11-14T06:55:38.090Z"
   },
   {
    "duration": 111,
    "start_time": "2022-11-14T06:55:40.358Z"
   },
   {
    "duration": 6,
    "start_time": "2022-11-14T06:55:40.472Z"
   },
   {
    "duration": 13,
    "start_time": "2022-11-14T06:55:40.480Z"
   },
   {
    "duration": 438,
    "start_time": "2022-11-14T06:55:40.495Z"
   },
   {
    "duration": 36,
    "start_time": "2022-11-14T06:55:40.936Z"
   },
   {
    "duration": 197,
    "start_time": "2022-11-14T06:55:40.974Z"
   },
   {
    "duration": 209,
    "start_time": "2022-11-14T06:55:41.173Z"
   },
   {
    "duration": 204,
    "start_time": "2022-11-14T06:55:41.384Z"
   },
   {
    "duration": 446,
    "start_time": "2022-11-14T06:55:41.590Z"
   },
   {
    "duration": 207,
    "start_time": "2022-11-14T06:55:42.039Z"
   },
   {
    "duration": 190,
    "start_time": "2022-11-14T06:55:42.252Z"
   },
   {
    "duration": 208,
    "start_time": "2022-11-14T06:55:42.444Z"
   },
   {
    "duration": 142,
    "start_time": "2022-11-14T06:55:42.654Z"
   },
   {
    "duration": 193,
    "start_time": "2022-11-14T06:55:42.798Z"
   },
   {
    "duration": 183,
    "start_time": "2022-11-14T06:55:42.993Z"
   },
   {
    "duration": 227,
    "start_time": "2022-11-14T06:55:43.178Z"
   },
   {
    "duration": 217,
    "start_time": "2022-11-14T06:55:43.407Z"
   },
   {
    "duration": 181,
    "start_time": "2022-11-14T06:55:43.630Z"
   },
   {
    "duration": 281,
    "start_time": "2022-11-14T06:55:43.813Z"
   },
   {
    "duration": 211,
    "start_time": "2022-11-14T06:55:44.096Z"
   },
   {
    "duration": 161,
    "start_time": "2022-11-14T06:55:44.309Z"
   },
   {
    "duration": 165,
    "start_time": "2022-11-14T06:55:44.472Z"
   },
   {
    "duration": 203,
    "start_time": "2022-11-14T06:55:44.639Z"
   },
   {
    "duration": 196,
    "start_time": "2022-11-14T06:55:44.844Z"
   },
   {
    "duration": 2964,
    "start_time": "2022-11-14T06:55:45.045Z"
   },
   {
    "duration": 27,
    "start_time": "2022-11-14T06:55:48.011Z"
   },
   {
    "duration": 161,
    "start_time": "2022-11-14T06:55:48.039Z"
   },
   {
    "duration": 166,
    "start_time": "2022-11-14T06:55:48.202Z"
   },
   {
    "duration": 158,
    "start_time": "2022-11-14T06:55:48.369Z"
   },
   {
    "duration": 191,
    "start_time": "2022-11-14T06:55:48.529Z"
   },
   {
    "duration": 37,
    "start_time": "2022-11-14T06:55:48.722Z"
   },
   {
    "duration": 255,
    "start_time": "2022-11-14T06:55:48.761Z"
   },
   {
    "duration": 41,
    "start_time": "2022-11-14T06:55:49.018Z"
   },
   {
    "duration": 135,
    "start_time": "2022-11-14T06:59:18.281Z"
   },
   {
    "duration": 142,
    "start_time": "2022-11-14T06:59:55.705Z"
   },
   {
    "duration": 451,
    "start_time": "2022-11-14T07:10:03.604Z"
   },
   {
    "duration": 135,
    "start_time": "2022-11-14T07:10:04.057Z"
   },
   {
    "duration": 2166,
    "start_time": "2022-11-14T07:10:04.193Z"
   },
   {
    "duration": 99,
    "start_time": "2022-11-14T07:10:06.360Z"
   },
   {
    "duration": 4,
    "start_time": "2022-11-14T07:10:06.461Z"
   },
   {
    "duration": 14,
    "start_time": "2022-11-14T07:10:06.466Z"
   },
   {
    "duration": 398,
    "start_time": "2022-11-14T07:10:06.481Z"
   },
   {
    "duration": 22,
    "start_time": "2022-11-14T07:10:06.881Z"
   },
   {
    "duration": 149,
    "start_time": "2022-11-14T07:10:06.904Z"
   },
   {
    "duration": 162,
    "start_time": "2022-11-14T07:10:07.055Z"
   },
   {
    "duration": 160,
    "start_time": "2022-11-14T07:10:07.219Z"
   },
   {
    "duration": 347,
    "start_time": "2022-11-14T07:10:07.380Z"
   },
   {
    "duration": 149,
    "start_time": "2022-11-14T07:10:07.729Z"
   },
   {
    "duration": 162,
    "start_time": "2022-11-14T07:10:07.882Z"
   },
   {
    "duration": 159,
    "start_time": "2022-11-14T07:10:08.046Z"
   },
   {
    "duration": 124,
    "start_time": "2022-11-14T07:10:08.207Z"
   },
   {
    "duration": 172,
    "start_time": "2022-11-14T07:10:08.332Z"
   },
   {
    "duration": 163,
    "start_time": "2022-11-14T07:10:08.505Z"
   },
   {
    "duration": 171,
    "start_time": "2022-11-14T07:10:08.670Z"
   },
   {
    "duration": 171,
    "start_time": "2022-11-14T07:10:08.842Z"
   },
   {
    "duration": 148,
    "start_time": "2022-11-14T07:10:09.015Z"
   },
   {
    "duration": 222,
    "start_time": "2022-11-14T07:10:09.164Z"
   },
   {
    "duration": 157,
    "start_time": "2022-11-14T07:10:09.388Z"
   },
   {
    "duration": 120,
    "start_time": "2022-11-14T07:10:09.546Z"
   },
   {
    "duration": 128,
    "start_time": "2022-11-14T07:10:09.667Z"
   },
   {
    "duration": 132,
    "start_time": "2022-11-14T07:10:09.797Z"
   },
   {
    "duration": 135,
    "start_time": "2022-11-14T07:10:09.931Z"
   },
   {
    "duration": 2242,
    "start_time": "2022-11-14T07:10:10.068Z"
   },
   {
    "duration": 19,
    "start_time": "2022-11-14T07:10:12.311Z"
   },
   {
    "duration": 131,
    "start_time": "2022-11-14T07:10:12.331Z"
   },
   {
    "duration": 134,
    "start_time": "2022-11-14T07:10:12.464Z"
   },
   {
    "duration": 144,
    "start_time": "2022-11-14T07:10:12.599Z"
   },
   {
    "duration": 137,
    "start_time": "2022-11-14T07:10:12.745Z"
   },
   {
    "duration": 26,
    "start_time": "2022-11-14T07:10:12.883Z"
   },
   {
    "duration": 189,
    "start_time": "2022-11-14T07:10:12.910Z"
   },
   {
    "duration": 29,
    "start_time": "2022-11-14T07:10:13.101Z"
   },
   {
    "duration": 137,
    "start_time": "2022-11-14T07:10:13.132Z"
   },
   {
    "duration": 160,
    "start_time": "2022-11-14T07:10:21.211Z"
   },
   {
    "duration": 425,
    "start_time": "2022-11-14T07:12:09.737Z"
   },
   {
    "duration": 124,
    "start_time": "2022-11-14T07:12:10.164Z"
   },
   {
    "duration": 1964,
    "start_time": "2022-11-14T07:12:10.290Z"
   },
   {
    "duration": 105,
    "start_time": "2022-11-14T07:12:12.257Z"
   },
   {
    "duration": 5,
    "start_time": "2022-11-14T07:12:12.363Z"
   },
   {
    "duration": 13,
    "start_time": "2022-11-14T07:12:12.370Z"
   },
   {
    "duration": 430,
    "start_time": "2022-11-14T07:12:12.384Z"
   },
   {
    "duration": 29,
    "start_time": "2022-11-14T07:12:12.815Z"
   },
   {
    "duration": 161,
    "start_time": "2022-11-14T07:12:12.845Z"
   },
   {
    "duration": 158,
    "start_time": "2022-11-14T07:12:13.008Z"
   },
   {
    "duration": 150,
    "start_time": "2022-11-14T07:12:13.168Z"
   },
   {
    "duration": 376,
    "start_time": "2022-11-14T07:12:13.320Z"
   },
   {
    "duration": 174,
    "start_time": "2022-11-14T07:12:13.699Z"
   },
   {
    "duration": 166,
    "start_time": "2022-11-14T07:12:13.875Z"
   },
   {
    "duration": 180,
    "start_time": "2022-11-14T07:12:14.043Z"
   },
   {
    "duration": 127,
    "start_time": "2022-11-14T07:12:14.224Z"
   },
   {
    "duration": 181,
    "start_time": "2022-11-14T07:12:14.352Z"
   },
   {
    "duration": 161,
    "start_time": "2022-11-14T07:12:14.534Z"
   },
   {
    "duration": 218,
    "start_time": "2022-11-14T07:12:14.697Z"
   },
   {
    "duration": 208,
    "start_time": "2022-11-14T07:12:14.917Z"
   },
   {
    "duration": 159,
    "start_time": "2022-11-14T07:12:15.127Z"
   },
   {
    "duration": 221,
    "start_time": "2022-11-14T07:12:15.287Z"
   },
   {
    "duration": 176,
    "start_time": "2022-11-14T07:12:15.510Z"
   },
   {
    "duration": 131,
    "start_time": "2022-11-14T07:12:15.688Z"
   },
   {
    "duration": 135,
    "start_time": "2022-11-14T07:12:15.820Z"
   },
   {
    "duration": 141,
    "start_time": "2022-11-14T07:12:15.957Z"
   },
   {
    "duration": 148,
    "start_time": "2022-11-14T07:12:16.100Z"
   },
   {
    "duration": 2368,
    "start_time": "2022-11-14T07:12:16.252Z"
   },
   {
    "duration": 10,
    "start_time": "2022-11-14T07:12:18.629Z"
   },
   {
    "duration": 119,
    "start_time": "2022-11-14T07:12:18.641Z"
   },
   {
    "duration": 126,
    "start_time": "2022-11-14T07:12:18.761Z"
   },
   {
    "duration": 142,
    "start_time": "2022-11-14T07:12:18.889Z"
   },
   {
    "duration": 154,
    "start_time": "2022-11-14T07:12:19.033Z"
   },
   {
    "duration": 24,
    "start_time": "2022-11-14T07:12:19.189Z"
   },
   {
    "duration": 169,
    "start_time": "2022-11-14T07:12:19.214Z"
   },
   {
    "duration": 20,
    "start_time": "2022-11-14T07:12:19.384Z"
   },
   {
    "duration": 143,
    "start_time": "2022-11-14T07:12:19.405Z"
   },
   {
    "duration": 356,
    "start_time": "2022-11-14T07:12:55.393Z"
   },
   {
    "duration": 124,
    "start_time": "2022-11-14T07:12:55.751Z"
   },
   {
    "duration": 2022,
    "start_time": "2022-11-14T07:12:55.877Z"
   },
   {
    "duration": 113,
    "start_time": "2022-11-14T07:12:57.901Z"
   },
   {
    "duration": 5,
    "start_time": "2022-11-14T07:12:58.017Z"
   },
   {
    "duration": 13,
    "start_time": "2022-11-14T07:12:58.029Z"
   },
   {
    "duration": 402,
    "start_time": "2022-11-14T07:12:58.043Z"
   },
   {
    "duration": 25,
    "start_time": "2022-11-14T07:12:58.447Z"
   },
   {
    "duration": 165,
    "start_time": "2022-11-14T07:12:58.473Z"
   },
   {
    "duration": 159,
    "start_time": "2022-11-14T07:12:58.640Z"
   },
   {
    "duration": 156,
    "start_time": "2022-11-14T07:12:58.800Z"
   },
   {
    "duration": 373,
    "start_time": "2022-11-14T07:12:58.958Z"
   },
   {
    "duration": 154,
    "start_time": "2022-11-14T07:12:59.333Z"
   },
   {
    "duration": 160,
    "start_time": "2022-11-14T07:12:59.491Z"
   },
   {
    "duration": 154,
    "start_time": "2022-11-14T07:12:59.652Z"
   },
   {
    "duration": 107,
    "start_time": "2022-11-14T07:12:59.807Z"
   },
   {
    "duration": 186,
    "start_time": "2022-11-14T07:12:59.916Z"
   },
   {
    "duration": 180,
    "start_time": "2022-11-14T07:13:00.103Z"
   },
   {
    "duration": 192,
    "start_time": "2022-11-14T07:13:00.285Z"
   },
   {
    "duration": 178,
    "start_time": "2022-11-14T07:13:00.479Z"
   },
   {
    "duration": 140,
    "start_time": "2022-11-14T07:13:00.659Z"
   },
   {
    "duration": 219,
    "start_time": "2022-11-14T07:13:00.800Z"
   },
   {
    "duration": 184,
    "start_time": "2022-11-14T07:13:01.020Z"
   },
   {
    "duration": 143,
    "start_time": "2022-11-14T07:13:01.206Z"
   },
   {
    "duration": 156,
    "start_time": "2022-11-14T07:13:01.351Z"
   },
   {
    "duration": 164,
    "start_time": "2022-11-14T07:13:01.510Z"
   },
   {
    "duration": 162,
    "start_time": "2022-11-14T07:13:01.676Z"
   },
   {
    "duration": 2398,
    "start_time": "2022-11-14T07:13:01.840Z"
   },
   {
    "duration": 10,
    "start_time": "2022-11-14T07:13:04.240Z"
   },
   {
    "duration": 136,
    "start_time": "2022-11-14T07:13:04.252Z"
   },
   {
    "duration": 126,
    "start_time": "2022-11-14T07:13:04.389Z"
   },
   {
    "duration": 146,
    "start_time": "2022-11-14T07:13:04.517Z"
   },
   {
    "duration": 174,
    "start_time": "2022-11-14T07:13:04.665Z"
   },
   {
    "duration": 33,
    "start_time": "2022-11-14T07:13:04.840Z"
   },
   {
    "duration": 194,
    "start_time": "2022-11-14T07:13:04.875Z"
   },
   {
    "duration": 20,
    "start_time": "2022-11-14T07:13:05.071Z"
   },
   {
    "duration": 149,
    "start_time": "2022-11-14T07:13:05.092Z"
   }
  ],
  "kernelspec": {
   "display_name": "Python 3 (ipykernel)",
   "language": "python",
   "name": "python3"
  },
  "language_info": {
   "codemirror_mode": {
    "name": "ipython",
    "version": 3
   },
   "file_extension": ".py",
   "mimetype": "text/x-python",
   "name": "python",
   "nbconvert_exporter": "python",
   "pygments_lexer": "ipython3",
   "version": "3.9.13"
  },
  "toc": {
   "base_numbering": 1,
   "nav_menu": {},
   "number_sections": true,
   "sideBar": true,
   "skip_h1_title": true,
   "title_cell": "Table of Contents",
   "title_sidebar": "Contents",
   "toc_cell": false,
   "toc_position": {},
   "toc_section_display": true,
   "toc_window_display": false
  }
 },
 "nbformat": 4,
 "nbformat_minor": 2
}
