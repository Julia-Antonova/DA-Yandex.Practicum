{
 "cells": [
  {
   "cell_type": "markdown",
   "metadata": {},
   "source": [
    "# Исследование базы данных крупного сервиса для чтения книг по подписке"
   ]
  },
  {
   "cell_type": "markdown",
   "metadata": {},
   "source": [
    "В этом исследовании проанализируем базу данных крупного сервиса для чтения книг по подписке."
   ]
  },
  {
   "cell_type": "markdown",
   "metadata": {
    "toc": true
   },
   "source": [
    "<h1>Содержание<span class=\"tocSkip\"></span></h1>\n",
    "<div class=\"toc\"><ul class=\"toc-item\"><li><span><a href=\"#Общая-информация-о-файлах\" data-toc-modified-id=\"Общая-информация-о-файлах-1\"><span class=\"toc-item-num\">1&nbsp;&nbsp;</span>Общая информация о файлах</a></span></li><li><span><a href=\"#Исследовательский-анализ-данных\" data-toc-modified-id=\"Исследовательский-анализ-данных-2\"><span class=\"toc-item-num\">2&nbsp;&nbsp;</span>Исследовательский анализ данных</a></span><ul class=\"toc-item\"><li><span><a href=\"#Посчитаем,-сколько-книг-вышло-после-1-января-2000-года\" data-toc-modified-id=\"Посчитаем,-сколько-книг-вышло-после-1-января-2000-года-2.1\"><span class=\"toc-item-num\">2.1&nbsp;&nbsp;</span>Посчитаем, сколько книг вышло после 1 января 2000 года</a></span></li><li><span><a href=\"#Для-каждой-книги-посчитаем-количество-обзоров-и-среднюю-оценку\" data-toc-modified-id=\"Для-каждой-книги-посчитаем-количество-обзоров-и-среднюю-оценку-2.2\"><span class=\"toc-item-num\">2.2&nbsp;&nbsp;</span>Для каждой книги посчитаем количество обзоров и среднюю оценку</a></span></li><li><span><a href=\"#Определим-издательство,-которое-выпустило-наибольшее-число-книг-толще-50-страниц\" data-toc-modified-id=\"Определим-издательство,-которое-выпустило-наибольшее-число-книг-толще-50-страниц-2.3\"><span class=\"toc-item-num\">2.3&nbsp;&nbsp;</span>Определим издательство, которое выпустило наибольшее число книг толще 50 страниц</a></span></li><li><span><a href=\"#Определим-автора-с-самой-высокой-средней-оценкой-книг-(учитываем-только-книги-с-50-и-более-оценками)\" data-toc-modified-id=\"Определим-автора-с-самой-высокой-средней-оценкой-книг-(учитываем-только-книги-с-50-и-более-оценками)-2.4\"><span class=\"toc-item-num\">2.4&nbsp;&nbsp;</span>Определим автора с самой высокой средней оценкой книг (учитываем только книги с 50 и более оценками)</a></span></li><li><span><a href=\"#Посчитаем-среднее-количество-обзоров-от-пользователей,-которые-поставили-больше-50-оценок.\" data-toc-modified-id=\"Посчитаем-среднее-количество-обзоров-от-пользователей,-которые-поставили-больше-50-оценок.-2.5\"><span class=\"toc-item-num\">2.5&nbsp;&nbsp;</span>Посчитаем среднее количество обзоров от пользователей, которые поставили больше 50 оценок.</a></span></li></ul></li><li><span><a href=\"#Вывод\" data-toc-modified-id=\"Вывод-3\"><span class=\"toc-item-num\">3&nbsp;&nbsp;</span>Вывод</a></span></li></ul></div>"
   ]
  },
  {
   "cell_type": "markdown",
   "metadata": {},
   "source": [
    "## Общая информация о файлах"
   ]
  },
  {
   "cell_type": "code",
   "execution_count": 1,
   "metadata": {},
   "outputs": [],
   "source": [
    "# импортируем библиотеки\n",
    "import pandas as pd\n",
    "from sqlalchemy import text, create_engine\n",
    "\n",
    "# устанавливаем параметры\n",
    "db_config = {'user': 'praktikum_student', # имя пользователя\n",
    "'pwd': 'Sdf4$2;d-d30pp', # пароль\n",
    "'host': 'rc1b-wcoijxj3yxfsf3fs.mdb.yandexcloud.net',\n",
    "'port': 6432, # порт подключения\n",
    "'db': 'data-analyst-final-project-db'} # название базы данных\n",
    "connection_string = 'postgresql://{user}:{pwd}@{host}:{port}/{db}'.format(**db_config)\n",
    "\n",
    "# сохраняем коннектор\n",
    "engine = create_engine(connection_string, connect_args={'sslmode':'require'})\n",
    "\n",
    "#добавим функцию для вывода запросов SQL\n",
    "def read (query):\n",
    "    display(pd.io.sql.read_sql(sql=text(query), con = engine))"
   ]
  },
  {
   "cell_type": "code",
   "execution_count": 2,
   "metadata": {},
   "outputs": [
    {
     "data": {
      "text/html": [
       "<div>\n",
       "<style scoped>\n",
       "    .dataframe tbody tr th:only-of-type {\n",
       "        vertical-align: middle;\n",
       "    }\n",
       "\n",
       "    .dataframe tbody tr th {\n",
       "        vertical-align: top;\n",
       "    }\n",
       "\n",
       "    .dataframe thead th {\n",
       "        text-align: right;\n",
       "    }\n",
       "</style>\n",
       "<table border=\"1\" class=\"dataframe\">\n",
       "  <thead>\n",
       "    <tr style=\"text-align: right;\">\n",
       "      <th></th>\n",
       "      <th>book_id</th>\n",
       "      <th>author_id</th>\n",
       "      <th>title</th>\n",
       "      <th>num_pages</th>\n",
       "      <th>publication_date</th>\n",
       "      <th>publisher_id</th>\n",
       "    </tr>\n",
       "  </thead>\n",
       "  <tbody>\n",
       "    <tr>\n",
       "      <th>0</th>\n",
       "      <td>1</td>\n",
       "      <td>546</td>\n",
       "      <td>'Salem's Lot</td>\n",
       "      <td>594</td>\n",
       "      <td>2005-11-01</td>\n",
       "      <td>93</td>\n",
       "    </tr>\n",
       "    <tr>\n",
       "      <th>1</th>\n",
       "      <td>2</td>\n",
       "      <td>465</td>\n",
       "      <td>1 000 Places to See Before You Die</td>\n",
       "      <td>992</td>\n",
       "      <td>2003-05-22</td>\n",
       "      <td>336</td>\n",
       "    </tr>\n",
       "    <tr>\n",
       "      <th>2</th>\n",
       "      <td>3</td>\n",
       "      <td>407</td>\n",
       "      <td>13 Little Blue Envelopes (Little Blue Envelope...</td>\n",
       "      <td>322</td>\n",
       "      <td>2010-12-21</td>\n",
       "      <td>135</td>\n",
       "    </tr>\n",
       "    <tr>\n",
       "      <th>3</th>\n",
       "      <td>4</td>\n",
       "      <td>82</td>\n",
       "      <td>1491: New Revelations of the Americas Before C...</td>\n",
       "      <td>541</td>\n",
       "      <td>2006-10-10</td>\n",
       "      <td>309</td>\n",
       "    </tr>\n",
       "    <tr>\n",
       "      <th>4</th>\n",
       "      <td>5</td>\n",
       "      <td>125</td>\n",
       "      <td>1776</td>\n",
       "      <td>386</td>\n",
       "      <td>2006-07-04</td>\n",
       "      <td>268</td>\n",
       "    </tr>\n",
       "  </tbody>\n",
       "</table>\n",
       "</div>"
      ],
      "text/plain": [
       "   book_id  author_id                                              title  \\\n",
       "0        1        546                                       'Salem's Lot   \n",
       "1        2        465                 1 000 Places to See Before You Die   \n",
       "2        3        407  13 Little Blue Envelopes (Little Blue Envelope...   \n",
       "3        4         82  1491: New Revelations of the Americas Before C...   \n",
       "4        5        125                                               1776   \n",
       "\n",
       "   num_pages publication_date  publisher_id  \n",
       "0        594       2005-11-01            93  \n",
       "1        992       2003-05-22           336  \n",
       "2        322       2010-12-21           135  \n",
       "3        541       2006-10-10           309  \n",
       "4        386       2006-07-04           268  "
      ]
     },
     "metadata": {},
     "output_type": "display_data"
    }
   ],
   "source": [
    "# выведем первые 5 строк таблицы books\n",
    "query = '''SELECT * FROM books LIMIT 5'''\n",
    "\n",
    "read (query)"
   ]
  },
  {
   "cell_type": "code",
   "execution_count": 3,
   "metadata": {},
   "outputs": [
    {
     "data": {
      "text/html": [
       "<div>\n",
       "<style scoped>\n",
       "    .dataframe tbody tr th:only-of-type {\n",
       "        vertical-align: middle;\n",
       "    }\n",
       "\n",
       "    .dataframe tbody tr th {\n",
       "        vertical-align: top;\n",
       "    }\n",
       "\n",
       "    .dataframe thead th {\n",
       "        text-align: right;\n",
       "    }\n",
       "</style>\n",
       "<table border=\"1\" class=\"dataframe\">\n",
       "  <thead>\n",
       "    <tr style=\"text-align: right;\">\n",
       "      <th></th>\n",
       "      <th>author_id</th>\n",
       "      <th>author</th>\n",
       "    </tr>\n",
       "  </thead>\n",
       "  <tbody>\n",
       "    <tr>\n",
       "      <th>0</th>\n",
       "      <td>1</td>\n",
       "      <td>A.S. Byatt</td>\n",
       "    </tr>\n",
       "    <tr>\n",
       "      <th>1</th>\n",
       "      <td>2</td>\n",
       "      <td>Aesop/Laura Harris/Laura Gibbs</td>\n",
       "    </tr>\n",
       "    <tr>\n",
       "      <th>2</th>\n",
       "      <td>3</td>\n",
       "      <td>Agatha Christie</td>\n",
       "    </tr>\n",
       "    <tr>\n",
       "      <th>3</th>\n",
       "      <td>4</td>\n",
       "      <td>Alan Brennert</td>\n",
       "    </tr>\n",
       "    <tr>\n",
       "      <th>4</th>\n",
       "      <td>5</td>\n",
       "      <td>Alan Moore/David   Lloyd</td>\n",
       "    </tr>\n",
       "  </tbody>\n",
       "</table>\n",
       "</div>"
      ],
      "text/plain": [
       "   author_id                          author\n",
       "0          1                      A.S. Byatt\n",
       "1          2  Aesop/Laura Harris/Laura Gibbs\n",
       "2          3                 Agatha Christie\n",
       "3          4                   Alan Brennert\n",
       "4          5        Alan Moore/David   Lloyd"
      ]
     },
     "metadata": {},
     "output_type": "display_data"
    }
   ],
   "source": [
    "# выведем первые 5 строк таблицы authors\n",
    "query = '''SELECT * FROM authors LIMIT 5'''\n",
    "\n",
    "read (query)"
   ]
  },
  {
   "cell_type": "code",
   "execution_count": 4,
   "metadata": {},
   "outputs": [
    {
     "data": {
      "text/html": [
       "<div>\n",
       "<style scoped>\n",
       "    .dataframe tbody tr th:only-of-type {\n",
       "        vertical-align: middle;\n",
       "    }\n",
       "\n",
       "    .dataframe tbody tr th {\n",
       "        vertical-align: top;\n",
       "    }\n",
       "\n",
       "    .dataframe thead th {\n",
       "        text-align: right;\n",
       "    }\n",
       "</style>\n",
       "<table border=\"1\" class=\"dataframe\">\n",
       "  <thead>\n",
       "    <tr style=\"text-align: right;\">\n",
       "      <th></th>\n",
       "      <th>publisher_id</th>\n",
       "      <th>publisher</th>\n",
       "    </tr>\n",
       "  </thead>\n",
       "  <tbody>\n",
       "    <tr>\n",
       "      <th>0</th>\n",
       "      <td>1</td>\n",
       "      <td>Ace</td>\n",
       "    </tr>\n",
       "    <tr>\n",
       "      <th>1</th>\n",
       "      <td>2</td>\n",
       "      <td>Ace Book</td>\n",
       "    </tr>\n",
       "    <tr>\n",
       "      <th>2</th>\n",
       "      <td>3</td>\n",
       "      <td>Ace Books</td>\n",
       "    </tr>\n",
       "    <tr>\n",
       "      <th>3</th>\n",
       "      <td>4</td>\n",
       "      <td>Ace Hardcover</td>\n",
       "    </tr>\n",
       "    <tr>\n",
       "      <th>4</th>\n",
       "      <td>5</td>\n",
       "      <td>Addison Wesley Publishing Company</td>\n",
       "    </tr>\n",
       "  </tbody>\n",
       "</table>\n",
       "</div>"
      ],
      "text/plain": [
       "   publisher_id                          publisher\n",
       "0             1                                Ace\n",
       "1             2                           Ace Book\n",
       "2             3                          Ace Books\n",
       "3             4                      Ace Hardcover\n",
       "4             5  Addison Wesley Publishing Company"
      ]
     },
     "metadata": {},
     "output_type": "display_data"
    }
   ],
   "source": [
    "# выведем первые 5 строк таблицы publishers\n",
    "query = '''SELECT * FROM publishers LIMIT 5'''\n",
    "\n",
    "read (query)"
   ]
  },
  {
   "cell_type": "code",
   "execution_count": 5,
   "metadata": {},
   "outputs": [
    {
     "data": {
      "text/html": [
       "<div>\n",
       "<style scoped>\n",
       "    .dataframe tbody tr th:only-of-type {\n",
       "        vertical-align: middle;\n",
       "    }\n",
       "\n",
       "    .dataframe tbody tr th {\n",
       "        vertical-align: top;\n",
       "    }\n",
       "\n",
       "    .dataframe thead th {\n",
       "        text-align: right;\n",
       "    }\n",
       "</style>\n",
       "<table border=\"1\" class=\"dataframe\">\n",
       "  <thead>\n",
       "    <tr style=\"text-align: right;\">\n",
       "      <th></th>\n",
       "      <th>rating_id</th>\n",
       "      <th>book_id</th>\n",
       "      <th>username</th>\n",
       "      <th>rating</th>\n",
       "    </tr>\n",
       "  </thead>\n",
       "  <tbody>\n",
       "    <tr>\n",
       "      <th>0</th>\n",
       "      <td>1</td>\n",
       "      <td>1</td>\n",
       "      <td>ryanfranco</td>\n",
       "      <td>4</td>\n",
       "    </tr>\n",
       "    <tr>\n",
       "      <th>1</th>\n",
       "      <td>2</td>\n",
       "      <td>1</td>\n",
       "      <td>grantpatricia</td>\n",
       "      <td>2</td>\n",
       "    </tr>\n",
       "    <tr>\n",
       "      <th>2</th>\n",
       "      <td>3</td>\n",
       "      <td>1</td>\n",
       "      <td>brandtandrea</td>\n",
       "      <td>5</td>\n",
       "    </tr>\n",
       "    <tr>\n",
       "      <th>3</th>\n",
       "      <td>4</td>\n",
       "      <td>2</td>\n",
       "      <td>lorichen</td>\n",
       "      <td>3</td>\n",
       "    </tr>\n",
       "    <tr>\n",
       "      <th>4</th>\n",
       "      <td>5</td>\n",
       "      <td>2</td>\n",
       "      <td>mariokeller</td>\n",
       "      <td>2</td>\n",
       "    </tr>\n",
       "  </tbody>\n",
       "</table>\n",
       "</div>"
      ],
      "text/plain": [
       "   rating_id  book_id       username  rating\n",
       "0          1        1     ryanfranco       4\n",
       "1          2        1  grantpatricia       2\n",
       "2          3        1   brandtandrea       5\n",
       "3          4        2       lorichen       3\n",
       "4          5        2    mariokeller       2"
      ]
     },
     "metadata": {},
     "output_type": "display_data"
    }
   ],
   "source": [
    "# выведем первые 5 строк таблицы ratings\n",
    "query = '''SELECT * FROM ratings LIMIT 5'''\n",
    "\n",
    "read (query)"
   ]
  },
  {
   "cell_type": "code",
   "execution_count": 6,
   "metadata": {},
   "outputs": [
    {
     "data": {
      "text/html": [
       "<div>\n",
       "<style scoped>\n",
       "    .dataframe tbody tr th:only-of-type {\n",
       "        vertical-align: middle;\n",
       "    }\n",
       "\n",
       "    .dataframe tbody tr th {\n",
       "        vertical-align: top;\n",
       "    }\n",
       "\n",
       "    .dataframe thead th {\n",
       "        text-align: right;\n",
       "    }\n",
       "</style>\n",
       "<table border=\"1\" class=\"dataframe\">\n",
       "  <thead>\n",
       "    <tr style=\"text-align: right;\">\n",
       "      <th></th>\n",
       "      <th>review_id</th>\n",
       "      <th>book_id</th>\n",
       "      <th>username</th>\n",
       "      <th>text</th>\n",
       "    </tr>\n",
       "  </thead>\n",
       "  <tbody>\n",
       "    <tr>\n",
       "      <th>0</th>\n",
       "      <td>1</td>\n",
       "      <td>1</td>\n",
       "      <td>brandtandrea</td>\n",
       "      <td>Mention society tell send professor analysis. ...</td>\n",
       "    </tr>\n",
       "    <tr>\n",
       "      <th>1</th>\n",
       "      <td>2</td>\n",
       "      <td>1</td>\n",
       "      <td>ryanfranco</td>\n",
       "      <td>Foot glass pretty audience hit themselves. Amo...</td>\n",
       "    </tr>\n",
       "    <tr>\n",
       "      <th>2</th>\n",
       "      <td>3</td>\n",
       "      <td>2</td>\n",
       "      <td>lorichen</td>\n",
       "      <td>Listen treat keep worry. Miss husband tax but ...</td>\n",
       "    </tr>\n",
       "    <tr>\n",
       "      <th>3</th>\n",
       "      <td>4</td>\n",
       "      <td>3</td>\n",
       "      <td>johnsonamanda</td>\n",
       "      <td>Finally month interesting blue could nature cu...</td>\n",
       "    </tr>\n",
       "    <tr>\n",
       "      <th>4</th>\n",
       "      <td>5</td>\n",
       "      <td>3</td>\n",
       "      <td>scotttamara</td>\n",
       "      <td>Nation purpose heavy give wait song will. List...</td>\n",
       "    </tr>\n",
       "  </tbody>\n",
       "</table>\n",
       "</div>"
      ],
      "text/plain": [
       "   review_id  book_id       username  \\\n",
       "0          1        1   brandtandrea   \n",
       "1          2        1     ryanfranco   \n",
       "2          3        2       lorichen   \n",
       "3          4        3  johnsonamanda   \n",
       "4          5        3    scotttamara   \n",
       "\n",
       "                                                text  \n",
       "0  Mention society tell send professor analysis. ...  \n",
       "1  Foot glass pretty audience hit themselves. Amo...  \n",
       "2  Listen treat keep worry. Miss husband tax but ...  \n",
       "3  Finally month interesting blue could nature cu...  \n",
       "4  Nation purpose heavy give wait song will. List...  "
      ]
     },
     "metadata": {},
     "output_type": "display_data"
    }
   ],
   "source": [
    "# выведем первые 5 строк таблицы reviews\n",
    "query = '''SELECT * FROM reviews LIMIT 5'''\n",
    "\n",
    "read (query)"
   ]
  },
  {
   "cell_type": "markdown",
   "metadata": {},
   "source": [
    "## Исследовательский анализ данных"
   ]
  },
  {
   "cell_type": "markdown",
   "metadata": {},
   "source": [
    "### Посчитаем, сколько книг вышло после 1 января 2000 года"
   ]
  },
  {
   "cell_type": "code",
   "execution_count": 7,
   "metadata": {},
   "outputs": [
    {
     "data": {
      "text/html": [
       "<div>\n",
       "<style scoped>\n",
       "    .dataframe tbody tr th:only-of-type {\n",
       "        vertical-align: middle;\n",
       "    }\n",
       "\n",
       "    .dataframe tbody tr th {\n",
       "        vertical-align: top;\n",
       "    }\n",
       "\n",
       "    .dataframe thead th {\n",
       "        text-align: right;\n",
       "    }\n",
       "</style>\n",
       "<table border=\"1\" class=\"dataframe\">\n",
       "  <thead>\n",
       "    <tr style=\"text-align: right;\">\n",
       "      <th></th>\n",
       "      <th>count</th>\n",
       "    </tr>\n",
       "  </thead>\n",
       "  <tbody>\n",
       "    <tr>\n",
       "      <th>0</th>\n",
       "      <td>819</td>\n",
       "    </tr>\n",
       "  </tbody>\n",
       "</table>\n",
       "</div>"
      ],
      "text/plain": [
       "   count\n",
       "0    819"
      ]
     },
     "metadata": {},
     "output_type": "display_data"
    }
   ],
   "source": [
    "query = '''\n",
    "SELECT COUNT(title) \n",
    "FROM books\n",
    "WHERE publication_date > '2000-01-01'\n",
    "'''\n",
    "read (query)"
   ]
  },
  {
   "cell_type": "markdown",
   "metadata": {},
   "source": [
    "После 1 января 2000 года вышло 819 книг и брошюр."
   ]
  },
  {
   "cell_type": "markdown",
   "metadata": {},
   "source": [
    "### Для каждой книги посчитаем количество обзоров и среднюю оценку"
   ]
  },
  {
   "cell_type": "code",
   "execution_count": 8,
   "metadata": {},
   "outputs": [
    {
     "data": {
      "text/html": [
       "<div>\n",
       "<style scoped>\n",
       "    .dataframe tbody tr th:only-of-type {\n",
       "        vertical-align: middle;\n",
       "    }\n",
       "\n",
       "    .dataframe tbody tr th {\n",
       "        vertical-align: top;\n",
       "    }\n",
       "\n",
       "    .dataframe thead th {\n",
       "        text-align: right;\n",
       "    }\n",
       "</style>\n",
       "<table border=\"1\" class=\"dataframe\">\n",
       "  <thead>\n",
       "    <tr style=\"text-align: right;\">\n",
       "      <th></th>\n",
       "      <th>title</th>\n",
       "      <th>sum</th>\n",
       "      <th>round</th>\n",
       "    </tr>\n",
       "  </thead>\n",
       "  <tbody>\n",
       "    <tr>\n",
       "      <th>0</th>\n",
       "      <td>Twilight (Twilight  #1)</td>\n",
       "      <td>2963520</td>\n",
       "      <td>3.66</td>\n",
       "    </tr>\n",
       "    <tr>\n",
       "      <th>1</th>\n",
       "      <td>The Hobbit  or There and Back Again</td>\n",
       "      <td>1101672</td>\n",
       "      <td>4.13</td>\n",
       "    </tr>\n",
       "    <tr>\n",
       "      <th>2</th>\n",
       "      <td>The Catcher in the Rye</td>\n",
       "      <td>956406</td>\n",
       "      <td>3.83</td>\n",
       "    </tr>\n",
       "    <tr>\n",
       "      <th>3</th>\n",
       "      <td>The Lightning Thief (Percy Jackson and the Oly...</td>\n",
       "      <td>805938</td>\n",
       "      <td>4.08</td>\n",
       "    </tr>\n",
       "    <tr>\n",
       "      <th>4</th>\n",
       "      <td>The Fellowship of the Ring (The Lord of the Ri...</td>\n",
       "      <td>738520</td>\n",
       "      <td>4.39</td>\n",
       "    </tr>\n",
       "    <tr>\n",
       "      <th>...</th>\n",
       "      <td>...</td>\n",
       "      <td>...</td>\n",
       "      <td>...</td>\n",
       "    </tr>\n",
       "    <tr>\n",
       "      <th>988</th>\n",
       "      <td>A Christmas Carol and Other Christmas Writings</td>\n",
       "      <td>74</td>\n",
       "      <td>4.50</td>\n",
       "    </tr>\n",
       "    <tr>\n",
       "      <th>989</th>\n",
       "      <td>13 Little Blue Envelopes (Little Blue Envelope...</td>\n",
       "      <td>45</td>\n",
       "      <td>4.67</td>\n",
       "    </tr>\n",
       "    <tr>\n",
       "      <th>990</th>\n",
       "      <td>1491: New Revelations of the Americas Before C...</td>\n",
       "      <td>30</td>\n",
       "      <td>4.50</td>\n",
       "    </tr>\n",
       "    <tr>\n",
       "      <th>991</th>\n",
       "      <td>'Salem's Lot</td>\n",
       "      <td>9</td>\n",
       "      <td>3.67</td>\n",
       "    </tr>\n",
       "    <tr>\n",
       "      <th>992</th>\n",
       "      <td>1 000 Places to See Before You Die</td>\n",
       "      <td>6</td>\n",
       "      <td>2.50</td>\n",
       "    </tr>\n",
       "  </tbody>\n",
       "</table>\n",
       "<p>993 rows × 3 columns</p>\n",
       "</div>"
      ],
      "text/plain": [
       "                                                 title      sum  round\n",
       "0                              Twilight (Twilight  #1)  2963520   3.66\n",
       "1                  The Hobbit  or There and Back Again  1101672   4.13\n",
       "2                               The Catcher in the Rye   956406   3.83\n",
       "3    The Lightning Thief (Percy Jackson and the Oly...   805938   4.08\n",
       "4    The Fellowship of the Ring (The Lord of the Ri...   738520   4.39\n",
       "..                                                 ...      ...    ...\n",
       "988     A Christmas Carol and Other Christmas Writings       74   4.50\n",
       "989  13 Little Blue Envelopes (Little Blue Envelope...       45   4.67\n",
       "990  1491: New Revelations of the Americas Before C...       30   4.50\n",
       "991                                       'Salem's Lot        9   3.67\n",
       "992                 1 000 Places to See Before You Die        6   2.50\n",
       "\n",
       "[993 rows x 3 columns]"
      ]
     },
     "metadata": {},
     "output_type": "display_data"
    }
   ],
   "source": [
    "query = '''\n",
    "SELECT DISTINCT b.title,\n",
    "       SUM(r.review_id),\n",
    "       ROUND(AVG(rat.rating),2)\n",
    "FROM books AS b\n",
    "JOIN reviews AS r ON r.book_id = b.book_id\n",
    "JOIN ratings AS rat ON rat.book_id = b.book_id\n",
    "GROUP BY 1\n",
    "ORDER BY 2 DESC\n",
    "'''\n",
    "\n",
    "read (query)"
   ]
  },
  {
   "cell_type": "markdown",
   "metadata": {},
   "source": [
    "Всего 993 книги с уникальным названием. \n",
    "\n",
    "Больше всего обзоров выпущено на книгу Twilight (Сумерки) 1 часть, однако средняя оценка  критиков довольно низкая: всего 3.66.\n",
    "\n",
    "А меньше всего обзоров выпущено на книгу 1 000 Places to See Before You Die (1000 мест, которые стоит увидеть перед смертью), и средняя оценка еще ниже: 2.5."
   ]
  },
  {
   "cell_type": "markdown",
   "metadata": {},
   "source": [
    "### Определим издательство, которое выпустило наибольшее число книг толще 50 страниц"
   ]
  },
  {
   "cell_type": "code",
   "execution_count": 9,
   "metadata": {},
   "outputs": [
    {
     "data": {
      "text/html": [
       "<div>\n",
       "<style scoped>\n",
       "    .dataframe tbody tr th:only-of-type {\n",
       "        vertical-align: middle;\n",
       "    }\n",
       "\n",
       "    .dataframe tbody tr th {\n",
       "        vertical-align: top;\n",
       "    }\n",
       "\n",
       "    .dataframe thead th {\n",
       "        text-align: right;\n",
       "    }\n",
       "</style>\n",
       "<table border=\"1\" class=\"dataframe\">\n",
       "  <thead>\n",
       "    <tr style=\"text-align: right;\">\n",
       "      <th></th>\n",
       "      <th>publisher</th>\n",
       "    </tr>\n",
       "  </thead>\n",
       "  <tbody>\n",
       "    <tr>\n",
       "      <th>0</th>\n",
       "      <td>Penguin Books</td>\n",
       "    </tr>\n",
       "  </tbody>\n",
       "</table>\n",
       "</div>"
      ],
      "text/plain": [
       "       publisher\n",
       "0  Penguin Books"
      ]
     },
     "metadata": {},
     "output_type": "display_data"
    }
   ],
   "source": [
    "query = '''\n",
    "SELECT us.publisher\n",
    "FROM (\n",
    "      SELECT DISTINCT p.publisher,\n",
    "             COUNT(b.book_id)\n",
    "      FROM books AS b\n",
    "      JOIN publishers AS p ON p.publisher_id = b.publisher_id\n",
    "      WHERE num_pages > '50'\n",
    "      GROUP BY 1\n",
    "      ORDER BY 2 DESC\n",
    "      LIMIT 1\n",
    "      ) us\n",
    "'''\n",
    "\n",
    "read (query)"
   ]
  },
  {
   "cell_type": "markdown",
   "metadata": {},
   "source": [
    "Издательство, которое выпустило наибольшее число книг толще 50 страниц - Penguin Books.\n",
    "\n",
    "Penguin Books — британское издательство, основанное в 1935 году в Лондоне сэром Алленом Лейном и его братьями Ричардом и Джоном. Главной заслугой издательства считают демократизацию книжного рынка, превратившую книгу из предмета роскоши в удовольствие, доступное массам."
   ]
  },
  {
   "cell_type": "markdown",
   "metadata": {},
   "source": [
    "### Определим автора с самой высокой средней оценкой книг (учитываем только книги с 50 и более оценками)"
   ]
  },
  {
   "cell_type": "code",
   "execution_count": 10,
   "metadata": {},
   "outputs": [
    {
     "data": {
      "text/html": [
       "<div>\n",
       "<style scoped>\n",
       "    .dataframe tbody tr th:only-of-type {\n",
       "        vertical-align: middle;\n",
       "    }\n",
       "\n",
       "    .dataframe tbody tr th {\n",
       "        vertical-align: top;\n",
       "    }\n",
       "\n",
       "    .dataframe thead th {\n",
       "        text-align: right;\n",
       "    }\n",
       "</style>\n",
       "<table border=\"1\" class=\"dataframe\">\n",
       "  <thead>\n",
       "    <tr style=\"text-align: right;\">\n",
       "      <th></th>\n",
       "      <th>author</th>\n",
       "      <th>title</th>\n",
       "      <th>avg</th>\n",
       "    </tr>\n",
       "  </thead>\n",
       "  <tbody>\n",
       "    <tr>\n",
       "      <th>0</th>\n",
       "      <td>J.K. Rowling/Mary GrandPré</td>\n",
       "      <td>Harry Potter and the Chamber of Secrets (Harry...</td>\n",
       "      <td>4.2875</td>\n",
       "    </tr>\n",
       "  </tbody>\n",
       "</table>\n",
       "</div>"
      ],
      "text/plain": [
       "                       author  \\\n",
       "0  J.K. Rowling/Mary GrandPré   \n",
       "\n",
       "                                               title     avg  \n",
       "0  Harry Potter and the Chamber of Secrets (Harry...  4.2875  "
      ]
     },
     "metadata": {},
     "output_type": "display_data"
    }
   ],
   "source": [
    "query = '''\n",
    "\n",
    "WITH new AS (--отберем книги с 50 и более оценками\n",
    "             SELECT DISTINCT book_id,\n",
    "                    COUNT(rating_id) AS count,\n",
    "                    AVG(rating) AS avg\n",
    "             FROM ratings AS rat\n",
    "             GROUP BY 1             \n",
    "             HAVING COUNT(rating_id) >= '50'\n",
    "             ORDER BY 3 DESC\n",
    "            ) \n",
    "SELECT DISTINCT author,\n",
    "       title,\n",
    "       avg\n",
    "FROM new AS new\n",
    "INNER JOIN books AS b ON new.book_id = b.book_id\n",
    "INNER JOIN authors AS a ON b.author_id = a.author_id\n",
    "LIMIT 1\n",
    "\n",
    "'''\n",
    "\n",
    "read (query)"
   ]
  },
  {
   "cell_type": "markdown",
   "metadata": {},
   "source": [
    "Книга с 50 и более оценками, получившая самый высокий средний рейтинг: Гарри Поттер и Тайная комната (Harry Potter and the Chamber of Secrets).\n",
    "\n",
    "Ее авторами являются:\n",
    "- Джоа́н Ро́улинг, известная под псевдонимами Дж. К. Роулинг, Джоан Кэ́тлин Роулинг и Ро́берт Гелбре́йт (британская писательница, сценаристка и кинопродюсер, наиболее известная как автор серии романов о Гарри Поттере)\n",
    "- Мэри ГрандПре (американский иллюстратор, наиболее известная своими иллюстрациями обложек и глав книг о Гарри Поттере в их американских изданиях, опубликованных Scholastic)."
   ]
  },
  {
   "cell_type": "markdown",
   "metadata": {},
   "source": [
    "### Посчитаем среднее количество обзоров от пользователей, которые поставили больше 50 оценок."
   ]
  },
  {
   "cell_type": "code",
   "execution_count": 11,
   "metadata": {},
   "outputs": [
    {
     "data": {
      "text/html": [
       "<div>\n",
       "<style scoped>\n",
       "    .dataframe tbody tr th:only-of-type {\n",
       "        vertical-align: middle;\n",
       "    }\n",
       "\n",
       "    .dataframe tbody tr th {\n",
       "        vertical-align: top;\n",
       "    }\n",
       "\n",
       "    .dataframe thead th {\n",
       "        text-align: right;\n",
       "    }\n",
       "</style>\n",
       "<table border=\"1\" class=\"dataframe\">\n",
       "  <thead>\n",
       "    <tr style=\"text-align: right;\">\n",
       "      <th></th>\n",
       "      <th>round</th>\n",
       "    </tr>\n",
       "  </thead>\n",
       "  <tbody>\n",
       "    <tr>\n",
       "      <th>0</th>\n",
       "      <td>24.0</td>\n",
       "    </tr>\n",
       "  </tbody>\n",
       "</table>\n",
       "</div>"
      ],
      "text/plain": [
       "   round\n",
       "0   24.0"
      ]
     },
     "metadata": {},
     "output_type": "display_data"
    }
   ],
   "source": [
    "query = '''\n",
    "WITH table_1 AS (SELECT username,\n",
    "                        COUNT(rating_id) AS count_rating\n",
    "                 FROM ratings\n",
    "                 GROUP BY 1\n",
    "                ),\n",
    "table_2 AS (SELECT username,\n",
    "                        COUNT(review_id) AS count_review\n",
    "                 FROM reviews \n",
    "                 GROUP BY 1\n",
    "                 ORDER BY 2 DESC\n",
    "                )\n",
    "SELECT ROUND(AVG(t_2.count_review))\n",
    "FROM table_1 AS t_1\n",
    "INNER JOIN table_2 AS t_2 ON t_1.username = t_2.username\n",
    "WHERE count_rating > 50\n",
    "'''\n",
    "\n",
    "read (query)"
   ]
  },
  {
   "cell_type": "markdown",
   "metadata": {},
   "source": [
    "Cреднее количество обзоров от пользователей, которые поставили больше 50 оценок, составило 24."
   ]
  },
  {
   "cell_type": "markdown",
   "metadata": {},
   "source": [
    "## Вывод"
   ]
  },
  {
   "cell_type": "markdown",
   "metadata": {},
   "source": [
    "Итак, проанализировав базу данных крупного сервиса для чтения книг по подписке, можно выделить следующее:\n",
    "1. После 1 января 2000 года вышло 819 книг и брошюр.\n",
    "2. Всего 993 книги с уникальным названием.\n",
    "3. Больше всего обзоров выпущено на книгу Twilight (Сумерки) 1 часть, однако средняя оценка критиков довольно низкая: всего 3.66.\n",
    "4. Меньше всего обзоров выпущено на книгу 1 000 Places to See Before You Die (1000 мест, которые стоит увидеть перед смертью), и средняя оценка еще ниже: 2.5.\n",
    "5. Издательство, которое выпустило наибольшее число книг толще 50 страниц - Penguin Books (британское издательство, основанное в 1935 году в Лондоне сэром Алленом Лейном и его братьями Ричардом и Джоном, главной заслугой которого считают демократизацию книжного рынка, превратившую книгу из предмета роскоши в удовольствие, доступное массам).\n",
    "6. Книга с 50 и более оценками, получившая самый высокий средний рейтинг: Гарри Поттер и Тайная комната (Harry Potter and the Chamber of Secrets).\n",
    "7. Авторами книги с 50 и более оценками, получившей самый высокий средний рейтинг, являются:\n",
    "- Джоа́н Ро́улинг, известная под псевдонимами Дж. К. Роулинг, Джоан Кэ́тлин Роулинг и Ро́берт Гелбре́йт (британская писательница, сценаристка и кинопродюсер, наиболее известная как автор серии романов о Гарри Поттере)\n",
    "- Мэри ГрандПре (американский иллюстратор, наиболее известная своими иллюстрациями обложек и глав книг о Гарри Поттере в их американских изданиях, опубликованных Scholastic).\n",
    "7. Cреднее количество обзоров от пользователей, которые поставили больше 50 оценок, составило 24."
   ]
  }
 ],
 "metadata": {
  "ExecuteTimeLog": [
   {
    "duration": 5101,
    "start_time": "2023-04-15T19:43:10.839Z"
   },
   {
    "duration": 52,
    "start_time": "2023-04-15T19:43:15.942Z"
   },
   {
    "duration": 13,
    "start_time": "2023-04-15T19:43:15.995Z"
   },
   {
    "duration": 11,
    "start_time": "2023-04-15T19:43:16.011Z"
   },
   {
    "duration": 11,
    "start_time": "2023-04-15T19:43:16.024Z"
   },
   {
    "duration": 13,
    "start_time": "2023-04-15T19:43:16.036Z"
   },
   {
    "duration": 13,
    "start_time": "2023-04-15T19:43:16.050Z"
   },
   {
    "duration": 11,
    "start_time": "2023-04-15T19:43:16.065Z"
   },
   {
    "duration": 40,
    "start_time": "2023-04-15T19:43:16.077Z"
   },
   {
    "duration": 11,
    "start_time": "2023-04-15T19:43:16.119Z"
   },
   {
    "duration": 12730,
    "start_time": "2023-04-15T19:43:16.132Z"
   },
   {
    "duration": 15,
    "start_time": "2023-04-15T19:43:28.864Z"
   },
   {
    "duration": 44,
    "start_time": "2023-04-15T19:43:28.881Z"
   },
   {
    "duration": 5295,
    "start_time": "2023-04-15T19:44:25.134Z"
   },
   {
    "duration": 57,
    "start_time": "2023-04-15T19:44:30.431Z"
   },
   {
    "duration": 13,
    "start_time": "2023-04-15T19:44:30.490Z"
   },
   {
    "duration": 59,
    "start_time": "2023-04-15T19:44:30.505Z"
   },
   {
    "duration": 32,
    "start_time": "2023-04-15T19:44:30.567Z"
   },
   {
    "duration": 22,
    "start_time": "2023-04-15T19:44:30.602Z"
   },
   {
    "duration": 66,
    "start_time": "2023-04-15T19:44:30.626Z"
   },
   {
    "duration": 50,
    "start_time": "2023-04-15T19:44:30.693Z"
   },
   {
    "duration": 45,
    "start_time": "2023-04-15T19:44:30.745Z"
   },
   {
    "duration": 20,
    "start_time": "2023-04-15T19:44:30.793Z"
   },
   {
    "duration": 14601,
    "start_time": "2023-04-15T19:44:30.815Z"
   },
   {
    "duration": 13,
    "start_time": "2023-04-15T19:44:45.418Z"
   },
   {
    "duration": 5543,
    "start_time": "2023-04-15T23:33:57.558Z"
   },
   {
    "duration": 263,
    "start_time": "2023-04-15T23:34:03.103Z"
   },
   {
    "duration": 72,
    "start_time": "2023-04-15T23:34:03.367Z"
   },
   {
    "duration": 72,
    "start_time": "2023-04-15T23:34:03.441Z"
   },
   {
    "duration": 71,
    "start_time": "2023-04-15T23:34:03.514Z"
   },
   {
    "duration": 72,
    "start_time": "2023-04-15T23:34:03.587Z"
   },
   {
    "duration": 73,
    "start_time": "2023-04-15T23:34:03.660Z"
   },
   {
    "duration": 73,
    "start_time": "2023-04-15T23:34:03.734Z"
   },
   {
    "duration": 108,
    "start_time": "2023-04-15T23:34:03.808Z"
   },
   {
    "duration": 72,
    "start_time": "2023-04-15T23:34:03.919Z"
   },
   {
    "duration": 11008,
    "start_time": "2023-04-15T23:34:03.992Z"
   },
   {
    "duration": 72,
    "start_time": "2023-04-15T23:34:15.002Z"
   },
   {
    "duration": 6493,
    "start_time": "2023-04-15T23:34:32.143Z"
   },
   {
    "duration": 254,
    "start_time": "2023-04-15T23:34:38.638Z"
   },
   {
    "duration": 77,
    "start_time": "2023-04-15T23:34:38.894Z"
   },
   {
    "duration": 75,
    "start_time": "2023-04-15T23:34:38.973Z"
   },
   {
    "duration": 73,
    "start_time": "2023-04-15T23:34:39.050Z"
   },
   {
    "duration": 73,
    "start_time": "2023-04-15T23:34:39.124Z"
   },
   {
    "duration": 74,
    "start_time": "2023-04-15T23:34:39.199Z"
   },
   {
    "duration": 72,
    "start_time": "2023-04-15T23:34:39.275Z"
   },
   {
    "duration": 107,
    "start_time": "2023-04-15T23:34:39.349Z"
   },
   {
    "duration": 84,
    "start_time": "2023-04-15T23:34:39.458Z"
   },
   {
    "duration": 10401,
    "start_time": "2023-04-15T23:34:39.544Z"
   },
   {
    "duration": 75,
    "start_time": "2023-04-15T23:34:49.947Z"
   },
   {
    "duration": 13018,
    "start_time": "2023-04-16T14:11:18.060Z"
   },
   {
    "duration": 13630,
    "start_time": "2023-04-16T14:11:36.141Z"
   },
   {
    "duration": 13197,
    "start_time": "2023-04-16T14:12:16.767Z"
   },
   {
    "duration": 12917,
    "start_time": "2023-04-16T14:12:42.113Z"
   },
   {
    "duration": 15268,
    "start_time": "2023-04-16T14:13:03.454Z"
   },
   {
    "duration": 14664,
    "start_time": "2023-04-16T14:13:29.811Z"
   },
   {
    "duration": 214,
    "start_time": "2023-04-16T14:14:18.056Z"
   },
   {
    "duration": 7640,
    "start_time": "2023-04-16T14:14:40.631Z"
   },
   {
    "duration": 13949,
    "start_time": "2023-04-16T14:15:06.331Z"
   },
   {
    "duration": 11232,
    "start_time": "2023-04-16T14:59:20.804Z"
   },
   {
    "duration": 14206,
    "start_time": "2023-04-16T15:01:39.919Z"
   },
   {
    "duration": 10782,
    "start_time": "2023-04-16T15:02:37.411Z"
   },
   {
    "duration": 12891,
    "start_time": "2023-04-16T15:03:37.853Z"
   },
   {
    "duration": 11401,
    "start_time": "2023-04-16T15:03:57.410Z"
   },
   {
    "duration": 8850,
    "start_time": "2023-04-16T15:04:22.007Z"
   },
   {
    "duration": 9353,
    "start_time": "2023-04-16T15:04:54.441Z"
   },
   {
    "duration": 43,
    "start_time": "2023-04-16T17:59:01.093Z"
   },
   {
    "duration": 5063,
    "start_time": "2023-04-16T17:59:06.503Z"
   },
   {
    "duration": 54,
    "start_time": "2023-04-16T17:59:11.568Z"
   },
   {
    "duration": 11,
    "start_time": "2023-04-16T17:59:11.624Z"
   },
   {
    "duration": 11,
    "start_time": "2023-04-16T17:59:11.636Z"
   },
   {
    "duration": 9,
    "start_time": "2023-04-16T17:59:11.649Z"
   },
   {
    "duration": 10,
    "start_time": "2023-04-16T17:59:11.660Z"
   },
   {
    "duration": 30,
    "start_time": "2023-04-16T17:59:11.671Z"
   },
   {
    "duration": 10,
    "start_time": "2023-04-16T17:59:11.703Z"
   },
   {
    "duration": 27,
    "start_time": "2023-04-16T17:59:11.714Z"
   },
   {
    "duration": 10,
    "start_time": "2023-04-16T17:59:11.742Z"
   },
   {
    "duration": 125,
    "start_time": "2023-04-16T17:59:11.753Z"
   },
   {
    "duration": 0,
    "start_time": "2023-04-16T17:59:11.880Z"
   },
   {
    "duration": 67,
    "start_time": "2023-04-16T17:59:40.115Z"
   },
   {
    "duration": 85,
    "start_time": "2023-04-16T18:00:03.010Z"
   },
   {
    "duration": 13484,
    "start_time": "2023-04-16T18:00:10.372Z"
   },
   {
    "duration": 15666,
    "start_time": "2023-04-16T18:00:44.718Z"
   },
   {
    "duration": 22137,
    "start_time": "2023-04-16T18:02:13.214Z"
   },
   {
    "duration": 23301,
    "start_time": "2023-04-16T18:03:12.210Z"
   },
   {
    "duration": 19878,
    "start_time": "2023-04-16T18:05:35.499Z"
   },
   {
    "duration": 65,
    "start_time": "2023-04-16T18:06:33.814Z"
   },
   {
    "duration": 76,
    "start_time": "2023-04-16T18:07:48.717Z"
   },
   {
    "duration": 87,
    "start_time": "2023-04-16T18:08:11.833Z"
   },
   {
    "duration": 17637,
    "start_time": "2023-04-16T18:08:20.450Z"
   },
   {
    "duration": 79,
    "start_time": "2023-04-16T18:09:10.313Z"
   },
   {
    "duration": 18002,
    "start_time": "2023-04-16T18:09:32.060Z"
   },
   {
    "duration": 25761,
    "start_time": "2023-04-16T18:10:00.903Z"
   },
   {
    "duration": 19019,
    "start_time": "2023-04-16T18:12:05.171Z"
   },
   {
    "duration": 11275,
    "start_time": "2023-04-16T18:12:39.948Z"
   },
   {
    "duration": 66,
    "start_time": "2023-04-16T18:13:12.445Z"
   },
   {
    "duration": 19548,
    "start_time": "2023-04-16T18:13:24.601Z"
   },
   {
    "duration": 19642,
    "start_time": "2023-04-16T18:15:06.302Z"
   },
   {
    "duration": 22346,
    "start_time": "2023-04-16T18:16:14.610Z"
   },
   {
    "duration": 76,
    "start_time": "2023-04-16T18:17:31.701Z"
   },
   {
    "duration": 70,
    "start_time": "2023-04-16T18:18:38.305Z"
   },
   {
    "duration": 25420,
    "start_time": "2023-04-16T18:18:51.409Z"
   },
   {
    "duration": 66,
    "start_time": "2023-04-16T18:19:48.135Z"
   },
   {
    "duration": 20393,
    "start_time": "2023-04-16T18:20:01.014Z"
   },
   {
    "duration": 75,
    "start_time": "2023-04-16T18:21:59.753Z"
   },
   {
    "duration": 27233,
    "start_time": "2023-04-16T18:22:08.619Z"
   },
   {
    "duration": 26803,
    "start_time": "2023-04-16T18:22:48.710Z"
   },
   {
    "duration": 19698,
    "start_time": "2023-04-16T18:23:29.994Z"
   },
   {
    "duration": 19222,
    "start_time": "2023-04-16T18:23:58.602Z"
   },
   {
    "duration": 70,
    "start_time": "2023-04-16T18:24:55.702Z"
   },
   {
    "duration": 15011,
    "start_time": "2023-04-16T18:25:11.259Z"
   },
   {
    "duration": 17539,
    "start_time": "2023-04-16T18:26:44.506Z"
   },
   {
    "duration": 21206,
    "start_time": "2023-04-16T18:27:23.018Z"
   },
   {
    "duration": 5715,
    "start_time": "2023-04-17T06:20:07.332Z"
   },
   {
    "duration": 72,
    "start_time": "2023-04-17T06:20:13.049Z"
   },
   {
    "duration": 13,
    "start_time": "2023-04-17T06:20:13.122Z"
   },
   {
    "duration": 25,
    "start_time": "2023-04-17T06:20:13.138Z"
   },
   {
    "duration": 21,
    "start_time": "2023-04-17T06:20:13.165Z"
   },
   {
    "duration": 16,
    "start_time": "2023-04-17T06:20:13.188Z"
   },
   {
    "duration": 39,
    "start_time": "2023-04-17T06:20:13.207Z"
   },
   {
    "duration": 54,
    "start_time": "2023-04-17T06:20:13.248Z"
   },
   {
    "duration": 15,
    "start_time": "2023-04-17T06:20:13.304Z"
   },
   {
    "duration": 20853,
    "start_time": "2023-04-17T06:20:13.322Z"
   },
   {
    "duration": 12356,
    "start_time": "2023-04-17T06:20:34.177Z"
   },
   {
    "duration": 13,
    "start_time": "2023-04-17T06:20:46.535Z"
   },
   {
    "duration": 13030,
    "start_time": "2023-04-17T06:22:56.232Z"
   },
   {
    "duration": 159,
    "start_time": "2023-04-17T06:24:15.099Z"
   },
   {
    "duration": 83,
    "start_time": "2023-04-17T06:24:41.874Z"
   },
   {
    "duration": 93,
    "start_time": "2023-04-17T06:24:58.613Z"
   },
   {
    "duration": 10336,
    "start_time": "2023-04-17T06:25:03.784Z"
   },
   {
    "duration": 86,
    "start_time": "2023-04-17T06:27:05.859Z"
   },
   {
    "duration": 79,
    "start_time": "2023-04-17T06:32:17.422Z"
   },
   {
    "duration": 68,
    "start_time": "2023-04-17T06:32:23.976Z"
   },
   {
    "duration": 92,
    "start_time": "2023-04-17T06:32:28.334Z"
   },
   {
    "duration": 24280,
    "start_time": "2023-04-17T06:32:37.333Z"
   },
   {
    "duration": 102,
    "start_time": "2023-04-17T06:34:42.607Z"
   },
   {
    "duration": 153,
    "start_time": "2023-04-17T06:35:00.503Z"
   },
   {
    "duration": 110,
    "start_time": "2023-04-17T06:35:40.371Z"
   },
   {
    "duration": 88,
    "start_time": "2023-04-17T06:35:51.414Z"
   },
   {
    "duration": 23919,
    "start_time": "2023-04-17T06:37:46.100Z"
   },
   {
    "duration": 18880,
    "start_time": "2023-04-17T06:38:40.753Z"
   },
   {
    "duration": 20469,
    "start_time": "2023-04-17T06:39:26.666Z"
   },
   {
    "duration": 18777,
    "start_time": "2023-04-17T06:40:07.810Z"
   },
   {
    "duration": 20821,
    "start_time": "2023-04-17T06:40:45.245Z"
   },
   {
    "duration": 21926,
    "start_time": "2023-04-17T06:42:22.172Z"
   },
   {
    "duration": 6128,
    "start_time": "2023-04-17T06:43:33.122Z"
   },
   {
    "duration": 6826,
    "start_time": "2023-04-17T06:45:32.621Z"
   },
   {
    "duration": 91,
    "start_time": "2023-04-17T06:48:00.485Z"
   },
   {
    "duration": 75,
    "start_time": "2023-04-17T06:48:27.721Z"
   },
   {
    "duration": 90,
    "start_time": "2023-04-17T06:48:50.425Z"
   },
   {
    "duration": 94,
    "start_time": "2023-04-17T06:49:26.087Z"
   },
   {
    "duration": 20140,
    "start_time": "2023-04-17T06:49:37.913Z"
   },
   {
    "duration": 20222,
    "start_time": "2023-04-17T06:50:28.069Z"
   },
   {
    "duration": 16027,
    "start_time": "2023-04-17T06:51:04.291Z"
   },
   {
    "duration": 97,
    "start_time": "2023-04-17T06:56:30.211Z"
   },
   {
    "duration": 15,
    "start_time": "2023-04-17T06:56:41.181Z"
   },
   {
    "duration": 74,
    "start_time": "2023-04-17T06:56:53.569Z"
   },
   {
    "duration": 15,
    "start_time": "2023-04-17T06:57:05.215Z"
   },
   {
    "duration": 13,
    "start_time": "2023-04-17T06:57:28.773Z"
   },
   {
    "duration": 13,
    "start_time": "2023-04-17T06:57:38.585Z"
   },
   {
    "duration": 71,
    "start_time": "2023-04-17T07:00:14.727Z"
   },
   {
    "duration": 110,
    "start_time": "2023-04-17T07:00:24.769Z"
   },
   {
    "duration": 14,
    "start_time": "2023-04-17T07:00:33.115Z"
   },
   {
    "duration": 14,
    "start_time": "2023-04-17T07:01:26.230Z"
   },
   {
    "duration": 15,
    "start_time": "2023-04-17T07:01:44.531Z"
   },
   {
    "duration": 14,
    "start_time": "2023-04-17T07:02:25.732Z"
   },
   {
    "duration": 15,
    "start_time": "2023-04-17T07:03:06.930Z"
   },
   {
    "duration": 22,
    "start_time": "2023-04-17T07:03:27.326Z"
   },
   {
    "duration": 35,
    "start_time": "2023-04-17T07:03:49.186Z"
   },
   {
    "duration": 99,
    "start_time": "2023-04-17T07:04:01.733Z"
   },
   {
    "duration": 40,
    "start_time": "2023-04-17T07:04:11.984Z"
   },
   {
    "duration": 15,
    "start_time": "2023-04-17T07:04:39.141Z"
   },
   {
    "duration": 16,
    "start_time": "2023-04-17T07:04:58.257Z"
   },
   {
    "duration": 16,
    "start_time": "2023-04-17T07:05:20.838Z"
   },
   {
    "duration": 134,
    "start_time": "2023-04-17T07:05:30.471Z"
   },
   {
    "duration": 20,
    "start_time": "2023-04-17T07:05:37.928Z"
   },
   {
    "duration": 16,
    "start_time": "2023-04-17T07:05:51.431Z"
   },
   {
    "duration": 105,
    "start_time": "2023-04-17T07:06:11.441Z"
   },
   {
    "duration": 16,
    "start_time": "2023-04-17T07:07:47.530Z"
   },
   {
    "duration": 17,
    "start_time": "2023-04-17T07:07:55.637Z"
   },
   {
    "duration": 90,
    "start_time": "2023-04-17T07:08:08.315Z"
   },
   {
    "duration": 15,
    "start_time": "2023-04-17T07:08:17.814Z"
   },
   {
    "duration": 20,
    "start_time": "2023-04-17T07:08:52.931Z"
   },
   {
    "duration": 18,
    "start_time": "2023-04-17T07:09:11.502Z"
   },
   {
    "duration": 16,
    "start_time": "2023-04-17T07:09:52.963Z"
   },
   {
    "duration": 6435,
    "start_time": "2023-04-17T07:18:27.645Z"
   },
   {
    "duration": 53,
    "start_time": "2023-04-17T07:18:34.084Z"
   },
   {
    "duration": 12,
    "start_time": "2023-04-17T07:18:34.139Z"
   },
   {
    "duration": 12,
    "start_time": "2023-04-17T07:18:34.153Z"
   },
   {
    "duration": 13,
    "start_time": "2023-04-17T07:18:34.167Z"
   },
   {
    "duration": 17,
    "start_time": "2023-04-17T07:18:34.182Z"
   },
   {
    "duration": 15,
    "start_time": "2023-04-17T07:18:34.201Z"
   },
   {
    "duration": 30,
    "start_time": "2023-04-17T07:18:34.218Z"
   },
   {
    "duration": 16,
    "start_time": "2023-04-17T07:18:34.250Z"
   },
   {
    "duration": 21,
    "start_time": "2023-04-17T07:18:34.268Z"
   },
   {
    "duration": 17,
    "start_time": "2023-04-17T07:18:34.291Z"
   }
  ],
  "kernelspec": {
   "display_name": "Python 3 (ipykernel)",
   "language": "python",
   "name": "python3"
  },
  "language_info": {
   "codemirror_mode": {
    "name": "ipython",
    "version": 3
   },
   "file_extension": ".py",
   "mimetype": "text/x-python",
   "name": "python",
   "nbconvert_exporter": "python",
   "pygments_lexer": "ipython3",
   "version": "3.9.13"
  },
  "toc": {
   "base_numbering": 1,
   "nav_menu": {},
   "number_sections": true,
   "sideBar": true,
   "skip_h1_title": true,
   "title_cell": "Содержание",
   "title_sidebar": "Содержание",
   "toc_cell": true,
   "toc_position": {},
   "toc_section_display": true,
   "toc_window_display": false
  }
 },
 "nbformat": 4,
 "nbformat_minor": 2
}
