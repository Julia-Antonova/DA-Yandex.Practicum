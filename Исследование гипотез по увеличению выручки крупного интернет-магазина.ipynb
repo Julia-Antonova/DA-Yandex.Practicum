{
 "cells": [
  {
   "cell_type": "markdown",
   "metadata": {},
   "source": [
    "# Исследование гипотез по увеличению выручки крупного интернет-магазина"
   ]
  },
  {
   "cell_type": "markdown",
   "metadata": {},
   "source": [
    "В данном исследовании рассмотрим список гипотез для увеличения выручки, приоритизируем их, запустим A/B-тест и проанализируем результаты. "
   ]
  },
  {
   "cell_type": "markdown",
   "metadata": {
    "toc": true
   },
   "source": [
    "<h1>Содержание<span class=\"tocSkip\"></span></h1>\n",
    "<div class=\"toc\"><ul class=\"toc-item\"><li><span><a href=\"#Общая-информация-о-файле\" data-toc-modified-id=\"Общая-информация-о-файле-1\"><span class=\"toc-item-num\">1&nbsp;&nbsp;</span>Общая информация о файле</a></span></li><li><span><a href=\"#Предобработка-данных\" data-toc-modified-id=\"Предобработка-данных-2\"><span class=\"toc-item-num\">2&nbsp;&nbsp;</span>Предобработка данных</a></span><ul class=\"toc-item\"><li><span><a href=\"#Приведем-названия-столбцов-к-нижнему-регистру\" data-toc-modified-id=\"Приведем-названия-столбцов-к-нижнему-регистру-2.1\"><span class=\"toc-item-num\">2.1&nbsp;&nbsp;</span>Приведем названия столбцов к нижнему регистру</a></span></li><li><span><a href=\"#Посмотрим-на-обновленный-датафрейм\" data-toc-modified-id=\"Посмотрим-на-обновленный-датафрейм-2.2\"><span class=\"toc-item-num\">2.2&nbsp;&nbsp;</span>Посмотрим на обновленный датафрейм</a></span></li></ul></li><li><span><a href=\"#Приоритизация-гипотез.\" data-toc-modified-id=\"Приоритизация-гипотез.-3\"><span class=\"toc-item-num\">3&nbsp;&nbsp;</span>Приоритизация гипотез.</a></span><ul class=\"toc-item\"><li><span><a href=\"#Применим-фреймворк-ICE-для-приоритизации-гипотез\" data-toc-modified-id=\"Применим-фреймворк-ICE-для-приоритизации-гипотез-3.1\"><span class=\"toc-item-num\">3.1&nbsp;&nbsp;</span>Применим фреймворк ICE для приоритизации гипотез</a></span></li><li><span><a href=\"#Применим-фреймворк-RICE-для-приоритизации-гипотез\" data-toc-modified-id=\"Применим-фреймворк-RICE-для-приоритизации-гипотез-3.2\"><span class=\"toc-item-num\">3.2&nbsp;&nbsp;</span>Применим фреймворк RICE для приоритизации гипотез</a></span></li></ul></li><li><span><a href=\"#Анализ-A/B-теста\" data-toc-modified-id=\"Анализ-A/B-теста-4\"><span class=\"toc-item-num\">4&nbsp;&nbsp;</span>Анализ A/B-теста</a></span><ul class=\"toc-item\"><li><span><a href=\"#Прочтём-данные-из-файлов-с-результатами-A/B-тестирования\" data-toc-modified-id=\"Прочтём-данные-из-файлов-с-результатами-A/B-тестирования-4.1\"><span class=\"toc-item-num\">4.1&nbsp;&nbsp;</span>Прочтём данные из файлов с результатами A/B-тестирования</a></span></li><li><span><a href=\"#Посмотрим-на-первые-5-строк-файлов-с-результатами-A/B-тестирования\" data-toc-modified-id=\"Посмотрим-на-первые-5-строк-файлов-с-результатами-A/B-тестирования-4.2\"><span class=\"toc-item-num\">4.2&nbsp;&nbsp;</span>Посмотрим на первые 5 строк файлов с результатами A/B-тестирования</a></span></li><li><span><a href=\"#Присвоим-столбцам-таблицы-orders-названия--с-использованием-змеиного-регистра\" data-toc-modified-id=\"Присвоим-столбцам-таблицы-orders-названия--с-использованием-змеиного-регистра-4.3\"><span class=\"toc-item-num\">4.3&nbsp;&nbsp;</span>Присвоим столбцам таблицы orders названия  с использованием змеиного регистра</a></span></li><li><span><a href=\"#Посчитаем,-сколько-у-нас-групп-в-результатах-A/B-тестирования\" data-toc-modified-id=\"Посчитаем,-сколько-у-нас-групп-в-результатах-A/B-тестирования-4.4\"><span class=\"toc-item-num\">4.4&nbsp;&nbsp;</span>Посчитаем, сколько у нас групп в результатах A/B-тестирования</a></span></li><li><span><a href=\"#Проверим,-нет-ли-пересечений-пользователей-в-группах-в-результатах-A/B-тестирования\" data-toc-modified-id=\"Проверим,-нет-ли-пересечений-пользователей-в-группах-в-результатах-A/B-тестирования-4.5\"><span class=\"toc-item-num\">4.5&nbsp;&nbsp;</span>Проверим, нет ли пересечений пользователей в группах в результатах A/B-тестирования</a></span></li><li><span><a href=\"#Посмотрим-на-даты-начала-и-конца-тестирования\" data-toc-modified-id=\"Посмотрим-на-даты-начала-и-конца-тестирования-4.6\"><span class=\"toc-item-num\">4.6&nbsp;&nbsp;</span>Посмотрим на даты начала и конца тестирования</a></span></li><li><span><a href=\"#Создадим-массив-уникальных-пар-значений-дат-и-групп-теста\" data-toc-modified-id=\"Создадим-массив-уникальных-пар-значений-дат-и-групп-теста-4.7\"><span class=\"toc-item-num\">4.7&nbsp;&nbsp;</span>Создадим массив уникальных пар значений дат и групп теста</a></span></li><li><span><a href=\"#Получим-агрегированные-кумулятивные-по-дням-данные-о-заказах\" data-toc-modified-id=\"Получим-агрегированные-кумулятивные-по-дням-данные-о-заказах-4.8\"><span class=\"toc-item-num\">4.8&nbsp;&nbsp;</span>Получим агрегированные кумулятивные по дням данные о заказах</a></span></li><li><span><a href=\"#Получим-агрегированные-кумулятивные-по-дням-данные-о-посетителях-интернет-магазина\" data-toc-modified-id=\"Получим-агрегированные-кумулятивные-по-дням-данные-о-посетителях-интернет-магазина-4.9\"><span class=\"toc-item-num\">4.9&nbsp;&nbsp;</span>Получим агрегированные кумулятивные по дням данные о посетителях интернет-магазина</a></span></li><li><span><a href=\"#Объединим-кумулятивные-данные-в-одной-таблице-и-присвоим-ее-столбцам-понятные-названия\" data-toc-modified-id=\"Объединим-кумулятивные-данные-в-одной-таблице-и-присвоим-ее-столбцам-понятные-названия-4.10\"><span class=\"toc-item-num\">4.10&nbsp;&nbsp;</span>Объединим кумулятивные данные в одной таблице и присвоим ее столбцам понятные названия</a></span></li><li><span><a href=\"#Посмотрим-на-первые-5-строк-таблицы-с-кумулятивной-выручкой\" data-toc-modified-id=\"Посмотрим-на-первые-5-строк-таблицы-с-кумулятивной-выручкой-4.11\"><span class=\"toc-item-num\">4.11&nbsp;&nbsp;</span>Посмотрим на первые 5 строк таблицы с кумулятивной выручкой</a></span></li><li><span><a href=\"#Создадим-датафреймы,-в-которых-сохраним-данные-о-датах,-выручке-и-числе-заказов-в-группах\" data-toc-modified-id=\"Создадим-датафреймы,-в-которых-сохраним-данные-о-датах,-выручке-и-числе-заказов-в-группах-4.12\"><span class=\"toc-item-num\">4.12&nbsp;&nbsp;</span>Создадим датафреймы, в которых сохраним данные о датах, выручке и числе заказов в группах</a></span></li><li><span><a href=\"#Построим-график-кумулятивной-выручки-по-группам\" data-toc-modified-id=\"Построим-график-кумулятивной-выручки-по-группам-4.13\"><span class=\"toc-item-num\">4.13&nbsp;&nbsp;</span>Построим график кумулятивной выручки по группам</a></span></li><li><span><a href=\"#Построим-график-кумулятивного-среднего-чека-по-группам\" data-toc-modified-id=\"Построим-график-кумулятивного-среднего-чека-по-группам-4.14\"><span class=\"toc-item-num\">4.14&nbsp;&nbsp;</span>Построим график кумулятивного среднего чека по группам</a></span></li><li><span><a href=\"#Построим-график-относительного-изменения-кумулятивного-среднего-чека-группы-B-к-группе-A\" data-toc-modified-id=\"Построим-график-относительного-изменения-кумулятивного-среднего-чека-группы-B-к-группе-A-4.15\"><span class=\"toc-item-num\">4.15&nbsp;&nbsp;</span>Построим график относительного изменения кумулятивного среднего чека группы B к группе A</a></span></li><li><span><a href=\"#Построим-график-кумулятивного-среднего-количества-заказов-на-посетителя-по-группам\" data-toc-modified-id=\"Построим-график-кумулятивного-среднего-количества-заказов-на-посетителя-по-группам-4.16\"><span class=\"toc-item-num\">4.16&nbsp;&nbsp;</span>Построим график кумулятивного среднего количества заказов на посетителя по группам</a></span></li><li><span><a href=\"#Построим-график-относительного-изменения-кумулятивного-среднего-количества-заказов-на-посетителя-группы-B-к-группе-A\" data-toc-modified-id=\"Построим-график-относительного-изменения-кумулятивного-среднего-количества-заказов-на-посетителя-группы-B-к-группе-A-4.17\"><span class=\"toc-item-num\">4.17&nbsp;&nbsp;</span>Построим график относительного изменения кумулятивного среднего количества заказов на посетителя группы B к группе A</a></span></li><li><span><a href=\"#Построим-точечный-график-количества-заказов-по-пользователям\" data-toc-modified-id=\"Построим-точечный-график-количества-заказов-по-пользователям-4.18\"><span class=\"toc-item-num\">4.18&nbsp;&nbsp;</span>Построим точечный график количества заказов по пользователям</a></span></li><li><span><a href=\"#Посчитаем-95-й-и-99-й-перцентили-количества-заказов-на-пользователя\" data-toc-modified-id=\"Посчитаем-95-й-и-99-й-перцентили-количества-заказов-на-пользователя-4.19\"><span class=\"toc-item-num\">4.19&nbsp;&nbsp;</span>Посчитаем 95-й и 99-й перцентили количества заказов на пользователя</a></span></li><li><span><a href=\"#Построим-точечный-график-стоимостей-заказов\" data-toc-modified-id=\"Построим-точечный-график-стоимостей-заказов-4.20\"><span class=\"toc-item-num\">4.20&nbsp;&nbsp;</span>Построим точечный график стоимостей заказов</a></span></li><li><span><a href=\"#Посчитаем-95-й-и-99-й-перцентили-стоимости-заказов\" data-toc-modified-id=\"Посчитаем-95-й-и-99-й-перцентили-стоимости-заказов-4.21\"><span class=\"toc-item-num\">4.21&nbsp;&nbsp;</span>Посчитаем 95-й и 99-й перцентили стоимости заказов</a></span></li></ul></li><li><span><a href=\"#Проверка-результатов-A/B-тестирования-на-нормальность-с-помощью-критерия-Шапиро-Уилка\" data-toc-modified-id=\"Проверка-результатов-A/B-тестирования-на-нормальность-с-помощью-критерия-Шапиро-Уилка-5\"><span class=\"toc-item-num\">5&nbsp;&nbsp;</span>Проверка результатов A/B-тестирования на нормальность с помощью критерия Шапиро-Уилка</a></span><ul class=\"toc-item\"><li><span><a href=\"#Проверка-данных-по-выручке-группы-А-на-нормальность\" data-toc-modified-id=\"Проверка-данных-по-выручке-группы-А-на-нормальность-5.1\"><span class=\"toc-item-num\">5.1&nbsp;&nbsp;</span>Проверка данных по выручке группы А на нормальность</a></span></li><li><span><a href=\"#Проверка-данных-по-выручке-группы-В-на-нормальность\" data-toc-modified-id=\"Проверка-данных-по-выручке-группы-В-на-нормальность-5.2\"><span class=\"toc-item-num\">5.2&nbsp;&nbsp;</span>Проверка данных по выручке группы В на нормальность</a></span></li></ul></li><li><span><a href=\"#Оценка-результатов-A/B-тестирования-с-помощью-непараметрического-теста-Уилкоксона-Манна-Уитни\" data-toc-modified-id=\"Оценка-результатов-A/B-тестирования-с-помощью-непараметрического-теста-Уилкоксона-Манна-Уитни-6\"><span class=\"toc-item-num\">6&nbsp;&nbsp;</span>Оценка результатов A/B-тестирования с помощью непараметрического теста Уилкоксона-Манна-Уитни</a></span><ul class=\"toc-item\"><li><span><a href=\"#Проверка-гипотезы-&quot;Среднее-количество-заказов-на-посетителя-по-&quot;сырым&quot;-данным-между-группами-одинаково&quot;\" data-toc-modified-id=\"Проверка-гипотезы-&quot;Среднее-количество-заказов-на-посетителя-по-&quot;сырым&quot;-данным-между-группами-одинаково&quot;-6.1\"><span class=\"toc-item-num\">6.1&nbsp;&nbsp;</span>Проверка гипотезы \"Среднее количество заказов на посетителя по \"сырым\" данным между группами одинаково\"</a></span></li><li><span><a href=\"#Проверка-гипотезы-&quot;Средний-чек-заказа-по-&quot;сырым&quot;-данным-между-группами-одинаковый&quot;\" data-toc-modified-id=\"Проверка-гипотезы-&quot;Средний-чек-заказа-по-&quot;сырым&quot;-данным-между-группами-одинаковый&quot;-6.2\"><span class=\"toc-item-num\">6.2&nbsp;&nbsp;</span>Проверка гипотезы \"Средний чек заказа по \"сырым\" данным между группами одинаковый\"</a></span></li><li><span><a href=\"#Проверка-гипотезы-&quot;Среднее-количество-заказов-на-посетителя-по-&quot;очищенным&quot;-данным-между-группами-одинаково&quot;\" data-toc-modified-id=\"Проверка-гипотезы-&quot;Среднее-количество-заказов-на-посетителя-по-&quot;очищенным&quot;-данным-между-группами-одинаково&quot;-6.3\"><span class=\"toc-item-num\">6.3&nbsp;&nbsp;</span>Проверка гипотезы \"Среднее количество заказов на посетителя по \"очищенным\" данным между группами одинаково\"</a></span></li><li><span><a href=\"#Проверка-гипотезы-&quot;Средний-чек-заказа-по-«очищенным»-данным-между-группами-одинаковый&quot;\" data-toc-modified-id=\"Проверка-гипотезы-&quot;Средний-чек-заказа-по-«очищенным»-данным-между-группами-одинаковый&quot;-6.4\"><span class=\"toc-item-num\">6.4&nbsp;&nbsp;</span>Проверка гипотезы \"Средний чек заказа по «очищенным» данным между группами одинаковый\"</a></span></li></ul></li><li><span><a href=\"#Общий-вывод\" data-toc-modified-id=\"Общий-вывод-7\"><span class=\"toc-item-num\">7&nbsp;&nbsp;</span>Общий вывод</a></span></li></ul></div>"
   ]
  },
  {
   "cell_type": "markdown",
   "metadata": {},
   "source": [
    "## Общая информация о файле"
   ]
  },
  {
   "cell_type": "code",
   "execution_count": 1,
   "metadata": {},
   "outputs": [],
   "source": [
    "#подключим нужные библиотеки\n",
    "import pandas as pd\n",
    "import scipy.stats as stats\n",
    "import datetime as dt\n",
    "import numpy as np\n",
    "import matplotlib.pyplot as plt\n",
    "from pandas.plotting import register_matplotlib_converters\n",
    "import warnings\n",
    "# конвертеры, которые позволяют использовать типы pandas в matplotlib  \n",
    "register_matplotlib_converters()"
   ]
  },
  {
   "cell_type": "code",
   "execution_count": 2,
   "metadata": {},
   "outputs": [],
   "source": [
    "data = pd.read_csv('/datasets/hypothesis.csv', sep=',')"
   ]
  },
  {
   "cell_type": "code",
   "execution_count": 3,
   "metadata": {},
   "outputs": [
    {
     "name": "stdout",
     "output_type": "stream",
     "text": [
      "<class 'pandas.core.frame.DataFrame'>\n",
      "RangeIndex: 9 entries, 0 to 8\n",
      "Data columns (total 5 columns):\n",
      " #   Column      Non-Null Count  Dtype \n",
      "---  ------      --------------  ----- \n",
      " 0   Hypothesis  9 non-null      object\n",
      " 1   Reach       9 non-null      int64 \n",
      " 2   Impact      9 non-null      int64 \n",
      " 3   Confidence  9 non-null      int64 \n",
      " 4   Efforts     9 non-null      int64 \n",
      "dtypes: int64(4), object(1)\n",
      "memory usage: 488.0+ bytes\n"
     ]
    },
    {
     "data": {
      "text/html": [
       "<div>\n",
       "<style scoped>\n",
       "    .dataframe tbody tr th:only-of-type {\n",
       "        vertical-align: middle;\n",
       "    }\n",
       "\n",
       "    .dataframe tbody tr th {\n",
       "        vertical-align: top;\n",
       "    }\n",
       "\n",
       "    .dataframe thead th {\n",
       "        text-align: right;\n",
       "    }\n",
       "</style>\n",
       "<table border=\"1\" class=\"dataframe\">\n",
       "  <thead>\n",
       "    <tr style=\"text-align: right;\">\n",
       "      <th></th>\n",
       "      <th>Hypothesis</th>\n",
       "      <th>Reach</th>\n",
       "      <th>Impact</th>\n",
       "      <th>Confidence</th>\n",
       "      <th>Efforts</th>\n",
       "    </tr>\n",
       "  </thead>\n",
       "  <tbody>\n",
       "    <tr>\n",
       "      <th>0</th>\n",
       "      <td>Добавить два новых канала привлечения трафика,...</td>\n",
       "      <td>3</td>\n",
       "      <td>10</td>\n",
       "      <td>8</td>\n",
       "      <td>6</td>\n",
       "    </tr>\n",
       "    <tr>\n",
       "      <th>1</th>\n",
       "      <td>Запустить собственную службу доставки, что сок...</td>\n",
       "      <td>2</td>\n",
       "      <td>5</td>\n",
       "      <td>4</td>\n",
       "      <td>10</td>\n",
       "    </tr>\n",
       "    <tr>\n",
       "      <th>2</th>\n",
       "      <td>Добавить блоки рекомендаций товаров на сайт ин...</td>\n",
       "      <td>8</td>\n",
       "      <td>3</td>\n",
       "      <td>7</td>\n",
       "      <td>3</td>\n",
       "    </tr>\n",
       "    <tr>\n",
       "      <th>3</th>\n",
       "      <td>Изменить структура категорий, что увеличит кон...</td>\n",
       "      <td>8</td>\n",
       "      <td>3</td>\n",
       "      <td>3</td>\n",
       "      <td>8</td>\n",
       "    </tr>\n",
       "    <tr>\n",
       "      <th>4</th>\n",
       "      <td>Изменить цвет фона главной страницы, чтобы уве...</td>\n",
       "      <td>3</td>\n",
       "      <td>1</td>\n",
       "      <td>1</td>\n",
       "      <td>1</td>\n",
       "    </tr>\n",
       "    <tr>\n",
       "      <th>5</th>\n",
       "      <td>Добавить страницу отзывов клиентов о магазине,...</td>\n",
       "      <td>3</td>\n",
       "      <td>2</td>\n",
       "      <td>2</td>\n",
       "      <td>3</td>\n",
       "    </tr>\n",
       "    <tr>\n",
       "      <th>6</th>\n",
       "      <td>Показать на главной странице баннеры с актуаль...</td>\n",
       "      <td>5</td>\n",
       "      <td>3</td>\n",
       "      <td>8</td>\n",
       "      <td>3</td>\n",
       "    </tr>\n",
       "    <tr>\n",
       "      <th>7</th>\n",
       "      <td>Добавить форму подписки на все основные страни...</td>\n",
       "      <td>10</td>\n",
       "      <td>7</td>\n",
       "      <td>8</td>\n",
       "      <td>5</td>\n",
       "    </tr>\n",
       "    <tr>\n",
       "      <th>8</th>\n",
       "      <td>Запустить акцию, дающую скидку на товар в день...</td>\n",
       "      <td>1</td>\n",
       "      <td>9</td>\n",
       "      <td>9</td>\n",
       "      <td>5</td>\n",
       "    </tr>\n",
       "  </tbody>\n",
       "</table>\n",
       "</div>"
      ],
      "text/plain": [
       "                                          Hypothesis  Reach  Impact  \\\n",
       "0  Добавить два новых канала привлечения трафика,...      3      10   \n",
       "1  Запустить собственную службу доставки, что сок...      2       5   \n",
       "2  Добавить блоки рекомендаций товаров на сайт ин...      8       3   \n",
       "3  Изменить структура категорий, что увеличит кон...      8       3   \n",
       "4  Изменить цвет фона главной страницы, чтобы уве...      3       1   \n",
       "5  Добавить страницу отзывов клиентов о магазине,...      3       2   \n",
       "6  Показать на главной странице баннеры с актуаль...      5       3   \n",
       "7  Добавить форму подписки на все основные страни...     10       7   \n",
       "8  Запустить акцию, дающую скидку на товар в день...      1       9   \n",
       "\n",
       "   Confidence  Efforts  \n",
       "0           8        6  \n",
       "1           4       10  \n",
       "2           7        3  \n",
       "3           3        8  \n",
       "4           1        1  \n",
       "5           2        3  \n",
       "6           8        3  \n",
       "7           8        5  \n",
       "8           9        5  "
      ]
     },
     "execution_count": 3,
     "metadata": {},
     "output_type": "execute_result"
    }
   ],
   "source": [
    "data.info() #информация о датафрейме\n",
    "data.head(20) #информация о первых 20 строках датафрейма"
   ]
  },
  {
   "cell_type": "markdown",
   "metadata": {},
   "source": [
    "В датафрейме присутствуют 9 гипотез по увеличению выручки интернет-магазина с параметрами Reach, Impact, Confidence, Effort. \n",
    "Названия столбцов содержат буквы верхнего регистра, что следует исправить."
   ]
  },
  {
   "cell_type": "markdown",
   "metadata": {},
   "source": [
    "## Предобработка данных"
   ]
  },
  {
   "cell_type": "markdown",
   "metadata": {},
   "source": [
    "### Приведем названия столбцов к нижнему регистру"
   ]
  },
  {
   "cell_type": "code",
   "execution_count": 4,
   "metadata": {},
   "outputs": [],
   "source": [
    "data.columns = data.columns.str.lower()"
   ]
  },
  {
   "cell_type": "markdown",
   "metadata": {},
   "source": [
    "### Посмотрим на обновленный датафрейм"
   ]
  },
  {
   "cell_type": "code",
   "execution_count": 5,
   "metadata": {},
   "outputs": [
    {
     "data": {
      "text/html": [
       "<div>\n",
       "<style scoped>\n",
       "    .dataframe tbody tr th:only-of-type {\n",
       "        vertical-align: middle;\n",
       "    }\n",
       "\n",
       "    .dataframe tbody tr th {\n",
       "        vertical-align: top;\n",
       "    }\n",
       "\n",
       "    .dataframe thead th {\n",
       "        text-align: right;\n",
       "    }\n",
       "</style>\n",
       "<table border=\"1\" class=\"dataframe\">\n",
       "  <thead>\n",
       "    <tr style=\"text-align: right;\">\n",
       "      <th></th>\n",
       "      <th>hypothesis</th>\n",
       "      <th>reach</th>\n",
       "      <th>impact</th>\n",
       "      <th>confidence</th>\n",
       "      <th>efforts</th>\n",
       "    </tr>\n",
       "  </thead>\n",
       "  <tbody>\n",
       "    <tr>\n",
       "      <th>0</th>\n",
       "      <td>Добавить два новых канала привлечения трафика, что позволит привлекать на 30% больше пользователей</td>\n",
       "      <td>3</td>\n",
       "      <td>10</td>\n",
       "      <td>8</td>\n",
       "      <td>6</td>\n",
       "    </tr>\n",
       "    <tr>\n",
       "      <th>1</th>\n",
       "      <td>Запустить собственную службу доставки, что сократит срок доставки заказов</td>\n",
       "      <td>2</td>\n",
       "      <td>5</td>\n",
       "      <td>4</td>\n",
       "      <td>10</td>\n",
       "    </tr>\n",
       "    <tr>\n",
       "      <th>2</th>\n",
       "      <td>Добавить блоки рекомендаций товаров на сайт интернет магазина, чтобы повысить конверсию и средний чек заказа</td>\n",
       "      <td>8</td>\n",
       "      <td>3</td>\n",
       "      <td>7</td>\n",
       "      <td>3</td>\n",
       "    </tr>\n",
       "    <tr>\n",
       "      <th>3</th>\n",
       "      <td>Изменить структура категорий, что увеличит конверсию, т.к. пользователи быстрее найдут нужный товар</td>\n",
       "      <td>8</td>\n",
       "      <td>3</td>\n",
       "      <td>3</td>\n",
       "      <td>8</td>\n",
       "    </tr>\n",
       "    <tr>\n",
       "      <th>4</th>\n",
       "      <td>Изменить цвет фона главной страницы, чтобы увеличить вовлеченность пользователей</td>\n",
       "      <td>3</td>\n",
       "      <td>1</td>\n",
       "      <td>1</td>\n",
       "      <td>1</td>\n",
       "    </tr>\n",
       "    <tr>\n",
       "      <th>5</th>\n",
       "      <td>Добавить страницу отзывов клиентов о магазине, что позволит увеличить количество заказов</td>\n",
       "      <td>3</td>\n",
       "      <td>2</td>\n",
       "      <td>2</td>\n",
       "      <td>3</td>\n",
       "    </tr>\n",
       "    <tr>\n",
       "      <th>6</th>\n",
       "      <td>Показать на главной странице баннеры с актуальными акциями и распродажами, чтобы увеличить конверсию</td>\n",
       "      <td>5</td>\n",
       "      <td>3</td>\n",
       "      <td>8</td>\n",
       "      <td>3</td>\n",
       "    </tr>\n",
       "    <tr>\n",
       "      <th>7</th>\n",
       "      <td>Добавить форму подписки на все основные страницы, чтобы собрать базу клиентов для email-рассылок</td>\n",
       "      <td>10</td>\n",
       "      <td>7</td>\n",
       "      <td>8</td>\n",
       "      <td>5</td>\n",
       "    </tr>\n",
       "    <tr>\n",
       "      <th>8</th>\n",
       "      <td>Запустить акцию, дающую скидку на товар в день рождения</td>\n",
       "      <td>1</td>\n",
       "      <td>9</td>\n",
       "      <td>9</td>\n",
       "      <td>5</td>\n",
       "    </tr>\n",
       "  </tbody>\n",
       "</table>\n",
       "</div>"
      ],
      "text/plain": [
       "                                                                                                     hypothesis  \\\n",
       "0            Добавить два новых канала привлечения трафика, что позволит привлекать на 30% больше пользователей   \n",
       "1                                     Запустить собственную службу доставки, что сократит срок доставки заказов   \n",
       "2  Добавить блоки рекомендаций товаров на сайт интернет магазина, чтобы повысить конверсию и средний чек заказа   \n",
       "3           Изменить структура категорий, что увеличит конверсию, т.к. пользователи быстрее найдут нужный товар   \n",
       "4                              Изменить цвет фона главной страницы, чтобы увеличить вовлеченность пользователей   \n",
       "5                      Добавить страницу отзывов клиентов о магазине, что позволит увеличить количество заказов   \n",
       "6          Показать на главной странице баннеры с актуальными акциями и распродажами, чтобы увеличить конверсию   \n",
       "7              Добавить форму подписки на все основные страницы, чтобы собрать базу клиентов для email-рассылок   \n",
       "8                                                       Запустить акцию, дающую скидку на товар в день рождения   \n",
       "\n",
       "   reach  impact  confidence  efforts  \n",
       "0      3      10           8        6  \n",
       "1      2       5           4       10  \n",
       "2      8       3           7        3  \n",
       "3      8       3           3        8  \n",
       "4      3       1           1        1  \n",
       "5      3       2           2        3  \n",
       "6      5       3           8        3  \n",
       "7     10       7           8        5  \n",
       "8      1       9           9        5  "
      ]
     },
     "execution_count": 5,
     "metadata": {},
     "output_type": "execute_result"
    }
   ],
   "source": [
    "#установим максимальную ширину столбцов для отображения полного наименования гипотезы\n",
    "pd.set_option(\"max_colwidth\", 110)\n",
    "\n",
    "data.head(20)"
   ]
  },
  {
   "cell_type": "markdown",
   "metadata": {},
   "source": [
    "Итак, чтобы максимизировать ожидаемое улучшение ключевых метрик бизнеса, сформулированные гипотезы приоритизируем."
   ]
  },
  {
   "cell_type": "markdown",
   "metadata": {},
   "source": [
    "## Приоритизация гипотез."
   ]
  },
  {
   "cell_type": "markdown",
   "metadata": {},
   "source": [
    "### Применим фреймворк ICE для приоритизации гипотез"
   ]
  },
  {
   "cell_type": "markdown",
   "metadata": {},
   "source": [
    "ICE (от англ. impact, confidence, effort / ease «влияние, уверенность, усилия / простота») — один из самых популярных способов приоритизации задач:\n",
    "</ul></div> <br>\n",
    "$$ICE = \\frac{Impact * Confidence}{Efforts}$$\n",
    "\n"
   ]
  },
  {
   "cell_type": "code",
   "execution_count": 6,
   "metadata": {
    "scrolled": true
   },
   "outputs": [
    {
     "data": {
      "image/png": "[encoded data removed]",
      "text/plain": [
       "<Figure size 720x288 with 1 Axes>"
      ]
     },
     "metadata": {
      "needs_background": "light"
     },
     "output_type": "display_data"
    }
   ],
   "source": [
    "data['ICE'] = (data['impact']*data['confidence'])/data['efforts']\n",
    "\n",
    "data[['hypothesis', 'ICE']].sort_values(by='ICE', ascending=False).plot(y = 'ICE', kind = 'bar', figsize=(10,4), grid=True);\n",
    "plt.title(\"Приоритизация гипотез с помощью метода ICE\")\n",
    "plt.xlabel(\"Номера гипотез\")\n",
    "plt.ylabel(\"Показатель ICE\");"
   ]
  },
  {
   "cell_type": "markdown",
   "metadata": {},
   "source": [
    "Согласно результатам применения фреймворка ICE, в первую очередь следует проверить гипотезы 8, 0 и 7."
   ]
  },
  {
   "cell_type": "markdown",
   "metadata": {},
   "source": [
    "### Применим фреймворк RICE для приоритизации гипотез"
   ]
  },
  {
   "cell_type": "markdown",
   "metadata": {},
   "source": [
    "У метода ICE есть модификация RICE (R от англ. reach, «охват»):\n",
    "</ul></div> <br>\n",
    "$$RICE = \\frac{Rearch * Impact * Confidence}{Efforts}$$"
   ]
  },
  {
   "cell_type": "code",
   "execution_count": 7,
   "metadata": {},
   "outputs": [
    {
     "data": {
      "image/png": "[encoded data removed]",
      "text/plain": [
       "<Figure size 720x288 with 1 Axes>"
      ]
     },
     "metadata": {
      "needs_background": "light"
     },
     "output_type": "display_data"
    }
   ],
   "source": [
    "data['RICE'] = (data['reach']*data['impact']*data['confidence'])/data['efforts']\n",
    "\n",
    "data[['hypothesis', 'RICE']].sort_values(by='RICE', ascending=False).plot(y = 'RICE', kind = 'bar', figsize=(10,4), grid=True);\n",
    "plt.title(\"Приоритизация гипотез с помощью метода RICE\")\n",
    "plt.xlabel(\"Номера гипотез\")\n",
    "plt.ylabel(\"Показатель RICE\");"
   ]
  },
  {
   "cell_type": "markdown",
   "metadata": {},
   "source": [
    "Согласно результатам применения фреймворка RICE, в первую очередь следует проверить гипотезы 7 и 2."
   ]
  },
  {
   "cell_type": "markdown",
   "metadata": {},
   "source": [
    "Следует отметить, что приоритизация гипотез при применении RICE изменилась. Это произошло из-за влияния параметра Reach (количество пользователей, которых затронет изменение при реализации гипотезы) при расчете фреймворка RICE, что делает результаты применения фреймворка RICE более приближенными к реальности, поэтому в дальнейшем исследовании будем в первую очередь проверять гипотезу 7 (она также была в списке приоритетов согласно результатам применения фреймворка ICE)."
   ]
  },
  {
   "cell_type": "markdown",
   "metadata": {},
   "source": [
    "## Анализ A/B-теста"
   ]
  },
  {
   "cell_type": "markdown",
   "metadata": {},
   "source": [
    "Проведен A/B-тест и получены результаты, которые описаны в файлах /datasets/orders.csv и /datasets/visitors.csv."
   ]
  },
  {
   "cell_type": "markdown",
   "metadata": {},
   "source": [
    "### Прочтём данные из файлов с результатами A/B-тестирования"
   ]
  },
  {
   "cell_type": "code",
   "execution_count": 8,
   "metadata": {},
   "outputs": [],
   "source": [
    "orders = pd.read_csv('/datasets/orders.csv', sep=',')\n",
    "orders['date'] = orders['date'].map(\n",
    "    lambda x: dt.datetime.strptime(x, '%Y-%m-%d')\n",
    ")\n",
    "\n",
    "visitors = pd.read_csv('/datasets/visitors.csv', sep=',')\n",
    "visitors['date'] = visitors['date'].map(\n",
    "    lambda x: dt.datetime.strptime(x, '%Y-%m-%d')\n",
    ")"
   ]
  },
  {
   "cell_type": "markdown",
   "metadata": {},
   "source": [
    "### Посмотрим на первые 5 строк файлов с результатами A/B-тестирования"
   ]
  },
  {
   "cell_type": "code",
   "execution_count": 9,
   "metadata": {},
   "outputs": [
    {
     "name": "stdout",
     "output_type": "stream",
     "text": [
      "   transactionId   visitorId       date  revenue group\n",
      "0     3667963787  3312258926 2019-08-15     1650     B\n",
      "1     2804400009  3642806036 2019-08-15      730     B\n",
      "2     2961555356  4069496402 2019-08-15      400     A\n",
      "3     3797467345  1196621759 2019-08-15     9759     B\n",
      "4     2282983706  2322279887 2019-08-15     2308     B\n",
      "        date group  visitors\n",
      "0 2019-08-01     A       719\n",
      "1 2019-08-02     A       619\n",
      "2 2019-08-03     A       507\n",
      "3 2019-08-04     A       717\n",
      "4 2019-08-05     A       756\n"
     ]
    }
   ],
   "source": [
    "print(orders.head(5))\n",
    "print(visitors.head(5))"
   ]
  },
  {
   "cell_type": "markdown",
   "metadata": {},
   "source": [
    "### Присвоим столбцам таблицы orders названия  с использованием змеиного регистра"
   ]
  },
  {
   "cell_type": "code",
   "execution_count": 10,
   "metadata": {},
   "outputs": [],
   "source": [
    "orders.rename(columns = {'transactionId':'order_id', 'visitorId':'user_id'}, inplace = True)"
   ]
  },
  {
   "cell_type": "markdown",
   "metadata": {},
   "source": [
    "### Посчитаем, сколько у нас групп в результатах A/B-тестирования"
   ]
  },
  {
   "cell_type": "code",
   "execution_count": 11,
   "metadata": {},
   "outputs": [
    {
     "name": "stdout",
     "output_type": "stream",
     "text": [
      "             user_id\n",
      "group               \n",
      "B      1381118605657\n",
      "A      1211535685633\n"
     ]
    }
   ],
   "source": [
    "print(orders.pivot_table(index='group', values='user_id', aggfunc='sum').sort_values(by='user_id', ascending=False))"
   ]
  },
  {
   "cell_type": "markdown",
   "metadata": {},
   "source": [
    "В тестировании принимали участие две группы А и В, причем в группе В пользователей больше на 14%."
   ]
  },
  {
   "cell_type": "markdown",
   "metadata": {},
   "source": [
    "### Проверим, нет ли пересечений пользователей в группах в результатах A/B-тестирования"
   ]
  },
  {
   "cell_type": "code",
   "execution_count": 12,
   "metadata": {},
   "outputs": [
    {
     "name": "stdout",
     "output_type": "stream",
     "text": [
      "group    35\n",
      "dtype: int64\n",
      "group    2.923977\n",
      "dtype: float64\n"
     ]
    }
   ],
   "source": [
    "users_group = orders.pivot_table(index='user_id', values='group', aggfunc='sum').sort_values(by='user_id', ascending=False)\n",
    "users_a_b = users_group[users_group['group']=='AB']\n",
    "users_b_a = users_group[users_group['group']=='BA']\n",
    "print(users_a_b.count()+users_b_a.count())\n",
    "print(((users_a_b.count()+users_b_a.count())/orders['group'].count())*100)"
   ]
  },
  {
   "cell_type": "markdown",
   "metadata": {},
   "source": [
    "Есть 35 пользователей, которые попали в обе выборки, что недопустимо для проведения теста, так как это напрямую влияет на результаты. Однако, количество таких пользователей составляет всего 2.92% от общего количества пользователей, поэтому данные об этих пользователях можно оставить, поскольку корректно их нельзя удалить, так как в датасете visitors они находятся в агрегированном виде."
   ]
  },
  {
   "cell_type": "markdown",
   "metadata": {},
   "source": [
    "### Посмотрим на даты начала и конца тестирования"
   ]
  },
  {
   "cell_type": "code",
   "execution_count": 13,
   "metadata": {},
   "outputs": [
    {
     "name": "stdout",
     "output_type": "stream",
     "text": [
      "Дата начала тестирования 2019-08-01 00:00:00\n",
      "Дата окончания тестирования 2019-08-31 00:00:00\n"
     ]
    }
   ],
   "source": [
    "print('Дата начала тестирования', orders['date'].min())\n",
    "print('Дата окончания тестирования', orders['date'].max())"
   ]
  },
  {
   "cell_type": "markdown",
   "metadata": {},
   "source": [
    "### Создадим массив уникальных пар значений дат и групп теста"
   ]
  },
  {
   "cell_type": "code",
   "execution_count": 14,
   "metadata": {},
   "outputs": [],
   "source": [
    "dates_groups = orders[['date','group']].drop_duplicates()"
   ]
  },
  {
   "cell_type": "markdown",
   "metadata": {},
   "source": [
    "### Получим агрегированные кумулятивные по дням данные о заказах "
   ]
  },
  {
   "cell_type": "code",
   "execution_count": 15,
   "metadata": {},
   "outputs": [],
   "source": [
    "orders_aggregated = dates_groups.apply(\n",
    "    lambda x: orders[np.logical_and(orders['date'] <= x['date'], orders['group'] == x['group'])].agg({\n",
    "'date' : 'max',\n",
    "'group' : 'max',\n",
    "'user_id' : pd.Series.nunique,\n",
    "'order_id' : pd.Series.nunique,\n",
    "'revenue' : 'sum'}), axis=1).sort_values(by=['date','group']) "
   ]
  },
  {
   "cell_type": "markdown",
   "metadata": {},
   "source": [
    "### Получим агрегированные кумулятивные по дням данные о посетителях интернет-магазина "
   ]
  },
  {
   "cell_type": "code",
   "execution_count": 16,
   "metadata": {},
   "outputs": [],
   "source": [
    "visitors_aggregated = dates_groups.apply(\n",
    "    lambda x: visitors[np.logical_and(visitors['date'] <= x['date'], visitors['group'] == x['group'])].agg({\n",
    "        'date' : 'max', \n",
    "        'group' : 'max', \n",
    "        'visitors' : 'sum'}), axis=1).sort_values(by=['date','group'])"
   ]
  },
  {
   "cell_type": "markdown",
   "metadata": {},
   "source": [
    "### Объединим кумулятивные данные в одной таблице и присвоим ее столбцам понятные названия"
   ]
  },
  {
   "cell_type": "code",
   "execution_count": 17,
   "metadata": {},
   "outputs": [],
   "source": [
    "cumulative_data = orders_aggregated.merge(visitors_aggregated, left_on=['date', 'group'], right_on=['date', 'group']) \n",
    "\n",
    "cumulative_data.columns = ['date', 'group', 'orders', 'buyers', 'revenue', 'visitors']"
   ]
  },
  {
   "cell_type": "markdown",
   "metadata": {},
   "source": [
    "### Посмотрим на первые 5 строк таблицы с кумулятивной выручкой"
   ]
  },
  {
   "cell_type": "code",
   "execution_count": 18,
   "metadata": {},
   "outputs": [
    {
     "name": "stdout",
     "output_type": "stream",
     "text": [
      "        date group  orders  buyers  revenue  visitors\n",
      "0 2019-08-01     A      20      24   148579       719\n",
      "1 2019-08-01     B      20      21   101217       713\n",
      "2 2019-08-02     A      38      44   242401      1338\n",
      "3 2019-08-02     B      43      45   266748      1294\n",
      "4 2019-08-03     A      62      68   354874      1845\n"
     ]
    }
   ],
   "source": [
    "print(cumulative_data.head(5))"
   ]
  },
  {
   "cell_type": "markdown",
   "metadata": {},
   "source": [
    "### Создадим датафреймы, в которых сохраним данные о датах, выручке и числе заказов в группах"
   ]
  },
  {
   "cell_type": "code",
   "execution_count": 19,
   "metadata": {},
   "outputs": [],
   "source": [
    "# датафрейм с кумулятивным количеством заказов и кумулятивной выручкой по дням в группе А\n",
    "cumulative_revenue_a = cumulative_data[cumulative_data['group']=='A'][['date','revenue', 'orders']]\n",
    "\n",
    "# датафрейм с кумулятивным количеством заказов и кумулятивной выручкой по дням в группе B\n",
    "cumulative_revenue_b = cumulative_data[cumulative_data['group']=='B'][['date','revenue', 'orders']]"
   ]
  },
  {
   "cell_type": "markdown",
   "metadata": {},
   "source": [
    "### Построим график кумулятивной выручки по группам"
   ]
  },
  {
   "cell_type": "code",
   "execution_count": 20,
   "metadata": {},
   "outputs": [
    {
     "data": {
      "image/png": "[encoded data removed]",
      "text/plain": [
       "<Figure size 1008x360 with 1 Axes>"
      ]
     },
     "metadata": {
      "needs_background": "light"
     },
     "output_type": "display_data"
    }
   ],
   "source": [
    "plt.figure(figsize=(14,5))\n",
    "\n",
    "# Строим график выручки группы А\n",
    "plt.plot(cumulative_revenue_a['date'], cumulative_revenue_a['revenue'], label='Группа \"A\"')\n",
    "\n",
    "# Строим график выручки группы B\n",
    "plt.plot(cumulative_revenue_b['date'], cumulative_revenue_b['revenue'], label='Группа \"B\"')\n",
    "\n",
    "plt.legend();\n",
    "plt.title(\"График кумулятивной выручки по группам\")\n",
    "plt.xlabel(\"Дни\")\n",
    "plt.ylabel(\"Кумулятивная выручка, тыс.\")\n",
    "plt.grid(True)\n",
    "plt.show();"
   ]
  },
  {
   "cell_type": "markdown",
   "metadata": {},
   "source": [
    "Выручка в группе А равномерно увеличивается в течение всего теста. Однако выручка группы B в нескольких точках резко растет. Это может сигнализировать о всплесках числа заказов, либо о появлении очень дорогих заказов в выборке. Такие выбросы проанализируем позднее."
   ]
  },
  {
   "cell_type": "markdown",
   "metadata": {},
   "source": [
    "### Построим график кумулятивного среднего чека по группам"
   ]
  },
  {
   "cell_type": "code",
   "execution_count": 21,
   "metadata": {},
   "outputs": [
    {
     "data": {
      "image/png": "[encoded data removed]",
      "text/plain": [
       "<Figure size 1008x360 with 1 Axes>"
      ]
     },
     "metadata": {
      "needs_background": "light"
     },
     "output_type": "display_data"
    }
   ],
   "source": [
    "plt.figure(figsize=(14,5))\n",
    "\n",
    "plt.plot(cumulative_revenue_a['date'], cumulative_revenue_a['revenue']/cumulative_revenue_a['orders'], label='Группа \"A\"')\n",
    "plt.plot(cumulative_revenue_b['date'], cumulative_revenue_b['revenue']/cumulative_revenue_b['orders'], label='Группа \"B\"')\n",
    "plt.legend();\n",
    "plt.title(\"График кумулятивного среднего чека по группам\")\n",
    "plt.xlabel(\"Дни\")\n",
    "plt.ylabel(\"Кумулятивный средний чек\")\n",
    "plt.grid(True)\n",
    "plt.show();"
   ]
  },
  {
   "cell_type": "markdown",
   "metadata": {},
   "source": [
    "Средний чек тоже становится равномерным ближе к концу теста: установился для группы A и группы B. Возможно, в группу B в середине теста попали крупные заказы (резкий всплеск на графике)."
   ]
  },
  {
   "cell_type": "markdown",
   "metadata": {},
   "source": [
    "### Построим график относительного изменения кумулятивного среднего чека группы B к группе A"
   ]
  },
  {
   "cell_type": "code",
   "execution_count": 22,
   "metadata": {},
   "outputs": [
    {
     "data": {
      "image/png": "[encoded data removed]",
      "text/plain": [
       "<Figure size 1008x360 with 1 Axes>"
      ]
     },
     "metadata": {
      "needs_background": "light"
     },
     "output_type": "display_data"
    }
   ],
   "source": [
    "# собираем данные в одном датафрейме\n",
    "merged_cumulative_revenue = cumulative_revenue_a.merge(cumulative_revenue_b, left_on='date', right_on='date', \\\n",
    "                                                       how='left', suffixes=['A', 'B'])\n",
    "\n",
    "# cтроим отношение средних чеков\n",
    "plt.figure(figsize=(14,5))\n",
    "\n",
    "plt.plot(merged_cumulative_revenue['date'], (merged_cumulative_revenue['revenueB']/merged_cumulative_revenue['ordersB'])/\\\n",
    "         (merged_cumulative_revenue['revenueA']/merged_cumulative_revenue['ordersA'])-1, \\\n",
    "         label='Относительное изменение кумулятивного среднего чека группы B к группе A')\n",
    "\n",
    "# добавляем ось X\n",
    "plt.axhline(y=0, color='red', linestyle='--');\n",
    "plt.legend();\n",
    "plt.title('График относительного изменения кумулятивного среднего чека группы B к группе A')\n",
    "plt.xlabel(\"Дни\")\n",
    "plt.ylabel(\"Соотношение\")\n",
    "plt.grid(True)\n",
    "plt.show();"
   ]
  },
  {
   "cell_type": "markdown",
   "metadata": {},
   "source": [
    "В нескольких точках график различия между сегментами резко «скачет», таким образом подтверждая наличие крупных заказов и выбросов."
   ]
  },
  {
   "cell_type": "markdown",
   "metadata": {},
   "source": [
    "### Построим график кумулятивного среднего количества заказов на посетителя по группам"
   ]
  },
  {
   "cell_type": "code",
   "execution_count": 23,
   "metadata": {},
   "outputs": [
    {
     "data": {
      "image/png": "[encoded data removed]",
      "text/plain": [
       "<Figure size 1008x360 with 1 Axes>"
      ]
     },
     "metadata": {
      "needs_background": "light"
     },
     "output_type": "display_data"
    }
   ],
   "source": [
    "# считаем кумулятивную конверсию\n",
    "cumulative_data['conversion'] = cumulative_data['orders']/cumulative_data['visitors']\n",
    "\n",
    "# отделяем данные по группе A\n",
    "cumulative_data_a = cumulative_data[cumulative_data['group']=='A']\n",
    "\n",
    "# отделяем данные по группе B\n",
    "cumulative_data_b = cumulative_data[cumulative_data['group']=='B']\n",
    "\n",
    "# строим графики\n",
    "plt.figure(figsize=(14,5))\n",
    "plt.plot(cumulative_data_a['date'], cumulative_data_a['conversion'], label='Группа \"A\"')\n",
    "plt.plot(cumulative_data_b['date'], cumulative_data_b['conversion'], label='Группа \"B\"')\n",
    "plt.legend()\n",
    "\n",
    "\n",
    "# задаем масштаб осей\n",
    "plt.axis([dt.datetime(2019, 8, 1), dt.datetime(2019, 9, 1), 0.025, 0.035]);\n",
    "plt.title('График кумулятивного среднего количества заказов на посетителя по группам')\n",
    "plt.xlabel(\"Дни\")\n",
    "plt.ylabel(\"Среднее количество заказов на посетителя\")\n",
    "plt.grid(True)\n",
    "plt.show();"
   ]
  },
  {
   "cell_type": "markdown",
   "metadata": {},
   "source": [
    "График симметричен. Значения в группах сначала колебались, но затем конверсия группы B вырвалась вверх и зафиксировалась, а конверсия группы А просела и также зафиксировалась."
   ]
  },
  {
   "cell_type": "markdown",
   "metadata": {},
   "source": [
    "### Построим график относительного изменения кумулятивного среднего количества заказов на посетителя группы B к группе A"
   ]
  },
  {
   "cell_type": "code",
   "execution_count": 24,
   "metadata": {},
   "outputs": [
    {
     "data": {
      "image/png": "[encoded data removed]",
      "text/plain": [
       "<Figure size 1008x360 with 1 Axes>"
      ]
     },
     "metadata": {
      "needs_background": "light"
     },
     "output_type": "display_data"
    }
   ],
   "source": [
    "merged_cumulative_conversions = cumulative_data_a[['date','conversion']].merge(cumulative_data_b[['date','conversion']], left_on='date', right_on='date', how='left', suffixes=['_a', '_b'])\n",
    "plt.figure(figsize=(14,5))\n",
    "plt.plot(merged_cumulative_conversions['date'], merged_cumulative_conversions['conversion_b']/merged_cumulative_conversions['conversion_a']-1, label='Относительный прирост заказов группы \"B\" к группе \"A\"')\n",
    "plt.legend();\n",
    "\n",
    "plt.axhline(y=0, color='red', linestyle='--');\n",
    "plt.axis([\"2019-08-01\", '2019-09-01', -0.11, 0.3]);\n",
    "plt.title('График относительного изменения кумулятивного среднего количества заказов на посетителя группы \"B\" к группе \"A\"')\n",
    "plt.xlabel(\"Дни\")\n",
    "plt.ylabel(\"Соотношение\")\n",
    "plt.grid(True)\n",
    "plt.show();"
   ]
  },
  {
   "cell_type": "markdown",
   "metadata": {},
   "source": [
    "В начале теста конверсия в группе B была гораздо выше конверсии в группе A, затем случился провал на небольшое время и уже к середине теста конверсия сильно выросла и оставалась довольно высоко до конца теста, выше, чем конверсия в группе А. Также стоит проанализировать аномалии, возможно, они изменят картину. "
   ]
  },
  {
   "cell_type": "markdown",
   "metadata": {},
   "source": [
    "### Построим точечный график количества заказов по пользователям"
   ]
  },
  {
   "cell_type": "code",
   "execution_count": 25,
   "metadata": {},
   "outputs": [
    {
     "data": {
      "image/png": "[encoded data removed]",
      "text/plain": [
       "<Figure size 1008x360 with 1 Axes>"
      ]
     },
     "metadata": {
      "needs_background": "light"
     },
     "output_type": "display_data"
    }
   ],
   "source": [
    "orders_by_users = orders.drop(['group', 'revenue', 'date'], axis = 1)\\\n",
    ".groupby('user_id', as_index=False)\\\n",
    ".agg({'order_id' : 'nunique',})\n",
    "\n",
    "orders_by_users.columns = ['user_id', 'orders']\n",
    "\n",
    "# серия из чисел от 0 до количества наблюдений в orders_by_users\n",
    "x_values = pd.Series(range(0,len(orders_by_users)))\n",
    "plt.figure(figsize=(14,5))\n",
    "plt.scatter(x_values, orders_by_users['orders']); \n",
    "plt.title('Точечный график количества заказов по пользователям')\n",
    "plt.xlabel(\"Пользователи\")\n",
    "plt.ylabel(\"Количество заказов\")\n",
    "plt.show();"
   ]
  },
  {
   "cell_type": "markdown",
   "metadata": {},
   "source": [
    "Довольно много покупателей, которые совершили покупку более 1 раза."
   ]
  },
  {
   "cell_type": "markdown",
   "metadata": {},
   "source": [
    "### Посчитаем 95-й и 99-й перцентили количества заказов на пользователя"
   ]
  },
  {
   "cell_type": "code",
   "execution_count": 26,
   "metadata": {},
   "outputs": [
    {
     "name": "stdout",
     "output_type": "stream",
     "text": [
      "[2. 4.]\n"
     ]
    }
   ],
   "source": [
    "print(np.percentile(orders_by_users['orders'], [95, 99])) "
   ]
  },
  {
   "cell_type": "markdown",
   "metadata": {},
   "source": [
    "Перцентили подтверждают, что 5 % покупателей совершили покупку более 2 раз, а более 1% покупателей совершили покупку более 4 раз, пусть это будет верхней границей для отсечения аномалий, способных искажать результаты тестирования."
   ]
  },
  {
   "cell_type": "markdown",
   "metadata": {},
   "source": [
    "### Построим точечный график стоимостей заказов"
   ]
  },
  {
   "cell_type": "code",
   "execution_count": 27,
   "metadata": {},
   "outputs": [
    {
     "data": {
      "image/png": "[encoded data removed]",
      "text/plain": [
       "<Figure size 1008x360 with 1 Axes>"
      ]
     },
     "metadata": {
      "needs_background": "light"
     },
     "output_type": "display_data"
    }
   ],
   "source": [
    "x_values = pd.Series(range(0, len(orders['revenue'])))\n",
    "plt.figure(figsize=(14,5))\n",
    "plt.scatter(x_values, orders['revenue']);\n",
    "plt.title('Точечный график количества стоимостей заказов')\n",
    "plt.xlabel(\"Дни\")\n",
    "plt.ylabel(\"Стоимость заказа, тыс.\")\n",
    "plt.show();"
   ]
  },
  {
   "cell_type": "markdown",
   "metadata": {},
   "source": [
    "На графике отлично видно, что в датафрейме есть заказы на довольно большую сумму. "
   ]
  },
  {
   "cell_type": "markdown",
   "metadata": {},
   "source": [
    "### Посчитаем 95-й и 99-й перцентили стоимости заказов"
   ]
  },
  {
   "cell_type": "code",
   "execution_count": 28,
   "metadata": {},
   "outputs": [
    {
     "name": "stdout",
     "output_type": "stream",
     "text": [
      "[28000.  58233.2]\n"
     ]
    }
   ],
   "source": [
    "print(np.percentile(orders['revenue'], [95, 99]))"
   ]
  },
  {
   "cell_type": "markdown",
   "metadata": {},
   "source": [
    "Всего 5% от количества всех заказов совершены на сумму свыше 28 тысяч. Для дальнейшего анализа определим это как планку, для отсечения аномалий, способных искажать результаты тестирования."
   ]
  },
  {
   "cell_type": "markdown",
   "metadata": {},
   "source": [
    "Подытожим:\n",
    "1. Выручка в группе А равномерно увеличивается в течение всего теста, а выручка группы B в нескольких точках резко растет и к концу теста сильно превышает выручку в группе А.\n",
    "2. Средний чек в группе В сильно увеличился к середине теста и становится равномерным ближе к концу теста, также установился для группы A и для группы B. \n",
    "3. Конверсия в группе В выше аналогичного показателя группы А и относительное изменение конверсии группы B к группе A выше конверсии в группе A.\n",
    "\n",
    "На данный момент \"лидирует\" группа В. Однако выявлены аномальные данные, способные влиять на результат, и на данный момент неизвестно насколько сильно. Попробуем оценить результаты A/B-тестирования с помощью статистических методов."
   ]
  },
  {
   "cell_type": "markdown",
   "metadata": {},
   "source": [
    "## Проверка результатов A/B-тестирования на нормальность с помощью критерия Шапиро-Уилка"
   ]
  },
  {
   "cell_type": "markdown",
   "metadata": {},
   "source": [
    "### Проверка данных по выручке группы А на нормальность"
   ]
  },
  {
   "cell_type": "code",
   "execution_count": 29,
   "metadata": {},
   "outputs": [
    {
     "name": "stdout",
     "output_type": "stream",
     "text": [
      "p-значение:  1.739723833199812e-34\n",
      "Отвергаем нулевую гипотезу: распределение данных по выручке в группе \"А\" не нормально\n"
     ]
    }
   ],
   "source": [
    "# датафрейм с выручкой в группе А\n",
    "revenue_a = orders[orders['group']=='A'][['revenue']]\n",
    "\n",
    "alpha = 0.05  # критический уровень статистической значимости\n",
    "\n",
    "results = stats.shapiro(revenue_a)\n",
    "p_value = results[\n",
    "    1\n",
    "]  # второе значение в массиве результатов (с индексом 1) - p-value\n",
    "\n",
    "print('p-значение: ', p_value)\n",
    "\n",
    "if p_value < alpha:\n",
    "    print('Отвергаем нулевую гипотезу: распределение данных по выручке в группе \"А\" не нормально')\n",
    "else:\n",
    "    print('Не получилось отвергнуть нулевую гипотезу, всё нормально с распределением данных по выручке в группе \"А\"') "
   ]
  },
  {
   "cell_type": "markdown",
   "metadata": {},
   "source": [
    "### Проверка данных по выручке группы В на нормальность"
   ]
  },
  {
   "cell_type": "code",
   "execution_count": 30,
   "metadata": {},
   "outputs": [
    {
     "name": "stdout",
     "output_type": "stream",
     "text": [
      "p-значение:  0.0\n",
      "Отвергаем нулевую гипотезу: распределение данных по выручке в группе \"B\" не нормально\n"
     ]
    }
   ],
   "source": [
    "# датафрейм с выручкой в группе А\n",
    "revenue_b = orders[orders['group']=='B'][['revenue']]\n",
    "\n",
    "alpha = 0.05  # критический уровень статистической значимости\n",
    "\n",
    "results = stats.shapiro(revenue_b)\n",
    "p_value = results[\n",
    "    1\n",
    "]  # второе значение в массиве результатов (с индексом 1) - p-value\n",
    "\n",
    "print('p-значение: ', p_value)\n",
    "\n",
    "if p_value < alpha:\n",
    "    print('Отвергаем нулевую гипотезу: распределение данных по выручке в группе \"B\" не нормально')\n",
    "else:\n",
    "    print('Не получилось отвергнуть нулевую гипотезу, всё нормально с распределением данных по выручке в группе \"B\"') "
   ]
  },
  {
   "cell_type": "markdown",
   "metadata": {},
   "source": [
    "Итак, распределение данных по выручке в группах ненормально, то есть имеет смысл применить оценить результаты тестирования с помощью непараметрических методов."
   ]
  },
  {
   "cell_type": "markdown",
   "metadata": {},
   "source": [
    "## Оценка результатов A/B-тестирования с помощью непараметрического теста Уилкоксона-Манна-Уитни"
   ]
  },
  {
   "cell_type": "markdown",
   "metadata": {},
   "source": [
    "С помощью непараметрического теста Уилкоксона-Манна-Уитни можно проранжировать две группы результатов A/B-тестирования по порядку от меньшего к большему и сравнить ранги одних и тех же значений, попавших в обе выборки. \n",
    "\n",
    "Главное отличие непараметрических методов в том, что они работают с рангами, — номерами значений в упорядоченном ряду, — никак не учитывая сами значения. Поэтому к ним прибегают тогда, когда работа с самими значениями невозможна из-за выбросов, сильно сдвигающих параметрические результаты."
   ]
  },
  {
   "cell_type": "markdown",
   "metadata": {},
   "source": [
    "### Проверка гипотезы \"Среднее количество заказов на посетителя по \"сырым\" данным между группами одинаково\"\n",
    "H_0: Среднее количество заказов на посетителя группы \"А\" по \"сырым\" данным = Среднее количество заказов на посетителя группы \"В\" по \"сырым\" данным\n",
    "\n",
    "H_a: Среднее количество заказов на посетителя группы \"А\" по \"сырым\" данным ≠ Среднее количество заказов на посетителя группы \"В\" по \"сырым\" данным\n"
   ]
  },
  {
   "cell_type": "code",
   "execution_count": 31,
   "metadata": {},
   "outputs": [
    {
     "name": "stdout",
     "output_type": "stream",
     "text": [
      "0.017\n",
      "0.138\n"
     ]
    }
   ],
   "source": [
    "visitors_a_daily = visitors[visitors['group'] == 'A'][['date', 'visitors']]\n",
    "visitors_a_daily.columns = ['date', 'visitors_per_date_a']\n",
    "\n",
    "visitors_a_cummulative = visitors_a_daily.apply(\n",
    "    lambda x: visitors_a_daily[visitors_a_daily['date'] <= x['date']].agg(\n",
    "        {'date': 'max', 'visitors_per_date_a': 'sum'}\n",
    "    ),\n",
    "    axis=1,\n",
    ")\n",
    "visitors_a_cummulative.columns = ['date', 'visitors_cummulative_a']\n",
    "\n",
    "visitors_b_daily = visitors[visitors['group'] == 'B'][['date', 'visitors']]\n",
    "visitors_b_daily.columns = ['date', 'visitors_per_date_b']\n",
    "\n",
    "visitors_b_cummulative = visitors_b_daily.apply(\n",
    "    lambda x: visitors_b_daily[visitors_b_daily['date'] <= x['date']].agg(\n",
    "        {'date': 'max', 'visitors_per_date_b': 'sum'}\n",
    "    ),\n",
    "    axis=1,\n",
    ")\n",
    "visitors_b_cummulative.columns = ['date', 'visitors_cummulative_b']\n",
    "\n",
    "orders_a_daily = (\n",
    "    orders[orders['group'] == 'A'][['date', 'order_id', 'user_id', 'revenue']]\n",
    "    .groupby('date', as_index=False)\n",
    "    .agg({'order_id': pd.Series.nunique, 'revenue': 'sum'})\n",
    ")\n",
    "orders_a_daily.columns = ['date', 'orders_per_date_a', 'revenue_per_date_a']\n",
    "\n",
    "orders_a_cummulative = orders_a_daily.apply(\n",
    "    lambda x: orders_a_daily[orders_a_daily['date'] <= x['date']].agg(\n",
    "        {'date': 'max', 'orders_per_date_a': 'sum', 'revenue_per_date_a': 'sum'}\n",
    "    ),\n",
    "    axis=1,\n",
    ").sort_values(by=['date'])\n",
    "\n",
    "orders_a_cummulative.columns = [\n",
    "    'date',\n",
    "    'orders_cummulative_a',\n",
    "    'revenue_cummulative_a',\n",
    "]\n",
    "\n",
    "orders_b_daily = (\n",
    "    orders[orders['group'] == 'B'][['date', 'order_id', 'user_id', 'revenue']]\n",
    "    .groupby('date', as_index=False)\n",
    "    .agg({'order_id': pd.Series.nunique, 'revenue': 'sum'})\n",
    ")\n",
    "orders_b_daily.columns = ['date', 'orders_per_date_b', 'revenue_per_date_b']\n",
    "\n",
    "orders_b_cummulative = orders_b_daily.apply(\n",
    "    lambda x: orders_b_daily[orders_b_daily['date'] <= x['date']].agg(\n",
    "        {'date': 'max', 'orders_per_date_b': 'sum', 'revenue_per_date_b': 'sum'}\n",
    "    ),\n",
    "    axis=1,\n",
    ").sort_values(by=['date'])\n",
    "orders_b_cummulative.columns = [\n",
    "    'date',\n",
    "    'orders_cummulative_b',\n",
    "    'revenue_cummulative_b',\n",
    "]\n",
    "\n",
    "new = (\n",
    "    orders_a_daily.merge(\n",
    "        orders_b_daily, left_on='date', right_on='date', how='left'\n",
    "    )\n",
    "    .merge(orders_a_cummulative, left_on='date', right_on='date', how='left')\n",
    "    .merge(orders_b_cummulative, left_on='date', right_on='date', how='left')\n",
    "    .merge(visitors_a_daily, left_on='date', right_on='date', how='left')\n",
    "    .merge(visitors_b_daily, left_on='date', right_on='date', how='left')\n",
    "    .merge(visitors_a_cummulative, left_on='date', right_on='date', how='left')\n",
    "    .merge(visitors_b_cummulative, left_on='date', right_on='date', how='left')\n",
    ")\n",
    "\n",
    "#print(new.head(5)) \n",
    "\n",
    "#Создадим переменные и соберем в них пользователей, которые заказывали хотя бы 1 раз, и укажем число совершённых заказов. \n",
    "orders_by_users_a = (\n",
    "    orders[orders['group'] == 'A']\n",
    "    .groupby('user_id', as_index=False)\n",
    "    .agg({'order_id': pd.Series.nunique})\n",
    ")\n",
    "orders_by_users_a.columns = ['user_id', 'orders']\n",
    "\n",
    "orders_by_users_b = (\n",
    "    orders[orders['group'] == 'B']\n",
    "    .groupby('user_id', as_index=False)\n",
    "    .agg({'order_id': pd.Series.nunique})\n",
    ")\n",
    "orders_by_users_b.columns = ['user_id', 'orders'] \n",
    "\n",
    "pd.Series(0, index=np.arange(new['visitors_per_date_a'].sum() - len(orders_by_users_a['orders'])), name='orders')\n",
    "\n",
    "# объединим последовательности функцией pd.concat()\n",
    "[orders_by_users_a['orders'],pd.Series(0, index=np.arange(new['visitors_per_date_a'].sum() \\\n",
    "                                                       - len(orders_by_users_a['orders'])), name='orders')]\n",
    "\n",
    "sample_a = pd.concat(\n",
    "    [\n",
    "        orders_by_users_a['orders'],\n",
    "        pd.Series(\n",
    "            0,\n",
    "            index=np.arange(\n",
    "                new['visitors_per_date_a'].sum() - len(orders_by_users_a['orders'])\n",
    "            ),\n",
    "            name='orders',\n",
    "        ),\n",
    "    ],\n",
    "    axis=0,\n",
    ")\n",
    "\n",
    "sample_b = pd.concat(\n",
    "    [\n",
    "        orders_by_users_b['orders'],\n",
    "        pd.Series(\n",
    "            0,\n",
    "            index=np.arange(\n",
    "                new['visitors_per_date_b'].sum() - len(orders_by_users_b['orders'])\n",
    "            ),\n",
    "            name='orders',\n",
    "        ),\n",
    "    ],\n",
    "    axis=0,\n",
    ")\n",
    "\n",
    "print(\"{0:.3f}\".format(stats.mannwhitneyu(sample_a, sample_b)[1], alternative='two-sided'))\n",
    "\n",
    "print(\"{0:.3f}\".format(sample_b.mean() / sample_a.mean() - 1))"
   ]
  },
  {
   "cell_type": "markdown",
   "metadata": {},
   "source": [
    "По «сырым» данным есть различия в среднем числе заказов групп A и B.\n",
    "\n",
    "Показатель p-value (0.017) меньше уровня значимости (0.05), значит, нулевую гипотезу о том, что статистически значимых различий в среднем числе заказов между группами нет, можно отвергнуть. \n",
    "\n",
    "При этом, относительный выигрыш группы B равен 13.8%."
   ]
  },
  {
   "cell_type": "markdown",
   "metadata": {},
   "source": [
    "### Проверка гипотезы \"Средний чек заказа по \"сырым\" данным между группами одинаковый\" \n",
    "H_0: Средний чек заказа группы \"А\" по \"сырым\" данным  = Средний чек заказа группы \"В\" по \"сырым\" данным  \n",
    "\n",
    "H_a: Средний чек заказа группы \"А\" по \"сырым\" данным ≠ Средний чек заказа группы \"В\" по \"сырым\" данным"
   ]
  },
  {
   "cell_type": "code",
   "execution_count": 32,
   "metadata": {},
   "outputs": [
    {
     "name": "stdout",
     "output_type": "stream",
     "text": [
      "0.729\n",
      "0.259\n"
     ]
    }
   ],
   "source": [
    "print('{0:.3f}'.format(stats.mannwhitneyu(orders[orders['group']=='A']['revenue'], orders[orders['group']=='B']['revenue'])[1], alternative='two-sided'))\n",
    "print('{0:.3f}'.format(orders[orders['group']=='B']['revenue'].mean()/orders[orders['group']=='A']['revenue'].mean()-1)) "
   ]
  },
  {
   "cell_type": "markdown",
   "metadata": {},
   "source": [
    "P-value значительно больше 0.05. Значит, причин отвергать нулевую гипотезу и считать, что в среднем чеке есть различия, нет.\n",
    "Следует отметить, что средний чек группы B выше среднего чека группы A."
   ]
  },
  {
   "cell_type": "markdown",
   "metadata": {},
   "source": [
    "### Проверка гипотезы \"Среднее количество заказов на посетителя по \"очищенным\" данным между группами одинаково\"\n",
    "H_0: Среднее количество заказов на посетителя группы \"А\" по \"очищенным\" данным = Среднее количество заказов на посетителя группы \"В\" по \"очищенным\" данным\n",
    "\n",
    "H_a: Среднее количество заказов на посетителя группы \"А\" по \"очищенным\" данным ≠ Среднее количество заказов на посетителя группы \"В\" по \"очищенным\" данным. "
   ]
  },
  {
   "cell_type": "code",
   "execution_count": 33,
   "metadata": {},
   "outputs": [
    {
     "name": "stdout",
     "output_type": "stream",
     "text": [
      "59\n",
      "0.018\n",
      "0.145\n"
     ]
    }
   ],
   "source": [
    "#Сделаем срезы пользователей с числом заказов больше 4 и пользователей, совершивших заказы дороже 28 000 \n",
    "#Объединим их в таблице abnormalUsers. \n",
    "\n",
    "users_with_many_orders = pd.concat(\n",
    "    [\n",
    "        orders_by_users_a[orders_by_users_a['orders'] > 4]['user_id'],\n",
    "        orders_by_users_b[orders_by_users_b['orders'] > 4]['user_id'],\n",
    "    ],\n",
    "    axis=0,\n",
    ")\n",
    "users_with_expensive_orders = orders[orders['revenue'] > 28000]['user_id']\n",
    "abnormal_users = (\n",
    "    pd.concat([users_with_many_orders, users_with_expensive_orders], axis=0)\n",
    "    .drop_duplicates()\n",
    "    .sort_values()\n",
    ")\n",
    "#print(abnormal_users.head(5))\n",
    "\n",
    "#Узнаем, сколько всего аномальных пользователей атрибутом shape.\n",
    "print(abnormal_users.shape[0]) \n",
    "\n",
    "sample_a_filtered = pd.concat(\n",
    "    [\n",
    "        orders_by_users_a[\n",
    "            np.logical_not(orders_by_users_a['user_id'].isin(abnormal_users))\n",
    "        ]['orders'],\n",
    "        pd.Series(\n",
    "            0,\n",
    "            index=np.arange(\n",
    "                new['visitors_per_date_a'].sum() - len(orders_by_users_a['orders'])\n",
    "            ),\n",
    "            name='orders',\n",
    "        ),\n",
    "    ],\n",
    "    axis=0,\n",
    ")\n",
    "\n",
    "sample_b_filtered = pd.concat(\n",
    "    [\n",
    "        orders_by_users_b[\n",
    "            np.logical_not(orders_by_users_b['user_id'].isin(abnormal_users))\n",
    "        ]['orders'],\n",
    "        pd.Series(\n",
    "            0,\n",
    "            index=np.arange(\n",
    "                new['visitors_per_date_b'].sum() - len(orders_by_users_b['orders'])\n",
    "            ),\n",
    "            name='orders',\n",
    "        ),\n",
    "    ],\n",
    "    axis=0,\n",
    ") \n",
    "\n",
    "print('{0:.3f}'.format(stats.mannwhitneyu(sample_a_filtered, sample_b_filtered)[1], alternative='two-sided'))\n",
    "print('{0:.3f}'.format(sample_b_filtered.mean()/sample_a_filtered.mean()-1)) "
   ]
  },
  {
   "cell_type": "markdown",
   "metadata": {},
   "source": [
    "Итак, выявлено 59 аномальных пользователей, которые совершили более 4 заказов и/или на сумму более 28 тысяч.\n",
    "\n",
    "Результаты по среднему количеству заказов не изменились (все также p-value (0.018) меньше уровня значимости (0.05), то есть распределение по количеству заказов в группах статистически различно.\n",
    "\n",
    "Среднее количество заказов выше в группе B."
   ]
  },
  {
   "cell_type": "markdown",
   "metadata": {},
   "source": [
    "### Проверка гипотезы \"Средний чек заказа по «очищенным» данным между группами одинаковый\"\n",
    "H_0: Средний чек заказа группы \"А\" по \"очищенным\" данным  = Средний чек заказа группы \"В\" по \"очищенным\" данным  \n",
    "\n",
    "H_a: Средний чек заказа группы \"А\" по \"очищенным\" данным ≠ Средний чек заказа группы \"В\" по \"очищенным\" данным"
   ]
  },
  {
   "cell_type": "code",
   "execution_count": 34,
   "metadata": {},
   "outputs": [
    {
     "name": "stdout",
     "output_type": "stream",
     "text": [
      "0.961\n",
      "-0.014\n"
     ]
    }
   ],
   "source": [
    "print(\n",
    "    '{0:.3f}'.format(\n",
    "        stats.mannwhitneyu(\n",
    "            orders[\n",
    "                np.logical_and(\n",
    "                    orders['group'] == 'A',\n",
    "                    np.logical_not(orders['user_id'].isin(abnormal_users)),\n",
    "                )\n",
    "            ]['revenue'],\n",
    "            orders[\n",
    "                np.logical_and(\n",
    "                    orders['group'] == 'B',\n",
    "                    np.logical_not(orders['user_id'].isin(abnormal_users)),\n",
    "                )\n",
    "            ]['revenue'],\n",
    "        )[1], alternative='two-sided'\n",
    "    )\n",
    ")\n",
    "\n",
    "print(\n",
    "    \"{0:.3f}\".format(\n",
    "        orders[\n",
    "            np.logical_and(\n",
    "                orders['group'] == 'B',\n",
    "                np.logical_not(orders['user_id'].isin(abnormal_users)),\n",
    "            )\n",
    "        ]['revenue'].mean()\n",
    "        / orders[\n",
    "            np.logical_and(\n",
    "                orders['group'] == 'A',\n",
    "                np.logical_not(orders['user_id'].isin(abnormal_users)),\n",
    "            )\n",
    "        ]['revenue'].mean()\n",
    "        - 1\n",
    "    )\n",
    ") "
   ]
  },
  {
   "cell_type": "markdown",
   "metadata": {},
   "source": [
    "P-value значительно больше 0.05. Значит, причин отвергать нулевую гипотезу и считать, что в среднем чеке по \"очищенным\" данным есть различия, нет. \n",
    "\n",
    "Статистическая значимость различий в среднем чеке заказа между группами после удаления аномальных значений сократилась на 15,2% (с +13.8% до -1,4%)."
   ]
  },
  {
   "cell_type": "markdown",
   "metadata": {},
   "source": [
    "Резюмируя вышеизложенное, отметим следующее:\n",
    "1. По «сырым» данным есть различия в среднем числе заказов групп A и B, но нет различий в среднем чеке заказа между группами. При этом среднее количество заказов выше в группе B и средний чек группы B выше среднего чека группы A.\n",
    "2. По «очищенным» данным также есть различия в среднем числе заказов групп A и B, и также нет различий в среднем чеке заказа между группами. Однако среднее количество заказов выше в группе B, но средний чек выше в группе А.\n",
    "\n",
    "Исходя из обнаруженных фактов, тест следует остановить и зафиксировать победу группы B, поскольку даже при отсечении крупных заказов, среднее количество заказов выше в группе B и это подтверждено статистической значимостью, что группы действительно различны."
   ]
  },
  {
   "cell_type": "markdown",
   "metadata": {},
   "source": [
    "## Общий вывод"
   ]
  },
  {
   "cell_type": "markdown",
   "metadata": {},
   "source": [
    "В результате проведенного исследования можно выделить следующее:\n",
    "\n",
    "1.\tИз изначальных 9 гипотез, отобранных отделом маркетинга, с помощью применения фреймворка ICE были отсеяны 6 гипотез, и остались гипотезы №8, 0 и 7 для проверки в первую очередь. Однако после применения фреймворка RICE, количество гипотез сократилось до 2 (№7 и 2). \n",
    "Результаты применения фреймворков ICE и RICE различны из-за влияния параметра Reach (количество пользователей, которых затронет изменение при реализации гипотезы) при расчете фреймворка RICE, что делает результаты применения фреймворка RICE более приближенными к реальности, поэтому в дальнейшем исследовании будем в первую очередь проверять гипотезу 7 (она также была в списке приоритетов согласно результатам применения фреймворка ICE).\n",
    "\n",
    "2.\tВ результате проведенного A/B-теста можно выделить что показатели выручки, среднего чека, конверсии в группе В, начиная с середины теста и до его конца превосходят аналогичные показатели в группе А. Однако данное превосходство было обусловлено попаданием в выборку группы В 59 «аномальных» покупателей, которые совершили более 4 заказов и/или на сумму более 28 тысяч. После удаления выбросов среднее количество заказов выше в группе B, но средний чек выше в группе А, а статистическая значимость подтверждает различие в количестве заказов между группами, но не подтверждает различий между группами в среднем чеке. Все это приводит к выводу, что тест следует остановить и зафиксировать победу группы B. \n"
   ]
  },
  {
   "cell_type": "code",
   "execution_count": null,
   "metadata": {},
   "outputs": [],
   "source": []
  }
 ],
 "metadata": {
  "ExecuteTimeLog": [
   {
    "duration": 3,
    "start_time": "2023-02-11T09:18:45.764Z"
   },
   {
    "duration": 61,
    "start_time": "2023-02-11T09:23:59.577Z"
   },
   {
    "duration": 883,
    "start_time": "2023-02-11T09:27:14.772Z"
   },
   {
    "duration": 75,
    "start_time": "2023-02-11T09:31:36.159Z"
   },
   {
    "duration": 59,
    "start_time": "2023-02-11T09:31:57.501Z"
   },
   {
    "duration": 21,
    "start_time": "2023-02-11T09:34:16.097Z"
   },
   {
    "duration": 14,
    "start_time": "2023-02-11T09:36:32.892Z"
   },
   {
    "duration": 16,
    "start_time": "2023-02-11T09:36:38.216Z"
   },
   {
    "duration": 2,
    "start_time": "2023-02-11T09:38:33.014Z"
   },
   {
    "duration": 40,
    "start_time": "2023-02-11T09:38:35.496Z"
   },
   {
    "duration": 10,
    "start_time": "2023-02-11T09:43:58.359Z"
   },
   {
    "duration": 15,
    "start_time": "2023-02-11T09:44:04.577Z"
   },
   {
    "duration": 3,
    "start_time": "2023-02-11T09:44:09.724Z"
   },
   {
    "duration": 8,
    "start_time": "2023-02-11T09:44:38.794Z"
   },
   {
    "duration": 8,
    "start_time": "2023-02-11T09:46:12.158Z"
   },
   {
    "duration": 10,
    "start_time": "2023-02-11T09:46:54.730Z"
   },
   {
    "duration": 8,
    "start_time": "2023-02-11T09:47:21.750Z"
   },
   {
    "duration": 10,
    "start_time": "2023-02-11T09:50:21.788Z"
   },
   {
    "duration": 46,
    "start_time": "2023-02-11T09:52:41.511Z"
   },
   {
    "duration": 8,
    "start_time": "2023-02-11T10:03:59.101Z"
   },
   {
    "duration": 49,
    "start_time": "2023-02-11T10:09:24.134Z"
   },
   {
    "duration": 3,
    "start_time": "2023-02-11T10:10:18.731Z"
   },
   {
    "duration": 3,
    "start_time": "2023-02-11T10:11:14.258Z"
   },
   {
    "duration": 2,
    "start_time": "2023-02-11T10:12:13.657Z"
   },
   {
    "duration": 3,
    "start_time": "2023-02-11T10:13:09.884Z"
   },
   {
    "duration": 133,
    "start_time": "2023-02-11T10:18:45.647Z"
   },
   {
    "duration": 431,
    "start_time": "2023-02-11T10:19:25.161Z"
   },
   {
    "duration": 304,
    "start_time": "2023-02-11T10:22:30.787Z"
   },
   {
    "duration": 84,
    "start_time": "2023-02-11T10:25:46.174Z"
   },
   {
    "duration": 228,
    "start_time": "2023-02-11T10:27:00.729Z"
   },
   {
    "duration": 6,
    "start_time": "2023-02-11T10:33:10.161Z"
   },
   {
    "duration": 5,
    "start_time": "2023-02-11T10:33:16.660Z"
   },
   {
    "duration": 813,
    "start_time": "2023-02-11T10:33:56.143Z"
   },
   {
    "duration": 25,
    "start_time": "2023-02-11T10:33:56.958Z"
   },
   {
    "duration": 21,
    "start_time": "2023-02-11T10:33:56.984Z"
   },
   {
    "duration": 3,
    "start_time": "2023-02-11T10:33:57.008Z"
   },
   {
    "duration": 14,
    "start_time": "2023-02-11T10:33:57.012Z"
   },
   {
    "duration": 10,
    "start_time": "2023-02-11T10:33:57.028Z"
   },
   {
    "duration": 7,
    "start_time": "2023-02-11T10:33:57.040Z"
   },
   {
    "duration": 313,
    "start_time": "2023-02-11T10:33:57.048Z"
   },
   {
    "duration": 0,
    "start_time": "2023-02-11T10:33:57.362Z"
   },
   {
    "duration": 0,
    "start_time": "2023-02-11T10:33:57.364Z"
   },
   {
    "duration": 0,
    "start_time": "2023-02-11T10:33:57.366Z"
   },
   {
    "duration": 0,
    "start_time": "2023-02-11T10:33:57.367Z"
   },
   {
    "duration": 0,
    "start_time": "2023-02-11T10:33:57.369Z"
   },
   {
    "duration": 6,
    "start_time": "2023-02-11T10:35:37.241Z"
   },
   {
    "duration": 29,
    "start_time": "2023-02-11T10:36:04.022Z"
   },
   {
    "duration": 16,
    "start_time": "2023-02-11T10:36:37.257Z"
   },
   {
    "duration": 8,
    "start_time": "2023-02-11T10:37:40.675Z"
   },
   {
    "duration": 11,
    "start_time": "2023-02-11T10:38:15.570Z"
   },
   {
    "duration": 209,
    "start_time": "2023-02-11T10:45:47.775Z"
   },
   {
    "duration": 922,
    "start_time": "2023-02-11T10:47:33.665Z"
   },
   {
    "duration": 23,
    "start_time": "2023-02-11T10:47:34.590Z"
   },
   {
    "duration": 26,
    "start_time": "2023-02-11T10:47:34.615Z"
   },
   {
    "duration": 4,
    "start_time": "2023-02-11T10:47:34.642Z"
   },
   {
    "duration": 10,
    "start_time": "2023-02-11T10:47:34.648Z"
   },
   {
    "duration": 9,
    "start_time": "2023-02-11T10:47:34.659Z"
   },
   {
    "duration": 9,
    "start_time": "2023-02-11T10:47:34.670Z"
   },
   {
    "duration": 282,
    "start_time": "2023-02-11T10:47:34.694Z"
   },
   {
    "duration": 0,
    "start_time": "2023-02-11T10:47:34.977Z"
   },
   {
    "duration": 0,
    "start_time": "2023-02-11T10:47:34.978Z"
   },
   {
    "duration": 0,
    "start_time": "2023-02-11T10:47:34.979Z"
   },
   {
    "duration": 0,
    "start_time": "2023-02-11T10:47:34.981Z"
   },
   {
    "duration": 0,
    "start_time": "2023-02-11T10:47:34.982Z"
   },
   {
    "duration": 53,
    "start_time": "2023-02-11T10:48:15.892Z"
   },
   {
    "duration": 55,
    "start_time": "2023-02-11T10:48:32.735Z"
   },
   {
    "duration": 54,
    "start_time": "2023-02-11T10:48:43.440Z"
   },
   {
    "duration": 55,
    "start_time": "2023-02-11T10:48:58.515Z"
   },
   {
    "duration": 60,
    "start_time": "2023-02-11T10:50:00.724Z"
   },
   {
    "duration": 54,
    "start_time": "2023-02-11T10:50:09.633Z"
   },
   {
    "duration": 61,
    "start_time": "2023-02-11T10:50:21.858Z"
   },
   {
    "duration": 67,
    "start_time": "2023-02-11T10:50:43.133Z"
   },
   {
    "duration": 216,
    "start_time": "2023-02-11T10:55:57.733Z"
   },
   {
    "duration": 225,
    "start_time": "2023-02-11T10:57:28.522Z"
   },
   {
    "duration": 73,
    "start_time": "2023-02-11T10:57:45.611Z"
   },
   {
    "duration": 71,
    "start_time": "2023-02-11T10:57:54.016Z"
   },
   {
    "duration": 5,
    "start_time": "2023-02-11T10:57:57.804Z"
   },
   {
    "duration": 25,
    "start_time": "2023-02-11T10:57:59.533Z"
   },
   {
    "duration": 856,
    "start_time": "2023-02-11T10:58:25.267Z"
   },
   {
    "duration": 24,
    "start_time": "2023-02-11T10:58:26.125Z"
   },
   {
    "duration": 22,
    "start_time": "2023-02-11T10:58:26.150Z"
   },
   {
    "duration": 19,
    "start_time": "2023-02-11T10:58:26.174Z"
   },
   {
    "duration": 28,
    "start_time": "2023-02-11T10:58:26.195Z"
   },
   {
    "duration": 19,
    "start_time": "2023-02-11T10:58:26.224Z"
   },
   {
    "duration": 8,
    "start_time": "2023-02-11T10:58:26.244Z"
   },
   {
    "duration": 58,
    "start_time": "2023-02-11T10:58:26.253Z"
   },
   {
    "duration": 6,
    "start_time": "2023-02-11T10:58:26.312Z"
   },
   {
    "duration": 111,
    "start_time": "2023-02-11T10:58:26.319Z"
   },
   {
    "duration": 0,
    "start_time": "2023-02-11T10:58:26.432Z"
   },
   {
    "duration": 0,
    "start_time": "2023-02-11T10:58:26.433Z"
   },
   {
    "duration": 0,
    "start_time": "2023-02-11T10:58:26.434Z"
   },
   {
    "duration": 22,
    "start_time": "2023-02-11T10:59:52.447Z"
   },
   {
    "duration": 21,
    "start_time": "2023-02-11T11:00:50.419Z"
   },
   {
    "duration": 65,
    "start_time": "2023-02-11T11:01:11.713Z"
   },
   {
    "duration": 171,
    "start_time": "2023-02-11T11:02:20.077Z"
   },
   {
    "duration": 115,
    "start_time": "2023-02-11T11:02:24.280Z"
   },
   {
    "duration": 7,
    "start_time": "2023-02-11T11:02:25.988Z"
   },
   {
    "duration": 849,
    "start_time": "2023-02-11T11:02:32.561Z"
   },
   {
    "duration": 24,
    "start_time": "2023-02-11T11:02:33.412Z"
   },
   {
    "duration": 22,
    "start_time": "2023-02-11T11:02:33.437Z"
   },
   {
    "duration": 4,
    "start_time": "2023-02-11T11:02:33.461Z"
   },
   {
    "duration": 9,
    "start_time": "2023-02-11T11:02:33.466Z"
   },
   {
    "duration": 10,
    "start_time": "2023-02-11T11:02:33.476Z"
   },
   {
    "duration": 11,
    "start_time": "2023-02-11T11:02:33.487Z"
   },
   {
    "duration": 60,
    "start_time": "2023-02-11T11:02:33.500Z"
   },
   {
    "duration": 5,
    "start_time": "2023-02-11T11:02:33.562Z"
   },
   {
    "duration": 175,
    "start_time": "2023-02-11T11:02:33.569Z"
   },
   {
    "duration": 127,
    "start_time": "2023-02-11T11:02:33.746Z"
   },
   {
    "duration": 6,
    "start_time": "2023-02-11T11:02:33.874Z"
   },
   {
    "duration": 8,
    "start_time": "2023-02-11T11:02:33.893Z"
   },
   {
    "duration": 6,
    "start_time": "2023-02-11T11:03:14.641Z"
   },
   {
    "duration": 9,
    "start_time": "2023-02-11T11:03:55.016Z"
   },
   {
    "duration": 62,
    "start_time": "2023-02-11T11:04:20.266Z"
   },
   {
    "duration": 8,
    "start_time": "2023-02-11T11:04:21.647Z"
   },
   {
    "duration": 844,
    "start_time": "2023-02-11T11:04:39.606Z"
   },
   {
    "duration": 23,
    "start_time": "2023-02-11T11:04:40.452Z"
   },
   {
    "duration": 20,
    "start_time": "2023-02-11T11:04:40.477Z"
   },
   {
    "duration": 5,
    "start_time": "2023-02-11T11:04:40.499Z"
   },
   {
    "duration": 10,
    "start_time": "2023-02-11T11:04:40.505Z"
   },
   {
    "duration": 9,
    "start_time": "2023-02-11T11:04:40.516Z"
   },
   {
    "duration": 8,
    "start_time": "2023-02-11T11:04:40.526Z"
   },
   {
    "duration": 54,
    "start_time": "2023-02-11T11:04:40.535Z"
   },
   {
    "duration": 6,
    "start_time": "2023-02-11T11:04:40.591Z"
   },
   {
    "duration": 7,
    "start_time": "2023-02-11T11:04:40.599Z"
   },
   {
    "duration": 177,
    "start_time": "2023-02-11T11:04:40.607Z"
   },
   {
    "duration": 140,
    "start_time": "2023-02-11T11:04:40.785Z"
   },
   {
    "duration": 6,
    "start_time": "2023-02-11T11:04:40.927Z"
   },
   {
    "duration": 7,
    "start_time": "2023-02-11T11:04:40.935Z"
   },
   {
    "duration": 6,
    "start_time": "2023-02-11T11:05:17.275Z"
   },
   {
    "duration": 6,
    "start_time": "2023-02-11T11:10:08.261Z"
   },
   {
    "duration": 102,
    "start_time": "2023-02-11T11:10:13.420Z"
   },
   {
    "duration": 397,
    "start_time": "2023-02-11T11:11:01.831Z"
   },
   {
    "duration": 1033,
    "start_time": "2023-02-11T11:11:06.717Z"
   },
   {
    "duration": 23,
    "start_time": "2023-02-11T11:11:07.752Z"
   },
   {
    "duration": 19,
    "start_time": "2023-02-11T11:11:07.776Z"
   },
   {
    "duration": 3,
    "start_time": "2023-02-11T11:11:07.797Z"
   },
   {
    "duration": 9,
    "start_time": "2023-02-11T11:11:07.802Z"
   },
   {
    "duration": 9,
    "start_time": "2023-02-11T11:11:07.813Z"
   },
   {
    "duration": 8,
    "start_time": "2023-02-11T11:11:07.824Z"
   },
   {
    "duration": 58,
    "start_time": "2023-02-11T11:11:07.834Z"
   },
   {
    "duration": 7,
    "start_time": "2023-02-11T11:11:07.893Z"
   },
   {
    "duration": 8,
    "start_time": "2023-02-11T11:11:07.902Z"
   },
   {
    "duration": 184,
    "start_time": "2023-02-11T11:11:07.912Z"
   },
   {
    "duration": 142,
    "start_time": "2023-02-11T11:11:08.097Z"
   },
   {
    "duration": 7,
    "start_time": "2023-02-11T11:11:08.241Z"
   },
   {
    "duration": 12,
    "start_time": "2023-02-11T11:11:08.251Z"
   },
   {
    "duration": 11,
    "start_time": "2023-02-11T11:11:08.265Z"
   },
   {
    "duration": 327,
    "start_time": "2023-02-11T11:11:08.278Z"
   },
   {
    "duration": 197,
    "start_time": "2023-02-11T11:12:10.334Z"
   },
   {
    "duration": 335,
    "start_time": "2023-02-11T11:12:59.055Z"
   },
   {
    "duration": 148,
    "start_time": "2023-02-11T11:14:09.649Z"
   },
   {
    "duration": 144,
    "start_time": "2023-02-11T11:14:27.341Z"
   },
   {
    "duration": 289,
    "start_time": "2023-02-11T11:15:01.607Z"
   },
   {
    "duration": 289,
    "start_time": "2023-02-11T11:15:18.679Z"
   },
   {
    "duration": 316,
    "start_time": "2023-02-11T11:15:43.580Z"
   },
   {
    "duration": 769,
    "start_time": "2023-02-11T11:16:49.746Z"
   },
   {
    "duration": 682,
    "start_time": "2023-02-11T11:17:42.660Z"
   },
   {
    "duration": 121,
    "start_time": "2023-02-11T11:17:49.945Z"
   },
   {
    "duration": 10,
    "start_time": "2023-02-11T11:18:43.089Z"
   },
   {
    "duration": 16,
    "start_time": "2023-02-11T11:19:31.590Z"
   },
   {
    "duration": 12,
    "start_time": "2023-02-11T11:20:17.416Z"
   },
   {
    "duration": 179,
    "start_time": "2023-02-11T11:20:32.084Z"
   },
   {
    "duration": 115,
    "start_time": "2023-02-11T11:20:52.205Z"
   },
   {
    "duration": 318,
    "start_time": "2023-02-11T11:21:01.559Z"
   },
   {
    "duration": 4,
    "start_time": "2023-02-11T12:03:19.993Z"
   },
   {
    "duration": 118,
    "start_time": "2023-02-11T12:07:03.600Z"
   },
   {
    "duration": 122,
    "start_time": "2023-02-11T12:07:15.594Z"
   },
   {
    "duration": 4,
    "start_time": "2023-02-11T12:08:01.668Z"
   },
   {
    "duration": 108,
    "start_time": "2023-02-11T12:10:25.820Z"
   },
   {
    "duration": 102,
    "start_time": "2023-02-11T12:12:01.274Z"
   },
   {
    "duration": 279,
    "start_time": "2023-02-11T12:12:34.017Z"
   },
   {
    "duration": 222,
    "start_time": "2023-02-11T12:13:03.396Z"
   },
   {
    "duration": 335,
    "start_time": "2023-02-11T12:16:03.016Z"
   },
   {
    "duration": 1005,
    "start_time": "2023-02-11T12:17:22.477Z"
   },
   {
    "duration": 1035,
    "start_time": "2023-02-11T12:20:28.754Z"
   },
   {
    "duration": 1018,
    "start_time": "2023-02-11T12:22:09.521Z"
   },
   {
    "duration": 340,
    "start_time": "2023-02-11T12:23:17.816Z"
   },
   {
    "duration": 358,
    "start_time": "2023-02-11T12:24:30.764Z"
   },
   {
    "duration": 366,
    "start_time": "2023-02-11T12:24:56.614Z"
   },
   {
    "duration": 13,
    "start_time": "2023-02-11T12:36:13.344Z"
   },
   {
    "duration": 673,
    "start_time": "2023-02-11T12:38:34.604Z"
   },
   {
    "duration": 656,
    "start_time": "2023-02-11T12:39:06.275Z"
   },
   {
    "duration": 12,
    "start_time": "2023-02-11T12:40:03.827Z"
   },
   {
    "duration": 676,
    "start_time": "2023-02-11T12:41:10.699Z"
   },
   {
    "duration": 678,
    "start_time": "2023-02-11T12:41:39.721Z"
   },
   {
    "duration": 690,
    "start_time": "2023-02-11T12:43:00.840Z"
   },
   {
    "duration": 35,
    "start_time": "2023-02-11T12:43:27.506Z"
   },
   {
    "duration": 686,
    "start_time": "2023-02-11T12:44:32.979Z"
   },
   {
    "duration": 654,
    "start_time": "2023-02-11T12:44:56.876Z"
   },
   {
    "duration": 13,
    "start_time": "2023-02-11T12:45:08.501Z"
   },
   {
    "duration": 4,
    "start_time": "2023-02-11T12:56:17.268Z"
   },
   {
    "duration": 7,
    "start_time": "2023-02-11T12:56:31.332Z"
   },
   {
    "duration": 26,
    "start_time": "2023-02-11T12:56:48.720Z"
   },
   {
    "duration": 162,
    "start_time": "2023-02-11T12:57:10.952Z"
   },
   {
    "duration": 109,
    "start_time": "2023-02-11T12:58:17.656Z"
   },
   {
    "duration": 7,
    "start_time": "2023-02-11T12:58:30.542Z"
   },
   {
    "duration": 7,
    "start_time": "2023-02-11T12:58:39.878Z"
   },
   {
    "duration": 6,
    "start_time": "2023-02-11T13:01:44.744Z"
   },
   {
    "duration": 7,
    "start_time": "2023-02-11T13:02:15.254Z"
   },
   {
    "duration": 1019,
    "start_time": "2023-02-11T13:02:25.037Z"
   },
   {
    "duration": 24,
    "start_time": "2023-02-11T13:02:26.058Z"
   },
   {
    "duration": 18,
    "start_time": "2023-02-11T13:02:26.083Z"
   },
   {
    "duration": 3,
    "start_time": "2023-02-11T13:02:26.102Z"
   },
   {
    "duration": 9,
    "start_time": "2023-02-11T13:02:26.108Z"
   },
   {
    "duration": 11,
    "start_time": "2023-02-11T13:02:26.118Z"
   },
   {
    "duration": 10,
    "start_time": "2023-02-11T13:02:26.130Z"
   },
   {
    "duration": 56,
    "start_time": "2023-02-11T13:02:26.141Z"
   },
   {
    "duration": 7,
    "start_time": "2023-02-11T13:02:26.198Z"
   },
   {
    "duration": 7,
    "start_time": "2023-02-11T13:02:26.206Z"
   },
   {
    "duration": 8,
    "start_time": "2023-02-11T13:02:26.214Z"
   },
   {
    "duration": 200,
    "start_time": "2023-02-11T13:02:26.223Z"
   },
   {
    "duration": 116,
    "start_time": "2023-02-11T13:02:26.425Z"
   },
   {
    "duration": 111,
    "start_time": "2023-02-11T13:02:26.544Z"
   },
   {
    "duration": 0,
    "start_time": "2023-02-11T13:02:26.656Z"
   },
   {
    "duration": 0,
    "start_time": "2023-02-11T13:02:26.658Z"
   },
   {
    "duration": 0,
    "start_time": "2023-02-11T13:02:26.658Z"
   },
   {
    "duration": 0,
    "start_time": "2023-02-11T13:02:26.660Z"
   },
   {
    "duration": 0,
    "start_time": "2023-02-11T13:02:26.661Z"
   },
   {
    "duration": 0,
    "start_time": "2023-02-11T13:02:26.662Z"
   },
   {
    "duration": 0,
    "start_time": "2023-02-11T13:02:26.663Z"
   },
   {
    "duration": 0,
    "start_time": "2023-02-11T13:02:26.664Z"
   },
   {
    "duration": 0,
    "start_time": "2023-02-11T13:02:26.665Z"
   },
   {
    "duration": 0,
    "start_time": "2023-02-11T13:02:26.666Z"
   },
   {
    "duration": 0,
    "start_time": "2023-02-11T13:02:26.666Z"
   },
   {
    "duration": 0,
    "start_time": "2023-02-11T13:02:26.667Z"
   },
   {
    "duration": 0,
    "start_time": "2023-02-11T13:02:26.693Z"
   },
   {
    "duration": 0,
    "start_time": "2023-02-11T13:02:26.695Z"
   },
   {
    "duration": 0,
    "start_time": "2023-02-11T13:02:26.696Z"
   },
   {
    "duration": 7,
    "start_time": "2023-02-11T13:03:14.672Z"
   },
   {
    "duration": 6,
    "start_time": "2023-02-11T13:03:18.433Z"
   },
   {
    "duration": 6,
    "start_time": "2023-02-11T13:03:21.696Z"
   },
   {
    "duration": 12,
    "start_time": "2023-02-11T13:03:23.339Z"
   },
   {
    "duration": 230,
    "start_time": "2023-02-11T13:04:09.843Z"
   },
   {
    "duration": 11,
    "start_time": "2023-02-11T13:08:13.110Z"
   },
   {
    "duration": 175,
    "start_time": "2023-02-11T13:09:32.844Z"
   },
   {
    "duration": 175,
    "start_time": "2023-02-11T13:12:04.439Z"
   },
   {
    "duration": 159,
    "start_time": "2023-02-11T13:12:11.479Z"
   },
   {
    "duration": 177,
    "start_time": "2023-02-11T13:12:15.289Z"
   },
   {
    "duration": 1159,
    "start_time": "2023-02-11T13:12:23.288Z"
   },
   {
    "duration": 24,
    "start_time": "2023-02-11T13:12:24.448Z"
   },
   {
    "duration": 18,
    "start_time": "2023-02-11T13:12:24.473Z"
   },
   {
    "duration": 2,
    "start_time": "2023-02-11T13:12:24.493Z"
   },
   {
    "duration": 8,
    "start_time": "2023-02-11T13:12:24.497Z"
   },
   {
    "duration": 10,
    "start_time": "2023-02-11T13:12:24.507Z"
   },
   {
    "duration": 8,
    "start_time": "2023-02-11T13:12:24.518Z"
   },
   {
    "duration": 53,
    "start_time": "2023-02-11T13:12:24.527Z"
   },
   {
    "duration": 7,
    "start_time": "2023-02-11T13:12:24.581Z"
   },
   {
    "duration": 5,
    "start_time": "2023-02-11T13:12:24.590Z"
   },
   {
    "duration": 9,
    "start_time": "2023-02-11T13:12:24.596Z"
   },
   {
    "duration": 187,
    "start_time": "2023-02-11T13:12:24.606Z"
   },
   {
    "duration": 120,
    "start_time": "2023-02-11T13:12:24.795Z"
   },
   {
    "duration": 7,
    "start_time": "2023-02-11T13:12:24.918Z"
   },
   {
    "duration": 9,
    "start_time": "2023-02-11T13:12:24.927Z"
   },
   {
    "duration": 7,
    "start_time": "2023-02-11T13:12:24.937Z"
   },
   {
    "duration": 268,
    "start_time": "2023-02-11T13:12:24.946Z"
   },
   {
    "duration": 178,
    "start_time": "2023-02-11T13:12:25.216Z"
   },
   {
    "duration": 105,
    "start_time": "2023-02-11T13:12:25.396Z"
   },
   {
    "duration": 0,
    "start_time": "2023-02-11T13:12:25.502Z"
   },
   {
    "duration": 0,
    "start_time": "2023-02-11T13:12:25.504Z"
   },
   {
    "duration": 0,
    "start_time": "2023-02-11T13:12:25.505Z"
   },
   {
    "duration": 0,
    "start_time": "2023-02-11T13:12:25.506Z"
   },
   {
    "duration": 0,
    "start_time": "2023-02-11T13:12:25.507Z"
   },
   {
    "duration": 0,
    "start_time": "2023-02-11T13:12:25.508Z"
   },
   {
    "duration": 0,
    "start_time": "2023-02-11T13:12:25.509Z"
   },
   {
    "duration": 0,
    "start_time": "2023-02-11T13:12:25.510Z"
   },
   {
    "duration": 0,
    "start_time": "2023-02-11T13:12:25.511Z"
   },
   {
    "duration": 0,
    "start_time": "2023-02-11T13:12:25.512Z"
   },
   {
    "duration": 11,
    "start_time": "2023-02-11T13:13:46.609Z"
   },
   {
    "duration": 323,
    "start_time": "2023-02-11T13:14:22.996Z"
   },
   {
    "duration": 318,
    "start_time": "2023-02-11T13:14:29.666Z"
   },
   {
    "duration": 12,
    "start_time": "2023-02-11T13:18:11.469Z"
   },
   {
    "duration": 155,
    "start_time": "2023-02-11T13:19:10.310Z"
   },
   {
    "duration": 8,
    "start_time": "2023-02-11T13:20:13.980Z"
   },
   {
    "duration": 11,
    "start_time": "2023-02-11T13:20:21.011Z"
   },
   {
    "duration": 6,
    "start_time": "2023-02-11T13:20:24.715Z"
   },
   {
    "duration": 175,
    "start_time": "2023-02-11T13:20:34.358Z"
   },
   {
    "duration": 197,
    "start_time": "2023-02-11T13:21:13.248Z"
   },
   {
    "duration": 175,
    "start_time": "2023-02-11T13:21:22.816Z"
   },
   {
    "duration": 167,
    "start_time": "2023-02-11T13:30:54.368Z"
   },
   {
    "duration": 267,
    "start_time": "2023-02-11T13:36:10.980Z"
   },
   {
    "duration": 745,
    "start_time": "2023-02-11T13:39:46.867Z"
   },
   {
    "duration": 4250,
    "start_time": "2023-02-11T13:40:09.271Z"
   },
   {
    "duration": 172,
    "start_time": "2023-02-11T13:40:59.270Z"
   },
   {
    "duration": 198,
    "start_time": "2023-02-11T13:45:17.653Z"
   },
   {
    "duration": 157,
    "start_time": "2023-02-11T13:45:26.864Z"
   },
   {
    "duration": 152,
    "start_time": "2023-02-11T13:45:45.724Z"
   },
   {
    "duration": 133,
    "start_time": "2023-02-11T13:48:33.731Z"
   },
   {
    "duration": 134,
    "start_time": "2023-02-11T13:49:10.547Z"
   },
   {
    "duration": 158,
    "start_time": "2023-02-11T13:57:15.850Z"
   },
   {
    "duration": 176,
    "start_time": "2023-02-11T13:57:25.062Z"
   },
   {
    "duration": 184,
    "start_time": "2023-02-11T13:59:08.503Z"
   },
   {
    "duration": 162,
    "start_time": "2023-02-11T13:59:13.649Z"
   },
   {
    "duration": 246,
    "start_time": "2023-02-11T13:59:26.482Z"
   },
   {
    "duration": 685,
    "start_time": "2023-02-11T13:59:52.249Z"
   },
   {
    "duration": 12,
    "start_time": "2023-02-11T14:00:29.252Z"
   },
   {
    "duration": 9,
    "start_time": "2023-02-11T14:01:12.070Z"
   },
   {
    "duration": 219,
    "start_time": "2023-02-11T14:01:20.840Z"
   },
   {
    "duration": 222,
    "start_time": "2023-02-11T14:01:35.945Z"
   },
   {
    "duration": 276,
    "start_time": "2023-02-11T14:02:17.709Z"
   },
   {
    "duration": 262,
    "start_time": "2023-02-11T14:09:00.126Z"
   },
   {
    "duration": 317,
    "start_time": "2023-02-11T14:09:12.760Z"
   },
   {
    "duration": 267,
    "start_time": "2023-02-11T14:10:01.510Z"
   },
   {
    "duration": 12,
    "start_time": "2023-02-11T14:14:07.430Z"
   },
   {
    "duration": 9,
    "start_time": "2023-02-11T14:14:45.304Z"
   },
   {
    "duration": 108,
    "start_time": "2023-02-11T14:15:46.886Z"
   },
   {
    "duration": 13,
    "start_time": "2023-02-11T14:17:22.096Z"
   },
   {
    "duration": 107,
    "start_time": "2023-02-11T14:17:33.020Z"
   },
   {
    "duration": 118,
    "start_time": "2023-02-11T14:17:57.140Z"
   },
   {
    "duration": 111,
    "start_time": "2023-02-11T14:19:52.431Z"
   },
   {
    "duration": 13,
    "start_time": "2023-02-11T14:19:58.461Z"
   },
   {
    "duration": 116,
    "start_time": "2023-02-11T14:20:48.879Z"
   },
   {
    "duration": 721,
    "start_time": "2023-02-11T14:21:44.076Z"
   },
   {
    "duration": 109,
    "start_time": "2023-02-11T14:21:55.045Z"
   },
   {
    "duration": 185,
    "start_time": "2023-02-11T14:22:10.655Z"
   },
   {
    "duration": 111,
    "start_time": "2023-02-11T14:22:30.550Z"
   },
   {
    "duration": 126,
    "start_time": "2023-02-11T14:23:15.193Z"
   },
   {
    "duration": 129,
    "start_time": "2023-02-11T14:23:24.615Z"
   },
   {
    "duration": 7,
    "start_time": "2023-02-11T14:24:06.736Z"
   },
   {
    "duration": 1085,
    "start_time": "2023-02-11T14:24:12.301Z"
   },
   {
    "duration": 24,
    "start_time": "2023-02-11T14:24:13.389Z"
   },
   {
    "duration": 20,
    "start_time": "2023-02-11T14:24:13.414Z"
   },
   {
    "duration": 4,
    "start_time": "2023-02-11T14:24:13.435Z"
   },
   {
    "duration": 9,
    "start_time": "2023-02-11T14:24:13.440Z"
   },
   {
    "duration": 11,
    "start_time": "2023-02-11T14:24:13.451Z"
   },
   {
    "duration": 8,
    "start_time": "2023-02-11T14:24:13.463Z"
   },
   {
    "duration": 66,
    "start_time": "2023-02-11T14:24:13.473Z"
   },
   {
    "duration": 7,
    "start_time": "2023-02-11T14:24:13.541Z"
   },
   {
    "duration": 7,
    "start_time": "2023-02-11T14:24:13.550Z"
   },
   {
    "duration": 7,
    "start_time": "2023-02-11T14:24:13.558Z"
   },
   {
    "duration": 202,
    "start_time": "2023-02-11T14:24:13.567Z"
   },
   {
    "duration": 108,
    "start_time": "2023-02-11T14:24:13.771Z"
   },
   {
    "duration": 13,
    "start_time": "2023-02-11T14:24:13.881Z"
   },
   {
    "duration": 10,
    "start_time": "2023-02-11T14:24:13.895Z"
   },
   {
    "duration": 8,
    "start_time": "2023-02-11T14:24:13.906Z"
   },
   {
    "duration": 319,
    "start_time": "2023-02-11T14:24:13.916Z"
   },
   {
    "duration": 183,
    "start_time": "2023-02-11T14:24:14.237Z"
   },
   {
    "duration": 245,
    "start_time": "2023-02-11T14:24:14.421Z"
   },
   {
    "duration": 161,
    "start_time": "2023-02-11T14:24:14.667Z"
   },
   {
    "duration": 250,
    "start_time": "2023-02-11T14:24:14.829Z"
   },
   {
    "duration": 121,
    "start_time": "2023-02-11T14:24:15.081Z"
   },
   {
    "duration": 101,
    "start_time": "2023-02-11T14:24:15.203Z"
   },
   {
    "duration": 0,
    "start_time": "2023-02-11T14:24:15.305Z"
   },
   {
    "duration": 0,
    "start_time": "2023-02-11T14:24:15.306Z"
   },
   {
    "duration": 0,
    "start_time": "2023-02-11T14:24:15.307Z"
   },
   {
    "duration": 0,
    "start_time": "2023-02-11T14:24:15.308Z"
   },
   {
    "duration": 0,
    "start_time": "2023-02-11T14:24:15.309Z"
   },
   {
    "duration": 0,
    "start_time": "2023-02-11T14:24:15.310Z"
   },
   {
    "duration": 121,
    "start_time": "2023-02-11T14:26:20.503Z"
   },
   {
    "duration": 131,
    "start_time": "2023-02-11T14:26:30.253Z"
   },
   {
    "duration": 125,
    "start_time": "2023-02-11T14:27:38.775Z"
   },
   {
    "duration": 181,
    "start_time": "2023-02-11T14:27:49.366Z"
   },
   {
    "duration": 110,
    "start_time": "2023-02-11T14:27:59.496Z"
   },
   {
    "duration": 8,
    "start_time": "2023-02-11T14:28:13.306Z"
   },
   {
    "duration": 4,
    "start_time": "2023-02-11T14:28:24.716Z"
   },
   {
    "duration": 142,
    "start_time": "2023-02-11T14:29:03.998Z"
   },
   {
    "duration": 128,
    "start_time": "2023-02-11T14:29:14.547Z"
   },
   {
    "duration": 9,
    "start_time": "2023-02-11T14:30:37.267Z"
   },
   {
    "duration": 1057,
    "start_time": "2023-02-11T14:30:43.052Z"
   },
   {
    "duration": 25,
    "start_time": "2023-02-11T14:30:44.112Z"
   },
   {
    "duration": 25,
    "start_time": "2023-02-11T14:30:44.140Z"
   },
   {
    "duration": 16,
    "start_time": "2023-02-11T14:30:44.168Z"
   },
   {
    "duration": 13,
    "start_time": "2023-02-11T14:30:44.186Z"
   },
   {
    "duration": 25,
    "start_time": "2023-02-11T14:30:44.201Z"
   },
   {
    "duration": 17,
    "start_time": "2023-02-11T14:30:44.228Z"
   },
   {
    "duration": 59,
    "start_time": "2023-02-11T14:30:44.247Z"
   },
   {
    "duration": 6,
    "start_time": "2023-02-11T14:30:44.308Z"
   },
   {
    "duration": 7,
    "start_time": "2023-02-11T14:30:44.317Z"
   },
   {
    "duration": 6,
    "start_time": "2023-02-11T14:30:44.326Z"
   },
   {
    "duration": 180,
    "start_time": "2023-02-11T14:30:44.333Z"
   },
   {
    "duration": 118,
    "start_time": "2023-02-11T14:30:44.515Z"
   },
   {
    "duration": 7,
    "start_time": "2023-02-11T14:30:44.635Z"
   },
   {
    "duration": 9,
    "start_time": "2023-02-11T14:30:44.643Z"
   },
   {
    "duration": 10,
    "start_time": "2023-02-11T14:30:44.653Z"
   },
   {
    "duration": 251,
    "start_time": "2023-02-11T14:30:44.665Z"
   },
   {
    "duration": 168,
    "start_time": "2023-02-11T14:30:44.918Z"
   },
   {
    "duration": 296,
    "start_time": "2023-02-11T14:30:45.087Z"
   },
   {
    "duration": 151,
    "start_time": "2023-02-11T14:30:45.393Z"
   },
   {
    "duration": 256,
    "start_time": "2023-02-11T14:30:45.546Z"
   },
   {
    "duration": 122,
    "start_time": "2023-02-11T14:30:45.804Z"
   },
   {
    "duration": 4,
    "start_time": "2023-02-11T14:30:45.928Z"
   },
   {
    "duration": 126,
    "start_time": "2023-02-11T14:30:45.934Z"
   },
   {
    "duration": 4,
    "start_time": "2023-02-11T14:30:46.062Z"
   },
   {
    "duration": 210,
    "start_time": "2023-02-11T14:30:46.068Z"
   },
   {
    "duration": 0,
    "start_time": "2023-02-11T14:30:46.280Z"
   },
   {
    "duration": 0,
    "start_time": "2023-02-11T14:30:46.281Z"
   },
   {
    "duration": 0,
    "start_time": "2023-02-11T14:30:46.283Z"
   },
   {
    "duration": 164,
    "start_time": "2023-02-11T14:31:53.953Z"
   },
   {
    "duration": 11,
    "start_time": "2023-02-11T14:32:32.498Z"
   },
   {
    "duration": 16,
    "start_time": "2023-02-11T14:32:43.852Z"
   },
   {
    "duration": 16,
    "start_time": "2023-02-11T14:32:51.769Z"
   },
   {
    "duration": 1072,
    "start_time": "2023-02-11T14:33:06.115Z"
   },
   {
    "duration": 23,
    "start_time": "2023-02-11T14:33:07.189Z"
   },
   {
    "duration": 18,
    "start_time": "2023-02-11T14:33:07.214Z"
   },
   {
    "duration": 3,
    "start_time": "2023-02-11T14:33:07.235Z"
   },
   {
    "duration": 10,
    "start_time": "2023-02-11T14:33:07.239Z"
   },
   {
    "duration": 10,
    "start_time": "2023-02-11T14:33:07.251Z"
   },
   {
    "duration": 11,
    "start_time": "2023-02-11T14:33:07.263Z"
   },
   {
    "duration": 58,
    "start_time": "2023-02-11T14:33:07.275Z"
   },
   {
    "duration": 8,
    "start_time": "2023-02-11T14:33:07.334Z"
   },
   {
    "duration": 11,
    "start_time": "2023-02-11T14:33:07.344Z"
   },
   {
    "duration": 9,
    "start_time": "2023-02-11T14:33:07.357Z"
   },
   {
    "duration": 190,
    "start_time": "2023-02-11T14:33:07.367Z"
   },
   {
    "duration": 119,
    "start_time": "2023-02-11T14:33:07.559Z"
   },
   {
    "duration": 13,
    "start_time": "2023-02-11T14:33:07.680Z"
   },
   {
    "duration": 37,
    "start_time": "2023-02-11T14:33:07.695Z"
   },
   {
    "duration": 10,
    "start_time": "2023-02-11T14:33:07.734Z"
   },
   {
    "duration": 266,
    "start_time": "2023-02-11T14:33:07.746Z"
   },
   {
    "duration": 214,
    "start_time": "2023-02-11T14:33:08.014Z"
   },
   {
    "duration": 298,
    "start_time": "2023-02-11T14:33:08.230Z"
   },
   {
    "duration": 192,
    "start_time": "2023-02-11T14:33:08.531Z"
   },
   {
    "duration": 261,
    "start_time": "2023-02-11T14:33:08.724Z"
   },
   {
    "duration": 117,
    "start_time": "2023-02-11T14:33:08.993Z"
   },
   {
    "duration": 0,
    "start_time": "2023-02-11T14:33:09.111Z"
   },
   {
    "duration": 0,
    "start_time": "2023-02-11T14:33:09.112Z"
   },
   {
    "duration": 0,
    "start_time": "2023-02-11T14:33:09.113Z"
   },
   {
    "duration": 0,
    "start_time": "2023-02-11T14:33:09.115Z"
   },
   {
    "duration": 0,
    "start_time": "2023-02-11T14:33:09.115Z"
   },
   {
    "duration": 0,
    "start_time": "2023-02-11T14:33:09.117Z"
   },
   {
    "duration": 0,
    "start_time": "2023-02-11T14:33:09.118Z"
   },
   {
    "duration": 3,
    "start_time": "2023-02-11T14:33:17.291Z"
   },
   {
    "duration": 19,
    "start_time": "2023-02-11T14:33:40.445Z"
   },
   {
    "duration": 26,
    "start_time": "2023-02-11T14:33:55.589Z"
   },
   {
    "duration": 23,
    "start_time": "2023-02-11T14:34:41.394Z"
   },
   {
    "duration": 3,
    "start_time": "2023-02-11T14:35:06.753Z"
   },
   {
    "duration": 4,
    "start_time": "2023-02-11T14:35:22.835Z"
   },
   {
    "duration": 22,
    "start_time": "2023-02-11T14:35:52.901Z"
   },
   {
    "duration": 115,
    "start_time": "2023-02-11T14:36:36.425Z"
   },
   {
    "duration": 18,
    "start_time": "2023-02-11T14:39:15.370Z"
   },
   {
    "duration": 15,
    "start_time": "2023-02-11T14:40:42.423Z"
   },
   {
    "duration": 13,
    "start_time": "2023-02-11T14:40:55.143Z"
   },
   {
    "duration": 10,
    "start_time": "2023-02-11T14:41:20.944Z"
   },
   {
    "duration": 692,
    "start_time": "2023-02-11T14:41:45.563Z"
   },
   {
    "duration": 119,
    "start_time": "2023-02-11T14:41:57.319Z"
   },
   {
    "duration": 4,
    "start_time": "2023-02-11T14:42:44.462Z"
   },
   {
    "duration": 197,
    "start_time": "2023-02-11T14:43:58.541Z"
   },
   {
    "duration": 85,
    "start_time": "2023-02-11T14:44:43.236Z"
   },
   {
    "duration": 87,
    "start_time": "2023-02-11T14:44:59.236Z"
   },
   {
    "duration": 211,
    "start_time": "2023-02-11T14:45:21.553Z"
   },
   {
    "duration": 185,
    "start_time": "2023-02-11T14:45:26.179Z"
   },
   {
    "duration": 154,
    "start_time": "2023-02-11T14:45:32.593Z"
   },
   {
    "duration": 7,
    "start_time": "2023-02-11T14:45:55.504Z"
   },
   {
    "duration": 145,
    "start_time": "2023-02-11T14:47:20.381Z"
   },
   {
    "duration": 133,
    "start_time": "2023-02-11T14:47:30.207Z"
   },
   {
    "duration": 136,
    "start_time": "2023-02-11T14:47:41.524Z"
   },
   {
    "duration": 170,
    "start_time": "2023-02-11T14:52:22.036Z"
   },
   {
    "duration": 144,
    "start_time": "2023-02-11T14:52:37.622Z"
   },
   {
    "duration": 119,
    "start_time": "2023-02-11T14:52:57.011Z"
   },
   {
    "duration": 231,
    "start_time": "2023-02-11T15:12:39.138Z"
   },
   {
    "duration": 230,
    "start_time": "2023-02-11T15:13:30.856Z"
   },
   {
    "duration": 454,
    "start_time": "2023-02-11T15:17:36.016Z"
   },
   {
    "duration": 363,
    "start_time": "2023-02-11T15:18:28.113Z"
   },
   {
    "duration": 351,
    "start_time": "2023-02-11T15:18:37.423Z"
   },
   {
    "duration": 13,
    "start_time": "2023-02-11T15:19:32.028Z"
   },
   {
    "duration": 13,
    "start_time": "2023-02-11T15:21:25.508Z"
   },
   {
    "duration": 1127,
    "start_time": "2023-02-11T15:21:32.026Z"
   },
   {
    "duration": 25,
    "start_time": "2023-02-11T15:21:33.155Z"
   },
   {
    "duration": 22,
    "start_time": "2023-02-11T15:21:33.181Z"
   },
   {
    "duration": 18,
    "start_time": "2023-02-11T15:21:33.204Z"
   },
   {
    "duration": 12,
    "start_time": "2023-02-11T15:21:33.224Z"
   },
   {
    "duration": 10,
    "start_time": "2023-02-11T15:21:33.237Z"
   },
   {
    "duration": 10,
    "start_time": "2023-02-11T15:21:33.249Z"
   },
   {
    "duration": 66,
    "start_time": "2023-02-11T15:21:33.261Z"
   },
   {
    "duration": 6,
    "start_time": "2023-02-11T15:21:33.329Z"
   },
   {
    "duration": 8,
    "start_time": "2023-02-11T15:21:33.337Z"
   },
   {
    "duration": 9,
    "start_time": "2023-02-11T15:21:33.346Z"
   },
   {
    "duration": 185,
    "start_time": "2023-02-11T15:21:33.357Z"
   },
   {
    "duration": 118,
    "start_time": "2023-02-11T15:21:33.545Z"
   },
   {
    "duration": 6,
    "start_time": "2023-02-11T15:21:33.666Z"
   },
   {
    "duration": 20,
    "start_time": "2023-02-11T15:21:33.673Z"
   },
   {
    "duration": 8,
    "start_time": "2023-02-11T15:21:33.700Z"
   },
   {
    "duration": 301,
    "start_time": "2023-02-11T15:21:33.709Z"
   },
   {
    "duration": 238,
    "start_time": "2023-02-11T15:21:34.011Z"
   },
   {
    "duration": 320,
    "start_time": "2023-02-11T15:21:34.251Z"
   },
   {
    "duration": 165,
    "start_time": "2023-02-11T15:21:34.572Z"
   },
   {
    "duration": 280,
    "start_time": "2023-02-11T15:21:34.739Z"
   },
   {
    "duration": 122,
    "start_time": "2023-02-11T15:21:35.020Z"
   },
   {
    "duration": 5,
    "start_time": "2023-02-11T15:21:35.143Z"
   },
   {
    "duration": 166,
    "start_time": "2023-02-11T15:21:35.150Z"
   },
   {
    "duration": 4,
    "start_time": "2023-02-11T15:21:35.320Z"
   },
   {
    "duration": 465,
    "start_time": "2023-02-11T15:21:35.326Z"
   },
   {
    "duration": 27,
    "start_time": "2023-02-11T15:21:35.793Z"
   },
   {
    "duration": 107,
    "start_time": "2023-02-11T15:21:35.822Z"
   },
   {
    "duration": 0,
    "start_time": "2023-02-11T15:21:35.931Z"
   },
   {
    "duration": 21,
    "start_time": "2023-02-11T15:26:37.606Z"
   },
   {
    "duration": 28,
    "start_time": "2023-02-11T15:27:15.636Z"
   },
   {
    "duration": 759,
    "start_time": "2023-02-11T15:29:19.512Z"
   },
   {
    "duration": 36,
    "start_time": "2023-02-11T15:30:04.801Z"
   },
   {
    "duration": 394,
    "start_time": "2023-02-11T15:34:05.934Z"
   },
   {
    "duration": 804,
    "start_time": "2023-02-11T15:38:38.516Z"
   },
   {
    "duration": 30,
    "start_time": "2023-02-11T15:39:48.278Z"
   },
   {
    "duration": 56,
    "start_time": "2023-02-11T15:45:55.639Z"
   },
   {
    "duration": 1091,
    "start_time": "2023-02-11T15:46:27.558Z"
   },
   {
    "duration": 23,
    "start_time": "2023-02-11T15:46:28.652Z"
   },
   {
    "duration": 26,
    "start_time": "2023-02-11T15:46:28.680Z"
   },
   {
    "duration": 15,
    "start_time": "2023-02-11T15:46:28.709Z"
   },
   {
    "duration": 12,
    "start_time": "2023-02-11T15:46:28.726Z"
   },
   {
    "duration": 10,
    "start_time": "2023-02-11T15:46:28.740Z"
   },
   {
    "duration": 8,
    "start_time": "2023-02-11T15:46:28.751Z"
   },
   {
    "duration": 59,
    "start_time": "2023-02-11T15:46:28.761Z"
   },
   {
    "duration": 6,
    "start_time": "2023-02-11T15:46:28.822Z"
   },
   {
    "duration": 5,
    "start_time": "2023-02-11T15:46:28.830Z"
   },
   {
    "duration": 10,
    "start_time": "2023-02-11T15:46:28.837Z"
   },
   {
    "duration": 192,
    "start_time": "2023-02-11T15:46:28.849Z"
   },
   {
    "duration": 125,
    "start_time": "2023-02-11T15:46:29.045Z"
   },
   {
    "duration": 7,
    "start_time": "2023-02-11T15:46:29.172Z"
   },
   {
    "duration": 15,
    "start_time": "2023-02-11T15:46:29.195Z"
   },
   {
    "duration": 13,
    "start_time": "2023-02-11T15:46:29.211Z"
   },
   {
    "duration": 253,
    "start_time": "2023-02-11T15:46:29.225Z"
   },
   {
    "duration": 174,
    "start_time": "2023-02-11T15:46:29.480Z"
   },
   {
    "duration": 302,
    "start_time": "2023-02-11T15:46:29.656Z"
   },
   {
    "duration": 179,
    "start_time": "2023-02-11T15:46:29.960Z"
   },
   {
    "duration": 258,
    "start_time": "2023-02-11T15:46:30.141Z"
   },
   {
    "duration": 143,
    "start_time": "2023-02-11T15:46:30.401Z"
   },
   {
    "duration": 5,
    "start_time": "2023-02-11T15:46:30.545Z"
   },
   {
    "duration": 152,
    "start_time": "2023-02-11T15:46:30.552Z"
   },
   {
    "duration": 8,
    "start_time": "2023-02-11T15:46:30.706Z"
   },
   {
    "duration": 409,
    "start_time": "2023-02-11T15:46:30.716Z"
   },
   {
    "duration": 12,
    "start_time": "2023-02-11T15:46:31.127Z"
   },
   {
    "duration": 59,
    "start_time": "2023-02-11T15:46:31.140Z"
   },
   {
    "duration": 37,
    "start_time": "2023-02-11T15:46:31.201Z"
   },
   {
    "duration": 1279,
    "start_time": "2023-02-12T09:15:37.041Z"
   },
   {
    "duration": 65,
    "start_time": "2023-02-12T09:15:38.322Z"
   },
   {
    "duration": 19,
    "start_time": "2023-02-12T09:15:38.389Z"
   },
   {
    "duration": 9,
    "start_time": "2023-02-12T09:15:38.410Z"
   },
   {
    "duration": 10,
    "start_time": "2023-02-12T09:15:38.421Z"
   },
   {
    "duration": 20,
    "start_time": "2023-02-12T09:15:38.433Z"
   },
   {
    "duration": 8,
    "start_time": "2023-02-12T09:15:38.454Z"
   },
   {
    "duration": 141,
    "start_time": "2023-02-12T09:15:38.464Z"
   },
   {
    "duration": 7,
    "start_time": "2023-02-12T09:15:38.606Z"
   },
   {
    "duration": 6,
    "start_time": "2023-02-12T09:15:38.615Z"
   },
   {
    "duration": 11,
    "start_time": "2023-02-12T09:15:38.622Z"
   },
   {
    "duration": 182,
    "start_time": "2023-02-12T09:15:38.635Z"
   },
   {
    "duration": 165,
    "start_time": "2023-02-12T09:15:38.819Z"
   },
   {
    "duration": 6,
    "start_time": "2023-02-12T09:15:38.987Z"
   },
   {
    "duration": 9,
    "start_time": "2023-02-12T09:15:38.995Z"
   },
   {
    "duration": 12,
    "start_time": "2023-02-12T09:15:39.006Z"
   },
   {
    "duration": 246,
    "start_time": "2023-02-12T09:15:39.019Z"
   },
   {
    "duration": 183,
    "start_time": "2023-02-12T09:15:39.267Z"
   },
   {
    "duration": 320,
    "start_time": "2023-02-12T09:15:39.454Z"
   },
   {
    "duration": 167,
    "start_time": "2023-02-12T09:15:39.775Z"
   },
   {
    "duration": 296,
    "start_time": "2023-02-12T09:15:39.943Z"
   },
   {
    "duration": 152,
    "start_time": "2023-02-12T09:15:40.241Z"
   },
   {
    "duration": 4,
    "start_time": "2023-02-12T09:15:40.395Z"
   },
   {
    "duration": 144,
    "start_time": "2023-02-12T09:15:40.400Z"
   },
   {
    "duration": 5,
    "start_time": "2023-02-12T09:15:40.552Z"
   },
   {
    "duration": 362,
    "start_time": "2023-02-12T09:15:40.559Z"
   },
   {
    "duration": 9,
    "start_time": "2023-02-12T09:15:40.923Z"
   },
   {
    "duration": 43,
    "start_time": "2023-02-12T09:15:40.933Z"
   },
   {
    "duration": 14,
    "start_time": "2023-02-12T09:15:40.978Z"
   },
   {
    "duration": 130,
    "start_time": "2023-02-12T09:54:19.948Z"
   },
   {
    "duration": 215,
    "start_time": "2023-02-12T09:54:54.956Z"
   },
   {
    "duration": 110,
    "start_time": "2023-02-12T09:55:08.596Z"
   },
   {
    "duration": 1078,
    "start_time": "2023-02-12T09:55:25.757Z"
   },
   {
    "duration": 23,
    "start_time": "2023-02-12T09:55:26.837Z"
   },
   {
    "duration": 18,
    "start_time": "2023-02-12T09:55:26.861Z"
   },
   {
    "duration": 6,
    "start_time": "2023-02-12T09:55:26.881Z"
   },
   {
    "duration": 14,
    "start_time": "2023-02-12T09:55:26.889Z"
   },
   {
    "duration": 10,
    "start_time": "2023-02-12T09:55:26.905Z"
   },
   {
    "duration": 17,
    "start_time": "2023-02-12T09:55:26.917Z"
   },
   {
    "duration": 56,
    "start_time": "2023-02-12T09:55:26.935Z"
   },
   {
    "duration": 7,
    "start_time": "2023-02-12T09:55:26.993Z"
   },
   {
    "duration": 4,
    "start_time": "2023-02-12T09:55:27.002Z"
   },
   {
    "duration": 7,
    "start_time": "2023-02-12T09:55:27.008Z"
   },
   {
    "duration": 176,
    "start_time": "2023-02-12T09:55:27.017Z"
   },
   {
    "duration": 131,
    "start_time": "2023-02-12T09:55:27.195Z"
   },
   {
    "duration": 8,
    "start_time": "2023-02-12T09:55:27.328Z"
   },
   {
    "duration": 7,
    "start_time": "2023-02-12T09:55:27.354Z"
   },
   {
    "duration": 8,
    "start_time": "2023-02-12T09:55:27.363Z"
   },
   {
    "duration": 330,
    "start_time": "2023-02-12T09:55:27.373Z"
   },
   {
    "duration": 185,
    "start_time": "2023-02-12T09:55:27.705Z"
   },
   {
    "duration": 244,
    "start_time": "2023-02-12T09:55:27.892Z"
   },
   {
    "duration": 163,
    "start_time": "2023-02-12T09:55:28.138Z"
   },
   {
    "duration": 262,
    "start_time": "2023-02-12T09:55:28.302Z"
   },
   {
    "duration": 120,
    "start_time": "2023-02-12T09:55:28.565Z"
   },
   {
    "duration": 4,
    "start_time": "2023-02-12T09:55:28.686Z"
   },
   {
    "duration": 142,
    "start_time": "2023-02-12T09:55:28.692Z"
   },
   {
    "duration": 5,
    "start_time": "2023-02-12T09:55:28.836Z"
   },
   {
    "duration": 370,
    "start_time": "2023-02-12T09:55:28.853Z"
   },
   {
    "duration": 10,
    "start_time": "2023-02-12T09:55:29.224Z"
   },
   {
    "duration": 43,
    "start_time": "2023-02-12T09:55:29.236Z"
   },
   {
    "duration": 14,
    "start_time": "2023-02-12T09:55:29.281Z"
   },
   {
    "duration": 1054,
    "start_time": "2023-02-12T09:56:18.155Z"
   },
   {
    "duration": 24,
    "start_time": "2023-02-12T09:56:19.211Z"
   },
   {
    "duration": 19,
    "start_time": "2023-02-12T09:56:19.237Z"
   },
   {
    "duration": 9,
    "start_time": "2023-02-12T09:56:19.258Z"
   },
   {
    "duration": 20,
    "start_time": "2023-02-12T09:56:19.268Z"
   },
   {
    "duration": 12,
    "start_time": "2023-02-12T09:56:19.289Z"
   },
   {
    "duration": 7,
    "start_time": "2023-02-12T09:56:19.302Z"
   },
   {
    "duration": 61,
    "start_time": "2023-02-12T09:56:19.310Z"
   },
   {
    "duration": 7,
    "start_time": "2023-02-12T09:56:19.372Z"
   },
   {
    "duration": 14,
    "start_time": "2023-02-12T09:56:19.381Z"
   },
   {
    "duration": 12,
    "start_time": "2023-02-12T09:56:19.397Z"
   },
   {
    "duration": 217,
    "start_time": "2023-02-12T09:56:19.410Z"
   },
   {
    "duration": 130,
    "start_time": "2023-02-12T09:56:19.629Z"
   },
   {
    "duration": 10,
    "start_time": "2023-02-12T09:56:19.761Z"
   },
   {
    "duration": 20,
    "start_time": "2023-02-12T09:56:19.773Z"
   },
   {
    "duration": 13,
    "start_time": "2023-02-12T09:56:19.795Z"
   },
   {
    "duration": 246,
    "start_time": "2023-02-12T09:56:19.810Z"
   },
   {
    "duration": 176,
    "start_time": "2023-02-12T09:56:20.058Z"
   },
   {
    "duration": 303,
    "start_time": "2023-02-12T09:56:20.235Z"
   },
   {
    "duration": 156,
    "start_time": "2023-02-12T09:56:20.540Z"
   },
   {
    "duration": 241,
    "start_time": "2023-02-12T09:56:20.698Z"
   },
   {
    "duration": 127,
    "start_time": "2023-02-12T09:56:20.940Z"
   },
   {
    "duration": 5,
    "start_time": "2023-02-12T09:56:21.068Z"
   },
   {
    "duration": 139,
    "start_time": "2023-02-12T09:56:21.074Z"
   },
   {
    "duration": 4,
    "start_time": "2023-02-12T09:56:21.215Z"
   },
   {
    "duration": 421,
    "start_time": "2023-02-12T09:56:21.221Z"
   },
   {
    "duration": 17,
    "start_time": "2023-02-12T09:56:21.644Z"
   },
   {
    "duration": 39,
    "start_time": "2023-02-12T09:56:21.664Z"
   },
   {
    "duration": 13,
    "start_time": "2023-02-12T09:56:21.704Z"
   },
   {
    "duration": 118,
    "start_time": "2023-02-12T10:01:05.529Z"
   },
   {
    "duration": 1110,
    "start_time": "2023-02-12T10:01:13.519Z"
   },
   {
    "duration": 25,
    "start_time": "2023-02-12T10:01:14.631Z"
   },
   {
    "duration": 19,
    "start_time": "2023-02-12T10:01:14.657Z"
   },
   {
    "duration": 3,
    "start_time": "2023-02-12T10:01:14.678Z"
   },
   {
    "duration": 9,
    "start_time": "2023-02-12T10:01:14.684Z"
   },
   {
    "duration": 10,
    "start_time": "2023-02-12T10:01:14.694Z"
   },
   {
    "duration": 9,
    "start_time": "2023-02-12T10:01:14.705Z"
   },
   {
    "duration": 61,
    "start_time": "2023-02-12T10:01:14.715Z"
   },
   {
    "duration": 7,
    "start_time": "2023-02-12T10:01:14.778Z"
   },
   {
    "duration": 7,
    "start_time": "2023-02-12T10:01:14.787Z"
   },
   {
    "duration": 8,
    "start_time": "2023-02-12T10:01:14.795Z"
   },
   {
    "duration": 180,
    "start_time": "2023-02-12T10:01:14.805Z"
   },
   {
    "duration": 138,
    "start_time": "2023-02-12T10:01:14.986Z"
   },
   {
    "duration": 7,
    "start_time": "2023-02-12T10:01:15.127Z"
   },
   {
    "duration": 21,
    "start_time": "2023-02-12T10:01:15.135Z"
   },
   {
    "duration": 18,
    "start_time": "2023-02-12T10:01:15.158Z"
   },
   {
    "duration": 277,
    "start_time": "2023-02-12T10:01:15.178Z"
   },
   {
    "duration": 200,
    "start_time": "2023-02-12T10:01:15.457Z"
   },
   {
    "duration": 298,
    "start_time": "2023-02-12T10:01:15.659Z"
   },
   {
    "duration": 176,
    "start_time": "2023-02-12T10:01:15.958Z"
   },
   {
    "duration": 279,
    "start_time": "2023-02-12T10:01:16.136Z"
   },
   {
    "duration": 139,
    "start_time": "2023-02-12T10:01:16.417Z"
   },
   {
    "duration": 133,
    "start_time": "2023-02-12T10:01:16.558Z"
   },
   {
    "duration": 5,
    "start_time": "2023-02-12T10:01:16.692Z"
   },
   {
    "duration": 127,
    "start_time": "2023-02-12T10:01:16.699Z"
   },
   {
    "duration": 4,
    "start_time": "2023-02-12T10:01:16.828Z"
   },
   {
    "duration": 382,
    "start_time": "2023-02-12T10:01:16.833Z"
   },
   {
    "duration": 10,
    "start_time": "2023-02-12T10:01:17.216Z"
   },
   {
    "duration": 48,
    "start_time": "2023-02-12T10:01:17.227Z"
   },
   {
    "duration": 14,
    "start_time": "2023-02-12T10:01:17.277Z"
   },
   {
    "duration": 1112,
    "start_time": "2023-02-12T10:03:24.867Z"
   },
   {
    "duration": 22,
    "start_time": "2023-02-12T10:03:25.981Z"
   },
   {
    "duration": 20,
    "start_time": "2023-02-12T10:03:26.005Z"
   },
   {
    "duration": 3,
    "start_time": "2023-02-12T10:03:26.026Z"
   },
   {
    "duration": 9,
    "start_time": "2023-02-12T10:03:26.032Z"
   },
   {
    "duration": 17,
    "start_time": "2023-02-12T10:03:26.043Z"
   },
   {
    "duration": 9,
    "start_time": "2023-02-12T10:03:26.062Z"
   },
   {
    "duration": 63,
    "start_time": "2023-02-12T10:03:26.072Z"
   },
   {
    "duration": 7,
    "start_time": "2023-02-12T10:03:26.136Z"
   },
   {
    "duration": 5,
    "start_time": "2023-02-12T10:03:26.144Z"
   },
   {
    "duration": 8,
    "start_time": "2023-02-12T10:03:26.150Z"
   },
   {
    "duration": 175,
    "start_time": "2023-02-12T10:03:26.160Z"
   },
   {
    "duration": 132,
    "start_time": "2023-02-12T10:03:26.337Z"
   },
   {
    "duration": 7,
    "start_time": "2023-02-12T10:03:26.471Z"
   },
   {
    "duration": 9,
    "start_time": "2023-02-12T10:03:26.479Z"
   },
   {
    "duration": 6,
    "start_time": "2023-02-12T10:03:26.490Z"
   },
   {
    "duration": 259,
    "start_time": "2023-02-12T10:03:26.498Z"
   },
   {
    "duration": 173,
    "start_time": "2023-02-12T10:03:26.758Z"
   },
   {
    "duration": 293,
    "start_time": "2023-02-12T10:03:26.932Z"
   },
   {
    "duration": 216,
    "start_time": "2023-02-12T10:03:27.226Z"
   },
   {
    "duration": 295,
    "start_time": "2023-02-12T10:03:27.445Z"
   },
   {
    "duration": 124,
    "start_time": "2023-02-12T10:03:27.742Z"
   },
   {
    "duration": 4,
    "start_time": "2023-02-12T10:03:27.868Z"
   },
   {
    "duration": 138,
    "start_time": "2023-02-12T10:03:27.874Z"
   },
   {
    "duration": 4,
    "start_time": "2023-02-12T10:03:28.014Z"
   },
   {
    "duration": 388,
    "start_time": "2023-02-12T10:03:28.020Z"
   },
   {
    "duration": 13,
    "start_time": "2023-02-12T10:03:28.411Z"
   },
   {
    "duration": 48,
    "start_time": "2023-02-12T10:03:28.426Z"
   },
   {
    "duration": 18,
    "start_time": "2023-02-12T10:03:28.476Z"
   },
   {
    "duration": 1107,
    "start_time": "2023-02-12T10:07:40.348Z"
   },
   {
    "duration": 22,
    "start_time": "2023-02-12T10:07:41.457Z"
   },
   {
    "duration": 24,
    "start_time": "2023-02-12T10:07:41.481Z"
   },
   {
    "duration": 6,
    "start_time": "2023-02-12T10:07:41.507Z"
   },
   {
    "duration": 11,
    "start_time": "2023-02-12T10:07:41.515Z"
   },
   {
    "duration": 28,
    "start_time": "2023-02-12T10:07:41.527Z"
   },
   {
    "duration": 11,
    "start_time": "2023-02-12T10:07:41.557Z"
   },
   {
    "duration": 55,
    "start_time": "2023-02-12T10:07:41.569Z"
   },
   {
    "duration": 7,
    "start_time": "2023-02-12T10:07:41.626Z"
   },
   {
    "duration": 8,
    "start_time": "2023-02-12T10:07:41.635Z"
   },
   {
    "duration": 7,
    "start_time": "2023-02-12T10:07:41.645Z"
   },
   {
    "duration": 183,
    "start_time": "2023-02-12T10:07:41.655Z"
   },
   {
    "duration": 129,
    "start_time": "2023-02-12T10:07:41.839Z"
   },
   {
    "duration": 7,
    "start_time": "2023-02-12T10:07:41.970Z"
   },
   {
    "duration": 11,
    "start_time": "2023-02-12T10:07:41.979Z"
   },
   {
    "duration": 8,
    "start_time": "2023-02-12T10:07:41.992Z"
   },
   {
    "duration": 259,
    "start_time": "2023-02-12T10:07:42.002Z"
   },
   {
    "duration": 185,
    "start_time": "2023-02-12T10:07:42.263Z"
   },
   {
    "duration": 282,
    "start_time": "2023-02-12T10:07:42.453Z"
   },
   {
    "duration": 186,
    "start_time": "2023-02-12T10:07:42.737Z"
   },
   {
    "duration": 306,
    "start_time": "2023-02-12T10:07:42.925Z"
   },
   {
    "duration": 139,
    "start_time": "2023-02-12T10:07:43.233Z"
   },
   {
    "duration": 5,
    "start_time": "2023-02-12T10:07:43.374Z"
   },
   {
    "duration": 183,
    "start_time": "2023-02-12T10:07:43.381Z"
   },
   {
    "duration": 6,
    "start_time": "2023-02-12T10:07:43.566Z"
   },
   {
    "duration": 435,
    "start_time": "2023-02-12T10:07:43.575Z"
   },
   {
    "duration": 11,
    "start_time": "2023-02-12T10:07:44.012Z"
   },
   {
    "duration": 57,
    "start_time": "2023-02-12T10:07:44.025Z"
   },
   {
    "duration": 15,
    "start_time": "2023-02-12T10:07:44.084Z"
   },
   {
    "duration": 1109,
    "start_time": "2023-02-12T10:14:39.238Z"
   },
   {
    "duration": 22,
    "start_time": "2023-02-12T10:14:40.349Z"
   },
   {
    "duration": 19,
    "start_time": "2023-02-12T10:14:40.375Z"
   },
   {
    "duration": 4,
    "start_time": "2023-02-12T10:14:40.397Z"
   },
   {
    "duration": 18,
    "start_time": "2023-02-12T10:14:40.402Z"
   },
   {
    "duration": 11,
    "start_time": "2023-02-12T10:14:40.422Z"
   },
   {
    "duration": 7,
    "start_time": "2023-02-12T10:14:40.435Z"
   },
   {
    "duration": 61,
    "start_time": "2023-02-12T10:14:40.444Z"
   },
   {
    "duration": 101,
    "start_time": "2023-02-12T10:14:40.507Z"
   },
   {
    "duration": 0,
    "start_time": "2023-02-12T10:14:40.610Z"
   },
   {
    "duration": 0,
    "start_time": "2023-02-12T10:14:40.611Z"
   },
   {
    "duration": 0,
    "start_time": "2023-02-12T10:14:40.612Z"
   },
   {
    "duration": 0,
    "start_time": "2023-02-12T10:14:40.613Z"
   },
   {
    "duration": 0,
    "start_time": "2023-02-12T10:14:40.614Z"
   },
   {
    "duration": 0,
    "start_time": "2023-02-12T10:14:40.615Z"
   },
   {
    "duration": 0,
    "start_time": "2023-02-12T10:14:40.616Z"
   },
   {
    "duration": 0,
    "start_time": "2023-02-12T10:14:40.618Z"
   },
   {
    "duration": 0,
    "start_time": "2023-02-12T10:14:40.619Z"
   },
   {
    "duration": 0,
    "start_time": "2023-02-12T10:14:40.620Z"
   },
   {
    "duration": 0,
    "start_time": "2023-02-12T10:14:40.622Z"
   },
   {
    "duration": 0,
    "start_time": "2023-02-12T10:14:40.623Z"
   },
   {
    "duration": 0,
    "start_time": "2023-02-12T10:14:40.624Z"
   },
   {
    "duration": 0,
    "start_time": "2023-02-12T10:14:40.654Z"
   },
   {
    "duration": 0,
    "start_time": "2023-02-12T10:14:40.655Z"
   },
   {
    "duration": 0,
    "start_time": "2023-02-12T10:14:40.657Z"
   },
   {
    "duration": 0,
    "start_time": "2023-02-12T10:14:40.658Z"
   },
   {
    "duration": 0,
    "start_time": "2023-02-12T10:14:40.660Z"
   },
   {
    "duration": 0,
    "start_time": "2023-02-12T10:14:40.662Z"
   },
   {
    "duration": 1,
    "start_time": "2023-02-12T10:14:40.663Z"
   },
   {
    "duration": 1,
    "start_time": "2023-02-12T10:14:40.664Z"
   },
   {
    "duration": 1107,
    "start_time": "2023-02-12T10:15:21.021Z"
   },
   {
    "duration": 22,
    "start_time": "2023-02-12T10:15:22.131Z"
   },
   {
    "duration": 19,
    "start_time": "2023-02-12T10:15:22.154Z"
   },
   {
    "duration": 3,
    "start_time": "2023-02-12T10:15:22.175Z"
   },
   {
    "duration": 9,
    "start_time": "2023-02-12T10:15:22.180Z"
   },
   {
    "duration": 11,
    "start_time": "2023-02-12T10:15:22.190Z"
   },
   {
    "duration": 10,
    "start_time": "2023-02-12T10:15:22.202Z"
   },
   {
    "duration": 56,
    "start_time": "2023-02-12T10:15:22.213Z"
   },
   {
    "duration": 8,
    "start_time": "2023-02-12T10:15:22.270Z"
   },
   {
    "duration": 9,
    "start_time": "2023-02-12T10:15:22.279Z"
   },
   {
    "duration": 127,
    "start_time": "2023-02-12T10:15:22.289Z"
   },
   {
    "duration": 6,
    "start_time": "2023-02-12T10:15:22.418Z"
   },
   {
    "duration": 187,
    "start_time": "2023-02-12T10:15:22.426Z"
   },
   {
    "duration": 123,
    "start_time": "2023-02-12T10:15:22.615Z"
   },
   {
    "duration": 17,
    "start_time": "2023-02-12T10:15:22.740Z"
   },
   {
    "duration": 24,
    "start_time": "2023-02-12T10:15:22.759Z"
   },
   {
    "duration": 13,
    "start_time": "2023-02-12T10:15:22.784Z"
   },
   {
    "duration": 243,
    "start_time": "2023-02-12T10:15:22.799Z"
   },
   {
    "duration": 201,
    "start_time": "2023-02-12T10:15:23.043Z"
   },
   {
    "duration": 292,
    "start_time": "2023-02-12T10:15:23.247Z"
   },
   {
    "duration": 198,
    "start_time": "2023-02-12T10:15:23.540Z"
   },
   {
    "duration": 290,
    "start_time": "2023-02-12T10:15:23.741Z"
   },
   {
    "duration": 121,
    "start_time": "2023-02-12T10:15:24.033Z"
   },
   {
    "duration": 4,
    "start_time": "2023-02-12T10:15:24.156Z"
   },
   {
    "duration": 124,
    "start_time": "2023-02-12T10:15:24.161Z"
   },
   {
    "duration": 4,
    "start_time": "2023-02-12T10:15:24.286Z"
   },
   {
    "duration": 376,
    "start_time": "2023-02-12T10:15:24.292Z"
   },
   {
    "duration": 10,
    "start_time": "2023-02-12T10:15:24.670Z"
   },
   {
    "duration": 34,
    "start_time": "2023-02-12T10:15:24.683Z"
   },
   {
    "duration": 14,
    "start_time": "2023-02-12T10:15:24.718Z"
   },
   {
    "duration": 1123,
    "start_time": "2023-02-12T10:16:25.700Z"
   },
   {
    "duration": 22,
    "start_time": "2023-02-12T10:16:26.825Z"
   },
   {
    "duration": 19,
    "start_time": "2023-02-12T10:16:26.849Z"
   },
   {
    "duration": 3,
    "start_time": "2023-02-12T10:16:26.870Z"
   },
   {
    "duration": 12,
    "start_time": "2023-02-12T10:16:26.874Z"
   },
   {
    "duration": 10,
    "start_time": "2023-02-12T10:16:26.888Z"
   },
   {
    "duration": 9,
    "start_time": "2023-02-12T10:16:26.899Z"
   },
   {
    "duration": 52,
    "start_time": "2023-02-12T10:16:26.909Z"
   },
   {
    "duration": 7,
    "start_time": "2023-02-12T10:16:26.962Z"
   },
   {
    "duration": 124,
    "start_time": "2023-02-12T10:16:26.971Z"
   },
   {
    "duration": 3,
    "start_time": "2023-02-12T10:16:27.097Z"
   },
   {
    "duration": 10,
    "start_time": "2023-02-12T10:16:27.102Z"
   },
   {
    "duration": 217,
    "start_time": "2023-02-12T10:16:27.114Z"
   },
   {
    "duration": 168,
    "start_time": "2023-02-12T10:16:27.333Z"
   },
   {
    "duration": 9,
    "start_time": "2023-02-12T10:16:27.503Z"
   },
   {
    "duration": 23,
    "start_time": "2023-02-12T10:16:27.513Z"
   },
   {
    "duration": 19,
    "start_time": "2023-02-12T10:16:27.539Z"
   },
   {
    "duration": 272,
    "start_time": "2023-02-12T10:16:27.560Z"
   },
   {
    "duration": 180,
    "start_time": "2023-02-12T10:16:27.834Z"
   },
   {
    "duration": 316,
    "start_time": "2023-02-12T10:16:28.015Z"
   },
   {
    "duration": 161,
    "start_time": "2023-02-12T10:16:28.333Z"
   },
   {
    "duration": 247,
    "start_time": "2023-02-12T10:16:28.495Z"
   },
   {
    "duration": 130,
    "start_time": "2023-02-12T10:16:28.744Z"
   },
   {
    "duration": 4,
    "start_time": "2023-02-12T10:16:28.875Z"
   },
   {
    "duration": 129,
    "start_time": "2023-02-12T10:16:28.880Z"
   },
   {
    "duration": 4,
    "start_time": "2023-02-12T10:16:29.010Z"
   },
   {
    "duration": 373,
    "start_time": "2023-02-12T10:16:29.017Z"
   },
   {
    "duration": 9,
    "start_time": "2023-02-12T10:16:29.393Z"
   },
   {
    "duration": 30,
    "start_time": "2023-02-12T10:16:29.404Z"
   },
   {
    "duration": 14,
    "start_time": "2023-02-12T10:16:29.452Z"
   },
   {
    "duration": 1096,
    "start_time": "2023-02-12T10:17:31.030Z"
   },
   {
    "duration": 27,
    "start_time": "2023-02-12T10:17:32.128Z"
   },
   {
    "duration": 18,
    "start_time": "2023-02-12T10:17:32.157Z"
   },
   {
    "duration": 36,
    "start_time": "2023-02-12T10:17:32.178Z"
   },
   {
    "duration": 21,
    "start_time": "2023-02-12T10:17:32.216Z"
   },
   {
    "duration": 10,
    "start_time": "2023-02-12T10:17:32.239Z"
   },
   {
    "duration": 9,
    "start_time": "2023-02-12T10:17:32.251Z"
   },
   {
    "duration": 84,
    "start_time": "2023-02-12T10:17:32.261Z"
   },
   {
    "duration": 8,
    "start_time": "2023-02-12T10:17:32.347Z"
   },
   {
    "duration": 16,
    "start_time": "2023-02-12T10:17:32.359Z"
   },
   {
    "duration": 9,
    "start_time": "2023-02-12T10:17:32.377Z"
   },
   {
    "duration": 184,
    "start_time": "2023-02-12T10:17:32.387Z"
   },
   {
    "duration": 130,
    "start_time": "2023-02-12T10:17:32.572Z"
   },
   {
    "duration": 7,
    "start_time": "2023-02-12T10:17:32.704Z"
   },
   {
    "duration": 14,
    "start_time": "2023-02-12T10:17:32.713Z"
   },
   {
    "duration": 24,
    "start_time": "2023-02-12T10:17:32.729Z"
   },
   {
    "duration": 286,
    "start_time": "2023-02-12T10:17:32.755Z"
   },
   {
    "duration": 191,
    "start_time": "2023-02-12T10:17:33.044Z"
   },
   {
    "duration": 302,
    "start_time": "2023-02-12T10:17:33.237Z"
   },
   {
    "duration": 205,
    "start_time": "2023-02-12T10:17:33.542Z"
   },
   {
    "duration": 304,
    "start_time": "2023-02-12T10:17:33.753Z"
   },
   {
    "duration": 125,
    "start_time": "2023-02-12T10:17:34.059Z"
   },
   {
    "duration": 5,
    "start_time": "2023-02-12T10:17:34.186Z"
   },
   {
    "duration": 183,
    "start_time": "2023-02-12T10:17:34.193Z"
   },
   {
    "duration": 4,
    "start_time": "2023-02-12T10:17:34.378Z"
   },
   {
    "duration": 412,
    "start_time": "2023-02-12T10:17:34.384Z"
   },
   {
    "duration": 12,
    "start_time": "2023-02-12T10:17:34.798Z"
   },
   {
    "duration": 50,
    "start_time": "2023-02-12T10:17:34.814Z"
   },
   {
    "duration": 15,
    "start_time": "2023-02-12T10:17:34.866Z"
   },
   {
    "duration": 160,
    "start_time": "2023-02-12T10:18:01.122Z"
   },
   {
    "duration": 4,
    "start_time": "2023-02-12T10:19:06.457Z"
   },
   {
    "duration": 1086,
    "start_time": "2023-02-12T10:19:14.056Z"
   },
   {
    "duration": 24,
    "start_time": "2023-02-12T10:19:15.144Z"
   },
   {
    "duration": 20,
    "start_time": "2023-02-12T10:19:15.170Z"
   },
   {
    "duration": 8,
    "start_time": "2023-02-12T10:19:15.192Z"
   },
   {
    "duration": 16,
    "start_time": "2023-02-12T10:19:15.203Z"
   },
   {
    "duration": 11,
    "start_time": "2023-02-12T10:19:15.221Z"
   },
   {
    "duration": 9,
    "start_time": "2023-02-12T10:19:15.234Z"
   },
   {
    "duration": 60,
    "start_time": "2023-02-12T10:19:15.244Z"
   },
   {
    "duration": 7,
    "start_time": "2023-02-12T10:19:15.305Z"
   },
   {
    "duration": 7,
    "start_time": "2023-02-12T10:19:15.314Z"
   },
   {
    "duration": 10,
    "start_time": "2023-02-12T10:19:15.322Z"
   },
   {
    "duration": 181,
    "start_time": "2023-02-12T10:19:15.334Z"
   },
   {
    "duration": 123,
    "start_time": "2023-02-12T10:19:15.516Z"
   },
   {
    "duration": 15,
    "start_time": "2023-02-12T10:19:15.642Z"
   },
   {
    "duration": 7,
    "start_time": "2023-02-12T10:19:15.659Z"
   },
   {
    "duration": 7,
    "start_time": "2023-02-12T10:19:15.668Z"
   },
   {
    "duration": 255,
    "start_time": "2023-02-12T10:19:15.676Z"
   },
   {
    "duration": 173,
    "start_time": "2023-02-12T10:19:15.932Z"
   },
   {
    "duration": 260,
    "start_time": "2023-02-12T10:19:16.107Z"
   },
   {
    "duration": 163,
    "start_time": "2023-02-12T10:19:16.369Z"
   },
   {
    "duration": 295,
    "start_time": "2023-02-12T10:19:16.534Z"
   },
   {
    "duration": 123,
    "start_time": "2023-02-12T10:19:16.831Z"
   },
   {
    "duration": 3,
    "start_time": "2023-02-12T10:19:16.956Z"
   },
   {
    "duration": 138,
    "start_time": "2023-02-12T10:19:16.960Z"
   },
   {
    "duration": 4,
    "start_time": "2023-02-12T10:19:17.100Z"
   },
   {
    "duration": 429,
    "start_time": "2023-02-12T10:19:17.106Z"
   },
   {
    "duration": 21,
    "start_time": "2023-02-12T10:19:17.538Z"
   },
   {
    "duration": 39,
    "start_time": "2023-02-12T10:19:17.561Z"
   },
   {
    "duration": 19,
    "start_time": "2023-02-12T10:19:17.602Z"
   },
   {
    "duration": 1105,
    "start_time": "2023-02-12T10:21:55.712Z"
   },
   {
    "duration": 22,
    "start_time": "2023-02-12T10:21:56.818Z"
   },
   {
    "duration": 19,
    "start_time": "2023-02-12T10:21:56.842Z"
   },
   {
    "duration": 3,
    "start_time": "2023-02-12T10:21:56.863Z"
   },
   {
    "duration": 14,
    "start_time": "2023-02-12T10:21:56.869Z"
   },
   {
    "duration": 17,
    "start_time": "2023-02-12T10:21:56.885Z"
   },
   {
    "duration": 21,
    "start_time": "2023-02-12T10:21:56.903Z"
   },
   {
    "duration": 53,
    "start_time": "2023-02-12T10:21:56.926Z"
   },
   {
    "duration": 7,
    "start_time": "2023-02-12T10:21:56.981Z"
   },
   {
    "duration": 6,
    "start_time": "2023-02-12T10:21:56.990Z"
   },
   {
    "duration": 7,
    "start_time": "2023-02-12T10:21:56.998Z"
   },
   {
    "duration": 185,
    "start_time": "2023-02-12T10:21:57.007Z"
   },
   {
    "duration": 152,
    "start_time": "2023-02-12T10:21:57.194Z"
   },
   {
    "duration": 8,
    "start_time": "2023-02-12T10:21:57.355Z"
   },
   {
    "duration": 22,
    "start_time": "2023-02-12T10:21:57.365Z"
   },
   {
    "duration": 20,
    "start_time": "2023-02-12T10:21:57.389Z"
   },
   {
    "duration": 376,
    "start_time": "2023-02-12T10:21:57.411Z"
   },
   {
    "duration": 186,
    "start_time": "2023-02-12T10:21:57.789Z"
   },
   {
    "duration": 268,
    "start_time": "2023-02-12T10:21:57.976Z"
   },
   {
    "duration": 173,
    "start_time": "2023-02-12T10:21:58.252Z"
   },
   {
    "duration": 295,
    "start_time": "2023-02-12T10:21:58.426Z"
   },
   {
    "duration": 131,
    "start_time": "2023-02-12T10:21:58.723Z"
   },
   {
    "duration": 4,
    "start_time": "2023-02-12T10:21:58.856Z"
   },
   {
    "duration": 139,
    "start_time": "2023-02-12T10:21:58.861Z"
   },
   {
    "duration": 4,
    "start_time": "2023-02-12T10:21:59.002Z"
   },
   {
    "duration": 371,
    "start_time": "2023-02-12T10:21:59.008Z"
   },
   {
    "duration": 10,
    "start_time": "2023-02-12T10:21:59.381Z"
   },
   {
    "duration": 33,
    "start_time": "2023-02-12T10:21:59.393Z"
   },
   {
    "duration": 35,
    "start_time": "2023-02-12T10:21:59.428Z"
   },
   {
    "duration": 35,
    "start_time": "2023-02-12T10:29:02.721Z"
   },
   {
    "duration": 209,
    "start_time": "2023-02-12T10:47:05.871Z"
   },
   {
    "duration": 317,
    "start_time": "2023-02-12T10:48:04.889Z"
   },
   {
    "duration": 203,
    "start_time": "2023-02-12T10:48:08.477Z"
   },
   {
    "duration": 185,
    "start_time": "2023-02-12T10:48:43.671Z"
   },
   {
    "duration": 213,
    "start_time": "2023-02-12T10:48:54.984Z"
   },
   {
    "duration": 302,
    "start_time": "2023-02-12T10:49:41.551Z"
   },
   {
    "duration": 196,
    "start_time": "2023-02-12T10:50:18.676Z"
   },
   {
    "duration": 323,
    "start_time": "2023-02-12T10:50:48.342Z"
   },
   {
    "duration": 163,
    "start_time": "2023-02-12T10:51:17.545Z"
   },
   {
    "duration": 158,
    "start_time": "2023-02-12T10:51:45.272Z"
   },
   {
    "duration": 1213,
    "start_time": "2023-02-12T10:54:57.012Z"
   },
   {
    "duration": 24,
    "start_time": "2023-02-12T10:54:58.228Z"
   },
   {
    "duration": 26,
    "start_time": "2023-02-12T10:54:58.254Z"
   },
   {
    "duration": 4,
    "start_time": "2023-02-12T10:54:58.281Z"
   },
   {
    "duration": 13,
    "start_time": "2023-02-12T10:54:58.286Z"
   },
   {
    "duration": 10,
    "start_time": "2023-02-12T10:54:58.301Z"
   },
   {
    "duration": 8,
    "start_time": "2023-02-12T10:54:58.312Z"
   },
   {
    "duration": 65,
    "start_time": "2023-02-12T10:54:58.354Z"
   },
   {
    "duration": 7,
    "start_time": "2023-02-12T10:54:58.421Z"
   },
   {
    "duration": 5,
    "start_time": "2023-02-12T10:54:58.430Z"
   },
   {
    "duration": 11,
    "start_time": "2023-02-12T10:54:58.437Z"
   },
   {
    "duration": 208,
    "start_time": "2023-02-12T10:54:58.450Z"
   },
   {
    "duration": 139,
    "start_time": "2023-02-12T10:54:58.660Z"
   },
   {
    "duration": 6,
    "start_time": "2023-02-12T10:54:58.802Z"
   },
   {
    "duration": 10,
    "start_time": "2023-02-12T10:54:58.810Z"
   },
   {
    "duration": 9,
    "start_time": "2023-02-12T10:54:58.822Z"
   },
   {
    "duration": 291,
    "start_time": "2023-02-12T10:54:58.833Z"
   },
   {
    "duration": 217,
    "start_time": "2023-02-12T10:54:59.126Z"
   },
   {
    "duration": 335,
    "start_time": "2023-02-12T10:54:59.345Z"
   },
   {
    "duration": 209,
    "start_time": "2023-02-12T10:54:59.682Z"
   },
   {
    "duration": 285,
    "start_time": "2023-02-12T10:54:59.892Z"
   },
   {
    "duration": 144,
    "start_time": "2023-02-12T10:55:00.179Z"
   },
   {
    "duration": 4,
    "start_time": "2023-02-12T10:55:00.325Z"
   },
   {
    "duration": 164,
    "start_time": "2023-02-12T10:55:00.331Z"
   },
   {
    "duration": 4,
    "start_time": "2023-02-12T10:55:00.497Z"
   },
   {
    "duration": 433,
    "start_time": "2023-02-12T10:55:00.502Z"
   },
   {
    "duration": 24,
    "start_time": "2023-02-12T10:55:00.937Z"
   },
   {
    "duration": 60,
    "start_time": "2023-02-12T10:55:00.962Z"
   },
   {
    "duration": 15,
    "start_time": "2023-02-12T10:55:01.025Z"
   },
   {
    "duration": 1359,
    "start_time": "2023-02-12T18:51:25.299Z"
   },
   {
    "duration": 57,
    "start_time": "2023-02-12T18:51:26.660Z"
   },
   {
    "duration": 20,
    "start_time": "2023-02-12T18:51:26.718Z"
   },
   {
    "duration": 10,
    "start_time": "2023-02-12T18:51:26.739Z"
   },
   {
    "duration": 26,
    "start_time": "2023-02-12T18:51:26.750Z"
   },
   {
    "duration": 10,
    "start_time": "2023-02-12T18:51:26.778Z"
   },
   {
    "duration": 9,
    "start_time": "2023-02-12T18:51:26.790Z"
   },
   {
    "duration": 137,
    "start_time": "2023-02-12T18:51:26.801Z"
   },
   {
    "duration": 7,
    "start_time": "2023-02-12T18:51:26.940Z"
   },
   {
    "duration": 127,
    "start_time": "2023-02-12T18:51:26.950Z"
   },
   {
    "duration": 8,
    "start_time": "2023-02-12T18:51:27.079Z"
   },
   {
    "duration": 180,
    "start_time": "2023-02-12T18:51:27.089Z"
   },
   {
    "duration": 125,
    "start_time": "2023-02-12T18:51:27.270Z"
   },
   {
    "duration": 7,
    "start_time": "2023-02-12T18:51:27.397Z"
   },
   {
    "duration": 12,
    "start_time": "2023-02-12T18:51:27.405Z"
   },
   {
    "duration": 14,
    "start_time": "2023-02-12T18:51:27.418Z"
   },
   {
    "duration": 328,
    "start_time": "2023-02-12T18:51:27.434Z"
   },
   {
    "duration": 188,
    "start_time": "2023-02-12T18:51:27.765Z"
   },
   {
    "duration": 323,
    "start_time": "2023-02-12T18:51:27.954Z"
   },
   {
    "duration": 175,
    "start_time": "2023-02-12T18:51:28.279Z"
   },
   {
    "duration": 283,
    "start_time": "2023-02-12T18:51:28.456Z"
   },
   {
    "duration": 124,
    "start_time": "2023-02-12T18:51:28.740Z"
   },
   {
    "duration": 5,
    "start_time": "2023-02-12T18:51:28.865Z"
   },
   {
    "duration": 157,
    "start_time": "2023-02-12T18:51:28.872Z"
   },
   {
    "duration": 4,
    "start_time": "2023-02-12T18:51:29.031Z"
   },
   {
    "duration": 371,
    "start_time": "2023-02-12T18:51:29.036Z"
   },
   {
    "duration": 11,
    "start_time": "2023-02-12T18:51:29.408Z"
   },
   {
    "duration": 121,
    "start_time": "2023-02-12T18:51:29.422Z"
   },
   {
    "duration": 44,
    "start_time": "2023-02-12T18:51:29.544Z"
   },
   {
    "duration": 1176,
    "start_time": "2023-02-12T18:51:42.706Z"
   },
   {
    "duration": 23,
    "start_time": "2023-02-12T18:51:43.883Z"
   },
   {
    "duration": 20,
    "start_time": "2023-02-12T18:51:43.907Z"
   },
   {
    "duration": 3,
    "start_time": "2023-02-12T18:51:43.928Z"
   },
   {
    "duration": 11,
    "start_time": "2023-02-12T18:51:43.932Z"
   },
   {
    "duration": 14,
    "start_time": "2023-02-12T18:51:43.944Z"
   },
   {
    "duration": 8,
    "start_time": "2023-02-12T18:51:43.959Z"
   },
   {
    "duration": 54,
    "start_time": "2023-02-12T18:51:43.968Z"
   },
   {
    "duration": 7,
    "start_time": "2023-02-12T18:51:44.023Z"
   },
   {
    "duration": 7,
    "start_time": "2023-02-12T18:51:44.032Z"
   },
   {
    "duration": 10,
    "start_time": "2023-02-12T18:51:44.040Z"
   },
   {
    "duration": 169,
    "start_time": "2023-02-12T18:51:44.052Z"
   },
   {
    "duration": 120,
    "start_time": "2023-02-12T18:51:44.222Z"
   },
   {
    "duration": 6,
    "start_time": "2023-02-12T18:51:44.353Z"
   },
   {
    "duration": 14,
    "start_time": "2023-02-12T18:51:44.360Z"
   },
   {
    "duration": 10,
    "start_time": "2023-02-12T18:51:44.376Z"
   },
   {
    "duration": 258,
    "start_time": "2023-02-12T18:51:44.387Z"
   },
   {
    "duration": 176,
    "start_time": "2023-02-12T18:51:44.653Z"
   },
   {
    "duration": 297,
    "start_time": "2023-02-12T18:51:44.831Z"
   },
   {
    "duration": 189,
    "start_time": "2023-02-12T18:51:45.130Z"
   },
   {
    "duration": 308,
    "start_time": "2023-02-12T18:51:45.321Z"
   },
   {
    "duration": 129,
    "start_time": "2023-02-12T18:51:45.631Z"
   },
   {
    "duration": 4,
    "start_time": "2023-02-12T18:51:45.761Z"
   },
   {
    "duration": 142,
    "start_time": "2023-02-12T18:51:45.767Z"
   },
   {
    "duration": 5,
    "start_time": "2023-02-12T18:51:45.911Z"
   },
   {
    "duration": 368,
    "start_time": "2023-02-12T18:51:45.917Z"
   },
   {
    "duration": 11,
    "start_time": "2023-02-12T18:51:46.287Z"
   },
   {
    "duration": 57,
    "start_time": "2023-02-12T18:51:46.302Z"
   },
   {
    "duration": 15,
    "start_time": "2023-02-12T18:51:46.361Z"
   },
   {
    "duration": 48,
    "start_time": "2023-02-13T07:26:10.751Z"
   },
   {
    "duration": 1300,
    "start_time": "2023-02-13T07:26:16.215Z"
   },
   {
    "duration": 87,
    "start_time": "2023-02-13T07:26:17.517Z"
   },
   {
    "duration": 21,
    "start_time": "2023-02-13T07:26:17.605Z"
   },
   {
    "duration": 5,
    "start_time": "2023-02-13T07:26:17.627Z"
   },
   {
    "duration": 12,
    "start_time": "2023-02-13T07:26:17.634Z"
   },
   {
    "duration": 11,
    "start_time": "2023-02-13T07:26:17.647Z"
   },
   {
    "duration": 8,
    "start_time": "2023-02-13T07:26:17.660Z"
   },
   {
    "duration": 180,
    "start_time": "2023-02-13T07:26:17.670Z"
   },
   {
    "duration": 9,
    "start_time": "2023-02-13T07:26:17.852Z"
   },
   {
    "duration": 7,
    "start_time": "2023-02-13T07:26:17.863Z"
   },
   {
    "duration": 12,
    "start_time": "2023-02-13T07:26:17.872Z"
   },
   {
    "duration": 182,
    "start_time": "2023-02-13T07:26:17.886Z"
   },
   {
    "duration": 127,
    "start_time": "2023-02-13T07:26:18.070Z"
   },
   {
    "duration": 7,
    "start_time": "2023-02-13T07:26:18.200Z"
   },
   {
    "duration": 17,
    "start_time": "2023-02-13T07:26:18.208Z"
   },
   {
    "duration": 15,
    "start_time": "2023-02-13T07:26:18.227Z"
   },
   {
    "duration": 278,
    "start_time": "2023-02-13T07:26:18.244Z"
   },
   {
    "duration": 200,
    "start_time": "2023-02-13T07:26:18.523Z"
   },
   {
    "duration": 331,
    "start_time": "2023-02-13T07:26:18.725Z"
   },
   {
    "duration": 194,
    "start_time": "2023-02-13T07:26:19.057Z"
   },
   {
    "duration": 294,
    "start_time": "2023-02-13T07:26:19.252Z"
   },
   {
    "duration": 129,
    "start_time": "2023-02-13T07:26:19.548Z"
   },
   {
    "duration": 4,
    "start_time": "2023-02-13T07:26:19.679Z"
   },
   {
    "duration": 157,
    "start_time": "2023-02-13T07:26:19.685Z"
   },
   {
    "duration": 5,
    "start_time": "2023-02-13T07:26:19.843Z"
   },
   {
    "duration": 395,
    "start_time": "2023-02-13T07:26:19.850Z"
   },
   {
    "duration": 13,
    "start_time": "2023-02-13T07:26:20.246Z"
   },
   {
    "duration": 36,
    "start_time": "2023-02-13T07:26:20.261Z"
   },
   {
    "duration": 34,
    "start_time": "2023-02-13T07:26:20.298Z"
   },
   {
    "duration": 11,
    "start_time": "2023-02-13T07:26:32.813Z"
   },
   {
    "duration": 13,
    "start_time": "2023-02-13T07:26:38.160Z"
   },
   {
    "duration": 12,
    "start_time": "2023-02-13T07:26:52.701Z"
   },
   {
    "duration": 8,
    "start_time": "2023-02-13T07:27:06.024Z"
   },
   {
    "duration": 9,
    "start_time": "2023-02-13T07:27:33.066Z"
   },
   {
    "duration": 1123,
    "start_time": "2023-02-13T07:27:42.011Z"
   },
   {
    "duration": 30,
    "start_time": "2023-02-13T07:27:43.136Z"
   },
   {
    "duration": 22,
    "start_time": "2023-02-13T07:27:43.167Z"
   },
   {
    "duration": 4,
    "start_time": "2023-02-13T07:27:43.191Z"
   },
   {
    "duration": 11,
    "start_time": "2023-02-13T07:27:43.197Z"
   },
   {
    "duration": 18,
    "start_time": "2023-02-13T07:27:43.209Z"
   },
   {
    "duration": 10,
    "start_time": "2023-02-13T07:27:43.228Z"
   },
   {
    "duration": 67,
    "start_time": "2023-02-13T07:27:43.239Z"
   },
   {
    "duration": 8,
    "start_time": "2023-02-13T07:27:43.308Z"
   },
   {
    "duration": 4,
    "start_time": "2023-02-13T07:27:43.318Z"
   },
   {
    "duration": 8,
    "start_time": "2023-02-13T07:27:43.324Z"
   },
   {
    "duration": 212,
    "start_time": "2023-02-13T07:27:43.333Z"
   },
   {
    "duration": 132,
    "start_time": "2023-02-13T07:27:43.546Z"
   },
   {
    "duration": 7,
    "start_time": "2023-02-13T07:27:43.680Z"
   },
   {
    "duration": 8,
    "start_time": "2023-02-13T07:27:43.688Z"
   },
   {
    "duration": 23,
    "start_time": "2023-02-13T07:27:43.698Z"
   },
   {
    "duration": 271,
    "start_time": "2023-02-13T07:27:43.723Z"
   },
   {
    "duration": 206,
    "start_time": "2023-02-13T07:27:43.996Z"
   },
   {
    "duration": 327,
    "start_time": "2023-02-13T07:27:44.204Z"
   },
   {
    "duration": 215,
    "start_time": "2023-02-13T07:27:44.533Z"
   },
   {
    "duration": 273,
    "start_time": "2023-02-13T07:27:44.750Z"
   },
   {
    "duration": 147,
    "start_time": "2023-02-13T07:27:45.025Z"
   },
   {
    "duration": 4,
    "start_time": "2023-02-13T07:27:45.174Z"
   },
   {
    "duration": 144,
    "start_time": "2023-02-13T07:27:45.180Z"
   },
   {
    "duration": 4,
    "start_time": "2023-02-13T07:27:45.326Z"
   },
   {
    "duration": 376,
    "start_time": "2023-02-13T07:27:45.332Z"
   },
   {
    "duration": 16,
    "start_time": "2023-02-13T07:27:45.710Z"
   },
   {
    "duration": 33,
    "start_time": "2023-02-13T07:27:45.729Z"
   },
   {
    "duration": 14,
    "start_time": "2023-02-13T07:27:45.763Z"
   },
   {
    "duration": 3,
    "start_time": "2023-02-13T07:31:25.268Z"
   },
   {
    "duration": 4,
    "start_time": "2023-02-13T07:31:28.641Z"
   },
   {
    "duration": 4,
    "start_time": "2023-02-13T07:31:33.214Z"
   },
   {
    "duration": 11,
    "start_time": "2023-02-13T07:31:39.889Z"
   },
   {
    "duration": 13,
    "start_time": "2023-02-13T07:31:44.566Z"
   },
   {
    "duration": 7,
    "start_time": "2023-02-13T07:38:19.425Z"
   },
   {
    "duration": 10,
    "start_time": "2023-02-13T07:38:47.771Z"
   },
   {
    "duration": 10,
    "start_time": "2023-02-13T07:39:15.046Z"
   },
   {
    "duration": 10,
    "start_time": "2023-02-13T07:39:22.297Z"
   },
   {
    "duration": 223,
    "start_time": "2023-02-13T07:43:14.206Z"
   },
   {
    "duration": 303,
    "start_time": "2023-02-13T07:44:35.312Z"
   },
   {
    "duration": 208,
    "start_time": "2023-02-13T07:44:56.105Z"
   },
   {
    "duration": 209,
    "start_time": "2023-02-13T07:45:59.100Z"
   },
   {
    "duration": 191,
    "start_time": "2023-02-13T07:46:50.160Z"
   },
   {
    "duration": 79,
    "start_time": "2023-02-13T07:55:11.969Z"
   },
   {
    "duration": 79,
    "start_time": "2023-02-13T07:55:46.141Z"
   },
   {
    "duration": 1289,
    "start_time": "2023-02-13T07:55:52.045Z"
   },
   {
    "duration": 29,
    "start_time": "2023-02-13T07:55:53.338Z"
   },
   {
    "duration": 21,
    "start_time": "2023-02-13T07:55:53.369Z"
   },
   {
    "duration": 4,
    "start_time": "2023-02-13T07:55:53.393Z"
   },
   {
    "duration": 10,
    "start_time": "2023-02-13T07:55:53.399Z"
   },
   {
    "duration": 245,
    "start_time": "2023-02-13T07:55:53.410Z"
   },
   {
    "duration": 206,
    "start_time": "2023-02-13T07:55:53.656Z"
   },
   {
    "duration": 66,
    "start_time": "2023-02-13T07:55:53.864Z"
   },
   {
    "duration": 13,
    "start_time": "2023-02-13T07:55:53.933Z"
   },
   {
    "duration": 6,
    "start_time": "2023-02-13T07:55:53.949Z"
   },
   {
    "duration": 85,
    "start_time": "2023-02-13T07:55:53.957Z"
   },
   {
    "duration": 0,
    "start_time": "2023-02-13T07:55:54.045Z"
   },
   {
    "duration": 0,
    "start_time": "2023-02-13T07:55:54.046Z"
   },
   {
    "duration": 0,
    "start_time": "2023-02-13T07:55:54.048Z"
   },
   {
    "duration": 0,
    "start_time": "2023-02-13T07:55:54.050Z"
   },
   {
    "duration": 0,
    "start_time": "2023-02-13T07:55:54.052Z"
   },
   {
    "duration": 0,
    "start_time": "2023-02-13T07:55:54.053Z"
   },
   {
    "duration": 0,
    "start_time": "2023-02-13T07:55:54.054Z"
   },
   {
    "duration": 0,
    "start_time": "2023-02-13T07:55:54.056Z"
   },
   {
    "duration": 0,
    "start_time": "2023-02-13T07:55:54.057Z"
   },
   {
    "duration": 0,
    "start_time": "2023-02-13T07:55:54.059Z"
   },
   {
    "duration": 0,
    "start_time": "2023-02-13T07:55:54.060Z"
   },
   {
    "duration": 0,
    "start_time": "2023-02-13T07:55:54.061Z"
   },
   {
    "duration": 0,
    "start_time": "2023-02-13T07:55:54.062Z"
   },
   {
    "duration": 0,
    "start_time": "2023-02-13T07:55:54.063Z"
   },
   {
    "duration": 0,
    "start_time": "2023-02-13T07:55:54.064Z"
   },
   {
    "duration": 0,
    "start_time": "2023-02-13T07:55:54.065Z"
   },
   {
    "duration": 0,
    "start_time": "2023-02-13T07:55:54.066Z"
   },
   {
    "duration": 0,
    "start_time": "2023-02-13T07:55:54.067Z"
   },
   {
    "duration": 0,
    "start_time": "2023-02-13T07:55:54.068Z"
   },
   {
    "duration": 12,
    "start_time": "2023-02-13T07:56:16.983Z"
   },
   {
    "duration": 108,
    "start_time": "2023-02-13T09:16:52.064Z"
   },
   {
    "duration": 4,
    "start_time": "2023-02-13T09:16:59.123Z"
   },
   {
    "duration": 1104,
    "start_time": "2023-02-13T09:17:06.348Z"
   },
   {
    "duration": 29,
    "start_time": "2023-02-13T09:17:07.454Z"
   },
   {
    "duration": 21,
    "start_time": "2023-02-13T09:17:07.485Z"
   },
   {
    "duration": 4,
    "start_time": "2023-02-13T09:17:07.508Z"
   },
   {
    "duration": 10,
    "start_time": "2023-02-13T09:17:07.514Z"
   },
   {
    "duration": 207,
    "start_time": "2023-02-13T09:17:07.526Z"
   },
   {
    "duration": 204,
    "start_time": "2023-02-13T09:17:07.735Z"
   },
   {
    "duration": 66,
    "start_time": "2023-02-13T09:17:07.941Z"
   },
   {
    "duration": 8,
    "start_time": "2023-02-13T09:17:08.009Z"
   },
   {
    "duration": 6,
    "start_time": "2023-02-13T09:17:08.019Z"
   },
   {
    "duration": 14,
    "start_time": "2023-02-13T09:17:08.027Z"
   },
   {
    "duration": 4,
    "start_time": "2023-02-13T09:17:08.043Z"
   },
   {
    "duration": 10,
    "start_time": "2023-02-13T09:17:08.049Z"
   },
   {
    "duration": 227,
    "start_time": "2023-02-13T09:17:08.062Z"
   },
   {
    "duration": 148,
    "start_time": "2023-02-13T09:17:08.291Z"
   },
   {
    "duration": 6,
    "start_time": "2023-02-13T09:17:08.441Z"
   },
   {
    "duration": 8,
    "start_time": "2023-02-13T09:17:08.448Z"
   },
   {
    "duration": 10,
    "start_time": "2023-02-13T09:17:08.458Z"
   },
   {
    "duration": 291,
    "start_time": "2023-02-13T09:17:08.469Z"
   },
   {
    "duration": 203,
    "start_time": "2023-02-13T09:17:08.762Z"
   },
   {
    "duration": 286,
    "start_time": "2023-02-13T09:17:08.967Z"
   },
   {
    "duration": 193,
    "start_time": "2023-02-13T09:17:09.255Z"
   },
   {
    "duration": 273,
    "start_time": "2023-02-13T09:17:09.450Z"
   },
   {
    "duration": 138,
    "start_time": "2023-02-13T09:17:09.725Z"
   },
   {
    "duration": 5,
    "start_time": "2023-02-13T09:17:09.865Z"
   },
   {
    "duration": 169,
    "start_time": "2023-02-13T09:17:09.872Z"
   },
   {
    "duration": 5,
    "start_time": "2023-02-13T09:17:10.043Z"
   },
   {
    "duration": 497,
    "start_time": "2023-02-13T09:17:10.049Z"
   },
   {
    "duration": 11,
    "start_time": "2023-02-13T09:17:10.547Z"
   },
   {
    "duration": 34,
    "start_time": "2023-02-13T09:17:10.560Z"
   },
   {
    "duration": 39,
    "start_time": "2023-02-13T09:17:10.595Z"
   },
   {
    "duration": 4,
    "start_time": "2023-02-13T09:17:33.305Z"
   },
   {
    "duration": 126,
    "start_time": "2023-02-13T09:23:28.484Z"
   },
   {
    "duration": 5,
    "start_time": "2023-02-13T09:23:44.539Z"
   },
   {
    "duration": 4,
    "start_time": "2023-02-13T09:23:48.305Z"
   },
   {
    "duration": 4,
    "start_time": "2023-02-13T09:24:15.982Z"
   },
   {
    "duration": 5,
    "start_time": "2023-02-13T09:24:20.936Z"
   },
   {
    "duration": 14,
    "start_time": "2023-02-13T09:24:45.813Z"
   },
   {
    "duration": 4,
    "start_time": "2023-02-13T09:25:04.429Z"
   },
   {
    "duration": 12,
    "start_time": "2023-02-13T09:25:26.290Z"
   },
   {
    "duration": 123,
    "start_time": "2023-02-13T09:34:14.954Z"
   },
   {
    "duration": 3,
    "start_time": "2023-02-13T09:37:57.303Z"
   },
   {
    "duration": 101,
    "start_time": "2023-02-13T09:44:24.108Z"
   },
   {
    "duration": 108,
    "start_time": "2023-02-13T09:44:32.546Z"
   },
   {
    "duration": 132,
    "start_time": "2023-02-13T09:44:43.299Z"
   },
   {
    "duration": 132,
    "start_time": "2023-02-13T09:44:52.116Z"
   },
   {
    "duration": 142,
    "start_time": "2023-02-13T09:45:43.418Z"
   },
   {
    "duration": 73,
    "start_time": "2023-02-13T09:47:24.646Z"
   },
   {
    "duration": 120,
    "start_time": "2023-02-13T09:47:34.045Z"
   },
   {
    "duration": 123,
    "start_time": "2023-02-13T09:48:10.521Z"
   },
   {
    "duration": 114,
    "start_time": "2023-02-13T09:54:19.278Z"
   },
   {
    "duration": 111,
    "start_time": "2023-02-13T09:54:51.666Z"
   },
   {
    "duration": 113,
    "start_time": "2023-02-13T09:55:19.047Z"
   },
   {
    "duration": 126,
    "start_time": "2023-02-13T09:55:40.771Z"
   },
   {
    "duration": 231,
    "start_time": "2023-02-13T09:57:15.762Z"
   },
   {
    "duration": 1217,
    "start_time": "2023-02-13T09:57:33.960Z"
   },
   {
    "duration": 33,
    "start_time": "2023-02-13T09:57:35.180Z"
   },
   {
    "duration": 30,
    "start_time": "2023-02-13T09:57:35.215Z"
   },
   {
    "duration": 12,
    "start_time": "2023-02-13T09:57:35.247Z"
   },
   {
    "duration": 30,
    "start_time": "2023-02-13T09:57:35.261Z"
   },
   {
    "duration": 263,
    "start_time": "2023-02-13T09:57:35.292Z"
   },
   {
    "duration": 233,
    "start_time": "2023-02-13T09:57:35.557Z"
   },
   {
    "duration": 75,
    "start_time": "2023-02-13T09:57:35.793Z"
   },
   {
    "duration": 9,
    "start_time": "2023-02-13T09:57:35.871Z"
   },
   {
    "duration": 31,
    "start_time": "2023-02-13T09:57:35.883Z"
   },
   {
    "duration": 38,
    "start_time": "2023-02-13T09:57:35.916Z"
   },
   {
    "duration": 131,
    "start_time": "2023-02-13T09:57:35.957Z"
   },
   {
    "duration": 4,
    "start_time": "2023-02-13T09:57:36.090Z"
   },
   {
    "duration": 31,
    "start_time": "2023-02-13T09:57:36.097Z"
   },
   {
    "duration": 220,
    "start_time": "2023-02-13T09:57:36.130Z"
   },
   {
    "duration": 148,
    "start_time": "2023-02-13T09:57:36.352Z"
   },
   {
    "duration": 6,
    "start_time": "2023-02-13T09:57:36.502Z"
   },
   {
    "duration": 8,
    "start_time": "2023-02-13T09:57:36.521Z"
   },
   {
    "duration": 15,
    "start_time": "2023-02-13T09:57:36.532Z"
   },
   {
    "duration": 319,
    "start_time": "2023-02-13T09:57:36.549Z"
   },
   {
    "duration": 222,
    "start_time": "2023-02-13T09:57:36.869Z"
   },
   {
    "duration": 334,
    "start_time": "2023-02-13T09:57:37.093Z"
   },
   {
    "duration": 215,
    "start_time": "2023-02-13T09:57:37.429Z"
   },
   {
    "duration": 303,
    "start_time": "2023-02-13T09:57:37.646Z"
   },
   {
    "duration": 145,
    "start_time": "2023-02-13T09:57:37.950Z"
   },
   {
    "duration": 4,
    "start_time": "2023-02-13T09:57:38.097Z"
   },
   {
    "duration": 171,
    "start_time": "2023-02-13T09:57:38.103Z"
   },
   {
    "duration": 4,
    "start_time": "2023-02-13T09:57:38.276Z"
   },
   {
    "duration": 520,
    "start_time": "2023-02-13T09:57:38.282Z"
   },
   {
    "duration": 25,
    "start_time": "2023-02-13T09:57:38.804Z"
   },
   {
    "duration": 37,
    "start_time": "2023-02-13T09:57:38.834Z"
   },
   {
    "duration": 16,
    "start_time": "2023-02-13T09:57:38.874Z"
   },
   {
    "duration": 381,
    "start_time": "2023-02-13T09:58:34.343Z"
   },
   {
    "duration": 201,
    "start_time": "2023-02-13T09:59:02.352Z"
   },
   {
    "duration": 207,
    "start_time": "2023-02-13T09:59:14.024Z"
   },
   {
    "duration": 276,
    "start_time": "2023-02-13T10:00:18.047Z"
   },
   {
    "duration": 329,
    "start_time": "2023-02-13T10:00:36.001Z"
   },
   {
    "duration": 272,
    "start_time": "2023-02-13T10:01:33.252Z"
   },
   {
    "duration": 302,
    "start_time": "2023-02-13T10:02:12.461Z"
   },
   {
    "duration": 281,
    "start_time": "2023-02-13T10:13:35.742Z"
   },
   {
    "duration": 296,
    "start_time": "2023-02-13T10:14:09.865Z"
   },
   {
    "duration": 195,
    "start_time": "2023-02-13T10:15:51.026Z"
   },
   {
    "duration": 386,
    "start_time": "2023-02-13T10:17:56.027Z"
   },
   {
    "duration": 134,
    "start_time": "2023-02-13T10:19:11.981Z"
   },
   {
    "duration": 159,
    "start_time": "2023-02-13T10:19:43.956Z"
   },
   {
    "duration": 288,
    "start_time": "2023-02-13T11:21:45.160Z"
   },
   {
    "duration": 263,
    "start_time": "2023-02-13T11:28:15.004Z"
   },
   {
    "duration": 227,
    "start_time": "2023-02-13T11:28:42.029Z"
   },
   {
    "duration": 1205,
    "start_time": "2023-02-13T11:29:42.162Z"
   },
   {
    "duration": 30,
    "start_time": "2023-02-13T11:29:43.369Z"
   },
   {
    "duration": 25,
    "start_time": "2023-02-13T11:29:43.401Z"
   },
   {
    "duration": 13,
    "start_time": "2023-02-13T11:29:43.428Z"
   },
   {
    "duration": 15,
    "start_time": "2023-02-13T11:29:43.443Z"
   },
   {
    "duration": 227,
    "start_time": "2023-02-13T11:29:43.461Z"
   },
   {
    "duration": 193,
    "start_time": "2023-02-13T11:29:43.690Z"
   },
   {
    "duration": 73,
    "start_time": "2023-02-13T11:29:43.885Z"
   },
   {
    "duration": 7,
    "start_time": "2023-02-13T11:29:43.960Z"
   },
   {
    "duration": 8,
    "start_time": "2023-02-13T11:29:43.970Z"
   },
   {
    "duration": 17,
    "start_time": "2023-02-13T11:29:43.980Z"
   },
   {
    "duration": 130,
    "start_time": "2023-02-13T11:29:44.000Z"
   },
   {
    "duration": 6,
    "start_time": "2023-02-13T11:29:44.133Z"
   },
   {
    "duration": 7,
    "start_time": "2023-02-13T11:29:44.143Z"
   },
   {
    "duration": 231,
    "start_time": "2023-02-13T11:29:44.152Z"
   },
   {
    "duration": 198,
    "start_time": "2023-02-13T11:29:44.386Z"
   },
   {
    "duration": 9,
    "start_time": "2023-02-13T11:29:44.586Z"
   },
   {
    "duration": 14,
    "start_time": "2023-02-13T11:29:44.597Z"
   },
   {
    "duration": 58,
    "start_time": "2023-02-13T11:29:44.613Z"
   },
   {
    "duration": 367,
    "start_time": "2023-02-13T11:29:44.674Z"
   },
   {
    "duration": 258,
    "start_time": "2023-02-13T11:29:45.043Z"
   },
   {
    "duration": 379,
    "start_time": "2023-02-13T11:29:45.303Z"
   },
   {
    "duration": 229,
    "start_time": "2023-02-13T11:29:45.683Z"
   },
   {
    "duration": 332,
    "start_time": "2023-02-13T11:29:45.914Z"
   },
   {
    "duration": 150,
    "start_time": "2023-02-13T11:29:46.248Z"
   },
   {
    "duration": 5,
    "start_time": "2023-02-13T11:29:46.399Z"
   },
   {
    "duration": 183,
    "start_time": "2023-02-13T11:29:46.406Z"
   },
   {
    "duration": 5,
    "start_time": "2023-02-13T11:29:46.591Z"
   },
   {
    "duration": 537,
    "start_time": "2023-02-13T11:29:46.598Z"
   },
   {
    "duration": 12,
    "start_time": "2023-02-13T11:29:47.137Z"
   },
   {
    "duration": 37,
    "start_time": "2023-02-13T11:29:47.151Z"
   },
   {
    "duration": 39,
    "start_time": "2023-02-13T11:29:47.190Z"
   },
   {
    "duration": 418,
    "start_time": "2023-02-13T11:31:46.439Z"
   },
   {
    "duration": 301,
    "start_time": "2023-02-13T11:31:57.045Z"
   },
   {
    "duration": 351,
    "start_time": "2023-02-13T11:32:24.405Z"
   },
   {
    "duration": 342,
    "start_time": "2023-02-13T11:32:35.113Z"
   },
   {
    "duration": 334,
    "start_time": "2023-02-13T11:32:44.560Z"
   },
   {
    "duration": 382,
    "start_time": "2023-02-13T11:32:54.315Z"
   },
   {
    "duration": 323,
    "start_time": "2023-02-13T11:42:21.623Z"
   },
   {
    "duration": 270,
    "start_time": "2023-02-13T11:42:29.677Z"
   },
   {
    "duration": 308,
    "start_time": "2023-02-13T11:42:37.844Z"
   },
   {
    "duration": 184,
    "start_time": "2023-02-13T11:43:44.359Z"
   },
   {
    "duration": 325,
    "start_time": "2023-02-13T11:44:44.318Z"
   },
   {
    "duration": 282,
    "start_time": "2023-02-13T11:44:52.867Z"
   },
   {
    "duration": 310,
    "start_time": "2023-02-13T11:44:57.337Z"
   },
   {
    "duration": 1364,
    "start_time": "2023-02-13T11:45:24.084Z"
   },
   {
    "duration": 382,
    "start_time": "2023-02-13T11:45:34.191Z"
   },
   {
    "duration": 437,
    "start_time": "2023-02-13T11:45:39.739Z"
   },
   {
    "duration": 314,
    "start_time": "2023-02-13T11:45:46.870Z"
   },
   {
    "duration": 304,
    "start_time": "2023-02-13T11:45:58.061Z"
   },
   {
    "duration": 306,
    "start_time": "2023-02-13T11:46:58.660Z"
   },
   {
    "duration": 330,
    "start_time": "2023-02-13T11:47:19.431Z"
   },
   {
    "duration": 281,
    "start_time": "2023-02-13T11:47:55.686Z"
   },
   {
    "duration": 398,
    "start_time": "2023-02-13T11:48:11.310Z"
   },
   {
    "duration": 251,
    "start_time": "2023-02-13T11:48:40.108Z"
   },
   {
    "duration": 329,
    "start_time": "2023-02-13T11:48:48.139Z"
   },
   {
    "duration": 381,
    "start_time": "2023-02-13T11:49:09.284Z"
   },
   {
    "duration": 375,
    "start_time": "2023-02-13T11:49:43.514Z"
   },
   {
    "duration": 371,
    "start_time": "2023-02-13T11:50:28.472Z"
   },
   {
    "duration": 303,
    "start_time": "2023-02-13T11:50:39.937Z"
   },
   {
    "duration": 229,
    "start_time": "2023-02-13T11:51:36.392Z"
   },
   {
    "duration": 352,
    "start_time": "2023-02-13T11:51:41.002Z"
   },
   {
    "duration": 333,
    "start_time": "2023-02-13T11:51:56.939Z"
   },
   {
    "duration": 237,
    "start_time": "2023-02-13T11:52:19.634Z"
   },
   {
    "duration": 232,
    "start_time": "2023-02-13T11:52:36.572Z"
   },
   {
    "duration": 260,
    "start_time": "2023-02-13T11:54:35.804Z"
   },
   {
    "duration": 232,
    "start_time": "2023-02-13T11:54:39.472Z"
   },
   {
    "duration": 289,
    "start_time": "2023-02-13T11:55:11.362Z"
   },
   {
    "duration": 304,
    "start_time": "2023-02-13T11:55:20.954Z"
   },
   {
    "duration": 264,
    "start_time": "2023-02-13T11:56:00.922Z"
   },
   {
    "duration": 180,
    "start_time": "2023-02-13T11:56:09.807Z"
   },
   {
    "duration": 391,
    "start_time": "2023-02-13T12:19:05.819Z"
   },
   {
    "duration": 14,
    "start_time": "2023-02-13T12:19:07.552Z"
   },
   {
    "duration": 16,
    "start_time": "2023-02-13T12:21:13.251Z"
   },
   {
    "duration": 14,
    "start_time": "2023-02-13T12:41:46.564Z"
   },
   {
    "duration": 13,
    "start_time": "2023-02-13T12:42:20.764Z"
   },
   {
    "duration": 1178,
    "start_time": "2023-02-13T12:42:32.792Z"
   },
   {
    "duration": 31,
    "start_time": "2023-02-13T12:42:33.972Z"
   },
   {
    "duration": 27,
    "start_time": "2023-02-13T12:42:34.004Z"
   },
   {
    "duration": 3,
    "start_time": "2023-02-13T12:42:34.035Z"
   },
   {
    "duration": 23,
    "start_time": "2023-02-13T12:42:34.040Z"
   },
   {
    "duration": 219,
    "start_time": "2023-02-13T12:42:34.065Z"
   },
   {
    "duration": 218,
    "start_time": "2023-02-13T12:42:34.287Z"
   },
   {
    "duration": 78,
    "start_time": "2023-02-13T12:42:34.507Z"
   },
   {
    "duration": 8,
    "start_time": "2023-02-13T12:42:34.587Z"
   },
   {
    "duration": 6,
    "start_time": "2023-02-13T12:42:34.599Z"
   },
   {
    "duration": 18,
    "start_time": "2023-02-13T12:42:34.606Z"
   },
   {
    "duration": 168,
    "start_time": "2023-02-13T12:42:34.626Z"
   },
   {
    "duration": 8,
    "start_time": "2023-02-13T12:42:34.797Z"
   },
   {
    "duration": 19,
    "start_time": "2023-02-13T12:42:34.807Z"
   },
   {
    "duration": 303,
    "start_time": "2023-02-13T12:42:34.829Z"
   },
   {
    "duration": 206,
    "start_time": "2023-02-13T12:42:35.136Z"
   },
   {
    "duration": 10,
    "start_time": "2023-02-13T12:42:35.344Z"
   },
   {
    "duration": 31,
    "start_time": "2023-02-13T12:42:35.357Z"
   },
   {
    "duration": 31,
    "start_time": "2023-02-13T12:42:35.390Z"
   },
   {
    "duration": 338,
    "start_time": "2023-02-13T12:42:35.423Z"
   },
   {
    "duration": 262,
    "start_time": "2023-02-13T12:42:35.763Z"
   },
   {
    "duration": 534,
    "start_time": "2023-02-13T12:42:36.028Z"
   },
   {
    "duration": 0,
    "start_time": "2023-02-13T12:42:36.565Z"
   },
   {
    "duration": 0,
    "start_time": "2023-02-13T12:42:36.566Z"
   },
   {
    "duration": 0,
    "start_time": "2023-02-13T12:42:36.570Z"
   },
   {
    "duration": 0,
    "start_time": "2023-02-13T12:42:36.571Z"
   },
   {
    "duration": 0,
    "start_time": "2023-02-13T12:42:36.573Z"
   },
   {
    "duration": 0,
    "start_time": "2023-02-13T12:42:36.576Z"
   },
   {
    "duration": 1,
    "start_time": "2023-02-13T12:42:36.577Z"
   },
   {
    "duration": 0,
    "start_time": "2023-02-13T12:42:36.579Z"
   },
   {
    "duration": 1,
    "start_time": "2023-02-13T12:42:36.580Z"
   },
   {
    "duration": 0,
    "start_time": "2023-02-13T12:42:36.581Z"
   },
   {
    "duration": 222,
    "start_time": "2023-02-13T12:45:53.008Z"
   },
   {
    "duration": 231,
    "start_time": "2023-02-13T12:46:15.432Z"
   },
   {
    "duration": 338,
    "start_time": "2023-02-13T12:46:52.152Z"
   },
   {
    "duration": 1330,
    "start_time": "2023-02-13T12:47:04.000Z"
   },
   {
    "duration": 30,
    "start_time": "2023-02-13T12:47:05.332Z"
   },
   {
    "duration": 24,
    "start_time": "2023-02-13T12:47:05.364Z"
   },
   {
    "duration": 4,
    "start_time": "2023-02-13T12:47:05.390Z"
   },
   {
    "duration": 13,
    "start_time": "2023-02-13T12:47:05.396Z"
   },
   {
    "duration": 222,
    "start_time": "2023-02-13T12:47:05.411Z"
   },
   {
    "duration": 198,
    "start_time": "2023-02-13T12:47:05.635Z"
   },
   {
    "duration": 74,
    "start_time": "2023-02-13T12:47:05.836Z"
   },
   {
    "duration": 10,
    "start_time": "2023-02-13T12:47:05.912Z"
   },
   {
    "duration": 6,
    "start_time": "2023-02-13T12:47:05.925Z"
   },
   {
    "duration": 22,
    "start_time": "2023-02-13T12:47:05.933Z"
   },
   {
    "duration": 126,
    "start_time": "2023-02-13T12:47:05.957Z"
   },
   {
    "duration": 5,
    "start_time": "2023-02-13T12:47:06.085Z"
   },
   {
    "duration": 6,
    "start_time": "2023-02-13T12:47:06.093Z"
   },
   {
    "duration": 242,
    "start_time": "2023-02-13T12:47:06.101Z"
   },
   {
    "duration": 147,
    "start_time": "2023-02-13T12:47:06.345Z"
   },
   {
    "duration": 7,
    "start_time": "2023-02-13T12:47:06.495Z"
   },
   {
    "duration": 8,
    "start_time": "2023-02-13T12:47:06.521Z"
   },
   {
    "duration": 11,
    "start_time": "2023-02-13T12:47:06.530Z"
   },
   {
    "duration": 329,
    "start_time": "2023-02-13T12:47:06.543Z"
   },
   {
    "duration": 250,
    "start_time": "2023-02-13T12:47:06.874Z"
   },
   {
    "duration": 393,
    "start_time": "2023-02-13T12:47:07.125Z"
   },
   {
    "duration": 226,
    "start_time": "2023-02-13T12:47:07.520Z"
   },
   {
    "duration": 124,
    "start_time": "2023-02-13T12:47:07.749Z"
   },
   {
    "duration": 0,
    "start_time": "2023-02-13T12:47:07.875Z"
   },
   {
    "duration": 0,
    "start_time": "2023-02-13T12:47:07.876Z"
   },
   {
    "duration": 0,
    "start_time": "2023-02-13T12:47:07.878Z"
   },
   {
    "duration": 0,
    "start_time": "2023-02-13T12:47:07.879Z"
   },
   {
    "duration": 0,
    "start_time": "2023-02-13T12:47:07.881Z"
   },
   {
    "duration": 0,
    "start_time": "2023-02-13T12:47:07.882Z"
   },
   {
    "duration": 0,
    "start_time": "2023-02-13T12:47:07.884Z"
   },
   {
    "duration": 0,
    "start_time": "2023-02-13T12:47:07.885Z"
   },
   {
    "duration": 223,
    "start_time": "2023-02-13T12:48:03.282Z"
   },
   {
    "duration": 294,
    "start_time": "2023-02-13T12:48:14.422Z"
   },
   {
    "duration": 238,
    "start_time": "2023-02-13T12:48:56.973Z"
   },
   {
    "duration": 333,
    "start_time": "2023-02-13T12:49:02.730Z"
   },
   {
    "duration": 222,
    "start_time": "2023-02-13T12:49:11.553Z"
   },
   {
    "duration": 231,
    "start_time": "2023-02-13T12:49:15.855Z"
   },
   {
    "duration": 269,
    "start_time": "2023-02-13T12:49:24.862Z"
   },
   {
    "duration": 257,
    "start_time": "2023-02-13T12:49:32.221Z"
   },
   {
    "duration": 228,
    "start_time": "2023-02-13T12:49:37.659Z"
   },
   {
    "duration": 213,
    "start_time": "2023-02-13T12:49:42.553Z"
   },
   {
    "duration": 12,
    "start_time": "2023-02-13T12:50:08.603Z"
   },
   {
    "duration": 195,
    "start_time": "2023-02-13T12:53:56.044Z"
   },
   {
    "duration": 18,
    "start_time": "2023-02-13T12:54:20.193Z"
   },
   {
    "duration": 358,
    "start_time": "2023-02-13T12:54:28.510Z"
   },
   {
    "duration": 381,
    "start_time": "2023-02-13T12:54:37.287Z"
   },
   {
    "duration": 349,
    "start_time": "2023-02-13T12:54:48.086Z"
   },
   {
    "duration": 446,
    "start_time": "2023-02-13T12:54:53.801Z"
   },
   {
    "duration": 333,
    "start_time": "2023-02-13T12:55:01.381Z"
   },
   {
    "duration": 345,
    "start_time": "2023-02-13T12:55:28.276Z"
   },
   {
    "duration": 313,
    "start_time": "2023-02-13T12:55:38.953Z"
   },
   {
    "duration": 326,
    "start_time": "2023-02-13T12:59:32.865Z"
   },
   {
    "duration": 232,
    "start_time": "2023-02-13T13:00:56.451Z"
   },
   {
    "duration": 1150,
    "start_time": "2023-02-13T13:01:36.852Z"
   },
   {
    "duration": 46,
    "start_time": "2023-02-13T13:01:38.004Z"
   },
   {
    "duration": 20,
    "start_time": "2023-02-13T13:01:38.052Z"
   },
   {
    "duration": 3,
    "start_time": "2023-02-13T13:01:38.074Z"
   },
   {
    "duration": 12,
    "start_time": "2023-02-13T13:01:38.078Z"
   },
   {
    "duration": 208,
    "start_time": "2023-02-13T13:01:38.091Z"
   },
   {
    "duration": 186,
    "start_time": "2023-02-13T13:01:38.301Z"
   },
   {
    "duration": 64,
    "start_time": "2023-02-13T13:01:38.488Z"
   },
   {
    "duration": 8,
    "start_time": "2023-02-13T13:01:38.553Z"
   },
   {
    "duration": 4,
    "start_time": "2023-02-13T13:01:38.563Z"
   },
   {
    "duration": 12,
    "start_time": "2023-02-13T13:01:38.569Z"
   },
   {
    "duration": 149,
    "start_time": "2023-02-13T13:01:38.583Z"
   },
   {
    "duration": 5,
    "start_time": "2023-02-13T13:01:38.734Z"
   },
   {
    "duration": 11,
    "start_time": "2023-02-13T13:01:38.740Z"
   },
   {
    "duration": 206,
    "start_time": "2023-02-13T13:01:38.752Z"
   },
   {
    "duration": 139,
    "start_time": "2023-02-13T13:01:38.960Z"
   },
   {
    "duration": 20,
    "start_time": "2023-02-13T13:01:39.101Z"
   },
   {
    "duration": 11,
    "start_time": "2023-02-13T13:01:39.123Z"
   },
   {
    "duration": 9,
    "start_time": "2023-02-13T13:01:39.136Z"
   },
   {
    "duration": 312,
    "start_time": "2023-02-13T13:01:39.146Z"
   },
   {
    "duration": 241,
    "start_time": "2023-02-13T13:01:39.460Z"
   },
   {
    "duration": 378,
    "start_time": "2023-02-13T13:01:39.704Z"
   },
   {
    "duration": 250,
    "start_time": "2023-02-13T13:01:40.085Z"
   },
   {
    "duration": 336,
    "start_time": "2023-02-13T13:01:40.337Z"
   },
   {
    "duration": 164,
    "start_time": "2023-02-13T13:01:40.675Z"
   },
   {
    "duration": 5,
    "start_time": "2023-02-13T13:01:40.841Z"
   },
   {
    "duration": 178,
    "start_time": "2023-02-13T13:01:40.848Z"
   },
   {
    "duration": 5,
    "start_time": "2023-02-13T13:01:41.029Z"
   },
   {
    "duration": 503,
    "start_time": "2023-02-13T13:01:41.036Z"
   },
   {
    "duration": 11,
    "start_time": "2023-02-13T13:01:41.540Z"
   },
   {
    "duration": 34,
    "start_time": "2023-02-13T13:01:41.552Z"
   },
   {
    "duration": 37,
    "start_time": "2023-02-13T13:01:41.587Z"
   },
   {
    "duration": 381,
    "start_time": "2023-02-13T13:09:36.608Z"
   },
   {
    "duration": 356,
    "start_time": "2023-02-13T13:10:26.276Z"
   },
   {
    "duration": 338,
    "start_time": "2023-02-13T13:10:56.934Z"
   },
   {
    "duration": 363,
    "start_time": "2023-02-13T13:12:41.207Z"
   },
   {
    "duration": 224,
    "start_time": "2023-02-13T13:12:49.776Z"
   },
   {
    "duration": 324,
    "start_time": "2023-02-13T13:12:55.948Z"
   },
   {
    "duration": 252,
    "start_time": "2023-02-13T13:13:01.134Z"
   },
   {
    "duration": 214,
    "start_time": "2023-02-13T13:13:07.852Z"
   },
   {
    "duration": 235,
    "start_time": "2023-02-13T13:14:13.038Z"
   },
   {
    "duration": 228,
    "start_time": "2023-02-13T13:14:22.962Z"
   },
   {
    "duration": 323,
    "start_time": "2023-02-13T13:14:27.998Z"
   },
   {
    "duration": 1196,
    "start_time": "2023-02-13T13:15:35.612Z"
   },
   {
    "duration": 30,
    "start_time": "2023-02-13T13:15:36.810Z"
   },
   {
    "duration": 26,
    "start_time": "2023-02-13T13:15:36.841Z"
   },
   {
    "duration": 4,
    "start_time": "2023-02-13T13:15:36.870Z"
   },
   {
    "duration": 11,
    "start_time": "2023-02-13T13:15:36.877Z"
   },
   {
    "duration": 213,
    "start_time": "2023-02-13T13:15:36.890Z"
   },
   {
    "duration": 197,
    "start_time": "2023-02-13T13:15:37.105Z"
   },
   {
    "duration": 64,
    "start_time": "2023-02-13T13:15:37.304Z"
   },
   {
    "duration": 8,
    "start_time": "2023-02-13T13:15:37.370Z"
   },
   {
    "duration": 7,
    "start_time": "2023-02-13T13:15:37.382Z"
   },
   {
    "duration": 21,
    "start_time": "2023-02-13T13:15:37.391Z"
   },
   {
    "duration": 121,
    "start_time": "2023-02-13T13:15:37.414Z"
   },
   {
    "duration": 4,
    "start_time": "2023-02-13T13:15:37.537Z"
   },
   {
    "duration": 9,
    "start_time": "2023-02-13T13:15:37.543Z"
   },
   {
    "duration": 217,
    "start_time": "2023-02-13T13:15:37.554Z"
   },
   {
    "duration": 148,
    "start_time": "2023-02-13T13:15:37.773Z"
   },
   {
    "duration": 6,
    "start_time": "2023-02-13T13:15:37.923Z"
   },
   {
    "duration": 17,
    "start_time": "2023-02-13T13:15:37.931Z"
   },
   {
    "duration": 18,
    "start_time": "2023-02-13T13:15:37.950Z"
   },
   {
    "duration": 321,
    "start_time": "2023-02-13T13:15:37.970Z"
   },
   {
    "duration": 260,
    "start_time": "2023-02-13T13:15:38.292Z"
   },
   {
    "duration": 342,
    "start_time": "2023-02-13T13:15:38.555Z"
   },
   {
    "duration": 261,
    "start_time": "2023-02-13T13:15:38.899Z"
   },
   {
    "duration": 381,
    "start_time": "2023-02-13T13:15:39.163Z"
   },
   {
    "duration": 176,
    "start_time": "2023-02-13T13:15:39.545Z"
   },
   {
    "duration": 5,
    "start_time": "2023-02-13T13:15:39.722Z"
   },
   {
    "duration": 198,
    "start_time": "2023-02-13T13:15:39.729Z"
   },
   {
    "duration": 5,
    "start_time": "2023-02-13T13:15:39.930Z"
   },
   {
    "duration": 535,
    "start_time": "2023-02-13T13:15:39.937Z"
   },
   {
    "duration": 11,
    "start_time": "2023-02-13T13:15:40.474Z"
   },
   {
    "duration": 60,
    "start_time": "2023-02-13T13:15:40.487Z"
   },
   {
    "duration": 17,
    "start_time": "2023-02-13T13:15:40.548Z"
   },
   {
    "duration": 113,
    "start_time": "2023-02-13T13:34:45.477Z"
   },
   {
    "duration": 15,
    "start_time": "2023-02-13T13:35:05.016Z"
   },
   {
    "duration": 14,
    "start_time": "2023-02-13T13:48:52.966Z"
   },
   {
    "duration": 12,
    "start_time": "2023-02-13T13:49:27.348Z"
   },
   {
    "duration": 320,
    "start_time": "2023-02-13T13:49:52.822Z"
   },
   {
    "duration": 6,
    "start_time": "2023-02-13T13:50:36.037Z"
   },
   {
    "duration": 7,
    "start_time": "2023-02-13T14:01:12.957Z"
   },
   {
    "duration": 1540,
    "start_time": "2023-02-13T14:01:24.300Z"
   },
   {
    "duration": 1634,
    "start_time": "2023-02-13T14:01:39.636Z"
   },
   {
    "duration": 1276,
    "start_time": "2023-02-13T14:02:23.674Z"
   },
   {
    "duration": 1440,
    "start_time": "2023-02-13T14:05:00.553Z"
   },
   {
    "duration": 71,
    "start_time": "2023-02-13T14:06:02.881Z"
   },
   {
    "duration": 75,
    "start_time": "2023-02-13T14:06:13.320Z"
   },
   {
    "duration": 12,
    "start_time": "2023-02-13T14:06:21.290Z"
   },
   {
    "duration": 16,
    "start_time": "2023-02-13T14:07:53.356Z"
   },
   {
    "duration": 7,
    "start_time": "2023-02-13T14:08:12.817Z"
   },
   {
    "duration": 9,
    "start_time": "2023-02-13T14:08:49.456Z"
   },
   {
    "duration": 8,
    "start_time": "2023-02-13T14:09:50.077Z"
   },
   {
    "duration": 1330,
    "start_time": "2023-02-13T14:11:53.834Z"
   },
   {
    "duration": 31,
    "start_time": "2023-02-13T14:11:55.167Z"
   },
   {
    "duration": 29,
    "start_time": "2023-02-13T14:11:55.201Z"
   },
   {
    "duration": 5,
    "start_time": "2023-02-13T14:11:55.233Z"
   },
   {
    "duration": 20,
    "start_time": "2023-02-13T14:11:55.240Z"
   },
   {
    "duration": 236,
    "start_time": "2023-02-13T14:11:55.262Z"
   },
   {
    "duration": 207,
    "start_time": "2023-02-13T14:11:55.500Z"
   },
   {
    "duration": 65,
    "start_time": "2023-02-13T14:11:55.708Z"
   },
   {
    "duration": 9,
    "start_time": "2023-02-13T14:11:55.774Z"
   },
   {
    "duration": 13,
    "start_time": "2023-02-13T14:11:55.786Z"
   },
   {
    "duration": 27,
    "start_time": "2023-02-13T14:11:55.801Z"
   },
   {
    "duration": 170,
    "start_time": "2023-02-13T14:11:55.831Z"
   },
   {
    "duration": 21,
    "start_time": "2023-02-13T14:11:56.003Z"
   },
   {
    "duration": 24,
    "start_time": "2023-02-13T14:11:56.027Z"
   },
   {
    "duration": 218,
    "start_time": "2023-02-13T14:11:56.053Z"
   },
   {
    "duration": 159,
    "start_time": "2023-02-13T14:11:56.273Z"
   },
   {
    "duration": 9,
    "start_time": "2023-02-13T14:11:56.433Z"
   },
   {
    "duration": 41,
    "start_time": "2023-02-13T14:11:56.444Z"
   },
   {
    "duration": 21,
    "start_time": "2023-02-13T14:11:56.487Z"
   },
   {
    "duration": 366,
    "start_time": "2023-02-13T14:11:56.510Z"
   },
   {
    "duration": 293,
    "start_time": "2023-02-13T14:11:56.878Z"
   },
   {
    "duration": 366,
    "start_time": "2023-02-13T14:11:57.173Z"
   },
   {
    "duration": 271,
    "start_time": "2023-02-13T14:11:57.541Z"
   },
   {
    "duration": 402,
    "start_time": "2023-02-13T14:11:57.814Z"
   },
   {
    "duration": 243,
    "start_time": "2023-02-13T14:11:58.218Z"
   },
   {
    "duration": 5,
    "start_time": "2023-02-13T14:11:58.462Z"
   },
   {
    "duration": 195,
    "start_time": "2023-02-13T14:11:58.469Z"
   },
   {
    "duration": 6,
    "start_time": "2023-02-13T14:11:58.667Z"
   },
   {
    "duration": 28,
    "start_time": "2023-02-13T14:11:58.675Z"
   },
   {
    "duration": 23,
    "start_time": "2023-02-13T14:11:58.708Z"
   },
   {
    "duration": 507,
    "start_time": "2023-02-13T14:11:58.733Z"
   },
   {
    "duration": 12,
    "start_time": "2023-02-13T14:11:59.242Z"
   },
   {
    "duration": 47,
    "start_time": "2023-02-13T14:11:59.256Z"
   },
   {
    "duration": 30,
    "start_time": "2023-02-13T14:11:59.305Z"
   },
   {
    "duration": 81,
    "start_time": "2023-02-13T14:16:50.360Z"
   },
   {
    "duration": 402,
    "start_time": "2023-02-13T14:17:41.890Z"
   },
   {
    "duration": 11,
    "start_time": "2023-02-13T14:18:00.142Z"
   },
   {
    "duration": 38,
    "start_time": "2023-02-13T14:18:11.840Z"
   },
   {
    "duration": 21,
    "start_time": "2023-02-13T14:18:34.680Z"
   },
   {
    "duration": 1308,
    "start_time": "2023-02-13T14:54:29.384Z"
   },
   {
    "duration": 66,
    "start_time": "2023-02-13T14:54:30.695Z"
   },
   {
    "duration": 23,
    "start_time": "2023-02-13T14:54:30.766Z"
   },
   {
    "duration": 33,
    "start_time": "2023-02-13T14:54:30.792Z"
   },
   {
    "duration": 42,
    "start_time": "2023-02-13T14:54:30.826Z"
   },
   {
    "duration": 220,
    "start_time": "2023-02-13T14:54:30.870Z"
   },
   {
    "duration": 172,
    "start_time": "2023-02-13T14:54:31.094Z"
   },
   {
    "duration": 177,
    "start_time": "2023-02-13T14:54:31.268Z"
   },
   {
    "duration": 10,
    "start_time": "2023-02-13T14:54:31.446Z"
   },
   {
    "duration": 15,
    "start_time": "2023-02-13T14:54:31.459Z"
   },
   {
    "duration": 29,
    "start_time": "2023-02-13T14:54:31.476Z"
   },
   {
    "duration": 96,
    "start_time": "2023-02-13T14:54:31.507Z"
   },
   {
    "duration": 5,
    "start_time": "2023-02-13T14:54:31.604Z"
   },
   {
    "duration": 22,
    "start_time": "2023-02-13T14:54:31.610Z"
   },
   {
    "duration": 211,
    "start_time": "2023-02-13T14:54:31.635Z"
   },
   {
    "duration": 123,
    "start_time": "2023-02-13T14:54:31.847Z"
   },
   {
    "duration": 7,
    "start_time": "2023-02-13T14:54:31.972Z"
   },
   {
    "duration": 15,
    "start_time": "2023-02-13T14:54:31.993Z"
   },
   {
    "duration": 21,
    "start_time": "2023-02-13T14:54:32.010Z"
   },
   {
    "duration": 338,
    "start_time": "2023-02-13T14:54:32.033Z"
   },
   {
    "duration": 231,
    "start_time": "2023-02-13T14:54:32.373Z"
   },
   {
    "duration": 378,
    "start_time": "2023-02-13T14:54:32.606Z"
   },
   {
    "duration": 260,
    "start_time": "2023-02-13T14:54:32.986Z"
   },
   {
    "duration": 353,
    "start_time": "2023-02-13T14:54:33.248Z"
   },
   {
    "duration": 157,
    "start_time": "2023-02-13T14:54:33.604Z"
   },
   {
    "duration": 5,
    "start_time": "2023-02-13T14:54:33.763Z"
   },
   {
    "duration": 186,
    "start_time": "2023-02-13T14:54:33.770Z"
   },
   {
    "duration": 6,
    "start_time": "2023-02-13T14:54:33.960Z"
   },
   {
    "duration": 12,
    "start_time": "2023-02-13T14:54:33.968Z"
   },
   {
    "duration": 32,
    "start_time": "2023-02-13T14:54:33.983Z"
   },
   {
    "duration": 517,
    "start_time": "2023-02-13T14:54:34.018Z"
   },
   {
    "duration": 10,
    "start_time": "2023-02-13T14:54:34.538Z"
   },
   {
    "duration": 29,
    "start_time": "2023-02-13T14:54:34.550Z"
   },
   {
    "duration": 22,
    "start_time": "2023-02-13T14:54:34.595Z"
   }
  ],
  "kernelspec": {
   "display_name": "Python 3 (ipykernel)",
   "language": "python",
   "name": "python3"
  },
  "language_info": {
   "codemirror_mode": {
    "name": "ipython",
    "version": 3
   },
   "file_extension": ".py",
   "mimetype": "text/x-python",
   "name": "python",
   "nbconvert_exporter": "python",
   "pygments_lexer": "ipython3",
   "version": "3.9.13"
  },
  "toc": {
   "base_numbering": 1,
   "nav_menu": {},
   "number_sections": true,
   "sideBar": true,
   "skip_h1_title": true,
   "title_cell": "Содержание",
   "title_sidebar": "Contents",
   "toc_cell": true,
   "toc_position": {},
   "toc_section_display": true,
   "toc_window_display": false
  }
 },
 "nbformat": 4,
 "nbformat_minor": 2
}
